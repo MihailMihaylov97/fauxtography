{
 "cells": [
  {
   "cell_type": "code",
   "execution_count": 1,
   "id": "77391dff",
   "metadata": {},
   "outputs": [],
   "source": [
    "import pandas as pd\n",
    "import numpy as np"
   ]
  },
  {
   "cell_type": "code",
   "execution_count": 20,
   "id": "db9c81dd",
   "metadata": {},
   "outputs": [],
   "source": [
    "df = pd.read_csv(\"df.csv\")"
   ]
  },
  {
   "cell_type": "code",
   "execution_count": 21,
   "id": "d5dfcead",
   "metadata": {},
   "outputs": [],
   "source": [
    "botometer = df[df.botometer.notna()].botometer.tolist()"
   ]
  },
  {
   "cell_type": "code",
   "execution_count": 26,
   "id": "70c6f33c",
   "metadata": {},
   "outputs": [],
   "source": [
    "import ast\n"
   ]
  },
  {
   "cell_type": "code",
   "execution_count": 27,
   "id": "a0a06e8a",
   "metadata": {},
   "outputs": [],
   "source": [
    "bots = []\n",
    "for bot in botometer:\n",
    "    bots.append(ast.literal_eval(bot))\n",
    "    "
   ]
  },
  {
   "cell_type": "code",
   "execution_count": 30,
   "id": "3b221e63",
   "metadata": {},
   "outputs": [
    {
     "data": {
      "text/plain": [
       "{'cap': {'english': 0.7287106185584935, 'universal': 0.7437205366967014},\n",
       " 'display_scores': {'english': {'astroturf': 2.8,\n",
       "   'fake_follower': 1.3,\n",
       "   'financial': 0.0,\n",
       "   'other': 1.4,\n",
       "   'overall': 1.2,\n",
       "   'self_declared': 0.0,\n",
       "   'spammer': 0.0},\n",
       "  'universal': {'astroturf': 3.2,\n",
       "   'fake_follower': 1.0,\n",
       "   'financial': 0.0,\n",
       "   'other': 1.7,\n",
       "   'overall': 1.2,\n",
       "   'self_declared': 0.0,\n",
       "   'spammer': 0.0}},\n",
       " 'raw_scores': {'english': {'astroturf': 0.55,\n",
       "   'fake_follower': 0.26,\n",
       "   'financial': 0.01,\n",
       "   'other': 0.27,\n",
       "   'overall': 0.23,\n",
       "   'self_declared': 0.01,\n",
       "   'spammer': 0.0},\n",
       "  'universal': {'astroturf': 0.63,\n",
       "   'fake_follower': 0.2,\n",
       "   'financial': 0.0,\n",
       "   'other': 0.34,\n",
       "   'overall': 0.23,\n",
       "   'self_declared': 0.0,\n",
       "   'spammer': 0.0}},\n",
       " 'user': {'majority_lang': 'en',\n",
       "  'user_data': {'id_str': '241173956', 'screen_name': 'obviousreally'}}}"
      ]
     },
     "execution_count": 30,
     "metadata": {},
     "output_type": "execute_result"
    }
   ],
   "source": []
  },
  {
   "cell_type": "code",
   "execution_count": null,
   "id": "325853de",
   "metadata": {},
   "outputs": [],
   "source": []
  }
 ],
 "metadata": {
  "kernelspec": {
   "display_name": "Python 3.7.11 ('base')",
   "language": "python",
   "name": "python3711jvsc74a57bd0635cacf90e2ebd933d69347cf5f0e366ac0738a02becbb069b8cf9e68d978af5"
  },
  "language_info": {
   "codemirror_mode": {
    "name": "ipython",
    "version": 3
   },
   "file_extension": ".py",
   "mimetype": "text/x-python",
   "name": "python",
   "nbconvert_exporter": "python",
   "pygments_lexer": "ipython3",
   "version": "3.7.11"
  }
 },
 "nbformat": 4,
 "nbformat_minor": 5
}
