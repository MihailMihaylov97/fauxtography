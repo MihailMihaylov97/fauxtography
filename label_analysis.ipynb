{
 "cells": [
  {
   "cell_type": "code",
   "execution_count": 3,
   "metadata": {},
   "outputs": [
    {
     "data": {
      "text/html": [
       "<style>.container { width:100% !important; }</style>"
      ],
      "text/plain": [
       "<IPython.core.display.HTML object>"
      ]
     },
     "metadata": {},
     "output_type": "display_data"
    }
   ],
   "source": [
    "from IPython.core.display import display, HTML\n",
    "display(HTML(\"<style>.container { width:100% !important; }</style>\"))"
   ]
  },
  {
   "cell_type": "code",
   "execution_count": 4,
   "metadata": {},
   "outputs": [],
   "source": [
    "import json\n",
    "import pandas as pd\n",
    "import numpy as np"
   ]
  },
  {
   "cell_type": "code",
   "execution_count": null,
   "metadata": {},
   "outputs": [],
   "source": [
    "with open(\"merged_data.json\") as jfile:\n",
    "    data = json.load(jfile)"
   ]
  },
  {
   "cell_type": "code",
   "execution_count": null,
   "metadata": {},
   "outputs": [],
   "source": [
    "len(data)"
   ]
  },
  {
   "cell_type": "code",
   "execution_count": null,
   "metadata": {},
   "outputs": [],
   "source": [
    "data[0]['tweet_data'][\"Images_in_tweet\"]"
   ]
  },
  {
   "cell_type": "code",
   "execution_count": null,
   "metadata": {},
   "outputs": [],
   "source": [
    "df = pd.DataFrame(index = range(13239), columns=[\"id\", \"original_id\", \"tweet_text\", \"tweet_url\", \"claim\", \"rating\", \"images\", \"text_images\", \"source\"])"
   ]
  },
  {
   "cell_type": "code",
   "execution_count": null,
   "metadata": {},
   "outputs": [],
   "source": [
    "def extract_labels(tweet):\n",
    "    \n",
    "    try:\n",
    "        tweet_did = tweet[\"tweet_data\"][\"DtweetID\"]\n",
    "        tweet_oid = tweet[\"tweet_data\"][\"originalTweetID\"]\n",
    "        tweet_url = f\"https://twitter.com/POTUS/status/{tweet_did}\"\n",
    "        tweet_text = tweet[\"tweet_data\"][\"OriginalTweetContent_Raw\"]\n",
    "        claim = tweet[\"article_data\"][\"claim\"]\n",
    "        rating = tweet[\"article_data\"][\"rating\"]\n",
    "        images = list(tweet[\"tweet_data\"][\"Images_in_tweet\"].keys())\n",
    "        text_images = [tweet[\"tweet_data\"][\"Images_in_tweet\"][i][\"text_for_the_image\"] for i in images]\n",
    "        source = tweet[\"article_data\"][\"url\"]\n",
    "        \n",
    "        if len(images) == 1: images = images[0]\n",
    "        if len(rating) == 1: rating = rating[0]\n",
    "        if len(text_images) == 1: text_images = text_images[0] if len(text_images[0]) > 0 else None\n",
    "            \n",
    "        return [tweet_did, tweet_oid, tweet_text, tweet_url, claim, rating, images, text_images, source]     \n",
    "    \n",
    "    except Exception as e:\n",
    "        return e\n"
   ]
  },
  {
   "cell_type": "code",
   "execution_count": null,
   "metadata": {},
   "outputs": [],
   "source": [
    "data[0][\"article_data\"].keys()"
   ]
  },
  {
   "cell_type": "code",
   "execution_count": null,
   "metadata": {},
   "outputs": [],
   "source": [
    "errors = {}\n",
    "for i in df.index:\n",
    "    info = extract_labels(data[i])\n",
    "    \n",
    "    if isinstance(info, list): \n",
    "        df.loc[i,] = np.asarray(info)\n",
    "    else:\n",
    "        errors[i] = info        \n",
    "\n"
   ]
  },
  {
   "cell_type": "code",
   "execution_count": null,
   "metadata": {},
   "outputs": [],
   "source": [
    "errors"
   ]
  },
  {
   "cell_type": "code",
   "execution_count": null,
   "metadata": {},
   "outputs": [],
   "source": [
    "df = df.drop(list(errors.keys()))"
   ]
  },
  {
   "cell_type": "code",
   "execution_count": null,
   "metadata": {},
   "outputs": [],
   "source": [
    "df[\"label\"] = [i[0].split(\"/\")[-1].split(\".\")[0] for i in df.rating]\n",
    "df[\"label\"] = [i.replace(\"rating-\",\"\").replace(\"tom-\",\"\").replace(\"fom-\",\"\") for i in df.label]\n",
    "df[\"label_info\"] = [i[2] if len(i)>2 else None for i in df.rating]"
   ]
  },
  {
   "cell_type": "code",
   "execution_count": null,
   "metadata": {},
   "outputs": [],
   "source": [
    "snopes = df[~df.source.str.contains(\"www.politifact.com\")]"
   ]
  },
  {
   "cell_type": "code",
   "execution_count": null,
   "metadata": {},
   "outputs": [],
   "source": [
    "snopes.label.value_counts()"
   ]
  },
  {
   "cell_type": "code",
   "execution_count": null,
   "metadata": {},
   "outputs": [],
   "source": [
    "import json\n",
    "with open(\"json_data.json\") as rfile:\n",
    "    data = json.load(rfile)\n",
    "    "
   ]
  },
  {
   "cell_type": "code",
   "execution_count": null,
   "metadata": {},
   "outputs": [],
   "source": [
    "data"
   ]
  },
  {
   "cell_type": "code",
   "execution_count": null,
   "metadata": {},
   "outputs": [],
   "source": [
    "def map_availability(row):\n",
    "    return [key for key in data.keys() if row in data[key]][0]"
   ]
  },
  {
   "cell_type": "code",
   "execution_count": null,
   "metadata": {},
   "outputs": [],
   "source": [
    "snopes[\"available\"] = snopes.id.apply(map_availability)"
   ]
  },
  {
   "cell_type": "code",
   "execution_count": null,
   "metadata": {},
   "outputs": [],
   "source": [
    "# snopes.to_csv(\"snopes_clean.csv\", index=False)"
   ]
  },
  {
   "cell_type": "code",
   "execution_count": null,
   "metadata": {},
   "outputs": [],
   "source": [
    "# snopes = pd.read_csv(\"snopes_clean.csv\")"
   ]
  },
  {
   "cell_type": "code",
   "execution_count": null,
   "metadata": {},
   "outputs": [],
   "source": [
    "snopes"
   ]
  },
  {
   "cell_type": "code",
   "execution_count": null,
   "metadata": {},
   "outputs": [],
   "source": [
    "snopes.available.value_counts()"
   ]
  },
  {
   "cell_type": "code",
   "execution_count": null,
   "metadata": {},
   "outputs": [],
   "source": [
    "snopes.tail().source.tolist()"
   ]
  },
  {
   "cell_type": "code",
   "execution_count": null,
   "metadata": {},
   "outputs": [],
   "source": [
    "snopes.tail().tweet_url.tolist()"
   ]
  },
  {
   "cell_type": "code",
   "execution_count": 4,
   "metadata": {},
   "outputs": [
    {
     "name": "stdout",
     "output_type": "stream",
     "text": [
      "Requirement already satisfied: requests in /home/mihail/.local/lib/python3.8/site-packages (2.27.1)\n",
      "Collecting tweepy\n",
      "  Downloading tweepy-4.6.0-py2.py3-none-any.whl (69 kB)\n",
      "\u001b[K     |████████████████████████████████| 69 kB 2.0 MB/s eta 0:00:01\n",
      "\u001b[?25hCollecting botometer\n",
      "  Downloading botometer-1.6.1-py3-none-any.whl (4.8 kB)\n",
      "Requirement already satisfied: urllib3<1.27,>=1.21.1 in /usr/lib/python3/dist-packages (from requests) (1.25.8)\n",
      "Requirement already satisfied: idna<4,>=2.5; python_version >= \"3\" in /usr/lib/python3/dist-packages (from requests) (2.8)\n",
      "Requirement already satisfied: certifi>=2017.4.17 in /usr/lib/python3/dist-packages (from requests) (2019.11.28)\n",
      "Requirement already satisfied: charset-normalizer~=2.0.0; python_version >= \"3\" in /home/mihail/.local/lib/python3.8/site-packages (from requests) (2.0.12)\n",
      "Collecting requests-oauthlib<2,>=1.2.0\n",
      "  Using cached requests_oauthlib-1.3.1-py2.py3-none-any.whl (23 kB)\n",
      "Collecting oauthlib<4,>=3.2.0\n",
      "  Using cached oauthlib-3.2.0-py3-none-any.whl (151 kB)\n",
      "\u001b[31mERROR: botometer 1.6.1 has requirement tweepy<4,>=3.5.0, but you'll have tweepy 4.6.0 which is incompatible.\u001b[0m\n",
      "Installing collected packages: oauthlib, requests-oauthlib, tweepy, botometer\n",
      "Successfully installed botometer-1.6.1 oauthlib-3.2.0 requests-oauthlib-1.3.1 tweepy-4.6.0\n"
     ]
    }
   ],
   "source": [
    "!pip3 install requests tweepy==4.0 botometer"
   ]
  },
  {
   "cell_type": "code",
   "execution_count": 54,
   "metadata": {},
   "outputs": [
    {
     "name": "stderr",
     "output_type": "stream",
     "text": [
      "/var/folders/jf/w9ffcr5s1t1fffdv873rd0xr0000gn/T/ipykernel_17446/1629282148.py:5: SettingWithCopyWarning: \n",
      "A value is trying to be set on a copy of a slice from a DataFrame.\n",
      "Try using .loc[row_indexer,col_indexer] = value instead\n",
      "\n",
      "See the caveats in the documentation: https://pandas.pydata.org/pandas-docs/stable/user_guide/indexing.html#returning-a-view-versus-a-copy\n",
      "  snopes_acc[\"acc_id\"] = snopes_acc.acc_id.astype(int)\n"
     ]
    }
   ],
   "source": [
    "snopes = pd.read_csv(\"snopes_acc.csv\")\n",
    "snopes[\"botometer\"] = ''\n",
    "\n",
    "snopes_acc = snopes[snopes.acc_id.notna()]\n",
    "snopes_acc[\"acc_id\"] = snopes_acc.acc_id.astype(int)\n",
    "accounts = snopes_acc.acc_id.tolist()\n",
    "\n",
    "\n",
    "snopes_acc.reset_index(inplace=True)\n",
    "del snopes_acc['index']"
   ]
  },
  {
   "cell_type": "code",
   "execution_count": 6,
   "metadata": {},
   "outputs": [
    {
     "name": "stdout",
     "output_type": "stream",
     "text": [
      "Collecting tqdm\n",
      "  Using cached tqdm-4.63.0-py2.py3-none-any.whl (76 kB)\n",
      "Installing collected packages: tqdm\n",
      "Successfully installed tqdm-4.63.0\n"
     ]
    }
   ],
   "source": [
    "!pip install tqdm"
   ]
  },
  {
   "cell_type": "code",
   "execution_count": 55,
   "metadata": {},
   "outputs": [
    {
     "data": {
      "text/html": [
       "<div>\n",
       "<style scoped>\n",
       "    .dataframe tbody tr th:only-of-type {\n",
       "        vertical-align: middle;\n",
       "    }\n",
       "\n",
       "    .dataframe tbody tr th {\n",
       "        vertical-align: top;\n",
       "    }\n",
       "\n",
       "    .dataframe thead th {\n",
       "        text-align: right;\n",
       "    }\n",
       "</style>\n",
       "<table border=\"1\" class=\"dataframe\">\n",
       "  <thead>\n",
       "    <tr style=\"text-align: right;\">\n",
       "      <th></th>\n",
       "      <th>id</th>\n",
       "      <th>original_id</th>\n",
       "      <th>tweet_text</th>\n",
       "      <th>tweet_url</th>\n",
       "      <th>claim</th>\n",
       "      <th>rating</th>\n",
       "      <th>images</th>\n",
       "      <th>text_images</th>\n",
       "      <th>source</th>\n",
       "      <th>label</th>\n",
       "      <th>label_info</th>\n",
       "      <th>available</th>\n",
       "      <th>acc_id</th>\n",
       "      <th>botometer</th>\n",
       "    </tr>\n",
       "  </thead>\n",
       "  <tbody>\n",
       "    <tr>\n",
       "      <th>0</th>\n",
       "      <td>1000037356836093953</td>\n",
       "      <td>1000023322481086466</td>\n",
       "      <td>Brave men died to keep us free. Radicals want ...</td>\n",
       "      <td>https://twitter.com/POTUS/status/1000037356836...</td>\n",
       "      <td>Liberals were offended by a World War I memori...</td>\n",
       "      <td>['https://www.snopes.com/tachyon/2018/03/ratin...</td>\n",
       "      <td>http://pbs.twimg.com/media/DeDL5a-XkAI7Hlw.jpg</td>\n",
       "      <td>#DontTearMeDown IRSTLIBERT . ORG DontTearMeDow...</td>\n",
       "      <td>https://www.snopes.com/fact-check/liberals-dem...</td>\n",
       "      <td>mixture</td>\n",
       "      <td>NaN</td>\n",
       "      <td>ok</td>\n",
       "      <td>3981225735</td>\n",
       "      <td></td>\n",
       "    </tr>\n",
       "    <tr>\n",
       "      <th>1</th>\n",
       "      <td>1000098833798389760</td>\n",
       "      <td>1000059879682342912</td>\n",
       "      <td>“Stand for the National Anthem or be punished”...</td>\n",
       "      <td>https://twitter.com/POTUS/status/1000098833798...</td>\n",
       "      <td>A German football club was banned from playing...</td>\n",
       "      <td>['https://www.snopes.com/tachyon/2018/03/ratin...</td>\n",
       "      <td>http://pbs.twimg.com/media/DeDtKIRVAAA4kPm.jpg</td>\n",
       "      <td>FAILED TO GIVE NAZI SALUTE . German Football C...</td>\n",
       "      <td>https://www.snopes.com/fact-check/german-footb...</td>\n",
       "      <td>mostly-true-new</td>\n",
       "      <td>NaN</td>\n",
       "      <td>ok</td>\n",
       "      <td>1924071992</td>\n",
       "      <td></td>\n",
       "    </tr>\n",
       "    <tr>\n",
       "      <th>2</th>\n",
       "      <td>1000158804795781120</td>\n",
       "      <td>1000073920760791040</td>\n",
       "      <td>@Humancipator35 @buddydusty @davidhogg111 🙌🏼 R...</td>\n",
       "      <td>https://twitter.com/POTUS/status/1000158804795...</td>\n",
       "      <td>Emma Gonz lez, a survivor of the Parkland scho...</td>\n",
       "      <td>['https://www.snopes.com/tachyon/2018/03/ratin...</td>\n",
       "      <td>http://pbs.twimg.com/media/DeD57XMV4AAUG4k.jpg</td>\n",
       "      <td>NaN</td>\n",
       "      <td>https://www.snopes.com/fact-check/emma-gonzale...</td>\n",
       "      <td>false</td>\n",
       "      <td>NaN</td>\n",
       "      <td>auth</td>\n",
       "      <td>924224208</td>\n",
       "      <td></td>\n",
       "    </tr>\n",
       "    <tr>\n",
       "      <th>3</th>\n",
       "      <td>1000175568241872897</td>\n",
       "      <td>1000174645973315586</td>\n",
       "      <td>Just sayin'  #NFL https://t.co/70tFG5ieMC</td>\n",
       "      <td>https://twitter.com/POTUS/status/1000175568241...</td>\n",
       "      <td>A German football club was banned from playing...</td>\n",
       "      <td>['https://www.snopes.com/tachyon/2018/03/ratin...</td>\n",
       "      <td>http://pbs.twimg.com/media/DeFVdDlUwAA17qS.jpg</td>\n",
       "      <td>FAILED TO GIVE NAZI SALUTE . German Football C...</td>\n",
       "      <td>https://www.snopes.com/fact-check/german-footb...</td>\n",
       "      <td>mostly-true-new</td>\n",
       "      <td>NaN</td>\n",
       "      <td>auth</td>\n",
       "      <td>170735298</td>\n",
       "      <td></td>\n",
       "    </tr>\n",
       "    <tr>\n",
       "      <th>4</th>\n",
       "      <td>1000438777792344067</td>\n",
       "      <td>1000191784797040640</td>\n",
       "      <td>Those who do not learn from history are doomed...</td>\n",
       "      <td>https://twitter.com/POTUS/status/1000438777792...</td>\n",
       "      <td>A German football club was banned from playing...</td>\n",
       "      <td>['https://www.snopes.com/tachyon/2018/03/ratin...</td>\n",
       "      <td>http://pbs.twimg.com/media/DeFkp5eU0AA2aLJ.jpg</td>\n",
       "      <td>pnting n the wo \" ' t WHY to win . nbor mu t n...</td>\n",
       "      <td>https://www.snopes.com/fact-check/german-footb...</td>\n",
       "      <td>mostly-true-new</td>\n",
       "      <td>NaN</td>\n",
       "      <td>ok</td>\n",
       "      <td>115563859</td>\n",
       "      <td></td>\n",
       "    </tr>\n",
       "    <tr>\n",
       "      <th>...</th>\n",
       "      <td>...</td>\n",
       "      <td>...</td>\n",
       "      <td>...</td>\n",
       "      <td>...</td>\n",
       "      <td>...</td>\n",
       "      <td>...</td>\n",
       "      <td>...</td>\n",
       "      <td>...</td>\n",
       "      <td>...</td>\n",
       "      <td>...</td>\n",
       "      <td>...</td>\n",
       "      <td>...</td>\n",
       "      <td>...</td>\n",
       "      <td>...</td>\n",
       "    </tr>\n",
       "    <tr>\n",
       "      <th>6971</th>\n",
       "      <td>1000095067887910917</td>\n",
       "      <td>999866405687209984</td>\n",
       "      <td>History repeating itself with @realDonaldTrump...</td>\n",
       "      <td>https://twitter.com/POTUS/status/1000095067887...</td>\n",
       "      <td>A German football club was banned from playing...</td>\n",
       "      <td>['https://www.snopes.com/tachyon/2018/03/ratin...</td>\n",
       "      <td>http://pbs.twimg.com/media/DeA9KrlVwAEHtPB.jpg</td>\n",
       "      <td>FAILED TO GIVE NAZI SALUTE . German Football C...</td>\n",
       "      <td>https://www.snopes.com/fact-check/german-footb...</td>\n",
       "      <td>mostly-true-new</td>\n",
       "      <td>NaN</td>\n",
       "      <td>ok</td>\n",
       "      <td>550658726</td>\n",
       "      <td></td>\n",
       "    </tr>\n",
       "    <tr>\n",
       "      <th>6972</th>\n",
       "      <td>1000146882428096512</td>\n",
       "      <td>999903412425711616</td>\n",
       "      <td>I picked this up from someone here. Its🙄🤨🙄 wor...</td>\n",
       "      <td>https://twitter.com/POTUS/status/1000146882428...</td>\n",
       "      <td>A German football club was banned from playing...</td>\n",
       "      <td>['https://www.snopes.com/tachyon/2018/03/ratin...</td>\n",
       "      <td>http://pbs.twimg.com/media/DeBe1X5VAAI-Zhh.jpg</td>\n",
       "      <td>FAILED TO GIVE NAZI SALUTE . German Football C...</td>\n",
       "      <td>https://www.snopes.com/fact-check/german-footb...</td>\n",
       "      <td>mostly-true-new</td>\n",
       "      <td>NaN</td>\n",
       "      <td>ok</td>\n",
       "      <td>91743765</td>\n",
       "      <td></td>\n",
       "    </tr>\n",
       "    <tr>\n",
       "      <th>6973</th>\n",
       "      <td>1000018438184734720</td>\n",
       "      <td>999961946932723713</td>\n",
       "      <td>Trump is a criminal, a gangster using criminal...</td>\n",
       "      <td>https://twitter.com/POTUS/status/1000018438184...</td>\n",
       "      <td>Notorious mobster Al Capone demanded an inquir...</td>\n",
       "      <td>['https://www.snopes.com/tachyon/2018/03/ratin...</td>\n",
       "      <td>http://pbs.twimg.com/media/DeCUF2ZV4AAMm0Z.jpg</td>\n",
       "      <td>Ci ) icago Sunday Cribune INAL 17 . Capone Dem...</td>\n",
       "      <td>https://www.snopes.com/fact-check/did-al-capon...</td>\n",
       "      <td>false</td>\n",
       "      <td>NaN</td>\n",
       "      <td>missing</td>\n",
       "      <td>881682896607600640</td>\n",
       "      <td></td>\n",
       "    </tr>\n",
       "    <tr>\n",
       "      <th>6974</th>\n",
       "      <td>999992400725585920</td>\n",
       "      <td>999962442141782016</td>\n",
       "      <td>@VP @NFL @POTUS The only thing that’s #Winning...</td>\n",
       "      <td>https://twitter.com/POTUS/status/9999924007255...</td>\n",
       "      <td>Baseball players in the 1950s were caught on c...</td>\n",
       "      <td>['https://www.snopes.com/tachyon/2018/03/ratin...</td>\n",
       "      <td>http://pbs.twimg.com/media/DeCUiW3VwAAQbyx.jpg</td>\n",
       "      <td>White Baseball Players Kneel in the 50 ' s to ...</td>\n",
       "      <td>https://www.snopes.com/fact-check/baseball-pla...</td>\n",
       "      <td>false</td>\n",
       "      <td>NaN</td>\n",
       "      <td>auth</td>\n",
       "      <td>115748564</td>\n",
       "      <td></td>\n",
       "    </tr>\n",
       "    <tr>\n",
       "      <th>6975</th>\n",
       "      <td>1000035228679852032</td>\n",
       "      <td>999973815655518213</td>\n",
       "      <td>@mjfree Sports has been used as a means of pro...</td>\n",
       "      <td>https://twitter.com/POTUS/status/1000035228679...</td>\n",
       "      <td>Baseball players in the 1950s were caught on c...</td>\n",
       "      <td>['https://www.snopes.com/tachyon/2018/03/ratin...</td>\n",
       "      <td>http://pbs.twimg.com/media/DeCejk4WkAMruuM.jpg</td>\n",
       "      <td>White Baseball Players Kneel in the 50 ' s to ...</td>\n",
       "      <td>https://www.snopes.com/fact-check/baseball-pla...</td>\n",
       "      <td>false</td>\n",
       "      <td>NaN</td>\n",
       "      <td>ok</td>\n",
       "      <td>518227176</td>\n",
       "      <td></td>\n",
       "    </tr>\n",
       "  </tbody>\n",
       "</table>\n",
       "<p>6976 rows × 14 columns</p>\n",
       "</div>"
      ],
      "text/plain": [
       "                       id          original_id  \\\n",
       "0     1000037356836093953  1000023322481086466   \n",
       "1     1000098833798389760  1000059879682342912   \n",
       "2     1000158804795781120  1000073920760791040   \n",
       "3     1000175568241872897  1000174645973315586   \n",
       "4     1000438777792344067  1000191784797040640   \n",
       "...                   ...                  ...   \n",
       "6971  1000095067887910917   999866405687209984   \n",
       "6972  1000146882428096512   999903412425711616   \n",
       "6973  1000018438184734720   999961946932723713   \n",
       "6974   999992400725585920   999962442141782016   \n",
       "6975  1000035228679852032   999973815655518213   \n",
       "\n",
       "                                             tweet_text  \\\n",
       "0     Brave men died to keep us free. Radicals want ...   \n",
       "1     “Stand for the National Anthem or be punished”...   \n",
       "2     @Humancipator35 @buddydusty @davidhogg111 🙌🏼 R...   \n",
       "3             Just sayin'  #NFL https://t.co/70tFG5ieMC   \n",
       "4     Those who do not learn from history are doomed...   \n",
       "...                                                 ...   \n",
       "6971  History repeating itself with @realDonaldTrump...   \n",
       "6972  I picked this up from someone here. Its🙄🤨🙄 wor...   \n",
       "6973  Trump is a criminal, a gangster using criminal...   \n",
       "6974  @VP @NFL @POTUS The only thing that’s #Winning...   \n",
       "6975  @mjfree Sports has been used as a means of pro...   \n",
       "\n",
       "                                              tweet_url  \\\n",
       "0     https://twitter.com/POTUS/status/1000037356836...   \n",
       "1     https://twitter.com/POTUS/status/1000098833798...   \n",
       "2     https://twitter.com/POTUS/status/1000158804795...   \n",
       "3     https://twitter.com/POTUS/status/1000175568241...   \n",
       "4     https://twitter.com/POTUS/status/1000438777792...   \n",
       "...                                                 ...   \n",
       "6971  https://twitter.com/POTUS/status/1000095067887...   \n",
       "6972  https://twitter.com/POTUS/status/1000146882428...   \n",
       "6973  https://twitter.com/POTUS/status/1000018438184...   \n",
       "6974  https://twitter.com/POTUS/status/9999924007255...   \n",
       "6975  https://twitter.com/POTUS/status/1000035228679...   \n",
       "\n",
       "                                                  claim  \\\n",
       "0     Liberals were offended by a World War I memori...   \n",
       "1     A German football club was banned from playing...   \n",
       "2     Emma Gonz lez, a survivor of the Parkland scho...   \n",
       "3     A German football club was banned from playing...   \n",
       "4     A German football club was banned from playing...   \n",
       "...                                                 ...   \n",
       "6971  A German football club was banned from playing...   \n",
       "6972  A German football club was banned from playing...   \n",
       "6973  Notorious mobster Al Capone demanded an inquir...   \n",
       "6974  Baseball players in the 1950s were caught on c...   \n",
       "6975  Baseball players in the 1950s were caught on c...   \n",
       "\n",
       "                                                 rating  \\\n",
       "0     ['https://www.snopes.com/tachyon/2018/03/ratin...   \n",
       "1     ['https://www.snopes.com/tachyon/2018/03/ratin...   \n",
       "2     ['https://www.snopes.com/tachyon/2018/03/ratin...   \n",
       "3     ['https://www.snopes.com/tachyon/2018/03/ratin...   \n",
       "4     ['https://www.snopes.com/tachyon/2018/03/ratin...   \n",
       "...                                                 ...   \n",
       "6971  ['https://www.snopes.com/tachyon/2018/03/ratin...   \n",
       "6972  ['https://www.snopes.com/tachyon/2018/03/ratin...   \n",
       "6973  ['https://www.snopes.com/tachyon/2018/03/ratin...   \n",
       "6974  ['https://www.snopes.com/tachyon/2018/03/ratin...   \n",
       "6975  ['https://www.snopes.com/tachyon/2018/03/ratin...   \n",
       "\n",
       "                                              images  \\\n",
       "0     http://pbs.twimg.com/media/DeDL5a-XkAI7Hlw.jpg   \n",
       "1     http://pbs.twimg.com/media/DeDtKIRVAAA4kPm.jpg   \n",
       "2     http://pbs.twimg.com/media/DeD57XMV4AAUG4k.jpg   \n",
       "3     http://pbs.twimg.com/media/DeFVdDlUwAA17qS.jpg   \n",
       "4     http://pbs.twimg.com/media/DeFkp5eU0AA2aLJ.jpg   \n",
       "...                                              ...   \n",
       "6971  http://pbs.twimg.com/media/DeA9KrlVwAEHtPB.jpg   \n",
       "6972  http://pbs.twimg.com/media/DeBe1X5VAAI-Zhh.jpg   \n",
       "6973  http://pbs.twimg.com/media/DeCUF2ZV4AAMm0Z.jpg   \n",
       "6974  http://pbs.twimg.com/media/DeCUiW3VwAAQbyx.jpg   \n",
       "6975  http://pbs.twimg.com/media/DeCejk4WkAMruuM.jpg   \n",
       "\n",
       "                                            text_images  \\\n",
       "0     #DontTearMeDown IRSTLIBERT . ORG DontTearMeDow...   \n",
       "1     FAILED TO GIVE NAZI SALUTE . German Football C...   \n",
       "2                                                   NaN   \n",
       "3     FAILED TO GIVE NAZI SALUTE . German Football C...   \n",
       "4     pnting n the wo \" ' t WHY to win . nbor mu t n...   \n",
       "...                                                 ...   \n",
       "6971  FAILED TO GIVE NAZI SALUTE . German Football C...   \n",
       "6972  FAILED TO GIVE NAZI SALUTE . German Football C...   \n",
       "6973  Ci ) icago Sunday Cribune INAL 17 . Capone Dem...   \n",
       "6974  White Baseball Players Kneel in the 50 ' s to ...   \n",
       "6975  White Baseball Players Kneel in the 50 ' s to ...   \n",
       "\n",
       "                                                 source            label  \\\n",
       "0     https://www.snopes.com/fact-check/liberals-dem...          mixture   \n",
       "1     https://www.snopes.com/fact-check/german-footb...  mostly-true-new   \n",
       "2     https://www.snopes.com/fact-check/emma-gonzale...            false   \n",
       "3     https://www.snopes.com/fact-check/german-footb...  mostly-true-new   \n",
       "4     https://www.snopes.com/fact-check/german-footb...  mostly-true-new   \n",
       "...                                                 ...              ...   \n",
       "6971  https://www.snopes.com/fact-check/german-footb...  mostly-true-new   \n",
       "6972  https://www.snopes.com/fact-check/german-footb...  mostly-true-new   \n",
       "6973  https://www.snopes.com/fact-check/did-al-capon...            false   \n",
       "6974  https://www.snopes.com/fact-check/baseball-pla...            false   \n",
       "6975  https://www.snopes.com/fact-check/baseball-pla...            false   \n",
       "\n",
       "      label_info available              acc_id botometer  \n",
       "0            NaN        ok          3981225735            \n",
       "1            NaN        ok          1924071992            \n",
       "2            NaN      auth           924224208            \n",
       "3            NaN      auth           170735298            \n",
       "4            NaN        ok           115563859            \n",
       "...          ...       ...                 ...       ...  \n",
       "6971         NaN        ok           550658726            \n",
       "6972         NaN        ok            91743765            \n",
       "6973         NaN   missing  881682896607600640            \n",
       "6974         NaN      auth           115748564            \n",
       "6975         NaN        ok           518227176            \n",
       "\n",
       "[6976 rows x 14 columns]"
      ]
     },
     "execution_count": 55,
     "metadata": {},
     "output_type": "execute_result"
    }
   ],
   "source": [
    "snopes_acc"
   ]
  },
  {
   "cell_type": "code",
   "execution_count": 7,
   "metadata": {},
   "outputs": [],
   "source": [
    "from tqdm import tqdm"
   ]
  },
  {
   "cell_type": "code",
   "execution_count": 4,
   "metadata": {},
   "outputs": [
    {
     "name": "stdout",
     "output_type": "stream",
     "text": [
      "Collecting tweepy==4.0\n",
      "  Using cached tweepy-4.0.0-py2.py3-none-any.whl (60 kB)\n",
      "Requirement already satisfied: requests<3,>=2.11.1 in /home/mihail/.local/lib/python3.8/site-packages (from tweepy==4.0) (2.27.1)\n",
      "Requirement already satisfied: requests-oauthlib<2,>=1.0.0 in /home/mihail/.local/lib/python3.8/site-packages (from tweepy==4.0) (1.3.1)\n",
      "Requirement already satisfied: urllib3<1.27,>=1.21.1 in /usr/lib/python3/dist-packages (from requests<3,>=2.11.1->tweepy==4.0) (1.25.8)\n",
      "Requirement already satisfied: certifi>=2017.4.17 in /usr/lib/python3/dist-packages (from requests<3,>=2.11.1->tweepy==4.0) (2019.11.28)\n",
      "Requirement already satisfied: idna<4,>=2.5; python_version >= \"3\" in /usr/lib/python3/dist-packages (from requests<3,>=2.11.1->tweepy==4.0) (2.8)\n",
      "Requirement already satisfied: charset-normalizer~=2.0.0; python_version >= \"3\" in /home/mihail/.local/lib/python3.8/site-packages (from requests<3,>=2.11.1->tweepy==4.0) (2.0.12)\n",
      "Requirement already satisfied: oauthlib>=3.0.0 in /home/mihail/.local/lib/python3.8/site-packages (from requests-oauthlib<2,>=1.0.0->tweepy==4.0) (3.2.0)\n",
      "\u001b[31mERROR: botometer 1.6.1 has requirement tweepy<4,>=3.5.0, but you'll have tweepy 4.0.0 which is incompatible.\u001b[0m\n",
      "Installing collected packages: tweepy\n",
      "  Attempting uninstall: tweepy\n",
      "    Found existing installation: tweepy 3.6.0\n",
      "    Uninstalling tweepy-3.6.0:\n",
      "      Successfully uninstalled tweepy-3.6.0\n",
      "Successfully installed tweepy-4.0.0\n",
      "Note: you may need to restart the kernel to use updated packages.\n"
     ]
    }
   ],
   "source": [
    "pip install tweepy==4.0"
   ]
  },
  {
   "cell_type": "code",
   "execution_count": 8,
   "metadata": {},
   "outputs": [
    {
     "name": "stdout",
     "output_type": "stream",
     "text": [
      "Collecting botometer\n",
      "  Downloading botometer-1.6.1-py3-none-any.whl (4.8 kB)\n",
      "Collecting tweepy<4,>=3.5.0\n",
      "  Downloading tweepy-3.10.0-py2.py3-none-any.whl (30 kB)\n",
      "Requirement already satisfied: requests in /home/mihail/anaconda3/lib/python3.9/site-packages (from botometer) (2.26.0)\n",
      "Requirement already satisfied: six>=1.10.0 in /home/mihail/anaconda3/lib/python3.9/site-packages (from tweepy<4,>=3.5.0->botometer) (1.16.0)\n",
      "Collecting requests-oauthlib>=0.7.0\n",
      "  Downloading requests_oauthlib-1.3.1-py2.py3-none-any.whl (23 kB)\n",
      "Collecting oauthlib>=3.0.0\n",
      "  Downloading oauthlib-3.2.0-py3-none-any.whl (151 kB)\n",
      "\u001b[K     |████████████████████████████████| 151 kB 7.5 MB/s eta 0:00:01\n",
      "\u001b[?25hRequirement already satisfied: certifi>=2017.4.17 in /home/mihail/anaconda3/lib/python3.9/site-packages (from requests->botometer) (2021.10.8)\n",
      "Requirement already satisfied: idna<4,>=2.5 in /home/mihail/anaconda3/lib/python3.9/site-packages (from requests->botometer) (3.2)\n",
      "Requirement already satisfied: charset-normalizer~=2.0.0 in /home/mihail/anaconda3/lib/python3.9/site-packages (from requests->botometer) (2.0.4)\n",
      "Requirement already satisfied: urllib3<1.27,>=1.21.1 in /home/mihail/anaconda3/lib/python3.9/site-packages (from requests->botometer) (1.26.7)\n",
      "Requirement already satisfied: PySocks!=1.5.7,>=1.5.6 in /home/mihail/anaconda3/lib/python3.9/site-packages (from requests->botometer) (1.7.1)\n",
      "Installing collected packages: oauthlib, requests-oauthlib, tweepy, botometer\n",
      "Successfully installed botometer-1.6.1 oauthlib-3.2.0 requests-oauthlib-1.3.1 tweepy-3.10.0\n",
      "Note: you may need to restart the kernel to use updated packages.\n"
     ]
    }
   ],
   "source": [
    "pip install botometer"
   ]
  },
  {
   "cell_type": "code",
   "execution_count": 14,
   "metadata": {},
   "outputs": [
    {
     "data": {
      "text/html": [
       "<div>\n",
       "<style scoped>\n",
       "    .dataframe tbody tr th:only-of-type {\n",
       "        vertical-align: middle;\n",
       "    }\n",
       "\n",
       "    .dataframe tbody tr th {\n",
       "        vertical-align: top;\n",
       "    }\n",
       "\n",
       "    .dataframe thead th {\n",
       "        text-align: right;\n",
       "    }\n",
       "</style>\n",
       "<table border=\"1\" class=\"dataframe\">\n",
       "  <thead>\n",
       "    <tr style=\"text-align: right;\">\n",
       "      <th></th>\n",
       "      <th>id</th>\n",
       "      <th>original_id</th>\n",
       "      <th>tweet_text</th>\n",
       "      <th>tweet_url</th>\n",
       "      <th>claim</th>\n",
       "      <th>rating</th>\n",
       "      <th>images</th>\n",
       "      <th>text_images</th>\n",
       "      <th>source</th>\n",
       "      <th>label</th>\n",
       "      <th>label_info</th>\n",
       "      <th>available</th>\n",
       "      <th>acc_id</th>\n",
       "      <th>botometer</th>\n",
       "    </tr>\n",
       "  </thead>\n",
       "  <tbody>\n",
       "    <tr>\n",
       "      <th>0</th>\n",
       "      <td>1000037356836093953</td>\n",
       "      <td>1000023322481086466</td>\n",
       "      <td>Brave men died to keep us free. Radicals want ...</td>\n",
       "      <td>https://twitter.com/POTUS/status/1000037356836...</td>\n",
       "      <td>Liberals were offended by a World War I memori...</td>\n",
       "      <td>['https://www.snopes.com/tachyon/2018/03/ratin...</td>\n",
       "      <td>http://pbs.twimg.com/media/DeDL5a-XkAI7Hlw.jpg</td>\n",
       "      <td>#DontTearMeDown IRSTLIBERT . ORG DontTearMeDow...</td>\n",
       "      <td>https://www.snopes.com/fact-check/liberals-dem...</td>\n",
       "      <td>mixture</td>\n",
       "      <td>NaN</td>\n",
       "      <td>ok</td>\n",
       "      <td>3981225735</td>\n",
       "      <td>{'cap': {'english': 0.7759887465100499, 'unive...</td>\n",
       "    </tr>\n",
       "    <tr>\n",
       "      <th>1</th>\n",
       "      <td>1000098833798389760</td>\n",
       "      <td>1000059879682342912</td>\n",
       "      <td>“Stand for the National Anthem or be punished”...</td>\n",
       "      <td>https://twitter.com/POTUS/status/1000098833798...</td>\n",
       "      <td>A German football club was banned from playing...</td>\n",
       "      <td>['https://www.snopes.com/tachyon/2018/03/ratin...</td>\n",
       "      <td>http://pbs.twimg.com/media/DeDtKIRVAAA4kPm.jpg</td>\n",
       "      <td>FAILED TO GIVE NAZI SALUTE . German Football C...</td>\n",
       "      <td>https://www.snopes.com/fact-check/german-footb...</td>\n",
       "      <td>mostly-true-new</td>\n",
       "      <td>NaN</td>\n",
       "      <td>ok</td>\n",
       "      <td>1924071992</td>\n",
       "      <td>{'cap': {'english': 0.7759887465100499, 'unive...</td>\n",
       "    </tr>\n",
       "    <tr>\n",
       "      <th>2</th>\n",
       "      <td>1000158804795781120</td>\n",
       "      <td>1000073920760791040</td>\n",
       "      <td>@Humancipator35 @buddydusty @davidhogg111 🙌🏼 R...</td>\n",
       "      <td>https://twitter.com/POTUS/status/1000158804795...</td>\n",
       "      <td>Emma Gonz lez, a survivor of the Parkland scho...</td>\n",
       "      <td>['https://www.snopes.com/tachyon/2018/03/ratin...</td>\n",
       "      <td>http://pbs.twimg.com/media/DeD57XMV4AAUG4k.jpg</td>\n",
       "      <td>NaN</td>\n",
       "      <td>https://www.snopes.com/fact-check/emma-gonzale...</td>\n",
       "      <td>false</td>\n",
       "      <td>NaN</td>\n",
       "      <td>auth</td>\n",
       "      <td>924224208</td>\n",
       "      <td>{'cap': {'english': 0.30618807248975083, 'univ...</td>\n",
       "    </tr>\n",
       "    <tr>\n",
       "      <th>3</th>\n",
       "      <td>1000175568241872897</td>\n",
       "      <td>1000174645973315586</td>\n",
       "      <td>Just sayin'  #NFL https://t.co/70tFG5ieMC</td>\n",
       "      <td>https://twitter.com/POTUS/status/1000175568241...</td>\n",
       "      <td>A German football club was banned from playing...</td>\n",
       "      <td>['https://www.snopes.com/tachyon/2018/03/ratin...</td>\n",
       "      <td>http://pbs.twimg.com/media/DeFVdDlUwAA17qS.jpg</td>\n",
       "      <td>FAILED TO GIVE NAZI SALUTE . German Football C...</td>\n",
       "      <td>https://www.snopes.com/fact-check/german-footb...</td>\n",
       "      <td>mostly-true-new</td>\n",
       "      <td>NaN</td>\n",
       "      <td>auth</td>\n",
       "      <td>170735298</td>\n",
       "      <td>{'cap': {'english': 0.6763619064808265, 'unive...</td>\n",
       "    </tr>\n",
       "    <tr>\n",
       "      <th>4</th>\n",
       "      <td>1000438777792344067</td>\n",
       "      <td>1000191784797040640</td>\n",
       "      <td>Those who do not learn from history are doomed...</td>\n",
       "      <td>https://twitter.com/POTUS/status/1000438777792...</td>\n",
       "      <td>A German football club was banned from playing...</td>\n",
       "      <td>['https://www.snopes.com/tachyon/2018/03/ratin...</td>\n",
       "      <td>http://pbs.twimg.com/media/DeFkp5eU0AA2aLJ.jpg</td>\n",
       "      <td>pnting n the wo \" ' t WHY to win . nbor mu t n...</td>\n",
       "      <td>https://www.snopes.com/fact-check/german-footb...</td>\n",
       "      <td>mostly-true-new</td>\n",
       "      <td>NaN</td>\n",
       "      <td>ok</td>\n",
       "      <td>115563859</td>\n",
       "      <td>{'cap': {'english': 0.7668769621923945, 'unive...</td>\n",
       "    </tr>\n",
       "    <tr>\n",
       "      <th>...</th>\n",
       "      <td>...</td>\n",
       "      <td>...</td>\n",
       "      <td>...</td>\n",
       "      <td>...</td>\n",
       "      <td>...</td>\n",
       "      <td>...</td>\n",
       "      <td>...</td>\n",
       "      <td>...</td>\n",
       "      <td>...</td>\n",
       "      <td>...</td>\n",
       "      <td>...</td>\n",
       "      <td>...</td>\n",
       "      <td>...</td>\n",
       "      <td>...</td>\n",
       "    </tr>\n",
       "    <tr>\n",
       "      <th>6971</th>\n",
       "      <td>1000095067887910917</td>\n",
       "      <td>999866405687209984</td>\n",
       "      <td>History repeating itself with @realDonaldTrump...</td>\n",
       "      <td>https://twitter.com/POTUS/status/1000095067887...</td>\n",
       "      <td>A German football club was banned from playing...</td>\n",
       "      <td>['https://www.snopes.com/tachyon/2018/03/ratin...</td>\n",
       "      <td>http://pbs.twimg.com/media/DeA9KrlVwAEHtPB.jpg</td>\n",
       "      <td>FAILED TO GIVE NAZI SALUTE . German Football C...</td>\n",
       "      <td>https://www.snopes.com/fact-check/german-footb...</td>\n",
       "      <td>mostly-true-new</td>\n",
       "      <td>NaN</td>\n",
       "      <td>ok</td>\n",
       "      <td>550658726</td>\n",
       "      <td>NaN</td>\n",
       "    </tr>\n",
       "    <tr>\n",
       "      <th>6972</th>\n",
       "      <td>1000146882428096512</td>\n",
       "      <td>999903412425711616</td>\n",
       "      <td>I picked this up from someone here. Its🙄🤨🙄 wor...</td>\n",
       "      <td>https://twitter.com/POTUS/status/1000146882428...</td>\n",
       "      <td>A German football club was banned from playing...</td>\n",
       "      <td>['https://www.snopes.com/tachyon/2018/03/ratin...</td>\n",
       "      <td>http://pbs.twimg.com/media/DeBe1X5VAAI-Zhh.jpg</td>\n",
       "      <td>FAILED TO GIVE NAZI SALUTE . German Football C...</td>\n",
       "      <td>https://www.snopes.com/fact-check/german-footb...</td>\n",
       "      <td>mostly-true-new</td>\n",
       "      <td>NaN</td>\n",
       "      <td>ok</td>\n",
       "      <td>91743765</td>\n",
       "      <td>NaN</td>\n",
       "    </tr>\n",
       "    <tr>\n",
       "      <th>6973</th>\n",
       "      <td>1000018438184734720</td>\n",
       "      <td>999961946932723713</td>\n",
       "      <td>Trump is a criminal, a gangster using criminal...</td>\n",
       "      <td>https://twitter.com/POTUS/status/1000018438184...</td>\n",
       "      <td>Notorious mobster Al Capone demanded an inquir...</td>\n",
       "      <td>['https://www.snopes.com/tachyon/2018/03/ratin...</td>\n",
       "      <td>http://pbs.twimg.com/media/DeCUF2ZV4AAMm0Z.jpg</td>\n",
       "      <td>Ci ) icago Sunday Cribune INAL 17 . Capone Dem...</td>\n",
       "      <td>https://www.snopes.com/fact-check/did-al-capon...</td>\n",
       "      <td>false</td>\n",
       "      <td>NaN</td>\n",
       "      <td>missing</td>\n",
       "      <td>881682896607600640</td>\n",
       "      <td>NaN</td>\n",
       "    </tr>\n",
       "    <tr>\n",
       "      <th>6974</th>\n",
       "      <td>999992400725585920</td>\n",
       "      <td>999962442141782016</td>\n",
       "      <td>@VP @NFL @POTUS The only thing that’s #Winning...</td>\n",
       "      <td>https://twitter.com/POTUS/status/9999924007255...</td>\n",
       "      <td>Baseball players in the 1950s were caught on c...</td>\n",
       "      <td>['https://www.snopes.com/tachyon/2018/03/ratin...</td>\n",
       "      <td>http://pbs.twimg.com/media/DeCUiW3VwAAQbyx.jpg</td>\n",
       "      <td>White Baseball Players Kneel in the 50 ' s to ...</td>\n",
       "      <td>https://www.snopes.com/fact-check/baseball-pla...</td>\n",
       "      <td>false</td>\n",
       "      <td>NaN</td>\n",
       "      <td>auth</td>\n",
       "      <td>115748564</td>\n",
       "      <td>NaN</td>\n",
       "    </tr>\n",
       "    <tr>\n",
       "      <th>6975</th>\n",
       "      <td>1000035228679852032</td>\n",
       "      <td>999973815655518213</td>\n",
       "      <td>@mjfree Sports has been used as a means of pro...</td>\n",
       "      <td>https://twitter.com/POTUS/status/1000035228679...</td>\n",
       "      <td>Baseball players in the 1950s were caught on c...</td>\n",
       "      <td>['https://www.snopes.com/tachyon/2018/03/ratin...</td>\n",
       "      <td>http://pbs.twimg.com/media/DeCejk4WkAMruuM.jpg</td>\n",
       "      <td>White Baseball Players Kneel in the 50 ' s to ...</td>\n",
       "      <td>https://www.snopes.com/fact-check/baseball-pla...</td>\n",
       "      <td>false</td>\n",
       "      <td>NaN</td>\n",
       "      <td>ok</td>\n",
       "      <td>518227176</td>\n",
       "      <td>NaN</td>\n",
       "    </tr>\n",
       "  </tbody>\n",
       "</table>\n",
       "<p>6976 rows × 14 columns</p>\n",
       "</div>"
      ],
      "text/plain": [
       "                       id          original_id  \\\n",
       "0     1000037356836093953  1000023322481086466   \n",
       "1     1000098833798389760  1000059879682342912   \n",
       "2     1000158804795781120  1000073920760791040   \n",
       "3     1000175568241872897  1000174645973315586   \n",
       "4     1000438777792344067  1000191784797040640   \n",
       "...                   ...                  ...   \n",
       "6971  1000095067887910917   999866405687209984   \n",
       "6972  1000146882428096512   999903412425711616   \n",
       "6973  1000018438184734720   999961946932723713   \n",
       "6974   999992400725585920   999962442141782016   \n",
       "6975  1000035228679852032   999973815655518213   \n",
       "\n",
       "                                             tweet_text  \\\n",
       "0     Brave men died to keep us free. Radicals want ...   \n",
       "1     “Stand for the National Anthem or be punished”...   \n",
       "2     @Humancipator35 @buddydusty @davidhogg111 🙌🏼 R...   \n",
       "3             Just sayin'  #NFL https://t.co/70tFG5ieMC   \n",
       "4     Those who do not learn from history are doomed...   \n",
       "...                                                 ...   \n",
       "6971  History repeating itself with @realDonaldTrump...   \n",
       "6972  I picked this up from someone here. Its🙄🤨🙄 wor...   \n",
       "6973  Trump is a criminal, a gangster using criminal...   \n",
       "6974  @VP @NFL @POTUS The only thing that’s #Winning...   \n",
       "6975  @mjfree Sports has been used as a means of pro...   \n",
       "\n",
       "                                              tweet_url  \\\n",
       "0     https://twitter.com/POTUS/status/1000037356836...   \n",
       "1     https://twitter.com/POTUS/status/1000098833798...   \n",
       "2     https://twitter.com/POTUS/status/1000158804795...   \n",
       "3     https://twitter.com/POTUS/status/1000175568241...   \n",
       "4     https://twitter.com/POTUS/status/1000438777792...   \n",
       "...                                                 ...   \n",
       "6971  https://twitter.com/POTUS/status/1000095067887...   \n",
       "6972  https://twitter.com/POTUS/status/1000146882428...   \n",
       "6973  https://twitter.com/POTUS/status/1000018438184...   \n",
       "6974  https://twitter.com/POTUS/status/9999924007255...   \n",
       "6975  https://twitter.com/POTUS/status/1000035228679...   \n",
       "\n",
       "                                                  claim  \\\n",
       "0     Liberals were offended by a World War I memori...   \n",
       "1     A German football club was banned from playing...   \n",
       "2     Emma Gonz lez, a survivor of the Parkland scho...   \n",
       "3     A German football club was banned from playing...   \n",
       "4     A German football club was banned from playing...   \n",
       "...                                                 ...   \n",
       "6971  A German football club was banned from playing...   \n",
       "6972  A German football club was banned from playing...   \n",
       "6973  Notorious mobster Al Capone demanded an inquir...   \n",
       "6974  Baseball players in the 1950s were caught on c...   \n",
       "6975  Baseball players in the 1950s were caught on c...   \n",
       "\n",
       "                                                 rating  \\\n",
       "0     ['https://www.snopes.com/tachyon/2018/03/ratin...   \n",
       "1     ['https://www.snopes.com/tachyon/2018/03/ratin...   \n",
       "2     ['https://www.snopes.com/tachyon/2018/03/ratin...   \n",
       "3     ['https://www.snopes.com/tachyon/2018/03/ratin...   \n",
       "4     ['https://www.snopes.com/tachyon/2018/03/ratin...   \n",
       "...                                                 ...   \n",
       "6971  ['https://www.snopes.com/tachyon/2018/03/ratin...   \n",
       "6972  ['https://www.snopes.com/tachyon/2018/03/ratin...   \n",
       "6973  ['https://www.snopes.com/tachyon/2018/03/ratin...   \n",
       "6974  ['https://www.snopes.com/tachyon/2018/03/ratin...   \n",
       "6975  ['https://www.snopes.com/tachyon/2018/03/ratin...   \n",
       "\n",
       "                                              images  \\\n",
       "0     http://pbs.twimg.com/media/DeDL5a-XkAI7Hlw.jpg   \n",
       "1     http://pbs.twimg.com/media/DeDtKIRVAAA4kPm.jpg   \n",
       "2     http://pbs.twimg.com/media/DeD57XMV4AAUG4k.jpg   \n",
       "3     http://pbs.twimg.com/media/DeFVdDlUwAA17qS.jpg   \n",
       "4     http://pbs.twimg.com/media/DeFkp5eU0AA2aLJ.jpg   \n",
       "...                                              ...   \n",
       "6971  http://pbs.twimg.com/media/DeA9KrlVwAEHtPB.jpg   \n",
       "6972  http://pbs.twimg.com/media/DeBe1X5VAAI-Zhh.jpg   \n",
       "6973  http://pbs.twimg.com/media/DeCUF2ZV4AAMm0Z.jpg   \n",
       "6974  http://pbs.twimg.com/media/DeCUiW3VwAAQbyx.jpg   \n",
       "6975  http://pbs.twimg.com/media/DeCejk4WkAMruuM.jpg   \n",
       "\n",
       "                                            text_images  \\\n",
       "0     #DontTearMeDown IRSTLIBERT . ORG DontTearMeDow...   \n",
       "1     FAILED TO GIVE NAZI SALUTE . German Football C...   \n",
       "2                                                   NaN   \n",
       "3     FAILED TO GIVE NAZI SALUTE . German Football C...   \n",
       "4     pnting n the wo \" ' t WHY to win . nbor mu t n...   \n",
       "...                                                 ...   \n",
       "6971  FAILED TO GIVE NAZI SALUTE . German Football C...   \n",
       "6972  FAILED TO GIVE NAZI SALUTE . German Football C...   \n",
       "6973  Ci ) icago Sunday Cribune INAL 17 . Capone Dem...   \n",
       "6974  White Baseball Players Kneel in the 50 ' s to ...   \n",
       "6975  White Baseball Players Kneel in the 50 ' s to ...   \n",
       "\n",
       "                                                 source            label  \\\n",
       "0     https://www.snopes.com/fact-check/liberals-dem...          mixture   \n",
       "1     https://www.snopes.com/fact-check/german-footb...  mostly-true-new   \n",
       "2     https://www.snopes.com/fact-check/emma-gonzale...            false   \n",
       "3     https://www.snopes.com/fact-check/german-footb...  mostly-true-new   \n",
       "4     https://www.snopes.com/fact-check/german-footb...  mostly-true-new   \n",
       "...                                                 ...              ...   \n",
       "6971  https://www.snopes.com/fact-check/german-footb...  mostly-true-new   \n",
       "6972  https://www.snopes.com/fact-check/german-footb...  mostly-true-new   \n",
       "6973  https://www.snopes.com/fact-check/did-al-capon...            false   \n",
       "6974  https://www.snopes.com/fact-check/baseball-pla...            false   \n",
       "6975  https://www.snopes.com/fact-check/baseball-pla...            false   \n",
       "\n",
       "      label_info available              acc_id  \\\n",
       "0            NaN        ok          3981225735   \n",
       "1            NaN        ok          1924071992   \n",
       "2            NaN      auth           924224208   \n",
       "3            NaN      auth           170735298   \n",
       "4            NaN        ok           115563859   \n",
       "...          ...       ...                 ...   \n",
       "6971         NaN        ok           550658726   \n",
       "6972         NaN        ok            91743765   \n",
       "6973         NaN   missing  881682896607600640   \n",
       "6974         NaN      auth           115748564   \n",
       "6975         NaN        ok           518227176   \n",
       "\n",
       "                                              botometer  \n",
       "0     {'cap': {'english': 0.7759887465100499, 'unive...  \n",
       "1     {'cap': {'english': 0.7759887465100499, 'unive...  \n",
       "2     {'cap': {'english': 0.30618807248975083, 'univ...  \n",
       "3     {'cap': {'english': 0.6763619064808265, 'unive...  \n",
       "4     {'cap': {'english': 0.7668769621923945, 'unive...  \n",
       "...                                                 ...  \n",
       "6971                                                NaN  \n",
       "6972                                                NaN  \n",
       "6973                                                NaN  \n",
       "6974                                                NaN  \n",
       "6975                                                NaN  \n",
       "\n",
       "[6976 rows x 14 columns]"
      ]
     },
     "execution_count": 14,
     "metadata": {},
     "output_type": "execute_result"
    }
   ],
   "source": [
    "df"
   ]
  },
  {
   "cell_type": "code",
   "execution_count": 31,
   "metadata": {},
   "outputs": [
    {
     "name": "stderr",
     "output_type": "stream",
     "text": [
      "0it [00:00, ?it/s]"
     ]
    },
    {
     "name": "stdout",
     "output_type": "stream",
     "text": [
      "5725\n"
     ]
    },
    {
     "name": "stderr",
     "output_type": "stream",
     "text": [
      "5726it [00:04, 1323.87it/s]"
     ]
    },
    {
     "name": "stdout",
     "output_type": "stream",
     "text": [
      "5726\n",
      "Failed on account: 840297020531326976\n",
      "[{'code': 34, 'message': 'Sorry, that page does not exist.'}]\n",
      "5727\n",
      "5728\n",
      "5729\n"
     ]
    },
    {
     "name": "stderr",
     "output_type": "stream",
     "text": [
      "5730it [00:18, 230.99it/s] "
     ]
    },
    {
     "name": "stdout",
     "output_type": "stream",
     "text": [
      "5730\n"
     ]
    },
    {
     "name": "stderr",
     "output_type": "stream",
     "text": [
      "5731it [00:24, 156.39it/s]"
     ]
    },
    {
     "name": "stdout",
     "output_type": "stream",
     "text": [
      "5731\n",
      "5732\n",
      "5733\n"
     ]
    },
    {
     "name": "stderr",
     "output_type": "stream",
     "text": [
      "5734it [00:37, 75.73it/s] "
     ]
    },
    {
     "name": "stdout",
     "output_type": "stream",
     "text": [
      "5734\n"
     ]
    },
    {
     "name": "stderr",
     "output_type": "stream",
     "text": [
      "5735it [00:44, 55.20it/s]"
     ]
    },
    {
     "name": "stdout",
     "output_type": "stream",
     "text": [
      "5735\n",
      "5736\n",
      "5737\n"
     ]
    },
    {
     "name": "stderr",
     "output_type": "stream",
     "text": [
      "5738it [01:01, 28.62it/s]"
     ]
    },
    {
     "name": "stdout",
     "output_type": "stream",
     "text": [
      "5738\n"
     ]
    },
    {
     "name": "stderr",
     "output_type": "stream",
     "text": [
      "5739it [01:07, 22.51it/s]"
     ]
    },
    {
     "name": "stdout",
     "output_type": "stream",
     "text": [
      "5739\n",
      "5740\n",
      "5741\n"
     ]
    },
    {
     "name": "stderr",
     "output_type": "stream",
     "text": [
      "5742it [01:29, 11.03it/s]"
     ]
    },
    {
     "name": "stdout",
     "output_type": "stream",
     "text": [
      "5742\n"
     ]
    },
    {
     "name": "stderr",
     "output_type": "stream",
     "text": [
      "5743it [01:35,  9.35it/s]"
     ]
    },
    {
     "name": "stdout",
     "output_type": "stream",
     "text": [
      "5743\n",
      "Failed on account: 835834201802846208\n",
      "[{'code': 34, 'message': 'Sorry, that page does not exist.'}]\n",
      "5744\n",
      "5745\n",
      "5746\n"
     ]
    },
    {
     "name": "stderr",
     "output_type": "stream",
     "text": [
      "5747it [01:50,  5.90it/s]"
     ]
    },
    {
     "name": "stdout",
     "output_type": "stream",
     "text": [
      "5747\n"
     ]
    },
    {
     "name": "stderr",
     "output_type": "stream",
     "text": [
      "5748it [01:55,  5.16it/s]"
     ]
    },
    {
     "name": "stdout",
     "output_type": "stream",
     "text": [
      "5748\n",
      "5749\n"
     ]
    },
    {
     "name": "stderr",
     "output_type": "stream",
     "text": [
      "5750it [02:10,  3.14it/s]"
     ]
    },
    {
     "name": "stdout",
     "output_type": "stream",
     "text": [
      "5750\n"
     ]
    },
    {
     "name": "stderr",
     "output_type": "stream",
     "text": [
      "5751it [02:18,  2.41it/s]"
     ]
    },
    {
     "name": "stdout",
     "output_type": "stream",
     "text": [
      "5751\n",
      "5752\n",
      "5753\n",
      "5754\n"
     ]
    },
    {
     "name": "stderr",
     "output_type": "stream",
     "text": [
      "5755it [02:42,  1.32it/s]"
     ]
    },
    {
     "name": "stdout",
     "output_type": "stream",
     "text": [
      "5755\n"
     ]
    },
    {
     "name": "stderr",
     "output_type": "stream",
     "text": [
      "5756it [03:16,  1.49s/it]"
     ]
    },
    {
     "name": "stdout",
     "output_type": "stream",
     "text": [
      "5756\n"
     ]
    },
    {
     "name": "stderr",
     "output_type": "stream",
     "text": [
      "5757it [03:22,  1.63s/it]"
     ]
    },
    {
     "name": "stdout",
     "output_type": "stream",
     "text": [
      "5757\n",
      "5758\n",
      "5759\n"
     ]
    },
    {
     "name": "stderr",
     "output_type": "stream",
     "text": [
      "5760it [03:39,  2.09s/it]"
     ]
    },
    {
     "name": "stdout",
     "output_type": "stream",
     "text": [
      "5760\n"
     ]
    },
    {
     "name": "stderr",
     "output_type": "stream",
     "text": [
      "5761it [03:44,  2.28s/it]"
     ]
    },
    {
     "name": "stdout",
     "output_type": "stream",
     "text": [
      "5761\n",
      "5762\n",
      "5763\n"
     ]
    },
    {
     "name": "stderr",
     "output_type": "stream",
     "text": [
      "5764it [03:59,  2.77s/it]"
     ]
    },
    {
     "name": "stdout",
     "output_type": "stream",
     "text": [
      "5764\n"
     ]
    },
    {
     "name": "stderr",
     "output_type": "stream",
     "text": [
      "5765it [04:05,  3.00s/it]"
     ]
    },
    {
     "name": "stdout",
     "output_type": "stream",
     "text": [
      "5765\n",
      "5766\n"
     ]
    },
    {
     "name": "stderr",
     "output_type": "stream",
     "text": [
      "5767it [04:13,  3.22s/it]"
     ]
    },
    {
     "name": "stdout",
     "output_type": "stream",
     "text": [
      "5767\n",
      "5768\n"
     ]
    },
    {
     "name": "stderr",
     "output_type": "stream",
     "text": [
      "5769it [04:23,  3.58s/it]"
     ]
    },
    {
     "name": "stdout",
     "output_type": "stream",
     "text": [
      "5769\n"
     ]
    },
    {
     "name": "stderr",
     "output_type": "stream",
     "text": [
      "5770it [04:29,  3.88s/it]"
     ]
    },
    {
     "name": "stdout",
     "output_type": "stream",
     "text": [
      "5770\n"
     ]
    },
    {
     "name": "stderr",
     "output_type": "stream",
     "text": [
      "5771it [04:33,  3.94s/it]"
     ]
    },
    {
     "name": "stdout",
     "output_type": "stream",
     "text": [
      "5771\n"
     ]
    },
    {
     "name": "stderr",
     "output_type": "stream",
     "text": [
      "5772it [04:40,  4.37s/it]"
     ]
    },
    {
     "name": "stdout",
     "output_type": "stream",
     "text": [
      "5772\n"
     ]
    },
    {
     "name": "stderr",
     "output_type": "stream",
     "text": [
      "5773it [04:44,  4.29s/it]"
     ]
    },
    {
     "name": "stdout",
     "output_type": "stream",
     "text": [
      "5773\n"
     ]
    },
    {
     "name": "stderr",
     "output_type": "stream",
     "text": [
      "5774it [04:48,  4.22s/it]"
     ]
    },
    {
     "name": "stdout",
     "output_type": "stream",
     "text": [
      "5774\n"
     ]
    },
    {
     "name": "stderr",
     "output_type": "stream",
     "text": [
      "5775it [04:53,  4.42s/it]"
     ]
    },
    {
     "name": "stdout",
     "output_type": "stream",
     "text": [
      "5775\n"
     ]
    },
    {
     "name": "stderr",
     "output_type": "stream",
     "text": [
      "5776it [04:58,  4.69s/it]"
     ]
    },
    {
     "name": "stdout",
     "output_type": "stream",
     "text": [
      "5776\n"
     ]
    },
    {
     "name": "stderr",
     "output_type": "stream",
     "text": [
      "5777it [05:02,  4.41s/it]"
     ]
    },
    {
     "name": "stdout",
     "output_type": "stream",
     "text": [
      "5777\n"
     ]
    },
    {
     "name": "stderr",
     "output_type": "stream",
     "text": [
      "5778it [05:06,  4.29s/it]"
     ]
    },
    {
     "name": "stdout",
     "output_type": "stream",
     "text": [
      "5778\n"
     ]
    },
    {
     "name": "stderr",
     "output_type": "stream",
     "text": [
      "5779it [05:12,  4.94s/it]"
     ]
    },
    {
     "name": "stdout",
     "output_type": "stream",
     "text": [
      "5779\n"
     ]
    },
    {
     "name": "stderr",
     "output_type": "stream",
     "text": [
      "5780it [05:18,  5.20s/it]"
     ]
    },
    {
     "name": "stdout",
     "output_type": "stream",
     "text": [
      "5780\n"
     ]
    },
    {
     "name": "stderr",
     "output_type": "stream",
     "text": [
      "5781it [05:25,  5.72s/it]"
     ]
    },
    {
     "name": "stdout",
     "output_type": "stream",
     "text": [
      "5781\n"
     ]
    },
    {
     "name": "stderr",
     "output_type": "stream",
     "text": [
      "5782it [05:31,  5.90s/it]"
     ]
    },
    {
     "name": "stdout",
     "output_type": "stream",
     "text": [
      "5782\n"
     ]
    },
    {
     "name": "stderr",
     "output_type": "stream",
     "text": [
      "5783it [05:37,  5.85s/it]"
     ]
    },
    {
     "name": "stdout",
     "output_type": "stream",
     "text": [
      "5783\n"
     ]
    },
    {
     "name": "stderr",
     "output_type": "stream",
     "text": [
      "5784it [05:46,  6.62s/it]"
     ]
    },
    {
     "name": "stdout",
     "output_type": "stream",
     "text": [
      "5784\n"
     ]
    },
    {
     "name": "stderr",
     "output_type": "stream",
     "text": [
      "5785it [05:51,  6.37s/it]"
     ]
    },
    {
     "name": "stdout",
     "output_type": "stream",
     "text": [
      "5785\n"
     ]
    },
    {
     "name": "stderr",
     "output_type": "stream",
     "text": [
      "5786it [05:57,  6.24s/it]"
     ]
    },
    {
     "name": "stdout",
     "output_type": "stream",
     "text": [
      "5786\n"
     ]
    },
    {
     "name": "stderr",
     "output_type": "stream",
     "text": [
      "5787it [06:01,  5.42s/it]"
     ]
    },
    {
     "name": "stdout",
     "output_type": "stream",
     "text": [
      "5787\n"
     ]
    },
    {
     "name": "stderr",
     "output_type": "stream",
     "text": [
      "5788it [06:04,  4.87s/it]"
     ]
    },
    {
     "name": "stdout",
     "output_type": "stream",
     "text": [
      "5788\n"
     ]
    },
    {
     "name": "stderr",
     "output_type": "stream",
     "text": [
      "5789it [06:08,  4.48s/it]"
     ]
    },
    {
     "name": "stdout",
     "output_type": "stream",
     "text": [
      "5789\n"
     ]
    },
    {
     "name": "stderr",
     "output_type": "stream",
     "text": [
      "5790it [06:12,  4.40s/it]"
     ]
    },
    {
     "name": "stdout",
     "output_type": "stream",
     "text": [
      "5790\n"
     ]
    },
    {
     "name": "stderr",
     "output_type": "stream",
     "text": [
      "5791it [06:17,  4.65s/it]"
     ]
    },
    {
     "name": "stdout",
     "output_type": "stream",
     "text": [
      "5791\n"
     ]
    },
    {
     "name": "stderr",
     "output_type": "stream",
     "text": [
      "5792it [06:22,  4.73s/it]"
     ]
    },
    {
     "name": "stdout",
     "output_type": "stream",
     "text": [
      "5792\n"
     ]
    },
    {
     "name": "stderr",
     "output_type": "stream",
     "text": [
      "5793it [06:26,  4.41s/it]"
     ]
    },
    {
     "name": "stdout",
     "output_type": "stream",
     "text": [
      "5793\n"
     ]
    },
    {
     "name": "stderr",
     "output_type": "stream",
     "text": [
      "5794it [06:29,  4.10s/it]"
     ]
    },
    {
     "name": "stdout",
     "output_type": "stream",
     "text": [
      "5794\n"
     ]
    },
    {
     "name": "stderr",
     "output_type": "stream",
     "text": [
      "5795it [06:33,  3.95s/it]"
     ]
    },
    {
     "name": "stdout",
     "output_type": "stream",
     "text": [
      "5795\n"
     ]
    },
    {
     "name": "stderr",
     "output_type": "stream",
     "text": [
      "5796it [06:38,  4.30s/it]"
     ]
    },
    {
     "name": "stdout",
     "output_type": "stream",
     "text": [
      "5796\n"
     ]
    },
    {
     "name": "stderr",
     "output_type": "stream",
     "text": [
      "5797it [06:44,  4.73s/it]"
     ]
    },
    {
     "name": "stdout",
     "output_type": "stream",
     "text": [
      "5797\n"
     ]
    },
    {
     "name": "stderr",
     "output_type": "stream",
     "text": [
      "5798it [06:48,  4.51s/it]"
     ]
    },
    {
     "name": "stdout",
     "output_type": "stream",
     "text": [
      "5798\n"
     ]
    },
    {
     "name": "stderr",
     "output_type": "stream",
     "text": [
      "5799it [06:52,  4.42s/it]"
     ]
    },
    {
     "name": "stdout",
     "output_type": "stream",
     "text": [
      "5799\n"
     ]
    },
    {
     "name": "stderr",
     "output_type": "stream",
     "text": [
      "5800it [06:57,  4.47s/it]"
     ]
    },
    {
     "name": "stdout",
     "output_type": "stream",
     "text": [
      "5800\n"
     ]
    },
    {
     "name": "stderr",
     "output_type": "stream",
     "text": [
      "5801it [07:04,  5.22s/it]"
     ]
    },
    {
     "name": "stdout",
     "output_type": "stream",
     "text": [
      "5801\n"
     ]
    },
    {
     "name": "stderr",
     "output_type": "stream",
     "text": [
      "5802it [07:04,  3.78s/it]"
     ]
    },
    {
     "name": "stdout",
     "output_type": "stream",
     "text": [
      "Failed on account: 705472310799683584\n",
      "[{'code': 34, 'message': 'Sorry, that page does not exist.'}]\n",
      "5802\n"
     ]
    },
    {
     "name": "stderr",
     "output_type": "stream",
     "text": [
      "5803it [07:09,  4.27s/it]"
     ]
    },
    {
     "name": "stdout",
     "output_type": "stream",
     "text": [
      "5803\n"
     ]
    },
    {
     "name": "stderr",
     "output_type": "stream",
     "text": [
      "5804it [07:23,  7.17s/it]"
     ]
    },
    {
     "name": "stdout",
     "output_type": "stream",
     "text": [
      "5804\n"
     ]
    },
    {
     "name": "stderr",
     "output_type": "stream",
     "text": [
      "5805it [07:30,  7.14s/it]"
     ]
    },
    {
     "name": "stdout",
     "output_type": "stream",
     "text": [
      "5805\n"
     ]
    },
    {
     "name": "stderr",
     "output_type": "stream",
     "text": [
      "5806it [07:36,  6.53s/it]"
     ]
    },
    {
     "name": "stdout",
     "output_type": "stream",
     "text": [
      "5806\n"
     ]
    },
    {
     "name": "stderr",
     "output_type": "stream",
     "text": [
      "5807it [07:41,  6.29s/it]"
     ]
    },
    {
     "name": "stdout",
     "output_type": "stream",
     "text": [
      "5807\n"
     ]
    },
    {
     "name": "stderr",
     "output_type": "stream",
     "text": [
      "5808it [07:46,  5.79s/it]"
     ]
    },
    {
     "name": "stdout",
     "output_type": "stream",
     "text": [
      "5808\n"
     ]
    },
    {
     "name": "stderr",
     "output_type": "stream",
     "text": [
      "5809it [07:50,  5.31s/it]"
     ]
    },
    {
     "name": "stdout",
     "output_type": "stream",
     "text": [
      "5809\n"
     ]
    },
    {
     "name": "stderr",
     "output_type": "stream",
     "text": [
      "5810it [07:54,  5.04s/it]"
     ]
    },
    {
     "name": "stdout",
     "output_type": "stream",
     "text": [
      "5810\n"
     ]
    },
    {
     "name": "stderr",
     "output_type": "stream",
     "text": [
      "5811it [07:58,  4.69s/it]"
     ]
    },
    {
     "name": "stdout",
     "output_type": "stream",
     "text": [
      "5811\n"
     ]
    },
    {
     "name": "stderr",
     "output_type": "stream",
     "text": [
      "5812it [08:04,  4.87s/it]"
     ]
    },
    {
     "name": "stdout",
     "output_type": "stream",
     "text": [
      "5812\n"
     ]
    },
    {
     "name": "stderr",
     "output_type": "stream",
     "text": [
      "5813it [08:09,  4.99s/it]"
     ]
    },
    {
     "name": "stdout",
     "output_type": "stream",
     "text": [
      "5813\n"
     ]
    },
    {
     "name": "stderr",
     "output_type": "stream",
     "text": [
      "5814it [08:15,  5.20s/it]"
     ]
    },
    {
     "name": "stdout",
     "output_type": "stream",
     "text": [
      "5814\n"
     ]
    },
    {
     "name": "stderr",
     "output_type": "stream",
     "text": [
      "5815it [08:18,  4.70s/it]"
     ]
    },
    {
     "name": "stdout",
     "output_type": "stream",
     "text": [
      "5815\n"
     ]
    },
    {
     "name": "stderr",
     "output_type": "stream",
     "text": [
      "5816it [08:24,  4.95s/it]"
     ]
    },
    {
     "name": "stdout",
     "output_type": "stream",
     "text": [
      "5816\n"
     ]
    },
    {
     "name": "stderr",
     "output_type": "stream",
     "text": [
      "5817it [08:29,  5.12s/it]"
     ]
    },
    {
     "name": "stdout",
     "output_type": "stream",
     "text": [
      "5817\n"
     ]
    },
    {
     "name": "stderr",
     "output_type": "stream",
     "text": [
      "5818it [08:38,  6.20s/it]"
     ]
    },
    {
     "name": "stdout",
     "output_type": "stream",
     "text": [
      "5818\n"
     ]
    },
    {
     "name": "stderr",
     "output_type": "stream",
     "text": [
      "5819it [08:41,  5.38s/it]"
     ]
    },
    {
     "name": "stdout",
     "output_type": "stream",
     "text": [
      "5819\n"
     ]
    },
    {
     "name": "stderr",
     "output_type": "stream",
     "text": [
      "5820it [09:24, 16.46s/it]"
     ]
    },
    {
     "name": "stdout",
     "output_type": "stream",
     "text": [
      "5820\n"
     ]
    },
    {
     "name": "stderr",
     "output_type": "stream",
     "text": [
      "5821it [09:29, 12.99s/it]"
     ]
    },
    {
     "name": "stdout",
     "output_type": "stream",
     "text": [
      "5821\n"
     ]
    },
    {
     "name": "stderr",
     "output_type": "stream",
     "text": [
      "5822it [09:34, 10.72s/it]"
     ]
    },
    {
     "name": "stdout",
     "output_type": "stream",
     "text": [
      "5822\n"
     ]
    },
    {
     "name": "stderr",
     "output_type": "stream",
     "text": [
      "5823it [09:39,  9.10s/it]"
     ]
    },
    {
     "name": "stdout",
     "output_type": "stream",
     "text": [
      "5823\n"
     ]
    },
    {
     "name": "stderr",
     "output_type": "stream",
     "text": [
      "5824it [09:44,  7.75s/it]"
     ]
    },
    {
     "name": "stdout",
     "output_type": "stream",
     "text": [
      "5824\n"
     ]
    },
    {
     "name": "stderr",
     "output_type": "stream",
     "text": [
      "5825it [09:49,  6.97s/it]"
     ]
    },
    {
     "name": "stdout",
     "output_type": "stream",
     "text": [
      "5825\n"
     ]
    },
    {
     "name": "stderr",
     "output_type": "stream",
     "text": [
      "5826it [09:49,  4.97s/it]"
     ]
    },
    {
     "name": "stdout",
     "output_type": "stream",
     "text": [
      "Failed on account: 834868709055401984\n",
      "[{'code': 34, 'message': 'Sorry, that page does not exist.'}]\n",
      "5826\n"
     ]
    },
    {
     "name": "stderr",
     "output_type": "stream",
     "text": [
      "5827it [09:55,  5.11s/it]"
     ]
    },
    {
     "name": "stdout",
     "output_type": "stream",
     "text": [
      "5827\n"
     ]
    },
    {
     "name": "stderr",
     "output_type": "stream",
     "text": [
      "5828it [10:00,  5.08s/it]"
     ]
    },
    {
     "name": "stdout",
     "output_type": "stream",
     "text": [
      "5828\n"
     ]
    },
    {
     "name": "stderr",
     "output_type": "stream",
     "text": [
      "5829it [10:04,  4.72s/it]"
     ]
    },
    {
     "name": "stdout",
     "output_type": "stream",
     "text": [
      "5829\n"
     ]
    },
    {
     "name": "stderr",
     "output_type": "stream",
     "text": [
      "5830it [10:09,  5.00s/it]"
     ]
    },
    {
     "name": "stdout",
     "output_type": "stream",
     "text": [
      "5830\n"
     ]
    },
    {
     "name": "stderr",
     "output_type": "stream",
     "text": [
      "5831it [10:15,  5.22s/it]"
     ]
    },
    {
     "name": "stdout",
     "output_type": "stream",
     "text": [
      "5831\n"
     ]
    },
    {
     "name": "stderr",
     "output_type": "stream",
     "text": [
      "5832it [10:15,  3.74s/it]"
     ]
    },
    {
     "name": "stdout",
     "output_type": "stream",
     "text": [
      "Failed on account: 832616065259614208\n",
      "[{'code': 34, 'message': 'Sorry, that page does not exist.'}]\n",
      "5832\n"
     ]
    },
    {
     "name": "stderr",
     "output_type": "stream",
     "text": [
      "5833it [10:19,  3.76s/it]"
     ]
    },
    {
     "name": "stdout",
     "output_type": "stream",
     "text": [
      "5833\n"
     ]
    },
    {
     "name": "stderr",
     "output_type": "stream",
     "text": [
      "5834it [10:28,  5.21s/it]"
     ]
    },
    {
     "name": "stdout",
     "output_type": "stream",
     "text": [
      "5834\n"
     ]
    },
    {
     "name": "stderr",
     "output_type": "stream",
     "text": [
      "5835it [10:35,  5.86s/it]"
     ]
    },
    {
     "name": "stdout",
     "output_type": "stream",
     "text": [
      "5835\n"
     ]
    },
    {
     "name": "stderr",
     "output_type": "stream",
     "text": [
      "5836it [10:40,  5.42s/it]"
     ]
    },
    {
     "name": "stdout",
     "output_type": "stream",
     "text": [
      "5836\n"
     ]
    },
    {
     "name": "stderr",
     "output_type": "stream",
     "text": [
      "5837it [10:46,  5.61s/it]"
     ]
    },
    {
     "name": "stdout",
     "output_type": "stream",
     "text": [
      "5837\n"
     ]
    },
    {
     "name": "stderr",
     "output_type": "stream",
     "text": [
      "5838it [10:51,  5.60s/it]"
     ]
    },
    {
     "name": "stdout",
     "output_type": "stream",
     "text": [
      "5838\n"
     ]
    },
    {
     "name": "stderr",
     "output_type": "stream",
     "text": [
      "5839it [10:56,  5.32s/it]"
     ]
    },
    {
     "name": "stdout",
     "output_type": "stream",
     "text": [
      "5839\n"
     ]
    },
    {
     "name": "stderr",
     "output_type": "stream",
     "text": [
      "5840it [11:01,  5.17s/it]"
     ]
    },
    {
     "name": "stdout",
     "output_type": "stream",
     "text": [
      "5840\n"
     ]
    },
    {
     "name": "stderr",
     "output_type": "stream",
     "text": [
      "5841it [11:07,  5.40s/it]"
     ]
    },
    {
     "name": "stdout",
     "output_type": "stream",
     "text": [
      "5841\n"
     ]
    },
    {
     "name": "stderr",
     "output_type": "stream",
     "text": [
      "5842it [11:11,  4.98s/it]"
     ]
    },
    {
     "name": "stdout",
     "output_type": "stream",
     "text": [
      "5842\n"
     ]
    },
    {
     "name": "stderr",
     "output_type": "stream",
     "text": [
      "5843it [11:15,  4.78s/it]"
     ]
    },
    {
     "name": "stdout",
     "output_type": "stream",
     "text": [
      "5843\n"
     ]
    },
    {
     "name": "stderr",
     "output_type": "stream",
     "text": [
      "5844it [11:15,  3.43s/it]"
     ]
    },
    {
     "name": "stdout",
     "output_type": "stream",
     "text": [
      "Failed on account: 861598641739489280\n",
      "[{'code': 34, 'message': 'Sorry, that page does not exist.'}]\n",
      "5844\n"
     ]
    },
    {
     "name": "stderr",
     "output_type": "stream",
     "text": [
      "5845it [11:22,  4.33s/it]"
     ]
    },
    {
     "name": "stdout",
     "output_type": "stream",
     "text": [
      "5845\n"
     ]
    },
    {
     "name": "stderr",
     "output_type": "stream",
     "text": [
      "5846it [11:27,  4.76s/it]"
     ]
    },
    {
     "name": "stdout",
     "output_type": "stream",
     "text": [
      "5846\n"
     ]
    },
    {
     "name": "stderr",
     "output_type": "stream",
     "text": [
      "5847it [11:33,  4.99s/it]"
     ]
    },
    {
     "name": "stdout",
     "output_type": "stream",
     "text": [
      "5847\n"
     ]
    },
    {
     "name": "stderr",
     "output_type": "stream",
     "text": [
      "5848it [11:39,  5.31s/it]"
     ]
    },
    {
     "name": "stdout",
     "output_type": "stream",
     "text": [
      "5848\n"
     ]
    },
    {
     "name": "stderr",
     "output_type": "stream",
     "text": [
      "5849it [11:46,  5.79s/it]"
     ]
    },
    {
     "name": "stdout",
     "output_type": "stream",
     "text": [
      "5849\n"
     ]
    },
    {
     "name": "stderr",
     "output_type": "stream",
     "text": [
      "5850it [11:46,  4.16s/it]"
     ]
    },
    {
     "name": "stdout",
     "output_type": "stream",
     "text": [
      "Failed on account: 850727236281958400\n",
      "[{'code': 34, 'message': 'Sorry, that page does not exist.'}]\n",
      "5850\n"
     ]
    },
    {
     "name": "stderr",
     "output_type": "stream",
     "text": [
      "5851it [11:52,  4.66s/it]"
     ]
    },
    {
     "name": "stdout",
     "output_type": "stream",
     "text": [
      "5851\n"
     ]
    },
    {
     "name": "stderr",
     "output_type": "stream",
     "text": [
      "5852it [11:58,  5.11s/it]"
     ]
    },
    {
     "name": "stdout",
     "output_type": "stream",
     "text": [
      "5852\n"
     ]
    },
    {
     "name": "stderr",
     "output_type": "stream",
     "text": [
      "5853it [12:04,  5.42s/it]"
     ]
    },
    {
     "name": "stdout",
     "output_type": "stream",
     "text": [
      "5853\n"
     ]
    },
    {
     "name": "stderr",
     "output_type": "stream",
     "text": [
      "5854it [12:11,  5.76s/it]"
     ]
    },
    {
     "name": "stdout",
     "output_type": "stream",
     "text": [
      "5854\n"
     ]
    },
    {
     "name": "stderr",
     "output_type": "stream",
     "text": [
      "5855it [12:18,  6.24s/it]"
     ]
    },
    {
     "name": "stdout",
     "output_type": "stream",
     "text": [
      "5855\n"
     ]
    },
    {
     "name": "stderr",
     "output_type": "stream",
     "text": [
      "5856it [12:24,  5.97s/it]"
     ]
    },
    {
     "name": "stdout",
     "output_type": "stream",
     "text": [
      "5856\n"
     ]
    },
    {
     "name": "stderr",
     "output_type": "stream",
     "text": [
      "5857it [12:30,  5.99s/it]"
     ]
    },
    {
     "name": "stdout",
     "output_type": "stream",
     "text": [
      "5857\n"
     ]
    },
    {
     "name": "stderr",
     "output_type": "stream",
     "text": [
      "5858it [12:34,  5.48s/it]"
     ]
    },
    {
     "name": "stdout",
     "output_type": "stream",
     "text": [
      "5858\n"
     ]
    },
    {
     "name": "stderr",
     "output_type": "stream",
     "text": [
      "5859it [12:38,  5.19s/it]"
     ]
    },
    {
     "name": "stdout",
     "output_type": "stream",
     "text": [
      "5859\n"
     ]
    },
    {
     "name": "stderr",
     "output_type": "stream",
     "text": [
      "5860it [12:44,  5.23s/it]"
     ]
    },
    {
     "name": "stdout",
     "output_type": "stream",
     "text": [
      "5860\n"
     ]
    },
    {
     "name": "stderr",
     "output_type": "stream",
     "text": [
      "5861it [12:48,  5.04s/it]"
     ]
    },
    {
     "name": "stdout",
     "output_type": "stream",
     "text": [
      "5861\n"
     ]
    },
    {
     "name": "stderr",
     "output_type": "stream",
     "text": [
      "5862it [12:54,  5.19s/it]"
     ]
    },
    {
     "name": "stdout",
     "output_type": "stream",
     "text": [
      "5862\n"
     ]
    },
    {
     "name": "stderr",
     "output_type": "stream",
     "text": [
      "5863it [12:59,  5.06s/it]"
     ]
    },
    {
     "name": "stdout",
     "output_type": "stream",
     "text": [
      "5863\n"
     ]
    },
    {
     "name": "stderr",
     "output_type": "stream",
     "text": [
      "5864it [13:03,  4.97s/it]"
     ]
    },
    {
     "name": "stdout",
     "output_type": "stream",
     "text": [
      "5864\n"
     ]
    },
    {
     "name": "stderr",
     "output_type": "stream",
     "text": [
      "5865it [13:09,  5.17s/it]"
     ]
    },
    {
     "name": "stdout",
     "output_type": "stream",
     "text": [
      "5865\n"
     ]
    },
    {
     "name": "stderr",
     "output_type": "stream",
     "text": [
      "5866it [13:13,  4.73s/it]"
     ]
    },
    {
     "name": "stdout",
     "output_type": "stream",
     "text": [
      "5866\n"
     ]
    },
    {
     "name": "stderr",
     "output_type": "stream",
     "text": [
      "5867it [13:20,  5.49s/it]"
     ]
    },
    {
     "name": "stdout",
     "output_type": "stream",
     "text": [
      "5867\n"
     ]
    },
    {
     "name": "stderr",
     "output_type": "stream",
     "text": [
      "5868it [13:26,  5.50s/it]"
     ]
    },
    {
     "name": "stdout",
     "output_type": "stream",
     "text": [
      "5868\n"
     ]
    },
    {
     "name": "stderr",
     "output_type": "stream",
     "text": [
      "5869it [13:30,  5.26s/it]"
     ]
    },
    {
     "name": "stdout",
     "output_type": "stream",
     "text": [
      "5869\n"
     ]
    },
    {
     "name": "stderr",
     "output_type": "stream",
     "text": [
      "5870it [13:37,  5.57s/it]"
     ]
    },
    {
     "name": "stdout",
     "output_type": "stream",
     "text": [
      "5870\n"
     ]
    },
    {
     "name": "stderr",
     "output_type": "stream",
     "text": [
      "5871it [13:40,  5.02s/it]"
     ]
    },
    {
     "name": "stdout",
     "output_type": "stream",
     "text": [
      "5871\n"
     ]
    },
    {
     "name": "stderr",
     "output_type": "stream",
     "text": [
      "5872it [13:45,  5.04s/it]"
     ]
    },
    {
     "name": "stdout",
     "output_type": "stream",
     "text": [
      "5872\n"
     ]
    },
    {
     "name": "stderr",
     "output_type": "stream",
     "text": [
      "5873it [13:51,  5.19s/it]"
     ]
    },
    {
     "name": "stdout",
     "output_type": "stream",
     "text": [
      "5873\n"
     ]
    },
    {
     "name": "stderr",
     "output_type": "stream",
     "text": [
      "5874it [13:58,  5.83s/it]"
     ]
    },
    {
     "name": "stdout",
     "output_type": "stream",
     "text": [
      "5874\n"
     ]
    },
    {
     "name": "stderr",
     "output_type": "stream",
     "text": [
      "5875it [14:03,  5.49s/it]"
     ]
    },
    {
     "name": "stdout",
     "output_type": "stream",
     "text": [
      "5875\n"
     ]
    },
    {
     "name": "stderr",
     "output_type": "stream",
     "text": [
      "5876it [14:07,  5.13s/it]"
     ]
    },
    {
     "name": "stdout",
     "output_type": "stream",
     "text": [
      "5876\n"
     ]
    },
    {
     "name": "stderr",
     "output_type": "stream",
     "text": [
      "5877it [14:12,  5.10s/it]"
     ]
    },
    {
     "name": "stdout",
     "output_type": "stream",
     "text": [
      "5877\n"
     ]
    },
    {
     "name": "stderr",
     "output_type": "stream",
     "text": [
      "5878it [14:17,  4.93s/it]"
     ]
    },
    {
     "name": "stdout",
     "output_type": "stream",
     "text": [
      "5878\n"
     ]
    },
    {
     "name": "stderr",
     "output_type": "stream",
     "text": [
      "5879it [14:22,  5.16s/it]"
     ]
    },
    {
     "name": "stdout",
     "output_type": "stream",
     "text": [
      "5879\n"
     ]
    },
    {
     "name": "stderr",
     "output_type": "stream",
     "text": [
      "5880it [14:29,  5.43s/it]"
     ]
    },
    {
     "name": "stdout",
     "output_type": "stream",
     "text": [
      "5880\n"
     ]
    },
    {
     "name": "stderr",
     "output_type": "stream",
     "text": [
      "5881it [14:40,  7.33s/it]"
     ]
    },
    {
     "name": "stdout",
     "output_type": "stream",
     "text": [
      "5881\n"
     ]
    },
    {
     "name": "stderr",
     "output_type": "stream",
     "text": [
      "5882it [14:44,  6.21s/it]"
     ]
    },
    {
     "name": "stdout",
     "output_type": "stream",
     "text": [
      "5882\n"
     ]
    },
    {
     "name": "stderr",
     "output_type": "stream",
     "text": [
      "5883it [14:49,  5.85s/it]"
     ]
    },
    {
     "name": "stdout",
     "output_type": "stream",
     "text": [
      "5883\n"
     ]
    },
    {
     "name": "stderr",
     "output_type": "stream",
     "text": [
      "5884it [14:54,  5.63s/it]"
     ]
    },
    {
     "name": "stdout",
     "output_type": "stream",
     "text": [
      "5884\n"
     ]
    },
    {
     "name": "stderr",
     "output_type": "stream",
     "text": [
      "5885it [14:54,  4.03s/it]"
     ]
    },
    {
     "name": "stdout",
     "output_type": "stream",
     "text": [
      "Failed on account: 810915219253829632\n",
      "[{'code': 34, 'message': 'Sorry, that page does not exist.'}]\n",
      "5885\n"
     ]
    },
    {
     "name": "stderr",
     "output_type": "stream",
     "text": [
      "5886it [14:59,  4.30s/it]"
     ]
    },
    {
     "name": "stdout",
     "output_type": "stream",
     "text": [
      "5886\n"
     ]
    },
    {
     "name": "stderr",
     "output_type": "stream",
     "text": [
      "5887it [15:04,  4.30s/it]"
     ]
    },
    {
     "name": "stdout",
     "output_type": "stream",
     "text": [
      "5887\n"
     ]
    },
    {
     "name": "stderr",
     "output_type": "stream",
     "text": [
      "5888it [15:07,  4.14s/it]"
     ]
    },
    {
     "name": "stdout",
     "output_type": "stream",
     "text": [
      "5888\n"
     ]
    },
    {
     "name": "stderr",
     "output_type": "stream",
     "text": [
      "5889it [15:08,  2.98s/it]"
     ]
    },
    {
     "name": "stdout",
     "output_type": "stream",
     "text": [
      "Failed on account: 919336900258947200\n",
      "[{'code': 34, 'message': 'Sorry, that page does not exist.'}]\n",
      "5889\n"
     ]
    },
    {
     "name": "stderr",
     "output_type": "stream",
     "text": [
      "5890it [15:12,  3.39s/it]"
     ]
    },
    {
     "name": "stdout",
     "output_type": "stream",
     "text": [
      "5890\n"
     ]
    },
    {
     "name": "stderr",
     "output_type": "stream",
     "text": [
      "5891it [15:17,  3.91s/it]"
     ]
    },
    {
     "name": "stdout",
     "output_type": "stream",
     "text": [
      "5891\n"
     ]
    },
    {
     "name": "stderr",
     "output_type": "stream",
     "text": [
      "5892it [15:17,  2.83s/it]"
     ]
    },
    {
     "name": "stdout",
     "output_type": "stream",
     "text": [
      "Failed on account: 954257879317602432\n",
      "[{'code': 34, 'message': 'Sorry, that page does not exist.'}]\n",
      "5892\n"
     ]
    },
    {
     "name": "stderr",
     "output_type": "stream",
     "text": [
      "5893it [15:23,  3.79s/it]"
     ]
    },
    {
     "name": "stdout",
     "output_type": "stream",
     "text": [
      "5893\n"
     ]
    },
    {
     "name": "stderr",
     "output_type": "stream",
     "text": [
      "5894it [15:28,  3.91s/it]"
     ]
    },
    {
     "name": "stdout",
     "output_type": "stream",
     "text": [
      "5894\n"
     ]
    },
    {
     "name": "stderr",
     "output_type": "stream",
     "text": [
      "5895it [15:31,  3.91s/it]"
     ]
    },
    {
     "name": "stdout",
     "output_type": "stream",
     "text": [
      "5895\n"
     ]
    },
    {
     "name": "stderr",
     "output_type": "stream",
     "text": [
      "5896it [15:36,  4.06s/it]"
     ]
    },
    {
     "name": "stdout",
     "output_type": "stream",
     "text": [
      "5896\n"
     ]
    },
    {
     "name": "stderr",
     "output_type": "stream",
     "text": [
      "5897it [15:36,  2.93s/it]"
     ]
    },
    {
     "name": "stdout",
     "output_type": "stream",
     "text": [
      "Failed on account: 798692263505362944\n",
      "[{'code': 34, 'message': 'Sorry, that page does not exist.'}]\n",
      "5897\n"
     ]
    },
    {
     "name": "stderr",
     "output_type": "stream",
     "text": [
      "5898it [15:41,  3.43s/it]"
     ]
    },
    {
     "name": "stdout",
     "output_type": "stream",
     "text": [
      "5898\n"
     ]
    },
    {
     "name": "stderr",
     "output_type": "stream",
     "text": [
      "5899it [15:46,  3.92s/it]"
     ]
    },
    {
     "name": "stdout",
     "output_type": "stream",
     "text": [
      "5899\n"
     ]
    },
    {
     "name": "stderr",
     "output_type": "stream",
     "text": [
      "5900it [15:51,  4.21s/it]"
     ]
    },
    {
     "name": "stdout",
     "output_type": "stream",
     "text": [
      "5900\n"
     ]
    },
    {
     "name": "stderr",
     "output_type": "stream",
     "text": [
      "5901it [15:55,  4.30s/it]"
     ]
    },
    {
     "name": "stdout",
     "output_type": "stream",
     "text": [
      "5901\n"
     ]
    },
    {
     "name": "stderr",
     "output_type": "stream",
     "text": [
      "5902it [15:59,  4.07s/it]"
     ]
    },
    {
     "name": "stdout",
     "output_type": "stream",
     "text": [
      "5902\n"
     ]
    },
    {
     "name": "stderr",
     "output_type": "stream",
     "text": [
      "5903it [16:04,  4.32s/it]"
     ]
    },
    {
     "name": "stdout",
     "output_type": "stream",
     "text": [
      "5903\n"
     ]
    },
    {
     "name": "stderr",
     "output_type": "stream",
     "text": [
      "5904it [16:10,  4.97s/it]"
     ]
    },
    {
     "name": "stdout",
     "output_type": "stream",
     "text": [
      "5904\n"
     ]
    },
    {
     "name": "stderr",
     "output_type": "stream",
     "text": [
      "5905it [16:15,  5.07s/it]"
     ]
    },
    {
     "name": "stdout",
     "output_type": "stream",
     "text": [
      "5905\n"
     ]
    },
    {
     "name": "stderr",
     "output_type": "stream",
     "text": [
      "5906it [16:21,  5.26s/it]"
     ]
    },
    {
     "name": "stdout",
     "output_type": "stream",
     "text": [
      "5906\n"
     ]
    },
    {
     "name": "stderr",
     "output_type": "stream",
     "text": [
      "5907it [16:26,  5.18s/it]"
     ]
    },
    {
     "name": "stdout",
     "output_type": "stream",
     "text": [
      "5907\n"
     ]
    },
    {
     "name": "stderr",
     "output_type": "stream",
     "text": [
      "5908it [16:32,  5.49s/it]"
     ]
    },
    {
     "name": "stdout",
     "output_type": "stream",
     "text": [
      "5908\n"
     ]
    },
    {
     "name": "stderr",
     "output_type": "stream",
     "text": [
      "5909it [16:36,  4.96s/it]"
     ]
    },
    {
     "name": "stdout",
     "output_type": "stream",
     "text": [
      "5909\n"
     ]
    },
    {
     "name": "stderr",
     "output_type": "stream",
     "text": [
      "5910it [16:40,  4.63s/it]"
     ]
    },
    {
     "name": "stdout",
     "output_type": "stream",
     "text": [
      "5910\n"
     ]
    },
    {
     "name": "stderr",
     "output_type": "stream",
     "text": [
      "5911it [16:44,  4.39s/it]"
     ]
    },
    {
     "name": "stdout",
     "output_type": "stream",
     "text": [
      "5911\n"
     ]
    },
    {
     "name": "stderr",
     "output_type": "stream",
     "text": [
      "5912it [16:48,  4.48s/it]"
     ]
    },
    {
     "name": "stdout",
     "output_type": "stream",
     "text": [
      "5912\n"
     ]
    },
    {
     "name": "stderr",
     "output_type": "stream",
     "text": [
      "5913it [16:55,  4.97s/it]"
     ]
    },
    {
     "name": "stdout",
     "output_type": "stream",
     "text": [
      "5913\n"
     ]
    },
    {
     "name": "stderr",
     "output_type": "stream",
     "text": [
      "5914it [17:01,  5.32s/it]"
     ]
    },
    {
     "name": "stdout",
     "output_type": "stream",
     "text": [
      "5914\n"
     ]
    },
    {
     "name": "stderr",
     "output_type": "stream",
     "text": [
      "5915it [17:06,  5.31s/it]"
     ]
    },
    {
     "name": "stdout",
     "output_type": "stream",
     "text": [
      "5915\n"
     ]
    },
    {
     "name": "stderr",
     "output_type": "stream",
     "text": [
      "5916it [17:10,  4.89s/it]"
     ]
    },
    {
     "name": "stdout",
     "output_type": "stream",
     "text": [
      "5916\n"
     ]
    },
    {
     "name": "stderr",
     "output_type": "stream",
     "text": [
      "5917it [17:11,  3.66s/it]"
     ]
    },
    {
     "name": "stdout",
     "output_type": "stream",
     "text": [
      "Failed on account: 926404887784673152\n",
      "[{'code': 34, 'message': 'Sorry, that page does not exist.'}]\n",
      "5917\n"
     ]
    },
    {
     "name": "stderr",
     "output_type": "stream",
     "text": [
      "5918it [17:15,  3.98s/it]"
     ]
    },
    {
     "name": "stdout",
     "output_type": "stream",
     "text": [
      "5918\n"
     ]
    },
    {
     "name": "stderr",
     "output_type": "stream",
     "text": [
      "5919it [17:20,  4.10s/it]"
     ]
    },
    {
     "name": "stdout",
     "output_type": "stream",
     "text": [
      "5919\n"
     ]
    },
    {
     "name": "stderr",
     "output_type": "stream",
     "text": [
      "5920it [17:25,  4.39s/it]"
     ]
    },
    {
     "name": "stdout",
     "output_type": "stream",
     "text": [
      "5920\n"
     ]
    },
    {
     "name": "stderr",
     "output_type": "stream",
     "text": [
      "5921it [17:29,  4.35s/it]"
     ]
    },
    {
     "name": "stdout",
     "output_type": "stream",
     "text": [
      "5921\n"
     ]
    },
    {
     "name": "stderr",
     "output_type": "stream",
     "text": [
      "5922it [17:34,  4.46s/it]"
     ]
    },
    {
     "name": "stdout",
     "output_type": "stream",
     "text": [
      "5922\n"
     ]
    },
    {
     "name": "stderr",
     "output_type": "stream",
     "text": [
      "5923it [17:39,  4.61s/it]"
     ]
    },
    {
     "name": "stdout",
     "output_type": "stream",
     "text": [
      "5923\n"
     ]
    },
    {
     "name": "stderr",
     "output_type": "stream",
     "text": [
      "5924it [17:43,  4.63s/it]"
     ]
    },
    {
     "name": "stdout",
     "output_type": "stream",
     "text": [
      "5924\n"
     ]
    },
    {
     "name": "stderr",
     "output_type": "stream",
     "text": [
      "5925it [17:49,  4.88s/it]"
     ]
    },
    {
     "name": "stdout",
     "output_type": "stream",
     "text": [
      "5925\n"
     ]
    },
    {
     "name": "stderr",
     "output_type": "stream",
     "text": [
      "5926it [17:59,  6.51s/it]"
     ]
    },
    {
     "name": "stdout",
     "output_type": "stream",
     "text": [
      "5926\n"
     ]
    },
    {
     "name": "stderr",
     "output_type": "stream",
     "text": [
      "5927it [18:04,  5.87s/it]"
     ]
    },
    {
     "name": "stdout",
     "output_type": "stream",
     "text": [
      "5927\n"
     ]
    },
    {
     "name": "stderr",
     "output_type": "stream",
     "text": [
      "5928it [18:08,  5.33s/it]"
     ]
    },
    {
     "name": "stdout",
     "output_type": "stream",
     "text": [
      "5928\n"
     ]
    },
    {
     "name": "stderr",
     "output_type": "stream",
     "text": [
      "5929it [18:08,  3.80s/it]"
     ]
    },
    {
     "name": "stdout",
     "output_type": "stream",
     "text": [
      "Failed on account: 824126001936474112\n",
      "[{'code': 34, 'message': 'Sorry, that page does not exist.'}]\n",
      "5929\n"
     ]
    },
    {
     "name": "stderr",
     "output_type": "stream",
     "text": [
      "5930it [18:12,  3.98s/it]"
     ]
    },
    {
     "name": "stdout",
     "output_type": "stream",
     "text": [
      "5930\n"
     ]
    },
    {
     "name": "stderr",
     "output_type": "stream",
     "text": [
      "5931it [18:17,  4.17s/it]"
     ]
    },
    {
     "name": "stdout",
     "output_type": "stream",
     "text": [
      "5931\n"
     ]
    },
    {
     "name": "stderr",
     "output_type": "stream",
     "text": [
      "5932it [18:23,  4.70s/it]"
     ]
    },
    {
     "name": "stdout",
     "output_type": "stream",
     "text": [
      "5932\n"
     ]
    },
    {
     "name": "stderr",
     "output_type": "stream",
     "text": [
      "5933it [18:30,  5.39s/it]"
     ]
    },
    {
     "name": "stdout",
     "output_type": "stream",
     "text": [
      "5933\n"
     ]
    },
    {
     "name": "stderr",
     "output_type": "stream",
     "text": [
      "5934it [18:30,  3.87s/it]"
     ]
    },
    {
     "name": "stdout",
     "output_type": "stream",
     "text": [
      "Failed on account: 805862640782217216\n",
      "[{'code': 34, 'message': 'Sorry, that page does not exist.'}]\n",
      "5934\n"
     ]
    },
    {
     "name": "stderr",
     "output_type": "stream",
     "text": [
      "5935it [18:30,  2.78s/it]"
     ]
    },
    {
     "name": "stdout",
     "output_type": "stream",
     "text": [
      "Failed on account: 915352025298276352\n",
      "[{'code': 34, 'message': 'Sorry, that page does not exist.'}]\n",
      "5935\n"
     ]
    },
    {
     "name": "stderr",
     "output_type": "stream",
     "text": [
      "5936it [18:37,  3.88s/it]"
     ]
    },
    {
     "name": "stdout",
     "output_type": "stream",
     "text": [
      "5936\n"
     ]
    },
    {
     "name": "stderr",
     "output_type": "stream",
     "text": [
      "5937it [18:43,  4.45s/it]"
     ]
    },
    {
     "name": "stdout",
     "output_type": "stream",
     "text": [
      "5937\n"
     ]
    },
    {
     "name": "stderr",
     "output_type": "stream",
     "text": [
      "5938it [18:48,  4.60s/it]"
     ]
    },
    {
     "name": "stdout",
     "output_type": "stream",
     "text": [
      "5938\n"
     ]
    },
    {
     "name": "stderr",
     "output_type": "stream",
     "text": [
      "5939it [18:52,  4.56s/it]"
     ]
    },
    {
     "name": "stdout",
     "output_type": "stream",
     "text": [
      "5939\n"
     ]
    },
    {
     "name": "stderr",
     "output_type": "stream",
     "text": [
      "5940it [18:56,  4.50s/it]"
     ]
    },
    {
     "name": "stdout",
     "output_type": "stream",
     "text": [
      "5940\n"
     ]
    },
    {
     "name": "stderr",
     "output_type": "stream",
     "text": [
      "5941it [19:04,  5.27s/it]"
     ]
    },
    {
     "name": "stdout",
     "output_type": "stream",
     "text": [
      "5941\n"
     ]
    },
    {
     "name": "stderr",
     "output_type": "stream",
     "text": [
      "5942it [19:09,  5.26s/it]"
     ]
    },
    {
     "name": "stdout",
     "output_type": "stream",
     "text": [
      "5942\n"
     ]
    },
    {
     "name": "stderr",
     "output_type": "stream",
     "text": [
      "5943it [19:19,  6.89s/it]"
     ]
    },
    {
     "name": "stdout",
     "output_type": "stream",
     "text": [
      "5943\n"
     ]
    },
    {
     "name": "stderr",
     "output_type": "stream",
     "text": [
      "5944it [19:25,  6.59s/it]"
     ]
    },
    {
     "name": "stdout",
     "output_type": "stream",
     "text": [
      "5944\n"
     ]
    },
    {
     "name": "stderr",
     "output_type": "stream",
     "text": [
      "5945it [19:33,  6.76s/it]"
     ]
    },
    {
     "name": "stdout",
     "output_type": "stream",
     "text": [
      "5945\n"
     ]
    },
    {
     "name": "stderr",
     "output_type": "stream",
     "text": [
      "5946it [19:39,  6.54s/it]"
     ]
    },
    {
     "name": "stdout",
     "output_type": "stream",
     "text": [
      "5946\n"
     ]
    },
    {
     "name": "stderr",
     "output_type": "stream",
     "text": [
      "5947it [19:44,  6.27s/it]"
     ]
    },
    {
     "name": "stdout",
     "output_type": "stream",
     "text": [
      "5947\n"
     ]
    },
    {
     "name": "stderr",
     "output_type": "stream",
     "text": [
      "5948it [19:51,  6.45s/it]"
     ]
    },
    {
     "name": "stdout",
     "output_type": "stream",
     "text": [
      "5948\n"
     ]
    },
    {
     "name": "stderr",
     "output_type": "stream",
     "text": [
      "5949it [19:55,  5.74s/it]"
     ]
    },
    {
     "name": "stdout",
     "output_type": "stream",
     "text": [
      "5949\n"
     ]
    },
    {
     "name": "stderr",
     "output_type": "stream",
     "text": [
      "5950it [20:00,  5.37s/it]"
     ]
    },
    {
     "name": "stdout",
     "output_type": "stream",
     "text": [
      "5950\n"
     ]
    },
    {
     "name": "stderr",
     "output_type": "stream",
     "text": [
      "5951it [20:05,  5.23s/it]"
     ]
    },
    {
     "name": "stdout",
     "output_type": "stream",
     "text": [
      "5951\n"
     ]
    },
    {
     "name": "stderr",
     "output_type": "stream",
     "text": [
      "5952it [20:10,  5.30s/it]"
     ]
    },
    {
     "name": "stdout",
     "output_type": "stream",
     "text": [
      "5952\n"
     ]
    },
    {
     "name": "stderr",
     "output_type": "stream",
     "text": [
      "5953it [20:15,  5.26s/it]"
     ]
    },
    {
     "name": "stdout",
     "output_type": "stream",
     "text": [
      "5953\n"
     ]
    },
    {
     "name": "stderr",
     "output_type": "stream",
     "text": [
      "5954it [20:20,  5.10s/it]"
     ]
    },
    {
     "name": "stdout",
     "output_type": "stream",
     "text": [
      "5954\n"
     ]
    },
    {
     "name": "stderr",
     "output_type": "stream",
     "text": [
      "5955it [20:25,  5.17s/it]"
     ]
    },
    {
     "name": "stdout",
     "output_type": "stream",
     "text": [
      "5955\n"
     ]
    },
    {
     "name": "stderr",
     "output_type": "stream",
     "text": [
      "5956it [20:29,  4.70s/it]"
     ]
    },
    {
     "name": "stdout",
     "output_type": "stream",
     "text": [
      "5956\n"
     ]
    },
    {
     "name": "stderr",
     "output_type": "stream",
     "text": [
      "5957it [20:33,  4.67s/it]"
     ]
    },
    {
     "name": "stdout",
     "output_type": "stream",
     "text": [
      "5957\n"
     ]
    },
    {
     "name": "stderr",
     "output_type": "stream",
     "text": [
      "5958it [20:39,  4.93s/it]"
     ]
    },
    {
     "name": "stdout",
     "output_type": "stream",
     "text": [
      "5958\n"
     ]
    },
    {
     "name": "stderr",
     "output_type": "stream",
     "text": [
      "5959it [20:43,  4.74s/it]"
     ]
    },
    {
     "name": "stdout",
     "output_type": "stream",
     "text": [
      "5959\n"
     ]
    },
    {
     "name": "stderr",
     "output_type": "stream",
     "text": [
      "5960it [20:52,  5.81s/it]"
     ]
    },
    {
     "name": "stdout",
     "output_type": "stream",
     "text": [
      "5960\n"
     ]
    },
    {
     "name": "stderr",
     "output_type": "stream",
     "text": [
      "5961it [20:58,  6.12s/it]"
     ]
    },
    {
     "name": "stdout",
     "output_type": "stream",
     "text": [
      "5961\n"
     ]
    },
    {
     "name": "stderr",
     "output_type": "stream",
     "text": [
      "5962it [21:02,  5.48s/it]"
     ]
    },
    {
     "name": "stdout",
     "output_type": "stream",
     "text": [
      "5962\n"
     ]
    },
    {
     "name": "stderr",
     "output_type": "stream",
     "text": [
      "5963it [21:03,  3.93s/it]"
     ]
    },
    {
     "name": "stdout",
     "output_type": "stream",
     "text": [
      "Failed on account: 904571103301046400\n",
      "[{'code': 34, 'message': 'Sorry, that page does not exist.'}]\n",
      "5963\n"
     ]
    },
    {
     "name": "stderr",
     "output_type": "stream",
     "text": [
      "5964it [21:07,  4.05s/it]"
     ]
    },
    {
     "name": "stdout",
     "output_type": "stream",
     "text": [
      "5964\n"
     ]
    },
    {
     "name": "stderr",
     "output_type": "stream",
     "text": [
      "5965it [21:11,  4.13s/it]"
     ]
    },
    {
     "name": "stdout",
     "output_type": "stream",
     "text": [
      "5965\n"
     ]
    },
    {
     "name": "stderr",
     "output_type": "stream",
     "text": [
      "5966it [21:16,  4.29s/it]"
     ]
    },
    {
     "name": "stdout",
     "output_type": "stream",
     "text": [
      "5966\n"
     ]
    },
    {
     "name": "stderr",
     "output_type": "stream",
     "text": [
      "5967it [21:20,  4.23s/it]"
     ]
    },
    {
     "name": "stdout",
     "output_type": "stream",
     "text": [
      "5967\n"
     ]
    },
    {
     "name": "stderr",
     "output_type": "stream",
     "text": [
      "5968it [21:24,  4.16s/it]"
     ]
    },
    {
     "name": "stdout",
     "output_type": "stream",
     "text": [
      "5968\n"
     ]
    },
    {
     "name": "stderr",
     "output_type": "stream",
     "text": [
      "5969it [21:29,  4.49s/it]"
     ]
    },
    {
     "name": "stdout",
     "output_type": "stream",
     "text": [
      "5969\n"
     ]
    },
    {
     "name": "stderr",
     "output_type": "stream",
     "text": [
      "5970it [21:30,  3.22s/it]"
     ]
    },
    {
     "name": "stdout",
     "output_type": "stream",
     "text": [
      "Failed on account: 911859182239920000\n",
      "[{'code': 34, 'message': 'Sorry, that page does not exist.'}]\n",
      "5970\n"
     ]
    },
    {
     "name": "stderr",
     "output_type": "stream",
     "text": [
      "5971it [21:36,  4.07s/it]"
     ]
    },
    {
     "name": "stdout",
     "output_type": "stream",
     "text": [
      "5971\n"
     ]
    },
    {
     "name": "stderr",
     "output_type": "stream",
     "text": [
      "5972it [21:41,  4.36s/it]"
     ]
    },
    {
     "name": "stdout",
     "output_type": "stream",
     "text": [
      "5972\n"
     ]
    },
    {
     "name": "stderr",
     "output_type": "stream",
     "text": [
      "5973it [21:45,  4.25s/it]"
     ]
    },
    {
     "name": "stdout",
     "output_type": "stream",
     "text": [
      "5973\n"
     ]
    },
    {
     "name": "stderr",
     "output_type": "stream",
     "text": [
      "5974it [21:49,  4.20s/it]"
     ]
    },
    {
     "name": "stdout",
     "output_type": "stream",
     "text": [
      "5974\n"
     ]
    },
    {
     "name": "stderr",
     "output_type": "stream",
     "text": [
      "5975it [21:55,  4.81s/it]"
     ]
    },
    {
     "name": "stdout",
     "output_type": "stream",
     "text": [
      "5975\n"
     ]
    },
    {
     "name": "stderr",
     "output_type": "stream",
     "text": [
      "5976it [22:00,  4.78s/it]"
     ]
    },
    {
     "name": "stdout",
     "output_type": "stream",
     "text": [
      "5976\n"
     ]
    },
    {
     "name": "stderr",
     "output_type": "stream",
     "text": [
      "5977it [22:05,  4.88s/it]"
     ]
    },
    {
     "name": "stdout",
     "output_type": "stream",
     "text": [
      "5977\n"
     ]
    },
    {
     "name": "stderr",
     "output_type": "stream",
     "text": [
      "5978it [22:09,  4.56s/it]"
     ]
    },
    {
     "name": "stdout",
     "output_type": "stream",
     "text": [
      "5978\n"
     ]
    },
    {
     "name": "stderr",
     "output_type": "stream",
     "text": [
      "5979it [22:15,  5.00s/it]"
     ]
    },
    {
     "name": "stdout",
     "output_type": "stream",
     "text": [
      "5979\n"
     ]
    },
    {
     "name": "stderr",
     "output_type": "stream",
     "text": [
      "5980it [22:21,  5.41s/it]"
     ]
    },
    {
     "name": "stdout",
     "output_type": "stream",
     "text": [
      "5980\n"
     ]
    },
    {
     "name": "stderr",
     "output_type": "stream",
     "text": [
      "5981it [22:26,  5.15s/it]"
     ]
    },
    {
     "name": "stdout",
     "output_type": "stream",
     "text": [
      "5981\n"
     ]
    },
    {
     "name": "stderr",
     "output_type": "stream",
     "text": [
      "5982it [22:32,  5.44s/it]"
     ]
    },
    {
     "name": "stdout",
     "output_type": "stream",
     "text": [
      "5982\n"
     ]
    },
    {
     "name": "stderr",
     "output_type": "stream",
     "text": [
      "5983it [22:37,  5.37s/it]"
     ]
    },
    {
     "name": "stdout",
     "output_type": "stream",
     "text": [
      "5983\n"
     ]
    },
    {
     "name": "stderr",
     "output_type": "stream",
     "text": [
      "5984it [22:42,  5.26s/it]"
     ]
    },
    {
     "name": "stdout",
     "output_type": "stream",
     "text": [
      "5984\n"
     ]
    },
    {
     "name": "stderr",
     "output_type": "stream",
     "text": [
      "5985it [22:50,  6.20s/it]"
     ]
    },
    {
     "name": "stdout",
     "output_type": "stream",
     "text": [
      "5985\n"
     ]
    },
    {
     "name": "stderr",
     "output_type": "stream",
     "text": [
      "5986it [22:58,  6.66s/it]"
     ]
    },
    {
     "name": "stdout",
     "output_type": "stream",
     "text": [
      "5986\n"
     ]
    },
    {
     "name": "stderr",
     "output_type": "stream",
     "text": [
      "5987it [23:05,  6.69s/it]"
     ]
    },
    {
     "name": "stdout",
     "output_type": "stream",
     "text": [
      "5987\n"
     ]
    },
    {
     "name": "stderr",
     "output_type": "stream",
     "text": [
      "5988it [23:05,  4.77s/it]"
     ]
    },
    {
     "name": "stdout",
     "output_type": "stream",
     "text": [
      "Failed on account: 958064770019741568\n",
      "[{'code': 34, 'message': 'Sorry, that page does not exist.'}]\n",
      "5988\n"
     ]
    },
    {
     "name": "stderr",
     "output_type": "stream",
     "text": [
      "5989it [23:11,  5.02s/it]"
     ]
    },
    {
     "name": "stdout",
     "output_type": "stream",
     "text": [
      "5989\n"
     ]
    },
    {
     "name": "stderr",
     "output_type": "stream",
     "text": [
      "5990it [23:15,  4.68s/it]"
     ]
    },
    {
     "name": "stdout",
     "output_type": "stream",
     "text": [
      "5990\n"
     ]
    },
    {
     "name": "stderr",
     "output_type": "stream",
     "text": [
      "5991it [23:20,  4.93s/it]"
     ]
    },
    {
     "name": "stdout",
     "output_type": "stream",
     "text": [
      "5991\n"
     ]
    },
    {
     "name": "stderr",
     "output_type": "stream",
     "text": [
      "5992it [23:24,  4.72s/it]"
     ]
    },
    {
     "name": "stdout",
     "output_type": "stream",
     "text": [
      "5992\n"
     ]
    },
    {
     "name": "stderr",
     "output_type": "stream",
     "text": [
      "5993it [23:30,  4.93s/it]"
     ]
    },
    {
     "name": "stdout",
     "output_type": "stream",
     "text": [
      "5993\n"
     ]
    },
    {
     "name": "stderr",
     "output_type": "stream",
     "text": [
      "5994it [23:35,  4.89s/it]"
     ]
    },
    {
     "name": "stdout",
     "output_type": "stream",
     "text": [
      "5994\n"
     ]
    },
    {
     "name": "stderr",
     "output_type": "stream",
     "text": [
      "5995it [23:39,  4.74s/it]"
     ]
    },
    {
     "name": "stdout",
     "output_type": "stream",
     "text": [
      "5995\n"
     ]
    },
    {
     "name": "stderr",
     "output_type": "stream",
     "text": [
      "5996it [23:44,  4.78s/it]"
     ]
    },
    {
     "name": "stdout",
     "output_type": "stream",
     "text": [
      "5996\n"
     ]
    },
    {
     "name": "stderr",
     "output_type": "stream",
     "text": [
      "5997it [23:50,  5.09s/it]"
     ]
    },
    {
     "name": "stdout",
     "output_type": "stream",
     "text": [
      "5997\n"
     ]
    },
    {
     "name": "stderr",
     "output_type": "stream",
     "text": [
      "5998it [23:55,  5.03s/it]"
     ]
    },
    {
     "name": "stdout",
     "output_type": "stream",
     "text": [
      "5998\n"
     ]
    },
    {
     "name": "stderr",
     "output_type": "stream",
     "text": [
      "5999it [23:55,  3.62s/it]"
     ]
    },
    {
     "name": "stdout",
     "output_type": "stream",
     "text": [
      "Failed on account: 884723151401340928\n",
      "[{'code': 34, 'message': 'Sorry, that page does not exist.'}]\n",
      "5999\n"
     ]
    },
    {
     "name": "stderr",
     "output_type": "stream",
     "text": [
      "6000it [24:00,  4.15s/it]"
     ]
    },
    {
     "name": "stdout",
     "output_type": "stream",
     "text": [
      "6000\n"
     ]
    },
    {
     "name": "stderr",
     "output_type": "stream",
     "text": [
      "6001it [24:05,  4.20s/it]"
     ]
    },
    {
     "name": "stdout",
     "output_type": "stream",
     "text": [
      "6001\n"
     ]
    },
    {
     "name": "stderr",
     "output_type": "stream",
     "text": [
      "6002it [24:11,  4.91s/it]"
     ]
    },
    {
     "name": "stdout",
     "output_type": "stream",
     "text": [
      "6002\n"
     ]
    },
    {
     "name": "stderr",
     "output_type": "stream",
     "text": [
      "6003it [24:16,  4.75s/it]"
     ]
    },
    {
     "name": "stdout",
     "output_type": "stream",
     "text": [
      "6003\n"
     ]
    },
    {
     "name": "stderr",
     "output_type": "stream",
     "text": [
      "6004it [24:20,  4.73s/it]"
     ]
    },
    {
     "name": "stdout",
     "output_type": "stream",
     "text": [
      "6004\n"
     ]
    },
    {
     "name": "stderr",
     "output_type": "stream",
     "text": [
      "6005it [24:27,  5.43s/it]"
     ]
    },
    {
     "name": "stdout",
     "output_type": "stream",
     "text": [
      "6005\n"
     ]
    },
    {
     "name": "stderr",
     "output_type": "stream",
     "text": [
      "6006it [24:32,  5.21s/it]"
     ]
    },
    {
     "name": "stdout",
     "output_type": "stream",
     "text": [
      "6006\n"
     ]
    },
    {
     "name": "stderr",
     "output_type": "stream",
     "text": [
      "6007it [24:39,  5.69s/it]"
     ]
    },
    {
     "name": "stdout",
     "output_type": "stream",
     "text": [
      "6007\n"
     ]
    },
    {
     "name": "stderr",
     "output_type": "stream",
     "text": [
      "6008it [24:45,  5.84s/it]"
     ]
    },
    {
     "name": "stdout",
     "output_type": "stream",
     "text": [
      "6008\n"
     ]
    },
    {
     "name": "stderr",
     "output_type": "stream",
     "text": [
      "6009it [24:52,  6.15s/it]"
     ]
    },
    {
     "name": "stdout",
     "output_type": "stream",
     "text": [
      "6009\n"
     ]
    },
    {
     "name": "stderr",
     "output_type": "stream",
     "text": [
      "6010it [24:52,  4.37s/it]"
     ]
    },
    {
     "name": "stdout",
     "output_type": "stream",
     "text": [
      "Failed on account: 748527135808073728\n",
      "[{'code': 34, 'message': 'Sorry, that page does not exist.'}]\n",
      "6010\n"
     ]
    },
    {
     "name": "stderr",
     "output_type": "stream",
     "text": [
      "6011it [25:03,  6.48s/it]"
     ]
    },
    {
     "name": "stdout",
     "output_type": "stream",
     "text": [
      "6011\n"
     ]
    },
    {
     "name": "stderr",
     "output_type": "stream",
     "text": [
      "6012it [25:10,  6.53s/it]"
     ]
    },
    {
     "name": "stdout",
     "output_type": "stream",
     "text": [
      "6012\n"
     ]
    },
    {
     "name": "stderr",
     "output_type": "stream",
     "text": [
      "6013it [25:14,  5.84s/it]"
     ]
    },
    {
     "name": "stdout",
     "output_type": "stream",
     "text": [
      "6013\n"
     ]
    },
    {
     "name": "stderr",
     "output_type": "stream",
     "text": [
      "6014it [25:20,  5.77s/it]"
     ]
    },
    {
     "name": "stdout",
     "output_type": "stream",
     "text": [
      "6014\n"
     ]
    },
    {
     "name": "stderr",
     "output_type": "stream",
     "text": [
      "6015it [25:27,  6.04s/it]"
     ]
    },
    {
     "name": "stdout",
     "output_type": "stream",
     "text": [
      "6015\n"
     ]
    },
    {
     "name": "stderr",
     "output_type": "stream",
     "text": [
      "6016it [25:33,  6.10s/it]"
     ]
    },
    {
     "name": "stdout",
     "output_type": "stream",
     "text": [
      "6016\n"
     ]
    },
    {
     "name": "stderr",
     "output_type": "stream",
     "text": [
      "6017it [25:39,  6.05s/it]"
     ]
    },
    {
     "name": "stdout",
     "output_type": "stream",
     "text": [
      "6017\n"
     ]
    },
    {
     "name": "stderr",
     "output_type": "stream",
     "text": [
      "6018it [25:44,  5.80s/it]"
     ]
    },
    {
     "name": "stdout",
     "output_type": "stream",
     "text": [
      "6018\n"
     ]
    },
    {
     "name": "stderr",
     "output_type": "stream",
     "text": [
      "6019it [25:48,  5.29s/it]"
     ]
    },
    {
     "name": "stdout",
     "output_type": "stream",
     "text": [
      "6019\n"
     ]
    },
    {
     "name": "stderr",
     "output_type": "stream",
     "text": [
      "6020it [25:54,  5.56s/it]"
     ]
    },
    {
     "name": "stdout",
     "output_type": "stream",
     "text": [
      "6020\n"
     ]
    },
    {
     "name": "stderr",
     "output_type": "stream",
     "text": [
      "6021it [25:58,  5.02s/it]"
     ]
    },
    {
     "name": "stdout",
     "output_type": "stream",
     "text": [
      "6021\n"
     ]
    },
    {
     "name": "stderr",
     "output_type": "stream",
     "text": [
      "6022it [25:58,  3.60s/it]"
     ]
    },
    {
     "name": "stdout",
     "output_type": "stream",
     "text": [
      "Failed on account: 911351243334754432\n",
      "[{'code': 34, 'message': 'Sorry, that page does not exist.'}]\n",
      "6022\n"
     ]
    },
    {
     "name": "stderr",
     "output_type": "stream",
     "text": [
      "6023it [25:59,  2.67s/it]"
     ]
    },
    {
     "name": "stdout",
     "output_type": "stream",
     "text": [
      "Failed on account: 824629442781806592\n",
      "[{'code': 34, 'message': 'Sorry, that page does not exist.'}]\n",
      "6023\n"
     ]
    },
    {
     "name": "stderr",
     "output_type": "stream",
     "text": [
      "6024it [26:03,  3.22s/it]"
     ]
    },
    {
     "name": "stdout",
     "output_type": "stream",
     "text": [
      "6024\n"
     ]
    },
    {
     "name": "stderr",
     "output_type": "stream",
     "text": [
      "6025it [26:08,  3.77s/it]"
     ]
    },
    {
     "name": "stdout",
     "output_type": "stream",
     "text": [
      "6025\n"
     ]
    },
    {
     "name": "stderr",
     "output_type": "stream",
     "text": [
      "6026it [26:14,  4.25s/it]"
     ]
    },
    {
     "name": "stdout",
     "output_type": "stream",
     "text": [
      "6026\n"
     ]
    },
    {
     "name": "stderr",
     "output_type": "stream",
     "text": [
      "6027it [26:18,  4.12s/it]"
     ]
    },
    {
     "name": "stdout",
     "output_type": "stream",
     "text": [
      "6027\n"
     ]
    },
    {
     "name": "stderr",
     "output_type": "stream",
     "text": [
      "6028it [26:21,  3.96s/it]"
     ]
    },
    {
     "name": "stdout",
     "output_type": "stream",
     "text": [
      "6028\n"
     ]
    },
    {
     "name": "stderr",
     "output_type": "stream",
     "text": [
      "6029it [26:27,  4.62s/it]"
     ]
    },
    {
     "name": "stdout",
     "output_type": "stream",
     "text": [
      "6029\n"
     ]
    },
    {
     "name": "stderr",
     "output_type": "stream",
     "text": [
      "6030it [26:34,  5.11s/it]"
     ]
    },
    {
     "name": "stdout",
     "output_type": "stream",
     "text": [
      "6030\n"
     ]
    },
    {
     "name": "stderr",
     "output_type": "stream",
     "text": [
      "6031it [26:39,  5.08s/it]"
     ]
    },
    {
     "name": "stdout",
     "output_type": "stream",
     "text": [
      "6031\n"
     ]
    },
    {
     "name": "stderr",
     "output_type": "stream",
     "text": [
      "6032it [26:45,  5.37s/it]"
     ]
    },
    {
     "name": "stdout",
     "output_type": "stream",
     "text": [
      "6032\n"
     ]
    },
    {
     "name": "stderr",
     "output_type": "stream",
     "text": [
      "6033it [26:48,  4.86s/it]"
     ]
    },
    {
     "name": "stdout",
     "output_type": "stream",
     "text": [
      "6033\n"
     ]
    },
    {
     "name": "stderr",
     "output_type": "stream",
     "text": [
      "6034it [26:52,  4.54s/it]"
     ]
    },
    {
     "name": "stdout",
     "output_type": "stream",
     "text": [
      "6034\n"
     ]
    },
    {
     "name": "stderr",
     "output_type": "stream",
     "text": [
      "6035it [26:52,  3.27s/it]"
     ]
    },
    {
     "name": "stdout",
     "output_type": "stream",
     "text": [
      "Failed on account: 889367991472635904\n",
      "[{'code': 34, 'message': 'Sorry, that page does not exist.'}]\n",
      "6035\n"
     ]
    },
    {
     "name": "stderr",
     "output_type": "stream",
     "text": [
      "6036it [26:57,  3.73s/it]"
     ]
    },
    {
     "name": "stdout",
     "output_type": "stream",
     "text": [
      "6036\n"
     ]
    },
    {
     "name": "stderr",
     "output_type": "stream",
     "text": [
      "6037it [27:04,  4.64s/it]"
     ]
    },
    {
     "name": "stdout",
     "output_type": "stream",
     "text": [
      "6037\n"
     ]
    },
    {
     "name": "stderr",
     "output_type": "stream",
     "text": [
      "6038it [27:09,  4.87s/it]"
     ]
    },
    {
     "name": "stdout",
     "output_type": "stream",
     "text": [
      "6038\n"
     ]
    },
    {
     "name": "stderr",
     "output_type": "stream",
     "text": [
      "6039it [27:14,  4.83s/it]"
     ]
    },
    {
     "name": "stdout",
     "output_type": "stream",
     "text": [
      "6039\n"
     ]
    },
    {
     "name": "stderr",
     "output_type": "stream",
     "text": [
      "6040it [27:19,  4.69s/it]"
     ]
    },
    {
     "name": "stdout",
     "output_type": "stream",
     "text": [
      "6040\n"
     ]
    },
    {
     "name": "stderr",
     "output_type": "stream",
     "text": [
      "6041it [27:23,  4.62s/it]"
     ]
    },
    {
     "name": "stdout",
     "output_type": "stream",
     "text": [
      "6041\n"
     ]
    },
    {
     "name": "stderr",
     "output_type": "stream",
     "text": [
      "6042it [27:28,  4.76s/it]"
     ]
    },
    {
     "name": "stdout",
     "output_type": "stream",
     "text": [
      "6042\n"
     ]
    },
    {
     "name": "stderr",
     "output_type": "stream",
     "text": [
      "6043it [27:33,  4.84s/it]"
     ]
    },
    {
     "name": "stdout",
     "output_type": "stream",
     "text": [
      "6043\n"
     ]
    },
    {
     "name": "stderr",
     "output_type": "stream",
     "text": [
      "6044it [27:39,  5.29s/it]"
     ]
    },
    {
     "name": "stdout",
     "output_type": "stream",
     "text": [
      "6044\n"
     ]
    },
    {
     "name": "stderr",
     "output_type": "stream",
     "text": [
      "6045it [27:40,  3.79s/it]"
     ]
    },
    {
     "name": "stdout",
     "output_type": "stream",
     "text": [
      "Failed on account: 885896650165633024\n",
      "[{'code': 34, 'message': 'Sorry, that page does not exist.'}]\n",
      "6045\n"
     ]
    },
    {
     "name": "stderr",
     "output_type": "stream",
     "text": [
      "6046it [27:44,  3.80s/it]"
     ]
    },
    {
     "name": "stdout",
     "output_type": "stream",
     "text": [
      "6046\n"
     ]
    },
    {
     "name": "stderr",
     "output_type": "stream",
     "text": [
      "6047it [27:44,  2.75s/it]"
     ]
    },
    {
     "name": "stdout",
     "output_type": "stream",
     "text": [
      "Failed on account: 1395839550\n",
      "Not authorized.\n",
      "6047\n"
     ]
    },
    {
     "name": "stderr",
     "output_type": "stream",
     "text": [
      "6048it [27:49,  3.55s/it]"
     ]
    },
    {
     "name": "stdout",
     "output_type": "stream",
     "text": [
      "6048\n"
     ]
    },
    {
     "name": "stderr",
     "output_type": "stream",
     "text": [
      "6049it [27:54,  3.94s/it]"
     ]
    },
    {
     "name": "stdout",
     "output_type": "stream",
     "text": [
      "6049\n"
     ]
    },
    {
     "name": "stderr",
     "output_type": "stream",
     "text": [
      "6050it [27:55,  2.90s/it]"
     ]
    },
    {
     "name": "stdout",
     "output_type": "stream",
     "text": [
      "Failed on account: 908303946921468032\n",
      "[{'code': 34, 'message': 'Sorry, that page does not exist.'}]\n",
      "6050\n"
     ]
    },
    {
     "name": "stderr",
     "output_type": "stream",
     "text": [
      "6051it [28:00,  3.72s/it]"
     ]
    },
    {
     "name": "stdout",
     "output_type": "stream",
     "text": [
      "6051\n"
     ]
    },
    {
     "name": "stderr",
     "output_type": "stream",
     "text": [
      "6052it [28:06,  4.36s/it]"
     ]
    },
    {
     "name": "stdout",
     "output_type": "stream",
     "text": [
      "6052\n"
     ]
    },
    {
     "name": "stderr",
     "output_type": "stream",
     "text": [
      "6053it [28:10,  4.28s/it]"
     ]
    },
    {
     "name": "stdout",
     "output_type": "stream",
     "text": [
      "6053\n"
     ]
    },
    {
     "name": "stderr",
     "output_type": "stream",
     "text": [
      "6054it [28:15,  4.38s/it]"
     ]
    },
    {
     "name": "stdout",
     "output_type": "stream",
     "text": [
      "6054\n"
     ]
    },
    {
     "name": "stderr",
     "output_type": "stream",
     "text": [
      "6055it [28:23,  5.52s/it]"
     ]
    },
    {
     "name": "stdout",
     "output_type": "stream",
     "text": [
      "6055\n"
     ]
    },
    {
     "name": "stderr",
     "output_type": "stream",
     "text": [
      "6056it [28:30,  5.95s/it]"
     ]
    },
    {
     "name": "stdout",
     "output_type": "stream",
     "text": [
      "6056\n"
     ]
    },
    {
     "name": "stderr",
     "output_type": "stream",
     "text": [
      "6057it [28:34,  5.33s/it]"
     ]
    },
    {
     "name": "stdout",
     "output_type": "stream",
     "text": [
      "6057\n"
     ]
    },
    {
     "name": "stderr",
     "output_type": "stream",
     "text": [
      "6058it [28:34,  3.83s/it]"
     ]
    },
    {
     "name": "stdout",
     "output_type": "stream",
     "text": [
      "Failed on account: 834953847818825728\n",
      "[{'code': 34, 'message': 'Sorry, that page does not exist.'}]\n",
      "6058\n"
     ]
    },
    {
     "name": "stderr",
     "output_type": "stream",
     "text": [
      "6059it [28:39,  4.23s/it]"
     ]
    },
    {
     "name": "stdout",
     "output_type": "stream",
     "text": [
      "6059\n"
     ]
    },
    {
     "name": "stderr",
     "output_type": "stream",
     "text": [
      "6060it [28:40,  3.06s/it]"
     ]
    },
    {
     "name": "stdout",
     "output_type": "stream",
     "text": [
      "Failed on account: 926603843001028608\n",
      "[{'code': 34, 'message': 'Sorry, that page does not exist.'}]\n",
      "6060\n"
     ]
    },
    {
     "name": "stderr",
     "output_type": "stream",
     "text": [
      "6061it [28:44,  3.50s/it]"
     ]
    },
    {
     "name": "stdout",
     "output_type": "stream",
     "text": [
      "6061\n"
     ]
    },
    {
     "name": "stderr",
     "output_type": "stream",
     "text": [
      "6062it [28:49,  4.02s/it]"
     ]
    },
    {
     "name": "stdout",
     "output_type": "stream",
     "text": [
      "6062\n"
     ]
    },
    {
     "name": "stderr",
     "output_type": "stream",
     "text": [
      "6063it [28:55,  4.51s/it]"
     ]
    },
    {
     "name": "stdout",
     "output_type": "stream",
     "text": [
      "6063\n"
     ]
    },
    {
     "name": "stderr",
     "output_type": "stream",
     "text": [
      "6064it [28:59,  4.36s/it]"
     ]
    },
    {
     "name": "stdout",
     "output_type": "stream",
     "text": [
      "6064\n"
     ]
    },
    {
     "name": "stderr",
     "output_type": "stream",
     "text": [
      "6065it [28:59,  3.19s/it]"
     ]
    },
    {
     "name": "stdout",
     "output_type": "stream",
     "text": [
      "Failed on account: 805862640782217216\n",
      "[{'code': 34, 'message': 'Sorry, that page does not exist.'}]\n",
      "6065\n"
     ]
    },
    {
     "name": "stderr",
     "output_type": "stream",
     "text": [
      "6066it [29:04,  3.50s/it]"
     ]
    },
    {
     "name": "stdout",
     "output_type": "stream",
     "text": [
      "6066\n"
     ]
    },
    {
     "name": "stderr",
     "output_type": "stream",
     "text": [
      "6067it [29:08,  3.83s/it]"
     ]
    },
    {
     "name": "stdout",
     "output_type": "stream",
     "text": [
      "6067\n"
     ]
    },
    {
     "name": "stderr",
     "output_type": "stream",
     "text": [
      "6068it [29:15,  4.59s/it]"
     ]
    },
    {
     "name": "stdout",
     "output_type": "stream",
     "text": [
      "6068\n"
     ]
    },
    {
     "name": "stderr",
     "output_type": "stream",
     "text": [
      "6069it [29:19,  4.62s/it]"
     ]
    },
    {
     "name": "stdout",
     "output_type": "stream",
     "text": [
      "6069\n"
     ]
    },
    {
     "name": "stderr",
     "output_type": "stream",
     "text": [
      "6070it [29:25,  5.02s/it]"
     ]
    },
    {
     "name": "stdout",
     "output_type": "stream",
     "text": [
      "6070\n"
     ]
    },
    {
     "name": "stderr",
     "output_type": "stream",
     "text": [
      "6071it [29:31,  5.29s/it]"
     ]
    },
    {
     "name": "stdout",
     "output_type": "stream",
     "text": [
      "6071\n"
     ]
    },
    {
     "name": "stderr",
     "output_type": "stream",
     "text": [
      "6072it [29:36,  5.12s/it]"
     ]
    },
    {
     "name": "stdout",
     "output_type": "stream",
     "text": [
      "6072\n"
     ]
    },
    {
     "name": "stderr",
     "output_type": "stream",
     "text": [
      "6073it [29:41,  5.12s/it]"
     ]
    },
    {
     "name": "stdout",
     "output_type": "stream",
     "text": [
      "6073\n"
     ]
    },
    {
     "name": "stderr",
     "output_type": "stream",
     "text": [
      "6074it [29:46,  5.08s/it]"
     ]
    },
    {
     "name": "stdout",
     "output_type": "stream",
     "text": [
      "6074\n"
     ]
    },
    {
     "name": "stderr",
     "output_type": "stream",
     "text": [
      "6075it [29:50,  4.69s/it]"
     ]
    },
    {
     "name": "stdout",
     "output_type": "stream",
     "text": [
      "6075\n"
     ]
    },
    {
     "name": "stderr",
     "output_type": "stream",
     "text": [
      "6076it [29:54,  4.58s/it]"
     ]
    },
    {
     "name": "stdout",
     "output_type": "stream",
     "text": [
      "6076\n"
     ]
    },
    {
     "name": "stderr",
     "output_type": "stream",
     "text": [
      "6077it [30:01,  5.35s/it]"
     ]
    },
    {
     "name": "stdout",
     "output_type": "stream",
     "text": [
      "6077\n"
     ]
    },
    {
     "name": "stderr",
     "output_type": "stream",
     "text": [
      "6078it [30:07,  5.48s/it]"
     ]
    },
    {
     "name": "stdout",
     "output_type": "stream",
     "text": [
      "6078\n"
     ]
    },
    {
     "name": "stderr",
     "output_type": "stream",
     "text": [
      "6079it [30:13,  5.67s/it]"
     ]
    },
    {
     "name": "stdout",
     "output_type": "stream",
     "text": [
      "6079\n"
     ]
    },
    {
     "name": "stderr",
     "output_type": "stream",
     "text": [
      "6080it [30:19,  5.79s/it]"
     ]
    },
    {
     "name": "stdout",
     "output_type": "stream",
     "text": [
      "6080\n"
     ]
    },
    {
     "name": "stderr",
     "output_type": "stream",
     "text": [
      "6081it [30:24,  5.53s/it]"
     ]
    },
    {
     "name": "stdout",
     "output_type": "stream",
     "text": [
      "6081\n"
     ]
    },
    {
     "name": "stderr",
     "output_type": "stream",
     "text": [
      "6082it [30:30,  5.59s/it]"
     ]
    },
    {
     "name": "stdout",
     "output_type": "stream",
     "text": [
      "6082\n"
     ]
    },
    {
     "name": "stderr",
     "output_type": "stream",
     "text": [
      "6083it [30:38,  6.43s/it]"
     ]
    },
    {
     "name": "stdout",
     "output_type": "stream",
     "text": [
      "6083\n"
     ]
    },
    {
     "name": "stderr",
     "output_type": "stream",
     "text": [
      "6084it [30:45,  6.48s/it]"
     ]
    },
    {
     "name": "stdout",
     "output_type": "stream",
     "text": [
      "6084\n"
     ]
    },
    {
     "name": "stderr",
     "output_type": "stream",
     "text": [
      "6085it [30:48,  5.60s/it]"
     ]
    },
    {
     "name": "stdout",
     "output_type": "stream",
     "text": [
      "6085\n"
     ]
    },
    {
     "name": "stderr",
     "output_type": "stream",
     "text": [
      "6086it [30:49,  3.99s/it]"
     ]
    },
    {
     "name": "stdout",
     "output_type": "stream",
     "text": [
      "Failed on account: 929021986067701760\n",
      "[{'code': 34, 'message': 'Sorry, that page does not exist.'}]\n",
      "6086\n"
     ]
    },
    {
     "name": "stderr",
     "output_type": "stream",
     "text": [
      "6087it [30:54,  4.38s/it]"
     ]
    },
    {
     "name": "stdout",
     "output_type": "stream",
     "text": [
      "6087\n"
     ]
    },
    {
     "name": "stderr",
     "output_type": "stream",
     "text": [
      "6088it [31:00,  4.79s/it]"
     ]
    },
    {
     "name": "stdout",
     "output_type": "stream",
     "text": [
      "6088\n"
     ]
    },
    {
     "name": "stderr",
     "output_type": "stream",
     "text": [
      "6089it [31:04,  4.64s/it]"
     ]
    },
    {
     "name": "stdout",
     "output_type": "stream",
     "text": [
      "6089\n"
     ]
    },
    {
     "name": "stderr",
     "output_type": "stream",
     "text": [
      "6090it [31:11,  5.26s/it]"
     ]
    },
    {
     "name": "stdout",
     "output_type": "stream",
     "text": [
      "6090\n"
     ]
    },
    {
     "name": "stderr",
     "output_type": "stream",
     "text": [
      "6091it [31:16,  5.30s/it]"
     ]
    },
    {
     "name": "stdout",
     "output_type": "stream",
     "text": [
      "6091\n"
     ]
    },
    {
     "name": "stderr",
     "output_type": "stream",
     "text": [
      "6092it [31:16,  3.80s/it]"
     ]
    },
    {
     "name": "stdout",
     "output_type": "stream",
     "text": [
      "Failed on account: 822561911682297856\n",
      "[{'code': 34, 'message': 'Sorry, that page does not exist.'}]\n",
      "6092\n"
     ]
    },
    {
     "name": "stderr",
     "output_type": "stream",
     "text": [
      "6093it [31:21,  3.92s/it]"
     ]
    },
    {
     "name": "stdout",
     "output_type": "stream",
     "text": [
      "6093\n"
     ]
    },
    {
     "name": "stderr",
     "output_type": "stream",
     "text": [
      "6094it [31:25,  4.03s/it]"
     ]
    },
    {
     "name": "stdout",
     "output_type": "stream",
     "text": [
      "6094\n"
     ]
    },
    {
     "name": "stderr",
     "output_type": "stream",
     "text": [
      "6095it [31:25,  2.90s/it]"
     ]
    },
    {
     "name": "stdout",
     "output_type": "stream",
     "text": [
      "Failed on account: 923264850343661568\n",
      "[{'code': 34, 'message': 'Sorry, that page does not exist.'}]\n",
      "6095\n"
     ]
    },
    {
     "name": "stderr",
     "output_type": "stream",
     "text": [
      "6096it [31:29,  3.10s/it]"
     ]
    },
    {
     "name": "stdout",
     "output_type": "stream",
     "text": [
      "6096\n"
     ]
    },
    {
     "name": "stderr",
     "output_type": "stream",
     "text": [
      "6097it [31:34,  3.82s/it]"
     ]
    },
    {
     "name": "stdout",
     "output_type": "stream",
     "text": [
      "6097\n"
     ]
    },
    {
     "name": "stderr",
     "output_type": "stream",
     "text": [
      "6098it [31:38,  3.93s/it]"
     ]
    },
    {
     "name": "stdout",
     "output_type": "stream",
     "text": [
      "6098\n"
     ]
    },
    {
     "name": "stderr",
     "output_type": "stream",
     "text": [
      "6099it [31:43,  4.22s/it]"
     ]
    },
    {
     "name": "stdout",
     "output_type": "stream",
     "text": [
      "6099\n"
     ]
    },
    {
     "name": "stderr",
     "output_type": "stream",
     "text": [
      "6100it [31:49,  4.66s/it]"
     ]
    },
    {
     "name": "stdout",
     "output_type": "stream",
     "text": [
      "6100\n"
     ]
    },
    {
     "name": "stderr",
     "output_type": "stream",
     "text": [
      "6101it [31:58,  6.02s/it]"
     ]
    },
    {
     "name": "stdout",
     "output_type": "stream",
     "text": [
      "6101\n"
     ]
    },
    {
     "name": "stderr",
     "output_type": "stream",
     "text": [
      "6102it [32:05,  6.30s/it]"
     ]
    },
    {
     "name": "stdout",
     "output_type": "stream",
     "text": [
      "6102\n"
     ]
    },
    {
     "name": "stderr",
     "output_type": "stream",
     "text": [
      "6103it [32:10,  5.92s/it]"
     ]
    },
    {
     "name": "stdout",
     "output_type": "stream",
     "text": [
      "6103\n"
     ]
    },
    {
     "name": "stderr",
     "output_type": "stream",
     "text": [
      "6104it [32:17,  6.26s/it]"
     ]
    },
    {
     "name": "stdout",
     "output_type": "stream",
     "text": [
      "6104\n"
     ]
    },
    {
     "name": "stderr",
     "output_type": "stream",
     "text": [
      "6105it [32:27,  7.36s/it]"
     ]
    },
    {
     "name": "stdout",
     "output_type": "stream",
     "text": [
      "6105\n"
     ]
    },
    {
     "name": "stderr",
     "output_type": "stream",
     "text": [
      "6106it [32:39,  8.69s/it]"
     ]
    },
    {
     "name": "stdout",
     "output_type": "stream",
     "text": [
      "6106\n"
     ]
    },
    {
     "name": "stderr",
     "output_type": "stream",
     "text": [
      "6107it [32:43,  7.41s/it]"
     ]
    },
    {
     "name": "stdout",
     "output_type": "stream",
     "text": [
      "6107\n"
     ]
    },
    {
     "name": "stderr",
     "output_type": "stream",
     "text": [
      "6108it [32:48,  6.59s/it]"
     ]
    },
    {
     "name": "stdout",
     "output_type": "stream",
     "text": [
      "6108\n"
     ]
    },
    {
     "name": "stderr",
     "output_type": "stream",
     "text": [
      "6109it [32:54,  6.49s/it]"
     ]
    },
    {
     "name": "stdout",
     "output_type": "stream",
     "text": [
      "6109\n"
     ]
    },
    {
     "name": "stderr",
     "output_type": "stream",
     "text": [
      "6110it [32:59,  5.80s/it]"
     ]
    },
    {
     "name": "stdout",
     "output_type": "stream",
     "text": [
      "6110\n"
     ]
    },
    {
     "name": "stderr",
     "output_type": "stream",
     "text": [
      "6111it [33:06,  6.33s/it]"
     ]
    },
    {
     "name": "stdout",
     "output_type": "stream",
     "text": [
      "6111\n"
     ]
    },
    {
     "name": "stderr",
     "output_type": "stream",
     "text": [
      "6112it [33:06,  4.52s/it]"
     ]
    },
    {
     "name": "stdout",
     "output_type": "stream",
     "text": [
      "Failed on account: 705890784319377408\n",
      "[{'code': 34, 'message': 'Sorry, that page does not exist.'}]\n",
      "6112\n"
     ]
    },
    {
     "name": "stderr",
     "output_type": "stream",
     "text": [
      "6113it [33:10,  4.36s/it]"
     ]
    },
    {
     "name": "stdout",
     "output_type": "stream",
     "text": [
      "6113\n"
     ]
    },
    {
     "name": "stderr",
     "output_type": "stream",
     "text": [
      "6114it [33:15,  4.39s/it]"
     ]
    },
    {
     "name": "stdout",
     "output_type": "stream",
     "text": [
      "6114\n"
     ]
    },
    {
     "name": "stderr",
     "output_type": "stream",
     "text": [
      "6115it [33:18,  4.06s/it]"
     ]
    },
    {
     "name": "stdout",
     "output_type": "stream",
     "text": [
      "6115\n"
     ]
    },
    {
     "name": "stderr",
     "output_type": "stream",
     "text": [
      "6116it [33:18,  2.91s/it]"
     ]
    },
    {
     "name": "stdout",
     "output_type": "stream",
     "text": [
      "Failed on account: 817240166511349760\n",
      "[{'code': 34, 'message': 'Sorry, that page does not exist.'}]\n",
      "6116\n"
     ]
    },
    {
     "name": "stderr",
     "output_type": "stream",
     "text": [
      "6117it [33:21,  2.97s/it]"
     ]
    },
    {
     "name": "stdout",
     "output_type": "stream",
     "text": [
      "6117\n"
     ]
    },
    {
     "name": "stderr",
     "output_type": "stream",
     "text": [
      "6118it [33:26,  3.55s/it]"
     ]
    },
    {
     "name": "stdout",
     "output_type": "stream",
     "text": [
      "6118\n"
     ]
    },
    {
     "name": "stderr",
     "output_type": "stream",
     "text": [
      "6119it [33:32,  4.19s/it]"
     ]
    },
    {
     "name": "stdout",
     "output_type": "stream",
     "text": [
      "6119\n"
     ]
    },
    {
     "name": "stderr",
     "output_type": "stream",
     "text": [
      "6120it [33:37,  4.43s/it]"
     ]
    },
    {
     "name": "stdout",
     "output_type": "stream",
     "text": [
      "6120\n"
     ]
    },
    {
     "name": "stderr",
     "output_type": "stream",
     "text": [
      "6121it [33:42,  4.68s/it]"
     ]
    },
    {
     "name": "stdout",
     "output_type": "stream",
     "text": [
      "6121\n"
     ]
    },
    {
     "name": "stderr",
     "output_type": "stream",
     "text": [
      "6122it [33:43,  3.40s/it]"
     ]
    },
    {
     "name": "stdout",
     "output_type": "stream",
     "text": [
      "Failed on account: 825074418011471872\n",
      "[{'code': 34, 'message': 'Sorry, that page does not exist.'}]\n",
      "6122\n"
     ]
    },
    {
     "name": "stderr",
     "output_type": "stream",
     "text": [
      "6123it [33:48,  3.84s/it]"
     ]
    },
    {
     "name": "stdout",
     "output_type": "stream",
     "text": [
      "6123\n"
     ]
    },
    {
     "name": "stderr",
     "output_type": "stream",
     "text": [
      "6124it [33:51,  3.85s/it]"
     ]
    },
    {
     "name": "stdout",
     "output_type": "stream",
     "text": [
      "6124\n"
     ]
    },
    {
     "name": "stderr",
     "output_type": "stream",
     "text": [
      "6125it [33:55,  3.77s/it]"
     ]
    },
    {
     "name": "stdout",
     "output_type": "stream",
     "text": [
      "6125\n"
     ]
    },
    {
     "name": "stderr",
     "output_type": "stream",
     "text": [
      "6126it [34:00,  4.08s/it]"
     ]
    },
    {
     "name": "stdout",
     "output_type": "stream",
     "text": [
      "6126\n"
     ]
    },
    {
     "name": "stderr",
     "output_type": "stream",
     "text": [
      "6127it [34:09,  5.49s/it]"
     ]
    },
    {
     "name": "stdout",
     "output_type": "stream",
     "text": [
      "6127\n"
     ]
    },
    {
     "name": "stderr",
     "output_type": "stream",
     "text": [
      "6128it [34:14,  5.38s/it]"
     ]
    },
    {
     "name": "stdout",
     "output_type": "stream",
     "text": [
      "6128\n"
     ]
    },
    {
     "name": "stderr",
     "output_type": "stream",
     "text": [
      "6129it [34:19,  5.24s/it]"
     ]
    },
    {
     "name": "stdout",
     "output_type": "stream",
     "text": [
      "6129\n"
     ]
    },
    {
     "name": "stderr",
     "output_type": "stream",
     "text": [
      "6130it [34:24,  5.18s/it]"
     ]
    },
    {
     "name": "stdout",
     "output_type": "stream",
     "text": [
      "6130\n"
     ]
    },
    {
     "name": "stderr",
     "output_type": "stream",
     "text": [
      "6131it [34:28,  4.98s/it]"
     ]
    },
    {
     "name": "stdout",
     "output_type": "stream",
     "text": [
      "6131\n"
     ]
    },
    {
     "name": "stderr",
     "output_type": "stream",
     "text": [
      "6132it [34:33,  4.80s/it]"
     ]
    },
    {
     "name": "stdout",
     "output_type": "stream",
     "text": [
      "6132\n"
     ]
    },
    {
     "name": "stderr",
     "output_type": "stream",
     "text": [
      "6133it [34:37,  4.79s/it]"
     ]
    },
    {
     "name": "stdout",
     "output_type": "stream",
     "text": [
      "6133\n"
     ]
    },
    {
     "name": "stderr",
     "output_type": "stream",
     "text": [
      "6134it [34:43,  5.01s/it]"
     ]
    },
    {
     "name": "stdout",
     "output_type": "stream",
     "text": [
      "6134\n"
     ]
    },
    {
     "name": "stderr",
     "output_type": "stream",
     "text": [
      "6135it [34:49,  5.34s/it]"
     ]
    },
    {
     "name": "stdout",
     "output_type": "stream",
     "text": [
      "6135\n"
     ]
    },
    {
     "name": "stderr",
     "output_type": "stream",
     "text": [
      "6136it [34:53,  5.00s/it]"
     ]
    },
    {
     "name": "stdout",
     "output_type": "stream",
     "text": [
      "6136\n"
     ]
    },
    {
     "name": "stderr",
     "output_type": "stream",
     "text": [
      "6137it [34:58,  4.93s/it]"
     ]
    },
    {
     "name": "stdout",
     "output_type": "stream",
     "text": [
      "6137\n"
     ]
    },
    {
     "name": "stderr",
     "output_type": "stream",
     "text": [
      "6138it [35:05,  5.58s/it]"
     ]
    },
    {
     "name": "stdout",
     "output_type": "stream",
     "text": [
      "6138\n"
     ]
    },
    {
     "name": "stderr",
     "output_type": "stream",
     "text": [
      "6139it [35:09,  5.12s/it]"
     ]
    },
    {
     "name": "stdout",
     "output_type": "stream",
     "text": [
      "6139\n"
     ]
    },
    {
     "name": "stderr",
     "output_type": "stream",
     "text": [
      "6140it [35:14,  5.04s/it]"
     ]
    },
    {
     "name": "stdout",
     "output_type": "stream",
     "text": [
      "6140\n"
     ]
    },
    {
     "name": "stderr",
     "output_type": "stream",
     "text": [
      "6141it [35:23,  6.36s/it]"
     ]
    },
    {
     "name": "stdout",
     "output_type": "stream",
     "text": [
      "6141\n"
     ]
    },
    {
     "name": "stderr",
     "output_type": "stream",
     "text": [
      "6142it [35:29,  6.08s/it]"
     ]
    },
    {
     "name": "stdout",
     "output_type": "stream",
     "text": [
      "6142\n"
     ]
    },
    {
     "name": "stderr",
     "output_type": "stream",
     "text": [
      "6143it [35:37,  6.74s/it]"
     ]
    },
    {
     "name": "stdout",
     "output_type": "stream",
     "text": [
      "6143\n"
     ]
    },
    {
     "name": "stderr",
     "output_type": "stream",
     "text": [
      "6144it [35:41,  5.83s/it]"
     ]
    },
    {
     "name": "stdout",
     "output_type": "stream",
     "text": [
      "6144\n"
     ]
    },
    {
     "name": "stderr",
     "output_type": "stream",
     "text": [
      "6145it [35:41,  4.17s/it]"
     ]
    },
    {
     "name": "stdout",
     "output_type": "stream",
     "text": [
      "Failed on account: 900831599822073984\n",
      "[{'code': 34, 'message': 'Sorry, that page does not exist.'}]\n",
      "6145\n"
     ]
    },
    {
     "name": "stderr",
     "output_type": "stream",
     "text": [
      "6146it [35:45,  4.22s/it]"
     ]
    },
    {
     "name": "stdout",
     "output_type": "stream",
     "text": [
      "6146\n"
     ]
    },
    {
     "name": "stderr",
     "output_type": "stream",
     "text": [
      "6147it [35:51,  4.63s/it]"
     ]
    },
    {
     "name": "stdout",
     "output_type": "stream",
     "text": [
      "6147\n"
     ]
    },
    {
     "name": "stderr",
     "output_type": "stream",
     "text": [
      "6148it [35:55,  4.44s/it]"
     ]
    },
    {
     "name": "stdout",
     "output_type": "stream",
     "text": [
      "6148\n"
     ]
    },
    {
     "name": "stderr",
     "output_type": "stream",
     "text": [
      "6149it [36:02,  5.14s/it]"
     ]
    },
    {
     "name": "stdout",
     "output_type": "stream",
     "text": [
      "6149\n"
     ]
    },
    {
     "name": "stderr",
     "output_type": "stream",
     "text": [
      "6150it [36:07,  5.29s/it]"
     ]
    },
    {
     "name": "stdout",
     "output_type": "stream",
     "text": [
      "6150\n"
     ]
    },
    {
     "name": "stderr",
     "output_type": "stream",
     "text": [
      "6151it [36:13,  5.25s/it]"
     ]
    },
    {
     "name": "stdout",
     "output_type": "stream",
     "text": [
      "6151\n"
     ]
    },
    {
     "name": "stderr",
     "output_type": "stream",
     "text": [
      "6152it [36:17,  4.95s/it]"
     ]
    },
    {
     "name": "stdout",
     "output_type": "stream",
     "text": [
      "6152\n"
     ]
    },
    {
     "name": "stderr",
     "output_type": "stream",
     "text": [
      "6153it [36:24,  5.52s/it]"
     ]
    },
    {
     "name": "stdout",
     "output_type": "stream",
     "text": [
      "6153\n"
     ]
    },
    {
     "name": "stderr",
     "output_type": "stream",
     "text": [
      "6154it [36:29,  5.43s/it]"
     ]
    },
    {
     "name": "stdout",
     "output_type": "stream",
     "text": [
      "6154\n"
     ]
    },
    {
     "name": "stderr",
     "output_type": "stream",
     "text": [
      "6155it [36:35,  5.77s/it]"
     ]
    },
    {
     "name": "stdout",
     "output_type": "stream",
     "text": [
      "6155\n"
     ]
    },
    {
     "name": "stderr",
     "output_type": "stream",
     "text": [
      "6156it [36:40,  5.30s/it]"
     ]
    },
    {
     "name": "stdout",
     "output_type": "stream",
     "text": [
      "6156\n"
     ]
    },
    {
     "name": "stderr",
     "output_type": "stream",
     "text": [
      "6157it [36:46,  5.55s/it]"
     ]
    },
    {
     "name": "stdout",
     "output_type": "stream",
     "text": [
      "6157\n"
     ]
    },
    {
     "name": "stderr",
     "output_type": "stream",
     "text": [
      "6158it [36:46,  4.01s/it]"
     ]
    },
    {
     "name": "stdout",
     "output_type": "stream",
     "text": [
      "Failed on account: 961050954090057600\n",
      "[{'code': 34, 'message': 'Sorry, that page does not exist.'}]\n",
      "6158\n"
     ]
    },
    {
     "name": "stderr",
     "output_type": "stream",
     "text": [
      "6159it [36:52,  4.55s/it]"
     ]
    },
    {
     "name": "stdout",
     "output_type": "stream",
     "text": [
      "6159\n"
     ]
    },
    {
     "name": "stderr",
     "output_type": "stream",
     "text": [
      "6160it [36:57,  4.76s/it]"
     ]
    },
    {
     "name": "stdout",
     "output_type": "stream",
     "text": [
      "6160\n"
     ]
    },
    {
     "name": "stderr",
     "output_type": "stream",
     "text": [
      "6161it [37:01,  4.59s/it]"
     ]
    },
    {
     "name": "stdout",
     "output_type": "stream",
     "text": [
      "6161\n"
     ]
    },
    {
     "name": "stderr",
     "output_type": "stream",
     "text": [
      "6162it [37:06,  4.53s/it]"
     ]
    },
    {
     "name": "stdout",
     "output_type": "stream",
     "text": [
      "6162\n"
     ]
    },
    {
     "name": "stderr",
     "output_type": "stream",
     "text": [
      "6163it [37:12,  5.05s/it]"
     ]
    },
    {
     "name": "stdout",
     "output_type": "stream",
     "text": [
      "6163\n"
     ]
    },
    {
     "name": "stderr",
     "output_type": "stream",
     "text": [
      "6164it [37:17,  5.10s/it]"
     ]
    },
    {
     "name": "stdout",
     "output_type": "stream",
     "text": [
      "6164\n"
     ]
    },
    {
     "name": "stderr",
     "output_type": "stream",
     "text": [
      "6165it [37:23,  5.20s/it]"
     ]
    },
    {
     "name": "stdout",
     "output_type": "stream",
     "text": [
      "6165\n"
     ]
    },
    {
     "name": "stderr",
     "output_type": "stream",
     "text": [
      "6166it [37:23,  3.71s/it]"
     ]
    },
    {
     "name": "stdout",
     "output_type": "stream",
     "text": [
      "Failed on account: 711973103258173440\n",
      "[{'code': 34, 'message': 'Sorry, that page does not exist.'}]\n",
      "6166\n"
     ]
    },
    {
     "name": "stderr",
     "output_type": "stream",
     "text": [
      "6167it [37:29,  4.43s/it]"
     ]
    },
    {
     "name": "stdout",
     "output_type": "stream",
     "text": [
      "6167\n"
     ]
    },
    {
     "name": "stderr",
     "output_type": "stream",
     "text": [
      "6168it [37:35,  4.75s/it]"
     ]
    },
    {
     "name": "stdout",
     "output_type": "stream",
     "text": [
      "6168\n"
     ]
    },
    {
     "name": "stderr",
     "output_type": "stream",
     "text": [
      "6169it [37:41,  5.21s/it]"
     ]
    },
    {
     "name": "stdout",
     "output_type": "stream",
     "text": [
      "6169\n"
     ]
    },
    {
     "name": "stderr",
     "output_type": "stream",
     "text": [
      "6170it [37:47,  5.61s/it]"
     ]
    },
    {
     "name": "stdout",
     "output_type": "stream",
     "text": [
      "6170\n"
     ]
    },
    {
     "name": "stderr",
     "output_type": "stream",
     "text": [
      "6171it [37:53,  5.49s/it]"
     ]
    },
    {
     "name": "stdout",
     "output_type": "stream",
     "text": [
      "6171\n"
     ]
    },
    {
     "name": "stderr",
     "output_type": "stream",
     "text": [
      "6172it [37:58,  5.54s/it]"
     ]
    },
    {
     "name": "stdout",
     "output_type": "stream",
     "text": [
      "6172\n"
     ]
    },
    {
     "name": "stderr",
     "output_type": "stream",
     "text": [
      "6173it [38:03,  5.16s/it]"
     ]
    },
    {
     "name": "stdout",
     "output_type": "stream",
     "text": [
      "6173\n"
     ]
    },
    {
     "name": "stderr",
     "output_type": "stream",
     "text": [
      "6174it [38:10,  5.95s/it]"
     ]
    },
    {
     "name": "stdout",
     "output_type": "stream",
     "text": [
      "6174\n"
     ]
    },
    {
     "name": "stderr",
     "output_type": "stream",
     "text": [
      "6175it [38:16,  5.79s/it]"
     ]
    },
    {
     "name": "stdout",
     "output_type": "stream",
     "text": [
      "6175\n"
     ]
    },
    {
     "name": "stderr",
     "output_type": "stream",
     "text": [
      "6176it [38:16,  4.15s/it]"
     ]
    },
    {
     "name": "stdout",
     "output_type": "stream",
     "text": [
      "Failed on account: 892953117234352128\n",
      "[{'code': 34, 'message': 'Sorry, that page does not exist.'}]\n",
      "6176\n"
     ]
    },
    {
     "name": "stderr",
     "output_type": "stream",
     "text": [
      "6177it [38:28,  6.44s/it]"
     ]
    },
    {
     "name": "stdout",
     "output_type": "stream",
     "text": [
      "6177\n"
     ]
    },
    {
     "name": "stderr",
     "output_type": "stream",
     "text": [
      "6178it [38:33,  5.98s/it]"
     ]
    },
    {
     "name": "stdout",
     "output_type": "stream",
     "text": [
      "6178\n"
     ]
    },
    {
     "name": "stderr",
     "output_type": "stream",
     "text": [
      "6179it [38:41,  6.68s/it]"
     ]
    },
    {
     "name": "stdout",
     "output_type": "stream",
     "text": [
      "6179\n"
     ]
    },
    {
     "name": "stderr",
     "output_type": "stream",
     "text": [
      "6180it [38:48,  6.64s/it]"
     ]
    },
    {
     "name": "stdout",
     "output_type": "stream",
     "text": [
      "6180\n"
     ]
    },
    {
     "name": "stderr",
     "output_type": "stream",
     "text": [
      "6181it [38:52,  6.06s/it]"
     ]
    },
    {
     "name": "stdout",
     "output_type": "stream",
     "text": [
      "6181\n"
     ]
    },
    {
     "name": "stderr",
     "output_type": "stream",
     "text": [
      "6182it [38:59,  6.35s/it]"
     ]
    },
    {
     "name": "stdout",
     "output_type": "stream",
     "text": [
      "6182\n"
     ]
    },
    {
     "name": "stderr",
     "output_type": "stream",
     "text": [
      "6183it [39:05,  6.11s/it]"
     ]
    },
    {
     "name": "stdout",
     "output_type": "stream",
     "text": [
      "6183\n"
     ]
    },
    {
     "name": "stderr",
     "output_type": "stream",
     "text": [
      "6184it [39:10,  5.90s/it]"
     ]
    },
    {
     "name": "stdout",
     "output_type": "stream",
     "text": [
      "6184\n"
     ]
    },
    {
     "name": "stderr",
     "output_type": "stream",
     "text": [
      "6185it [39:17,  5.98s/it]"
     ]
    },
    {
     "name": "stdout",
     "output_type": "stream",
     "text": [
      "6185\n"
     ]
    },
    {
     "name": "stderr",
     "output_type": "stream",
     "text": [
      "6186it [39:21,  5.42s/it]"
     ]
    },
    {
     "name": "stdout",
     "output_type": "stream",
     "text": [
      "6186\n"
     ]
    },
    {
     "name": "stderr",
     "output_type": "stream",
     "text": [
      "6187it [39:31,  6.88s/it]"
     ]
    },
    {
     "name": "stdout",
     "output_type": "stream",
     "text": [
      "6187\n"
     ]
    },
    {
     "name": "stderr",
     "output_type": "stream",
     "text": [
      "6188it [39:38,  6.95s/it]"
     ]
    },
    {
     "name": "stdout",
     "output_type": "stream",
     "text": [
      "6188\n"
     ]
    },
    {
     "name": "stderr",
     "output_type": "stream",
     "text": [
      "6189it [39:43,  6.43s/it]"
     ]
    },
    {
     "name": "stdout",
     "output_type": "stream",
     "text": [
      "6189\n"
     ]
    },
    {
     "name": "stderr",
     "output_type": "stream",
     "text": [
      "6190it [39:49,  6.31s/it]"
     ]
    },
    {
     "name": "stdout",
     "output_type": "stream",
     "text": [
      "6190\n"
     ]
    },
    {
     "name": "stderr",
     "output_type": "stream",
     "text": [
      "6191it [39:54,  5.86s/it]"
     ]
    },
    {
     "name": "stdout",
     "output_type": "stream",
     "text": [
      "6191\n"
     ]
    },
    {
     "name": "stderr",
     "output_type": "stream",
     "text": [
      "6192it [39:59,  5.49s/it]"
     ]
    },
    {
     "name": "stdout",
     "output_type": "stream",
     "text": [
      "6192\n"
     ]
    },
    {
     "name": "stderr",
     "output_type": "stream",
     "text": [
      "6193it [40:05,  5.81s/it]"
     ]
    },
    {
     "name": "stdout",
     "output_type": "stream",
     "text": [
      "6193\n"
     ]
    },
    {
     "name": "stderr",
     "output_type": "stream",
     "text": [
      "6194it [40:11,  5.91s/it]"
     ]
    },
    {
     "name": "stdout",
     "output_type": "stream",
     "text": [
      "6194\n"
     ]
    },
    {
     "name": "stderr",
     "output_type": "stream",
     "text": [
      "6195it [40:16,  5.55s/it]"
     ]
    },
    {
     "name": "stdout",
     "output_type": "stream",
     "text": [
      "6195\n"
     ]
    },
    {
     "name": "stderr",
     "output_type": "stream",
     "text": [
      "6196it [40:21,  5.39s/it]"
     ]
    },
    {
     "name": "stdout",
     "output_type": "stream",
     "text": [
      "6196\n"
     ]
    },
    {
     "name": "stderr",
     "output_type": "stream",
     "text": [
      "6197it [40:21,  3.86s/it]"
     ]
    },
    {
     "name": "stdout",
     "output_type": "stream",
     "text": [
      "Failed on account: 955940127817195648\n",
      "[{'code': 34, 'message': 'Sorry, that page does not exist.'}]\n",
      "6197\n"
     ]
    },
    {
     "name": "stderr",
     "output_type": "stream",
     "text": [
      "6198it [40:26,  4.09s/it]"
     ]
    },
    {
     "name": "stdout",
     "output_type": "stream",
     "text": [
      "6198\n"
     ]
    },
    {
     "name": "stderr",
     "output_type": "stream",
     "text": [
      "6199it [40:31,  4.40s/it]"
     ]
    },
    {
     "name": "stdout",
     "output_type": "stream",
     "text": [
      "6199\n"
     ]
    },
    {
     "name": "stderr",
     "output_type": "stream",
     "text": [
      "6200it [40:36,  4.61s/it]"
     ]
    },
    {
     "name": "stdout",
     "output_type": "stream",
     "text": [
      "6200\n"
     ]
    },
    {
     "name": "stderr",
     "output_type": "stream",
     "text": [
      "6201it [40:42,  4.88s/it]"
     ]
    },
    {
     "name": "stdout",
     "output_type": "stream",
     "text": [
      "6201\n"
     ]
    },
    {
     "name": "stderr",
     "output_type": "stream",
     "text": [
      "6202it [40:46,  4.75s/it]"
     ]
    },
    {
     "name": "stdout",
     "output_type": "stream",
     "text": [
      "6202\n"
     ]
    },
    {
     "name": "stderr",
     "output_type": "stream",
     "text": [
      "6203it [40:51,  4.61s/it]"
     ]
    },
    {
     "name": "stdout",
     "output_type": "stream",
     "text": [
      "6203\n"
     ]
    },
    {
     "name": "stderr",
     "output_type": "stream",
     "text": [
      "6204it [40:56,  4.87s/it]"
     ]
    },
    {
     "name": "stdout",
     "output_type": "stream",
     "text": [
      "6204\n"
     ]
    },
    {
     "name": "stderr",
     "output_type": "stream",
     "text": [
      "6205it [41:01,  4.81s/it]"
     ]
    },
    {
     "name": "stdout",
     "output_type": "stream",
     "text": [
      "6205\n"
     ]
    },
    {
     "name": "stderr",
     "output_type": "stream",
     "text": [
      "6206it [41:07,  5.18s/it]"
     ]
    },
    {
     "name": "stdout",
     "output_type": "stream",
     "text": [
      "6206\n"
     ]
    },
    {
     "name": "stderr",
     "output_type": "stream",
     "text": [
      "6207it [41:12,  5.30s/it]"
     ]
    },
    {
     "name": "stdout",
     "output_type": "stream",
     "text": [
      "6207\n"
     ]
    },
    {
     "name": "stderr",
     "output_type": "stream",
     "text": [
      "6208it [41:16,  4.86s/it]"
     ]
    },
    {
     "name": "stdout",
     "output_type": "stream",
     "text": [
      "6208\n"
     ]
    },
    {
     "name": "stderr",
     "output_type": "stream",
     "text": [
      "6209it [41:16,  3.50s/it]"
     ]
    },
    {
     "name": "stdout",
     "output_type": "stream",
     "text": [
      "Failed on account: 886722813779824640\n",
      "[{'code': 34, 'message': 'Sorry, that page does not exist.'}]\n",
      "6209\n"
     ]
    },
    {
     "name": "stderr",
     "output_type": "stream",
     "text": [
      "6210it [41:17,  2.54s/it]"
     ]
    },
    {
     "name": "stdout",
     "output_type": "stream",
     "text": [
      "Failed on account: 886722813779824640\n",
      "[{'code': 34, 'message': 'Sorry, that page does not exist.'}]\n",
      "6210\n"
     ]
    },
    {
     "name": "stderr",
     "output_type": "stream",
     "text": [
      "6211it [41:22,  3.26s/it]"
     ]
    },
    {
     "name": "stdout",
     "output_type": "stream",
     "text": [
      "6211\n"
     ]
    },
    {
     "name": "stderr",
     "output_type": "stream",
     "text": [
      "6212it [41:27,  3.84s/it]"
     ]
    },
    {
     "name": "stdout",
     "output_type": "stream",
     "text": [
      "6212\n"
     ]
    },
    {
     "name": "stderr",
     "output_type": "stream",
     "text": [
      "6213it [41:33,  4.56s/it]"
     ]
    },
    {
     "name": "stdout",
     "output_type": "stream",
     "text": [
      "6213\n"
     ]
    },
    {
     "name": "stderr",
     "output_type": "stream",
     "text": [
      "6214it [41:38,  4.58s/it]"
     ]
    },
    {
     "name": "stdout",
     "output_type": "stream",
     "text": [
      "6214\n"
     ]
    },
    {
     "name": "stderr",
     "output_type": "stream",
     "text": [
      "6215it [41:44,  4.99s/it]"
     ]
    },
    {
     "name": "stdout",
     "output_type": "stream",
     "text": [
      "6215\n"
     ]
    },
    {
     "name": "stderr",
     "output_type": "stream",
     "text": [
      "6216it [41:50,  5.46s/it]"
     ]
    },
    {
     "name": "stdout",
     "output_type": "stream",
     "text": [
      "6216\n"
     ]
    },
    {
     "name": "stderr",
     "output_type": "stream",
     "text": [
      "6217it [41:51,  3.91s/it]"
     ]
    },
    {
     "name": "stdout",
     "output_type": "stream",
     "text": [
      "Failed on account: 835202616510590976\n",
      "[{'code': 34, 'message': 'Sorry, that page does not exist.'}]\n",
      "6217\n"
     ]
    },
    {
     "name": "stderr",
     "output_type": "stream",
     "text": [
      "6218it [41:51,  2.83s/it]"
     ]
    },
    {
     "name": "stdout",
     "output_type": "stream",
     "text": [
      "Failed on account: 766063415186034688\n",
      "[{'code': 34, 'message': 'Sorry, that page does not exist.'}]\n",
      "6218\n"
     ]
    },
    {
     "name": "stderr",
     "output_type": "stream",
     "text": [
      "6219it [41:55,  3.30s/it]"
     ]
    },
    {
     "name": "stdout",
     "output_type": "stream",
     "text": [
      "6219\n"
     ]
    },
    {
     "name": "stderr",
     "output_type": "stream",
     "text": [
      "6220it [42:00,  3.72s/it]"
     ]
    },
    {
     "name": "stdout",
     "output_type": "stream",
     "text": [
      "6220\n"
     ]
    },
    {
     "name": "stderr",
     "output_type": "stream",
     "text": [
      "6221it [42:05,  4.08s/it]"
     ]
    },
    {
     "name": "stdout",
     "output_type": "stream",
     "text": [
      "6221\n"
     ]
    },
    {
     "name": "stderr",
     "output_type": "stream",
     "text": [
      "6222it [42:10,  4.42s/it]"
     ]
    },
    {
     "name": "stdout",
     "output_type": "stream",
     "text": [
      "6222\n"
     ]
    },
    {
     "name": "stderr",
     "output_type": "stream",
     "text": [
      "6223it [42:15,  4.69s/it]"
     ]
    },
    {
     "name": "stdout",
     "output_type": "stream",
     "text": [
      "6223\n"
     ]
    },
    {
     "name": "stderr",
     "output_type": "stream",
     "text": [
      "6224it [42:22,  5.22s/it]"
     ]
    },
    {
     "name": "stdout",
     "output_type": "stream",
     "text": [
      "6224\n"
     ]
    },
    {
     "name": "stderr",
     "output_type": "stream",
     "text": [
      "6225it [42:27,  5.23s/it]"
     ]
    },
    {
     "name": "stdout",
     "output_type": "stream",
     "text": [
      "6225\n"
     ]
    },
    {
     "name": "stderr",
     "output_type": "stream",
     "text": [
      "6226it [42:33,  5.47s/it]"
     ]
    },
    {
     "name": "stdout",
     "output_type": "stream",
     "text": [
      "6226\n"
     ]
    },
    {
     "name": "stderr",
     "output_type": "stream",
     "text": [
      "6227it [42:37,  5.09s/it]"
     ]
    },
    {
     "name": "stdout",
     "output_type": "stream",
     "text": [
      "6227\n"
     ]
    },
    {
     "name": "stderr",
     "output_type": "stream",
     "text": [
      "6228it [42:43,  5.22s/it]"
     ]
    },
    {
     "name": "stdout",
     "output_type": "stream",
     "text": [
      "6228\n"
     ]
    },
    {
     "name": "stderr",
     "output_type": "stream",
     "text": [
      "6229it [42:48,  5.12s/it]"
     ]
    },
    {
     "name": "stdout",
     "output_type": "stream",
     "text": [
      "6229\n"
     ]
    },
    {
     "name": "stderr",
     "output_type": "stream",
     "text": [
      "6230it [42:53,  5.16s/it]"
     ]
    },
    {
     "name": "stdout",
     "output_type": "stream",
     "text": [
      "6230\n"
     ]
    },
    {
     "name": "stderr",
     "output_type": "stream",
     "text": [
      "6231it [42:59,  5.53s/it]"
     ]
    },
    {
     "name": "stdout",
     "output_type": "stream",
     "text": [
      "6231\n"
     ]
    },
    {
     "name": "stderr",
     "output_type": "stream",
     "text": [
      "6232it [43:06,  5.69s/it]"
     ]
    },
    {
     "name": "stdout",
     "output_type": "stream",
     "text": [
      "6232\n"
     ]
    },
    {
     "name": "stderr",
     "output_type": "stream",
     "text": [
      "6233it [43:11,  5.56s/it]"
     ]
    },
    {
     "name": "stdout",
     "output_type": "stream",
     "text": [
      "6233\n"
     ]
    },
    {
     "name": "stderr",
     "output_type": "stream",
     "text": [
      "6234it [43:11,  3.98s/it]"
     ]
    },
    {
     "name": "stdout",
     "output_type": "stream",
     "text": [
      "Failed on account: 947563773346291584\n",
      "[{'code': 34, 'message': 'Sorry, that page does not exist.'}]\n",
      "6234\n"
     ]
    },
    {
     "name": "stderr",
     "output_type": "stream",
     "text": [
      "6235it [43:16,  4.15s/it]"
     ]
    },
    {
     "name": "stdout",
     "output_type": "stream",
     "text": [
      "6235\n"
     ]
    },
    {
     "name": "stderr",
     "output_type": "stream",
     "text": [
      "6236it [43:21,  4.52s/it]"
     ]
    },
    {
     "name": "stdout",
     "output_type": "stream",
     "text": [
      "6236\n"
     ]
    },
    {
     "name": "stderr",
     "output_type": "stream",
     "text": [
      "6237it [43:26,  4.76s/it]"
     ]
    },
    {
     "name": "stdout",
     "output_type": "stream",
     "text": [
      "6237\n"
     ]
    },
    {
     "name": "stderr",
     "output_type": "stream",
     "text": [
      "6238it [43:32,  4.93s/it]"
     ]
    },
    {
     "name": "stdout",
     "output_type": "stream",
     "text": [
      "6238\n"
     ]
    },
    {
     "name": "stderr",
     "output_type": "stream",
     "text": [
      "6239it [43:36,  4.79s/it]"
     ]
    },
    {
     "name": "stdout",
     "output_type": "stream",
     "text": [
      "6239\n"
     ]
    },
    {
     "name": "stderr",
     "output_type": "stream",
     "text": [
      "6240it [43:41,  4.75s/it]"
     ]
    },
    {
     "name": "stdout",
     "output_type": "stream",
     "text": [
      "6240\n"
     ]
    },
    {
     "name": "stderr",
     "output_type": "stream",
     "text": [
      "6241it [43:44,  4.43s/it]"
     ]
    },
    {
     "name": "stdout",
     "output_type": "stream",
     "text": [
      "6241\n"
     ]
    },
    {
     "name": "stderr",
     "output_type": "stream",
     "text": [
      "6242it [43:50,  4.73s/it]"
     ]
    },
    {
     "name": "stdout",
     "output_type": "stream",
     "text": [
      "6242\n"
     ]
    },
    {
     "name": "stderr",
     "output_type": "stream",
     "text": [
      "6243it [43:56,  5.25s/it]"
     ]
    },
    {
     "name": "stdout",
     "output_type": "stream",
     "text": [
      "6243\n"
     ]
    },
    {
     "name": "stderr",
     "output_type": "stream",
     "text": [
      "6244it [44:02,  5.39s/it]"
     ]
    },
    {
     "name": "stdout",
     "output_type": "stream",
     "text": [
      "6244\n"
     ]
    },
    {
     "name": "stderr",
     "output_type": "stream",
     "text": [
      "6245it [44:06,  4.90s/it]"
     ]
    },
    {
     "name": "stdout",
     "output_type": "stream",
     "text": [
      "6245\n"
     ]
    },
    {
     "name": "stderr",
     "output_type": "stream",
     "text": [
      "6246it [44:11,  5.13s/it]"
     ]
    },
    {
     "name": "stdout",
     "output_type": "stream",
     "text": [
      "6246\n"
     ]
    },
    {
     "name": "stderr",
     "output_type": "stream",
     "text": [
      "6247it [44:15,  4.76s/it]"
     ]
    },
    {
     "name": "stdout",
     "output_type": "stream",
     "text": [
      "6247\n"
     ]
    },
    {
     "name": "stderr",
     "output_type": "stream",
     "text": [
      "6248it [44:19,  4.50s/it]"
     ]
    },
    {
     "name": "stdout",
     "output_type": "stream",
     "text": [
      "6248\n"
     ]
    },
    {
     "name": "stderr",
     "output_type": "stream",
     "text": [
      "6249it [44:25,  4.87s/it]"
     ]
    },
    {
     "name": "stdout",
     "output_type": "stream",
     "text": [
      "6249\n"
     ]
    },
    {
     "name": "stderr",
     "output_type": "stream",
     "text": [
      "6250it [44:25,  3.50s/it]"
     ]
    },
    {
     "name": "stdout",
     "output_type": "stream",
     "text": [
      "Failed on account: 864275509768851456\n",
      "[{'code': 34, 'message': 'Sorry, that page does not exist.'}]\n",
      "6250\n"
     ]
    },
    {
     "name": "stderr",
     "output_type": "stream",
     "text": [
      "6251it [44:31,  4.17s/it]"
     ]
    },
    {
     "name": "stdout",
     "output_type": "stream",
     "text": [
      "6251\n"
     ]
    },
    {
     "name": "stderr",
     "output_type": "stream",
     "text": [
      "6252it [44:37,  4.73s/it]"
     ]
    },
    {
     "name": "stdout",
     "output_type": "stream",
     "text": [
      "6252\n"
     ]
    },
    {
     "name": "stderr",
     "output_type": "stream",
     "text": [
      "6253it [44:43,  4.97s/it]"
     ]
    },
    {
     "name": "stdout",
     "output_type": "stream",
     "text": [
      "6253\n"
     ]
    },
    {
     "name": "stderr",
     "output_type": "stream",
     "text": [
      "6254it [44:47,  4.80s/it]"
     ]
    },
    {
     "name": "stdout",
     "output_type": "stream",
     "text": [
      "6254\n"
     ]
    },
    {
     "name": "stderr",
     "output_type": "stream",
     "text": [
      "6255it [44:53,  5.12s/it]"
     ]
    },
    {
     "name": "stdout",
     "output_type": "stream",
     "text": [
      "6255\n"
     ]
    },
    {
     "name": "stderr",
     "output_type": "stream",
     "text": [
      "6256it [44:59,  5.45s/it]"
     ]
    },
    {
     "name": "stdout",
     "output_type": "stream",
     "text": [
      "6256\n"
     ]
    },
    {
     "name": "stderr",
     "output_type": "stream",
     "text": [
      "6257it [45:07,  6.17s/it]"
     ]
    },
    {
     "name": "stdout",
     "output_type": "stream",
     "text": [
      "6257\n"
     ]
    },
    {
     "name": "stderr",
     "output_type": "stream",
     "text": [
      "6258it [45:15,  6.60s/it]"
     ]
    },
    {
     "name": "stdout",
     "output_type": "stream",
     "text": [
      "Failed on account: 860243075695689728\n",
      "[{'code': 34, 'message': 'Sorry, that page does not exist.'}]\n",
      "6258\n"
     ]
    },
    {
     "name": "stderr",
     "output_type": "stream",
     "text": [
      "6259it [45:20,  6.31s/it]"
     ]
    },
    {
     "name": "stdout",
     "output_type": "stream",
     "text": [
      "6259\n"
     ]
    },
    {
     "name": "stderr",
     "output_type": "stream",
     "text": [
      "6260it [45:25,  5.92s/it]"
     ]
    },
    {
     "name": "stdout",
     "output_type": "stream",
     "text": [
      "6260\n"
     ]
    },
    {
     "name": "stderr",
     "output_type": "stream",
     "text": [
      "6261it [45:31,  5.90s/it]"
     ]
    },
    {
     "name": "stdout",
     "output_type": "stream",
     "text": [
      "6261\n"
     ]
    },
    {
     "name": "stderr",
     "output_type": "stream",
     "text": [
      "6262it [45:39,  6.62s/it]"
     ]
    },
    {
     "name": "stdout",
     "output_type": "stream",
     "text": [
      "6262\n"
     ]
    },
    {
     "name": "stderr",
     "output_type": "stream",
     "text": [
      "6263it [45:45,  6.20s/it]"
     ]
    },
    {
     "name": "stdout",
     "output_type": "stream",
     "text": [
      "6263\n"
     ]
    },
    {
     "name": "stderr",
     "output_type": "stream",
     "text": [
      "6264it [45:49,  5.69s/it]"
     ]
    },
    {
     "name": "stdout",
     "output_type": "stream",
     "text": [
      "6264\n"
     ]
    },
    {
     "name": "stderr",
     "output_type": "stream",
     "text": [
      "6265it [45:55,  5.86s/it]"
     ]
    },
    {
     "name": "stdout",
     "output_type": "stream",
     "text": [
      "6265\n"
     ]
    },
    {
     "name": "stderr",
     "output_type": "stream",
     "text": [
      "6266it [46:00,  5.57s/it]"
     ]
    },
    {
     "name": "stdout",
     "output_type": "stream",
     "text": [
      "6266\n"
     ]
    },
    {
     "name": "stderr",
     "output_type": "stream",
     "text": [
      "6267it [46:06,  5.50s/it]"
     ]
    },
    {
     "name": "stdout",
     "output_type": "stream",
     "text": [
      "6267\n"
     ]
    },
    {
     "name": "stderr",
     "output_type": "stream",
     "text": [
      "6268it [46:12,  5.75s/it]"
     ]
    },
    {
     "name": "stdout",
     "output_type": "stream",
     "text": [
      "6268\n"
     ]
    },
    {
     "name": "stderr",
     "output_type": "stream",
     "text": [
      "6269it [46:17,  5.59s/it]"
     ]
    },
    {
     "name": "stdout",
     "output_type": "stream",
     "text": [
      "6269\n"
     ]
    },
    {
     "name": "stderr",
     "output_type": "stream",
     "text": [
      "6270it [46:24,  5.93s/it]"
     ]
    },
    {
     "name": "stdout",
     "output_type": "stream",
     "text": [
      "6270\n"
     ]
    },
    {
     "name": "stderr",
     "output_type": "stream",
     "text": [
      "6271it [46:28,  5.45s/it]"
     ]
    },
    {
     "name": "stdout",
     "output_type": "stream",
     "text": [
      "6271\n"
     ]
    },
    {
     "name": "stderr",
     "output_type": "stream",
     "text": [
      "6272it [46:34,  5.69s/it]"
     ]
    },
    {
     "name": "stdout",
     "output_type": "stream",
     "text": [
      "6272\n"
     ]
    },
    {
     "name": "stderr",
     "output_type": "stream",
     "text": [
      "6273it [46:38,  5.01s/it]"
     ]
    },
    {
     "name": "stdout",
     "output_type": "stream",
     "text": [
      "Failed on account: 323327211\n",
      "429 Client Error: Too Many Requests for url: https://botometer-pro.p.rapidapi.com/4/check_account\n",
      "6273\n"
     ]
    },
    {
     "name": "stderr",
     "output_type": "stream",
     "text": [
      "6274it [46:40,  4.20s/it]"
     ]
    },
    {
     "name": "stdout",
     "output_type": "stream",
     "text": [
      "Failed on account: 1901999588\n",
      "429 Client Error: Too Many Requests for url: https://botometer-pro.p.rapidapi.com/4/check_account\n",
      "6274\n"
     ]
    },
    {
     "name": "stderr",
     "output_type": "stream",
     "text": [
      "6275it [46:44,  4.15s/it]"
     ]
    },
    {
     "name": "stdout",
     "output_type": "stream",
     "text": [
      "Failed on account: 16225955\n",
      "429 Client Error: Too Many Requests for url: https://botometer-pro.p.rapidapi.com/4/check_account\n",
      "6275\n"
     ]
    },
    {
     "name": "stderr",
     "output_type": "stream",
     "text": [
      "6276it [46:48,  3.94s/it]"
     ]
    },
    {
     "name": "stdout",
     "output_type": "stream",
     "text": [
      "Failed on account: 19582310\n",
      "429 Client Error: Too Many Requests for url: https://botometer-pro.p.rapidapi.com/4/check_account\n",
      "6276\n"
     ]
    },
    {
     "name": "stderr",
     "output_type": "stream",
     "text": [
      "6277it [46:51,  3.76s/it]"
     ]
    },
    {
     "name": "stdout",
     "output_type": "stream",
     "text": [
      "Failed on account: 19612749\n",
      "429 Client Error: Too Many Requests for url: https://botometer-pro.p.rapidapi.com/4/check_account\n",
      "6277\n"
     ]
    },
    {
     "name": "stderr",
     "output_type": "stream",
     "text": [
      "6278it [46:54,  3.53s/it]"
     ]
    },
    {
     "name": "stdout",
     "output_type": "stream",
     "text": [
      "Failed on account: 188338427\n",
      "429 Client Error: Too Many Requests for url: https://botometer-pro.p.rapidapi.com/4/check_account\n",
      "6278\n"
     ]
    },
    {
     "name": "stderr",
     "output_type": "stream",
     "text": [
      "6279it [46:57,  3.49s/it]"
     ]
    },
    {
     "name": "stdout",
     "output_type": "stream",
     "text": [
      "Failed on account: 291874773\n",
      "429 Client Error: Too Many Requests for url: https://botometer-pro.p.rapidapi.com/4/check_account\n",
      "6279\n"
     ]
    },
    {
     "name": "stderr",
     "output_type": "stream",
     "text": [
      "6280it [46:59,  3.04s/it]"
     ]
    },
    {
     "name": "stdout",
     "output_type": "stream",
     "text": [
      "Failed on account: 722994185171816448\n",
      "429 Client Error: Too Many Requests for url: https://botometer-pro.p.rapidapi.com/4/check_account\n",
      "6280\n"
     ]
    },
    {
     "name": "stderr",
     "output_type": "stream",
     "text": [
      "6281it [47:02,  2.82s/it]"
     ]
    },
    {
     "name": "stdout",
     "output_type": "stream",
     "text": [
      "Failed on account: 787423762836819968\n",
      "429 Client Error: Too Many Requests for url: https://botometer-pro.p.rapidapi.com/4/check_account\n",
      "6281\n"
     ]
    },
    {
     "name": "stderr",
     "output_type": "stream",
     "text": [
      "6282it [47:04,  2.63s/it]"
     ]
    },
    {
     "name": "stdout",
     "output_type": "stream",
     "text": [
      "Failed on account: 810605479399452672\n",
      "429 Client Error: Too Many Requests for url: https://botometer-pro.p.rapidapi.com/4/check_account\n",
      "6282\n"
     ]
    },
    {
     "name": "stderr",
     "output_type": "stream",
     "text": [
      "6283it [47:07,  2.76s/it]"
     ]
    },
    {
     "name": "stdout",
     "output_type": "stream",
     "text": [
      "Failed on account: 18956073\n",
      "429 Client Error: Too Many Requests for url: https://botometer-pro.p.rapidapi.com/4/check_account\n",
      "6283\n"
     ]
    },
    {
     "name": "stderr",
     "output_type": "stream",
     "text": [
      "6284it [47:11,  3.31s/it]"
     ]
    },
    {
     "name": "stdout",
     "output_type": "stream",
     "text": [
      "Failed on account: 4831194209\n",
      "429 Client Error: Too Many Requests for url: https://botometer-pro.p.rapidapi.com/4/check_account\n",
      "6284\n"
     ]
    },
    {
     "name": "stderr",
     "output_type": "stream",
     "text": [
      "6285it [47:16,  3.52s/it]"
     ]
    },
    {
     "name": "stdout",
     "output_type": "stream",
     "text": [
      "Failed on account: 142015635\n",
      "429 Client Error: Too Many Requests for url: https://botometer-pro.p.rapidapi.com/4/check_account\n",
      "6285\n"
     ]
    },
    {
     "name": "stderr",
     "output_type": "stream",
     "text": [
      "6286it [47:18,  3.27s/it]"
     ]
    },
    {
     "name": "stdout",
     "output_type": "stream",
     "text": [
      "Failed on account: 825683363566612480\n",
      "429 Client Error: Too Many Requests for url: https://botometer-pro.p.rapidapi.com/4/check_account\n",
      "6286\n"
     ]
    },
    {
     "name": "stderr",
     "output_type": "stream",
     "text": [
      "6287it [47:18,  2.36s/it]"
     ]
    },
    {
     "name": "stdout",
     "output_type": "stream",
     "text": [
      "Failed on account: 818214787595325440\n",
      "[{'code': 34, 'message': 'Sorry, that page does not exist.'}]\n",
      "6287\n"
     ]
    },
    {
     "name": "stderr",
     "output_type": "stream",
     "text": [
      "6288it [47:22,  2.76s/it]"
     ]
    },
    {
     "name": "stdout",
     "output_type": "stream",
     "text": [
      "Failed on account: 58525290\n",
      "429 Client Error: Too Many Requests for url: https://botometer-pro.p.rapidapi.com/4/check_account\n",
      "6288\n"
     ]
    },
    {
     "name": "stderr",
     "output_type": "stream",
     "text": [
      "6289it [47:24,  2.59s/it]"
     ]
    },
    {
     "name": "stdout",
     "output_type": "stream",
     "text": [
      "Failed on account: 2898661221\n",
      "429 Client Error: Too Many Requests for url: https://botometer-pro.p.rapidapi.com/4/check_account\n",
      "6289\n"
     ]
    },
    {
     "name": "stderr",
     "output_type": "stream",
     "text": [
      "6290it [47:25,  1.89s/it]"
     ]
    },
    {
     "name": "stdout",
     "output_type": "stream",
     "text": [
      "Failed on account: 954078524737925248\n",
      "[{'code': 34, 'message': 'Sorry, that page does not exist.'}]\n",
      "6290\n"
     ]
    },
    {
     "name": "stderr",
     "output_type": "stream",
     "text": [
      "6291it [47:28,  2.36s/it]"
     ]
    },
    {
     "name": "stdout",
     "output_type": "stream",
     "text": [
      "Failed on account: 59241915\n",
      "429 Client Error: Too Many Requests for url: https://botometer-pro.p.rapidapi.com/4/check_account\n",
      "6291\n"
     ]
    },
    {
     "name": "stderr",
     "output_type": "stream",
     "text": [
      "6292it [47:31,  2.41s/it]"
     ]
    },
    {
     "name": "stdout",
     "output_type": "stream",
     "text": [
      "Failed on account: 935934294635220992\n",
      "429 Client Error: Too Many Requests for url: https://botometer-pro.p.rapidapi.com/4/check_account\n",
      "6292\n"
     ]
    },
    {
     "name": "stderr",
     "output_type": "stream",
     "text": [
      "6293it [47:33,  2.45s/it]"
     ]
    },
    {
     "name": "stdout",
     "output_type": "stream",
     "text": [
      "Failed on account: 248223478\n",
      "429 Client Error: Too Many Requests for url: https://botometer-pro.p.rapidapi.com/4/check_account\n",
      "6293\n"
     ]
    },
    {
     "name": "stderr",
     "output_type": "stream",
     "text": [
      "6294it [47:33,  1.80s/it]"
     ]
    },
    {
     "name": "stdout",
     "output_type": "stream",
     "text": [
      "Failed on account: 951850751000658048\n",
      "[{'code': 34, 'message': 'Sorry, that page does not exist.'}]\n",
      "6294\n"
     ]
    },
    {
     "name": "stderr",
     "output_type": "stream",
     "text": [
      "6295it [47:37,  2.25s/it]"
     ]
    },
    {
     "name": "stdout",
     "output_type": "stream",
     "text": [
      "Failed on account: 3315300711\n",
      "429 Client Error: Too Many Requests for url: https://botometer-pro.p.rapidapi.com/4/check_account\n",
      "6295\n"
     ]
    },
    {
     "name": "stderr",
     "output_type": "stream",
     "text": [
      "6296it [47:39,  2.24s/it]"
     ]
    },
    {
     "name": "stdout",
     "output_type": "stream",
     "text": [
      "Failed on account: 250935095\n",
      "429 Client Error: Too Many Requests for url: https://botometer-pro.p.rapidapi.com/4/check_account\n",
      "6296\n"
     ]
    },
    {
     "name": "stderr",
     "output_type": "stream",
     "text": [
      "6297it [47:42,  2.61s/it]"
     ]
    },
    {
     "name": "stdout",
     "output_type": "stream",
     "text": [
      "Failed on account: 4625058132\n",
      "429 Client Error: Too Many Requests for url: https://botometer-pro.p.rapidapi.com/4/check_account\n",
      "6297\n"
     ]
    },
    {
     "name": "stderr",
     "output_type": "stream",
     "text": [
      "6298it [47:46,  2.83s/it]"
     ]
    },
    {
     "name": "stdout",
     "output_type": "stream",
     "text": [
      "Failed on account: 34713362\n",
      "429 Client Error: Too Many Requests for url: https://botometer-pro.p.rapidapi.com/4/check_account\n",
      "6298\n"
     ]
    },
    {
     "name": "stderr",
     "output_type": "stream",
     "text": [
      "6299it [47:49,  3.04s/it]"
     ]
    },
    {
     "name": "stdout",
     "output_type": "stream",
     "text": [
      "Failed on account: 473179284\n",
      "429 Client Error: Too Many Requests for url: https://botometer-pro.p.rapidapi.com/4/check_account\n",
      "6299\n"
     ]
    },
    {
     "name": "stderr",
     "output_type": "stream",
     "text": [
      "6300it [47:52,  2.84s/it]"
     ]
    },
    {
     "name": "stdout",
     "output_type": "stream",
     "text": [
      "Failed on account: 490836958\n",
      "429 Client Error: Too Many Requests for url: https://botometer-pro.p.rapidapi.com/4/check_account\n",
      "6300\n"
     ]
    },
    {
     "name": "stderr",
     "output_type": "stream",
     "text": [
      "6301it [47:54,  2.83s/it]"
     ]
    },
    {
     "name": "stdout",
     "output_type": "stream",
     "text": [
      "Failed on account: 790251514342219776\n",
      "429 Client Error: Too Many Requests for url: https://botometer-pro.p.rapidapi.com/4/check_account\n",
      "6301\n"
     ]
    },
    {
     "name": "stderr",
     "output_type": "stream",
     "text": [
      "6302it [47:55,  2.06s/it]"
     ]
    },
    {
     "name": "stdout",
     "output_type": "stream",
     "text": [
      "Failed on account: 911681192604217216\n",
      "[{'code': 34, 'message': 'Sorry, that page does not exist.'}]\n",
      "6302\n"
     ]
    },
    {
     "name": "stderr",
     "output_type": "stream",
     "text": [
      "6303it [47:59,  2.67s/it]"
     ]
    },
    {
     "name": "stdout",
     "output_type": "stream",
     "text": [
      "Failed on account: 561654065\n",
      "429 Client Error: Too Many Requests for url: https://botometer-pro.p.rapidapi.com/4/check_account\n",
      "6303\n"
     ]
    },
    {
     "name": "stderr",
     "output_type": "stream",
     "text": [
      "6304it [48:04,  3.39s/it]"
     ]
    },
    {
     "name": "stdout",
     "output_type": "stream",
     "text": [
      "Failed on account: 53979469\n",
      "429 Client Error: Too Many Requests for url: https://botometer-pro.p.rapidapi.com/4/check_account\n",
      "6304\n"
     ]
    },
    {
     "name": "stderr",
     "output_type": "stream",
     "text": [
      "6305it [48:06,  3.14s/it]"
     ]
    },
    {
     "name": "stdout",
     "output_type": "stream",
     "text": [
      "Failed on account: 192692803\n",
      "429 Client Error: Too Many Requests for url: https://botometer-pro.p.rapidapi.com/4/check_account\n",
      "6305\n"
     ]
    },
    {
     "name": "stderr",
     "output_type": "stream",
     "text": [
      "6306it [48:09,  2.92s/it]"
     ]
    },
    {
     "name": "stdout",
     "output_type": "stream",
     "text": [
      "Failed on account: 390387473\n",
      "429 Client Error: Too Many Requests for url: https://botometer-pro.p.rapidapi.com/4/check_account\n",
      "6306\n"
     ]
    },
    {
     "name": "stderr",
     "output_type": "stream",
     "text": [
      "6307it [48:11,  2.70s/it]"
     ]
    },
    {
     "name": "stdout",
     "output_type": "stream",
     "text": [
      "Failed on account: 16986635\n",
      "429 Client Error: Too Many Requests for url: https://botometer-pro.p.rapidapi.com/4/check_account\n",
      "6307\n"
     ]
    },
    {
     "name": "stderr",
     "output_type": "stream",
     "text": [
      "6308it [48:14,  2.75s/it]"
     ]
    },
    {
     "name": "stdout",
     "output_type": "stream",
     "text": [
      "Failed on account: 2748061373\n",
      "429 Client Error: Too Many Requests for url: https://botometer-pro.p.rapidapi.com/4/check_account\n",
      "6308\n"
     ]
    },
    {
     "name": "stderr",
     "output_type": "stream",
     "text": [
      "6309it [48:16,  2.63s/it]"
     ]
    },
    {
     "name": "stdout",
     "output_type": "stream",
     "text": [
      "Failed on account: 897811906890694656\n",
      "429 Client Error: Too Many Requests for url: https://botometer-pro.p.rapidapi.com/4/check_account\n",
      "6309\n"
     ]
    },
    {
     "name": "stderr",
     "output_type": "stream",
     "text": [
      "6310it [48:19,  2.65s/it]"
     ]
    },
    {
     "name": "stdout",
     "output_type": "stream",
     "text": [
      "Failed on account: 4076587818\n",
      "429 Client Error: Too Many Requests for url: https://botometer-pro.p.rapidapi.com/4/check_account\n",
      "6310\n"
     ]
    },
    {
     "name": "stderr",
     "output_type": "stream",
     "text": [
      "6311it [48:22,  2.67s/it]"
     ]
    },
    {
     "name": "stdout",
     "output_type": "stream",
     "text": [
      "Failed on account: 214645916\n",
      "429 Client Error: Too Many Requests for url: https://botometer-pro.p.rapidapi.com/4/check_account\n",
      "6311\n"
     ]
    },
    {
     "name": "stderr",
     "output_type": "stream",
     "text": [
      "6312it [48:27,  3.46s/it]"
     ]
    },
    {
     "name": "stdout",
     "output_type": "stream",
     "text": [
      "Failed on account: 19797588\n",
      "429 Client Error: Too Many Requests for url: https://botometer-pro.p.rapidapi.com/4/check_account\n",
      "6312\n"
     ]
    },
    {
     "name": "stderr",
     "output_type": "stream",
     "text": [
      "6313it [48:30,  3.28s/it]"
     ]
    },
    {
     "name": "stdout",
     "output_type": "stream",
     "text": [
      "Failed on account: 833271210\n",
      "429 Client Error: Too Many Requests for url: https://botometer-pro.p.rapidapi.com/4/check_account\n",
      "6313\n"
     ]
    },
    {
     "name": "stderr",
     "output_type": "stream",
     "text": [
      "6314it [48:32,  3.08s/it]"
     ]
    },
    {
     "name": "stdout",
     "output_type": "stream",
     "text": [
      "Failed on account: 704436782729814016\n",
      "429 Client Error: Too Many Requests for url: https://botometer-pro.p.rapidapi.com/4/check_account\n",
      "6314\n"
     ]
    },
    {
     "name": "stderr",
     "output_type": "stream",
     "text": [
      "6315it [48:36,  3.10s/it]"
     ]
    },
    {
     "name": "stdout",
     "output_type": "stream",
     "text": [
      "Failed on account: 271998971\n",
      "429 Client Error: Too Many Requests for url: https://botometer-pro.p.rapidapi.com/4/check_account\n",
      "6315\n"
     ]
    },
    {
     "name": "stderr",
     "output_type": "stream",
     "text": [
      "6316it [48:38,  2.94s/it]"
     ]
    },
    {
     "name": "stdout",
     "output_type": "stream",
     "text": [
      "Failed on account: 391570460\n",
      "429 Client Error: Too Many Requests for url: https://botometer-pro.p.rapidapi.com/4/check_account\n",
      "6316\n"
     ]
    },
    {
     "name": "stderr",
     "output_type": "stream",
     "text": [
      "6317it [48:41,  2.92s/it]"
     ]
    },
    {
     "name": "stdout",
     "output_type": "stream",
     "text": [
      "Failed on account: 2344005187\n",
      "429 Client Error: Too Many Requests for url: https://botometer-pro.p.rapidapi.com/4/check_account\n",
      "6317\n"
     ]
    },
    {
     "name": "stderr",
     "output_type": "stream",
     "text": [
      "6318it [48:45,  3.10s/it]"
     ]
    },
    {
     "name": "stdout",
     "output_type": "stream",
     "text": [
      "Failed on account: 100832012\n",
      "429 Client Error: Too Many Requests for url: https://botometer-pro.p.rapidapi.com/4/check_account\n",
      "6318\n"
     ]
    },
    {
     "name": "stderr",
     "output_type": "stream",
     "text": [
      "6319it [48:47,  2.92s/it]"
     ]
    },
    {
     "name": "stdout",
     "output_type": "stream",
     "text": [
      "Failed on account: 4799082093\n",
      "429 Client Error: Too Many Requests for url: https://botometer-pro.p.rapidapi.com/4/check_account\n",
      "6319\n"
     ]
    },
    {
     "name": "stderr",
     "output_type": "stream",
     "text": [
      "6320it [48:50,  2.88s/it]"
     ]
    },
    {
     "name": "stdout",
     "output_type": "stream",
     "text": [
      "Failed on account: 26652733\n",
      "429 Client Error: Too Many Requests for url: https://botometer-pro.p.rapidapi.com/4/check_account\n",
      "6320\n"
     ]
    },
    {
     "name": "stderr",
     "output_type": "stream",
     "text": [
      "6321it [48:52,  2.73s/it]"
     ]
    },
    {
     "name": "stdout",
     "output_type": "stream",
     "text": [
      "Failed on account: 445850148\n",
      "429 Client Error: Too Many Requests for url: https://botometer-pro.p.rapidapi.com/4/check_account\n",
      "6321\n"
     ]
    },
    {
     "name": "stderr",
     "output_type": "stream",
     "text": [
      "6322it [48:55,  2.84s/it]"
     ]
    },
    {
     "name": "stdout",
     "output_type": "stream",
     "text": [
      "Failed on account: 435314072\n",
      "429 Client Error: Too Many Requests for url: https://botometer-pro.p.rapidapi.com/4/check_account\n",
      "6322\n"
     ]
    },
    {
     "name": "stderr",
     "output_type": "stream",
     "text": [
      "6323it [48:58,  2.84s/it]"
     ]
    },
    {
     "name": "stdout",
     "output_type": "stream",
     "text": [
      "Failed on account: 2736243744\n",
      "429 Client Error: Too Many Requests for url: https://botometer-pro.p.rapidapi.com/4/check_account\n",
      "6323\n"
     ]
    },
    {
     "name": "stderr",
     "output_type": "stream",
     "text": [
      "6324it [48:58,  2.10s/it]"
     ]
    },
    {
     "name": "stdout",
     "output_type": "stream",
     "text": [
      "Failed on account: 944013257676939264\n",
      "[{'code': 34, 'message': 'Sorry, that page does not exist.'}]\n",
      "6324\n"
     ]
    },
    {
     "name": "stderr",
     "output_type": "stream",
     "text": [
      "6325it [49:02,  2.48s/it]"
     ]
    },
    {
     "name": "stdout",
     "output_type": "stream",
     "text": [
      "Failed on account: 759251\n",
      "429 Client Error: Too Many Requests for url: https://botometer-pro.p.rapidapi.com/4/check_account\n",
      "6325\n"
     ]
    },
    {
     "name": "stderr",
     "output_type": "stream",
     "text": [
      "6326it [49:06,  3.06s/it]"
     ]
    },
    {
     "name": "stdout",
     "output_type": "stream",
     "text": [
      "Failed on account: 22889597\n",
      "429 Client Error: Too Many Requests for url: https://botometer-pro.p.rapidapi.com/4/check_account\n",
      "6326\n"
     ]
    },
    {
     "name": "stderr",
     "output_type": "stream",
     "text": [
      "6327it [49:10,  3.36s/it]"
     ]
    },
    {
     "name": "stdout",
     "output_type": "stream",
     "text": [
      "Failed on account: 921485590562004992\n",
      "429 Client Error: Too Many Requests for url: https://botometer-pro.p.rapidapi.com/4/check_account\n",
      "6327\n"
     ]
    },
    {
     "name": "stderr",
     "output_type": "stream",
     "text": [
      "6328it [49:15,  3.83s/it]"
     ]
    },
    {
     "name": "stdout",
     "output_type": "stream",
     "text": [
      "Failed on account: 2807792942\n",
      "429 Client Error: Too Many Requests for url: https://botometer-pro.p.rapidapi.com/4/check_account\n",
      "6328\n"
     ]
    },
    {
     "name": "stderr",
     "output_type": "stream",
     "text": [
      "6329it [49:24,  5.40s/it]"
     ]
    },
    {
     "name": "stdout",
     "output_type": "stream",
     "text": [
      "Failed on account: 2807792942\n",
      "429 Client Error: Too Many Requests for url: https://botometer-pro.p.rapidapi.com/4/check_account\n",
      "6329\n"
     ]
    },
    {
     "name": "stderr",
     "output_type": "stream",
     "text": [
      "6330it [49:37,  7.61s/it]"
     ]
    },
    {
     "name": "stdout",
     "output_type": "stream",
     "text": [
      "Failed on account: 289118612\n",
      "429 Client Error: Too Many Requests for url: https://botometer-pro.p.rapidapi.com/4/check_account\n",
      "6330\n"
     ]
    },
    {
     "name": "stderr",
     "output_type": "stream",
     "text": [
      "6331it [49:37,  5.42s/it]"
     ]
    },
    {
     "name": "stdout",
     "output_type": "stream",
     "text": [
      "Failed on account: 967199624728588416\n",
      "[{'code': 34, 'message': 'Sorry, that page does not exist.'}]\n",
      "6331\n"
     ]
    },
    {
     "name": "stderr",
     "output_type": "stream",
     "text": [
      "6332it [49:38,  3.87s/it]"
     ]
    },
    {
     "name": "stdout",
     "output_type": "stream",
     "text": [
      "Failed on account: 950576254897463168\n",
      "[{'code': 34, 'message': 'Sorry, that page does not exist.'}]\n",
      "6332\n"
     ]
    },
    {
     "name": "stderr",
     "output_type": "stream",
     "text": [
      "6333it [49:41,  3.83s/it]"
     ]
    },
    {
     "name": "stdout",
     "output_type": "stream",
     "text": [
      "Failed on account: 2735655330\n",
      "429 Client Error: Too Many Requests for url: https://botometer-pro.p.rapidapi.com/4/check_account\n",
      "6333\n"
     ]
    },
    {
     "name": "stderr",
     "output_type": "stream",
     "text": [
      "6334it [49:42,  2.77s/it]"
     ]
    },
    {
     "name": "stdout",
     "output_type": "stream",
     "text": [
      "Failed on account: 956892437363884032\n",
      "[{'code': 34, 'message': 'Sorry, that page does not exist.'}]\n",
      "6334\n"
     ]
    },
    {
     "name": "stderr",
     "output_type": "stream",
     "text": [
      "6335it [49:43,  2.48s/it]"
     ]
    },
    {
     "name": "stdout",
     "output_type": "stream",
     "text": [
      "Failed on account: 704436782729814016\n",
      "429 Client Error: Too Many Requests for url: https://botometer-pro.p.rapidapi.com/4/check_account\n",
      "6335\n"
     ]
    },
    {
     "name": "stderr",
     "output_type": "stream",
     "text": [
      "6336it [49:47,  2.82s/it]"
     ]
    },
    {
     "name": "stdout",
     "output_type": "stream",
     "text": [
      "Failed on account: 289118612\n",
      "429 Client Error: Too Many Requests for url: https://botometer-pro.p.rapidapi.com/4/check_account\n",
      "6336\n"
     ]
    },
    {
     "name": "stderr",
     "output_type": "stream",
     "text": [
      "6337it [49:49,  2.56s/it]"
     ]
    },
    {
     "name": "stdout",
     "output_type": "stream",
     "text": [
      "Failed on account: 4063540167\n",
      "429 Client Error: Too Many Requests for url: https://botometer-pro.p.rapidapi.com/4/check_account\n",
      "6337\n"
     ]
    },
    {
     "name": "stderr",
     "output_type": "stream",
     "text": [
      "6338it [49:58,  4.60s/it]"
     ]
    },
    {
     "name": "stdout",
     "output_type": "stream",
     "text": [
      "Failed on account: 16069119\n",
      "429 Client Error: Too Many Requests for url: https://botometer-pro.p.rapidapi.com/4/check_account\n",
      "6338\n"
     ]
    },
    {
     "name": "stderr",
     "output_type": "stream",
     "text": [
      "6339it [50:02,  4.19s/it]"
     ]
    },
    {
     "name": "stdout",
     "output_type": "stream",
     "text": [
      "Failed on account: 23085995\n",
      "429 Client Error: Too Many Requests for url: https://botometer-pro.p.rapidapi.com/4/check_account\n",
      "6339\n"
     ]
    },
    {
     "name": "stderr",
     "output_type": "stream",
     "text": [
      "6340it [50:04,  3.57s/it]"
     ]
    },
    {
     "name": "stdout",
     "output_type": "stream",
     "text": [
      "Failed on account: 298271710\n",
      "429 Client Error: Too Many Requests for url: https://botometer-pro.p.rapidapi.com/4/check_account\n",
      "6340\n"
     ]
    },
    {
     "name": "stderr",
     "output_type": "stream",
     "text": [
      "6341it [50:08,  3.65s/it]"
     ]
    },
    {
     "name": "stdout",
     "output_type": "stream",
     "text": [
      "Failed on account: 561654065\n",
      "429 Client Error: Too Many Requests for url: https://botometer-pro.p.rapidapi.com/4/check_account\n",
      "6341\n"
     ]
    },
    {
     "name": "stderr",
     "output_type": "stream",
     "text": [
      "6342it [50:11,  3.45s/it]"
     ]
    },
    {
     "name": "stdout",
     "output_type": "stream",
     "text": [
      "Failed on account: 797521183801561088\n",
      "429 Client Error: Too Many Requests for url: https://botometer-pro.p.rapidapi.com/4/check_account\n",
      "6342\n"
     ]
    },
    {
     "name": "stderr",
     "output_type": "stream",
     "text": [
      "6343it [50:13,  3.01s/it]"
     ]
    },
    {
     "name": "stdout",
     "output_type": "stream",
     "text": [
      "Failed on account: 961859545222938624\n",
      "429 Client Error: Too Many Requests for url: https://botometer-pro.p.rapidapi.com/4/check_account\n",
      "6343\n"
     ]
    },
    {
     "name": "stderr",
     "output_type": "stream",
     "text": [
      "6344it [50:17,  3.40s/it]"
     ]
    },
    {
     "name": "stdout",
     "output_type": "stream",
     "text": [
      "Failed on account: 1084524458\n",
      "429 Client Error: Too Many Requests for url: https://botometer-pro.p.rapidapi.com/4/check_account\n",
      "6344\n"
     ]
    },
    {
     "name": "stderr",
     "output_type": "stream",
     "text": [
      "6345it [50:19,  3.05s/it]"
     ]
    },
    {
     "name": "stdout",
     "output_type": "stream",
     "text": [
      "Failed on account: 705430674769973248\n",
      "429 Client Error: Too Many Requests for url: https://botometer-pro.p.rapidapi.com/4/check_account\n",
      "6345\n"
     ]
    },
    {
     "name": "stderr",
     "output_type": "stream",
     "text": [
      "6346it [50:22,  3.14s/it]"
     ]
    },
    {
     "name": "stdout",
     "output_type": "stream",
     "text": [
      "Failed on account: 3249281125\n",
      "429 Client Error: Too Many Requests for url: https://botometer-pro.p.rapidapi.com/4/check_account\n",
      "6346\n"
     ]
    },
    {
     "name": "stderr",
     "output_type": "stream",
     "text": [
      "6347it [50:25,  2.88s/it]"
     ]
    },
    {
     "name": "stdout",
     "output_type": "stream",
     "text": [
      "Failed on account: 302025198\n",
      "429 Client Error: Too Many Requests for url: https://botometer-pro.p.rapidapi.com/4/check_account\n",
      "6347\n"
     ]
    },
    {
     "name": "stderr",
     "output_type": "stream",
     "text": [
      "6348it [50:27,  2.85s/it]"
     ]
    },
    {
     "name": "stdout",
     "output_type": "stream",
     "text": [
      "Failed on account: 704707055190282240\n",
      "429 Client Error: Too Many Requests for url: https://botometer-pro.p.rapidapi.com/4/check_account\n",
      "6348\n"
     ]
    },
    {
     "name": "stderr",
     "output_type": "stream",
     "text": [
      "6349it [50:30,  2.88s/it]"
     ]
    },
    {
     "name": "stdout",
     "output_type": "stream",
     "text": [
      "Failed on account: 454176419\n",
      "429 Client Error: Too Many Requests for url: https://botometer-pro.p.rapidapi.com/4/check_account\n",
      "6349\n"
     ]
    },
    {
     "name": "stderr",
     "output_type": "stream",
     "text": [
      "6350it [50:33,  2.90s/it]"
     ]
    },
    {
     "name": "stdout",
     "output_type": "stream",
     "text": [
      "Failed on account: 362751272\n",
      "429 Client Error: Too Many Requests for url: https://botometer-pro.p.rapidapi.com/4/check_account\n",
      "6350\n"
     ]
    },
    {
     "name": "stderr",
     "output_type": "stream",
     "text": [
      "6351it [50:34,  2.12s/it]"
     ]
    },
    {
     "name": "stdout",
     "output_type": "stream",
     "text": [
      "Failed on account: 894425176216961024\n",
      "[{'code': 34, 'message': 'Sorry, that page does not exist.'}]\n",
      "6351\n"
     ]
    },
    {
     "name": "stderr",
     "output_type": "stream",
     "text": [
      "6352it [50:38,  2.72s/it]"
     ]
    },
    {
     "name": "stdout",
     "output_type": "stream",
     "text": [
      "Failed on account: 17867050\n",
      "429 Client Error: Too Many Requests for url: https://botometer-pro.p.rapidapi.com/4/check_account\n",
      "6352\n"
     ]
    },
    {
     "name": "stderr",
     "output_type": "stream",
     "text": [
      "6353it [50:41,  2.98s/it]"
     ]
    },
    {
     "name": "stdout",
     "output_type": "stream",
     "text": [
      "Failed on account: 810394104\n",
      "429 Client Error: Too Many Requests for url: https://botometer-pro.p.rapidapi.com/4/check_account\n",
      "6353\n"
     ]
    },
    {
     "name": "stderr",
     "output_type": "stream",
     "text": [
      "6354it [50:44,  2.97s/it]"
     ]
    },
    {
     "name": "stdout",
     "output_type": "stream",
     "text": [
      "Failed on account: 1679672113\n",
      "429 Client Error: Too Many Requests for url: https://botometer-pro.p.rapidapi.com/4/check_account\n",
      "6354\n"
     ]
    },
    {
     "name": "stderr",
     "output_type": "stream",
     "text": [
      "6355it [50:47,  3.02s/it]"
     ]
    },
    {
     "name": "stdout",
     "output_type": "stream",
     "text": [
      "Failed on account: 64643056\n",
      "429 Client Error: Too Many Requests for url: https://botometer-pro.p.rapidapi.com/4/check_account\n",
      "6355\n"
     ]
    },
    {
     "name": "stderr",
     "output_type": "stream",
     "text": [
      "6356it [50:50,  2.76s/it]"
     ]
    },
    {
     "name": "stdout",
     "output_type": "stream",
     "text": [
      "Failed on account: 2924877954\n",
      "429 Client Error: Too Many Requests for url: https://botometer-pro.p.rapidapi.com/4/check_account\n",
      "6356\n"
     ]
    },
    {
     "name": "stderr",
     "output_type": "stream",
     "text": [
      "6357it [50:53,  2.93s/it]"
     ]
    },
    {
     "name": "stdout",
     "output_type": "stream",
     "text": [
      "Failed on account: 289118612\n",
      "429 Client Error: Too Many Requests for url: https://botometer-pro.p.rapidapi.com/4/check_account\n",
      "6357\n"
     ]
    },
    {
     "name": "stderr",
     "output_type": "stream",
     "text": [
      "6358it [50:55,  2.74s/it]"
     ]
    },
    {
     "name": "stdout",
     "output_type": "stream",
     "text": [
      "Failed on account: 2988902736\n",
      "429 Client Error: Too Many Requests for url: https://botometer-pro.p.rapidapi.com/4/check_account\n",
      "6358\n"
     ]
    },
    {
     "name": "stderr",
     "output_type": "stream",
     "text": [
      "6359it [50:58,  2.86s/it]"
     ]
    },
    {
     "name": "stdout",
     "output_type": "stream",
     "text": [
      "Failed on account: 204713195\n",
      "429 Client Error: Too Many Requests for url: https://botometer-pro.p.rapidapi.com/4/check_account\n",
      "6359\n"
     ]
    },
    {
     "name": "stderr",
     "output_type": "stream",
     "text": [
      "6360it [51:02,  3.17s/it]"
     ]
    },
    {
     "name": "stdout",
     "output_type": "stream",
     "text": [
      "Failed on account: 186914548\n",
      "429 Client Error: Too Many Requests for url: https://botometer-pro.p.rapidapi.com/4/check_account\n",
      "6360\n"
     ]
    },
    {
     "name": "stderr",
     "output_type": "stream",
     "text": [
      "6361it [51:04,  2.83s/it]"
     ]
    },
    {
     "name": "stdout",
     "output_type": "stream",
     "text": [
      "Failed on account: 975142075174862848\n",
      "429 Client Error: Too Many Requests for url: https://botometer-pro.p.rapidapi.com/4/check_account\n",
      "6361\n"
     ]
    },
    {
     "name": "stderr",
     "output_type": "stream",
     "text": [
      "6362it [51:05,  2.10s/it]"
     ]
    },
    {
     "name": "stdout",
     "output_type": "stream",
     "text": [
      "Failed on account: 833054275836211200\n",
      "[{'code': 34, 'message': 'Sorry, that page does not exist.'}]\n",
      "6362\n"
     ]
    },
    {
     "name": "stderr",
     "output_type": "stream",
     "text": [
      "6363it [51:07,  2.03s/it]"
     ]
    },
    {
     "name": "stdout",
     "output_type": "stream",
     "text": [
      "Failed on account: 119499038\n",
      "429 Client Error: Too Many Requests for url: https://botometer-pro.p.rapidapi.com/4/check_account\n",
      "6363\n"
     ]
    },
    {
     "name": "stderr",
     "output_type": "stream",
     "text": [
      "6364it [51:07,  1.51s/it]"
     ]
    },
    {
     "name": "stdout",
     "output_type": "stream",
     "text": [
      "Failed on account: 943257193410854784\n",
      "[{'code': 34, 'message': 'Sorry, that page does not exist.'}]\n",
      "6364\n"
     ]
    },
    {
     "name": "stderr",
     "output_type": "stream",
     "text": [
      "6365it [51:10,  2.11s/it]"
     ]
    },
    {
     "name": "stdout",
     "output_type": "stream",
     "text": [
      "Failed on account: 2789478210\n",
      "429 Client Error: Too Many Requests for url: https://botometer-pro.p.rapidapi.com/4/check_account\n",
      "6365\n"
     ]
    },
    {
     "name": "stderr",
     "output_type": "stream",
     "text": [
      "6366it [51:11,  1.59s/it]"
     ]
    },
    {
     "name": "stdout",
     "output_type": "stream",
     "text": [
      "Failed on account: 954075023421079552\n",
      "[{'code': 34, 'message': 'Sorry, that page does not exist.'}]\n",
      "6366\n"
     ]
    },
    {
     "name": "stderr",
     "output_type": "stream",
     "text": [
      "6367it [51:14,  2.03s/it]"
     ]
    },
    {
     "name": "stdout",
     "output_type": "stream",
     "text": [
      "Failed on account: 104077046\n",
      "429 Client Error: Too Many Requests for url: https://botometer-pro.p.rapidapi.com/4/check_account\n",
      "6367\n"
     ]
    },
    {
     "name": "stderr",
     "output_type": "stream",
     "text": [
      "6368it [51:16,  2.12s/it]"
     ]
    },
    {
     "name": "stdout",
     "output_type": "stream",
     "text": [
      "Failed on account: 1901999588\n",
      "429 Client Error: Too Many Requests for url: https://botometer-pro.p.rapidapi.com/4/check_account\n",
      "6368\n"
     ]
    },
    {
     "name": "stderr",
     "output_type": "stream",
     "text": [
      "6369it [51:19,  2.40s/it]"
     ]
    },
    {
     "name": "stdout",
     "output_type": "stream",
     "text": [
      "Failed on account: 1335397489\n",
      "429 Client Error: Too Many Requests for url: https://botometer-pro.p.rapidapi.com/4/check_account\n",
      "6369\n"
     ]
    },
    {
     "name": "stderr",
     "output_type": "stream",
     "text": [
      "6370it [51:19,  1.74s/it]"
     ]
    },
    {
     "name": "stdout",
     "output_type": "stream",
     "text": [
      "Failed on account: 819187929025302528\n",
      "[{'code': 34, 'message': 'Sorry, that page does not exist.'}]\n",
      "6370\n"
     ]
    },
    {
     "name": "stderr",
     "output_type": "stream",
     "text": [
      "6371it [51:22,  1.97s/it]"
     ]
    },
    {
     "name": "stdout",
     "output_type": "stream",
     "text": [
      "Failed on account: 277798126\n",
      "429 Client Error: Too Many Requests for url: https://botometer-pro.p.rapidapi.com/4/check_account\n",
      "6371\n"
     ]
    },
    {
     "name": "stderr",
     "output_type": "stream",
     "text": [
      "6372it [51:25,  2.18s/it]"
     ]
    },
    {
     "name": "stdout",
     "output_type": "stream",
     "text": [
      "Failed on account: 890319316327047168\n",
      "429 Client Error: Too Many Requests for url: https://botometer-pro.p.rapidapi.com/4/check_account\n",
      "6372\n"
     ]
    },
    {
     "name": "stderr",
     "output_type": "stream",
     "text": [
      "6373it [51:27,  2.36s/it]"
     ]
    },
    {
     "name": "stdout",
     "output_type": "stream",
     "text": [
      "Failed on account: 2926422877\n",
      "429 Client Error: Too Many Requests for url: https://botometer-pro.p.rapidapi.com/4/check_account\n",
      "6373\n"
     ]
    },
    {
     "name": "stderr",
     "output_type": "stream",
     "text": [
      "6374it [51:29,  2.25s/it]"
     ]
    },
    {
     "name": "stdout",
     "output_type": "stream",
     "text": [
      "Failed on account: 271636766\n",
      "429 Client Error: Too Many Requests for url: https://botometer-pro.p.rapidapi.com/4/check_account\n",
      "6374\n"
     ]
    },
    {
     "name": "stderr",
     "output_type": "stream",
     "text": [
      "6375it [51:30,  1.68s/it]"
     ]
    },
    {
     "name": "stdout",
     "output_type": "stream",
     "text": [
      "Failed on account: 977600497380184064\n",
      "[{'code': 34, 'message': 'Sorry, that page does not exist.'}]\n",
      "6375\n"
     ]
    },
    {
     "name": "stderr",
     "output_type": "stream",
     "text": [
      "6376it [51:30,  1.27s/it]"
     ]
    },
    {
     "name": "stdout",
     "output_type": "stream",
     "text": [
      "Failed on account: 927422809042800640\n",
      "Not authorized.\n",
      "6376\n"
     ]
    },
    {
     "name": "stderr",
     "output_type": "stream",
     "text": [
      "6377it [51:32,  1.54s/it]"
     ]
    },
    {
     "name": "stdout",
     "output_type": "stream",
     "text": [
      "Failed on account: 255915736\n",
      "429 Client Error: Too Many Requests for url: https://botometer-pro.p.rapidapi.com/4/check_account\n",
      "6377\n"
     ]
    },
    {
     "name": "stderr",
     "output_type": "stream",
     "text": [
      "6378it [51:33,  1.19s/it]"
     ]
    },
    {
     "name": "stdout",
     "output_type": "stream",
     "text": [
      "Failed on account: 731993968846626816\n",
      "[{'code': 34, 'message': 'Sorry, that page does not exist.'}]\n",
      "6378\n"
     ]
    },
    {
     "name": "stderr",
     "output_type": "stream",
     "text": [
      "6379it [51:33,  1.08it/s]"
     ]
    },
    {
     "name": "stdout",
     "output_type": "stream",
     "text": [
      "Failed on account: 718923342103773184\n",
      "[{'code': 34, 'message': 'Sorry, that page does not exist.'}]\n",
      "6379\n"
     ]
    },
    {
     "name": "stderr",
     "output_type": "stream",
     "text": [
      "6380it [51:37,  1.83s/it]"
     ]
    },
    {
     "name": "stdout",
     "output_type": "stream",
     "text": [
      "Failed on account: 113922851\n",
      "429 Client Error: Too Many Requests for url: https://botometer-pro.p.rapidapi.com/4/check_account\n",
      "6380\n"
     ]
    },
    {
     "name": "stderr",
     "output_type": "stream",
     "text": [
      "6381it [51:39,  1.93s/it]"
     ]
    },
    {
     "name": "stdout",
     "output_type": "stream",
     "text": [
      "Failed on account: 955362184485273600\n",
      "429 Client Error: Too Many Requests for url: https://botometer-pro.p.rapidapi.com/4/check_account\n",
      "6381\n"
     ]
    },
    {
     "name": "stderr",
     "output_type": "stream",
     "text": [
      "6382it [51:41,  2.07s/it]"
     ]
    },
    {
     "name": "stdout",
     "output_type": "stream",
     "text": [
      "Failed on account: 4146483742\n",
      "429 Client Error: Too Many Requests for url: https://botometer-pro.p.rapidapi.com/4/check_account\n",
      "6382\n"
     ]
    },
    {
     "name": "stderr",
     "output_type": "stream",
     "text": [
      "6383it [51:42,  1.54s/it]"
     ]
    },
    {
     "name": "stdout",
     "output_type": "stream",
     "text": [
      "Failed on account: 922718833508585600\n",
      "[{'code': 34, 'message': 'Sorry, that page does not exist.'}]\n",
      "6383\n"
     ]
    },
    {
     "name": "stderr",
     "output_type": "stream",
     "text": [
      "6384it [51:42,  1.17s/it]"
     ]
    },
    {
     "name": "stdout",
     "output_type": "stream",
     "text": [
      "Failed on account: 874106117886005248\n",
      "[{'code': 34, 'message': 'Sorry, that page does not exist.'}]\n",
      "6384\n"
     ]
    },
    {
     "name": "stderr",
     "output_type": "stream",
     "text": [
      "6385it [51:46,  1.91s/it]"
     ]
    },
    {
     "name": "stdout",
     "output_type": "stream",
     "text": [
      "Failed on account: 930051162\n",
      "429 Client Error: Too Many Requests for url: https://botometer-pro.p.rapidapi.com/4/check_account\n",
      "6385\n"
     ]
    },
    {
     "name": "stderr",
     "output_type": "stream",
     "text": [
      "6386it [51:48,  2.13s/it]"
     ]
    },
    {
     "name": "stdout",
     "output_type": "stream",
     "text": [
      "Failed on account: 2300843250\n",
      "429 Client Error: Too Many Requests for url: https://botometer-pro.p.rapidapi.com/4/check_account\n",
      "6386\n"
     ]
    },
    {
     "name": "stderr",
     "output_type": "stream",
     "text": [
      "6387it [51:52,  2.60s/it]"
     ]
    },
    {
     "name": "stdout",
     "output_type": "stream",
     "text": [
      "Failed on account: 2449913803\n",
      "429 Client Error: Too Many Requests for url: https://botometer-pro.p.rapidapi.com/4/check_account\n",
      "6387\n"
     ]
    },
    {
     "name": "stderr",
     "output_type": "stream",
     "text": [
      "6388it [51:57,  3.20s/it]"
     ]
    },
    {
     "name": "stdout",
     "output_type": "stream",
     "text": [
      "Failed on account: 15455314\n",
      "429 Client Error: Too Many Requests for url: https://botometer-pro.p.rapidapi.com/4/check_account\n",
      "6388\n"
     ]
    },
    {
     "name": "stderr",
     "output_type": "stream",
     "text": [
      "6389it [52:00,  3.16s/it]"
     ]
    },
    {
     "name": "stdout",
     "output_type": "stream",
     "text": [
      "Failed on account: 357029197\n",
      "429 Client Error: Too Many Requests for url: https://botometer-pro.p.rapidapi.com/4/check_account\n",
      "6389\n"
     ]
    },
    {
     "name": "stderr",
     "output_type": "stream",
     "text": [
      "6390it [52:02,  2.82s/it]"
     ]
    },
    {
     "name": "stdout",
     "output_type": "stream",
     "text": [
      "Failed on account: 955362184485273600\n",
      "429 Client Error: Too Many Requests for url: https://botometer-pro.p.rapidapi.com/4/check_account\n",
      "6390\n"
     ]
    },
    {
     "name": "stderr",
     "output_type": "stream",
     "text": [
      "6391it [52:06,  3.14s/it]"
     ]
    },
    {
     "name": "stdout",
     "output_type": "stream",
     "text": [
      "Failed on account: 758405608085348352\n",
      "429 Client Error: Too Many Requests for url: https://botometer-pro.p.rapidapi.com/4/check_account\n",
      "6391\n"
     ]
    },
    {
     "name": "stderr",
     "output_type": "stream",
     "text": [
      "6392it [52:08,  2.91s/it]"
     ]
    },
    {
     "name": "stdout",
     "output_type": "stream",
     "text": [
      "Failed on account: 421807665\n",
      "429 Client Error: Too Many Requests for url: https://botometer-pro.p.rapidapi.com/4/check_account\n",
      "6392\n"
     ]
    },
    {
     "name": "stderr",
     "output_type": "stream",
     "text": [
      "6393it [52:11,  2.93s/it]"
     ]
    },
    {
     "name": "stdout",
     "output_type": "stream",
     "text": [
      "Failed on account: 829157137\n",
      "429 Client Error: Too Many Requests for url: https://botometer-pro.p.rapidapi.com/4/check_account\n",
      "6393\n"
     ]
    },
    {
     "name": "stderr",
     "output_type": "stream",
     "text": [
      "6394it [52:11,  2.14s/it]"
     ]
    },
    {
     "name": "stdout",
     "output_type": "stream",
     "text": [
      "Failed on account: 717875763031195648\n",
      "[{'code': 34, 'message': 'Sorry, that page does not exist.'}]\n",
      "6394\n"
     ]
    },
    {
     "name": "stderr",
     "output_type": "stream",
     "text": [
      "6395it [52:15,  2.52s/it]"
     ]
    },
    {
     "name": "stdout",
     "output_type": "stream",
     "text": [
      "Failed on account: 30091393\n",
      "429 Client Error: Too Many Requests for url: https://botometer-pro.p.rapidapi.com/4/check_account\n",
      "6395\n"
     ]
    },
    {
     "name": "stderr",
     "output_type": "stream",
     "text": [
      "6396it [52:17,  2.44s/it]"
     ]
    },
    {
     "name": "stdout",
     "output_type": "stream",
     "text": [
      "Failed on account: 754865530432004096\n",
      "429 Client Error: Too Many Requests for url: https://botometer-pro.p.rapidapi.com/4/check_account\n",
      "6396\n"
     ]
    },
    {
     "name": "stderr",
     "output_type": "stream",
     "text": [
      "6397it [52:22,  3.12s/it]"
     ]
    },
    {
     "name": "stdout",
     "output_type": "stream",
     "text": [
      "Failed on account: 196117813\n",
      "429 Client Error: Too Many Requests for url: https://botometer-pro.p.rapidapi.com/4/check_account\n",
      "6397\n"
     ]
    },
    {
     "name": "stderr",
     "output_type": "stream",
     "text": [
      "6398it [52:24,  3.00s/it]"
     ]
    },
    {
     "name": "stdout",
     "output_type": "stream",
     "text": [
      "Failed on account: 414779767\n",
      "429 Client Error: Too Many Requests for url: https://botometer-pro.p.rapidapi.com/4/check_account\n",
      "6398\n"
     ]
    },
    {
     "name": "stderr",
     "output_type": "stream",
     "text": [
      "6399it [52:30,  3.94s/it]"
     ]
    },
    {
     "name": "stdout",
     "output_type": "stream",
     "text": [
      "Failed on account: 751078822146080768\n",
      "429 Client Error: Too Many Requests for url: https://botometer-pro.p.rapidapi.com/4/check_account\n",
      "6399\n"
     ]
    },
    {
     "name": "stderr",
     "output_type": "stream",
     "text": [
      "6400it [52:33,  3.55s/it]"
     ]
    },
    {
     "name": "stdout",
     "output_type": "stream",
     "text": [
      "Failed on account: 4422180672\n",
      "429 Client Error: Too Many Requests for url: https://botometer-pro.p.rapidapi.com/4/check_account\n",
      "6400\n"
     ]
    },
    {
     "name": "stderr",
     "output_type": "stream",
     "text": [
      "6401it [52:37,  3.66s/it]"
     ]
    },
    {
     "name": "stdout",
     "output_type": "stream",
     "text": [
      "Failed on account: 954479220\n",
      "429 Client Error: Too Many Requests for url: https://botometer-pro.p.rapidapi.com/4/check_account\n",
      "6401\n"
     ]
    },
    {
     "name": "stderr",
     "output_type": "stream",
     "text": [
      "6402it [52:39,  3.18s/it]"
     ]
    },
    {
     "name": "stdout",
     "output_type": "stream",
     "text": [
      "Failed on account: 943953446067154944\n",
      "429 Client Error: Too Many Requests for url: https://botometer-pro.p.rapidapi.com/4/check_account\n",
      "6402\n"
     ]
    },
    {
     "name": "stderr",
     "output_type": "stream",
     "text": [
      "6403it [52:43,  3.38s/it]"
     ]
    },
    {
     "name": "stdout",
     "output_type": "stream",
     "text": [
      "Failed on account: 197224469\n",
      "429 Client Error: Too Many Requests for url: https://botometer-pro.p.rapidapi.com/4/check_account\n",
      "6403\n"
     ]
    },
    {
     "name": "stderr",
     "output_type": "stream",
     "text": [
      "6404it [52:45,  2.96s/it]"
     ]
    },
    {
     "name": "stdout",
     "output_type": "stream",
     "text": [
      "Failed on account: 2344304872\n",
      "429 Client Error: Too Many Requests for url: https://botometer-pro.p.rapidapi.com/4/check_account\n",
      "6404\n"
     ]
    },
    {
     "name": "stderr",
     "output_type": "stream",
     "text": [
      "6405it [52:48,  3.06s/it]"
     ]
    },
    {
     "name": "stdout",
     "output_type": "stream",
     "text": [
      "Failed on account: 24996956\n",
      "429 Client Error: Too Many Requests for url: https://botometer-pro.p.rapidapi.com/4/check_account\n",
      "6405\n"
     ]
    },
    {
     "name": "stderr",
     "output_type": "stream",
     "text": [
      "6406it [52:51,  2.94s/it]"
     ]
    },
    {
     "name": "stdout",
     "output_type": "stream",
     "text": [
      "Failed on account: 883870765262811136\n",
      "429 Client Error: Too Many Requests for url: https://botometer-pro.p.rapidapi.com/4/check_account\n",
      "6406\n"
     ]
    },
    {
     "name": "stderr",
     "output_type": "stream",
     "text": [
      "6407it [52:53,  2.79s/it]"
     ]
    },
    {
     "name": "stdout",
     "output_type": "stream",
     "text": [
      "Failed on account: 909782340997595136\n",
      "429 Client Error: Too Many Requests for url: https://botometer-pro.p.rapidapi.com/4/check_account\n",
      "6407\n"
     ]
    },
    {
     "name": "stderr",
     "output_type": "stream",
     "text": [
      "6408it [52:55,  2.58s/it]"
     ]
    },
    {
     "name": "stdout",
     "output_type": "stream",
     "text": [
      "Failed on account: 4819614003\n",
      "429 Client Error: Too Many Requests for url: https://botometer-pro.p.rapidapi.com/4/check_account\n",
      "6408\n"
     ]
    },
    {
     "name": "stderr",
     "output_type": "stream",
     "text": [
      "6409it [52:58,  2.54s/it]"
     ]
    },
    {
     "name": "stdout",
     "output_type": "stream",
     "text": [
      "Failed on account: 21027387\n",
      "429 Client Error: Too Many Requests for url: https://botometer-pro.p.rapidapi.com/4/check_account\n",
      "6409\n"
     ]
    },
    {
     "name": "stderr",
     "output_type": "stream",
     "text": [
      "6410it [53:00,  2.48s/it]"
     ]
    },
    {
     "name": "stdout",
     "output_type": "stream",
     "text": [
      "Failed on account: 1901999588\n",
      "429 Client Error: Too Many Requests for url: https://botometer-pro.p.rapidapi.com/4/check_account\n",
      "6410\n"
     ]
    },
    {
     "name": "stderr",
     "output_type": "stream",
     "text": [
      "6411it [53:04,  2.91s/it]"
     ]
    },
    {
     "name": "stdout",
     "output_type": "stream",
     "text": [
      "Failed on account: 215207998\n",
      "429 Client Error: Too Many Requests for url: https://botometer-pro.p.rapidapi.com/4/check_account\n",
      "6411\n"
     ]
    },
    {
     "name": "stderr",
     "output_type": "stream",
     "text": [
      "6412it [53:08,  3.08s/it]"
     ]
    },
    {
     "name": "stdout",
     "output_type": "stream",
     "text": [
      "Failed on account: 215207998\n",
      "429 Client Error: Too Many Requests for url: https://botometer-pro.p.rapidapi.com/4/check_account\n",
      "6412\n"
     ]
    },
    {
     "name": "stderr",
     "output_type": "stream",
     "text": [
      "6413it [53:11,  3.23s/it]"
     ]
    },
    {
     "name": "stdout",
     "output_type": "stream",
     "text": [
      "Failed on account: 743800592\n",
      "429 Client Error: Too Many Requests for url: https://botometer-pro.p.rapidapi.com/4/check_account\n",
      "6413\n"
     ]
    },
    {
     "name": "stderr",
     "output_type": "stream",
     "text": [
      "6414it [53:13,  2.98s/it]"
     ]
    },
    {
     "name": "stdout",
     "output_type": "stream",
     "text": [
      "Failed on account: 21027387\n",
      "429 Client Error: Too Many Requests for url: https://botometer-pro.p.rapidapi.com/4/check_account\n",
      "6414\n"
     ]
    },
    {
     "name": "stderr",
     "output_type": "stream",
     "text": [
      "6415it [53:21,  4.31s/it]"
     ]
    },
    {
     "name": "stdout",
     "output_type": "stream",
     "text": [
      "Failed on account: 358519345\n",
      "429 Client Error: Too Many Requests for url: https://botometer-pro.p.rapidapi.com/4/check_account\n",
      "6415\n"
     ]
    },
    {
     "name": "stderr",
     "output_type": "stream",
     "text": [
      "6416it [53:23,  3.75s/it]"
     ]
    },
    {
     "name": "stdout",
     "output_type": "stream",
     "text": [
      "Failed on account: 788417346092183552\n",
      "429 Client Error: Too Many Requests for url: https://botometer-pro.p.rapidapi.com/4/check_account\n",
      "6416\n"
     ]
    },
    {
     "name": "stderr",
     "output_type": "stream",
     "text": [
      "6417it [53:27,  3.71s/it]"
     ]
    },
    {
     "name": "stdout",
     "output_type": "stream",
     "text": [
      "Failed on account: 86159944\n",
      "429 Client Error: Too Many Requests for url: https://botometer-pro.p.rapidapi.com/4/check_account\n",
      "6417\n"
     ]
    },
    {
     "name": "stderr",
     "output_type": "stream",
     "text": [
      "6418it [53:27,  2.69s/it]"
     ]
    },
    {
     "name": "stdout",
     "output_type": "stream",
     "text": [
      "Failed on account: 830905941855989760\n",
      "[{'code': 34, 'message': 'Sorry, that page does not exist.'}]\n",
      "6418\n"
     ]
    },
    {
     "name": "stderr",
     "output_type": "stream",
     "text": [
      "6419it [53:30,  2.74s/it]"
     ]
    },
    {
     "name": "stdout",
     "output_type": "stream",
     "text": [
      "Failed on account: 33141937\n",
      "429 Client Error: Too Many Requests for url: https://botometer-pro.p.rapidapi.com/4/check_account\n",
      "6419\n"
     ]
    },
    {
     "name": "stderr",
     "output_type": "stream",
     "text": [
      "6420it [53:32,  2.52s/it]"
     ]
    },
    {
     "name": "stdout",
     "output_type": "stream",
     "text": [
      "Failed on account: 887698493061697536\n",
      "429 Client Error: Too Many Requests for url: https://botometer-pro.p.rapidapi.com/4/check_account\n",
      "6420\n"
     ]
    },
    {
     "name": "stderr",
     "output_type": "stream",
     "text": [
      "6421it [53:44,  5.32s/it]"
     ]
    },
    {
     "name": "stdout",
     "output_type": "stream",
     "text": [
      "Failed on account: 932159574\n",
      "429 Client Error: Too Many Requests for url: https://botometer-pro.p.rapidapi.com/4/check_account\n",
      "6421\n"
     ]
    },
    {
     "name": "stderr",
     "output_type": "stream",
     "text": [
      "6422it [53:48,  4.84s/it]"
     ]
    },
    {
     "name": "stdout",
     "output_type": "stream",
     "text": [
      "Failed on account: 464419646\n",
      "429 Client Error: Too Many Requests for url: https://botometer-pro.p.rapidapi.com/4/check_account\n",
      "6422\n"
     ]
    },
    {
     "name": "stderr",
     "output_type": "stream",
     "text": [
      "6423it [53:52,  4.74s/it]"
     ]
    },
    {
     "name": "stdout",
     "output_type": "stream",
     "text": [
      "Failed on account: 464419646\n",
      "429 Client Error: Too Many Requests for url: https://botometer-pro.p.rapidapi.com/4/check_account\n",
      "6423\n"
     ]
    },
    {
     "name": "stderr",
     "output_type": "stream",
     "text": [
      "6424it [53:56,  4.32s/it]"
     ]
    },
    {
     "name": "stdout",
     "output_type": "stream",
     "text": [
      "Failed on account: 2185622173\n",
      "429 Client Error: Too Many Requests for url: https://botometer-pro.p.rapidapi.com/4/check_account\n",
      "6424\n"
     ]
    },
    {
     "name": "stderr",
     "output_type": "stream",
     "text": [
      "6425it [54:00,  4.40s/it]"
     ]
    },
    {
     "name": "stdout",
     "output_type": "stream",
     "text": [
      "Failed on account: 30409200\n",
      "429 Client Error: Too Many Requests for url: https://botometer-pro.p.rapidapi.com/4/check_account\n",
      "6425\n"
     ]
    },
    {
     "name": "stderr",
     "output_type": "stream",
     "text": [
      "6426it [54:06,  4.82s/it]"
     ]
    },
    {
     "name": "stdout",
     "output_type": "stream",
     "text": [
      "Failed on account: 499073990\n",
      "429 Client Error: Too Many Requests for url: https://botometer-pro.p.rapidapi.com/4/check_account\n",
      "6426\n"
     ]
    },
    {
     "name": "stderr",
     "output_type": "stream",
     "text": [
      "6427it [54:10,  4.67s/it]"
     ]
    },
    {
     "name": "stdout",
     "output_type": "stream",
     "text": [
      "Failed on account: 499073990\n",
      "429 Client Error: Too Many Requests for url: https://botometer-pro.p.rapidapi.com/4/check_account\n",
      "6427\n"
     ]
    },
    {
     "name": "stderr",
     "output_type": "stream",
     "text": [
      "6428it [54:15,  4.54s/it]"
     ]
    },
    {
     "name": "stdout",
     "output_type": "stream",
     "text": [
      "Failed on account: 489475164\n",
      "429 Client Error: Too Many Requests for url: https://botometer-pro.p.rapidapi.com/4/check_account\n",
      "6428\n"
     ]
    },
    {
     "name": "stderr",
     "output_type": "stream",
     "text": [
      "6429it [54:19,  4.49s/it]"
     ]
    },
    {
     "name": "stdout",
     "output_type": "stream",
     "text": [
      "Failed on account: 22075159\n",
      "429 Client Error: Too Many Requests for url: https://botometer-pro.p.rapidapi.com/4/check_account\n",
      "6429\n"
     ]
    },
    {
     "name": "stderr",
     "output_type": "stream",
     "text": [
      "6430it [54:19,  3.23s/it]"
     ]
    },
    {
     "name": "stdout",
     "output_type": "stream",
     "text": [
      "Failed on account: 837433637318451200\n",
      "[{'code': 34, 'message': 'Sorry, that page does not exist.'}]\n",
      "6430\n"
     ]
    },
    {
     "name": "stderr",
     "output_type": "stream",
     "text": [
      "6431it [54:22,  3.15s/it]"
     ]
    },
    {
     "name": "stdout",
     "output_type": "stream",
     "text": [
      "Failed on account: 2363126492\n",
      "429 Client Error: Too Many Requests for url: https://botometer-pro.p.rapidapi.com/4/check_account\n",
      "6431\n"
     ]
    },
    {
     "name": "stderr",
     "output_type": "stream",
     "text": [
      "6432it [54:24,  2.91s/it]"
     ]
    },
    {
     "name": "stdout",
     "output_type": "stream",
     "text": [
      "Failed on account: 60731516\n",
      "429 Client Error: Too Many Requests for url: https://botometer-pro.p.rapidapi.com/4/check_account\n",
      "6432\n"
     ]
    },
    {
     "name": "stderr",
     "output_type": "stream",
     "text": [
      "6433it [54:28,  3.08s/it]"
     ]
    },
    {
     "name": "stdout",
     "output_type": "stream",
     "text": [
      "Failed on account: 28519560\n",
      "429 Client Error: Too Many Requests for url: https://botometer-pro.p.rapidapi.com/4/check_account\n",
      "6433\n"
     ]
    },
    {
     "name": "stderr",
     "output_type": "stream",
     "text": [
      "6434it [54:32,  3.28s/it]"
     ]
    },
    {
     "name": "stdout",
     "output_type": "stream",
     "text": [
      "Failed on account: 28387347\n",
      "429 Client Error: Too Many Requests for url: https://botometer-pro.p.rapidapi.com/4/check_account\n",
      "6434\n"
     ]
    },
    {
     "name": "stderr",
     "output_type": "stream",
     "text": [
      "6435it [54:36,  3.44s/it]"
     ]
    },
    {
     "name": "stdout",
     "output_type": "stream",
     "text": [
      "Failed on account: 2876448175\n",
      "429 Client Error: Too Many Requests for url: https://botometer-pro.p.rapidapi.com/4/check_account\n",
      "6435\n"
     ]
    },
    {
     "name": "stderr",
     "output_type": "stream",
     "text": [
      "6436it [54:39,  3.57s/it]"
     ]
    },
    {
     "name": "stdout",
     "output_type": "stream",
     "text": [
      "Failed on account: 2258357868\n",
      "429 Client Error: Too Many Requests for url: https://botometer-pro.p.rapidapi.com/4/check_account\n",
      "6436\n"
     ]
    },
    {
     "name": "stderr",
     "output_type": "stream",
     "text": [
      "6437it [54:42,  3.35s/it]"
     ]
    },
    {
     "name": "stdout",
     "output_type": "stream",
     "text": [
      "Failed on account: 50476888\n",
      "429 Client Error: Too Many Requests for url: https://botometer-pro.p.rapidapi.com/4/check_account\n",
      "6437\n"
     ]
    },
    {
     "name": "stderr",
     "output_type": "stream",
     "text": [
      "6438it [54:46,  3.33s/it]"
     ]
    },
    {
     "name": "stdout",
     "output_type": "stream",
     "text": [
      "Failed on account: 33380514\n",
      "429 Client Error: Too Many Requests for url: https://botometer-pro.p.rapidapi.com/4/check_account\n",
      "6438\n"
     ]
    },
    {
     "name": "stderr",
     "output_type": "stream",
     "text": [
      "6439it [54:54,  4.94s/it]"
     ]
    },
    {
     "name": "stdout",
     "output_type": "stream",
     "text": [
      "Failed on account: 33380514\n",
      "429 Client Error: Too Many Requests for url: https://botometer-pro.p.rapidapi.com/4/check_account\n",
      "6439\n"
     ]
    },
    {
     "name": "stderr",
     "output_type": "stream",
     "text": [
      "6440it [55:01,  5.47s/it]"
     ]
    },
    {
     "name": "stdout",
     "output_type": "stream",
     "text": [
      "Failed on account: 559068947\n",
      "429 Client Error: Too Many Requests for url: https://botometer-pro.p.rapidapi.com/4/check_account\n",
      "6440\n"
     ]
    },
    {
     "name": "stderr",
     "output_type": "stream",
     "text": [
      "6441it [55:04,  4.78s/it]"
     ]
    },
    {
     "name": "stdout",
     "output_type": "stream",
     "text": [
      "Failed on account: 1037426760\n",
      "429 Client Error: Too Many Requests for url: https://botometer-pro.p.rapidapi.com/4/check_account\n",
      "6441\n"
     ]
    },
    {
     "name": "stderr",
     "output_type": "stream",
     "text": [
      "6442it [55:08,  4.64s/it]"
     ]
    },
    {
     "name": "stdout",
     "output_type": "stream",
     "text": [
      "Failed on account: 34556109\n",
      "429 Client Error: Too Many Requests for url: https://botometer-pro.p.rapidapi.com/4/check_account\n",
      "6442\n"
     ]
    },
    {
     "name": "stderr",
     "output_type": "stream",
     "text": [
      "6443it [55:17,  5.70s/it]"
     ]
    },
    {
     "name": "stdout",
     "output_type": "stream",
     "text": [
      "Failed on account: 477036830\n",
      "429 Client Error: Too Many Requests for url: https://botometer-pro.p.rapidapi.com/4/check_account\n",
      "6443\n"
     ]
    },
    {
     "name": "stderr",
     "output_type": "stream",
     "text": [
      "6444it [55:17,  4.07s/it]"
     ]
    },
    {
     "name": "stdout",
     "output_type": "stream",
     "text": [
      "Failed on account: 831198128481132544\n",
      "[{'code': 34, 'message': 'Sorry, that page does not exist.'}]\n",
      "6444\n"
     ]
    },
    {
     "name": "stderr",
     "output_type": "stream",
     "text": [
      "6445it [55:23,  4.56s/it]"
     ]
    },
    {
     "name": "stdout",
     "output_type": "stream",
     "text": [
      "Failed on account: 2889924959\n",
      "429 Client Error: Too Many Requests for url: https://botometer-pro.p.rapidapi.com/4/check_account\n",
      "6445\n"
     ]
    },
    {
     "name": "stderr",
     "output_type": "stream",
     "text": [
      "6446it [55:25,  3.96s/it]"
     ]
    },
    {
     "name": "stdout",
     "output_type": "stream",
     "text": [
      "Failed on account: 598060074\n",
      "429 Client Error: Too Many Requests for url: https://botometer-pro.p.rapidapi.com/4/check_account\n",
      "6446\n"
     ]
    },
    {
     "name": "stderr",
     "output_type": "stream",
     "text": [
      "6447it [55:31,  4.49s/it]"
     ]
    },
    {
     "name": "stdout",
     "output_type": "stream",
     "text": [
      "Failed on account: 2889924959\n",
      "429 Client Error: Too Many Requests for url: https://botometer-pro.p.rapidapi.com/4/check_account\n",
      "6447\n"
     ]
    },
    {
     "name": "stderr",
     "output_type": "stream",
     "text": [
      "6448it [55:34,  4.11s/it]"
     ]
    },
    {
     "name": "stdout",
     "output_type": "stream",
     "text": [
      "Failed on account: 248796301\n",
      "429 Client Error: Too Many Requests for url: https://botometer-pro.p.rapidapi.com/4/check_account\n",
      "6448\n"
     ]
    },
    {
     "name": "stderr",
     "output_type": "stream",
     "text": [
      "6449it [55:37,  3.77s/it]"
     ]
    },
    {
     "name": "stdout",
     "output_type": "stream",
     "text": [
      "Failed on account: 84515922\n",
      "429 Client Error: Too Many Requests for url: https://botometer-pro.p.rapidapi.com/4/check_account\n",
      "6449\n"
     ]
    },
    {
     "name": "stderr",
     "output_type": "stream",
     "text": [
      "6450it [55:40,  3.56s/it]"
     ]
    },
    {
     "name": "stdout",
     "output_type": "stream",
     "text": [
      "Failed on account: 28785486\n",
      "429 Client Error: Too Many Requests for url: https://botometer-pro.p.rapidapi.com/4/check_account\n",
      "6450\n"
     ]
    },
    {
     "name": "stderr",
     "output_type": "stream",
     "text": [
      "6451it [55:42,  3.14s/it]"
     ]
    },
    {
     "name": "stdout",
     "output_type": "stream",
     "text": [
      "Failed on account: 559834781\n",
      "429 Client Error: Too Many Requests for url: https://botometer-pro.p.rapidapi.com/4/check_account\n",
      "6451\n"
     ]
    },
    {
     "name": "stderr",
     "output_type": "stream",
     "text": [
      "6452it [55:46,  3.18s/it]"
     ]
    },
    {
     "name": "stdout",
     "output_type": "stream",
     "text": [
      "Failed on account: 1385861262\n",
      "429 Client Error: Too Many Requests for url: https://botometer-pro.p.rapidapi.com/4/check_account\n",
      "6452\n"
     ]
    },
    {
     "name": "stderr",
     "output_type": "stream",
     "text": [
      "6453it [55:49,  3.28s/it]"
     ]
    },
    {
     "name": "stdout",
     "output_type": "stream",
     "text": [
      "Failed on account: 163436555\n",
      "429 Client Error: Too Many Requests for url: https://botometer-pro.p.rapidapi.com/4/check_account\n",
      "6453\n"
     ]
    },
    {
     "name": "stderr",
     "output_type": "stream",
     "text": [
      "6454it [55:52,  3.20s/it]"
     ]
    },
    {
     "name": "stdout",
     "output_type": "stream",
     "text": [
      "Failed on account: 4884088424\n",
      "429 Client Error: Too Many Requests for url: https://botometer-pro.p.rapidapi.com/4/check_account\n",
      "6454\n"
     ]
    },
    {
     "name": "stderr",
     "output_type": "stream",
     "text": [
      "6455it [55:55,  3.11s/it]"
     ]
    },
    {
     "name": "stdout",
     "output_type": "stream",
     "text": [
      "Failed on account: 17965340\n",
      "429 Client Error: Too Many Requests for url: https://botometer-pro.p.rapidapi.com/4/check_account\n",
      "6455\n"
     ]
    },
    {
     "name": "stderr",
     "output_type": "stream",
     "text": [
      "6456it [55:58,  3.01s/it]"
     ]
    },
    {
     "name": "stdout",
     "output_type": "stream",
     "text": [
      "Failed on account: 858924511\n",
      "429 Client Error: Too Many Requests for url: https://botometer-pro.p.rapidapi.com/4/check_account\n",
      "6456\n"
     ]
    },
    {
     "name": "stderr",
     "output_type": "stream",
     "text": [
      "6457it [56:02,  3.23s/it]"
     ]
    },
    {
     "name": "stdout",
     "output_type": "stream",
     "text": [
      "Failed on account: 101395252\n",
      "429 Client Error: Too Many Requests for url: https://botometer-pro.p.rapidapi.com/4/check_account\n",
      "6457\n"
     ]
    },
    {
     "name": "stderr",
     "output_type": "stream",
     "text": [
      "6458it [56:05,  3.23s/it]"
     ]
    },
    {
     "name": "stdout",
     "output_type": "stream",
     "text": [
      "Failed on account: 897709145398366208\n",
      "429 Client Error: Too Many Requests for url: https://botometer-pro.p.rapidapi.com/4/check_account\n",
      "6458\n"
     ]
    },
    {
     "name": "stderr",
     "output_type": "stream",
     "text": [
      "6459it [56:08,  3.27s/it]"
     ]
    },
    {
     "name": "stdout",
     "output_type": "stream",
     "text": [
      "Failed on account: 3911216058\n",
      "429 Client Error: Too Many Requests for url: https://botometer-pro.p.rapidapi.com/4/check_account\n",
      "6459\n"
     ]
    },
    {
     "name": "stderr",
     "output_type": "stream",
     "text": [
      "6460it [56:10,  2.90s/it]"
     ]
    },
    {
     "name": "stdout",
     "output_type": "stream",
     "text": [
      "Failed on account: 3936577756\n",
      "429 Client Error: Too Many Requests for url: https://botometer-pro.p.rapidapi.com/4/check_account\n",
      "6460\n"
     ]
    },
    {
     "name": "stderr",
     "output_type": "stream",
     "text": [
      "6461it [56:13,  3.03s/it]"
     ]
    },
    {
     "name": "stdout",
     "output_type": "stream",
     "text": [
      "Failed on account: 16178341\n",
      "429 Client Error: Too Many Requests for url: https://botometer-pro.p.rapidapi.com/4/check_account\n",
      "6461\n"
     ]
    },
    {
     "name": "stderr",
     "output_type": "stream",
     "text": [
      "6462it [1:00:23, 76.87s/it]"
     ]
    },
    {
     "name": "stdout",
     "output_type": "stream",
     "text": [
      "Failed on account: 38016930\n",
      "429 Client Error: Too Many Requests for url: https://botometer-pro.p.rapidapi.com/4/check_account\n",
      "6462\n"
     ]
    },
    {
     "name": "stderr",
     "output_type": "stream",
     "text": [
      "6463it [1:00:23, 53.91s/it]"
     ]
    },
    {
     "name": "stdout",
     "output_type": "stream",
     "text": [
      "Failed on account: 918074149586854016\n",
      "[{'code': 34, 'message': 'Sorry, that page does not exist.'}]\n",
      "6463\n"
     ]
    },
    {
     "name": "stderr",
     "output_type": "stream",
     "text": [
      "6464it [1:00:27, 38.89s/it]"
     ]
    },
    {
     "name": "stdout",
     "output_type": "stream",
     "text": [
      "Failed on account: 483195215\n",
      "429 Client Error: Too Many Requests for url: https://botometer-pro.p.rapidapi.com/4/check_account\n",
      "6464\n"
     ]
    },
    {
     "name": "stderr",
     "output_type": "stream",
     "text": [
      "6465it [1:00:29, 27.86s/it]"
     ]
    },
    {
     "name": "stdout",
     "output_type": "stream",
     "text": [
      "Failed on account: 15693892\n",
      "429 Client Error: Too Many Requests for url: https://botometer-pro.p.rapidapi.com/4/check_account\n",
      "6465\n"
     ]
    },
    {
     "name": "stderr",
     "output_type": "stream",
     "text": [
      "6466it [1:00:32, 20.38s/it]"
     ]
    },
    {
     "name": "stdout",
     "output_type": "stream",
     "text": [
      "Failed on account: 444435561\n",
      "429 Client Error: Too Many Requests for url: https://botometer-pro.p.rapidapi.com/4/check_account\n",
      "6466\n"
     ]
    },
    {
     "name": "stderr",
     "output_type": "stream",
     "text": [
      "6467it [1:00:34, 14.98s/it]"
     ]
    },
    {
     "name": "stdout",
     "output_type": "stream",
     "text": [
      "Failed on account: 788571666\n",
      "429 Client Error: Too Many Requests for url: https://botometer-pro.p.rapidapi.com/4/check_account\n",
      "6467\n"
     ]
    },
    {
     "name": "stderr",
     "output_type": "stream",
     "text": [
      "6468it [1:00:38, 11.67s/it]"
     ]
    },
    {
     "name": "stdout",
     "output_type": "stream",
     "text": [
      "Failed on account: 379004081\n",
      "429 Client Error: Too Many Requests for url: https://botometer-pro.p.rapidapi.com/4/check_account\n",
      "6468\n"
     ]
    },
    {
     "name": "stderr",
     "output_type": "stream",
     "text": [
      "6469it [1:00:42,  9.36s/it]"
     ]
    },
    {
     "name": "stdout",
     "output_type": "stream",
     "text": [
      "Failed on account: 289118612\n",
      "429 Client Error: Too Many Requests for url: https://botometer-pro.p.rapidapi.com/4/check_account\n",
      "6469\n"
     ]
    },
    {
     "name": "stderr",
     "output_type": "stream",
     "text": [
      "6470it [1:00:45,  7.28s/it]"
     ]
    },
    {
     "name": "stdout",
     "output_type": "stream",
     "text": [
      "Failed on account: 33141937\n",
      "429 Client Error: Too Many Requests for url: https://botometer-pro.p.rapidapi.com/4/check_account\n",
      "6470\n"
     ]
    },
    {
     "name": "stderr",
     "output_type": "stream",
     "text": [
      "6471it [1:00:49,  6.30s/it]"
     ]
    },
    {
     "name": "stdout",
     "output_type": "stream",
     "text": [
      "Failed on account: 27699547\n",
      "429 Client Error: Too Many Requests for url: https://botometer-pro.p.rapidapi.com/4/check_account\n",
      "6471\n"
     ]
    },
    {
     "name": "stderr",
     "output_type": "stream",
     "text": [
      "6472it [1:00:51,  5.16s/it]"
     ]
    },
    {
     "name": "stdout",
     "output_type": "stream",
     "text": [
      "Failed on account: 181312008\n",
      "429 Client Error: Too Many Requests for url: https://botometer-pro.p.rapidapi.com/4/check_account\n",
      "6472\n"
     ]
    },
    {
     "name": "stderr",
     "output_type": "stream",
     "text": [
      "6473it [1:00:54,  4.36s/it]"
     ]
    },
    {
     "name": "stdout",
     "output_type": "stream",
     "text": [
      "Failed on account: 732515283902943232\n",
      "429 Client Error: Too Many Requests for url: https://botometer-pro.p.rapidapi.com/4/check_account\n",
      "6473\n"
     ]
    },
    {
     "name": "stderr",
     "output_type": "stream",
     "text": [
      "6474it [1:00:57,  4.00s/it]"
     ]
    },
    {
     "name": "stdout",
     "output_type": "stream",
     "text": [
      "Failed on account: 17187236\n",
      "429 Client Error: Too Many Requests for url: https://botometer-pro.p.rapidapi.com/4/check_account\n",
      "6474\n"
     ]
    },
    {
     "name": "stderr",
     "output_type": "stream",
     "text": [
      "6475it [1:01:00,  3.81s/it]"
     ]
    },
    {
     "name": "stdout",
     "output_type": "stream",
     "text": [
      "Failed on account: 122533830\n",
      "429 Client Error: Too Many Requests for url: https://botometer-pro.p.rapidapi.com/4/check_account\n",
      "6475\n"
     ]
    },
    {
     "name": "stderr",
     "output_type": "stream",
     "text": [
      "6476it [1:01:04,  3.76s/it]"
     ]
    },
    {
     "name": "stdout",
     "output_type": "stream",
     "text": [
      "Failed on account: 35472060\n",
      "429 Client Error: Too Many Requests for url: https://botometer-pro.p.rapidapi.com/4/check_account\n",
      "6476\n"
     ]
    },
    {
     "name": "stderr",
     "output_type": "stream",
     "text": [
      "6477it [1:01:06,  3.41s/it]"
     ]
    },
    {
     "name": "stdout",
     "output_type": "stream",
     "text": [
      "Failed on account: 781046754049490944\n",
      "429 Client Error: Too Many Requests for url: https://botometer-pro.p.rapidapi.com/4/check_account\n",
      "6477\n"
     ]
    },
    {
     "name": "stderr",
     "output_type": "stream",
     "text": [
      "6478it [1:01:10,  3.50s/it]"
     ]
    },
    {
     "name": "stdout",
     "output_type": "stream",
     "text": [
      "Failed on account: 49698134\n",
      "429 Client Error: Too Many Requests for url: https://botometer-pro.p.rapidapi.com/4/check_account\n",
      "6478\n"
     ]
    },
    {
     "name": "stderr",
     "output_type": "stream",
     "text": [
      "6479it [1:01:12,  3.14s/it]"
     ]
    },
    {
     "name": "stdout",
     "output_type": "stream",
     "text": [
      "Failed on account: 29869339\n",
      "429 Client Error: Too Many Requests for url: https://botometer-pro.p.rapidapi.com/4/check_account\n",
      "6479\n"
     ]
    },
    {
     "name": "stderr",
     "output_type": "stream",
     "text": [
      "6480it [1:01:15,  3.02s/it]"
     ]
    },
    {
     "name": "stdout",
     "output_type": "stream",
     "text": [
      "Failed on account: 391368489\n",
      "429 Client Error: Too Many Requests for url: https://botometer-pro.p.rapidapi.com/4/check_account\n",
      "6480\n"
     ]
    },
    {
     "name": "stderr",
     "output_type": "stream",
     "text": [
      "6481it [1:01:17,  2.71s/it]"
     ]
    },
    {
     "name": "stdout",
     "output_type": "stream",
     "text": [
      "Failed on account: 234739934\n",
      "429 Client Error: Too Many Requests for url: https://botometer-pro.p.rapidapi.com/4/check_account\n",
      "6481\n"
     ]
    },
    {
     "name": "stderr",
     "output_type": "stream",
     "text": [
      "6482it [1:01:21,  3.21s/it]"
     ]
    },
    {
     "name": "stdout",
     "output_type": "stream",
     "text": [
      "Failed on account: 4650231256\n",
      "429 Client Error: Too Many Requests for url: https://botometer-pro.p.rapidapi.com/4/check_account\n",
      "6482\n"
     ]
    },
    {
     "name": "stderr",
     "output_type": "stream",
     "text": [
      "6483it [1:01:27,  3.80s/it]"
     ]
    },
    {
     "name": "stdout",
     "output_type": "stream",
     "text": [
      "Failed on account: 32626129\n",
      "429 Client Error: Too Many Requests for url: https://botometer-pro.p.rapidapi.com/4/check_account\n",
      "6483\n"
     ]
    },
    {
     "name": "stderr",
     "output_type": "stream",
     "text": [
      "6484it [1:01:30,  3.59s/it]"
     ]
    },
    {
     "name": "stdout",
     "output_type": "stream",
     "text": [
      "Failed on account: 804864633647472640\n",
      "429 Client Error: Too Many Requests for url: https://botometer-pro.p.rapidapi.com/4/check_account\n",
      "6484\n"
     ]
    },
    {
     "name": "stderr",
     "output_type": "stream",
     "text": [
      "6485it [1:01:34,  3.70s/it]"
     ]
    },
    {
     "name": "stdout",
     "output_type": "stream",
     "text": [
      "Failed on account: 110832582\n",
      "429 Client Error: Too Many Requests for url: https://botometer-pro.p.rapidapi.com/4/check_account\n",
      "6485\n"
     ]
    },
    {
     "name": "stderr",
     "output_type": "stream",
     "text": [
      "6486it [1:01:38,  3.83s/it]"
     ]
    },
    {
     "name": "stdout",
     "output_type": "stream",
     "text": [
      "Failed on account: 21434969\n",
      "429 Client Error: Too Many Requests for url: https://botometer-pro.p.rapidapi.com/4/check_account\n",
      "6486\n"
     ]
    },
    {
     "name": "stderr",
     "output_type": "stream",
     "text": [
      "6487it [1:01:44,  4.43s/it]"
     ]
    },
    {
     "name": "stdout",
     "output_type": "stream",
     "text": [
      "Failed on account: 499230066\n",
      "429 Client Error: Too Many Requests for url: https://botometer-pro.p.rapidapi.com/4/check_account\n",
      "6487\n"
     ]
    },
    {
     "name": "stderr",
     "output_type": "stream",
     "text": [
      "6488it [1:01:47,  4.17s/it]"
     ]
    },
    {
     "name": "stdout",
     "output_type": "stream",
     "text": [
      "Failed on account: 49068640\n",
      "429 Client Error: Too Many Requests for url: https://botometer-pro.p.rapidapi.com/4/check_account\n",
      "6488\n"
     ]
    },
    {
     "name": "stderr",
     "output_type": "stream",
     "text": [
      "6489it [1:01:51,  3.96s/it]"
     ]
    },
    {
     "name": "stdout",
     "output_type": "stream",
     "text": [
      "Failed on account: 3250141399\n",
      "429 Client Error: Too Many Requests for url: https://botometer-pro.p.rapidapi.com/4/check_account\n",
      "6489\n"
     ]
    },
    {
     "name": "stderr",
     "output_type": "stream",
     "text": [
      "6490it [1:01:53,  3.45s/it]"
     ]
    },
    {
     "name": "stdout",
     "output_type": "stream",
     "text": [
      "Failed on account: 1632957350\n",
      "429 Client Error: Too Many Requests for url: https://botometer-pro.p.rapidapi.com/4/check_account\n",
      "6490\n"
     ]
    },
    {
     "name": "stderr",
     "output_type": "stream",
     "text": [
      "6491it [1:01:56,  3.41s/it]"
     ]
    },
    {
     "name": "stdout",
     "output_type": "stream",
     "text": [
      "Failed on account: 15012486\n",
      "429 Client Error: Too Many Requests for url: https://botometer-pro.p.rapidapi.com/4/check_account\n",
      "6491\n"
     ]
    },
    {
     "name": "stderr",
     "output_type": "stream",
     "text": [
      "6492it [1:01:58,  3.02s/it]"
     ]
    },
    {
     "name": "stdout",
     "output_type": "stream",
     "text": [
      "Failed on account: 440349317\n",
      "429 Client Error: Too Many Requests for url: https://botometer-pro.p.rapidapi.com/4/check_account\n",
      "6492\n"
     ]
    },
    {
     "name": "stderr",
     "output_type": "stream",
     "text": [
      "6493it [1:02:01,  2.85s/it]"
     ]
    },
    {
     "name": "stdout",
     "output_type": "stream",
     "text": [
      "Failed on account: 793984839196221440\n",
      "429 Client Error: Too Many Requests for url: https://botometer-pro.p.rapidapi.com/4/check_account\n",
      "6493\n"
     ]
    },
    {
     "name": "stderr",
     "output_type": "stream",
     "text": [
      "6494it [1:02:03,  2.77s/it]"
     ]
    },
    {
     "name": "stdout",
     "output_type": "stream",
     "text": [
      "Failed on account: 427707249\n",
      "429 Client Error: Too Many Requests for url: https://botometer-pro.p.rapidapi.com/4/check_account\n",
      "6494\n"
     ]
    },
    {
     "name": "stderr",
     "output_type": "stream",
     "text": [
      "6495it [1:02:04,  2.03s/it]"
     ]
    },
    {
     "name": "stdout",
     "output_type": "stream",
     "text": [
      "Failed on account: 843162407224655872\n",
      "[{'code': 34, 'message': 'Sorry, that page does not exist.'}]\n",
      "6495\n"
     ]
    },
    {
     "name": "stderr",
     "output_type": "stream",
     "text": [
      "6496it [1:02:08,  2.75s/it]"
     ]
    },
    {
     "name": "stdout",
     "output_type": "stream",
     "text": [
      "Failed on account: 24733117\n",
      "429 Client Error: Too Many Requests for url: https://botometer-pro.p.rapidapi.com/4/check_account\n",
      "6496\n"
     ]
    },
    {
     "name": "stderr",
     "output_type": "stream",
     "text": [
      "6497it [1:02:11,  2.75s/it]"
     ]
    },
    {
     "name": "stdout",
     "output_type": "stream",
     "text": [
      "Failed on account: 42423915\n",
      "429 Client Error: Too Many Requests for url: https://botometer-pro.p.rapidapi.com/4/check_account\n",
      "6497\n"
     ]
    },
    {
     "name": "stderr",
     "output_type": "stream",
     "text": [
      "6498it [1:02:13,  2.63s/it]"
     ]
    },
    {
     "name": "stdout",
     "output_type": "stream",
     "text": [
      "Failed on account: 121282555\n",
      "429 Client Error: Too Many Requests for url: https://botometer-pro.p.rapidapi.com/4/check_account\n",
      "6498\n"
     ]
    },
    {
     "name": "stderr",
     "output_type": "stream",
     "text": [
      "6499it [1:02:17,  2.84s/it]"
     ]
    },
    {
     "name": "stdout",
     "output_type": "stream",
     "text": [
      "Failed on account: 2347180148\n",
      "429 Client Error: Too Many Requests for url: https://botometer-pro.p.rapidapi.com/4/check_account\n",
      "6499\n"
     ]
    },
    {
     "name": "stderr",
     "output_type": "stream",
     "text": [
      "6500it [1:02:20,  3.11s/it]"
     ]
    },
    {
     "name": "stdout",
     "output_type": "stream",
     "text": [
      "Failed on account: 15445129\n",
      "429 Client Error: Too Many Requests for url: https://botometer-pro.p.rapidapi.com/4/check_account\n",
      "6500\n"
     ]
    },
    {
     "name": "stderr",
     "output_type": "stream",
     "text": [
      "6501it [1:02:21,  2.26s/it]"
     ]
    },
    {
     "name": "stdout",
     "output_type": "stream",
     "text": [
      "Failed on account: 901852572637692032\n",
      "[{'code': 34, 'message': 'Sorry, that page does not exist.'}]\n",
      "6501\n"
     ]
    },
    {
     "name": "stderr",
     "output_type": "stream",
     "text": [
      "6502it [1:02:25,  2.78s/it]"
     ]
    },
    {
     "name": "stdout",
     "output_type": "stream",
     "text": [
      "Failed on account: 93949216\n",
      "429 Client Error: Too Many Requests for url: https://botometer-pro.p.rapidapi.com/4/check_account\n",
      "6502\n"
     ]
    },
    {
     "name": "stderr",
     "output_type": "stream",
     "text": [
      "6503it [1:02:28,  3.03s/it]"
     ]
    },
    {
     "name": "stdout",
     "output_type": "stream",
     "text": [
      "Failed on account: 338606601\n",
      "429 Client Error: Too Many Requests for url: https://botometer-pro.p.rapidapi.com/4/check_account\n",
      "6503\n"
     ]
    },
    {
     "name": "stderr",
     "output_type": "stream",
     "text": [
      "6504it [1:02:29,  2.22s/it]"
     ]
    },
    {
     "name": "stdout",
     "output_type": "stream",
     "text": [
      "Failed on account: 930553958636052352\n",
      "[{'code': 34, 'message': 'Sorry, that page does not exist.'}]\n",
      "6504\n"
     ]
    },
    {
     "name": "stderr",
     "output_type": "stream",
     "text": [
      "6505it [1:02:32,  2.66s/it]"
     ]
    },
    {
     "name": "stdout",
     "output_type": "stream",
     "text": [
      "Failed on account: 3899497877\n",
      "429 Client Error: Too Many Requests for url: https://botometer-pro.p.rapidapi.com/4/check_account\n",
      "6505\n"
     ]
    },
    {
     "name": "stderr",
     "output_type": "stream",
     "text": [
      "6506it [1:02:37,  3.33s/it]"
     ]
    },
    {
     "name": "stdout",
     "output_type": "stream",
     "text": [
      "Failed on account: 2546258378\n",
      "429 Client Error: Too Many Requests for url: https://botometer-pro.p.rapidapi.com/4/check_account\n",
      "6506\n"
     ]
    },
    {
     "name": "stderr",
     "output_type": "stream",
     "text": [
      "6507it [1:02:37,  2.42s/it]"
     ]
    },
    {
     "name": "stdout",
     "output_type": "stream",
     "text": [
      "Failed on account: 741190491195248640\n",
      "Not authorized.\n",
      "6507\n"
     ]
    },
    {
     "name": "stderr",
     "output_type": "stream",
     "text": [
      "6508it [1:02:40,  2.59s/it]"
     ]
    },
    {
     "name": "stdout",
     "output_type": "stream",
     "text": [
      "Failed on account: 2269573603\n",
      "429 Client Error: Too Many Requests for url: https://botometer-pro.p.rapidapi.com/4/check_account\n",
      "6508\n"
     ]
    },
    {
     "name": "stderr",
     "output_type": "stream",
     "text": [
      "6509it [1:02:43,  2.73s/it]"
     ]
    },
    {
     "name": "stdout",
     "output_type": "stream",
     "text": [
      "Failed on account: 731484461745983488\n",
      "429 Client Error: Too Many Requests for url: https://botometer-pro.p.rapidapi.com/4/check_account\n",
      "6509\n"
     ]
    },
    {
     "name": "stderr",
     "output_type": "stream",
     "text": [
      "6510it [1:02:46,  2.59s/it]"
     ]
    },
    {
     "name": "stdout",
     "output_type": "stream",
     "text": [
      "Failed on account: 1222176044\n",
      "429 Client Error: Too Many Requests for url: https://botometer-pro.p.rapidapi.com/4/check_account\n",
      "6510\n"
     ]
    },
    {
     "name": "stderr",
     "output_type": "stream",
     "text": [
      "6511it [1:02:49,  2.68s/it]"
     ]
    },
    {
     "name": "stdout",
     "output_type": "stream",
     "text": [
      "Failed on account: 533496073\n",
      "429 Client Error: Too Many Requests for url: https://botometer-pro.p.rapidapi.com/4/check_account\n",
      "6511\n"
     ]
    },
    {
     "name": "stderr",
     "output_type": "stream",
     "text": [
      "6512it [1:02:49,  1.96s/it]"
     ]
    },
    {
     "name": "stdout",
     "output_type": "stream",
     "text": [
      "Failed on account: 966664632181165952\n",
      "[{'code': 34, 'message': 'Sorry, that page does not exist.'}]\n",
      "6512\n"
     ]
    },
    {
     "name": "stderr",
     "output_type": "stream",
     "text": [
      "6513it [1:02:52,  2.43s/it]"
     ]
    },
    {
     "name": "stdout",
     "output_type": "stream",
     "text": [
      "Failed on account: 17468528\n",
      "429 Client Error: Too Many Requests for url: https://botometer-pro.p.rapidapi.com/4/check_account\n",
      "6513\n"
     ]
    },
    {
     "name": "stderr",
     "output_type": "stream",
     "text": [
      "6514it [1:02:56,  2.84s/it]"
     ]
    },
    {
     "name": "stdout",
     "output_type": "stream",
     "text": [
      "Failed on account: 98956941\n",
      "429 Client Error: Too Many Requests for url: https://botometer-pro.p.rapidapi.com/4/check_account\n",
      "6514\n"
     ]
    },
    {
     "name": "stderr",
     "output_type": "stream",
     "text": [
      "6515it [1:03:00,  3.22s/it]"
     ]
    },
    {
     "name": "stdout",
     "output_type": "stream",
     "text": [
      "Failed on account: 14947001\n",
      "429 Client Error: Too Many Requests for url: https://botometer-pro.p.rapidapi.com/4/check_account\n",
      "6515\n"
     ]
    },
    {
     "name": "stderr",
     "output_type": "stream",
     "text": [
      "6516it [1:03:01,  2.32s/it]"
     ]
    },
    {
     "name": "stdout",
     "output_type": "stream",
     "text": [
      "Failed on account: 813554157097459712\n",
      "[{'code': 34, 'message': 'Sorry, that page does not exist.'}]\n",
      "6516\n"
     ]
    },
    {
     "name": "stderr",
     "output_type": "stream",
     "text": [
      "6517it [1:03:03,  2.42s/it]"
     ]
    },
    {
     "name": "stdout",
     "output_type": "stream",
     "text": [
      "Failed on account: 19683903\n",
      "429 Client Error: Too Many Requests for url: https://botometer-pro.p.rapidapi.com/4/check_account\n",
      "6517\n"
     ]
    },
    {
     "name": "stderr",
     "output_type": "stream",
     "text": [
      "6518it [1:03:04,  1.79s/it]"
     ]
    },
    {
     "name": "stdout",
     "output_type": "stream",
     "text": [
      "Failed on account: 776166279954722816\n",
      "[{'code': 34, 'message': 'Sorry, that page does not exist.'}]\n",
      "6518\n"
     ]
    },
    {
     "name": "stderr",
     "output_type": "stream",
     "text": [
      "6519it [1:03:06,  1.99s/it]"
     ]
    },
    {
     "name": "stdout",
     "output_type": "stream",
     "text": [
      "Failed on account: 44877071\n",
      "429 Client Error: Too Many Requests for url: https://botometer-pro.p.rapidapi.com/4/check_account\n",
      "6519\n"
     ]
    },
    {
     "name": "stderr",
     "output_type": "stream",
     "text": [
      "6520it [1:03:08,  1.98s/it]"
     ]
    },
    {
     "name": "stdout",
     "output_type": "stream",
     "text": [
      "Failed on account: 4327464854\n",
      "429 Client Error: Too Many Requests for url: https://botometer-pro.p.rapidapi.com/4/check_account\n",
      "6520\n"
     ]
    },
    {
     "name": "stderr",
     "output_type": "stream",
     "text": [
      "6521it [1:03:10,  1.94s/it]"
     ]
    },
    {
     "name": "stdout",
     "output_type": "stream",
     "text": [
      "Failed on account: 3008199157\n",
      "429 Client Error: Too Many Requests for url: https://botometer-pro.p.rapidapi.com/4/check_account\n",
      "6521\n"
     ]
    },
    {
     "name": "stderr",
     "output_type": "stream",
     "text": [
      "6522it [1:03:13,  2.24s/it]"
     ]
    },
    {
     "name": "stdout",
     "output_type": "stream",
     "text": [
      "Failed on account: 169076537\n",
      "429 Client Error: Too Many Requests for url: https://botometer-pro.p.rapidapi.com/4/check_account\n",
      "6522\n"
     ]
    },
    {
     "name": "stderr",
     "output_type": "stream",
     "text": [
      "6523it [1:03:16,  2.69s/it]"
     ]
    },
    {
     "name": "stdout",
     "output_type": "stream",
     "text": [
      "Failed on account: 19078594\n",
      "429 Client Error: Too Many Requests for url: https://botometer-pro.p.rapidapi.com/4/check_account\n",
      "6523\n"
     ]
    },
    {
     "name": "stderr",
     "output_type": "stream",
     "text": [
      "6524it [1:03:23,  3.95s/it]"
     ]
    },
    {
     "name": "stdout",
     "output_type": "stream",
     "text": [
      "Failed on account: 371478069\n",
      "429 Client Error: Too Many Requests for url: https://botometer-pro.p.rapidapi.com/4/check_account\n",
      "6524\n"
     ]
    },
    {
     "name": "stderr",
     "output_type": "stream",
     "text": [
      "6525it [1:03:27,  3.98s/it]"
     ]
    },
    {
     "name": "stdout",
     "output_type": "stream",
     "text": [
      "Failed on account: 704524912656973824\n",
      "429 Client Error: Too Many Requests for url: https://botometer-pro.p.rapidapi.com/4/check_account\n",
      "6525\n"
     ]
    },
    {
     "name": "stderr",
     "output_type": "stream",
     "text": [
      "6526it [1:03:30,  3.60s/it]"
     ]
    },
    {
     "name": "stdout",
     "output_type": "stream",
     "text": [
      "Failed on account: 720641675870212096\n",
      "429 Client Error: Too Many Requests for url: https://botometer-pro.p.rapidapi.com/4/check_account\n",
      "6526\n"
     ]
    },
    {
     "name": "stderr",
     "output_type": "stream",
     "text": [
      "6527it [1:03:33,  3.26s/it]"
     ]
    },
    {
     "name": "stdout",
     "output_type": "stream",
     "text": [
      "Failed on account: 858924511\n",
      "429 Client Error: Too Many Requests for url: https://botometer-pro.p.rapidapi.com/4/check_account\n",
      "6527\n"
     ]
    },
    {
     "name": "stderr",
     "output_type": "stream",
     "text": [
      "6528it [1:03:36,  3.21s/it]"
     ]
    },
    {
     "name": "stdout",
     "output_type": "stream",
     "text": [
      "Failed on account: 816840528\n",
      "429 Client Error: Too Many Requests for url: https://botometer-pro.p.rapidapi.com/4/check_account\n",
      "6528\n"
     ]
    },
    {
     "name": "stderr",
     "output_type": "stream",
     "text": [
      "6529it [1:03:36,  2.34s/it]"
     ]
    },
    {
     "name": "stdout",
     "output_type": "stream",
     "text": [
      "Failed on account: 780044804042395648\n",
      "[{'code': 34, 'message': 'Sorry, that page does not exist.'}]\n",
      "6529\n"
     ]
    },
    {
     "name": "stderr",
     "output_type": "stream",
     "text": [
      "6530it [1:03:39,  2.49s/it]"
     ]
    },
    {
     "name": "stdout",
     "output_type": "stream",
     "text": [
      "Failed on account: 817158775610179584\n",
      "429 Client Error: Too Many Requests for url: https://botometer-pro.p.rapidapi.com/4/check_account\n",
      "6530\n"
     ]
    },
    {
     "name": "stderr",
     "output_type": "stream",
     "text": [
      "6530it [1:03:40,  1.71it/s]\n"
     ]
    },
    {
     "ename": "KeyboardInterrupt",
     "evalue": "",
     "output_type": "error",
     "traceback": [
      "\u001b[0;31m---------------------------------------------------------------------------\u001b[0m",
      "\u001b[0;31mKeyboardInterrupt\u001b[0m                         Traceback (most recent call last)",
      "\u001b[0;32m/tmp/ipykernel_169603/3961358924.py\u001b[0m in \u001b[0;36m<module>\u001b[0;34m\u001b[0m\n\u001b[1;32m     35\u001b[0m         \u001b[0mprint\u001b[0m\u001b[0;34m(\u001b[0m\u001b[0mi\u001b[0m\u001b[0;34m)\u001b[0m\u001b[0;34m\u001b[0m\u001b[0;34m\u001b[0m\u001b[0m\n\u001b[1;32m     36\u001b[0m         \u001b[0;32mtry\u001b[0m\u001b[0;34m:\u001b[0m\u001b[0;34m\u001b[0m\u001b[0;34m\u001b[0m\u001b[0m\n\u001b[0;32m---> 37\u001b[0;31m             \u001b[0mresult\u001b[0m \u001b[0;34m=\u001b[0m \u001b[0mbom\u001b[0m\u001b[0;34m.\u001b[0m\u001b[0mcheck_account\u001b[0m\u001b[0;34m(\u001b[0m\u001b[0maccount\u001b[0m\u001b[0;34m)\u001b[0m\u001b[0;34m\u001b[0m\u001b[0;34m\u001b[0m\u001b[0m\n\u001b[0m\u001b[1;32m     38\u001b[0m             \u001b[0mdf\u001b[0m\u001b[0;34m.\u001b[0m\u001b[0mloc\u001b[0m\u001b[0;34m[\u001b[0m\u001b[0mi\u001b[0m\u001b[0;34m,\u001b[0m \u001b[0;34m\"botometer\"\u001b[0m\u001b[0;34m]\u001b[0m \u001b[0;34m=\u001b[0m \u001b[0mstr\u001b[0m\u001b[0;34m(\u001b[0m\u001b[0mresult\u001b[0m\u001b[0;34m)\u001b[0m\u001b[0;34m\u001b[0m\u001b[0;34m\u001b[0m\u001b[0m\n\u001b[1;32m     39\u001b[0m         \u001b[0;32mexcept\u001b[0m \u001b[0mException\u001b[0m \u001b[0;32mas\u001b[0m \u001b[0me\u001b[0m\u001b[0;34m:\u001b[0m\u001b[0;34m\u001b[0m\u001b[0;34m\u001b[0m\u001b[0m\n",
      "\u001b[0;32m~/anaconda3/lib/python3.9/site-packages/botometer/__init__.py\u001b[0m in \u001b[0;36mcheck_account\u001b[0;34m(self, user, full_user_object)\u001b[0m\n\u001b[1;32m    125\u001b[0m \u001b[0;34m\u001b[0m\u001b[0m\n\u001b[1;32m    126\u001b[0m     \u001b[0;32mdef\u001b[0m \u001b[0mcheck_account\u001b[0m\u001b[0;34m(\u001b[0m\u001b[0mself\u001b[0m\u001b[0;34m,\u001b[0m \u001b[0muser\u001b[0m\u001b[0;34m,\u001b[0m \u001b[0mfull_user_object\u001b[0m\u001b[0;34m=\u001b[0m\u001b[0;32mFalse\u001b[0m\u001b[0;34m)\u001b[0m\u001b[0;34m:\u001b[0m\u001b[0;34m\u001b[0m\u001b[0;34m\u001b[0m\u001b[0m\n\u001b[0;32m--> 127\u001b[0;31m         payload = self._get_twitter_data(user,\n\u001b[0m\u001b[1;32m    128\u001b[0m                                          full_user_object=full_user_object)\n\u001b[1;32m    129\u001b[0m         \u001b[0;32mif\u001b[0m \u001b[0;32mnot\u001b[0m \u001b[0mpayload\u001b[0m\u001b[0;34m[\u001b[0m\u001b[0;34m'timeline'\u001b[0m\u001b[0;34m]\u001b[0m\u001b[0;34m:\u001b[0m\u001b[0;34m\u001b[0m\u001b[0;34m\u001b[0m\u001b[0m\n",
      "\u001b[0;32m~/anaconda3/lib/python3.9/site-packages/botometer/__init__.py\u001b[0m in \u001b[0;36m_get_twitter_data\u001b[0;34m(self, user, full_user_object)\u001b[0m\n\u001b[1;32m     75\u001b[0m     \u001b[0;32mdef\u001b[0m \u001b[0m_get_twitter_data\u001b[0m\u001b[0;34m(\u001b[0m\u001b[0mself\u001b[0m\u001b[0;34m,\u001b[0m \u001b[0muser\u001b[0m\u001b[0;34m,\u001b[0m \u001b[0mfull_user_object\u001b[0m\u001b[0;34m=\u001b[0m\u001b[0;32mFalse\u001b[0m\u001b[0;34m)\u001b[0m\u001b[0;34m:\u001b[0m\u001b[0;34m\u001b[0m\u001b[0;34m\u001b[0m\u001b[0m\n\u001b[1;32m     76\u001b[0m         \u001b[0;32mtry\u001b[0m\u001b[0;34m:\u001b[0m\u001b[0;34m\u001b[0m\u001b[0;34m\u001b[0m\u001b[0m\n\u001b[0;32m---> 77\u001b[0;31m             user_timeline = self.twitter_api.user_timeline(\n\u001b[0m\u001b[1;32m     78\u001b[0m                     \u001b[0muser\u001b[0m\u001b[0;34m,\u001b[0m\u001b[0;34m\u001b[0m\u001b[0;34m\u001b[0m\u001b[0m\n\u001b[1;32m     79\u001b[0m                     \u001b[0minclude_rts\u001b[0m\u001b[0;34m=\u001b[0m\u001b[0;32mTrue\u001b[0m\u001b[0;34m,\u001b[0m\u001b[0;34m\u001b[0m\u001b[0;34m\u001b[0m\u001b[0m\n",
      "\u001b[0;32m~/anaconda3/lib/python3.9/site-packages/tweepy/binder.py\u001b[0m in \u001b[0;36m_call\u001b[0;34m(*args, **kwargs)\u001b[0m\n\u001b[1;32m    251\u001b[0m                 \u001b[0;32mreturn\u001b[0m \u001b[0mmethod\u001b[0m\u001b[0;34m\u001b[0m\u001b[0;34m\u001b[0m\u001b[0m\n\u001b[1;32m    252\u001b[0m             \u001b[0;32melse\u001b[0m\u001b[0;34m:\u001b[0m\u001b[0;34m\u001b[0m\u001b[0;34m\u001b[0m\u001b[0m\n\u001b[0;32m--> 253\u001b[0;31m                 \u001b[0;32mreturn\u001b[0m \u001b[0mmethod\u001b[0m\u001b[0;34m.\u001b[0m\u001b[0mexecute\u001b[0m\u001b[0;34m(\u001b[0m\u001b[0;34m)\u001b[0m\u001b[0;34m\u001b[0m\u001b[0;34m\u001b[0m\u001b[0m\n\u001b[0m\u001b[1;32m    254\u001b[0m         \u001b[0;32mfinally\u001b[0m\u001b[0;34m:\u001b[0m\u001b[0;34m\u001b[0m\u001b[0;34m\u001b[0m\u001b[0m\n\u001b[1;32m    255\u001b[0m             \u001b[0mmethod\u001b[0m\u001b[0;34m.\u001b[0m\u001b[0msession\u001b[0m\u001b[0;34m.\u001b[0m\u001b[0mclose\u001b[0m\u001b[0;34m(\u001b[0m\u001b[0;34m)\u001b[0m\u001b[0;34m\u001b[0m\u001b[0;34m\u001b[0m\u001b[0m\n",
      "\u001b[0;32m~/anaconda3/lib/python3.9/site-packages/tweepy/binder.py\u001b[0m in \u001b[0;36mexecute\u001b[0;34m(self)\u001b[0m\n\u001b[1;32m    182\u001b[0m                 \u001b[0;31m# Execute request\u001b[0m\u001b[0;34m\u001b[0m\u001b[0;34m\u001b[0m\u001b[0m\n\u001b[1;32m    183\u001b[0m                 \u001b[0;32mtry\u001b[0m\u001b[0;34m:\u001b[0m\u001b[0;34m\u001b[0m\u001b[0;34m\u001b[0m\u001b[0m\n\u001b[0;32m--> 184\u001b[0;31m                     resp = self.session.request(self.method,\n\u001b[0m\u001b[1;32m    185\u001b[0m                                                 \u001b[0mfull_url\u001b[0m\u001b[0;34m,\u001b[0m\u001b[0;34m\u001b[0m\u001b[0;34m\u001b[0m\u001b[0m\n\u001b[1;32m    186\u001b[0m                                                 \u001b[0mdata\u001b[0m\u001b[0;34m=\u001b[0m\u001b[0mself\u001b[0m\u001b[0;34m.\u001b[0m\u001b[0mpost_data\u001b[0m\u001b[0;34m,\u001b[0m\u001b[0;34m\u001b[0m\u001b[0;34m\u001b[0m\u001b[0m\n",
      "\u001b[0;32m~/anaconda3/lib/python3.9/site-packages/requests/sessions.py\u001b[0m in \u001b[0;36mrequest\u001b[0;34m(self, method, url, params, data, headers, cookies, files, auth, timeout, allow_redirects, proxies, hooks, stream, verify, cert, json)\u001b[0m\n\u001b[1;32m    540\u001b[0m         }\n\u001b[1;32m    541\u001b[0m         \u001b[0msend_kwargs\u001b[0m\u001b[0;34m.\u001b[0m\u001b[0mupdate\u001b[0m\u001b[0;34m(\u001b[0m\u001b[0msettings\u001b[0m\u001b[0;34m)\u001b[0m\u001b[0;34m\u001b[0m\u001b[0;34m\u001b[0m\u001b[0m\n\u001b[0;32m--> 542\u001b[0;31m         \u001b[0mresp\u001b[0m \u001b[0;34m=\u001b[0m \u001b[0mself\u001b[0m\u001b[0;34m.\u001b[0m\u001b[0msend\u001b[0m\u001b[0;34m(\u001b[0m\u001b[0mprep\u001b[0m\u001b[0;34m,\u001b[0m \u001b[0;34m**\u001b[0m\u001b[0msend_kwargs\u001b[0m\u001b[0;34m)\u001b[0m\u001b[0;34m\u001b[0m\u001b[0;34m\u001b[0m\u001b[0m\n\u001b[0m\u001b[1;32m    543\u001b[0m \u001b[0;34m\u001b[0m\u001b[0m\n\u001b[1;32m    544\u001b[0m         \u001b[0;32mreturn\u001b[0m \u001b[0mresp\u001b[0m\u001b[0;34m\u001b[0m\u001b[0;34m\u001b[0m\u001b[0m\n",
      "\u001b[0;32m~/anaconda3/lib/python3.9/site-packages/requests/sessions.py\u001b[0m in \u001b[0;36msend\u001b[0;34m(self, request, **kwargs)\u001b[0m\n\u001b[1;32m    695\u001b[0m \u001b[0;34m\u001b[0m\u001b[0m\n\u001b[1;32m    696\u001b[0m         \u001b[0;32mif\u001b[0m \u001b[0;32mnot\u001b[0m \u001b[0mstream\u001b[0m\u001b[0;34m:\u001b[0m\u001b[0;34m\u001b[0m\u001b[0;34m\u001b[0m\u001b[0m\n\u001b[0;32m--> 697\u001b[0;31m             \u001b[0mr\u001b[0m\u001b[0;34m.\u001b[0m\u001b[0mcontent\u001b[0m\u001b[0;34m\u001b[0m\u001b[0;34m\u001b[0m\u001b[0m\n\u001b[0m\u001b[1;32m    698\u001b[0m \u001b[0;34m\u001b[0m\u001b[0m\n\u001b[1;32m    699\u001b[0m         \u001b[0;32mreturn\u001b[0m \u001b[0mr\u001b[0m\u001b[0;34m\u001b[0m\u001b[0;34m\u001b[0m\u001b[0m\n",
      "\u001b[0;32m~/anaconda3/lib/python3.9/site-packages/requests/models.py\u001b[0m in \u001b[0;36mcontent\u001b[0;34m(self)\u001b[0m\n\u001b[1;32m    834\u001b[0m                 \u001b[0mself\u001b[0m\u001b[0;34m.\u001b[0m\u001b[0m_content\u001b[0m \u001b[0;34m=\u001b[0m \u001b[0;32mNone\u001b[0m\u001b[0;34m\u001b[0m\u001b[0;34m\u001b[0m\u001b[0m\n\u001b[1;32m    835\u001b[0m             \u001b[0;32melse\u001b[0m\u001b[0;34m:\u001b[0m\u001b[0;34m\u001b[0m\u001b[0;34m\u001b[0m\u001b[0m\n\u001b[0;32m--> 836\u001b[0;31m                 \u001b[0mself\u001b[0m\u001b[0;34m.\u001b[0m\u001b[0m_content\u001b[0m \u001b[0;34m=\u001b[0m \u001b[0;34mb''\u001b[0m\u001b[0;34m.\u001b[0m\u001b[0mjoin\u001b[0m\u001b[0;34m(\u001b[0m\u001b[0mself\u001b[0m\u001b[0;34m.\u001b[0m\u001b[0miter_content\u001b[0m\u001b[0;34m(\u001b[0m\u001b[0mCONTENT_CHUNK_SIZE\u001b[0m\u001b[0;34m)\u001b[0m\u001b[0;34m)\u001b[0m \u001b[0;32mor\u001b[0m \u001b[0;34mb''\u001b[0m\u001b[0;34m\u001b[0m\u001b[0;34m\u001b[0m\u001b[0m\n\u001b[0m\u001b[1;32m    837\u001b[0m \u001b[0;34m\u001b[0m\u001b[0m\n\u001b[1;32m    838\u001b[0m         \u001b[0mself\u001b[0m\u001b[0;34m.\u001b[0m\u001b[0m_content_consumed\u001b[0m \u001b[0;34m=\u001b[0m \u001b[0;32mTrue\u001b[0m\u001b[0;34m\u001b[0m\u001b[0;34m\u001b[0m\u001b[0m\n",
      "\u001b[0;32m~/anaconda3/lib/python3.9/site-packages/requests/models.py\u001b[0m in \u001b[0;36mgenerate\u001b[0;34m()\u001b[0m\n\u001b[1;32m    756\u001b[0m             \u001b[0;32mif\u001b[0m \u001b[0mhasattr\u001b[0m\u001b[0;34m(\u001b[0m\u001b[0mself\u001b[0m\u001b[0;34m.\u001b[0m\u001b[0mraw\u001b[0m\u001b[0;34m,\u001b[0m \u001b[0;34m'stream'\u001b[0m\u001b[0;34m)\u001b[0m\u001b[0;34m:\u001b[0m\u001b[0;34m\u001b[0m\u001b[0;34m\u001b[0m\u001b[0m\n\u001b[1;32m    757\u001b[0m                 \u001b[0;32mtry\u001b[0m\u001b[0;34m:\u001b[0m\u001b[0;34m\u001b[0m\u001b[0;34m\u001b[0m\u001b[0m\n\u001b[0;32m--> 758\u001b[0;31m                     \u001b[0;32mfor\u001b[0m \u001b[0mchunk\u001b[0m \u001b[0;32min\u001b[0m \u001b[0mself\u001b[0m\u001b[0;34m.\u001b[0m\u001b[0mraw\u001b[0m\u001b[0;34m.\u001b[0m\u001b[0mstream\u001b[0m\u001b[0;34m(\u001b[0m\u001b[0mchunk_size\u001b[0m\u001b[0;34m,\u001b[0m \u001b[0mdecode_content\u001b[0m\u001b[0;34m=\u001b[0m\u001b[0;32mTrue\u001b[0m\u001b[0;34m)\u001b[0m\u001b[0;34m:\u001b[0m\u001b[0;34m\u001b[0m\u001b[0;34m\u001b[0m\u001b[0m\n\u001b[0m\u001b[1;32m    759\u001b[0m                         \u001b[0;32myield\u001b[0m \u001b[0mchunk\u001b[0m\u001b[0;34m\u001b[0m\u001b[0;34m\u001b[0m\u001b[0m\n\u001b[1;32m    760\u001b[0m                 \u001b[0;32mexcept\u001b[0m \u001b[0mProtocolError\u001b[0m \u001b[0;32mas\u001b[0m \u001b[0me\u001b[0m\u001b[0;34m:\u001b[0m\u001b[0;34m\u001b[0m\u001b[0;34m\u001b[0m\u001b[0m\n",
      "\u001b[0;32m~/anaconda3/lib/python3.9/site-packages/urllib3/response.py\u001b[0m in \u001b[0;36mstream\u001b[0;34m(self, amt, decode_content)\u001b[0m\n\u001b[1;32m    574\u001b[0m         \u001b[0;32melse\u001b[0m\u001b[0;34m:\u001b[0m\u001b[0;34m\u001b[0m\u001b[0;34m\u001b[0m\u001b[0m\n\u001b[1;32m    575\u001b[0m             \u001b[0;32mwhile\u001b[0m \u001b[0;32mnot\u001b[0m \u001b[0mis_fp_closed\u001b[0m\u001b[0;34m(\u001b[0m\u001b[0mself\u001b[0m\u001b[0;34m.\u001b[0m\u001b[0m_fp\u001b[0m\u001b[0;34m)\u001b[0m\u001b[0;34m:\u001b[0m\u001b[0;34m\u001b[0m\u001b[0;34m\u001b[0m\u001b[0m\n\u001b[0;32m--> 576\u001b[0;31m                 \u001b[0mdata\u001b[0m \u001b[0;34m=\u001b[0m \u001b[0mself\u001b[0m\u001b[0;34m.\u001b[0m\u001b[0mread\u001b[0m\u001b[0;34m(\u001b[0m\u001b[0mamt\u001b[0m\u001b[0;34m=\u001b[0m\u001b[0mamt\u001b[0m\u001b[0;34m,\u001b[0m \u001b[0mdecode_content\u001b[0m\u001b[0;34m=\u001b[0m\u001b[0mdecode_content\u001b[0m\u001b[0;34m)\u001b[0m\u001b[0;34m\u001b[0m\u001b[0;34m\u001b[0m\u001b[0m\n\u001b[0m\u001b[1;32m    577\u001b[0m \u001b[0;34m\u001b[0m\u001b[0m\n\u001b[1;32m    578\u001b[0m                 \u001b[0;32mif\u001b[0m \u001b[0mdata\u001b[0m\u001b[0;34m:\u001b[0m\u001b[0;34m\u001b[0m\u001b[0;34m\u001b[0m\u001b[0m\n",
      "\u001b[0;32m~/anaconda3/lib/python3.9/site-packages/urllib3/response.py\u001b[0m in \u001b[0;36mread\u001b[0;34m(self, amt, decode_content, cache_content)\u001b[0m\n\u001b[1;32m    517\u001b[0m             \u001b[0;32melse\u001b[0m\u001b[0;34m:\u001b[0m\u001b[0;34m\u001b[0m\u001b[0;34m\u001b[0m\u001b[0m\n\u001b[1;32m    518\u001b[0m                 \u001b[0mcache_content\u001b[0m \u001b[0;34m=\u001b[0m \u001b[0;32mFalse\u001b[0m\u001b[0;34m\u001b[0m\u001b[0;34m\u001b[0m\u001b[0m\n\u001b[0;32m--> 519\u001b[0;31m                 \u001b[0mdata\u001b[0m \u001b[0;34m=\u001b[0m \u001b[0mself\u001b[0m\u001b[0;34m.\u001b[0m\u001b[0m_fp\u001b[0m\u001b[0;34m.\u001b[0m\u001b[0mread\u001b[0m\u001b[0;34m(\u001b[0m\u001b[0mamt\u001b[0m\u001b[0;34m)\u001b[0m \u001b[0;32mif\u001b[0m \u001b[0;32mnot\u001b[0m \u001b[0mfp_closed\u001b[0m \u001b[0;32melse\u001b[0m \u001b[0;34mb\"\"\u001b[0m\u001b[0;34m\u001b[0m\u001b[0;34m\u001b[0m\u001b[0m\n\u001b[0m\u001b[1;32m    520\u001b[0m                 if (\n\u001b[1;32m    521\u001b[0m                     \u001b[0mamt\u001b[0m \u001b[0;34m!=\u001b[0m \u001b[0;36m0\u001b[0m \u001b[0;32mand\u001b[0m \u001b[0;32mnot\u001b[0m \u001b[0mdata\u001b[0m\u001b[0;34m\u001b[0m\u001b[0;34m\u001b[0m\u001b[0m\n",
      "\u001b[0;32m~/anaconda3/lib/python3.9/http/client.py\u001b[0m in \u001b[0;36mread\u001b[0;34m(self, amt)\u001b[0m\n\u001b[1;32m    460\u001b[0m             \u001b[0;31m# Amount is given, implement using readinto\u001b[0m\u001b[0;34m\u001b[0m\u001b[0;34m\u001b[0m\u001b[0m\n\u001b[1;32m    461\u001b[0m             \u001b[0mb\u001b[0m \u001b[0;34m=\u001b[0m \u001b[0mbytearray\u001b[0m\u001b[0;34m(\u001b[0m\u001b[0mamt\u001b[0m\u001b[0;34m)\u001b[0m\u001b[0;34m\u001b[0m\u001b[0;34m\u001b[0m\u001b[0m\n\u001b[0;32m--> 462\u001b[0;31m             \u001b[0mn\u001b[0m \u001b[0;34m=\u001b[0m \u001b[0mself\u001b[0m\u001b[0;34m.\u001b[0m\u001b[0mreadinto\u001b[0m\u001b[0;34m(\u001b[0m\u001b[0mb\u001b[0m\u001b[0;34m)\u001b[0m\u001b[0;34m\u001b[0m\u001b[0;34m\u001b[0m\u001b[0m\n\u001b[0m\u001b[1;32m    463\u001b[0m             \u001b[0;32mreturn\u001b[0m \u001b[0mmemoryview\u001b[0m\u001b[0;34m(\u001b[0m\u001b[0mb\u001b[0m\u001b[0;34m)\u001b[0m\u001b[0;34m[\u001b[0m\u001b[0;34m:\u001b[0m\u001b[0mn\u001b[0m\u001b[0;34m]\u001b[0m\u001b[0;34m.\u001b[0m\u001b[0mtobytes\u001b[0m\u001b[0;34m(\u001b[0m\u001b[0;34m)\u001b[0m\u001b[0;34m\u001b[0m\u001b[0;34m\u001b[0m\u001b[0m\n\u001b[1;32m    464\u001b[0m         \u001b[0;32melse\u001b[0m\u001b[0;34m:\u001b[0m\u001b[0;34m\u001b[0m\u001b[0;34m\u001b[0m\u001b[0m\n",
      "\u001b[0;32m~/anaconda3/lib/python3.9/http/client.py\u001b[0m in \u001b[0;36mreadinto\u001b[0;34m(self, b)\u001b[0m\n\u001b[1;32m    504\u001b[0m         \u001b[0;31m# connection, and the user is reading more bytes than will be provided\u001b[0m\u001b[0;34m\u001b[0m\u001b[0;34m\u001b[0m\u001b[0m\n\u001b[1;32m    505\u001b[0m         \u001b[0;31m# (for example, reading in 1k chunks)\u001b[0m\u001b[0;34m\u001b[0m\u001b[0;34m\u001b[0m\u001b[0m\n\u001b[0;32m--> 506\u001b[0;31m         \u001b[0mn\u001b[0m \u001b[0;34m=\u001b[0m \u001b[0mself\u001b[0m\u001b[0;34m.\u001b[0m\u001b[0mfp\u001b[0m\u001b[0;34m.\u001b[0m\u001b[0mreadinto\u001b[0m\u001b[0;34m(\u001b[0m\u001b[0mb\u001b[0m\u001b[0;34m)\u001b[0m\u001b[0;34m\u001b[0m\u001b[0;34m\u001b[0m\u001b[0m\n\u001b[0m\u001b[1;32m    507\u001b[0m         \u001b[0;32mif\u001b[0m \u001b[0;32mnot\u001b[0m \u001b[0mn\u001b[0m \u001b[0;32mand\u001b[0m \u001b[0mb\u001b[0m\u001b[0;34m:\u001b[0m\u001b[0;34m\u001b[0m\u001b[0;34m\u001b[0m\u001b[0m\n\u001b[1;32m    508\u001b[0m             \u001b[0;31m# Ideally, we would raise IncompleteRead if the content-length\u001b[0m\u001b[0;34m\u001b[0m\u001b[0;34m\u001b[0m\u001b[0m\n",
      "\u001b[0;32m~/anaconda3/lib/python3.9/socket.py\u001b[0m in \u001b[0;36mreadinto\u001b[0;34m(self, b)\u001b[0m\n\u001b[1;32m    702\u001b[0m         \u001b[0;32mwhile\u001b[0m \u001b[0;32mTrue\u001b[0m\u001b[0;34m:\u001b[0m\u001b[0;34m\u001b[0m\u001b[0;34m\u001b[0m\u001b[0m\n\u001b[1;32m    703\u001b[0m             \u001b[0;32mtry\u001b[0m\u001b[0;34m:\u001b[0m\u001b[0;34m\u001b[0m\u001b[0;34m\u001b[0m\u001b[0m\n\u001b[0;32m--> 704\u001b[0;31m                 \u001b[0;32mreturn\u001b[0m \u001b[0mself\u001b[0m\u001b[0;34m.\u001b[0m\u001b[0m_sock\u001b[0m\u001b[0;34m.\u001b[0m\u001b[0mrecv_into\u001b[0m\u001b[0;34m(\u001b[0m\u001b[0mb\u001b[0m\u001b[0;34m)\u001b[0m\u001b[0;34m\u001b[0m\u001b[0;34m\u001b[0m\u001b[0m\n\u001b[0m\u001b[1;32m    705\u001b[0m             \u001b[0;32mexcept\u001b[0m \u001b[0mtimeout\u001b[0m\u001b[0;34m:\u001b[0m\u001b[0;34m\u001b[0m\u001b[0;34m\u001b[0m\u001b[0m\n\u001b[1;32m    706\u001b[0m                 \u001b[0mself\u001b[0m\u001b[0;34m.\u001b[0m\u001b[0m_timeout_occurred\u001b[0m \u001b[0;34m=\u001b[0m \u001b[0;32mTrue\u001b[0m\u001b[0;34m\u001b[0m\u001b[0;34m\u001b[0m\u001b[0m\n",
      "\u001b[0;32m~/anaconda3/lib/python3.9/ssl.py\u001b[0m in \u001b[0;36mrecv_into\u001b[0;34m(self, buffer, nbytes, flags)\u001b[0m\n\u001b[1;32m   1239\u001b[0m                   \u001b[0;34m\"non-zero flags not allowed in calls to recv_into() on %s\"\u001b[0m \u001b[0;34m%\u001b[0m\u001b[0;34m\u001b[0m\u001b[0;34m\u001b[0m\u001b[0m\n\u001b[1;32m   1240\u001b[0m                   self.__class__)\n\u001b[0;32m-> 1241\u001b[0;31m             \u001b[0;32mreturn\u001b[0m \u001b[0mself\u001b[0m\u001b[0;34m.\u001b[0m\u001b[0mread\u001b[0m\u001b[0;34m(\u001b[0m\u001b[0mnbytes\u001b[0m\u001b[0;34m,\u001b[0m \u001b[0mbuffer\u001b[0m\u001b[0;34m)\u001b[0m\u001b[0;34m\u001b[0m\u001b[0;34m\u001b[0m\u001b[0m\n\u001b[0m\u001b[1;32m   1242\u001b[0m         \u001b[0;32melse\u001b[0m\u001b[0;34m:\u001b[0m\u001b[0;34m\u001b[0m\u001b[0;34m\u001b[0m\u001b[0m\n\u001b[1;32m   1243\u001b[0m             \u001b[0;32mreturn\u001b[0m \u001b[0msuper\u001b[0m\u001b[0;34m(\u001b[0m\u001b[0;34m)\u001b[0m\u001b[0;34m.\u001b[0m\u001b[0mrecv_into\u001b[0m\u001b[0;34m(\u001b[0m\u001b[0mbuffer\u001b[0m\u001b[0;34m,\u001b[0m \u001b[0mnbytes\u001b[0m\u001b[0;34m,\u001b[0m \u001b[0mflags\u001b[0m\u001b[0;34m)\u001b[0m\u001b[0;34m\u001b[0m\u001b[0;34m\u001b[0m\u001b[0m\n",
      "\u001b[0;32m~/anaconda3/lib/python3.9/ssl.py\u001b[0m in \u001b[0;36mread\u001b[0;34m(self, len, buffer)\u001b[0m\n\u001b[1;32m   1097\u001b[0m         \u001b[0;32mtry\u001b[0m\u001b[0;34m:\u001b[0m\u001b[0;34m\u001b[0m\u001b[0;34m\u001b[0m\u001b[0m\n\u001b[1;32m   1098\u001b[0m             \u001b[0;32mif\u001b[0m \u001b[0mbuffer\u001b[0m \u001b[0;32mis\u001b[0m \u001b[0;32mnot\u001b[0m \u001b[0;32mNone\u001b[0m\u001b[0;34m:\u001b[0m\u001b[0;34m\u001b[0m\u001b[0;34m\u001b[0m\u001b[0m\n\u001b[0;32m-> 1099\u001b[0;31m                 \u001b[0;32mreturn\u001b[0m \u001b[0mself\u001b[0m\u001b[0;34m.\u001b[0m\u001b[0m_sslobj\u001b[0m\u001b[0;34m.\u001b[0m\u001b[0mread\u001b[0m\u001b[0;34m(\u001b[0m\u001b[0mlen\u001b[0m\u001b[0;34m,\u001b[0m \u001b[0mbuffer\u001b[0m\u001b[0;34m)\u001b[0m\u001b[0;34m\u001b[0m\u001b[0;34m\u001b[0m\u001b[0m\n\u001b[0m\u001b[1;32m   1100\u001b[0m             \u001b[0;32melse\u001b[0m\u001b[0;34m:\u001b[0m\u001b[0;34m\u001b[0m\u001b[0;34m\u001b[0m\u001b[0m\n\u001b[1;32m   1101\u001b[0m                 \u001b[0;32mreturn\u001b[0m \u001b[0mself\u001b[0m\u001b[0;34m.\u001b[0m\u001b[0m_sslobj\u001b[0m\u001b[0;34m.\u001b[0m\u001b[0mread\u001b[0m\u001b[0;34m(\u001b[0m\u001b[0mlen\u001b[0m\u001b[0;34m)\u001b[0m\u001b[0;34m\u001b[0m\u001b[0;34m\u001b[0m\u001b[0m\n",
      "\u001b[0;31mKeyboardInterrupt\u001b[0m: "
     ]
    }
   ],
   "source": [
    "import botometer\n",
    "\n",
    "rapidapi_key = \"b0dd966c59mshdf2db2daf9a121fp15f57djsn5bf9d54db4aa\"\n",
    "consumer_key, consumer_secret = \"uHktObbiyJpGoLUaENXdpUWyj\", \"DLoJ8VRhFUK4GQeo3XUP2LGaSN4D7a2mAZqSKlRQshr6N0Ru1r\"\n",
    "access_token, access_token_secret = \"4121890515-8wV0UlTyu9hFzJL9d8NBU6BY24STUtS7zFeAcel\", \"vfnDrkEUAHtVayGJDZxau18mPjG4CuyB2JW6sG0xeYFGs\"\n",
    "\n",
    "\n",
    "twitter_app_auth = {\n",
    "    'consumer_key': consumer_key, # 'sO59YfsV552iCsfLLpQTuS64T',\n",
    "    'consumer_secret': consumer_secret, #'YVGEDbcA3Mg3bTY9rwXpLAH5ATOzbmhRBZ92wuWaBfVMdiflzq',\n",
    "    'access_token': access_token, # 'AAAAAAAAAAAAAAAAAAAAAD%2FZWwEAAAAAJgG8hY2XJfmsYbbs%2Bp5BruRr8aM%3DtRxrtqs0eEhHQ9ZFE9U7tRlNnqm7oPUXeQEijSnj3RgxWgvN5l',\n",
    "    'access_token_secret': access_token_secret,\n",
    "  }\n",
    "bom = botometer.Botometer(wait_on_ratelimit=True,\n",
    "                          rapidapi_key=rapidapi_key,\n",
    "                          **twitter_app_auth)\n",
    "\n",
    "# Check a single account by screen name\n",
    "# result = bom.check_account('@clayadavis')\n",
    "\n",
    "# Check a single account by id\n",
    "# result = bom.check_account(1548959833)\n",
    "\n",
    "# Check a sequence of accounts\n",
    "# accounts = ['@clayadavis', '@onurvarol', '@jabawack']\n",
    "\n",
    "\n",
    "\n",
    "# df = pd.read_csv(\"snopes_botometer_406.csv\")\n",
    "\n",
    "accounts = df.acc_id.tolist()\n",
    "\n",
    "for i, account in tqdm(enumerate(accounts)):\n",
    "    if i > 5724:\n",
    "        print(i)\n",
    "        try:\n",
    "            result = bom.check_account(account)\n",
    "            df.loc[i, \"botometer\"] = str(result)\n",
    "        except Exception as e:\n",
    "            print(f\"Failed on account: {account}\")\n",
    "            print(e)\n",
    "            df.loc[i, \"botometer\"] = str({'code': 34, 'message': 'Sorry, that page does not exist.'})\n",
    "    \n",
    "    \n",
    "# for i, result in tqdm(enumerate(bom.check_accounts_in(accounts[407:]))):\n",
    "#     print(accounts[(407+i)])\n",
    "#     try:\n",
    "# #         snopes_acc.loc[i, \"botometer\"] = str(result[1])\n",
    "#         snopes_acc.loc[snopes_acc.acc_id.isin([result[0]]).index, \"botometer\"] = str(result[1])\n",
    "#     except Exception as e:\n",
    "#         print(e)\n",
    "#         snopes_acc.loc[snopes_acc.acc_id.isin([result[0]]).index, \"botometer\"] = None\n"
   ]
  },
  {
   "cell_type": "code",
   "execution_count": 29,
   "metadata": {},
   "outputs": [],
   "source": [
    "df.to_csv(\"snopes_6271.csv\", index=False)"
   ]
  },
  {
   "cell_type": "code",
   "execution_count": 35,
   "metadata": {},
   "outputs": [
    {
     "data": {
      "text/html": [
       "<div>\n",
       "<style scoped>\n",
       "    .dataframe tbody tr th:only-of-type {\n",
       "        vertical-align: middle;\n",
       "    }\n",
       "\n",
       "    .dataframe tbody tr th {\n",
       "        vertical-align: top;\n",
       "    }\n",
       "\n",
       "    .dataframe thead th {\n",
       "        text-align: right;\n",
       "    }\n",
       "</style>\n",
       "<table border=\"1\" class=\"dataframe\">\n",
       "  <thead>\n",
       "    <tr style=\"text-align: right;\">\n",
       "      <th></th>\n",
       "      <th>id</th>\n",
       "      <th>original_id</th>\n",
       "      <th>tweet_text</th>\n",
       "      <th>tweet_url</th>\n",
       "      <th>claim</th>\n",
       "      <th>rating</th>\n",
       "      <th>images</th>\n",
       "      <th>text_images</th>\n",
       "      <th>source</th>\n",
       "      <th>label</th>\n",
       "      <th>label_info</th>\n",
       "      <th>available</th>\n",
       "      <th>acc_id</th>\n",
       "      <th>botometer</th>\n",
       "    </tr>\n",
       "  </thead>\n",
       "  <tbody>\n",
       "    <tr>\n",
       "      <th>6240</th>\n",
       "      <td>973389427979382785</td>\n",
       "      <td>973384624503222272</td>\n",
       "      <td>@davidhogg111 @cameron_kasky I was a fan of yo...</td>\n",
       "      <td>https://twitter.com/POTUS/status/9733894279793...</td>\n",
       "      <td>David Hogg posted a homophobic slur on Twitter...</td>\n",
       "      <td>['https://www.snopes.com/tachyon/2018/03/ratin...</td>\n",
       "      <td>http://pbs.twimg.com/media/DYIoJ28X4AAv1jl.jpg</td>\n",
       "      <td>David Hogg Follow @user 1 1 Fuck fags and thei...</td>\n",
       "      <td>https://www.snopes.com/fact-check/fake-tweet-p...</td>\n",
       "      <td>false</td>\n",
       "      <td>NaN</td>\n",
       "      <td>missing</td>\n",
       "      <td>830954149957218304</td>\n",
       "      <td>{'cap': {'english': 0.797075908158591, 'univer...</td>\n",
       "    </tr>\n",
       "    <tr>\n",
       "      <th>6241</th>\n",
       "      <td>973417642580090880</td>\n",
       "      <td>973415641670561792</td>\n",
       "      <td>look at the date https://t.co/gZYhy8bNGH</td>\n",
       "      <td>https://twitter.com/POTUS/status/9734176425800...</td>\n",
       "      <td>An Amber Alert was issued for three-year-old g...</td>\n",
       "      <td>['https://www.snopes.com/tachyon/2018/03/ratin...</td>\n",
       "      <td>http://pbs.twimg.com/media/DYJEW78VMAIVh6t.jpg</td>\n",
       "      <td>T-Mobile 00 3 Like 10:28 PM Comment 1 Comment ...</td>\n",
       "      <td>https://www.snopes.com/fact-check/fake-amber-a...</td>\n",
       "      <td>false</td>\n",
       "      <td>NaN</td>\n",
       "      <td>ok</td>\n",
       "      <td>585105031</td>\n",
       "      <td>{'cap': {'english': 0.3912159239072283, 'unive...</td>\n",
       "    </tr>\n",
       "    <tr>\n",
       "      <th>6242</th>\n",
       "      <td>973514803678334978</td>\n",
       "      <td>973504444561330177</td>\n",
       "      <td>Mysterious three-fingered skeletons found in P...</td>\n",
       "      <td>https://twitter.com/POTUS/status/9735148036783...</td>\n",
       "      <td>A corpse found in Nazca, Peru, is that of an a...</td>\n",
       "      <td>['https://www.snopes.com/tachyon/2018/03/ratin...</td>\n",
       "      <td>http://pbs.twimg.com/media/DYKVIeXX4AAZb3A.jpg</td>\n",
       "      <td>NaN</td>\n",
       "      <td>https://www.snopes.com/fact-check/alien-mummy-...</td>\n",
       "      <td>false</td>\n",
       "      <td>NaN</td>\n",
       "      <td>missing</td>\n",
       "      <td>34655603</td>\n",
       "      <td>{'cap': {'english': 0.7968624754031172, 'unive...</td>\n",
       "    </tr>\n",
       "    <tr>\n",
       "      <th>6243</th>\n",
       "      <td>973542018399002626</td>\n",
       "      <td>973540949044363265</td>\n",
       "      <td>Yeah I live next to a reserves centre and I wa...</td>\n",
       "      <td>https://twitter.com/POTUS/status/9735420183990...</td>\n",
       "      <td>A man spat at a young Marine holding the door ...</td>\n",
       "      <td>['https://www.snopes.com/tachyon/2018/03/ratin...</td>\n",
       "      <td>http://pbs.twimg.com/media/DYK2U5HXUAUzEwZ.jpg</td>\n",
       "      <td>730/0 \" 12:45 I have a favor to ask you all .....</td>\n",
       "      <td>https://www.snopes.com/fact-check/man-spit-mar...</td>\n",
       "      <td>unproven</td>\n",
       "      <td>NaN</td>\n",
       "      <td>ok</td>\n",
       "      <td>170607337</td>\n",
       "      <td>{'cap': {'english': 0.2520419704315795, 'unive...</td>\n",
       "    </tr>\n",
       "    <tr>\n",
       "      <th>6244</th>\n",
       "      <td>973553950765891584</td>\n",
       "      <td>973547647763206144</td>\n",
       "      <td>Secretary of State Tillerson did not hold his ...</td>\n",
       "      <td>https://twitter.com/POTUS/status/9735539507658...</td>\n",
       "      <td>Sec. of State Hillary Clinton's approval of a ...</td>\n",
       "      <td>['https://www.snopes.com/tachyon/2018/03/ratin...</td>\n",
       "      <td>http://pbs.twimg.com/media/DYK8bAXVwAAIlN8.jpg</td>\n",
       "      <td>THANKS HOARY FOR SELLING OULAMERICA AND SELLIN...</td>\n",
       "      <td>https://www.snopes.com/fact-check/hillary-clin...</td>\n",
       "      <td>false</td>\n",
       "      <td>NaN</td>\n",
       "      <td>ok</td>\n",
       "      <td>787113920297332736</td>\n",
       "      <td>{'cap': {'english': 0.6004883262510591, 'unive...</td>\n",
       "    </tr>\n",
       "    <tr>\n",
       "      <th>6245</th>\n",
       "      <td>973630456162869253</td>\n",
       "      <td>973559417231892482</td>\n",
       "      <td>Prof Compares Conservatives to White Supremaci...</td>\n",
       "      <td>https://twitter.com/POTUS/status/9736304561628...</td>\n",
       "      <td>A photograph documents Planned Parenthood foun...</td>\n",
       "      <td>['https://www.snopes.com/tachyon/2018/03/ratin...</td>\n",
       "      <td>http://pbs.twimg.com/media/DYLHIQnVwAANJxr.jpg</td>\n",
       "      <td>SANGER DELIVERS BURNING SPEECH LOCAL KKK GALS ...</td>\n",
       "      <td>https://www.snopes.com/fact-check/margaret-san...</td>\n",
       "      <td>miscaptioned</td>\n",
       "      <td>NaN</td>\n",
       "      <td>ok</td>\n",
       "      <td>22770745</td>\n",
       "      <td>{'cap': {'english': 0.5288664776112156, 'unive...</td>\n",
       "    </tr>\n",
       "    <tr>\n",
       "      <th>6246</th>\n",
       "      <td>973652871794356231</td>\n",
       "      <td>973607719503462400</td>\n",
       "      <td>Practice true leadership. https://t.co/lwqeOjxdgl</td>\n",
       "      <td>https://twitter.com/POTUS/status/9736528717943...</td>\n",
       "      <td>A photograph shows a wolf pack being led by th...</td>\n",
       "      <td>['https://www.snopes.com/tachyon/2018/03/ratin...</td>\n",
       "      <td>http://pbs.twimg.com/media/DYLzB9KU8AAV-Wt.jpg</td>\n",
       "      <td>\" A wolf pack : the first g are the old or sic...</td>\n",
       "      <td>https://www.snopes.com/fact-check/wolf-pack-ph...</td>\n",
       "      <td>miscaptioned</td>\n",
       "      <td>NaN</td>\n",
       "      <td>ok</td>\n",
       "      <td>3320553734</td>\n",
       "      <td>{'cap': {'english': 0.4479465575931997, 'unive...</td>\n",
       "    </tr>\n",
       "    <tr>\n",
       "      <th>6247</th>\n",
       "      <td>973682416891125761</td>\n",
       "      <td>973622843601752064</td>\n",
       "      <td>@allanbrauer @nytimes Yea, I can believe that....</td>\n",
       "      <td>https://twitter.com/POTUS/status/9736824168911...</td>\n",
       "      <td>A photograph shows Donald Trump with a diarrhe...</td>\n",
       "      <td>['https://www.snopes.com/tachyon/2018/03/ratin...</td>\n",
       "      <td>http://pbs.twimg.com/media/DYMAz-yWsAAlkjb.jpg</td>\n",
       "      <td>NaN</td>\n",
       "      <td>https://www.snopes.com/fact-check/trump-diarrh...</td>\n",
       "      <td>false</td>\n",
       "      <td>NaN</td>\n",
       "      <td>ok</td>\n",
       "      <td>308500560</td>\n",
       "      <td>{'cap': {'english': 0.8100783815308749, 'unive...</td>\n",
       "    </tr>\n",
       "    <tr>\n",
       "      <th>6248</th>\n",
       "      <td>974706573858701312</td>\n",
       "      <td>973649268031582208</td>\n",
       "      <td>Today on #ArmedAmericanRadio it's @chelstorrm ...</td>\n",
       "      <td>https://twitter.com/POTUS/status/9747065738587...</td>\n",
       "      <td>Former Roanoke City Department of Social Servi...</td>\n",
       "      <td>['https://www.snopes.com/tachyon/2018/03/ratin...</td>\n",
       "      <td>http://pbs.twimg.com/media/DYMY1TIVwAArDbH.jpg</td>\n",
       "      <td>NaN</td>\n",
       "      <td>https://www.snopes.com/fact-check/was-a-dss-wo...</td>\n",
       "      <td>false</td>\n",
       "      <td>NaN</td>\n",
       "      <td>ok</td>\n",
       "      <td>81910236</td>\n",
       "      <td>{'cap': {'english': 0.30618807248975083, 'univ...</td>\n",
       "    </tr>\n",
       "    <tr>\n",
       "      <th>6249</th>\n",
       "      <td>973853547530997760</td>\n",
       "      <td>973692894719696898</td>\n",
       "      <td>@maddow Enough said.... https://t.co/5ZRB1nI0SE</td>\n",
       "      <td>https://twitter.com/POTUS/status/9738535475309...</td>\n",
       "      <td>Donald Trump said in 1998 that he would one da...</td>\n",
       "      <td>['https://www.snopes.com/tachyon/2018/03/ratin...</td>\n",
       "      <td>http://pbs.twimg.com/media/DYNAhp7X0AU86rR.jpg</td>\n",
       "      <td>\" If I were to run , I'd run as a Republican ....</td>\n",
       "      <td>https://www.snopes.com/fact-check/1998-trump-p...</td>\n",
       "      <td>false</td>\n",
       "      <td>NaN</td>\n",
       "      <td>ok</td>\n",
       "      <td>864275509768851456</td>\n",
       "      <td>{'code': 34, 'message': 'Sorry, that page does...</td>\n",
       "    </tr>\n",
       "    <tr>\n",
       "      <th>6250</th>\n",
       "      <td>973792177913556993</td>\n",
       "      <td>973791357717409793</td>\n",
       "      <td>This is surely a win for Hillary, she called i...</td>\n",
       "      <td>https://twitter.com/POTUS/status/9737921779135...</td>\n",
       "      <td>Hillary Clinton said that Democratic voters ar...</td>\n",
       "      <td>['https://www.snopes.com/tachyon/2018/03/ratin...</td>\n",
       "      <td>http://pbs.twimg.com/media/DYOaEo5XcAElynQ.jpg</td>\n",
       "      <td>\" Look , the average Democrat voter is just pl...</td>\n",
       "      <td>https://www.snopes.com/fact-check/hillary-clin...</td>\n",
       "      <td>false</td>\n",
       "      <td>NaN</td>\n",
       "      <td>ok</td>\n",
       "      <td>925218559491534848</td>\n",
       "      <td>{'cap': {'english': 0.2520419704315795, 'unive...</td>\n",
       "    </tr>\n",
       "    <tr>\n",
       "      <th>6251</th>\n",
       "      <td>973840544509104128</td>\n",
       "      <td>973838645055561728</td>\n",
       "      <td>Controversial scientist releases findings on 1...</td>\n",
       "      <td>https://twitter.com/POTUS/status/9738405445091...</td>\n",
       "      <td>A corpse found in Nazca, Peru, is that of an a...</td>\n",
       "      <td>['https://www.snopes.com/tachyon/2018/03/ratin...</td>\n",
       "      <td>http://pbs.twimg.com/media/DYO9dIbXUAEmBMH.jpg</td>\n",
       "      <td>NaN</td>\n",
       "      <td>https://www.snopes.com/fact-check/alien-mummy-...</td>\n",
       "      <td>false</td>\n",
       "      <td>NaN</td>\n",
       "      <td>auth</td>\n",
       "      <td>63362429</td>\n",
       "      <td>{'cap': {'english': 0.7971422227407965, 'unive...</td>\n",
       "    </tr>\n",
       "    <tr>\n",
       "      <th>6252</th>\n",
       "      <td>973893541259816961</td>\n",
       "      <td>973875332934615040</td>\n",
       "      <td>Here’s the gun control hero....   #MorningJoe ...</td>\n",
       "      <td>https://twitter.com/POTUS/status/9738935412598...</td>\n",
       "      <td>David Hogg posted a homophobic slur on Twitter...</td>\n",
       "      <td>['https://www.snopes.com/tachyon/2018/03/ratin...</td>\n",
       "      <td>http://pbs.twimg.com/media/DYPmczSUQAAHaxi.jpg</td>\n",
       "      <td>David Hogg @user 1 1 Fuck fags and their fag m...</td>\n",
       "      <td>https://www.snopes.com/fact-check/fake-tweet-p...</td>\n",
       "      <td>false</td>\n",
       "      <td>NaN</td>\n",
       "      <td>ok</td>\n",
       "      <td>62125299</td>\n",
       "      <td>{'cap': {'english': 0.7668769621923945, 'unive...</td>\n",
       "    </tr>\n",
       "    <tr>\n",
       "      <th>6253</th>\n",
       "      <td>973880377944231936</td>\n",
       "      <td>973876567117062145</td>\n",
       "      <td>@John06211145 @PersonAwake hows this make you ...</td>\n",
       "      <td>https://twitter.com/POTUS/status/9738803779442...</td>\n",
       "      <td>Products from Pepsi and other major food produ...</td>\n",
       "      <td>['https://www.snopes.com/tachyon/2018/03/ratin...</td>\n",
       "      <td>http://pbs.twimg.com/media/DYPngQhWkAIljV0.jpg</td>\n",
       "      <td>ABORTED FETUS CELLS ARE IN THESE noos AND OTHE...</td>\n",
       "      <td>https://www.snopes.com/fact-check/senomyx-flav...</td>\n",
       "      <td>false</td>\n",
       "      <td>NaN</td>\n",
       "      <td>ok</td>\n",
       "      <td>973518240151425024</td>\n",
       "      <td>{'cap': {'english': 0.7965971518887632, 'unive...</td>\n",
       "    </tr>\n",
       "    <tr>\n",
       "      <th>6254</th>\n",
       "      <td>974063294960095233</td>\n",
       "      <td>973924441947287552</td>\n",
       "      <td>Picture doing rounds on social media claiming ...</td>\n",
       "      <td>https://twitter.com/POTUS/status/9740632949600...</td>\n",
       "      <td>A photograph shows Stephen Hawking at a Vietna...</td>\n",
       "      <td>['https://www.snopes.com/tachyon/2018/03/ratin...</td>\n",
       "      <td>http://pbs.twimg.com/media/DYQTFifX4AAVz1F.jpg</td>\n",
       "      <td>NaN</td>\n",
       "      <td>https://www.snopes.com/fact-check/stephen-hawk...</td>\n",
       "      <td>miscaptioned</td>\n",
       "      <td>NaN</td>\n",
       "      <td>missing</td>\n",
       "      <td>347289302</td>\n",
       "      <td>{'cap': {'english': 0.36264564124632276, 'univ...</td>\n",
       "    </tr>\n",
       "    <tr>\n",
       "      <th>6255</th>\n",
       "      <td>975587358828650496</td>\n",
       "      <td>973935201561739265</td>\n",
       "      <td>Children who learn about taxation young will a...</td>\n",
       "      <td>https://twitter.com/POTUS/status/9755873588286...</td>\n",
       "      <td>Photographs show Russian President Vladimir Pu...</td>\n",
       "      <td>['https://www.snopes.com/tachyon/2018/03/ratin...</td>\n",
       "      <td>http://pbs.twimg.com/media/DYQc3SRVoAAJEJp.jpg</td>\n",
       "      <td>Putin teaches a young boy how taxes work ThE P...</td>\n",
       "      <td>https://www.snopes.com/fact-check/putin-pictur...</td>\n",
       "      <td>false</td>\n",
       "      <td>NaN</td>\n",
       "      <td>ok</td>\n",
       "      <td>4833796894</td>\n",
       "      <td>{'cap': {'english': 0.0, 'universal': 0.743720...</td>\n",
       "    </tr>\n",
       "    <tr>\n",
       "      <th>6256</th>\n",
       "      <td>974011453635284992</td>\n",
       "      <td>973940511634546688</td>\n",
       "      <td>\"Trust me, you don’t ever want to be on the ot...</td>\n",
       "      <td>https://twitter.com/POTUS/status/9740114536352...</td>\n",
       "      <td>A photograph shows Robert Mueller in Vietnam i...</td>\n",
       "      <td>['https://www.snopes.com/tachyon/2018/03/ratin...</td>\n",
       "      <td>http://pbs.twimg.com/media/DYQhurfWAAELt-7.jpg</td>\n",
       "      <td>NaN</td>\n",
       "      <td>https://www.snopes.com/fact-check/robert-muell...</td>\n",
       "      <td>miscaptioned</td>\n",
       "      <td>NaN</td>\n",
       "      <td>ok</td>\n",
       "      <td>29275869</td>\n",
       "      <td>{'cap': {'english': 0.7759887465100499, 'unive...</td>\n",
       "    </tr>\n",
       "    <tr>\n",
       "      <th>6257</th>\n",
       "      <td>973961731880996864</td>\n",
       "      <td>973960182232469504</td>\n",
       "      <td>@seanhannity More lies #Hannity ? Pathetic sc*...</td>\n",
       "      <td>https://twitter.com/POTUS/status/9739617318809...</td>\n",
       "      <td>The Fox News Channel has been banned in Canada...</td>\n",
       "      <td>['https://www.snopes.com/tachyon/2018/03/ratin...</td>\n",
       "      <td>http://pbs.twimg.com/media/DYQznZzVMAAW1YZ.jpg</td>\n",
       "      <td>FOX NEWS IS BANNED IN CANADA AS CHANNEL FOX WH...</td>\n",
       "      <td>https://www.snopes.com/fact-check/canadian-fox/</td>\n",
       "      <td>false</td>\n",
       "      <td>NaN</td>\n",
       "      <td>auth</td>\n",
       "      <td>860243075695689728</td>\n",
       "      <td>{'code': 34, 'message': 'Sorry, that page does...</td>\n",
       "    </tr>\n",
       "    <tr>\n",
       "      <th>6258</th>\n",
       "      <td>973995758470000640</td>\n",
       "      <td>973986027143606285</td>\n",
       "      <td>Be a nuisance where it counts .... Marjory Sto...</td>\n",
       "      <td>https://twitter.com/POTUS/status/9739957584700...</td>\n",
       "      <td>Marjory Stoneman Douglas encouraged activists ...</td>\n",
       "      <td>['https://www.snopes.com/tachyon/2018/03/ratin...</td>\n",
       "      <td>http://pbs.twimg.com/media/DYRLGDPWkAAU6rY.jpg</td>\n",
       "      <td>Be a nuisance where it counts ; Do your part t...</td>\n",
       "      <td>https://www.snopes.com/fact-check/marjory-ston...</td>\n",
       "      <td>correctly-attributed</td>\n",
       "      <td>NaN</td>\n",
       "      <td>ok</td>\n",
       "      <td>15778047</td>\n",
       "      <td>{'cap': {'english': 0.22631829961109876, 'univ...</td>\n",
       "    </tr>\n",
       "    <tr>\n",
       "      <th>6259</th>\n",
       "      <td>974139776453488640</td>\n",
       "      <td>974052087641313282</td>\n",
       "      <td>@emmaroller Feel the BERN!!! https://t.co/vJFe...</td>\n",
       "      <td>https://twitter.com/POTUS/status/9741397764534...</td>\n",
       "      <td>Bernie Sanders purchased a $172,000 luxury car...</td>\n",
       "      <td>['https://www.snopes.com/tachyon/2018/03/ratin...</td>\n",
       "      <td>http://pbs.twimg.com/media/DYSHNYMX4AA--FZ.jpg</td>\n",
       "      <td>It $ 170 OOO Audi R8 Something only , an drive...</td>\n",
       "      <td>https://www.snopes.com/fact-check/bernie-sande...</td>\n",
       "      <td>false</td>\n",
       "      <td>NaN</td>\n",
       "      <td>missing</td>\n",
       "      <td>922455874425249792</td>\n",
       "      <td>{'cap': {'english': 0.5027122940873614, 'unive...</td>\n",
       "    </tr>\n",
       "    <tr>\n",
       "      <th>6260</th>\n",
       "      <td>975485566304178176</td>\n",
       "      <td>974078804275671040</td>\n",
       "      <td>@3amart @mancubspapa Funded by the real leader...</td>\n",
       "      <td>https://twitter.com/POTUS/status/9754855663041...</td>\n",
       "      <td>George Soros said that he funded the Black Liv...</td>\n",
       "      <td>['https://www.snopes.com/tachyon/2018/03/ratin...</td>\n",
       "      <td>http://pbs.twimg.com/media/DYSfgSLW0AIroHH.jpg</td>\n",
       "      <td>\" I'm going to bring down the United States by...</td>\n",
       "      <td>https://www.snopes.com/fact-check/george-soros...</td>\n",
       "      <td>false</td>\n",
       "      <td>NaN</td>\n",
       "      <td>ok</td>\n",
       "      <td>26859728</td>\n",
       "      <td>{'cap': {'english': 0.4479465575931997, 'unive...</td>\n",
       "    </tr>\n",
       "    <tr>\n",
       "      <th>6261</th>\n",
       "      <td>974152188632035328</td>\n",
       "      <td>974145963198689280</td>\n",
       "      <td>Pretty sure I just solved or @NRA problems.  W...</td>\n",
       "      <td>https://twitter.com/POTUS/status/9741521886320...</td>\n",
       "      <td>NRA executive vice president Wayne LaPierre wa...</td>\n",
       "      <td>['https://www.snopes.com/tachyon/2018/03/ratin...</td>\n",
       "      <td>http://pbs.twimg.com/media/DYTclrEW0AAx6Ln.jpg</td>\n",
       "      <td>MR . BRAVE GUN GUY ? Wayne LaPierre , CEO of t...</td>\n",
       "      <td>https://www.snopes.com/fact-check/nra-leader-w...</td>\n",
       "      <td>unproven</td>\n",
       "      <td>NaN</td>\n",
       "      <td>ok</td>\n",
       "      <td>29275869</td>\n",
       "      <td>{'cap': {'english': 0.7759887465100499, 'unive...</td>\n",
       "    </tr>\n",
       "    <tr>\n",
       "      <th>6262</th>\n",
       "      <td>974314434750533638</td>\n",
       "      <td>974221400033677312</td>\n",
       "      <td>Try to let this sink in. https://t.co/UIoOU4i6BN</td>\n",
       "      <td>https://twitter.com/POTUS/status/9743144347505...</td>\n",
       "      <td>The United States has the third-highest rate o...</td>\n",
       "      <td>['https://www.snopes.com/tachyon/2018/03/ratin...</td>\n",
       "      <td>http://pbs.twimg.com/media/DYUhMlMVoAATt_I.jpg</td>\n",
       "      <td>The United States is 3rd in murders throughout...</td>\n",
       "      <td>https://www.snopes.com/fact-check/united-state...</td>\n",
       "      <td>mostly-false</td>\n",
       "      <td>NaN</td>\n",
       "      <td>ok</td>\n",
       "      <td>46705002</td>\n",
       "      <td>{'cap': {'english': 0.2787259978325127, 'unive...</td>\n",
       "    </tr>\n",
       "    <tr>\n",
       "      <th>6263</th>\n",
       "      <td>974314874837831680</td>\n",
       "      <td>974310418268278784</td>\n",
       "      <td>@vasiliE76 @barefootboomer As long as you agre...</td>\n",
       "      <td>https://twitter.com/POTUS/status/9743148748378...</td>\n",
       "      <td>Actor Denzel Washington said electing Presiden...</td>\n",
       "      <td>['https://www.snopes.com/tachyon/2018/03/ratin...</td>\n",
       "      <td>http://pbs.twimg.com/media/DYVyJ59V4AAhjUp.jpg</td>\n",
       "      <td>Denzel Washirygton : \" If the Democrats had Wa...</td>\n",
       "      <td>https://www.snopes.com/fact-check/denzel-washi...</td>\n",
       "      <td>false</td>\n",
       "      <td>NaN</td>\n",
       "      <td>missing</td>\n",
       "      <td>1519986596</td>\n",
       "      <td>{'cap': {'english': 0.2787259978325127, 'unive...</td>\n",
       "    </tr>\n",
       "    <tr>\n",
       "      <th>6264</th>\n",
       "      <td>975850010347745280</td>\n",
       "      <td>974313348677320704</td>\n",
       "      <td>************  #Hillary &amp;amp; #BillClinton Have...</td>\n",
       "      <td>https://twitter.com/POTUS/status/9758500103477...</td>\n",
       "      <td>A photograph shows Hillary Clinton in blackfac...</td>\n",
       "      <td>['https://www.snopes.com/tachyon/2018/03/ratin...</td>\n",
       "      <td>http://pbs.twimg.com/media/DYV0wAFU8AE9oZx.jpg</td>\n",
       "      <td>THE DEMOCRATS AREN'T GOING TO LIKE THIS ONEI H...</td>\n",
       "      <td>https://www.snopes.com/fact-check/hillary-clin...</td>\n",
       "      <td>false</td>\n",
       "      <td>NaN</td>\n",
       "      <td>missing</td>\n",
       "      <td>2316246829</td>\n",
       "      <td>{'cap': {'english': 0.7973765977480777, 'unive...</td>\n",
       "    </tr>\n",
       "    <tr>\n",
       "      <th>6265</th>\n",
       "      <td>974745951377145856</td>\n",
       "      <td>974356369846530054</td>\n",
       "      <td>@NancyPelosi Why would I want to listen to an ...</td>\n",
       "      <td>https://twitter.com/POTUS/status/9747459513771...</td>\n",
       "      <td>House Minority Leader Nancy Pelosi said of the...</td>\n",
       "      <td>['https://www.snopes.com/tachyon/2018/03/ratin...</td>\n",
       "      <td>['http://pbs.twimg.com/media/DYWb79hX0Ag8nkV.j...</td>\n",
       "      <td>[\"AMERICAN PEOPLE AND MEMBERS HAVE A RIGHT TO ...</td>\n",
       "      <td>https://www.snopes.com/fact-check/pelosi-healt...</td>\n",
       "      <td>mixture</td>\n",
       "      <td>NaN</td>\n",
       "      <td>missing</td>\n",
       "      <td>72025298</td>\n",
       "      <td>{'cap': {'english': 0.2787259978325127, 'unive...</td>\n",
       "    </tr>\n",
       "    <tr>\n",
       "      <th>6266</th>\n",
       "      <td>974408949918154752</td>\n",
       "      <td>974383969482498048</td>\n",
       "      <td>🤭🤭🤭🤭🤭🤭🤭🤭🤭 I WILL SHUT UP WHILE YOU READ... htt...</td>\n",
       "      <td>https://twitter.com/POTUS/status/9744089499181...</td>\n",
       "      <td>The United States has the third-highest rate o...</td>\n",
       "      <td>['https://www.snopes.com/tachyon/2018/03/ratin...</td>\n",
       "      <td>http://pbs.twimg.com/media/DYW1DnWXkAAejOS.jpg</td>\n",
       "      <td>The United States is 3rd in murders throughout...</td>\n",
       "      <td>https://www.snopes.com/fact-check/united-state...</td>\n",
       "      <td>mostly-false</td>\n",
       "      <td>NaN</td>\n",
       "      <td>ok</td>\n",
       "      <td>329807386</td>\n",
       "      <td>{'cap': {'english': 0.7920317685697057, 'unive...</td>\n",
       "    </tr>\n",
       "    <tr>\n",
       "      <th>6267</th>\n",
       "      <td>974441975427428353</td>\n",
       "      <td>974431582122635265</td>\n",
       "      <td>#msnbc @PRyan Hello America, YOU'VE BEEN BUSTE...</td>\n",
       "      <td>https://twitter.com/POTUS/status/9744419754274...</td>\n",
       "      <td>Speaker Paul Ryan said that he doesn't care if...</td>\n",
       "      <td>['https://www.snopes.com/tachyon/2018/03/ratin...</td>\n",
       "      <td>http://pbs.twimg.com/media/DYXgWvvUQAAbXKx.jpg</td>\n",
       "      <td>I don't care if Trump destroys the United Stat...</td>\n",
       "      <td>https://www.snopes.com/fact-check/paul-ryan-co...</td>\n",
       "      <td>false</td>\n",
       "      <td>NaN</td>\n",
       "      <td>missing</td>\n",
       "      <td>408194759</td>\n",
       "      <td>{'cap': {'english': 0.7546218700467833, 'unive...</td>\n",
       "    </tr>\n",
       "    <tr>\n",
       "      <th>6268</th>\n",
       "      <td>974458496048492546</td>\n",
       "      <td>974439628341174272</td>\n",
       "      <td>#Trump making @SpeakerRyan &amp;amp; the #Republic...</td>\n",
       "      <td>https://twitter.com/POTUS/status/9744584960484...</td>\n",
       "      <td>Donald Trump said in 1998 that he would one da...</td>\n",
       "      <td>['https://www.snopes.com/tachyon/2018/03/ratin...</td>\n",
       "      <td>http://pbs.twimg.com/media/DYXnq-DXkAA3T1e.jpg</td>\n",
       "      <td>\" If I were to run , I'd run as a Republican ....</td>\n",
       "      <td>https://www.snopes.com/fact-check/1998-trump-p...</td>\n",
       "      <td>false</td>\n",
       "      <td>NaN</td>\n",
       "      <td>auth</td>\n",
       "      <td>47109950</td>\n",
       "      <td>{'cap': {'english': 0.0, 'universal': 0.317394...</td>\n",
       "    </tr>\n",
       "    <tr>\n",
       "      <th>6269</th>\n",
       "      <td>974520281204105216</td>\n",
       "      <td>974445251187355648</td>\n",
       "      <td>you should never feel bad about mocking this g...</td>\n",
       "      <td>https://twitter.com/POTUS/status/9745202812041...</td>\n",
       "      <td>Donald Trump Jr. tweeted that the family's gre...</td>\n",
       "      <td>['https://www.snopes.com/tachyon/2018/03/ratin...</td>\n",
       "      <td>http://pbs.twimg.com/media/DYXsehzXkAUa3-d.jpg</td>\n",
       "      <td>Donald Trump Jr . @user 2 + Follow At dinner w...</td>\n",
       "      <td>https://www.snopes.com/fact-check/donald-trump...</td>\n",
       "      <td>true</td>\n",
       "      <td>NaN</td>\n",
       "      <td>ok</td>\n",
       "      <td>3344423229</td>\n",
       "      <td>{'cap': {'english': 0.30618807248975083, 'univ...</td>\n",
       "    </tr>\n",
       "    <tr>\n",
       "      <th>6270</th>\n",
       "      <td>974571466938183680</td>\n",
       "      <td>974465389726855168</td>\n",
       "      <td>@ALT_uscis @VP Pence and his former Chief Staf...</td>\n",
       "      <td>https://twitter.com/POTUS/status/9745714669381...</td>\n",
       "      <td>A photograph shows a young Mike Pence with his...</td>\n",
       "      <td>['https://www.snopes.com/tachyon/2018/03/ratin...</td>\n",
       "      <td>http://pbs.twimg.com/media/DYX_GvUUQAAxda9.jpg</td>\n",
       "      <td>NaN</td>\n",
       "      <td>https://www.snopes.com/fact-check/mike-pences-...</td>\n",
       "      <td>false</td>\n",
       "      <td>NaN</td>\n",
       "      <td>ok</td>\n",
       "      <td>330781868</td>\n",
       "      <td>{'cap': {'english': 0.6763619064808265, 'unive...</td>\n",
       "    </tr>\n",
       "    <tr>\n",
       "      <th>6271</th>\n",
       "      <td>974989628204896256</td>\n",
       "      <td>974476265313849344</td>\n",
       "      <td>Well, I tried. https://t.co/a33ooqxDQZ</td>\n",
       "      <td>https://twitter.com/POTUS/status/9749896282048...</td>\n",
       "      <td>The United States has the third-highest rate o...</td>\n",
       "      <td>['https://www.snopes.com/tachyon/2018/03/ratin...</td>\n",
       "      <td>['http://pbs.twimg.com/media/DYYI-QKVMAAXci3.j...</td>\n",
       "      <td>['The United States is 3rd in murders througho...</td>\n",
       "      <td>https://www.snopes.com/fact-check/united-state...</td>\n",
       "      <td>mostly-false</td>\n",
       "      <td>NaN</td>\n",
       "      <td>ok</td>\n",
       "      <td>36618079</td>\n",
       "      <td>{'cap': {'english': 0.0, 'universal': 0.548888...</td>\n",
       "    </tr>\n",
       "    <tr>\n",
       "      <th>6272</th>\n",
       "      <td>975331727378927617</td>\n",
       "      <td>974648005906153472</td>\n",
       "      <td>Birds of a feather...flock together  Uk prime ...</td>\n",
       "      <td>https://twitter.com/POTUS/status/9753317273789...</td>\n",
       "      <td>A photograph shows world leaders Angela Merkel...</td>\n",
       "      <td>['https://www.snopes.com/tachyon/2018/03/ratin...</td>\n",
       "      <td>['http://pbs.twimg.com/media/DYalLm3V4AAxA2s.j...</td>\n",
       "      <td>['', '']</td>\n",
       "      <td>https://www.snopes.com/fact-check/were-merkel-...</td>\n",
       "      <td>miscaptioned</td>\n",
       "      <td>NaN</td>\n",
       "      <td>auth</td>\n",
       "      <td>323327211</td>\n",
       "      <td>{'code': 34, 'message': 'Sorry, that page does...</td>\n",
       "    </tr>\n",
       "    <tr>\n",
       "      <th>6273</th>\n",
       "      <td>974688499608698885</td>\n",
       "      <td>974650722619977728</td>\n",
       "      <td>Leading candidates for positions in the trump ...</td>\n",
       "      <td>https://twitter.com/POTUS/status/9746884996086...</td>\n",
       "      <td>Photograph shows boxes of Tyson \"[inverted] bo...</td>\n",
       "      <td>['https://www.snopes.com/tachyon/2018/03/ratin...</td>\n",
       "      <td>http://pbs.twimg.com/media/DYanqofW0AAtPm8.jpg</td>\n",
       "      <td>U.S919.EV BONELESS PORK RECTUMS OF USA BONELES...</td>\n",
       "      <td>https://www.snopes.com/fact-check/pig-in-a-poke/</td>\n",
       "      <td>mostly-true-new</td>\n",
       "      <td>NaN</td>\n",
       "      <td>ok</td>\n",
       "      <td>1901999588</td>\n",
       "      <td>{'code': 34, 'message': 'Sorry, that page does...</td>\n",
       "    </tr>\n",
       "    <tr>\n",
       "      <th>6274</th>\n",
       "      <td>974722457105059841</td>\n",
       "      <td>974664422420631552</td>\n",
       "      <td>Supporting kids of mass shootings and soldiers...</td>\n",
       "      <td>https://twitter.com/POTUS/status/9747224571050...</td>\n",
       "      <td>A temporary memorial at the U.S. Capitol displ...</td>\n",
       "      <td>['https://www.snopes.com/tachyon/2018/03/ratin...</td>\n",
       "      <td>http://pbs.twimg.com/media/DYaz1WgX4AItX0D.jpg</td>\n",
       "      <td>NaN</td>\n",
       "      <td>https://www.snopes.com/fact-check/empty-shoes-...</td>\n",
       "      <td>mostly-true-new</td>\n",
       "      <td>NaN</td>\n",
       "      <td>ok</td>\n",
       "      <td>16225955</td>\n",
       "      <td>{'code': 34, 'message': 'Sorry, that page does...</td>\n",
       "    </tr>\n",
       "    <tr>\n",
       "      <th>6275</th>\n",
       "      <td>974795313167904768</td>\n",
       "      <td>974794090574417921</td>\n",
       "      <td>A reminder of reasons for admission to an insa...</td>\n",
       "      <td>https://twitter.com/POTUS/status/9747953131679...</td>\n",
       "      <td>A list documents the myriad reasons why people...</td>\n",
       "      <td>['https://www.snopes.com/tachyon/2018/03/ratin...</td>\n",
       "      <td>http://pbs.twimg.com/media/DYcqC5lWAAEW080.jpg</td>\n",
       "      <td>REASONS FOR ADMISSION 1864 TO 1889 INTEMPERANC...</td>\n",
       "      <td>https://www.snopes.com/fact-check/reasons-admi...</td>\n",
       "      <td>mixture</td>\n",
       "      <td>NaN</td>\n",
       "      <td>ok</td>\n",
       "      <td>19582310</td>\n",
       "      <td>{'code': 34, 'message': 'Sorry, that page does...</td>\n",
       "    </tr>\n",
       "    <tr>\n",
       "      <th>6276</th>\n",
       "      <td>974798646284832769</td>\n",
       "      <td>974795703947022336</td>\n",
       "      <td>The United States is 3rd in murders throughout...</td>\n",
       "      <td>https://twitter.com/POTUS/status/9747986462848...</td>\n",
       "      <td>The United States has the third-highest rate o...</td>\n",
       "      <td>['https://www.snopes.com/tachyon/2018/03/ratin...</td>\n",
       "      <td>http://pbs.twimg.com/media/DYcrhr7X4AERzrv.jpg</td>\n",
       "      <td>NaN</td>\n",
       "      <td>https://www.snopes.com/fact-check/united-state...</td>\n",
       "      <td>mostly-false</td>\n",
       "      <td>NaN</td>\n",
       "      <td>ok</td>\n",
       "      <td>19612749</td>\n",
       "      <td>{'code': 34, 'message': 'Sorry, that page does...</td>\n",
       "    </tr>\n",
       "    <tr>\n",
       "      <th>6277</th>\n",
       "      <td>975011510144655360</td>\n",
       "      <td>974974266486743040</td>\n",
       "      <td>RT ElveTwelve: \"These people all belong to the...</td>\n",
       "      <td>https://twitter.com/POTUS/status/9750115101446...</td>\n",
       "      <td>A photograph shows world leaders Angela Merkel...</td>\n",
       "      <td>['https://www.snopes.com/tachyon/2018/03/ratin...</td>\n",
       "      <td>http://pbs.twimg.com/media/DYbFriaX0AgZFiw.jpg</td>\n",
       "      <td>NaN</td>\n",
       "      <td>https://www.snopes.com/fact-check/were-merkel-...</td>\n",
       "      <td>miscaptioned</td>\n",
       "      <td>NaN</td>\n",
       "      <td>ok</td>\n",
       "      <td>188338427</td>\n",
       "      <td>{'code': 34, 'message': 'Sorry, that page does...</td>\n",
       "    </tr>\n",
       "    <tr>\n",
       "      <th>6278</th>\n",
       "      <td>975006914735198208</td>\n",
       "      <td>974993750626832384</td>\n",
       "      <td>Truth Isn't the Problem  Unless you're a liber...</td>\n",
       "      <td>https://twitter.com/POTUS/status/9750069147351...</td>\n",
       "      <td>Teddy Roosevelt said that \"to anger a conserva...</td>\n",
       "      <td>['https://www.snopes.com/tachyon/2018/03/ratin...</td>\n",
       "      <td>http://pbs.twimg.com/media/DYffpCMUMAA6bB5.jpg</td>\n",
       "      <td>TO ANGER A CONSERVATIVE , TO HIM . TO ANGER A ...</td>\n",
       "      <td>https://www.snopes.com/fact-check/teddy-roosev...</td>\n",
       "      <td>false</td>\n",
       "      <td>NaN</td>\n",
       "      <td>auth</td>\n",
       "      <td>291874773</td>\n",
       "      <td>{'code': 34, 'message': 'Sorry, that page does...</td>\n",
       "    </tr>\n",
       "    <tr>\n",
       "      <th>6279</th>\n",
       "      <td>976120024137072640</td>\n",
       "      <td>975063234381275142</td>\n",
       "      <td>THE EDUCATION SYSTEM IS OUT OF CONTROL.   This...</td>\n",
       "      <td>https://twitter.com/POTUS/status/9761200241370...</td>\n",
       "      <td>An Ohio high school student was suspended for ...</td>\n",
       "      <td>['https://www.snopes.com/tachyon/2018/03/ratin...</td>\n",
       "      <td>http://pbs.twimg.com/media/DYge1dmW0AIwzwu.jpg</td>\n",
       "      <td>( AP Photo / Kantele Franko ) ADM 403 HILLIARD...</td>\n",
       "      <td>https://www.snopes.com/fact-check/student-susp...</td>\n",
       "      <td>mixture</td>\n",
       "      <td>NaN</td>\n",
       "      <td>ok</td>\n",
       "      <td>722994185171816448</td>\n",
       "      <td>{'code': 34, 'message': 'Sorry, that page does...</td>\n",
       "    </tr>\n",
       "    <tr>\n",
       "      <th>6280</th>\n",
       "      <td>975356622267699202</td>\n",
       "      <td>975076250451660801</td>\n",
       "      <td>BREAKING:  9/11 - All 19 Islamic terrorist hig...</td>\n",
       "      <td>https://twitter.com/POTUS/status/9753566222676...</td>\n",
       "      <td>Former CIA Director John Brennan is a Muslim w...</td>\n",
       "      <td>['https://www.snopes.com/tachyon/2018/03/ratin...</td>\n",
       "      <td>http://pbs.twimg.com/media/DYgqGC7XkAA2XaP.jpg</td>\n",
       "      <td>NaN</td>\n",
       "      <td>https://www.snopes.com/fact-check/cia-director...</td>\n",
       "      <td>unproven</td>\n",
       "      <td>NaN</td>\n",
       "      <td>ok</td>\n",
       "      <td>787423762836819968</td>\n",
       "      <td>{'code': 34, 'message': 'Sorry, that page does...</td>\n",
       "    </tr>\n",
       "  </tbody>\n",
       "</table>\n",
       "</div>"
      ],
      "text/plain": [
       "                      id         original_id  \\\n",
       "6240  973389427979382785  973384624503222272   \n",
       "6241  973417642580090880  973415641670561792   \n",
       "6242  973514803678334978  973504444561330177   \n",
       "6243  973542018399002626  973540949044363265   \n",
       "6244  973553950765891584  973547647763206144   \n",
       "6245  973630456162869253  973559417231892482   \n",
       "6246  973652871794356231  973607719503462400   \n",
       "6247  973682416891125761  973622843601752064   \n",
       "6248  974706573858701312  973649268031582208   \n",
       "6249  973853547530997760  973692894719696898   \n",
       "6250  973792177913556993  973791357717409793   \n",
       "6251  973840544509104128  973838645055561728   \n",
       "6252  973893541259816961  973875332934615040   \n",
       "6253  973880377944231936  973876567117062145   \n",
       "6254  974063294960095233  973924441947287552   \n",
       "6255  975587358828650496  973935201561739265   \n",
       "6256  974011453635284992  973940511634546688   \n",
       "6257  973961731880996864  973960182232469504   \n",
       "6258  973995758470000640  973986027143606285   \n",
       "6259  974139776453488640  974052087641313282   \n",
       "6260  975485566304178176  974078804275671040   \n",
       "6261  974152188632035328  974145963198689280   \n",
       "6262  974314434750533638  974221400033677312   \n",
       "6263  974314874837831680  974310418268278784   \n",
       "6264  975850010347745280  974313348677320704   \n",
       "6265  974745951377145856  974356369846530054   \n",
       "6266  974408949918154752  974383969482498048   \n",
       "6267  974441975427428353  974431582122635265   \n",
       "6268  974458496048492546  974439628341174272   \n",
       "6269  974520281204105216  974445251187355648   \n",
       "6270  974571466938183680  974465389726855168   \n",
       "6271  974989628204896256  974476265313849344   \n",
       "6272  975331727378927617  974648005906153472   \n",
       "6273  974688499608698885  974650722619977728   \n",
       "6274  974722457105059841  974664422420631552   \n",
       "6275  974795313167904768  974794090574417921   \n",
       "6276  974798646284832769  974795703947022336   \n",
       "6277  975011510144655360  974974266486743040   \n",
       "6278  975006914735198208  974993750626832384   \n",
       "6279  976120024137072640  975063234381275142   \n",
       "6280  975356622267699202  975076250451660801   \n",
       "\n",
       "                                             tweet_text  \\\n",
       "6240  @davidhogg111 @cameron_kasky I was a fan of yo...   \n",
       "6241           look at the date https://t.co/gZYhy8bNGH   \n",
       "6242  Mysterious three-fingered skeletons found in P...   \n",
       "6243  Yeah I live next to a reserves centre and I wa...   \n",
       "6244  Secretary of State Tillerson did not hold his ...   \n",
       "6245  Prof Compares Conservatives to White Supremaci...   \n",
       "6246  Practice true leadership. https://t.co/lwqeOjxdgl   \n",
       "6247  @allanbrauer @nytimes Yea, I can believe that....   \n",
       "6248  Today on #ArmedAmericanRadio it's @chelstorrm ...   \n",
       "6249    @maddow Enough said.... https://t.co/5ZRB1nI0SE   \n",
       "6250  This is surely a win for Hillary, she called i...   \n",
       "6251  Controversial scientist releases findings on 1...   \n",
       "6252  Here’s the gun control hero....   #MorningJoe ...   \n",
       "6253  @John06211145 @PersonAwake hows this make you ...   \n",
       "6254  Picture doing rounds on social media claiming ...   \n",
       "6255  Children who learn about taxation young will a...   \n",
       "6256  \"Trust me, you don’t ever want to be on the ot...   \n",
       "6257  @seanhannity More lies #Hannity ? Pathetic sc*...   \n",
       "6258  Be a nuisance where it counts .... Marjory Sto...   \n",
       "6259  @emmaroller Feel the BERN!!! https://t.co/vJFe...   \n",
       "6260  @3amart @mancubspapa Funded by the real leader...   \n",
       "6261  Pretty sure I just solved or @NRA problems.  W...   \n",
       "6262   Try to let this sink in. https://t.co/UIoOU4i6BN   \n",
       "6263  @vasiliE76 @barefootboomer As long as you agre...   \n",
       "6264  ************  #Hillary &amp; #BillClinton Have...   \n",
       "6265  @NancyPelosi Why would I want to listen to an ...   \n",
       "6266  🤭🤭🤭🤭🤭🤭🤭🤭🤭 I WILL SHUT UP WHILE YOU READ... htt...   \n",
       "6267  #msnbc @PRyan Hello America, YOU'VE BEEN BUSTE...   \n",
       "6268  #Trump making @SpeakerRyan &amp; the #Republic...   \n",
       "6269  you should never feel bad about mocking this g...   \n",
       "6270  @ALT_uscis @VP Pence and his former Chief Staf...   \n",
       "6271             Well, I tried. https://t.co/a33ooqxDQZ   \n",
       "6272  Birds of a feather...flock together  Uk prime ...   \n",
       "6273  Leading candidates for positions in the trump ...   \n",
       "6274  Supporting kids of mass shootings and soldiers...   \n",
       "6275  A reminder of reasons for admission to an insa...   \n",
       "6276  The United States is 3rd in murders throughout...   \n",
       "6277  RT ElveTwelve: \"These people all belong to the...   \n",
       "6278  Truth Isn't the Problem  Unless you're a liber...   \n",
       "6279  THE EDUCATION SYSTEM IS OUT OF CONTROL.   This...   \n",
       "6280  BREAKING:  9/11 - All 19 Islamic terrorist hig...   \n",
       "\n",
       "                                              tweet_url  \\\n",
       "6240  https://twitter.com/POTUS/status/9733894279793...   \n",
       "6241  https://twitter.com/POTUS/status/9734176425800...   \n",
       "6242  https://twitter.com/POTUS/status/9735148036783...   \n",
       "6243  https://twitter.com/POTUS/status/9735420183990...   \n",
       "6244  https://twitter.com/POTUS/status/9735539507658...   \n",
       "6245  https://twitter.com/POTUS/status/9736304561628...   \n",
       "6246  https://twitter.com/POTUS/status/9736528717943...   \n",
       "6247  https://twitter.com/POTUS/status/9736824168911...   \n",
       "6248  https://twitter.com/POTUS/status/9747065738587...   \n",
       "6249  https://twitter.com/POTUS/status/9738535475309...   \n",
       "6250  https://twitter.com/POTUS/status/9737921779135...   \n",
       "6251  https://twitter.com/POTUS/status/9738405445091...   \n",
       "6252  https://twitter.com/POTUS/status/9738935412598...   \n",
       "6253  https://twitter.com/POTUS/status/9738803779442...   \n",
       "6254  https://twitter.com/POTUS/status/9740632949600...   \n",
       "6255  https://twitter.com/POTUS/status/9755873588286...   \n",
       "6256  https://twitter.com/POTUS/status/9740114536352...   \n",
       "6257  https://twitter.com/POTUS/status/9739617318809...   \n",
       "6258  https://twitter.com/POTUS/status/9739957584700...   \n",
       "6259  https://twitter.com/POTUS/status/9741397764534...   \n",
       "6260  https://twitter.com/POTUS/status/9754855663041...   \n",
       "6261  https://twitter.com/POTUS/status/9741521886320...   \n",
       "6262  https://twitter.com/POTUS/status/9743144347505...   \n",
       "6263  https://twitter.com/POTUS/status/9743148748378...   \n",
       "6264  https://twitter.com/POTUS/status/9758500103477...   \n",
       "6265  https://twitter.com/POTUS/status/9747459513771...   \n",
       "6266  https://twitter.com/POTUS/status/9744089499181...   \n",
       "6267  https://twitter.com/POTUS/status/9744419754274...   \n",
       "6268  https://twitter.com/POTUS/status/9744584960484...   \n",
       "6269  https://twitter.com/POTUS/status/9745202812041...   \n",
       "6270  https://twitter.com/POTUS/status/9745714669381...   \n",
       "6271  https://twitter.com/POTUS/status/9749896282048...   \n",
       "6272  https://twitter.com/POTUS/status/9753317273789...   \n",
       "6273  https://twitter.com/POTUS/status/9746884996086...   \n",
       "6274  https://twitter.com/POTUS/status/9747224571050...   \n",
       "6275  https://twitter.com/POTUS/status/9747953131679...   \n",
       "6276  https://twitter.com/POTUS/status/9747986462848...   \n",
       "6277  https://twitter.com/POTUS/status/9750115101446...   \n",
       "6278  https://twitter.com/POTUS/status/9750069147351...   \n",
       "6279  https://twitter.com/POTUS/status/9761200241370...   \n",
       "6280  https://twitter.com/POTUS/status/9753566222676...   \n",
       "\n",
       "                                                  claim  \\\n",
       "6240  David Hogg posted a homophobic slur on Twitter...   \n",
       "6241  An Amber Alert was issued for three-year-old g...   \n",
       "6242  A corpse found in Nazca, Peru, is that of an a...   \n",
       "6243  A man spat at a young Marine holding the door ...   \n",
       "6244  Sec. of State Hillary Clinton's approval of a ...   \n",
       "6245  A photograph documents Planned Parenthood foun...   \n",
       "6246  A photograph shows a wolf pack being led by th...   \n",
       "6247  A photograph shows Donald Trump with a diarrhe...   \n",
       "6248  Former Roanoke City Department of Social Servi...   \n",
       "6249  Donald Trump said in 1998 that he would one da...   \n",
       "6250  Hillary Clinton said that Democratic voters ar...   \n",
       "6251  A corpse found in Nazca, Peru, is that of an a...   \n",
       "6252  David Hogg posted a homophobic slur on Twitter...   \n",
       "6253  Products from Pepsi and other major food produ...   \n",
       "6254  A photograph shows Stephen Hawking at a Vietna...   \n",
       "6255  Photographs show Russian President Vladimir Pu...   \n",
       "6256  A photograph shows Robert Mueller in Vietnam i...   \n",
       "6257  The Fox News Channel has been banned in Canada...   \n",
       "6258  Marjory Stoneman Douglas encouraged activists ...   \n",
       "6259  Bernie Sanders purchased a $172,000 luxury car...   \n",
       "6260  George Soros said that he funded the Black Liv...   \n",
       "6261  NRA executive vice president Wayne LaPierre wa...   \n",
       "6262  The United States has the third-highest rate o...   \n",
       "6263  Actor Denzel Washington said electing Presiden...   \n",
       "6264  A photograph shows Hillary Clinton in blackfac...   \n",
       "6265  House Minority Leader Nancy Pelosi said of the...   \n",
       "6266  The United States has the third-highest rate o...   \n",
       "6267  Speaker Paul Ryan said that he doesn't care if...   \n",
       "6268  Donald Trump said in 1998 that he would one da...   \n",
       "6269  Donald Trump Jr. tweeted that the family's gre...   \n",
       "6270  A photograph shows a young Mike Pence with his...   \n",
       "6271  The United States has the third-highest rate o...   \n",
       "6272  A photograph shows world leaders Angela Merkel...   \n",
       "6273  Photograph shows boxes of Tyson \"[inverted] bo...   \n",
       "6274  A temporary memorial at the U.S. Capitol displ...   \n",
       "6275  A list documents the myriad reasons why people...   \n",
       "6276  The United States has the third-highest rate o...   \n",
       "6277  A photograph shows world leaders Angela Merkel...   \n",
       "6278  Teddy Roosevelt said that \"to anger a conserva...   \n",
       "6279  An Ohio high school student was suspended for ...   \n",
       "6280  Former CIA Director John Brennan is a Muslim w...   \n",
       "\n",
       "                                                 rating  \\\n",
       "6240  ['https://www.snopes.com/tachyon/2018/03/ratin...   \n",
       "6241  ['https://www.snopes.com/tachyon/2018/03/ratin...   \n",
       "6242  ['https://www.snopes.com/tachyon/2018/03/ratin...   \n",
       "6243  ['https://www.snopes.com/tachyon/2018/03/ratin...   \n",
       "6244  ['https://www.snopes.com/tachyon/2018/03/ratin...   \n",
       "6245  ['https://www.snopes.com/tachyon/2018/03/ratin...   \n",
       "6246  ['https://www.snopes.com/tachyon/2018/03/ratin...   \n",
       "6247  ['https://www.snopes.com/tachyon/2018/03/ratin...   \n",
       "6248  ['https://www.snopes.com/tachyon/2018/03/ratin...   \n",
       "6249  ['https://www.snopes.com/tachyon/2018/03/ratin...   \n",
       "6250  ['https://www.snopes.com/tachyon/2018/03/ratin...   \n",
       "6251  ['https://www.snopes.com/tachyon/2018/03/ratin...   \n",
       "6252  ['https://www.snopes.com/tachyon/2018/03/ratin...   \n",
       "6253  ['https://www.snopes.com/tachyon/2018/03/ratin...   \n",
       "6254  ['https://www.snopes.com/tachyon/2018/03/ratin...   \n",
       "6255  ['https://www.snopes.com/tachyon/2018/03/ratin...   \n",
       "6256  ['https://www.snopes.com/tachyon/2018/03/ratin...   \n",
       "6257  ['https://www.snopes.com/tachyon/2018/03/ratin...   \n",
       "6258  ['https://www.snopes.com/tachyon/2018/03/ratin...   \n",
       "6259  ['https://www.snopes.com/tachyon/2018/03/ratin...   \n",
       "6260  ['https://www.snopes.com/tachyon/2018/03/ratin...   \n",
       "6261  ['https://www.snopes.com/tachyon/2018/03/ratin...   \n",
       "6262  ['https://www.snopes.com/tachyon/2018/03/ratin...   \n",
       "6263  ['https://www.snopes.com/tachyon/2018/03/ratin...   \n",
       "6264  ['https://www.snopes.com/tachyon/2018/03/ratin...   \n",
       "6265  ['https://www.snopes.com/tachyon/2018/03/ratin...   \n",
       "6266  ['https://www.snopes.com/tachyon/2018/03/ratin...   \n",
       "6267  ['https://www.snopes.com/tachyon/2018/03/ratin...   \n",
       "6268  ['https://www.snopes.com/tachyon/2018/03/ratin...   \n",
       "6269  ['https://www.snopes.com/tachyon/2018/03/ratin...   \n",
       "6270  ['https://www.snopes.com/tachyon/2018/03/ratin...   \n",
       "6271  ['https://www.snopes.com/tachyon/2018/03/ratin...   \n",
       "6272  ['https://www.snopes.com/tachyon/2018/03/ratin...   \n",
       "6273  ['https://www.snopes.com/tachyon/2018/03/ratin...   \n",
       "6274  ['https://www.snopes.com/tachyon/2018/03/ratin...   \n",
       "6275  ['https://www.snopes.com/tachyon/2018/03/ratin...   \n",
       "6276  ['https://www.snopes.com/tachyon/2018/03/ratin...   \n",
       "6277  ['https://www.snopes.com/tachyon/2018/03/ratin...   \n",
       "6278  ['https://www.snopes.com/tachyon/2018/03/ratin...   \n",
       "6279  ['https://www.snopes.com/tachyon/2018/03/ratin...   \n",
       "6280  ['https://www.snopes.com/tachyon/2018/03/ratin...   \n",
       "\n",
       "                                                 images  \\\n",
       "6240     http://pbs.twimg.com/media/DYIoJ28X4AAv1jl.jpg   \n",
       "6241     http://pbs.twimg.com/media/DYJEW78VMAIVh6t.jpg   \n",
       "6242     http://pbs.twimg.com/media/DYKVIeXX4AAZb3A.jpg   \n",
       "6243     http://pbs.twimg.com/media/DYK2U5HXUAUzEwZ.jpg   \n",
       "6244     http://pbs.twimg.com/media/DYK8bAXVwAAIlN8.jpg   \n",
       "6245     http://pbs.twimg.com/media/DYLHIQnVwAANJxr.jpg   \n",
       "6246     http://pbs.twimg.com/media/DYLzB9KU8AAV-Wt.jpg   \n",
       "6247     http://pbs.twimg.com/media/DYMAz-yWsAAlkjb.jpg   \n",
       "6248     http://pbs.twimg.com/media/DYMY1TIVwAArDbH.jpg   \n",
       "6249     http://pbs.twimg.com/media/DYNAhp7X0AU86rR.jpg   \n",
       "6250     http://pbs.twimg.com/media/DYOaEo5XcAElynQ.jpg   \n",
       "6251     http://pbs.twimg.com/media/DYO9dIbXUAEmBMH.jpg   \n",
       "6252     http://pbs.twimg.com/media/DYPmczSUQAAHaxi.jpg   \n",
       "6253     http://pbs.twimg.com/media/DYPngQhWkAIljV0.jpg   \n",
       "6254     http://pbs.twimg.com/media/DYQTFifX4AAVz1F.jpg   \n",
       "6255     http://pbs.twimg.com/media/DYQc3SRVoAAJEJp.jpg   \n",
       "6256     http://pbs.twimg.com/media/DYQhurfWAAELt-7.jpg   \n",
       "6257     http://pbs.twimg.com/media/DYQznZzVMAAW1YZ.jpg   \n",
       "6258     http://pbs.twimg.com/media/DYRLGDPWkAAU6rY.jpg   \n",
       "6259     http://pbs.twimg.com/media/DYSHNYMX4AA--FZ.jpg   \n",
       "6260     http://pbs.twimg.com/media/DYSfgSLW0AIroHH.jpg   \n",
       "6261     http://pbs.twimg.com/media/DYTclrEW0AAx6Ln.jpg   \n",
       "6262     http://pbs.twimg.com/media/DYUhMlMVoAATt_I.jpg   \n",
       "6263     http://pbs.twimg.com/media/DYVyJ59V4AAhjUp.jpg   \n",
       "6264     http://pbs.twimg.com/media/DYV0wAFU8AE9oZx.jpg   \n",
       "6265  ['http://pbs.twimg.com/media/DYWb79hX0Ag8nkV.j...   \n",
       "6266     http://pbs.twimg.com/media/DYW1DnWXkAAejOS.jpg   \n",
       "6267     http://pbs.twimg.com/media/DYXgWvvUQAAbXKx.jpg   \n",
       "6268     http://pbs.twimg.com/media/DYXnq-DXkAA3T1e.jpg   \n",
       "6269     http://pbs.twimg.com/media/DYXsehzXkAUa3-d.jpg   \n",
       "6270     http://pbs.twimg.com/media/DYX_GvUUQAAxda9.jpg   \n",
       "6271  ['http://pbs.twimg.com/media/DYYI-QKVMAAXci3.j...   \n",
       "6272  ['http://pbs.twimg.com/media/DYalLm3V4AAxA2s.j...   \n",
       "6273     http://pbs.twimg.com/media/DYanqofW0AAtPm8.jpg   \n",
       "6274     http://pbs.twimg.com/media/DYaz1WgX4AItX0D.jpg   \n",
       "6275     http://pbs.twimg.com/media/DYcqC5lWAAEW080.jpg   \n",
       "6276     http://pbs.twimg.com/media/DYcrhr7X4AERzrv.jpg   \n",
       "6277     http://pbs.twimg.com/media/DYbFriaX0AgZFiw.jpg   \n",
       "6278     http://pbs.twimg.com/media/DYffpCMUMAA6bB5.jpg   \n",
       "6279     http://pbs.twimg.com/media/DYge1dmW0AIwzwu.jpg   \n",
       "6280     http://pbs.twimg.com/media/DYgqGC7XkAA2XaP.jpg   \n",
       "\n",
       "                                            text_images  \\\n",
       "6240  David Hogg Follow @user 1 1 Fuck fags and thei...   \n",
       "6241  T-Mobile 00 3 Like 10:28 PM Comment 1 Comment ...   \n",
       "6242                                                NaN   \n",
       "6243  730/0 \" 12:45 I have a favor to ask you all .....   \n",
       "6244  THANKS HOARY FOR SELLING OULAMERICA AND SELLIN...   \n",
       "6245  SANGER DELIVERS BURNING SPEECH LOCAL KKK GALS ...   \n",
       "6246  \" A wolf pack : the first g are the old or sic...   \n",
       "6247                                                NaN   \n",
       "6248                                                NaN   \n",
       "6249  \" If I were to run , I'd run as a Republican ....   \n",
       "6250  \" Look , the average Democrat voter is just pl...   \n",
       "6251                                                NaN   \n",
       "6252  David Hogg @user 1 1 Fuck fags and their fag m...   \n",
       "6253  ABORTED FETUS CELLS ARE IN THESE noos AND OTHE...   \n",
       "6254                                                NaN   \n",
       "6255  Putin teaches a young boy how taxes work ThE P...   \n",
       "6256                                                NaN   \n",
       "6257  FOX NEWS IS BANNED IN CANADA AS CHANNEL FOX WH...   \n",
       "6258  Be a nuisance where it counts ; Do your part t...   \n",
       "6259  It $ 170 OOO Audi R8 Something only , an drive...   \n",
       "6260  \" I'm going to bring down the United States by...   \n",
       "6261  MR . BRAVE GUN GUY ? Wayne LaPierre , CEO of t...   \n",
       "6262  The United States is 3rd in murders throughout...   \n",
       "6263  Denzel Washirygton : \" If the Democrats had Wa...   \n",
       "6264  THE DEMOCRATS AREN'T GOING TO LIKE THIS ONEI H...   \n",
       "6265  [\"AMERICAN PEOPLE AND MEMBERS HAVE A RIGHT TO ...   \n",
       "6266  The United States is 3rd in murders throughout...   \n",
       "6267  I don't care if Trump destroys the United Stat...   \n",
       "6268  \" If I were to run , I'd run as a Republican ....   \n",
       "6269  Donald Trump Jr . @user 2 + Follow At dinner w...   \n",
       "6270                                                NaN   \n",
       "6271  ['The United States is 3rd in murders througho...   \n",
       "6272                                           ['', '']   \n",
       "6273  U.S919.EV BONELESS PORK RECTUMS OF USA BONELES...   \n",
       "6274                                                NaN   \n",
       "6275  REASONS FOR ADMISSION 1864 TO 1889 INTEMPERANC...   \n",
       "6276                                                NaN   \n",
       "6277                                                NaN   \n",
       "6278  TO ANGER A CONSERVATIVE , TO HIM . TO ANGER A ...   \n",
       "6279  ( AP Photo / Kantele Franko ) ADM 403 HILLIARD...   \n",
       "6280                                                NaN   \n",
       "\n",
       "                                                 source                 label  \\\n",
       "6240  https://www.snopes.com/fact-check/fake-tweet-p...                 false   \n",
       "6241  https://www.snopes.com/fact-check/fake-amber-a...                 false   \n",
       "6242  https://www.snopes.com/fact-check/alien-mummy-...                 false   \n",
       "6243  https://www.snopes.com/fact-check/man-spit-mar...              unproven   \n",
       "6244  https://www.snopes.com/fact-check/hillary-clin...                 false   \n",
       "6245  https://www.snopes.com/fact-check/margaret-san...          miscaptioned   \n",
       "6246  https://www.snopes.com/fact-check/wolf-pack-ph...          miscaptioned   \n",
       "6247  https://www.snopes.com/fact-check/trump-diarrh...                 false   \n",
       "6248  https://www.snopes.com/fact-check/was-a-dss-wo...                 false   \n",
       "6249  https://www.snopes.com/fact-check/1998-trump-p...                 false   \n",
       "6250  https://www.snopes.com/fact-check/hillary-clin...                 false   \n",
       "6251  https://www.snopes.com/fact-check/alien-mummy-...                 false   \n",
       "6252  https://www.snopes.com/fact-check/fake-tweet-p...                 false   \n",
       "6253  https://www.snopes.com/fact-check/senomyx-flav...                 false   \n",
       "6254  https://www.snopes.com/fact-check/stephen-hawk...          miscaptioned   \n",
       "6255  https://www.snopes.com/fact-check/putin-pictur...                 false   \n",
       "6256  https://www.snopes.com/fact-check/robert-muell...          miscaptioned   \n",
       "6257    https://www.snopes.com/fact-check/canadian-fox/                 false   \n",
       "6258  https://www.snopes.com/fact-check/marjory-ston...  correctly-attributed   \n",
       "6259  https://www.snopes.com/fact-check/bernie-sande...                 false   \n",
       "6260  https://www.snopes.com/fact-check/george-soros...                 false   \n",
       "6261  https://www.snopes.com/fact-check/nra-leader-w...              unproven   \n",
       "6262  https://www.snopes.com/fact-check/united-state...          mostly-false   \n",
       "6263  https://www.snopes.com/fact-check/denzel-washi...                 false   \n",
       "6264  https://www.snopes.com/fact-check/hillary-clin...                 false   \n",
       "6265  https://www.snopes.com/fact-check/pelosi-healt...               mixture   \n",
       "6266  https://www.snopes.com/fact-check/united-state...          mostly-false   \n",
       "6267  https://www.snopes.com/fact-check/paul-ryan-co...                 false   \n",
       "6268  https://www.snopes.com/fact-check/1998-trump-p...                 false   \n",
       "6269  https://www.snopes.com/fact-check/donald-trump...                  true   \n",
       "6270  https://www.snopes.com/fact-check/mike-pences-...                 false   \n",
       "6271  https://www.snopes.com/fact-check/united-state...          mostly-false   \n",
       "6272  https://www.snopes.com/fact-check/were-merkel-...          miscaptioned   \n",
       "6273   https://www.snopes.com/fact-check/pig-in-a-poke/       mostly-true-new   \n",
       "6274  https://www.snopes.com/fact-check/empty-shoes-...       mostly-true-new   \n",
       "6275  https://www.snopes.com/fact-check/reasons-admi...               mixture   \n",
       "6276  https://www.snopes.com/fact-check/united-state...          mostly-false   \n",
       "6277  https://www.snopes.com/fact-check/were-merkel-...          miscaptioned   \n",
       "6278  https://www.snopes.com/fact-check/teddy-roosev...                 false   \n",
       "6279  https://www.snopes.com/fact-check/student-susp...               mixture   \n",
       "6280  https://www.snopes.com/fact-check/cia-director...              unproven   \n",
       "\n",
       "      label_info available              acc_id  \\\n",
       "6240         NaN   missing  830954149957218304   \n",
       "6241         NaN        ok           585105031   \n",
       "6242         NaN   missing            34655603   \n",
       "6243         NaN        ok           170607337   \n",
       "6244         NaN        ok  787113920297332736   \n",
       "6245         NaN        ok            22770745   \n",
       "6246         NaN        ok          3320553734   \n",
       "6247         NaN        ok           308500560   \n",
       "6248         NaN        ok            81910236   \n",
       "6249         NaN        ok  864275509768851456   \n",
       "6250         NaN        ok  925218559491534848   \n",
       "6251         NaN      auth            63362429   \n",
       "6252         NaN        ok            62125299   \n",
       "6253         NaN        ok  973518240151425024   \n",
       "6254         NaN   missing           347289302   \n",
       "6255         NaN        ok          4833796894   \n",
       "6256         NaN        ok            29275869   \n",
       "6257         NaN      auth  860243075695689728   \n",
       "6258         NaN        ok            15778047   \n",
       "6259         NaN   missing  922455874425249792   \n",
       "6260         NaN        ok            26859728   \n",
       "6261         NaN        ok            29275869   \n",
       "6262         NaN        ok            46705002   \n",
       "6263         NaN   missing          1519986596   \n",
       "6264         NaN   missing          2316246829   \n",
       "6265         NaN   missing            72025298   \n",
       "6266         NaN        ok           329807386   \n",
       "6267         NaN   missing           408194759   \n",
       "6268         NaN      auth            47109950   \n",
       "6269         NaN        ok          3344423229   \n",
       "6270         NaN        ok           330781868   \n",
       "6271         NaN        ok            36618079   \n",
       "6272         NaN      auth           323327211   \n",
       "6273         NaN        ok          1901999588   \n",
       "6274         NaN        ok            16225955   \n",
       "6275         NaN        ok            19582310   \n",
       "6276         NaN        ok            19612749   \n",
       "6277         NaN        ok           188338427   \n",
       "6278         NaN      auth           291874773   \n",
       "6279         NaN        ok  722994185171816448   \n",
       "6280         NaN        ok  787423762836819968   \n",
       "\n",
       "                                              botometer  \n",
       "6240  {'cap': {'english': 0.797075908158591, 'univer...  \n",
       "6241  {'cap': {'english': 0.3912159239072283, 'unive...  \n",
       "6242  {'cap': {'english': 0.7968624754031172, 'unive...  \n",
       "6243  {'cap': {'english': 0.2520419704315795, 'unive...  \n",
       "6244  {'cap': {'english': 0.6004883262510591, 'unive...  \n",
       "6245  {'cap': {'english': 0.5288664776112156, 'unive...  \n",
       "6246  {'cap': {'english': 0.4479465575931997, 'unive...  \n",
       "6247  {'cap': {'english': 0.8100783815308749, 'unive...  \n",
       "6248  {'cap': {'english': 0.30618807248975083, 'univ...  \n",
       "6249  {'code': 34, 'message': 'Sorry, that page does...  \n",
       "6250  {'cap': {'english': 0.2520419704315795, 'unive...  \n",
       "6251  {'cap': {'english': 0.7971422227407965, 'unive...  \n",
       "6252  {'cap': {'english': 0.7668769621923945, 'unive...  \n",
       "6253  {'cap': {'english': 0.7965971518887632, 'unive...  \n",
       "6254  {'cap': {'english': 0.36264564124632276, 'univ...  \n",
       "6255  {'cap': {'english': 0.0, 'universal': 0.743720...  \n",
       "6256  {'cap': {'english': 0.7759887465100499, 'unive...  \n",
       "6257  {'code': 34, 'message': 'Sorry, that page does...  \n",
       "6258  {'cap': {'english': 0.22631829961109876, 'univ...  \n",
       "6259  {'cap': {'english': 0.5027122940873614, 'unive...  \n",
       "6260  {'cap': {'english': 0.4479465575931997, 'unive...  \n",
       "6261  {'cap': {'english': 0.7759887465100499, 'unive...  \n",
       "6262  {'cap': {'english': 0.2787259978325127, 'unive...  \n",
       "6263  {'cap': {'english': 0.2787259978325127, 'unive...  \n",
       "6264  {'cap': {'english': 0.7973765977480777, 'unive...  \n",
       "6265  {'cap': {'english': 0.2787259978325127, 'unive...  \n",
       "6266  {'cap': {'english': 0.7920317685697057, 'unive...  \n",
       "6267  {'cap': {'english': 0.7546218700467833, 'unive...  \n",
       "6268  {'cap': {'english': 0.0, 'universal': 0.317394...  \n",
       "6269  {'cap': {'english': 0.30618807248975083, 'univ...  \n",
       "6270  {'cap': {'english': 0.6763619064808265, 'unive...  \n",
       "6271  {'cap': {'english': 0.0, 'universal': 0.548888...  \n",
       "6272  {'code': 34, 'message': 'Sorry, that page does...  \n",
       "6273  {'code': 34, 'message': 'Sorry, that page does...  \n",
       "6274  {'code': 34, 'message': 'Sorry, that page does...  \n",
       "6275  {'code': 34, 'message': 'Sorry, that page does...  \n",
       "6276  {'code': 34, 'message': 'Sorry, that page does...  \n",
       "6277  {'code': 34, 'message': 'Sorry, that page does...  \n",
       "6278  {'code': 34, 'message': 'Sorry, that page does...  \n",
       "6279  {'code': 34, 'message': 'Sorry, that page does...  \n",
       "6280  {'code': 34, 'message': 'Sorry, that page does...  "
      ]
     },
     "execution_count": 35,
     "metadata": {},
     "output_type": "execute_result"
    }
   ],
   "source": [
    "df.loc[6240:6280]"
   ]
  },
  {
   "cell_type": "code",
   "execution_count": 5,
   "metadata": {},
   "outputs": [],
   "source": [
    "df = pd.read_csv(\"snopes_4060.csv\")"
   ]
  },
  {
   "cell_type": "code",
   "execution_count": 13,
   "metadata": {},
   "outputs": [],
   "source": [
    "df.to_csv(\"snopes_4612.csv\", index=False)"
   ]
  },
  {
   "cell_type": "code",
   "execution_count": 12,
   "metadata": {},
   "outputs": [
    {
     "data": {
      "text/html": [
       "<div>\n",
       "<style scoped>\n",
       "    .dataframe tbody tr th:only-of-type {\n",
       "        vertical-align: middle;\n",
       "    }\n",
       "\n",
       "    .dataframe tbody tr th {\n",
       "        vertical-align: top;\n",
       "    }\n",
       "\n",
       "    .dataframe thead th {\n",
       "        text-align: right;\n",
       "    }\n",
       "</style>\n",
       "<table border=\"1\" class=\"dataframe\">\n",
       "  <thead>\n",
       "    <tr style=\"text-align: right;\">\n",
       "      <th></th>\n",
       "      <th>id</th>\n",
       "      <th>original_id</th>\n",
       "      <th>tweet_text</th>\n",
       "      <th>tweet_url</th>\n",
       "      <th>claim</th>\n",
       "      <th>rating</th>\n",
       "      <th>images</th>\n",
       "      <th>text_images</th>\n",
       "      <th>source</th>\n",
       "      <th>label</th>\n",
       "      <th>label_info</th>\n",
       "      <th>available</th>\n",
       "      <th>acc_id</th>\n",
       "      <th>botometer</th>\n",
       "    </tr>\n",
       "  </thead>\n",
       "  <tbody>\n",
       "    <tr>\n",
       "      <th>4600</th>\n",
       "      <td>917008562563543040</td>\n",
       "      <td>916890818048294912</td>\n",
       "      <td>@antipandemonium @ShaunKing @NFL @DonteStallwo...</td>\n",
       "      <td>https://twitter.com/POTUS/status/9170085625635...</td>\n",
       "      <td>NFL players did not stand for the national ant...</td>\n",
       "      <td>['https://www.snopes.com/tachyon/2018/03/ratin...</td>\n",
       "      <td>http://pbs.twimg.com/media/DLlzVL0V4AEFNCG.jpg</td>\n",
       "      <td>NFL players only started coming on field for t...</td>\n",
       "      <td>https://www.snopes.com/fact-check/nfl-sideline...</td>\n",
       "      <td>mixture</td>\n",
       "      <td>NaN</td>\n",
       "      <td>ok</td>\n",
       "      <td>28722755</td>\n",
       "      <td>{'cap': {'english': 0.5539725719744064, 'unive...</td>\n",
       "    </tr>\n",
       "    <tr>\n",
       "      <th>4601</th>\n",
       "      <td>917134801416736768</td>\n",
       "      <td>917009839674544128</td>\n",
       "      <td>@HarryDowning113 @tia6sc @rodliz1225 @VP @POTU...</td>\n",
       "      <td>https://twitter.com/POTUS/status/9171348014167...</td>\n",
       "      <td>A meme accurately lists Democrats who have bee...</td>\n",
       "      <td>['https://www.snopes.com/tachyon/2018/03/ratin...</td>\n",
       "      <td>http://pbs.twimg.com/media/DLnflb4UQAE6fY5.jpg</td>\n",
       "      <td>nwughtCrime Resistance In 1865 a Democrat kill...</td>\n",
       "      <td>https://www.snopes.com/fact-check/democrat-sho...</td>\n",
       "      <td>mostly-false</td>\n",
       "      <td>NaN</td>\n",
       "      <td>ok</td>\n",
       "      <td>422041473</td>\n",
       "      <td>{'cap': {'english': 0.5778862084370772, 'unive...</td>\n",
       "    </tr>\n",
       "    <tr>\n",
       "      <th>4602</th>\n",
       "      <td>919401783683936256</td>\n",
       "      <td>917081407960305665</td>\n",
       "      <td>Oh now you’ll stand? I think not. Hope you nev...</td>\n",
       "      <td>https://twitter.com/POTUS/status/9194017836839...</td>\n",
       "      <td>In October 2017, Colin Kaepernick told a CBS r...</td>\n",
       "      <td>['https://www.snopes.com/tachyon/2018/03/ratin...</td>\n",
       "      <td>http://pbs.twimg.com/media/DLogrJOV4AAZwvw.jpg</td>\n",
       "      <td>FOX NEWS Breaking News 2m ago Colin Kaepernick...</td>\n",
       "      <td>https://www.snopes.com/fact-check/kaepernick-a...</td>\n",
       "      <td>false</td>\n",
       "      <td>NaN</td>\n",
       "      <td>ok</td>\n",
       "      <td>166751745</td>\n",
       "      <td>{'cap': {'english': 0.7920317685697057, 'unive...</td>\n",
       "    </tr>\n",
       "    <tr>\n",
       "      <th>4603</th>\n",
       "      <td>917104093029699586</td>\n",
       "      <td>917102637950017536</td>\n",
       "      <td>@ProudResister You mean this guy? https://t.co...</td>\n",
       "      <td>https://twitter.com/POTUS/status/9171040930296...</td>\n",
       "      <td>A photograph shows a young Mike Pence with his...</td>\n",
       "      <td>['https://www.snopes.com/tachyon/2018/03/ratin...</td>\n",
       "      <td>http://pbs.twimg.com/media/DLoz7n7UEAAOW6Y.jpg</td>\n",
       "      <td>Mike pence is trying to have this removed from...</td>\n",
       "      <td>https://www.snopes.com/fact-check/mike-pences-...</td>\n",
       "      <td>false</td>\n",
       "      <td>NaN</td>\n",
       "      <td>ok</td>\n",
       "      <td>867953768041660416</td>\n",
       "      <td>{'cap': {'english': 0.22631829961109876, 'univ...</td>\n",
       "    </tr>\n",
       "    <tr>\n",
       "      <th>4604</th>\n",
       "      <td>917189014918258688</td>\n",
       "      <td>917187370012823553</td>\n",
       "      <td>@ThePatriot143 Yeah &amp;amp; this is the Army so ...</td>\n",
       "      <td>https://twitter.com/POTUS/status/9171890149182...</td>\n",
       "      <td>A photograph shows the Army football team knee...</td>\n",
       "      <td>['https://www.snopes.com/tachyon/2018/03/ratin...</td>\n",
       "      <td>http://pbs.twimg.com/media/DLqBDJqWkAA0Oz0.jpg</td>\n",
       "      <td>Raymon King Jr 1 hr e U . S . Army Football Te...</td>\n",
       "      <td>https://www.snopes.com/fact-check/army-footbal...</td>\n",
       "      <td>false</td>\n",
       "      <td>NaN</td>\n",
       "      <td>auth</td>\n",
       "      <td>911585169060003840</td>\n",
       "      <td>{'code': 34, 'message': 'Sorry, that page does...</td>\n",
       "    </tr>\n",
       "    <tr>\n",
       "      <th>4605</th>\n",
       "      <td>917937955381088258</td>\n",
       "      <td>917202064358477824</td>\n",
       "      <td>@ChrisFagan57 @bridget4kicks @JulianAssange @S...</td>\n",
       "      <td>https://twitter.com/POTUS/status/9179379553810...</td>\n",
       "      <td>George Soros said that he funded the Black Liv...</td>\n",
       "      <td>['https://www.snopes.com/tachyon/2018/03/ratin...</td>\n",
       "      <td>http://pbs.twimg.com/media/DLqOaQYV4AEzRea.jpg</td>\n",
       "      <td>\" I'm going to bring down the United States by...</td>\n",
       "      <td>https://www.snopes.com/fact-check/george-soros...</td>\n",
       "      <td>false</td>\n",
       "      <td>NaN</td>\n",
       "      <td>auth</td>\n",
       "      <td>54017596</td>\n",
       "      <td>{'cap': {'english': 0.9158377984126878, 'unive...</td>\n",
       "    </tr>\n",
       "    <tr>\n",
       "      <th>4606</th>\n",
       "      <td>917266413076623360</td>\n",
       "      <td>917248492900249600</td>\n",
       "      <td>@DanCorkill1 @TheGrungeHam @carol_NC66 As I ha...</td>\n",
       "      <td>https://twitter.com/POTUS/status/9172664130766...</td>\n",
       "      <td>The man accused of opening fire on hundreds of...</td>\n",
       "      <td>['https://www.snopes.com/tachyon/2018/03/ratin...</td>\n",
       "      <td>http://pbs.twimg.com/media/DLq4c0CU8AAYLtT.jpg</td>\n",
       "      <td>NaN</td>\n",
       "      <td>https://www.snopes.com/fact-check/las-vegas-sh...</td>\n",
       "      <td>false</td>\n",
       "      <td>NaN</td>\n",
       "      <td>ok</td>\n",
       "      <td>124673927</td>\n",
       "      <td>{'cap': {'english': 0.4197222421546159, 'unive...</td>\n",
       "    </tr>\n",
       "    <tr>\n",
       "      <th>4607</th>\n",
       "      <td>917756421017690112</td>\n",
       "      <td>917248535136894977</td>\n",
       "      <td>it fucks me up that clickhole wrote one of the...</td>\n",
       "      <td>https://twitter.com/POTUS/status/9177564210176...</td>\n",
       "      <td>Barry Wilmore said that he saw astronaut Ramir...</td>\n",
       "      <td>['https://www.snopes.com/tachyon/2018/03/ratin...</td>\n",
       "      <td>http://pbs.twimg.com/media/DLq4q82UMAAdf_0.jpg</td>\n",
       "      <td>Barry Wilmore \" You never know true beauty unt...</td>\n",
       "      <td>https://www.snopes.com/fact-check/barry-wilmor...</td>\n",
       "      <td>false</td>\n",
       "      <td>NaN</td>\n",
       "      <td>auth</td>\n",
       "      <td>20600882</td>\n",
       "      <td>{'cap': {'english': 0.7176911080698488, 'unive...</td>\n",
       "    </tr>\n",
       "    <tr>\n",
       "      <th>4608</th>\n",
       "      <td>917388478144499717</td>\n",
       "      <td>917350015059791873</td>\n",
       "      <td>@USArmy333 @NBCNews @PeterAlexander @TODAYshow...</td>\n",
       "      <td>https://twitter.com/POTUS/status/9173884781444...</td>\n",
       "      <td>Prior to condemning flag burning in November 2...</td>\n",
       "      <td>['https://www.snopes.com/tachyon/2018/03/ratin...</td>\n",
       "      <td>http://pbs.twimg.com/media/DLsU-J8UIAERqd0.jpg</td>\n",
       "      <td>e Donald J . Trump @user Follow Burning a flag...</td>\n",
       "      <td>https://www.snopes.com/fact-check/trumps-flip-...</td>\n",
       "      <td>false</td>\n",
       "      <td>NaN</td>\n",
       "      <td>ok</td>\n",
       "      <td>793278250130825216</td>\n",
       "      <td>{'cap': {'english': 0.4756769663222349, 'unive...</td>\n",
       "    </tr>\n",
       "    <tr>\n",
       "      <th>4609</th>\n",
       "      <td>931324102899412993</td>\n",
       "      <td>917394007390425088</td>\n",
       "      <td>@VP @POTUS You &amp;amp; your boss should ask the ...</td>\n",
       "      <td>https://twitter.com/POTUS/status/9313241028994...</td>\n",
       "      <td>A photograph shows the Army football team knee...</td>\n",
       "      <td>['https://www.snopes.com/tachyon/2018/03/ratin...</td>\n",
       "      <td>http://pbs.twimg.com/media/DLs8-7pUQAAgiWd.jpg</td>\n",
       "      <td>331 likes livingthelifeof_blackgirlmagic Ummmm...</td>\n",
       "      <td>https://www.snopes.com/fact-check/army-footbal...</td>\n",
       "      <td>false</td>\n",
       "      <td>NaN</td>\n",
       "      <td>ok</td>\n",
       "      <td>24043461</td>\n",
       "      <td>{'cap': {'english': 0.22631829961109876, 'univ...</td>\n",
       "    </tr>\n",
       "    <tr>\n",
       "      <th>4610</th>\n",
       "      <td>917435403262558208</td>\n",
       "      <td>917408316569026560</td>\n",
       "      <td>@SonjiCarey @thehill ☝This can't seriously😠 be...</td>\n",
       "      <td>https://twitter.com/POTUS/status/9174354032625...</td>\n",
       "      <td>Prior to condemning flag burning in November 2...</td>\n",
       "      <td>['https://www.snopes.com/tachyon/2018/03/ratin...</td>\n",
       "      <td>http://pbs.twimg.com/media/DLtJ_6BWAAIrP7r.jpg</td>\n",
       "      <td>i 11:39 AM Q M ry Ostensarvi 43m Trump : NFL p...</td>\n",
       "      <td>https://www.snopes.com/fact-check/trumps-flip-...</td>\n",
       "      <td>false</td>\n",
       "      <td>NaN</td>\n",
       "      <td>ok</td>\n",
       "      <td>1277721991</td>\n",
       "      <td>{'cap': {'english': 0.2520419704315795, 'unive...</td>\n",
       "    </tr>\n",
       "    <tr>\n",
       "      <th>4611</th>\n",
       "      <td>932404019926110208</td>\n",
       "      <td>917414773322670081</td>\n",
       "      <td>This Shirt Says It All! https://t.co/8OrKgIpbTz</td>\n",
       "      <td>https://twitter.com/POTUS/status/9324040199261...</td>\n",
       "      <td>An image shows Lebron James wearing a \"we marc...</td>\n",
       "      <td>['https://www.snopes.com/tachyon/2018/03/ratin...</td>\n",
       "      <td>http://pbs.twimg.com/media/DLtPyjRXkAAuoCe.jpg</td>\n",
       "      <td>WE MARCH , y'all mad . WE SIT DOWN , y'all mad...</td>\n",
       "      <td>https://www.snopes.com/fact-check/lebron-james...</td>\n",
       "      <td>false</td>\n",
       "      <td>NaN</td>\n",
       "      <td>missing</td>\n",
       "      <td>2301628435</td>\n",
       "      <td>{'cap': {'english': 0.8912318555080615, 'unive...</td>\n",
       "    </tr>\n",
       "    <tr>\n",
       "      <th>4612</th>\n",
       "      <td>917432224433106945</td>\n",
       "      <td>917420153666703360</td>\n",
       "      <td>@realDonaldTrump @VP Kneeling disrespectful bu...</td>\n",
       "      <td>https://twitter.com/POTUS/status/9174322244331...</td>\n",
       "      <td>Prior to condemning flag burning in November 2...</td>\n",
       "      <td>['https://www.snopes.com/tachyon/2018/03/ratin...</td>\n",
       "      <td>http://pbs.twimg.com/media/DLtUw3MW0AAGeyj.jpg</td>\n",
       "      <td>Donald J . Trump great DonakiTrurnp &amp; Follow B...</td>\n",
       "      <td>https://www.snopes.com/fact-check/trumps-flip-...</td>\n",
       "      <td>false</td>\n",
       "      <td>NaN</td>\n",
       "      <td>ok</td>\n",
       "      <td>15694971</td>\n",
       "      <td>{'cap': {'english': 0.5778862084370772, 'unive...</td>\n",
       "    </tr>\n",
       "    <tr>\n",
       "      <th>4613</th>\n",
       "      <td>917474084530937856</td>\n",
       "      <td>917427575214956544</td>\n",
       "      <td>@GuyMckee5 @scottinclearh2o @secupp @GOP @NRA ...</td>\n",
       "      <td>https://twitter.com/POTUS/status/9174740845309...</td>\n",
       "      <td>Sec. of State Hillary Clinton's approval of a ...</td>\n",
       "      <td>['https://www.snopes.com/tachyon/2018/03/ratin...</td>\n",
       "      <td>http://pbs.twimg.com/media/DLtbg35VAAA2etM.jpg</td>\n",
       "      <td>In 2010 , the State Department under Hillary C...</td>\n",
       "      <td>https://www.snopes.com/fact-check/hillary-clin...</td>\n",
       "      <td>false</td>\n",
       "      <td>NaN</td>\n",
       "      <td>ok</td>\n",
       "      <td>3401758332</td>\n",
       "      <td>{'code': 34, 'message': 'Sorry, that page does...</td>\n",
       "    </tr>\n",
       "    <tr>\n",
       "      <th>4614</th>\n",
       "      <td>917488416538972160</td>\n",
       "      <td>917437803138609153</td>\n",
       "      <td>Now that’s unfortunate. https://t.co/ozX0T0NL2Y</td>\n",
       "      <td>https://twitter.com/POTUS/status/9174884165389...</td>\n",
       "      <td>Actress Judi Dench has Havey Weinstein's initi...</td>\n",
       "      <td>['https://www.snopes.com/tachyon/2018/03/ratin...</td>\n",
       "      <td>http://pbs.twimg.com/media/DLtk0buXkAAO6DT.jpg</td>\n",
       "      <td>Weinstein confirmed that Dench had a tattoo th...</td>\n",
       "      <td>https://www.snopes.com/fact-check/judi-dench-h...</td>\n",
       "      <td>false</td>\n",
       "      <td>NaN</td>\n",
       "      <td>missing</td>\n",
       "      <td>14701191</td>\n",
       "      <td>{'code': 34, 'message': 'Sorry, that page does...</td>\n",
       "    </tr>\n",
       "    <tr>\n",
       "      <th>4615</th>\n",
       "      <td>919292155692232705</td>\n",
       "      <td>917532655608127490</td>\n",
       "      <td>Exclusive: Judi Dench, who has a Harvey Weinst...</td>\n",
       "      <td>https://twitter.com/POTUS/status/9192921556922...</td>\n",
       "      <td>Actress Judi Dench has Havey Weinstein's initi...</td>\n",
       "      <td>['https://www.snopes.com/tachyon/2018/03/ratin...</td>\n",
       "      <td>http://pbs.twimg.com/media/DLu7Fh7WAAAvowc.jpg</td>\n",
       "      <td>NaN</td>\n",
       "      <td>https://www.snopes.com/fact-check/judi-dench-h...</td>\n",
       "      <td>false</td>\n",
       "      <td>NaN</td>\n",
       "      <td>ok</td>\n",
       "      <td>2884771</td>\n",
       "      <td>{'code': 34, 'message': 'Sorry, that page does...</td>\n",
       "    </tr>\n",
       "    <tr>\n",
       "      <th>4616</th>\n",
       "      <td>917910097845559296</td>\n",
       "      <td>917571711196909568</td>\n",
       "      <td>Looks like a Photoshop job.  RT @mersmom8 This...</td>\n",
       "      <td>https://twitter.com/POTUS/status/9179100978455...</td>\n",
       "      <td>An image shows Lebron James wearing a \"we marc...</td>\n",
       "      <td>['https://www.snopes.com/tachyon/2018/03/ratin...</td>\n",
       "      <td>http://pbs.twimg.com/media/DLtPyjRXkAAuoCe.jpg</td>\n",
       "      <td>WE MARCH , y'all mad . WE SIT DOWN , y'all mad...</td>\n",
       "      <td>https://www.snopes.com/fact-check/lebron-james...</td>\n",
       "      <td>false</td>\n",
       "      <td>NaN</td>\n",
       "      <td>auth</td>\n",
       "      <td>25241610</td>\n",
       "      <td>{'code': 34, 'message': 'Sorry, that page does...</td>\n",
       "    </tr>\n",
       "    <tr>\n",
       "      <th>4617</th>\n",
       "      <td>917675610297765893</td>\n",
       "      <td>917675143710769153</td>\n",
       "      <td>@DennisDoiron @JoyLapine @H_Combs @VP I think ...</td>\n",
       "      <td>https://twitter.com/POTUS/status/9176756102977...</td>\n",
       "      <td>A photograph shows a young Mike Pence with his...</td>\n",
       "      <td>['https://www.snopes.com/tachyon/2018/03/ratin...</td>\n",
       "      <td>http://pbs.twimg.com/media/DLw8rUIVwAAHRT_.jpg</td>\n",
       "      <td>NaN</td>\n",
       "      <td>https://www.snopes.com/fact-check/mike-pences-...</td>\n",
       "      <td>false</td>\n",
       "      <td>NaN</td>\n",
       "      <td>ok</td>\n",
       "      <td>4868688743</td>\n",
       "      <td>{'code': 34, 'message': 'Sorry, that page does...</td>\n",
       "    </tr>\n",
       "    <tr>\n",
       "      <th>4618</th>\n",
       "      <td>917745985811566593</td>\n",
       "      <td>917739219010899968</td>\n",
       "      <td>@ZimJay @SheriffClarke Look in the mirror mini...</td>\n",
       "      <td>https://twitter.com/POTUS/status/9177459858115...</td>\n",
       "      <td>Hillary Clinton said that Democratic voters ar...</td>\n",
       "      <td>['https://www.snopes.com/tachyon/2018/03/ratin...</td>\n",
       "      <td>http://pbs.twimg.com/media/DLx28u2WAAAhVTY.jpg</td>\n",
       "      <td>\" Look , the average Democrat voter is just pl...</td>\n",
       "      <td>https://www.snopes.com/fact-check/hillary-clin...</td>\n",
       "      <td>false</td>\n",
       "      <td>NaN</td>\n",
       "      <td>ok</td>\n",
       "      <td>703384522033897472</td>\n",
       "      <td>{'code': 34, 'message': 'Sorry, that page does...</td>\n",
       "    </tr>\n",
       "    <tr>\n",
       "      <th>4619</th>\n",
       "      <td>917756129853296641</td>\n",
       "      <td>917742711339335680</td>\n",
       "      <td>@IngrahamAngle @realDonaldTrump Read what Reag...</td>\n",
       "      <td>https://twitter.com/POTUS/status/9177561298532...</td>\n",
       "      <td>Ronald Reagan said he felt like he was shaking...</td>\n",
       "      <td>['https://www.snopes.com/tachyon/2018/03/ratin...</td>\n",
       "      <td>http://pbs.twimg.com/media/DLx6IEBVwAErwto.jpg</td>\n",
       "      <td>I'UINEVER IT , WHEN I MET THAiYOUNGMAN , lFELT...</td>\n",
       "      <td>https://www.snopes.com/fact-check/reagan-trump...</td>\n",
       "      <td>false</td>\n",
       "      <td>NaN</td>\n",
       "      <td>ok</td>\n",
       "      <td>854166263618088960</td>\n",
       "      <td>{'code': 34, 'message': 'Sorry, that page does...</td>\n",
       "    </tr>\n",
       "    <tr>\n",
       "      <th>4620</th>\n",
       "      <td>917754439481614336</td>\n",
       "      <td>917752003299807232</td>\n",
       "      <td>“Sorry losers and haters, but my I.Q. is one o...</td>\n",
       "      <td>https://twitter.com/POTUS/status/9177544394816...</td>\n",
       "      <td>Donald Trump's IQ, at 156, is comparable to th...</td>\n",
       "      <td>['https://www.snopes.com/tachyon/2018/03/ratin...</td>\n",
       "      <td>http://pbs.twimg.com/media/DLyClQTWsAA93OE.jpg</td>\n",
       "      <td>NaN</td>\n",
       "      <td>https://www.snopes.com/fact-check/donald-trump...</td>\n",
       "      <td>false</td>\n",
       "      <td>NaN</td>\n",
       "      <td>auth</td>\n",
       "      <td>759251</td>\n",
       "      <td>{'code': 34, 'message': 'Sorry, that page does...</td>\n",
       "    </tr>\n",
       "  </tbody>\n",
       "</table>\n",
       "</div>"
      ],
      "text/plain": [
       "                      id         original_id  \\\n",
       "4600  917008562563543040  916890818048294912   \n",
       "4601  917134801416736768  917009839674544128   \n",
       "4602  919401783683936256  917081407960305665   \n",
       "4603  917104093029699586  917102637950017536   \n",
       "4604  917189014918258688  917187370012823553   \n",
       "4605  917937955381088258  917202064358477824   \n",
       "4606  917266413076623360  917248492900249600   \n",
       "4607  917756421017690112  917248535136894977   \n",
       "4608  917388478144499717  917350015059791873   \n",
       "4609  931324102899412993  917394007390425088   \n",
       "4610  917435403262558208  917408316569026560   \n",
       "4611  932404019926110208  917414773322670081   \n",
       "4612  917432224433106945  917420153666703360   \n",
       "4613  917474084530937856  917427575214956544   \n",
       "4614  917488416538972160  917437803138609153   \n",
       "4615  919292155692232705  917532655608127490   \n",
       "4616  917910097845559296  917571711196909568   \n",
       "4617  917675610297765893  917675143710769153   \n",
       "4618  917745985811566593  917739219010899968   \n",
       "4619  917756129853296641  917742711339335680   \n",
       "4620  917754439481614336  917752003299807232   \n",
       "\n",
       "                                             tweet_text  \\\n",
       "4600  @antipandemonium @ShaunKing @NFL @DonteStallwo...   \n",
       "4601  @HarryDowning113 @tia6sc @rodliz1225 @VP @POTU...   \n",
       "4602  Oh now you’ll stand? I think not. Hope you nev...   \n",
       "4603  @ProudResister You mean this guy? https://t.co...   \n",
       "4604  @ThePatriot143 Yeah &amp; this is the Army so ...   \n",
       "4605  @ChrisFagan57 @bridget4kicks @JulianAssange @S...   \n",
       "4606  @DanCorkill1 @TheGrungeHam @carol_NC66 As I ha...   \n",
       "4607  it fucks me up that clickhole wrote one of the...   \n",
       "4608  @USArmy333 @NBCNews @PeterAlexander @TODAYshow...   \n",
       "4609  @VP @POTUS You &amp; your boss should ask the ...   \n",
       "4610  @SonjiCarey @thehill ☝This can't seriously😠 be...   \n",
       "4611    This Shirt Says It All! https://t.co/8OrKgIpbTz   \n",
       "4612  @realDonaldTrump @VP Kneeling disrespectful bu...   \n",
       "4613  @GuyMckee5 @scottinclearh2o @secupp @GOP @NRA ...   \n",
       "4614    Now that’s unfortunate. https://t.co/ozX0T0NL2Y   \n",
       "4615  Exclusive: Judi Dench, who has a Harvey Weinst...   \n",
       "4616  Looks like a Photoshop job.  RT @mersmom8 This...   \n",
       "4617  @DennisDoiron @JoyLapine @H_Combs @VP I think ...   \n",
       "4618  @ZimJay @SheriffClarke Look in the mirror mini...   \n",
       "4619  @IngrahamAngle @realDonaldTrump Read what Reag...   \n",
       "4620  “Sorry losers and haters, but my I.Q. is one o...   \n",
       "\n",
       "                                              tweet_url  \\\n",
       "4600  https://twitter.com/POTUS/status/9170085625635...   \n",
       "4601  https://twitter.com/POTUS/status/9171348014167...   \n",
       "4602  https://twitter.com/POTUS/status/9194017836839...   \n",
       "4603  https://twitter.com/POTUS/status/9171040930296...   \n",
       "4604  https://twitter.com/POTUS/status/9171890149182...   \n",
       "4605  https://twitter.com/POTUS/status/9179379553810...   \n",
       "4606  https://twitter.com/POTUS/status/9172664130766...   \n",
       "4607  https://twitter.com/POTUS/status/9177564210176...   \n",
       "4608  https://twitter.com/POTUS/status/9173884781444...   \n",
       "4609  https://twitter.com/POTUS/status/9313241028994...   \n",
       "4610  https://twitter.com/POTUS/status/9174354032625...   \n",
       "4611  https://twitter.com/POTUS/status/9324040199261...   \n",
       "4612  https://twitter.com/POTUS/status/9174322244331...   \n",
       "4613  https://twitter.com/POTUS/status/9174740845309...   \n",
       "4614  https://twitter.com/POTUS/status/9174884165389...   \n",
       "4615  https://twitter.com/POTUS/status/9192921556922...   \n",
       "4616  https://twitter.com/POTUS/status/9179100978455...   \n",
       "4617  https://twitter.com/POTUS/status/9176756102977...   \n",
       "4618  https://twitter.com/POTUS/status/9177459858115...   \n",
       "4619  https://twitter.com/POTUS/status/9177561298532...   \n",
       "4620  https://twitter.com/POTUS/status/9177544394816...   \n",
       "\n",
       "                                                  claim  \\\n",
       "4600  NFL players did not stand for the national ant...   \n",
       "4601  A meme accurately lists Democrats who have bee...   \n",
       "4602  In October 2017, Colin Kaepernick told a CBS r...   \n",
       "4603  A photograph shows a young Mike Pence with his...   \n",
       "4604  A photograph shows the Army football team knee...   \n",
       "4605  George Soros said that he funded the Black Liv...   \n",
       "4606  The man accused of opening fire on hundreds of...   \n",
       "4607  Barry Wilmore said that he saw astronaut Ramir...   \n",
       "4608  Prior to condemning flag burning in November 2...   \n",
       "4609  A photograph shows the Army football team knee...   \n",
       "4610  Prior to condemning flag burning in November 2...   \n",
       "4611  An image shows Lebron James wearing a \"we marc...   \n",
       "4612  Prior to condemning flag burning in November 2...   \n",
       "4613  Sec. of State Hillary Clinton's approval of a ...   \n",
       "4614  Actress Judi Dench has Havey Weinstein's initi...   \n",
       "4615  Actress Judi Dench has Havey Weinstein's initi...   \n",
       "4616  An image shows Lebron James wearing a \"we marc...   \n",
       "4617  A photograph shows a young Mike Pence with his...   \n",
       "4618  Hillary Clinton said that Democratic voters ar...   \n",
       "4619  Ronald Reagan said he felt like he was shaking...   \n",
       "4620  Donald Trump's IQ, at 156, is comparable to th...   \n",
       "\n",
       "                                                 rating  \\\n",
       "4600  ['https://www.snopes.com/tachyon/2018/03/ratin...   \n",
       "4601  ['https://www.snopes.com/tachyon/2018/03/ratin...   \n",
       "4602  ['https://www.snopes.com/tachyon/2018/03/ratin...   \n",
       "4603  ['https://www.snopes.com/tachyon/2018/03/ratin...   \n",
       "4604  ['https://www.snopes.com/tachyon/2018/03/ratin...   \n",
       "4605  ['https://www.snopes.com/tachyon/2018/03/ratin...   \n",
       "4606  ['https://www.snopes.com/tachyon/2018/03/ratin...   \n",
       "4607  ['https://www.snopes.com/tachyon/2018/03/ratin...   \n",
       "4608  ['https://www.snopes.com/tachyon/2018/03/ratin...   \n",
       "4609  ['https://www.snopes.com/tachyon/2018/03/ratin...   \n",
       "4610  ['https://www.snopes.com/tachyon/2018/03/ratin...   \n",
       "4611  ['https://www.snopes.com/tachyon/2018/03/ratin...   \n",
       "4612  ['https://www.snopes.com/tachyon/2018/03/ratin...   \n",
       "4613  ['https://www.snopes.com/tachyon/2018/03/ratin...   \n",
       "4614  ['https://www.snopes.com/tachyon/2018/03/ratin...   \n",
       "4615  ['https://www.snopes.com/tachyon/2018/03/ratin...   \n",
       "4616  ['https://www.snopes.com/tachyon/2018/03/ratin...   \n",
       "4617  ['https://www.snopes.com/tachyon/2018/03/ratin...   \n",
       "4618  ['https://www.snopes.com/tachyon/2018/03/ratin...   \n",
       "4619  ['https://www.snopes.com/tachyon/2018/03/ratin...   \n",
       "4620  ['https://www.snopes.com/tachyon/2018/03/ratin...   \n",
       "\n",
       "                                              images  \\\n",
       "4600  http://pbs.twimg.com/media/DLlzVL0V4AEFNCG.jpg   \n",
       "4601  http://pbs.twimg.com/media/DLnflb4UQAE6fY5.jpg   \n",
       "4602  http://pbs.twimg.com/media/DLogrJOV4AAZwvw.jpg   \n",
       "4603  http://pbs.twimg.com/media/DLoz7n7UEAAOW6Y.jpg   \n",
       "4604  http://pbs.twimg.com/media/DLqBDJqWkAA0Oz0.jpg   \n",
       "4605  http://pbs.twimg.com/media/DLqOaQYV4AEzRea.jpg   \n",
       "4606  http://pbs.twimg.com/media/DLq4c0CU8AAYLtT.jpg   \n",
       "4607  http://pbs.twimg.com/media/DLq4q82UMAAdf_0.jpg   \n",
       "4608  http://pbs.twimg.com/media/DLsU-J8UIAERqd0.jpg   \n",
       "4609  http://pbs.twimg.com/media/DLs8-7pUQAAgiWd.jpg   \n",
       "4610  http://pbs.twimg.com/media/DLtJ_6BWAAIrP7r.jpg   \n",
       "4611  http://pbs.twimg.com/media/DLtPyjRXkAAuoCe.jpg   \n",
       "4612  http://pbs.twimg.com/media/DLtUw3MW0AAGeyj.jpg   \n",
       "4613  http://pbs.twimg.com/media/DLtbg35VAAA2etM.jpg   \n",
       "4614  http://pbs.twimg.com/media/DLtk0buXkAAO6DT.jpg   \n",
       "4615  http://pbs.twimg.com/media/DLu7Fh7WAAAvowc.jpg   \n",
       "4616  http://pbs.twimg.com/media/DLtPyjRXkAAuoCe.jpg   \n",
       "4617  http://pbs.twimg.com/media/DLw8rUIVwAAHRT_.jpg   \n",
       "4618  http://pbs.twimg.com/media/DLx28u2WAAAhVTY.jpg   \n",
       "4619  http://pbs.twimg.com/media/DLx6IEBVwAErwto.jpg   \n",
       "4620  http://pbs.twimg.com/media/DLyClQTWsAA93OE.jpg   \n",
       "\n",
       "                                            text_images  \\\n",
       "4600  NFL players only started coming on field for t...   \n",
       "4601  nwughtCrime Resistance In 1865 a Democrat kill...   \n",
       "4602  FOX NEWS Breaking News 2m ago Colin Kaepernick...   \n",
       "4603  Mike pence is trying to have this removed from...   \n",
       "4604  Raymon King Jr 1 hr e U . S . Army Football Te...   \n",
       "4605  \" I'm going to bring down the United States by...   \n",
       "4606                                                NaN   \n",
       "4607  Barry Wilmore \" You never know true beauty unt...   \n",
       "4608  e Donald J . Trump @user Follow Burning a flag...   \n",
       "4609  331 likes livingthelifeof_blackgirlmagic Ummmm...   \n",
       "4610  i 11:39 AM Q M ry Ostensarvi 43m Trump : NFL p...   \n",
       "4611  WE MARCH , y'all mad . WE SIT DOWN , y'all mad...   \n",
       "4612  Donald J . Trump great DonakiTrurnp & Follow B...   \n",
       "4613  In 2010 , the State Department under Hillary C...   \n",
       "4614  Weinstein confirmed that Dench had a tattoo th...   \n",
       "4615                                                NaN   \n",
       "4616  WE MARCH , y'all mad . WE SIT DOWN , y'all mad...   \n",
       "4617                                                NaN   \n",
       "4618  \" Look , the average Democrat voter is just pl...   \n",
       "4619  I'UINEVER IT , WHEN I MET THAiYOUNGMAN , lFELT...   \n",
       "4620                                                NaN   \n",
       "\n",
       "                                                 source         label  \\\n",
       "4600  https://www.snopes.com/fact-check/nfl-sideline...       mixture   \n",
       "4601  https://www.snopes.com/fact-check/democrat-sho...  mostly-false   \n",
       "4602  https://www.snopes.com/fact-check/kaepernick-a...         false   \n",
       "4603  https://www.snopes.com/fact-check/mike-pences-...         false   \n",
       "4604  https://www.snopes.com/fact-check/army-footbal...         false   \n",
       "4605  https://www.snopes.com/fact-check/george-soros...         false   \n",
       "4606  https://www.snopes.com/fact-check/las-vegas-sh...         false   \n",
       "4607  https://www.snopes.com/fact-check/barry-wilmor...         false   \n",
       "4608  https://www.snopes.com/fact-check/trumps-flip-...         false   \n",
       "4609  https://www.snopes.com/fact-check/army-footbal...         false   \n",
       "4610  https://www.snopes.com/fact-check/trumps-flip-...         false   \n",
       "4611  https://www.snopes.com/fact-check/lebron-james...         false   \n",
       "4612  https://www.snopes.com/fact-check/trumps-flip-...         false   \n",
       "4613  https://www.snopes.com/fact-check/hillary-clin...         false   \n",
       "4614  https://www.snopes.com/fact-check/judi-dench-h...         false   \n",
       "4615  https://www.snopes.com/fact-check/judi-dench-h...         false   \n",
       "4616  https://www.snopes.com/fact-check/lebron-james...         false   \n",
       "4617  https://www.snopes.com/fact-check/mike-pences-...         false   \n",
       "4618  https://www.snopes.com/fact-check/hillary-clin...         false   \n",
       "4619  https://www.snopes.com/fact-check/reagan-trump...         false   \n",
       "4620  https://www.snopes.com/fact-check/donald-trump...         false   \n",
       "\n",
       "      label_info available              acc_id  \\\n",
       "4600         NaN        ok            28722755   \n",
       "4601         NaN        ok           422041473   \n",
       "4602         NaN        ok           166751745   \n",
       "4603         NaN        ok  867953768041660416   \n",
       "4604         NaN      auth  911585169060003840   \n",
       "4605         NaN      auth            54017596   \n",
       "4606         NaN        ok           124673927   \n",
       "4607         NaN      auth            20600882   \n",
       "4608         NaN        ok  793278250130825216   \n",
       "4609         NaN        ok            24043461   \n",
       "4610         NaN        ok          1277721991   \n",
       "4611         NaN   missing          2301628435   \n",
       "4612         NaN        ok            15694971   \n",
       "4613         NaN        ok          3401758332   \n",
       "4614         NaN   missing            14701191   \n",
       "4615         NaN        ok             2884771   \n",
       "4616         NaN      auth            25241610   \n",
       "4617         NaN        ok          4868688743   \n",
       "4618         NaN        ok  703384522033897472   \n",
       "4619         NaN        ok  854166263618088960   \n",
       "4620         NaN      auth              759251   \n",
       "\n",
       "                                              botometer  \n",
       "4600  {'cap': {'english': 0.5539725719744064, 'unive...  \n",
       "4601  {'cap': {'english': 0.5778862084370772, 'unive...  \n",
       "4602  {'cap': {'english': 0.7920317685697057, 'unive...  \n",
       "4603  {'cap': {'english': 0.22631829961109876, 'univ...  \n",
       "4604  {'code': 34, 'message': 'Sorry, that page does...  \n",
       "4605  {'cap': {'english': 0.9158377984126878, 'unive...  \n",
       "4606  {'cap': {'english': 0.4197222421546159, 'unive...  \n",
       "4607  {'cap': {'english': 0.7176911080698488, 'unive...  \n",
       "4608  {'cap': {'english': 0.4756769663222349, 'unive...  \n",
       "4609  {'cap': {'english': 0.22631829961109876, 'univ...  \n",
       "4610  {'cap': {'english': 0.2520419704315795, 'unive...  \n",
       "4611  {'cap': {'english': 0.8912318555080615, 'unive...  \n",
       "4612  {'cap': {'english': 0.5778862084370772, 'unive...  \n",
       "4613  {'code': 34, 'message': 'Sorry, that page does...  \n",
       "4614  {'code': 34, 'message': 'Sorry, that page does...  \n",
       "4615  {'code': 34, 'message': 'Sorry, that page does...  \n",
       "4616  {'code': 34, 'message': 'Sorry, that page does...  \n",
       "4617  {'code': 34, 'message': 'Sorry, that page does...  \n",
       "4618  {'code': 34, 'message': 'Sorry, that page does...  \n",
       "4619  {'code': 34, 'message': 'Sorry, that page does...  \n",
       "4620  {'code': 34, 'message': 'Sorry, that page does...  "
      ]
     },
     "execution_count": 12,
     "metadata": {},
     "output_type": "execute_result"
    }
   ],
   "source": [
    "df.loc[4600:4620]"
   ]
  },
  {
   "cell_type": "code",
   "execution_count": 6,
   "metadata": {},
   "outputs": [
    {
     "name": "stdout",
     "output_type": "stream",
     "text": [
      "Collecting tweepy==3.6\n",
      "  Downloading tweepy-3.6.0-py2.py3-none-any.whl (29 kB)\n",
      "Requirement already satisfied: requests>=2.11.1 in /home/mihail/.local/lib/python3.8/site-packages (from tweepy==3.6) (2.27.1)\n",
      "Requirement already satisfied: six>=1.10.0 in /usr/lib/python3/dist-packages (from tweepy==3.6) (1.14.0)\n",
      "Requirement already satisfied: requests-oauthlib>=0.7.0 in /home/mihail/.local/lib/python3.8/site-packages (from tweepy==3.6) (1.3.1)\n",
      "Collecting PySocks>=1.5.7\n",
      "  Downloading PySocks-1.7.1-py3-none-any.whl (16 kB)\n",
      "Requirement already satisfied: idna<4,>=2.5; python_version >= \"3\" in /usr/lib/python3/dist-packages (from requests>=2.11.1->tweepy==3.6) (2.8)\n",
      "Requirement already satisfied: certifi>=2017.4.17 in /usr/lib/python3/dist-packages (from requests>=2.11.1->tweepy==3.6) (2019.11.28)\n",
      "Requirement already satisfied: urllib3<1.27,>=1.21.1 in /usr/lib/python3/dist-packages (from requests>=2.11.1->tweepy==3.6) (1.25.8)\n",
      "Requirement already satisfied: charset-normalizer~=2.0.0; python_version >= \"3\" in /home/mihail/.local/lib/python3.8/site-packages (from requests>=2.11.1->tweepy==3.6) (2.0.12)\n",
      "Requirement already satisfied: oauthlib>=3.0.0 in /home/mihail/.local/lib/python3.8/site-packages (from requests-oauthlib>=0.7.0->tweepy==3.6) (3.2.0)\n",
      "Installing collected packages: PySocks, tweepy\n",
      "  Attempting uninstall: tweepy\n",
      "    Found existing installation: tweepy 4.0.0\n",
      "    Uninstalling tweepy-4.0.0:\n",
      "      Successfully uninstalled tweepy-4.0.0\n",
      "Successfully installed PySocks-1.7.1 tweepy-3.6.0\n",
      "Note: you may need to restart the kernel to use updated packages.\n"
     ]
    }
   ],
   "source": [
    "pip install tweepy==3.6"
   ]
  },
  {
   "cell_type": "code",
   "execution_count": 164,
   "metadata": {},
   "outputs": [
    {
     "data": {
      "text/plain": [
       "6232"
      ]
     },
     "execution_count": 164,
     "metadata": {},
     "output_type": "execute_result"
    }
   ],
   "source": [
    "df.botometer.isna().sum()"
   ]
  },
  {
   "cell_type": "code",
   "execution_count": 167,
   "metadata": {},
   "outputs": [
    {
     "data": {
      "text/html": [
       "<div>\n",
       "<style scoped>\n",
       "    .dataframe tbody tr th:only-of-type {\n",
       "        vertical-align: middle;\n",
       "    }\n",
       "\n",
       "    .dataframe tbody tr th {\n",
       "        vertical-align: top;\n",
       "    }\n",
       "\n",
       "    .dataframe thead th {\n",
       "        text-align: right;\n",
       "    }\n",
       "</style>\n",
       "<table border=\"1\" class=\"dataframe\">\n",
       "  <thead>\n",
       "    <tr style=\"text-align: right;\">\n",
       "      <th></th>\n",
       "      <th>id</th>\n",
       "      <th>original_id</th>\n",
       "      <th>tweet_text</th>\n",
       "      <th>tweet_url</th>\n",
       "      <th>claim</th>\n",
       "      <th>rating</th>\n",
       "      <th>images</th>\n",
       "      <th>text_images</th>\n",
       "      <th>source</th>\n",
       "      <th>label</th>\n",
       "      <th>label_info</th>\n",
       "      <th>available</th>\n",
       "      <th>acc_id</th>\n",
       "      <th>botometer</th>\n",
       "    </tr>\n",
       "  </thead>\n",
       "  <tbody>\n",
       "    <tr>\n",
       "      <th>904</th>\n",
       "      <td>777593547142889472</td>\n",
       "      <td>777587316923600896</td>\n",
       "      <td>The @WSJ has different content in different lo...</td>\n",
       "      <td>https://twitter.com/POTUS/status/7775935471428...</td>\n",
       "      <td>The Wall Street Journal ran Donald Trump stori...</td>\n",
       "      <td>['https://www.snopes.com/tachyon/2018/03/ratin...</td>\n",
       "      <td>http://pbs.twimg.com/media/CsqLirWUAAACzYg.jpg</td>\n",
       "      <td>TIIE WALL STREET JOIRNAL . THE LOAFER STEPS UP...</td>\n",
       "      <td>https://www.snopes.com/fact-check/wsj-differen...</td>\n",
       "      <td>true</td>\n",
       "      <td>NaN</td>\n",
       "      <td>ok</td>\n",
       "      <td>3362345172</td>\n",
       "      <td>{'code': 34, 'message': 'Sorry, that page does...</td>\n",
       "    </tr>\n",
       "  </tbody>\n",
       "</table>\n",
       "</div>"
      ],
      "text/plain": [
       "                     id         original_id  \\\n",
       "904  777593547142889472  777587316923600896   \n",
       "\n",
       "                                            tweet_text  \\\n",
       "904  The @WSJ has different content in different lo...   \n",
       "\n",
       "                                             tweet_url  \\\n",
       "904  https://twitter.com/POTUS/status/7775935471428...   \n",
       "\n",
       "                                                 claim  \\\n",
       "904  The Wall Street Journal ran Donald Trump stori...   \n",
       "\n",
       "                                                rating  \\\n",
       "904  ['https://www.snopes.com/tachyon/2018/03/ratin...   \n",
       "\n",
       "                                             images  \\\n",
       "904  http://pbs.twimg.com/media/CsqLirWUAAACzYg.jpg   \n",
       "\n",
       "                                           text_images  \\\n",
       "904  TIIE WALL STREET JOIRNAL . THE LOAFER STEPS UP...   \n",
       "\n",
       "                                                source label  label_info  \\\n",
       "904  https://www.snopes.com/fact-check/wsj-differen...  true         NaN   \n",
       "\n",
       "    available      acc_id                                          botometer  \n",
       "904        ok  3362345172  {'code': 34, 'message': 'Sorry, that page does...  "
      ]
     },
     "execution_count": 167,
     "metadata": {},
     "output_type": "execute_result"
    }
   ],
   "source": [
    "df[df.acc_id.isin([3362345172])]"
   ]
  },
  {
   "cell_type": "code",
   "execution_count": 177,
   "metadata": {},
   "outputs": [],
   "source": [
    "df.to_csv(\"snopes_1429.csv\", index=False)"
   ]
  },
  {
   "cell_type": "code",
   "execution_count": 12,
   "metadata": {},
   "outputs": [],
   "source": [
    "df.to_csv(\"snopes_1942.csv\", index=False)"
   ]
  },
  {
   "cell_type": "code",
   "execution_count": 21,
   "metadata": {},
   "outputs": [],
   "source": [
    "df.to_csv(\"snopes_2990.csv\", index=False)"
   ]
  },
  {
   "cell_type": "code",
   "execution_count": 22,
   "metadata": {},
   "outputs": [],
   "source": [
    "df = pd.read_csv(\"snopes_2990.csv\")"
   ]
  },
  {
   "cell_type": "code",
   "execution_count": 23,
   "metadata": {},
   "outputs": [
    {
     "data": {
      "text/html": [
       "<div>\n",
       "<style scoped>\n",
       "    .dataframe tbody tr th:only-of-type {\n",
       "        vertical-align: middle;\n",
       "    }\n",
       "\n",
       "    .dataframe tbody tr th {\n",
       "        vertical-align: top;\n",
       "    }\n",
       "\n",
       "    .dataframe thead th {\n",
       "        text-align: right;\n",
       "    }\n",
       "</style>\n",
       "<table border=\"1\" class=\"dataframe\">\n",
       "  <thead>\n",
       "    <tr style=\"text-align: right;\">\n",
       "      <th></th>\n",
       "      <th>id</th>\n",
       "      <th>original_id</th>\n",
       "      <th>tweet_text</th>\n",
       "      <th>tweet_url</th>\n",
       "      <th>claim</th>\n",
       "      <th>rating</th>\n",
       "      <th>images</th>\n",
       "      <th>text_images</th>\n",
       "      <th>source</th>\n",
       "      <th>label</th>\n",
       "      <th>label_info</th>\n",
       "      <th>available</th>\n",
       "      <th>acc_id</th>\n",
       "      <th>botometer</th>\n",
       "    </tr>\n",
       "  </thead>\n",
       "  <tbody>\n",
       "    <tr>\n",
       "      <th>2980</th>\n",
       "      <td>851380310403108864</td>\n",
       "      <td>851369498351460352</td>\n",
       "      <td>IF TOMAHAWK MISSLES ARE AROUND A $1M EACH, WHY...</td>\n",
       "      <td>https://twitter.com/POTUS/status/8513803104031...</td>\n",
       "      <td>CNN was caught using photographs of the same g...</td>\n",
       "      <td>['https://www.snopes.com/tachyon/2018/03/ratin...</td>\n",
       "      <td>http://pbs.twimg.com/media/C9CsB6uXoAEaorL.jpg</td>\n",
       "      <td>NaN</td>\n",
       "      <td>https://www.snopes.com/fact-check/cnn-same-ref...</td>\n",
       "      <td>false</td>\n",
       "      <td>NaN</td>\n",
       "      <td>ok</td>\n",
       "      <td>113423108</td>\n",
       "      <td>{'cap': {'english': 0.8076035454448582, 'unive...</td>\n",
       "    </tr>\n",
       "    <tr>\n",
       "      <th>2981</th>\n",
       "      <td>851512935176425472</td>\n",
       "      <td>851501829351501824</td>\n",
       "      <td>United #UnitedAirlines https://t.co/GzXudvd9BD</td>\n",
       "      <td>https://twitter.com/POTUS/status/8515129351764...</td>\n",
       "      <td>United Airlines will begin charging for overhe...</td>\n",
       "      <td>['https://www.snopes.com/tachyon/2018/03/ratin...</td>\n",
       "      <td>http://pbs.twimg.com/media/C9EkZW-WsAAXsa-.jpg</td>\n",
       "      <td>United Airlines just announced they will now b...</td>\n",
       "      <td>https://www.snopes.com/fact-check/united-airli...</td>\n",
       "      <td>mostly-false</td>\n",
       "      <td>NaN</td>\n",
       "      <td>ok</td>\n",
       "      <td>794706601676591104</td>\n",
       "      <td>{'code': 34, 'message': 'Sorry, that page does...</td>\n",
       "    </tr>\n",
       "    <tr>\n",
       "      <th>2982</th>\n",
       "      <td>851560765433806849</td>\n",
       "      <td>851555419457585153</td>\n",
       "      <td>Honestly- I'm not a hateful person, but I hope...</td>\n",
       "      <td>https://twitter.com/POTUS/status/8515607654338...</td>\n",
       "      <td>Whoopi Goldberg said that \"military widows lov...</td>\n",
       "      <td>['https://www.snopes.com/tachyon/2018/03/ratin...</td>\n",
       "      <td>http://pbs.twimg.com/media/C9FVIyjVYAA6ZV6.jpg</td>\n",
       "      <td>.. JTHWITH JONES \" She was just looking for at...</td>\n",
       "      <td>https://www.snopes.com/fact-check/whoopi-goldb...</td>\n",
       "      <td>false</td>\n",
       "      <td>NaN</td>\n",
       "      <td>ok</td>\n",
       "      <td>59435428</td>\n",
       "      <td>{'cap': {'english': 0.30618807248975083, 'univ...</td>\n",
       "    </tr>\n",
       "    <tr>\n",
       "      <th>2983</th>\n",
       "      <td>851580394663182337</td>\n",
       "      <td>851567595409088518</td>\n",
       "      <td>@realDonaldTrump Were the crossed fingers behi...</td>\n",
       "      <td>https://twitter.com/POTUS/status/8515803946631...</td>\n",
       "      <td>Neil Gorsuch called for the \"advancement of th...</td>\n",
       "      <td>['https://www.snopes.com/tachyon/2018/03/ratin...</td>\n",
       "      <td>http://pbs.twimg.com/media/C9Ff_ZjXsAAp0EG.jpg</td>\n",
       "      <td>MakAusGr 8Again @user . Agaln Follow @user Ano...</td>\n",
       "      <td>https://www.snopes.com/fact-check/neil-gorsuch...</td>\n",
       "      <td>false</td>\n",
       "      <td>NaN</td>\n",
       "      <td>ok</td>\n",
       "      <td>3306164498</td>\n",
       "      <td>{'cap': {'english': 0.4756769663222349, 'unive...</td>\n",
       "    </tr>\n",
       "    <tr>\n",
       "      <th>2984</th>\n",
       "      <td>851574095145828352</td>\n",
       "      <td>851573350342242304</td>\n",
       "      <td>Now how do you teach a squirrel anything, oh I...</td>\n",
       "      <td>https://twitter.com/POTUS/status/8515740951458...</td>\n",
       "      <td>A woman was arrested for training squirrels to...</td>\n",
       "      <td>['https://www.snopes.com/tachyon/2018/03/ratin...</td>\n",
       "      <td>http://pbs.twimg.com/media/C9FlcdkVoAEzlwt.jpg</td>\n",
       "      <td>woMAN ARRESTED FOR TRAINING SQUIRRELS TO ATTAC...</td>\n",
       "      <td>https://www.snopes.com/fact-check/attack-squir...</td>\n",
       "      <td>false</td>\n",
       "      <td>NaN</td>\n",
       "      <td>missing</td>\n",
       "      <td>257715213</td>\n",
       "      <td>{'cap': {'english': 0.8054784364249085, 'unive...</td>\n",
       "    </tr>\n",
       "    <tr>\n",
       "      <th>2985</th>\n",
       "      <td>851729777727725568</td>\n",
       "      <td>851728536595345409</td>\n",
       "      <td>And the Australian Govt awards a $2b missile c...</td>\n",
       "      <td>https://twitter.com/POTUS/status/8517297777277...</td>\n",
       "      <td>President Trump owns stock in Raytheon and dir...</td>\n",
       "      <td>['https://www.snopes.com/tachyon/2018/03/ratin...</td>\n",
       "      <td>http://pbs.twimg.com/media/C9HykJAUMAA-LTi.jpg</td>\n",
       "      <td>Meanwhile , the stocks of the military contrac...</td>\n",
       "      <td>https://www.snopes.com/fact-check/trump-raythe...</td>\n",
       "      <td>unproven</td>\n",
       "      <td>NaN</td>\n",
       "      <td>ok</td>\n",
       "      <td>285431964</td>\n",
       "      <td>{'cap': {'english': 0.659646495284545, 'univer...</td>\n",
       "    </tr>\n",
       "    <tr>\n",
       "      <th>2986</th>\n",
       "      <td>885580034399850496</td>\n",
       "      <td>851753867989721088</td>\n",
       "      <td>When CNN Uses The Same Girl In 3 Different Ref...</td>\n",
       "      <td>https://twitter.com/POTUS/status/8855800343998...</td>\n",
       "      <td>CNN was caught using photographs of the same g...</td>\n",
       "      <td>['https://www.snopes.com/tachyon/2018/03/ratin...</td>\n",
       "      <td>http://pbs.twimg.com/media/C9IJlbHUIAA7Hzr.jpg</td>\n",
       "      <td>men CNN ugg game In 3 dffaent Refugee Crigig p...</td>\n",
       "      <td>https://www.snopes.com/fact-check/cnn-same-ref...</td>\n",
       "      <td>false</td>\n",
       "      <td>NaN</td>\n",
       "      <td>ok</td>\n",
       "      <td>785149463413268480</td>\n",
       "      <td>{'cap': {'english': 0.7611878625273879, 'unive...</td>\n",
       "    </tr>\n",
       "    <tr>\n",
       "      <th>2987</th>\n",
       "      <td>851818307522973696</td>\n",
       "      <td>851794590415724544</td>\n",
       "      <td>Annual budget of the National Endowment for th...</td>\n",
       "      <td>https://twitter.com/POTUS/status/8518183075229...</td>\n",
       "      <td>Providing security for First Lady Melania Trum...</td>\n",
       "      <td>['https://www.snopes.com/tachyon/2018/03/ratin...</td>\n",
       "      <td>http://pbs.twimg.com/media/C9IuqehU0AA6VNz.jpg</td>\n",
       "      <td>NaN</td>\n",
       "      <td>https://www.snopes.com/fact-check/melania-trum...</td>\n",
       "      <td>unproven</td>\n",
       "      <td>NaN</td>\n",
       "      <td>ok</td>\n",
       "      <td>784890784273215488</td>\n",
       "      <td>{'cap': {'english': 0.7546218700467833, 'unive...</td>\n",
       "    </tr>\n",
       "    <tr>\n",
       "      <th>2988</th>\n",
       "      <td>852058180729413633</td>\n",
       "      <td>851914780914987010</td>\n",
       "      <td>#WhiteHelmets working w/victims of sarin gas  ...</td>\n",
       "      <td>https://twitter.com/POTUS/status/8520581807294...</td>\n",
       "      <td>The search-and-rescue organization in Syria, t...</td>\n",
       "      <td>['https://www.snopes.com/tachyon/2018/03/ratin...</td>\n",
       "      <td>http://pbs.twimg.com/media/C9KbKMiW0AMAadM.jpg</td>\n",
       "      <td>NaN</td>\n",
       "      <td>https://www.snopes.com/fact-check/syrian-rescu...</td>\n",
       "      <td>false</td>\n",
       "      <td>NaN</td>\n",
       "      <td>ok</td>\n",
       "      <td>282695161</td>\n",
       "      <td>{'cap': {'english': 0.793087009461318, 'univer...</td>\n",
       "    </tr>\n",
       "    <tr>\n",
       "      <th>2989</th>\n",
       "      <td>852315244336562176</td>\n",
       "      <td>851971479642263552</td>\n",
       "      <td>@anne_goldgar @simon_schama I honestly don't k...</td>\n",
       "      <td>https://twitter.com/POTUS/status/8523152443365...</td>\n",
       "      <td>In a botched attempt to clarify his previous s...</td>\n",
       "      <td>['https://www.snopes.com/tachyon/2018/03/ratin...</td>\n",
       "      <td>http://pbs.twimg.com/media/C9LO3XnUQAAEqsS.jpg</td>\n",
       "      <td>Press Secretary Sean Spicer 3 hrs The media ha...</td>\n",
       "      <td>https://www.snopes.com/fact-check/spicer-weapo...</td>\n",
       "      <td>false</td>\n",
       "      <td>NaN</td>\n",
       "      <td>missing</td>\n",
       "      <td>16622739</td>\n",
       "      <td>{'cap': {'english': 0.5027122940873614, 'unive...</td>\n",
       "    </tr>\n",
       "    <tr>\n",
       "      <th>2990</th>\n",
       "      <td>852585427034820609</td>\n",
       "      <td>851977156271976448</td>\n",
       "      <td>You know who else thought that Jews were not G...</td>\n",
       "      <td>https://twitter.com/POTUS/status/8525854270348...</td>\n",
       "      <td>In a botched attempt to clarify his previous s...</td>\n",
       "      <td>['https://www.snopes.com/tachyon/2018/03/ratin...</td>\n",
       "      <td>http://pbs.twimg.com/media/C9LUtI4XYAEUovx.jpg</td>\n",
       "      <td>Press Secretary Sean Spicer 6 hrs . e The medi...</td>\n",
       "      <td>https://www.snopes.com/fact-check/spicer-weapo...</td>\n",
       "      <td>false</td>\n",
       "      <td>NaN</td>\n",
       "      <td>ok</td>\n",
       "      <td>22879254</td>\n",
       "      <td>{'cap': {'english': 0.30618807248975083, 'univ...</td>\n",
       "    </tr>\n",
       "    <tr>\n",
       "      <th>2991</th>\n",
       "      <td>852115530165125120</td>\n",
       "      <td>852038216882372608</td>\n",
       "      <td>#OffendEveryoneIn4Words  ...I'd be dating her....</td>\n",
       "      <td>https://twitter.com/POTUS/status/8521155301651...</td>\n",
       "      <td>A photograph shows Ivanka Trump grinding on th...</td>\n",
       "      <td>['https://www.snopes.com/tachyon/2018/03/ratin...</td>\n",
       "      <td>http://pbs.twimg.com/media/C9MMPAKVwAMVmYg.jpg</td>\n",
       "      <td>NaN</td>\n",
       "      <td>https://www.snopes.com/fact-check/ivanka-trump...</td>\n",
       "      <td>mixture</td>\n",
       "      <td>NaN</td>\n",
       "      <td>ok</td>\n",
       "      <td>1640929196</td>\n",
       "      <td>{'code': 34, 'message': 'Sorry, that page does...</td>\n",
       "    </tr>\n",
       "    <tr>\n",
       "      <th>2992</th>\n",
       "      <td>852106092477767680</td>\n",
       "      <td>852062484827693056</td>\n",
       "      <td>Another WH fakery, same girl in three differen...</td>\n",
       "      <td>https://twitter.com/POTUS/status/8521060924777...</td>\n",
       "      <td>CNN was caught using photographs of the same g...</td>\n",
       "      <td>['https://www.snopes.com/tachyon/2018/03/ratin...</td>\n",
       "      <td>http://pbs.twimg.com/media/C9MiToZXYAAfcjk.jpg</td>\n",
       "      <td>NaN</td>\n",
       "      <td>https://www.snopes.com/fact-check/cnn-same-ref...</td>\n",
       "      <td>false</td>\n",
       "      <td>NaN</td>\n",
       "      <td>ok</td>\n",
       "      <td>1289954977</td>\n",
       "      <td>{'code': 34, 'message': 'Sorry, that page does...</td>\n",
       "    </tr>\n",
       "    <tr>\n",
       "      <th>2993</th>\n",
       "      <td>852295102684962817</td>\n",
       "      <td>852159615563378690</td>\n",
       "      <td>@joerogan Did you see this? Southwest airlines...</td>\n",
       "      <td>https://twitter.com/POTUS/status/8522951026849...</td>\n",
       "      <td>Southwest Airlines changed their slogan to cap...</td>\n",
       "      <td>['https://www.snopes.com/tachyon/2018/03/ratin...</td>\n",
       "      <td>http://pbs.twimg.com/media/C9N6poRW0AEkMXD.jpg</td>\n",
       "      <td>Southweste We beat the competition . Not you .</td>\n",
       "      <td>https://www.snopes.com/fact-check/southwest-ai...</td>\n",
       "      <td>false</td>\n",
       "      <td>NaN</td>\n",
       "      <td>missing</td>\n",
       "      <td>221797984</td>\n",
       "      <td>NaN</td>\n",
       "    </tr>\n",
       "    <tr>\n",
       "      <th>2994</th>\n",
       "      <td>852230036258205696</td>\n",
       "      <td>852218990789263360</td>\n",
       "      <td>@yzbeauty4him @TrumpLovePutin @Charlen92128804...</td>\n",
       "      <td>https://twitter.com/POTUS/status/8522300362582...</td>\n",
       "      <td>TV evangelist Pat Robertson described nude pho...</td>\n",
       "      <td>['https://www.snopes.com/tachyon/2018/03/ratin...</td>\n",
       "      <td>http://pbs.twimg.com/media/C9Owph9WsAQ2kdm.jpg</td>\n",
       "      <td>Pot Roberson comments on Michelle Otxvna's \" M...</td>\n",
       "      <td>https://www.snopes.com/fact-check/pat-robertso...</td>\n",
       "      <td>false</td>\n",
       "      <td>NaN</td>\n",
       "      <td>ok</td>\n",
       "      <td>787314168219176960</td>\n",
       "      <td>NaN</td>\n",
       "    </tr>\n",
       "    <tr>\n",
       "      <th>2995</th>\n",
       "      <td>852242215640457216</td>\n",
       "      <td>852238591484940289</td>\n",
       "      <td>Ronald Reagan when he first met Trump. https:/...</td>\n",
       "      <td>https://twitter.com/POTUS/status/8522422156404...</td>\n",
       "      <td>Ronald Reagan said he felt like he was shaking...</td>\n",
       "      <td>['https://www.snopes.com/tachyon/2018/03/ratin...</td>\n",
       "      <td>http://pbs.twimg.com/media/C9PCXNMXkAIHONx.jpg</td>\n",
       "      <td>Prophetic Reagan For the life of me , ' and I'...</td>\n",
       "      <td>https://www.snopes.com/fact-check/reagan-trump...</td>\n",
       "      <td>false</td>\n",
       "      <td>NaN</td>\n",
       "      <td>ok</td>\n",
       "      <td>2719597309</td>\n",
       "      <td>NaN</td>\n",
       "    </tr>\n",
       "    <tr>\n",
       "      <th>2996</th>\n",
       "      <td>852240452745142273</td>\n",
       "      <td>852238948046966785</td>\n",
       "      <td>Ben Carson trending 4 getting stuck in an elev...</td>\n",
       "      <td>https://twitter.com/POTUS/status/8522404527451...</td>\n",
       "      <td>HUD director Ben Carson found more than $500 b...</td>\n",
       "      <td>['https://www.snopes.com/tachyon/2018/03/ratin...</td>\n",
       "      <td>http://pbs.twimg.com/media/C9PCzbQWAAExtk5.jpg</td>\n",
       "      <td>ooo AT &amp; T 3:12 PM thetruthdivision.com MENU =...</td>\n",
       "      <td>https://www.snopes.com/fact-check/carson-hud-a...</td>\n",
       "      <td>mostly-false</td>\n",
       "      <td>NaN</td>\n",
       "      <td>ok</td>\n",
       "      <td>4427224377</td>\n",
       "      <td>NaN</td>\n",
       "    </tr>\n",
       "    <tr>\n",
       "      <th>2997</th>\n",
       "      <td>852346862552076289</td>\n",
       "      <td>852245457321504768</td>\n",
       "      <td>Donald at his finest doing to himself what he'...</td>\n",
       "      <td>https://twitter.com/POTUS/status/8523468625520...</td>\n",
       "      <td>A photograph shows Donald Trump with a diarrhe...</td>\n",
       "      <td>['https://www.snopes.com/tachyon/2018/03/ratin...</td>\n",
       "      <td>http://pbs.twimg.com/media/C9PIuQDUQAAtFJ1.jpg</td>\n",
       "      <td>NaN</td>\n",
       "      <td>https://www.snopes.com/fact-check/trump-diarrh...</td>\n",
       "      <td>false</td>\n",
       "      <td>NaN</td>\n",
       "      <td>ok</td>\n",
       "      <td>325414439</td>\n",
       "      <td>NaN</td>\n",
       "    </tr>\n",
       "    <tr>\n",
       "      <th>2998</th>\n",
       "      <td>852348237390282755</td>\n",
       "      <td>852258086454673408</td>\n",
       "      <td>That shitty fatty doing to himself what he's d...</td>\n",
       "      <td>https://twitter.com/POTUS/status/8523482373902...</td>\n",
       "      <td>A photograph shows Donald Trump with a diarrhe...</td>\n",
       "      <td>['https://www.snopes.com/tachyon/2018/03/ratin...</td>\n",
       "      <td>http://pbs.twimg.com/media/C9PUNaOUwAAf_rq.jpg</td>\n",
       "      <td>NaN</td>\n",
       "      <td>https://www.snopes.com/fact-check/trump-diarrh...</td>\n",
       "      <td>false</td>\n",
       "      <td>NaN</td>\n",
       "      <td>ok</td>\n",
       "      <td>836800363</td>\n",
       "      <td>NaN</td>\n",
       "    </tr>\n",
       "    <tr>\n",
       "      <th>2999</th>\n",
       "      <td>852362322853146624</td>\n",
       "      <td>852292939661402113</td>\n",
       "      <td>Try it,,, even if they protest and picket. htt...</td>\n",
       "      <td>https://twitter.com/POTUS/status/8523623228531...</td>\n",
       "      <td>Actor Bill Murray said in order to teach child...</td>\n",
       "      <td>['https://www.snopes.com/tachyon/2018/03/ratin...</td>\n",
       "      <td>http://pbs.twimg.com/media/C9Pz6UJWAAQhp4L.jpg</td>\n",
       "      <td>NaN</td>\n",
       "      <td>https://www.snopes.com/fact-check/bill-murray-...</td>\n",
       "      <td>false</td>\n",
       "      <td>NaN</td>\n",
       "      <td>ok</td>\n",
       "      <td>313460745</td>\n",
       "      <td>NaN</td>\n",
       "    </tr>\n",
       "  </tbody>\n",
       "</table>\n",
       "</div>"
      ],
      "text/plain": [
       "                      id         original_id  \\\n",
       "2980  851380310403108864  851369498351460352   \n",
       "2981  851512935176425472  851501829351501824   \n",
       "2982  851560765433806849  851555419457585153   \n",
       "2983  851580394663182337  851567595409088518   \n",
       "2984  851574095145828352  851573350342242304   \n",
       "2985  851729777727725568  851728536595345409   \n",
       "2986  885580034399850496  851753867989721088   \n",
       "2987  851818307522973696  851794590415724544   \n",
       "2988  852058180729413633  851914780914987010   \n",
       "2989  852315244336562176  851971479642263552   \n",
       "2990  852585427034820609  851977156271976448   \n",
       "2991  852115530165125120  852038216882372608   \n",
       "2992  852106092477767680  852062484827693056   \n",
       "2993  852295102684962817  852159615563378690   \n",
       "2994  852230036258205696  852218990789263360   \n",
       "2995  852242215640457216  852238591484940289   \n",
       "2996  852240452745142273  852238948046966785   \n",
       "2997  852346862552076289  852245457321504768   \n",
       "2998  852348237390282755  852258086454673408   \n",
       "2999  852362322853146624  852292939661402113   \n",
       "\n",
       "                                             tweet_text  \\\n",
       "2980  IF TOMAHAWK MISSLES ARE AROUND A $1M EACH, WHY...   \n",
       "2981     United #UnitedAirlines https://t.co/GzXudvd9BD   \n",
       "2982  Honestly- I'm not a hateful person, but I hope...   \n",
       "2983  @realDonaldTrump Were the crossed fingers behi...   \n",
       "2984  Now how do you teach a squirrel anything, oh I...   \n",
       "2985  And the Australian Govt awards a $2b missile c...   \n",
       "2986  When CNN Uses The Same Girl In 3 Different Ref...   \n",
       "2987  Annual budget of the National Endowment for th...   \n",
       "2988  #WhiteHelmets working w/victims of sarin gas  ...   \n",
       "2989  @anne_goldgar @simon_schama I honestly don't k...   \n",
       "2990  You know who else thought that Jews were not G...   \n",
       "2991  #OffendEveryoneIn4Words  ...I'd be dating her....   \n",
       "2992  Another WH fakery, same girl in three differen...   \n",
       "2993  @joerogan Did you see this? Southwest airlines...   \n",
       "2994  @yzbeauty4him @TrumpLovePutin @Charlen92128804...   \n",
       "2995  Ronald Reagan when he first met Trump. https:/...   \n",
       "2996  Ben Carson trending 4 getting stuck in an elev...   \n",
       "2997  Donald at his finest doing to himself what he'...   \n",
       "2998  That shitty fatty doing to himself what he's d...   \n",
       "2999  Try it,,, even if they protest and picket. htt...   \n",
       "\n",
       "                                              tweet_url  \\\n",
       "2980  https://twitter.com/POTUS/status/8513803104031...   \n",
       "2981  https://twitter.com/POTUS/status/8515129351764...   \n",
       "2982  https://twitter.com/POTUS/status/8515607654338...   \n",
       "2983  https://twitter.com/POTUS/status/8515803946631...   \n",
       "2984  https://twitter.com/POTUS/status/8515740951458...   \n",
       "2985  https://twitter.com/POTUS/status/8517297777277...   \n",
       "2986  https://twitter.com/POTUS/status/8855800343998...   \n",
       "2987  https://twitter.com/POTUS/status/8518183075229...   \n",
       "2988  https://twitter.com/POTUS/status/8520581807294...   \n",
       "2989  https://twitter.com/POTUS/status/8523152443365...   \n",
       "2990  https://twitter.com/POTUS/status/8525854270348...   \n",
       "2991  https://twitter.com/POTUS/status/8521155301651...   \n",
       "2992  https://twitter.com/POTUS/status/8521060924777...   \n",
       "2993  https://twitter.com/POTUS/status/8522951026849...   \n",
       "2994  https://twitter.com/POTUS/status/8522300362582...   \n",
       "2995  https://twitter.com/POTUS/status/8522422156404...   \n",
       "2996  https://twitter.com/POTUS/status/8522404527451...   \n",
       "2997  https://twitter.com/POTUS/status/8523468625520...   \n",
       "2998  https://twitter.com/POTUS/status/8523482373902...   \n",
       "2999  https://twitter.com/POTUS/status/8523623228531...   \n",
       "\n",
       "                                                  claim  \\\n",
       "2980  CNN was caught using photographs of the same g...   \n",
       "2981  United Airlines will begin charging for overhe...   \n",
       "2982  Whoopi Goldberg said that \"military widows lov...   \n",
       "2983  Neil Gorsuch called for the \"advancement of th...   \n",
       "2984  A woman was arrested for training squirrels to...   \n",
       "2985  President Trump owns stock in Raytheon and dir...   \n",
       "2986  CNN was caught using photographs of the same g...   \n",
       "2987  Providing security for First Lady Melania Trum...   \n",
       "2988  The search-and-rescue organization in Syria, t...   \n",
       "2989  In a botched attempt to clarify his previous s...   \n",
       "2990  In a botched attempt to clarify his previous s...   \n",
       "2991  A photograph shows Ivanka Trump grinding on th...   \n",
       "2992  CNN was caught using photographs of the same g...   \n",
       "2993  Southwest Airlines changed their slogan to cap...   \n",
       "2994  TV evangelist Pat Robertson described nude pho...   \n",
       "2995  Ronald Reagan said he felt like he was shaking...   \n",
       "2996  HUD director Ben Carson found more than $500 b...   \n",
       "2997  A photograph shows Donald Trump with a diarrhe...   \n",
       "2998  A photograph shows Donald Trump with a diarrhe...   \n",
       "2999  Actor Bill Murray said in order to teach child...   \n",
       "\n",
       "                                                 rating  \\\n",
       "2980  ['https://www.snopes.com/tachyon/2018/03/ratin...   \n",
       "2981  ['https://www.snopes.com/tachyon/2018/03/ratin...   \n",
       "2982  ['https://www.snopes.com/tachyon/2018/03/ratin...   \n",
       "2983  ['https://www.snopes.com/tachyon/2018/03/ratin...   \n",
       "2984  ['https://www.snopes.com/tachyon/2018/03/ratin...   \n",
       "2985  ['https://www.snopes.com/tachyon/2018/03/ratin...   \n",
       "2986  ['https://www.snopes.com/tachyon/2018/03/ratin...   \n",
       "2987  ['https://www.snopes.com/tachyon/2018/03/ratin...   \n",
       "2988  ['https://www.snopes.com/tachyon/2018/03/ratin...   \n",
       "2989  ['https://www.snopes.com/tachyon/2018/03/ratin...   \n",
       "2990  ['https://www.snopes.com/tachyon/2018/03/ratin...   \n",
       "2991  ['https://www.snopes.com/tachyon/2018/03/ratin...   \n",
       "2992  ['https://www.snopes.com/tachyon/2018/03/ratin...   \n",
       "2993  ['https://www.snopes.com/tachyon/2018/03/ratin...   \n",
       "2994  ['https://www.snopes.com/tachyon/2018/03/ratin...   \n",
       "2995  ['https://www.snopes.com/tachyon/2018/03/ratin...   \n",
       "2996  ['https://www.snopes.com/tachyon/2018/03/ratin...   \n",
       "2997  ['https://www.snopes.com/tachyon/2018/03/ratin...   \n",
       "2998  ['https://www.snopes.com/tachyon/2018/03/ratin...   \n",
       "2999  ['https://www.snopes.com/tachyon/2018/03/ratin...   \n",
       "\n",
       "                                              images  \\\n",
       "2980  http://pbs.twimg.com/media/C9CsB6uXoAEaorL.jpg   \n",
       "2981  http://pbs.twimg.com/media/C9EkZW-WsAAXsa-.jpg   \n",
       "2982  http://pbs.twimg.com/media/C9FVIyjVYAA6ZV6.jpg   \n",
       "2983  http://pbs.twimg.com/media/C9Ff_ZjXsAAp0EG.jpg   \n",
       "2984  http://pbs.twimg.com/media/C9FlcdkVoAEzlwt.jpg   \n",
       "2985  http://pbs.twimg.com/media/C9HykJAUMAA-LTi.jpg   \n",
       "2986  http://pbs.twimg.com/media/C9IJlbHUIAA7Hzr.jpg   \n",
       "2987  http://pbs.twimg.com/media/C9IuqehU0AA6VNz.jpg   \n",
       "2988  http://pbs.twimg.com/media/C9KbKMiW0AMAadM.jpg   \n",
       "2989  http://pbs.twimg.com/media/C9LO3XnUQAAEqsS.jpg   \n",
       "2990  http://pbs.twimg.com/media/C9LUtI4XYAEUovx.jpg   \n",
       "2991  http://pbs.twimg.com/media/C9MMPAKVwAMVmYg.jpg   \n",
       "2992  http://pbs.twimg.com/media/C9MiToZXYAAfcjk.jpg   \n",
       "2993  http://pbs.twimg.com/media/C9N6poRW0AEkMXD.jpg   \n",
       "2994  http://pbs.twimg.com/media/C9Owph9WsAQ2kdm.jpg   \n",
       "2995  http://pbs.twimg.com/media/C9PCXNMXkAIHONx.jpg   \n",
       "2996  http://pbs.twimg.com/media/C9PCzbQWAAExtk5.jpg   \n",
       "2997  http://pbs.twimg.com/media/C9PIuQDUQAAtFJ1.jpg   \n",
       "2998  http://pbs.twimg.com/media/C9PUNaOUwAAf_rq.jpg   \n",
       "2999  http://pbs.twimg.com/media/C9Pz6UJWAAQhp4L.jpg   \n",
       "\n",
       "                                            text_images  \\\n",
       "2980                                                NaN   \n",
       "2981  United Airlines just announced they will now b...   \n",
       "2982  .. JTHWITH JONES \" She was just looking for at...   \n",
       "2983  MakAusGr 8Again @user . Agaln Follow @user Ano...   \n",
       "2984  woMAN ARRESTED FOR TRAINING SQUIRRELS TO ATTAC...   \n",
       "2985  Meanwhile , the stocks of the military contrac...   \n",
       "2986  men CNN ugg game In 3 dffaent Refugee Crigig p...   \n",
       "2987                                                NaN   \n",
       "2988                                                NaN   \n",
       "2989  Press Secretary Sean Spicer 3 hrs The media ha...   \n",
       "2990  Press Secretary Sean Spicer 6 hrs . e The medi...   \n",
       "2991                                                NaN   \n",
       "2992                                                NaN   \n",
       "2993     Southweste We beat the competition . Not you .   \n",
       "2994  Pot Roberson comments on Michelle Otxvna's \" M...   \n",
       "2995  Prophetic Reagan For the life of me , ' and I'...   \n",
       "2996  ooo AT & T 3:12 PM thetruthdivision.com MENU =...   \n",
       "2997                                                NaN   \n",
       "2998                                                NaN   \n",
       "2999                                                NaN   \n",
       "\n",
       "                                                 source         label  \\\n",
       "2980  https://www.snopes.com/fact-check/cnn-same-ref...         false   \n",
       "2981  https://www.snopes.com/fact-check/united-airli...  mostly-false   \n",
       "2982  https://www.snopes.com/fact-check/whoopi-goldb...         false   \n",
       "2983  https://www.snopes.com/fact-check/neil-gorsuch...         false   \n",
       "2984  https://www.snopes.com/fact-check/attack-squir...         false   \n",
       "2985  https://www.snopes.com/fact-check/trump-raythe...      unproven   \n",
       "2986  https://www.snopes.com/fact-check/cnn-same-ref...         false   \n",
       "2987  https://www.snopes.com/fact-check/melania-trum...      unproven   \n",
       "2988  https://www.snopes.com/fact-check/syrian-rescu...         false   \n",
       "2989  https://www.snopes.com/fact-check/spicer-weapo...         false   \n",
       "2990  https://www.snopes.com/fact-check/spicer-weapo...         false   \n",
       "2991  https://www.snopes.com/fact-check/ivanka-trump...       mixture   \n",
       "2992  https://www.snopes.com/fact-check/cnn-same-ref...         false   \n",
       "2993  https://www.snopes.com/fact-check/southwest-ai...         false   \n",
       "2994  https://www.snopes.com/fact-check/pat-robertso...         false   \n",
       "2995  https://www.snopes.com/fact-check/reagan-trump...         false   \n",
       "2996  https://www.snopes.com/fact-check/carson-hud-a...  mostly-false   \n",
       "2997  https://www.snopes.com/fact-check/trump-diarrh...         false   \n",
       "2998  https://www.snopes.com/fact-check/trump-diarrh...         false   \n",
       "2999  https://www.snopes.com/fact-check/bill-murray-...         false   \n",
       "\n",
       "      label_info available              acc_id  \\\n",
       "2980         NaN        ok           113423108   \n",
       "2981         NaN        ok  794706601676591104   \n",
       "2982         NaN        ok            59435428   \n",
       "2983         NaN        ok          3306164498   \n",
       "2984         NaN   missing           257715213   \n",
       "2985         NaN        ok           285431964   \n",
       "2986         NaN        ok  785149463413268480   \n",
       "2987         NaN        ok  784890784273215488   \n",
       "2988         NaN        ok           282695161   \n",
       "2989         NaN   missing            16622739   \n",
       "2990         NaN        ok            22879254   \n",
       "2991         NaN        ok          1640929196   \n",
       "2992         NaN        ok          1289954977   \n",
       "2993         NaN   missing           221797984   \n",
       "2994         NaN        ok  787314168219176960   \n",
       "2995         NaN        ok          2719597309   \n",
       "2996         NaN        ok          4427224377   \n",
       "2997         NaN        ok           325414439   \n",
       "2998         NaN        ok           836800363   \n",
       "2999         NaN        ok           313460745   \n",
       "\n",
       "                                              botometer  \n",
       "2980  {'cap': {'english': 0.8076035454448582, 'unive...  \n",
       "2981  {'code': 34, 'message': 'Sorry, that page does...  \n",
       "2982  {'cap': {'english': 0.30618807248975083, 'univ...  \n",
       "2983  {'cap': {'english': 0.4756769663222349, 'unive...  \n",
       "2984  {'cap': {'english': 0.8054784364249085, 'unive...  \n",
       "2985  {'cap': {'english': 0.659646495284545, 'univer...  \n",
       "2986  {'cap': {'english': 0.7611878625273879, 'unive...  \n",
       "2987  {'cap': {'english': 0.7546218700467833, 'unive...  \n",
       "2988  {'cap': {'english': 0.793087009461318, 'univer...  \n",
       "2989  {'cap': {'english': 0.5027122940873614, 'unive...  \n",
       "2990  {'cap': {'english': 0.30618807248975083, 'univ...  \n",
       "2991  {'code': 34, 'message': 'Sorry, that page does...  \n",
       "2992  {'code': 34, 'message': 'Sorry, that page does...  \n",
       "2993                                                NaN  \n",
       "2994                                                NaN  \n",
       "2995                                                NaN  \n",
       "2996                                                NaN  \n",
       "2997                                                NaN  \n",
       "2998                                                NaN  \n",
       "2999                                                NaN  "
      ]
     },
     "execution_count": 23,
     "metadata": {},
     "output_type": "execute_result"
    }
   ],
   "source": [
    "df.iloc[2980:3000]"
   ]
  },
  {
   "cell_type": "code",
   "execution_count": 122,
   "metadata": {},
   "outputs": [
    {
     "data": {
      "text/plain": [
       "9300262"
      ]
     },
     "execution_count": 122,
     "metadata": {},
     "output_type": "execute_result"
    }
   ],
   "source": [
    "accounts[407]"
   ]
  },
  {
   "cell_type": "code",
   "execution_count": 120,
   "metadata": {},
   "outputs": [
    {
     "data": {
      "text/plain": [
       "584177882"
      ]
     },
     "execution_count": 120,
     "metadata": {},
     "output_type": "execute_result"
    }
   ],
   "source": [
    "snopes_acc.loc[406].acc_id"
   ]
  },
  {
   "cell_type": "code",
   "execution_count": 125,
   "metadata": {},
   "outputs": [
    {
     "data": {
      "text/plain": [
       "[9300262,\n",
       " 721185346797572096,\n",
       " 67899097,\n",
       " 2499109494,\n",
       " 2796929687,\n",
       " 292929271,\n",
       " 2269567158,\n",
       " 2393098723,\n",
       " 709920419529281536,\n",
       " 4784596178,\n",
       " 4236806414,\n",
       " 494624290,\n",
       " 561654065,\n",
       " 1599141961,\n",
       " 17860906,\n",
       " 2839030037,\n",
       " 4226960114,\n",
       " 743688372460216320,\n",
       " 118496889,\n",
       " 2915156131,\n",
       " 166329578,\n",
       " 4676548814,\n",
       " 4197546072,\n",
       " 88494677,\n",
       " 608471241,\n",
       " 608471241,\n",
       " 325164172,\n",
       " 26672170,\n",
       " 177584156,\n",
       " 2801177472,\n",
       " 95995039,\n",
       " 126009130,\n",
       " 126009130,\n",
       " 399774230,\n",
       " 972255098,\n",
       " 1917731,\n",
       " 65854394,\n",
       " 741589503102570496,\n",
       " 1917731,\n",
       " 2244290719,\n",
       " 701655880920510464,\n",
       " 2793194082,\n",
       " 18301196,\n",
       " 1496756359,\n",
       " 430118889,\n",
       " 15164565,\n",
       " 3697285157,\n",
       " 2923563766,\n",
       " 2923563766,\n",
       " 1375629385,\n",
       " 1325018372,\n",
       " 25975551,\n",
       " 22722452,\n",
       " 374284455,\n",
       " 49035775,\n",
       " 48421473,\n",
       " 428713002,\n",
       " 3407847574,\n",
       " 18545481,\n",
       " 15164565,\n",
       " 47652227,\n",
       " 78523300,\n",
       " 361275163,\n",
       " 495622651,\n",
       " 19098324,\n",
       " 421275603,\n",
       " 177584156,\n",
       " 361275163,\n",
       " 28905454,\n",
       " 15164565,\n",
       " 4429709805,\n",
       " 1496756359,\n",
       " 766797410,\n",
       " 15164565,\n",
       " 548172120,\n",
       " 2241227238,\n",
       " 15164565,\n",
       " 30456403,\n",
       " 248692627,\n",
       " 28048355,\n",
       " 18545481,\n",
       " 1917731,\n",
       " 138742761,\n",
       " 289118612,\n",
       " 15706904,\n",
       " 865636782,\n",
       " 2291904432,\n",
       " 3103091745,\n",
       " 3047937393,\n",
       " 167796615,\n",
       " 14511951,\n",
       " 49452556,\n",
       " 3974665634,\n",
       " 1018491630,\n",
       " 537904539,\n",
       " 2374469136,\n",
       " 3433022621,\n",
       " 585465795,\n",
       " 2883533651,\n",
       " 16955991,\n",
       " 547969112,\n",
       " 272114651,\n",
       " 936148682,\n",
       " 728635523816775680,\n",
       " 547969112,\n",
       " 67899097,\n",
       " 547969112,\n",
       " 3047377314,\n",
       " 759179340307243008,\n",
       " 1367531,\n",
       " 361275163,\n",
       " 399717630,\n",
       " 9369062,\n",
       " 762252876,\n",
       " 582135529,\n",
       " 851866178,\n",
       " 608471241,\n",
       " 331825712,\n",
       " 733808069440741376,\n",
       " 3995778614,\n",
       " 3390416469,\n",
       " 1367531,\n",
       " 754135908,\n",
       " 890302164,\n",
       " 81602176,\n",
       " 728979362775638016,\n",
       " 553998793,\n",
       " 157054921,\n",
       " 2255424079,\n",
       " 547969112,\n",
       " 2875990472,\n",
       " 2316246829,\n",
       " 758313715695427584,\n",
       " 758313715695427584,\n",
       " 25446957,\n",
       " 86963075,\n",
       " 715357604961263616,\n",
       " 140638292,\n",
       " 2801177472,\n",
       " 2801177472,\n",
       " 1976799128,\n",
       " 421460415,\n",
       " 2775579278,\n",
       " 3974665634,\n",
       " 1482516500,\n",
       " 750399805851963392,\n",
       " 43413425,\n",
       " 43308598,\n",
       " 3066008697,\n",
       " 18195110,\n",
       " 40246348,\n",
       " 2793800587,\n",
       " 802722056,\n",
       " 43308598,\n",
       " 402985469,\n",
       " 4897543230,\n",
       " 865538113,\n",
       " 2972410695,\n",
       " 2998466930,\n",
       " 4182512297,\n",
       " 30067748,\n",
       " 71359942,\n",
       " 277090518,\n",
       " 65003619,\n",
       " 753806066052235264,\n",
       " 705333567543504896,\n",
       " 2998441830,\n",
       " 3308110350,\n",
       " 4796678896,\n",
       " 2441304533,\n",
       " 561654065,\n",
       " 3034834939,\n",
       " 261035490,\n",
       " 4851276082,\n",
       " 370513594,\n",
       " 15854008,\n",
       " 2226870793,\n",
       " 971176056,\n",
       " 4240150034,\n",
       " 561654065,\n",
       " 332433520,\n",
       " 2416597188,\n",
       " 2416597188,\n",
       " 17094311,\n",
       " 543452426,\n",
       " 4846395737,\n",
       " 3220025137,\n",
       " 753753493622628352,\n",
       " 18002528,\n",
       " 16444868,\n",
       " 3433002136,\n",
       " 743651896578060288,\n",
       " 21833728,\n",
       " 50010587,\n",
       " 835328618,\n",
       " 297457814,\n",
       " 620872388,\n",
       " 3139537490,\n",
       " 60370335,\n",
       " 1225818590,\n",
       " 234841289,\n",
       " 2891102076,\n",
       " 702174406739685376,\n",
       " 57912099,\n",
       " 732445833682018304,\n",
       " 732445833682018304,\n",
       " 2904671027,\n",
       " 322674930,\n",
       " 65003619,\n",
       " 4543053312,\n",
       " 42158021,\n",
       " 279208035,\n",
       " 180511021,\n",
       " 311241090,\n",
       " 15359578,\n",
       " 20826129,\n",
       " 4700477725,\n",
       " 371142734,\n",
       " 24638062,\n",
       " 45291573,\n",
       " 552410408,\n",
       " 20295763,\n",
       " 1564676498,\n",
       " 17343602,\n",
       " 552983877,\n",
       " 18561223,\n",
       " 14787713,\n",
       " 1568498256,\n",
       " 752493806,\n",
       " 516093774,\n",
       " 28905454,\n",
       " 2747259456,\n",
       " 224268822,\n",
       " 17232340,\n",
       " 3359243787,\n",
       " 75974281,\n",
       " 233933230,\n",
       " 233933230,\n",
       " 479068816,\n",
       " 2892976359,\n",
       " 19908848,\n",
       " 4237277387,\n",
       " 3359243787,\n",
       " 284104234,\n",
       " 3592503441,\n",
       " 905530344,\n",
       " 19899980,\n",
       " 600061917,\n",
       " 221452291,\n",
       " 4765012532,\n",
       " 15671833,\n",
       " 1530853626,\n",
       " 24395228,\n",
       " 343171160,\n",
       " 2908170952,\n",
       " 251913645,\n",
       " 709920419529281536,\n",
       " 431198790,\n",
       " 90285099,\n",
       " 2299826742,\n",
       " 142077688,\n",
       " 1213274119,\n",
       " 608471241,\n",
       " 561654065,\n",
       " 15368940,\n",
       " 2740452163,\n",
       " 25446957,\n",
       " 70773048,\n",
       " 706176697440276480,\n",
       " 759251,\n",
       " 50881405,\n",
       " 1356123823,\n",
       " 716260246109483008,\n",
       " 3202808548,\n",
       " 150059501,\n",
       " 565008398,\n",
       " 56192739,\n",
       " 751095331408973824,\n",
       " 2900220088,\n",
       " 1652687708,\n",
       " 704034081898668032,\n",
       " 37315032,\n",
       " 632171886,\n",
       " 124199238,\n",
       " 3589464580,\n",
       " 542962969,\n",
       " 2421067430,\n",
       " 704363061013057536,\n",
       " 2910776820,\n",
       " 1096411117,\n",
       " 3124454195,\n",
       " 4760647532,\n",
       " 38367188,\n",
       " 605448008,\n",
       " 83788240,\n",
       " 374284455,\n",
       " 22798141,\n",
       " 2818206308,\n",
       " 2382281029,\n",
       " 415256606,\n",
       " 1966026648,\n",
       " 893470729,\n",
       " 2953422203,\n",
       " 167363471,\n",
       " 291874773,\n",
       " 44103717,\n",
       " 28670599,\n",
       " 739567626511388672,\n",
       " 200656602,\n",
       " 31801993,\n",
       " 703230673776197632,\n",
       " 146928495,\n",
       " 729096352676782080,\n",
       " 1643634444,\n",
       " 246377722,\n",
       " 3407847574,\n",
       " 21845346,\n",
       " 385075625,\n",
       " 29465136,\n",
       " 13148382,\n",
       " 4851276082,\n",
       " 3416492723,\n",
       " 3359243787,\n",
       " 9611592,\n",
       " 739080916610342912,\n",
       " 34367582,\n",
       " 28007091,\n",
       " 3124454195,\n",
       " 26579739,\n",
       " 76373,\n",
       " 758049168690642944,\n",
       " 963176808,\n",
       " 19193016,\n",
       " 3381686297,\n",
       " 93493910,\n",
       " 3313143320,\n",
       " 2610081858,\n",
       " 4646073148,\n",
       " 344729527,\n",
       " 32951070,\n",
       " 37013920,\n",
       " 23116280,\n",
       " 25197377,\n",
       " 33228837,\n",
       " 4242905298,\n",
       " 18637247,\n",
       " 714949505720823808,\n",
       " 872954089,\n",
       " 437352926,\n",
       " 23004495,\n",
       " 4361249533,\n",
       " 156377910,\n",
       " 4452560741,\n",
       " 273951517,\n",
       " 264493607,\n",
       " 760130823374843904,\n",
       " 118845216,\n",
       " 232333397,\n",
       " 414873541,\n",
       " 3723723982,\n",
       " 824391878,\n",
       " 450213974,\n",
       " 890302164,\n",
       " 29059784,\n",
       " 709144993,\n",
       " 15104164,\n",
       " 289118612,\n",
       " 3314963469,\n",
       " 21833728,\n",
       " 796261392,\n",
       " 227010728,\n",
       " 196109220,\n",
       " 582414351,\n",
       " 340968277,\n",
       " 1969346438,\n",
       " 13804112,\n",
       " 739567626511388672,\n",
       " 835328618,\n",
       " 164523117,\n",
       " 446228264,\n",
       " 39344374,\n",
       " 757749684580519936,\n",
       " 515542297,\n",
       " 41265813,\n",
       " 78523300,\n",
       " 18643437,\n",
       " 232201971,\n",
       " 801071388,\n",
       " 3539755636,\n",
       " 1367531,\n",
       " 1564676498,\n",
       " 4901489212,\n",
       " 704034081898668032,\n",
       " 22630309,\n",
       " 46520074,\n",
       " 17895820,\n",
       " 14412533,\n",
       " 1917731,\n",
       " 1080576949,\n",
       " 492833134,\n",
       " 65132037,\n",
       " 1735546184,\n",
       " 765091605472698368,\n",
       " 743142244706848768,\n",
       " 107012365,\n",
       " 237623215,\n",
       " 865187658,\n",
       " 621110318,\n",
       " 25197377,\n",
       " 739567626511388672,\n",
       " 1462579488,\n",
       " 430905373,\n",
       " 20854637,\n",
       " 25832979,\n",
       " 1200713864,\n",
       " 758809594936238080,\n",
       " 758809594936238080,\n",
       " 374284455,\n",
       " 25197377,\n",
       " 172394944,\n",
       " 910332056,\n",
       " 34163521,\n",
       " 1537048512,\n",
       " 715650695647637504,\n",
       " 1513958744,\n",
       " 727578244841639936,\n",
       " 713832622808412160,\n",
       " 4855687055,\n",
       " 3558102739,\n",
       " 695365245376696320,\n",
       " 28869089,\n",
       " 54065567,\n",
       " 54065567,\n",
       " 746367431388585984,\n",
       " 746367431388585984,\n",
       " 3166217539,\n",
       " 3329997245,\n",
       " 765091605472698368,\n",
       " 317223956,\n",
       " 1849938847,\n",
       " 1148951203,\n",
       " 138581916,\n",
       " 2953617710,\n",
       " 49685124,\n",
       " 169536421,\n",
       " 3124454195,\n",
       " 2830167800,\n",
       " 141642957,\n",
       " 710829502843064320,\n",
       " 30265457,\n",
       " 561654065,\n",
       " 16887175,\n",
       " 730786518848159744,\n",
       " 22677397,\n",
       " 2353703503,\n",
       " 21248626,\n",
       " 17395207,\n",
       " 144130505,\n",
       " 17529294,\n",
       " 52801677,\n",
       " 742923442471763968,\n",
       " 3697721113,\n",
       " 2584482763,\n",
       " 20944649,\n",
       " 773520163396325376,\n",
       " 20889358,\n",
       " 67095221,\n",
       " 767036004,\n",
       " 765091605472698368,\n",
       " 176914461,\n",
       " 78569026,\n",
       " 331747494,\n",
       " 2316246829,\n",
       " 361275163,\n",
       " 2364837974,\n",
       " 1242465014,\n",
       " 289118612,\n",
       " 568143078,\n",
       " 758313715695427584,\n",
       " 18195110,\n",
       " 765091605472698368,\n",
       " 1289704663,\n",
       " 754086125917106176,\n",
       " 1371572360,\n",
       " 769297227957141504,\n",
       " 3610264154,\n",
       " 27211961,\n",
       " 723387344175296512,\n",
       " 151375368,\n",
       " 767587128524013568,\n",
       " 35677844,\n",
       " 936304345,\n",
       " 19195442,\n",
       " 744281884310405120,\n",
       " 3389134989,\n",
       " 3019417439,\n",
       " 10735392,\n",
       " 3362345172,\n",
       " 33388399,\n",
       " 341688336,\n",
       " 231641765,\n",
       " 3394911915,\n",
       " 2902031256,\n",
       " 3297022953,\n",
       " 455288410,\n",
       " 219815601,\n",
       " 374284455,\n",
       " 2684196134,\n",
       " 865636782,\n",
       " 126009130,\n",
       " 126009130,\n",
       " 126009130,\n",
       " 126009130,\n",
       " 126009130,\n",
       " 126009130,\n",
       " 126009130,\n",
       " 126009130,\n",
       " 126009130,\n",
       " 126009130,\n",
       " 126009130,\n",
       " 126009130,\n",
       " 126009130,\n",
       " 126009130,\n",
       " 126009130,\n",
       " 126009130,\n",
       " 126009130,\n",
       " 126009130,\n",
       " 126009130,\n",
       " 325893346,\n",
       " 126009130,\n",
       " 126009130,\n",
       " 126009130,\n",
       " 126009130,\n",
       " 126009130,\n",
       " 126009130,\n",
       " 126009130,\n",
       " 126009130,\n",
       " 18132806,\n",
       " 3057650044,\n",
       " 972651,\n",
       " 865636782,\n",
       " 1353347065,\n",
       " 767587128524013568,\n",
       " 3686488635,\n",
       " 3002739417,\n",
       " 1183779272,\n",
       " 1309391066,\n",
       " 4334047641,\n",
       " 42371615,\n",
       " 3930608896,\n",
       " 21773704,\n",
       " 399774230,\n",
       " 758076297876602880,\n",
       " 2911587582,\n",
       " 735624304050593792,\n",
       " 4240150034,\n",
       " 16674128,\n",
       " 14441020,\n",
       " 30265457,\n",
       " 1326707346,\n",
       " 908933376,\n",
       " 124185033,\n",
       " 2451462137,\n",
       " 2417586104,\n",
       " 2344571893,\n",
       " 3340267793,\n",
       " 902851051,\n",
       " 1339835893,\n",
       " 36196526,\n",
       " 6563122,\n",
       " 4345493055,\n",
       " 1851877248,\n",
       " 90573210,\n",
       " 118845216,\n",
       " 172032623,\n",
       " 2786693552,\n",
       " 755726522,\n",
       " 2788642796,\n",
       " 340660967,\n",
       " 22141405,\n",
       " 4194141941,\n",
       " 115772421,\n",
       " 22714413,\n",
       " 97082147,\n",
       " 63514682,\n",
       " 1027392638,\n",
       " 259509924,\n",
       " 762658215850971136,\n",
       " 214112621,\n",
       " 15511737,\n",
       " 758313715695427584,\n",
       " 20065936,\n",
       " 704795920433414144,\n",
       " 116949923,\n",
       " 4922951833,\n",
       " 2959654959,\n",
       " 27680579,\n",
       " 167411983,\n",
       " 3253946096,\n",
       " 102569776,\n",
       " 1220140158,\n",
       " 704034081898668032,\n",
       " 704743208044118016,\n",
       " 2220165991,\n",
       " 5514192,\n",
       " 567823476,\n",
       " 1419413276,\n",
       " 3229949515,\n",
       " 4236806414,\n",
       " 123699851,\n",
       " 3220025137,\n",
       " 3416492723,\n",
       " 33529092,\n",
       " 181249422,\n",
       " 3050742101,\n",
       " 2333546774,\n",
       " 14511951,\n",
       " 3411313300,\n",
       " 1917731,\n",
       " 741998561689251840,\n",
       " 237845487,\n",
       " 23398898,\n",
       " 246939630,\n",
       " 2836421,\n",
       " 38955690,\n",
       " 19847765,\n",
       " 2525675331,\n",
       " 18643437,\n",
       " 257797355,\n",
       " 3290191140,\n",
       " 2891459376,\n",
       " 3434574681,\n",
       " 16589206,\n",
       " 2220656158,\n",
       " 48101103,\n",
       " 48101103,\n",
       " 48101103,\n",
       " 48101103,\n",
       " 48101103,\n",
       " 718571477772075008,\n",
       " 18643437,\n",
       " 18643437,\n",
       " 37690914,\n",
       " 49318764,\n",
       " 534516052,\n",
       " 754720098393272320,\n",
       " 4087647976,\n",
       " 2670627368,\n",
       " 767587128524013568,\n",
       " 1332367184,\n",
       " 107012365,\n",
       " 16910746,\n",
       " 1159026354,\n",
       " 48101103,\n",
       " 709036196941459456,\n",
       " 18154797,\n",
       " 11912362,\n",
       " 746413996304015360,\n",
       " 500243950,\n",
       " 14093404,\n",
       " 4551929255,\n",
       " 3784467913,\n",
       " 236657980,\n",
       " 101298165,\n",
       " 714949505720823808,\n",
       " 4273837226,\n",
       " 2562270259,\n",
       " 39308549,\n",
       " 2917559867,\n",
       " 737602729,\n",
       " 4236806414,\n",
       " 3096393734,\n",
       " 85990330,\n",
       " 770759270,\n",
       " 149679293,\n",
       " 380285402,\n",
       " 756880499881103360,\n",
       " 1640929196,\n",
       " 371142734,\n",
       " 242618658,\n",
       " 2391736411,\n",
       " 634242289,\n",
       " 744920442,\n",
       " 18787733,\n",
       " 2386693961,\n",
       " 3756112462,\n",
       " 2349012840,\n",
       " 741977462028926976,\n",
       " 20849008,\n",
       " 1653051,\n",
       " 39000115,\n",
       " 253940881,\n",
       " 289118612,\n",
       " 4182138315,\n",
       " 2203686183,\n",
       " 14792263,\n",
       " 289118612,\n",
       " 61526430,\n",
       " 108713959,\n",
       " 2601795218,\n",
       " 741334289376116736,\n",
       " 2262908824,\n",
       " 2902031256,\n",
       " 534567942,\n",
       " 118845216,\n",
       " 16589206,\n",
       " 762750852247396352,\n",
       " 745514486631542784,\n",
       " 756897488657715200,\n",
       " 3253885297,\n",
       " 492833134,\n",
       " 3096964498,\n",
       " 757214917036474368,\n",
       " 3328878194,\n",
       " 88237533,\n",
       " 18787733,\n",
       " 40164923,\n",
       " 16589206,\n",
       " 1652541,\n",
       " 44688778,\n",
       " 3818784613,\n",
       " 74913349,\n",
       " 78523300,\n",
       " 144001050,\n",
       " 769633840356728832,\n",
       " 40164923,\n",
       " 2649507198,\n",
       " 731240208952262656,\n",
       " 3384693167,\n",
       " 296610784,\n",
       " 18787733,\n",
       " 562261824,\n",
       " 462487731,\n",
       " 765357788,\n",
       " 104914594,\n",
       " 14000592,\n",
       " 118845216,\n",
       " 480435113,\n",
       " 3338779876,\n",
       " 197662233,\n",
       " 61008839,\n",
       " 841039189,\n",
       " 2840452198,\n",
       " 2840452198,\n",
       " 67899097,\n",
       " 52136185,\n",
       " 730141801881853952,\n",
       " 18787733,\n",
       " 500154514,\n",
       " 2575717004,\n",
       " 1141094348,\n",
       " 2776376446,\n",
       " 608389155,\n",
       " 4846395737,\n",
       " 2416597188,\n",
       " 1027632134,\n",
       " 118845216,\n",
       " 3974665634,\n",
       " 197496309,\n",
       " 17965340,\n",
       " 4663625910,\n",
       " 218325695,\n",
       " 18787733,\n",
       " 931286316,\n",
       " 2801177472,\n",
       " 19575451,\n",
       " 518009192,\n",
       " 825952160,\n",
       " 347627434,\n",
       " 1344787579,\n",
       " 951008132,\n",
       " 227333373,\n",
       " 21091954,\n",
       " 718592022,\n",
       " 3974665634,\n",
       " 3324042441,\n",
       " 4810747934,\n",
       " 367452068,\n",
       " 1375629385,\n",
       " 3578921292,\n",
       " 2345831796,\n",
       " 207040407,\n",
       " 3288598806,\n",
       " 52989817,\n",
       " 61526430,\n",
       " 60783724,\n",
       " 188095835,\n",
       " 775374224034783232,\n",
       " 19802846,\n",
       " 2517972111,\n",
       " 459735022,\n",
       " 67899097,\n",
       " 41747308,\n",
       " 14511951,\n",
       " 2236655070,\n",
       " 170357723,\n",
       " 14185814,\n",
       " 443924415,\n",
       " 1921995883,\n",
       " 126009130,\n",
       " 1524518970,\n",
       " 1375629385,\n",
       " 27688800,\n",
       " 751447878711869440,\n",
       " 213678006,\n",
       " 3308560736,\n",
       " 774140462370127872,\n",
       " 1528941756,\n",
       " 292508851,\n",
       " 3903052998,\n",
       " 116384038,\n",
       " 2845849081,\n",
       " 18545481,\n",
       " 785629978738032640,\n",
       " 82447359,\n",
       " 3000673803,\n",
       " 550222026,\n",
       " 3222909799,\n",
       " 15513604,\n",
       " 788146803669512192,\n",
       " 1713036884,\n",
       " 250492272,\n",
       " 1917731,\n",
       " 1367531,\n",
       " 25446957,\n",
       " 3091373190,\n",
       " 371142734,\n",
       " 931286316,\n",
       " 2469824234,\n",
       " 14575708,\n",
       " 263069137,\n",
       " 362977781,\n",
       " 2902031256,\n",
       " 791949967824793600,\n",
       " 254117355,\n",
       " 28785486,\n",
       " 707246777515245568,\n",
       " 250736021,\n",
       " 4825764434,\n",
       " 5695632,\n",
       " 262277370,\n",
       " 72761654,\n",
       " 28785486,\n",
       " 1149979224,\n",
       " 181249422,\n",
       " 1301720724,\n",
       " 84491326,\n",
       " 921376165,\n",
       " 111216929,\n",
       " 22953032,\n",
       " 3381686297,\n",
       " 97942529,\n",
       " 1655493013,\n",
       " 748608249910419456,\n",
       " 1238328264,\n",
       " 788998587011043328,\n",
       " 118845216,\n",
       " 714128911823724544,\n",
       " 79593630,\n",
       " 4261318354,\n",
       " 757255733704548352,\n",
       " 706201477300297728,\n",
       " 387948805,\n",
       " 17784660,\n",
       " 65166471,\n",
       " 25939719,\n",
       " 4181620034,\n",
       " 33416495,\n",
       " 580252446,\n",
       " 749958546004054016,\n",
       " 749958546004054016,\n",
       " 368555136,\n",
       " 146646613,\n",
       " 729582066,\n",
       " 4757535874,\n",
       " 69004966,\n",
       " 39246283,\n",
       " 33930094,\n",
       " 469708044,\n",
       " 3974665634,\n",
       " 1339835893,\n",
       " 2902031256,\n",
       " 63528313,\n",
       " 303892169,\n",
       " 3309654696,\n",
       " 15315465,\n",
       " 34900333,\n",
       " 15164565,\n",
       " 1459916354,\n",
       " 3684208045,\n",
       " 44696944,\n",
       " 776565331007381504,\n",
       " 4070021129,\n",
       " 2703114008,\n",
       " 2750334224,\n",
       " 1033798970,\n",
       " 2750334224,\n",
       " 63485337,\n",
       " 733093128081661952,\n",
       " 746093922494058496,\n",
       " 210424042,\n",
       " 22630309,\n",
       " 2196378314,\n",
       " 57314318,\n",
       " 956163518,\n",
       " 48967685,\n",
       " 347627434,\n",
       " 1520324371,\n",
       " 288656545,\n",
       " 3193055477,\n",
       " 2374469136,\n",
       " 1676285761,\n",
       " 4855687055,\n",
       " 1367531,\n",
       " 2975936339,\n",
       " 3195345898,\n",
       " 16589206,\n",
       " 3338568554,\n",
       " 16589206,\n",
       " 3371241641,\n",
       " 321774180,\n",
       " 781252299507142656,\n",
       " 729709984217337856,\n",
       " 779126152774299648,\n",
       " 130254817,\n",
       " 169536421,\n",
       " 128429068,\n",
       " 4840244240,\n",
       " 91882544,\n",
       " 716371621380890624,\n",
       " 743576222228185088,\n",
       " 724253317577236480,\n",
       " 435564722,\n",
       " 328741551,\n",
       " 65455370,\n",
       " 50769180,\n",
       " 50769180,\n",
       " 492833134,\n",
       " 785578193604317184,\n",
       " 86403191,\n",
       " 774486797606907904,\n",
       " 2896866728,\n",
       " 729523218218766336,\n",
       " 3359000590,\n",
       " 1655766132,\n",
       " 33529092,\n",
       " 96648433,\n",
       " 726405146788290560,\n",
       " 786670304903004160,\n",
       " 561654065,\n",
       " 19377400,\n",
       " 4849413012,\n",
       " 3408847582,\n",
       " 2556605767,\n",
       " 1065869268,\n",
       " 774074669230071808,\n",
       " 1065869268,\n",
       " 362200757,\n",
       " 4851343726,\n",
       " 33605130,\n",
       " 20982772,\n",
       " 1499268588,\n",
       " 547969112,\n",
       " 739664413330804736,\n",
       " 20675681,\n",
       " 954124423,\n",
       " 3102351219,\n",
       " 127182036,\n",
       " 259332340,\n",
       " 13831292,\n",
       " 443605395,\n",
       " 1682330258,\n",
       " 788010267649183744,\n",
       " 30946469,\n",
       " 14464961,\n",
       " 744920442,\n",
       " 33932623,\n",
       " 3339557473,\n",
       " 3269661906,\n",
       " 278770435,\n",
       " 778276054909812736,\n",
       " 2971891547,\n",
       " 726319466951237632,\n",
       " 81611744,\n",
       " 2517972111,\n",
       " 3221413128,\n",
       " 185838958,\n",
       " 766445003128377344,\n",
       " 366355851,\n",
       " 582402433,\n",
       " 2355662572,\n",
       " 2884891245,\n",
       " 176464757,\n",
       " 2183756121,\n",
       " 463232547,\n",
       " 200616013,\n",
       " 619158246,\n",
       " 213801320,\n",
       " 1444300153,\n",
       " 564702484,\n",
       " ...]"
      ]
     },
     "execution_count": 125,
     "metadata": {},
     "output_type": "execute_result"
    }
   ],
   "source": [
    "accounts[407:]"
   ]
  },
  {
   "cell_type": "code",
   "execution_count": 123,
   "metadata": {},
   "outputs": [
    {
     "data": {
      "text/plain": [
       "id                                            758193276151222272\n",
       "original_id                                   758190213973872640\n",
       "tweet_text     Bill O'Reilly: Slaves who built White House we...\n",
       "tweet_url      https://twitter.com/POTUS/status/7581932761512...\n",
       "claim               The White House was built using slave labor.\n",
       "rating         ['https://www.snopes.com/tachyon/2018/03/ratin...\n",
       "images            http://pbs.twimg.com/media/CoWh-nhXEAA3jp1.jpg\n",
       "text_images                                                  NaN\n",
       "source         https://www.snopes.com/fact-check/was-the-whit...\n",
       "label                                            mostly-true-new\n",
       "label_info                                                   NaN\n",
       "available                                                     ok\n",
       "acc_id                                                   9300262\n",
       "botometer                                                       \n",
       "Name: 407, dtype: object"
      ]
     },
     "execution_count": 123,
     "metadata": {},
     "output_type": "execute_result"
    }
   ],
   "source": [
    "snopes_acc.loc[407]"
   ]
  },
  {
   "cell_type": "code",
   "execution_count": 112,
   "metadata": {},
   "outputs": [],
   "source": [
    "snopes_acc.to_csv(\"snopes_botometer_406.csv\", index=False)"
   ]
  },
  {
   "cell_type": "code",
   "execution_count": 111,
   "metadata": {},
   "outputs": [
    {
     "data": {
      "text/html": [
       "<div>\n",
       "<style scoped>\n",
       "    .dataframe tbody tr th:only-of-type {\n",
       "        vertical-align: middle;\n",
       "    }\n",
       "\n",
       "    .dataframe tbody tr th {\n",
       "        vertical-align: top;\n",
       "    }\n",
       "\n",
       "    .dataframe thead th {\n",
       "        text-align: right;\n",
       "    }\n",
       "</style>\n",
       "<table border=\"1\" class=\"dataframe\">\n",
       "  <thead>\n",
       "    <tr style=\"text-align: right;\">\n",
       "      <th></th>\n",
       "      <th>id</th>\n",
       "      <th>original_id</th>\n",
       "      <th>tweet_text</th>\n",
       "      <th>tweet_url</th>\n",
       "      <th>claim</th>\n",
       "      <th>rating</th>\n",
       "      <th>images</th>\n",
       "      <th>text_images</th>\n",
       "      <th>source</th>\n",
       "      <th>label</th>\n",
       "      <th>label_info</th>\n",
       "      <th>available</th>\n",
       "      <th>acc_id</th>\n",
       "      <th>botometer</th>\n",
       "    </tr>\n",
       "  </thead>\n",
       "  <tbody>\n",
       "    <tr>\n",
       "      <th>0</th>\n",
       "      <td>1000037356836093953</td>\n",
       "      <td>1000023322481086466</td>\n",
       "      <td>Brave men died to keep us free. Radicals want ...</td>\n",
       "      <td>https://twitter.com/POTUS/status/1000037356836...</td>\n",
       "      <td>Liberals were offended by a World War I memori...</td>\n",
       "      <td>['https://www.snopes.com/tachyon/2018/03/ratin...</td>\n",
       "      <td>http://pbs.twimg.com/media/DeDL5a-XkAI7Hlw.jpg</td>\n",
       "      <td>#DontTearMeDown IRSTLIBERT . ORG DontTearMeDow...</td>\n",
       "      <td>https://www.snopes.com/fact-check/liberals-dem...</td>\n",
       "      <td>mixture</td>\n",
       "      <td>NaN</td>\n",
       "      <td>ok</td>\n",
       "      <td>3981225735</td>\n",
       "      <td>{'cap': {'english': 0.7759887465100499, 'unive...</td>\n",
       "    </tr>\n",
       "    <tr>\n",
       "      <th>1</th>\n",
       "      <td>1000098833798389760</td>\n",
       "      <td>1000059879682342912</td>\n",
       "      <td>“Stand for the National Anthem or be punished”...</td>\n",
       "      <td>https://twitter.com/POTUS/status/1000098833798...</td>\n",
       "      <td>A German football club was banned from playing...</td>\n",
       "      <td>['https://www.snopes.com/tachyon/2018/03/ratin...</td>\n",
       "      <td>http://pbs.twimg.com/media/DeDtKIRVAAA4kPm.jpg</td>\n",
       "      <td>FAILED TO GIVE NAZI SALUTE . German Football C...</td>\n",
       "      <td>https://www.snopes.com/fact-check/german-footb...</td>\n",
       "      <td>mostly-true-new</td>\n",
       "      <td>NaN</td>\n",
       "      <td>ok</td>\n",
       "      <td>1924071992</td>\n",
       "      <td>{'cap': {'english': 0.7759887465100499, 'unive...</td>\n",
       "    </tr>\n",
       "    <tr>\n",
       "      <th>2</th>\n",
       "      <td>1000158804795781120</td>\n",
       "      <td>1000073920760791040</td>\n",
       "      <td>@Humancipator35 @buddydusty @davidhogg111 🙌🏼 R...</td>\n",
       "      <td>https://twitter.com/POTUS/status/1000158804795...</td>\n",
       "      <td>Emma Gonz lez, a survivor of the Parkland scho...</td>\n",
       "      <td>['https://www.snopes.com/tachyon/2018/03/ratin...</td>\n",
       "      <td>http://pbs.twimg.com/media/DeD57XMV4AAUG4k.jpg</td>\n",
       "      <td>NaN</td>\n",
       "      <td>https://www.snopes.com/fact-check/emma-gonzale...</td>\n",
       "      <td>false</td>\n",
       "      <td>NaN</td>\n",
       "      <td>auth</td>\n",
       "      <td>924224208</td>\n",
       "      <td>{'cap': {'english': 0.30618807248975083, 'univ...</td>\n",
       "    </tr>\n",
       "    <tr>\n",
       "      <th>3</th>\n",
       "      <td>1000175568241872897</td>\n",
       "      <td>1000174645973315586</td>\n",
       "      <td>Just sayin'  #NFL https://t.co/70tFG5ieMC</td>\n",
       "      <td>https://twitter.com/POTUS/status/1000175568241...</td>\n",
       "      <td>A German football club was banned from playing...</td>\n",
       "      <td>['https://www.snopes.com/tachyon/2018/03/ratin...</td>\n",
       "      <td>http://pbs.twimg.com/media/DeFVdDlUwAA17qS.jpg</td>\n",
       "      <td>FAILED TO GIVE NAZI SALUTE . German Football C...</td>\n",
       "      <td>https://www.snopes.com/fact-check/german-footb...</td>\n",
       "      <td>mostly-true-new</td>\n",
       "      <td>NaN</td>\n",
       "      <td>auth</td>\n",
       "      <td>170735298</td>\n",
       "      <td>{'cap': {'english': 0.6763619064808265, 'unive...</td>\n",
       "    </tr>\n",
       "    <tr>\n",
       "      <th>4</th>\n",
       "      <td>1000438777792344067</td>\n",
       "      <td>1000191784797040640</td>\n",
       "      <td>Those who do not learn from history are doomed...</td>\n",
       "      <td>https://twitter.com/POTUS/status/1000438777792...</td>\n",
       "      <td>A German football club was banned from playing...</td>\n",
       "      <td>['https://www.snopes.com/tachyon/2018/03/ratin...</td>\n",
       "      <td>http://pbs.twimg.com/media/DeFkp5eU0AA2aLJ.jpg</td>\n",
       "      <td>pnting n the wo \" ' t WHY to win . nbor mu t n...</td>\n",
       "      <td>https://www.snopes.com/fact-check/german-footb...</td>\n",
       "      <td>mostly-true-new</td>\n",
       "      <td>NaN</td>\n",
       "      <td>ok</td>\n",
       "      <td>115563859</td>\n",
       "      <td>{'cap': {'english': 0.7668769621923945, 'unive...</td>\n",
       "    </tr>\n",
       "    <tr>\n",
       "      <th>...</th>\n",
       "      <td>...</td>\n",
       "      <td>...</td>\n",
       "      <td>...</td>\n",
       "      <td>...</td>\n",
       "      <td>...</td>\n",
       "      <td>...</td>\n",
       "      <td>...</td>\n",
       "      <td>...</td>\n",
       "      <td>...</td>\n",
       "      <td>...</td>\n",
       "      <td>...</td>\n",
       "      <td>...</td>\n",
       "      <td>...</td>\n",
       "      <td>...</td>\n",
       "    </tr>\n",
       "    <tr>\n",
       "      <th>6971</th>\n",
       "      <td>1000095067887910917</td>\n",
       "      <td>999866405687209984</td>\n",
       "      <td>History repeating itself with @realDonaldTrump...</td>\n",
       "      <td>https://twitter.com/POTUS/status/1000095067887...</td>\n",
       "      <td>A German football club was banned from playing...</td>\n",
       "      <td>['https://www.snopes.com/tachyon/2018/03/ratin...</td>\n",
       "      <td>http://pbs.twimg.com/media/DeA9KrlVwAEHtPB.jpg</td>\n",
       "      <td>FAILED TO GIVE NAZI SALUTE . German Football C...</td>\n",
       "      <td>https://www.snopes.com/fact-check/german-footb...</td>\n",
       "      <td>mostly-true-new</td>\n",
       "      <td>NaN</td>\n",
       "      <td>ok</td>\n",
       "      <td>550658726</td>\n",
       "      <td></td>\n",
       "    </tr>\n",
       "    <tr>\n",
       "      <th>6972</th>\n",
       "      <td>1000146882428096512</td>\n",
       "      <td>999903412425711616</td>\n",
       "      <td>I picked this up from someone here. Its🙄🤨🙄 wor...</td>\n",
       "      <td>https://twitter.com/POTUS/status/1000146882428...</td>\n",
       "      <td>A German football club was banned from playing...</td>\n",
       "      <td>['https://www.snopes.com/tachyon/2018/03/ratin...</td>\n",
       "      <td>http://pbs.twimg.com/media/DeBe1X5VAAI-Zhh.jpg</td>\n",
       "      <td>FAILED TO GIVE NAZI SALUTE . German Football C...</td>\n",
       "      <td>https://www.snopes.com/fact-check/german-footb...</td>\n",
       "      <td>mostly-true-new</td>\n",
       "      <td>NaN</td>\n",
       "      <td>ok</td>\n",
       "      <td>91743765</td>\n",
       "      <td></td>\n",
       "    </tr>\n",
       "    <tr>\n",
       "      <th>6973</th>\n",
       "      <td>1000018438184734720</td>\n",
       "      <td>999961946932723713</td>\n",
       "      <td>Trump is a criminal, a gangster using criminal...</td>\n",
       "      <td>https://twitter.com/POTUS/status/1000018438184...</td>\n",
       "      <td>Notorious mobster Al Capone demanded an inquir...</td>\n",
       "      <td>['https://www.snopes.com/tachyon/2018/03/ratin...</td>\n",
       "      <td>http://pbs.twimg.com/media/DeCUF2ZV4AAMm0Z.jpg</td>\n",
       "      <td>Ci ) icago Sunday Cribune INAL 17 . Capone Dem...</td>\n",
       "      <td>https://www.snopes.com/fact-check/did-al-capon...</td>\n",
       "      <td>false</td>\n",
       "      <td>NaN</td>\n",
       "      <td>missing</td>\n",
       "      <td>881682896607600640</td>\n",
       "      <td></td>\n",
       "    </tr>\n",
       "    <tr>\n",
       "      <th>6974</th>\n",
       "      <td>999992400725585920</td>\n",
       "      <td>999962442141782016</td>\n",
       "      <td>@VP @NFL @POTUS The only thing that’s #Winning...</td>\n",
       "      <td>https://twitter.com/POTUS/status/9999924007255...</td>\n",
       "      <td>Baseball players in the 1950s were caught on c...</td>\n",
       "      <td>['https://www.snopes.com/tachyon/2018/03/ratin...</td>\n",
       "      <td>http://pbs.twimg.com/media/DeCUiW3VwAAQbyx.jpg</td>\n",
       "      <td>White Baseball Players Kneel in the 50 ' s to ...</td>\n",
       "      <td>https://www.snopes.com/fact-check/baseball-pla...</td>\n",
       "      <td>false</td>\n",
       "      <td>NaN</td>\n",
       "      <td>auth</td>\n",
       "      <td>115748564</td>\n",
       "      <td></td>\n",
       "    </tr>\n",
       "    <tr>\n",
       "      <th>6975</th>\n",
       "      <td>1000035228679852032</td>\n",
       "      <td>999973815655518213</td>\n",
       "      <td>@mjfree Sports has been used as a means of pro...</td>\n",
       "      <td>https://twitter.com/POTUS/status/1000035228679...</td>\n",
       "      <td>Baseball players in the 1950s were caught on c...</td>\n",
       "      <td>['https://www.snopes.com/tachyon/2018/03/ratin...</td>\n",
       "      <td>http://pbs.twimg.com/media/DeCejk4WkAMruuM.jpg</td>\n",
       "      <td>White Baseball Players Kneel in the 50 ' s to ...</td>\n",
       "      <td>https://www.snopes.com/fact-check/baseball-pla...</td>\n",
       "      <td>false</td>\n",
       "      <td>NaN</td>\n",
       "      <td>ok</td>\n",
       "      <td>518227176</td>\n",
       "      <td></td>\n",
       "    </tr>\n",
       "  </tbody>\n",
       "</table>\n",
       "<p>6976 rows × 14 columns</p>\n",
       "</div>"
      ],
      "text/plain": [
       "                       id          original_id  \\\n",
       "0     1000037356836093953  1000023322481086466   \n",
       "1     1000098833798389760  1000059879682342912   \n",
       "2     1000158804795781120  1000073920760791040   \n",
       "3     1000175568241872897  1000174645973315586   \n",
       "4     1000438777792344067  1000191784797040640   \n",
       "...                   ...                  ...   \n",
       "6971  1000095067887910917   999866405687209984   \n",
       "6972  1000146882428096512   999903412425711616   \n",
       "6973  1000018438184734720   999961946932723713   \n",
       "6974   999992400725585920   999962442141782016   \n",
       "6975  1000035228679852032   999973815655518213   \n",
       "\n",
       "                                             tweet_text  \\\n",
       "0     Brave men died to keep us free. Radicals want ...   \n",
       "1     “Stand for the National Anthem or be punished”...   \n",
       "2     @Humancipator35 @buddydusty @davidhogg111 🙌🏼 R...   \n",
       "3             Just sayin'  #NFL https://t.co/70tFG5ieMC   \n",
       "4     Those who do not learn from history are doomed...   \n",
       "...                                                 ...   \n",
       "6971  History repeating itself with @realDonaldTrump...   \n",
       "6972  I picked this up from someone here. Its🙄🤨🙄 wor...   \n",
       "6973  Trump is a criminal, a gangster using criminal...   \n",
       "6974  @VP @NFL @POTUS The only thing that’s #Winning...   \n",
       "6975  @mjfree Sports has been used as a means of pro...   \n",
       "\n",
       "                                              tweet_url  \\\n",
       "0     https://twitter.com/POTUS/status/1000037356836...   \n",
       "1     https://twitter.com/POTUS/status/1000098833798...   \n",
       "2     https://twitter.com/POTUS/status/1000158804795...   \n",
       "3     https://twitter.com/POTUS/status/1000175568241...   \n",
       "4     https://twitter.com/POTUS/status/1000438777792...   \n",
       "...                                                 ...   \n",
       "6971  https://twitter.com/POTUS/status/1000095067887...   \n",
       "6972  https://twitter.com/POTUS/status/1000146882428...   \n",
       "6973  https://twitter.com/POTUS/status/1000018438184...   \n",
       "6974  https://twitter.com/POTUS/status/9999924007255...   \n",
       "6975  https://twitter.com/POTUS/status/1000035228679...   \n",
       "\n",
       "                                                  claim  \\\n",
       "0     Liberals were offended by a World War I memori...   \n",
       "1     A German football club was banned from playing...   \n",
       "2     Emma Gonz lez, a survivor of the Parkland scho...   \n",
       "3     A German football club was banned from playing...   \n",
       "4     A German football club was banned from playing...   \n",
       "...                                                 ...   \n",
       "6971  A German football club was banned from playing...   \n",
       "6972  A German football club was banned from playing...   \n",
       "6973  Notorious mobster Al Capone demanded an inquir...   \n",
       "6974  Baseball players in the 1950s were caught on c...   \n",
       "6975  Baseball players in the 1950s were caught on c...   \n",
       "\n",
       "                                                 rating  \\\n",
       "0     ['https://www.snopes.com/tachyon/2018/03/ratin...   \n",
       "1     ['https://www.snopes.com/tachyon/2018/03/ratin...   \n",
       "2     ['https://www.snopes.com/tachyon/2018/03/ratin...   \n",
       "3     ['https://www.snopes.com/tachyon/2018/03/ratin...   \n",
       "4     ['https://www.snopes.com/tachyon/2018/03/ratin...   \n",
       "...                                                 ...   \n",
       "6971  ['https://www.snopes.com/tachyon/2018/03/ratin...   \n",
       "6972  ['https://www.snopes.com/tachyon/2018/03/ratin...   \n",
       "6973  ['https://www.snopes.com/tachyon/2018/03/ratin...   \n",
       "6974  ['https://www.snopes.com/tachyon/2018/03/ratin...   \n",
       "6975  ['https://www.snopes.com/tachyon/2018/03/ratin...   \n",
       "\n",
       "                                              images  \\\n",
       "0     http://pbs.twimg.com/media/DeDL5a-XkAI7Hlw.jpg   \n",
       "1     http://pbs.twimg.com/media/DeDtKIRVAAA4kPm.jpg   \n",
       "2     http://pbs.twimg.com/media/DeD57XMV4AAUG4k.jpg   \n",
       "3     http://pbs.twimg.com/media/DeFVdDlUwAA17qS.jpg   \n",
       "4     http://pbs.twimg.com/media/DeFkp5eU0AA2aLJ.jpg   \n",
       "...                                              ...   \n",
       "6971  http://pbs.twimg.com/media/DeA9KrlVwAEHtPB.jpg   \n",
       "6972  http://pbs.twimg.com/media/DeBe1X5VAAI-Zhh.jpg   \n",
       "6973  http://pbs.twimg.com/media/DeCUF2ZV4AAMm0Z.jpg   \n",
       "6974  http://pbs.twimg.com/media/DeCUiW3VwAAQbyx.jpg   \n",
       "6975  http://pbs.twimg.com/media/DeCejk4WkAMruuM.jpg   \n",
       "\n",
       "                                            text_images  \\\n",
       "0     #DontTearMeDown IRSTLIBERT . ORG DontTearMeDow...   \n",
       "1     FAILED TO GIVE NAZI SALUTE . German Football C...   \n",
       "2                                                   NaN   \n",
       "3     FAILED TO GIVE NAZI SALUTE . German Football C...   \n",
       "4     pnting n the wo \" ' t WHY to win . nbor mu t n...   \n",
       "...                                                 ...   \n",
       "6971  FAILED TO GIVE NAZI SALUTE . German Football C...   \n",
       "6972  FAILED TO GIVE NAZI SALUTE . German Football C...   \n",
       "6973  Ci ) icago Sunday Cribune INAL 17 . Capone Dem...   \n",
       "6974  White Baseball Players Kneel in the 50 ' s to ...   \n",
       "6975  White Baseball Players Kneel in the 50 ' s to ...   \n",
       "\n",
       "                                                 source            label  \\\n",
       "0     https://www.snopes.com/fact-check/liberals-dem...          mixture   \n",
       "1     https://www.snopes.com/fact-check/german-footb...  mostly-true-new   \n",
       "2     https://www.snopes.com/fact-check/emma-gonzale...            false   \n",
       "3     https://www.snopes.com/fact-check/german-footb...  mostly-true-new   \n",
       "4     https://www.snopes.com/fact-check/german-footb...  mostly-true-new   \n",
       "...                                                 ...              ...   \n",
       "6971  https://www.snopes.com/fact-check/german-footb...  mostly-true-new   \n",
       "6972  https://www.snopes.com/fact-check/german-footb...  mostly-true-new   \n",
       "6973  https://www.snopes.com/fact-check/did-al-capon...            false   \n",
       "6974  https://www.snopes.com/fact-check/baseball-pla...            false   \n",
       "6975  https://www.snopes.com/fact-check/baseball-pla...            false   \n",
       "\n",
       "      label_info available              acc_id  \\\n",
       "0            NaN        ok          3981225735   \n",
       "1            NaN        ok          1924071992   \n",
       "2            NaN      auth           924224208   \n",
       "3            NaN      auth           170735298   \n",
       "4            NaN        ok           115563859   \n",
       "...          ...       ...                 ...   \n",
       "6971         NaN        ok           550658726   \n",
       "6972         NaN        ok            91743765   \n",
       "6973         NaN   missing  881682896607600640   \n",
       "6974         NaN      auth           115748564   \n",
       "6975         NaN        ok           518227176   \n",
       "\n",
       "                                              botometer  \n",
       "0     {'cap': {'english': 0.7759887465100499, 'unive...  \n",
       "1     {'cap': {'english': 0.7759887465100499, 'unive...  \n",
       "2     {'cap': {'english': 0.30618807248975083, 'univ...  \n",
       "3     {'cap': {'english': 0.6763619064808265, 'unive...  \n",
       "4     {'cap': {'english': 0.7668769621923945, 'unive...  \n",
       "...                                                 ...  \n",
       "6971                                                     \n",
       "6972                                                     \n",
       "6973                                                     \n",
       "6974                                                     \n",
       "6975                                                     \n",
       "\n",
       "[6976 rows x 14 columns]"
      ]
     },
     "execution_count": 111,
     "metadata": {},
     "output_type": "execute_result"
    }
   ],
   "source": [
    "snopes_acc"
   ]
  },
  {
   "cell_type": "code",
   "execution_count": 110,
   "metadata": {},
   "outputs": [
    {
     "data": {
      "text/plain": [
       "nan"
      ]
     },
     "execution_count": 110,
     "metadata": {},
     "output_type": "execute_result"
    }
   ],
   "source": [
    "test.loc[407].botometer"
   ]
  },
  {
   "cell_type": "code",
   "execution_count": null,
   "metadata": {},
   "outputs": [],
   "source": [
    "bots = snopes.botometer.tolist()"
   ]
  },
  {
   "cell_type": "code",
   "execution_count": null,
   "metadata": {},
   "outputs": [],
   "source": [
    "dicts = []\n",
    "for i in bots:\n",
    "    if i:\n",
    "        dicts.append(eval(i))\n",
    "    else:\n",
    "        dicts.append(None)\n"
   ]
  },
  {
   "cell_type": "code",
   "execution_count": null,
   "metadata": {},
   "outputs": [],
   "source": [
    "for s in bom.check_account(accounts[0]):\n",
    "    print(s)"
   ]
  },
  {
   "cell_type": "code",
   "execution_count": null,
   "metadata": {},
   "outputs": [],
   "source": [
    "import botometer\n",
    "\n",
    "rapidapi_key = \"b0dd966c59mshdf2db2daf9a121fp15f57djsn5bf9d54db4aa\"\n",
    "\n",
    "consumer_key, consumer_secret = \"uHktObbiyJpGoLUaENXdpUWyj\", \"DLoJ8VRhFUK4GQeo3XUP2LGaSN4D7a2mAZqSKlRQshr6N0Ru1r\"\n",
    "access_token, access_token_secret = \"4121890515-8wV0UlTyu9hFzJL9d8NBU6BY24STUtS7zFeAcel\", \"vfnDrkEUAHtVayGJDZxau18mPjG4CuyB2JW6sG0xeYFGs\"\n",
    "\n",
    "\n",
    "twitter_app_auth = {\n",
    "    'consumer_key': consumer_key, # 'sO59YfsV552iCsfLLpQTuS64T',\n",
    "    'consumer_secret': consumer_secret, #'YVGEDbcA3Mg3bTY9rwXpLAH5ATOzbmhRBZ92wuWaBfVMdiflzq',\n",
    "    'access_token': access_token, # 'AAAAAAAAAAAAAAAAAAAAAD%2FZWwEAAAAAJgG8hY2XJfmsYbbs%2Bp5BruRr8aM%3DtRxrtqs0eEhHQ9ZFE9U7tRlNnqm7oPUXeQEijSnj3RgxWgvN5l',\n",
    "    'access_token_secret': access_token_secret,\n",
    "  }\n",
    "bom = botometer.Botometer(wait_on_ratelimit=True,\n",
    "                          rapidapi_key=rapidapi_key,\n",
    "                          **twitter_app_auth)\n",
    "\n",
    "accounts = snopes.acc_id.tolist()\n",
    "for screen_name, result in tqdm(bom.check_accounts_in(accounts=accounts)):\n",
    "    try:\n",
    "        snopes.loc[i, \"botometer\"] = str(result[1])\n",
    "        print(result)\n",
    "    except Exception as e:\n",
    "        print(e)\n",
    "        snopes.loc[i, \"botometer\"] = None\n",
    "\n"
   ]
  },
  {
   "cell_type": "code",
   "execution_count": 50,
   "metadata": {},
   "outputs": [],
   "source": [
    "rapidapi_key = \"b0dd966c59mshdf2db2daf9a121fp15f57djsn5bf9d54db4aa\"\n",
    "\n",
    "consumer_key, consumer_secret = \"uHktObbiyJpGoLUaENXdpUWyj\", \"DLoJ8VRhFUK4GQeo3XUP2LGaSN4D7a2mAZqSKlRQshr6N0Ru1r\"\n",
    "access_token, access_token_secret = \"4121890515-8wV0UlTyu9hFzJL9d8NBU6BY24STUtS7zFeAcel\", \"vfnDrkEUAHtVayGJDZxau18mPjG4CuyB2JW6sG0xeYFGs\"\n",
    "\n",
    "\n",
    "twitter_app_auth = {\n",
    "    'consumer_key': consumer_key, # 'sO59YfsV552iCsfLLpQTuS64T',\n",
    "    'consumer_secret': consumer_secret, #'YVGEDbcA3Mg3bTY9rwXpLAH5ATOzbmhRBZ92wuWaBfVMdiflzq',\n",
    "    'access_token': access_token, # 'AAAAAAAAAAAAAAAAAAAAAD%2FZWwEAAAAAJgG8hY2XJfmsYbbs%2Bp5BruRr8aM%3DtRxrtqs0eEhHQ9ZFE9U7tRlNnqm7oPUXeQEijSnj3RgxWgvN5l',\n",
    "    'access_token_secret': access_token_secret,\n",
    "  }\n",
    "bom = botometer.Botometer(wait_on_ratelimit=True,\n",
    "                          rapidapi_key=rapidapi_key,\n",
    "                          **twitter_app_auth)\n",
    "\n",
    "result = bom.check_accounts_in(accounts[:3])\n",
    "\n"
   ]
  },
  {
   "cell_type": "code",
   "execution_count": 51,
   "metadata": {},
   "outputs": [
    {
     "name": "stdout",
     "output_type": "stream",
     "text": [
      "(3981225735, {'cap': {'english': 0.7759887465100499, 'universal': 0.8006881983123656}, 'display_scores': {'english': {'astroturf': 1.1, 'fake_follower': 1.4, 'financial': 0.0, 'other': 2.2, 'overall': 1.5, 'self_declared': 0.1, 'spammer': 0.1}, 'universal': {'astroturf': 0.8, 'fake_follower': 1.1, 'financial': 0.3, 'other': 3.0, 'overall': 1.8, 'self_declared': 0.1, 'spammer': 0.1}}, 'raw_scores': {'english': {'astroturf': 0.22, 'fake_follower': 0.29, 'financial': 0.01, 'other': 0.45, 'overall': 0.3, 'self_declared': 0.02, 'spammer': 0.02}, 'universal': {'astroturf': 0.15, 'fake_follower': 0.22, 'financial': 0.06, 'other': 0.6, 'overall': 0.37, 'self_declared': 0.02, 'spammer': 0.02}}, 'user': {'majority_lang': 'en', 'user_data': {'id_str': '3981225735', 'screen_name': 'TrumpStudents'}}})\n",
      "(1924071992, {'cap': {'english': 0.7759887465100499, 'universal': 0.792436790569533}, 'display_scores': {'english': {'astroturf': 2.8, 'fake_follower': 0.4, 'financial': 0.6, 'other': 1.4, 'overall': 1.5, 'self_declared': 0.2, 'spammer': 0.0}, 'universal': {'astroturf': 2.2, 'fake_follower': 0.5, 'financial': 0.4, 'other': 1.5, 'overall': 1.6, 'self_declared': 0.0, 'spammer': 0.0}}, 'raw_scores': {'english': {'astroturf': 0.57, 'fake_follower': 0.07, 'financial': 0.13, 'other': 0.29, 'overall': 0.3, 'self_declared': 0.03, 'spammer': 0.0}, 'universal': {'astroturf': 0.43, 'fake_follower': 0.1, 'financial': 0.09, 'other': 0.3, 'overall': 0.32, 'self_declared': 0.01, 'spammer': 0.01}}, 'user': {'majority_lang': 'en', 'user_data': {'id_str': '1924071992', 'screen_name': 'MillenPolitics'}}})\n",
      "(924224208, {'cap': {'english': 0.30618807248975083, 'universal': 0.37678996390568303}, 'display_scores': {'english': {'astroturf': 1.4, 'fake_follower': 0.4, 'financial': 0.3, 'other': 0.9, 'overall': 0.2, 'self_declared': 0.0, 'spammer': 0.0}, 'universal': {'astroturf': 1.1, 'fake_follower': 0.6, 'financial': 0.4, 'other': 0.8, 'overall': 0.3, 'self_declared': 0.0, 'spammer': 0.0}}, 'raw_scores': {'english': {'astroturf': 0.29, 'fake_follower': 0.09, 'financial': 0.06, 'other': 0.18, 'overall': 0.04, 'self_declared': 0.0, 'spammer': 0.0}, 'universal': {'astroturf': 0.22, 'fake_follower': 0.12, 'financial': 0.07, 'other': 0.15, 'overall': 0.06, 'self_declared': 0.0, 'spammer': 0.0}}, 'user': {'majority_lang': 'en', 'user_data': {'id_str': '924224208', 'screen_name': 'jaybluuee'}}})\n"
     ]
    }
   ],
   "source": [
    "for a in result:\n",
    "    print(a)"
   ]
  },
  {
   "cell_type": "code",
   "execution_count": 52,
   "metadata": {},
   "outputs": [
    {
     "data": {
      "text/plain": [
       "{'cap': {'english': 0.30618807248975083, 'universal': 0.37678996390568303},\n",
       " 'display_scores': {'english': {'astroturf': 1.4,\n",
       "   'fake_follower': 0.4,\n",
       "   'financial': 0.3,\n",
       "   'other': 0.9,\n",
       "   'overall': 0.2,\n",
       "   'self_declared': 0.0,\n",
       "   'spammer': 0.0},\n",
       "  'universal': {'astroturf': 1.1,\n",
       "   'fake_follower': 0.6,\n",
       "   'financial': 0.4,\n",
       "   'other': 0.8,\n",
       "   'overall': 0.3,\n",
       "   'self_declared': 0.0,\n",
       "   'spammer': 0.0}},\n",
       " 'raw_scores': {'english': {'astroturf': 0.29,\n",
       "   'fake_follower': 0.09,\n",
       "   'financial': 0.06,\n",
       "   'other': 0.18,\n",
       "   'overall': 0.04,\n",
       "   'self_declared': 0.0,\n",
       "   'spammer': 0.0},\n",
       "  'universal': {'astroturf': 0.22,\n",
       "   'fake_follower': 0.12,\n",
       "   'financial': 0.07,\n",
       "   'other': 0.15,\n",
       "   'overall': 0.06,\n",
       "   'self_declared': 0.0,\n",
       "   'spammer': 0.0}},\n",
       " 'user': {'majority_lang': 'en',\n",
       "  'user_data': {'id_str': '924224208', 'screen_name': 'jaybluuee'}}}"
      ]
     },
     "execution_count": 52,
     "metadata": {},
     "output_type": "execute_result"
    }
   ],
   "source": [
    "a[1]"
   ]
  },
  {
   "cell_type": "code",
   "execution_count": 49,
   "metadata": {},
   "outputs": [
    {
     "data": {
      "text/plain": [
       "[3981225735,\n",
       " 1924071992,\n",
       " 924224208,\n",
       " 170735298,\n",
       " 115563859,\n",
       " 839300788702875648,\n",
       " 187286731,\n",
       " 803984530700910592,\n",
       " 432703985,\n",
       " 96838049,\n",
       " 22289130,\n",
       " 1336826635,\n",
       " 600061917,\n",
       " 259132164,\n",
       " 818231382,\n",
       " 284236188,\n",
       " 184383206,\n",
       " 2316246829,\n",
       " 807095,\n",
       " 1266239359,\n",
       " 3995778614,\n",
       " 571135299,\n",
       " 1367140224,\n",
       " 1170769933,\n",
       " 4041846647,\n",
       " 2505411212,\n",
       " 1102665366,\n",
       " 22084427,\n",
       " 227128602,\n",
       " 221557378,\n",
       " 704876221197193216,\n",
       " 15317676,\n",
       " 500391228,\n",
       " 1260181622,\n",
       " 22162379,\n",
       " 14849146,\n",
       " 2884176405,\n",
       " 2411569569,\n",
       " 2411569569,\n",
       " 235709466,\n",
       " 110855805,\n",
       " 554987162,\n",
       " 192529611,\n",
       " 1329515617,\n",
       " 554888488,\n",
       " 1367140224,\n",
       " 53159918,\n",
       " 714647220268744704,\n",
       " 1732751822,\n",
       " 16973333,\n",
       " 1893751014,\n",
       " 4480863626,\n",
       " 166329578,\n",
       " 608471241,\n",
       " 724755152515829760,\n",
       " 128796694,\n",
       " 607558430,\n",
       " 124954456,\n",
       " 4864871778,\n",
       " 19874344,\n",
       " 580312540,\n",
       " 1909350781,\n",
       " 17756195,\n",
       " 304761097,\n",
       " 350362817,\n",
       " 4173349815,\n",
       " 487600344,\n",
       " 177584156,\n",
       " 2682013394,\n",
       " 4236806414,\n",
       " 18545481,\n",
       " 2255785398,\n",
       " 4833119038,\n",
       " 2416940856,\n",
       " 457820209,\n",
       " 30528628,\n",
       " 3314758074,\n",
       " 68450683,\n",
       " 339060259,\n",
       " 728733298373988352,\n",
       " 231124010,\n",
       " 3389134989,\n",
       " 1038821832,\n",
       " 2466008792,\n",
       " 370243466,\n",
       " 3323100684,\n",
       " 68450683,\n",
       " 578090036,\n",
       " 2206912764,\n",
       " 265891353,\n",
       " 4823097016,\n",
       " 399774230,\n",
       " 4832357954,\n",
       " 25224960,\n",
       " 25224960,\n",
       " 3380835143,\n",
       " 4909226006,\n",
       " 1969346438,\n",
       " 3951682217,\n",
       " 159655623,\n",
       " 22064592,\n",
       " 185635130,\n",
       " 437208886,\n",
       " 4664372353,\n",
       " 204872032,\n",
       " 440817801,\n",
       " 205757668,\n",
       " 443924415,\n",
       " 18545481,\n",
       " 66837697,\n",
       " 27789999,\n",
       " 27789999,\n",
       " 27789999,\n",
       " 3411313300,\n",
       " 19131322,\n",
       " 85831860,\n",
       " 2908170952,\n",
       " 145359341,\n",
       " 312149882,\n",
       " 1449488359,\n",
       " 4704367111,\n",
       " 136166272,\n",
       " 2490661603,\n",
       " 561654065,\n",
       " 163995557,\n",
       " 27413161,\n",
       " 126009130,\n",
       " 126009130,\n",
       " 18545481,\n",
       " 18545481,\n",
       " 18545481,\n",
       " 145359341,\n",
       " 162114552,\n",
       " 3588258014,\n",
       " 944470134,\n",
       " 1678775311,\n",
       " 201727015,\n",
       " 705607964007108608,\n",
       " 222519463,\n",
       " 533666781,\n",
       " 52136185,\n",
       " 586206240,\n",
       " 3225287206,\n",
       " 49452556,\n",
       " 904789082,\n",
       " 732615765476564992,\n",
       " 2665438183,\n",
       " 944470134,\n",
       " 1713036884,\n",
       " 500391228,\n",
       " 485373368,\n",
       " 59615269,\n",
       " 295988417,\n",
       " 2695447915,\n",
       " 561654065,\n",
       " 2840452198,\n",
       " 561654065,\n",
       " 1425679045,\n",
       " 33170847,\n",
       " 82447359,\n",
       " 3995778614,\n",
       " 1605994580,\n",
       " 245687348,\n",
       " 21833728,\n",
       " 82447359,\n",
       " 200811254,\n",
       " 269576133,\n",
       " 361275163,\n",
       " 2847859818,\n",
       " 4726885214,\n",
       " 54065567,\n",
       " 54065567,\n",
       " 2686313414,\n",
       " 2975669439,\n",
       " 300497193,\n",
       " 361275163,\n",
       " 3307295642,\n",
       " 2875780737,\n",
       " 222519463,\n",
       " 705890784319377408,\n",
       " 17350532,\n",
       " 304543369,\n",
       " 1849938847,\n",
       " 2600602135,\n",
       " 59615269,\n",
       " 195271137,\n",
       " 2600602135,\n",
       " 2914451594,\n",
       " 3974665634,\n",
       " 729022640313106432,\n",
       " 2600602135,\n",
       " 104051619,\n",
       " 2600602135,\n",
       " 2600602135,\n",
       " 1430455554,\n",
       " 21343120,\n",
       " 1941136946,\n",
       " 2600602135,\n",
       " 421344061,\n",
       " 713005707470069760,\n",
       " 49685124,\n",
       " 3020425427,\n",
       " 297191567,\n",
       " 4883470551,\n",
       " 4883470551,\n",
       " 555475580,\n",
       " 705890784319377408,\n",
       " 25066686,\n",
       " 726627971490934784,\n",
       " 359196437,\n",
       " 4883470551,\n",
       " 487013912,\n",
       " 4883470551,\n",
       " 727308523139272704,\n",
       " 705532607790870528,\n",
       " 4883470551,\n",
       " 706429945258463232,\n",
       " 4883470551,\n",
       " 289118612,\n",
       " 4883470551,\n",
       " 60207798,\n",
       " 4883470551,\n",
       " 4914495876,\n",
       " 60207798,\n",
       " 21773704,\n",
       " 71272041,\n",
       " 194521859,\n",
       " 2902181749,\n",
       " 4883470551,\n",
       " 634676291,\n",
       " 4883470551,\n",
       " 4883470551,\n",
       " 843066685,\n",
       " 141711305,\n",
       " 3974665634,\n",
       " 4883470551,\n",
       " 4883470551,\n",
       " 2457085861,\n",
       " 4883470551,\n",
       " 14294848,\n",
       " 2421067430,\n",
       " 374116640,\n",
       " 279390084,\n",
       " 19943761,\n",
       " 30681036,\n",
       " 594886554,\n",
       " 594886554,\n",
       " 15226811,\n",
       " 723167125272027136,\n",
       " 312149882,\n",
       " 3018828006,\n",
       " 59241915,\n",
       " 14211510,\n",
       " 170357723,\n",
       " 15012486,\n",
       " 126009130,\n",
       " 161132591,\n",
       " 3567446177,\n",
       " 2982225709,\n",
       " 18363962,\n",
       " 542318578,\n",
       " 158619022,\n",
       " 121493492,\n",
       " 18564980,\n",
       " 109484669,\n",
       " 18643437,\n",
       " 3311629271,\n",
       " 32272710,\n",
       " 796261392,\n",
       " 18240386,\n",
       " 146928495,\n",
       " 77324226,\n",
       " 1735969045,\n",
       " 16267083,\n",
       " 2560466682,\n",
       " 378016563,\n",
       " 213795411,\n",
       " 414174068,\n",
       " 177584156,\n",
       " 88989613,\n",
       " 31341662,\n",
       " 71875415,\n",
       " 401657173,\n",
       " 275276082,\n",
       " 719198026909290496,\n",
       " 38570287,\n",
       " 554316017,\n",
       " 944470134,\n",
       " 891073250,\n",
       " 90194079,\n",
       " 709920419529281536,\n",
       " 753573418507743232,\n",
       " 94818581,\n",
       " 26652733,\n",
       " 3314758074,\n",
       " 3903128778,\n",
       " 149679293,\n",
       " 714513049,\n",
       " 98229878,\n",
       " 3308560736,\n",
       " 385194334,\n",
       " 2570615502,\n",
       " 319373700,\n",
       " 362798863,\n",
       " 330378192,\n",
       " 291874773,\n",
       " 118867974,\n",
       " 28587919,\n",
       " 16208276,\n",
       " 238053427,\n",
       " 175954697,\n",
       " 600195366,\n",
       " 525676041,\n",
       " 918230042,\n",
       " 1269583296,\n",
       " 345253262,\n",
       " 32133117,\n",
       " 4496819788,\n",
       " 14294848,\n",
       " 108172069,\n",
       " 33156354,\n",
       " 17427779,\n",
       " 3389073989,\n",
       " 3020168556,\n",
       " 1969346438,\n",
       " 4236806414,\n",
       " 470438993,\n",
       " 21833728,\n",
       " 82447359,\n",
       " 45302174,\n",
       " 272114651,\n",
       " 15976697,\n",
       " 33529092,\n",
       " 1247921690,\n",
       " 278781274,\n",
       " 47534393,\n",
       " 61759552,\n",
       " 707288641995939840,\n",
       " 306097862,\n",
       " 43283406,\n",
       " 352145373,\n",
       " 43296233,\n",
       " 3698501,\n",
       " 561654065,\n",
       " 741814929842405376,\n",
       " 18764841,\n",
       " 19062754,\n",
       " 3520122318,\n",
       " 14546264,\n",
       " 2604924327,\n",
       " 338613723,\n",
       " 15150453,\n",
       " 16027904,\n",
       " 18210263,\n",
       " 3974665634,\n",
       " 3974665634,\n",
       " 177584156,\n",
       " 3685459885,\n",
       " 1620343501,\n",
       " 764644970,\n",
       " 726148842,\n",
       " 756487123650260992,\n",
       " 792788359,\n",
       " 184997446,\n",
       " 706656042327801856,\n",
       " 722787662214483968,\n",
       " 1541810258,\n",
       " 4068318254,\n",
       " 2725381381,\n",
       " 21343120,\n",
       " 275276082,\n",
       " 323208365,\n",
       " 233933230,\n",
       " 55976150,\n",
       " 90804267,\n",
       " 2570615502,\n",
       " 208996041,\n",
       " 133478732,\n",
       " 39578387,\n",
       " 316739994,\n",
       " 3308560736,\n",
       " 39308549,\n",
       " 2845253645,\n",
       " 2750334224,\n",
       " 264268489,\n",
       " 39349894,\n",
       " 42822396,\n",
       " 21458842,\n",
       " 88243144,\n",
       " 1426907185,\n",
       " 2332264339,\n",
       " 104513680,\n",
       " 618563,\n",
       " 264361128,\n",
       " 34917150,\n",
       " 752961357113200640,\n",
       " 59817827,\n",
       " 398919818,\n",
       " 715496304777015296,\n",
       " 347627434,\n",
       " 707077738620780544,\n",
       " 742446825337028608,\n",
       " 9300262,\n",
       " 704034081898668032,\n",
       " 1374585606,\n",
       " 718983299608129536,\n",
       " 584177882,\n",
       " 9300262,\n",
       " 721185346797572096,\n",
       " 67899097,\n",
       " 2499109494,\n",
       " 2796929687,\n",
       " 292929271,\n",
       " 2269567158,\n",
       " 2393098723,\n",
       " 709920419529281536,\n",
       " 4784596178,\n",
       " 4236806414,\n",
       " 494624290,\n",
       " 561654065,\n",
       " 1599141961,\n",
       " 17860906,\n",
       " 2839030037,\n",
       " 4226960114,\n",
       " 743688372460216320,\n",
       " 118496889,\n",
       " 2915156131,\n",
       " 166329578,\n",
       " 4676548814,\n",
       " 4197546072,\n",
       " 88494677,\n",
       " 608471241,\n",
       " 608471241,\n",
       " 325164172,\n",
       " 26672170,\n",
       " 177584156,\n",
       " 2801177472,\n",
       " 95995039,\n",
       " 126009130,\n",
       " 126009130,\n",
       " 399774230,\n",
       " 972255098,\n",
       " 1917731,\n",
       " 65854394,\n",
       " 741589503102570496,\n",
       " 1917731,\n",
       " 2244290719,\n",
       " 701655880920510464,\n",
       " 2793194082,\n",
       " 18301196,\n",
       " 1496756359,\n",
       " 430118889,\n",
       " 15164565,\n",
       " 3697285157,\n",
       " 2923563766,\n",
       " 2923563766,\n",
       " 1375629385,\n",
       " 1325018372,\n",
       " 25975551,\n",
       " 22722452,\n",
       " 374284455,\n",
       " 49035775,\n",
       " 48421473,\n",
       " 428713002,\n",
       " 3407847574,\n",
       " 18545481,\n",
       " 15164565,\n",
       " 47652227,\n",
       " 78523300,\n",
       " 361275163,\n",
       " 495622651,\n",
       " 19098324,\n",
       " 421275603,\n",
       " 177584156,\n",
       " 361275163,\n",
       " 28905454,\n",
       " 15164565,\n",
       " 4429709805,\n",
       " 1496756359,\n",
       " 766797410,\n",
       " 15164565,\n",
       " 548172120,\n",
       " 2241227238,\n",
       " 15164565,\n",
       " 30456403,\n",
       " 248692627,\n",
       " 28048355,\n",
       " 18545481,\n",
       " 1917731,\n",
       " 138742761,\n",
       " 289118612,\n",
       " 15706904,\n",
       " 865636782,\n",
       " 2291904432,\n",
       " 3103091745,\n",
       " 3047937393,\n",
       " 167796615,\n",
       " 14511951,\n",
       " 49452556,\n",
       " 3974665634,\n",
       " 1018491630,\n",
       " 537904539,\n",
       " 2374469136,\n",
       " 3433022621,\n",
       " 585465795,\n",
       " 2883533651,\n",
       " 16955991,\n",
       " 547969112,\n",
       " 272114651,\n",
       " 936148682,\n",
       " 728635523816775680,\n",
       " 547969112,\n",
       " 67899097,\n",
       " 547969112,\n",
       " 3047377314,\n",
       " 759179340307243008,\n",
       " 1367531,\n",
       " 361275163,\n",
       " 399717630,\n",
       " 9369062,\n",
       " 762252876,\n",
       " 582135529,\n",
       " 851866178,\n",
       " 608471241,\n",
       " 331825712,\n",
       " 733808069440741376,\n",
       " 3995778614,\n",
       " 3390416469,\n",
       " 1367531,\n",
       " 754135908,\n",
       " 890302164,\n",
       " 81602176,\n",
       " 728979362775638016,\n",
       " 553998793,\n",
       " 157054921,\n",
       " 2255424079,\n",
       " 547969112,\n",
       " 2875990472,\n",
       " 2316246829,\n",
       " 758313715695427584,\n",
       " 758313715695427584,\n",
       " 25446957,\n",
       " 86963075,\n",
       " 715357604961263616,\n",
       " 140638292,\n",
       " 2801177472,\n",
       " 2801177472,\n",
       " 1976799128,\n",
       " 421460415,\n",
       " 2775579278,\n",
       " 3974665634,\n",
       " 1482516500,\n",
       " 750399805851963392,\n",
       " 43413425,\n",
       " 43308598,\n",
       " 3066008697,\n",
       " 18195110,\n",
       " 40246348,\n",
       " 2793800587,\n",
       " 802722056,\n",
       " 43308598,\n",
       " 402985469,\n",
       " 4897543230,\n",
       " 865538113,\n",
       " 2972410695,\n",
       " 2998466930,\n",
       " 4182512297,\n",
       " 30067748,\n",
       " 71359942,\n",
       " 277090518,\n",
       " 65003619,\n",
       " 753806066052235264,\n",
       " 705333567543504896,\n",
       " 2998441830,\n",
       " 3308110350,\n",
       " 4796678896,\n",
       " 2441304533,\n",
       " 561654065,\n",
       " 3034834939,\n",
       " 261035490,\n",
       " 4851276082,\n",
       " 370513594,\n",
       " 15854008,\n",
       " 2226870793,\n",
       " 971176056,\n",
       " 4240150034,\n",
       " 561654065,\n",
       " 332433520,\n",
       " 2416597188,\n",
       " 2416597188,\n",
       " 17094311,\n",
       " 543452426,\n",
       " 4846395737,\n",
       " 3220025137,\n",
       " 753753493622628352,\n",
       " 18002528,\n",
       " 16444868,\n",
       " 3433002136,\n",
       " 743651896578060288,\n",
       " 21833728,\n",
       " 50010587,\n",
       " 835328618,\n",
       " 297457814,\n",
       " 620872388,\n",
       " 3139537490,\n",
       " 60370335,\n",
       " 1225818590,\n",
       " 234841289,\n",
       " 2891102076,\n",
       " 702174406739685376,\n",
       " 57912099,\n",
       " 732445833682018304,\n",
       " 732445833682018304,\n",
       " 2904671027,\n",
       " 322674930,\n",
       " 65003619,\n",
       " 4543053312,\n",
       " 42158021,\n",
       " 279208035,\n",
       " 180511021,\n",
       " 311241090,\n",
       " 15359578,\n",
       " 20826129,\n",
       " 4700477725,\n",
       " 371142734,\n",
       " 24638062,\n",
       " 45291573,\n",
       " 552410408,\n",
       " 20295763,\n",
       " 1564676498,\n",
       " 17343602,\n",
       " 552983877,\n",
       " 18561223,\n",
       " 14787713,\n",
       " 1568498256,\n",
       " 752493806,\n",
       " 516093774,\n",
       " 28905454,\n",
       " 2747259456,\n",
       " 224268822,\n",
       " 17232340,\n",
       " 3359243787,\n",
       " 75974281,\n",
       " 233933230,\n",
       " 233933230,\n",
       " 479068816,\n",
       " 2892976359,\n",
       " 19908848,\n",
       " 4237277387,\n",
       " 3359243787,\n",
       " 284104234,\n",
       " 3592503441,\n",
       " 905530344,\n",
       " 19899980,\n",
       " 600061917,\n",
       " 221452291,\n",
       " 4765012532,\n",
       " 15671833,\n",
       " 1530853626,\n",
       " 24395228,\n",
       " 343171160,\n",
       " 2908170952,\n",
       " 251913645,\n",
       " 709920419529281536,\n",
       " 431198790,\n",
       " 90285099,\n",
       " 2299826742,\n",
       " 142077688,\n",
       " 1213274119,\n",
       " 608471241,\n",
       " 561654065,\n",
       " 15368940,\n",
       " 2740452163,\n",
       " 25446957,\n",
       " 70773048,\n",
       " 706176697440276480,\n",
       " 759251,\n",
       " 50881405,\n",
       " 1356123823,\n",
       " 716260246109483008,\n",
       " 3202808548,\n",
       " 150059501,\n",
       " 565008398,\n",
       " 56192739,\n",
       " 751095331408973824,\n",
       " 2900220088,\n",
       " 1652687708,\n",
       " 704034081898668032,\n",
       " 37315032,\n",
       " 632171886,\n",
       " 124199238,\n",
       " 3589464580,\n",
       " 542962969,\n",
       " 2421067430,\n",
       " 704363061013057536,\n",
       " 2910776820,\n",
       " 1096411117,\n",
       " 3124454195,\n",
       " 4760647532,\n",
       " 38367188,\n",
       " 605448008,\n",
       " 83788240,\n",
       " 374284455,\n",
       " 22798141,\n",
       " 2818206308,\n",
       " 2382281029,\n",
       " 415256606,\n",
       " 1966026648,\n",
       " 893470729,\n",
       " 2953422203,\n",
       " 167363471,\n",
       " 291874773,\n",
       " 44103717,\n",
       " 28670599,\n",
       " 739567626511388672,\n",
       " 200656602,\n",
       " 31801993,\n",
       " 703230673776197632,\n",
       " 146928495,\n",
       " 729096352676782080,\n",
       " 1643634444,\n",
       " 246377722,\n",
       " 3407847574,\n",
       " 21845346,\n",
       " 385075625,\n",
       " 29465136,\n",
       " 13148382,\n",
       " 4851276082,\n",
       " 3416492723,\n",
       " 3359243787,\n",
       " 9611592,\n",
       " 739080916610342912,\n",
       " 34367582,\n",
       " 28007091,\n",
       " 3124454195,\n",
       " 26579739,\n",
       " 76373,\n",
       " 758049168690642944,\n",
       " 963176808,\n",
       " 19193016,\n",
       " 3381686297,\n",
       " 93493910,\n",
       " 3313143320,\n",
       " 2610081858,\n",
       " 4646073148,\n",
       " 344729527,\n",
       " 32951070,\n",
       " 37013920,\n",
       " 23116280,\n",
       " 25197377,\n",
       " 33228837,\n",
       " 4242905298,\n",
       " 18637247,\n",
       " 714949505720823808,\n",
       " 872954089,\n",
       " 437352926,\n",
       " 23004495,\n",
       " 4361249533,\n",
       " 156377910,\n",
       " 4452560741,\n",
       " 273951517,\n",
       " 264493607,\n",
       " 760130823374843904,\n",
       " 118845216,\n",
       " 232333397,\n",
       " 414873541,\n",
       " 3723723982,\n",
       " 824391878,\n",
       " 450213974,\n",
       " 890302164,\n",
       " 29059784,\n",
       " 709144993,\n",
       " 15104164,\n",
       " 289118612,\n",
       " 3314963469,\n",
       " 21833728,\n",
       " 796261392,\n",
       " 227010728,\n",
       " 196109220,\n",
       " 582414351,\n",
       " 340968277,\n",
       " 1969346438,\n",
       " 13804112,\n",
       " 739567626511388672,\n",
       " 835328618,\n",
       " 164523117,\n",
       " 446228264,\n",
       " 39344374,\n",
       " 757749684580519936,\n",
       " 515542297,\n",
       " 41265813,\n",
       " 78523300,\n",
       " 18643437,\n",
       " 232201971,\n",
       " 801071388,\n",
       " 3539755636,\n",
       " 1367531,\n",
       " 1564676498,\n",
       " 4901489212,\n",
       " 704034081898668032,\n",
       " 22630309,\n",
       " 46520074,\n",
       " 17895820,\n",
       " 14412533,\n",
       " 1917731,\n",
       " 1080576949,\n",
       " 492833134,\n",
       " 65132037,\n",
       " 1735546184,\n",
       " 765091605472698368,\n",
       " 743142244706848768,\n",
       " 107012365,\n",
       " 237623215,\n",
       " 865187658,\n",
       " 621110318,\n",
       " 25197377,\n",
       " 739567626511388672,\n",
       " 1462579488,\n",
       " 430905373,\n",
       " 20854637,\n",
       " 25832979,\n",
       " 1200713864,\n",
       " 758809594936238080,\n",
       " 758809594936238080,\n",
       " 374284455,\n",
       " 25197377,\n",
       " 172394944,\n",
       " 910332056,\n",
       " 34163521,\n",
       " 1537048512,\n",
       " 715650695647637504,\n",
       " 1513958744,\n",
       " 727578244841639936,\n",
       " 713832622808412160,\n",
       " 4855687055,\n",
       " 3558102739,\n",
       " 695365245376696320,\n",
       " 28869089,\n",
       " 54065567,\n",
       " 54065567,\n",
       " 746367431388585984,\n",
       " 746367431388585984,\n",
       " 3166217539,\n",
       " 3329997245,\n",
       " 765091605472698368,\n",
       " 317223956,\n",
       " 1849938847,\n",
       " 1148951203,\n",
       " 138581916,\n",
       " 2953617710,\n",
       " 49685124,\n",
       " 169536421,\n",
       " 3124454195,\n",
       " 2830167800,\n",
       " 141642957,\n",
       " 710829502843064320,\n",
       " 30265457,\n",
       " 561654065,\n",
       " 16887175,\n",
       " 730786518848159744,\n",
       " 22677397,\n",
       " 2353703503,\n",
       " 21248626,\n",
       " 17395207,\n",
       " 144130505,\n",
       " 17529294,\n",
       " 52801677,\n",
       " 742923442471763968,\n",
       " 3697721113,\n",
       " 2584482763,\n",
       " 20944649,\n",
       " 773520163396325376,\n",
       " 20889358,\n",
       " 67095221,\n",
       " 767036004,\n",
       " 765091605472698368,\n",
       " 176914461,\n",
       " 78569026,\n",
       " 331747494,\n",
       " 2316246829,\n",
       " 361275163,\n",
       " 2364837974,\n",
       " 1242465014,\n",
       " 289118612,\n",
       " 568143078,\n",
       " 758313715695427584,\n",
       " 18195110,\n",
       " 765091605472698368,\n",
       " 1289704663,\n",
       " 754086125917106176,\n",
       " 1371572360,\n",
       " 769297227957141504,\n",
       " 3610264154,\n",
       " 27211961,\n",
       " 723387344175296512,\n",
       " 151375368,\n",
       " 767587128524013568,\n",
       " 35677844,\n",
       " 936304345,\n",
       " 19195442,\n",
       " 744281884310405120,\n",
       " 3389134989,\n",
       " 3019417439,\n",
       " 10735392,\n",
       " 3362345172,\n",
       " 33388399,\n",
       " 341688336,\n",
       " 231641765,\n",
       " 3394911915,\n",
       " 2902031256,\n",
       " 3297022953,\n",
       " 455288410,\n",
       " 219815601,\n",
       " 374284455,\n",
       " 2684196134,\n",
       " 865636782,\n",
       " 126009130,\n",
       " 126009130,\n",
       " 126009130,\n",
       " 126009130,\n",
       " 126009130,\n",
       " 126009130,\n",
       " 126009130,\n",
       " 126009130,\n",
       " 126009130,\n",
       " 126009130,\n",
       " 126009130,\n",
       " 126009130,\n",
       " 126009130,\n",
       " 126009130,\n",
       " 126009130,\n",
       " 126009130,\n",
       " 126009130,\n",
       " 126009130,\n",
       " 126009130,\n",
       " 325893346,\n",
       " 126009130,\n",
       " 126009130,\n",
       " 126009130,\n",
       " 126009130,\n",
       " 126009130,\n",
       " 126009130,\n",
       " 126009130,\n",
       " 126009130,\n",
       " 18132806,\n",
       " 3057650044,\n",
       " 972651,\n",
       " 865636782,\n",
       " 1353347065,\n",
       " 767587128524013568,\n",
       " 3686488635,\n",
       " 3002739417,\n",
       " 1183779272,\n",
       " 1309391066,\n",
       " 4334047641,\n",
       " 42371615,\n",
       " 3930608896,\n",
       " 21773704,\n",
       " 399774230,\n",
       " 758076297876602880,\n",
       " 2911587582,\n",
       " 735624304050593792,\n",
       " 4240150034,\n",
       " 16674128,\n",
       " 14441020,\n",
       " 30265457,\n",
       " 1326707346,\n",
       " 908933376,\n",
       " 124185033,\n",
       " 2451462137,\n",
       " 2417586104,\n",
       " 2344571893,\n",
       " 3340267793,\n",
       " 902851051,\n",
       " 1339835893,\n",
       " 36196526,\n",
       " 6563122,\n",
       " 4345493055,\n",
       " 1851877248,\n",
       " 90573210,\n",
       " 118845216,\n",
       " 172032623,\n",
       " 2786693552,\n",
       " 755726522,\n",
       " 2788642796,\n",
       " 340660967,\n",
       " 22141405,\n",
       " 4194141941,\n",
       " 115772421,\n",
       " 22714413,\n",
       " 97082147,\n",
       " 63514682,\n",
       " 1027392638,\n",
       " 259509924,\n",
       " 762658215850971136,\n",
       " 214112621,\n",
       " 15511737,\n",
       " 758313715695427584,\n",
       " 20065936,\n",
       " 704795920433414144,\n",
       " ...]"
      ]
     },
     "execution_count": 49,
     "metadata": {},
     "output_type": "execute_result"
    }
   ],
   "source": [
    "accounts"
   ]
  },
  {
   "cell_type": "code",
   "execution_count": null,
   "metadata": {},
   "outputs": [],
   "source": [
    "\"@clayadavis\"\n",
    "[1548959833]"
   ]
  },
  {
   "cell_type": "code",
   "execution_count": null,
   "metadata": {},
   "outputs": [],
   "source": [
    "pip install git+https://github.com/tweepy/tweepy.git\n"
   ]
  },
  {
   "cell_type": "code",
   "execution_count": null,
   "metadata": {},
   "outputs": [],
   "source": [
    "accounts = snopes.original_id.tolist()\n",
    "\n"
   ]
  },
  {
   "cell_type": "code",
   "execution_count": null,
   "metadata": {},
   "outputs": [],
   "source": [
    "import tweepy\n",
    "from tqdm import tqdm\n",
    "\n",
    "from time import sleep\n",
    "\n",
    "consumer_key, consumer_secret = \"uHktObbiyJpGoLUaENXdpUWyj\", \"DLoJ8VRhFUK4GQeo3XUP2LGaSN4D7a2mAZqSKlRQshr6N0Ru1r\"\n",
    "access_token, access_token_secret = \"4121890515-8wV0UlTyu9hFzJL9d8NBU6BY24STUtS7zFeAcel\", \"vfnDrkEUAHtVayGJDZxau18mPjG4CuyB2JW6sG0xeYFGs\"\n",
    "\n",
    "\n",
    "bearer_token = \"AAAAAAAAAAAAAAAAAAAAAD%2FZWwEAAAAA3Kiamz2egng9VKNdyiCM9%2BFUsrM%3DPS7mSlp9wPQ0BHX5inmPmOJBFrwevMrbEV4e9R10rEeU2DwaJt\"\n",
    "\n",
    "\n",
    "auth = tweepy.OAuthHandler(consumer_key, consumer_secret)\n",
    "auth.set_access_token(access_token, access_token_secret)\n",
    "\n",
    "client = tweepy.Client(bearer_token)\n",
    "# client = tweepy.Client(auth)\n",
    "\n",
    "# client = tweepy.Client(\n",
    "#     consumer_key=consumer_key, consumer_secret=consumer_secret,\n",
    "#     access_token=access_token, access_token_secret=access_token_secret\n",
    "# )\n",
    "\n",
    "# snopes[\"acc_id\"] = None\n",
    "\n",
    "\n",
    "for i, account in tqdm(enumerate(accounts)):\n",
    "    \n",
    "    if i<7250: continue\n",
    "    \n",
    "    if i % 250 == 0:\n",
    "        sleep(900)\n",
    "    try:\n",
    "        response = client.get_tweet(id=account, expansions='author_id')\n",
    "    except Exception as e:\n",
    "        print(\"Cant get tweet -----------> \", e)\n",
    "    \n",
    "    if response.data:\n",
    "        try:\n",
    "            snopes.loc[i, \"acc_id\"] = response.includes[\"users\"][0].id\n",
    "        except Exception as e:\n",
    "            snopes.loc[i, \"acc_id\"] = None\n",
    "            print(\"Cant append to df :/ ----------> \", e)"
   ]
  },
  {
   "cell_type": "code",
   "execution_count": null,
   "metadata": {},
   "outputs": [],
   "source": []
  },
  {
   "cell_type": "code",
   "execution_count": 10,
   "metadata": {},
   "outputs": [],
   "source": [
    "# snopes.to_csv(\"snopes_acc.csv\", index=False)"
   ]
  },
  {
   "cell_type": "code",
   "execution_count": null,
   "metadata": {},
   "outputs": [],
   "source": [
    "first_100 = str(accounts[:100]).replace(\"[\", \"\").replace(\"]\", \"\").replace(\" \", \"\")"
   ]
  },
  {
   "cell_type": "code",
   "execution_count": 31,
   "metadata": {},
   "outputs": [
    {
     "data": {
      "text/plain": [
       "[3981225735.0,\n",
       " 1924071992.0,\n",
       " 924224208.0,\n",
       " 170735298.0,\n",
       " 115563859.0,\n",
       " 8.393007887028756e+17,\n",
       " 187286731.0,\n",
       " 8.039845307009106e+17,\n",
       " 432703985.0,\n",
       " 96838049.0,\n",
       " 22289130.0,\n",
       " 1336826635.0,\n",
       " 600061917.0,\n",
       " 259132164.0,\n",
       " 818231382.0,\n",
       " 284236188.0,\n",
       " 184383206.0,\n",
       " 2316246829.0,\n",
       " 807095.0,\n",
       " 1266239359.0,\n",
       " 3995778614.0,\n",
       " 571135299.0,\n",
       " 1367140224.0,\n",
       " 1170769933.0,\n",
       " 4041846647.0,\n",
       " 2505411212.0,\n",
       " 1102665366.0,\n",
       " 22084427.0,\n",
       " 227128602.0,\n",
       " 221557378.0,\n",
       " 7.048762211971932e+17,\n",
       " 15317676.0,\n",
       " 500391228.0,\n",
       " 1260181622.0,\n",
       " 22162379.0,\n",
       " 14849146.0,\n",
       " 2884176405.0,\n",
       " 2411569569.0,\n",
       " 2411569569.0,\n",
       " 235709466.0,\n",
       " 110855805.0,\n",
       " 554987162.0,\n",
       " 192529611.0,\n",
       " 1329515617.0,\n",
       " 554888488.0,\n",
       " 1367140224.0,\n",
       " 53159918.0,\n",
       " 7.146472202687447e+17,\n",
       " 1732751822.0,\n",
       " 16973333.0,\n",
       " 1893751014.0,\n",
       " 4480863626.0,\n",
       " 166329578.0,\n",
       " 608471241.0,\n",
       " 7.247551525158298e+17,\n",
       " 128796694.0,\n",
       " 607558430.0,\n",
       " 124954456.0,\n",
       " 4864871778.0,\n",
       " 19874344.0,\n",
       " 580312540.0,\n",
       " 1909350781.0,\n",
       " 17756195.0,\n",
       " 304761097.0,\n",
       " 350362817.0,\n",
       " 4173349815.0,\n",
       " 487600344.0,\n",
       " 177584156.0,\n",
       " 2682013394.0,\n",
       " 4236806414.0,\n",
       " 18545481.0,\n",
       " 2255785398.0,\n",
       " 4833119038.0,\n",
       " 2416940856.0,\n",
       " 457820209.0,\n",
       " 30528628.0,\n",
       " 3314758074.0,\n",
       " 68450683.0,\n",
       " 339060259.0,\n",
       " 7.287332983739884e+17,\n",
       " 231124010.0,\n",
       " 3389134989.0,\n",
       " 1038821832.0,\n",
       " 2466008792.0,\n",
       " 370243466.0,\n",
       " 3323100684.0,\n",
       " 68450683.0,\n",
       " 578090036.0,\n",
       " 2206912764.0,\n",
       " 265891353.0,\n",
       " 4823097016.0,\n",
       " 399774230.0,\n",
       " 4832357954.0,\n",
       " 25224960.0,\n",
       " 25224960.0,\n",
       " 3380835143.0,\n",
       " 4909226006.0,\n",
       " 1969346438.0,\n",
       " 3951682217.0,\n",
       " 159655623.0,\n",
       " 22064592.0,\n",
       " 185635130.0,\n",
       " 437208886.0,\n",
       " 4664372353.0,\n",
       " 204872032.0,\n",
       " 440817801.0,\n",
       " 205757668.0,\n",
       " 443924415.0,\n",
       " 18545481.0,\n",
       " 66837697.0,\n",
       " 27789999.0,\n",
       " 27789999.0,\n",
       " 27789999.0,\n",
       " 3411313300.0,\n",
       " 19131322.0,\n",
       " 85831860.0,\n",
       " 2908170952.0,\n",
       " 145359341.0,\n",
       " 312149882.0,\n",
       " 1449488359.0,\n",
       " 4704367111.0,\n",
       " 136166272.0,\n",
       " 2490661603.0,\n",
       " 561654065.0,\n",
       " 163995557.0,\n",
       " 27413161.0,\n",
       " 126009130.0,\n",
       " 126009130.0,\n",
       " 18545481.0,\n",
       " 18545481.0,\n",
       " 18545481.0,\n",
       " 145359341.0,\n",
       " 162114552.0,\n",
       " 3588258014.0,\n",
       " 944470134.0,\n",
       " 1678775311.0,\n",
       " 201727015.0,\n",
       " 7.056079640071086e+17,\n",
       " 222519463.0,\n",
       " 533666781.0,\n",
       " 52136185.0,\n",
       " 586206240.0,\n",
       " 3225287206.0,\n",
       " 49452556.0,\n",
       " 904789082.0,\n",
       " 7.32615765476565e+17,\n",
       " 2665438183.0,\n",
       " 944470134.0,\n",
       " 1713036884.0,\n",
       " 500391228.0,\n",
       " 485373368.0,\n",
       " 59615269.0,\n",
       " 295988417.0,\n",
       " 2695447915.0,\n",
       " 561654065.0,\n",
       " 2840452198.0,\n",
       " 561654065.0,\n",
       " 1425679045.0,\n",
       " 33170847.0,\n",
       " 82447359.0,\n",
       " 3995778614.0,\n",
       " 1605994580.0,\n",
       " 245687348.0,\n",
       " 21833728.0,\n",
       " 82447359.0,\n",
       " 200811254.0,\n",
       " 269576133.0,\n",
       " 361275163.0,\n",
       " 2847859818.0,\n",
       " 4726885214.0,\n",
       " 54065567.0,\n",
       " 54065567.0,\n",
       " 2686313414.0,\n",
       " 2975669439.0,\n",
       " 300497193.0,\n",
       " 361275163.0,\n",
       " 3307295642.0,\n",
       " 2875780737.0,\n",
       " 222519463.0,\n",
       " 7.058907843193774e+17,\n",
       " 17350532.0,\n",
       " 304543369.0,\n",
       " 1849938847.0,\n",
       " 2600602135.0,\n",
       " 59615269.0,\n",
       " 195271137.0,\n",
       " 2600602135.0,\n",
       " 2914451594.0,\n",
       " 3974665634.0,\n",
       " 7.290226403131064e+17,\n",
       " 2600602135.0,\n",
       " 104051619.0,\n",
       " 2600602135.0,\n",
       " 2600602135.0,\n",
       " 1430455554.0,\n",
       " 21343120.0,\n",
       " 1941136946.0,\n",
       " 2600602135.0,\n",
       " 421344061.0,\n",
       " 7.130057074700698e+17,\n",
       " 49685124.0,\n",
       " 3020425427.0,\n",
       " 297191567.0,\n",
       " 4883470551.0,\n",
       " 4883470551.0,\n",
       " 555475580.0,\n",
       " 7.058907843193774e+17,\n",
       " 25066686.0,\n",
       " 7.266279714909348e+17,\n",
       " 359196437.0,\n",
       " 4883470551.0,\n",
       " 487013912.0,\n",
       " 4883470551.0,\n",
       " 7.273085231392727e+17,\n",
       " 7.055326077908705e+17,\n",
       " 4883470551.0,\n",
       " 7.064299452584632e+17,\n",
       " 4883470551.0,\n",
       " 289118612.0,\n",
       " 4883470551.0,\n",
       " 60207798.0,\n",
       " 4883470551.0,\n",
       " 4914495876.0,\n",
       " 60207798.0,\n",
       " 21773704.0,\n",
       " 71272041.0,\n",
       " 194521859.0,\n",
       " 2902181749.0,\n",
       " 4883470551.0,\n",
       " 634676291.0,\n",
       " 4883470551.0,\n",
       " 4883470551.0,\n",
       " 843066685.0,\n",
       " 141711305.0,\n",
       " 3974665634.0,\n",
       " 4883470551.0,\n",
       " 4883470551.0,\n",
       " 2457085861.0,\n",
       " 4883470551.0,\n",
       " 14294848.0,\n",
       " 2421067430.0,\n",
       " 374116640.0,\n",
       " 279390084.0,\n",
       " 19943761.0,\n",
       " 30681036.0,\n",
       " 594886554.0,\n",
       " 594886554.0,\n",
       " 15226811.0,\n",
       " 7.231671252720271e+17,\n",
       " 312149882.0,\n",
       " 3018828006.0,\n",
       " 59241915.0,\n",
       " 14211510.0,\n",
       " 170357723.0,\n",
       " 15012486.0,\n",
       " 126009130.0,\n",
       " 161132591.0,\n",
       " 3567446177.0,\n",
       " 2982225709.0,\n",
       " 18363962.0,\n",
       " 542318578.0,\n",
       " 158619022.0,\n",
       " 121493492.0,\n",
       " 18564980.0,\n",
       " 109484669.0,\n",
       " 18643437.0,\n",
       " 3311629271.0,\n",
       " 32272710.0,\n",
       " 796261392.0,\n",
       " 18240386.0,\n",
       " 146928495.0,\n",
       " 77324226.0,\n",
       " 1735969045.0,\n",
       " 16267083.0,\n",
       " 2560466682.0,\n",
       " 378016563.0,\n",
       " 213795411.0,\n",
       " 414174068.0,\n",
       " 177584156.0,\n",
       " 88989613.0,\n",
       " 31341662.0,\n",
       " 71875415.0,\n",
       " 401657173.0,\n",
       " 275276082.0,\n",
       " 7.191980269092905e+17,\n",
       " 38570287.0,\n",
       " 554316017.0,\n",
       " 944470134.0,\n",
       " 891073250.0,\n",
       " 90194079.0,\n",
       " 7.099204195292815e+17,\n",
       " 7.535734185077432e+17,\n",
       " 94818581.0,\n",
       " 26652733.0,\n",
       " 3314758074.0,\n",
       " 3903128778.0,\n",
       " 149679293.0,\n",
       " 714513049.0,\n",
       " 98229878.0,\n",
       " 3308560736.0,\n",
       " 385194334.0,\n",
       " 2570615502.0,\n",
       " 319373700.0,\n",
       " 362798863.0,\n",
       " 330378192.0,\n",
       " 291874773.0,\n",
       " 118867974.0,\n",
       " 28587919.0,\n",
       " 16208276.0,\n",
       " 238053427.0,\n",
       " 175954697.0,\n",
       " 600195366.0,\n",
       " 525676041.0,\n",
       " 918230042.0,\n",
       " 1269583296.0,\n",
       " 345253262.0,\n",
       " 32133117.0,\n",
       " 4496819788.0,\n",
       " 14294848.0,\n",
       " 108172069.0,\n",
       " 33156354.0,\n",
       " 17427779.0,\n",
       " 3389073989.0,\n",
       " 3020168556.0,\n",
       " 1969346438.0,\n",
       " 4236806414.0,\n",
       " 470438993.0,\n",
       " 21833728.0,\n",
       " 82447359.0,\n",
       " 45302174.0,\n",
       " 272114651.0,\n",
       " 15976697.0,\n",
       " 33529092.0,\n",
       " 1247921690.0,\n",
       " 278781274.0,\n",
       " 47534393.0,\n",
       " 61759552.0,\n",
       " 7.072886419959398e+17,\n",
       " 306097862.0,\n",
       " 43283406.0,\n",
       " 352145373.0,\n",
       " 43296233.0,\n",
       " 3698501.0,\n",
       " 561654065.0,\n",
       " 7.418149298424054e+17,\n",
       " 18764841.0,\n",
       " 19062754.0,\n",
       " 3520122318.0,\n",
       " 14546264.0,\n",
       " 2604924327.0,\n",
       " 338613723.0,\n",
       " 15150453.0,\n",
       " 16027904.0,\n",
       " 18210263.0,\n",
       " 3974665634.0,\n",
       " 3974665634.0,\n",
       " 177584156.0,\n",
       " 3685459885.0,\n",
       " 1620343501.0,\n",
       " 764644970.0,\n",
       " 726148842.0,\n",
       " 7.56487123650261e+17,\n",
       " 792788359.0,\n",
       " 184997446.0,\n",
       " 7.066560423278019e+17,\n",
       " 7.22787662214484e+17,\n",
       " 1541810258.0,\n",
       " 4068318254.0,\n",
       " 2725381381.0,\n",
       " 21343120.0,\n",
       " 275276082.0,\n",
       " 323208365.0,\n",
       " 233933230.0,\n",
       " 55976150.0,\n",
       " 90804267.0,\n",
       " 2570615502.0,\n",
       " 208996041.0,\n",
       " 133478732.0,\n",
       " 39578387.0,\n",
       " 316739994.0,\n",
       " 3308560736.0,\n",
       " 39308549.0,\n",
       " 2845253645.0,\n",
       " 2750334224.0,\n",
       " 264268489.0,\n",
       " 39349894.0,\n",
       " 42822396.0,\n",
       " 21458842.0,\n",
       " 88243144.0,\n",
       " 1426907185.0,\n",
       " 2332264339.0,\n",
       " 104513680.0,\n",
       " 618563.0,\n",
       " 264361128.0,\n",
       " 34917150.0,\n",
       " 7.529613571132006e+17,\n",
       " 59817827.0,\n",
       " 398919818.0,\n",
       " 7.154963047770153e+17,\n",
       " 347627434.0,\n",
       " 7.070777386207805e+17,\n",
       " 7.424468253370286e+17,\n",
       " 9300262.0,\n",
       " 7.04034081898668e+17,\n",
       " 1374585606.0,\n",
       " 7.189832996081295e+17,\n",
       " 584177882.0,\n",
       " 9300262.0,\n",
       " 7.211853467975721e+17,\n",
       " 67899097.0,\n",
       " 2499109494.0,\n",
       " 2796929687.0,\n",
       " 292929271.0,\n",
       " 2269567158.0,\n",
       " 2393098723.0,\n",
       " 7.099204195292815e+17,\n",
       " 4784596178.0,\n",
       " 4236806414.0,\n",
       " 494624290.0,\n",
       " 561654065.0,\n",
       " 1599141961.0,\n",
       " 17860906.0,\n",
       " 2839030037.0,\n",
       " 4226960114.0,\n",
       " 7.436883724602163e+17,\n",
       " 118496889.0,\n",
       " 2915156131.0,\n",
       " 166329578.0,\n",
       " 4676548814.0,\n",
       " 4197546072.0,\n",
       " 88494677.0,\n",
       " 608471241.0,\n",
       " 608471241.0,\n",
       " 325164172.0,\n",
       " 26672170.0,\n",
       " 177584156.0,\n",
       " 2801177472.0,\n",
       " 95995039.0,\n",
       " 126009130.0,\n",
       " 126009130.0,\n",
       " 399774230.0,\n",
       " 972255098.0,\n",
       " 1917731.0,\n",
       " 65854394.0,\n",
       " 7.415895031025705e+17,\n",
       " 1917731.0,\n",
       " 2244290719.0,\n",
       " 7.016558809205105e+17,\n",
       " 2793194082.0,\n",
       " 18301196.0,\n",
       " 1496756359.0,\n",
       " 430118889.0,\n",
       " 15164565.0,\n",
       " 3697285157.0,\n",
       " 2923563766.0,\n",
       " 2923563766.0,\n",
       " 1375629385.0,\n",
       " 1325018372.0,\n",
       " 25975551.0,\n",
       " 22722452.0,\n",
       " 374284455.0,\n",
       " 49035775.0,\n",
       " 48421473.0,\n",
       " 428713002.0,\n",
       " 3407847574.0,\n",
       " 18545481.0,\n",
       " 15164565.0,\n",
       " 47652227.0,\n",
       " 78523300.0,\n",
       " 361275163.0,\n",
       " 495622651.0,\n",
       " 19098324.0,\n",
       " 421275603.0,\n",
       " 177584156.0,\n",
       " 361275163.0,\n",
       " 28905454.0,\n",
       " 15164565.0,\n",
       " 4429709805.0,\n",
       " 1496756359.0,\n",
       " 766797410.0,\n",
       " 15164565.0,\n",
       " 548172120.0,\n",
       " 2241227238.0,\n",
       " 15164565.0,\n",
       " 30456403.0,\n",
       " 248692627.0,\n",
       " 28048355.0,\n",
       " 18545481.0,\n",
       " 1917731.0,\n",
       " 138742761.0,\n",
       " 289118612.0,\n",
       " 15706904.0,\n",
       " 865636782.0,\n",
       " 2291904432.0,\n",
       " 3103091745.0,\n",
       " 3047937393.0,\n",
       " 167796615.0,\n",
       " 14511951.0,\n",
       " 49452556.0,\n",
       " 3974665634.0,\n",
       " 1018491630.0,\n",
       " 537904539.0,\n",
       " 2374469136.0,\n",
       " 3433022621.0,\n",
       " 585465795.0,\n",
       " 2883533651.0,\n",
       " 16955991.0,\n",
       " 547969112.0,\n",
       " 272114651.0,\n",
       " 936148682.0,\n",
       " 7.286355238167757e+17,\n",
       " 547969112.0,\n",
       " 67899097.0,\n",
       " 547969112.0,\n",
       " 3047377314.0,\n",
       " 7.59179340307243e+17,\n",
       " 1367531.0,\n",
       " 361275163.0,\n",
       " 399717630.0,\n",
       " 9369062.0,\n",
       " 762252876.0,\n",
       " 582135529.0,\n",
       " 851866178.0,\n",
       " 608471241.0,\n",
       " 331825712.0,\n",
       " 7.338080694407414e+17,\n",
       " 3995778614.0,\n",
       " 3390416469.0,\n",
       " 1367531.0,\n",
       " 754135908.0,\n",
       " 890302164.0,\n",
       " 81602176.0,\n",
       " 7.28979362775638e+17,\n",
       " 553998793.0,\n",
       " 157054921.0,\n",
       " 2255424079.0,\n",
       " 547969112.0,\n",
       " 2875990472.0,\n",
       " 2316246829.0,\n",
       " 7.583137156954276e+17,\n",
       " 7.583137156954276e+17,\n",
       " 25446957.0,\n",
       " 86963075.0,\n",
       " 7.153576049612636e+17,\n",
       " 140638292.0,\n",
       " 2801177472.0,\n",
       " 2801177472.0,\n",
       " 1976799128.0,\n",
       " 421460415.0,\n",
       " 2775579278.0,\n",
       " 3974665634.0,\n",
       " 1482516500.0,\n",
       " 7.503998058519634e+17,\n",
       " 43413425.0,\n",
       " 43308598.0,\n",
       " 3066008697.0,\n",
       " 18195110.0,\n",
       " 40246348.0,\n",
       " 2793800587.0,\n",
       " 802722056.0,\n",
       " 43308598.0,\n",
       " 402985469.0,\n",
       " 4897543230.0,\n",
       " 865538113.0,\n",
       " 2972410695.0,\n",
       " 2998466930.0,\n",
       " 4182512297.0,\n",
       " 30067748.0,\n",
       " 71359942.0,\n",
       " 277090518.0,\n",
       " 65003619.0,\n",
       " 7.538060660522353e+17,\n",
       " 7.053335675435049e+17,\n",
       " 2998441830.0,\n",
       " 3308110350.0,\n",
       " 4796678896.0,\n",
       " 2441304533.0,\n",
       " 561654065.0,\n",
       " 3034834939.0,\n",
       " 261035490.0,\n",
       " 4851276082.0,\n",
       " 370513594.0,\n",
       " 15854008.0,\n",
       " 2226870793.0,\n",
       " 971176056.0,\n",
       " 4240150034.0,\n",
       " 561654065.0,\n",
       " 332433520.0,\n",
       " 2416597188.0,\n",
       " 2416597188.0,\n",
       " 17094311.0,\n",
       " 543452426.0,\n",
       " 4846395737.0,\n",
       " 3220025137.0,\n",
       " 7.537534936226284e+17,\n",
       " 18002528.0,\n",
       " 16444868.0,\n",
       " 3433002136.0,\n",
       " 7.436518965780603e+17,\n",
       " 21833728.0,\n",
       " 50010587.0,\n",
       " 835328618.0,\n",
       " 297457814.0,\n",
       " 620872388.0,\n",
       " 3139537490.0,\n",
       " 60370335.0,\n",
       " 1225818590.0,\n",
       " 234841289.0,\n",
       " 2891102076.0,\n",
       " 7.021744067396854e+17,\n",
       " 57912099.0,\n",
       " 7.324458336820183e+17,\n",
       " 7.324458336820183e+17,\n",
       " 2904671027.0,\n",
       " 322674930.0,\n",
       " 65003619.0,\n",
       " 4543053312.0,\n",
       " 42158021.0,\n",
       " 279208035.0,\n",
       " 180511021.0,\n",
       " 311241090.0,\n",
       " 15359578.0,\n",
       " 20826129.0,\n",
       " 4700477725.0,\n",
       " 371142734.0,\n",
       " 24638062.0,\n",
       " 45291573.0,\n",
       " 552410408.0,\n",
       " 20295763.0,\n",
       " 1564676498.0,\n",
       " 17343602.0,\n",
       " 552983877.0,\n",
       " 18561223.0,\n",
       " 14787713.0,\n",
       " 1568498256.0,\n",
       " 752493806.0,\n",
       " 516093774.0,\n",
       " 28905454.0,\n",
       " 2747259456.0,\n",
       " 224268822.0,\n",
       " 17232340.0,\n",
       " 3359243787.0,\n",
       " 75974281.0,\n",
       " 233933230.0,\n",
       " 233933230.0,\n",
       " 479068816.0,\n",
       " 2892976359.0,\n",
       " 19908848.0,\n",
       " 4237277387.0,\n",
       " 3359243787.0,\n",
       " 284104234.0,\n",
       " 3592503441.0,\n",
       " 905530344.0,\n",
       " 19899980.0,\n",
       " 600061917.0,\n",
       " 221452291.0,\n",
       " 4765012532.0,\n",
       " 15671833.0,\n",
       " 1530853626.0,\n",
       " 24395228.0,\n",
       " 343171160.0,\n",
       " 2908170952.0,\n",
       " 251913645.0,\n",
       " 7.099204195292815e+17,\n",
       " 431198790.0,\n",
       " 90285099.0,\n",
       " 2299826742.0,\n",
       " 142077688.0,\n",
       " 1213274119.0,\n",
       " 608471241.0,\n",
       " 561654065.0,\n",
       " 15368940.0,\n",
       " 2740452163.0,\n",
       " 25446957.0,\n",
       " 70773048.0,\n",
       " 7.061766974402765e+17,\n",
       " 759251.0,\n",
       " 50881405.0,\n",
       " 1356123823.0,\n",
       " 7.16260246109483e+17,\n",
       " 3202808548.0,\n",
       " 150059501.0,\n",
       " 565008398.0,\n",
       " 56192739.0,\n",
       " 7.510953314089738e+17,\n",
       " 2900220088.0,\n",
       " 1652687708.0,\n",
       " 7.04034081898668e+17,\n",
       " 37315032.0,\n",
       " 632171886.0,\n",
       " 124199238.0,\n",
       " 3589464580.0,\n",
       " 542962969.0,\n",
       " 2421067430.0,\n",
       " 7.043630610130575e+17,\n",
       " 2910776820.0,\n",
       " 1096411117.0,\n",
       " 3124454195.0,\n",
       " 4760647532.0,\n",
       " 38367188.0,\n",
       " 605448008.0,\n",
       " 83788240.0,\n",
       " 374284455.0,\n",
       " 22798141.0,\n",
       " 2818206308.0,\n",
       " 2382281029.0,\n",
       " 415256606.0,\n",
       " 1966026648.0,\n",
       " 893470729.0,\n",
       " 2953422203.0,\n",
       " 167363471.0,\n",
       " 291874773.0,\n",
       " 44103717.0,\n",
       " 28670599.0,\n",
       " 7.395676265113887e+17,\n",
       " 200656602.0,\n",
       " 31801993.0,\n",
       " 7.032306737761976e+17,\n",
       " 146928495.0,\n",
       " 7.290963526767821e+17,\n",
       " 1643634444.0,\n",
       " 246377722.0,\n",
       " 3407847574.0,\n",
       " 21845346.0,\n",
       " 385075625.0,\n",
       " 29465136.0,\n",
       " 13148382.0,\n",
       " 4851276082.0,\n",
       " 3416492723.0,\n",
       " 3359243787.0,\n",
       " 9611592.0,\n",
       " 7.390809166103429e+17,\n",
       " 34367582.0,\n",
       " 28007091.0,\n",
       " 3124454195.0,\n",
       " 26579739.0,\n",
       " 76373.0,\n",
       " 7.58049168690643e+17,\n",
       " 963176808.0,\n",
       " 19193016.0,\n",
       " 3381686297.0,\n",
       " 93493910.0,\n",
       " 3313143320.0,\n",
       " 2610081858.0,\n",
       " 4646073148.0,\n",
       " 344729527.0,\n",
       " 32951070.0,\n",
       " 37013920.0,\n",
       " 23116280.0,\n",
       " 25197377.0,\n",
       " 33228837.0,\n",
       " 4242905298.0,\n",
       " 18637247.0,\n",
       " 7.149495057208238e+17,\n",
       " 872954089.0,\n",
       " 437352926.0,\n",
       " 23004495.0,\n",
       " 4361249533.0,\n",
       " 156377910.0,\n",
       " 4452560741.0,\n",
       " 273951517.0,\n",
       " 264493607.0,\n",
       " 7.601308233748439e+17,\n",
       " 118845216.0,\n",
       " 232333397.0,\n",
       " 414873541.0,\n",
       " 3723723982.0,\n",
       " 824391878.0,\n",
       " 450213974.0,\n",
       " 890302164.0,\n",
       " 29059784.0,\n",
       " 709144993.0,\n",
       " 15104164.0,\n",
       " 289118612.0,\n",
       " 3314963469.0,\n",
       " 21833728.0,\n",
       " 796261392.0,\n",
       " 227010728.0,\n",
       " 196109220.0,\n",
       " 582414351.0,\n",
       " 340968277.0,\n",
       " 1969346438.0,\n",
       " 13804112.0,\n",
       " 7.395676265113887e+17,\n",
       " 835328618.0,\n",
       " 164523117.0,\n",
       " 446228264.0,\n",
       " 39344374.0,\n",
       " 7.5774968458052e+17,\n",
       " 515542297.0,\n",
       " 41265813.0,\n",
       " 78523300.0,\n",
       " 18643437.0,\n",
       " 232201971.0,\n",
       " 801071388.0,\n",
       " 3539755636.0,\n",
       " 1367531.0,\n",
       " 1564676498.0,\n",
       " 4901489212.0,\n",
       " 7.04034081898668e+17,\n",
       " 22630309.0,\n",
       " 46520074.0,\n",
       " 17895820.0,\n",
       " 14412533.0,\n",
       " 1917731.0,\n",
       " 1080576949.0,\n",
       " 492833134.0,\n",
       " 65132037.0,\n",
       " 1735546184.0,\n",
       " 7.650916054726984e+17,\n",
       " 7.431422447068488e+17,\n",
       " 107012365.0,\n",
       " 237623215.0,\n",
       " 865187658.0,\n",
       " 621110318.0,\n",
       " 25197377.0,\n",
       " 7.395676265113887e+17,\n",
       " 1462579488.0,\n",
       " 430905373.0,\n",
       " 20854637.0,\n",
       " 25832979.0,\n",
       " 1200713864.0,\n",
       " 7.588095949362381e+17,\n",
       " 7.588095949362381e+17,\n",
       " 374284455.0,\n",
       " 25197377.0,\n",
       " 172394944.0,\n",
       " 910332056.0,\n",
       " 34163521.0,\n",
       " 1537048512.0,\n",
       " 7.156506956476375e+17,\n",
       " 1513958744.0,\n",
       " 7.2757824484164e+17,\n",
       " 7.138326228084122e+17,\n",
       " 4855687055.0,\n",
       " 3558102739.0,\n",
       " 6.953652453766963e+17,\n",
       " 28869089.0,\n",
       " 54065567.0,\n",
       " 54065567.0,\n",
       " 7.46367431388586e+17,\n",
       " 7.46367431388586e+17,\n",
       " 3166217539.0,\n",
       " 3329997245.0,\n",
       " 7.650916054726984e+17,\n",
       " 317223956.0,\n",
       " 1849938847.0,\n",
       " 1148951203.0,\n",
       " 138581916.0,\n",
       " 2953617710.0,\n",
       " 49685124.0,\n",
       " 169536421.0,\n",
       " 3124454195.0,\n",
       " 2830167800.0,\n",
       " 141642957.0,\n",
       " 7.108295028430643e+17,\n",
       " 30265457.0,\n",
       " 561654065.0,\n",
       " 16887175.0,\n",
       " 7.307865188481597e+17,\n",
       " 22677397.0,\n",
       " 2353703503.0,\n",
       " 21248626.0,\n",
       " 17395207.0,\n",
       " 144130505.0,\n",
       " 17529294.0,\n",
       " 52801677.0,\n",
       " 7.42923442471764e+17,\n",
       " 3697721113.0,\n",
       " 2584482763.0,\n",
       " 20944649.0,\n",
       " 7.735201633963254e+17,\n",
       " 20889358.0,\n",
       " 67095221.0,\n",
       " 767036004.0,\n",
       " 7.650916054726984e+17,\n",
       " 176914461.0,\n",
       " 78569026.0,\n",
       " 331747494.0,\n",
       " 2316246829.0,\n",
       " 361275163.0,\n",
       " 2364837974.0,\n",
       " 1242465014.0,\n",
       " 289118612.0,\n",
       " 568143078.0,\n",
       " 7.583137156954276e+17,\n",
       " 18195110.0,\n",
       " 7.650916054726984e+17,\n",
       " 1289704663.0,\n",
       " 7.540861259171062e+17,\n",
       " 1371572360.0,\n",
       " 7.692972279571415e+17,\n",
       " 3610264154.0,\n",
       " 27211961.0,\n",
       " 7.233873441752965e+17,\n",
       " 151375368.0,\n",
       " 7.675871285240136e+17,\n",
       " 35677844.0,\n",
       " 936304345.0,\n",
       " 19195442.0,\n",
       " 7.442818843104051e+17,\n",
       " 3389134989.0,\n",
       " 3019417439.0,\n",
       " 10735392.0,\n",
       " 3362345172.0,\n",
       " 33388399.0,\n",
       " 341688336.0,\n",
       " 231641765.0,\n",
       " 3394911915.0,\n",
       " 2902031256.0,\n",
       " 3297022953.0,\n",
       " 455288410.0,\n",
       " 219815601.0,\n",
       " 374284455.0,\n",
       " 2684196134.0,\n",
       " 865636782.0,\n",
       " 126009130.0,\n",
       " 126009130.0,\n",
       " 126009130.0,\n",
       " 126009130.0,\n",
       " 126009130.0,\n",
       " 126009130.0,\n",
       " 126009130.0,\n",
       " 126009130.0,\n",
       " 126009130.0,\n",
       " 126009130.0,\n",
       " 126009130.0,\n",
       " 126009130.0,\n",
       " 126009130.0,\n",
       " 126009130.0,\n",
       " 126009130.0,\n",
       " 126009130.0,\n",
       " 126009130.0,\n",
       " 126009130.0,\n",
       " 126009130.0,\n",
       " 325893346.0,\n",
       " 126009130.0,\n",
       " 126009130.0,\n",
       " 126009130.0,\n",
       " 126009130.0,\n",
       " 126009130.0,\n",
       " 126009130.0,\n",
       " 126009130.0,\n",
       " 126009130.0,\n",
       " 18132806.0,\n",
       " 3057650044.0,\n",
       " 972651.0,\n",
       " 865636782.0,\n",
       " 1353347065.0,\n",
       " 7.675871285240136e+17,\n",
       " 3686488635.0,\n",
       " 3002739417.0,\n",
       " 1183779272.0,\n",
       " 1309391066.0,\n",
       " 4334047641.0,\n",
       " 42371615.0,\n",
       " 3930608896.0,\n",
       " 21773704.0,\n",
       " 399774230.0,\n",
       " 7.580762978766029e+17,\n",
       " 2911587582.0,\n",
       " 7.356243040505938e+17,\n",
       " 4240150034.0,\n",
       " 16674128.0,\n",
       " 14441020.0,\n",
       " 30265457.0,\n",
       " 1326707346.0,\n",
       " 908933376.0,\n",
       " 124185033.0,\n",
       " 2451462137.0,\n",
       " 2417586104.0,\n",
       " 2344571893.0,\n",
       " 3340267793.0,\n",
       " 902851051.0,\n",
       " 1339835893.0,\n",
       " 36196526.0,\n",
       " 6563122.0,\n",
       " 4345493055.0,\n",
       " 1851877248.0,\n",
       " 90573210.0,\n",
       " 118845216.0,\n",
       " 172032623.0,\n",
       " 2786693552.0,\n",
       " 755726522.0,\n",
       " 2788642796.0,\n",
       " 340660967.0,\n",
       " 22141405.0,\n",
       " 4194141941.0,\n",
       " 115772421.0,\n",
       " 22714413.0,\n",
       " 97082147.0,\n",
       " 63514682.0,\n",
       " 1027392638.0,\n",
       " 259509924.0,\n",
       " 7.626582158509711e+17,\n",
       " 214112621.0,\n",
       " 15511737.0,\n",
       " 7.583137156954276e+17,\n",
       " 20065936.0,\n",
       " 7.047959204334141e+17,\n",
       " ...]"
      ]
     },
     "execution_count": 31,
     "metadata": {},
     "output_type": "execute_result"
    }
   ],
   "source": [
    "accounts"
   ]
  },
  {
   "cell_type": "code",
   "execution_count": 14,
   "metadata": {},
   "outputs": [
    {
     "data": {
      "text/plain": [
       "['',\n",
       " \"{'cap': {'english': 0.2520419704315795, 'universal': 0.5982419966968565}, 'display_scores': {'english': {'astroturf': 1.2, 'fake_follower': 0.2, 'financial': 0.0, 'other': 1.3, 'overall': 0.1, 'self_declared': 0.1, 'spammer': 0.0}, 'universal': {'astroturf': 0.6, 'fake_follower': 0.4, 'financial': 0.0, 'other': 0.9, 'overall': 0.7, 'self_declared': 0.1, 'spammer': 0.0}}, 'raw_scores': {'english': {'astroturf': 0.24, 'fake_follower': 0.05, 'financial': 0.0, 'other': 0.26, 'overall': 0.02, 'self_declared': 0.02, 'spammer': 0.0}, 'universal': {'astroturf': 0.12, 'fake_follower': 0.07, 'financial': 0.0, 'other': 0.18, 'overall': 0.14, 'self_declared': 0.02, 'spammer': 0.0}}, 'user': {'majority_lang': 'en', 'user_data': {'id_str': '14802766', 'screen_name': 'nan'}}}\",\n",
       " \"{'cap': {'english': 0.2787259978325127, 'universal': 0.6415870166679795}, 'display_scores': {'english': {'astroturf': 1.2, 'fake_follower': 0.4, 'financial': 0.0, 'other': 1.3, 'overall': 0.2, 'self_declared': 0.1, 'spammer': 0.0}, 'universal': {'astroturf': 0.6, 'fake_follower': 0.5, 'financial': 0.0, 'other': 1.0, 'overall': 0.8, 'self_declared': 0.1, 'spammer': 0.0}}, 'raw_scores': {'english': {'astroturf': 0.24, 'fake_follower': 0.08, 'financial': 0.0, 'other': 0.26, 'overall': 0.03, 'self_declared': 0.02, 'spammer': 0.0}, 'universal': {'astroturf': 0.12, 'fake_follower': 0.1, 'financial': 0.0, 'other': 0.19, 'overall': 0.16, 'self_declared': 0.02, 'spammer': 0.0}}, 'user': {'majority_lang': 'en', 'user_data': {'id_str': '14802766', 'screen_name': 'nan'}}}\",\n",
       " \"{'cap': {'english': 0.3342309004634953, 'universal': 0.6608500314332488}, 'display_scores': {'english': {'astroturf': 1.2, 'fake_follower': 0.3, 'financial': 0.0, 'other': 1.3, 'overall': 0.2, 'self_declared': 0.2, 'spammer': 0.0}, 'universal': {'astroturf': 0.6, 'fake_follower': 0.5, 'financial': 0.0, 'other': 1.0, 'overall': 0.8, 'self_declared': 0.1, 'spammer': 0.0}}, 'raw_scores': {'english': {'astroturf': 0.24, 'fake_follower': 0.06, 'financial': 0.0, 'other': 0.26, 'overall': 0.05, 'self_declared': 0.03, 'spammer': 0.0}, 'universal': {'astroturf': 0.12, 'fake_follower': 0.1, 'financial': 0.0, 'other': 0.19, 'overall': 0.17, 'self_declared': 0.02, 'spammer': 0.0}}, 'user': {'majority_lang': 'en', 'user_data': {'id_str': '14802766', 'screen_name': 'nan'}}}\",\n",
       " '{\\'error\\': \"TweepError: [{\\'code\\': 34, \\'message\\': \\'Sorry, that page does not exist.\\'}]\"}']"
      ]
     },
     "execution_count": 14,
     "metadata": {},
     "output_type": "execute_result"
    }
   ],
   "source": [
    "list(set(snopes.botometer.tolist()))"
   ]
  },
  {
   "cell_type": "code",
   "execution_count": 15,
   "metadata": {},
   "outputs": [
    {
     "data": {
      "text/html": [
       "<div>\n",
       "<style scoped>\n",
       "    .dataframe tbody tr th:only-of-type {\n",
       "        vertical-align: middle;\n",
       "    }\n",
       "\n",
       "    .dataframe tbody tr th {\n",
       "        vertical-align: top;\n",
       "    }\n",
       "\n",
       "    .dataframe thead th {\n",
       "        text-align: right;\n",
       "    }\n",
       "</style>\n",
       "<table border=\"1\" class=\"dataframe\">\n",
       "  <thead>\n",
       "    <tr style=\"text-align: right;\">\n",
       "      <th></th>\n",
       "      <th>id</th>\n",
       "      <th>original_id</th>\n",
       "      <th>tweet_text</th>\n",
       "      <th>tweet_url</th>\n",
       "      <th>claim</th>\n",
       "      <th>rating</th>\n",
       "      <th>images</th>\n",
       "      <th>text_images</th>\n",
       "      <th>source</th>\n",
       "      <th>label</th>\n",
       "      <th>label_info</th>\n",
       "      <th>available</th>\n",
       "      <th>acc_id</th>\n",
       "      <th>botometer</th>\n",
       "    </tr>\n",
       "  </thead>\n",
       "  <tbody>\n",
       "    <tr>\n",
       "      <th>199</th>\n",
       "      <td>740993500053901312</td>\n",
       "      <td>740992653555163136</td>\n",
       "      <td>@HillaryClinton  Hillbilly Racists #blm #Black...</td>\n",
       "      <td>https://twitter.com/POTUS/status/7409935000539...</td>\n",
       "      <td>A photograph shows Hillary Clinton in blackfac...</td>\n",
       "      <td>['https://www.snopes.com/tachyon/2018/03/ratin...</td>\n",
       "      <td>http://pbs.twimg.com/media/CkiI48wUkAIzNuC.jpg</td>\n",
       "      <td>THE DEMOCRATS AREN'T GOING TO LIKE THIS ONEI H...</td>\n",
       "      <td>https://www.snopes.com/fact-check/hillary-clin...</td>\n",
       "      <td>false</td>\n",
       "      <td>NaN</td>\n",
       "      <td>ok</td>\n",
       "      <td>NaN</td>\n",
       "      <td>{'cap': {'english': 0.2787259978325127, 'unive...</td>\n",
       "    </tr>\n",
       "    <tr>\n",
       "      <th>272</th>\n",
       "      <td>746201362900254720</td>\n",
       "      <td>746167181608685568</td>\n",
       "      <td>@GrantJr @wakeupfla @FoxNews here's the true R...</td>\n",
       "      <td>https://twitter.com/POTUS/status/7462013629002...</td>\n",
       "      <td>A photograph shows Hillary Clinton in blackfac...</td>\n",
       "      <td>['https://www.snopes.com/tachyon/2018/03/ratin...</td>\n",
       "      <td>http://pbs.twimg.com/media/ClrrF4gWIAAgP-3.jpg</td>\n",
       "      <td>THE DEMOCRATS AREN'T GOING TO LIKE THIS ONE ! ...</td>\n",
       "      <td>https://www.snopes.com/fact-check/hillary-clin...</td>\n",
       "      <td>false</td>\n",
       "      <td>NaN</td>\n",
       "      <td>ok</td>\n",
       "      <td>NaN</td>\n",
       "      <td>{'cap': {'english': 0.2787259978325127, 'unive...</td>\n",
       "    </tr>\n",
       "    <tr>\n",
       "      <th>523</th>\n",
       "      <td>756589186979946496</td>\n",
       "      <td>756557780815867904</td>\n",
       "      <td>Guess This Applies To You Stupid &amp;amp; Easy 2 ...</td>\n",
       "      <td>https://twitter.com/POTUS/status/7565891869799...</td>\n",
       "      <td>Hillary Clinton said that Democratic voters ar...</td>\n",
       "      <td>['https://www.snopes.com/tachyon/2018/03/ratin...</td>\n",
       "      <td>http://pbs.twimg.com/media/Cn_VShHXgAA76R3.jpg</td>\n",
       "      <td>\" Look , the average Democrat voter is just pl...</td>\n",
       "      <td>https://www.snopes.com/fact-check/hillary-clin...</td>\n",
       "      <td>false</td>\n",
       "      <td>NaN</td>\n",
       "      <td>ok</td>\n",
       "      <td>NaN</td>\n",
       "      <td>{'cap': {'english': 0.2787259978325127, 'unive...</td>\n",
       "    </tr>\n",
       "    <tr>\n",
       "      <th>630</th>\n",
       "      <td>758755498300760064</td>\n",
       "      <td>758752442733457408</td>\n",
       "      <td>The Cosmic 'ice sculptures' of the Carina Nebu...</td>\n",
       "      <td>https://twitter.com/POTUS/status/7587554983007...</td>\n",
       "      <td>Scientists are stumped by a photograph taken b...</td>\n",
       "      <td>['https://www.snopes.com/tachyon/2018/03/ratin...</td>\n",
       "      <td>http://pbs.twimg.com/media/CV5fNY5WcAQftf4.jpg</td>\n",
       "      <td>NaN</td>\n",
       "      <td>https://www.snopes.com/fact-check/gates-of-hea...</td>\n",
       "      <td>false</td>\n",
       "      <td>NaN</td>\n",
       "      <td>missing</td>\n",
       "      <td>NaN</td>\n",
       "      <td>{'cap': {'english': 0.2787259978325127, 'unive...</td>\n",
       "    </tr>\n",
       "    <tr>\n",
       "      <th>1061</th>\n",
       "      <td>770292202593484800</td>\n",
       "      <td>770282705434968064</td>\n",
       "      <td>@duceyco @garywhitta @SubjectPolitics PS: I'm ...</td>\n",
       "      <td>https://twitter.com/POTUS/status/7702922025934...</td>\n",
       "      <td>A photograph shows Hillary Clinton in blackfac...</td>\n",
       "      <td>['https://www.snopes.com/tachyon/2018/03/ratin...</td>\n",
       "      <td>http://pbs.twimg.com/media/CrCXl2LUMAAkSWk.jpg</td>\n",
       "      <td>NaN</td>\n",
       "      <td>https://www.snopes.com/fact-check/hillary-clin...</td>\n",
       "      <td>false</td>\n",
       "      <td>NaN</td>\n",
       "      <td>ok</td>\n",
       "      <td>NaN</td>\n",
       "      <td>{'cap': {'english': 0.2787259978325127, 'unive...</td>\n",
       "    </tr>\n",
       "  </tbody>\n",
       "</table>\n",
       "</div>"
      ],
      "text/plain": [
       "                      id         original_id  \\\n",
       "199   740993500053901312  740992653555163136   \n",
       "272   746201362900254720  746167181608685568   \n",
       "523   756589186979946496  756557780815867904   \n",
       "630   758755498300760064  758752442733457408   \n",
       "1061  770292202593484800  770282705434968064   \n",
       "\n",
       "                                             tweet_text  \\\n",
       "199   @HillaryClinton  Hillbilly Racists #blm #Black...   \n",
       "272   @GrantJr @wakeupfla @FoxNews here's the true R...   \n",
       "523   Guess This Applies To You Stupid &amp; Easy 2 ...   \n",
       "630   The Cosmic 'ice sculptures' of the Carina Nebu...   \n",
       "1061  @duceyco @garywhitta @SubjectPolitics PS: I'm ...   \n",
       "\n",
       "                                              tweet_url  \\\n",
       "199   https://twitter.com/POTUS/status/7409935000539...   \n",
       "272   https://twitter.com/POTUS/status/7462013629002...   \n",
       "523   https://twitter.com/POTUS/status/7565891869799...   \n",
       "630   https://twitter.com/POTUS/status/7587554983007...   \n",
       "1061  https://twitter.com/POTUS/status/7702922025934...   \n",
       "\n",
       "                                                  claim  \\\n",
       "199   A photograph shows Hillary Clinton in blackfac...   \n",
       "272   A photograph shows Hillary Clinton in blackfac...   \n",
       "523   Hillary Clinton said that Democratic voters ar...   \n",
       "630   Scientists are stumped by a photograph taken b...   \n",
       "1061  A photograph shows Hillary Clinton in blackfac...   \n",
       "\n",
       "                                                 rating  \\\n",
       "199   ['https://www.snopes.com/tachyon/2018/03/ratin...   \n",
       "272   ['https://www.snopes.com/tachyon/2018/03/ratin...   \n",
       "523   ['https://www.snopes.com/tachyon/2018/03/ratin...   \n",
       "630   ['https://www.snopes.com/tachyon/2018/03/ratin...   \n",
       "1061  ['https://www.snopes.com/tachyon/2018/03/ratin...   \n",
       "\n",
       "                                              images  \\\n",
       "199   http://pbs.twimg.com/media/CkiI48wUkAIzNuC.jpg   \n",
       "272   http://pbs.twimg.com/media/ClrrF4gWIAAgP-3.jpg   \n",
       "523   http://pbs.twimg.com/media/Cn_VShHXgAA76R3.jpg   \n",
       "630   http://pbs.twimg.com/media/CV5fNY5WcAQftf4.jpg   \n",
       "1061  http://pbs.twimg.com/media/CrCXl2LUMAAkSWk.jpg   \n",
       "\n",
       "                                            text_images  \\\n",
       "199   THE DEMOCRATS AREN'T GOING TO LIKE THIS ONEI H...   \n",
       "272   THE DEMOCRATS AREN'T GOING TO LIKE THIS ONE ! ...   \n",
       "523   \" Look , the average Democrat voter is just pl...   \n",
       "630                                                 NaN   \n",
       "1061                                                NaN   \n",
       "\n",
       "                                                 source  label  label_info  \\\n",
       "199   https://www.snopes.com/fact-check/hillary-clin...  false         NaN   \n",
       "272   https://www.snopes.com/fact-check/hillary-clin...  false         NaN   \n",
       "523   https://www.snopes.com/fact-check/hillary-clin...  false         NaN   \n",
       "630   https://www.snopes.com/fact-check/gates-of-hea...  false         NaN   \n",
       "1061  https://www.snopes.com/fact-check/hillary-clin...  false         NaN   \n",
       "\n",
       "     available  acc_id                                          botometer  \n",
       "199         ok     NaN  {'cap': {'english': 0.2787259978325127, 'unive...  \n",
       "272         ok     NaN  {'cap': {'english': 0.2787259978325127, 'unive...  \n",
       "523         ok     NaN  {'cap': {'english': 0.2787259978325127, 'unive...  \n",
       "630    missing     NaN  {'cap': {'english': 0.2787259978325127, 'unive...  \n",
       "1061        ok     NaN  {'cap': {'english': 0.2787259978325127, 'unive...  "
      ]
     },
     "execution_count": 15,
     "metadata": {},
     "output_type": "execute_result"
    }
   ],
   "source": [
    "snopes[snopes.botometer.str.contains(\"{'cap': {'english': 0.2787259978325127, 'universal': 0.6415870166679795}, 'display_scores': {'english': {'astroturf': 1.2, 'fake_follower': 0.4, 'financial': 0.0, 'other': 1.3, 'overall': 0.2, 'self_declared': 0.1, 'spammer': 0.0}, 'universal': {'astroturf': 0.6, 'fake_follower': 0.5, 'financial': 0.0, 'other': 1.0, 'overall': 0.8, 'self_declared': 0.1, 'spammer': 0.0}}, 'raw_scores': {'english': {'astroturf': 0.24, 'fake_follower': 0.08, 'financial': 0.0, 'other': 0.26, 'overall': 0.03, 'self_declared': 0.02, 'spammer': 0.0}, 'universal': {'astroturf': 0.12, 'fake_follower': 0.1, 'financial': 0.0, 'other': 0.19, 'overall': 0.16, 'self_declared': 0.02, 'spammer': 0.0}}, 'user': {'majority_lang': 'en', 'user_data': {'id_str': '14802766', 'screen_name': 'nan'}}}\")]"
   ]
  },
  {
   "cell_type": "code",
   "execution_count": 23,
   "metadata": {},
   "outputs": [
    {
     "data": {
      "text/html": [
       "<div>\n",
       "<style scoped>\n",
       "    .dataframe tbody tr th:only-of-type {\n",
       "        vertical-align: middle;\n",
       "    }\n",
       "\n",
       "    .dataframe tbody tr th {\n",
       "        vertical-align: top;\n",
       "    }\n",
       "\n",
       "    .dataframe thead th {\n",
       "        text-align: right;\n",
       "    }\n",
       "</style>\n",
       "<table border=\"1\" class=\"dataframe\">\n",
       "  <thead>\n",
       "    <tr style=\"text-align: right;\">\n",
       "      <th></th>\n",
       "      <th>id</th>\n",
       "      <th>original_id</th>\n",
       "      <th>tweet_text</th>\n",
       "      <th>tweet_url</th>\n",
       "      <th>claim</th>\n",
       "      <th>rating</th>\n",
       "      <th>images</th>\n",
       "      <th>text_images</th>\n",
       "      <th>source</th>\n",
       "      <th>label</th>\n",
       "      <th>label_info</th>\n",
       "      <th>available</th>\n",
       "      <th>acc_id</th>\n",
       "      <th>botometer</th>\n",
       "    </tr>\n",
       "  </thead>\n",
       "  <tbody>\n",
       "    <tr>\n",
       "      <th>0</th>\n",
       "      <td>1000085962053959680</td>\n",
       "      <td>1000006390323253249</td>\n",
       "      <td>*cough* @NFL *cough* https://t.co/H9SskJ8q4Q</td>\n",
       "      <td>https://twitter.com/POTUS/status/1000085962053...</td>\n",
       "      <td>A German football club was banned from playing...</td>\n",
       "      <td>['https://www.snopes.com/tachyon/2018/03/ratin...</td>\n",
       "      <td>http://pbs.twimg.com/media/DeC8Z5DX4AAduxj.jpg</td>\n",
       "      <td>FAILED TO GIVE NAZI SALUTE . German Football C...</td>\n",
       "      <td>https://www.snopes.com/fact-check/german-footb...</td>\n",
       "      <td>mostly-true-new</td>\n",
       "      <td>NaN</td>\n",
       "      <td>auth</td>\n",
       "      <td>NaN</td>\n",
       "      <td>{'cap': {'english': 0.2520419704315795, 'unive...</td>\n",
       "    </tr>\n",
       "    <tr>\n",
       "      <th>1</th>\n",
       "      <td>1000057516615786496</td>\n",
       "      <td>1000015162714263553</td>\n",
       "      <td>@PhilMcCrackin44 Schiff's sister was married t...</td>\n",
       "      <td>https://twitter.com/POTUS/status/1000057516615...</td>\n",
       "      <td>Adam Schiff's sister Melissa was married to Ge...</td>\n",
       "      <td>['https://www.snopes.com/tachyon/2018/03/ratin...</td>\n",
       "      <td>['http://pbs.twimg.com/media/DeDEfF0XcAAHExJ.j...</td>\n",
       "      <td>['', '', 'di \" twant wutted to cmt ur to frpyo...</td>\n",
       "      <td>https://www.snopes.com/fact-check/adam-schiffs...</td>\n",
       "      <td>false</td>\n",
       "      <td>NaN</td>\n",
       "      <td>auth</td>\n",
       "      <td>NaN</td>\n",
       "      <td>{'cap': {'english': 0.2520419704315795, 'unive...</td>\n",
       "    </tr>\n",
       "    <tr>\n",
       "      <th>2</th>\n",
       "      <td>1000037356836093953</td>\n",
       "      <td>1000023322481086466</td>\n",
       "      <td>Brave men died to keep us free. Radicals want ...</td>\n",
       "      <td>https://twitter.com/POTUS/status/1000037356836...</td>\n",
       "      <td>Liberals were offended by a World War I memori...</td>\n",
       "      <td>['https://www.snopes.com/tachyon/2018/03/ratin...</td>\n",
       "      <td>http://pbs.twimg.com/media/DeDL5a-XkAI7Hlw.jpg</td>\n",
       "      <td>#DontTearMeDown IRSTLIBERT . ORG DontTearMeDow...</td>\n",
       "      <td>https://www.snopes.com/fact-check/liberals-dem...</td>\n",
       "      <td>mixture</td>\n",
       "      <td>NaN</td>\n",
       "      <td>ok</td>\n",
       "      <td>3.981226e+09</td>\n",
       "      <td>{'error': \"TweepError: [{'code': 34, 'message'...</td>\n",
       "    </tr>\n",
       "    <tr>\n",
       "      <th>3</th>\n",
       "      <td>1000056983070892032</td>\n",
       "      <td>1000048498677571584</td>\n",
       "      <td>@AP @farmerfar55 Was he wearing the medal give...</td>\n",
       "      <td>https://twitter.com/POTUS/status/1000056983070...</td>\n",
       "      <td>A meme shows President Obama awarding the Pres...</td>\n",
       "      <td>['https://www.snopes.com/tachyon/2018/03/ratin...</td>\n",
       "      <td>['http://pbs.twimg.com/media/DeCrb0SUwAAsw-t.j...</td>\n",
       "      <td>['', '', '', '']</td>\n",
       "      <td>https://www.snopes.com/fact-check/obama-medal-...</td>\n",
       "      <td>mostly-false</td>\n",
       "      <td>NaN</td>\n",
       "      <td>ok</td>\n",
       "      <td>NaN</td>\n",
       "      <td>{'cap': {'english': 0.2520419704315795, 'unive...</td>\n",
       "    </tr>\n",
       "    <tr>\n",
       "      <th>4</th>\n",
       "      <td>1000149982408794113</td>\n",
       "      <td>1000058582476435456</td>\n",
       "      <td>The importance of the electoral college is vit...</td>\n",
       "      <td>https://twitter.com/POTUS/status/1000149982408...</td>\n",
       "      <td>Donald Trump won 3,084 of America's 3,141 coun...</td>\n",
       "      <td>['https://www.snopes.com/tachyon/2018/03/ratin...</td>\n",
       "      <td>http://pbs.twimg.com/media/DeDr-FjVMAAlZe1.jpg</td>\n",
       "      <td>HILLARY'S POPULAR VOTE Mont . Ore . Idaho Wyo ...</td>\n",
       "      <td>https://www.snopes.com/fact-check/trump-clinto...</td>\n",
       "      <td>false</td>\n",
       "      <td>NaN</td>\n",
       "      <td>auth</td>\n",
       "      <td>NaN</td>\n",
       "      <td>{'cap': {'english': 0.2520419704315795, 'unive...</td>\n",
       "    </tr>\n",
       "    <tr>\n",
       "      <th>...</th>\n",
       "      <td>...</td>\n",
       "      <td>...</td>\n",
       "      <td>...</td>\n",
       "      <td>...</td>\n",
       "      <td>...</td>\n",
       "      <td>...</td>\n",
       "      <td>...</td>\n",
       "      <td>...</td>\n",
       "      <td>...</td>\n",
       "      <td>...</td>\n",
       "      <td>...</td>\n",
       "      <td>...</td>\n",
       "      <td>...</td>\n",
       "      <td>...</td>\n",
       "    </tr>\n",
       "    <tr>\n",
       "      <th>11192</th>\n",
       "      <td>1000146882428096512</td>\n",
       "      <td>999903412425711616</td>\n",
       "      <td>I picked this up from someone here. Its🙄🤨🙄 wor...</td>\n",
       "      <td>https://twitter.com/POTUS/status/1000146882428...</td>\n",
       "      <td>A German football club was banned from playing...</td>\n",
       "      <td>['https://www.snopes.com/tachyon/2018/03/ratin...</td>\n",
       "      <td>http://pbs.twimg.com/media/DeBe1X5VAAI-Zhh.jpg</td>\n",
       "      <td>FAILED TO GIVE NAZI SALUTE . German Football C...</td>\n",
       "      <td>https://www.snopes.com/fact-check/german-footb...</td>\n",
       "      <td>mostly-true-new</td>\n",
       "      <td>NaN</td>\n",
       "      <td>ok</td>\n",
       "      <td>9.174376e+07</td>\n",
       "      <td></td>\n",
       "    </tr>\n",
       "    <tr>\n",
       "      <th>11193</th>\n",
       "      <td>1000018438184734720</td>\n",
       "      <td>999961946932723713</td>\n",
       "      <td>Trump is a criminal, a gangster using criminal...</td>\n",
       "      <td>https://twitter.com/POTUS/status/1000018438184...</td>\n",
       "      <td>Notorious mobster Al Capone demanded an inquir...</td>\n",
       "      <td>['https://www.snopes.com/tachyon/2018/03/ratin...</td>\n",
       "      <td>http://pbs.twimg.com/media/DeCUF2ZV4AAMm0Z.jpg</td>\n",
       "      <td>Ci ) icago Sunday Cribune INAL 17 . Capone Dem...</td>\n",
       "      <td>https://www.snopes.com/fact-check/did-al-capon...</td>\n",
       "      <td>false</td>\n",
       "      <td>NaN</td>\n",
       "      <td>missing</td>\n",
       "      <td>8.816829e+17</td>\n",
       "      <td></td>\n",
       "    </tr>\n",
       "    <tr>\n",
       "      <th>11194</th>\n",
       "      <td>999992400725585920</td>\n",
       "      <td>999962442141782016</td>\n",
       "      <td>@VP @NFL @POTUS The only thing that’s #Winning...</td>\n",
       "      <td>https://twitter.com/POTUS/status/9999924007255...</td>\n",
       "      <td>Baseball players in the 1950s were caught on c...</td>\n",
       "      <td>['https://www.snopes.com/tachyon/2018/03/ratin...</td>\n",
       "      <td>http://pbs.twimg.com/media/DeCUiW3VwAAQbyx.jpg</td>\n",
       "      <td>White Baseball Players Kneel in the 50 ' s to ...</td>\n",
       "      <td>https://www.snopes.com/fact-check/baseball-pla...</td>\n",
       "      <td>false</td>\n",
       "      <td>NaN</td>\n",
       "      <td>auth</td>\n",
       "      <td>1.157486e+08</td>\n",
       "      <td></td>\n",
       "    </tr>\n",
       "    <tr>\n",
       "      <th>11195</th>\n",
       "      <td>1000035228679852032</td>\n",
       "      <td>999973815655518213</td>\n",
       "      <td>@mjfree Sports has been used as a means of pro...</td>\n",
       "      <td>https://twitter.com/POTUS/status/1000035228679...</td>\n",
       "      <td>Baseball players in the 1950s were caught on c...</td>\n",
       "      <td>['https://www.snopes.com/tachyon/2018/03/ratin...</td>\n",
       "      <td>http://pbs.twimg.com/media/DeCejk4WkAMruuM.jpg</td>\n",
       "      <td>White Baseball Players Kneel in the 50 ' s to ...</td>\n",
       "      <td>https://www.snopes.com/fact-check/baseball-pla...</td>\n",
       "      <td>false</td>\n",
       "      <td>NaN</td>\n",
       "      <td>ok</td>\n",
       "      <td>5.182272e+08</td>\n",
       "      <td></td>\n",
       "    </tr>\n",
       "    <tr>\n",
       "      <th>11196</th>\n",
       "      <td>999996611039191040</td>\n",
       "      <td>999996171824386048</td>\n",
       "      <td>@spectatorindex How you call this? https://t.c...</td>\n",
       "      <td>https://twitter.com/POTUS/status/9999966110391...</td>\n",
       "      <td>A photograph shows Senator John McCain posing ...</td>\n",
       "      <td>['https://www.snopes.com/tachyon/2018/03/ratin...</td>\n",
       "      <td>http://pbs.twimg.com/media/DeCzNhwX4AICQ0-.jpg</td>\n",
       "      <td>iSIS Leader Abu Bakr al-Baghdadi US . Sen . ' ...</td>\n",
       "      <td>https://www.snopes.com/fact-check/john-mccain-...</td>\n",
       "      <td>miscaptioned</td>\n",
       "      <td>NaN</td>\n",
       "      <td>ok</td>\n",
       "      <td>NaN</td>\n",
       "      <td></td>\n",
       "    </tr>\n",
       "  </tbody>\n",
       "</table>\n",
       "<p>11197 rows × 14 columns</p>\n",
       "</div>"
      ],
      "text/plain": [
       "                        id          original_id  \\\n",
       "0      1000085962053959680  1000006390323253249   \n",
       "1      1000057516615786496  1000015162714263553   \n",
       "2      1000037356836093953  1000023322481086466   \n",
       "3      1000056983070892032  1000048498677571584   \n",
       "4      1000149982408794113  1000058582476435456   \n",
       "...                    ...                  ...   \n",
       "11192  1000146882428096512   999903412425711616   \n",
       "11193  1000018438184734720   999961946932723713   \n",
       "11194   999992400725585920   999962442141782016   \n",
       "11195  1000035228679852032   999973815655518213   \n",
       "11196   999996611039191040   999996171824386048   \n",
       "\n",
       "                                              tweet_text  \\\n",
       "0           *cough* @NFL *cough* https://t.co/H9SskJ8q4Q   \n",
       "1      @PhilMcCrackin44 Schiff's sister was married t...   \n",
       "2      Brave men died to keep us free. Radicals want ...   \n",
       "3      @AP @farmerfar55 Was he wearing the medal give...   \n",
       "4      The importance of the electoral college is vit...   \n",
       "...                                                  ...   \n",
       "11192  I picked this up from someone here. Its🙄🤨🙄 wor...   \n",
       "11193  Trump is a criminal, a gangster using criminal...   \n",
       "11194  @VP @NFL @POTUS The only thing that’s #Winning...   \n",
       "11195  @mjfree Sports has been used as a means of pro...   \n",
       "11196  @spectatorindex How you call this? https://t.c...   \n",
       "\n",
       "                                               tweet_url  \\\n",
       "0      https://twitter.com/POTUS/status/1000085962053...   \n",
       "1      https://twitter.com/POTUS/status/1000057516615...   \n",
       "2      https://twitter.com/POTUS/status/1000037356836...   \n",
       "3      https://twitter.com/POTUS/status/1000056983070...   \n",
       "4      https://twitter.com/POTUS/status/1000149982408...   \n",
       "...                                                  ...   \n",
       "11192  https://twitter.com/POTUS/status/1000146882428...   \n",
       "11193  https://twitter.com/POTUS/status/1000018438184...   \n",
       "11194  https://twitter.com/POTUS/status/9999924007255...   \n",
       "11195  https://twitter.com/POTUS/status/1000035228679...   \n",
       "11196  https://twitter.com/POTUS/status/9999966110391...   \n",
       "\n",
       "                                                   claim  \\\n",
       "0      A German football club was banned from playing...   \n",
       "1      Adam Schiff's sister Melissa was married to Ge...   \n",
       "2      Liberals were offended by a World War I memori...   \n",
       "3      A meme shows President Obama awarding the Pres...   \n",
       "4      Donald Trump won 3,084 of America's 3,141 coun...   \n",
       "...                                                  ...   \n",
       "11192  A German football club was banned from playing...   \n",
       "11193  Notorious mobster Al Capone demanded an inquir...   \n",
       "11194  Baseball players in the 1950s were caught on c...   \n",
       "11195  Baseball players in the 1950s were caught on c...   \n",
       "11196  A photograph shows Senator John McCain posing ...   \n",
       "\n",
       "                                                  rating  \\\n",
       "0      ['https://www.snopes.com/tachyon/2018/03/ratin...   \n",
       "1      ['https://www.snopes.com/tachyon/2018/03/ratin...   \n",
       "2      ['https://www.snopes.com/tachyon/2018/03/ratin...   \n",
       "3      ['https://www.snopes.com/tachyon/2018/03/ratin...   \n",
       "4      ['https://www.snopes.com/tachyon/2018/03/ratin...   \n",
       "...                                                  ...   \n",
       "11192  ['https://www.snopes.com/tachyon/2018/03/ratin...   \n",
       "11193  ['https://www.snopes.com/tachyon/2018/03/ratin...   \n",
       "11194  ['https://www.snopes.com/tachyon/2018/03/ratin...   \n",
       "11195  ['https://www.snopes.com/tachyon/2018/03/ratin...   \n",
       "11196  ['https://www.snopes.com/tachyon/2018/03/ratin...   \n",
       "\n",
       "                                                  images  \\\n",
       "0         http://pbs.twimg.com/media/DeC8Z5DX4AAduxj.jpg   \n",
       "1      ['http://pbs.twimg.com/media/DeDEfF0XcAAHExJ.j...   \n",
       "2         http://pbs.twimg.com/media/DeDL5a-XkAI7Hlw.jpg   \n",
       "3      ['http://pbs.twimg.com/media/DeCrb0SUwAAsw-t.j...   \n",
       "4         http://pbs.twimg.com/media/DeDr-FjVMAAlZe1.jpg   \n",
       "...                                                  ...   \n",
       "11192     http://pbs.twimg.com/media/DeBe1X5VAAI-Zhh.jpg   \n",
       "11193     http://pbs.twimg.com/media/DeCUF2ZV4AAMm0Z.jpg   \n",
       "11194     http://pbs.twimg.com/media/DeCUiW3VwAAQbyx.jpg   \n",
       "11195     http://pbs.twimg.com/media/DeCejk4WkAMruuM.jpg   \n",
       "11196     http://pbs.twimg.com/media/DeCzNhwX4AICQ0-.jpg   \n",
       "\n",
       "                                             text_images  \\\n",
       "0      FAILED TO GIVE NAZI SALUTE . German Football C...   \n",
       "1      ['', '', 'di \" twant wutted to cmt ur to frpyo...   \n",
       "2      #DontTearMeDown IRSTLIBERT . ORG DontTearMeDow...   \n",
       "3                                       ['', '', '', '']   \n",
       "4      HILLARY'S POPULAR VOTE Mont . Ore . Idaho Wyo ...   \n",
       "...                                                  ...   \n",
       "11192  FAILED TO GIVE NAZI SALUTE . German Football C...   \n",
       "11193  Ci ) icago Sunday Cribune INAL 17 . Capone Dem...   \n",
       "11194  White Baseball Players Kneel in the 50 ' s to ...   \n",
       "11195  White Baseball Players Kneel in the 50 ' s to ...   \n",
       "11196  iSIS Leader Abu Bakr al-Baghdadi US . Sen . ' ...   \n",
       "\n",
       "                                                  source            label  \\\n",
       "0      https://www.snopes.com/fact-check/german-footb...  mostly-true-new   \n",
       "1      https://www.snopes.com/fact-check/adam-schiffs...            false   \n",
       "2      https://www.snopes.com/fact-check/liberals-dem...          mixture   \n",
       "3      https://www.snopes.com/fact-check/obama-medal-...     mostly-false   \n",
       "4      https://www.snopes.com/fact-check/trump-clinto...            false   \n",
       "...                                                  ...              ...   \n",
       "11192  https://www.snopes.com/fact-check/german-footb...  mostly-true-new   \n",
       "11193  https://www.snopes.com/fact-check/did-al-capon...            false   \n",
       "11194  https://www.snopes.com/fact-check/baseball-pla...            false   \n",
       "11195  https://www.snopes.com/fact-check/baseball-pla...            false   \n",
       "11196  https://www.snopes.com/fact-check/john-mccain-...     miscaptioned   \n",
       "\n",
       "       label_info available        acc_id  \\\n",
       "0             NaN      auth           NaN   \n",
       "1             NaN      auth           NaN   \n",
       "2             NaN        ok  3.981226e+09   \n",
       "3             NaN        ok           NaN   \n",
       "4             NaN      auth           NaN   \n",
       "...           ...       ...           ...   \n",
       "11192         NaN        ok  9.174376e+07   \n",
       "11193         NaN   missing  8.816829e+17   \n",
       "11194         NaN      auth  1.157486e+08   \n",
       "11195         NaN        ok  5.182272e+08   \n",
       "11196         NaN        ok           NaN   \n",
       "\n",
       "                                               botometer  \n",
       "0      {'cap': {'english': 0.2520419704315795, 'unive...  \n",
       "1      {'cap': {'english': 0.2520419704315795, 'unive...  \n",
       "2      {'error': \"TweepError: [{'code': 34, 'message'...  \n",
       "3      {'cap': {'english': 0.2520419704315795, 'unive...  \n",
       "4      {'cap': {'english': 0.2520419704315795, 'unive...  \n",
       "...                                                  ...  \n",
       "11192                                                     \n",
       "11193                                                     \n",
       "11194                                                     \n",
       "11195                                                     \n",
       "11196                                                     \n",
       "\n",
       "[11197 rows x 14 columns]"
      ]
     },
     "execution_count": 23,
     "metadata": {},
     "output_type": "execute_result"
    }
   ],
   "source": [
    "snopes"
   ]
  },
  {
   "cell_type": "code",
   "execution_count": 19,
   "metadata": {},
   "outputs": [
    {
     "data": {
      "text/html": [
       "<div>\n",
       "<style scoped>\n",
       "    .dataframe tbody tr th:only-of-type {\n",
       "        vertical-align: middle;\n",
       "    }\n",
       "\n",
       "    .dataframe tbody tr th {\n",
       "        vertical-align: top;\n",
       "    }\n",
       "\n",
       "    .dataframe thead th {\n",
       "        text-align: right;\n",
       "    }\n",
       "</style>\n",
       "<table border=\"1\" class=\"dataframe\">\n",
       "  <thead>\n",
       "    <tr style=\"text-align: right;\">\n",
       "      <th></th>\n",
       "      <th>id</th>\n",
       "      <th>original_id</th>\n",
       "      <th>tweet_text</th>\n",
       "      <th>tweet_url</th>\n",
       "      <th>claim</th>\n",
       "      <th>rating</th>\n",
       "      <th>images</th>\n",
       "      <th>text_images</th>\n",
       "      <th>source</th>\n",
       "      <th>label</th>\n",
       "      <th>label_info</th>\n",
       "      <th>available</th>\n",
       "      <th>acc_id</th>\n",
       "      <th>botometer</th>\n",
       "    </tr>\n",
       "  </thead>\n",
       "  <tbody>\n",
       "  </tbody>\n",
       "</table>\n",
       "</div>"
      ],
      "text/plain": [
       "Empty DataFrame\n",
       "Columns: [id, original_id, tweet_text, tweet_url, claim, rating, images, text_images, source, label, label_info, available, acc_id, botometer]\n",
       "Index: []"
      ]
     },
     "execution_count": 19,
     "metadata": {},
     "output_type": "execute_result"
    }
   ],
   "source": [
    "snopes[snopes.original_id.isin([14802766])]"
   ]
  },
  {
   "cell_type": "code",
   "execution_count": null,
   "metadata": {},
   "outputs": [],
   "source": []
  },
  {
   "cell_type": "code",
   "execution_count": 22,
   "metadata": {},
   "outputs": [
    {
     "data": {
      "text/plain": [
       "3981225735.0"
      ]
     },
     "execution_count": 22,
     "metadata": {},
     "output_type": "execute_result"
    }
   ],
   "source": [
    "snopes.acc_id.tolist()[2]"
   ]
  },
  {
   "cell_type": "code",
   "execution_count": 11,
   "metadata": {},
   "outputs": [
    {
     "name": "stdout",
     "output_type": "stream",
     "text": [
      "Collecting tweepy==4.0\n",
      "  Downloading tweepy-4.0.0-py2.py3-none-any.whl (60 kB)\n",
      "\u001b[K     |████████████████████████████████| 60 kB 1.5 MB/s eta 0:00:01\n",
      "\u001b[?25hRequirement already satisfied: requests<3,>=2.11.1 in /home/mihail/.local/lib/python3.8/site-packages (from tweepy==4.0) (2.27.1)\n",
      "Requirement already satisfied: requests-oauthlib<2,>=1.0.0 in /home/mihail/.local/lib/python3.8/site-packages (from tweepy==4.0) (1.3.1)\n",
      "Requirement already satisfied: charset-normalizer~=2.0.0; python_version >= \"3\" in /home/mihail/.local/lib/python3.8/site-packages (from requests<3,>=2.11.1->tweepy==4.0) (2.0.12)\n",
      "Requirement already satisfied: idna<4,>=2.5; python_version >= \"3\" in /usr/lib/python3/dist-packages (from requests<3,>=2.11.1->tweepy==4.0) (2.8)\n",
      "Requirement already satisfied: certifi>=2017.4.17 in /usr/lib/python3/dist-packages (from requests<3,>=2.11.1->tweepy==4.0) (2019.11.28)\n",
      "Requirement already satisfied: urllib3<1.27,>=1.21.1 in /usr/lib/python3/dist-packages (from requests<3,>=2.11.1->tweepy==4.0) (1.25.8)\n",
      "Requirement already satisfied: oauthlib>=3.0.0 in /home/mihail/.local/lib/python3.8/site-packages (from requests-oauthlib<2,>=1.0.0->tweepy==4.0) (3.2.0)\n",
      "\u001b[31mERROR: botometer 1.6.1 has requirement tweepy<4,>=3.5.0, but you'll have tweepy 4.0.0 which is incompatible.\u001b[0m\n",
      "Installing collected packages: tweepy\n",
      "  Attempting uninstall: tweepy\n",
      "    Found existing installation: tweepy 4.6.0\n",
      "    Uninstalling tweepy-4.6.0:\n",
      "      Successfully uninstalled tweepy-4.6.0\n",
      "Successfully installed tweepy-4.0.0\n",
      "Note: you may need to restart the kernel to use updated packages.\n"
     ]
    }
   ],
   "source": [
    "pip install tweepy==4.0"
   ]
  },
  {
   "cell_type": "code",
   "execution_count": null,
   "metadata": {},
   "outputs": [],
   "source": []
  }
 ],
 "metadata": {
  "kernelspec": {
   "display_name": "Python 3 (ipykernel)",
   "language": "python",
   "name": "python3"
  },
  "language_info": {
   "codemirror_mode": {
    "name": "ipython",
    "version": 3
   },
   "file_extension": ".py",
   "mimetype": "text/x-python",
   "name": "python",
   "nbconvert_exporter": "python",
   "pygments_lexer": "ipython3",
   "version": "3.9.7"
  }
 },
 "nbformat": 4,
 "nbformat_minor": 2
}
