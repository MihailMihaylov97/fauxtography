{
 "cells": [
  {
   "cell_type": "code",
   "execution_count": 1,
   "metadata": {},
   "outputs": [
    {
     "data": {
      "text/html": [
       "<style>.container { width:100% !important; }</style>"
      ],
      "text/plain": [
       "<IPython.core.display.HTML object>"
      ]
     },
     "metadata": {},
     "output_type": "display_data"
    }
   ],
   "source": [
    "from IPython.core.display import display, HTML\n",
    "display(HTML(\"<style>.container { width:100% !important; }</style>\"))"
   ]
  },
  {
   "cell_type": "code",
   "execution_count": 2,
   "metadata": {},
   "outputs": [],
   "source": [
    "import json\n",
    "import pandas as pd\n",
    "import numpy as np"
   ]
  },
  {
   "cell_type": "code",
   "execution_count": 3,
   "metadata": {},
   "outputs": [],
   "source": [
    "with open(\"merged_data.json\") as jfile:\n",
    "    data = json.load(jfile)"
   ]
  },
  {
   "cell_type": "code",
   "execution_count": 4,
   "metadata": {},
   "outputs": [
    {
     "data": {
      "text/plain": [
       "13239"
      ]
     },
     "execution_count": 4,
     "metadata": {},
     "output_type": "execute_result"
    }
   ],
   "source": [
    "len(data)"
   ]
  },
  {
   "cell_type": "code",
   "execution_count": 5,
   "metadata": {},
   "outputs": [
    {
     "data": {
      "text/plain": [
       "{'http://pbs.twimg.com/media/B3j_rixCYAEiZaX.jpg': {'code': '200',\n",
       "  'link': 'http://pbs.twimg.com/media/B3j_rixCYAEiZaX.jpg',\n",
       "  'path': 'images_otweet_DataC/44328.png',\n",
       "  'text_for_the_image': 'EXXON CEO CLAIMS FRACKING IS SAFE \" FILESUWSUIT-TO-STOP FRACKING-NEAR \" - - HIS 100 ACRE HORSE RANCH .'}}"
      ]
     },
     "execution_count": 5,
     "metadata": {},
     "output_type": "execute_result"
    }
   ],
   "source": [
    "data[0]['tweet_data'][\"Images_in_tweet\"]"
   ]
  },
  {
   "cell_type": "code",
   "execution_count": 6,
   "metadata": {},
   "outputs": [],
   "source": [
    "df = pd.DataFrame(index = range(13239), columns=[\"id\", \"original_id\", \"tweet_text\", \"tweet_url\", \"claim\", \"rating\", \"images\", \"text_images\", \"source\"])"
   ]
  },
  {
   "cell_type": "code",
   "execution_count": 7,
   "metadata": {},
   "outputs": [],
   "source": [
    "def extract_labels(tweet):\n",
    "    \n",
    "    try:\n",
    "        tweet_did = tweet[\"tweet_data\"][\"DtweetID\"]\n",
    "        tweet_oid = tweet[\"tweet_data\"][\"originalTweetID\"]\n",
    "        tweet_url = f\"https://twitter.com/POTUS/status/{tweet_did}\"\n",
    "        tweet_text = tweet[\"tweet_data\"][\"OriginalTweetContent_Raw\"]\n",
    "        claim = tweet[\"article_data\"][\"claim\"]\n",
    "        rating = tweet[\"article_data\"][\"rating\"]\n",
    "        images = list(tweet[\"tweet_data\"][\"Images_in_tweet\"].keys())\n",
    "        text_images = [tweet[\"tweet_data\"][\"Images_in_tweet\"][i][\"text_for_the_image\"] for i in images]\n",
    "        source = tweet[\"article_data\"][\"url\"]\n",
    "        \n",
    "        if len(images) == 1: images = images[0]\n",
    "        if len(rating) == 1: rating = rating[0]\n",
    "        if len(text_images) == 1: text_images = text_images[0] if len(text_images[0]) > 0 else None\n",
    "            \n",
    "        return [tweet_did, tweet_oid, tweet_text, tweet_url, claim, rating, images, text_images, source]     \n",
    "    \n",
    "    except Exception as e:\n",
    "        return e\n"
   ]
  },
  {
   "cell_type": "code",
   "execution_count": 8,
   "metadata": {},
   "outputs": [
    {
     "data": {
      "text/plain": [
       "dict_keys(['body-image', 'body-text', 'claim', 'headerImage', 'headerTitle', 'publish_date', 'rating', 'url', 'source'])"
      ]
     },
     "execution_count": 8,
     "metadata": {},
     "output_type": "execute_result"
    }
   ],
   "source": [
    "data[0][\"article_data\"].keys()"
   ]
  },
  {
   "cell_type": "code",
   "execution_count": 9,
   "metadata": {},
   "outputs": [
    {
     "name": "stderr",
     "output_type": "stream",
     "text": [
      "/var/folders/jf/w9ffcr5s1t1fffdv873rd0xr0000gn/T/ipykernel_20309/2779272942.py:6: VisibleDeprecationWarning: Creating an ndarray from ragged nested sequences (which is a list-or-tuple of lists-or-tuples-or ndarrays with different lengths or shapes) is deprecated. If you meant to do this, you must specify 'dtype=object' when creating the ndarray.\n",
      "  df.loc[i,] = np.asarray(info)\n"
     ]
    }
   ],
   "source": [
    "errors = {}\n",
    "for i in df.index:\n",
    "    info = extract_labels(data[i])\n",
    "    \n",
    "    if isinstance(info, list): \n",
    "        df.loc[i,] = np.asarray(info)\n",
    "    else:\n",
    "        errors[i] = info        \n",
    "\n"
   ]
  },
  {
   "cell_type": "code",
   "execution_count": 10,
   "metadata": {},
   "outputs": [
    {
     "data": {
      "text/plain": [
       "{4346: KeyError('rating'),\n",
       " 7518: KeyError('rating'),\n",
       " 9020: KeyError('rating'),\n",
       " 9137: KeyError('rating'),\n",
       " 9617: KeyError('rating')}"
      ]
     },
     "execution_count": 10,
     "metadata": {},
     "output_type": "execute_result"
    }
   ],
   "source": [
    "errors"
   ]
  },
  {
   "cell_type": "code",
   "execution_count": 11,
   "metadata": {},
   "outputs": [],
   "source": [
    "df = df.drop(list(errors.keys()))"
   ]
  },
  {
   "cell_type": "code",
   "execution_count": 12,
   "metadata": {},
   "outputs": [],
   "source": [
    "df[\"label\"] = [i[0].split(\"/\")[-1].split(\".\")[0] for i in df.rating]\n",
    "df[\"label\"] = [i.replace(\"rating-\",\"\").replace(\"tom-\",\"\").replace(\"fom-\",\"\") for i in df.label]\n",
    "df[\"label_info\"] = [i[2] if len(i)>2 else None for i in df.rating]"
   ]
  },
  {
   "cell_type": "code",
   "execution_count": 13,
   "metadata": {},
   "outputs": [],
   "source": [
    "snopes = df[~df.source.str.contains(\"www.politifact.com\")]"
   ]
  },
  {
   "cell_type": "code",
   "execution_count": 14,
   "metadata": {},
   "outputs": [
    {
     "data": {
      "text/plain": [
       "false                   7685\n",
       "mixture                  957\n",
       "mostly-false             874\n",
       "true                     739\n",
       "unproven                 431\n",
       "miscaptioned             293\n",
       "mostly-true-new           92\n",
       "outdated                  46\n",
       "misattributed             41\n",
       "legend                    20\n",
       "correctly-attributed      15\n",
       "scam                       4\n",
       "Name: label, dtype: int64"
      ]
     },
     "execution_count": 14,
     "metadata": {},
     "output_type": "execute_result"
    }
   ],
   "source": [
    "snopes.label.value_counts()"
   ]
  },
  {
   "cell_type": "code",
   "execution_count": 15,
   "metadata": {},
   "outputs": [],
   "source": [
    "import json\n",
    "with open(\"json_data.json\") as rfile:\n",
    "    data = json.load(rfile)\n",
    "    "
   ]
  },
  {
   "cell_type": "code",
   "execution_count": 16,
   "metadata": {},
   "outputs": [],
   "source": [
    "def map_availability(row):\n",
    "    return [key for key in data.keys() if row in data[key]][0]"
   ]
  },
  {
   "cell_type": "code",
   "execution_count": 17,
   "metadata": {},
   "outputs": [
    {
     "name": "stderr",
     "output_type": "stream",
     "text": [
      "/var/folders/jf/w9ffcr5s1t1fffdv873rd0xr0000gn/T/ipykernel_20309/628130827.py:1: SettingWithCopyWarning: \n",
      "A value is trying to be set on a copy of a slice from a DataFrame.\n",
      "Try using .loc[row_indexer,col_indexer] = value instead\n",
      "\n",
      "See the caveats in the documentation: https://pandas.pydata.org/pandas-docs/stable/user_guide/indexing.html#returning-a-view-versus-a-copy\n",
      "  snopes[\"available\"] = snopes.id.apply(map_availability)\n"
     ]
    }
   ],
   "source": [
    "snopes[\"available\"] = snopes.id.apply(map_availability)"
   ]
  },
  {
   "cell_type": "code",
   "execution_count": 105,
   "metadata": {},
   "outputs": [],
   "source": [
    "snopes.to_csv(\"snopes_clean.csv\", index=False)"
   ]
  },
  {
   "cell_type": "code",
   "execution_count": 18,
   "metadata": {},
   "outputs": [],
   "source": [
    "snopes = pd.read_csv(\"snopes_clean.csv\")"
   ]
  },
  {
   "cell_type": "code",
   "execution_count": 19,
   "metadata": {},
   "outputs": [
    {
     "data": {
      "text/html": [
       "<div>\n",
       "<style scoped>\n",
       "    .dataframe tbody tr th:only-of-type {\n",
       "        vertical-align: middle;\n",
       "    }\n",
       "\n",
       "    .dataframe tbody tr th {\n",
       "        vertical-align: top;\n",
       "    }\n",
       "\n",
       "    .dataframe thead th {\n",
       "        text-align: right;\n",
       "    }\n",
       "</style>\n",
       "<table border=\"1\" class=\"dataframe\">\n",
       "  <thead>\n",
       "    <tr style=\"text-align: right;\">\n",
       "      <th></th>\n",
       "      <th>id</th>\n",
       "      <th>original_id</th>\n",
       "      <th>tweet_text</th>\n",
       "      <th>tweet_url</th>\n",
       "      <th>claim</th>\n",
       "      <th>rating</th>\n",
       "      <th>images</th>\n",
       "      <th>text_images</th>\n",
       "      <th>source</th>\n",
       "      <th>label</th>\n",
       "      <th>label_info</th>\n",
       "      <th>available</th>\n",
       "    </tr>\n",
       "  </thead>\n",
       "  <tbody>\n",
       "    <tr>\n",
       "      <th>0</th>\n",
       "      <td>1000085962053959680</td>\n",
       "      <td>1000006390323253249</td>\n",
       "      <td>*cough* @NFL *cough* https://t.co/H9SskJ8q4Q</td>\n",
       "      <td>https://twitter.com/POTUS/status/1000085962053...</td>\n",
       "      <td>A German football club was banned from playing...</td>\n",
       "      <td>['https://www.snopes.com/tachyon/2018/03/ratin...</td>\n",
       "      <td>http://pbs.twimg.com/media/DeC8Z5DX4AAduxj.jpg</td>\n",
       "      <td>FAILED TO GIVE NAZI SALUTE . German Football C...</td>\n",
       "      <td>https://www.snopes.com/fact-check/german-footb...</td>\n",
       "      <td>mostly-true-new</td>\n",
       "      <td>NaN</td>\n",
       "      <td>auth</td>\n",
       "    </tr>\n",
       "    <tr>\n",
       "      <th>1</th>\n",
       "      <td>1000057516615786496</td>\n",
       "      <td>1000015162714263553</td>\n",
       "      <td>@PhilMcCrackin44 Schiff's sister was married t...</td>\n",
       "      <td>https://twitter.com/POTUS/status/1000057516615...</td>\n",
       "      <td>Adam Schiff's sister Melissa was married to Ge...</td>\n",
       "      <td>['https://www.snopes.com/tachyon/2018/03/ratin...</td>\n",
       "      <td>['http://pbs.twimg.com/media/DeDEfF0XcAAHExJ.j...</td>\n",
       "      <td>['', '', 'di \" twant wutted to cmt ur to frpyo...</td>\n",
       "      <td>https://www.snopes.com/fact-check/adam-schiffs...</td>\n",
       "      <td>false</td>\n",
       "      <td>NaN</td>\n",
       "      <td>auth</td>\n",
       "    </tr>\n",
       "    <tr>\n",
       "      <th>2</th>\n",
       "      <td>1000037356836093953</td>\n",
       "      <td>1000023322481086466</td>\n",
       "      <td>Brave men died to keep us free. Radicals want ...</td>\n",
       "      <td>https://twitter.com/POTUS/status/1000037356836...</td>\n",
       "      <td>Liberals were offended by a World War I memori...</td>\n",
       "      <td>['https://www.snopes.com/tachyon/2018/03/ratin...</td>\n",
       "      <td>http://pbs.twimg.com/media/DeDL5a-XkAI7Hlw.jpg</td>\n",
       "      <td>#DontTearMeDown IRSTLIBERT . ORG DontTearMeDow...</td>\n",
       "      <td>https://www.snopes.com/fact-check/liberals-dem...</td>\n",
       "      <td>mixture</td>\n",
       "      <td>NaN</td>\n",
       "      <td>ok</td>\n",
       "    </tr>\n",
       "    <tr>\n",
       "      <th>3</th>\n",
       "      <td>1000056983070892032</td>\n",
       "      <td>1000048498677571584</td>\n",
       "      <td>@AP @farmerfar55 Was he wearing the medal give...</td>\n",
       "      <td>https://twitter.com/POTUS/status/1000056983070...</td>\n",
       "      <td>A meme shows President Obama awarding the Pres...</td>\n",
       "      <td>['https://www.snopes.com/tachyon/2018/03/ratin...</td>\n",
       "      <td>['http://pbs.twimg.com/media/DeCrb0SUwAAsw-t.j...</td>\n",
       "      <td>['', '', '', '']</td>\n",
       "      <td>https://www.snopes.com/fact-check/obama-medal-...</td>\n",
       "      <td>mostly-false</td>\n",
       "      <td>NaN</td>\n",
       "      <td>ok</td>\n",
       "    </tr>\n",
       "    <tr>\n",
       "      <th>4</th>\n",
       "      <td>1000149982408794113</td>\n",
       "      <td>1000058582476435456</td>\n",
       "      <td>The importance of the electoral college is vit...</td>\n",
       "      <td>https://twitter.com/POTUS/status/1000149982408...</td>\n",
       "      <td>Donald Trump won 3,084 of America's 3,141 coun...</td>\n",
       "      <td>['https://www.snopes.com/tachyon/2018/03/ratin...</td>\n",
       "      <td>http://pbs.twimg.com/media/DeDr-FjVMAAlZe1.jpg</td>\n",
       "      <td>HILLARY'S POPULAR VOTE Mont . Ore . Idaho Wyo ...</td>\n",
       "      <td>https://www.snopes.com/fact-check/trump-clinto...</td>\n",
       "      <td>false</td>\n",
       "      <td>NaN</td>\n",
       "      <td>auth</td>\n",
       "    </tr>\n",
       "    <tr>\n",
       "      <th>...</th>\n",
       "      <td>...</td>\n",
       "      <td>...</td>\n",
       "      <td>...</td>\n",
       "      <td>...</td>\n",
       "      <td>...</td>\n",
       "      <td>...</td>\n",
       "      <td>...</td>\n",
       "      <td>...</td>\n",
       "      <td>...</td>\n",
       "      <td>...</td>\n",
       "      <td>...</td>\n",
       "      <td>...</td>\n",
       "    </tr>\n",
       "    <tr>\n",
       "      <th>11192</th>\n",
       "      <td>1000146882428096512</td>\n",
       "      <td>999903412425711616</td>\n",
       "      <td>I picked this up from someone here. Its🙄🤨🙄 wor...</td>\n",
       "      <td>https://twitter.com/POTUS/status/1000146882428...</td>\n",
       "      <td>A German football club was banned from playing...</td>\n",
       "      <td>['https://www.snopes.com/tachyon/2018/03/ratin...</td>\n",
       "      <td>http://pbs.twimg.com/media/DeBe1X5VAAI-Zhh.jpg</td>\n",
       "      <td>FAILED TO GIVE NAZI SALUTE . German Football C...</td>\n",
       "      <td>https://www.snopes.com/fact-check/german-footb...</td>\n",
       "      <td>mostly-true-new</td>\n",
       "      <td>NaN</td>\n",
       "      <td>ok</td>\n",
       "    </tr>\n",
       "    <tr>\n",
       "      <th>11193</th>\n",
       "      <td>1000018438184734720</td>\n",
       "      <td>999961946932723713</td>\n",
       "      <td>Trump is a criminal, a gangster using criminal...</td>\n",
       "      <td>https://twitter.com/POTUS/status/1000018438184...</td>\n",
       "      <td>Notorious mobster Al Capone demanded an inquir...</td>\n",
       "      <td>['https://www.snopes.com/tachyon/2018/03/ratin...</td>\n",
       "      <td>http://pbs.twimg.com/media/DeCUF2ZV4AAMm0Z.jpg</td>\n",
       "      <td>Ci ) icago Sunday Cribune INAL 17 . Capone Dem...</td>\n",
       "      <td>https://www.snopes.com/fact-check/did-al-capon...</td>\n",
       "      <td>false</td>\n",
       "      <td>NaN</td>\n",
       "      <td>missing</td>\n",
       "    </tr>\n",
       "    <tr>\n",
       "      <th>11194</th>\n",
       "      <td>999992400725585920</td>\n",
       "      <td>999962442141782016</td>\n",
       "      <td>@VP @NFL @POTUS The only thing that’s #Winning...</td>\n",
       "      <td>https://twitter.com/POTUS/status/9999924007255...</td>\n",
       "      <td>Baseball players in the 1950s were caught on c...</td>\n",
       "      <td>['https://www.snopes.com/tachyon/2018/03/ratin...</td>\n",
       "      <td>http://pbs.twimg.com/media/DeCUiW3VwAAQbyx.jpg</td>\n",
       "      <td>White Baseball Players Kneel in the 50 ' s to ...</td>\n",
       "      <td>https://www.snopes.com/fact-check/baseball-pla...</td>\n",
       "      <td>false</td>\n",
       "      <td>NaN</td>\n",
       "      <td>auth</td>\n",
       "    </tr>\n",
       "    <tr>\n",
       "      <th>11195</th>\n",
       "      <td>1000035228679852032</td>\n",
       "      <td>999973815655518213</td>\n",
       "      <td>@mjfree Sports has been used as a means of pro...</td>\n",
       "      <td>https://twitter.com/POTUS/status/1000035228679...</td>\n",
       "      <td>Baseball players in the 1950s were caught on c...</td>\n",
       "      <td>['https://www.snopes.com/tachyon/2018/03/ratin...</td>\n",
       "      <td>http://pbs.twimg.com/media/DeCejk4WkAMruuM.jpg</td>\n",
       "      <td>White Baseball Players Kneel in the 50 ' s to ...</td>\n",
       "      <td>https://www.snopes.com/fact-check/baseball-pla...</td>\n",
       "      <td>false</td>\n",
       "      <td>NaN</td>\n",
       "      <td>ok</td>\n",
       "    </tr>\n",
       "    <tr>\n",
       "      <th>11196</th>\n",
       "      <td>999996611039191040</td>\n",
       "      <td>999996171824386048</td>\n",
       "      <td>@spectatorindex How you call this? https://t.c...</td>\n",
       "      <td>https://twitter.com/POTUS/status/9999966110391...</td>\n",
       "      <td>A photograph shows Senator John McCain posing ...</td>\n",
       "      <td>['https://www.snopes.com/tachyon/2018/03/ratin...</td>\n",
       "      <td>http://pbs.twimg.com/media/DeCzNhwX4AICQ0-.jpg</td>\n",
       "      <td>iSIS Leader Abu Bakr al-Baghdadi US . Sen . ' ...</td>\n",
       "      <td>https://www.snopes.com/fact-check/john-mccain-...</td>\n",
       "      <td>miscaptioned</td>\n",
       "      <td>NaN</td>\n",
       "      <td>ok</td>\n",
       "    </tr>\n",
       "  </tbody>\n",
       "</table>\n",
       "<p>11197 rows × 12 columns</p>\n",
       "</div>"
      ],
      "text/plain": [
       "                        id          original_id  \\\n",
       "0      1000085962053959680  1000006390323253249   \n",
       "1      1000057516615786496  1000015162714263553   \n",
       "2      1000037356836093953  1000023322481086466   \n",
       "3      1000056983070892032  1000048498677571584   \n",
       "4      1000149982408794113  1000058582476435456   \n",
       "...                    ...                  ...   \n",
       "11192  1000146882428096512   999903412425711616   \n",
       "11193  1000018438184734720   999961946932723713   \n",
       "11194   999992400725585920   999962442141782016   \n",
       "11195  1000035228679852032   999973815655518213   \n",
       "11196   999996611039191040   999996171824386048   \n",
       "\n",
       "                                              tweet_text  \\\n",
       "0           *cough* @NFL *cough* https://t.co/H9SskJ8q4Q   \n",
       "1      @PhilMcCrackin44 Schiff's sister was married t...   \n",
       "2      Brave men died to keep us free. Radicals want ...   \n",
       "3      @AP @farmerfar55 Was he wearing the medal give...   \n",
       "4      The importance of the electoral college is vit...   \n",
       "...                                                  ...   \n",
       "11192  I picked this up from someone here. Its🙄🤨🙄 wor...   \n",
       "11193  Trump is a criminal, a gangster using criminal...   \n",
       "11194  @VP @NFL @POTUS The only thing that’s #Winning...   \n",
       "11195  @mjfree Sports has been used as a means of pro...   \n",
       "11196  @spectatorindex How you call this? https://t.c...   \n",
       "\n",
       "                                               tweet_url  \\\n",
       "0      https://twitter.com/POTUS/status/1000085962053...   \n",
       "1      https://twitter.com/POTUS/status/1000057516615...   \n",
       "2      https://twitter.com/POTUS/status/1000037356836...   \n",
       "3      https://twitter.com/POTUS/status/1000056983070...   \n",
       "4      https://twitter.com/POTUS/status/1000149982408...   \n",
       "...                                                  ...   \n",
       "11192  https://twitter.com/POTUS/status/1000146882428...   \n",
       "11193  https://twitter.com/POTUS/status/1000018438184...   \n",
       "11194  https://twitter.com/POTUS/status/9999924007255...   \n",
       "11195  https://twitter.com/POTUS/status/1000035228679...   \n",
       "11196  https://twitter.com/POTUS/status/9999966110391...   \n",
       "\n",
       "                                                   claim  \\\n",
       "0      A German football club was banned from playing...   \n",
       "1      Adam Schiff's sister Melissa was married to Ge...   \n",
       "2      Liberals were offended by a World War I memori...   \n",
       "3      A meme shows President Obama awarding the Pres...   \n",
       "4      Donald Trump won 3,084 of America's 3,141 coun...   \n",
       "...                                                  ...   \n",
       "11192  A German football club was banned from playing...   \n",
       "11193  Notorious mobster Al Capone demanded an inquir...   \n",
       "11194  Baseball players in the 1950s were caught on c...   \n",
       "11195  Baseball players in the 1950s were caught on c...   \n",
       "11196  A photograph shows Senator John McCain posing ...   \n",
       "\n",
       "                                                  rating  \\\n",
       "0      ['https://www.snopes.com/tachyon/2018/03/ratin...   \n",
       "1      ['https://www.snopes.com/tachyon/2018/03/ratin...   \n",
       "2      ['https://www.snopes.com/tachyon/2018/03/ratin...   \n",
       "3      ['https://www.snopes.com/tachyon/2018/03/ratin...   \n",
       "4      ['https://www.snopes.com/tachyon/2018/03/ratin...   \n",
       "...                                                  ...   \n",
       "11192  ['https://www.snopes.com/tachyon/2018/03/ratin...   \n",
       "11193  ['https://www.snopes.com/tachyon/2018/03/ratin...   \n",
       "11194  ['https://www.snopes.com/tachyon/2018/03/ratin...   \n",
       "11195  ['https://www.snopes.com/tachyon/2018/03/ratin...   \n",
       "11196  ['https://www.snopes.com/tachyon/2018/03/ratin...   \n",
       "\n",
       "                                                  images  \\\n",
       "0         http://pbs.twimg.com/media/DeC8Z5DX4AAduxj.jpg   \n",
       "1      ['http://pbs.twimg.com/media/DeDEfF0XcAAHExJ.j...   \n",
       "2         http://pbs.twimg.com/media/DeDL5a-XkAI7Hlw.jpg   \n",
       "3      ['http://pbs.twimg.com/media/DeCrb0SUwAAsw-t.j...   \n",
       "4         http://pbs.twimg.com/media/DeDr-FjVMAAlZe1.jpg   \n",
       "...                                                  ...   \n",
       "11192     http://pbs.twimg.com/media/DeBe1X5VAAI-Zhh.jpg   \n",
       "11193     http://pbs.twimg.com/media/DeCUF2ZV4AAMm0Z.jpg   \n",
       "11194     http://pbs.twimg.com/media/DeCUiW3VwAAQbyx.jpg   \n",
       "11195     http://pbs.twimg.com/media/DeCejk4WkAMruuM.jpg   \n",
       "11196     http://pbs.twimg.com/media/DeCzNhwX4AICQ0-.jpg   \n",
       "\n",
       "                                             text_images  \\\n",
       "0      FAILED TO GIVE NAZI SALUTE . German Football C...   \n",
       "1      ['', '', 'di \" twant wutted to cmt ur to frpyo...   \n",
       "2      #DontTearMeDown IRSTLIBERT . ORG DontTearMeDow...   \n",
       "3                                       ['', '', '', '']   \n",
       "4      HILLARY'S POPULAR VOTE Mont . Ore . Idaho Wyo ...   \n",
       "...                                                  ...   \n",
       "11192  FAILED TO GIVE NAZI SALUTE . German Football C...   \n",
       "11193  Ci ) icago Sunday Cribune INAL 17 . Capone Dem...   \n",
       "11194  White Baseball Players Kneel in the 50 ' s to ...   \n",
       "11195  White Baseball Players Kneel in the 50 ' s to ...   \n",
       "11196  iSIS Leader Abu Bakr al-Baghdadi US . Sen . ' ...   \n",
       "\n",
       "                                                  source            label  \\\n",
       "0      https://www.snopes.com/fact-check/german-footb...  mostly-true-new   \n",
       "1      https://www.snopes.com/fact-check/adam-schiffs...            false   \n",
       "2      https://www.snopes.com/fact-check/liberals-dem...          mixture   \n",
       "3      https://www.snopes.com/fact-check/obama-medal-...     mostly-false   \n",
       "4      https://www.snopes.com/fact-check/trump-clinto...            false   \n",
       "...                                                  ...              ...   \n",
       "11192  https://www.snopes.com/fact-check/german-footb...  mostly-true-new   \n",
       "11193  https://www.snopes.com/fact-check/did-al-capon...            false   \n",
       "11194  https://www.snopes.com/fact-check/baseball-pla...            false   \n",
       "11195  https://www.snopes.com/fact-check/baseball-pla...            false   \n",
       "11196  https://www.snopes.com/fact-check/john-mccain-...     miscaptioned   \n",
       "\n",
       "       label_info available  \n",
       "0             NaN      auth  \n",
       "1             NaN      auth  \n",
       "2             NaN        ok  \n",
       "3             NaN        ok  \n",
       "4             NaN      auth  \n",
       "...           ...       ...  \n",
       "11192         NaN        ok  \n",
       "11193         NaN   missing  \n",
       "11194         NaN      auth  \n",
       "11195         NaN        ok  \n",
       "11196         NaN        ok  \n",
       "\n",
       "[11197 rows x 12 columns]"
      ]
     },
     "execution_count": 19,
     "metadata": {},
     "output_type": "execute_result"
    }
   ],
   "source": [
    "snopes"
   ]
  },
  {
   "cell_type": "code",
   "execution_count": 20,
   "metadata": {},
   "outputs": [
    {
     "data": {
      "text/plain": [
       "ok         8464\n",
       "auth       1419\n",
       "missing    1314\n",
       "Name: available, dtype: int64"
      ]
     },
     "execution_count": 20,
     "metadata": {},
     "output_type": "execute_result"
    }
   ],
   "source": [
    "snopes.available.value_counts()"
   ]
  },
  {
   "cell_type": "code",
   "execution_count": 21,
   "metadata": {},
   "outputs": [
    {
     "data": {
      "text/plain": [
       "['https://www.snopes.com/fact-check/german-football-club-banned-failing-give-nazi-salute/',\n",
       " 'https://www.snopes.com/fact-check/did-al-capone-demand-inquiry-doj/',\n",
       " 'https://www.snopes.com/fact-check/baseball-players-kneeling-protest-1950s/',\n",
       " 'https://www.snopes.com/fact-check/baseball-players-kneeling-protest-1950s/',\n",
       " 'https://www.snopes.com/fact-check/john-mccain-meets-isis-leader/']"
      ]
     },
     "execution_count": 21,
     "metadata": {},
     "output_type": "execute_result"
    }
   ],
   "source": [
    "snopes.tail().source.tolist()"
   ]
  },
  {
   "cell_type": "code",
   "execution_count": 22,
   "metadata": {},
   "outputs": [
    {
     "data": {
      "text/plain": [
       "['https://twitter.com/POTUS/status/1000146882428096512',\n",
       " 'https://twitter.com/POTUS/status/1000018438184734720',\n",
       " 'https://twitter.com/POTUS/status/999992400725585920',\n",
       " 'https://twitter.com/POTUS/status/1000035228679852032',\n",
       " 'https://twitter.com/POTUS/status/999996611039191040']"
      ]
     },
     "execution_count": 22,
     "metadata": {},
     "output_type": "execute_result"
    }
   ],
   "source": [
    "snopes.tail().tweet_url.tolist()"
   ]
  },
  {
   "cell_type": "code",
   "execution_count": 23,
   "metadata": {},
   "outputs": [
    {
     "name": "stdout",
     "output_type": "stream",
     "text": [
      "Requirement already satisfied: botometer in /opt/homebrew/Caskroom/miniforge/base/lib/python3.9/site-packages (1.6.1)\r\n",
      "Requirement already satisfied: requests in /opt/homebrew/Caskroom/miniforge/base/lib/python3.9/site-packages (from botometer) (2.26.0)\r\n",
      "Requirement already satisfied: tweepy<4,>=3.5.0 in /opt/homebrew/Caskroom/miniforge/base/lib/python3.9/site-packages (from botometer) (3.10.0)\r\n",
      "Requirement already satisfied: six>=1.10.0 in /opt/homebrew/Caskroom/miniforge/base/lib/python3.9/site-packages (from tweepy<4,>=3.5.0->botometer) (1.16.0)\r\n",
      "Requirement already satisfied: requests-oauthlib>=0.7.0 in /opt/homebrew/Caskroom/miniforge/base/lib/python3.9/site-packages (from tweepy<4,>=3.5.0->botometer) (1.3.0)\r\n",
      "Requirement already satisfied: urllib3<1.27,>=1.21.1 in /opt/homebrew/Caskroom/miniforge/base/lib/python3.9/site-packages (from requests->botometer) (1.26.7)\r\n",
      "Requirement already satisfied: idna<4,>=2.5 in /opt/homebrew/Caskroom/miniforge/base/lib/python3.9/site-packages (from requests->botometer) (3.1)\r\n",
      "Requirement already satisfied: charset-normalizer~=2.0.0 in /opt/homebrew/Caskroom/miniforge/base/lib/python3.9/site-packages (from requests->botometer) (2.0.8)\r\n",
      "Requirement already satisfied: certifi>=2017.4.17 in /opt/homebrew/Caskroom/miniforge/base/lib/python3.9/site-packages (from requests->botometer) (2021.10.8)\r\n",
      "Requirement already satisfied: oauthlib>=3.0.0 in /opt/homebrew/Caskroom/miniforge/base/lib/python3.9/site-packages (from requests-oauthlib>=0.7.0->tweepy<4,>=3.5.0->botometer) (3.1.1)\r\n",
      "Requirement already satisfied: PySocks!=1.5.7,>=1.5.6 in /opt/homebrew/Caskroom/miniforge/base/lib/python3.9/site-packages (from requests->botometer) (1.7.1)\r\n"
     ]
    }
   ],
   "source": [
    "!pip3 install botometer"
   ]
  },
  {
   "cell_type": "code",
   "execution_count": null,
   "metadata": {},
   "outputs": [],
   "source": []
  },
  {
   "cell_type": "code",
   "execution_count": 24,
   "metadata": {},
   "outputs": [
    {
     "ename": "TweepError",
     "evalue": "[{'message': 'You currently have Essential access which includes access to Twitter API v2 endpoints only. If you need access to this endpoint, you’ll need to apply for Elevated access via the Developer Portal. You can learn more here: https://developer.twitter.com/en/docs/twitter-api/getting-started/about-twitter-api#v2-access-leve', 'code': 453}]",
     "output_type": "error",
     "traceback": [
      "\u001b[0;31m---------------------------------------------------------------------------\u001b[0m",
      "\u001b[0;31mTweepError\u001b[0m                                Traceback (most recent call last)",
      "\u001b[0;32m/var/folders/jf/w9ffcr5s1t1fffdv873rd0xr0000gn/T/ipykernel_20309/1252016861.py\u001b[0m in \u001b[0;36m<module>\u001b[0;34m\u001b[0m\n\u001b[1;32m     13\u001b[0m \u001b[0;34m\u001b[0m\u001b[0m\n\u001b[1;32m     14\u001b[0m \u001b[0;31m# Check a single account by screen name\u001b[0m\u001b[0;34m\u001b[0m\u001b[0;34m\u001b[0m\u001b[0m\n\u001b[0;32m---> 15\u001b[0;31m \u001b[0mresult\u001b[0m \u001b[0;34m=\u001b[0m \u001b[0mbom\u001b[0m\u001b[0;34m.\u001b[0m\u001b[0mcheck_account\u001b[0m\u001b[0;34m(\u001b[0m\u001b[0;34m'@clayadavis'\u001b[0m\u001b[0;34m)\u001b[0m\u001b[0;34m\u001b[0m\u001b[0;34m\u001b[0m\u001b[0m\n\u001b[0m\u001b[1;32m     16\u001b[0m \u001b[0;34m\u001b[0m\u001b[0m\n\u001b[1;32m     17\u001b[0m \u001b[0;31m# Check a single account by id\u001b[0m\u001b[0;34m\u001b[0m\u001b[0;34m\u001b[0m\u001b[0m\n",
      "\u001b[0;32m/opt/homebrew/Caskroom/miniforge/base/lib/python3.9/site-packages/botometer/__init__.py\u001b[0m in \u001b[0;36mcheck_account\u001b[0;34m(self, user, full_user_object)\u001b[0m\n\u001b[1;32m    125\u001b[0m \u001b[0;34m\u001b[0m\u001b[0m\n\u001b[1;32m    126\u001b[0m     \u001b[0;32mdef\u001b[0m \u001b[0mcheck_account\u001b[0m\u001b[0;34m(\u001b[0m\u001b[0mself\u001b[0m\u001b[0;34m,\u001b[0m \u001b[0muser\u001b[0m\u001b[0;34m,\u001b[0m \u001b[0mfull_user_object\u001b[0m\u001b[0;34m=\u001b[0m\u001b[0;32mFalse\u001b[0m\u001b[0;34m)\u001b[0m\u001b[0;34m:\u001b[0m\u001b[0;34m\u001b[0m\u001b[0;34m\u001b[0m\u001b[0m\n\u001b[0;32m--> 127\u001b[0;31m         payload = self._get_twitter_data(user,\n\u001b[0m\u001b[1;32m    128\u001b[0m                                          full_user_object=full_user_object)\n\u001b[1;32m    129\u001b[0m         \u001b[0;32mif\u001b[0m \u001b[0;32mnot\u001b[0m \u001b[0mpayload\u001b[0m\u001b[0;34m[\u001b[0m\u001b[0;34m'timeline'\u001b[0m\u001b[0;34m]\u001b[0m\u001b[0;34m:\u001b[0m\u001b[0;34m\u001b[0m\u001b[0;34m\u001b[0m\u001b[0m\n",
      "\u001b[0;32m/opt/homebrew/Caskroom/miniforge/base/lib/python3.9/site-packages/botometer/__init__.py\u001b[0m in \u001b[0;36m_get_twitter_data\u001b[0;34m(self, user, full_user_object)\u001b[0m\n\u001b[1;32m     75\u001b[0m     \u001b[0;32mdef\u001b[0m \u001b[0m_get_twitter_data\u001b[0m\u001b[0;34m(\u001b[0m\u001b[0mself\u001b[0m\u001b[0;34m,\u001b[0m \u001b[0muser\u001b[0m\u001b[0;34m,\u001b[0m \u001b[0mfull_user_object\u001b[0m\u001b[0;34m=\u001b[0m\u001b[0;32mFalse\u001b[0m\u001b[0;34m)\u001b[0m\u001b[0;34m:\u001b[0m\u001b[0;34m\u001b[0m\u001b[0;34m\u001b[0m\u001b[0m\n\u001b[1;32m     76\u001b[0m         \u001b[0;32mtry\u001b[0m\u001b[0;34m:\u001b[0m\u001b[0;34m\u001b[0m\u001b[0;34m\u001b[0m\u001b[0m\n\u001b[0;32m---> 77\u001b[0;31m             user_timeline = self.twitter_api.user_timeline(\n\u001b[0m\u001b[1;32m     78\u001b[0m                     \u001b[0muser\u001b[0m\u001b[0;34m,\u001b[0m\u001b[0;34m\u001b[0m\u001b[0;34m\u001b[0m\u001b[0m\n\u001b[1;32m     79\u001b[0m                     \u001b[0minclude_rts\u001b[0m\u001b[0;34m=\u001b[0m\u001b[0;32mTrue\u001b[0m\u001b[0;34m,\u001b[0m\u001b[0;34m\u001b[0m\u001b[0;34m\u001b[0m\u001b[0m\n",
      "\u001b[0;32m/opt/homebrew/Caskroom/miniforge/base/lib/python3.9/site-packages/tweepy/binder.py\u001b[0m in \u001b[0;36m_call\u001b[0;34m(*args, **kwargs)\u001b[0m\n\u001b[1;32m    251\u001b[0m                 \u001b[0;32mreturn\u001b[0m \u001b[0mmethod\u001b[0m\u001b[0;34m\u001b[0m\u001b[0;34m\u001b[0m\u001b[0m\n\u001b[1;32m    252\u001b[0m             \u001b[0;32melse\u001b[0m\u001b[0;34m:\u001b[0m\u001b[0;34m\u001b[0m\u001b[0;34m\u001b[0m\u001b[0m\n\u001b[0;32m--> 253\u001b[0;31m                 \u001b[0;32mreturn\u001b[0m \u001b[0mmethod\u001b[0m\u001b[0;34m.\u001b[0m\u001b[0mexecute\u001b[0m\u001b[0;34m(\u001b[0m\u001b[0;34m)\u001b[0m\u001b[0;34m\u001b[0m\u001b[0;34m\u001b[0m\u001b[0m\n\u001b[0m\u001b[1;32m    254\u001b[0m         \u001b[0;32mfinally\u001b[0m\u001b[0;34m:\u001b[0m\u001b[0;34m\u001b[0m\u001b[0;34m\u001b[0m\u001b[0m\n\u001b[1;32m    255\u001b[0m             \u001b[0mmethod\u001b[0m\u001b[0;34m.\u001b[0m\u001b[0msession\u001b[0m\u001b[0;34m.\u001b[0m\u001b[0mclose\u001b[0m\u001b[0;34m(\u001b[0m\u001b[0;34m)\u001b[0m\u001b[0;34m\u001b[0m\u001b[0;34m\u001b[0m\u001b[0m\n",
      "\u001b[0;32m/opt/homebrew/Caskroom/miniforge/base/lib/python3.9/site-packages/tweepy/binder.py\u001b[0m in \u001b[0;36mexecute\u001b[0;34m(self)\u001b[0m\n\u001b[1;32m    232\u001b[0m                     \u001b[0;32mraise\u001b[0m \u001b[0mRateLimitError\u001b[0m\u001b[0;34m(\u001b[0m\u001b[0merror_msg\u001b[0m\u001b[0;34m,\u001b[0m \u001b[0mresp\u001b[0m\u001b[0;34m)\u001b[0m\u001b[0;34m\u001b[0m\u001b[0;34m\u001b[0m\u001b[0m\n\u001b[1;32m    233\u001b[0m                 \u001b[0;32melse\u001b[0m\u001b[0;34m:\u001b[0m\u001b[0;34m\u001b[0m\u001b[0;34m\u001b[0m\u001b[0m\n\u001b[0;32m--> 234\u001b[0;31m                     \u001b[0;32mraise\u001b[0m \u001b[0mTweepError\u001b[0m\u001b[0;34m(\u001b[0m\u001b[0merror_msg\u001b[0m\u001b[0;34m,\u001b[0m \u001b[0mresp\u001b[0m\u001b[0;34m,\u001b[0m \u001b[0mapi_code\u001b[0m\u001b[0;34m=\u001b[0m\u001b[0mapi_error_code\u001b[0m\u001b[0;34m)\u001b[0m\u001b[0;34m\u001b[0m\u001b[0;34m\u001b[0m\u001b[0m\n\u001b[0m\u001b[1;32m    235\u001b[0m \u001b[0;34m\u001b[0m\u001b[0m\n\u001b[1;32m    236\u001b[0m             \u001b[0;31m# Parse the response payload\u001b[0m\u001b[0;34m\u001b[0m\u001b[0;34m\u001b[0m\u001b[0m\n",
      "\u001b[0;31mTweepError\u001b[0m: [{'message': 'You currently have Essential access which includes access to Twitter API v2 endpoints only. If you need access to this endpoint, you’ll need to apply for Elevated access via the Developer Portal. You can learn more here: https://developer.twitter.com/en/docs/twitter-api/getting-started/about-twitter-api#v2-access-leve', 'code': 453}]"
     ]
    }
   ],
   "source": [
    "import botometer\n",
    "\n",
    "rapidapi_key = \"b0dd966c59mshdf2db2daf9a121fp15f57djsn5bf9d54db4aa\"\n",
    "twitter_app_auth = {\n",
    "    'consumer_key': 'sO59YfsV552iCsfLLpQTuS64T',\n",
    "    'consumer_secret': 'YVGEDbcA3Mg3bTY9rwXpLAH5ATOzbmhRBZ92wuWaBfVMdiflzq',\n",
    "    'access_token': 'AAAAAAAAAAAAAAAAAAAAAD%2FZWwEAAAAAJgG8hY2XJfmsYbbs%2Bp5BruRr8aM%3DtRxrtqs0eEhHQ9ZFE9U7tRlNnqm7oPUXeQEijSnj3RgxWgvN5l',\n",
    "#     'access_token_secret': 'xxxxxxxxxxx',\n",
    "  }\n",
    "bom = botometer.Botometer(wait_on_ratelimit=True,\n",
    "                          rapidapi_key=rapidapi_key,\n",
    "                          **twitter_app_auth)\n",
    "\n",
    "# Check a single account by screen name\n",
    "result = bom.check_account('@clayadavis')\n",
    "\n",
    "# Check a single account by id\n",
    "# result = bom.check_account(1548959833)\n",
    "\n",
    "# Check a sequence of accounts\n",
    "accounts = ['@clayadavis', '@onurvarol', '@jabawack']\n",
    "for screen_name, result in bom.check_accounts_in(accounts):\n",
    "    print(screen_name)\n",
    "    print(result)\n",
    "    print(\"!\"*100)\n",
    "    # Do stuff with `screen_name` and `result`"
   ]
  },
  {
   "cell_type": "code",
   "execution_count": null,
   "metadata": {},
   "outputs": [],
   "source": []
  }
 ],
 "metadata": {
  "kernelspec": {
   "display_name": "Python 3 (ipykernel)",
   "language": "python",
   "name": "python3"
  },
  "language_info": {
   "codemirror_mode": {
    "name": "ipython",
    "version": 3
   },
   "file_extension": ".py",
   "mimetype": "text/x-python",
   "name": "python",
   "nbconvert_exporter": "python",
   "pygments_lexer": "ipython3",
   "version": "3.9.7"
  }
 },
 "nbformat": 4,
 "nbformat_minor": 2
}
