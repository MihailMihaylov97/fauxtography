{
 "cells": [
  {
   "cell_type": "code",
   "execution_count": 1,
   "metadata": {},
   "outputs": [
    {
     "data": {
      "text/html": [
       "<style>.container { width:100% !important; }</style>"
      ],
      "text/plain": [
       "<IPython.core.display.HTML object>"
      ]
     },
     "metadata": {},
     "output_type": "display_data"
    }
   ],
   "source": [
    "from IPython.core.display import display, HTML\n",
    "display(HTML(\"<style>.container { width:100% !important; }</style>\"))"
   ]
  },
  {
   "cell_type": "code",
   "execution_count": 2,
   "metadata": {},
   "outputs": [],
   "source": [
    "import json\n",
    "import pandas as pd\n",
    "import numpy as np"
   ]
  },
  {
   "cell_type": "code",
   "execution_count": null,
   "metadata": {},
   "outputs": [],
   "source": [
    "with open(\"merged_data.json\") as jfile:\n",
    "    data = json.load(jfile)"
   ]
  },
  {
   "cell_type": "code",
   "execution_count": null,
   "metadata": {},
   "outputs": [],
   "source": [
    "len(data)"
   ]
  },
  {
   "cell_type": "code",
   "execution_count": null,
   "metadata": {},
   "outputs": [],
   "source": [
    "data[0]['tweet_data'][\"Images_in_tweet\"]"
   ]
  },
  {
   "cell_type": "code",
   "execution_count": null,
   "metadata": {},
   "outputs": [],
   "source": [
    "df = pd.DataFrame(index = range(13239), columns=[\"id\", \"original_id\", \"tweet_text\", \"tweet_url\", \"claim\", \"rating\", \"images\", \"text_images\", \"source\"])"
   ]
  },
  {
   "cell_type": "code",
   "execution_count": null,
   "metadata": {},
   "outputs": [],
   "source": [
    "def extract_labels(tweet):\n",
    "    \n",
    "    try:\n",
    "        tweet_did = tweet[\"tweet_data\"][\"DtweetID\"]\n",
    "        tweet_oid = tweet[\"tweet_data\"][\"originalTweetID\"]\n",
    "        tweet_url = f\"https://twitter.com/POTUS/status/{tweet_did}\"\n",
    "        tweet_text = tweet[\"tweet_data\"][\"OriginalTweetContent_Raw\"]\n",
    "        claim = tweet[\"article_data\"][\"claim\"]\n",
    "        rating = tweet[\"article_data\"][\"rating\"]\n",
    "        images = list(tweet[\"tweet_data\"][\"Images_in_tweet\"].keys())\n",
    "        text_images = [tweet[\"tweet_data\"][\"Images_in_tweet\"][i][\"text_for_the_image\"] for i in images]\n",
    "        source = tweet[\"article_data\"][\"url\"]\n",
    "        \n",
    "        if len(images) == 1: images = images[0]\n",
    "        if len(rating) == 1: rating = rating[0]\n",
    "        if len(text_images) == 1: text_images = text_images[0] if len(text_images[0]) > 0 else None\n",
    "            \n",
    "        return [tweet_did, tweet_oid, tweet_text, tweet_url, claim, rating, images, text_images, source]     \n",
    "    \n",
    "    except Exception as e:\n",
    "        return e\n"
   ]
  },
  {
   "cell_type": "code",
   "execution_count": null,
   "metadata": {},
   "outputs": [],
   "source": [
    "data[0][\"article_data\"].keys()"
   ]
  },
  {
   "cell_type": "code",
   "execution_count": null,
   "metadata": {},
   "outputs": [],
   "source": [
    "errors = {}\n",
    "for i in df.index:\n",
    "    info = extract_labels(data[i])\n",
    "    \n",
    "    if isinstance(info, list): \n",
    "        df.loc[i,] = np.asarray(info)\n",
    "    else:\n",
    "        errors[i] = info        \n",
    "\n"
   ]
  },
  {
   "cell_type": "code",
   "execution_count": null,
   "metadata": {},
   "outputs": [],
   "source": [
    "errors"
   ]
  },
  {
   "cell_type": "code",
   "execution_count": null,
   "metadata": {},
   "outputs": [],
   "source": [
    "df = df.drop(list(errors.keys()))"
   ]
  },
  {
   "cell_type": "code",
   "execution_count": null,
   "metadata": {},
   "outputs": [],
   "source": [
    "df[\"label\"] = [i[0].split(\"/\")[-1].split(\".\")[0] for i in df.rating]\n",
    "df[\"label\"] = [i.replace(\"rating-\",\"\").replace(\"tom-\",\"\").replace(\"fom-\",\"\") for i in df.label]\n",
    "df[\"label_info\"] = [i[2] if len(i)>2 else None for i in df.rating]"
   ]
  },
  {
   "cell_type": "code",
   "execution_count": null,
   "metadata": {},
   "outputs": [],
   "source": [
    "snopes = df[~df.source.str.contains(\"www.politifact.com\")]"
   ]
  },
  {
   "cell_type": "code",
   "execution_count": null,
   "metadata": {},
   "outputs": [],
   "source": [
    "snopes.label.value_counts()"
   ]
  },
  {
   "cell_type": "code",
   "execution_count": null,
   "metadata": {},
   "outputs": [],
   "source": [
    "import json\n",
    "with open(\"json_data.json\") as rfile:\n",
    "    data = json.load(rfile)\n",
    "    "
   ]
  },
  {
   "cell_type": "code",
   "execution_count": null,
   "metadata": {},
   "outputs": [],
   "source": [
    "data"
   ]
  },
  {
   "cell_type": "code",
   "execution_count": null,
   "metadata": {},
   "outputs": [],
   "source": [
    "def map_availability(row):\n",
    "    return [key for key in data.keys() if row in data[key]][0]"
   ]
  },
  {
   "cell_type": "code",
   "execution_count": null,
   "metadata": {},
   "outputs": [],
   "source": [
    "snopes[\"available\"] = snopes.id.apply(map_availability)"
   ]
  },
  {
   "cell_type": "code",
   "execution_count": null,
   "metadata": {},
   "outputs": [],
   "source": [
    "# snopes.to_csv(\"snopes_clean.csv\", index=False)"
   ]
  },
  {
   "cell_type": "code",
   "execution_count": null,
   "metadata": {},
   "outputs": [],
   "source": [
    "# snopes = pd.read_csv(\"snopes_clean.csv\")"
   ]
  },
  {
   "cell_type": "code",
   "execution_count": null,
   "metadata": {},
   "outputs": [],
   "source": [
    "snopes"
   ]
  },
  {
   "cell_type": "code",
   "execution_count": null,
   "metadata": {},
   "outputs": [],
   "source": [
    "snopes.available.value_counts()"
   ]
  },
  {
   "cell_type": "code",
   "execution_count": null,
   "metadata": {},
   "outputs": [],
   "source": [
    "snopes.tail().source.tolist()"
   ]
  },
  {
   "cell_type": "code",
   "execution_count": null,
   "metadata": {},
   "outputs": [],
   "source": [
    "snopes.tail().tweet_url.tolist()"
   ]
  },
  {
   "cell_type": "code",
   "execution_count": 5,
   "metadata": {},
   "outputs": [
    {
     "name": "stdout",
     "output_type": "stream",
     "text": [
      "Requirement already satisfied: requests in /opt/homebrew/Caskroom/miniforge/base/lib/python3.9/site-packages (2.27.1)\n",
      "Requirement already satisfied: tweepy in /opt/homebrew/Caskroom/miniforge/base/lib/python3.9/site-packages (4.6.0)\n",
      "Requirement already satisfied: botometer in /opt/homebrew/Caskroom/miniforge/base/lib/python3.9/site-packages (1.6.1)\n",
      "Requirement already satisfied: idna<4,>=2.5 in /opt/homebrew/Caskroom/miniforge/base/lib/python3.9/site-packages (from requests) (3.1)\n",
      "Requirement already satisfied: charset-normalizer~=2.0.0 in /opt/homebrew/Caskroom/miniforge/base/lib/python3.9/site-packages (from requests) (2.0.8)\n",
      "Requirement already satisfied: certifi>=2017.4.17 in /opt/homebrew/Caskroom/miniforge/base/lib/python3.9/site-packages (from requests) (2021.10.8)\n",
      "Requirement already satisfied: urllib3<1.27,>=1.21.1 in /opt/homebrew/Caskroom/miniforge/base/lib/python3.9/site-packages (from requests) (1.26.7)\n",
      "Requirement already satisfied: requests-oauthlib<2,>=1.2.0 in /opt/homebrew/Caskroom/miniforge/base/lib/python3.9/site-packages (from tweepy) (1.3.0)\n",
      "Requirement already satisfied: oauthlib<4,>=3.2.0 in /opt/homebrew/Caskroom/miniforge/base/lib/python3.9/site-packages (from tweepy) (3.2.0)\n",
      "Collecting tweepy\n",
      "  Using cached tweepy-3.10.0-py2.py3-none-any.whl (30 kB)\n",
      "Requirement already satisfied: six>=1.10.0 in /opt/homebrew/Caskroom/miniforge/base/lib/python3.9/site-packages (from tweepy) (1.16.0)\n",
      "Requirement already satisfied: PySocks!=1.5.7,>=1.5.6 in /opt/homebrew/Caskroom/miniforge/base/lib/python3.9/site-packages (from requests) (1.7.1)\n",
      "Installing collected packages: tweepy\n",
      "  Attempting uninstall: tweepy\n",
      "    Found existing installation: tweepy 4.6.0\n",
      "    Uninstalling tweepy-4.6.0:\n",
      "      Successfully uninstalled tweepy-4.6.0\n",
      "Successfully installed tweepy-3.10.0\n"
     ]
    }
   ],
   "source": [
    "!pip3 install requests tweepy botometer"
   ]
  },
  {
   "cell_type": "code",
   "execution_count": 54,
   "metadata": {},
   "outputs": [
    {
     "name": "stderr",
     "output_type": "stream",
     "text": [
      "/var/folders/jf/w9ffcr5s1t1fffdv873rd0xr0000gn/T/ipykernel_17446/1629282148.py:5: SettingWithCopyWarning: \n",
      "A value is trying to be set on a copy of a slice from a DataFrame.\n",
      "Try using .loc[row_indexer,col_indexer] = value instead\n",
      "\n",
      "See the caveats in the documentation: https://pandas.pydata.org/pandas-docs/stable/user_guide/indexing.html#returning-a-view-versus-a-copy\n",
      "  snopes_acc[\"acc_id\"] = snopes_acc.acc_id.astype(int)\n"
     ]
    }
   ],
   "source": [
    "snopes = pd.read_csv(\"snopes_acc.csv\")\n",
    "snopes[\"botometer\"] = ''\n",
    "\n",
    "snopes_acc = snopes[snopes.acc_id.notna()]\n",
    "snopes_acc[\"acc_id\"] = snopes_acc.acc_id.astype(int)\n",
    "accounts = snopes_acc.acc_id.tolist()\n",
    "\n",
    "\n",
    "snopes_acc.reset_index(inplace=True)\n",
    "del snopes_acc['index']"
   ]
  },
  {
   "cell_type": "code",
   "execution_count": 55,
   "metadata": {},
   "outputs": [
    {
     "data": {
      "text/html": [
       "<div>\n",
       "<style scoped>\n",
       "    .dataframe tbody tr th:only-of-type {\n",
       "        vertical-align: middle;\n",
       "    }\n",
       "\n",
       "    .dataframe tbody tr th {\n",
       "        vertical-align: top;\n",
       "    }\n",
       "\n",
       "    .dataframe thead th {\n",
       "        text-align: right;\n",
       "    }\n",
       "</style>\n",
       "<table border=\"1\" class=\"dataframe\">\n",
       "  <thead>\n",
       "    <tr style=\"text-align: right;\">\n",
       "      <th></th>\n",
       "      <th>id</th>\n",
       "      <th>original_id</th>\n",
       "      <th>tweet_text</th>\n",
       "      <th>tweet_url</th>\n",
       "      <th>claim</th>\n",
       "      <th>rating</th>\n",
       "      <th>images</th>\n",
       "      <th>text_images</th>\n",
       "      <th>source</th>\n",
       "      <th>label</th>\n",
       "      <th>label_info</th>\n",
       "      <th>available</th>\n",
       "      <th>acc_id</th>\n",
       "      <th>botometer</th>\n",
       "    </tr>\n",
       "  </thead>\n",
       "  <tbody>\n",
       "    <tr>\n",
       "      <th>0</th>\n",
       "      <td>1000037356836093953</td>\n",
       "      <td>1000023322481086466</td>\n",
       "      <td>Brave men died to keep us free. Radicals want ...</td>\n",
       "      <td>https://twitter.com/POTUS/status/1000037356836...</td>\n",
       "      <td>Liberals were offended by a World War I memori...</td>\n",
       "      <td>['https://www.snopes.com/tachyon/2018/03/ratin...</td>\n",
       "      <td>http://pbs.twimg.com/media/DeDL5a-XkAI7Hlw.jpg</td>\n",
       "      <td>#DontTearMeDown IRSTLIBERT . ORG DontTearMeDow...</td>\n",
       "      <td>https://www.snopes.com/fact-check/liberals-dem...</td>\n",
       "      <td>mixture</td>\n",
       "      <td>NaN</td>\n",
       "      <td>ok</td>\n",
       "      <td>3981225735</td>\n",
       "      <td></td>\n",
       "    </tr>\n",
       "    <tr>\n",
       "      <th>1</th>\n",
       "      <td>1000098833798389760</td>\n",
       "      <td>1000059879682342912</td>\n",
       "      <td>“Stand for the National Anthem or be punished”...</td>\n",
       "      <td>https://twitter.com/POTUS/status/1000098833798...</td>\n",
       "      <td>A German football club was banned from playing...</td>\n",
       "      <td>['https://www.snopes.com/tachyon/2018/03/ratin...</td>\n",
       "      <td>http://pbs.twimg.com/media/DeDtKIRVAAA4kPm.jpg</td>\n",
       "      <td>FAILED TO GIVE NAZI SALUTE . German Football C...</td>\n",
       "      <td>https://www.snopes.com/fact-check/german-footb...</td>\n",
       "      <td>mostly-true-new</td>\n",
       "      <td>NaN</td>\n",
       "      <td>ok</td>\n",
       "      <td>1924071992</td>\n",
       "      <td></td>\n",
       "    </tr>\n",
       "    <tr>\n",
       "      <th>2</th>\n",
       "      <td>1000158804795781120</td>\n",
       "      <td>1000073920760791040</td>\n",
       "      <td>@Humancipator35 @buddydusty @davidhogg111 🙌🏼 R...</td>\n",
       "      <td>https://twitter.com/POTUS/status/1000158804795...</td>\n",
       "      <td>Emma Gonz lez, a survivor of the Parkland scho...</td>\n",
       "      <td>['https://www.snopes.com/tachyon/2018/03/ratin...</td>\n",
       "      <td>http://pbs.twimg.com/media/DeD57XMV4AAUG4k.jpg</td>\n",
       "      <td>NaN</td>\n",
       "      <td>https://www.snopes.com/fact-check/emma-gonzale...</td>\n",
       "      <td>false</td>\n",
       "      <td>NaN</td>\n",
       "      <td>auth</td>\n",
       "      <td>924224208</td>\n",
       "      <td></td>\n",
       "    </tr>\n",
       "    <tr>\n",
       "      <th>3</th>\n",
       "      <td>1000175568241872897</td>\n",
       "      <td>1000174645973315586</td>\n",
       "      <td>Just sayin'  #NFL https://t.co/70tFG5ieMC</td>\n",
       "      <td>https://twitter.com/POTUS/status/1000175568241...</td>\n",
       "      <td>A German football club was banned from playing...</td>\n",
       "      <td>['https://www.snopes.com/tachyon/2018/03/ratin...</td>\n",
       "      <td>http://pbs.twimg.com/media/DeFVdDlUwAA17qS.jpg</td>\n",
       "      <td>FAILED TO GIVE NAZI SALUTE . German Football C...</td>\n",
       "      <td>https://www.snopes.com/fact-check/german-footb...</td>\n",
       "      <td>mostly-true-new</td>\n",
       "      <td>NaN</td>\n",
       "      <td>auth</td>\n",
       "      <td>170735298</td>\n",
       "      <td></td>\n",
       "    </tr>\n",
       "    <tr>\n",
       "      <th>4</th>\n",
       "      <td>1000438777792344067</td>\n",
       "      <td>1000191784797040640</td>\n",
       "      <td>Those who do not learn from history are doomed...</td>\n",
       "      <td>https://twitter.com/POTUS/status/1000438777792...</td>\n",
       "      <td>A German football club was banned from playing...</td>\n",
       "      <td>['https://www.snopes.com/tachyon/2018/03/ratin...</td>\n",
       "      <td>http://pbs.twimg.com/media/DeFkp5eU0AA2aLJ.jpg</td>\n",
       "      <td>pnting n the wo \" ' t WHY to win . nbor mu t n...</td>\n",
       "      <td>https://www.snopes.com/fact-check/german-footb...</td>\n",
       "      <td>mostly-true-new</td>\n",
       "      <td>NaN</td>\n",
       "      <td>ok</td>\n",
       "      <td>115563859</td>\n",
       "      <td></td>\n",
       "    </tr>\n",
       "    <tr>\n",
       "      <th>...</th>\n",
       "      <td>...</td>\n",
       "      <td>...</td>\n",
       "      <td>...</td>\n",
       "      <td>...</td>\n",
       "      <td>...</td>\n",
       "      <td>...</td>\n",
       "      <td>...</td>\n",
       "      <td>...</td>\n",
       "      <td>...</td>\n",
       "      <td>...</td>\n",
       "      <td>...</td>\n",
       "      <td>...</td>\n",
       "      <td>...</td>\n",
       "      <td>...</td>\n",
       "    </tr>\n",
       "    <tr>\n",
       "      <th>6971</th>\n",
       "      <td>1000095067887910917</td>\n",
       "      <td>999866405687209984</td>\n",
       "      <td>History repeating itself with @realDonaldTrump...</td>\n",
       "      <td>https://twitter.com/POTUS/status/1000095067887...</td>\n",
       "      <td>A German football club was banned from playing...</td>\n",
       "      <td>['https://www.snopes.com/tachyon/2018/03/ratin...</td>\n",
       "      <td>http://pbs.twimg.com/media/DeA9KrlVwAEHtPB.jpg</td>\n",
       "      <td>FAILED TO GIVE NAZI SALUTE . German Football C...</td>\n",
       "      <td>https://www.snopes.com/fact-check/german-footb...</td>\n",
       "      <td>mostly-true-new</td>\n",
       "      <td>NaN</td>\n",
       "      <td>ok</td>\n",
       "      <td>550658726</td>\n",
       "      <td></td>\n",
       "    </tr>\n",
       "    <tr>\n",
       "      <th>6972</th>\n",
       "      <td>1000146882428096512</td>\n",
       "      <td>999903412425711616</td>\n",
       "      <td>I picked this up from someone here. Its🙄🤨🙄 wor...</td>\n",
       "      <td>https://twitter.com/POTUS/status/1000146882428...</td>\n",
       "      <td>A German football club was banned from playing...</td>\n",
       "      <td>['https://www.snopes.com/tachyon/2018/03/ratin...</td>\n",
       "      <td>http://pbs.twimg.com/media/DeBe1X5VAAI-Zhh.jpg</td>\n",
       "      <td>FAILED TO GIVE NAZI SALUTE . German Football C...</td>\n",
       "      <td>https://www.snopes.com/fact-check/german-footb...</td>\n",
       "      <td>mostly-true-new</td>\n",
       "      <td>NaN</td>\n",
       "      <td>ok</td>\n",
       "      <td>91743765</td>\n",
       "      <td></td>\n",
       "    </tr>\n",
       "    <tr>\n",
       "      <th>6973</th>\n",
       "      <td>1000018438184734720</td>\n",
       "      <td>999961946932723713</td>\n",
       "      <td>Trump is a criminal, a gangster using criminal...</td>\n",
       "      <td>https://twitter.com/POTUS/status/1000018438184...</td>\n",
       "      <td>Notorious mobster Al Capone demanded an inquir...</td>\n",
       "      <td>['https://www.snopes.com/tachyon/2018/03/ratin...</td>\n",
       "      <td>http://pbs.twimg.com/media/DeCUF2ZV4AAMm0Z.jpg</td>\n",
       "      <td>Ci ) icago Sunday Cribune INAL 17 . Capone Dem...</td>\n",
       "      <td>https://www.snopes.com/fact-check/did-al-capon...</td>\n",
       "      <td>false</td>\n",
       "      <td>NaN</td>\n",
       "      <td>missing</td>\n",
       "      <td>881682896607600640</td>\n",
       "      <td></td>\n",
       "    </tr>\n",
       "    <tr>\n",
       "      <th>6974</th>\n",
       "      <td>999992400725585920</td>\n",
       "      <td>999962442141782016</td>\n",
       "      <td>@VP @NFL @POTUS The only thing that’s #Winning...</td>\n",
       "      <td>https://twitter.com/POTUS/status/9999924007255...</td>\n",
       "      <td>Baseball players in the 1950s were caught on c...</td>\n",
       "      <td>['https://www.snopes.com/tachyon/2018/03/ratin...</td>\n",
       "      <td>http://pbs.twimg.com/media/DeCUiW3VwAAQbyx.jpg</td>\n",
       "      <td>White Baseball Players Kneel in the 50 ' s to ...</td>\n",
       "      <td>https://www.snopes.com/fact-check/baseball-pla...</td>\n",
       "      <td>false</td>\n",
       "      <td>NaN</td>\n",
       "      <td>auth</td>\n",
       "      <td>115748564</td>\n",
       "      <td></td>\n",
       "    </tr>\n",
       "    <tr>\n",
       "      <th>6975</th>\n",
       "      <td>1000035228679852032</td>\n",
       "      <td>999973815655518213</td>\n",
       "      <td>@mjfree Sports has been used as a means of pro...</td>\n",
       "      <td>https://twitter.com/POTUS/status/1000035228679...</td>\n",
       "      <td>Baseball players in the 1950s were caught on c...</td>\n",
       "      <td>['https://www.snopes.com/tachyon/2018/03/ratin...</td>\n",
       "      <td>http://pbs.twimg.com/media/DeCejk4WkAMruuM.jpg</td>\n",
       "      <td>White Baseball Players Kneel in the 50 ' s to ...</td>\n",
       "      <td>https://www.snopes.com/fact-check/baseball-pla...</td>\n",
       "      <td>false</td>\n",
       "      <td>NaN</td>\n",
       "      <td>ok</td>\n",
       "      <td>518227176</td>\n",
       "      <td></td>\n",
       "    </tr>\n",
       "  </tbody>\n",
       "</table>\n",
       "<p>6976 rows × 14 columns</p>\n",
       "</div>"
      ],
      "text/plain": [
       "                       id          original_id  \\\n",
       "0     1000037356836093953  1000023322481086466   \n",
       "1     1000098833798389760  1000059879682342912   \n",
       "2     1000158804795781120  1000073920760791040   \n",
       "3     1000175568241872897  1000174645973315586   \n",
       "4     1000438777792344067  1000191784797040640   \n",
       "...                   ...                  ...   \n",
       "6971  1000095067887910917   999866405687209984   \n",
       "6972  1000146882428096512   999903412425711616   \n",
       "6973  1000018438184734720   999961946932723713   \n",
       "6974   999992400725585920   999962442141782016   \n",
       "6975  1000035228679852032   999973815655518213   \n",
       "\n",
       "                                             tweet_text  \\\n",
       "0     Brave men died to keep us free. Radicals want ...   \n",
       "1     “Stand for the National Anthem or be punished”...   \n",
       "2     @Humancipator35 @buddydusty @davidhogg111 🙌🏼 R...   \n",
       "3             Just sayin'  #NFL https://t.co/70tFG5ieMC   \n",
       "4     Those who do not learn from history are doomed...   \n",
       "...                                                 ...   \n",
       "6971  History repeating itself with @realDonaldTrump...   \n",
       "6972  I picked this up from someone here. Its🙄🤨🙄 wor...   \n",
       "6973  Trump is a criminal, a gangster using criminal...   \n",
       "6974  @VP @NFL @POTUS The only thing that’s #Winning...   \n",
       "6975  @mjfree Sports has been used as a means of pro...   \n",
       "\n",
       "                                              tweet_url  \\\n",
       "0     https://twitter.com/POTUS/status/1000037356836...   \n",
       "1     https://twitter.com/POTUS/status/1000098833798...   \n",
       "2     https://twitter.com/POTUS/status/1000158804795...   \n",
       "3     https://twitter.com/POTUS/status/1000175568241...   \n",
       "4     https://twitter.com/POTUS/status/1000438777792...   \n",
       "...                                                 ...   \n",
       "6971  https://twitter.com/POTUS/status/1000095067887...   \n",
       "6972  https://twitter.com/POTUS/status/1000146882428...   \n",
       "6973  https://twitter.com/POTUS/status/1000018438184...   \n",
       "6974  https://twitter.com/POTUS/status/9999924007255...   \n",
       "6975  https://twitter.com/POTUS/status/1000035228679...   \n",
       "\n",
       "                                                  claim  \\\n",
       "0     Liberals were offended by a World War I memori...   \n",
       "1     A German football club was banned from playing...   \n",
       "2     Emma Gonz lez, a survivor of the Parkland scho...   \n",
       "3     A German football club was banned from playing...   \n",
       "4     A German football club was banned from playing...   \n",
       "...                                                 ...   \n",
       "6971  A German football club was banned from playing...   \n",
       "6972  A German football club was banned from playing...   \n",
       "6973  Notorious mobster Al Capone demanded an inquir...   \n",
       "6974  Baseball players in the 1950s were caught on c...   \n",
       "6975  Baseball players in the 1950s were caught on c...   \n",
       "\n",
       "                                                 rating  \\\n",
       "0     ['https://www.snopes.com/tachyon/2018/03/ratin...   \n",
       "1     ['https://www.snopes.com/tachyon/2018/03/ratin...   \n",
       "2     ['https://www.snopes.com/tachyon/2018/03/ratin...   \n",
       "3     ['https://www.snopes.com/tachyon/2018/03/ratin...   \n",
       "4     ['https://www.snopes.com/tachyon/2018/03/ratin...   \n",
       "...                                                 ...   \n",
       "6971  ['https://www.snopes.com/tachyon/2018/03/ratin...   \n",
       "6972  ['https://www.snopes.com/tachyon/2018/03/ratin...   \n",
       "6973  ['https://www.snopes.com/tachyon/2018/03/ratin...   \n",
       "6974  ['https://www.snopes.com/tachyon/2018/03/ratin...   \n",
       "6975  ['https://www.snopes.com/tachyon/2018/03/ratin...   \n",
       "\n",
       "                                              images  \\\n",
       "0     http://pbs.twimg.com/media/DeDL5a-XkAI7Hlw.jpg   \n",
       "1     http://pbs.twimg.com/media/DeDtKIRVAAA4kPm.jpg   \n",
       "2     http://pbs.twimg.com/media/DeD57XMV4AAUG4k.jpg   \n",
       "3     http://pbs.twimg.com/media/DeFVdDlUwAA17qS.jpg   \n",
       "4     http://pbs.twimg.com/media/DeFkp5eU0AA2aLJ.jpg   \n",
       "...                                              ...   \n",
       "6971  http://pbs.twimg.com/media/DeA9KrlVwAEHtPB.jpg   \n",
       "6972  http://pbs.twimg.com/media/DeBe1X5VAAI-Zhh.jpg   \n",
       "6973  http://pbs.twimg.com/media/DeCUF2ZV4AAMm0Z.jpg   \n",
       "6974  http://pbs.twimg.com/media/DeCUiW3VwAAQbyx.jpg   \n",
       "6975  http://pbs.twimg.com/media/DeCejk4WkAMruuM.jpg   \n",
       "\n",
       "                                            text_images  \\\n",
       "0     #DontTearMeDown IRSTLIBERT . ORG DontTearMeDow...   \n",
       "1     FAILED TO GIVE NAZI SALUTE . German Football C...   \n",
       "2                                                   NaN   \n",
       "3     FAILED TO GIVE NAZI SALUTE . German Football C...   \n",
       "4     pnting n the wo \" ' t WHY to win . nbor mu t n...   \n",
       "...                                                 ...   \n",
       "6971  FAILED TO GIVE NAZI SALUTE . German Football C...   \n",
       "6972  FAILED TO GIVE NAZI SALUTE . German Football C...   \n",
       "6973  Ci ) icago Sunday Cribune INAL 17 . Capone Dem...   \n",
       "6974  White Baseball Players Kneel in the 50 ' s to ...   \n",
       "6975  White Baseball Players Kneel in the 50 ' s to ...   \n",
       "\n",
       "                                                 source            label  \\\n",
       "0     https://www.snopes.com/fact-check/liberals-dem...          mixture   \n",
       "1     https://www.snopes.com/fact-check/german-footb...  mostly-true-new   \n",
       "2     https://www.snopes.com/fact-check/emma-gonzale...            false   \n",
       "3     https://www.snopes.com/fact-check/german-footb...  mostly-true-new   \n",
       "4     https://www.snopes.com/fact-check/german-footb...  mostly-true-new   \n",
       "...                                                 ...              ...   \n",
       "6971  https://www.snopes.com/fact-check/german-footb...  mostly-true-new   \n",
       "6972  https://www.snopes.com/fact-check/german-footb...  mostly-true-new   \n",
       "6973  https://www.snopes.com/fact-check/did-al-capon...            false   \n",
       "6974  https://www.snopes.com/fact-check/baseball-pla...            false   \n",
       "6975  https://www.snopes.com/fact-check/baseball-pla...            false   \n",
       "\n",
       "      label_info available              acc_id botometer  \n",
       "0            NaN        ok          3981225735            \n",
       "1            NaN        ok          1924071992            \n",
       "2            NaN      auth           924224208            \n",
       "3            NaN      auth           170735298            \n",
       "4            NaN        ok           115563859            \n",
       "...          ...       ...                 ...       ...  \n",
       "6971         NaN        ok           550658726            \n",
       "6972         NaN        ok            91743765            \n",
       "6973         NaN   missing  881682896607600640            \n",
       "6974         NaN      auth           115748564            \n",
       "6975         NaN        ok           518227176            \n",
       "\n",
       "[6976 rows x 14 columns]"
      ]
     },
     "execution_count": 55,
     "metadata": {},
     "output_type": "execute_result"
    }
   ],
   "source": [
    "snopes_acc"
   ]
  },
  {
   "cell_type": "code",
   "execution_count": 56,
   "metadata": {},
   "outputs": [],
   "source": [
    "from tqdm import tqdm"
   ]
  },
  {
   "cell_type": "code",
   "execution_count": 154,
   "metadata": {},
   "outputs": [],
   "source": [
    "df = pd.read_csv(\"snopes_botometer_406.csv\")\n",
    "\n"
   ]
  },
  {
   "cell_type": "code",
   "execution_count": 155,
   "metadata": {},
   "outputs": [
    {
     "data": {
      "text/html": [
       "<div>\n",
       "<style scoped>\n",
       "    .dataframe tbody tr th:only-of-type {\n",
       "        vertical-align: middle;\n",
       "    }\n",
       "\n",
       "    .dataframe tbody tr th {\n",
       "        vertical-align: top;\n",
       "    }\n",
       "\n",
       "    .dataframe thead th {\n",
       "        text-align: right;\n",
       "    }\n",
       "</style>\n",
       "<table border=\"1\" class=\"dataframe\">\n",
       "  <thead>\n",
       "    <tr style=\"text-align: right;\">\n",
       "      <th></th>\n",
       "      <th>id</th>\n",
       "      <th>original_id</th>\n",
       "      <th>tweet_text</th>\n",
       "      <th>tweet_url</th>\n",
       "      <th>claim</th>\n",
       "      <th>rating</th>\n",
       "      <th>images</th>\n",
       "      <th>text_images</th>\n",
       "      <th>source</th>\n",
       "      <th>label</th>\n",
       "      <th>label_info</th>\n",
       "      <th>available</th>\n",
       "      <th>acc_id</th>\n",
       "      <th>botometer</th>\n",
       "    </tr>\n",
       "  </thead>\n",
       "  <tbody>\n",
       "    <tr>\n",
       "      <th>0</th>\n",
       "      <td>1000037356836093953</td>\n",
       "      <td>1000023322481086466</td>\n",
       "      <td>Brave men died to keep us free. Radicals want ...</td>\n",
       "      <td>https://twitter.com/POTUS/status/1000037356836...</td>\n",
       "      <td>Liberals were offended by a World War I memori...</td>\n",
       "      <td>['https://www.snopes.com/tachyon/2018/03/ratin...</td>\n",
       "      <td>http://pbs.twimg.com/media/DeDL5a-XkAI7Hlw.jpg</td>\n",
       "      <td>#DontTearMeDown IRSTLIBERT . ORG DontTearMeDow...</td>\n",
       "      <td>https://www.snopes.com/fact-check/liberals-dem...</td>\n",
       "      <td>mixture</td>\n",
       "      <td>NaN</td>\n",
       "      <td>ok</td>\n",
       "      <td>3981225735</td>\n",
       "      <td>{'cap': {'english': 0.7759887465100499, 'unive...</td>\n",
       "    </tr>\n",
       "    <tr>\n",
       "      <th>1</th>\n",
       "      <td>1000098833798389760</td>\n",
       "      <td>1000059879682342912</td>\n",
       "      <td>“Stand for the National Anthem or be punished”...</td>\n",
       "      <td>https://twitter.com/POTUS/status/1000098833798...</td>\n",
       "      <td>A German football club was banned from playing...</td>\n",
       "      <td>['https://www.snopes.com/tachyon/2018/03/ratin...</td>\n",
       "      <td>http://pbs.twimg.com/media/DeDtKIRVAAA4kPm.jpg</td>\n",
       "      <td>FAILED TO GIVE NAZI SALUTE . German Football C...</td>\n",
       "      <td>https://www.snopes.com/fact-check/german-footb...</td>\n",
       "      <td>mostly-true-new</td>\n",
       "      <td>NaN</td>\n",
       "      <td>ok</td>\n",
       "      <td>1924071992</td>\n",
       "      <td>{'cap': {'english': 0.7759887465100499, 'unive...</td>\n",
       "    </tr>\n",
       "    <tr>\n",
       "      <th>2</th>\n",
       "      <td>1000158804795781120</td>\n",
       "      <td>1000073920760791040</td>\n",
       "      <td>@Humancipator35 @buddydusty @davidhogg111 🙌🏼 R...</td>\n",
       "      <td>https://twitter.com/POTUS/status/1000158804795...</td>\n",
       "      <td>Emma Gonz lez, a survivor of the Parkland scho...</td>\n",
       "      <td>['https://www.snopes.com/tachyon/2018/03/ratin...</td>\n",
       "      <td>http://pbs.twimg.com/media/DeD57XMV4AAUG4k.jpg</td>\n",
       "      <td>NaN</td>\n",
       "      <td>https://www.snopes.com/fact-check/emma-gonzale...</td>\n",
       "      <td>false</td>\n",
       "      <td>NaN</td>\n",
       "      <td>auth</td>\n",
       "      <td>924224208</td>\n",
       "      <td>{'cap': {'english': 0.30618807248975083, 'univ...</td>\n",
       "    </tr>\n",
       "    <tr>\n",
       "      <th>3</th>\n",
       "      <td>1000175568241872897</td>\n",
       "      <td>1000174645973315586</td>\n",
       "      <td>Just sayin'  #NFL https://t.co/70tFG5ieMC</td>\n",
       "      <td>https://twitter.com/POTUS/status/1000175568241...</td>\n",
       "      <td>A German football club was banned from playing...</td>\n",
       "      <td>['https://www.snopes.com/tachyon/2018/03/ratin...</td>\n",
       "      <td>http://pbs.twimg.com/media/DeFVdDlUwAA17qS.jpg</td>\n",
       "      <td>FAILED TO GIVE NAZI SALUTE . German Football C...</td>\n",
       "      <td>https://www.snopes.com/fact-check/german-footb...</td>\n",
       "      <td>mostly-true-new</td>\n",
       "      <td>NaN</td>\n",
       "      <td>auth</td>\n",
       "      <td>170735298</td>\n",
       "      <td>{'cap': {'english': 0.6763619064808265, 'unive...</td>\n",
       "    </tr>\n",
       "    <tr>\n",
       "      <th>4</th>\n",
       "      <td>1000438777792344067</td>\n",
       "      <td>1000191784797040640</td>\n",
       "      <td>Those who do not learn from history are doomed...</td>\n",
       "      <td>https://twitter.com/POTUS/status/1000438777792...</td>\n",
       "      <td>A German football club was banned from playing...</td>\n",
       "      <td>['https://www.snopes.com/tachyon/2018/03/ratin...</td>\n",
       "      <td>http://pbs.twimg.com/media/DeFkp5eU0AA2aLJ.jpg</td>\n",
       "      <td>pnting n the wo \" ' t WHY to win . nbor mu t n...</td>\n",
       "      <td>https://www.snopes.com/fact-check/german-footb...</td>\n",
       "      <td>mostly-true-new</td>\n",
       "      <td>NaN</td>\n",
       "      <td>ok</td>\n",
       "      <td>115563859</td>\n",
       "      <td>{'cap': {'english': 0.7668769621923945, 'unive...</td>\n",
       "    </tr>\n",
       "    <tr>\n",
       "      <th>...</th>\n",
       "      <td>...</td>\n",
       "      <td>...</td>\n",
       "      <td>...</td>\n",
       "      <td>...</td>\n",
       "      <td>...</td>\n",
       "      <td>...</td>\n",
       "      <td>...</td>\n",
       "      <td>...</td>\n",
       "      <td>...</td>\n",
       "      <td>...</td>\n",
       "      <td>...</td>\n",
       "      <td>...</td>\n",
       "      <td>...</td>\n",
       "      <td>...</td>\n",
       "    </tr>\n",
       "    <tr>\n",
       "      <th>6971</th>\n",
       "      <td>1000095067887910917</td>\n",
       "      <td>999866405687209984</td>\n",
       "      <td>History repeating itself with @realDonaldTrump...</td>\n",
       "      <td>https://twitter.com/POTUS/status/1000095067887...</td>\n",
       "      <td>A German football club was banned from playing...</td>\n",
       "      <td>['https://www.snopes.com/tachyon/2018/03/ratin...</td>\n",
       "      <td>http://pbs.twimg.com/media/DeA9KrlVwAEHtPB.jpg</td>\n",
       "      <td>FAILED TO GIVE NAZI SALUTE . German Football C...</td>\n",
       "      <td>https://www.snopes.com/fact-check/german-footb...</td>\n",
       "      <td>mostly-true-new</td>\n",
       "      <td>NaN</td>\n",
       "      <td>ok</td>\n",
       "      <td>550658726</td>\n",
       "      <td>NaN</td>\n",
       "    </tr>\n",
       "    <tr>\n",
       "      <th>6972</th>\n",
       "      <td>1000146882428096512</td>\n",
       "      <td>999903412425711616</td>\n",
       "      <td>I picked this up from someone here. Its🙄🤨🙄 wor...</td>\n",
       "      <td>https://twitter.com/POTUS/status/1000146882428...</td>\n",
       "      <td>A German football club was banned from playing...</td>\n",
       "      <td>['https://www.snopes.com/tachyon/2018/03/ratin...</td>\n",
       "      <td>http://pbs.twimg.com/media/DeBe1X5VAAI-Zhh.jpg</td>\n",
       "      <td>FAILED TO GIVE NAZI SALUTE . German Football C...</td>\n",
       "      <td>https://www.snopes.com/fact-check/german-footb...</td>\n",
       "      <td>mostly-true-new</td>\n",
       "      <td>NaN</td>\n",
       "      <td>ok</td>\n",
       "      <td>91743765</td>\n",
       "      <td>NaN</td>\n",
       "    </tr>\n",
       "    <tr>\n",
       "      <th>6973</th>\n",
       "      <td>1000018438184734720</td>\n",
       "      <td>999961946932723713</td>\n",
       "      <td>Trump is a criminal, a gangster using criminal...</td>\n",
       "      <td>https://twitter.com/POTUS/status/1000018438184...</td>\n",
       "      <td>Notorious mobster Al Capone demanded an inquir...</td>\n",
       "      <td>['https://www.snopes.com/tachyon/2018/03/ratin...</td>\n",
       "      <td>http://pbs.twimg.com/media/DeCUF2ZV4AAMm0Z.jpg</td>\n",
       "      <td>Ci ) icago Sunday Cribune INAL 17 . Capone Dem...</td>\n",
       "      <td>https://www.snopes.com/fact-check/did-al-capon...</td>\n",
       "      <td>false</td>\n",
       "      <td>NaN</td>\n",
       "      <td>missing</td>\n",
       "      <td>881682896607600640</td>\n",
       "      <td>NaN</td>\n",
       "    </tr>\n",
       "    <tr>\n",
       "      <th>6974</th>\n",
       "      <td>999992400725585920</td>\n",
       "      <td>999962442141782016</td>\n",
       "      <td>@VP @NFL @POTUS The only thing that’s #Winning...</td>\n",
       "      <td>https://twitter.com/POTUS/status/9999924007255...</td>\n",
       "      <td>Baseball players in the 1950s were caught on c...</td>\n",
       "      <td>['https://www.snopes.com/tachyon/2018/03/ratin...</td>\n",
       "      <td>http://pbs.twimg.com/media/DeCUiW3VwAAQbyx.jpg</td>\n",
       "      <td>White Baseball Players Kneel in the 50 ' s to ...</td>\n",
       "      <td>https://www.snopes.com/fact-check/baseball-pla...</td>\n",
       "      <td>false</td>\n",
       "      <td>NaN</td>\n",
       "      <td>auth</td>\n",
       "      <td>115748564</td>\n",
       "      <td>NaN</td>\n",
       "    </tr>\n",
       "    <tr>\n",
       "      <th>6975</th>\n",
       "      <td>1000035228679852032</td>\n",
       "      <td>999973815655518213</td>\n",
       "      <td>@mjfree Sports has been used as a means of pro...</td>\n",
       "      <td>https://twitter.com/POTUS/status/1000035228679...</td>\n",
       "      <td>Baseball players in the 1950s were caught on c...</td>\n",
       "      <td>['https://www.snopes.com/tachyon/2018/03/ratin...</td>\n",
       "      <td>http://pbs.twimg.com/media/DeCejk4WkAMruuM.jpg</td>\n",
       "      <td>White Baseball Players Kneel in the 50 ' s to ...</td>\n",
       "      <td>https://www.snopes.com/fact-check/baseball-pla...</td>\n",
       "      <td>false</td>\n",
       "      <td>NaN</td>\n",
       "      <td>ok</td>\n",
       "      <td>518227176</td>\n",
       "      <td>NaN</td>\n",
       "    </tr>\n",
       "  </tbody>\n",
       "</table>\n",
       "<p>6976 rows × 14 columns</p>\n",
       "</div>"
      ],
      "text/plain": [
       "                       id          original_id  \\\n",
       "0     1000037356836093953  1000023322481086466   \n",
       "1     1000098833798389760  1000059879682342912   \n",
       "2     1000158804795781120  1000073920760791040   \n",
       "3     1000175568241872897  1000174645973315586   \n",
       "4     1000438777792344067  1000191784797040640   \n",
       "...                   ...                  ...   \n",
       "6971  1000095067887910917   999866405687209984   \n",
       "6972  1000146882428096512   999903412425711616   \n",
       "6973  1000018438184734720   999961946932723713   \n",
       "6974   999992400725585920   999962442141782016   \n",
       "6975  1000035228679852032   999973815655518213   \n",
       "\n",
       "                                             tweet_text  \\\n",
       "0     Brave men died to keep us free. Radicals want ...   \n",
       "1     “Stand for the National Anthem or be punished”...   \n",
       "2     @Humancipator35 @buddydusty @davidhogg111 🙌🏼 R...   \n",
       "3             Just sayin'  #NFL https://t.co/70tFG5ieMC   \n",
       "4     Those who do not learn from history are doomed...   \n",
       "...                                                 ...   \n",
       "6971  History repeating itself with @realDonaldTrump...   \n",
       "6972  I picked this up from someone here. Its🙄🤨🙄 wor...   \n",
       "6973  Trump is a criminal, a gangster using criminal...   \n",
       "6974  @VP @NFL @POTUS The only thing that’s #Winning...   \n",
       "6975  @mjfree Sports has been used as a means of pro...   \n",
       "\n",
       "                                              tweet_url  \\\n",
       "0     https://twitter.com/POTUS/status/1000037356836...   \n",
       "1     https://twitter.com/POTUS/status/1000098833798...   \n",
       "2     https://twitter.com/POTUS/status/1000158804795...   \n",
       "3     https://twitter.com/POTUS/status/1000175568241...   \n",
       "4     https://twitter.com/POTUS/status/1000438777792...   \n",
       "...                                                 ...   \n",
       "6971  https://twitter.com/POTUS/status/1000095067887...   \n",
       "6972  https://twitter.com/POTUS/status/1000146882428...   \n",
       "6973  https://twitter.com/POTUS/status/1000018438184...   \n",
       "6974  https://twitter.com/POTUS/status/9999924007255...   \n",
       "6975  https://twitter.com/POTUS/status/1000035228679...   \n",
       "\n",
       "                                                  claim  \\\n",
       "0     Liberals were offended by a World War I memori...   \n",
       "1     A German football club was banned from playing...   \n",
       "2     Emma Gonz lez, a survivor of the Parkland scho...   \n",
       "3     A German football club was banned from playing...   \n",
       "4     A German football club was banned from playing...   \n",
       "...                                                 ...   \n",
       "6971  A German football club was banned from playing...   \n",
       "6972  A German football club was banned from playing...   \n",
       "6973  Notorious mobster Al Capone demanded an inquir...   \n",
       "6974  Baseball players in the 1950s were caught on c...   \n",
       "6975  Baseball players in the 1950s were caught on c...   \n",
       "\n",
       "                                                 rating  \\\n",
       "0     ['https://www.snopes.com/tachyon/2018/03/ratin...   \n",
       "1     ['https://www.snopes.com/tachyon/2018/03/ratin...   \n",
       "2     ['https://www.snopes.com/tachyon/2018/03/ratin...   \n",
       "3     ['https://www.snopes.com/tachyon/2018/03/ratin...   \n",
       "4     ['https://www.snopes.com/tachyon/2018/03/ratin...   \n",
       "...                                                 ...   \n",
       "6971  ['https://www.snopes.com/tachyon/2018/03/ratin...   \n",
       "6972  ['https://www.snopes.com/tachyon/2018/03/ratin...   \n",
       "6973  ['https://www.snopes.com/tachyon/2018/03/ratin...   \n",
       "6974  ['https://www.snopes.com/tachyon/2018/03/ratin...   \n",
       "6975  ['https://www.snopes.com/tachyon/2018/03/ratin...   \n",
       "\n",
       "                                              images  \\\n",
       "0     http://pbs.twimg.com/media/DeDL5a-XkAI7Hlw.jpg   \n",
       "1     http://pbs.twimg.com/media/DeDtKIRVAAA4kPm.jpg   \n",
       "2     http://pbs.twimg.com/media/DeD57XMV4AAUG4k.jpg   \n",
       "3     http://pbs.twimg.com/media/DeFVdDlUwAA17qS.jpg   \n",
       "4     http://pbs.twimg.com/media/DeFkp5eU0AA2aLJ.jpg   \n",
       "...                                              ...   \n",
       "6971  http://pbs.twimg.com/media/DeA9KrlVwAEHtPB.jpg   \n",
       "6972  http://pbs.twimg.com/media/DeBe1X5VAAI-Zhh.jpg   \n",
       "6973  http://pbs.twimg.com/media/DeCUF2ZV4AAMm0Z.jpg   \n",
       "6974  http://pbs.twimg.com/media/DeCUiW3VwAAQbyx.jpg   \n",
       "6975  http://pbs.twimg.com/media/DeCejk4WkAMruuM.jpg   \n",
       "\n",
       "                                            text_images  \\\n",
       "0     #DontTearMeDown IRSTLIBERT . ORG DontTearMeDow...   \n",
       "1     FAILED TO GIVE NAZI SALUTE . German Football C...   \n",
       "2                                                   NaN   \n",
       "3     FAILED TO GIVE NAZI SALUTE . German Football C...   \n",
       "4     pnting n the wo \" ' t WHY to win . nbor mu t n...   \n",
       "...                                                 ...   \n",
       "6971  FAILED TO GIVE NAZI SALUTE . German Football C...   \n",
       "6972  FAILED TO GIVE NAZI SALUTE . German Football C...   \n",
       "6973  Ci ) icago Sunday Cribune INAL 17 . Capone Dem...   \n",
       "6974  White Baseball Players Kneel in the 50 ' s to ...   \n",
       "6975  White Baseball Players Kneel in the 50 ' s to ...   \n",
       "\n",
       "                                                 source            label  \\\n",
       "0     https://www.snopes.com/fact-check/liberals-dem...          mixture   \n",
       "1     https://www.snopes.com/fact-check/german-footb...  mostly-true-new   \n",
       "2     https://www.snopes.com/fact-check/emma-gonzale...            false   \n",
       "3     https://www.snopes.com/fact-check/german-footb...  mostly-true-new   \n",
       "4     https://www.snopes.com/fact-check/german-footb...  mostly-true-new   \n",
       "...                                                 ...              ...   \n",
       "6971  https://www.snopes.com/fact-check/german-footb...  mostly-true-new   \n",
       "6972  https://www.snopes.com/fact-check/german-footb...  mostly-true-new   \n",
       "6973  https://www.snopes.com/fact-check/did-al-capon...            false   \n",
       "6974  https://www.snopes.com/fact-check/baseball-pla...            false   \n",
       "6975  https://www.snopes.com/fact-check/baseball-pla...            false   \n",
       "\n",
       "      label_info available              acc_id  \\\n",
       "0            NaN        ok          3981225735   \n",
       "1            NaN        ok          1924071992   \n",
       "2            NaN      auth           924224208   \n",
       "3            NaN      auth           170735298   \n",
       "4            NaN        ok           115563859   \n",
       "...          ...       ...                 ...   \n",
       "6971         NaN        ok           550658726   \n",
       "6972         NaN        ok            91743765   \n",
       "6973         NaN   missing  881682896607600640   \n",
       "6974         NaN      auth           115748564   \n",
       "6975         NaN        ok           518227176   \n",
       "\n",
       "                                              botometer  \n",
       "0     {'cap': {'english': 0.7759887465100499, 'unive...  \n",
       "1     {'cap': {'english': 0.7759887465100499, 'unive...  \n",
       "2     {'cap': {'english': 0.30618807248975083, 'univ...  \n",
       "3     {'cap': {'english': 0.6763619064808265, 'unive...  \n",
       "4     {'cap': {'english': 0.7668769621923945, 'unive...  \n",
       "...                                                 ...  \n",
       "6971                                                NaN  \n",
       "6972                                                NaN  \n",
       "6973                                                NaN  \n",
       "6974                                                NaN  \n",
       "6975                                                NaN  \n",
       "\n",
       "[6976 rows x 14 columns]"
      ]
     },
     "execution_count": 155,
     "metadata": {},
     "output_type": "execute_result"
    }
   ],
   "source": [
    "df"
   ]
  },
  {
   "cell_type": "code",
   "execution_count": 173,
   "metadata": {},
   "outputs": [
    {
     "name": "stderr",
     "output_type": "stream",
     "text": [
      "\r",
      "0it [00:00, ?it/s]"
     ]
    },
    {
     "name": "stdout",
     "output_type": "stream",
     "text": [
      "905\n"
     ]
    },
    {
     "name": "stderr",
     "output_type": "stream",
     "text": [
      "\r",
      "906it [00:04, 214.49it/s]"
     ]
    },
    {
     "name": "stdout",
     "output_type": "stream",
     "text": [
      "906\n",
      "907\n",
      "908\n",
      "909\n",
      "910\n"
     ]
    },
    {
     "name": "stderr",
     "output_type": "stream",
     "text": [
      "911it [00:29, 22.85it/s] "
     ]
    },
    {
     "name": "stdout",
     "output_type": "stream",
     "text": [
      "911\n"
     ]
    },
    {
     "name": "stderr",
     "output_type": "stream",
     "text": [
      "\r",
      "912it [00:33, 18.43it/s]"
     ]
    },
    {
     "name": "stdout",
     "output_type": "stream",
     "text": [
      "912\n",
      "913\n",
      "914\n",
      "915\n",
      "916\n"
     ]
    },
    {
     "name": "stderr",
     "output_type": "stream",
     "text": [
      "917it [00:55,  8.30it/s]"
     ]
    },
    {
     "name": "stdout",
     "output_type": "stream",
     "text": [
      "917\n"
     ]
    },
    {
     "name": "stderr",
     "output_type": "stream",
     "text": [
      "\r",
      "918it [00:58,  7.37it/s]"
     ]
    },
    {
     "name": "stdout",
     "output_type": "stream",
     "text": [
      "918\n",
      "919\n",
      "920\n",
      "921\n"
     ]
    },
    {
     "name": "stderr",
     "output_type": "stream",
     "text": [
      "922it [01:14,  4.36it/s]"
     ]
    },
    {
     "name": "stdout",
     "output_type": "stream",
     "text": [
      "922\n"
     ]
    },
    {
     "name": "stderr",
     "output_type": "stream",
     "text": [
      "\r",
      "923it [01:17,  3.89it/s]"
     ]
    },
    {
     "name": "stdout",
     "output_type": "stream",
     "text": [
      "923\n",
      "924\n",
      "925\n"
     ]
    },
    {
     "name": "stderr",
     "output_type": "stream",
     "text": [
      "\r",
      "926it [01:28,  2.68it/s]"
     ]
    },
    {
     "name": "stdout",
     "output_type": "stream",
     "text": [
      "926\n"
     ]
    },
    {
     "name": "stderr",
     "output_type": "stream",
     "text": [
      "\r",
      "927it [01:33,  2.20it/s]"
     ]
    },
    {
     "name": "stdout",
     "output_type": "stream",
     "text": [
      "927\n",
      "928\n"
     ]
    },
    {
     "name": "stderr",
     "output_type": "stream",
     "text": [
      "\r",
      "929it [01:41,  1.62it/s]"
     ]
    },
    {
     "name": "stdout",
     "output_type": "stream",
     "text": [
      "929\n",
      "930\n"
     ]
    },
    {
     "name": "stderr",
     "output_type": "stream",
     "text": [
      "\r",
      "931it [01:48,  1.25it/s]"
     ]
    },
    {
     "name": "stdout",
     "output_type": "stream",
     "text": [
      "931\n"
     ]
    },
    {
     "name": "stderr",
     "output_type": "stream",
     "text": [
      "\r",
      "932it [01:51,  1.09it/s]"
     ]
    },
    {
     "name": "stdout",
     "output_type": "stream",
     "text": [
      "932\n"
     ]
    },
    {
     "name": "stderr",
     "output_type": "stream",
     "text": [
      "\r",
      "933it [01:56,  1.11s/it]"
     ]
    },
    {
     "name": "stdout",
     "output_type": "stream",
     "text": [
      "933\n"
     ]
    },
    {
     "name": "stderr",
     "output_type": "stream",
     "text": [
      "\r",
      "934it [01:59,  1.30s/it]"
     ]
    },
    {
     "name": "stdout",
     "output_type": "stream",
     "text": [
      "934\n"
     ]
    },
    {
     "name": "stderr",
     "output_type": "stream",
     "text": [
      "\r",
      "935it [02:04,  1.63s/it]"
     ]
    },
    {
     "name": "stdout",
     "output_type": "stream",
     "text": [
      "935\n"
     ]
    },
    {
     "name": "stderr",
     "output_type": "stream",
     "text": [
      "\r",
      "936it [02:09,  2.00s/it]"
     ]
    },
    {
     "name": "stdout",
     "output_type": "stream",
     "text": [
      "936\n"
     ]
    },
    {
     "name": "stderr",
     "output_type": "stream",
     "text": [
      "\r",
      "937it [02:13,  2.27s/it]"
     ]
    },
    {
     "name": "stdout",
     "output_type": "stream",
     "text": [
      "937\n"
     ]
    },
    {
     "name": "stderr",
     "output_type": "stream",
     "text": [
      "\r",
      "938it [02:16,  2.47s/it]"
     ]
    },
    {
     "name": "stdout",
     "output_type": "stream",
     "text": [
      "938\n"
     ]
    },
    {
     "name": "stderr",
     "output_type": "stream",
     "text": [
      "\r",
      "939it [02:19,  2.67s/it]"
     ]
    },
    {
     "name": "stdout",
     "output_type": "stream",
     "text": [
      "939\n"
     ]
    },
    {
     "name": "stderr",
     "output_type": "stream",
     "text": [
      "\r",
      "940it [02:24,  2.99s/it]"
     ]
    },
    {
     "name": "stdout",
     "output_type": "stream",
     "text": [
      "940\n"
     ]
    },
    {
     "name": "stderr",
     "output_type": "stream",
     "text": [
      "\r",
      "941it [02:29,  3.47s/it]"
     ]
    },
    {
     "name": "stdout",
     "output_type": "stream",
     "text": [
      "941\n"
     ]
    },
    {
     "name": "stderr",
     "output_type": "stream",
     "text": [
      "\r",
      "942it [02:33,  3.65s/it]"
     ]
    },
    {
     "name": "stdout",
     "output_type": "stream",
     "text": [
      "942\n"
     ]
    },
    {
     "name": "stderr",
     "output_type": "stream",
     "text": [
      "\r",
      "943it [02:37,  3.70s/it]"
     ]
    },
    {
     "name": "stdout",
     "output_type": "stream",
     "text": [
      "943\n"
     ]
    },
    {
     "name": "stderr",
     "output_type": "stream",
     "text": [
      "\r",
      "944it [02:41,  3.89s/it]"
     ]
    },
    {
     "name": "stdout",
     "output_type": "stream",
     "text": [
      "944\n"
     ]
    },
    {
     "name": "stderr",
     "output_type": "stream",
     "text": [
      "\r",
      "945it [02:45,  3.83s/it]"
     ]
    },
    {
     "name": "stdout",
     "output_type": "stream",
     "text": [
      "945\n"
     ]
    },
    {
     "name": "stderr",
     "output_type": "stream",
     "text": [
      "\r",
      "946it [02:48,  3.65s/it]"
     ]
    },
    {
     "name": "stdout",
     "output_type": "stream",
     "text": [
      "946\n"
     ]
    },
    {
     "name": "stderr",
     "output_type": "stream",
     "text": [
      "\r",
      "947it [02:54,  4.50s/it]"
     ]
    },
    {
     "name": "stdout",
     "output_type": "stream",
     "text": [
      "947\n"
     ]
    },
    {
     "name": "stderr",
     "output_type": "stream",
     "text": [
      "\r",
      "948it [02:58,  4.29s/it]"
     ]
    },
    {
     "name": "stdout",
     "output_type": "stream",
     "text": [
      "948\n"
     ]
    },
    {
     "name": "stderr",
     "output_type": "stream",
     "text": [
      "\r",
      "949it [03:02,  4.00s/it]"
     ]
    },
    {
     "name": "stdout",
     "output_type": "stream",
     "text": [
      "949\n"
     ]
    },
    {
     "name": "stderr",
     "output_type": "stream",
     "text": [
      "\r",
      "950it [03:05,  3.96s/it]"
     ]
    },
    {
     "name": "stdout",
     "output_type": "stream",
     "text": [
      "950\n"
     ]
    },
    {
     "name": "stderr",
     "output_type": "stream",
     "text": [
      "\r",
      "951it [03:10,  4.27s/it]"
     ]
    },
    {
     "name": "stdout",
     "output_type": "stream",
     "text": [
      "951\n"
     ]
    },
    {
     "name": "stderr",
     "output_type": "stream",
     "text": [
      "\r",
      "952it [03:14,  4.16s/it]"
     ]
    },
    {
     "name": "stdout",
     "output_type": "stream",
     "text": [
      "952\n"
     ]
    },
    {
     "name": "stderr",
     "output_type": "stream",
     "text": [
      "\r",
      "953it [03:19,  4.28s/it]"
     ]
    },
    {
     "name": "stdout",
     "output_type": "stream",
     "text": [
      "953\n"
     ]
    },
    {
     "name": "stderr",
     "output_type": "stream",
     "text": [
      "\r",
      "954it [03:22,  3.96s/it]"
     ]
    },
    {
     "name": "stdout",
     "output_type": "stream",
     "text": [
      "954\n"
     ]
    },
    {
     "name": "stderr",
     "output_type": "stream",
     "text": [
      "\r",
      "955it [03:26,  3.88s/it]"
     ]
    },
    {
     "name": "stdout",
     "output_type": "stream",
     "text": [
      "955\n"
     ]
    },
    {
     "name": "stderr",
     "output_type": "stream",
     "text": [
      "\r",
      "956it [03:32,  4.56s/it]"
     ]
    },
    {
     "name": "stdout",
     "output_type": "stream",
     "text": [
      "956\n"
     ]
    },
    {
     "name": "stderr",
     "output_type": "stream",
     "text": [
      "\r",
      "957it [03:37,  4.67s/it]"
     ]
    },
    {
     "name": "stdout",
     "output_type": "stream",
     "text": [
      "957\n"
     ]
    },
    {
     "name": "stderr",
     "output_type": "stream",
     "text": [
      "\r",
      "958it [03:42,  4.80s/it]"
     ]
    },
    {
     "name": "stdout",
     "output_type": "stream",
     "text": [
      "958\n"
     ]
    },
    {
     "name": "stderr",
     "output_type": "stream",
     "text": [
      "\r",
      "959it [03:47,  4.77s/it]"
     ]
    },
    {
     "name": "stdout",
     "output_type": "stream",
     "text": [
      "959\n"
     ]
    },
    {
     "name": "stderr",
     "output_type": "stream",
     "text": [
      "\r",
      "960it [03:50,  4.34s/it]"
     ]
    },
    {
     "name": "stdout",
     "output_type": "stream",
     "text": [
      "960\n"
     ]
    },
    {
     "name": "stderr",
     "output_type": "stream",
     "text": [
      "\r",
      "961it [03:54,  4.27s/it]"
     ]
    },
    {
     "name": "stdout",
     "output_type": "stream",
     "text": [
      "961\n"
     ]
    },
    {
     "name": "stderr",
     "output_type": "stream",
     "text": [
      "\r",
      "962it [03:58,  4.08s/it]"
     ]
    },
    {
     "name": "stdout",
     "output_type": "stream",
     "text": [
      "962\n"
     ]
    },
    {
     "name": "stderr",
     "output_type": "stream",
     "text": [
      "\r",
      "963it [04:01,  3.91s/it]"
     ]
    },
    {
     "name": "stdout",
     "output_type": "stream",
     "text": [
      "963\n"
     ]
    },
    {
     "name": "stderr",
     "output_type": "stream",
     "text": [
      "\r",
      "964it [04:06,  4.14s/it]"
     ]
    },
    {
     "name": "stdout",
     "output_type": "stream",
     "text": [
      "964\n"
     ]
    },
    {
     "name": "stderr",
     "output_type": "stream",
     "text": [
      "\r",
      "965it [04:10,  4.13s/it]"
     ]
    },
    {
     "name": "stdout",
     "output_type": "stream",
     "text": [
      "965\n"
     ]
    },
    {
     "name": "stderr",
     "output_type": "stream",
     "text": [
      "\r",
      "966it [04:14,  4.02s/it]"
     ]
    },
    {
     "name": "stdout",
     "output_type": "stream",
     "text": [
      "966\n"
     ]
    },
    {
     "name": "stderr",
     "output_type": "stream",
     "text": [
      "\r",
      "967it [04:18,  3.95s/it]"
     ]
    },
    {
     "name": "stdout",
     "output_type": "stream",
     "text": [
      "967\n"
     ]
    },
    {
     "name": "stderr",
     "output_type": "stream",
     "text": [
      "\r",
      "968it [04:22,  4.01s/it]"
     ]
    },
    {
     "name": "stdout",
     "output_type": "stream",
     "text": [
      "968\n"
     ]
    },
    {
     "name": "stderr",
     "output_type": "stream",
     "text": [
      "\r",
      "969it [04:26,  4.21s/it]"
     ]
    },
    {
     "name": "stdout",
     "output_type": "stream",
     "text": [
      "969\n"
     ]
    },
    {
     "name": "stderr",
     "output_type": "stream",
     "text": [
      "\r",
      "970it [04:30,  3.96s/it]"
     ]
    },
    {
     "name": "stdout",
     "output_type": "stream",
     "text": [
      "970\n"
     ]
    },
    {
     "name": "stderr",
     "output_type": "stream",
     "text": [
      "\r",
      "971it [04:35,  4.22s/it]"
     ]
    },
    {
     "name": "stdout",
     "output_type": "stream",
     "text": [
      "971\n"
     ]
    },
    {
     "name": "stderr",
     "output_type": "stream",
     "text": [
      "\r",
      "972it [04:39,  4.25s/it]"
     ]
    },
    {
     "name": "stdout",
     "output_type": "stream",
     "text": [
      "972\n"
     ]
    },
    {
     "name": "stderr",
     "output_type": "stream",
     "text": [
      "\r",
      "973it [04:43,  4.16s/it]"
     ]
    },
    {
     "name": "stdout",
     "output_type": "stream",
     "text": [
      "973\n"
     ]
    },
    {
     "name": "stderr",
     "output_type": "stream",
     "text": [
      "\r",
      "974it [04:47,  4.23s/it]"
     ]
    },
    {
     "name": "stdout",
     "output_type": "stream",
     "text": [
      "974\n"
     ]
    },
    {
     "name": "stderr",
     "output_type": "stream",
     "text": [
      "\r",
      "975it [04:52,  4.37s/it]"
     ]
    },
    {
     "name": "stdout",
     "output_type": "stream",
     "text": [
      "975\n"
     ]
    },
    {
     "name": "stderr",
     "output_type": "stream",
     "text": [
      "\r",
      "976it [04:57,  4.54s/it]"
     ]
    },
    {
     "name": "stdout",
     "output_type": "stream",
     "text": [
      "976\n"
     ]
    },
    {
     "name": "stderr",
     "output_type": "stream",
     "text": [
      "\r",
      "977it [05:03,  4.90s/it]"
     ]
    },
    {
     "name": "stdout",
     "output_type": "stream",
     "text": [
      "977\n"
     ]
    },
    {
     "name": "stderr",
     "output_type": "stream",
     "text": [
      "\r",
      "978it [05:06,  4.54s/it]"
     ]
    },
    {
     "name": "stdout",
     "output_type": "stream",
     "text": [
      "978\n"
     ]
    },
    {
     "name": "stderr",
     "output_type": "stream",
     "text": [
      "\r",
      "979it [05:12,  4.83s/it]"
     ]
    },
    {
     "name": "stdout",
     "output_type": "stream",
     "text": [
      "979\n"
     ]
    },
    {
     "name": "stderr",
     "output_type": "stream",
     "text": [
      "\r",
      "980it [05:17,  4.83s/it]"
     ]
    },
    {
     "name": "stdout",
     "output_type": "stream",
     "text": [
      "980\n"
     ]
    },
    {
     "name": "stderr",
     "output_type": "stream",
     "text": [
      "\r",
      "981it [05:21,  4.66s/it]"
     ]
    },
    {
     "name": "stdout",
     "output_type": "stream",
     "text": [
      "981\n"
     ]
    },
    {
     "name": "stderr",
     "output_type": "stream",
     "text": [
      "\r",
      "982it [05:25,  4.41s/it]"
     ]
    },
    {
     "name": "stdout",
     "output_type": "stream",
     "text": [
      "982\n"
     ]
    },
    {
     "name": "stderr",
     "output_type": "stream",
     "text": [
      "\r",
      "983it [05:29,  4.41s/it]"
     ]
    },
    {
     "name": "stdout",
     "output_type": "stream",
     "text": [
      "983\n"
     ]
    },
    {
     "name": "stderr",
     "output_type": "stream",
     "text": [
      "\r",
      "984it [05:29,  3.17s/it]"
     ]
    },
    {
     "name": "stdout",
     "output_type": "stream",
     "text": [
      "Failed on account: 755726522\n",
      "Not authorized.\n",
      "984\n"
     ]
    },
    {
     "name": "stderr",
     "output_type": "stream",
     "text": [
      "\r",
      "985it [05:36,  4.09s/it]"
     ]
    },
    {
     "name": "stdout",
     "output_type": "stream",
     "text": [
      "985\n"
     ]
    },
    {
     "name": "stderr",
     "output_type": "stream",
     "text": [
      "\r",
      "986it [05:39,  4.01s/it]"
     ]
    },
    {
     "name": "stdout",
     "output_type": "stream",
     "text": [
      "986\n"
     ]
    },
    {
     "name": "stderr",
     "output_type": "stream",
     "text": [
      "\r",
      "987it [05:43,  3.82s/it]"
     ]
    },
    {
     "name": "stdout",
     "output_type": "stream",
     "text": [
      "987\n"
     ]
    },
    {
     "name": "stderr",
     "output_type": "stream",
     "text": [
      "\r",
      "988it [05:47,  3.95s/it]"
     ]
    },
    {
     "name": "stdout",
     "output_type": "stream",
     "text": [
      "988\n"
     ]
    },
    {
     "name": "stderr",
     "output_type": "stream",
     "text": [
      "\r",
      "989it [05:52,  4.20s/it]"
     ]
    },
    {
     "name": "stdout",
     "output_type": "stream",
     "text": [
      "989\n"
     ]
    },
    {
     "name": "stderr",
     "output_type": "stream",
     "text": [
      "\r",
      "990it [05:56,  4.28s/it]"
     ]
    },
    {
     "name": "stdout",
     "output_type": "stream",
     "text": [
      "990\n"
     ]
    },
    {
     "name": "stderr",
     "output_type": "stream",
     "text": [
      "\r",
      "991it [06:02,  4.60s/it]"
     ]
    },
    {
     "name": "stdout",
     "output_type": "stream",
     "text": [
      "991\n"
     ]
    },
    {
     "name": "stderr",
     "output_type": "stream",
     "text": [
      "\r",
      "992it [06:07,  4.75s/it]"
     ]
    },
    {
     "name": "stdout",
     "output_type": "stream",
     "text": [
      "992\n"
     ]
    },
    {
     "name": "stderr",
     "output_type": "stream",
     "text": [
      "\r",
      "993it [06:11,  4.62s/it]"
     ]
    },
    {
     "name": "stdout",
     "output_type": "stream",
     "text": [
      "993\n"
     ]
    },
    {
     "name": "stderr",
     "output_type": "stream",
     "text": [
      "\r",
      "994it [06:15,  4.34s/it]"
     ]
    },
    {
     "name": "stdout",
     "output_type": "stream",
     "text": [
      "994\n"
     ]
    },
    {
     "name": "stderr",
     "output_type": "stream",
     "text": [
      "\r",
      "995it [06:20,  4.70s/it]"
     ]
    },
    {
     "name": "stdout",
     "output_type": "stream",
     "text": [
      "995\n"
     ]
    },
    {
     "name": "stderr",
     "output_type": "stream",
     "text": [
      "\r",
      "996it [06:25,  4.68s/it]"
     ]
    },
    {
     "name": "stdout",
     "output_type": "stream",
     "text": [
      "996\n"
     ]
    },
    {
     "name": "stderr",
     "output_type": "stream",
     "text": [
      "\r",
      "997it [06:29,  4.50s/it]"
     ]
    },
    {
     "name": "stdout",
     "output_type": "stream",
     "text": [
      "997\n"
     ]
    },
    {
     "name": "stderr",
     "output_type": "stream",
     "text": [
      "\r",
      "998it [06:29,  3.23s/it]"
     ]
    },
    {
     "name": "stdout",
     "output_type": "stream",
     "text": [
      "Failed on account: 758313715695427584\n",
      "[{'code': 34, 'message': 'Sorry, that page does not exist.'}]\n",
      "998\n"
     ]
    },
    {
     "name": "stderr",
     "output_type": "stream",
     "text": [
      "\r",
      "999it [06:34,  3.55s/it]"
     ]
    },
    {
     "name": "stdout",
     "output_type": "stream",
     "text": [
      "999\n"
     ]
    },
    {
     "name": "stderr",
     "output_type": "stream",
     "text": [
      "\r",
      "1000it [06:37,  3.45s/it]"
     ]
    },
    {
     "name": "stdout",
     "output_type": "stream",
     "text": [
      "1000\n"
     ]
    },
    {
     "name": "stderr",
     "output_type": "stream",
     "text": [
      "\r",
      "1001it [06:41,  3.61s/it]"
     ]
    },
    {
     "name": "stdout",
     "output_type": "stream",
     "text": [
      "1001\n"
     ]
    },
    {
     "name": "stderr",
     "output_type": "stream",
     "text": [
      "\r",
      "1002it [06:44,  3.51s/it]"
     ]
    },
    {
     "name": "stdout",
     "output_type": "stream",
     "text": [
      "1002\n"
     ]
    },
    {
     "name": "stderr",
     "output_type": "stream",
     "text": [
      "\r",
      "1003it [06:49,  3.78s/it]"
     ]
    },
    {
     "name": "stdout",
     "output_type": "stream",
     "text": [
      "1003\n"
     ]
    },
    {
     "name": "stderr",
     "output_type": "stream",
     "text": [
      "\r",
      "1004it [06:52,  3.78s/it]"
     ]
    },
    {
     "name": "stdout",
     "output_type": "stream",
     "text": [
      "1004\n"
     ]
    },
    {
     "name": "stderr",
     "output_type": "stream",
     "text": [
      "\r",
      "1005it [06:57,  4.00s/it]"
     ]
    },
    {
     "name": "stdout",
     "output_type": "stream",
     "text": [
      "1005\n"
     ]
    },
    {
     "name": "stderr",
     "output_type": "stream",
     "text": [
      "\r",
      "1006it [07:00,  3.76s/it]"
     ]
    },
    {
     "name": "stdout",
     "output_type": "stream",
     "text": [
      "1006\n"
     ]
    },
    {
     "name": "stderr",
     "output_type": "stream",
     "text": [
      "\r",
      "1007it [07:04,  3.96s/it]"
     ]
    },
    {
     "name": "stdout",
     "output_type": "stream",
     "text": [
      "1007\n"
     ]
    },
    {
     "name": "stderr",
     "output_type": "stream",
     "text": [
      "\r",
      "1008it [07:09,  4.01s/it]"
     ]
    },
    {
     "name": "stdout",
     "output_type": "stream",
     "text": [
      "1008\n"
     ]
    },
    {
     "name": "stderr",
     "output_type": "stream",
     "text": [
      "\r",
      "1009it [07:12,  3.82s/it]"
     ]
    },
    {
     "name": "stdout",
     "output_type": "stream",
     "text": [
      "1009\n"
     ]
    },
    {
     "name": "stderr",
     "output_type": "stream",
     "text": [
      "\r",
      "1010it [07:16,  3.85s/it]"
     ]
    },
    {
     "name": "stdout",
     "output_type": "stream",
     "text": [
      "1010\n"
     ]
    },
    {
     "name": "stderr",
     "output_type": "stream",
     "text": [
      "\r",
      "1011it [07:19,  3.67s/it]"
     ]
    },
    {
     "name": "stdout",
     "output_type": "stream",
     "text": [
      "1011\n"
     ]
    },
    {
     "name": "stderr",
     "output_type": "stream",
     "text": [
      "\r",
      "1012it [07:23,  3.83s/it]"
     ]
    },
    {
     "name": "stdout",
     "output_type": "stream",
     "text": [
      "1012\n"
     ]
    },
    {
     "name": "stderr",
     "output_type": "stream",
     "text": [
      "\r",
      "1013it [07:27,  3.67s/it]"
     ]
    },
    {
     "name": "stdout",
     "output_type": "stream",
     "text": [
      "1013\n"
     ]
    },
    {
     "name": "stderr",
     "output_type": "stream",
     "text": [
      "\r",
      "1014it [07:31,  3.83s/it]"
     ]
    },
    {
     "name": "stdout",
     "output_type": "stream",
     "text": [
      "1014\n"
     ]
    },
    {
     "name": "stderr",
     "output_type": "stream",
     "text": [
      "\r",
      "1015it [07:35,  3.85s/it]"
     ]
    },
    {
     "name": "stdout",
     "output_type": "stream",
     "text": [
      "1015\n"
     ]
    },
    {
     "name": "stderr",
     "output_type": "stream",
     "text": [
      "\r",
      "1016it [07:39,  3.86s/it]"
     ]
    },
    {
     "name": "stdout",
     "output_type": "stream",
     "text": [
      "1016\n"
     ]
    },
    {
     "name": "stderr",
     "output_type": "stream",
     "text": [
      "\r",
      "1017it [07:43,  3.96s/it]"
     ]
    },
    {
     "name": "stdout",
     "output_type": "stream",
     "text": [
      "1017\n"
     ]
    },
    {
     "name": "stderr",
     "output_type": "stream",
     "text": [
      "\r",
      "1018it [07:48,  4.22s/it]"
     ]
    },
    {
     "name": "stdout",
     "output_type": "stream",
     "text": [
      "1018\n"
     ]
    },
    {
     "name": "stderr",
     "output_type": "stream",
     "text": [
      "\r",
      "1019it [07:51,  4.12s/it]"
     ]
    },
    {
     "name": "stdout",
     "output_type": "stream",
     "text": [
      "1019\n"
     ]
    },
    {
     "name": "stderr",
     "output_type": "stream",
     "text": [
      "\r",
      "1020it [07:56,  4.36s/it]"
     ]
    },
    {
     "name": "stdout",
     "output_type": "stream",
     "text": [
      "1020\n"
     ]
    },
    {
     "name": "stderr",
     "output_type": "stream",
     "text": [
      "\r",
      "1021it [08:01,  4.29s/it]"
     ]
    },
    {
     "name": "stdout",
     "output_type": "stream",
     "text": [
      "1021\n"
     ]
    },
    {
     "name": "stderr",
     "output_type": "stream",
     "text": [
      "\r",
      "1022it [08:04,  4.19s/it]"
     ]
    },
    {
     "name": "stdout",
     "output_type": "stream",
     "text": [
      "1022\n"
     ]
    },
    {
     "name": "stderr",
     "output_type": "stream",
     "text": [
      "\r",
      "1023it [08:09,  4.29s/it]"
     ]
    },
    {
     "name": "stdout",
     "output_type": "stream",
     "text": [
      "1023\n"
     ]
    },
    {
     "name": "stderr",
     "output_type": "stream",
     "text": [
      "\r",
      "1024it [08:13,  4.31s/it]"
     ]
    },
    {
     "name": "stdout",
     "output_type": "stream",
     "text": [
      "1024\n"
     ]
    },
    {
     "name": "stderr",
     "output_type": "stream",
     "text": [
      "\r",
      "1025it [08:17,  4.13s/it]"
     ]
    },
    {
     "name": "stdout",
     "output_type": "stream",
     "text": [
      "1025\n"
     ]
    },
    {
     "name": "stderr",
     "output_type": "stream",
     "text": [
      "\r",
      "1026it [08:21,  4.20s/it]"
     ]
    },
    {
     "name": "stdout",
     "output_type": "stream",
     "text": [
      "1026\n"
     ]
    },
    {
     "name": "stderr",
     "output_type": "stream",
     "text": [
      "\r",
      "1027it [08:25,  4.00s/it]"
     ]
    },
    {
     "name": "stdout",
     "output_type": "stream",
     "text": [
      "1027\n"
     ]
    },
    {
     "name": "stderr",
     "output_type": "stream",
     "text": [
      "\r",
      "1028it [08:30,  4.40s/it]"
     ]
    },
    {
     "name": "stdout",
     "output_type": "stream",
     "text": [
      "1028\n"
     ]
    },
    {
     "name": "stderr",
     "output_type": "stream",
     "text": [
      "\r",
      "1029it [08:34,  4.28s/it]"
     ]
    },
    {
     "name": "stdout",
     "output_type": "stream",
     "text": [
      "1029\n"
     ]
    },
    {
     "name": "stderr",
     "output_type": "stream",
     "text": [
      "\r",
      "1030it [08:39,  4.53s/it]"
     ]
    },
    {
     "name": "stdout",
     "output_type": "stream",
     "text": [
      "1030\n"
     ]
    },
    {
     "name": "stderr",
     "output_type": "stream",
     "text": [
      "\r",
      "1031it [08:45,  4.71s/it]"
     ]
    },
    {
     "name": "stdout",
     "output_type": "stream",
     "text": [
      "1031\n"
     ]
    },
    {
     "name": "stderr",
     "output_type": "stream",
     "text": [
      "\r",
      "1032it [08:49,  4.65s/it]"
     ]
    },
    {
     "name": "stdout",
     "output_type": "stream",
     "text": [
      "1032\n"
     ]
    },
    {
     "name": "stderr",
     "output_type": "stream",
     "text": [
      "\r",
      "1033it [08:54,  4.82s/it]"
     ]
    },
    {
     "name": "stdout",
     "output_type": "stream",
     "text": [
      "1033\n"
     ]
    },
    {
     "name": "stderr",
     "output_type": "stream",
     "text": [
      "\r",
      "1034it [08:58,  4.35s/it]"
     ]
    },
    {
     "name": "stdout",
     "output_type": "stream",
     "text": [
      "1034\n"
     ]
    },
    {
     "name": "stderr",
     "output_type": "stream",
     "text": [
      "\r",
      "1035it [09:02,  4.50s/it]"
     ]
    },
    {
     "name": "stdout",
     "output_type": "stream",
     "text": [
      "1035\n"
     ]
    },
    {
     "name": "stderr",
     "output_type": "stream",
     "text": [
      "\r",
      "1036it [09:06,  4.36s/it]"
     ]
    },
    {
     "name": "stdout",
     "output_type": "stream",
     "text": [
      "1036\n"
     ]
    },
    {
     "name": "stderr",
     "output_type": "stream",
     "text": [
      "\r",
      "1037it [09:10,  4.17s/it]"
     ]
    },
    {
     "name": "stdout",
     "output_type": "stream",
     "text": [
      "1037\n"
     ]
    },
    {
     "name": "stderr",
     "output_type": "stream",
     "text": [
      "\r",
      "1038it [09:14,  4.00s/it]"
     ]
    },
    {
     "name": "stdout",
     "output_type": "stream",
     "text": [
      "1038\n"
     ]
    },
    {
     "name": "stderr",
     "output_type": "stream",
     "text": [
      "\r",
      "1039it [09:17,  3.89s/it]"
     ]
    },
    {
     "name": "stdout",
     "output_type": "stream",
     "text": [
      "1039\n"
     ]
    },
    {
     "name": "stderr",
     "output_type": "stream",
     "text": [
      "\r",
      "1040it [09:22,  4.24s/it]"
     ]
    },
    {
     "name": "stdout",
     "output_type": "stream",
     "text": [
      "1040\n"
     ]
    },
    {
     "name": "stderr",
     "output_type": "stream",
     "text": [
      "\r",
      "1041it [09:26,  4.00s/it]"
     ]
    },
    {
     "name": "stdout",
     "output_type": "stream",
     "text": [
      "1041\n"
     ]
    },
    {
     "name": "stderr",
     "output_type": "stream",
     "text": [
      "\r",
      "1042it [09:30,  3.96s/it]"
     ]
    },
    {
     "name": "stdout",
     "output_type": "stream",
     "text": [
      "1042\n"
     ]
    },
    {
     "name": "stderr",
     "output_type": "stream",
     "text": [
      "\r",
      "1043it [09:33,  3.82s/it]"
     ]
    },
    {
     "name": "stdout",
     "output_type": "stream",
     "text": [
      "1043\n"
     ]
    },
    {
     "name": "stderr",
     "output_type": "stream",
     "text": [
      "\r",
      "1044it [09:37,  3.72s/it]"
     ]
    },
    {
     "name": "stdout",
     "output_type": "stream",
     "text": [
      "1044\n"
     ]
    },
    {
     "name": "stderr",
     "output_type": "stream",
     "text": [
      "\r",
      "1045it [09:41,  4.04s/it]"
     ]
    },
    {
     "name": "stdout",
     "output_type": "stream",
     "text": [
      "1045\n"
     ]
    },
    {
     "name": "stderr",
     "output_type": "stream",
     "text": [
      "\r",
      "1046it [09:45,  3.92s/it]"
     ]
    },
    {
     "name": "stdout",
     "output_type": "stream",
     "text": [
      "1046\n"
     ]
    },
    {
     "name": "stderr",
     "output_type": "stream",
     "text": [
      "\r",
      "1047it [09:48,  3.75s/it]"
     ]
    },
    {
     "name": "stdout",
     "output_type": "stream",
     "text": [
      "1047\n"
     ]
    },
    {
     "name": "stderr",
     "output_type": "stream",
     "text": [
      "\r",
      "1048it [09:54,  4.17s/it]"
     ]
    },
    {
     "name": "stdout",
     "output_type": "stream",
     "text": [
      "1048\n"
     ]
    },
    {
     "name": "stderr",
     "output_type": "stream",
     "text": [
      "\r",
      "1049it [09:59,  4.39s/it]"
     ]
    },
    {
     "name": "stdout",
     "output_type": "stream",
     "text": [
      "1049\n"
     ]
    },
    {
     "name": "stderr",
     "output_type": "stream",
     "text": [
      "\r",
      "1050it [10:02,  4.10s/it]"
     ]
    },
    {
     "name": "stdout",
     "output_type": "stream",
     "text": [
      "1050\n"
     ]
    },
    {
     "name": "stderr",
     "output_type": "stream",
     "text": [
      "\r",
      "1051it [10:06,  3.99s/it]"
     ]
    },
    {
     "name": "stdout",
     "output_type": "stream",
     "text": [
      "1051\n"
     ]
    },
    {
     "name": "stderr",
     "output_type": "stream",
     "text": [
      "\r",
      "1052it [10:09,  3.90s/it]"
     ]
    },
    {
     "name": "stdout",
     "output_type": "stream",
     "text": [
      "1052\n"
     ]
    },
    {
     "name": "stderr",
     "output_type": "stream",
     "text": [
      "\r",
      "1053it [10:13,  3.75s/it]"
     ]
    },
    {
     "name": "stdout",
     "output_type": "stream",
     "text": [
      "1053\n"
     ]
    },
    {
     "name": "stderr",
     "output_type": "stream",
     "text": [
      "\r",
      "1054it [10:16,  3.67s/it]"
     ]
    },
    {
     "name": "stdout",
     "output_type": "stream",
     "text": [
      "1054\n"
     ]
    },
    {
     "name": "stderr",
     "output_type": "stream",
     "text": [
      "\r",
      "1055it [10:23,  4.58s/it]"
     ]
    },
    {
     "name": "stdout",
     "output_type": "stream",
     "text": [
      "1055\n"
     ]
    },
    {
     "name": "stderr",
     "output_type": "stream",
     "text": [
      "\r",
      "1056it [10:26,  4.19s/it]"
     ]
    },
    {
     "name": "stdout",
     "output_type": "stream",
     "text": [
      "1056\n"
     ]
    },
    {
     "name": "stderr",
     "output_type": "stream",
     "text": [
      "\r",
      "1057it [10:30,  4.11s/it]"
     ]
    },
    {
     "name": "stdout",
     "output_type": "stream",
     "text": [
      "1057\n"
     ]
    },
    {
     "name": "stderr",
     "output_type": "stream",
     "text": [
      "\r",
      "1058it [10:34,  4.13s/it]"
     ]
    },
    {
     "name": "stdout",
     "output_type": "stream",
     "text": [
      "1058\n"
     ]
    },
    {
     "name": "stderr",
     "output_type": "stream",
     "text": [
      "\r",
      "1059it [10:39,  4.29s/it]"
     ]
    },
    {
     "name": "stdout",
     "output_type": "stream",
     "text": [
      "1059\n"
     ]
    },
    {
     "name": "stderr",
     "output_type": "stream",
     "text": [
      "\r",
      "1060it [10:42,  3.97s/it]"
     ]
    },
    {
     "name": "stdout",
     "output_type": "stream",
     "text": [
      "1060\n"
     ]
    },
    {
     "name": "stderr",
     "output_type": "stream",
     "text": [
      "\r",
      "1061it [10:46,  3.84s/it]"
     ]
    },
    {
     "name": "stdout",
     "output_type": "stream",
     "text": [
      "1061\n"
     ]
    },
    {
     "name": "stderr",
     "output_type": "stream",
     "text": [
      "\r",
      "1062it [10:49,  3.76s/it]"
     ]
    },
    {
     "name": "stdout",
     "output_type": "stream",
     "text": [
      "1062\n"
     ]
    },
    {
     "name": "stderr",
     "output_type": "stream",
     "text": [
      "\r",
      "1063it [10:54,  4.02s/it]"
     ]
    },
    {
     "name": "stdout",
     "output_type": "stream",
     "text": [
      "1063\n"
     ]
    },
    {
     "name": "stderr",
     "output_type": "stream",
     "text": [
      "\r",
      "1064it [10:58,  4.14s/it]"
     ]
    },
    {
     "name": "stdout",
     "output_type": "stream",
     "text": [
      "1064\n"
     ]
    },
    {
     "name": "stderr",
     "output_type": "stream",
     "text": [
      "\r",
      "1065it [11:02,  3.87s/it]"
     ]
    },
    {
     "name": "stdout",
     "output_type": "stream",
     "text": [
      "1065\n"
     ]
    },
    {
     "name": "stderr",
     "output_type": "stream",
     "text": [
      "\r",
      "1066it [11:04,  3.35s/it]"
     ]
    },
    {
     "name": "stdout",
     "output_type": "stream",
     "text": [
      "1066\n"
     ]
    },
    {
     "name": "stderr",
     "output_type": "stream",
     "text": [
      "\r",
      "1067it [11:08,  3.63s/it]"
     ]
    },
    {
     "name": "stdout",
     "output_type": "stream",
     "text": [
      "1067\n"
     ]
    },
    {
     "name": "stderr",
     "output_type": "stream",
     "text": [
      "\r",
      "1068it [11:11,  3.44s/it]"
     ]
    },
    {
     "name": "stdout",
     "output_type": "stream",
     "text": [
      "1068\n"
     ]
    },
    {
     "name": "stderr",
     "output_type": "stream",
     "text": [
      "\r",
      "1069it [11:15,  3.52s/it]"
     ]
    },
    {
     "name": "stdout",
     "output_type": "stream",
     "text": [
      "1069\n"
     ]
    },
    {
     "name": "stderr",
     "output_type": "stream",
     "text": [
      "\r",
      "1070it [11:19,  3.61s/it]"
     ]
    },
    {
     "name": "stdout",
     "output_type": "stream",
     "text": [
      "1070\n"
     ]
    },
    {
     "name": "stderr",
     "output_type": "stream",
     "text": [
      "\r",
      "1071it [11:22,  3.53s/it]"
     ]
    },
    {
     "name": "stdout",
     "output_type": "stream",
     "text": [
      "1071\n"
     ]
    },
    {
     "name": "stderr",
     "output_type": "stream",
     "text": [
      "\r",
      "1072it [11:26,  3.77s/it]"
     ]
    },
    {
     "name": "stdout",
     "output_type": "stream",
     "text": [
      "1072\n"
     ]
    },
    {
     "name": "stderr",
     "output_type": "stream",
     "text": [
      "\r",
      "1073it [11:30,  3.62s/it]"
     ]
    },
    {
     "name": "stdout",
     "output_type": "stream",
     "text": [
      "1073\n"
     ]
    },
    {
     "name": "stderr",
     "output_type": "stream",
     "text": [
      "\r",
      "1074it [11:36,  4.42s/it]"
     ]
    },
    {
     "name": "stdout",
     "output_type": "stream",
     "text": [
      "1074\n"
     ]
    },
    {
     "name": "stderr",
     "output_type": "stream",
     "text": [
      "\r",
      "1075it [11:40,  4.35s/it]"
     ]
    },
    {
     "name": "stdout",
     "output_type": "stream",
     "text": [
      "1075\n"
     ]
    },
    {
     "name": "stderr",
     "output_type": "stream",
     "text": [
      "\r",
      "1076it [11:44,  4.17s/it]"
     ]
    },
    {
     "name": "stdout",
     "output_type": "stream",
     "text": [
      "1076\n"
     ]
    },
    {
     "name": "stderr",
     "output_type": "stream",
     "text": [
      "\r",
      "1077it [11:48,  4.34s/it]"
     ]
    },
    {
     "name": "stdout",
     "output_type": "stream",
     "text": [
      "1077\n"
     ]
    },
    {
     "name": "stderr",
     "output_type": "stream",
     "text": [
      "\r",
      "1078it [11:52,  4.21s/it]"
     ]
    },
    {
     "name": "stdout",
     "output_type": "stream",
     "text": [
      "1078\n"
     ]
    },
    {
     "name": "stderr",
     "output_type": "stream",
     "text": [
      "\r",
      "1079it [11:56,  4.10s/it]"
     ]
    },
    {
     "name": "stdout",
     "output_type": "stream",
     "text": [
      "1079\n"
     ]
    },
    {
     "name": "stderr",
     "output_type": "stream",
     "text": [
      "\r",
      "1080it [11:59,  3.82s/it]"
     ]
    },
    {
     "name": "stdout",
     "output_type": "stream",
     "text": [
      "1080\n"
     ]
    },
    {
     "name": "stderr",
     "output_type": "stream",
     "text": [
      "\r",
      "1081it [12:05,  4.45s/it]"
     ]
    },
    {
     "name": "stdout",
     "output_type": "stream",
     "text": [
      "1081\n"
     ]
    },
    {
     "name": "stderr",
     "output_type": "stream",
     "text": [
      "\r",
      "1082it [12:10,  4.40s/it]"
     ]
    },
    {
     "name": "stdout",
     "output_type": "stream",
     "text": [
      "1082\n"
     ]
    },
    {
     "name": "stderr",
     "output_type": "stream",
     "text": [
      "\r",
      "1083it [12:14,  4.35s/it]"
     ]
    },
    {
     "name": "stdout",
     "output_type": "stream",
     "text": [
      "1083\n"
     ]
    },
    {
     "name": "stderr",
     "output_type": "stream",
     "text": [
      "\r",
      "1084it [12:14,  3.12s/it]"
     ]
    },
    {
     "name": "stdout",
     "output_type": "stream",
     "text": [
      "Failed on account: 756880499881103360\n",
      "[{'code': 34, 'message': 'Sorry, that page does not exist.'}]\n",
      "1084\n"
     ]
    },
    {
     "name": "stderr",
     "output_type": "stream",
     "text": [
      "\r",
      "1085it [12:19,  3.54s/it]"
     ]
    },
    {
     "name": "stdout",
     "output_type": "stream",
     "text": [
      "1085\n"
     ]
    },
    {
     "name": "stderr",
     "output_type": "stream",
     "text": [
      "\r",
      "1086it [12:23,  3.77s/it]"
     ]
    },
    {
     "name": "stdout",
     "output_type": "stream",
     "text": [
      "1086\n"
     ]
    },
    {
     "name": "stderr",
     "output_type": "stream",
     "text": [
      "\r",
      "1087it [12:28,  4.10s/it]"
     ]
    },
    {
     "name": "stdout",
     "output_type": "stream",
     "text": [
      "1087\n"
     ]
    },
    {
     "name": "stderr",
     "output_type": "stream",
     "text": [
      "\r",
      "1088it [12:32,  4.10s/it]"
     ]
    },
    {
     "name": "stdout",
     "output_type": "stream",
     "text": [
      "1088\n"
     ]
    },
    {
     "name": "stderr",
     "output_type": "stream",
     "text": [
      "\r",
      "1089it [15:10, 50.24s/it]"
     ]
    },
    {
     "name": "stdout",
     "output_type": "stream",
     "text": [
      "1089\n"
     ]
    },
    {
     "name": "stderr",
     "output_type": "stream",
     "text": [
      "\r",
      "1090it [15:13, 36.21s/it]"
     ]
    },
    {
     "name": "stdout",
     "output_type": "stream",
     "text": [
      "1090\n"
     ]
    },
    {
     "name": "stderr",
     "output_type": "stream",
     "text": [
      "\r",
      "1091it [15:17, 26.50s/it]"
     ]
    },
    {
     "name": "stdout",
     "output_type": "stream",
     "text": [
      "1091\n"
     ]
    },
    {
     "name": "stderr",
     "output_type": "stream",
     "text": [
      "\r",
      "1092it [15:20, 19.54s/it]"
     ]
    },
    {
     "name": "stdout",
     "output_type": "stream",
     "text": [
      "1092\n"
     ]
    },
    {
     "name": "stderr",
     "output_type": "stream",
     "text": [
      "\r",
      "1093it [15:24, 14.88s/it]"
     ]
    },
    {
     "name": "stdout",
     "output_type": "stream",
     "text": [
      "1093\n"
     ]
    },
    {
     "name": "stderr",
     "output_type": "stream",
     "text": [
      "\r",
      "1094it [15:29, 11.89s/it]"
     ]
    },
    {
     "name": "stdout",
     "output_type": "stream",
     "text": [
      "1094\n"
     ]
    },
    {
     "name": "stderr",
     "output_type": "stream",
     "text": [
      "\r",
      "1095it [15:34,  9.72s/it]"
     ]
    },
    {
     "name": "stdout",
     "output_type": "stream",
     "text": [
      "1095\n"
     ]
    },
    {
     "name": "stderr",
     "output_type": "stream",
     "text": [
      "\r",
      "1096it [15:38,  7.86s/it]"
     ]
    },
    {
     "name": "stdout",
     "output_type": "stream",
     "text": [
      "1096\n"
     ]
    },
    {
     "name": "stderr",
     "output_type": "stream",
     "text": [
      "\r",
      "1097it [15:42,  6.89s/it]"
     ]
    },
    {
     "name": "stdout",
     "output_type": "stream",
     "text": [
      "1097\n"
     ]
    },
    {
     "name": "stderr",
     "output_type": "stream",
     "text": [
      "\r",
      "1098it [15:47,  6.31s/it]"
     ]
    },
    {
     "name": "stdout",
     "output_type": "stream",
     "text": [
      "1098\n"
     ]
    },
    {
     "name": "stderr",
     "output_type": "stream",
     "text": [
      "\r",
      "1099it [15:52,  5.75s/it]"
     ]
    },
    {
     "name": "stdout",
     "output_type": "stream",
     "text": [
      "1099\n"
     ]
    },
    {
     "name": "stderr",
     "output_type": "stream",
     "text": [
      "\r",
      "1100it [15:56,  5.43s/it]"
     ]
    },
    {
     "name": "stdout",
     "output_type": "stream",
     "text": [
      "1100\n"
     ]
    },
    {
     "name": "stderr",
     "output_type": "stream",
     "text": [
      "\r",
      "1101it [16:00,  4.96s/it]"
     ]
    },
    {
     "name": "stdout",
     "output_type": "stream",
     "text": [
      "1101\n"
     ]
    },
    {
     "name": "stderr",
     "output_type": "stream",
     "text": [
      "\r",
      "1102it [16:08,  5.72s/it]"
     ]
    },
    {
     "name": "stdout",
     "output_type": "stream",
     "text": [
      "1102\n"
     ]
    },
    {
     "name": "stderr",
     "output_type": "stream",
     "text": [
      "\r",
      "1103it [16:12,  5.44s/it]"
     ]
    },
    {
     "name": "stdout",
     "output_type": "stream",
     "text": [
      "1103\n"
     ]
    },
    {
     "name": "stderr",
     "output_type": "stream",
     "text": [
      "\r",
      "1104it [16:17,  5.19s/it]"
     ]
    },
    {
     "name": "stdout",
     "output_type": "stream",
     "text": [
      "1104\n"
     ]
    },
    {
     "name": "stderr",
     "output_type": "stream",
     "text": [
      "\r",
      "1105it [16:20,  4.66s/it]"
     ]
    },
    {
     "name": "stdout",
     "output_type": "stream",
     "text": [
      "1105\n"
     ]
    },
    {
     "name": "stderr",
     "output_type": "stream",
     "text": [
      "\r",
      "1106it [16:25,  4.74s/it]"
     ]
    },
    {
     "name": "stdout",
     "output_type": "stream",
     "text": [
      "1106\n"
     ]
    },
    {
     "name": "stderr",
     "output_type": "stream",
     "text": [
      "\r",
      "1107it [16:29,  4.36s/it]"
     ]
    },
    {
     "name": "stdout",
     "output_type": "stream",
     "text": [
      "1107\n"
     ]
    },
    {
     "name": "stderr",
     "output_type": "stream",
     "text": [
      "\r",
      "1108it [16:32,  4.16s/it]"
     ]
    },
    {
     "name": "stdout",
     "output_type": "stream",
     "text": [
      "1108\n"
     ]
    },
    {
     "name": "stderr",
     "output_type": "stream",
     "text": [
      "\r",
      "1109it [16:37,  4.19s/it]"
     ]
    },
    {
     "name": "stdout",
     "output_type": "stream",
     "text": [
      "1109\n"
     ]
    },
    {
     "name": "stderr",
     "output_type": "stream",
     "text": [
      "\r",
      "1110it [16:40,  4.06s/it]"
     ]
    },
    {
     "name": "stdout",
     "output_type": "stream",
     "text": [
      "1110\n"
     ]
    },
    {
     "name": "stderr",
     "output_type": "stream",
     "text": [
      "\r",
      "1111it [16:44,  3.78s/it]"
     ]
    },
    {
     "name": "stdout",
     "output_type": "stream",
     "text": [
      "1111\n"
     ]
    },
    {
     "name": "stderr",
     "output_type": "stream",
     "text": [
      "\r",
      "1112it [16:48,  3.89s/it]"
     ]
    },
    {
     "name": "stdout",
     "output_type": "stream",
     "text": [
      "1112\n"
     ]
    },
    {
     "name": "stderr",
     "output_type": "stream",
     "text": [
      "\r",
      "1113it [16:53,  4.20s/it]"
     ]
    },
    {
     "name": "stdout",
     "output_type": "stream",
     "text": [
      "1113\n"
     ]
    },
    {
     "name": "stderr",
     "output_type": "stream",
     "text": [
      "\r",
      "1114it [16:56,  3.93s/it]"
     ]
    },
    {
     "name": "stdout",
     "output_type": "stream",
     "text": [
      "1114\n"
     ]
    },
    {
     "name": "stderr",
     "output_type": "stream",
     "text": [
      "\r",
      "1115it [16:56,  2.84s/it]"
     ]
    },
    {
     "name": "stdout",
     "output_type": "stream",
     "text": [
      "Failed on account: 745514486631542784\n",
      "[{'code': 34, 'message': 'Sorry, that page does not exist.'}]\n",
      "1115\n"
     ]
    },
    {
     "name": "stderr",
     "output_type": "stream",
     "text": [
      "\r",
      "1116it [16:57,  2.08s/it]"
     ]
    },
    {
     "name": "stdout",
     "output_type": "stream",
     "text": [
      "Failed on account: 756897488657715200\n",
      "[{'code': 34, 'message': 'Sorry, that page does not exist.'}]\n",
      "1116\n"
     ]
    },
    {
     "name": "stderr",
     "output_type": "stream",
     "text": [
      "\r",
      "1117it [17:00,  2.54s/it]"
     ]
    },
    {
     "name": "stdout",
     "output_type": "stream",
     "text": [
      "1117\n"
     ]
    },
    {
     "name": "stderr",
     "output_type": "stream",
     "text": [
      "\r",
      "1118it [17:05,  3.24s/it]"
     ]
    },
    {
     "name": "stdout",
     "output_type": "stream",
     "text": [
      "1118\n"
     ]
    },
    {
     "name": "stderr",
     "output_type": "stream",
     "text": [
      "\r",
      "1119it [17:08,  3.27s/it]"
     ]
    },
    {
     "name": "stdout",
     "output_type": "stream",
     "text": [
      "1119\n"
     ]
    },
    {
     "name": "stderr",
     "output_type": "stream",
     "text": [
      "\r",
      "1120it [17:12,  3.32s/it]"
     ]
    },
    {
     "name": "stdout",
     "output_type": "stream",
     "text": [
      "1120\n"
     ]
    },
    {
     "name": "stderr",
     "output_type": "stream",
     "text": [
      "\r",
      "1121it [17:15,  3.34s/it]"
     ]
    },
    {
     "name": "stdout",
     "output_type": "stream",
     "text": [
      "1121\n"
     ]
    },
    {
     "name": "stderr",
     "output_type": "stream",
     "text": [
      "\r",
      "1122it [17:20,  3.66s/it]"
     ]
    },
    {
     "name": "stdout",
     "output_type": "stream",
     "text": [
      "1122\n"
     ]
    },
    {
     "name": "stderr",
     "output_type": "stream",
     "text": [
      "\r",
      "1123it [17:24,  3.93s/it]"
     ]
    },
    {
     "name": "stdout",
     "output_type": "stream",
     "text": [
      "1123\n"
     ]
    },
    {
     "name": "stderr",
     "output_type": "stream",
     "text": [
      "\r",
      "1124it [17:28,  3.99s/it]"
     ]
    },
    {
     "name": "stdout",
     "output_type": "stream",
     "text": [
      "1124\n"
     ]
    },
    {
     "name": "stderr",
     "output_type": "stream",
     "text": [
      "\r",
      "1125it [17:33,  4.24s/it]"
     ]
    },
    {
     "name": "stdout",
     "output_type": "stream",
     "text": [
      "1125\n"
     ]
    },
    {
     "name": "stderr",
     "output_type": "stream",
     "text": [
      "\r",
      "1126it [17:39,  4.65s/it]"
     ]
    },
    {
     "name": "stdout",
     "output_type": "stream",
     "text": [
      "1126\n"
     ]
    },
    {
     "name": "stderr",
     "output_type": "stream",
     "text": [
      "\r",
      "1127it [17:45,  5.01s/it]"
     ]
    },
    {
     "name": "stdout",
     "output_type": "stream",
     "text": [
      "1127\n"
     ]
    },
    {
     "name": "stderr",
     "output_type": "stream",
     "text": [
      "\r",
      "1128it [17:48,  4.52s/it]"
     ]
    },
    {
     "name": "stdout",
     "output_type": "stream",
     "text": [
      "1128\n"
     ]
    },
    {
     "name": "stderr",
     "output_type": "stream",
     "text": [
      "\r",
      "1129it [17:53,  4.74s/it]"
     ]
    },
    {
     "name": "stdout",
     "output_type": "stream",
     "text": [
      "1129\n"
     ]
    },
    {
     "name": "stderr",
     "output_type": "stream",
     "text": [
      "\r",
      "1130it [17:58,  4.81s/it]"
     ]
    },
    {
     "name": "stdout",
     "output_type": "stream",
     "text": [
      "1130\n"
     ]
    },
    {
     "name": "stderr",
     "output_type": "stream",
     "text": [
      "\r",
      "1131it [18:02,  4.38s/it]"
     ]
    },
    {
     "name": "stdout",
     "output_type": "stream",
     "text": [
      "1131\n"
     ]
    },
    {
     "name": "stderr",
     "output_type": "stream",
     "text": [
      "\r",
      "1132it [18:05,  4.14s/it]"
     ]
    },
    {
     "name": "stdout",
     "output_type": "stream",
     "text": [
      "1132\n"
     ]
    },
    {
     "name": "stderr",
     "output_type": "stream",
     "text": [
      "\r",
      "1133it [18:09,  4.08s/it]"
     ]
    },
    {
     "name": "stdout",
     "output_type": "stream",
     "text": [
      "1133\n"
     ]
    },
    {
     "name": "stderr",
     "output_type": "stream",
     "text": [
      "\r",
      "1134it [18:13,  3.93s/it]"
     ]
    },
    {
     "name": "stdout",
     "output_type": "stream",
     "text": [
      "1134\n"
     ]
    },
    {
     "name": "stderr",
     "output_type": "stream",
     "text": [
      "\r",
      "1135it [18:16,  3.73s/it]"
     ]
    },
    {
     "name": "stdout",
     "output_type": "stream",
     "text": [
      "1135\n"
     ]
    },
    {
     "name": "stderr",
     "output_type": "stream",
     "text": [
      "\r",
      "1136it [18:20,  3.80s/it]"
     ]
    },
    {
     "name": "stdout",
     "output_type": "stream",
     "text": [
      "1136\n"
     ]
    },
    {
     "name": "stderr",
     "output_type": "stream",
     "text": [
      "\r",
      "1137it [18:25,  4.11s/it]"
     ]
    },
    {
     "name": "stdout",
     "output_type": "stream",
     "text": [
      "1137\n"
     ]
    },
    {
     "name": "stderr",
     "output_type": "stream",
     "text": [
      "\r",
      "1138it [18:30,  4.54s/it]"
     ]
    },
    {
     "name": "stdout",
     "output_type": "stream",
     "text": [
      "1138\n"
     ]
    },
    {
     "name": "stderr",
     "output_type": "stream",
     "text": [
      "\r",
      "1139it [18:35,  4.61s/it]"
     ]
    },
    {
     "name": "stdout",
     "output_type": "stream",
     "text": [
      "1139\n"
     ]
    },
    {
     "name": "stderr",
     "output_type": "stream",
     "text": [
      "\r",
      "1140it [18:40,  4.73s/it]"
     ]
    },
    {
     "name": "stdout",
     "output_type": "stream",
     "text": [
      "1140\n"
     ]
    },
    {
     "name": "stderr",
     "output_type": "stream",
     "text": [
      "\r",
      "1141it [18:44,  4.40s/it]"
     ]
    },
    {
     "name": "stdout",
     "output_type": "stream",
     "text": [
      "1141\n"
     ]
    },
    {
     "name": "stderr",
     "output_type": "stream",
     "text": [
      "\r",
      "1142it [18:50,  4.93s/it]"
     ]
    },
    {
     "name": "stdout",
     "output_type": "stream",
     "text": [
      "1142\n"
     ]
    },
    {
     "name": "stderr",
     "output_type": "stream",
     "text": [
      "\r",
      "1143it [18:54,  4.71s/it]"
     ]
    },
    {
     "name": "stdout",
     "output_type": "stream",
     "text": [
      "1143\n"
     ]
    },
    {
     "name": "stderr",
     "output_type": "stream",
     "text": [
      "\r",
      "1144it [18:58,  4.50s/it]"
     ]
    },
    {
     "name": "stdout",
     "output_type": "stream",
     "text": [
      "1144\n"
     ]
    },
    {
     "name": "stderr",
     "output_type": "stream",
     "text": [
      "\r",
      "1145it [19:03,  4.55s/it]"
     ]
    },
    {
     "name": "stdout",
     "output_type": "stream",
     "text": [
      "1145\n"
     ]
    },
    {
     "name": "stderr",
     "output_type": "stream",
     "text": [
      "\r",
      "1146it [19:07,  4.38s/it]"
     ]
    },
    {
     "name": "stdout",
     "output_type": "stream",
     "text": [
      "1146\n"
     ]
    },
    {
     "name": "stderr",
     "output_type": "stream",
     "text": [
      "\r",
      "1147it [19:11,  4.46s/it]"
     ]
    },
    {
     "name": "stdout",
     "output_type": "stream",
     "text": [
      "1147\n"
     ]
    },
    {
     "name": "stderr",
     "output_type": "stream",
     "text": [
      "\r",
      "1148it [19:18,  5.00s/it]"
     ]
    },
    {
     "name": "stdout",
     "output_type": "stream",
     "text": [
      "1148\n"
     ]
    },
    {
     "name": "stderr",
     "output_type": "stream",
     "text": [
      "\r",
      "1149it [19:22,  4.84s/it]"
     ]
    },
    {
     "name": "stdout",
     "output_type": "stream",
     "text": [
      "1149\n"
     ]
    },
    {
     "name": "stderr",
     "output_type": "stream",
     "text": [
      "\r",
      "1150it [19:26,  4.45s/it]"
     ]
    },
    {
     "name": "stdout",
     "output_type": "stream",
     "text": [
      "1150\n"
     ]
    },
    {
     "name": "stderr",
     "output_type": "stream",
     "text": [
      "\r",
      "1151it [19:29,  4.22s/it]"
     ]
    },
    {
     "name": "stdout",
     "output_type": "stream",
     "text": [
      "1151\n"
     ]
    },
    {
     "name": "stderr",
     "output_type": "stream",
     "text": [
      "\r",
      "1152it [19:34,  4.39s/it]"
     ]
    },
    {
     "name": "stdout",
     "output_type": "stream",
     "text": [
      "1152\n"
     ]
    },
    {
     "name": "stderr",
     "output_type": "stream",
     "text": [
      "\r",
      "1153it [19:40,  4.70s/it]"
     ]
    },
    {
     "name": "stdout",
     "output_type": "stream",
     "text": [
      "1153\n"
     ]
    },
    {
     "name": "stderr",
     "output_type": "stream",
     "text": [
      "\r",
      "1154it [19:43,  4.39s/it]"
     ]
    },
    {
     "name": "stdout",
     "output_type": "stream",
     "text": [
      "1154\n"
     ]
    },
    {
     "name": "stderr",
     "output_type": "stream",
     "text": [
      "\r",
      "1155it [19:48,  4.38s/it]"
     ]
    },
    {
     "name": "stdout",
     "output_type": "stream",
     "text": [
      "1155\n"
     ]
    },
    {
     "name": "stderr",
     "output_type": "stream",
     "text": [
      "\r",
      "1156it [19:53,  4.56s/it]"
     ]
    },
    {
     "name": "stdout",
     "output_type": "stream",
     "text": [
      "1156\n"
     ]
    },
    {
     "name": "stderr",
     "output_type": "stream",
     "text": [
      "\r",
      "1157it [19:57,  4.44s/it]"
     ]
    },
    {
     "name": "stdout",
     "output_type": "stream",
     "text": [
      "1157\n"
     ]
    },
    {
     "name": "stderr",
     "output_type": "stream",
     "text": [
      "\r",
      "1158it [20:01,  4.25s/it]"
     ]
    },
    {
     "name": "stdout",
     "output_type": "stream",
     "text": [
      "1158\n"
     ]
    },
    {
     "name": "stderr",
     "output_type": "stream",
     "text": [
      "\r",
      "1159it [20:05,  4.18s/it]"
     ]
    },
    {
     "name": "stdout",
     "output_type": "stream",
     "text": [
      "1159\n"
     ]
    },
    {
     "name": "stderr",
     "output_type": "stream",
     "text": [
      "\r",
      "1160it [20:08,  4.05s/it]"
     ]
    },
    {
     "name": "stdout",
     "output_type": "stream",
     "text": [
      "1160\n"
     ]
    },
    {
     "name": "stderr",
     "output_type": "stream",
     "text": [
      "\r",
      "1161it [20:12,  3.84s/it]"
     ]
    },
    {
     "name": "stdout",
     "output_type": "stream",
     "text": [
      "1161\n"
     ]
    },
    {
     "name": "stderr",
     "output_type": "stream",
     "text": [
      "\r",
      "1162it [20:16,  3.89s/it]"
     ]
    },
    {
     "name": "stdout",
     "output_type": "stream",
     "text": [
      "1162\n"
     ]
    },
    {
     "name": "stderr",
     "output_type": "stream",
     "text": [
      "\r",
      "1163it [20:19,  3.73s/it]"
     ]
    },
    {
     "name": "stdout",
     "output_type": "stream",
     "text": [
      "1163\n"
     ]
    },
    {
     "name": "stderr",
     "output_type": "stream",
     "text": [
      "\r",
      "1164it [20:23,  3.80s/it]"
     ]
    },
    {
     "name": "stdout",
     "output_type": "stream",
     "text": [
      "1164\n"
     ]
    },
    {
     "name": "stderr",
     "output_type": "stream",
     "text": [
      "\r",
      "1165it [20:27,  3.77s/it]"
     ]
    },
    {
     "name": "stdout",
     "output_type": "stream",
     "text": [
      "1165\n"
     ]
    },
    {
     "name": "stderr",
     "output_type": "stream",
     "text": [
      "\r",
      "1166it [20:31,  4.08s/it]"
     ]
    },
    {
     "name": "stdout",
     "output_type": "stream",
     "text": [
      "1166\n"
     ]
    },
    {
     "name": "stderr",
     "output_type": "stream",
     "text": [
      "\r",
      "1167it [20:36,  4.11s/it]"
     ]
    },
    {
     "name": "stdout",
     "output_type": "stream",
     "text": [
      "1167\n"
     ]
    },
    {
     "name": "stderr",
     "output_type": "stream",
     "text": [
      "\r",
      "1168it [20:40,  4.13s/it]"
     ]
    },
    {
     "name": "stdout",
     "output_type": "stream",
     "text": [
      "1168\n"
     ]
    },
    {
     "name": "stderr",
     "output_type": "stream",
     "text": [
      "\r",
      "1169it [20:45,  4.33s/it]"
     ]
    },
    {
     "name": "stdout",
     "output_type": "stream",
     "text": [
      "1169\n"
     ]
    },
    {
     "name": "stderr",
     "output_type": "stream",
     "text": [
      "\r",
      "1170it [20:49,  4.26s/it]"
     ]
    },
    {
     "name": "stdout",
     "output_type": "stream",
     "text": [
      "1170\n"
     ]
    },
    {
     "name": "stderr",
     "output_type": "stream",
     "text": [
      "\r",
      "1171it [20:53,  4.25s/it]"
     ]
    },
    {
     "name": "stdout",
     "output_type": "stream",
     "text": [
      "1171\n"
     ]
    },
    {
     "name": "stderr",
     "output_type": "stream",
     "text": [
      "\r",
      "1172it [20:57,  4.14s/it]"
     ]
    },
    {
     "name": "stdout",
     "output_type": "stream",
     "text": [
      "1172\n"
     ]
    },
    {
     "name": "stderr",
     "output_type": "stream",
     "text": [
      "\r",
      "1173it [21:01,  4.26s/it]"
     ]
    },
    {
     "name": "stdout",
     "output_type": "stream",
     "text": [
      "1173\n"
     ]
    },
    {
     "name": "stderr",
     "output_type": "stream",
     "text": [
      "\r",
      "1174it [21:05,  3.99s/it]"
     ]
    },
    {
     "name": "stdout",
     "output_type": "stream",
     "text": [
      "1174\n"
     ]
    },
    {
     "name": "stderr",
     "output_type": "stream",
     "text": [
      "\r",
      "1175it [21:08,  3.86s/it]"
     ]
    },
    {
     "name": "stdout",
     "output_type": "stream",
     "text": [
      "1175\n"
     ]
    },
    {
     "name": "stderr",
     "output_type": "stream",
     "text": [
      "\r",
      "1176it [21:13,  3.99s/it]"
     ]
    },
    {
     "name": "stdout",
     "output_type": "stream",
     "text": [
      "1176\n"
     ]
    },
    {
     "name": "stderr",
     "output_type": "stream",
     "text": [
      "\r",
      "1177it [21:17,  4.10s/it]"
     ]
    },
    {
     "name": "stdout",
     "output_type": "stream",
     "text": [
      "1177\n"
     ]
    },
    {
     "name": "stderr",
     "output_type": "stream",
     "text": [
      "\r",
      "1178it [21:23,  4.80s/it]"
     ]
    },
    {
     "name": "stdout",
     "output_type": "stream",
     "text": [
      "1178\n"
     ]
    },
    {
     "name": "stderr",
     "output_type": "stream",
     "text": [
      "\r",
      "1179it [21:28,  4.77s/it]"
     ]
    },
    {
     "name": "stdout",
     "output_type": "stream",
     "text": [
      "1179\n"
     ]
    },
    {
     "name": "stderr",
     "output_type": "stream",
     "text": [
      "\r",
      "1180it [21:34,  5.10s/it]"
     ]
    },
    {
     "name": "stdout",
     "output_type": "stream",
     "text": [
      "1180\n"
     ]
    },
    {
     "name": "stderr",
     "output_type": "stream",
     "text": [
      "\r",
      "1181it [21:38,  4.76s/it]"
     ]
    },
    {
     "name": "stdout",
     "output_type": "stream",
     "text": [
      "1181\n"
     ]
    },
    {
     "name": "stderr",
     "output_type": "stream",
     "text": [
      "\r",
      "1182it [21:42,  4.52s/it]"
     ]
    },
    {
     "name": "stdout",
     "output_type": "stream",
     "text": [
      "1182\n"
     ]
    },
    {
     "name": "stderr",
     "output_type": "stream",
     "text": [
      "\r",
      "1183it [21:45,  4.22s/it]"
     ]
    },
    {
     "name": "stdout",
     "output_type": "stream",
     "text": [
      "1183\n"
     ]
    },
    {
     "name": "stderr",
     "output_type": "stream",
     "text": [
      "\r",
      "1184it [21:49,  4.04s/it]"
     ]
    },
    {
     "name": "stdout",
     "output_type": "stream",
     "text": [
      "1184\n"
     ]
    },
    {
     "name": "stderr",
     "output_type": "stream",
     "text": [
      "\r",
      "1185it [21:52,  3.83s/it]"
     ]
    },
    {
     "name": "stdout",
     "output_type": "stream",
     "text": [
      "1185\n"
     ]
    },
    {
     "name": "stderr",
     "output_type": "stream",
     "text": [
      "\r",
      "1186it [21:56,  3.79s/it]"
     ]
    },
    {
     "name": "stdout",
     "output_type": "stream",
     "text": [
      "1186\n"
     ]
    },
    {
     "name": "stderr",
     "output_type": "stream",
     "text": [
      "\r",
      "1187it [22:01,  4.25s/it]"
     ]
    },
    {
     "name": "stdout",
     "output_type": "stream",
     "text": [
      "1187\n"
     ]
    },
    {
     "name": "stderr",
     "output_type": "stream",
     "text": [
      "\r",
      "1188it [22:05,  4.17s/it]"
     ]
    },
    {
     "name": "stdout",
     "output_type": "stream",
     "text": [
      "1188\n"
     ]
    },
    {
     "name": "stderr",
     "output_type": "stream",
     "text": [
      "\r",
      "1189it [22:09,  4.10s/it]"
     ]
    },
    {
     "name": "stdout",
     "output_type": "stream",
     "text": [
      "1189\n"
     ]
    },
    {
     "name": "stderr",
     "output_type": "stream",
     "text": [
      "\r",
      "1190it [22:13,  3.90s/it]"
     ]
    },
    {
     "name": "stdout",
     "output_type": "stream",
     "text": [
      "1190\n"
     ]
    },
    {
     "name": "stderr",
     "output_type": "stream",
     "text": [
      "\r",
      "1191it [22:17,  4.01s/it]"
     ]
    },
    {
     "name": "stdout",
     "output_type": "stream",
     "text": [
      "1191\n"
     ]
    },
    {
     "name": "stderr",
     "output_type": "stream",
     "text": [
      "\r",
      "1192it [22:20,  3.81s/it]"
     ]
    },
    {
     "name": "stdout",
     "output_type": "stream",
     "text": [
      "1192\n"
     ]
    },
    {
     "name": "stderr",
     "output_type": "stream",
     "text": [
      "\r",
      "1193it [22:26,  4.28s/it]"
     ]
    },
    {
     "name": "stdout",
     "output_type": "stream",
     "text": [
      "1193\n"
     ]
    },
    {
     "name": "stderr",
     "output_type": "stream",
     "text": [
      "\r",
      "1194it [22:31,  4.62s/it]"
     ]
    },
    {
     "name": "stdout",
     "output_type": "stream",
     "text": [
      "1194\n"
     ]
    },
    {
     "name": "stderr",
     "output_type": "stream",
     "text": [
      "\r",
      "1195it [22:36,  4.69s/it]"
     ]
    },
    {
     "name": "stdout",
     "output_type": "stream",
     "text": [
      "1195\n"
     ]
    },
    {
     "name": "stderr",
     "output_type": "stream",
     "text": [
      "\r",
      "1196it [22:41,  4.70s/it]"
     ]
    },
    {
     "name": "stdout",
     "output_type": "stream",
     "text": [
      "1196\n"
     ]
    },
    {
     "name": "stderr",
     "output_type": "stream",
     "text": [
      "\r",
      "1197it [22:44,  4.40s/it]"
     ]
    },
    {
     "name": "stdout",
     "output_type": "stream",
     "text": [
      "1197\n"
     ]
    },
    {
     "name": "stderr",
     "output_type": "stream",
     "text": [
      "\r",
      "1198it [22:49,  4.55s/it]"
     ]
    },
    {
     "name": "stdout",
     "output_type": "stream",
     "text": [
      "1198\n"
     ]
    },
    {
     "name": "stderr",
     "output_type": "stream",
     "text": [
      "\r",
      "1199it [22:55,  4.88s/it]"
     ]
    },
    {
     "name": "stdout",
     "output_type": "stream",
     "text": [
      "1199\n"
     ]
    },
    {
     "name": "stderr",
     "output_type": "stream",
     "text": [
      "\r",
      "1200it [22:58,  4.31s/it]"
     ]
    },
    {
     "name": "stdout",
     "output_type": "stream",
     "text": [
      "1200\n"
     ]
    },
    {
     "name": "stderr",
     "output_type": "stream",
     "text": [
      "\r",
      "1201it [23:02,  4.31s/it]"
     ]
    },
    {
     "name": "stdout",
     "output_type": "stream",
     "text": [
      "1201\n"
     ]
    },
    {
     "name": "stderr",
     "output_type": "stream",
     "text": [
      "\r",
      "1202it [23:06,  4.06s/it]"
     ]
    },
    {
     "name": "stdout",
     "output_type": "stream",
     "text": [
      "1202\n"
     ]
    },
    {
     "name": "stderr",
     "output_type": "stream",
     "text": [
      "\r",
      "1203it [23:10,  4.14s/it]"
     ]
    },
    {
     "name": "stdout",
     "output_type": "stream",
     "text": [
      "1203\n"
     ]
    },
    {
     "name": "stderr",
     "output_type": "stream",
     "text": [
      "\r",
      "1204it [23:14,  4.20s/it]"
     ]
    },
    {
     "name": "stdout",
     "output_type": "stream",
     "text": [
      "1204\n"
     ]
    },
    {
     "name": "stderr",
     "output_type": "stream",
     "text": [
      "\r",
      "1205it [23:19,  4.30s/it]"
     ]
    },
    {
     "name": "stdout",
     "output_type": "stream",
     "text": [
      "1205\n"
     ]
    },
    {
     "name": "stderr",
     "output_type": "stream",
     "text": [
      "\r",
      "1206it [23:22,  3.98s/it]"
     ]
    },
    {
     "name": "stdout",
     "output_type": "stream",
     "text": [
      "1206\n"
     ]
    },
    {
     "name": "stderr",
     "output_type": "stream",
     "text": [
      "\r",
      "1207it [23:26,  4.02s/it]"
     ]
    },
    {
     "name": "stdout",
     "output_type": "stream",
     "text": [
      "1207\n"
     ]
    },
    {
     "name": "stderr",
     "output_type": "stream",
     "text": [
      "\r",
      "1208it [23:30,  3.85s/it]"
     ]
    },
    {
     "name": "stdout",
     "output_type": "stream",
     "text": [
      "1208\n"
     ]
    },
    {
     "name": "stderr",
     "output_type": "stream",
     "text": [
      "\r",
      "1209it [23:33,  3.79s/it]"
     ]
    },
    {
     "name": "stdout",
     "output_type": "stream",
     "text": [
      "1209\n"
     ]
    },
    {
     "name": "stderr",
     "output_type": "stream",
     "text": [
      "\r",
      "1210it [23:38,  3.91s/it]"
     ]
    },
    {
     "name": "stdout",
     "output_type": "stream",
     "text": [
      "1210\n"
     ]
    },
    {
     "name": "stderr",
     "output_type": "stream",
     "text": [
      "\r",
      "1211it [23:41,  3.84s/it]"
     ]
    },
    {
     "name": "stdout",
     "output_type": "stream",
     "text": [
      "1211\n"
     ]
    },
    {
     "name": "stderr",
     "output_type": "stream",
     "text": [
      "\r",
      "1212it [23:45,  3.69s/it]"
     ]
    },
    {
     "name": "stdout",
     "output_type": "stream",
     "text": [
      "1212\n"
     ]
    },
    {
     "name": "stderr",
     "output_type": "stream",
     "text": [
      "\r",
      "1213it [23:49,  3.80s/it]"
     ]
    },
    {
     "name": "stdout",
     "output_type": "stream",
     "text": [
      "1213\n"
     ]
    },
    {
     "name": "stderr",
     "output_type": "stream",
     "text": [
      "\r",
      "1214it [23:52,  3.61s/it]"
     ]
    },
    {
     "name": "stdout",
     "output_type": "stream",
     "text": [
      "1214\n"
     ]
    },
    {
     "name": "stderr",
     "output_type": "stream",
     "text": [
      "\r",
      "1215it [23:55,  3.57s/it]"
     ]
    },
    {
     "name": "stdout",
     "output_type": "stream",
     "text": [
      "1215\n"
     ]
    },
    {
     "name": "stderr",
     "output_type": "stream",
     "text": [
      "\r",
      "1216it [24:00,  3.86s/it]"
     ]
    },
    {
     "name": "stdout",
     "output_type": "stream",
     "text": [
      "1216\n"
     ]
    },
    {
     "name": "stderr",
     "output_type": "stream",
     "text": [
      "\r",
      "1217it [24:04,  4.02s/it]"
     ]
    },
    {
     "name": "stdout",
     "output_type": "stream",
     "text": [
      "1217\n"
     ]
    },
    {
     "name": "stderr",
     "output_type": "stream",
     "text": [
      "\r",
      "1218it [24:09,  4.31s/it]"
     ]
    },
    {
     "name": "stdout",
     "output_type": "stream",
     "text": [
      "1218\n"
     ]
    },
    {
     "name": "stderr",
     "output_type": "stream",
     "text": [
      "\r",
      "1219it [24:13,  4.11s/it]"
     ]
    },
    {
     "name": "stdout",
     "output_type": "stream",
     "text": [
      "1219\n"
     ]
    },
    {
     "name": "stderr",
     "output_type": "stream",
     "text": [
      "\r",
      "1220it [24:16,  3.91s/it]"
     ]
    },
    {
     "name": "stdout",
     "output_type": "stream",
     "text": [
      "1220\n"
     ]
    },
    {
     "name": "stderr",
     "output_type": "stream",
     "text": [
      "\r",
      "1221it [24:20,  3.78s/it]"
     ]
    },
    {
     "name": "stdout",
     "output_type": "stream",
     "text": [
      "1221\n"
     ]
    },
    {
     "name": "stderr",
     "output_type": "stream",
     "text": [
      "\r",
      "1222it [24:25,  4.21s/it]"
     ]
    },
    {
     "name": "stdout",
     "output_type": "stream",
     "text": [
      "1222\n"
     ]
    },
    {
     "name": "stderr",
     "output_type": "stream",
     "text": [
      "\r",
      "1223it [24:29,  4.11s/it]"
     ]
    },
    {
     "name": "stdout",
     "output_type": "stream",
     "text": [
      "1223\n"
     ]
    },
    {
     "name": "stderr",
     "output_type": "stream",
     "text": [
      "\r",
      "1224it [24:33,  4.03s/it]"
     ]
    },
    {
     "name": "stdout",
     "output_type": "stream",
     "text": [
      "1224\n"
     ]
    },
    {
     "name": "stderr",
     "output_type": "stream",
     "text": [
      "\r",
      "1225it [24:37,  3.99s/it]"
     ]
    },
    {
     "name": "stdout",
     "output_type": "stream",
     "text": [
      "1225\n"
     ]
    },
    {
     "name": "stderr",
     "output_type": "stream",
     "text": [
      "\r",
      "1226it [24:41,  4.14s/it]"
     ]
    },
    {
     "name": "stdout",
     "output_type": "stream",
     "text": [
      "1226\n"
     ]
    },
    {
     "name": "stderr",
     "output_type": "stream",
     "text": [
      "\r",
      "1227it [24:44,  3.90s/it]"
     ]
    },
    {
     "name": "stdout",
     "output_type": "stream",
     "text": [
      "1227\n"
     ]
    },
    {
     "name": "stderr",
     "output_type": "stream",
     "text": [
      "\r",
      "1228it [24:48,  3.68s/it]"
     ]
    },
    {
     "name": "stdout",
     "output_type": "stream",
     "text": [
      "1228\n"
     ]
    },
    {
     "name": "stderr",
     "output_type": "stream",
     "text": [
      "\r",
      "1229it [24:53,  4.22s/it]"
     ]
    },
    {
     "name": "stdout",
     "output_type": "stream",
     "text": [
      "1229\n"
     ]
    },
    {
     "name": "stderr",
     "output_type": "stream",
     "text": [
      "\r",
      "1230it [24:58,  4.41s/it]"
     ]
    },
    {
     "name": "stdout",
     "output_type": "stream",
     "text": [
      "1230\n"
     ]
    },
    {
     "name": "stderr",
     "output_type": "stream",
     "text": [
      "\r",
      "1231it [25:02,  4.38s/it]"
     ]
    },
    {
     "name": "stdout",
     "output_type": "stream",
     "text": [
      "1231\n"
     ]
    },
    {
     "name": "stderr",
     "output_type": "stream",
     "text": [
      "\r",
      "1232it [25:06,  4.17s/it]"
     ]
    },
    {
     "name": "stdout",
     "output_type": "stream",
     "text": [
      "1232\n"
     ]
    },
    {
     "name": "stderr",
     "output_type": "stream",
     "text": [
      "\r",
      "1233it [25:10,  4.05s/it]"
     ]
    },
    {
     "name": "stdout",
     "output_type": "stream",
     "text": [
      "1233\n"
     ]
    },
    {
     "name": "stderr",
     "output_type": "stream",
     "text": [
      "\r",
      "1234it [25:15,  4.30s/it]"
     ]
    },
    {
     "name": "stdout",
     "output_type": "stream",
     "text": [
      "1234\n"
     ]
    },
    {
     "name": "stderr",
     "output_type": "stream",
     "text": [
      "\r",
      "1235it [25:19,  4.46s/it]"
     ]
    },
    {
     "name": "stdout",
     "output_type": "stream",
     "text": [
      "1235\n"
     ]
    },
    {
     "name": "stderr",
     "output_type": "stream",
     "text": [
      "\r",
      "1236it [25:22,  3.99s/it]"
     ]
    },
    {
     "name": "stdout",
     "output_type": "stream",
     "text": [
      "1236\n"
     ]
    },
    {
     "name": "stderr",
     "output_type": "stream",
     "text": [
      "\r",
      "1237it [25:26,  4.03s/it]"
     ]
    },
    {
     "name": "stdout",
     "output_type": "stream",
     "text": [
      "1237\n"
     ]
    },
    {
     "name": "stderr",
     "output_type": "stream",
     "text": [
      "\r",
      "1238it [25:30,  3.82s/it]"
     ]
    },
    {
     "name": "stdout",
     "output_type": "stream",
     "text": [
      "1238\n"
     ]
    },
    {
     "name": "stderr",
     "output_type": "stream",
     "text": [
      "\r",
      "1239it [25:33,  3.75s/it]"
     ]
    },
    {
     "name": "stdout",
     "output_type": "stream",
     "text": [
      "1239\n"
     ]
    },
    {
     "name": "stderr",
     "output_type": "stream",
     "text": [
      "\r",
      "1240it [25:37,  3.79s/it]"
     ]
    },
    {
     "name": "stdout",
     "output_type": "stream",
     "text": [
      "1240\n"
     ]
    },
    {
     "name": "stderr",
     "output_type": "stream",
     "text": [
      "\r",
      "1241it [25:40,  3.51s/it]"
     ]
    },
    {
     "name": "stdout",
     "output_type": "stream",
     "text": [
      "1241\n"
     ]
    },
    {
     "name": "stderr",
     "output_type": "stream",
     "text": [
      "\r",
      "1242it [25:44,  3.77s/it]"
     ]
    },
    {
     "name": "stdout",
     "output_type": "stream",
     "text": [
      "1242\n"
     ]
    },
    {
     "name": "stderr",
     "output_type": "stream",
     "text": [
      "\r",
      "1243it [25:49,  3.93s/it]"
     ]
    },
    {
     "name": "stdout",
     "output_type": "stream",
     "text": [
      "1243\n"
     ]
    },
    {
     "name": "stderr",
     "output_type": "stream",
     "text": [
      "\r",
      "1244it [25:49,  2.83s/it]"
     ]
    },
    {
     "name": "stdout",
     "output_type": "stream",
     "text": [
      "Failed on account: 707246777515245568\n",
      "[{'code': 34, 'message': 'Sorry, that page does not exist.'}]\n",
      "1244\n"
     ]
    },
    {
     "name": "stderr",
     "output_type": "stream",
     "text": [
      "\r",
      "1245it [25:52,  2.82s/it]"
     ]
    },
    {
     "name": "stdout",
     "output_type": "stream",
     "text": [
      "1245\n"
     ]
    },
    {
     "name": "stderr",
     "output_type": "stream",
     "text": [
      "\r",
      "1246it [25:55,  2.97s/it]"
     ]
    },
    {
     "name": "stdout",
     "output_type": "stream",
     "text": [
      "1246\n"
     ]
    },
    {
     "name": "stderr",
     "output_type": "stream",
     "text": [
      "\r",
      "1247it [26:01,  3.84s/it]"
     ]
    },
    {
     "name": "stdout",
     "output_type": "stream",
     "text": [
      "1247\n"
     ]
    },
    {
     "name": "stderr",
     "output_type": "stream",
     "text": [
      "\r",
      "1248it [26:06,  4.26s/it]"
     ]
    },
    {
     "name": "stdout",
     "output_type": "stream",
     "text": [
      "1248\n"
     ]
    },
    {
     "name": "stderr",
     "output_type": "stream",
     "text": [
      "\r",
      "1249it [26:10,  4.01s/it]"
     ]
    },
    {
     "name": "stdout",
     "output_type": "stream",
     "text": [
      "1249\n"
     ]
    },
    {
     "name": "stderr",
     "output_type": "stream",
     "text": [
      "\r",
      "1250it [26:14,  4.06s/it]"
     ]
    },
    {
     "name": "stdout",
     "output_type": "stream",
     "text": [
      "1250\n"
     ]
    },
    {
     "name": "stderr",
     "output_type": "stream",
     "text": [
      "\r",
      "1251it [26:18,  3.94s/it]"
     ]
    },
    {
     "name": "stdout",
     "output_type": "stream",
     "text": [
      "1251\n"
     ]
    },
    {
     "name": "stderr",
     "output_type": "stream",
     "text": [
      "\r",
      "1252it [26:22,  3.99s/it]"
     ]
    },
    {
     "name": "stdout",
     "output_type": "stream",
     "text": [
      "1252\n"
     ]
    },
    {
     "name": "stderr",
     "output_type": "stream",
     "text": [
      "\r",
      "1253it [26:26,  3.97s/it]"
     ]
    },
    {
     "name": "stdout",
     "output_type": "stream",
     "text": [
      "1253\n"
     ]
    },
    {
     "name": "stderr",
     "output_type": "stream",
     "text": [
      "\r",
      "1254it [26:29,  3.94s/it]"
     ]
    },
    {
     "name": "stdout",
     "output_type": "stream",
     "text": [
      "1254\n"
     ]
    },
    {
     "name": "stderr",
     "output_type": "stream",
     "text": [
      "\r",
      "1255it [26:33,  3.85s/it]"
     ]
    },
    {
     "name": "stdout",
     "output_type": "stream",
     "text": [
      "1255\n"
     ]
    },
    {
     "name": "stderr",
     "output_type": "stream",
     "text": [
      "\r",
      "1256it [26:38,  4.12s/it]"
     ]
    },
    {
     "name": "stdout",
     "output_type": "stream",
     "text": [
      "1256\n"
     ]
    },
    {
     "name": "stderr",
     "output_type": "stream",
     "text": [
      "\r",
      "1257it [26:43,  4.33s/it]"
     ]
    },
    {
     "name": "stdout",
     "output_type": "stream",
     "text": [
      "1257\n"
     ]
    },
    {
     "name": "stderr",
     "output_type": "stream",
     "text": [
      "\r",
      "1258it [26:46,  4.06s/it]"
     ]
    },
    {
     "name": "stdout",
     "output_type": "stream",
     "text": [
      "1258\n"
     ]
    },
    {
     "name": "stderr",
     "output_type": "stream",
     "text": [
      "\r",
      "1259it [26:51,  4.23s/it]"
     ]
    },
    {
     "name": "stdout",
     "output_type": "stream",
     "text": [
      "1259\n"
     ]
    },
    {
     "name": "stderr",
     "output_type": "stream",
     "text": [
      "\r",
      "1260it [26:54,  4.04s/it]"
     ]
    },
    {
     "name": "stdout",
     "output_type": "stream",
     "text": [
      "1260\n"
     ]
    },
    {
     "name": "stderr",
     "output_type": "stream",
     "text": [
      "\r",
      "1261it [26:55,  2.91s/it]"
     ]
    },
    {
     "name": "stdout",
     "output_type": "stream",
     "text": [
      "Failed on account: 748608249910419456\n",
      "[{'code': 34, 'message': 'Sorry, that page does not exist.'}]\n",
      "1261\n"
     ]
    },
    {
     "name": "stderr",
     "output_type": "stream",
     "text": [
      "\r",
      "1262it [26:58,  3.04s/it]"
     ]
    },
    {
     "name": "stdout",
     "output_type": "stream",
     "text": [
      "1262\n"
     ]
    },
    {
     "name": "stderr",
     "output_type": "stream",
     "text": [
      "\r",
      "1263it [27:01,  3.09s/it]"
     ]
    },
    {
     "name": "stdout",
     "output_type": "stream",
     "text": [
      "1263\n"
     ]
    },
    {
     "name": "stderr",
     "output_type": "stream",
     "text": [
      "\r",
      "1264it [27:05,  3.34s/it]"
     ]
    },
    {
     "name": "stdout",
     "output_type": "stream",
     "text": [
      "1264\n"
     ]
    },
    {
     "name": "stderr",
     "output_type": "stream",
     "text": [
      "\r",
      "1265it [27:05,  2.42s/it]"
     ]
    },
    {
     "name": "stdout",
     "output_type": "stream",
     "text": [
      "Failed on account: 714128911823724544\n",
      "[{'code': 34, 'message': 'Sorry, that page does not exist.'}]\n",
      "1265\n"
     ]
    },
    {
     "name": "stderr",
     "output_type": "stream",
     "text": [
      "\r",
      "1266it [27:08,  2.62s/it]"
     ]
    },
    {
     "name": "stdout",
     "output_type": "stream",
     "text": [
      "1266\n"
     ]
    },
    {
     "name": "stderr",
     "output_type": "stream",
     "text": [
      "\r",
      "1267it [27:13,  3.18s/it]"
     ]
    },
    {
     "name": "stdout",
     "output_type": "stream",
     "text": [
      "1267\n"
     ]
    },
    {
     "name": "stderr",
     "output_type": "stream",
     "text": [
      "\r",
      "1268it [27:16,  3.22s/it]"
     ]
    },
    {
     "name": "stdout",
     "output_type": "stream",
     "text": [
      "1268\n"
     ]
    },
    {
     "name": "stderr",
     "output_type": "stream",
     "text": [
      "\r",
      "1269it [27:20,  3.31s/it]"
     ]
    },
    {
     "name": "stdout",
     "output_type": "stream",
     "text": [
      "1269\n"
     ]
    },
    {
     "name": "stderr",
     "output_type": "stream",
     "text": [
      "\r",
      "1270it [27:24,  3.57s/it]"
     ]
    },
    {
     "name": "stdout",
     "output_type": "stream",
     "text": [
      "1270\n"
     ]
    },
    {
     "name": "stderr",
     "output_type": "stream",
     "text": [
      "\r",
      "1271it [27:27,  3.52s/it]"
     ]
    },
    {
     "name": "stdout",
     "output_type": "stream",
     "text": [
      "1271\n"
     ]
    },
    {
     "name": "stderr",
     "output_type": "stream",
     "text": [
      "\r",
      "1272it [27:32,  3.83s/it]"
     ]
    },
    {
     "name": "stdout",
     "output_type": "stream",
     "text": [
      "1272\n"
     ]
    },
    {
     "name": "stderr",
     "output_type": "stream",
     "text": [
      "\r",
      "1273it [27:36,  4.02s/it]"
     ]
    },
    {
     "name": "stdout",
     "output_type": "stream",
     "text": [
      "1273\n"
     ]
    },
    {
     "name": "stderr",
     "output_type": "stream",
     "text": [
      "\r",
      "1274it [30:13, 49.78s/it]"
     ]
    },
    {
     "name": "stdout",
     "output_type": "stream",
     "text": [
      "1274\n"
     ]
    },
    {
     "name": "stderr",
     "output_type": "stream",
     "text": [
      "\r",
      "1275it [30:17, 36.02s/it]"
     ]
    },
    {
     "name": "stdout",
     "output_type": "stream",
     "text": [
      "1275\n"
     ]
    },
    {
     "name": "stderr",
     "output_type": "stream",
     "text": [
      "\r",
      "1276it [30:20, 26.25s/it]"
     ]
    },
    {
     "name": "stdout",
     "output_type": "stream",
     "text": [
      "1276\n"
     ]
    },
    {
     "name": "stderr",
     "output_type": "stream",
     "text": [
      "\r",
      "1277it [30:21, 18.45s/it]"
     ]
    },
    {
     "name": "stdout",
     "output_type": "stream",
     "text": [
      "Failed on account: 749958546004054016\n",
      "[{'code': 34, 'message': 'Sorry, that page does not exist.'}]\n",
      "1277\n"
     ]
    },
    {
     "name": "stderr",
     "output_type": "stream",
     "text": [
      "\r",
      "1278it [30:21, 12.99s/it]"
     ]
    },
    {
     "name": "stdout",
     "output_type": "stream",
     "text": [
      "Failed on account: 749958546004054016\n",
      "[{'code': 34, 'message': 'Sorry, that page does not exist.'}]\n",
      "1278\n"
     ]
    },
    {
     "name": "stderr",
     "output_type": "stream",
     "text": [
      "\r",
      "1279it [30:25, 10.22s/it]"
     ]
    },
    {
     "name": "stdout",
     "output_type": "stream",
     "text": [
      "1279\n"
     ]
    },
    {
     "name": "stderr",
     "output_type": "stream",
     "text": [
      "\r",
      "1280it [30:29,  8.59s/it]"
     ]
    },
    {
     "name": "stdout",
     "output_type": "stream",
     "text": [
      "1280\n"
     ]
    },
    {
     "name": "stderr",
     "output_type": "stream",
     "text": [
      "\r",
      "1281it [30:33,  7.22s/it]"
     ]
    },
    {
     "name": "stdout",
     "output_type": "stream",
     "text": [
      "1281\n"
     ]
    },
    {
     "name": "stderr",
     "output_type": "stream",
     "text": [
      "\r",
      "1282it [30:37,  6.29s/it]"
     ]
    },
    {
     "name": "stdout",
     "output_type": "stream",
     "text": [
      "1282\n"
     ]
    },
    {
     "name": "stderr",
     "output_type": "stream",
     "text": [
      "\r",
      "1283it [30:42,  5.84s/it]"
     ]
    },
    {
     "name": "stdout",
     "output_type": "stream",
     "text": [
      "1283\n"
     ]
    },
    {
     "name": "stderr",
     "output_type": "stream",
     "text": [
      "\r",
      "1284it [30:46,  5.31s/it]"
     ]
    },
    {
     "name": "stdout",
     "output_type": "stream",
     "text": [
      "1284\n"
     ]
    },
    {
     "name": "stderr",
     "output_type": "stream",
     "text": [
      "\r",
      "1285it [30:50,  4.84s/it]"
     ]
    },
    {
     "name": "stdout",
     "output_type": "stream",
     "text": [
      "1285\n"
     ]
    },
    {
     "name": "stderr",
     "output_type": "stream",
     "text": [
      "\r",
      "1286it [30:54,  4.51s/it]"
     ]
    },
    {
     "name": "stdout",
     "output_type": "stream",
     "text": [
      "1286\n"
     ]
    },
    {
     "name": "stderr",
     "output_type": "stream",
     "text": [
      "\r",
      "1287it [30:58,  4.35s/it]"
     ]
    },
    {
     "name": "stdout",
     "output_type": "stream",
     "text": [
      "1287\n"
     ]
    },
    {
     "name": "stderr",
     "output_type": "stream",
     "text": [
      "\r",
      "1288it [31:03,  4.55s/it]"
     ]
    },
    {
     "name": "stdout",
     "output_type": "stream",
     "text": [
      "1288\n"
     ]
    },
    {
     "name": "stderr",
     "output_type": "stream",
     "text": [
      "\r",
      "1289it [31:08,  4.61s/it]"
     ]
    },
    {
     "name": "stdout",
     "output_type": "stream",
     "text": [
      "1289\n"
     ]
    },
    {
     "name": "stderr",
     "output_type": "stream",
     "text": [
      "\r",
      "1290it [31:13,  4.74s/it]"
     ]
    },
    {
     "name": "stdout",
     "output_type": "stream",
     "text": [
      "1290\n"
     ]
    },
    {
     "name": "stderr",
     "output_type": "stream",
     "text": [
      "\r",
      "1291it [31:17,  4.73s/it]"
     ]
    },
    {
     "name": "stdout",
     "output_type": "stream",
     "text": [
      "1291\n"
     ]
    },
    {
     "name": "stderr",
     "output_type": "stream",
     "text": [
      "\r",
      "1292it [31:22,  4.67s/it]"
     ]
    },
    {
     "name": "stdout",
     "output_type": "stream",
     "text": [
      "1292\n"
     ]
    },
    {
     "name": "stderr",
     "output_type": "stream",
     "text": [
      "\r",
      "1293it [31:26,  4.42s/it]"
     ]
    },
    {
     "name": "stdout",
     "output_type": "stream",
     "text": [
      "1293\n"
     ]
    },
    {
     "name": "stderr",
     "output_type": "stream",
     "text": [
      "\r",
      "1294it [31:29,  4.19s/it]"
     ]
    },
    {
     "name": "stdout",
     "output_type": "stream",
     "text": [
      "1294\n"
     ]
    },
    {
     "name": "stderr",
     "output_type": "stream",
     "text": [
      "\r",
      "1295it [31:34,  4.21s/it]"
     ]
    },
    {
     "name": "stdout",
     "output_type": "stream",
     "text": [
      "1295\n"
     ]
    },
    {
     "name": "stderr",
     "output_type": "stream",
     "text": [
      "\r",
      "1296it [31:37,  4.07s/it]"
     ]
    },
    {
     "name": "stdout",
     "output_type": "stream",
     "text": [
      "1296\n"
     ]
    },
    {
     "name": "stderr",
     "output_type": "stream",
     "text": [
      "\r",
      "1297it [31:41,  4.04s/it]"
     ]
    },
    {
     "name": "stdout",
     "output_type": "stream",
     "text": [
      "1297\n"
     ]
    },
    {
     "name": "stderr",
     "output_type": "stream",
     "text": [
      "\r",
      "1298it [31:45,  3.85s/it]"
     ]
    },
    {
     "name": "stdout",
     "output_type": "stream",
     "text": [
      "1298\n"
     ]
    },
    {
     "name": "stderr",
     "output_type": "stream",
     "text": [
      "\r",
      "1299it [31:45,  2.76s/it]"
     ]
    },
    {
     "name": "stdout",
     "output_type": "stream",
     "text": [
      "Failed on account: 776565331007381504\n",
      "[{'code': 34, 'message': 'Sorry, that page does not exist.'}]\n",
      "1299\n"
     ]
    },
    {
     "name": "stderr",
     "output_type": "stream",
     "text": [
      "\r",
      "1300it [31:49,  3.20s/it]"
     ]
    },
    {
     "name": "stdout",
     "output_type": "stream",
     "text": [
      "1300\n"
     ]
    },
    {
     "name": "stderr",
     "output_type": "stream",
     "text": [
      "\r",
      "1301it [31:54,  3.58s/it]"
     ]
    },
    {
     "name": "stdout",
     "output_type": "stream",
     "text": [
      "1301\n"
     ]
    },
    {
     "name": "stderr",
     "output_type": "stream",
     "text": [
      "\r",
      "1302it [31:57,  3.48s/it]"
     ]
    },
    {
     "name": "stdout",
     "output_type": "stream",
     "text": [
      "1302\n"
     ]
    },
    {
     "name": "stderr",
     "output_type": "stream",
     "text": [
      "\r",
      "1303it [32:02,  3.86s/it]"
     ]
    },
    {
     "name": "stdout",
     "output_type": "stream",
     "text": [
      "1303\n"
     ]
    },
    {
     "name": "stderr",
     "output_type": "stream",
     "text": [
      "\r",
      "1304it [32:05,  3.72s/it]"
     ]
    },
    {
     "name": "stdout",
     "output_type": "stream",
     "text": [
      "1304\n"
     ]
    },
    {
     "name": "stderr",
     "output_type": "stream",
     "text": [
      "\r",
      "1305it [32:09,  3.84s/it]"
     ]
    },
    {
     "name": "stdout",
     "output_type": "stream",
     "text": [
      "1305\n"
     ]
    },
    {
     "name": "stderr",
     "output_type": "stream",
     "text": [
      "\r",
      "1306it [32:09,  2.77s/it]"
     ]
    },
    {
     "name": "stdout",
     "output_type": "stream",
     "text": [
      "Failed on account: 733093128081661952\n",
      "[{'code': 34, 'message': 'Sorry, that page does not exist.'}]\n",
      "1306\n"
     ]
    },
    {
     "name": "stderr",
     "output_type": "stream",
     "text": [
      "\r",
      "1307it [32:13,  2.96s/it]"
     ]
    },
    {
     "name": "stdout",
     "output_type": "stream",
     "text": [
      "1307\n"
     ]
    },
    {
     "name": "stderr",
     "output_type": "stream",
     "text": [
      "\r",
      "1308it [32:18,  3.78s/it]"
     ]
    },
    {
     "name": "stdout",
     "output_type": "stream",
     "text": [
      "1308\n"
     ]
    },
    {
     "name": "stderr",
     "output_type": "stream",
     "text": [
      "\r",
      "1309it [32:23,  3.94s/it]"
     ]
    },
    {
     "name": "stdout",
     "output_type": "stream",
     "text": [
      "1309\n"
     ]
    },
    {
     "name": "stderr",
     "output_type": "stream",
     "text": [
      "\r",
      "1310it [32:27,  4.08s/it]"
     ]
    },
    {
     "name": "stdout",
     "output_type": "stream",
     "text": [
      "1310\n"
     ]
    },
    {
     "name": "stderr",
     "output_type": "stream",
     "text": [
      "\r",
      "1311it [32:32,  4.30s/it]"
     ]
    },
    {
     "name": "stdout",
     "output_type": "stream",
     "text": [
      "1311\n"
     ]
    },
    {
     "name": "stderr",
     "output_type": "stream",
     "text": [
      "\r",
      "1312it [32:38,  4.66s/it]"
     ]
    },
    {
     "name": "stdout",
     "output_type": "stream",
     "text": [
      "1312\n"
     ]
    },
    {
     "name": "stderr",
     "output_type": "stream",
     "text": [
      "\r",
      "1313it [32:41,  4.33s/it]"
     ]
    },
    {
     "name": "stdout",
     "output_type": "stream",
     "text": [
      "1313\n"
     ]
    },
    {
     "name": "stderr",
     "output_type": "stream",
     "text": [
      "\r",
      "1314it [32:45,  4.31s/it]"
     ]
    },
    {
     "name": "stdout",
     "output_type": "stream",
     "text": [
      "1314\n"
     ]
    },
    {
     "name": "stderr",
     "output_type": "stream",
     "text": [
      "\r",
      "1315it [32:49,  4.08s/it]"
     ]
    },
    {
     "name": "stdout",
     "output_type": "stream",
     "text": [
      "1315\n"
     ]
    },
    {
     "name": "stderr",
     "output_type": "stream",
     "text": [
      "\r",
      "1316it [32:53,  4.02s/it]"
     ]
    },
    {
     "name": "stdout",
     "output_type": "stream",
     "text": [
      "1316\n"
     ]
    },
    {
     "name": "stderr",
     "output_type": "stream",
     "text": [
      "\r",
      "1317it [32:55,  3.36s/it]"
     ]
    },
    {
     "name": "stdout",
     "output_type": "stream",
     "text": [
      "1317\n"
     ]
    },
    {
     "name": "stderr",
     "output_type": "stream",
     "text": [
      "\r",
      "1318it [32:59,  3.80s/it]"
     ]
    },
    {
     "name": "stdout",
     "output_type": "stream",
     "text": [
      "1318\n"
     ]
    },
    {
     "name": "stderr",
     "output_type": "stream",
     "text": [
      "\r",
      "1319it [33:03,  3.81s/it]"
     ]
    },
    {
     "name": "stdout",
     "output_type": "stream",
     "text": [
      "1319\n"
     ]
    },
    {
     "name": "stderr",
     "output_type": "stream",
     "text": [
      "\r",
      "1320it [33:08,  4.16s/it]"
     ]
    },
    {
     "name": "stdout",
     "output_type": "stream",
     "text": [
      "1320\n"
     ]
    },
    {
     "name": "stderr",
     "output_type": "stream",
     "text": [
      "\r",
      "1321it [33:13,  4.38s/it]"
     ]
    },
    {
     "name": "stdout",
     "output_type": "stream",
     "text": [
      "1321\n"
     ]
    },
    {
     "name": "stderr",
     "output_type": "stream",
     "text": [
      "\r",
      "1322it [33:17,  4.35s/it]"
     ]
    },
    {
     "name": "stdout",
     "output_type": "stream",
     "text": [
      "1322\n"
     ]
    },
    {
     "name": "stderr",
     "output_type": "stream",
     "text": [
      "\r",
      "1323it [33:22,  4.51s/it]"
     ]
    },
    {
     "name": "stdout",
     "output_type": "stream",
     "text": [
      "1323\n"
     ]
    },
    {
     "name": "stderr",
     "output_type": "stream",
     "text": [
      "\r",
      "1324it [33:27,  4.70s/it]"
     ]
    },
    {
     "name": "stdout",
     "output_type": "stream",
     "text": [
      "1324\n"
     ]
    },
    {
     "name": "stderr",
     "output_type": "stream",
     "text": [
      "\r",
      "1325it [33:31,  4.32s/it]"
     ]
    },
    {
     "name": "stdout",
     "output_type": "stream",
     "text": [
      "1325\n"
     ]
    },
    {
     "name": "stderr",
     "output_type": "stream",
     "text": [
      "\r",
      "1326it [33:37,  4.73s/it]"
     ]
    },
    {
     "name": "stdout",
     "output_type": "stream",
     "text": [
      "1326\n"
     ]
    },
    {
     "name": "stderr",
     "output_type": "stream",
     "text": [
      "\r",
      "1327it [33:40,  4.34s/it]"
     ]
    },
    {
     "name": "stdout",
     "output_type": "stream",
     "text": [
      "1327\n"
     ]
    },
    {
     "name": "stderr",
     "output_type": "stream",
     "text": [
      "\r",
      "1328it [33:45,  4.49s/it]"
     ]
    },
    {
     "name": "stdout",
     "output_type": "stream",
     "text": [
      "1328\n"
     ]
    },
    {
     "name": "stderr",
     "output_type": "stream",
     "text": [
      "\r",
      "1329it [33:48,  4.18s/it]"
     ]
    },
    {
     "name": "stdout",
     "output_type": "stream",
     "text": [
      "1329\n"
     ]
    },
    {
     "name": "stderr",
     "output_type": "stream",
     "text": [
      "\r",
      "1330it [33:52,  4.01s/it]"
     ]
    },
    {
     "name": "stdout",
     "output_type": "stream",
     "text": [
      "1330\n"
     ]
    },
    {
     "name": "stderr",
     "output_type": "stream",
     "text": [
      "\r",
      "1331it [33:52,  2.88s/it]"
     ]
    },
    {
     "name": "stdout",
     "output_type": "stream",
     "text": [
      "Failed on account: 779126152774299648\n",
      "[{'code': 34, 'message': 'Sorry, that page does not exist.'}]\n",
      "1331\n"
     ]
    },
    {
     "name": "stderr",
     "output_type": "stream",
     "text": [
      "\r",
      "1332it [33:57,  3.56s/it]"
     ]
    },
    {
     "name": "stdout",
     "output_type": "stream",
     "text": [
      "1332\n"
     ]
    },
    {
     "name": "stderr",
     "output_type": "stream",
     "text": [
      "\r",
      "1333it [34:02,  3.83s/it]"
     ]
    },
    {
     "name": "stdout",
     "output_type": "stream",
     "text": [
      "1333\n"
     ]
    },
    {
     "name": "stderr",
     "output_type": "stream",
     "text": [
      "\r",
      "1334it [34:07,  4.26s/it]"
     ]
    },
    {
     "name": "stdout",
     "output_type": "stream",
     "text": [
      "1334\n"
     ]
    },
    {
     "name": "stderr",
     "output_type": "stream",
     "text": [
      "\r",
      "1335it [34:11,  4.18s/it]"
     ]
    },
    {
     "name": "stdout",
     "output_type": "stream",
     "text": [
      "1335\n"
     ]
    },
    {
     "name": "stderr",
     "output_type": "stream",
     "text": [
      "\r",
      "1336it [34:16,  4.50s/it]"
     ]
    },
    {
     "name": "stdout",
     "output_type": "stream",
     "text": [
      "1336\n"
     ]
    },
    {
     "name": "stderr",
     "output_type": "stream",
     "text": [
      "\r",
      "1337it [34:20,  4.38s/it]"
     ]
    },
    {
     "name": "stdout",
     "output_type": "stream",
     "text": [
      "1337\n"
     ]
    },
    {
     "name": "stderr",
     "output_type": "stream",
     "text": [
      "\r",
      "1338it [34:21,  3.14s/it]"
     ]
    },
    {
     "name": "stdout",
     "output_type": "stream",
     "text": [
      "Failed on account: 743576222228185088\n",
      "[{'code': 34, 'message': 'Sorry, that page does not exist.'}]\n",
      "1338\n"
     ]
    },
    {
     "name": "stderr",
     "output_type": "stream",
     "text": [
      "\r",
      "1339it [34:21,  2.27s/it]"
     ]
    },
    {
     "name": "stdout",
     "output_type": "stream",
     "text": [
      "Failed on account: 724253317577236480\n",
      "[{'code': 34, 'message': 'Sorry, that page does not exist.'}]\n",
      "1339\n"
     ]
    },
    {
     "name": "stderr",
     "output_type": "stream",
     "text": [
      "\r",
      "1340it [34:26,  3.10s/it]"
     ]
    },
    {
     "name": "stdout",
     "output_type": "stream",
     "text": [
      "1340\n"
     ]
    },
    {
     "name": "stderr",
     "output_type": "stream",
     "text": [
      "\r",
      "1341it [34:30,  3.48s/it]"
     ]
    },
    {
     "name": "stdout",
     "output_type": "stream",
     "text": [
      "1341\n"
     ]
    },
    {
     "name": "stderr",
     "output_type": "stream",
     "text": [
      "\r",
      "1342it [34:35,  3.81s/it]"
     ]
    },
    {
     "name": "stdout",
     "output_type": "stream",
     "text": [
      "1342\n"
     ]
    },
    {
     "name": "stderr",
     "output_type": "stream",
     "text": [
      "\r",
      "1343it [34:40,  4.26s/it]"
     ]
    },
    {
     "name": "stdout",
     "output_type": "stream",
     "text": [
      "1343\n"
     ]
    },
    {
     "name": "stderr",
     "output_type": "stream",
     "text": [
      "\r",
      "1344it [34:45,  4.34s/it]"
     ]
    },
    {
     "name": "stdout",
     "output_type": "stream",
     "text": [
      "1344\n"
     ]
    },
    {
     "name": "stderr",
     "output_type": "stream",
     "text": [
      "\r",
      "1345it [34:51,  4.85s/it]"
     ]
    },
    {
     "name": "stdout",
     "output_type": "stream",
     "text": [
      "1345\n"
     ]
    },
    {
     "name": "stderr",
     "output_type": "stream",
     "text": [
      "\r",
      "1346it [34:51,  3.47s/it]"
     ]
    },
    {
     "name": "stdout",
     "output_type": "stream",
     "text": [
      "Failed on account: 785578193604317184\n",
      "[{'code': 34, 'message': 'Sorry, that page does not exist.'}]\n",
      "1346\n"
     ]
    },
    {
     "name": "stderr",
     "output_type": "stream",
     "text": [
      "\r",
      "1347it [34:55,  3.73s/it]"
     ]
    },
    {
     "name": "stdout",
     "output_type": "stream",
     "text": [
      "1347\n"
     ]
    },
    {
     "name": "stderr",
     "output_type": "stream",
     "text": [
      "\r",
      "1348it [34:59,  3.72s/it]"
     ]
    },
    {
     "name": "stdout",
     "output_type": "stream",
     "text": [
      "1348\n"
     ]
    },
    {
     "name": "stderr",
     "output_type": "stream",
     "text": [
      "\r",
      "1349it [35:04,  4.12s/it]"
     ]
    },
    {
     "name": "stdout",
     "output_type": "stream",
     "text": [
      "1349\n"
     ]
    },
    {
     "name": "stderr",
     "output_type": "stream",
     "text": [
      "\r",
      "1350it [35:04,  2.97s/it]"
     ]
    },
    {
     "name": "stdout",
     "output_type": "stream",
     "text": [
      "Failed on account: 729523218218766336\n",
      "[{'code': 34, 'message': 'Sorry, that page does not exist.'}]\n",
      "1350\n"
     ]
    },
    {
     "name": "stderr",
     "output_type": "stream",
     "text": [
      "\r",
      "1351it [35:08,  3.06s/it]"
     ]
    },
    {
     "name": "stdout",
     "output_type": "stream",
     "text": [
      "1351\n"
     ]
    },
    {
     "name": "stderr",
     "output_type": "stream",
     "text": [
      "\r",
      "1352it [35:13,  3.81s/it]"
     ]
    },
    {
     "name": "stdout",
     "output_type": "stream",
     "text": [
      "1352\n"
     ]
    },
    {
     "name": "stderr",
     "output_type": "stream",
     "text": [
      "\r",
      "1353it [35:18,  4.16s/it]"
     ]
    },
    {
     "name": "stdout",
     "output_type": "stream",
     "text": [
      "1353\n"
     ]
    },
    {
     "name": "stderr",
     "output_type": "stream",
     "text": [
      "\r",
      "1354it [35:18,  2.99s/it]"
     ]
    },
    {
     "name": "stdout",
     "output_type": "stream",
     "text": [
      "Failed on account: 96648433\n",
      "Not authorized.\n",
      "1354\n"
     ]
    },
    {
     "name": "stderr",
     "output_type": "stream",
     "text": [
      "\r",
      "1355it [35:22,  3.16s/it]"
     ]
    },
    {
     "name": "stdout",
     "output_type": "stream",
     "text": [
      "1355\n"
     ]
    },
    {
     "name": "stderr",
     "output_type": "stream",
     "text": [
      "\r",
      "1356it [35:22,  2.29s/it]"
     ]
    },
    {
     "name": "stdout",
     "output_type": "stream",
     "text": [
      "Failed on account: 786670304903004160\n",
      "[{'code': 34, 'message': 'Sorry, that page does not exist.'}]\n",
      "1356\n"
     ]
    },
    {
     "name": "stderr",
     "output_type": "stream",
     "text": [
      "\r",
      "1357it [35:26,  2.70s/it]"
     ]
    },
    {
     "name": "stdout",
     "output_type": "stream",
     "text": [
      "1357\n"
     ]
    },
    {
     "name": "stderr",
     "output_type": "stream",
     "text": [
      "\r",
      "1358it [35:30,  3.21s/it]"
     ]
    },
    {
     "name": "stdout",
     "output_type": "stream",
     "text": [
      "1358\n"
     ]
    },
    {
     "name": "stderr",
     "output_type": "stream",
     "text": [
      "\r",
      "1359it [35:34,  3.22s/it]"
     ]
    },
    {
     "name": "stdout",
     "output_type": "stream",
     "text": [
      "1359\n"
     ]
    },
    {
     "name": "stderr",
     "output_type": "stream",
     "text": [
      "\r",
      "1360it [35:37,  3.43s/it]"
     ]
    },
    {
     "name": "stdout",
     "output_type": "stream",
     "text": [
      "1360\n"
     ]
    },
    {
     "name": "stderr",
     "output_type": "stream",
     "text": [
      "\r",
      "1361it [35:42,  3.65s/it]"
     ]
    },
    {
     "name": "stdout",
     "output_type": "stream",
     "text": [
      "1361\n"
     ]
    },
    {
     "name": "stderr",
     "output_type": "stream",
     "text": [
      "\r",
      "1362it [35:46,  4.01s/it]"
     ]
    },
    {
     "name": "stdout",
     "output_type": "stream",
     "text": [
      "1362\n"
     ]
    },
    {
     "name": "stderr",
     "output_type": "stream",
     "text": [
      "\r",
      "1363it [35:47,  2.88s/it]"
     ]
    },
    {
     "name": "stdout",
     "output_type": "stream",
     "text": [
      "Failed on account: 774074669230071808\n",
      "[{'code': 34, 'message': 'Sorry, that page does not exist.'}]\n",
      "1363\n"
     ]
    },
    {
     "name": "stderr",
     "output_type": "stream",
     "text": [
      "\r",
      "1364it [35:51,  3.37s/it]"
     ]
    },
    {
     "name": "stdout",
     "output_type": "stream",
     "text": [
      "1364\n"
     ]
    },
    {
     "name": "stderr",
     "output_type": "stream",
     "text": [
      "\r",
      "1365it [35:55,  3.49s/it]"
     ]
    },
    {
     "name": "stdout",
     "output_type": "stream",
     "text": [
      "1365\n"
     ]
    },
    {
     "name": "stderr",
     "output_type": "stream",
     "text": [
      "\r",
      "1366it [35:58,  3.41s/it]"
     ]
    },
    {
     "name": "stdout",
     "output_type": "stream",
     "text": [
      "1366\n"
     ]
    },
    {
     "name": "stderr",
     "output_type": "stream",
     "text": [
      "\r",
      "1367it [36:03,  3.74s/it]"
     ]
    },
    {
     "name": "stdout",
     "output_type": "stream",
     "text": [
      "1367\n"
     ]
    },
    {
     "name": "stderr",
     "output_type": "stream",
     "text": [
      "\r",
      "1368it [36:07,  3.79s/it]"
     ]
    },
    {
     "name": "stdout",
     "output_type": "stream",
     "text": [
      "1368\n"
     ]
    },
    {
     "name": "stderr",
     "output_type": "stream",
     "text": [
      "\r",
      "1369it [36:11,  3.97s/it]"
     ]
    },
    {
     "name": "stdout",
     "output_type": "stream",
     "text": [
      "1369\n"
     ]
    },
    {
     "name": "stderr",
     "output_type": "stream",
     "text": [
      "\r",
      "1370it [36:15,  4.06s/it]"
     ]
    },
    {
     "name": "stdout",
     "output_type": "stream",
     "text": [
      "1370\n"
     ]
    },
    {
     "name": "stderr",
     "output_type": "stream",
     "text": [
      "\r",
      "1371it [36:16,  2.92s/it]"
     ]
    },
    {
     "name": "stdout",
     "output_type": "stream",
     "text": [
      "Failed on account: 739664413330804736\n",
      "[{'code': 34, 'message': 'Sorry, that page does not exist.'}]\n",
      "1371\n"
     ]
    },
    {
     "name": "stderr",
     "output_type": "stream",
     "text": [
      "\r",
      "1372it [36:20,  3.38s/it]"
     ]
    },
    {
     "name": "stdout",
     "output_type": "stream",
     "text": [
      "1372\n"
     ]
    },
    {
     "name": "stderr",
     "output_type": "stream",
     "text": [
      "\r",
      "1373it [36:25,  3.78s/it]"
     ]
    },
    {
     "name": "stdout",
     "output_type": "stream",
     "text": [
      "1373\n"
     ]
    },
    {
     "name": "stderr",
     "output_type": "stream",
     "text": [
      "\r",
      "1374it [36:28,  3.66s/it]"
     ]
    },
    {
     "name": "stdout",
     "output_type": "stream",
     "text": [
      "1374\n"
     ]
    },
    {
     "name": "stderr",
     "output_type": "stream",
     "text": [
      "\r",
      "1375it [36:32,  3.71s/it]"
     ]
    },
    {
     "name": "stdout",
     "output_type": "stream",
     "text": [
      "1375\n"
     ]
    },
    {
     "name": "stderr",
     "output_type": "stream",
     "text": [
      "\r",
      "1376it [36:36,  3.84s/it]"
     ]
    },
    {
     "name": "stdout",
     "output_type": "stream",
     "text": [
      "1376\n"
     ]
    },
    {
     "name": "stderr",
     "output_type": "stream",
     "text": [
      "\r",
      "1377it [36:40,  3.72s/it]"
     ]
    },
    {
     "name": "stdout",
     "output_type": "stream",
     "text": [
      "1377\n"
     ]
    },
    {
     "name": "stderr",
     "output_type": "stream",
     "text": [
      "\r",
      "1378it [36:44,  4.00s/it]"
     ]
    },
    {
     "name": "stdout",
     "output_type": "stream",
     "text": [
      "1378\n"
     ]
    },
    {
     "name": "stderr",
     "output_type": "stream",
     "text": [
      "\r",
      "1379it [36:48,  3.87s/it]"
     ]
    },
    {
     "name": "stdout",
     "output_type": "stream",
     "text": [
      "1379\n"
     ]
    },
    {
     "name": "stderr",
     "output_type": "stream",
     "text": [
      "\r",
      "1380it [36:48,  2.78s/it]"
     ]
    },
    {
     "name": "stdout",
     "output_type": "stream",
     "text": [
      "Failed on account: 788010267649183744\n",
      "[{'code': 34, 'message': 'Sorry, that page does not exist.'}]\n",
      "1380\n"
     ]
    },
    {
     "name": "stderr",
     "output_type": "stream",
     "text": [
      "\r",
      "1381it [36:52,  3.11s/it]"
     ]
    },
    {
     "name": "stdout",
     "output_type": "stream",
     "text": [
      "1381\n"
     ]
    },
    {
     "name": "stderr",
     "output_type": "stream",
     "text": [
      "\r",
      "1382it [36:56,  3.56s/it]"
     ]
    },
    {
     "name": "stdout",
     "output_type": "stream",
     "text": [
      "1382\n"
     ]
    },
    {
     "name": "stderr",
     "output_type": "stream",
     "text": [
      "\r",
      "1383it [37:00,  3.54s/it]"
     ]
    },
    {
     "name": "stdout",
     "output_type": "stream",
     "text": [
      "1383\n"
     ]
    },
    {
     "name": "stderr",
     "output_type": "stream",
     "text": [
      "\r",
      "1384it [37:03,  3.52s/it]"
     ]
    },
    {
     "name": "stdout",
     "output_type": "stream",
     "text": [
      "1384\n"
     ]
    },
    {
     "name": "stderr",
     "output_type": "stream",
     "text": [
      "\r",
      "1385it [37:07,  3.57s/it]"
     ]
    },
    {
     "name": "stdout",
     "output_type": "stream",
     "text": [
      "1385\n"
     ]
    },
    {
     "name": "stderr",
     "output_type": "stream",
     "text": [
      "\r",
      "1386it [37:10,  3.49s/it]"
     ]
    },
    {
     "name": "stdout",
     "output_type": "stream",
     "text": [
      "1386\n"
     ]
    },
    {
     "name": "stderr",
     "output_type": "stream",
     "text": [
      "\r",
      "1387it [37:14,  3.47s/it]"
     ]
    },
    {
     "name": "stdout",
     "output_type": "stream",
     "text": [
      "1387\n"
     ]
    },
    {
     "name": "stderr",
     "output_type": "stream",
     "text": [
      "\r",
      "1388it [37:14,  2.51s/it]"
     ]
    },
    {
     "name": "stdout",
     "output_type": "stream",
     "text": [
      "Failed on account: 778276054909812736\n",
      "[{'code': 34, 'message': 'Sorry, that page does not exist.'}]\n",
      "1388\n"
     ]
    },
    {
     "name": "stderr",
     "output_type": "stream",
     "text": [
      "\r",
      "1389it [37:17,  2.73s/it]"
     ]
    },
    {
     "name": "stdout",
     "output_type": "stream",
     "text": [
      "1389\n"
     ]
    },
    {
     "name": "stderr",
     "output_type": "stream",
     "text": [
      "\r",
      "1390it [37:21,  2.93s/it]"
     ]
    },
    {
     "name": "stdout",
     "output_type": "stream",
     "text": [
      "1390\n"
     ]
    },
    {
     "name": "stderr",
     "output_type": "stream",
     "text": [
      "\r",
      "1391it [37:24,  3.17s/it]"
     ]
    },
    {
     "name": "stdout",
     "output_type": "stream",
     "text": [
      "1391\n"
     ]
    },
    {
     "name": "stderr",
     "output_type": "stream",
     "text": [
      "\r",
      "1392it [37:28,  3.33s/it]"
     ]
    },
    {
     "name": "stdout",
     "output_type": "stream",
     "text": [
      "1392\n"
     ]
    },
    {
     "name": "stderr",
     "output_type": "stream",
     "text": [
      "\r",
      "1393it [37:32,  3.48s/it]"
     ]
    },
    {
     "name": "stdout",
     "output_type": "stream",
     "text": [
      "1393\n"
     ]
    },
    {
     "name": "stderr",
     "output_type": "stream",
     "text": [
      "\r",
      "1394it [37:36,  3.54s/it]"
     ]
    },
    {
     "name": "stdout",
     "output_type": "stream",
     "text": [
      "1394\n"
     ]
    },
    {
     "name": "stderr",
     "output_type": "stream",
     "text": [
      "\r",
      "1395it [37:39,  3.59s/it]"
     ]
    },
    {
     "name": "stdout",
     "output_type": "stream",
     "text": [
      "1395\n"
     ]
    },
    {
     "name": "stderr",
     "output_type": "stream",
     "text": [
      "\r",
      "1396it [37:43,  3.72s/it]"
     ]
    },
    {
     "name": "stdout",
     "output_type": "stream",
     "text": [
      "1396\n"
     ]
    },
    {
     "name": "stderr",
     "output_type": "stream",
     "text": [
      "\r",
      "1397it [37:47,  3.72s/it]"
     ]
    },
    {
     "name": "stdout",
     "output_type": "stream",
     "text": [
      "1397\n"
     ]
    },
    {
     "name": "stderr",
     "output_type": "stream",
     "text": [
      "\r",
      "1398it [37:51,  3.72s/it]"
     ]
    },
    {
     "name": "stdout",
     "output_type": "stream",
     "text": [
      "1398\n"
     ]
    },
    {
     "name": "stderr",
     "output_type": "stream",
     "text": [
      "\r",
      "1399it [37:55,  3.84s/it]"
     ]
    },
    {
     "name": "stdout",
     "output_type": "stream",
     "text": [
      "1399\n"
     ]
    },
    {
     "name": "stderr",
     "output_type": "stream",
     "text": [
      "\r",
      "1400it [38:02,  4.67s/it]"
     ]
    },
    {
     "name": "stdout",
     "output_type": "stream",
     "text": [
      "1400\n"
     ]
    },
    {
     "name": "stderr",
     "output_type": "stream",
     "text": [
      "\r",
      "1401it [38:05,  4.24s/it]"
     ]
    },
    {
     "name": "stdout",
     "output_type": "stream",
     "text": [
      "1401\n"
     ]
    },
    {
     "name": "stderr",
     "output_type": "stream",
     "text": [
      "\r",
      "1402it [38:09,  4.14s/it]"
     ]
    },
    {
     "name": "stdout",
     "output_type": "stream",
     "text": [
      "1402\n"
     ]
    },
    {
     "name": "stderr",
     "output_type": "stream",
     "text": [
      "\r",
      "1403it [38:13,  4.26s/it]"
     ]
    },
    {
     "name": "stdout",
     "output_type": "stream",
     "text": [
      "1403\n"
     ]
    },
    {
     "name": "stderr",
     "output_type": "stream",
     "text": [
      "\r",
      "1404it [38:17,  4.05s/it]"
     ]
    },
    {
     "name": "stdout",
     "output_type": "stream",
     "text": [
      "1404\n"
     ]
    },
    {
     "name": "stderr",
     "output_type": "stream",
     "text": [
      "\r",
      "1405it [38:21,  3.98s/it]"
     ]
    },
    {
     "name": "stdout",
     "output_type": "stream",
     "text": [
      "1405\n"
     ]
    },
    {
     "name": "stderr",
     "output_type": "stream",
     "text": [
      "\r",
      "1406it [38:24,  3.87s/it]"
     ]
    },
    {
     "name": "stdout",
     "output_type": "stream",
     "text": [
      "1406\n"
     ]
    },
    {
     "name": "stderr",
     "output_type": "stream",
     "text": [
      "\r",
      "1407it [38:29,  4.11s/it]"
     ]
    },
    {
     "name": "stdout",
     "output_type": "stream",
     "text": [
      "1407\n"
     ]
    },
    {
     "name": "stderr",
     "output_type": "stream",
     "text": [
      "\r",
      "1408it [38:32,  3.93s/it]"
     ]
    },
    {
     "name": "stdout",
     "output_type": "stream",
     "text": [
      "1408\n"
     ]
    },
    {
     "name": "stderr",
     "output_type": "stream",
     "text": [
      "\r",
      "1409it [38:37,  4.07s/it]"
     ]
    },
    {
     "name": "stdout",
     "output_type": "stream",
     "text": [
      "1409\n"
     ]
    },
    {
     "name": "stderr",
     "output_type": "stream",
     "text": [
      "\r",
      "1410it [38:42,  4.29s/it]"
     ]
    },
    {
     "name": "stdout",
     "output_type": "stream",
     "text": [
      "1410\n"
     ]
    },
    {
     "name": "stderr",
     "output_type": "stream",
     "text": [
      "\r",
      "1411it [38:46,  4.31s/it]"
     ]
    },
    {
     "name": "stdout",
     "output_type": "stream",
     "text": [
      "1411\n"
     ]
    },
    {
     "name": "stderr",
     "output_type": "stream",
     "text": [
      "\r",
      "1412it [38:50,  4.17s/it]"
     ]
    },
    {
     "name": "stdout",
     "output_type": "stream",
     "text": [
      "1412\n"
     ]
    },
    {
     "name": "stderr",
     "output_type": "stream",
     "text": [
      "\r",
      "1413it [38:53,  4.00s/it]"
     ]
    },
    {
     "name": "stdout",
     "output_type": "stream",
     "text": [
      "1413\n"
     ]
    },
    {
     "name": "stderr",
     "output_type": "stream",
     "text": [
      "\r",
      "1414it [38:56,  3.58s/it]"
     ]
    },
    {
     "name": "stdout",
     "output_type": "stream",
     "text": [
      "1414\n"
     ]
    },
    {
     "name": "stderr",
     "output_type": "stream",
     "text": [
      "\r",
      "1415it [39:00,  3.65s/it]"
     ]
    },
    {
     "name": "stdout",
     "output_type": "stream",
     "text": [
      "1415\n"
     ]
    },
    {
     "name": "stderr",
     "output_type": "stream",
     "text": [
      "\r",
      "1416it [39:06,  4.30s/it]"
     ]
    },
    {
     "name": "stdout",
     "output_type": "stream",
     "text": [
      "1416\n"
     ]
    },
    {
     "name": "stderr",
     "output_type": "stream",
     "text": [
      "\r",
      "1417it [39:10,  4.28s/it]"
     ]
    },
    {
     "name": "stdout",
     "output_type": "stream",
     "text": [
      "1417\n"
     ]
    },
    {
     "name": "stderr",
     "output_type": "stream",
     "text": [
      "\r",
      "1418it [39:15,  4.52s/it]"
     ]
    },
    {
     "name": "stdout",
     "output_type": "stream",
     "text": [
      "1418\n"
     ]
    },
    {
     "name": "stderr",
     "output_type": "stream",
     "text": [
      "\r",
      "1419it [39:21,  5.10s/it]"
     ]
    },
    {
     "name": "stdout",
     "output_type": "stream",
     "text": [
      "1419\n"
     ]
    },
    {
     "name": "stderr",
     "output_type": "stream",
     "text": [
      "\r",
      "1420it [39:26,  5.06s/it]"
     ]
    },
    {
     "name": "stdout",
     "output_type": "stream",
     "text": [
      "1420\n"
     ]
    },
    {
     "name": "stderr",
     "output_type": "stream",
     "text": [
      "\r",
      "1421it [39:27,  3.62s/it]"
     ]
    },
    {
     "name": "stdout",
     "output_type": "stream",
     "text": [
      "Failed on account: 749726602221592576\n",
      "[{'code': 34, 'message': 'Sorry, that page does not exist.'}]\n",
      "1421\n"
     ]
    },
    {
     "name": "stderr",
     "output_type": "stream",
     "text": [
      "\r",
      "1422it [39:31,  3.80s/it]"
     ]
    },
    {
     "name": "stdout",
     "output_type": "stream",
     "text": [
      "1422\n"
     ]
    },
    {
     "name": "stderr",
     "output_type": "stream",
     "text": [
      "\r",
      "1423it [39:35,  3.85s/it]"
     ]
    },
    {
     "name": "stdout",
     "output_type": "stream",
     "text": [
      "1423\n"
     ]
    },
    {
     "name": "stderr",
     "output_type": "stream",
     "text": [
      "\r",
      "1424it [39:39,  4.03s/it]"
     ]
    },
    {
     "name": "stdout",
     "output_type": "stream",
     "text": [
      "1424\n"
     ]
    },
    {
     "name": "stderr",
     "output_type": "stream",
     "text": [
      "\r",
      "1425it [39:40,  2.90s/it]"
     ]
    },
    {
     "name": "stdout",
     "output_type": "stream",
     "text": [
      "Failed on account: 722874384101154816\n",
      "[{'code': 34, 'message': 'Sorry, that page does not exist.'}]\n",
      "1425\n"
     ]
    },
    {
     "name": "stderr",
     "output_type": "stream",
     "text": [
      "\r",
      "1426it [39:44,  3.30s/it]"
     ]
    },
    {
     "name": "stdout",
     "output_type": "stream",
     "text": [
      "1426\n"
     ]
    },
    {
     "name": "stderr",
     "output_type": "stream",
     "text": [
      "\r",
      "1427it [39:48,  3.48s/it]"
     ]
    },
    {
     "name": "stdout",
     "output_type": "stream",
     "text": [
      "1427\n"
     ]
    },
    {
     "name": "stderr",
     "output_type": "stream",
     "text": [
      "\r",
      "1428it [39:52,  3.75s/it]"
     ]
    },
    {
     "name": "stdout",
     "output_type": "stream",
     "text": [
      "1428\n"
     ]
    },
    {
     "name": "stderr",
     "output_type": "stream",
     "text": [
      "\r",
      "1429it [39:57,  4.00s/it]"
     ]
    },
    {
     "name": "stdout",
     "output_type": "stream",
     "text": [
      "1429\n"
     ]
    },
    {
     "name": "stderr",
     "output_type": "stream",
     "text": [
      "\r",
      "1430it [40:00,  3.85s/it]"
     ]
    },
    {
     "name": "stdout",
     "output_type": "stream",
     "text": [
      "1430\n"
     ]
    },
    {
     "name": "stderr",
     "output_type": "stream",
     "text": [
      "\r",
      "1431it [40:03,  3.48s/it]"
     ]
    },
    {
     "name": "stdout",
     "output_type": "stream",
     "text": [
      "Failed on account: 205487789\n",
      "429 Client Error: Too Many Requests for url: https://botometer-pro.p.rapidapi.com/4/check_account\n",
      "1431\n"
     ]
    },
    {
     "name": "stderr",
     "output_type": "stream",
     "text": [
      "\r",
      "1432it [40:09,  4.37s/it]"
     ]
    },
    {
     "name": "stdout",
     "output_type": "stream",
     "text": [
      "Failed on account: 1126215390\n",
      "429 Client Error: Too Many Requests for url: https://botometer-pro.p.rapidapi.com/4/check_account\n",
      "1432\n"
     ]
    },
    {
     "name": "stderr",
     "output_type": "stream",
     "text": [
      "\r",
      "1433it [40:12,  3.86s/it]"
     ]
    },
    {
     "name": "stdout",
     "output_type": "stream",
     "text": [
      "Failed on account: 759892186229985280\n",
      "429 Client Error: Too Many Requests for url: https://botometer-pro.p.rapidapi.com/4/check_account\n",
      "1433\n"
     ]
    },
    {
     "name": "stderr",
     "output_type": "stream",
     "text": [
      "\r",
      "1434it [40:14,  3.25s/it]"
     ]
    },
    {
     "name": "stdout",
     "output_type": "stream",
     "text": [
      "Failed on account: 3167935228\n",
      "429 Client Error: Too Many Requests for url: https://botometer-pro.p.rapidapi.com/4/check_account\n",
      "1434\n"
     ]
    },
    {
     "name": "stderr",
     "output_type": "stream",
     "text": [
      "\r",
      "1435it [40:15,  2.82s/it]"
     ]
    },
    {
     "name": "stdout",
     "output_type": "stream",
     "text": [
      "Failed on account: 107012365\n",
      "429 Client Error: Too Many Requests for url: https://botometer-pro.p.rapidapi.com/4/check_account\n",
      "1435\n"
     ]
    },
    {
     "name": "stderr",
     "output_type": "stream",
     "text": [
      "\r",
      "1436it [40:17,  2.53s/it]"
     ]
    },
    {
     "name": "stdout",
     "output_type": "stream",
     "text": [
      "Failed on account: 2166712563\n",
      "429 Client Error: Too Many Requests for url: https://botometer-pro.p.rapidapi.com/4/check_account\n",
      "1436\n"
     ]
    },
    {
     "name": "stderr",
     "output_type": "stream",
     "text": [
      "\r",
      "1437it [40:20,  2.70s/it]"
     ]
    },
    {
     "name": "stdout",
     "output_type": "stream",
     "text": [
      "Failed on account: 260757660\n",
      "429 Client Error: Too Many Requests for url: https://botometer-pro.p.rapidapi.com/4/check_account\n",
      "1437\n"
     ]
    },
    {
     "name": "stderr",
     "output_type": "stream",
     "text": [
      "\r",
      "1438it [40:23,  2.52s/it]"
     ]
    },
    {
     "name": "stdout",
     "output_type": "stream",
     "text": [
      "Failed on account: 578173612\n",
      "429 Client Error: Too Many Requests for url: https://botometer-pro.p.rapidapi.com/4/check_account\n",
      "1438\n"
     ]
    },
    {
     "name": "stderr",
     "output_type": "stream",
     "text": [
      "\r",
      "1439it [40:26,  2.69s/it]"
     ]
    },
    {
     "name": "stdout",
     "output_type": "stream",
     "text": [
      "Failed on account: 163995099\n",
      "429 Client Error: Too Many Requests for url: https://botometer-pro.p.rapidapi.com/4/check_account\n",
      "1439\n"
     ]
    },
    {
     "name": "stderr",
     "output_type": "stream",
     "text": [
      "\r",
      "1440it [40:28,  2.58s/it]"
     ]
    },
    {
     "name": "stdout",
     "output_type": "stream",
     "text": [
      "Failed on account: 1917731\n",
      "429 Client Error: Too Many Requests for url: https://botometer-pro.p.rapidapi.com/4/check_account\n",
      "1440\n"
     ]
    },
    {
     "name": "stderr",
     "output_type": "stream",
     "text": [
      "\r",
      "1441it [40:31,  2.82s/it]"
     ]
    },
    {
     "name": "stdout",
     "output_type": "stream",
     "text": [
      "Failed on account: 481014713\n",
      "429 Client Error: Too Many Requests for url: https://botometer-pro.p.rapidapi.com/4/check_account\n",
      "1441\n"
     ]
    },
    {
     "name": "stderr",
     "output_type": "stream",
     "text": [
      "\r",
      "1442it [40:34,  2.76s/it]"
     ]
    },
    {
     "name": "stdout",
     "output_type": "stream",
     "text": [
      "Failed on account: 9763482\n",
      "429 Client Error: Too Many Requests for url: https://botometer-pro.p.rapidapi.com/4/check_account\n",
      "1442\n"
     ]
    },
    {
     "name": "stderr",
     "output_type": "stream",
     "text": [
      "\r",
      "1443it [40:37,  2.71s/it]"
     ]
    },
    {
     "name": "stdout",
     "output_type": "stream",
     "text": [
      "Failed on account: 195271137\n",
      "429 Client Error: Too Many Requests for url: https://botometer-pro.p.rapidapi.com/4/check_account\n",
      "1443\n"
     ]
    },
    {
     "name": "stderr",
     "output_type": "stream",
     "text": [
      "\r",
      "1444it [40:38,  2.37s/it]"
     ]
    },
    {
     "name": "stdout",
     "output_type": "stream",
     "text": [
      "Failed on account: 1042210328\n",
      "429 Client Error: Too Many Requests for url: https://botometer-pro.p.rapidapi.com/4/check_account\n",
      "1444\n"
     ]
    },
    {
     "name": "stderr",
     "output_type": "stream",
     "text": [
      "\r",
      "1445it [40:41,  2.54s/it]"
     ]
    },
    {
     "name": "stdout",
     "output_type": "stream",
     "text": [
      "Failed on account: 177584156\n",
      "429 Client Error: Too Many Requests for url: https://botometer-pro.p.rapidapi.com/4/check_account\n",
      "1445\n"
     ]
    },
    {
     "name": "stderr",
     "output_type": "stream",
     "text": [
      "\r",
      "1446it [40:43,  2.38s/it]"
     ]
    },
    {
     "name": "stdout",
     "output_type": "stream",
     "text": [
      "Failed on account: 112771169\n",
      "429 Client Error: Too Many Requests for url: https://botometer-pro.p.rapidapi.com/4/check_account\n",
      "1446\n"
     ]
    },
    {
     "name": "stderr",
     "output_type": "stream",
     "text": [
      "\r",
      "1447it [40:45,  2.28s/it]"
     ]
    },
    {
     "name": "stdout",
     "output_type": "stream",
     "text": [
      "Failed on account: 22881265\n",
      "429 Client Error: Too Many Requests for url: https://botometer-pro.p.rapidapi.com/4/check_account\n",
      "1447\n"
     ]
    },
    {
     "name": "stderr",
     "output_type": "stream",
     "text": [
      "\r",
      "1448it [40:48,  2.39s/it]"
     ]
    },
    {
     "name": "stdout",
     "output_type": "stream",
     "text": [
      "Failed on account: 94818581\n",
      "429 Client Error: Too Many Requests for url: https://botometer-pro.p.rapidapi.com/4/check_account\n",
      "1448\n"
     ]
    },
    {
     "name": "stderr",
     "output_type": "stream",
     "text": [
      "\r",
      "1449it [40:50,  2.37s/it]"
     ]
    },
    {
     "name": "stdout",
     "output_type": "stream",
     "text": [
      "Failed on account: 779080568873033728\n",
      "429 Client Error: Too Many Requests for url: https://botometer-pro.p.rapidapi.com/4/check_account\n",
      "1449\n"
     ]
    },
    {
     "name": "stderr",
     "output_type": "stream",
     "text": [
      "\r",
      "1450it [40:53,  2.41s/it]"
     ]
    },
    {
     "name": "stdout",
     "output_type": "stream",
     "text": [
      "Failed on account: 1020058453\n",
      "429 Client Error: Too Many Requests for url: https://botometer-pro.p.rapidapi.com/4/check_account\n",
      "1450\n"
     ]
    },
    {
     "name": "stderr",
     "output_type": "stream",
     "text": [
      "\r",
      "1451it [40:56,  2.78s/it]"
     ]
    },
    {
     "name": "stdout",
     "output_type": "stream",
     "text": [
      "Failed on account: 972909709\n",
      "429 Client Error: Too Many Requests for url: https://botometer-pro.p.rapidapi.com/4/check_account\n",
      "1451\n"
     ]
    },
    {
     "name": "stderr",
     "output_type": "stream",
     "text": [
      "\r",
      "1452it [40:58,  2.44s/it]"
     ]
    },
    {
     "name": "stdout",
     "output_type": "stream",
     "text": [
      "Failed on account: 565942411\n",
      "429 Client Error: Too Many Requests for url: https://botometer-pro.p.rapidapi.com/4/check_account\n",
      "1452\n"
     ]
    },
    {
     "name": "stderr",
     "output_type": "stream",
     "text": [
      "\r",
      "1453it [41:01,  2.59s/it]"
     ]
    },
    {
     "name": "stdout",
     "output_type": "stream",
     "text": [
      "Failed on account: 23995748\n",
      "429 Client Error: Too Many Requests for url: https://botometer-pro.p.rapidapi.com/4/check_account\n",
      "1453\n"
     ]
    },
    {
     "name": "stderr",
     "output_type": "stream",
     "text": [
      "\r",
      "1454it [41:03,  2.57s/it]"
     ]
    },
    {
     "name": "stdout",
     "output_type": "stream",
     "text": [
      "Failed on account: 14790524\n",
      "429 Client Error: Too Many Requests for url: https://botometer-pro.p.rapidapi.com/4/check_account\n",
      "1454\n"
     ]
    },
    {
     "name": "stderr",
     "output_type": "stream",
     "text": [
      "\r",
      "1455it [41:08,  3.19s/it]"
     ]
    },
    {
     "name": "stdout",
     "output_type": "stream",
     "text": [
      "Failed on account: 151228902\n",
      "429 Client Error: Too Many Requests for url: https://botometer-pro.p.rapidapi.com/4/check_account\n",
      "1455\n"
     ]
    },
    {
     "name": "stderr",
     "output_type": "stream",
     "text": [
      "\r",
      "1456it [41:11,  3.06s/it]"
     ]
    },
    {
     "name": "stdout",
     "output_type": "stream",
     "text": [
      "Failed on account: 2729061\n",
      "429 Client Error: Too Many Requests for url: https://botometer-pro.p.rapidapi.com/4/check_account\n",
      "1456\n"
     ]
    },
    {
     "name": "stderr",
     "output_type": "stream",
     "text": [
      "\r",
      "1457it [41:13,  2.83s/it]"
     ]
    },
    {
     "name": "stdout",
     "output_type": "stream",
     "text": [
      "Failed on account: 576162565\n",
      "429 Client Error: Too Many Requests for url: https://botometer-pro.p.rapidapi.com/4/check_account\n",
      "1457\n"
     ]
    },
    {
     "name": "stderr",
     "output_type": "stream",
     "text": [
      "\r",
      "1458it [41:15,  2.57s/it]"
     ]
    },
    {
     "name": "stdout",
     "output_type": "stream",
     "text": [
      "Failed on account: 281804473\n",
      "429 Client Error: Too Many Requests for url: https://botometer-pro.p.rapidapi.com/4/check_account\n",
      "1458\n"
     ]
    },
    {
     "name": "stderr",
     "output_type": "stream",
     "text": [
      "1458it [41:17,  1.70s/it]\n"
     ]
    },
    {
     "ename": "KeyboardInterrupt",
     "evalue": "",
     "output_type": "error",
     "traceback": [
      "\u001b[0;31m---------------------------------------------------------------------------\u001b[0m",
      "\u001b[0;31mKeyboardInterrupt\u001b[0m                         Traceback (most recent call last)",
      "\u001b[0;32m/var/folders/jf/w9ffcr5s1t1fffdv873rd0xr0000gn/T/ipykernel_17446/2443718737.py\u001b[0m in \u001b[0;36m<module>\u001b[0;34m\u001b[0m\n\u001b[1;32m     35\u001b[0m         \u001b[0mprint\u001b[0m\u001b[0;34m(\u001b[0m\u001b[0mi\u001b[0m\u001b[0;34m)\u001b[0m\u001b[0;34m\u001b[0m\u001b[0;34m\u001b[0m\u001b[0m\n\u001b[1;32m     36\u001b[0m         \u001b[0;32mtry\u001b[0m\u001b[0;34m:\u001b[0m\u001b[0;34m\u001b[0m\u001b[0;34m\u001b[0m\u001b[0m\n\u001b[0;32m---> 37\u001b[0;31m             \u001b[0mresult\u001b[0m \u001b[0;34m=\u001b[0m \u001b[0mbom\u001b[0m\u001b[0;34m.\u001b[0m\u001b[0mcheck_account\u001b[0m\u001b[0;34m(\u001b[0m\u001b[0maccount\u001b[0m\u001b[0;34m)\u001b[0m\u001b[0;34m\u001b[0m\u001b[0;34m\u001b[0m\u001b[0m\n\u001b[0m\u001b[1;32m     38\u001b[0m             \u001b[0mdf\u001b[0m\u001b[0;34m.\u001b[0m\u001b[0mloc\u001b[0m\u001b[0;34m[\u001b[0m\u001b[0mi\u001b[0m\u001b[0;34m,\u001b[0m \u001b[0;34m\"botometer\"\u001b[0m\u001b[0;34m]\u001b[0m \u001b[0;34m=\u001b[0m \u001b[0mstr\u001b[0m\u001b[0;34m(\u001b[0m\u001b[0mresult\u001b[0m\u001b[0;34m)\u001b[0m\u001b[0;34m\u001b[0m\u001b[0;34m\u001b[0m\u001b[0m\n\u001b[1;32m     39\u001b[0m         \u001b[0;32mexcept\u001b[0m \u001b[0mException\u001b[0m \u001b[0;32mas\u001b[0m \u001b[0me\u001b[0m\u001b[0;34m:\u001b[0m\u001b[0;34m\u001b[0m\u001b[0;34m\u001b[0m\u001b[0m\n",
      "\u001b[0;32m/opt/homebrew/Caskroom/miniforge/base/lib/python3.9/site-packages/botometer/__init__.py\u001b[0m in \u001b[0;36mcheck_account\u001b[0;34m(self, user, full_user_object)\u001b[0m\n\u001b[1;32m    131\u001b[0m \u001b[0;34m\u001b[0m\u001b[0m\n\u001b[1;32m    132\u001b[0m         \u001b[0murl\u001b[0m \u001b[0;34m=\u001b[0m \u001b[0mself\u001b[0m\u001b[0;34m.\u001b[0m\u001b[0mbom_api_path\u001b[0m\u001b[0;34m(\u001b[0m\u001b[0;34m'check_account'\u001b[0m\u001b[0;34m)\u001b[0m\u001b[0;34m\u001b[0m\u001b[0;34m\u001b[0m\u001b[0m\n\u001b[0;32m--> 133\u001b[0;31m         \u001b[0mbom_resp\u001b[0m \u001b[0;34m=\u001b[0m \u001b[0mself\u001b[0m\u001b[0;34m.\u001b[0m\u001b[0m_bom_post\u001b[0m\u001b[0;34m(\u001b[0m\u001b[0murl\u001b[0m\u001b[0;34m,\u001b[0m \u001b[0mjson\u001b[0m\u001b[0;34m=\u001b[0m\u001b[0mpayload\u001b[0m\u001b[0;34m)\u001b[0m\u001b[0;34m\u001b[0m\u001b[0;34m\u001b[0m\u001b[0m\n\u001b[0m\u001b[1;32m    134\u001b[0m         \u001b[0mbom_resp\u001b[0m\u001b[0;34m.\u001b[0m\u001b[0mraise_for_status\u001b[0m\u001b[0;34m(\u001b[0m\u001b[0;34m)\u001b[0m\u001b[0;34m\u001b[0m\u001b[0;34m\u001b[0m\u001b[0m\n\u001b[1;32m    135\u001b[0m         \u001b[0mclassification\u001b[0m \u001b[0;34m=\u001b[0m \u001b[0mbom_resp\u001b[0m\u001b[0;34m.\u001b[0m\u001b[0mjson\u001b[0m\u001b[0;34m(\u001b[0m\u001b[0;34m)\u001b[0m\u001b[0;34m\u001b[0m\u001b[0;34m\u001b[0m\u001b[0m\n",
      "\u001b[0;32m/opt/homebrew/Caskroom/miniforge/base/lib/python3.9/site-packages/botometer/__init__.py\u001b[0m in \u001b[0;36m_bom_post\u001b[0;34m(self, *args, **kwargs)\u001b[0m\n\u001b[1;32m     71\u001b[0m     \u001b[0;32mdef\u001b[0m \u001b[0m_bom_post\u001b[0m\u001b[0;34m(\u001b[0m\u001b[0mself\u001b[0m\u001b[0;34m,\u001b[0m \u001b[0;34m*\u001b[0m\u001b[0margs\u001b[0m\u001b[0;34m,\u001b[0m \u001b[0;34m**\u001b[0m\u001b[0mkwargs\u001b[0m\u001b[0;34m)\u001b[0m\u001b[0;34m:\u001b[0m\u001b[0;34m\u001b[0m\u001b[0;34m\u001b[0m\u001b[0m\n\u001b[1;32m     72\u001b[0m         \u001b[0mself\u001b[0m\u001b[0;34m.\u001b[0m\u001b[0m_add_rapidapi_header\u001b[0m\u001b[0;34m(\u001b[0m\u001b[0mkwargs\u001b[0m\u001b[0;34m)\u001b[0m\u001b[0;34m\u001b[0m\u001b[0;34m\u001b[0m\u001b[0m\n\u001b[0;32m---> 73\u001b[0;31m         \u001b[0;32mreturn\u001b[0m \u001b[0mrequests\u001b[0m\u001b[0;34m.\u001b[0m\u001b[0mpost\u001b[0m\u001b[0;34m(\u001b[0m\u001b[0;34m*\u001b[0m\u001b[0margs\u001b[0m\u001b[0;34m,\u001b[0m \u001b[0;34m**\u001b[0m\u001b[0mkwargs\u001b[0m\u001b[0;34m)\u001b[0m\u001b[0;34m\u001b[0m\u001b[0;34m\u001b[0m\u001b[0m\n\u001b[0m\u001b[1;32m     74\u001b[0m \u001b[0;34m\u001b[0m\u001b[0m\n\u001b[1;32m     75\u001b[0m     \u001b[0;32mdef\u001b[0m \u001b[0m_get_twitter_data\u001b[0m\u001b[0;34m(\u001b[0m\u001b[0mself\u001b[0m\u001b[0;34m,\u001b[0m \u001b[0muser\u001b[0m\u001b[0;34m,\u001b[0m \u001b[0mfull_user_object\u001b[0m\u001b[0;34m=\u001b[0m\u001b[0;32mFalse\u001b[0m\u001b[0;34m)\u001b[0m\u001b[0;34m:\u001b[0m\u001b[0;34m\u001b[0m\u001b[0;34m\u001b[0m\u001b[0m\n",
      "\u001b[0;32m/opt/homebrew/Caskroom/miniforge/base/lib/python3.9/site-packages/requests/api.py\u001b[0m in \u001b[0;36mpost\u001b[0;34m(url, data, json, **kwargs)\u001b[0m\n\u001b[1;32m    115\u001b[0m     \"\"\"\n\u001b[1;32m    116\u001b[0m \u001b[0;34m\u001b[0m\u001b[0m\n\u001b[0;32m--> 117\u001b[0;31m     \u001b[0;32mreturn\u001b[0m \u001b[0mrequest\u001b[0m\u001b[0;34m(\u001b[0m\u001b[0;34m'post'\u001b[0m\u001b[0;34m,\u001b[0m \u001b[0murl\u001b[0m\u001b[0;34m,\u001b[0m \u001b[0mdata\u001b[0m\u001b[0;34m=\u001b[0m\u001b[0mdata\u001b[0m\u001b[0;34m,\u001b[0m \u001b[0mjson\u001b[0m\u001b[0;34m=\u001b[0m\u001b[0mjson\u001b[0m\u001b[0;34m,\u001b[0m \u001b[0;34m**\u001b[0m\u001b[0mkwargs\u001b[0m\u001b[0;34m)\u001b[0m\u001b[0;34m\u001b[0m\u001b[0;34m\u001b[0m\u001b[0m\n\u001b[0m\u001b[1;32m    118\u001b[0m \u001b[0;34m\u001b[0m\u001b[0m\n\u001b[1;32m    119\u001b[0m \u001b[0;34m\u001b[0m\u001b[0m\n",
      "\u001b[0;32m/opt/homebrew/Caskroom/miniforge/base/lib/python3.9/site-packages/requests/api.py\u001b[0m in \u001b[0;36mrequest\u001b[0;34m(method, url, **kwargs)\u001b[0m\n\u001b[1;32m     59\u001b[0m     \u001b[0;31m# cases, and look like a memory leak in others.\u001b[0m\u001b[0;34m\u001b[0m\u001b[0;34m\u001b[0m\u001b[0m\n\u001b[1;32m     60\u001b[0m     \u001b[0;32mwith\u001b[0m \u001b[0msessions\u001b[0m\u001b[0;34m.\u001b[0m\u001b[0mSession\u001b[0m\u001b[0;34m(\u001b[0m\u001b[0;34m)\u001b[0m \u001b[0;32mas\u001b[0m \u001b[0msession\u001b[0m\u001b[0;34m:\u001b[0m\u001b[0;34m\u001b[0m\u001b[0;34m\u001b[0m\u001b[0m\n\u001b[0;32m---> 61\u001b[0;31m         \u001b[0;32mreturn\u001b[0m \u001b[0msession\u001b[0m\u001b[0;34m.\u001b[0m\u001b[0mrequest\u001b[0m\u001b[0;34m(\u001b[0m\u001b[0mmethod\u001b[0m\u001b[0;34m=\u001b[0m\u001b[0mmethod\u001b[0m\u001b[0;34m,\u001b[0m \u001b[0murl\u001b[0m\u001b[0;34m=\u001b[0m\u001b[0murl\u001b[0m\u001b[0;34m,\u001b[0m \u001b[0;34m**\u001b[0m\u001b[0mkwargs\u001b[0m\u001b[0;34m)\u001b[0m\u001b[0;34m\u001b[0m\u001b[0;34m\u001b[0m\u001b[0m\n\u001b[0m\u001b[1;32m     62\u001b[0m \u001b[0;34m\u001b[0m\u001b[0m\n\u001b[1;32m     63\u001b[0m \u001b[0;34m\u001b[0m\u001b[0m\n",
      "\u001b[0;32m/opt/homebrew/Caskroom/miniforge/base/lib/python3.9/site-packages/requests/sessions.py\u001b[0m in \u001b[0;36mrequest\u001b[0;34m(self, method, url, params, data, headers, cookies, files, auth, timeout, allow_redirects, proxies, hooks, stream, verify, cert, json)\u001b[0m\n\u001b[1;32m    527\u001b[0m         }\n\u001b[1;32m    528\u001b[0m         \u001b[0msend_kwargs\u001b[0m\u001b[0;34m.\u001b[0m\u001b[0mupdate\u001b[0m\u001b[0;34m(\u001b[0m\u001b[0msettings\u001b[0m\u001b[0;34m)\u001b[0m\u001b[0;34m\u001b[0m\u001b[0;34m\u001b[0m\u001b[0m\n\u001b[0;32m--> 529\u001b[0;31m         \u001b[0mresp\u001b[0m \u001b[0;34m=\u001b[0m \u001b[0mself\u001b[0m\u001b[0;34m.\u001b[0m\u001b[0msend\u001b[0m\u001b[0;34m(\u001b[0m\u001b[0mprep\u001b[0m\u001b[0;34m,\u001b[0m \u001b[0;34m**\u001b[0m\u001b[0msend_kwargs\u001b[0m\u001b[0;34m)\u001b[0m\u001b[0;34m\u001b[0m\u001b[0;34m\u001b[0m\u001b[0m\n\u001b[0m\u001b[1;32m    530\u001b[0m \u001b[0;34m\u001b[0m\u001b[0m\n\u001b[1;32m    531\u001b[0m         \u001b[0;32mreturn\u001b[0m \u001b[0mresp\u001b[0m\u001b[0;34m\u001b[0m\u001b[0;34m\u001b[0m\u001b[0m\n",
      "\u001b[0;32m/opt/homebrew/Caskroom/miniforge/base/lib/python3.9/site-packages/requests/sessions.py\u001b[0m in \u001b[0;36msend\u001b[0;34m(self, request, **kwargs)\u001b[0m\n\u001b[1;32m    643\u001b[0m \u001b[0;34m\u001b[0m\u001b[0m\n\u001b[1;32m    644\u001b[0m         \u001b[0;31m# Send the request\u001b[0m\u001b[0;34m\u001b[0m\u001b[0;34m\u001b[0m\u001b[0m\n\u001b[0;32m--> 645\u001b[0;31m         \u001b[0mr\u001b[0m \u001b[0;34m=\u001b[0m \u001b[0madapter\u001b[0m\u001b[0;34m.\u001b[0m\u001b[0msend\u001b[0m\u001b[0;34m(\u001b[0m\u001b[0mrequest\u001b[0m\u001b[0;34m,\u001b[0m \u001b[0;34m**\u001b[0m\u001b[0mkwargs\u001b[0m\u001b[0;34m)\u001b[0m\u001b[0;34m\u001b[0m\u001b[0;34m\u001b[0m\u001b[0m\n\u001b[0m\u001b[1;32m    646\u001b[0m \u001b[0;34m\u001b[0m\u001b[0m\n\u001b[1;32m    647\u001b[0m         \u001b[0;31m# Total elapsed time of the request (approximately)\u001b[0m\u001b[0;34m\u001b[0m\u001b[0;34m\u001b[0m\u001b[0m\n",
      "\u001b[0;32m/opt/homebrew/Caskroom/miniforge/base/lib/python3.9/site-packages/requests/adapters.py\u001b[0m in \u001b[0;36msend\u001b[0;34m(self, request, stream, timeout, verify, cert, proxies)\u001b[0m\n\u001b[1;32m    438\u001b[0m         \u001b[0;32mtry\u001b[0m\u001b[0;34m:\u001b[0m\u001b[0;34m\u001b[0m\u001b[0;34m\u001b[0m\u001b[0m\n\u001b[1;32m    439\u001b[0m             \u001b[0;32mif\u001b[0m \u001b[0;32mnot\u001b[0m \u001b[0mchunked\u001b[0m\u001b[0;34m:\u001b[0m\u001b[0;34m\u001b[0m\u001b[0;34m\u001b[0m\u001b[0m\n\u001b[0;32m--> 440\u001b[0;31m                 resp = conn.urlopen(\n\u001b[0m\u001b[1;32m    441\u001b[0m                     \u001b[0mmethod\u001b[0m\u001b[0;34m=\u001b[0m\u001b[0mrequest\u001b[0m\u001b[0;34m.\u001b[0m\u001b[0mmethod\u001b[0m\u001b[0;34m,\u001b[0m\u001b[0;34m\u001b[0m\u001b[0;34m\u001b[0m\u001b[0m\n\u001b[1;32m    442\u001b[0m                     \u001b[0murl\u001b[0m\u001b[0;34m=\u001b[0m\u001b[0murl\u001b[0m\u001b[0;34m,\u001b[0m\u001b[0;34m\u001b[0m\u001b[0;34m\u001b[0m\u001b[0m\n",
      "\u001b[0;32m/opt/homebrew/Caskroom/miniforge/base/lib/python3.9/site-packages/urllib3/connectionpool.py\u001b[0m in \u001b[0;36murlopen\u001b[0;34m(self, method, url, body, headers, retries, redirect, assert_same_host, timeout, pool_timeout, release_conn, chunked, body_pos, **response_kw)\u001b[0m\n\u001b[1;32m    697\u001b[0m \u001b[0;34m\u001b[0m\u001b[0m\n\u001b[1;32m    698\u001b[0m             \u001b[0;31m# Make the request on the httplib connection object.\u001b[0m\u001b[0;34m\u001b[0m\u001b[0;34m\u001b[0m\u001b[0m\n\u001b[0;32m--> 699\u001b[0;31m             httplib_response = self._make_request(\n\u001b[0m\u001b[1;32m    700\u001b[0m                 \u001b[0mconn\u001b[0m\u001b[0;34m,\u001b[0m\u001b[0;34m\u001b[0m\u001b[0;34m\u001b[0m\u001b[0m\n\u001b[1;32m    701\u001b[0m                 \u001b[0mmethod\u001b[0m\u001b[0;34m,\u001b[0m\u001b[0;34m\u001b[0m\u001b[0;34m\u001b[0m\u001b[0m\n",
      "\u001b[0;32m/opt/homebrew/Caskroom/miniforge/base/lib/python3.9/site-packages/urllib3/connectionpool.py\u001b[0m in \u001b[0;36m_make_request\u001b[0;34m(self, conn, method, url, timeout, chunked, **httplib_request_kw)\u001b[0m\n\u001b[1;32m    380\u001b[0m         \u001b[0;31m# Trigger any extra validation we need to do.\u001b[0m\u001b[0;34m\u001b[0m\u001b[0;34m\u001b[0m\u001b[0m\n\u001b[1;32m    381\u001b[0m         \u001b[0;32mtry\u001b[0m\u001b[0;34m:\u001b[0m\u001b[0;34m\u001b[0m\u001b[0;34m\u001b[0m\u001b[0m\n\u001b[0;32m--> 382\u001b[0;31m             \u001b[0mself\u001b[0m\u001b[0;34m.\u001b[0m\u001b[0m_validate_conn\u001b[0m\u001b[0;34m(\u001b[0m\u001b[0mconn\u001b[0m\u001b[0;34m)\u001b[0m\u001b[0;34m\u001b[0m\u001b[0;34m\u001b[0m\u001b[0m\n\u001b[0m\u001b[1;32m    383\u001b[0m         \u001b[0;32mexcept\u001b[0m \u001b[0;34m(\u001b[0m\u001b[0mSocketTimeout\u001b[0m\u001b[0;34m,\u001b[0m \u001b[0mBaseSSLError\u001b[0m\u001b[0;34m)\u001b[0m \u001b[0;32mas\u001b[0m \u001b[0me\u001b[0m\u001b[0;34m:\u001b[0m\u001b[0;34m\u001b[0m\u001b[0;34m\u001b[0m\u001b[0m\n\u001b[1;32m    384\u001b[0m             \u001b[0;31m# Py2 raises this as a BaseSSLError, Py3 raises it as socket timeout.\u001b[0m\u001b[0;34m\u001b[0m\u001b[0;34m\u001b[0m\u001b[0m\n",
      "\u001b[0;32m/opt/homebrew/Caskroom/miniforge/base/lib/python3.9/site-packages/urllib3/connectionpool.py\u001b[0m in \u001b[0;36m_validate_conn\u001b[0;34m(self, conn)\u001b[0m\n\u001b[1;32m   1008\u001b[0m         \u001b[0;31m# Force connect early to allow us to validate the connection.\u001b[0m\u001b[0;34m\u001b[0m\u001b[0;34m\u001b[0m\u001b[0m\n\u001b[1;32m   1009\u001b[0m         \u001b[0;32mif\u001b[0m \u001b[0;32mnot\u001b[0m \u001b[0mgetattr\u001b[0m\u001b[0;34m(\u001b[0m\u001b[0mconn\u001b[0m\u001b[0;34m,\u001b[0m \u001b[0;34m\"sock\"\u001b[0m\u001b[0;34m,\u001b[0m \u001b[0;32mNone\u001b[0m\u001b[0;34m)\u001b[0m\u001b[0;34m:\u001b[0m  \u001b[0;31m# AppEngine might not have  `.sock`\u001b[0m\u001b[0;34m\u001b[0m\u001b[0;34m\u001b[0m\u001b[0m\n\u001b[0;32m-> 1010\u001b[0;31m             \u001b[0mconn\u001b[0m\u001b[0;34m.\u001b[0m\u001b[0mconnect\u001b[0m\u001b[0;34m(\u001b[0m\u001b[0;34m)\u001b[0m\u001b[0;34m\u001b[0m\u001b[0;34m\u001b[0m\u001b[0m\n\u001b[0m\u001b[1;32m   1011\u001b[0m \u001b[0;34m\u001b[0m\u001b[0m\n\u001b[1;32m   1012\u001b[0m         \u001b[0;32mif\u001b[0m \u001b[0;32mnot\u001b[0m \u001b[0mconn\u001b[0m\u001b[0;34m.\u001b[0m\u001b[0mis_verified\u001b[0m\u001b[0;34m:\u001b[0m\u001b[0;34m\u001b[0m\u001b[0;34m\u001b[0m\u001b[0m\n",
      "\u001b[0;32m/opt/homebrew/Caskroom/miniforge/base/lib/python3.9/site-packages/urllib3/connection.py\u001b[0m in \u001b[0;36mconnect\u001b[0;34m(self)\u001b[0m\n\u001b[1;32m    414\u001b[0m             \u001b[0mcontext\u001b[0m\u001b[0;34m.\u001b[0m\u001b[0mload_default_certs\u001b[0m\u001b[0;34m(\u001b[0m\u001b[0;34m)\u001b[0m\u001b[0;34m\u001b[0m\u001b[0;34m\u001b[0m\u001b[0m\n\u001b[1;32m    415\u001b[0m \u001b[0;34m\u001b[0m\u001b[0m\n\u001b[0;32m--> 416\u001b[0;31m         self.sock = ssl_wrap_socket(\n\u001b[0m\u001b[1;32m    417\u001b[0m             \u001b[0msock\u001b[0m\u001b[0;34m=\u001b[0m\u001b[0mconn\u001b[0m\u001b[0;34m,\u001b[0m\u001b[0;34m\u001b[0m\u001b[0;34m\u001b[0m\u001b[0m\n\u001b[1;32m    418\u001b[0m             \u001b[0mkeyfile\u001b[0m\u001b[0;34m=\u001b[0m\u001b[0mself\u001b[0m\u001b[0;34m.\u001b[0m\u001b[0mkey_file\u001b[0m\u001b[0;34m,\u001b[0m\u001b[0;34m\u001b[0m\u001b[0;34m\u001b[0m\u001b[0m\n",
      "\u001b[0;32m/opt/homebrew/Caskroom/miniforge/base/lib/python3.9/site-packages/urllib3/util/ssl_.py\u001b[0m in \u001b[0;36mssl_wrap_socket\u001b[0;34m(sock, keyfile, certfile, cert_reqs, ca_certs, server_hostname, ssl_version, ciphers, ssl_context, ca_cert_dir, key_password, ca_cert_data, tls_in_tls)\u001b[0m\n\u001b[1;32m    447\u001b[0m \u001b[0;34m\u001b[0m\u001b[0m\n\u001b[1;32m    448\u001b[0m     \u001b[0;32mif\u001b[0m \u001b[0msend_sni\u001b[0m\u001b[0;34m:\u001b[0m\u001b[0;34m\u001b[0m\u001b[0;34m\u001b[0m\u001b[0m\n\u001b[0;32m--> 449\u001b[0;31m         ssl_sock = _ssl_wrap_socket_impl(\n\u001b[0m\u001b[1;32m    450\u001b[0m             \u001b[0msock\u001b[0m\u001b[0;34m,\u001b[0m \u001b[0mcontext\u001b[0m\u001b[0;34m,\u001b[0m \u001b[0mtls_in_tls\u001b[0m\u001b[0;34m,\u001b[0m \u001b[0mserver_hostname\u001b[0m\u001b[0;34m=\u001b[0m\u001b[0mserver_hostname\u001b[0m\u001b[0;34m\u001b[0m\u001b[0;34m\u001b[0m\u001b[0m\n\u001b[1;32m    451\u001b[0m         )\n",
      "\u001b[0;32m/opt/homebrew/Caskroom/miniforge/base/lib/python3.9/site-packages/urllib3/util/ssl_.py\u001b[0m in \u001b[0;36m_ssl_wrap_socket_impl\u001b[0;34m(sock, ssl_context, tls_in_tls, server_hostname)\u001b[0m\n\u001b[1;32m    491\u001b[0m \u001b[0;34m\u001b[0m\u001b[0m\n\u001b[1;32m    492\u001b[0m     \u001b[0;32mif\u001b[0m \u001b[0mserver_hostname\u001b[0m\u001b[0;34m:\u001b[0m\u001b[0;34m\u001b[0m\u001b[0;34m\u001b[0m\u001b[0m\n\u001b[0;32m--> 493\u001b[0;31m         \u001b[0;32mreturn\u001b[0m \u001b[0mssl_context\u001b[0m\u001b[0;34m.\u001b[0m\u001b[0mwrap_socket\u001b[0m\u001b[0;34m(\u001b[0m\u001b[0msock\u001b[0m\u001b[0;34m,\u001b[0m \u001b[0mserver_hostname\u001b[0m\u001b[0;34m=\u001b[0m\u001b[0mserver_hostname\u001b[0m\u001b[0;34m)\u001b[0m\u001b[0;34m\u001b[0m\u001b[0;34m\u001b[0m\u001b[0m\n\u001b[0m\u001b[1;32m    494\u001b[0m     \u001b[0;32melse\u001b[0m\u001b[0;34m:\u001b[0m\u001b[0;34m\u001b[0m\u001b[0;34m\u001b[0m\u001b[0m\n\u001b[1;32m    495\u001b[0m         \u001b[0;32mreturn\u001b[0m \u001b[0mssl_context\u001b[0m\u001b[0;34m.\u001b[0m\u001b[0mwrap_socket\u001b[0m\u001b[0;34m(\u001b[0m\u001b[0msock\u001b[0m\u001b[0;34m)\u001b[0m\u001b[0;34m\u001b[0m\u001b[0;34m\u001b[0m\u001b[0m\n",
      "\u001b[0;32m/opt/homebrew/Caskroom/miniforge/base/lib/python3.9/ssl.py\u001b[0m in \u001b[0;36mwrap_socket\u001b[0;34m(self, sock, server_side, do_handshake_on_connect, suppress_ragged_eofs, server_hostname, session)\u001b[0m\n\u001b[1;32m    498\u001b[0m         \u001b[0;31m# SSLSocket class handles server_hostname encoding before it calls\u001b[0m\u001b[0;34m\u001b[0m\u001b[0;34m\u001b[0m\u001b[0m\n\u001b[1;32m    499\u001b[0m         \u001b[0;31m# ctx._wrap_socket()\u001b[0m\u001b[0;34m\u001b[0m\u001b[0;34m\u001b[0m\u001b[0m\n\u001b[0;32m--> 500\u001b[0;31m         return self.sslsocket_class._create(\n\u001b[0m\u001b[1;32m    501\u001b[0m             \u001b[0msock\u001b[0m\u001b[0;34m=\u001b[0m\u001b[0msock\u001b[0m\u001b[0;34m,\u001b[0m\u001b[0;34m\u001b[0m\u001b[0;34m\u001b[0m\u001b[0m\n\u001b[1;32m    502\u001b[0m             \u001b[0mserver_side\u001b[0m\u001b[0;34m=\u001b[0m\u001b[0mserver_side\u001b[0m\u001b[0;34m,\u001b[0m\u001b[0;34m\u001b[0m\u001b[0;34m\u001b[0m\u001b[0m\n",
      "\u001b[0;32m/opt/homebrew/Caskroom/miniforge/base/lib/python3.9/ssl.py\u001b[0m in \u001b[0;36m_create\u001b[0;34m(cls, sock, server_side, do_handshake_on_connect, suppress_ragged_eofs, server_hostname, context, session)\u001b[0m\n\u001b[1;32m   1038\u001b[0m                         \u001b[0;31m# non-blocking\u001b[0m\u001b[0;34m\u001b[0m\u001b[0;34m\u001b[0m\u001b[0m\n\u001b[1;32m   1039\u001b[0m                         \u001b[0;32mraise\u001b[0m \u001b[0mValueError\u001b[0m\u001b[0;34m(\u001b[0m\u001b[0;34m\"do_handshake_on_connect should not be specified for non-blocking sockets\"\u001b[0m\u001b[0;34m)\u001b[0m\u001b[0;34m\u001b[0m\u001b[0;34m\u001b[0m\u001b[0m\n\u001b[0;32m-> 1040\u001b[0;31m                     \u001b[0mself\u001b[0m\u001b[0;34m.\u001b[0m\u001b[0mdo_handshake\u001b[0m\u001b[0;34m(\u001b[0m\u001b[0;34m)\u001b[0m\u001b[0;34m\u001b[0m\u001b[0;34m\u001b[0m\u001b[0m\n\u001b[0m\u001b[1;32m   1041\u001b[0m             \u001b[0;32mexcept\u001b[0m \u001b[0;34m(\u001b[0m\u001b[0mOSError\u001b[0m\u001b[0;34m,\u001b[0m \u001b[0mValueError\u001b[0m\u001b[0;34m)\u001b[0m\u001b[0;34m:\u001b[0m\u001b[0;34m\u001b[0m\u001b[0;34m\u001b[0m\u001b[0m\n\u001b[1;32m   1042\u001b[0m                 \u001b[0mself\u001b[0m\u001b[0;34m.\u001b[0m\u001b[0mclose\u001b[0m\u001b[0;34m(\u001b[0m\u001b[0;34m)\u001b[0m\u001b[0;34m\u001b[0m\u001b[0;34m\u001b[0m\u001b[0m\n",
      "\u001b[0;32m/opt/homebrew/Caskroom/miniforge/base/lib/python3.9/ssl.py\u001b[0m in \u001b[0;36mdo_handshake\u001b[0;34m(self, block)\u001b[0m\n\u001b[1;32m   1307\u001b[0m             \u001b[0;32mif\u001b[0m \u001b[0mtimeout\u001b[0m \u001b[0;34m==\u001b[0m \u001b[0;36m0.0\u001b[0m \u001b[0;32mand\u001b[0m \u001b[0mblock\u001b[0m\u001b[0;34m:\u001b[0m\u001b[0;34m\u001b[0m\u001b[0;34m\u001b[0m\u001b[0m\n\u001b[1;32m   1308\u001b[0m                 \u001b[0mself\u001b[0m\u001b[0;34m.\u001b[0m\u001b[0msettimeout\u001b[0m\u001b[0;34m(\u001b[0m\u001b[0;32mNone\u001b[0m\u001b[0;34m)\u001b[0m\u001b[0;34m\u001b[0m\u001b[0;34m\u001b[0m\u001b[0m\n\u001b[0;32m-> 1309\u001b[0;31m             \u001b[0mself\u001b[0m\u001b[0;34m.\u001b[0m\u001b[0m_sslobj\u001b[0m\u001b[0;34m.\u001b[0m\u001b[0mdo_handshake\u001b[0m\u001b[0;34m(\u001b[0m\u001b[0;34m)\u001b[0m\u001b[0;34m\u001b[0m\u001b[0;34m\u001b[0m\u001b[0m\n\u001b[0m\u001b[1;32m   1310\u001b[0m         \u001b[0;32mfinally\u001b[0m\u001b[0;34m:\u001b[0m\u001b[0;34m\u001b[0m\u001b[0;34m\u001b[0m\u001b[0m\n\u001b[1;32m   1311\u001b[0m             \u001b[0mself\u001b[0m\u001b[0;34m.\u001b[0m\u001b[0msettimeout\u001b[0m\u001b[0;34m(\u001b[0m\u001b[0mtimeout\u001b[0m\u001b[0;34m)\u001b[0m\u001b[0;34m\u001b[0m\u001b[0;34m\u001b[0m\u001b[0m\n",
      "\u001b[0;31mKeyboardInterrupt\u001b[0m: "
     ]
    }
   ],
   "source": [
    "import botometer\n",
    "\n",
    "rapidapi_key = \"b0dd966c59mshdf2db2daf9a121fp15f57djsn5bf9d54db4aa\"\n",
    "consumer_key, consumer_secret = \"uHktObbiyJpGoLUaENXdpUWyj\", \"DLoJ8VRhFUK4GQeo3XUP2LGaSN4D7a2mAZqSKlRQshr6N0Ru1r\"\n",
    "access_token, access_token_secret = \"4121890515-8wV0UlTyu9hFzJL9d8NBU6BY24STUtS7zFeAcel\", \"vfnDrkEUAHtVayGJDZxau18mPjG4CuyB2JW6sG0xeYFGs\"\n",
    "\n",
    "\n",
    "twitter_app_auth = {\n",
    "    'consumer_key': consumer_key, # 'sO59YfsV552iCsfLLpQTuS64T',\n",
    "    'consumer_secret': consumer_secret, #'YVGEDbcA3Mg3bTY9rwXpLAH5ATOzbmhRBZ92wuWaBfVMdiflzq',\n",
    "    'access_token': access_token, # 'AAAAAAAAAAAAAAAAAAAAAD%2FZWwEAAAAAJgG8hY2XJfmsYbbs%2Bp5BruRr8aM%3DtRxrtqs0eEhHQ9ZFE9U7tRlNnqm7oPUXeQEijSnj3RgxWgvN5l',\n",
    "    'access_token_secret': access_token_secret,\n",
    "  }\n",
    "bom = botometer.Botometer(wait_on_ratelimit=True,\n",
    "                          rapidapi_key=rapidapi_key,\n",
    "                          **twitter_app_auth)\n",
    "\n",
    "# Check a single account by screen name\n",
    "# result = bom.check_account('@clayadavis')\n",
    "\n",
    "# Check a single account by id\n",
    "# result = bom.check_account(1548959833)\n",
    "\n",
    "# Check a sequence of accounts\n",
    "# accounts = ['@clayadavis', '@onurvarol', '@jabawack']\n",
    "\n",
    "\n",
    "\n",
    "# df = pd.read_csv(\"snopes_botometer_406.csv\")\n",
    "\n",
    "accounts = df.acc_id.tolist()\n",
    "\n",
    "for i, account in tqdm(enumerate(accounts)):\n",
    "    if i > 1429:\n",
    "        print(i)\n",
    "        try:\n",
    "            result = bom.check_account(account)\n",
    "            df.loc[i, \"botometer\"] = str(result)\n",
    "        except Exception as e:\n",
    "            print(f\"Failed on account: {account}\")\n",
    "            print(e)\n",
    "            df.loc[i, \"botometer\"] = str({'code': 34, 'message': 'Sorry, that page does not exist.'})\n",
    "    \n",
    "    \n",
    "# for i, result in tqdm(enumerate(bom.check_accounts_in(accounts[407:]))):\n",
    "#     print(accounts[(407+i)])\n",
    "#     try:\n",
    "# #         snopes_acc.loc[i, \"botometer\"] = str(result[1])\n",
    "#         snopes_acc.loc[snopes_acc.acc_id.isin([result[0]]).index, \"botometer\"] = str(result[1])\n",
    "#     except Exception as e:\n",
    "#         print(e)\n",
    "#         snopes_acc.loc[snopes_acc.acc_id.isin([result[0]]).index, \"botometer\"] = None\n"
   ]
  },
  {
   "cell_type": "code",
   "execution_count": 164,
   "metadata": {},
   "outputs": [
    {
     "data": {
      "text/plain": [
       "6232"
      ]
     },
     "execution_count": 164,
     "metadata": {},
     "output_type": "execute_result"
    }
   ],
   "source": [
    "df.botometer.isna().sum()"
   ]
  },
  {
   "cell_type": "code",
   "execution_count": 167,
   "metadata": {},
   "outputs": [
    {
     "data": {
      "text/html": [
       "<div>\n",
       "<style scoped>\n",
       "    .dataframe tbody tr th:only-of-type {\n",
       "        vertical-align: middle;\n",
       "    }\n",
       "\n",
       "    .dataframe tbody tr th {\n",
       "        vertical-align: top;\n",
       "    }\n",
       "\n",
       "    .dataframe thead th {\n",
       "        text-align: right;\n",
       "    }\n",
       "</style>\n",
       "<table border=\"1\" class=\"dataframe\">\n",
       "  <thead>\n",
       "    <tr style=\"text-align: right;\">\n",
       "      <th></th>\n",
       "      <th>id</th>\n",
       "      <th>original_id</th>\n",
       "      <th>tweet_text</th>\n",
       "      <th>tweet_url</th>\n",
       "      <th>claim</th>\n",
       "      <th>rating</th>\n",
       "      <th>images</th>\n",
       "      <th>text_images</th>\n",
       "      <th>source</th>\n",
       "      <th>label</th>\n",
       "      <th>label_info</th>\n",
       "      <th>available</th>\n",
       "      <th>acc_id</th>\n",
       "      <th>botometer</th>\n",
       "    </tr>\n",
       "  </thead>\n",
       "  <tbody>\n",
       "    <tr>\n",
       "      <th>904</th>\n",
       "      <td>777593547142889472</td>\n",
       "      <td>777587316923600896</td>\n",
       "      <td>The @WSJ has different content in different lo...</td>\n",
       "      <td>https://twitter.com/POTUS/status/7775935471428...</td>\n",
       "      <td>The Wall Street Journal ran Donald Trump stori...</td>\n",
       "      <td>['https://www.snopes.com/tachyon/2018/03/ratin...</td>\n",
       "      <td>http://pbs.twimg.com/media/CsqLirWUAAACzYg.jpg</td>\n",
       "      <td>TIIE WALL STREET JOIRNAL . THE LOAFER STEPS UP...</td>\n",
       "      <td>https://www.snopes.com/fact-check/wsj-differen...</td>\n",
       "      <td>true</td>\n",
       "      <td>NaN</td>\n",
       "      <td>ok</td>\n",
       "      <td>3362345172</td>\n",
       "      <td>{'code': 34, 'message': 'Sorry, that page does...</td>\n",
       "    </tr>\n",
       "  </tbody>\n",
       "</table>\n",
       "</div>"
      ],
      "text/plain": [
       "                     id         original_id  \\\n",
       "904  777593547142889472  777587316923600896   \n",
       "\n",
       "                                            tweet_text  \\\n",
       "904  The @WSJ has different content in different lo...   \n",
       "\n",
       "                                             tweet_url  \\\n",
       "904  https://twitter.com/POTUS/status/7775935471428...   \n",
       "\n",
       "                                                 claim  \\\n",
       "904  The Wall Street Journal ran Donald Trump stori...   \n",
       "\n",
       "                                                rating  \\\n",
       "904  ['https://www.snopes.com/tachyon/2018/03/ratin...   \n",
       "\n",
       "                                             images  \\\n",
       "904  http://pbs.twimg.com/media/CsqLirWUAAACzYg.jpg   \n",
       "\n",
       "                                           text_images  \\\n",
       "904  TIIE WALL STREET JOIRNAL . THE LOAFER STEPS UP...   \n",
       "\n",
       "                                                source label  label_info  \\\n",
       "904  https://www.snopes.com/fact-check/wsj-differen...  true         NaN   \n",
       "\n",
       "    available      acc_id                                          botometer  \n",
       "904        ok  3362345172  {'code': 34, 'message': 'Sorry, that page does...  "
      ]
     },
     "execution_count": 167,
     "metadata": {},
     "output_type": "execute_result"
    }
   ],
   "source": [
    "df[df.acc_id.isin([3362345172])]"
   ]
  },
  {
   "cell_type": "code",
   "execution_count": 177,
   "metadata": {},
   "outputs": [],
   "source": [
    "df.to_csv(\"snopes_1429.csv\", index=False)"
   ]
  },
  {
   "cell_type": "code",
   "execution_count": 176,
   "metadata": {},
   "outputs": [
    {
     "data": {
      "text/html": [
       "<div>\n",
       "<style scoped>\n",
       "    .dataframe tbody tr th:only-of-type {\n",
       "        vertical-align: middle;\n",
       "    }\n",
       "\n",
       "    .dataframe tbody tr th {\n",
       "        vertical-align: top;\n",
       "    }\n",
       "\n",
       "    .dataframe thead th {\n",
       "        text-align: right;\n",
       "    }\n",
       "</style>\n",
       "<table border=\"1\" class=\"dataframe\">\n",
       "  <thead>\n",
       "    <tr style=\"text-align: right;\">\n",
       "      <th></th>\n",
       "      <th>id</th>\n",
       "      <th>original_id</th>\n",
       "      <th>tweet_text</th>\n",
       "      <th>tweet_url</th>\n",
       "      <th>claim</th>\n",
       "      <th>rating</th>\n",
       "      <th>images</th>\n",
       "      <th>text_images</th>\n",
       "      <th>source</th>\n",
       "      <th>label</th>\n",
       "      <th>label_info</th>\n",
       "      <th>available</th>\n",
       "      <th>acc_id</th>\n",
       "      <th>botometer</th>\n",
       "    </tr>\n",
       "  </thead>\n",
       "  <tbody>\n",
       "    <tr>\n",
       "      <th>1425</th>\n",
       "      <td>796767812899442688</td>\n",
       "      <td>796754893654458369</td>\n",
       "      <td>America elects a bigot. Yes, yes we did. Twice...</td>\n",
       "      <td>https://twitter.com/POTUS/status/7967678128994...</td>\n",
       "      <td>A list collect passages about racism taken fro...</td>\n",
       "      <td>['https://www.snopes.com/tachyon/2018/03/ratin...</td>\n",
       "      <td>http://pbs.twimg.com/media/Cw6kWbSVQAAREdT.jpg</td>\n",
       "      <td>W / needed to Cl will stand with the Muslims s...</td>\n",
       "      <td>https://www.snopes.com/fact-check/coil-of-rage/</td>\n",
       "      <td>mixture</td>\n",
       "      <td>NaN</td>\n",
       "      <td>ok</td>\n",
       "      <td>608471241</td>\n",
       "      <td>{'cap': {'english': 0.4479465575931997, 'unive...</td>\n",
       "    </tr>\n",
       "    <tr>\n",
       "      <th>1426</th>\n",
       "      <td>999261116826963970</td>\n",
       "      <td>796764638532829184</td>\n",
       "      <td>Mencken was lucky to not have to witness his o...</td>\n",
       "      <td>https://twitter.com/POTUS/status/9992611168269...</td>\n",
       "      <td>H. L. Mencken wrote that eventually \"the White...</td>\n",
       "      <td>['https://www.snopes.com/tachyon/2018/03/ratin...</td>\n",
       "      <td>http://pbs.twimg.com/media/Cw6tExEUQAAffib.jpg</td>\n",
       "      <td>\" As democracy is perfected , the office of th...</td>\n",
       "      <td>https://www.snopes.com/fact-check/mencken-whit...</td>\n",
       "      <td>correctly-attributed</td>\n",
       "      <td>NaN</td>\n",
       "      <td>ok</td>\n",
       "      <td>144714008</td>\n",
       "      <td>{'cap': {'english': 0.0, 'universal': 0.0}, 'd...</td>\n",
       "    </tr>\n",
       "    <tr>\n",
       "      <th>1427</th>\n",
       "      <td>796788699791065088</td>\n",
       "      <td>796787828323651584</td>\n",
       "      <td>Did you or someone you know write in #Harambe ...</td>\n",
       "      <td>https://twitter.com/POTUS/status/7967886997910...</td>\n",
       "      <td>A dead gorilla named Harambe received 15,000 v...</td>\n",
       "      <td>['https://www.snopes.com/tachyon/2018/03/ratin...</td>\n",
       "      <td>http://pbs.twimg.com/media/Cw7AselXcAAbc18.jpg</td>\n",
       "      <td>NaN</td>\n",
       "      <td>https://www.snopes.com/fact-check/harambe-1500...</td>\n",
       "      <td>false</td>\n",
       "      <td>NaN</td>\n",
       "      <td>ok</td>\n",
       "      <td>14095883</td>\n",
       "      <td>{'cap': {'english': 0.796599114745521, 'univer...</td>\n",
       "    </tr>\n",
       "    <tr>\n",
       "      <th>1428</th>\n",
       "      <td>797224378790531072</td>\n",
       "      <td>796796927404806145</td>\n",
       "      <td>Mike Pence is a monster. https://t.co/JzKiBq01CS</td>\n",
       "      <td>https://twitter.com/POTUS/status/7972243787905...</td>\n",
       "      <td>Mike Pence said that if abortion were allowed ...</td>\n",
       "      <td>['https://www.snopes.com/tachyon/2018/03/ratin...</td>\n",
       "      <td>['http://pbs.twimg.com/media/Cw7KktSUQAAF2hB.j...</td>\n",
       "      <td>['VICTORY MIKE PENCE ON LGBT RIGHTS Opposes ma...</td>\n",
       "      <td>https://www.snopes.com/fact-check/mike-pence-a...</td>\n",
       "      <td>false</td>\n",
       "      <td>NaN</td>\n",
       "      <td>ok</td>\n",
       "      <td>614317418</td>\n",
       "      <td>{'cap': {'english': 0.4479465575931997, 'unive...</td>\n",
       "    </tr>\n",
       "    <tr>\n",
       "      <th>1429</th>\n",
       "      <td>796843699271593984</td>\n",
       "      <td>796826202056986624</td>\n",
       "      <td>To @nbcdays fans of #WillHorton, #SonnyKiriaki...</td>\n",
       "      <td>https://twitter.com/POTUS/status/7968436992715...</td>\n",
       "      <td>Mike Pence supported \"gay conversion\" therapy,...</td>\n",
       "      <td>['https://www.snopes.com/tachyon/2018/03/ratin...</td>\n",
       "      <td>http://pbs.twimg.com/media/Cw7lM4NUcAAkbuH.jpg</td>\n",
       "      <td>REMINDER : Mike Pence is a proponent of gay co...</td>\n",
       "      <td>https://www.snopes.com/fact-check/mike-pence-s...</td>\n",
       "      <td>mixture</td>\n",
       "      <td>NaN</td>\n",
       "      <td>ok</td>\n",
       "      <td>129691151</td>\n",
       "      <td>{'cap': {'english': 0.2787259978325127, 'unive...</td>\n",
       "    </tr>\n",
       "    <tr>\n",
       "      <th>1430</th>\n",
       "      <td>796908244476317696</td>\n",
       "      <td>796838939977981953</td>\n",
       "      <td>\"What are you even protesting against?\" https:...</td>\n",
       "      <td>https://twitter.com/POTUS/status/7969082444763...</td>\n",
       "      <td>Donald Trump said, \"Laziness is a trait in bla...</td>\n",
       "      <td>['https://www.snopes.com/tachyon/2018/03/ratin...</td>\n",
       "      <td>['http://pbs.twimg.com/media/Cw7wyB0W8AApHi6.j...</td>\n",
       "      <td>['\" LAZINESS ISA TRAIT IN BLACKS . I REALLY BE...</td>\n",
       "      <td>https://www.snopes.com/fact-check/trump-lazine...</td>\n",
       "      <td>mixture</td>\n",
       "      <td>NaN</td>\n",
       "      <td>ok</td>\n",
       "      <td>205487789</td>\n",
       "      <td>{'code': 34, 'message': 'Sorry, that page does...</td>\n",
       "    </tr>\n",
       "    <tr>\n",
       "      <th>1431</th>\n",
       "      <td>796963044505059328</td>\n",
       "      <td>796853896450867203</td>\n",
       "      <td>@evilhag @YahooTV Hillary  and Bill Clinton at...</td>\n",
       "      <td>https://twitter.com/POTUS/status/7969630445050...</td>\n",
       "      <td>A photograph shows Hillary Clinton in blackfac...</td>\n",
       "      <td>['https://www.snopes.com/tachyon/2018/03/ratin...</td>\n",
       "      <td>http://pbs.twimg.com/media/Cw7-ZM1UQAAnGqA.jpg</td>\n",
       "      <td>THE DEMOCRATS AREN'T GOING TO LIKE THIS ONE ! ...</td>\n",
       "      <td>https://www.snopes.com/fact-check/hillary-clin...</td>\n",
       "      <td>false</td>\n",
       "      <td>NaN</td>\n",
       "      <td>ok</td>\n",
       "      <td>1126215390</td>\n",
       "      <td>{'code': 34, 'message': 'Sorry, that page does...</td>\n",
       "    </tr>\n",
       "    <tr>\n",
       "      <th>1432</th>\n",
       "      <td>796862589921804289</td>\n",
       "      <td>796853907242840064</td>\n",
       "      <td>@bydefault @GeorgeTakei Ok, I'll go one for on...</td>\n",
       "      <td>https://twitter.com/POTUS/status/7968625899218...</td>\n",
       "      <td>Photograph shows Donald Trump supporters weari...</td>\n",
       "      <td>['https://www.snopes.com/tachyon/2018/03/ratin...</td>\n",
       "      <td>http://pbs.twimg.com/media/Cw7-ZfZWIAE-dKV.jpg</td>\n",
       "      <td>NaN</td>\n",
       "      <td>https://www.snopes.com/fact-check/make-america...</td>\n",
       "      <td>false</td>\n",
       "      <td>NaN</td>\n",
       "      <td>ok</td>\n",
       "      <td>759892186229985280</td>\n",
       "      <td>{'code': 34, 'message': 'Sorry, that page does...</td>\n",
       "    </tr>\n",
       "    <tr>\n",
       "      <th>1433</th>\n",
       "      <td>796855761234173953</td>\n",
       "      <td>796854855746908160</td>\n",
       "      <td>@JoeDude42 @CarlaSaysHi @tooblondexp @TheWorld...</td>\n",
       "      <td>https://twitter.com/POTUS/status/7968557612341...</td>\n",
       "      <td>A white man was beaten by a group of black peo...</td>\n",
       "      <td>['https://www.snopes.com/tachyon/2018/03/ratin...</td>\n",
       "      <td>http://pbs.twimg.com/media/Cw7_Q5AUAAAKG3Q.jpg</td>\n",
       "      <td>AT &amp; T 5:19 PM dailywire.com DAILY WIRE Get re...</td>\n",
       "      <td>https://www.snopes.com/fact-check/black-mob-be...</td>\n",
       "      <td>mixture</td>\n",
       "      <td>NaN</td>\n",
       "      <td>missing</td>\n",
       "      <td>3167935228</td>\n",
       "      <td>{'code': 34, 'message': 'Sorry, that page does...</td>\n",
       "    </tr>\n",
       "    <tr>\n",
       "      <th>1434</th>\n",
       "      <td>798355519584907264</td>\n",
       "      <td>796858064628543492</td>\n",
       "      <td>Interesting how #liberals and #democrats calli...</td>\n",
       "      <td>https://twitter.com/POTUS/status/7983555195849...</td>\n",
       "      <td>George Soros said that he funded the Black Liv...</td>\n",
       "      <td>['https://www.snopes.com/tachyon/2018/03/ratin...</td>\n",
       "      <td>['http://pbs.twimg.com/media/Cw8CI7AWQAAZATZ.j...</td>\n",
       "      <td>['November 2014 Ferguson Riots \" l built that ...</td>\n",
       "      <td>https://www.snopes.com/fact-check/george-soros...</td>\n",
       "      <td>false</td>\n",
       "      <td>NaN</td>\n",
       "      <td>ok</td>\n",
       "      <td>107012365</td>\n",
       "      <td>{'code': 34, 'message': 'Sorry, that page does...</td>\n",
       "    </tr>\n",
       "  </tbody>\n",
       "</table>\n",
       "</div>"
      ],
      "text/plain": [
       "                      id         original_id  \\\n",
       "1425  796767812899442688  796754893654458369   \n",
       "1426  999261116826963970  796764638532829184   \n",
       "1427  796788699791065088  796787828323651584   \n",
       "1428  797224378790531072  796796927404806145   \n",
       "1429  796843699271593984  796826202056986624   \n",
       "1430  796908244476317696  796838939977981953   \n",
       "1431  796963044505059328  796853896450867203   \n",
       "1432  796862589921804289  796853907242840064   \n",
       "1433  796855761234173953  796854855746908160   \n",
       "1434  798355519584907264  796858064628543492   \n",
       "\n",
       "                                             tweet_text  \\\n",
       "1425  America elects a bigot. Yes, yes we did. Twice...   \n",
       "1426  Mencken was lucky to not have to witness his o...   \n",
       "1427  Did you or someone you know write in #Harambe ...   \n",
       "1428   Mike Pence is a monster. https://t.co/JzKiBq01CS   \n",
       "1429  To @nbcdays fans of #WillHorton, #SonnyKiriaki...   \n",
       "1430  \"What are you even protesting against?\" https:...   \n",
       "1431  @evilhag @YahooTV Hillary  and Bill Clinton at...   \n",
       "1432  @bydefault @GeorgeTakei Ok, I'll go one for on...   \n",
       "1433  @JoeDude42 @CarlaSaysHi @tooblondexp @TheWorld...   \n",
       "1434  Interesting how #liberals and #democrats calli...   \n",
       "\n",
       "                                              tweet_url  \\\n",
       "1425  https://twitter.com/POTUS/status/7967678128994...   \n",
       "1426  https://twitter.com/POTUS/status/9992611168269...   \n",
       "1427  https://twitter.com/POTUS/status/7967886997910...   \n",
       "1428  https://twitter.com/POTUS/status/7972243787905...   \n",
       "1429  https://twitter.com/POTUS/status/7968436992715...   \n",
       "1430  https://twitter.com/POTUS/status/7969082444763...   \n",
       "1431  https://twitter.com/POTUS/status/7969630445050...   \n",
       "1432  https://twitter.com/POTUS/status/7968625899218...   \n",
       "1433  https://twitter.com/POTUS/status/7968557612341...   \n",
       "1434  https://twitter.com/POTUS/status/7983555195849...   \n",
       "\n",
       "                                                  claim  \\\n",
       "1425  A list collect passages about racism taken fro...   \n",
       "1426  H. L. Mencken wrote that eventually \"the White...   \n",
       "1427  A dead gorilla named Harambe received 15,000 v...   \n",
       "1428  Mike Pence said that if abortion were allowed ...   \n",
       "1429  Mike Pence supported \"gay conversion\" therapy,...   \n",
       "1430  Donald Trump said, \"Laziness is a trait in bla...   \n",
       "1431  A photograph shows Hillary Clinton in blackfac...   \n",
       "1432  Photograph shows Donald Trump supporters weari...   \n",
       "1433  A white man was beaten by a group of black peo...   \n",
       "1434  George Soros said that he funded the Black Liv...   \n",
       "\n",
       "                                                 rating  \\\n",
       "1425  ['https://www.snopes.com/tachyon/2018/03/ratin...   \n",
       "1426  ['https://www.snopes.com/tachyon/2018/03/ratin...   \n",
       "1427  ['https://www.snopes.com/tachyon/2018/03/ratin...   \n",
       "1428  ['https://www.snopes.com/tachyon/2018/03/ratin...   \n",
       "1429  ['https://www.snopes.com/tachyon/2018/03/ratin...   \n",
       "1430  ['https://www.snopes.com/tachyon/2018/03/ratin...   \n",
       "1431  ['https://www.snopes.com/tachyon/2018/03/ratin...   \n",
       "1432  ['https://www.snopes.com/tachyon/2018/03/ratin...   \n",
       "1433  ['https://www.snopes.com/tachyon/2018/03/ratin...   \n",
       "1434  ['https://www.snopes.com/tachyon/2018/03/ratin...   \n",
       "\n",
       "                                                 images  \\\n",
       "1425     http://pbs.twimg.com/media/Cw6kWbSVQAAREdT.jpg   \n",
       "1426     http://pbs.twimg.com/media/Cw6tExEUQAAffib.jpg   \n",
       "1427     http://pbs.twimg.com/media/Cw7AselXcAAbc18.jpg   \n",
       "1428  ['http://pbs.twimg.com/media/Cw7KktSUQAAF2hB.j...   \n",
       "1429     http://pbs.twimg.com/media/Cw7lM4NUcAAkbuH.jpg   \n",
       "1430  ['http://pbs.twimg.com/media/Cw7wyB0W8AApHi6.j...   \n",
       "1431     http://pbs.twimg.com/media/Cw7-ZM1UQAAnGqA.jpg   \n",
       "1432     http://pbs.twimg.com/media/Cw7-ZfZWIAE-dKV.jpg   \n",
       "1433     http://pbs.twimg.com/media/Cw7_Q5AUAAAKG3Q.jpg   \n",
       "1434  ['http://pbs.twimg.com/media/Cw8CI7AWQAAZATZ.j...   \n",
       "\n",
       "                                            text_images  \\\n",
       "1425  W / needed to Cl will stand with the Muslims s...   \n",
       "1426  \" As democracy is perfected , the office of th...   \n",
       "1427                                                NaN   \n",
       "1428  ['VICTORY MIKE PENCE ON LGBT RIGHTS Opposes ma...   \n",
       "1429  REMINDER : Mike Pence is a proponent of gay co...   \n",
       "1430  ['\" LAZINESS ISA TRAIT IN BLACKS . I REALLY BE...   \n",
       "1431  THE DEMOCRATS AREN'T GOING TO LIKE THIS ONE ! ...   \n",
       "1432                                                NaN   \n",
       "1433  AT & T 5:19 PM dailywire.com DAILY WIRE Get re...   \n",
       "1434  ['November 2014 Ferguson Riots \" l built that ...   \n",
       "\n",
       "                                                 source                 label  \\\n",
       "1425    https://www.snopes.com/fact-check/coil-of-rage/               mixture   \n",
       "1426  https://www.snopes.com/fact-check/mencken-whit...  correctly-attributed   \n",
       "1427  https://www.snopes.com/fact-check/harambe-1500...                 false   \n",
       "1428  https://www.snopes.com/fact-check/mike-pence-a...                 false   \n",
       "1429  https://www.snopes.com/fact-check/mike-pence-s...               mixture   \n",
       "1430  https://www.snopes.com/fact-check/trump-lazine...               mixture   \n",
       "1431  https://www.snopes.com/fact-check/hillary-clin...                 false   \n",
       "1432  https://www.snopes.com/fact-check/make-america...                 false   \n",
       "1433  https://www.snopes.com/fact-check/black-mob-be...               mixture   \n",
       "1434  https://www.snopes.com/fact-check/george-soros...                 false   \n",
       "\n",
       "      label_info available              acc_id  \\\n",
       "1425         NaN        ok           608471241   \n",
       "1426         NaN        ok           144714008   \n",
       "1427         NaN        ok            14095883   \n",
       "1428         NaN        ok           614317418   \n",
       "1429         NaN        ok           129691151   \n",
       "1430         NaN        ok           205487789   \n",
       "1431         NaN        ok          1126215390   \n",
       "1432         NaN        ok  759892186229985280   \n",
       "1433         NaN   missing          3167935228   \n",
       "1434         NaN        ok           107012365   \n",
       "\n",
       "                                              botometer  \n",
       "1425  {'cap': {'english': 0.4479465575931997, 'unive...  \n",
       "1426  {'cap': {'english': 0.0, 'universal': 0.0}, 'd...  \n",
       "1427  {'cap': {'english': 0.796599114745521, 'univer...  \n",
       "1428  {'cap': {'english': 0.4479465575931997, 'unive...  \n",
       "1429  {'cap': {'english': 0.2787259978325127, 'unive...  \n",
       "1430  {'code': 34, 'message': 'Sorry, that page does...  \n",
       "1431  {'code': 34, 'message': 'Sorry, that page does...  \n",
       "1432  {'code': 34, 'message': 'Sorry, that page does...  \n",
       "1433  {'code': 34, 'message': 'Sorry, that page does...  \n",
       "1434  {'code': 34, 'message': 'Sorry, that page does...  "
      ]
     },
     "execution_count": 176,
     "metadata": {},
     "output_type": "execute_result"
    }
   ],
   "source": [
    "df.iloc[1425:1435]"
   ]
  },
  {
   "cell_type": "code",
   "execution_count": 122,
   "metadata": {},
   "outputs": [
    {
     "data": {
      "text/plain": [
       "9300262"
      ]
     },
     "execution_count": 122,
     "metadata": {},
     "output_type": "execute_result"
    }
   ],
   "source": [
    "accounts[407]"
   ]
  },
  {
   "cell_type": "code",
   "execution_count": 120,
   "metadata": {},
   "outputs": [
    {
     "data": {
      "text/plain": [
       "584177882"
      ]
     },
     "execution_count": 120,
     "metadata": {},
     "output_type": "execute_result"
    }
   ],
   "source": [
    "snopes_acc.loc[406].acc_id"
   ]
  },
  {
   "cell_type": "code",
   "execution_count": 125,
   "metadata": {},
   "outputs": [
    {
     "data": {
      "text/plain": [
       "[9300262,\n",
       " 721185346797572096,\n",
       " 67899097,\n",
       " 2499109494,\n",
       " 2796929687,\n",
       " 292929271,\n",
       " 2269567158,\n",
       " 2393098723,\n",
       " 709920419529281536,\n",
       " 4784596178,\n",
       " 4236806414,\n",
       " 494624290,\n",
       " 561654065,\n",
       " 1599141961,\n",
       " 17860906,\n",
       " 2839030037,\n",
       " 4226960114,\n",
       " 743688372460216320,\n",
       " 118496889,\n",
       " 2915156131,\n",
       " 166329578,\n",
       " 4676548814,\n",
       " 4197546072,\n",
       " 88494677,\n",
       " 608471241,\n",
       " 608471241,\n",
       " 325164172,\n",
       " 26672170,\n",
       " 177584156,\n",
       " 2801177472,\n",
       " 95995039,\n",
       " 126009130,\n",
       " 126009130,\n",
       " 399774230,\n",
       " 972255098,\n",
       " 1917731,\n",
       " 65854394,\n",
       " 741589503102570496,\n",
       " 1917731,\n",
       " 2244290719,\n",
       " 701655880920510464,\n",
       " 2793194082,\n",
       " 18301196,\n",
       " 1496756359,\n",
       " 430118889,\n",
       " 15164565,\n",
       " 3697285157,\n",
       " 2923563766,\n",
       " 2923563766,\n",
       " 1375629385,\n",
       " 1325018372,\n",
       " 25975551,\n",
       " 22722452,\n",
       " 374284455,\n",
       " 49035775,\n",
       " 48421473,\n",
       " 428713002,\n",
       " 3407847574,\n",
       " 18545481,\n",
       " 15164565,\n",
       " 47652227,\n",
       " 78523300,\n",
       " 361275163,\n",
       " 495622651,\n",
       " 19098324,\n",
       " 421275603,\n",
       " 177584156,\n",
       " 361275163,\n",
       " 28905454,\n",
       " 15164565,\n",
       " 4429709805,\n",
       " 1496756359,\n",
       " 766797410,\n",
       " 15164565,\n",
       " 548172120,\n",
       " 2241227238,\n",
       " 15164565,\n",
       " 30456403,\n",
       " 248692627,\n",
       " 28048355,\n",
       " 18545481,\n",
       " 1917731,\n",
       " 138742761,\n",
       " 289118612,\n",
       " 15706904,\n",
       " 865636782,\n",
       " 2291904432,\n",
       " 3103091745,\n",
       " 3047937393,\n",
       " 167796615,\n",
       " 14511951,\n",
       " 49452556,\n",
       " 3974665634,\n",
       " 1018491630,\n",
       " 537904539,\n",
       " 2374469136,\n",
       " 3433022621,\n",
       " 585465795,\n",
       " 2883533651,\n",
       " 16955991,\n",
       " 547969112,\n",
       " 272114651,\n",
       " 936148682,\n",
       " 728635523816775680,\n",
       " 547969112,\n",
       " 67899097,\n",
       " 547969112,\n",
       " 3047377314,\n",
       " 759179340307243008,\n",
       " 1367531,\n",
       " 361275163,\n",
       " 399717630,\n",
       " 9369062,\n",
       " 762252876,\n",
       " 582135529,\n",
       " 851866178,\n",
       " 608471241,\n",
       " 331825712,\n",
       " 733808069440741376,\n",
       " 3995778614,\n",
       " 3390416469,\n",
       " 1367531,\n",
       " 754135908,\n",
       " 890302164,\n",
       " 81602176,\n",
       " 728979362775638016,\n",
       " 553998793,\n",
       " 157054921,\n",
       " 2255424079,\n",
       " 547969112,\n",
       " 2875990472,\n",
       " 2316246829,\n",
       " 758313715695427584,\n",
       " 758313715695427584,\n",
       " 25446957,\n",
       " 86963075,\n",
       " 715357604961263616,\n",
       " 140638292,\n",
       " 2801177472,\n",
       " 2801177472,\n",
       " 1976799128,\n",
       " 421460415,\n",
       " 2775579278,\n",
       " 3974665634,\n",
       " 1482516500,\n",
       " 750399805851963392,\n",
       " 43413425,\n",
       " 43308598,\n",
       " 3066008697,\n",
       " 18195110,\n",
       " 40246348,\n",
       " 2793800587,\n",
       " 802722056,\n",
       " 43308598,\n",
       " 402985469,\n",
       " 4897543230,\n",
       " 865538113,\n",
       " 2972410695,\n",
       " 2998466930,\n",
       " 4182512297,\n",
       " 30067748,\n",
       " 71359942,\n",
       " 277090518,\n",
       " 65003619,\n",
       " 753806066052235264,\n",
       " 705333567543504896,\n",
       " 2998441830,\n",
       " 3308110350,\n",
       " 4796678896,\n",
       " 2441304533,\n",
       " 561654065,\n",
       " 3034834939,\n",
       " 261035490,\n",
       " 4851276082,\n",
       " 370513594,\n",
       " 15854008,\n",
       " 2226870793,\n",
       " 971176056,\n",
       " 4240150034,\n",
       " 561654065,\n",
       " 332433520,\n",
       " 2416597188,\n",
       " 2416597188,\n",
       " 17094311,\n",
       " 543452426,\n",
       " 4846395737,\n",
       " 3220025137,\n",
       " 753753493622628352,\n",
       " 18002528,\n",
       " 16444868,\n",
       " 3433002136,\n",
       " 743651896578060288,\n",
       " 21833728,\n",
       " 50010587,\n",
       " 835328618,\n",
       " 297457814,\n",
       " 620872388,\n",
       " 3139537490,\n",
       " 60370335,\n",
       " 1225818590,\n",
       " 234841289,\n",
       " 2891102076,\n",
       " 702174406739685376,\n",
       " 57912099,\n",
       " 732445833682018304,\n",
       " 732445833682018304,\n",
       " 2904671027,\n",
       " 322674930,\n",
       " 65003619,\n",
       " 4543053312,\n",
       " 42158021,\n",
       " 279208035,\n",
       " 180511021,\n",
       " 311241090,\n",
       " 15359578,\n",
       " 20826129,\n",
       " 4700477725,\n",
       " 371142734,\n",
       " 24638062,\n",
       " 45291573,\n",
       " 552410408,\n",
       " 20295763,\n",
       " 1564676498,\n",
       " 17343602,\n",
       " 552983877,\n",
       " 18561223,\n",
       " 14787713,\n",
       " 1568498256,\n",
       " 752493806,\n",
       " 516093774,\n",
       " 28905454,\n",
       " 2747259456,\n",
       " 224268822,\n",
       " 17232340,\n",
       " 3359243787,\n",
       " 75974281,\n",
       " 233933230,\n",
       " 233933230,\n",
       " 479068816,\n",
       " 2892976359,\n",
       " 19908848,\n",
       " 4237277387,\n",
       " 3359243787,\n",
       " 284104234,\n",
       " 3592503441,\n",
       " 905530344,\n",
       " 19899980,\n",
       " 600061917,\n",
       " 221452291,\n",
       " 4765012532,\n",
       " 15671833,\n",
       " 1530853626,\n",
       " 24395228,\n",
       " 343171160,\n",
       " 2908170952,\n",
       " 251913645,\n",
       " 709920419529281536,\n",
       " 431198790,\n",
       " 90285099,\n",
       " 2299826742,\n",
       " 142077688,\n",
       " 1213274119,\n",
       " 608471241,\n",
       " 561654065,\n",
       " 15368940,\n",
       " 2740452163,\n",
       " 25446957,\n",
       " 70773048,\n",
       " 706176697440276480,\n",
       " 759251,\n",
       " 50881405,\n",
       " 1356123823,\n",
       " 716260246109483008,\n",
       " 3202808548,\n",
       " 150059501,\n",
       " 565008398,\n",
       " 56192739,\n",
       " 751095331408973824,\n",
       " 2900220088,\n",
       " 1652687708,\n",
       " 704034081898668032,\n",
       " 37315032,\n",
       " 632171886,\n",
       " 124199238,\n",
       " 3589464580,\n",
       " 542962969,\n",
       " 2421067430,\n",
       " 704363061013057536,\n",
       " 2910776820,\n",
       " 1096411117,\n",
       " 3124454195,\n",
       " 4760647532,\n",
       " 38367188,\n",
       " 605448008,\n",
       " 83788240,\n",
       " 374284455,\n",
       " 22798141,\n",
       " 2818206308,\n",
       " 2382281029,\n",
       " 415256606,\n",
       " 1966026648,\n",
       " 893470729,\n",
       " 2953422203,\n",
       " 167363471,\n",
       " 291874773,\n",
       " 44103717,\n",
       " 28670599,\n",
       " 739567626511388672,\n",
       " 200656602,\n",
       " 31801993,\n",
       " 703230673776197632,\n",
       " 146928495,\n",
       " 729096352676782080,\n",
       " 1643634444,\n",
       " 246377722,\n",
       " 3407847574,\n",
       " 21845346,\n",
       " 385075625,\n",
       " 29465136,\n",
       " 13148382,\n",
       " 4851276082,\n",
       " 3416492723,\n",
       " 3359243787,\n",
       " 9611592,\n",
       " 739080916610342912,\n",
       " 34367582,\n",
       " 28007091,\n",
       " 3124454195,\n",
       " 26579739,\n",
       " 76373,\n",
       " 758049168690642944,\n",
       " 963176808,\n",
       " 19193016,\n",
       " 3381686297,\n",
       " 93493910,\n",
       " 3313143320,\n",
       " 2610081858,\n",
       " 4646073148,\n",
       " 344729527,\n",
       " 32951070,\n",
       " 37013920,\n",
       " 23116280,\n",
       " 25197377,\n",
       " 33228837,\n",
       " 4242905298,\n",
       " 18637247,\n",
       " 714949505720823808,\n",
       " 872954089,\n",
       " 437352926,\n",
       " 23004495,\n",
       " 4361249533,\n",
       " 156377910,\n",
       " 4452560741,\n",
       " 273951517,\n",
       " 264493607,\n",
       " 760130823374843904,\n",
       " 118845216,\n",
       " 232333397,\n",
       " 414873541,\n",
       " 3723723982,\n",
       " 824391878,\n",
       " 450213974,\n",
       " 890302164,\n",
       " 29059784,\n",
       " 709144993,\n",
       " 15104164,\n",
       " 289118612,\n",
       " 3314963469,\n",
       " 21833728,\n",
       " 796261392,\n",
       " 227010728,\n",
       " 196109220,\n",
       " 582414351,\n",
       " 340968277,\n",
       " 1969346438,\n",
       " 13804112,\n",
       " 739567626511388672,\n",
       " 835328618,\n",
       " 164523117,\n",
       " 446228264,\n",
       " 39344374,\n",
       " 757749684580519936,\n",
       " 515542297,\n",
       " 41265813,\n",
       " 78523300,\n",
       " 18643437,\n",
       " 232201971,\n",
       " 801071388,\n",
       " 3539755636,\n",
       " 1367531,\n",
       " 1564676498,\n",
       " 4901489212,\n",
       " 704034081898668032,\n",
       " 22630309,\n",
       " 46520074,\n",
       " 17895820,\n",
       " 14412533,\n",
       " 1917731,\n",
       " 1080576949,\n",
       " 492833134,\n",
       " 65132037,\n",
       " 1735546184,\n",
       " 765091605472698368,\n",
       " 743142244706848768,\n",
       " 107012365,\n",
       " 237623215,\n",
       " 865187658,\n",
       " 621110318,\n",
       " 25197377,\n",
       " 739567626511388672,\n",
       " 1462579488,\n",
       " 430905373,\n",
       " 20854637,\n",
       " 25832979,\n",
       " 1200713864,\n",
       " 758809594936238080,\n",
       " 758809594936238080,\n",
       " 374284455,\n",
       " 25197377,\n",
       " 172394944,\n",
       " 910332056,\n",
       " 34163521,\n",
       " 1537048512,\n",
       " 715650695647637504,\n",
       " 1513958744,\n",
       " 727578244841639936,\n",
       " 713832622808412160,\n",
       " 4855687055,\n",
       " 3558102739,\n",
       " 695365245376696320,\n",
       " 28869089,\n",
       " 54065567,\n",
       " 54065567,\n",
       " 746367431388585984,\n",
       " 746367431388585984,\n",
       " 3166217539,\n",
       " 3329997245,\n",
       " 765091605472698368,\n",
       " 317223956,\n",
       " 1849938847,\n",
       " 1148951203,\n",
       " 138581916,\n",
       " 2953617710,\n",
       " 49685124,\n",
       " 169536421,\n",
       " 3124454195,\n",
       " 2830167800,\n",
       " 141642957,\n",
       " 710829502843064320,\n",
       " 30265457,\n",
       " 561654065,\n",
       " 16887175,\n",
       " 730786518848159744,\n",
       " 22677397,\n",
       " 2353703503,\n",
       " 21248626,\n",
       " 17395207,\n",
       " 144130505,\n",
       " 17529294,\n",
       " 52801677,\n",
       " 742923442471763968,\n",
       " 3697721113,\n",
       " 2584482763,\n",
       " 20944649,\n",
       " 773520163396325376,\n",
       " 20889358,\n",
       " 67095221,\n",
       " 767036004,\n",
       " 765091605472698368,\n",
       " 176914461,\n",
       " 78569026,\n",
       " 331747494,\n",
       " 2316246829,\n",
       " 361275163,\n",
       " 2364837974,\n",
       " 1242465014,\n",
       " 289118612,\n",
       " 568143078,\n",
       " 758313715695427584,\n",
       " 18195110,\n",
       " 765091605472698368,\n",
       " 1289704663,\n",
       " 754086125917106176,\n",
       " 1371572360,\n",
       " 769297227957141504,\n",
       " 3610264154,\n",
       " 27211961,\n",
       " 723387344175296512,\n",
       " 151375368,\n",
       " 767587128524013568,\n",
       " 35677844,\n",
       " 936304345,\n",
       " 19195442,\n",
       " 744281884310405120,\n",
       " 3389134989,\n",
       " 3019417439,\n",
       " 10735392,\n",
       " 3362345172,\n",
       " 33388399,\n",
       " 341688336,\n",
       " 231641765,\n",
       " 3394911915,\n",
       " 2902031256,\n",
       " 3297022953,\n",
       " 455288410,\n",
       " 219815601,\n",
       " 374284455,\n",
       " 2684196134,\n",
       " 865636782,\n",
       " 126009130,\n",
       " 126009130,\n",
       " 126009130,\n",
       " 126009130,\n",
       " 126009130,\n",
       " 126009130,\n",
       " 126009130,\n",
       " 126009130,\n",
       " 126009130,\n",
       " 126009130,\n",
       " 126009130,\n",
       " 126009130,\n",
       " 126009130,\n",
       " 126009130,\n",
       " 126009130,\n",
       " 126009130,\n",
       " 126009130,\n",
       " 126009130,\n",
       " 126009130,\n",
       " 325893346,\n",
       " 126009130,\n",
       " 126009130,\n",
       " 126009130,\n",
       " 126009130,\n",
       " 126009130,\n",
       " 126009130,\n",
       " 126009130,\n",
       " 126009130,\n",
       " 18132806,\n",
       " 3057650044,\n",
       " 972651,\n",
       " 865636782,\n",
       " 1353347065,\n",
       " 767587128524013568,\n",
       " 3686488635,\n",
       " 3002739417,\n",
       " 1183779272,\n",
       " 1309391066,\n",
       " 4334047641,\n",
       " 42371615,\n",
       " 3930608896,\n",
       " 21773704,\n",
       " 399774230,\n",
       " 758076297876602880,\n",
       " 2911587582,\n",
       " 735624304050593792,\n",
       " 4240150034,\n",
       " 16674128,\n",
       " 14441020,\n",
       " 30265457,\n",
       " 1326707346,\n",
       " 908933376,\n",
       " 124185033,\n",
       " 2451462137,\n",
       " 2417586104,\n",
       " 2344571893,\n",
       " 3340267793,\n",
       " 902851051,\n",
       " 1339835893,\n",
       " 36196526,\n",
       " 6563122,\n",
       " 4345493055,\n",
       " 1851877248,\n",
       " 90573210,\n",
       " 118845216,\n",
       " 172032623,\n",
       " 2786693552,\n",
       " 755726522,\n",
       " 2788642796,\n",
       " 340660967,\n",
       " 22141405,\n",
       " 4194141941,\n",
       " 115772421,\n",
       " 22714413,\n",
       " 97082147,\n",
       " 63514682,\n",
       " 1027392638,\n",
       " 259509924,\n",
       " 762658215850971136,\n",
       " 214112621,\n",
       " 15511737,\n",
       " 758313715695427584,\n",
       " 20065936,\n",
       " 704795920433414144,\n",
       " 116949923,\n",
       " 4922951833,\n",
       " 2959654959,\n",
       " 27680579,\n",
       " 167411983,\n",
       " 3253946096,\n",
       " 102569776,\n",
       " 1220140158,\n",
       " 704034081898668032,\n",
       " 704743208044118016,\n",
       " 2220165991,\n",
       " 5514192,\n",
       " 567823476,\n",
       " 1419413276,\n",
       " 3229949515,\n",
       " 4236806414,\n",
       " 123699851,\n",
       " 3220025137,\n",
       " 3416492723,\n",
       " 33529092,\n",
       " 181249422,\n",
       " 3050742101,\n",
       " 2333546774,\n",
       " 14511951,\n",
       " 3411313300,\n",
       " 1917731,\n",
       " 741998561689251840,\n",
       " 237845487,\n",
       " 23398898,\n",
       " 246939630,\n",
       " 2836421,\n",
       " 38955690,\n",
       " 19847765,\n",
       " 2525675331,\n",
       " 18643437,\n",
       " 257797355,\n",
       " 3290191140,\n",
       " 2891459376,\n",
       " 3434574681,\n",
       " 16589206,\n",
       " 2220656158,\n",
       " 48101103,\n",
       " 48101103,\n",
       " 48101103,\n",
       " 48101103,\n",
       " 48101103,\n",
       " 718571477772075008,\n",
       " 18643437,\n",
       " 18643437,\n",
       " 37690914,\n",
       " 49318764,\n",
       " 534516052,\n",
       " 754720098393272320,\n",
       " 4087647976,\n",
       " 2670627368,\n",
       " 767587128524013568,\n",
       " 1332367184,\n",
       " 107012365,\n",
       " 16910746,\n",
       " 1159026354,\n",
       " 48101103,\n",
       " 709036196941459456,\n",
       " 18154797,\n",
       " 11912362,\n",
       " 746413996304015360,\n",
       " 500243950,\n",
       " 14093404,\n",
       " 4551929255,\n",
       " 3784467913,\n",
       " 236657980,\n",
       " 101298165,\n",
       " 714949505720823808,\n",
       " 4273837226,\n",
       " 2562270259,\n",
       " 39308549,\n",
       " 2917559867,\n",
       " 737602729,\n",
       " 4236806414,\n",
       " 3096393734,\n",
       " 85990330,\n",
       " 770759270,\n",
       " 149679293,\n",
       " 380285402,\n",
       " 756880499881103360,\n",
       " 1640929196,\n",
       " 371142734,\n",
       " 242618658,\n",
       " 2391736411,\n",
       " 634242289,\n",
       " 744920442,\n",
       " 18787733,\n",
       " 2386693961,\n",
       " 3756112462,\n",
       " 2349012840,\n",
       " 741977462028926976,\n",
       " 20849008,\n",
       " 1653051,\n",
       " 39000115,\n",
       " 253940881,\n",
       " 289118612,\n",
       " 4182138315,\n",
       " 2203686183,\n",
       " 14792263,\n",
       " 289118612,\n",
       " 61526430,\n",
       " 108713959,\n",
       " 2601795218,\n",
       " 741334289376116736,\n",
       " 2262908824,\n",
       " 2902031256,\n",
       " 534567942,\n",
       " 118845216,\n",
       " 16589206,\n",
       " 762750852247396352,\n",
       " 745514486631542784,\n",
       " 756897488657715200,\n",
       " 3253885297,\n",
       " 492833134,\n",
       " 3096964498,\n",
       " 757214917036474368,\n",
       " 3328878194,\n",
       " 88237533,\n",
       " 18787733,\n",
       " 40164923,\n",
       " 16589206,\n",
       " 1652541,\n",
       " 44688778,\n",
       " 3818784613,\n",
       " 74913349,\n",
       " 78523300,\n",
       " 144001050,\n",
       " 769633840356728832,\n",
       " 40164923,\n",
       " 2649507198,\n",
       " 731240208952262656,\n",
       " 3384693167,\n",
       " 296610784,\n",
       " 18787733,\n",
       " 562261824,\n",
       " 462487731,\n",
       " 765357788,\n",
       " 104914594,\n",
       " 14000592,\n",
       " 118845216,\n",
       " 480435113,\n",
       " 3338779876,\n",
       " 197662233,\n",
       " 61008839,\n",
       " 841039189,\n",
       " 2840452198,\n",
       " 2840452198,\n",
       " 67899097,\n",
       " 52136185,\n",
       " 730141801881853952,\n",
       " 18787733,\n",
       " 500154514,\n",
       " 2575717004,\n",
       " 1141094348,\n",
       " 2776376446,\n",
       " 608389155,\n",
       " 4846395737,\n",
       " 2416597188,\n",
       " 1027632134,\n",
       " 118845216,\n",
       " 3974665634,\n",
       " 197496309,\n",
       " 17965340,\n",
       " 4663625910,\n",
       " 218325695,\n",
       " 18787733,\n",
       " 931286316,\n",
       " 2801177472,\n",
       " 19575451,\n",
       " 518009192,\n",
       " 825952160,\n",
       " 347627434,\n",
       " 1344787579,\n",
       " 951008132,\n",
       " 227333373,\n",
       " 21091954,\n",
       " 718592022,\n",
       " 3974665634,\n",
       " 3324042441,\n",
       " 4810747934,\n",
       " 367452068,\n",
       " 1375629385,\n",
       " 3578921292,\n",
       " 2345831796,\n",
       " 207040407,\n",
       " 3288598806,\n",
       " 52989817,\n",
       " 61526430,\n",
       " 60783724,\n",
       " 188095835,\n",
       " 775374224034783232,\n",
       " 19802846,\n",
       " 2517972111,\n",
       " 459735022,\n",
       " 67899097,\n",
       " 41747308,\n",
       " 14511951,\n",
       " 2236655070,\n",
       " 170357723,\n",
       " 14185814,\n",
       " 443924415,\n",
       " 1921995883,\n",
       " 126009130,\n",
       " 1524518970,\n",
       " 1375629385,\n",
       " 27688800,\n",
       " 751447878711869440,\n",
       " 213678006,\n",
       " 3308560736,\n",
       " 774140462370127872,\n",
       " 1528941756,\n",
       " 292508851,\n",
       " 3903052998,\n",
       " 116384038,\n",
       " 2845849081,\n",
       " 18545481,\n",
       " 785629978738032640,\n",
       " 82447359,\n",
       " 3000673803,\n",
       " 550222026,\n",
       " 3222909799,\n",
       " 15513604,\n",
       " 788146803669512192,\n",
       " 1713036884,\n",
       " 250492272,\n",
       " 1917731,\n",
       " 1367531,\n",
       " 25446957,\n",
       " 3091373190,\n",
       " 371142734,\n",
       " 931286316,\n",
       " 2469824234,\n",
       " 14575708,\n",
       " 263069137,\n",
       " 362977781,\n",
       " 2902031256,\n",
       " 791949967824793600,\n",
       " 254117355,\n",
       " 28785486,\n",
       " 707246777515245568,\n",
       " 250736021,\n",
       " 4825764434,\n",
       " 5695632,\n",
       " 262277370,\n",
       " 72761654,\n",
       " 28785486,\n",
       " 1149979224,\n",
       " 181249422,\n",
       " 1301720724,\n",
       " 84491326,\n",
       " 921376165,\n",
       " 111216929,\n",
       " 22953032,\n",
       " 3381686297,\n",
       " 97942529,\n",
       " 1655493013,\n",
       " 748608249910419456,\n",
       " 1238328264,\n",
       " 788998587011043328,\n",
       " 118845216,\n",
       " 714128911823724544,\n",
       " 79593630,\n",
       " 4261318354,\n",
       " 757255733704548352,\n",
       " 706201477300297728,\n",
       " 387948805,\n",
       " 17784660,\n",
       " 65166471,\n",
       " 25939719,\n",
       " 4181620034,\n",
       " 33416495,\n",
       " 580252446,\n",
       " 749958546004054016,\n",
       " 749958546004054016,\n",
       " 368555136,\n",
       " 146646613,\n",
       " 729582066,\n",
       " 4757535874,\n",
       " 69004966,\n",
       " 39246283,\n",
       " 33930094,\n",
       " 469708044,\n",
       " 3974665634,\n",
       " 1339835893,\n",
       " 2902031256,\n",
       " 63528313,\n",
       " 303892169,\n",
       " 3309654696,\n",
       " 15315465,\n",
       " 34900333,\n",
       " 15164565,\n",
       " 1459916354,\n",
       " 3684208045,\n",
       " 44696944,\n",
       " 776565331007381504,\n",
       " 4070021129,\n",
       " 2703114008,\n",
       " 2750334224,\n",
       " 1033798970,\n",
       " 2750334224,\n",
       " 63485337,\n",
       " 733093128081661952,\n",
       " 746093922494058496,\n",
       " 210424042,\n",
       " 22630309,\n",
       " 2196378314,\n",
       " 57314318,\n",
       " 956163518,\n",
       " 48967685,\n",
       " 347627434,\n",
       " 1520324371,\n",
       " 288656545,\n",
       " 3193055477,\n",
       " 2374469136,\n",
       " 1676285761,\n",
       " 4855687055,\n",
       " 1367531,\n",
       " 2975936339,\n",
       " 3195345898,\n",
       " 16589206,\n",
       " 3338568554,\n",
       " 16589206,\n",
       " 3371241641,\n",
       " 321774180,\n",
       " 781252299507142656,\n",
       " 729709984217337856,\n",
       " 779126152774299648,\n",
       " 130254817,\n",
       " 169536421,\n",
       " 128429068,\n",
       " 4840244240,\n",
       " 91882544,\n",
       " 716371621380890624,\n",
       " 743576222228185088,\n",
       " 724253317577236480,\n",
       " 435564722,\n",
       " 328741551,\n",
       " 65455370,\n",
       " 50769180,\n",
       " 50769180,\n",
       " 492833134,\n",
       " 785578193604317184,\n",
       " 86403191,\n",
       " 774486797606907904,\n",
       " 2896866728,\n",
       " 729523218218766336,\n",
       " 3359000590,\n",
       " 1655766132,\n",
       " 33529092,\n",
       " 96648433,\n",
       " 726405146788290560,\n",
       " 786670304903004160,\n",
       " 561654065,\n",
       " 19377400,\n",
       " 4849413012,\n",
       " 3408847582,\n",
       " 2556605767,\n",
       " 1065869268,\n",
       " 774074669230071808,\n",
       " 1065869268,\n",
       " 362200757,\n",
       " 4851343726,\n",
       " 33605130,\n",
       " 20982772,\n",
       " 1499268588,\n",
       " 547969112,\n",
       " 739664413330804736,\n",
       " 20675681,\n",
       " 954124423,\n",
       " 3102351219,\n",
       " 127182036,\n",
       " 259332340,\n",
       " 13831292,\n",
       " 443605395,\n",
       " 1682330258,\n",
       " 788010267649183744,\n",
       " 30946469,\n",
       " 14464961,\n",
       " 744920442,\n",
       " 33932623,\n",
       " 3339557473,\n",
       " 3269661906,\n",
       " 278770435,\n",
       " 778276054909812736,\n",
       " 2971891547,\n",
       " 726319466951237632,\n",
       " 81611744,\n",
       " 2517972111,\n",
       " 3221413128,\n",
       " 185838958,\n",
       " 766445003128377344,\n",
       " 366355851,\n",
       " 582402433,\n",
       " 2355662572,\n",
       " 2884891245,\n",
       " 176464757,\n",
       " 2183756121,\n",
       " 463232547,\n",
       " 200616013,\n",
       " 619158246,\n",
       " 213801320,\n",
       " 1444300153,\n",
       " 564702484,\n",
       " ...]"
      ]
     },
     "execution_count": 125,
     "metadata": {},
     "output_type": "execute_result"
    }
   ],
   "source": [
    "accounts[407:]"
   ]
  },
  {
   "cell_type": "code",
   "execution_count": 123,
   "metadata": {},
   "outputs": [
    {
     "data": {
      "text/plain": [
       "id                                            758193276151222272\n",
       "original_id                                   758190213973872640\n",
       "tweet_text     Bill O'Reilly: Slaves who built White House we...\n",
       "tweet_url      https://twitter.com/POTUS/status/7581932761512...\n",
       "claim               The White House was built using slave labor.\n",
       "rating         ['https://www.snopes.com/tachyon/2018/03/ratin...\n",
       "images            http://pbs.twimg.com/media/CoWh-nhXEAA3jp1.jpg\n",
       "text_images                                                  NaN\n",
       "source         https://www.snopes.com/fact-check/was-the-whit...\n",
       "label                                            mostly-true-new\n",
       "label_info                                                   NaN\n",
       "available                                                     ok\n",
       "acc_id                                                   9300262\n",
       "botometer                                                       \n",
       "Name: 407, dtype: object"
      ]
     },
     "execution_count": 123,
     "metadata": {},
     "output_type": "execute_result"
    }
   ],
   "source": [
    "snopes_acc.loc[407]"
   ]
  },
  {
   "cell_type": "code",
   "execution_count": 112,
   "metadata": {},
   "outputs": [],
   "source": [
    "snopes_acc.to_csv(\"snopes_botometer_406.csv\", index=False)"
   ]
  },
  {
   "cell_type": "code",
   "execution_count": 111,
   "metadata": {},
   "outputs": [
    {
     "data": {
      "text/html": [
       "<div>\n",
       "<style scoped>\n",
       "    .dataframe tbody tr th:only-of-type {\n",
       "        vertical-align: middle;\n",
       "    }\n",
       "\n",
       "    .dataframe tbody tr th {\n",
       "        vertical-align: top;\n",
       "    }\n",
       "\n",
       "    .dataframe thead th {\n",
       "        text-align: right;\n",
       "    }\n",
       "</style>\n",
       "<table border=\"1\" class=\"dataframe\">\n",
       "  <thead>\n",
       "    <tr style=\"text-align: right;\">\n",
       "      <th></th>\n",
       "      <th>id</th>\n",
       "      <th>original_id</th>\n",
       "      <th>tweet_text</th>\n",
       "      <th>tweet_url</th>\n",
       "      <th>claim</th>\n",
       "      <th>rating</th>\n",
       "      <th>images</th>\n",
       "      <th>text_images</th>\n",
       "      <th>source</th>\n",
       "      <th>label</th>\n",
       "      <th>label_info</th>\n",
       "      <th>available</th>\n",
       "      <th>acc_id</th>\n",
       "      <th>botometer</th>\n",
       "    </tr>\n",
       "  </thead>\n",
       "  <tbody>\n",
       "    <tr>\n",
       "      <th>0</th>\n",
       "      <td>1000037356836093953</td>\n",
       "      <td>1000023322481086466</td>\n",
       "      <td>Brave men died to keep us free. Radicals want ...</td>\n",
       "      <td>https://twitter.com/POTUS/status/1000037356836...</td>\n",
       "      <td>Liberals were offended by a World War I memori...</td>\n",
       "      <td>['https://www.snopes.com/tachyon/2018/03/ratin...</td>\n",
       "      <td>http://pbs.twimg.com/media/DeDL5a-XkAI7Hlw.jpg</td>\n",
       "      <td>#DontTearMeDown IRSTLIBERT . ORG DontTearMeDow...</td>\n",
       "      <td>https://www.snopes.com/fact-check/liberals-dem...</td>\n",
       "      <td>mixture</td>\n",
       "      <td>NaN</td>\n",
       "      <td>ok</td>\n",
       "      <td>3981225735</td>\n",
       "      <td>{'cap': {'english': 0.7759887465100499, 'unive...</td>\n",
       "    </tr>\n",
       "    <tr>\n",
       "      <th>1</th>\n",
       "      <td>1000098833798389760</td>\n",
       "      <td>1000059879682342912</td>\n",
       "      <td>“Stand for the National Anthem or be punished”...</td>\n",
       "      <td>https://twitter.com/POTUS/status/1000098833798...</td>\n",
       "      <td>A German football club was banned from playing...</td>\n",
       "      <td>['https://www.snopes.com/tachyon/2018/03/ratin...</td>\n",
       "      <td>http://pbs.twimg.com/media/DeDtKIRVAAA4kPm.jpg</td>\n",
       "      <td>FAILED TO GIVE NAZI SALUTE . German Football C...</td>\n",
       "      <td>https://www.snopes.com/fact-check/german-footb...</td>\n",
       "      <td>mostly-true-new</td>\n",
       "      <td>NaN</td>\n",
       "      <td>ok</td>\n",
       "      <td>1924071992</td>\n",
       "      <td>{'cap': {'english': 0.7759887465100499, 'unive...</td>\n",
       "    </tr>\n",
       "    <tr>\n",
       "      <th>2</th>\n",
       "      <td>1000158804795781120</td>\n",
       "      <td>1000073920760791040</td>\n",
       "      <td>@Humancipator35 @buddydusty @davidhogg111 🙌🏼 R...</td>\n",
       "      <td>https://twitter.com/POTUS/status/1000158804795...</td>\n",
       "      <td>Emma Gonz lez, a survivor of the Parkland scho...</td>\n",
       "      <td>['https://www.snopes.com/tachyon/2018/03/ratin...</td>\n",
       "      <td>http://pbs.twimg.com/media/DeD57XMV4AAUG4k.jpg</td>\n",
       "      <td>NaN</td>\n",
       "      <td>https://www.snopes.com/fact-check/emma-gonzale...</td>\n",
       "      <td>false</td>\n",
       "      <td>NaN</td>\n",
       "      <td>auth</td>\n",
       "      <td>924224208</td>\n",
       "      <td>{'cap': {'english': 0.30618807248975083, 'univ...</td>\n",
       "    </tr>\n",
       "    <tr>\n",
       "      <th>3</th>\n",
       "      <td>1000175568241872897</td>\n",
       "      <td>1000174645973315586</td>\n",
       "      <td>Just sayin'  #NFL https://t.co/70tFG5ieMC</td>\n",
       "      <td>https://twitter.com/POTUS/status/1000175568241...</td>\n",
       "      <td>A German football club was banned from playing...</td>\n",
       "      <td>['https://www.snopes.com/tachyon/2018/03/ratin...</td>\n",
       "      <td>http://pbs.twimg.com/media/DeFVdDlUwAA17qS.jpg</td>\n",
       "      <td>FAILED TO GIVE NAZI SALUTE . German Football C...</td>\n",
       "      <td>https://www.snopes.com/fact-check/german-footb...</td>\n",
       "      <td>mostly-true-new</td>\n",
       "      <td>NaN</td>\n",
       "      <td>auth</td>\n",
       "      <td>170735298</td>\n",
       "      <td>{'cap': {'english': 0.6763619064808265, 'unive...</td>\n",
       "    </tr>\n",
       "    <tr>\n",
       "      <th>4</th>\n",
       "      <td>1000438777792344067</td>\n",
       "      <td>1000191784797040640</td>\n",
       "      <td>Those who do not learn from history are doomed...</td>\n",
       "      <td>https://twitter.com/POTUS/status/1000438777792...</td>\n",
       "      <td>A German football club was banned from playing...</td>\n",
       "      <td>['https://www.snopes.com/tachyon/2018/03/ratin...</td>\n",
       "      <td>http://pbs.twimg.com/media/DeFkp5eU0AA2aLJ.jpg</td>\n",
       "      <td>pnting n the wo \" ' t WHY to win . nbor mu t n...</td>\n",
       "      <td>https://www.snopes.com/fact-check/german-footb...</td>\n",
       "      <td>mostly-true-new</td>\n",
       "      <td>NaN</td>\n",
       "      <td>ok</td>\n",
       "      <td>115563859</td>\n",
       "      <td>{'cap': {'english': 0.7668769621923945, 'unive...</td>\n",
       "    </tr>\n",
       "    <tr>\n",
       "      <th>...</th>\n",
       "      <td>...</td>\n",
       "      <td>...</td>\n",
       "      <td>...</td>\n",
       "      <td>...</td>\n",
       "      <td>...</td>\n",
       "      <td>...</td>\n",
       "      <td>...</td>\n",
       "      <td>...</td>\n",
       "      <td>...</td>\n",
       "      <td>...</td>\n",
       "      <td>...</td>\n",
       "      <td>...</td>\n",
       "      <td>...</td>\n",
       "      <td>...</td>\n",
       "    </tr>\n",
       "    <tr>\n",
       "      <th>6971</th>\n",
       "      <td>1000095067887910917</td>\n",
       "      <td>999866405687209984</td>\n",
       "      <td>History repeating itself with @realDonaldTrump...</td>\n",
       "      <td>https://twitter.com/POTUS/status/1000095067887...</td>\n",
       "      <td>A German football club was banned from playing...</td>\n",
       "      <td>['https://www.snopes.com/tachyon/2018/03/ratin...</td>\n",
       "      <td>http://pbs.twimg.com/media/DeA9KrlVwAEHtPB.jpg</td>\n",
       "      <td>FAILED TO GIVE NAZI SALUTE . German Football C...</td>\n",
       "      <td>https://www.snopes.com/fact-check/german-footb...</td>\n",
       "      <td>mostly-true-new</td>\n",
       "      <td>NaN</td>\n",
       "      <td>ok</td>\n",
       "      <td>550658726</td>\n",
       "      <td></td>\n",
       "    </tr>\n",
       "    <tr>\n",
       "      <th>6972</th>\n",
       "      <td>1000146882428096512</td>\n",
       "      <td>999903412425711616</td>\n",
       "      <td>I picked this up from someone here. Its🙄🤨🙄 wor...</td>\n",
       "      <td>https://twitter.com/POTUS/status/1000146882428...</td>\n",
       "      <td>A German football club was banned from playing...</td>\n",
       "      <td>['https://www.snopes.com/tachyon/2018/03/ratin...</td>\n",
       "      <td>http://pbs.twimg.com/media/DeBe1X5VAAI-Zhh.jpg</td>\n",
       "      <td>FAILED TO GIVE NAZI SALUTE . German Football C...</td>\n",
       "      <td>https://www.snopes.com/fact-check/german-footb...</td>\n",
       "      <td>mostly-true-new</td>\n",
       "      <td>NaN</td>\n",
       "      <td>ok</td>\n",
       "      <td>91743765</td>\n",
       "      <td></td>\n",
       "    </tr>\n",
       "    <tr>\n",
       "      <th>6973</th>\n",
       "      <td>1000018438184734720</td>\n",
       "      <td>999961946932723713</td>\n",
       "      <td>Trump is a criminal, a gangster using criminal...</td>\n",
       "      <td>https://twitter.com/POTUS/status/1000018438184...</td>\n",
       "      <td>Notorious mobster Al Capone demanded an inquir...</td>\n",
       "      <td>['https://www.snopes.com/tachyon/2018/03/ratin...</td>\n",
       "      <td>http://pbs.twimg.com/media/DeCUF2ZV4AAMm0Z.jpg</td>\n",
       "      <td>Ci ) icago Sunday Cribune INAL 17 . Capone Dem...</td>\n",
       "      <td>https://www.snopes.com/fact-check/did-al-capon...</td>\n",
       "      <td>false</td>\n",
       "      <td>NaN</td>\n",
       "      <td>missing</td>\n",
       "      <td>881682896607600640</td>\n",
       "      <td></td>\n",
       "    </tr>\n",
       "    <tr>\n",
       "      <th>6974</th>\n",
       "      <td>999992400725585920</td>\n",
       "      <td>999962442141782016</td>\n",
       "      <td>@VP @NFL @POTUS The only thing that’s #Winning...</td>\n",
       "      <td>https://twitter.com/POTUS/status/9999924007255...</td>\n",
       "      <td>Baseball players in the 1950s were caught on c...</td>\n",
       "      <td>['https://www.snopes.com/tachyon/2018/03/ratin...</td>\n",
       "      <td>http://pbs.twimg.com/media/DeCUiW3VwAAQbyx.jpg</td>\n",
       "      <td>White Baseball Players Kneel in the 50 ' s to ...</td>\n",
       "      <td>https://www.snopes.com/fact-check/baseball-pla...</td>\n",
       "      <td>false</td>\n",
       "      <td>NaN</td>\n",
       "      <td>auth</td>\n",
       "      <td>115748564</td>\n",
       "      <td></td>\n",
       "    </tr>\n",
       "    <tr>\n",
       "      <th>6975</th>\n",
       "      <td>1000035228679852032</td>\n",
       "      <td>999973815655518213</td>\n",
       "      <td>@mjfree Sports has been used as a means of pro...</td>\n",
       "      <td>https://twitter.com/POTUS/status/1000035228679...</td>\n",
       "      <td>Baseball players in the 1950s were caught on c...</td>\n",
       "      <td>['https://www.snopes.com/tachyon/2018/03/ratin...</td>\n",
       "      <td>http://pbs.twimg.com/media/DeCejk4WkAMruuM.jpg</td>\n",
       "      <td>White Baseball Players Kneel in the 50 ' s to ...</td>\n",
       "      <td>https://www.snopes.com/fact-check/baseball-pla...</td>\n",
       "      <td>false</td>\n",
       "      <td>NaN</td>\n",
       "      <td>ok</td>\n",
       "      <td>518227176</td>\n",
       "      <td></td>\n",
       "    </tr>\n",
       "  </tbody>\n",
       "</table>\n",
       "<p>6976 rows × 14 columns</p>\n",
       "</div>"
      ],
      "text/plain": [
       "                       id          original_id  \\\n",
       "0     1000037356836093953  1000023322481086466   \n",
       "1     1000098833798389760  1000059879682342912   \n",
       "2     1000158804795781120  1000073920760791040   \n",
       "3     1000175568241872897  1000174645973315586   \n",
       "4     1000438777792344067  1000191784797040640   \n",
       "...                   ...                  ...   \n",
       "6971  1000095067887910917   999866405687209984   \n",
       "6972  1000146882428096512   999903412425711616   \n",
       "6973  1000018438184734720   999961946932723713   \n",
       "6974   999992400725585920   999962442141782016   \n",
       "6975  1000035228679852032   999973815655518213   \n",
       "\n",
       "                                             tweet_text  \\\n",
       "0     Brave men died to keep us free. Radicals want ...   \n",
       "1     “Stand for the National Anthem or be punished”...   \n",
       "2     @Humancipator35 @buddydusty @davidhogg111 🙌🏼 R...   \n",
       "3             Just sayin'  #NFL https://t.co/70tFG5ieMC   \n",
       "4     Those who do not learn from history are doomed...   \n",
       "...                                                 ...   \n",
       "6971  History repeating itself with @realDonaldTrump...   \n",
       "6972  I picked this up from someone here. Its🙄🤨🙄 wor...   \n",
       "6973  Trump is a criminal, a gangster using criminal...   \n",
       "6974  @VP @NFL @POTUS The only thing that’s #Winning...   \n",
       "6975  @mjfree Sports has been used as a means of pro...   \n",
       "\n",
       "                                              tweet_url  \\\n",
       "0     https://twitter.com/POTUS/status/1000037356836...   \n",
       "1     https://twitter.com/POTUS/status/1000098833798...   \n",
       "2     https://twitter.com/POTUS/status/1000158804795...   \n",
       "3     https://twitter.com/POTUS/status/1000175568241...   \n",
       "4     https://twitter.com/POTUS/status/1000438777792...   \n",
       "...                                                 ...   \n",
       "6971  https://twitter.com/POTUS/status/1000095067887...   \n",
       "6972  https://twitter.com/POTUS/status/1000146882428...   \n",
       "6973  https://twitter.com/POTUS/status/1000018438184...   \n",
       "6974  https://twitter.com/POTUS/status/9999924007255...   \n",
       "6975  https://twitter.com/POTUS/status/1000035228679...   \n",
       "\n",
       "                                                  claim  \\\n",
       "0     Liberals were offended by a World War I memori...   \n",
       "1     A German football club was banned from playing...   \n",
       "2     Emma Gonz lez, a survivor of the Parkland scho...   \n",
       "3     A German football club was banned from playing...   \n",
       "4     A German football club was banned from playing...   \n",
       "...                                                 ...   \n",
       "6971  A German football club was banned from playing...   \n",
       "6972  A German football club was banned from playing...   \n",
       "6973  Notorious mobster Al Capone demanded an inquir...   \n",
       "6974  Baseball players in the 1950s were caught on c...   \n",
       "6975  Baseball players in the 1950s were caught on c...   \n",
       "\n",
       "                                                 rating  \\\n",
       "0     ['https://www.snopes.com/tachyon/2018/03/ratin...   \n",
       "1     ['https://www.snopes.com/tachyon/2018/03/ratin...   \n",
       "2     ['https://www.snopes.com/tachyon/2018/03/ratin...   \n",
       "3     ['https://www.snopes.com/tachyon/2018/03/ratin...   \n",
       "4     ['https://www.snopes.com/tachyon/2018/03/ratin...   \n",
       "...                                                 ...   \n",
       "6971  ['https://www.snopes.com/tachyon/2018/03/ratin...   \n",
       "6972  ['https://www.snopes.com/tachyon/2018/03/ratin...   \n",
       "6973  ['https://www.snopes.com/tachyon/2018/03/ratin...   \n",
       "6974  ['https://www.snopes.com/tachyon/2018/03/ratin...   \n",
       "6975  ['https://www.snopes.com/tachyon/2018/03/ratin...   \n",
       "\n",
       "                                              images  \\\n",
       "0     http://pbs.twimg.com/media/DeDL5a-XkAI7Hlw.jpg   \n",
       "1     http://pbs.twimg.com/media/DeDtKIRVAAA4kPm.jpg   \n",
       "2     http://pbs.twimg.com/media/DeD57XMV4AAUG4k.jpg   \n",
       "3     http://pbs.twimg.com/media/DeFVdDlUwAA17qS.jpg   \n",
       "4     http://pbs.twimg.com/media/DeFkp5eU0AA2aLJ.jpg   \n",
       "...                                              ...   \n",
       "6971  http://pbs.twimg.com/media/DeA9KrlVwAEHtPB.jpg   \n",
       "6972  http://pbs.twimg.com/media/DeBe1X5VAAI-Zhh.jpg   \n",
       "6973  http://pbs.twimg.com/media/DeCUF2ZV4AAMm0Z.jpg   \n",
       "6974  http://pbs.twimg.com/media/DeCUiW3VwAAQbyx.jpg   \n",
       "6975  http://pbs.twimg.com/media/DeCejk4WkAMruuM.jpg   \n",
       "\n",
       "                                            text_images  \\\n",
       "0     #DontTearMeDown IRSTLIBERT . ORG DontTearMeDow...   \n",
       "1     FAILED TO GIVE NAZI SALUTE . German Football C...   \n",
       "2                                                   NaN   \n",
       "3     FAILED TO GIVE NAZI SALUTE . German Football C...   \n",
       "4     pnting n the wo \" ' t WHY to win . nbor mu t n...   \n",
       "...                                                 ...   \n",
       "6971  FAILED TO GIVE NAZI SALUTE . German Football C...   \n",
       "6972  FAILED TO GIVE NAZI SALUTE . German Football C...   \n",
       "6973  Ci ) icago Sunday Cribune INAL 17 . Capone Dem...   \n",
       "6974  White Baseball Players Kneel in the 50 ' s to ...   \n",
       "6975  White Baseball Players Kneel in the 50 ' s to ...   \n",
       "\n",
       "                                                 source            label  \\\n",
       "0     https://www.snopes.com/fact-check/liberals-dem...          mixture   \n",
       "1     https://www.snopes.com/fact-check/german-footb...  mostly-true-new   \n",
       "2     https://www.snopes.com/fact-check/emma-gonzale...            false   \n",
       "3     https://www.snopes.com/fact-check/german-footb...  mostly-true-new   \n",
       "4     https://www.snopes.com/fact-check/german-footb...  mostly-true-new   \n",
       "...                                                 ...              ...   \n",
       "6971  https://www.snopes.com/fact-check/german-footb...  mostly-true-new   \n",
       "6972  https://www.snopes.com/fact-check/german-footb...  mostly-true-new   \n",
       "6973  https://www.snopes.com/fact-check/did-al-capon...            false   \n",
       "6974  https://www.snopes.com/fact-check/baseball-pla...            false   \n",
       "6975  https://www.snopes.com/fact-check/baseball-pla...            false   \n",
       "\n",
       "      label_info available              acc_id  \\\n",
       "0            NaN        ok          3981225735   \n",
       "1            NaN        ok          1924071992   \n",
       "2            NaN      auth           924224208   \n",
       "3            NaN      auth           170735298   \n",
       "4            NaN        ok           115563859   \n",
       "...          ...       ...                 ...   \n",
       "6971         NaN        ok           550658726   \n",
       "6972         NaN        ok            91743765   \n",
       "6973         NaN   missing  881682896607600640   \n",
       "6974         NaN      auth           115748564   \n",
       "6975         NaN        ok           518227176   \n",
       "\n",
       "                                              botometer  \n",
       "0     {'cap': {'english': 0.7759887465100499, 'unive...  \n",
       "1     {'cap': {'english': 0.7759887465100499, 'unive...  \n",
       "2     {'cap': {'english': 0.30618807248975083, 'univ...  \n",
       "3     {'cap': {'english': 0.6763619064808265, 'unive...  \n",
       "4     {'cap': {'english': 0.7668769621923945, 'unive...  \n",
       "...                                                 ...  \n",
       "6971                                                     \n",
       "6972                                                     \n",
       "6973                                                     \n",
       "6974                                                     \n",
       "6975                                                     \n",
       "\n",
       "[6976 rows x 14 columns]"
      ]
     },
     "execution_count": 111,
     "metadata": {},
     "output_type": "execute_result"
    }
   ],
   "source": [
    "snopes_acc"
   ]
  },
  {
   "cell_type": "code",
   "execution_count": 110,
   "metadata": {},
   "outputs": [
    {
     "data": {
      "text/plain": [
       "nan"
      ]
     },
     "execution_count": 110,
     "metadata": {},
     "output_type": "execute_result"
    }
   ],
   "source": [
    "test.loc[407].botometer"
   ]
  },
  {
   "cell_type": "code",
   "execution_count": null,
   "metadata": {},
   "outputs": [],
   "source": [
    "bots = snopes.botometer.tolist()"
   ]
  },
  {
   "cell_type": "code",
   "execution_count": null,
   "metadata": {},
   "outputs": [],
   "source": [
    "dicts = []\n",
    "for i in bots:\n",
    "    if i:\n",
    "        dicts.append(eval(i))\n",
    "    else:\n",
    "        dicts.append(None)\n"
   ]
  },
  {
   "cell_type": "code",
   "execution_count": null,
   "metadata": {},
   "outputs": [],
   "source": [
    "for s in bom.check_account(accounts[0]):\n",
    "    print(s)"
   ]
  },
  {
   "cell_type": "code",
   "execution_count": null,
   "metadata": {},
   "outputs": [],
   "source": [
    "import botometer\n",
    "\n",
    "rapidapi_key = \"b0dd966c59mshdf2db2daf9a121fp15f57djsn5bf9d54db4aa\"\n",
    "\n",
    "consumer_key, consumer_secret = \"uHktObbiyJpGoLUaENXdpUWyj\", \"DLoJ8VRhFUK4GQeo3XUP2LGaSN4D7a2mAZqSKlRQshr6N0Ru1r\"\n",
    "access_token, access_token_secret = \"4121890515-8wV0UlTyu9hFzJL9d8NBU6BY24STUtS7zFeAcel\", \"vfnDrkEUAHtVayGJDZxau18mPjG4CuyB2JW6sG0xeYFGs\"\n",
    "\n",
    "\n",
    "twitter_app_auth = {\n",
    "    'consumer_key': consumer_key, # 'sO59YfsV552iCsfLLpQTuS64T',\n",
    "    'consumer_secret': consumer_secret, #'YVGEDbcA3Mg3bTY9rwXpLAH5ATOzbmhRBZ92wuWaBfVMdiflzq',\n",
    "    'access_token': access_token, # 'AAAAAAAAAAAAAAAAAAAAAD%2FZWwEAAAAAJgG8hY2XJfmsYbbs%2Bp5BruRr8aM%3DtRxrtqs0eEhHQ9ZFE9U7tRlNnqm7oPUXeQEijSnj3RgxWgvN5l',\n",
    "    'access_token_secret': access_token_secret,\n",
    "  }\n",
    "bom = botometer.Botometer(wait_on_ratelimit=True,\n",
    "                          rapidapi_key=rapidapi_key,\n",
    "                          **twitter_app_auth)\n",
    "\n",
    "accounts = snopes.acc_id.tolist()\n",
    "for screen_name, result in tqdm(bom.check_accounts_in(accounts=accounts)):\n",
    "    try:\n",
    "        snopes.loc[i, \"botometer\"] = str(result[1])\n",
    "        print(result)\n",
    "    except Exception as e:\n",
    "        print(e)\n",
    "        snopes.loc[i, \"botometer\"] = None\n",
    "\n"
   ]
  },
  {
   "cell_type": "code",
   "execution_count": 50,
   "metadata": {},
   "outputs": [],
   "source": [
    "rapidapi_key = \"b0dd966c59mshdf2db2daf9a121fp15f57djsn5bf9d54db4aa\"\n",
    "\n",
    "consumer_key, consumer_secret = \"uHktObbiyJpGoLUaENXdpUWyj\", \"DLoJ8VRhFUK4GQeo3XUP2LGaSN4D7a2mAZqSKlRQshr6N0Ru1r\"\n",
    "access_token, access_token_secret = \"4121890515-8wV0UlTyu9hFzJL9d8NBU6BY24STUtS7zFeAcel\", \"vfnDrkEUAHtVayGJDZxau18mPjG4CuyB2JW6sG0xeYFGs\"\n",
    "\n",
    "\n",
    "twitter_app_auth = {\n",
    "    'consumer_key': consumer_key, # 'sO59YfsV552iCsfLLpQTuS64T',\n",
    "    'consumer_secret': consumer_secret, #'YVGEDbcA3Mg3bTY9rwXpLAH5ATOzbmhRBZ92wuWaBfVMdiflzq',\n",
    "    'access_token': access_token, # 'AAAAAAAAAAAAAAAAAAAAAD%2FZWwEAAAAAJgG8hY2XJfmsYbbs%2Bp5BruRr8aM%3DtRxrtqs0eEhHQ9ZFE9U7tRlNnqm7oPUXeQEijSnj3RgxWgvN5l',\n",
    "    'access_token_secret': access_token_secret,\n",
    "  }\n",
    "bom = botometer.Botometer(wait_on_ratelimit=True,\n",
    "                          rapidapi_key=rapidapi_key,\n",
    "                          **twitter_app_auth)\n",
    "\n",
    "result = bom.check_accounts_in(accounts[:3])\n",
    "\n"
   ]
  },
  {
   "cell_type": "code",
   "execution_count": 51,
   "metadata": {},
   "outputs": [
    {
     "name": "stdout",
     "output_type": "stream",
     "text": [
      "(3981225735, {'cap': {'english': 0.7759887465100499, 'universal': 0.8006881983123656}, 'display_scores': {'english': {'astroturf': 1.1, 'fake_follower': 1.4, 'financial': 0.0, 'other': 2.2, 'overall': 1.5, 'self_declared': 0.1, 'spammer': 0.1}, 'universal': {'astroturf': 0.8, 'fake_follower': 1.1, 'financial': 0.3, 'other': 3.0, 'overall': 1.8, 'self_declared': 0.1, 'spammer': 0.1}}, 'raw_scores': {'english': {'astroturf': 0.22, 'fake_follower': 0.29, 'financial': 0.01, 'other': 0.45, 'overall': 0.3, 'self_declared': 0.02, 'spammer': 0.02}, 'universal': {'astroturf': 0.15, 'fake_follower': 0.22, 'financial': 0.06, 'other': 0.6, 'overall': 0.37, 'self_declared': 0.02, 'spammer': 0.02}}, 'user': {'majority_lang': 'en', 'user_data': {'id_str': '3981225735', 'screen_name': 'TrumpStudents'}}})\n",
      "(1924071992, {'cap': {'english': 0.7759887465100499, 'universal': 0.792436790569533}, 'display_scores': {'english': {'astroturf': 2.8, 'fake_follower': 0.4, 'financial': 0.6, 'other': 1.4, 'overall': 1.5, 'self_declared': 0.2, 'spammer': 0.0}, 'universal': {'astroturf': 2.2, 'fake_follower': 0.5, 'financial': 0.4, 'other': 1.5, 'overall': 1.6, 'self_declared': 0.0, 'spammer': 0.0}}, 'raw_scores': {'english': {'astroturf': 0.57, 'fake_follower': 0.07, 'financial': 0.13, 'other': 0.29, 'overall': 0.3, 'self_declared': 0.03, 'spammer': 0.0}, 'universal': {'astroturf': 0.43, 'fake_follower': 0.1, 'financial': 0.09, 'other': 0.3, 'overall': 0.32, 'self_declared': 0.01, 'spammer': 0.01}}, 'user': {'majority_lang': 'en', 'user_data': {'id_str': '1924071992', 'screen_name': 'MillenPolitics'}}})\n",
      "(924224208, {'cap': {'english': 0.30618807248975083, 'universal': 0.37678996390568303}, 'display_scores': {'english': {'astroturf': 1.4, 'fake_follower': 0.4, 'financial': 0.3, 'other': 0.9, 'overall': 0.2, 'self_declared': 0.0, 'spammer': 0.0}, 'universal': {'astroturf': 1.1, 'fake_follower': 0.6, 'financial': 0.4, 'other': 0.8, 'overall': 0.3, 'self_declared': 0.0, 'spammer': 0.0}}, 'raw_scores': {'english': {'astroturf': 0.29, 'fake_follower': 0.09, 'financial': 0.06, 'other': 0.18, 'overall': 0.04, 'self_declared': 0.0, 'spammer': 0.0}, 'universal': {'astroturf': 0.22, 'fake_follower': 0.12, 'financial': 0.07, 'other': 0.15, 'overall': 0.06, 'self_declared': 0.0, 'spammer': 0.0}}, 'user': {'majority_lang': 'en', 'user_data': {'id_str': '924224208', 'screen_name': 'jaybluuee'}}})\n"
     ]
    }
   ],
   "source": [
    "for a in result:\n",
    "    print(a)"
   ]
  },
  {
   "cell_type": "code",
   "execution_count": 52,
   "metadata": {},
   "outputs": [
    {
     "data": {
      "text/plain": [
       "{'cap': {'english': 0.30618807248975083, 'universal': 0.37678996390568303},\n",
       " 'display_scores': {'english': {'astroturf': 1.4,\n",
       "   'fake_follower': 0.4,\n",
       "   'financial': 0.3,\n",
       "   'other': 0.9,\n",
       "   'overall': 0.2,\n",
       "   'self_declared': 0.0,\n",
       "   'spammer': 0.0},\n",
       "  'universal': {'astroturf': 1.1,\n",
       "   'fake_follower': 0.6,\n",
       "   'financial': 0.4,\n",
       "   'other': 0.8,\n",
       "   'overall': 0.3,\n",
       "   'self_declared': 0.0,\n",
       "   'spammer': 0.0}},\n",
       " 'raw_scores': {'english': {'astroturf': 0.29,\n",
       "   'fake_follower': 0.09,\n",
       "   'financial': 0.06,\n",
       "   'other': 0.18,\n",
       "   'overall': 0.04,\n",
       "   'self_declared': 0.0,\n",
       "   'spammer': 0.0},\n",
       "  'universal': {'astroturf': 0.22,\n",
       "   'fake_follower': 0.12,\n",
       "   'financial': 0.07,\n",
       "   'other': 0.15,\n",
       "   'overall': 0.06,\n",
       "   'self_declared': 0.0,\n",
       "   'spammer': 0.0}},\n",
       " 'user': {'majority_lang': 'en',\n",
       "  'user_data': {'id_str': '924224208', 'screen_name': 'jaybluuee'}}}"
      ]
     },
     "execution_count": 52,
     "metadata": {},
     "output_type": "execute_result"
    }
   ],
   "source": [
    "a[1]"
   ]
  },
  {
   "cell_type": "code",
   "execution_count": 49,
   "metadata": {},
   "outputs": [
    {
     "data": {
      "text/plain": [
       "[3981225735,\n",
       " 1924071992,\n",
       " 924224208,\n",
       " 170735298,\n",
       " 115563859,\n",
       " 839300788702875648,\n",
       " 187286731,\n",
       " 803984530700910592,\n",
       " 432703985,\n",
       " 96838049,\n",
       " 22289130,\n",
       " 1336826635,\n",
       " 600061917,\n",
       " 259132164,\n",
       " 818231382,\n",
       " 284236188,\n",
       " 184383206,\n",
       " 2316246829,\n",
       " 807095,\n",
       " 1266239359,\n",
       " 3995778614,\n",
       " 571135299,\n",
       " 1367140224,\n",
       " 1170769933,\n",
       " 4041846647,\n",
       " 2505411212,\n",
       " 1102665366,\n",
       " 22084427,\n",
       " 227128602,\n",
       " 221557378,\n",
       " 704876221197193216,\n",
       " 15317676,\n",
       " 500391228,\n",
       " 1260181622,\n",
       " 22162379,\n",
       " 14849146,\n",
       " 2884176405,\n",
       " 2411569569,\n",
       " 2411569569,\n",
       " 235709466,\n",
       " 110855805,\n",
       " 554987162,\n",
       " 192529611,\n",
       " 1329515617,\n",
       " 554888488,\n",
       " 1367140224,\n",
       " 53159918,\n",
       " 714647220268744704,\n",
       " 1732751822,\n",
       " 16973333,\n",
       " 1893751014,\n",
       " 4480863626,\n",
       " 166329578,\n",
       " 608471241,\n",
       " 724755152515829760,\n",
       " 128796694,\n",
       " 607558430,\n",
       " 124954456,\n",
       " 4864871778,\n",
       " 19874344,\n",
       " 580312540,\n",
       " 1909350781,\n",
       " 17756195,\n",
       " 304761097,\n",
       " 350362817,\n",
       " 4173349815,\n",
       " 487600344,\n",
       " 177584156,\n",
       " 2682013394,\n",
       " 4236806414,\n",
       " 18545481,\n",
       " 2255785398,\n",
       " 4833119038,\n",
       " 2416940856,\n",
       " 457820209,\n",
       " 30528628,\n",
       " 3314758074,\n",
       " 68450683,\n",
       " 339060259,\n",
       " 728733298373988352,\n",
       " 231124010,\n",
       " 3389134989,\n",
       " 1038821832,\n",
       " 2466008792,\n",
       " 370243466,\n",
       " 3323100684,\n",
       " 68450683,\n",
       " 578090036,\n",
       " 2206912764,\n",
       " 265891353,\n",
       " 4823097016,\n",
       " 399774230,\n",
       " 4832357954,\n",
       " 25224960,\n",
       " 25224960,\n",
       " 3380835143,\n",
       " 4909226006,\n",
       " 1969346438,\n",
       " 3951682217,\n",
       " 159655623,\n",
       " 22064592,\n",
       " 185635130,\n",
       " 437208886,\n",
       " 4664372353,\n",
       " 204872032,\n",
       " 440817801,\n",
       " 205757668,\n",
       " 443924415,\n",
       " 18545481,\n",
       " 66837697,\n",
       " 27789999,\n",
       " 27789999,\n",
       " 27789999,\n",
       " 3411313300,\n",
       " 19131322,\n",
       " 85831860,\n",
       " 2908170952,\n",
       " 145359341,\n",
       " 312149882,\n",
       " 1449488359,\n",
       " 4704367111,\n",
       " 136166272,\n",
       " 2490661603,\n",
       " 561654065,\n",
       " 163995557,\n",
       " 27413161,\n",
       " 126009130,\n",
       " 126009130,\n",
       " 18545481,\n",
       " 18545481,\n",
       " 18545481,\n",
       " 145359341,\n",
       " 162114552,\n",
       " 3588258014,\n",
       " 944470134,\n",
       " 1678775311,\n",
       " 201727015,\n",
       " 705607964007108608,\n",
       " 222519463,\n",
       " 533666781,\n",
       " 52136185,\n",
       " 586206240,\n",
       " 3225287206,\n",
       " 49452556,\n",
       " 904789082,\n",
       " 732615765476564992,\n",
       " 2665438183,\n",
       " 944470134,\n",
       " 1713036884,\n",
       " 500391228,\n",
       " 485373368,\n",
       " 59615269,\n",
       " 295988417,\n",
       " 2695447915,\n",
       " 561654065,\n",
       " 2840452198,\n",
       " 561654065,\n",
       " 1425679045,\n",
       " 33170847,\n",
       " 82447359,\n",
       " 3995778614,\n",
       " 1605994580,\n",
       " 245687348,\n",
       " 21833728,\n",
       " 82447359,\n",
       " 200811254,\n",
       " 269576133,\n",
       " 361275163,\n",
       " 2847859818,\n",
       " 4726885214,\n",
       " 54065567,\n",
       " 54065567,\n",
       " 2686313414,\n",
       " 2975669439,\n",
       " 300497193,\n",
       " 361275163,\n",
       " 3307295642,\n",
       " 2875780737,\n",
       " 222519463,\n",
       " 705890784319377408,\n",
       " 17350532,\n",
       " 304543369,\n",
       " 1849938847,\n",
       " 2600602135,\n",
       " 59615269,\n",
       " 195271137,\n",
       " 2600602135,\n",
       " 2914451594,\n",
       " 3974665634,\n",
       " 729022640313106432,\n",
       " 2600602135,\n",
       " 104051619,\n",
       " 2600602135,\n",
       " 2600602135,\n",
       " 1430455554,\n",
       " 21343120,\n",
       " 1941136946,\n",
       " 2600602135,\n",
       " 421344061,\n",
       " 713005707470069760,\n",
       " 49685124,\n",
       " 3020425427,\n",
       " 297191567,\n",
       " 4883470551,\n",
       " 4883470551,\n",
       " 555475580,\n",
       " 705890784319377408,\n",
       " 25066686,\n",
       " 726627971490934784,\n",
       " 359196437,\n",
       " 4883470551,\n",
       " 487013912,\n",
       " 4883470551,\n",
       " 727308523139272704,\n",
       " 705532607790870528,\n",
       " 4883470551,\n",
       " 706429945258463232,\n",
       " 4883470551,\n",
       " 289118612,\n",
       " 4883470551,\n",
       " 60207798,\n",
       " 4883470551,\n",
       " 4914495876,\n",
       " 60207798,\n",
       " 21773704,\n",
       " 71272041,\n",
       " 194521859,\n",
       " 2902181749,\n",
       " 4883470551,\n",
       " 634676291,\n",
       " 4883470551,\n",
       " 4883470551,\n",
       " 843066685,\n",
       " 141711305,\n",
       " 3974665634,\n",
       " 4883470551,\n",
       " 4883470551,\n",
       " 2457085861,\n",
       " 4883470551,\n",
       " 14294848,\n",
       " 2421067430,\n",
       " 374116640,\n",
       " 279390084,\n",
       " 19943761,\n",
       " 30681036,\n",
       " 594886554,\n",
       " 594886554,\n",
       " 15226811,\n",
       " 723167125272027136,\n",
       " 312149882,\n",
       " 3018828006,\n",
       " 59241915,\n",
       " 14211510,\n",
       " 170357723,\n",
       " 15012486,\n",
       " 126009130,\n",
       " 161132591,\n",
       " 3567446177,\n",
       " 2982225709,\n",
       " 18363962,\n",
       " 542318578,\n",
       " 158619022,\n",
       " 121493492,\n",
       " 18564980,\n",
       " 109484669,\n",
       " 18643437,\n",
       " 3311629271,\n",
       " 32272710,\n",
       " 796261392,\n",
       " 18240386,\n",
       " 146928495,\n",
       " 77324226,\n",
       " 1735969045,\n",
       " 16267083,\n",
       " 2560466682,\n",
       " 378016563,\n",
       " 213795411,\n",
       " 414174068,\n",
       " 177584156,\n",
       " 88989613,\n",
       " 31341662,\n",
       " 71875415,\n",
       " 401657173,\n",
       " 275276082,\n",
       " 719198026909290496,\n",
       " 38570287,\n",
       " 554316017,\n",
       " 944470134,\n",
       " 891073250,\n",
       " 90194079,\n",
       " 709920419529281536,\n",
       " 753573418507743232,\n",
       " 94818581,\n",
       " 26652733,\n",
       " 3314758074,\n",
       " 3903128778,\n",
       " 149679293,\n",
       " 714513049,\n",
       " 98229878,\n",
       " 3308560736,\n",
       " 385194334,\n",
       " 2570615502,\n",
       " 319373700,\n",
       " 362798863,\n",
       " 330378192,\n",
       " 291874773,\n",
       " 118867974,\n",
       " 28587919,\n",
       " 16208276,\n",
       " 238053427,\n",
       " 175954697,\n",
       " 600195366,\n",
       " 525676041,\n",
       " 918230042,\n",
       " 1269583296,\n",
       " 345253262,\n",
       " 32133117,\n",
       " 4496819788,\n",
       " 14294848,\n",
       " 108172069,\n",
       " 33156354,\n",
       " 17427779,\n",
       " 3389073989,\n",
       " 3020168556,\n",
       " 1969346438,\n",
       " 4236806414,\n",
       " 470438993,\n",
       " 21833728,\n",
       " 82447359,\n",
       " 45302174,\n",
       " 272114651,\n",
       " 15976697,\n",
       " 33529092,\n",
       " 1247921690,\n",
       " 278781274,\n",
       " 47534393,\n",
       " 61759552,\n",
       " 707288641995939840,\n",
       " 306097862,\n",
       " 43283406,\n",
       " 352145373,\n",
       " 43296233,\n",
       " 3698501,\n",
       " 561654065,\n",
       " 741814929842405376,\n",
       " 18764841,\n",
       " 19062754,\n",
       " 3520122318,\n",
       " 14546264,\n",
       " 2604924327,\n",
       " 338613723,\n",
       " 15150453,\n",
       " 16027904,\n",
       " 18210263,\n",
       " 3974665634,\n",
       " 3974665634,\n",
       " 177584156,\n",
       " 3685459885,\n",
       " 1620343501,\n",
       " 764644970,\n",
       " 726148842,\n",
       " 756487123650260992,\n",
       " 792788359,\n",
       " 184997446,\n",
       " 706656042327801856,\n",
       " 722787662214483968,\n",
       " 1541810258,\n",
       " 4068318254,\n",
       " 2725381381,\n",
       " 21343120,\n",
       " 275276082,\n",
       " 323208365,\n",
       " 233933230,\n",
       " 55976150,\n",
       " 90804267,\n",
       " 2570615502,\n",
       " 208996041,\n",
       " 133478732,\n",
       " 39578387,\n",
       " 316739994,\n",
       " 3308560736,\n",
       " 39308549,\n",
       " 2845253645,\n",
       " 2750334224,\n",
       " 264268489,\n",
       " 39349894,\n",
       " 42822396,\n",
       " 21458842,\n",
       " 88243144,\n",
       " 1426907185,\n",
       " 2332264339,\n",
       " 104513680,\n",
       " 618563,\n",
       " 264361128,\n",
       " 34917150,\n",
       " 752961357113200640,\n",
       " 59817827,\n",
       " 398919818,\n",
       " 715496304777015296,\n",
       " 347627434,\n",
       " 707077738620780544,\n",
       " 742446825337028608,\n",
       " 9300262,\n",
       " 704034081898668032,\n",
       " 1374585606,\n",
       " 718983299608129536,\n",
       " 584177882,\n",
       " 9300262,\n",
       " 721185346797572096,\n",
       " 67899097,\n",
       " 2499109494,\n",
       " 2796929687,\n",
       " 292929271,\n",
       " 2269567158,\n",
       " 2393098723,\n",
       " 709920419529281536,\n",
       " 4784596178,\n",
       " 4236806414,\n",
       " 494624290,\n",
       " 561654065,\n",
       " 1599141961,\n",
       " 17860906,\n",
       " 2839030037,\n",
       " 4226960114,\n",
       " 743688372460216320,\n",
       " 118496889,\n",
       " 2915156131,\n",
       " 166329578,\n",
       " 4676548814,\n",
       " 4197546072,\n",
       " 88494677,\n",
       " 608471241,\n",
       " 608471241,\n",
       " 325164172,\n",
       " 26672170,\n",
       " 177584156,\n",
       " 2801177472,\n",
       " 95995039,\n",
       " 126009130,\n",
       " 126009130,\n",
       " 399774230,\n",
       " 972255098,\n",
       " 1917731,\n",
       " 65854394,\n",
       " 741589503102570496,\n",
       " 1917731,\n",
       " 2244290719,\n",
       " 701655880920510464,\n",
       " 2793194082,\n",
       " 18301196,\n",
       " 1496756359,\n",
       " 430118889,\n",
       " 15164565,\n",
       " 3697285157,\n",
       " 2923563766,\n",
       " 2923563766,\n",
       " 1375629385,\n",
       " 1325018372,\n",
       " 25975551,\n",
       " 22722452,\n",
       " 374284455,\n",
       " 49035775,\n",
       " 48421473,\n",
       " 428713002,\n",
       " 3407847574,\n",
       " 18545481,\n",
       " 15164565,\n",
       " 47652227,\n",
       " 78523300,\n",
       " 361275163,\n",
       " 495622651,\n",
       " 19098324,\n",
       " 421275603,\n",
       " 177584156,\n",
       " 361275163,\n",
       " 28905454,\n",
       " 15164565,\n",
       " 4429709805,\n",
       " 1496756359,\n",
       " 766797410,\n",
       " 15164565,\n",
       " 548172120,\n",
       " 2241227238,\n",
       " 15164565,\n",
       " 30456403,\n",
       " 248692627,\n",
       " 28048355,\n",
       " 18545481,\n",
       " 1917731,\n",
       " 138742761,\n",
       " 289118612,\n",
       " 15706904,\n",
       " 865636782,\n",
       " 2291904432,\n",
       " 3103091745,\n",
       " 3047937393,\n",
       " 167796615,\n",
       " 14511951,\n",
       " 49452556,\n",
       " 3974665634,\n",
       " 1018491630,\n",
       " 537904539,\n",
       " 2374469136,\n",
       " 3433022621,\n",
       " 585465795,\n",
       " 2883533651,\n",
       " 16955991,\n",
       " 547969112,\n",
       " 272114651,\n",
       " 936148682,\n",
       " 728635523816775680,\n",
       " 547969112,\n",
       " 67899097,\n",
       " 547969112,\n",
       " 3047377314,\n",
       " 759179340307243008,\n",
       " 1367531,\n",
       " 361275163,\n",
       " 399717630,\n",
       " 9369062,\n",
       " 762252876,\n",
       " 582135529,\n",
       " 851866178,\n",
       " 608471241,\n",
       " 331825712,\n",
       " 733808069440741376,\n",
       " 3995778614,\n",
       " 3390416469,\n",
       " 1367531,\n",
       " 754135908,\n",
       " 890302164,\n",
       " 81602176,\n",
       " 728979362775638016,\n",
       " 553998793,\n",
       " 157054921,\n",
       " 2255424079,\n",
       " 547969112,\n",
       " 2875990472,\n",
       " 2316246829,\n",
       " 758313715695427584,\n",
       " 758313715695427584,\n",
       " 25446957,\n",
       " 86963075,\n",
       " 715357604961263616,\n",
       " 140638292,\n",
       " 2801177472,\n",
       " 2801177472,\n",
       " 1976799128,\n",
       " 421460415,\n",
       " 2775579278,\n",
       " 3974665634,\n",
       " 1482516500,\n",
       " 750399805851963392,\n",
       " 43413425,\n",
       " 43308598,\n",
       " 3066008697,\n",
       " 18195110,\n",
       " 40246348,\n",
       " 2793800587,\n",
       " 802722056,\n",
       " 43308598,\n",
       " 402985469,\n",
       " 4897543230,\n",
       " 865538113,\n",
       " 2972410695,\n",
       " 2998466930,\n",
       " 4182512297,\n",
       " 30067748,\n",
       " 71359942,\n",
       " 277090518,\n",
       " 65003619,\n",
       " 753806066052235264,\n",
       " 705333567543504896,\n",
       " 2998441830,\n",
       " 3308110350,\n",
       " 4796678896,\n",
       " 2441304533,\n",
       " 561654065,\n",
       " 3034834939,\n",
       " 261035490,\n",
       " 4851276082,\n",
       " 370513594,\n",
       " 15854008,\n",
       " 2226870793,\n",
       " 971176056,\n",
       " 4240150034,\n",
       " 561654065,\n",
       " 332433520,\n",
       " 2416597188,\n",
       " 2416597188,\n",
       " 17094311,\n",
       " 543452426,\n",
       " 4846395737,\n",
       " 3220025137,\n",
       " 753753493622628352,\n",
       " 18002528,\n",
       " 16444868,\n",
       " 3433002136,\n",
       " 743651896578060288,\n",
       " 21833728,\n",
       " 50010587,\n",
       " 835328618,\n",
       " 297457814,\n",
       " 620872388,\n",
       " 3139537490,\n",
       " 60370335,\n",
       " 1225818590,\n",
       " 234841289,\n",
       " 2891102076,\n",
       " 702174406739685376,\n",
       " 57912099,\n",
       " 732445833682018304,\n",
       " 732445833682018304,\n",
       " 2904671027,\n",
       " 322674930,\n",
       " 65003619,\n",
       " 4543053312,\n",
       " 42158021,\n",
       " 279208035,\n",
       " 180511021,\n",
       " 311241090,\n",
       " 15359578,\n",
       " 20826129,\n",
       " 4700477725,\n",
       " 371142734,\n",
       " 24638062,\n",
       " 45291573,\n",
       " 552410408,\n",
       " 20295763,\n",
       " 1564676498,\n",
       " 17343602,\n",
       " 552983877,\n",
       " 18561223,\n",
       " 14787713,\n",
       " 1568498256,\n",
       " 752493806,\n",
       " 516093774,\n",
       " 28905454,\n",
       " 2747259456,\n",
       " 224268822,\n",
       " 17232340,\n",
       " 3359243787,\n",
       " 75974281,\n",
       " 233933230,\n",
       " 233933230,\n",
       " 479068816,\n",
       " 2892976359,\n",
       " 19908848,\n",
       " 4237277387,\n",
       " 3359243787,\n",
       " 284104234,\n",
       " 3592503441,\n",
       " 905530344,\n",
       " 19899980,\n",
       " 600061917,\n",
       " 221452291,\n",
       " 4765012532,\n",
       " 15671833,\n",
       " 1530853626,\n",
       " 24395228,\n",
       " 343171160,\n",
       " 2908170952,\n",
       " 251913645,\n",
       " 709920419529281536,\n",
       " 431198790,\n",
       " 90285099,\n",
       " 2299826742,\n",
       " 142077688,\n",
       " 1213274119,\n",
       " 608471241,\n",
       " 561654065,\n",
       " 15368940,\n",
       " 2740452163,\n",
       " 25446957,\n",
       " 70773048,\n",
       " 706176697440276480,\n",
       " 759251,\n",
       " 50881405,\n",
       " 1356123823,\n",
       " 716260246109483008,\n",
       " 3202808548,\n",
       " 150059501,\n",
       " 565008398,\n",
       " 56192739,\n",
       " 751095331408973824,\n",
       " 2900220088,\n",
       " 1652687708,\n",
       " 704034081898668032,\n",
       " 37315032,\n",
       " 632171886,\n",
       " 124199238,\n",
       " 3589464580,\n",
       " 542962969,\n",
       " 2421067430,\n",
       " 704363061013057536,\n",
       " 2910776820,\n",
       " 1096411117,\n",
       " 3124454195,\n",
       " 4760647532,\n",
       " 38367188,\n",
       " 605448008,\n",
       " 83788240,\n",
       " 374284455,\n",
       " 22798141,\n",
       " 2818206308,\n",
       " 2382281029,\n",
       " 415256606,\n",
       " 1966026648,\n",
       " 893470729,\n",
       " 2953422203,\n",
       " 167363471,\n",
       " 291874773,\n",
       " 44103717,\n",
       " 28670599,\n",
       " 739567626511388672,\n",
       " 200656602,\n",
       " 31801993,\n",
       " 703230673776197632,\n",
       " 146928495,\n",
       " 729096352676782080,\n",
       " 1643634444,\n",
       " 246377722,\n",
       " 3407847574,\n",
       " 21845346,\n",
       " 385075625,\n",
       " 29465136,\n",
       " 13148382,\n",
       " 4851276082,\n",
       " 3416492723,\n",
       " 3359243787,\n",
       " 9611592,\n",
       " 739080916610342912,\n",
       " 34367582,\n",
       " 28007091,\n",
       " 3124454195,\n",
       " 26579739,\n",
       " 76373,\n",
       " 758049168690642944,\n",
       " 963176808,\n",
       " 19193016,\n",
       " 3381686297,\n",
       " 93493910,\n",
       " 3313143320,\n",
       " 2610081858,\n",
       " 4646073148,\n",
       " 344729527,\n",
       " 32951070,\n",
       " 37013920,\n",
       " 23116280,\n",
       " 25197377,\n",
       " 33228837,\n",
       " 4242905298,\n",
       " 18637247,\n",
       " 714949505720823808,\n",
       " 872954089,\n",
       " 437352926,\n",
       " 23004495,\n",
       " 4361249533,\n",
       " 156377910,\n",
       " 4452560741,\n",
       " 273951517,\n",
       " 264493607,\n",
       " 760130823374843904,\n",
       " 118845216,\n",
       " 232333397,\n",
       " 414873541,\n",
       " 3723723982,\n",
       " 824391878,\n",
       " 450213974,\n",
       " 890302164,\n",
       " 29059784,\n",
       " 709144993,\n",
       " 15104164,\n",
       " 289118612,\n",
       " 3314963469,\n",
       " 21833728,\n",
       " 796261392,\n",
       " 227010728,\n",
       " 196109220,\n",
       " 582414351,\n",
       " 340968277,\n",
       " 1969346438,\n",
       " 13804112,\n",
       " 739567626511388672,\n",
       " 835328618,\n",
       " 164523117,\n",
       " 446228264,\n",
       " 39344374,\n",
       " 757749684580519936,\n",
       " 515542297,\n",
       " 41265813,\n",
       " 78523300,\n",
       " 18643437,\n",
       " 232201971,\n",
       " 801071388,\n",
       " 3539755636,\n",
       " 1367531,\n",
       " 1564676498,\n",
       " 4901489212,\n",
       " 704034081898668032,\n",
       " 22630309,\n",
       " 46520074,\n",
       " 17895820,\n",
       " 14412533,\n",
       " 1917731,\n",
       " 1080576949,\n",
       " 492833134,\n",
       " 65132037,\n",
       " 1735546184,\n",
       " 765091605472698368,\n",
       " 743142244706848768,\n",
       " 107012365,\n",
       " 237623215,\n",
       " 865187658,\n",
       " 621110318,\n",
       " 25197377,\n",
       " 739567626511388672,\n",
       " 1462579488,\n",
       " 430905373,\n",
       " 20854637,\n",
       " 25832979,\n",
       " 1200713864,\n",
       " 758809594936238080,\n",
       " 758809594936238080,\n",
       " 374284455,\n",
       " 25197377,\n",
       " 172394944,\n",
       " 910332056,\n",
       " 34163521,\n",
       " 1537048512,\n",
       " 715650695647637504,\n",
       " 1513958744,\n",
       " 727578244841639936,\n",
       " 713832622808412160,\n",
       " 4855687055,\n",
       " 3558102739,\n",
       " 695365245376696320,\n",
       " 28869089,\n",
       " 54065567,\n",
       " 54065567,\n",
       " 746367431388585984,\n",
       " 746367431388585984,\n",
       " 3166217539,\n",
       " 3329997245,\n",
       " 765091605472698368,\n",
       " 317223956,\n",
       " 1849938847,\n",
       " 1148951203,\n",
       " 138581916,\n",
       " 2953617710,\n",
       " 49685124,\n",
       " 169536421,\n",
       " 3124454195,\n",
       " 2830167800,\n",
       " 141642957,\n",
       " 710829502843064320,\n",
       " 30265457,\n",
       " 561654065,\n",
       " 16887175,\n",
       " 730786518848159744,\n",
       " 22677397,\n",
       " 2353703503,\n",
       " 21248626,\n",
       " 17395207,\n",
       " 144130505,\n",
       " 17529294,\n",
       " 52801677,\n",
       " 742923442471763968,\n",
       " 3697721113,\n",
       " 2584482763,\n",
       " 20944649,\n",
       " 773520163396325376,\n",
       " 20889358,\n",
       " 67095221,\n",
       " 767036004,\n",
       " 765091605472698368,\n",
       " 176914461,\n",
       " 78569026,\n",
       " 331747494,\n",
       " 2316246829,\n",
       " 361275163,\n",
       " 2364837974,\n",
       " 1242465014,\n",
       " 289118612,\n",
       " 568143078,\n",
       " 758313715695427584,\n",
       " 18195110,\n",
       " 765091605472698368,\n",
       " 1289704663,\n",
       " 754086125917106176,\n",
       " 1371572360,\n",
       " 769297227957141504,\n",
       " 3610264154,\n",
       " 27211961,\n",
       " 723387344175296512,\n",
       " 151375368,\n",
       " 767587128524013568,\n",
       " 35677844,\n",
       " 936304345,\n",
       " 19195442,\n",
       " 744281884310405120,\n",
       " 3389134989,\n",
       " 3019417439,\n",
       " 10735392,\n",
       " 3362345172,\n",
       " 33388399,\n",
       " 341688336,\n",
       " 231641765,\n",
       " 3394911915,\n",
       " 2902031256,\n",
       " 3297022953,\n",
       " 455288410,\n",
       " 219815601,\n",
       " 374284455,\n",
       " 2684196134,\n",
       " 865636782,\n",
       " 126009130,\n",
       " 126009130,\n",
       " 126009130,\n",
       " 126009130,\n",
       " 126009130,\n",
       " 126009130,\n",
       " 126009130,\n",
       " 126009130,\n",
       " 126009130,\n",
       " 126009130,\n",
       " 126009130,\n",
       " 126009130,\n",
       " 126009130,\n",
       " 126009130,\n",
       " 126009130,\n",
       " 126009130,\n",
       " 126009130,\n",
       " 126009130,\n",
       " 126009130,\n",
       " 325893346,\n",
       " 126009130,\n",
       " 126009130,\n",
       " 126009130,\n",
       " 126009130,\n",
       " 126009130,\n",
       " 126009130,\n",
       " 126009130,\n",
       " 126009130,\n",
       " 18132806,\n",
       " 3057650044,\n",
       " 972651,\n",
       " 865636782,\n",
       " 1353347065,\n",
       " 767587128524013568,\n",
       " 3686488635,\n",
       " 3002739417,\n",
       " 1183779272,\n",
       " 1309391066,\n",
       " 4334047641,\n",
       " 42371615,\n",
       " 3930608896,\n",
       " 21773704,\n",
       " 399774230,\n",
       " 758076297876602880,\n",
       " 2911587582,\n",
       " 735624304050593792,\n",
       " 4240150034,\n",
       " 16674128,\n",
       " 14441020,\n",
       " 30265457,\n",
       " 1326707346,\n",
       " 908933376,\n",
       " 124185033,\n",
       " 2451462137,\n",
       " 2417586104,\n",
       " 2344571893,\n",
       " 3340267793,\n",
       " 902851051,\n",
       " 1339835893,\n",
       " 36196526,\n",
       " 6563122,\n",
       " 4345493055,\n",
       " 1851877248,\n",
       " 90573210,\n",
       " 118845216,\n",
       " 172032623,\n",
       " 2786693552,\n",
       " 755726522,\n",
       " 2788642796,\n",
       " 340660967,\n",
       " 22141405,\n",
       " 4194141941,\n",
       " 115772421,\n",
       " 22714413,\n",
       " 97082147,\n",
       " 63514682,\n",
       " 1027392638,\n",
       " 259509924,\n",
       " 762658215850971136,\n",
       " 214112621,\n",
       " 15511737,\n",
       " 758313715695427584,\n",
       " 20065936,\n",
       " 704795920433414144,\n",
       " ...]"
      ]
     },
     "execution_count": 49,
     "metadata": {},
     "output_type": "execute_result"
    }
   ],
   "source": [
    "accounts"
   ]
  },
  {
   "cell_type": "code",
   "execution_count": null,
   "metadata": {},
   "outputs": [],
   "source": [
    "\"@clayadavis\"\n",
    "[1548959833]"
   ]
  },
  {
   "cell_type": "code",
   "execution_count": null,
   "metadata": {},
   "outputs": [],
   "source": [
    "pip install git+https://github.com/tweepy/tweepy.git\n"
   ]
  },
  {
   "cell_type": "code",
   "execution_count": null,
   "metadata": {},
   "outputs": [],
   "source": [
    "accounts = snopes.original_id.tolist()\n",
    "\n"
   ]
  },
  {
   "cell_type": "code",
   "execution_count": null,
   "metadata": {},
   "outputs": [],
   "source": [
    "import tweepy\n",
    "from tqdm import tqdm\n",
    "\n",
    "from time import sleep\n",
    "\n",
    "consumer_key, consumer_secret = \"uHktObbiyJpGoLUaENXdpUWyj\", \"DLoJ8VRhFUK4GQeo3XUP2LGaSN4D7a2mAZqSKlRQshr6N0Ru1r\"\n",
    "access_token, access_token_secret = \"4121890515-8wV0UlTyu9hFzJL9d8NBU6BY24STUtS7zFeAcel\", \"vfnDrkEUAHtVayGJDZxau18mPjG4CuyB2JW6sG0xeYFGs\"\n",
    "\n",
    "\n",
    "bearer_token = \"AAAAAAAAAAAAAAAAAAAAAD%2FZWwEAAAAA3Kiamz2egng9VKNdyiCM9%2BFUsrM%3DPS7mSlp9wPQ0BHX5inmPmOJBFrwevMrbEV4e9R10rEeU2DwaJt\"\n",
    "\n",
    "\n",
    "auth = tweepy.OAuthHandler(consumer_key, consumer_secret)\n",
    "auth.set_access_token(access_token, access_token_secret)\n",
    "\n",
    "client = tweepy.Client(bearer_token)\n",
    "# client = tweepy.Client(auth)\n",
    "\n",
    "# client = tweepy.Client(\n",
    "#     consumer_key=consumer_key, consumer_secret=consumer_secret,\n",
    "#     access_token=access_token, access_token_secret=access_token_secret\n",
    "# )\n",
    "\n",
    "# snopes[\"acc_id\"] = None\n",
    "\n",
    "\n",
    "for i, account in tqdm(enumerate(accounts)):\n",
    "    \n",
    "    if i<7250: continue\n",
    "    \n",
    "    if i % 250 == 0:\n",
    "        sleep(900)\n",
    "    try:\n",
    "        response = client.get_tweet(id=account, expansions='author_id')\n",
    "    except Exception as e:\n",
    "        print(\"Cant get tweet -----------> \", e)\n",
    "    \n",
    "    if response.data:\n",
    "        try:\n",
    "            snopes.loc[i, \"acc_id\"] = response.includes[\"users\"][0].id\n",
    "        except Exception as e:\n",
    "            snopes.loc[i, \"acc_id\"] = None\n",
    "            print(\"Cant append to df :/ ----------> \", e)"
   ]
  },
  {
   "cell_type": "code",
   "execution_count": null,
   "metadata": {},
   "outputs": [],
   "source": []
  },
  {
   "cell_type": "code",
   "execution_count": 10,
   "metadata": {},
   "outputs": [],
   "source": [
    "# snopes.to_csv(\"snopes_acc.csv\", index=False)"
   ]
  },
  {
   "cell_type": "code",
   "execution_count": null,
   "metadata": {},
   "outputs": [],
   "source": [
    "first_100 = str(accounts[:100]).replace(\"[\", \"\").replace(\"]\", \"\").replace(\" \", \"\")"
   ]
  },
  {
   "cell_type": "code",
   "execution_count": 31,
   "metadata": {},
   "outputs": [
    {
     "data": {
      "text/plain": [
       "[3981225735.0,\n",
       " 1924071992.0,\n",
       " 924224208.0,\n",
       " 170735298.0,\n",
       " 115563859.0,\n",
       " 8.393007887028756e+17,\n",
       " 187286731.0,\n",
       " 8.039845307009106e+17,\n",
       " 432703985.0,\n",
       " 96838049.0,\n",
       " 22289130.0,\n",
       " 1336826635.0,\n",
       " 600061917.0,\n",
       " 259132164.0,\n",
       " 818231382.0,\n",
       " 284236188.0,\n",
       " 184383206.0,\n",
       " 2316246829.0,\n",
       " 807095.0,\n",
       " 1266239359.0,\n",
       " 3995778614.0,\n",
       " 571135299.0,\n",
       " 1367140224.0,\n",
       " 1170769933.0,\n",
       " 4041846647.0,\n",
       " 2505411212.0,\n",
       " 1102665366.0,\n",
       " 22084427.0,\n",
       " 227128602.0,\n",
       " 221557378.0,\n",
       " 7.048762211971932e+17,\n",
       " 15317676.0,\n",
       " 500391228.0,\n",
       " 1260181622.0,\n",
       " 22162379.0,\n",
       " 14849146.0,\n",
       " 2884176405.0,\n",
       " 2411569569.0,\n",
       " 2411569569.0,\n",
       " 235709466.0,\n",
       " 110855805.0,\n",
       " 554987162.0,\n",
       " 192529611.0,\n",
       " 1329515617.0,\n",
       " 554888488.0,\n",
       " 1367140224.0,\n",
       " 53159918.0,\n",
       " 7.146472202687447e+17,\n",
       " 1732751822.0,\n",
       " 16973333.0,\n",
       " 1893751014.0,\n",
       " 4480863626.0,\n",
       " 166329578.0,\n",
       " 608471241.0,\n",
       " 7.247551525158298e+17,\n",
       " 128796694.0,\n",
       " 607558430.0,\n",
       " 124954456.0,\n",
       " 4864871778.0,\n",
       " 19874344.0,\n",
       " 580312540.0,\n",
       " 1909350781.0,\n",
       " 17756195.0,\n",
       " 304761097.0,\n",
       " 350362817.0,\n",
       " 4173349815.0,\n",
       " 487600344.0,\n",
       " 177584156.0,\n",
       " 2682013394.0,\n",
       " 4236806414.0,\n",
       " 18545481.0,\n",
       " 2255785398.0,\n",
       " 4833119038.0,\n",
       " 2416940856.0,\n",
       " 457820209.0,\n",
       " 30528628.0,\n",
       " 3314758074.0,\n",
       " 68450683.0,\n",
       " 339060259.0,\n",
       " 7.287332983739884e+17,\n",
       " 231124010.0,\n",
       " 3389134989.0,\n",
       " 1038821832.0,\n",
       " 2466008792.0,\n",
       " 370243466.0,\n",
       " 3323100684.0,\n",
       " 68450683.0,\n",
       " 578090036.0,\n",
       " 2206912764.0,\n",
       " 265891353.0,\n",
       " 4823097016.0,\n",
       " 399774230.0,\n",
       " 4832357954.0,\n",
       " 25224960.0,\n",
       " 25224960.0,\n",
       " 3380835143.0,\n",
       " 4909226006.0,\n",
       " 1969346438.0,\n",
       " 3951682217.0,\n",
       " 159655623.0,\n",
       " 22064592.0,\n",
       " 185635130.0,\n",
       " 437208886.0,\n",
       " 4664372353.0,\n",
       " 204872032.0,\n",
       " 440817801.0,\n",
       " 205757668.0,\n",
       " 443924415.0,\n",
       " 18545481.0,\n",
       " 66837697.0,\n",
       " 27789999.0,\n",
       " 27789999.0,\n",
       " 27789999.0,\n",
       " 3411313300.0,\n",
       " 19131322.0,\n",
       " 85831860.0,\n",
       " 2908170952.0,\n",
       " 145359341.0,\n",
       " 312149882.0,\n",
       " 1449488359.0,\n",
       " 4704367111.0,\n",
       " 136166272.0,\n",
       " 2490661603.0,\n",
       " 561654065.0,\n",
       " 163995557.0,\n",
       " 27413161.0,\n",
       " 126009130.0,\n",
       " 126009130.0,\n",
       " 18545481.0,\n",
       " 18545481.0,\n",
       " 18545481.0,\n",
       " 145359341.0,\n",
       " 162114552.0,\n",
       " 3588258014.0,\n",
       " 944470134.0,\n",
       " 1678775311.0,\n",
       " 201727015.0,\n",
       " 7.056079640071086e+17,\n",
       " 222519463.0,\n",
       " 533666781.0,\n",
       " 52136185.0,\n",
       " 586206240.0,\n",
       " 3225287206.0,\n",
       " 49452556.0,\n",
       " 904789082.0,\n",
       " 7.32615765476565e+17,\n",
       " 2665438183.0,\n",
       " 944470134.0,\n",
       " 1713036884.0,\n",
       " 500391228.0,\n",
       " 485373368.0,\n",
       " 59615269.0,\n",
       " 295988417.0,\n",
       " 2695447915.0,\n",
       " 561654065.0,\n",
       " 2840452198.0,\n",
       " 561654065.0,\n",
       " 1425679045.0,\n",
       " 33170847.0,\n",
       " 82447359.0,\n",
       " 3995778614.0,\n",
       " 1605994580.0,\n",
       " 245687348.0,\n",
       " 21833728.0,\n",
       " 82447359.0,\n",
       " 200811254.0,\n",
       " 269576133.0,\n",
       " 361275163.0,\n",
       " 2847859818.0,\n",
       " 4726885214.0,\n",
       " 54065567.0,\n",
       " 54065567.0,\n",
       " 2686313414.0,\n",
       " 2975669439.0,\n",
       " 300497193.0,\n",
       " 361275163.0,\n",
       " 3307295642.0,\n",
       " 2875780737.0,\n",
       " 222519463.0,\n",
       " 7.058907843193774e+17,\n",
       " 17350532.0,\n",
       " 304543369.0,\n",
       " 1849938847.0,\n",
       " 2600602135.0,\n",
       " 59615269.0,\n",
       " 195271137.0,\n",
       " 2600602135.0,\n",
       " 2914451594.0,\n",
       " 3974665634.0,\n",
       " 7.290226403131064e+17,\n",
       " 2600602135.0,\n",
       " 104051619.0,\n",
       " 2600602135.0,\n",
       " 2600602135.0,\n",
       " 1430455554.0,\n",
       " 21343120.0,\n",
       " 1941136946.0,\n",
       " 2600602135.0,\n",
       " 421344061.0,\n",
       " 7.130057074700698e+17,\n",
       " 49685124.0,\n",
       " 3020425427.0,\n",
       " 297191567.0,\n",
       " 4883470551.0,\n",
       " 4883470551.0,\n",
       " 555475580.0,\n",
       " 7.058907843193774e+17,\n",
       " 25066686.0,\n",
       " 7.266279714909348e+17,\n",
       " 359196437.0,\n",
       " 4883470551.0,\n",
       " 487013912.0,\n",
       " 4883470551.0,\n",
       " 7.273085231392727e+17,\n",
       " 7.055326077908705e+17,\n",
       " 4883470551.0,\n",
       " 7.064299452584632e+17,\n",
       " 4883470551.0,\n",
       " 289118612.0,\n",
       " 4883470551.0,\n",
       " 60207798.0,\n",
       " 4883470551.0,\n",
       " 4914495876.0,\n",
       " 60207798.0,\n",
       " 21773704.0,\n",
       " 71272041.0,\n",
       " 194521859.0,\n",
       " 2902181749.0,\n",
       " 4883470551.0,\n",
       " 634676291.0,\n",
       " 4883470551.0,\n",
       " 4883470551.0,\n",
       " 843066685.0,\n",
       " 141711305.0,\n",
       " 3974665634.0,\n",
       " 4883470551.0,\n",
       " 4883470551.0,\n",
       " 2457085861.0,\n",
       " 4883470551.0,\n",
       " 14294848.0,\n",
       " 2421067430.0,\n",
       " 374116640.0,\n",
       " 279390084.0,\n",
       " 19943761.0,\n",
       " 30681036.0,\n",
       " 594886554.0,\n",
       " 594886554.0,\n",
       " 15226811.0,\n",
       " 7.231671252720271e+17,\n",
       " 312149882.0,\n",
       " 3018828006.0,\n",
       " 59241915.0,\n",
       " 14211510.0,\n",
       " 170357723.0,\n",
       " 15012486.0,\n",
       " 126009130.0,\n",
       " 161132591.0,\n",
       " 3567446177.0,\n",
       " 2982225709.0,\n",
       " 18363962.0,\n",
       " 542318578.0,\n",
       " 158619022.0,\n",
       " 121493492.0,\n",
       " 18564980.0,\n",
       " 109484669.0,\n",
       " 18643437.0,\n",
       " 3311629271.0,\n",
       " 32272710.0,\n",
       " 796261392.0,\n",
       " 18240386.0,\n",
       " 146928495.0,\n",
       " 77324226.0,\n",
       " 1735969045.0,\n",
       " 16267083.0,\n",
       " 2560466682.0,\n",
       " 378016563.0,\n",
       " 213795411.0,\n",
       " 414174068.0,\n",
       " 177584156.0,\n",
       " 88989613.0,\n",
       " 31341662.0,\n",
       " 71875415.0,\n",
       " 401657173.0,\n",
       " 275276082.0,\n",
       " 7.191980269092905e+17,\n",
       " 38570287.0,\n",
       " 554316017.0,\n",
       " 944470134.0,\n",
       " 891073250.0,\n",
       " 90194079.0,\n",
       " 7.099204195292815e+17,\n",
       " 7.535734185077432e+17,\n",
       " 94818581.0,\n",
       " 26652733.0,\n",
       " 3314758074.0,\n",
       " 3903128778.0,\n",
       " 149679293.0,\n",
       " 714513049.0,\n",
       " 98229878.0,\n",
       " 3308560736.0,\n",
       " 385194334.0,\n",
       " 2570615502.0,\n",
       " 319373700.0,\n",
       " 362798863.0,\n",
       " 330378192.0,\n",
       " 291874773.0,\n",
       " 118867974.0,\n",
       " 28587919.0,\n",
       " 16208276.0,\n",
       " 238053427.0,\n",
       " 175954697.0,\n",
       " 600195366.0,\n",
       " 525676041.0,\n",
       " 918230042.0,\n",
       " 1269583296.0,\n",
       " 345253262.0,\n",
       " 32133117.0,\n",
       " 4496819788.0,\n",
       " 14294848.0,\n",
       " 108172069.0,\n",
       " 33156354.0,\n",
       " 17427779.0,\n",
       " 3389073989.0,\n",
       " 3020168556.0,\n",
       " 1969346438.0,\n",
       " 4236806414.0,\n",
       " 470438993.0,\n",
       " 21833728.0,\n",
       " 82447359.0,\n",
       " 45302174.0,\n",
       " 272114651.0,\n",
       " 15976697.0,\n",
       " 33529092.0,\n",
       " 1247921690.0,\n",
       " 278781274.0,\n",
       " 47534393.0,\n",
       " 61759552.0,\n",
       " 7.072886419959398e+17,\n",
       " 306097862.0,\n",
       " 43283406.0,\n",
       " 352145373.0,\n",
       " 43296233.0,\n",
       " 3698501.0,\n",
       " 561654065.0,\n",
       " 7.418149298424054e+17,\n",
       " 18764841.0,\n",
       " 19062754.0,\n",
       " 3520122318.0,\n",
       " 14546264.0,\n",
       " 2604924327.0,\n",
       " 338613723.0,\n",
       " 15150453.0,\n",
       " 16027904.0,\n",
       " 18210263.0,\n",
       " 3974665634.0,\n",
       " 3974665634.0,\n",
       " 177584156.0,\n",
       " 3685459885.0,\n",
       " 1620343501.0,\n",
       " 764644970.0,\n",
       " 726148842.0,\n",
       " 7.56487123650261e+17,\n",
       " 792788359.0,\n",
       " 184997446.0,\n",
       " 7.066560423278019e+17,\n",
       " 7.22787662214484e+17,\n",
       " 1541810258.0,\n",
       " 4068318254.0,\n",
       " 2725381381.0,\n",
       " 21343120.0,\n",
       " 275276082.0,\n",
       " 323208365.0,\n",
       " 233933230.0,\n",
       " 55976150.0,\n",
       " 90804267.0,\n",
       " 2570615502.0,\n",
       " 208996041.0,\n",
       " 133478732.0,\n",
       " 39578387.0,\n",
       " 316739994.0,\n",
       " 3308560736.0,\n",
       " 39308549.0,\n",
       " 2845253645.0,\n",
       " 2750334224.0,\n",
       " 264268489.0,\n",
       " 39349894.0,\n",
       " 42822396.0,\n",
       " 21458842.0,\n",
       " 88243144.0,\n",
       " 1426907185.0,\n",
       " 2332264339.0,\n",
       " 104513680.0,\n",
       " 618563.0,\n",
       " 264361128.0,\n",
       " 34917150.0,\n",
       " 7.529613571132006e+17,\n",
       " 59817827.0,\n",
       " 398919818.0,\n",
       " 7.154963047770153e+17,\n",
       " 347627434.0,\n",
       " 7.070777386207805e+17,\n",
       " 7.424468253370286e+17,\n",
       " 9300262.0,\n",
       " 7.04034081898668e+17,\n",
       " 1374585606.0,\n",
       " 7.189832996081295e+17,\n",
       " 584177882.0,\n",
       " 9300262.0,\n",
       " 7.211853467975721e+17,\n",
       " 67899097.0,\n",
       " 2499109494.0,\n",
       " 2796929687.0,\n",
       " 292929271.0,\n",
       " 2269567158.0,\n",
       " 2393098723.0,\n",
       " 7.099204195292815e+17,\n",
       " 4784596178.0,\n",
       " 4236806414.0,\n",
       " 494624290.0,\n",
       " 561654065.0,\n",
       " 1599141961.0,\n",
       " 17860906.0,\n",
       " 2839030037.0,\n",
       " 4226960114.0,\n",
       " 7.436883724602163e+17,\n",
       " 118496889.0,\n",
       " 2915156131.0,\n",
       " 166329578.0,\n",
       " 4676548814.0,\n",
       " 4197546072.0,\n",
       " 88494677.0,\n",
       " 608471241.0,\n",
       " 608471241.0,\n",
       " 325164172.0,\n",
       " 26672170.0,\n",
       " 177584156.0,\n",
       " 2801177472.0,\n",
       " 95995039.0,\n",
       " 126009130.0,\n",
       " 126009130.0,\n",
       " 399774230.0,\n",
       " 972255098.0,\n",
       " 1917731.0,\n",
       " 65854394.0,\n",
       " 7.415895031025705e+17,\n",
       " 1917731.0,\n",
       " 2244290719.0,\n",
       " 7.016558809205105e+17,\n",
       " 2793194082.0,\n",
       " 18301196.0,\n",
       " 1496756359.0,\n",
       " 430118889.0,\n",
       " 15164565.0,\n",
       " 3697285157.0,\n",
       " 2923563766.0,\n",
       " 2923563766.0,\n",
       " 1375629385.0,\n",
       " 1325018372.0,\n",
       " 25975551.0,\n",
       " 22722452.0,\n",
       " 374284455.0,\n",
       " 49035775.0,\n",
       " 48421473.0,\n",
       " 428713002.0,\n",
       " 3407847574.0,\n",
       " 18545481.0,\n",
       " 15164565.0,\n",
       " 47652227.0,\n",
       " 78523300.0,\n",
       " 361275163.0,\n",
       " 495622651.0,\n",
       " 19098324.0,\n",
       " 421275603.0,\n",
       " 177584156.0,\n",
       " 361275163.0,\n",
       " 28905454.0,\n",
       " 15164565.0,\n",
       " 4429709805.0,\n",
       " 1496756359.0,\n",
       " 766797410.0,\n",
       " 15164565.0,\n",
       " 548172120.0,\n",
       " 2241227238.0,\n",
       " 15164565.0,\n",
       " 30456403.0,\n",
       " 248692627.0,\n",
       " 28048355.0,\n",
       " 18545481.0,\n",
       " 1917731.0,\n",
       " 138742761.0,\n",
       " 289118612.0,\n",
       " 15706904.0,\n",
       " 865636782.0,\n",
       " 2291904432.0,\n",
       " 3103091745.0,\n",
       " 3047937393.0,\n",
       " 167796615.0,\n",
       " 14511951.0,\n",
       " 49452556.0,\n",
       " 3974665634.0,\n",
       " 1018491630.0,\n",
       " 537904539.0,\n",
       " 2374469136.0,\n",
       " 3433022621.0,\n",
       " 585465795.0,\n",
       " 2883533651.0,\n",
       " 16955991.0,\n",
       " 547969112.0,\n",
       " 272114651.0,\n",
       " 936148682.0,\n",
       " 7.286355238167757e+17,\n",
       " 547969112.0,\n",
       " 67899097.0,\n",
       " 547969112.0,\n",
       " 3047377314.0,\n",
       " 7.59179340307243e+17,\n",
       " 1367531.0,\n",
       " 361275163.0,\n",
       " 399717630.0,\n",
       " 9369062.0,\n",
       " 762252876.0,\n",
       " 582135529.0,\n",
       " 851866178.0,\n",
       " 608471241.0,\n",
       " 331825712.0,\n",
       " 7.338080694407414e+17,\n",
       " 3995778614.0,\n",
       " 3390416469.0,\n",
       " 1367531.0,\n",
       " 754135908.0,\n",
       " 890302164.0,\n",
       " 81602176.0,\n",
       " 7.28979362775638e+17,\n",
       " 553998793.0,\n",
       " 157054921.0,\n",
       " 2255424079.0,\n",
       " 547969112.0,\n",
       " 2875990472.0,\n",
       " 2316246829.0,\n",
       " 7.583137156954276e+17,\n",
       " 7.583137156954276e+17,\n",
       " 25446957.0,\n",
       " 86963075.0,\n",
       " 7.153576049612636e+17,\n",
       " 140638292.0,\n",
       " 2801177472.0,\n",
       " 2801177472.0,\n",
       " 1976799128.0,\n",
       " 421460415.0,\n",
       " 2775579278.0,\n",
       " 3974665634.0,\n",
       " 1482516500.0,\n",
       " 7.503998058519634e+17,\n",
       " 43413425.0,\n",
       " 43308598.0,\n",
       " 3066008697.0,\n",
       " 18195110.0,\n",
       " 40246348.0,\n",
       " 2793800587.0,\n",
       " 802722056.0,\n",
       " 43308598.0,\n",
       " 402985469.0,\n",
       " 4897543230.0,\n",
       " 865538113.0,\n",
       " 2972410695.0,\n",
       " 2998466930.0,\n",
       " 4182512297.0,\n",
       " 30067748.0,\n",
       " 71359942.0,\n",
       " 277090518.0,\n",
       " 65003619.0,\n",
       " 7.538060660522353e+17,\n",
       " 7.053335675435049e+17,\n",
       " 2998441830.0,\n",
       " 3308110350.0,\n",
       " 4796678896.0,\n",
       " 2441304533.0,\n",
       " 561654065.0,\n",
       " 3034834939.0,\n",
       " 261035490.0,\n",
       " 4851276082.0,\n",
       " 370513594.0,\n",
       " 15854008.0,\n",
       " 2226870793.0,\n",
       " 971176056.0,\n",
       " 4240150034.0,\n",
       " 561654065.0,\n",
       " 332433520.0,\n",
       " 2416597188.0,\n",
       " 2416597188.0,\n",
       " 17094311.0,\n",
       " 543452426.0,\n",
       " 4846395737.0,\n",
       " 3220025137.0,\n",
       " 7.537534936226284e+17,\n",
       " 18002528.0,\n",
       " 16444868.0,\n",
       " 3433002136.0,\n",
       " 7.436518965780603e+17,\n",
       " 21833728.0,\n",
       " 50010587.0,\n",
       " 835328618.0,\n",
       " 297457814.0,\n",
       " 620872388.0,\n",
       " 3139537490.0,\n",
       " 60370335.0,\n",
       " 1225818590.0,\n",
       " 234841289.0,\n",
       " 2891102076.0,\n",
       " 7.021744067396854e+17,\n",
       " 57912099.0,\n",
       " 7.324458336820183e+17,\n",
       " 7.324458336820183e+17,\n",
       " 2904671027.0,\n",
       " 322674930.0,\n",
       " 65003619.0,\n",
       " 4543053312.0,\n",
       " 42158021.0,\n",
       " 279208035.0,\n",
       " 180511021.0,\n",
       " 311241090.0,\n",
       " 15359578.0,\n",
       " 20826129.0,\n",
       " 4700477725.0,\n",
       " 371142734.0,\n",
       " 24638062.0,\n",
       " 45291573.0,\n",
       " 552410408.0,\n",
       " 20295763.0,\n",
       " 1564676498.0,\n",
       " 17343602.0,\n",
       " 552983877.0,\n",
       " 18561223.0,\n",
       " 14787713.0,\n",
       " 1568498256.0,\n",
       " 752493806.0,\n",
       " 516093774.0,\n",
       " 28905454.0,\n",
       " 2747259456.0,\n",
       " 224268822.0,\n",
       " 17232340.0,\n",
       " 3359243787.0,\n",
       " 75974281.0,\n",
       " 233933230.0,\n",
       " 233933230.0,\n",
       " 479068816.0,\n",
       " 2892976359.0,\n",
       " 19908848.0,\n",
       " 4237277387.0,\n",
       " 3359243787.0,\n",
       " 284104234.0,\n",
       " 3592503441.0,\n",
       " 905530344.0,\n",
       " 19899980.0,\n",
       " 600061917.0,\n",
       " 221452291.0,\n",
       " 4765012532.0,\n",
       " 15671833.0,\n",
       " 1530853626.0,\n",
       " 24395228.0,\n",
       " 343171160.0,\n",
       " 2908170952.0,\n",
       " 251913645.0,\n",
       " 7.099204195292815e+17,\n",
       " 431198790.0,\n",
       " 90285099.0,\n",
       " 2299826742.0,\n",
       " 142077688.0,\n",
       " 1213274119.0,\n",
       " 608471241.0,\n",
       " 561654065.0,\n",
       " 15368940.0,\n",
       " 2740452163.0,\n",
       " 25446957.0,\n",
       " 70773048.0,\n",
       " 7.061766974402765e+17,\n",
       " 759251.0,\n",
       " 50881405.0,\n",
       " 1356123823.0,\n",
       " 7.16260246109483e+17,\n",
       " 3202808548.0,\n",
       " 150059501.0,\n",
       " 565008398.0,\n",
       " 56192739.0,\n",
       " 7.510953314089738e+17,\n",
       " 2900220088.0,\n",
       " 1652687708.0,\n",
       " 7.04034081898668e+17,\n",
       " 37315032.0,\n",
       " 632171886.0,\n",
       " 124199238.0,\n",
       " 3589464580.0,\n",
       " 542962969.0,\n",
       " 2421067430.0,\n",
       " 7.043630610130575e+17,\n",
       " 2910776820.0,\n",
       " 1096411117.0,\n",
       " 3124454195.0,\n",
       " 4760647532.0,\n",
       " 38367188.0,\n",
       " 605448008.0,\n",
       " 83788240.0,\n",
       " 374284455.0,\n",
       " 22798141.0,\n",
       " 2818206308.0,\n",
       " 2382281029.0,\n",
       " 415256606.0,\n",
       " 1966026648.0,\n",
       " 893470729.0,\n",
       " 2953422203.0,\n",
       " 167363471.0,\n",
       " 291874773.0,\n",
       " 44103717.0,\n",
       " 28670599.0,\n",
       " 7.395676265113887e+17,\n",
       " 200656602.0,\n",
       " 31801993.0,\n",
       " 7.032306737761976e+17,\n",
       " 146928495.0,\n",
       " 7.290963526767821e+17,\n",
       " 1643634444.0,\n",
       " 246377722.0,\n",
       " 3407847574.0,\n",
       " 21845346.0,\n",
       " 385075625.0,\n",
       " 29465136.0,\n",
       " 13148382.0,\n",
       " 4851276082.0,\n",
       " 3416492723.0,\n",
       " 3359243787.0,\n",
       " 9611592.0,\n",
       " 7.390809166103429e+17,\n",
       " 34367582.0,\n",
       " 28007091.0,\n",
       " 3124454195.0,\n",
       " 26579739.0,\n",
       " 76373.0,\n",
       " 7.58049168690643e+17,\n",
       " 963176808.0,\n",
       " 19193016.0,\n",
       " 3381686297.0,\n",
       " 93493910.0,\n",
       " 3313143320.0,\n",
       " 2610081858.0,\n",
       " 4646073148.0,\n",
       " 344729527.0,\n",
       " 32951070.0,\n",
       " 37013920.0,\n",
       " 23116280.0,\n",
       " 25197377.0,\n",
       " 33228837.0,\n",
       " 4242905298.0,\n",
       " 18637247.0,\n",
       " 7.149495057208238e+17,\n",
       " 872954089.0,\n",
       " 437352926.0,\n",
       " 23004495.0,\n",
       " 4361249533.0,\n",
       " 156377910.0,\n",
       " 4452560741.0,\n",
       " 273951517.0,\n",
       " 264493607.0,\n",
       " 7.601308233748439e+17,\n",
       " 118845216.0,\n",
       " 232333397.0,\n",
       " 414873541.0,\n",
       " 3723723982.0,\n",
       " 824391878.0,\n",
       " 450213974.0,\n",
       " 890302164.0,\n",
       " 29059784.0,\n",
       " 709144993.0,\n",
       " 15104164.0,\n",
       " 289118612.0,\n",
       " 3314963469.0,\n",
       " 21833728.0,\n",
       " 796261392.0,\n",
       " 227010728.0,\n",
       " 196109220.0,\n",
       " 582414351.0,\n",
       " 340968277.0,\n",
       " 1969346438.0,\n",
       " 13804112.0,\n",
       " 7.395676265113887e+17,\n",
       " 835328618.0,\n",
       " 164523117.0,\n",
       " 446228264.0,\n",
       " 39344374.0,\n",
       " 7.5774968458052e+17,\n",
       " 515542297.0,\n",
       " 41265813.0,\n",
       " 78523300.0,\n",
       " 18643437.0,\n",
       " 232201971.0,\n",
       " 801071388.0,\n",
       " 3539755636.0,\n",
       " 1367531.0,\n",
       " 1564676498.0,\n",
       " 4901489212.0,\n",
       " 7.04034081898668e+17,\n",
       " 22630309.0,\n",
       " 46520074.0,\n",
       " 17895820.0,\n",
       " 14412533.0,\n",
       " 1917731.0,\n",
       " 1080576949.0,\n",
       " 492833134.0,\n",
       " 65132037.0,\n",
       " 1735546184.0,\n",
       " 7.650916054726984e+17,\n",
       " 7.431422447068488e+17,\n",
       " 107012365.0,\n",
       " 237623215.0,\n",
       " 865187658.0,\n",
       " 621110318.0,\n",
       " 25197377.0,\n",
       " 7.395676265113887e+17,\n",
       " 1462579488.0,\n",
       " 430905373.0,\n",
       " 20854637.0,\n",
       " 25832979.0,\n",
       " 1200713864.0,\n",
       " 7.588095949362381e+17,\n",
       " 7.588095949362381e+17,\n",
       " 374284455.0,\n",
       " 25197377.0,\n",
       " 172394944.0,\n",
       " 910332056.0,\n",
       " 34163521.0,\n",
       " 1537048512.0,\n",
       " 7.156506956476375e+17,\n",
       " 1513958744.0,\n",
       " 7.2757824484164e+17,\n",
       " 7.138326228084122e+17,\n",
       " 4855687055.0,\n",
       " 3558102739.0,\n",
       " 6.953652453766963e+17,\n",
       " 28869089.0,\n",
       " 54065567.0,\n",
       " 54065567.0,\n",
       " 7.46367431388586e+17,\n",
       " 7.46367431388586e+17,\n",
       " 3166217539.0,\n",
       " 3329997245.0,\n",
       " 7.650916054726984e+17,\n",
       " 317223956.0,\n",
       " 1849938847.0,\n",
       " 1148951203.0,\n",
       " 138581916.0,\n",
       " 2953617710.0,\n",
       " 49685124.0,\n",
       " 169536421.0,\n",
       " 3124454195.0,\n",
       " 2830167800.0,\n",
       " 141642957.0,\n",
       " 7.108295028430643e+17,\n",
       " 30265457.0,\n",
       " 561654065.0,\n",
       " 16887175.0,\n",
       " 7.307865188481597e+17,\n",
       " 22677397.0,\n",
       " 2353703503.0,\n",
       " 21248626.0,\n",
       " 17395207.0,\n",
       " 144130505.0,\n",
       " 17529294.0,\n",
       " 52801677.0,\n",
       " 7.42923442471764e+17,\n",
       " 3697721113.0,\n",
       " 2584482763.0,\n",
       " 20944649.0,\n",
       " 7.735201633963254e+17,\n",
       " 20889358.0,\n",
       " 67095221.0,\n",
       " 767036004.0,\n",
       " 7.650916054726984e+17,\n",
       " 176914461.0,\n",
       " 78569026.0,\n",
       " 331747494.0,\n",
       " 2316246829.0,\n",
       " 361275163.0,\n",
       " 2364837974.0,\n",
       " 1242465014.0,\n",
       " 289118612.0,\n",
       " 568143078.0,\n",
       " 7.583137156954276e+17,\n",
       " 18195110.0,\n",
       " 7.650916054726984e+17,\n",
       " 1289704663.0,\n",
       " 7.540861259171062e+17,\n",
       " 1371572360.0,\n",
       " 7.692972279571415e+17,\n",
       " 3610264154.0,\n",
       " 27211961.0,\n",
       " 7.233873441752965e+17,\n",
       " 151375368.0,\n",
       " 7.675871285240136e+17,\n",
       " 35677844.0,\n",
       " 936304345.0,\n",
       " 19195442.0,\n",
       " 7.442818843104051e+17,\n",
       " 3389134989.0,\n",
       " 3019417439.0,\n",
       " 10735392.0,\n",
       " 3362345172.0,\n",
       " 33388399.0,\n",
       " 341688336.0,\n",
       " 231641765.0,\n",
       " 3394911915.0,\n",
       " 2902031256.0,\n",
       " 3297022953.0,\n",
       " 455288410.0,\n",
       " 219815601.0,\n",
       " 374284455.0,\n",
       " 2684196134.0,\n",
       " 865636782.0,\n",
       " 126009130.0,\n",
       " 126009130.0,\n",
       " 126009130.0,\n",
       " 126009130.0,\n",
       " 126009130.0,\n",
       " 126009130.0,\n",
       " 126009130.0,\n",
       " 126009130.0,\n",
       " 126009130.0,\n",
       " 126009130.0,\n",
       " 126009130.0,\n",
       " 126009130.0,\n",
       " 126009130.0,\n",
       " 126009130.0,\n",
       " 126009130.0,\n",
       " 126009130.0,\n",
       " 126009130.0,\n",
       " 126009130.0,\n",
       " 126009130.0,\n",
       " 325893346.0,\n",
       " 126009130.0,\n",
       " 126009130.0,\n",
       " 126009130.0,\n",
       " 126009130.0,\n",
       " 126009130.0,\n",
       " 126009130.0,\n",
       " 126009130.0,\n",
       " 126009130.0,\n",
       " 18132806.0,\n",
       " 3057650044.0,\n",
       " 972651.0,\n",
       " 865636782.0,\n",
       " 1353347065.0,\n",
       " 7.675871285240136e+17,\n",
       " 3686488635.0,\n",
       " 3002739417.0,\n",
       " 1183779272.0,\n",
       " 1309391066.0,\n",
       " 4334047641.0,\n",
       " 42371615.0,\n",
       " 3930608896.0,\n",
       " 21773704.0,\n",
       " 399774230.0,\n",
       " 7.580762978766029e+17,\n",
       " 2911587582.0,\n",
       " 7.356243040505938e+17,\n",
       " 4240150034.0,\n",
       " 16674128.0,\n",
       " 14441020.0,\n",
       " 30265457.0,\n",
       " 1326707346.0,\n",
       " 908933376.0,\n",
       " 124185033.0,\n",
       " 2451462137.0,\n",
       " 2417586104.0,\n",
       " 2344571893.0,\n",
       " 3340267793.0,\n",
       " 902851051.0,\n",
       " 1339835893.0,\n",
       " 36196526.0,\n",
       " 6563122.0,\n",
       " 4345493055.0,\n",
       " 1851877248.0,\n",
       " 90573210.0,\n",
       " 118845216.0,\n",
       " 172032623.0,\n",
       " 2786693552.0,\n",
       " 755726522.0,\n",
       " 2788642796.0,\n",
       " 340660967.0,\n",
       " 22141405.0,\n",
       " 4194141941.0,\n",
       " 115772421.0,\n",
       " 22714413.0,\n",
       " 97082147.0,\n",
       " 63514682.0,\n",
       " 1027392638.0,\n",
       " 259509924.0,\n",
       " 7.626582158509711e+17,\n",
       " 214112621.0,\n",
       " 15511737.0,\n",
       " 7.583137156954276e+17,\n",
       " 20065936.0,\n",
       " 7.047959204334141e+17,\n",
       " ...]"
      ]
     },
     "execution_count": 31,
     "metadata": {},
     "output_type": "execute_result"
    }
   ],
   "source": [
    "accounts"
   ]
  },
  {
   "cell_type": "code",
   "execution_count": 14,
   "metadata": {},
   "outputs": [
    {
     "data": {
      "text/plain": [
       "['',\n",
       " \"{'cap': {'english': 0.2520419704315795, 'universal': 0.5982419966968565}, 'display_scores': {'english': {'astroturf': 1.2, 'fake_follower': 0.2, 'financial': 0.0, 'other': 1.3, 'overall': 0.1, 'self_declared': 0.1, 'spammer': 0.0}, 'universal': {'astroturf': 0.6, 'fake_follower': 0.4, 'financial': 0.0, 'other': 0.9, 'overall': 0.7, 'self_declared': 0.1, 'spammer': 0.0}}, 'raw_scores': {'english': {'astroturf': 0.24, 'fake_follower': 0.05, 'financial': 0.0, 'other': 0.26, 'overall': 0.02, 'self_declared': 0.02, 'spammer': 0.0}, 'universal': {'astroturf': 0.12, 'fake_follower': 0.07, 'financial': 0.0, 'other': 0.18, 'overall': 0.14, 'self_declared': 0.02, 'spammer': 0.0}}, 'user': {'majority_lang': 'en', 'user_data': {'id_str': '14802766', 'screen_name': 'nan'}}}\",\n",
       " \"{'cap': {'english': 0.2787259978325127, 'universal': 0.6415870166679795}, 'display_scores': {'english': {'astroturf': 1.2, 'fake_follower': 0.4, 'financial': 0.0, 'other': 1.3, 'overall': 0.2, 'self_declared': 0.1, 'spammer': 0.0}, 'universal': {'astroturf': 0.6, 'fake_follower': 0.5, 'financial': 0.0, 'other': 1.0, 'overall': 0.8, 'self_declared': 0.1, 'spammer': 0.0}}, 'raw_scores': {'english': {'astroturf': 0.24, 'fake_follower': 0.08, 'financial': 0.0, 'other': 0.26, 'overall': 0.03, 'self_declared': 0.02, 'spammer': 0.0}, 'universal': {'astroturf': 0.12, 'fake_follower': 0.1, 'financial': 0.0, 'other': 0.19, 'overall': 0.16, 'self_declared': 0.02, 'spammer': 0.0}}, 'user': {'majority_lang': 'en', 'user_data': {'id_str': '14802766', 'screen_name': 'nan'}}}\",\n",
       " \"{'cap': {'english': 0.3342309004634953, 'universal': 0.6608500314332488}, 'display_scores': {'english': {'astroturf': 1.2, 'fake_follower': 0.3, 'financial': 0.0, 'other': 1.3, 'overall': 0.2, 'self_declared': 0.2, 'spammer': 0.0}, 'universal': {'astroturf': 0.6, 'fake_follower': 0.5, 'financial': 0.0, 'other': 1.0, 'overall': 0.8, 'self_declared': 0.1, 'spammer': 0.0}}, 'raw_scores': {'english': {'astroturf': 0.24, 'fake_follower': 0.06, 'financial': 0.0, 'other': 0.26, 'overall': 0.05, 'self_declared': 0.03, 'spammer': 0.0}, 'universal': {'astroturf': 0.12, 'fake_follower': 0.1, 'financial': 0.0, 'other': 0.19, 'overall': 0.17, 'self_declared': 0.02, 'spammer': 0.0}}, 'user': {'majority_lang': 'en', 'user_data': {'id_str': '14802766', 'screen_name': 'nan'}}}\",\n",
       " '{\\'error\\': \"TweepError: [{\\'code\\': 34, \\'message\\': \\'Sorry, that page does not exist.\\'}]\"}']"
      ]
     },
     "execution_count": 14,
     "metadata": {},
     "output_type": "execute_result"
    }
   ],
   "source": [
    "list(set(snopes.botometer.tolist()))"
   ]
  },
  {
   "cell_type": "code",
   "execution_count": 15,
   "metadata": {},
   "outputs": [
    {
     "data": {
      "text/html": [
       "<div>\n",
       "<style scoped>\n",
       "    .dataframe tbody tr th:only-of-type {\n",
       "        vertical-align: middle;\n",
       "    }\n",
       "\n",
       "    .dataframe tbody tr th {\n",
       "        vertical-align: top;\n",
       "    }\n",
       "\n",
       "    .dataframe thead th {\n",
       "        text-align: right;\n",
       "    }\n",
       "</style>\n",
       "<table border=\"1\" class=\"dataframe\">\n",
       "  <thead>\n",
       "    <tr style=\"text-align: right;\">\n",
       "      <th></th>\n",
       "      <th>id</th>\n",
       "      <th>original_id</th>\n",
       "      <th>tweet_text</th>\n",
       "      <th>tweet_url</th>\n",
       "      <th>claim</th>\n",
       "      <th>rating</th>\n",
       "      <th>images</th>\n",
       "      <th>text_images</th>\n",
       "      <th>source</th>\n",
       "      <th>label</th>\n",
       "      <th>label_info</th>\n",
       "      <th>available</th>\n",
       "      <th>acc_id</th>\n",
       "      <th>botometer</th>\n",
       "    </tr>\n",
       "  </thead>\n",
       "  <tbody>\n",
       "    <tr>\n",
       "      <th>199</th>\n",
       "      <td>740993500053901312</td>\n",
       "      <td>740992653555163136</td>\n",
       "      <td>@HillaryClinton  Hillbilly Racists #blm #Black...</td>\n",
       "      <td>https://twitter.com/POTUS/status/7409935000539...</td>\n",
       "      <td>A photograph shows Hillary Clinton in blackfac...</td>\n",
       "      <td>['https://www.snopes.com/tachyon/2018/03/ratin...</td>\n",
       "      <td>http://pbs.twimg.com/media/CkiI48wUkAIzNuC.jpg</td>\n",
       "      <td>THE DEMOCRATS AREN'T GOING TO LIKE THIS ONEI H...</td>\n",
       "      <td>https://www.snopes.com/fact-check/hillary-clin...</td>\n",
       "      <td>false</td>\n",
       "      <td>NaN</td>\n",
       "      <td>ok</td>\n",
       "      <td>NaN</td>\n",
       "      <td>{'cap': {'english': 0.2787259978325127, 'unive...</td>\n",
       "    </tr>\n",
       "    <tr>\n",
       "      <th>272</th>\n",
       "      <td>746201362900254720</td>\n",
       "      <td>746167181608685568</td>\n",
       "      <td>@GrantJr @wakeupfla @FoxNews here's the true R...</td>\n",
       "      <td>https://twitter.com/POTUS/status/7462013629002...</td>\n",
       "      <td>A photograph shows Hillary Clinton in blackfac...</td>\n",
       "      <td>['https://www.snopes.com/tachyon/2018/03/ratin...</td>\n",
       "      <td>http://pbs.twimg.com/media/ClrrF4gWIAAgP-3.jpg</td>\n",
       "      <td>THE DEMOCRATS AREN'T GOING TO LIKE THIS ONE ! ...</td>\n",
       "      <td>https://www.snopes.com/fact-check/hillary-clin...</td>\n",
       "      <td>false</td>\n",
       "      <td>NaN</td>\n",
       "      <td>ok</td>\n",
       "      <td>NaN</td>\n",
       "      <td>{'cap': {'english': 0.2787259978325127, 'unive...</td>\n",
       "    </tr>\n",
       "    <tr>\n",
       "      <th>523</th>\n",
       "      <td>756589186979946496</td>\n",
       "      <td>756557780815867904</td>\n",
       "      <td>Guess This Applies To You Stupid &amp;amp; Easy 2 ...</td>\n",
       "      <td>https://twitter.com/POTUS/status/7565891869799...</td>\n",
       "      <td>Hillary Clinton said that Democratic voters ar...</td>\n",
       "      <td>['https://www.snopes.com/tachyon/2018/03/ratin...</td>\n",
       "      <td>http://pbs.twimg.com/media/Cn_VShHXgAA76R3.jpg</td>\n",
       "      <td>\" Look , the average Democrat voter is just pl...</td>\n",
       "      <td>https://www.snopes.com/fact-check/hillary-clin...</td>\n",
       "      <td>false</td>\n",
       "      <td>NaN</td>\n",
       "      <td>ok</td>\n",
       "      <td>NaN</td>\n",
       "      <td>{'cap': {'english': 0.2787259978325127, 'unive...</td>\n",
       "    </tr>\n",
       "    <tr>\n",
       "      <th>630</th>\n",
       "      <td>758755498300760064</td>\n",
       "      <td>758752442733457408</td>\n",
       "      <td>The Cosmic 'ice sculptures' of the Carina Nebu...</td>\n",
       "      <td>https://twitter.com/POTUS/status/7587554983007...</td>\n",
       "      <td>Scientists are stumped by a photograph taken b...</td>\n",
       "      <td>['https://www.snopes.com/tachyon/2018/03/ratin...</td>\n",
       "      <td>http://pbs.twimg.com/media/CV5fNY5WcAQftf4.jpg</td>\n",
       "      <td>NaN</td>\n",
       "      <td>https://www.snopes.com/fact-check/gates-of-hea...</td>\n",
       "      <td>false</td>\n",
       "      <td>NaN</td>\n",
       "      <td>missing</td>\n",
       "      <td>NaN</td>\n",
       "      <td>{'cap': {'english': 0.2787259978325127, 'unive...</td>\n",
       "    </tr>\n",
       "    <tr>\n",
       "      <th>1061</th>\n",
       "      <td>770292202593484800</td>\n",
       "      <td>770282705434968064</td>\n",
       "      <td>@duceyco @garywhitta @SubjectPolitics PS: I'm ...</td>\n",
       "      <td>https://twitter.com/POTUS/status/7702922025934...</td>\n",
       "      <td>A photograph shows Hillary Clinton in blackfac...</td>\n",
       "      <td>['https://www.snopes.com/tachyon/2018/03/ratin...</td>\n",
       "      <td>http://pbs.twimg.com/media/CrCXl2LUMAAkSWk.jpg</td>\n",
       "      <td>NaN</td>\n",
       "      <td>https://www.snopes.com/fact-check/hillary-clin...</td>\n",
       "      <td>false</td>\n",
       "      <td>NaN</td>\n",
       "      <td>ok</td>\n",
       "      <td>NaN</td>\n",
       "      <td>{'cap': {'english': 0.2787259978325127, 'unive...</td>\n",
       "    </tr>\n",
       "  </tbody>\n",
       "</table>\n",
       "</div>"
      ],
      "text/plain": [
       "                      id         original_id  \\\n",
       "199   740993500053901312  740992653555163136   \n",
       "272   746201362900254720  746167181608685568   \n",
       "523   756589186979946496  756557780815867904   \n",
       "630   758755498300760064  758752442733457408   \n",
       "1061  770292202593484800  770282705434968064   \n",
       "\n",
       "                                             tweet_text  \\\n",
       "199   @HillaryClinton  Hillbilly Racists #blm #Black...   \n",
       "272   @GrantJr @wakeupfla @FoxNews here's the true R...   \n",
       "523   Guess This Applies To You Stupid &amp; Easy 2 ...   \n",
       "630   The Cosmic 'ice sculptures' of the Carina Nebu...   \n",
       "1061  @duceyco @garywhitta @SubjectPolitics PS: I'm ...   \n",
       "\n",
       "                                              tweet_url  \\\n",
       "199   https://twitter.com/POTUS/status/7409935000539...   \n",
       "272   https://twitter.com/POTUS/status/7462013629002...   \n",
       "523   https://twitter.com/POTUS/status/7565891869799...   \n",
       "630   https://twitter.com/POTUS/status/7587554983007...   \n",
       "1061  https://twitter.com/POTUS/status/7702922025934...   \n",
       "\n",
       "                                                  claim  \\\n",
       "199   A photograph shows Hillary Clinton in blackfac...   \n",
       "272   A photograph shows Hillary Clinton in blackfac...   \n",
       "523   Hillary Clinton said that Democratic voters ar...   \n",
       "630   Scientists are stumped by a photograph taken b...   \n",
       "1061  A photograph shows Hillary Clinton in blackfac...   \n",
       "\n",
       "                                                 rating  \\\n",
       "199   ['https://www.snopes.com/tachyon/2018/03/ratin...   \n",
       "272   ['https://www.snopes.com/tachyon/2018/03/ratin...   \n",
       "523   ['https://www.snopes.com/tachyon/2018/03/ratin...   \n",
       "630   ['https://www.snopes.com/tachyon/2018/03/ratin...   \n",
       "1061  ['https://www.snopes.com/tachyon/2018/03/ratin...   \n",
       "\n",
       "                                              images  \\\n",
       "199   http://pbs.twimg.com/media/CkiI48wUkAIzNuC.jpg   \n",
       "272   http://pbs.twimg.com/media/ClrrF4gWIAAgP-3.jpg   \n",
       "523   http://pbs.twimg.com/media/Cn_VShHXgAA76R3.jpg   \n",
       "630   http://pbs.twimg.com/media/CV5fNY5WcAQftf4.jpg   \n",
       "1061  http://pbs.twimg.com/media/CrCXl2LUMAAkSWk.jpg   \n",
       "\n",
       "                                            text_images  \\\n",
       "199   THE DEMOCRATS AREN'T GOING TO LIKE THIS ONEI H...   \n",
       "272   THE DEMOCRATS AREN'T GOING TO LIKE THIS ONE ! ...   \n",
       "523   \" Look , the average Democrat voter is just pl...   \n",
       "630                                                 NaN   \n",
       "1061                                                NaN   \n",
       "\n",
       "                                                 source  label  label_info  \\\n",
       "199   https://www.snopes.com/fact-check/hillary-clin...  false         NaN   \n",
       "272   https://www.snopes.com/fact-check/hillary-clin...  false         NaN   \n",
       "523   https://www.snopes.com/fact-check/hillary-clin...  false         NaN   \n",
       "630   https://www.snopes.com/fact-check/gates-of-hea...  false         NaN   \n",
       "1061  https://www.snopes.com/fact-check/hillary-clin...  false         NaN   \n",
       "\n",
       "     available  acc_id                                          botometer  \n",
       "199         ok     NaN  {'cap': {'english': 0.2787259978325127, 'unive...  \n",
       "272         ok     NaN  {'cap': {'english': 0.2787259978325127, 'unive...  \n",
       "523         ok     NaN  {'cap': {'english': 0.2787259978325127, 'unive...  \n",
       "630    missing     NaN  {'cap': {'english': 0.2787259978325127, 'unive...  \n",
       "1061        ok     NaN  {'cap': {'english': 0.2787259978325127, 'unive...  "
      ]
     },
     "execution_count": 15,
     "metadata": {},
     "output_type": "execute_result"
    }
   ],
   "source": [
    "snopes[snopes.botometer.str.contains(\"{'cap': {'english': 0.2787259978325127, 'universal': 0.6415870166679795}, 'display_scores': {'english': {'astroturf': 1.2, 'fake_follower': 0.4, 'financial': 0.0, 'other': 1.3, 'overall': 0.2, 'self_declared': 0.1, 'spammer': 0.0}, 'universal': {'astroturf': 0.6, 'fake_follower': 0.5, 'financial': 0.0, 'other': 1.0, 'overall': 0.8, 'self_declared': 0.1, 'spammer': 0.0}}, 'raw_scores': {'english': {'astroturf': 0.24, 'fake_follower': 0.08, 'financial': 0.0, 'other': 0.26, 'overall': 0.03, 'self_declared': 0.02, 'spammer': 0.0}, 'universal': {'astroturf': 0.12, 'fake_follower': 0.1, 'financial': 0.0, 'other': 0.19, 'overall': 0.16, 'self_declared': 0.02, 'spammer': 0.0}}, 'user': {'majority_lang': 'en', 'user_data': {'id_str': '14802766', 'screen_name': 'nan'}}}\")]"
   ]
  },
  {
   "cell_type": "code",
   "execution_count": 23,
   "metadata": {},
   "outputs": [
    {
     "data": {
      "text/html": [
       "<div>\n",
       "<style scoped>\n",
       "    .dataframe tbody tr th:only-of-type {\n",
       "        vertical-align: middle;\n",
       "    }\n",
       "\n",
       "    .dataframe tbody tr th {\n",
       "        vertical-align: top;\n",
       "    }\n",
       "\n",
       "    .dataframe thead th {\n",
       "        text-align: right;\n",
       "    }\n",
       "</style>\n",
       "<table border=\"1\" class=\"dataframe\">\n",
       "  <thead>\n",
       "    <tr style=\"text-align: right;\">\n",
       "      <th></th>\n",
       "      <th>id</th>\n",
       "      <th>original_id</th>\n",
       "      <th>tweet_text</th>\n",
       "      <th>tweet_url</th>\n",
       "      <th>claim</th>\n",
       "      <th>rating</th>\n",
       "      <th>images</th>\n",
       "      <th>text_images</th>\n",
       "      <th>source</th>\n",
       "      <th>label</th>\n",
       "      <th>label_info</th>\n",
       "      <th>available</th>\n",
       "      <th>acc_id</th>\n",
       "      <th>botometer</th>\n",
       "    </tr>\n",
       "  </thead>\n",
       "  <tbody>\n",
       "    <tr>\n",
       "      <th>0</th>\n",
       "      <td>1000085962053959680</td>\n",
       "      <td>1000006390323253249</td>\n",
       "      <td>*cough* @NFL *cough* https://t.co/H9SskJ8q4Q</td>\n",
       "      <td>https://twitter.com/POTUS/status/1000085962053...</td>\n",
       "      <td>A German football club was banned from playing...</td>\n",
       "      <td>['https://www.snopes.com/tachyon/2018/03/ratin...</td>\n",
       "      <td>http://pbs.twimg.com/media/DeC8Z5DX4AAduxj.jpg</td>\n",
       "      <td>FAILED TO GIVE NAZI SALUTE . German Football C...</td>\n",
       "      <td>https://www.snopes.com/fact-check/german-footb...</td>\n",
       "      <td>mostly-true-new</td>\n",
       "      <td>NaN</td>\n",
       "      <td>auth</td>\n",
       "      <td>NaN</td>\n",
       "      <td>{'cap': {'english': 0.2520419704315795, 'unive...</td>\n",
       "    </tr>\n",
       "    <tr>\n",
       "      <th>1</th>\n",
       "      <td>1000057516615786496</td>\n",
       "      <td>1000015162714263553</td>\n",
       "      <td>@PhilMcCrackin44 Schiff's sister was married t...</td>\n",
       "      <td>https://twitter.com/POTUS/status/1000057516615...</td>\n",
       "      <td>Adam Schiff's sister Melissa was married to Ge...</td>\n",
       "      <td>['https://www.snopes.com/tachyon/2018/03/ratin...</td>\n",
       "      <td>['http://pbs.twimg.com/media/DeDEfF0XcAAHExJ.j...</td>\n",
       "      <td>['', '', 'di \" twant wutted to cmt ur to frpyo...</td>\n",
       "      <td>https://www.snopes.com/fact-check/adam-schiffs...</td>\n",
       "      <td>false</td>\n",
       "      <td>NaN</td>\n",
       "      <td>auth</td>\n",
       "      <td>NaN</td>\n",
       "      <td>{'cap': {'english': 0.2520419704315795, 'unive...</td>\n",
       "    </tr>\n",
       "    <tr>\n",
       "      <th>2</th>\n",
       "      <td>1000037356836093953</td>\n",
       "      <td>1000023322481086466</td>\n",
       "      <td>Brave men died to keep us free. Radicals want ...</td>\n",
       "      <td>https://twitter.com/POTUS/status/1000037356836...</td>\n",
       "      <td>Liberals were offended by a World War I memori...</td>\n",
       "      <td>['https://www.snopes.com/tachyon/2018/03/ratin...</td>\n",
       "      <td>http://pbs.twimg.com/media/DeDL5a-XkAI7Hlw.jpg</td>\n",
       "      <td>#DontTearMeDown IRSTLIBERT . ORG DontTearMeDow...</td>\n",
       "      <td>https://www.snopes.com/fact-check/liberals-dem...</td>\n",
       "      <td>mixture</td>\n",
       "      <td>NaN</td>\n",
       "      <td>ok</td>\n",
       "      <td>3.981226e+09</td>\n",
       "      <td>{'error': \"TweepError: [{'code': 34, 'message'...</td>\n",
       "    </tr>\n",
       "    <tr>\n",
       "      <th>3</th>\n",
       "      <td>1000056983070892032</td>\n",
       "      <td>1000048498677571584</td>\n",
       "      <td>@AP @farmerfar55 Was he wearing the medal give...</td>\n",
       "      <td>https://twitter.com/POTUS/status/1000056983070...</td>\n",
       "      <td>A meme shows President Obama awarding the Pres...</td>\n",
       "      <td>['https://www.snopes.com/tachyon/2018/03/ratin...</td>\n",
       "      <td>['http://pbs.twimg.com/media/DeCrb0SUwAAsw-t.j...</td>\n",
       "      <td>['', '', '', '']</td>\n",
       "      <td>https://www.snopes.com/fact-check/obama-medal-...</td>\n",
       "      <td>mostly-false</td>\n",
       "      <td>NaN</td>\n",
       "      <td>ok</td>\n",
       "      <td>NaN</td>\n",
       "      <td>{'cap': {'english': 0.2520419704315795, 'unive...</td>\n",
       "    </tr>\n",
       "    <tr>\n",
       "      <th>4</th>\n",
       "      <td>1000149982408794113</td>\n",
       "      <td>1000058582476435456</td>\n",
       "      <td>The importance of the electoral college is vit...</td>\n",
       "      <td>https://twitter.com/POTUS/status/1000149982408...</td>\n",
       "      <td>Donald Trump won 3,084 of America's 3,141 coun...</td>\n",
       "      <td>['https://www.snopes.com/tachyon/2018/03/ratin...</td>\n",
       "      <td>http://pbs.twimg.com/media/DeDr-FjVMAAlZe1.jpg</td>\n",
       "      <td>HILLARY'S POPULAR VOTE Mont . Ore . Idaho Wyo ...</td>\n",
       "      <td>https://www.snopes.com/fact-check/trump-clinto...</td>\n",
       "      <td>false</td>\n",
       "      <td>NaN</td>\n",
       "      <td>auth</td>\n",
       "      <td>NaN</td>\n",
       "      <td>{'cap': {'english': 0.2520419704315795, 'unive...</td>\n",
       "    </tr>\n",
       "    <tr>\n",
       "      <th>...</th>\n",
       "      <td>...</td>\n",
       "      <td>...</td>\n",
       "      <td>...</td>\n",
       "      <td>...</td>\n",
       "      <td>...</td>\n",
       "      <td>...</td>\n",
       "      <td>...</td>\n",
       "      <td>...</td>\n",
       "      <td>...</td>\n",
       "      <td>...</td>\n",
       "      <td>...</td>\n",
       "      <td>...</td>\n",
       "      <td>...</td>\n",
       "      <td>...</td>\n",
       "    </tr>\n",
       "    <tr>\n",
       "      <th>11192</th>\n",
       "      <td>1000146882428096512</td>\n",
       "      <td>999903412425711616</td>\n",
       "      <td>I picked this up from someone here. Its🙄🤨🙄 wor...</td>\n",
       "      <td>https://twitter.com/POTUS/status/1000146882428...</td>\n",
       "      <td>A German football club was banned from playing...</td>\n",
       "      <td>['https://www.snopes.com/tachyon/2018/03/ratin...</td>\n",
       "      <td>http://pbs.twimg.com/media/DeBe1X5VAAI-Zhh.jpg</td>\n",
       "      <td>FAILED TO GIVE NAZI SALUTE . German Football C...</td>\n",
       "      <td>https://www.snopes.com/fact-check/german-footb...</td>\n",
       "      <td>mostly-true-new</td>\n",
       "      <td>NaN</td>\n",
       "      <td>ok</td>\n",
       "      <td>9.174376e+07</td>\n",
       "      <td></td>\n",
       "    </tr>\n",
       "    <tr>\n",
       "      <th>11193</th>\n",
       "      <td>1000018438184734720</td>\n",
       "      <td>999961946932723713</td>\n",
       "      <td>Trump is a criminal, a gangster using criminal...</td>\n",
       "      <td>https://twitter.com/POTUS/status/1000018438184...</td>\n",
       "      <td>Notorious mobster Al Capone demanded an inquir...</td>\n",
       "      <td>['https://www.snopes.com/tachyon/2018/03/ratin...</td>\n",
       "      <td>http://pbs.twimg.com/media/DeCUF2ZV4AAMm0Z.jpg</td>\n",
       "      <td>Ci ) icago Sunday Cribune INAL 17 . Capone Dem...</td>\n",
       "      <td>https://www.snopes.com/fact-check/did-al-capon...</td>\n",
       "      <td>false</td>\n",
       "      <td>NaN</td>\n",
       "      <td>missing</td>\n",
       "      <td>8.816829e+17</td>\n",
       "      <td></td>\n",
       "    </tr>\n",
       "    <tr>\n",
       "      <th>11194</th>\n",
       "      <td>999992400725585920</td>\n",
       "      <td>999962442141782016</td>\n",
       "      <td>@VP @NFL @POTUS The only thing that’s #Winning...</td>\n",
       "      <td>https://twitter.com/POTUS/status/9999924007255...</td>\n",
       "      <td>Baseball players in the 1950s were caught on c...</td>\n",
       "      <td>['https://www.snopes.com/tachyon/2018/03/ratin...</td>\n",
       "      <td>http://pbs.twimg.com/media/DeCUiW3VwAAQbyx.jpg</td>\n",
       "      <td>White Baseball Players Kneel in the 50 ' s to ...</td>\n",
       "      <td>https://www.snopes.com/fact-check/baseball-pla...</td>\n",
       "      <td>false</td>\n",
       "      <td>NaN</td>\n",
       "      <td>auth</td>\n",
       "      <td>1.157486e+08</td>\n",
       "      <td></td>\n",
       "    </tr>\n",
       "    <tr>\n",
       "      <th>11195</th>\n",
       "      <td>1000035228679852032</td>\n",
       "      <td>999973815655518213</td>\n",
       "      <td>@mjfree Sports has been used as a means of pro...</td>\n",
       "      <td>https://twitter.com/POTUS/status/1000035228679...</td>\n",
       "      <td>Baseball players in the 1950s were caught on c...</td>\n",
       "      <td>['https://www.snopes.com/tachyon/2018/03/ratin...</td>\n",
       "      <td>http://pbs.twimg.com/media/DeCejk4WkAMruuM.jpg</td>\n",
       "      <td>White Baseball Players Kneel in the 50 ' s to ...</td>\n",
       "      <td>https://www.snopes.com/fact-check/baseball-pla...</td>\n",
       "      <td>false</td>\n",
       "      <td>NaN</td>\n",
       "      <td>ok</td>\n",
       "      <td>5.182272e+08</td>\n",
       "      <td></td>\n",
       "    </tr>\n",
       "    <tr>\n",
       "      <th>11196</th>\n",
       "      <td>999996611039191040</td>\n",
       "      <td>999996171824386048</td>\n",
       "      <td>@spectatorindex How you call this? https://t.c...</td>\n",
       "      <td>https://twitter.com/POTUS/status/9999966110391...</td>\n",
       "      <td>A photograph shows Senator John McCain posing ...</td>\n",
       "      <td>['https://www.snopes.com/tachyon/2018/03/ratin...</td>\n",
       "      <td>http://pbs.twimg.com/media/DeCzNhwX4AICQ0-.jpg</td>\n",
       "      <td>iSIS Leader Abu Bakr al-Baghdadi US . Sen . ' ...</td>\n",
       "      <td>https://www.snopes.com/fact-check/john-mccain-...</td>\n",
       "      <td>miscaptioned</td>\n",
       "      <td>NaN</td>\n",
       "      <td>ok</td>\n",
       "      <td>NaN</td>\n",
       "      <td></td>\n",
       "    </tr>\n",
       "  </tbody>\n",
       "</table>\n",
       "<p>11197 rows × 14 columns</p>\n",
       "</div>"
      ],
      "text/plain": [
       "                        id          original_id  \\\n",
       "0      1000085962053959680  1000006390323253249   \n",
       "1      1000057516615786496  1000015162714263553   \n",
       "2      1000037356836093953  1000023322481086466   \n",
       "3      1000056983070892032  1000048498677571584   \n",
       "4      1000149982408794113  1000058582476435456   \n",
       "...                    ...                  ...   \n",
       "11192  1000146882428096512   999903412425711616   \n",
       "11193  1000018438184734720   999961946932723713   \n",
       "11194   999992400725585920   999962442141782016   \n",
       "11195  1000035228679852032   999973815655518213   \n",
       "11196   999996611039191040   999996171824386048   \n",
       "\n",
       "                                              tweet_text  \\\n",
       "0           *cough* @NFL *cough* https://t.co/H9SskJ8q4Q   \n",
       "1      @PhilMcCrackin44 Schiff's sister was married t...   \n",
       "2      Brave men died to keep us free. Radicals want ...   \n",
       "3      @AP @farmerfar55 Was he wearing the medal give...   \n",
       "4      The importance of the electoral college is vit...   \n",
       "...                                                  ...   \n",
       "11192  I picked this up from someone here. Its🙄🤨🙄 wor...   \n",
       "11193  Trump is a criminal, a gangster using criminal...   \n",
       "11194  @VP @NFL @POTUS The only thing that’s #Winning...   \n",
       "11195  @mjfree Sports has been used as a means of pro...   \n",
       "11196  @spectatorindex How you call this? https://t.c...   \n",
       "\n",
       "                                               tweet_url  \\\n",
       "0      https://twitter.com/POTUS/status/1000085962053...   \n",
       "1      https://twitter.com/POTUS/status/1000057516615...   \n",
       "2      https://twitter.com/POTUS/status/1000037356836...   \n",
       "3      https://twitter.com/POTUS/status/1000056983070...   \n",
       "4      https://twitter.com/POTUS/status/1000149982408...   \n",
       "...                                                  ...   \n",
       "11192  https://twitter.com/POTUS/status/1000146882428...   \n",
       "11193  https://twitter.com/POTUS/status/1000018438184...   \n",
       "11194  https://twitter.com/POTUS/status/9999924007255...   \n",
       "11195  https://twitter.com/POTUS/status/1000035228679...   \n",
       "11196  https://twitter.com/POTUS/status/9999966110391...   \n",
       "\n",
       "                                                   claim  \\\n",
       "0      A German football club was banned from playing...   \n",
       "1      Adam Schiff's sister Melissa was married to Ge...   \n",
       "2      Liberals were offended by a World War I memori...   \n",
       "3      A meme shows President Obama awarding the Pres...   \n",
       "4      Donald Trump won 3,084 of America's 3,141 coun...   \n",
       "...                                                  ...   \n",
       "11192  A German football club was banned from playing...   \n",
       "11193  Notorious mobster Al Capone demanded an inquir...   \n",
       "11194  Baseball players in the 1950s were caught on c...   \n",
       "11195  Baseball players in the 1950s were caught on c...   \n",
       "11196  A photograph shows Senator John McCain posing ...   \n",
       "\n",
       "                                                  rating  \\\n",
       "0      ['https://www.snopes.com/tachyon/2018/03/ratin...   \n",
       "1      ['https://www.snopes.com/tachyon/2018/03/ratin...   \n",
       "2      ['https://www.snopes.com/tachyon/2018/03/ratin...   \n",
       "3      ['https://www.snopes.com/tachyon/2018/03/ratin...   \n",
       "4      ['https://www.snopes.com/tachyon/2018/03/ratin...   \n",
       "...                                                  ...   \n",
       "11192  ['https://www.snopes.com/tachyon/2018/03/ratin...   \n",
       "11193  ['https://www.snopes.com/tachyon/2018/03/ratin...   \n",
       "11194  ['https://www.snopes.com/tachyon/2018/03/ratin...   \n",
       "11195  ['https://www.snopes.com/tachyon/2018/03/ratin...   \n",
       "11196  ['https://www.snopes.com/tachyon/2018/03/ratin...   \n",
       "\n",
       "                                                  images  \\\n",
       "0         http://pbs.twimg.com/media/DeC8Z5DX4AAduxj.jpg   \n",
       "1      ['http://pbs.twimg.com/media/DeDEfF0XcAAHExJ.j...   \n",
       "2         http://pbs.twimg.com/media/DeDL5a-XkAI7Hlw.jpg   \n",
       "3      ['http://pbs.twimg.com/media/DeCrb0SUwAAsw-t.j...   \n",
       "4         http://pbs.twimg.com/media/DeDr-FjVMAAlZe1.jpg   \n",
       "...                                                  ...   \n",
       "11192     http://pbs.twimg.com/media/DeBe1X5VAAI-Zhh.jpg   \n",
       "11193     http://pbs.twimg.com/media/DeCUF2ZV4AAMm0Z.jpg   \n",
       "11194     http://pbs.twimg.com/media/DeCUiW3VwAAQbyx.jpg   \n",
       "11195     http://pbs.twimg.com/media/DeCejk4WkAMruuM.jpg   \n",
       "11196     http://pbs.twimg.com/media/DeCzNhwX4AICQ0-.jpg   \n",
       "\n",
       "                                             text_images  \\\n",
       "0      FAILED TO GIVE NAZI SALUTE . German Football C...   \n",
       "1      ['', '', 'di \" twant wutted to cmt ur to frpyo...   \n",
       "2      #DontTearMeDown IRSTLIBERT . ORG DontTearMeDow...   \n",
       "3                                       ['', '', '', '']   \n",
       "4      HILLARY'S POPULAR VOTE Mont . Ore . Idaho Wyo ...   \n",
       "...                                                  ...   \n",
       "11192  FAILED TO GIVE NAZI SALUTE . German Football C...   \n",
       "11193  Ci ) icago Sunday Cribune INAL 17 . Capone Dem...   \n",
       "11194  White Baseball Players Kneel in the 50 ' s to ...   \n",
       "11195  White Baseball Players Kneel in the 50 ' s to ...   \n",
       "11196  iSIS Leader Abu Bakr al-Baghdadi US . Sen . ' ...   \n",
       "\n",
       "                                                  source            label  \\\n",
       "0      https://www.snopes.com/fact-check/german-footb...  mostly-true-new   \n",
       "1      https://www.snopes.com/fact-check/adam-schiffs...            false   \n",
       "2      https://www.snopes.com/fact-check/liberals-dem...          mixture   \n",
       "3      https://www.snopes.com/fact-check/obama-medal-...     mostly-false   \n",
       "4      https://www.snopes.com/fact-check/trump-clinto...            false   \n",
       "...                                                  ...              ...   \n",
       "11192  https://www.snopes.com/fact-check/german-footb...  mostly-true-new   \n",
       "11193  https://www.snopes.com/fact-check/did-al-capon...            false   \n",
       "11194  https://www.snopes.com/fact-check/baseball-pla...            false   \n",
       "11195  https://www.snopes.com/fact-check/baseball-pla...            false   \n",
       "11196  https://www.snopes.com/fact-check/john-mccain-...     miscaptioned   \n",
       "\n",
       "       label_info available        acc_id  \\\n",
       "0             NaN      auth           NaN   \n",
       "1             NaN      auth           NaN   \n",
       "2             NaN        ok  3.981226e+09   \n",
       "3             NaN        ok           NaN   \n",
       "4             NaN      auth           NaN   \n",
       "...           ...       ...           ...   \n",
       "11192         NaN        ok  9.174376e+07   \n",
       "11193         NaN   missing  8.816829e+17   \n",
       "11194         NaN      auth  1.157486e+08   \n",
       "11195         NaN        ok  5.182272e+08   \n",
       "11196         NaN        ok           NaN   \n",
       "\n",
       "                                               botometer  \n",
       "0      {'cap': {'english': 0.2520419704315795, 'unive...  \n",
       "1      {'cap': {'english': 0.2520419704315795, 'unive...  \n",
       "2      {'error': \"TweepError: [{'code': 34, 'message'...  \n",
       "3      {'cap': {'english': 0.2520419704315795, 'unive...  \n",
       "4      {'cap': {'english': 0.2520419704315795, 'unive...  \n",
       "...                                                  ...  \n",
       "11192                                                     \n",
       "11193                                                     \n",
       "11194                                                     \n",
       "11195                                                     \n",
       "11196                                                     \n",
       "\n",
       "[11197 rows x 14 columns]"
      ]
     },
     "execution_count": 23,
     "metadata": {},
     "output_type": "execute_result"
    }
   ],
   "source": [
    "snopes"
   ]
  },
  {
   "cell_type": "code",
   "execution_count": 19,
   "metadata": {},
   "outputs": [
    {
     "data": {
      "text/html": [
       "<div>\n",
       "<style scoped>\n",
       "    .dataframe tbody tr th:only-of-type {\n",
       "        vertical-align: middle;\n",
       "    }\n",
       "\n",
       "    .dataframe tbody tr th {\n",
       "        vertical-align: top;\n",
       "    }\n",
       "\n",
       "    .dataframe thead th {\n",
       "        text-align: right;\n",
       "    }\n",
       "</style>\n",
       "<table border=\"1\" class=\"dataframe\">\n",
       "  <thead>\n",
       "    <tr style=\"text-align: right;\">\n",
       "      <th></th>\n",
       "      <th>id</th>\n",
       "      <th>original_id</th>\n",
       "      <th>tweet_text</th>\n",
       "      <th>tweet_url</th>\n",
       "      <th>claim</th>\n",
       "      <th>rating</th>\n",
       "      <th>images</th>\n",
       "      <th>text_images</th>\n",
       "      <th>source</th>\n",
       "      <th>label</th>\n",
       "      <th>label_info</th>\n",
       "      <th>available</th>\n",
       "      <th>acc_id</th>\n",
       "      <th>botometer</th>\n",
       "    </tr>\n",
       "  </thead>\n",
       "  <tbody>\n",
       "  </tbody>\n",
       "</table>\n",
       "</div>"
      ],
      "text/plain": [
       "Empty DataFrame\n",
       "Columns: [id, original_id, tweet_text, tweet_url, claim, rating, images, text_images, source, label, label_info, available, acc_id, botometer]\n",
       "Index: []"
      ]
     },
     "execution_count": 19,
     "metadata": {},
     "output_type": "execute_result"
    }
   ],
   "source": [
    "snopes[snopes.original_id.isin([14802766])]"
   ]
  },
  {
   "cell_type": "code",
   "execution_count": null,
   "metadata": {},
   "outputs": [],
   "source": []
  },
  {
   "cell_type": "code",
   "execution_count": 22,
   "metadata": {},
   "outputs": [
    {
     "data": {
      "text/plain": [
       "3981225735.0"
      ]
     },
     "execution_count": 22,
     "metadata": {},
     "output_type": "execute_result"
    }
   ],
   "source": [
    "snopes.acc_id.tolist()[2]"
   ]
  },
  {
   "cell_type": "code",
   "execution_count": null,
   "metadata": {},
   "outputs": [],
   "source": []
  }
 ],
 "metadata": {
  "kernelspec": {
   "display_name": "Python 3 (ipykernel)",
   "language": "python",
   "name": "python3"
  },
  "language_info": {
   "codemirror_mode": {
    "name": "ipython",
    "version": 3
   },
   "file_extension": ".py",
   "mimetype": "text/x-python",
   "name": "python",
   "nbconvert_exporter": "python",
   "pygments_lexer": "ipython3",
   "version": "3.9.7"
  }
 },
 "nbformat": 4,
 "nbformat_minor": 2
}
