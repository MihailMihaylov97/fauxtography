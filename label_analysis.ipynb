{
 "cells": [
  {
   "cell_type": "code",
   "execution_count": 3,
   "metadata": {},
   "outputs": [
    {
     "data": {
      "text/html": [
       "<style>.container { width:100% !important; }</style>"
      ],
      "text/plain": [
       "<IPython.core.display.HTML object>"
      ]
     },
     "metadata": {},
     "output_type": "display_data"
    }
   ],
   "source": [
    "from IPython.core.display import display, HTML\n",
    "display(HTML(\"<style>.container { width:100% !important; }</style>\"))"
   ]
  },
  {
   "cell_type": "code",
   "execution_count": 4,
   "metadata": {},
   "outputs": [],
   "source": [
    "import json\n",
    "import pandas as pd\n",
    "import numpy as np"
   ]
  },
  {
   "cell_type": "code",
   "execution_count": null,
   "metadata": {},
   "outputs": [],
   "source": [
    "with open(\"merged_data.json\") as jfile:\n",
    "    data = json.load(jfile)"
   ]
  },
  {
   "cell_type": "code",
   "execution_count": null,
   "metadata": {},
   "outputs": [],
   "source": [
    "len(data)"
   ]
  },
  {
   "cell_type": "code",
   "execution_count": null,
   "metadata": {},
   "outputs": [],
   "source": [
    "data[0]['tweet_data'][\"Images_in_tweet\"]"
   ]
  },
  {
   "cell_type": "code",
   "execution_count": null,
   "metadata": {},
   "outputs": [],
   "source": [
    "df = pd.DataFrame(index = range(13239), columns=[\"id\", \"original_id\", \"tweet_text\", \"tweet_url\", \"claim\", \"rating\", \"images\", \"text_images\", \"source\"])"
   ]
  },
  {
   "cell_type": "code",
   "execution_count": null,
   "metadata": {},
   "outputs": [],
   "source": [
    "def extract_labels(tweet):\n",
    "    \n",
    "    try:\n",
    "        tweet_did = tweet[\"tweet_data\"][\"DtweetID\"]\n",
    "        tweet_oid = tweet[\"tweet_data\"][\"originalTweetID\"]\n",
    "        tweet_url = f\"https://twitter.com/POTUS/status/{tweet_did}\"\n",
    "        tweet_text = tweet[\"tweet_data\"][\"OriginalTweetContent_Raw\"]\n",
    "        claim = tweet[\"article_data\"][\"claim\"]\n",
    "        rating = tweet[\"article_data\"][\"rating\"]\n",
    "        images = list(tweet[\"tweet_data\"][\"Images_in_tweet\"].keys())\n",
    "        text_images = [tweet[\"tweet_data\"][\"Images_in_tweet\"][i][\"text_for_the_image\"] for i in images]\n",
    "        source = tweet[\"article_data\"][\"url\"]\n",
    "        \n",
    "        if len(images) == 1: images = images[0]\n",
    "        if len(rating) == 1: rating = rating[0]\n",
    "        if len(text_images) == 1: text_images = text_images[0] if len(text_images[0]) > 0 else None\n",
    "            \n",
    "        return [tweet_did, tweet_oid, tweet_text, tweet_url, claim, rating, images, text_images, source]     \n",
    "    \n",
    "    except Exception as e:\n",
    "        return e\n"
   ]
  },
  {
   "cell_type": "code",
   "execution_count": null,
   "metadata": {},
   "outputs": [],
   "source": [
    "data[0][\"article_data\"].keys()"
   ]
  },
  {
   "cell_type": "code",
   "execution_count": null,
   "metadata": {},
   "outputs": [],
   "source": [
    "errors = {}\n",
    "for i in df.index:\n",
    "    info = extract_labels(data[i])\n",
    "    \n",
    "    if isinstance(info, list): \n",
    "        df.loc[i,] = np.asarray(info)\n",
    "    else:\n",
    "        errors[i] = info        \n",
    "\n"
   ]
  },
  {
   "cell_type": "code",
   "execution_count": null,
   "metadata": {},
   "outputs": [],
   "source": [
    "errors"
   ]
  },
  {
   "cell_type": "code",
   "execution_count": null,
   "metadata": {},
   "outputs": [],
   "source": [
    "df = df.drop(list(errors.keys()))"
   ]
  },
  {
   "cell_type": "code",
   "execution_count": null,
   "metadata": {},
   "outputs": [],
   "source": [
    "df[\"label\"] = [i[0].split(\"/\")[-1].split(\".\")[0] for i in df.rating]\n",
    "df[\"label\"] = [i.replace(\"rating-\",\"\").replace(\"tom-\",\"\").replace(\"fom-\",\"\") for i in df.label]\n",
    "df[\"label_info\"] = [i[2] if len(i)>2 else None for i in df.rating]"
   ]
  },
  {
   "cell_type": "code",
   "execution_count": null,
   "metadata": {},
   "outputs": [],
   "source": [
    "snopes = df[~df.source.str.contains(\"www.politifact.com\")]"
   ]
  },
  {
   "cell_type": "code",
   "execution_count": null,
   "metadata": {},
   "outputs": [],
   "source": [
    "snopes.label.value_counts()"
   ]
  },
  {
   "cell_type": "code",
   "execution_count": null,
   "metadata": {},
   "outputs": [],
   "source": [
    "import json\n",
    "with open(\"json_data.json\") as rfile:\n",
    "    data = json.load(rfile)\n",
    "    "
   ]
  },
  {
   "cell_type": "code",
   "execution_count": null,
   "metadata": {},
   "outputs": [],
   "source": [
    "data"
   ]
  },
  {
   "cell_type": "code",
   "execution_count": null,
   "metadata": {},
   "outputs": [],
   "source": [
    "def map_availability(row):\n",
    "    return [key for key in data.keys() if row in data[key]][0]"
   ]
  },
  {
   "cell_type": "code",
   "execution_count": null,
   "metadata": {},
   "outputs": [],
   "source": [
    "snopes[\"available\"] = snopes.id.apply(map_availability)"
   ]
  },
  {
   "cell_type": "code",
   "execution_count": null,
   "metadata": {},
   "outputs": [],
   "source": [
    "# snopes.to_csv(\"snopes_clean.csv\", index=False)"
   ]
  },
  {
   "cell_type": "code",
   "execution_count": null,
   "metadata": {},
   "outputs": [],
   "source": [
    "# snopes = pd.read_csv(\"snopes_clean.csv\")"
   ]
  },
  {
   "cell_type": "code",
   "execution_count": null,
   "metadata": {},
   "outputs": [],
   "source": [
    "snopes"
   ]
  },
  {
   "cell_type": "code",
   "execution_count": null,
   "metadata": {},
   "outputs": [],
   "source": [
    "snopes.available.value_counts()"
   ]
  },
  {
   "cell_type": "code",
   "execution_count": null,
   "metadata": {},
   "outputs": [],
   "source": [
    "snopes.tail().source.tolist()"
   ]
  },
  {
   "cell_type": "code",
   "execution_count": null,
   "metadata": {},
   "outputs": [],
   "source": [
    "snopes.tail().tweet_url.tolist()"
   ]
  },
  {
   "cell_type": "code",
   "execution_count": 4,
   "metadata": {},
   "outputs": [
    {
     "name": "stdout",
     "output_type": "stream",
     "text": [
      "Requirement already satisfied: requests in /home/mihail/.local/lib/python3.8/site-packages (2.27.1)\n",
      "Collecting tweepy\n",
      "  Downloading tweepy-4.6.0-py2.py3-none-any.whl (69 kB)\n",
      "\u001b[K     |████████████████████████████████| 69 kB 2.0 MB/s eta 0:00:01\n",
      "\u001b[?25hCollecting botometer\n",
      "  Downloading botometer-1.6.1-py3-none-any.whl (4.8 kB)\n",
      "Requirement already satisfied: urllib3<1.27,>=1.21.1 in /usr/lib/python3/dist-packages (from requests) (1.25.8)\n",
      "Requirement already satisfied: idna<4,>=2.5; python_version >= \"3\" in /usr/lib/python3/dist-packages (from requests) (2.8)\n",
      "Requirement already satisfied: certifi>=2017.4.17 in /usr/lib/python3/dist-packages (from requests) (2019.11.28)\n",
      "Requirement already satisfied: charset-normalizer~=2.0.0; python_version >= \"3\" in /home/mihail/.local/lib/python3.8/site-packages (from requests) (2.0.12)\n",
      "Collecting requests-oauthlib<2,>=1.2.0\n",
      "  Using cached requests_oauthlib-1.3.1-py2.py3-none-any.whl (23 kB)\n",
      "Collecting oauthlib<4,>=3.2.0\n",
      "  Using cached oauthlib-3.2.0-py3-none-any.whl (151 kB)\n",
      "\u001b[31mERROR: botometer 1.6.1 has requirement tweepy<4,>=3.5.0, but you'll have tweepy 4.6.0 which is incompatible.\u001b[0m\n",
      "Installing collected packages: oauthlib, requests-oauthlib, tweepy, botometer\n",
      "Successfully installed botometer-1.6.1 oauthlib-3.2.0 requests-oauthlib-1.3.1 tweepy-4.6.0\n"
     ]
    }
   ],
   "source": [
    "!pip3 install requests tweepy==4.0 botometer"
   ]
  },
  {
   "cell_type": "code",
   "execution_count": 54,
   "metadata": {},
   "outputs": [
    {
     "name": "stderr",
     "output_type": "stream",
     "text": [
      "/var/folders/jf/w9ffcr5s1t1fffdv873rd0xr0000gn/T/ipykernel_17446/1629282148.py:5: SettingWithCopyWarning: \n",
      "A value is trying to be set on a copy of a slice from a DataFrame.\n",
      "Try using .loc[row_indexer,col_indexer] = value instead\n",
      "\n",
      "See the caveats in the documentation: https://pandas.pydata.org/pandas-docs/stable/user_guide/indexing.html#returning-a-view-versus-a-copy\n",
      "  snopes_acc[\"acc_id\"] = snopes_acc.acc_id.astype(int)\n"
     ]
    }
   ],
   "source": [
    "snopes = pd.read_csv(\"snopes_acc.csv\")\n",
    "snopes[\"botometer\"] = ''\n",
    "\n",
    "snopes_acc = snopes[snopes.acc_id.notna()]\n",
    "snopes_acc[\"acc_id\"] = snopes_acc.acc_id.astype(int)\n",
    "accounts = snopes_acc.acc_id.tolist()\n",
    "\n",
    "\n",
    "snopes_acc.reset_index(inplace=True)\n",
    "del snopes_acc['index']"
   ]
  },
  {
   "cell_type": "code",
   "execution_count": 6,
   "metadata": {},
   "outputs": [
    {
     "name": "stdout",
     "output_type": "stream",
     "text": [
      "Collecting tqdm\n",
      "  Using cached tqdm-4.63.0-py2.py3-none-any.whl (76 kB)\n",
      "Installing collected packages: tqdm\n",
      "Successfully installed tqdm-4.63.0\n"
     ]
    }
   ],
   "source": [
    "!pip install tqdm"
   ]
  },
  {
   "cell_type": "code",
   "execution_count": 55,
   "metadata": {},
   "outputs": [
    {
     "data": {
      "text/html": [
       "<div>\n",
       "<style scoped>\n",
       "    .dataframe tbody tr th:only-of-type {\n",
       "        vertical-align: middle;\n",
       "    }\n",
       "\n",
       "    .dataframe tbody tr th {\n",
       "        vertical-align: top;\n",
       "    }\n",
       "\n",
       "    .dataframe thead th {\n",
       "        text-align: right;\n",
       "    }\n",
       "</style>\n",
       "<table border=\"1\" class=\"dataframe\">\n",
       "  <thead>\n",
       "    <tr style=\"text-align: right;\">\n",
       "      <th></th>\n",
       "      <th>id</th>\n",
       "      <th>original_id</th>\n",
       "      <th>tweet_text</th>\n",
       "      <th>tweet_url</th>\n",
       "      <th>claim</th>\n",
       "      <th>rating</th>\n",
       "      <th>images</th>\n",
       "      <th>text_images</th>\n",
       "      <th>source</th>\n",
       "      <th>label</th>\n",
       "      <th>label_info</th>\n",
       "      <th>available</th>\n",
       "      <th>acc_id</th>\n",
       "      <th>botometer</th>\n",
       "    </tr>\n",
       "  </thead>\n",
       "  <tbody>\n",
       "    <tr>\n",
       "      <th>0</th>\n",
       "      <td>1000037356836093953</td>\n",
       "      <td>1000023322481086466</td>\n",
       "      <td>Brave men died to keep us free. Radicals want ...</td>\n",
       "      <td>https://twitter.com/POTUS/status/1000037356836...</td>\n",
       "      <td>Liberals were offended by a World War I memori...</td>\n",
       "      <td>['https://www.snopes.com/tachyon/2018/03/ratin...</td>\n",
       "      <td>http://pbs.twimg.com/media/DeDL5a-XkAI7Hlw.jpg</td>\n",
       "      <td>#DontTearMeDown IRSTLIBERT . ORG DontTearMeDow...</td>\n",
       "      <td>https://www.snopes.com/fact-check/liberals-dem...</td>\n",
       "      <td>mixture</td>\n",
       "      <td>NaN</td>\n",
       "      <td>ok</td>\n",
       "      <td>3981225735</td>\n",
       "      <td></td>\n",
       "    </tr>\n",
       "    <tr>\n",
       "      <th>1</th>\n",
       "      <td>1000098833798389760</td>\n",
       "      <td>1000059879682342912</td>\n",
       "      <td>“Stand for the National Anthem or be punished”...</td>\n",
       "      <td>https://twitter.com/POTUS/status/1000098833798...</td>\n",
       "      <td>A German football club was banned from playing...</td>\n",
       "      <td>['https://www.snopes.com/tachyon/2018/03/ratin...</td>\n",
       "      <td>http://pbs.twimg.com/media/DeDtKIRVAAA4kPm.jpg</td>\n",
       "      <td>FAILED TO GIVE NAZI SALUTE . German Football C...</td>\n",
       "      <td>https://www.snopes.com/fact-check/german-footb...</td>\n",
       "      <td>mostly-true-new</td>\n",
       "      <td>NaN</td>\n",
       "      <td>ok</td>\n",
       "      <td>1924071992</td>\n",
       "      <td></td>\n",
       "    </tr>\n",
       "    <tr>\n",
       "      <th>2</th>\n",
       "      <td>1000158804795781120</td>\n",
       "      <td>1000073920760791040</td>\n",
       "      <td>@Humancipator35 @buddydusty @davidhogg111 🙌🏼 R...</td>\n",
       "      <td>https://twitter.com/POTUS/status/1000158804795...</td>\n",
       "      <td>Emma Gonz lez, a survivor of the Parkland scho...</td>\n",
       "      <td>['https://www.snopes.com/tachyon/2018/03/ratin...</td>\n",
       "      <td>http://pbs.twimg.com/media/DeD57XMV4AAUG4k.jpg</td>\n",
       "      <td>NaN</td>\n",
       "      <td>https://www.snopes.com/fact-check/emma-gonzale...</td>\n",
       "      <td>false</td>\n",
       "      <td>NaN</td>\n",
       "      <td>auth</td>\n",
       "      <td>924224208</td>\n",
       "      <td></td>\n",
       "    </tr>\n",
       "    <tr>\n",
       "      <th>3</th>\n",
       "      <td>1000175568241872897</td>\n",
       "      <td>1000174645973315586</td>\n",
       "      <td>Just sayin'  #NFL https://t.co/70tFG5ieMC</td>\n",
       "      <td>https://twitter.com/POTUS/status/1000175568241...</td>\n",
       "      <td>A German football club was banned from playing...</td>\n",
       "      <td>['https://www.snopes.com/tachyon/2018/03/ratin...</td>\n",
       "      <td>http://pbs.twimg.com/media/DeFVdDlUwAA17qS.jpg</td>\n",
       "      <td>FAILED TO GIVE NAZI SALUTE . German Football C...</td>\n",
       "      <td>https://www.snopes.com/fact-check/german-footb...</td>\n",
       "      <td>mostly-true-new</td>\n",
       "      <td>NaN</td>\n",
       "      <td>auth</td>\n",
       "      <td>170735298</td>\n",
       "      <td></td>\n",
       "    </tr>\n",
       "    <tr>\n",
       "      <th>4</th>\n",
       "      <td>1000438777792344067</td>\n",
       "      <td>1000191784797040640</td>\n",
       "      <td>Those who do not learn from history are doomed...</td>\n",
       "      <td>https://twitter.com/POTUS/status/1000438777792...</td>\n",
       "      <td>A German football club was banned from playing...</td>\n",
       "      <td>['https://www.snopes.com/tachyon/2018/03/ratin...</td>\n",
       "      <td>http://pbs.twimg.com/media/DeFkp5eU0AA2aLJ.jpg</td>\n",
       "      <td>pnting n the wo \" ' t WHY to win . nbor mu t n...</td>\n",
       "      <td>https://www.snopes.com/fact-check/german-footb...</td>\n",
       "      <td>mostly-true-new</td>\n",
       "      <td>NaN</td>\n",
       "      <td>ok</td>\n",
       "      <td>115563859</td>\n",
       "      <td></td>\n",
       "    </tr>\n",
       "    <tr>\n",
       "      <th>...</th>\n",
       "      <td>...</td>\n",
       "      <td>...</td>\n",
       "      <td>...</td>\n",
       "      <td>...</td>\n",
       "      <td>...</td>\n",
       "      <td>...</td>\n",
       "      <td>...</td>\n",
       "      <td>...</td>\n",
       "      <td>...</td>\n",
       "      <td>...</td>\n",
       "      <td>...</td>\n",
       "      <td>...</td>\n",
       "      <td>...</td>\n",
       "      <td>...</td>\n",
       "    </tr>\n",
       "    <tr>\n",
       "      <th>6971</th>\n",
       "      <td>1000095067887910917</td>\n",
       "      <td>999866405687209984</td>\n",
       "      <td>History repeating itself with @realDonaldTrump...</td>\n",
       "      <td>https://twitter.com/POTUS/status/1000095067887...</td>\n",
       "      <td>A German football club was banned from playing...</td>\n",
       "      <td>['https://www.snopes.com/tachyon/2018/03/ratin...</td>\n",
       "      <td>http://pbs.twimg.com/media/DeA9KrlVwAEHtPB.jpg</td>\n",
       "      <td>FAILED TO GIVE NAZI SALUTE . German Football C...</td>\n",
       "      <td>https://www.snopes.com/fact-check/german-footb...</td>\n",
       "      <td>mostly-true-new</td>\n",
       "      <td>NaN</td>\n",
       "      <td>ok</td>\n",
       "      <td>550658726</td>\n",
       "      <td></td>\n",
       "    </tr>\n",
       "    <tr>\n",
       "      <th>6972</th>\n",
       "      <td>1000146882428096512</td>\n",
       "      <td>999903412425711616</td>\n",
       "      <td>I picked this up from someone here. Its🙄🤨🙄 wor...</td>\n",
       "      <td>https://twitter.com/POTUS/status/1000146882428...</td>\n",
       "      <td>A German football club was banned from playing...</td>\n",
       "      <td>['https://www.snopes.com/tachyon/2018/03/ratin...</td>\n",
       "      <td>http://pbs.twimg.com/media/DeBe1X5VAAI-Zhh.jpg</td>\n",
       "      <td>FAILED TO GIVE NAZI SALUTE . German Football C...</td>\n",
       "      <td>https://www.snopes.com/fact-check/german-footb...</td>\n",
       "      <td>mostly-true-new</td>\n",
       "      <td>NaN</td>\n",
       "      <td>ok</td>\n",
       "      <td>91743765</td>\n",
       "      <td></td>\n",
       "    </tr>\n",
       "    <tr>\n",
       "      <th>6973</th>\n",
       "      <td>1000018438184734720</td>\n",
       "      <td>999961946932723713</td>\n",
       "      <td>Trump is a criminal, a gangster using criminal...</td>\n",
       "      <td>https://twitter.com/POTUS/status/1000018438184...</td>\n",
       "      <td>Notorious mobster Al Capone demanded an inquir...</td>\n",
       "      <td>['https://www.snopes.com/tachyon/2018/03/ratin...</td>\n",
       "      <td>http://pbs.twimg.com/media/DeCUF2ZV4AAMm0Z.jpg</td>\n",
       "      <td>Ci ) icago Sunday Cribune INAL 17 . Capone Dem...</td>\n",
       "      <td>https://www.snopes.com/fact-check/did-al-capon...</td>\n",
       "      <td>false</td>\n",
       "      <td>NaN</td>\n",
       "      <td>missing</td>\n",
       "      <td>881682896607600640</td>\n",
       "      <td></td>\n",
       "    </tr>\n",
       "    <tr>\n",
       "      <th>6974</th>\n",
       "      <td>999992400725585920</td>\n",
       "      <td>999962442141782016</td>\n",
       "      <td>@VP @NFL @POTUS The only thing that’s #Winning...</td>\n",
       "      <td>https://twitter.com/POTUS/status/9999924007255...</td>\n",
       "      <td>Baseball players in the 1950s were caught on c...</td>\n",
       "      <td>['https://www.snopes.com/tachyon/2018/03/ratin...</td>\n",
       "      <td>http://pbs.twimg.com/media/DeCUiW3VwAAQbyx.jpg</td>\n",
       "      <td>White Baseball Players Kneel in the 50 ' s to ...</td>\n",
       "      <td>https://www.snopes.com/fact-check/baseball-pla...</td>\n",
       "      <td>false</td>\n",
       "      <td>NaN</td>\n",
       "      <td>auth</td>\n",
       "      <td>115748564</td>\n",
       "      <td></td>\n",
       "    </tr>\n",
       "    <tr>\n",
       "      <th>6975</th>\n",
       "      <td>1000035228679852032</td>\n",
       "      <td>999973815655518213</td>\n",
       "      <td>@mjfree Sports has been used as a means of pro...</td>\n",
       "      <td>https://twitter.com/POTUS/status/1000035228679...</td>\n",
       "      <td>Baseball players in the 1950s were caught on c...</td>\n",
       "      <td>['https://www.snopes.com/tachyon/2018/03/ratin...</td>\n",
       "      <td>http://pbs.twimg.com/media/DeCejk4WkAMruuM.jpg</td>\n",
       "      <td>White Baseball Players Kneel in the 50 ' s to ...</td>\n",
       "      <td>https://www.snopes.com/fact-check/baseball-pla...</td>\n",
       "      <td>false</td>\n",
       "      <td>NaN</td>\n",
       "      <td>ok</td>\n",
       "      <td>518227176</td>\n",
       "      <td></td>\n",
       "    </tr>\n",
       "  </tbody>\n",
       "</table>\n",
       "<p>6976 rows × 14 columns</p>\n",
       "</div>"
      ],
      "text/plain": [
       "                       id          original_id  \\\n",
       "0     1000037356836093953  1000023322481086466   \n",
       "1     1000098833798389760  1000059879682342912   \n",
       "2     1000158804795781120  1000073920760791040   \n",
       "3     1000175568241872897  1000174645973315586   \n",
       "4     1000438777792344067  1000191784797040640   \n",
       "...                   ...                  ...   \n",
       "6971  1000095067887910917   999866405687209984   \n",
       "6972  1000146882428096512   999903412425711616   \n",
       "6973  1000018438184734720   999961946932723713   \n",
       "6974   999992400725585920   999962442141782016   \n",
       "6975  1000035228679852032   999973815655518213   \n",
       "\n",
       "                                             tweet_text  \\\n",
       "0     Brave men died to keep us free. Radicals want ...   \n",
       "1     “Stand for the National Anthem or be punished”...   \n",
       "2     @Humancipator35 @buddydusty @davidhogg111 🙌🏼 R...   \n",
       "3             Just sayin'  #NFL https://t.co/70tFG5ieMC   \n",
       "4     Those who do not learn from history are doomed...   \n",
       "...                                                 ...   \n",
       "6971  History repeating itself with @realDonaldTrump...   \n",
       "6972  I picked this up from someone here. Its🙄🤨🙄 wor...   \n",
       "6973  Trump is a criminal, a gangster using criminal...   \n",
       "6974  @VP @NFL @POTUS The only thing that’s #Winning...   \n",
       "6975  @mjfree Sports has been used as a means of pro...   \n",
       "\n",
       "                                              tweet_url  \\\n",
       "0     https://twitter.com/POTUS/status/1000037356836...   \n",
       "1     https://twitter.com/POTUS/status/1000098833798...   \n",
       "2     https://twitter.com/POTUS/status/1000158804795...   \n",
       "3     https://twitter.com/POTUS/status/1000175568241...   \n",
       "4     https://twitter.com/POTUS/status/1000438777792...   \n",
       "...                                                 ...   \n",
       "6971  https://twitter.com/POTUS/status/1000095067887...   \n",
       "6972  https://twitter.com/POTUS/status/1000146882428...   \n",
       "6973  https://twitter.com/POTUS/status/1000018438184...   \n",
       "6974  https://twitter.com/POTUS/status/9999924007255...   \n",
       "6975  https://twitter.com/POTUS/status/1000035228679...   \n",
       "\n",
       "                                                  claim  \\\n",
       "0     Liberals were offended by a World War I memori...   \n",
       "1     A German football club was banned from playing...   \n",
       "2     Emma Gonz lez, a survivor of the Parkland scho...   \n",
       "3     A German football club was banned from playing...   \n",
       "4     A German football club was banned from playing...   \n",
       "...                                                 ...   \n",
       "6971  A German football club was banned from playing...   \n",
       "6972  A German football club was banned from playing...   \n",
       "6973  Notorious mobster Al Capone demanded an inquir...   \n",
       "6974  Baseball players in the 1950s were caught on c...   \n",
       "6975  Baseball players in the 1950s were caught on c...   \n",
       "\n",
       "                                                 rating  \\\n",
       "0     ['https://www.snopes.com/tachyon/2018/03/ratin...   \n",
       "1     ['https://www.snopes.com/tachyon/2018/03/ratin...   \n",
       "2     ['https://www.snopes.com/tachyon/2018/03/ratin...   \n",
       "3     ['https://www.snopes.com/tachyon/2018/03/ratin...   \n",
       "4     ['https://www.snopes.com/tachyon/2018/03/ratin...   \n",
       "...                                                 ...   \n",
       "6971  ['https://www.snopes.com/tachyon/2018/03/ratin...   \n",
       "6972  ['https://www.snopes.com/tachyon/2018/03/ratin...   \n",
       "6973  ['https://www.snopes.com/tachyon/2018/03/ratin...   \n",
       "6974  ['https://www.snopes.com/tachyon/2018/03/ratin...   \n",
       "6975  ['https://www.snopes.com/tachyon/2018/03/ratin...   \n",
       "\n",
       "                                              images  \\\n",
       "0     http://pbs.twimg.com/media/DeDL5a-XkAI7Hlw.jpg   \n",
       "1     http://pbs.twimg.com/media/DeDtKIRVAAA4kPm.jpg   \n",
       "2     http://pbs.twimg.com/media/DeD57XMV4AAUG4k.jpg   \n",
       "3     http://pbs.twimg.com/media/DeFVdDlUwAA17qS.jpg   \n",
       "4     http://pbs.twimg.com/media/DeFkp5eU0AA2aLJ.jpg   \n",
       "...                                              ...   \n",
       "6971  http://pbs.twimg.com/media/DeA9KrlVwAEHtPB.jpg   \n",
       "6972  http://pbs.twimg.com/media/DeBe1X5VAAI-Zhh.jpg   \n",
       "6973  http://pbs.twimg.com/media/DeCUF2ZV4AAMm0Z.jpg   \n",
       "6974  http://pbs.twimg.com/media/DeCUiW3VwAAQbyx.jpg   \n",
       "6975  http://pbs.twimg.com/media/DeCejk4WkAMruuM.jpg   \n",
       "\n",
       "                                            text_images  \\\n",
       "0     #DontTearMeDown IRSTLIBERT . ORG DontTearMeDow...   \n",
       "1     FAILED TO GIVE NAZI SALUTE . German Football C...   \n",
       "2                                                   NaN   \n",
       "3     FAILED TO GIVE NAZI SALUTE . German Football C...   \n",
       "4     pnting n the wo \" ' t WHY to win . nbor mu t n...   \n",
       "...                                                 ...   \n",
       "6971  FAILED TO GIVE NAZI SALUTE . German Football C...   \n",
       "6972  FAILED TO GIVE NAZI SALUTE . German Football C...   \n",
       "6973  Ci ) icago Sunday Cribune INAL 17 . Capone Dem...   \n",
       "6974  White Baseball Players Kneel in the 50 ' s to ...   \n",
       "6975  White Baseball Players Kneel in the 50 ' s to ...   \n",
       "\n",
       "                                                 source            label  \\\n",
       "0     https://www.snopes.com/fact-check/liberals-dem...          mixture   \n",
       "1     https://www.snopes.com/fact-check/german-footb...  mostly-true-new   \n",
       "2     https://www.snopes.com/fact-check/emma-gonzale...            false   \n",
       "3     https://www.snopes.com/fact-check/german-footb...  mostly-true-new   \n",
       "4     https://www.snopes.com/fact-check/german-footb...  mostly-true-new   \n",
       "...                                                 ...              ...   \n",
       "6971  https://www.snopes.com/fact-check/german-footb...  mostly-true-new   \n",
       "6972  https://www.snopes.com/fact-check/german-footb...  mostly-true-new   \n",
       "6973  https://www.snopes.com/fact-check/did-al-capon...            false   \n",
       "6974  https://www.snopes.com/fact-check/baseball-pla...            false   \n",
       "6975  https://www.snopes.com/fact-check/baseball-pla...            false   \n",
       "\n",
       "      label_info available              acc_id botometer  \n",
       "0            NaN        ok          3981225735            \n",
       "1            NaN        ok          1924071992            \n",
       "2            NaN      auth           924224208            \n",
       "3            NaN      auth           170735298            \n",
       "4            NaN        ok           115563859            \n",
       "...          ...       ...                 ...       ...  \n",
       "6971         NaN        ok           550658726            \n",
       "6972         NaN        ok            91743765            \n",
       "6973         NaN   missing  881682896607600640            \n",
       "6974         NaN      auth           115748564            \n",
       "6975         NaN        ok           518227176            \n",
       "\n",
       "[6976 rows x 14 columns]"
      ]
     },
     "execution_count": 55,
     "metadata": {},
     "output_type": "execute_result"
    }
   ],
   "source": [
    "snopes_acc"
   ]
  },
  {
   "cell_type": "code",
   "execution_count": 7,
   "metadata": {},
   "outputs": [],
   "source": [
    "from tqdm import tqdm"
   ]
  },
  {
   "cell_type": "code",
   "execution_count": 4,
   "metadata": {},
   "outputs": [
    {
     "name": "stdout",
     "output_type": "stream",
     "text": [
      "Collecting tweepy==4.0\n",
      "  Using cached tweepy-4.0.0-py2.py3-none-any.whl (60 kB)\n",
      "Requirement already satisfied: requests<3,>=2.11.1 in /home/mihail/.local/lib/python3.8/site-packages (from tweepy==4.0) (2.27.1)\n",
      "Requirement already satisfied: requests-oauthlib<2,>=1.0.0 in /home/mihail/.local/lib/python3.8/site-packages (from tweepy==4.0) (1.3.1)\n",
      "Requirement already satisfied: urllib3<1.27,>=1.21.1 in /usr/lib/python3/dist-packages (from requests<3,>=2.11.1->tweepy==4.0) (1.25.8)\n",
      "Requirement already satisfied: certifi>=2017.4.17 in /usr/lib/python3/dist-packages (from requests<3,>=2.11.1->tweepy==4.0) (2019.11.28)\n",
      "Requirement already satisfied: idna<4,>=2.5; python_version >= \"3\" in /usr/lib/python3/dist-packages (from requests<3,>=2.11.1->tweepy==4.0) (2.8)\n",
      "Requirement already satisfied: charset-normalizer~=2.0.0; python_version >= \"3\" in /home/mihail/.local/lib/python3.8/site-packages (from requests<3,>=2.11.1->tweepy==4.0) (2.0.12)\n",
      "Requirement already satisfied: oauthlib>=3.0.0 in /home/mihail/.local/lib/python3.8/site-packages (from requests-oauthlib<2,>=1.0.0->tweepy==4.0) (3.2.0)\n",
      "\u001b[31mERROR: botometer 1.6.1 has requirement tweepy<4,>=3.5.0, but you'll have tweepy 4.0.0 which is incompatible.\u001b[0m\n",
      "Installing collected packages: tweepy\n",
      "  Attempting uninstall: tweepy\n",
      "    Found existing installation: tweepy 3.6.0\n",
      "    Uninstalling tweepy-3.6.0:\n",
      "      Successfully uninstalled tweepy-3.6.0\n",
      "Successfully installed tweepy-4.0.0\n",
      "Note: you may need to restart the kernel to use updated packages.\n"
     ]
    }
   ],
   "source": [
    "pip install tweepy==4.0"
   ]
  },
  {
   "cell_type": "code",
   "execution_count": 8,
   "metadata": {},
   "outputs": [
    {
     "name": "stdout",
     "output_type": "stream",
     "text": [
      "Collecting botometer\n",
      "  Downloading botometer-1.6.1-py3-none-any.whl (4.8 kB)\n",
      "Collecting tweepy<4,>=3.5.0\n",
      "  Downloading tweepy-3.10.0-py2.py3-none-any.whl (30 kB)\n",
      "Requirement already satisfied: requests in /home/mihail/anaconda3/lib/python3.9/site-packages (from botometer) (2.26.0)\n",
      "Requirement already satisfied: six>=1.10.0 in /home/mihail/anaconda3/lib/python3.9/site-packages (from tweepy<4,>=3.5.0->botometer) (1.16.0)\n",
      "Collecting requests-oauthlib>=0.7.0\n",
      "  Downloading requests_oauthlib-1.3.1-py2.py3-none-any.whl (23 kB)\n",
      "Collecting oauthlib>=3.0.0\n",
      "  Downloading oauthlib-3.2.0-py3-none-any.whl (151 kB)\n",
      "\u001b[K     |████████████████████████████████| 151 kB 7.5 MB/s eta 0:00:01\n",
      "\u001b[?25hRequirement already satisfied: certifi>=2017.4.17 in /home/mihail/anaconda3/lib/python3.9/site-packages (from requests->botometer) (2021.10.8)\n",
      "Requirement already satisfied: idna<4,>=2.5 in /home/mihail/anaconda3/lib/python3.9/site-packages (from requests->botometer) (3.2)\n",
      "Requirement already satisfied: charset-normalizer~=2.0.0 in /home/mihail/anaconda3/lib/python3.9/site-packages (from requests->botometer) (2.0.4)\n",
      "Requirement already satisfied: urllib3<1.27,>=1.21.1 in /home/mihail/anaconda3/lib/python3.9/site-packages (from requests->botometer) (1.26.7)\n",
      "Requirement already satisfied: PySocks!=1.5.7,>=1.5.6 in /home/mihail/anaconda3/lib/python3.9/site-packages (from requests->botometer) (1.7.1)\n",
      "Installing collected packages: oauthlib, requests-oauthlib, tweepy, botometer\n",
      "Successfully installed botometer-1.6.1 oauthlib-3.2.0 requests-oauthlib-1.3.1 tweepy-3.10.0\n",
      "Note: you may need to restart the kernel to use updated packages.\n"
     ]
    }
   ],
   "source": [
    "pip install botometer"
   ]
  },
  {
   "cell_type": "code",
   "execution_count": 14,
   "metadata": {},
   "outputs": [
    {
     "data": {
      "text/html": [
       "<div>\n",
       "<style scoped>\n",
       "    .dataframe tbody tr th:only-of-type {\n",
       "        vertical-align: middle;\n",
       "    }\n",
       "\n",
       "    .dataframe tbody tr th {\n",
       "        vertical-align: top;\n",
       "    }\n",
       "\n",
       "    .dataframe thead th {\n",
       "        text-align: right;\n",
       "    }\n",
       "</style>\n",
       "<table border=\"1\" class=\"dataframe\">\n",
       "  <thead>\n",
       "    <tr style=\"text-align: right;\">\n",
       "      <th></th>\n",
       "      <th>id</th>\n",
       "      <th>original_id</th>\n",
       "      <th>tweet_text</th>\n",
       "      <th>tweet_url</th>\n",
       "      <th>claim</th>\n",
       "      <th>rating</th>\n",
       "      <th>images</th>\n",
       "      <th>text_images</th>\n",
       "      <th>source</th>\n",
       "      <th>label</th>\n",
       "      <th>label_info</th>\n",
       "      <th>available</th>\n",
       "      <th>acc_id</th>\n",
       "      <th>botometer</th>\n",
       "    </tr>\n",
       "  </thead>\n",
       "  <tbody>\n",
       "    <tr>\n",
       "      <th>0</th>\n",
       "      <td>1000037356836093953</td>\n",
       "      <td>1000023322481086466</td>\n",
       "      <td>Brave men died to keep us free. Radicals want ...</td>\n",
       "      <td>https://twitter.com/POTUS/status/1000037356836...</td>\n",
       "      <td>Liberals were offended by a World War I memori...</td>\n",
       "      <td>['https://www.snopes.com/tachyon/2018/03/ratin...</td>\n",
       "      <td>http://pbs.twimg.com/media/DeDL5a-XkAI7Hlw.jpg</td>\n",
       "      <td>#DontTearMeDown IRSTLIBERT . ORG DontTearMeDow...</td>\n",
       "      <td>https://www.snopes.com/fact-check/liberals-dem...</td>\n",
       "      <td>mixture</td>\n",
       "      <td>NaN</td>\n",
       "      <td>ok</td>\n",
       "      <td>3981225735</td>\n",
       "      <td>{'cap': {'english': 0.7759887465100499, 'unive...</td>\n",
       "    </tr>\n",
       "    <tr>\n",
       "      <th>1</th>\n",
       "      <td>1000098833798389760</td>\n",
       "      <td>1000059879682342912</td>\n",
       "      <td>“Stand for the National Anthem or be punished”...</td>\n",
       "      <td>https://twitter.com/POTUS/status/1000098833798...</td>\n",
       "      <td>A German football club was banned from playing...</td>\n",
       "      <td>['https://www.snopes.com/tachyon/2018/03/ratin...</td>\n",
       "      <td>http://pbs.twimg.com/media/DeDtKIRVAAA4kPm.jpg</td>\n",
       "      <td>FAILED TO GIVE NAZI SALUTE . German Football C...</td>\n",
       "      <td>https://www.snopes.com/fact-check/german-footb...</td>\n",
       "      <td>mostly-true-new</td>\n",
       "      <td>NaN</td>\n",
       "      <td>ok</td>\n",
       "      <td>1924071992</td>\n",
       "      <td>{'cap': {'english': 0.7759887465100499, 'unive...</td>\n",
       "    </tr>\n",
       "    <tr>\n",
       "      <th>2</th>\n",
       "      <td>1000158804795781120</td>\n",
       "      <td>1000073920760791040</td>\n",
       "      <td>@Humancipator35 @buddydusty @davidhogg111 🙌🏼 R...</td>\n",
       "      <td>https://twitter.com/POTUS/status/1000158804795...</td>\n",
       "      <td>Emma Gonz lez, a survivor of the Parkland scho...</td>\n",
       "      <td>['https://www.snopes.com/tachyon/2018/03/ratin...</td>\n",
       "      <td>http://pbs.twimg.com/media/DeD57XMV4AAUG4k.jpg</td>\n",
       "      <td>NaN</td>\n",
       "      <td>https://www.snopes.com/fact-check/emma-gonzale...</td>\n",
       "      <td>false</td>\n",
       "      <td>NaN</td>\n",
       "      <td>auth</td>\n",
       "      <td>924224208</td>\n",
       "      <td>{'cap': {'english': 0.30618807248975083, 'univ...</td>\n",
       "    </tr>\n",
       "    <tr>\n",
       "      <th>3</th>\n",
       "      <td>1000175568241872897</td>\n",
       "      <td>1000174645973315586</td>\n",
       "      <td>Just sayin'  #NFL https://t.co/70tFG5ieMC</td>\n",
       "      <td>https://twitter.com/POTUS/status/1000175568241...</td>\n",
       "      <td>A German football club was banned from playing...</td>\n",
       "      <td>['https://www.snopes.com/tachyon/2018/03/ratin...</td>\n",
       "      <td>http://pbs.twimg.com/media/DeFVdDlUwAA17qS.jpg</td>\n",
       "      <td>FAILED TO GIVE NAZI SALUTE . German Football C...</td>\n",
       "      <td>https://www.snopes.com/fact-check/german-footb...</td>\n",
       "      <td>mostly-true-new</td>\n",
       "      <td>NaN</td>\n",
       "      <td>auth</td>\n",
       "      <td>170735298</td>\n",
       "      <td>{'cap': {'english': 0.6763619064808265, 'unive...</td>\n",
       "    </tr>\n",
       "    <tr>\n",
       "      <th>4</th>\n",
       "      <td>1000438777792344067</td>\n",
       "      <td>1000191784797040640</td>\n",
       "      <td>Those who do not learn from history are doomed...</td>\n",
       "      <td>https://twitter.com/POTUS/status/1000438777792...</td>\n",
       "      <td>A German football club was banned from playing...</td>\n",
       "      <td>['https://www.snopes.com/tachyon/2018/03/ratin...</td>\n",
       "      <td>http://pbs.twimg.com/media/DeFkp5eU0AA2aLJ.jpg</td>\n",
       "      <td>pnting n the wo \" ' t WHY to win . nbor mu t n...</td>\n",
       "      <td>https://www.snopes.com/fact-check/german-footb...</td>\n",
       "      <td>mostly-true-new</td>\n",
       "      <td>NaN</td>\n",
       "      <td>ok</td>\n",
       "      <td>115563859</td>\n",
       "      <td>{'cap': {'english': 0.7668769621923945, 'unive...</td>\n",
       "    </tr>\n",
       "    <tr>\n",
       "      <th>...</th>\n",
       "      <td>...</td>\n",
       "      <td>...</td>\n",
       "      <td>...</td>\n",
       "      <td>...</td>\n",
       "      <td>...</td>\n",
       "      <td>...</td>\n",
       "      <td>...</td>\n",
       "      <td>...</td>\n",
       "      <td>...</td>\n",
       "      <td>...</td>\n",
       "      <td>...</td>\n",
       "      <td>...</td>\n",
       "      <td>...</td>\n",
       "      <td>...</td>\n",
       "    </tr>\n",
       "    <tr>\n",
       "      <th>6971</th>\n",
       "      <td>1000095067887910917</td>\n",
       "      <td>999866405687209984</td>\n",
       "      <td>History repeating itself with @realDonaldTrump...</td>\n",
       "      <td>https://twitter.com/POTUS/status/1000095067887...</td>\n",
       "      <td>A German football club was banned from playing...</td>\n",
       "      <td>['https://www.snopes.com/tachyon/2018/03/ratin...</td>\n",
       "      <td>http://pbs.twimg.com/media/DeA9KrlVwAEHtPB.jpg</td>\n",
       "      <td>FAILED TO GIVE NAZI SALUTE . German Football C...</td>\n",
       "      <td>https://www.snopes.com/fact-check/german-footb...</td>\n",
       "      <td>mostly-true-new</td>\n",
       "      <td>NaN</td>\n",
       "      <td>ok</td>\n",
       "      <td>550658726</td>\n",
       "      <td>NaN</td>\n",
       "    </tr>\n",
       "    <tr>\n",
       "      <th>6972</th>\n",
       "      <td>1000146882428096512</td>\n",
       "      <td>999903412425711616</td>\n",
       "      <td>I picked this up from someone here. Its🙄🤨🙄 wor...</td>\n",
       "      <td>https://twitter.com/POTUS/status/1000146882428...</td>\n",
       "      <td>A German football club was banned from playing...</td>\n",
       "      <td>['https://www.snopes.com/tachyon/2018/03/ratin...</td>\n",
       "      <td>http://pbs.twimg.com/media/DeBe1X5VAAI-Zhh.jpg</td>\n",
       "      <td>FAILED TO GIVE NAZI SALUTE . German Football C...</td>\n",
       "      <td>https://www.snopes.com/fact-check/german-footb...</td>\n",
       "      <td>mostly-true-new</td>\n",
       "      <td>NaN</td>\n",
       "      <td>ok</td>\n",
       "      <td>91743765</td>\n",
       "      <td>NaN</td>\n",
       "    </tr>\n",
       "    <tr>\n",
       "      <th>6973</th>\n",
       "      <td>1000018438184734720</td>\n",
       "      <td>999961946932723713</td>\n",
       "      <td>Trump is a criminal, a gangster using criminal...</td>\n",
       "      <td>https://twitter.com/POTUS/status/1000018438184...</td>\n",
       "      <td>Notorious mobster Al Capone demanded an inquir...</td>\n",
       "      <td>['https://www.snopes.com/tachyon/2018/03/ratin...</td>\n",
       "      <td>http://pbs.twimg.com/media/DeCUF2ZV4AAMm0Z.jpg</td>\n",
       "      <td>Ci ) icago Sunday Cribune INAL 17 . Capone Dem...</td>\n",
       "      <td>https://www.snopes.com/fact-check/did-al-capon...</td>\n",
       "      <td>false</td>\n",
       "      <td>NaN</td>\n",
       "      <td>missing</td>\n",
       "      <td>881682896607600640</td>\n",
       "      <td>NaN</td>\n",
       "    </tr>\n",
       "    <tr>\n",
       "      <th>6974</th>\n",
       "      <td>999992400725585920</td>\n",
       "      <td>999962442141782016</td>\n",
       "      <td>@VP @NFL @POTUS The only thing that’s #Winning...</td>\n",
       "      <td>https://twitter.com/POTUS/status/9999924007255...</td>\n",
       "      <td>Baseball players in the 1950s were caught on c...</td>\n",
       "      <td>['https://www.snopes.com/tachyon/2018/03/ratin...</td>\n",
       "      <td>http://pbs.twimg.com/media/DeCUiW3VwAAQbyx.jpg</td>\n",
       "      <td>White Baseball Players Kneel in the 50 ' s to ...</td>\n",
       "      <td>https://www.snopes.com/fact-check/baseball-pla...</td>\n",
       "      <td>false</td>\n",
       "      <td>NaN</td>\n",
       "      <td>auth</td>\n",
       "      <td>115748564</td>\n",
       "      <td>NaN</td>\n",
       "    </tr>\n",
       "    <tr>\n",
       "      <th>6975</th>\n",
       "      <td>1000035228679852032</td>\n",
       "      <td>999973815655518213</td>\n",
       "      <td>@mjfree Sports has been used as a means of pro...</td>\n",
       "      <td>https://twitter.com/POTUS/status/1000035228679...</td>\n",
       "      <td>Baseball players in the 1950s were caught on c...</td>\n",
       "      <td>['https://www.snopes.com/tachyon/2018/03/ratin...</td>\n",
       "      <td>http://pbs.twimg.com/media/DeCejk4WkAMruuM.jpg</td>\n",
       "      <td>White Baseball Players Kneel in the 50 ' s to ...</td>\n",
       "      <td>https://www.snopes.com/fact-check/baseball-pla...</td>\n",
       "      <td>false</td>\n",
       "      <td>NaN</td>\n",
       "      <td>ok</td>\n",
       "      <td>518227176</td>\n",
       "      <td>NaN</td>\n",
       "    </tr>\n",
       "  </tbody>\n",
       "</table>\n",
       "<p>6976 rows × 14 columns</p>\n",
       "</div>"
      ],
      "text/plain": [
       "                       id          original_id  \\\n",
       "0     1000037356836093953  1000023322481086466   \n",
       "1     1000098833798389760  1000059879682342912   \n",
       "2     1000158804795781120  1000073920760791040   \n",
       "3     1000175568241872897  1000174645973315586   \n",
       "4     1000438777792344067  1000191784797040640   \n",
       "...                   ...                  ...   \n",
       "6971  1000095067887910917   999866405687209984   \n",
       "6972  1000146882428096512   999903412425711616   \n",
       "6973  1000018438184734720   999961946932723713   \n",
       "6974   999992400725585920   999962442141782016   \n",
       "6975  1000035228679852032   999973815655518213   \n",
       "\n",
       "                                             tweet_text  \\\n",
       "0     Brave men died to keep us free. Radicals want ...   \n",
       "1     “Stand for the National Anthem or be punished”...   \n",
       "2     @Humancipator35 @buddydusty @davidhogg111 🙌🏼 R...   \n",
       "3             Just sayin'  #NFL https://t.co/70tFG5ieMC   \n",
       "4     Those who do not learn from history are doomed...   \n",
       "...                                                 ...   \n",
       "6971  History repeating itself with @realDonaldTrump...   \n",
       "6972  I picked this up from someone here. Its🙄🤨🙄 wor...   \n",
       "6973  Trump is a criminal, a gangster using criminal...   \n",
       "6974  @VP @NFL @POTUS The only thing that’s #Winning...   \n",
       "6975  @mjfree Sports has been used as a means of pro...   \n",
       "\n",
       "                                              tweet_url  \\\n",
       "0     https://twitter.com/POTUS/status/1000037356836...   \n",
       "1     https://twitter.com/POTUS/status/1000098833798...   \n",
       "2     https://twitter.com/POTUS/status/1000158804795...   \n",
       "3     https://twitter.com/POTUS/status/1000175568241...   \n",
       "4     https://twitter.com/POTUS/status/1000438777792...   \n",
       "...                                                 ...   \n",
       "6971  https://twitter.com/POTUS/status/1000095067887...   \n",
       "6972  https://twitter.com/POTUS/status/1000146882428...   \n",
       "6973  https://twitter.com/POTUS/status/1000018438184...   \n",
       "6974  https://twitter.com/POTUS/status/9999924007255...   \n",
       "6975  https://twitter.com/POTUS/status/1000035228679...   \n",
       "\n",
       "                                                  claim  \\\n",
       "0     Liberals were offended by a World War I memori...   \n",
       "1     A German football club was banned from playing...   \n",
       "2     Emma Gonz lez, a survivor of the Parkland scho...   \n",
       "3     A German football club was banned from playing...   \n",
       "4     A German football club was banned from playing...   \n",
       "...                                                 ...   \n",
       "6971  A German football club was banned from playing...   \n",
       "6972  A German football club was banned from playing...   \n",
       "6973  Notorious mobster Al Capone demanded an inquir...   \n",
       "6974  Baseball players in the 1950s were caught on c...   \n",
       "6975  Baseball players in the 1950s were caught on c...   \n",
       "\n",
       "                                                 rating  \\\n",
       "0     ['https://www.snopes.com/tachyon/2018/03/ratin...   \n",
       "1     ['https://www.snopes.com/tachyon/2018/03/ratin...   \n",
       "2     ['https://www.snopes.com/tachyon/2018/03/ratin...   \n",
       "3     ['https://www.snopes.com/tachyon/2018/03/ratin...   \n",
       "4     ['https://www.snopes.com/tachyon/2018/03/ratin...   \n",
       "...                                                 ...   \n",
       "6971  ['https://www.snopes.com/tachyon/2018/03/ratin...   \n",
       "6972  ['https://www.snopes.com/tachyon/2018/03/ratin...   \n",
       "6973  ['https://www.snopes.com/tachyon/2018/03/ratin...   \n",
       "6974  ['https://www.snopes.com/tachyon/2018/03/ratin...   \n",
       "6975  ['https://www.snopes.com/tachyon/2018/03/ratin...   \n",
       "\n",
       "                                              images  \\\n",
       "0     http://pbs.twimg.com/media/DeDL5a-XkAI7Hlw.jpg   \n",
       "1     http://pbs.twimg.com/media/DeDtKIRVAAA4kPm.jpg   \n",
       "2     http://pbs.twimg.com/media/DeD57XMV4AAUG4k.jpg   \n",
       "3     http://pbs.twimg.com/media/DeFVdDlUwAA17qS.jpg   \n",
       "4     http://pbs.twimg.com/media/DeFkp5eU0AA2aLJ.jpg   \n",
       "...                                              ...   \n",
       "6971  http://pbs.twimg.com/media/DeA9KrlVwAEHtPB.jpg   \n",
       "6972  http://pbs.twimg.com/media/DeBe1X5VAAI-Zhh.jpg   \n",
       "6973  http://pbs.twimg.com/media/DeCUF2ZV4AAMm0Z.jpg   \n",
       "6974  http://pbs.twimg.com/media/DeCUiW3VwAAQbyx.jpg   \n",
       "6975  http://pbs.twimg.com/media/DeCejk4WkAMruuM.jpg   \n",
       "\n",
       "                                            text_images  \\\n",
       "0     #DontTearMeDown IRSTLIBERT . ORG DontTearMeDow...   \n",
       "1     FAILED TO GIVE NAZI SALUTE . German Football C...   \n",
       "2                                                   NaN   \n",
       "3     FAILED TO GIVE NAZI SALUTE . German Football C...   \n",
       "4     pnting n the wo \" ' t WHY to win . nbor mu t n...   \n",
       "...                                                 ...   \n",
       "6971  FAILED TO GIVE NAZI SALUTE . German Football C...   \n",
       "6972  FAILED TO GIVE NAZI SALUTE . German Football C...   \n",
       "6973  Ci ) icago Sunday Cribune INAL 17 . Capone Dem...   \n",
       "6974  White Baseball Players Kneel in the 50 ' s to ...   \n",
       "6975  White Baseball Players Kneel in the 50 ' s to ...   \n",
       "\n",
       "                                                 source            label  \\\n",
       "0     https://www.snopes.com/fact-check/liberals-dem...          mixture   \n",
       "1     https://www.snopes.com/fact-check/german-footb...  mostly-true-new   \n",
       "2     https://www.snopes.com/fact-check/emma-gonzale...            false   \n",
       "3     https://www.snopes.com/fact-check/german-footb...  mostly-true-new   \n",
       "4     https://www.snopes.com/fact-check/german-footb...  mostly-true-new   \n",
       "...                                                 ...              ...   \n",
       "6971  https://www.snopes.com/fact-check/german-footb...  mostly-true-new   \n",
       "6972  https://www.snopes.com/fact-check/german-footb...  mostly-true-new   \n",
       "6973  https://www.snopes.com/fact-check/did-al-capon...            false   \n",
       "6974  https://www.snopes.com/fact-check/baseball-pla...            false   \n",
       "6975  https://www.snopes.com/fact-check/baseball-pla...            false   \n",
       "\n",
       "      label_info available              acc_id  \\\n",
       "0            NaN        ok          3981225735   \n",
       "1            NaN        ok          1924071992   \n",
       "2            NaN      auth           924224208   \n",
       "3            NaN      auth           170735298   \n",
       "4            NaN        ok           115563859   \n",
       "...          ...       ...                 ...   \n",
       "6971         NaN        ok           550658726   \n",
       "6972         NaN        ok            91743765   \n",
       "6973         NaN   missing  881682896607600640   \n",
       "6974         NaN      auth           115748564   \n",
       "6975         NaN        ok           518227176   \n",
       "\n",
       "                                              botometer  \n",
       "0     {'cap': {'english': 0.7759887465100499, 'unive...  \n",
       "1     {'cap': {'english': 0.7759887465100499, 'unive...  \n",
       "2     {'cap': {'english': 0.30618807248975083, 'univ...  \n",
       "3     {'cap': {'english': 0.6763619064808265, 'unive...  \n",
       "4     {'cap': {'english': 0.7668769621923945, 'unive...  \n",
       "...                                                 ...  \n",
       "6971                                                NaN  \n",
       "6972                                                NaN  \n",
       "6973                                                NaN  \n",
       "6974                                                NaN  \n",
       "6975                                                NaN  \n",
       "\n",
       "[6976 rows x 14 columns]"
      ]
     },
     "execution_count": 14,
     "metadata": {},
     "output_type": "execute_result"
    }
   ],
   "source": [
    "df"
   ]
  },
  {
   "cell_type": "code",
   "execution_count": 15,
   "metadata": {},
   "outputs": [
    {
     "name": "stderr",
     "output_type": "stream",
     "text": [
      "0it [00:00, ?it/s]"
     ]
    },
    {
     "name": "stdout",
     "output_type": "stream",
     "text": [
      "4612\n"
     ]
    },
    {
     "name": "stderr",
     "output_type": "stream",
     "text": [
      "4613it [00:04, 1057.60it/s]"
     ]
    },
    {
     "name": "stdout",
     "output_type": "stream",
     "text": [
      "4613\n",
      "4614\n",
      "4615\n"
     ]
    },
    {
     "name": "stderr",
     "output_type": "stream",
     "text": [
      "4616it [00:16, 213.10it/s] "
     ]
    },
    {
     "name": "stdout",
     "output_type": "stream",
     "text": [
      "4616\n"
     ]
    },
    {
     "name": "stderr",
     "output_type": "stream",
     "text": [
      "4617it [00:20, 153.19it/s]"
     ]
    },
    {
     "name": "stdout",
     "output_type": "stream",
     "text": [
      "4617\n",
      "4618\n",
      "4619\n",
      "Failed on account: 854166263618088960\n",
      "[{'code': 34, 'message': 'Sorry, that page does not exist.'}]\n",
      "4620\n"
     ]
    },
    {
     "name": "stderr",
     "output_type": "stream",
     "text": [
      "4621it [00:34, 65.48it/s] "
     ]
    },
    {
     "name": "stdout",
     "output_type": "stream",
     "text": [
      "4621\n"
     ]
    },
    {
     "name": "stderr",
     "output_type": "stream",
     "text": [
      "4622it [00:38, 54.30it/s]"
     ]
    },
    {
     "name": "stdout",
     "output_type": "stream",
     "text": [
      "4622\n",
      "4623\n",
      "Failed on account: 735574058167734272\n",
      "[{'code': 34, 'message': 'Sorry, that page does not exist.'}]\n",
      "4624\n",
      "4625\n",
      "4626\n"
     ]
    },
    {
     "name": "stderr",
     "output_type": "stream",
     "text": [
      "4627it [00:55, 24.74it/s]"
     ]
    },
    {
     "name": "stdout",
     "output_type": "stream",
     "text": [
      "4627\n"
     ]
    },
    {
     "name": "stderr",
     "output_type": "stream",
     "text": [
      "4628it [00:59, 20.74it/s]"
     ]
    },
    {
     "name": "stdout",
     "output_type": "stream",
     "text": [
      "4628\n",
      "4629\n",
      "4630\n",
      "4631\n"
     ]
    },
    {
     "name": "stderr",
     "output_type": "stream",
     "text": [
      "4632it [01:18, 10.48it/s]"
     ]
    },
    {
     "name": "stdout",
     "output_type": "stream",
     "text": [
      "4632\n"
     ]
    },
    {
     "name": "stderr",
     "output_type": "stream",
     "text": [
      "4633it [01:22,  8.95it/s]"
     ]
    },
    {
     "name": "stdout",
     "output_type": "stream",
     "text": [
      "4633\n",
      "4634\n",
      "4635\n"
     ]
    },
    {
     "name": "stderr",
     "output_type": "stream",
     "text": [
      "4636it [01:35,  5.63it/s]"
     ]
    },
    {
     "name": "stdout",
     "output_type": "stream",
     "text": [
      "4636\n"
     ]
    },
    {
     "name": "stderr",
     "output_type": "stream",
     "text": [
      "4637it [01:40,  4.79it/s]"
     ]
    },
    {
     "name": "stdout",
     "output_type": "stream",
     "text": [
      "4637\n",
      "4638\n",
      "4639\n",
      "4640\n"
     ]
    },
    {
     "name": "stderr",
     "output_type": "stream",
     "text": [
      "4641it [01:55,  2.82it/s]"
     ]
    },
    {
     "name": "stdout",
     "output_type": "stream",
     "text": [
      "4641\n"
     ]
    },
    {
     "name": "stderr",
     "output_type": "stream",
     "text": [
      "4642it [02:00,  2.39it/s]"
     ]
    },
    {
     "name": "stdout",
     "output_type": "stream",
     "text": [
      "4642\n",
      "4643\n",
      "4644\n",
      "4645\n"
     ]
    },
    {
     "name": "stderr",
     "output_type": "stream",
     "text": [
      "4646it [02:16,  1.46it/s]"
     ]
    },
    {
     "name": "stdout",
     "output_type": "stream",
     "text": [
      "4646\n"
     ]
    },
    {
     "name": "stderr",
     "output_type": "stream",
     "text": [
      "4647it [02:20,  1.30it/s]"
     ]
    },
    {
     "name": "stdout",
     "output_type": "stream",
     "text": [
      "4647\n",
      "4648\n",
      "4649\n"
     ]
    },
    {
     "name": "stderr",
     "output_type": "stream",
     "text": [
      "4650it [02:34,  1.14s/it]"
     ]
    },
    {
     "name": "stdout",
     "output_type": "stream",
     "text": [
      "4650\n"
     ]
    },
    {
     "name": "stderr",
     "output_type": "stream",
     "text": [
      "4651it [02:39,  1.32s/it]"
     ]
    },
    {
     "name": "stdout",
     "output_type": "stream",
     "text": [
      "4651\n",
      "4652\n"
     ]
    },
    {
     "name": "stderr",
     "output_type": "stream",
     "text": [
      "4653it [02:43,  1.39s/it]"
     ]
    },
    {
     "name": "stdout",
     "output_type": "stream",
     "text": [
      "Failed on account: 910874518109003776\n",
      "[{'code': 34, 'message': 'Sorry, that page does not exist.'}]\n",
      "4653\n",
      "4654\n"
     ]
    },
    {
     "name": "stderr",
     "output_type": "stream",
     "text": [
      "4655it [02:51,  1.79s/it]"
     ]
    },
    {
     "name": "stdout",
     "output_type": "stream",
     "text": [
      "4655\n"
     ]
    },
    {
     "name": "stderr",
     "output_type": "stream",
     "text": [
      "4656it [02:56,  2.10s/it]"
     ]
    },
    {
     "name": "stdout",
     "output_type": "stream",
     "text": [
      "4656\n"
     ]
    },
    {
     "name": "stderr",
     "output_type": "stream",
     "text": [
      "4657it [03:00,  2.30s/it]"
     ]
    },
    {
     "name": "stdout",
     "output_type": "stream",
     "text": [
      "4657\n"
     ]
    },
    {
     "name": "stderr",
     "output_type": "stream",
     "text": [
      "4658it [03:06,  2.79s/it]"
     ]
    },
    {
     "name": "stdout",
     "output_type": "stream",
     "text": [
      "4658\n"
     ]
    },
    {
     "name": "stderr",
     "output_type": "stream",
     "text": [
      "4659it [03:09,  2.96s/it]"
     ]
    },
    {
     "name": "stdout",
     "output_type": "stream",
     "text": [
      "4659\n"
     ]
    },
    {
     "name": "stderr",
     "output_type": "stream",
     "text": [
      "4660it [03:14,  3.19s/it]"
     ]
    },
    {
     "name": "stdout",
     "output_type": "stream",
     "text": [
      "4660\n"
     ]
    },
    {
     "name": "stderr",
     "output_type": "stream",
     "text": [
      "4661it [03:18,  3.42s/it]"
     ]
    },
    {
     "name": "stdout",
     "output_type": "stream",
     "text": [
      "4661\n"
     ]
    },
    {
     "name": "stderr",
     "output_type": "stream",
     "text": [
      "4662it [03:24,  4.13s/it]"
     ]
    },
    {
     "name": "stdout",
     "output_type": "stream",
     "text": [
      "4662\n"
     ]
    },
    {
     "name": "stderr",
     "output_type": "stream",
     "text": [
      "4663it [03:28,  3.97s/it]"
     ]
    },
    {
     "name": "stdout",
     "output_type": "stream",
     "text": [
      "4663\n"
     ]
    },
    {
     "name": "stderr",
     "output_type": "stream",
     "text": [
      "4664it [03:32,  3.94s/it]"
     ]
    },
    {
     "name": "stdout",
     "output_type": "stream",
     "text": [
      "4664\n"
     ]
    },
    {
     "name": "stderr",
     "output_type": "stream",
     "text": [
      "4665it [03:38,  4.56s/it]"
     ]
    },
    {
     "name": "stdout",
     "output_type": "stream",
     "text": [
      "4665\n"
     ]
    },
    {
     "name": "stderr",
     "output_type": "stream",
     "text": [
      "4666it [03:42,  4.35s/it]"
     ]
    },
    {
     "name": "stdout",
     "output_type": "stream",
     "text": [
      "4666\n"
     ]
    },
    {
     "name": "stderr",
     "output_type": "stream",
     "text": [
      "4667it [03:46,  4.41s/it]"
     ]
    },
    {
     "name": "stdout",
     "output_type": "stream",
     "text": [
      "4667\n"
     ]
    },
    {
     "name": "stderr",
     "output_type": "stream",
     "text": [
      "4668it [03:50,  4.35s/it]"
     ]
    },
    {
     "name": "stdout",
     "output_type": "stream",
     "text": [
      "4668\n"
     ]
    },
    {
     "name": "stderr",
     "output_type": "stream",
     "text": [
      "4669it [03:55,  4.34s/it]"
     ]
    },
    {
     "name": "stdout",
     "output_type": "stream",
     "text": [
      "4669\n"
     ]
    },
    {
     "name": "stderr",
     "output_type": "stream",
     "text": [
      "4670it [03:58,  4.14s/it]"
     ]
    },
    {
     "name": "stdout",
     "output_type": "stream",
     "text": [
      "4670\n"
     ]
    },
    {
     "name": "stderr",
     "output_type": "stream",
     "text": [
      "4671it [04:02,  4.01s/it]"
     ]
    },
    {
     "name": "stdout",
     "output_type": "stream",
     "text": [
      "4671\n"
     ]
    },
    {
     "name": "stderr",
     "output_type": "stream",
     "text": [
      "4672it [04:07,  4.37s/it]"
     ]
    },
    {
     "name": "stdout",
     "output_type": "stream",
     "text": [
      "4672\n"
     ]
    },
    {
     "name": "stderr",
     "output_type": "stream",
     "text": [
      "4673it [04:11,  4.06s/it]"
     ]
    },
    {
     "name": "stdout",
     "output_type": "stream",
     "text": [
      "4673\n"
     ]
    },
    {
     "name": "stderr",
     "output_type": "stream",
     "text": [
      "4674it [04:14,  3.98s/it]"
     ]
    },
    {
     "name": "stdout",
     "output_type": "stream",
     "text": [
      "4674\n"
     ]
    },
    {
     "name": "stderr",
     "output_type": "stream",
     "text": [
      "4675it [04:20,  4.30s/it]"
     ]
    },
    {
     "name": "stdout",
     "output_type": "stream",
     "text": [
      "4675\n"
     ]
    },
    {
     "name": "stderr",
     "output_type": "stream",
     "text": [
      "4676it [04:25,  4.63s/it]"
     ]
    },
    {
     "name": "stdout",
     "output_type": "stream",
     "text": [
      "4676\n"
     ]
    },
    {
     "name": "stderr",
     "output_type": "stream",
     "text": [
      "4677it [04:29,  4.57s/it]"
     ]
    },
    {
     "name": "stdout",
     "output_type": "stream",
     "text": [
      "4677\n"
     ]
    },
    {
     "name": "stderr",
     "output_type": "stream",
     "text": [
      "4678it [04:34,  4.67s/it]"
     ]
    },
    {
     "name": "stdout",
     "output_type": "stream",
     "text": [
      "4678\n"
     ]
    },
    {
     "name": "stderr",
     "output_type": "stream",
     "text": [
      "4679it [04:39,  4.65s/it]"
     ]
    },
    {
     "name": "stdout",
     "output_type": "stream",
     "text": [
      "4679\n"
     ]
    },
    {
     "name": "stderr",
     "output_type": "stream",
     "text": [
      "4680it [04:43,  4.44s/it]"
     ]
    },
    {
     "name": "stdout",
     "output_type": "stream",
     "text": [
      "4680\n"
     ]
    },
    {
     "name": "stderr",
     "output_type": "stream",
     "text": [
      "4681it [04:47,  4.25s/it]"
     ]
    },
    {
     "name": "stdout",
     "output_type": "stream",
     "text": [
      "4681\n"
     ]
    },
    {
     "name": "stderr",
     "output_type": "stream",
     "text": [
      "4682it [04:50,  4.12s/it]"
     ]
    },
    {
     "name": "stdout",
     "output_type": "stream",
     "text": [
      "4682\n"
     ]
    },
    {
     "name": "stderr",
     "output_type": "stream",
     "text": [
      "4683it [04:55,  4.40s/it]"
     ]
    },
    {
     "name": "stdout",
     "output_type": "stream",
     "text": [
      "4683\n"
     ]
    },
    {
     "name": "stderr",
     "output_type": "stream",
     "text": [
      "4684it [04:59,  4.15s/it]"
     ]
    },
    {
     "name": "stdout",
     "output_type": "stream",
     "text": [
      "4684\n"
     ]
    },
    {
     "name": "stderr",
     "output_type": "stream",
     "text": [
      "4685it [05:04,  4.25s/it]"
     ]
    },
    {
     "name": "stdout",
     "output_type": "stream",
     "text": [
      "4685\n"
     ]
    },
    {
     "name": "stderr",
     "output_type": "stream",
     "text": [
      "4686it [05:07,  4.01s/it]"
     ]
    },
    {
     "name": "stdout",
     "output_type": "stream",
     "text": [
      "4686\n"
     ]
    },
    {
     "name": "stderr",
     "output_type": "stream",
     "text": [
      "4687it [05:12,  4.24s/it]"
     ]
    },
    {
     "name": "stdout",
     "output_type": "stream",
     "text": [
      "4687\n"
     ]
    },
    {
     "name": "stderr",
     "output_type": "stream",
     "text": [
      "4688it [05:18,  4.84s/it]"
     ]
    },
    {
     "name": "stdout",
     "output_type": "stream",
     "text": [
      "4688\n"
     ]
    },
    {
     "name": "stderr",
     "output_type": "stream",
     "text": [
      "4689it [05:22,  4.44s/it]"
     ]
    },
    {
     "name": "stdout",
     "output_type": "stream",
     "text": [
      "4689\n"
     ]
    },
    {
     "name": "stderr",
     "output_type": "stream",
     "text": [
      "4690it [05:22,  3.18s/it]"
     ]
    },
    {
     "name": "stdout",
     "output_type": "stream",
     "text": [
      "Failed on account: 705121858580934656\n",
      "[{'code': 34, 'message': 'Sorry, that page does not exist.'}]\n",
      "4690\n"
     ]
    },
    {
     "name": "stderr",
     "output_type": "stream",
     "text": [
      "4691it [05:26,  3.41s/it]"
     ]
    },
    {
     "name": "stdout",
     "output_type": "stream",
     "text": [
      "4691\n"
     ]
    },
    {
     "name": "stderr",
     "output_type": "stream",
     "text": [
      "4692it [05:31,  3.85s/it]"
     ]
    },
    {
     "name": "stdout",
     "output_type": "stream",
     "text": [
      "4692\n"
     ]
    },
    {
     "name": "stderr",
     "output_type": "stream",
     "text": [
      "4693it [05:34,  3.78s/it]"
     ]
    },
    {
     "name": "stdout",
     "output_type": "stream",
     "text": [
      "4693\n"
     ]
    },
    {
     "name": "stderr",
     "output_type": "stream",
     "text": [
      "4694it [05:38,  3.77s/it]"
     ]
    },
    {
     "name": "stdout",
     "output_type": "stream",
     "text": [
      "4694\n"
     ]
    },
    {
     "name": "stderr",
     "output_type": "stream",
     "text": [
      "4695it [05:43,  4.19s/it]"
     ]
    },
    {
     "name": "stdout",
     "output_type": "stream",
     "text": [
      "4695\n"
     ]
    },
    {
     "name": "stderr",
     "output_type": "stream",
     "text": [
      "4696it [05:49,  4.83s/it]"
     ]
    },
    {
     "name": "stdout",
     "output_type": "stream",
     "text": [
      "4696\n"
     ]
    },
    {
     "name": "stderr",
     "output_type": "stream",
     "text": [
      "4697it [05:55,  5.01s/it]"
     ]
    },
    {
     "name": "stdout",
     "output_type": "stream",
     "text": [
      "4697\n"
     ]
    },
    {
     "name": "stderr",
     "output_type": "stream",
     "text": [
      "4698it [05:59,  4.76s/it]"
     ]
    },
    {
     "name": "stdout",
     "output_type": "stream",
     "text": [
      "4698\n"
     ]
    },
    {
     "name": "stderr",
     "output_type": "stream",
     "text": [
      "4699it [05:59,  3.43s/it]"
     ]
    },
    {
     "name": "stdout",
     "output_type": "stream",
     "text": [
      "Failed on account: 885146683813896192\n",
      "[{'code': 34, 'message': 'Sorry, that page does not exist.'}]\n",
      "4699\n"
     ]
    },
    {
     "name": "stderr",
     "output_type": "stream",
     "text": [
      "4700it [06:03,  3.42s/it]"
     ]
    },
    {
     "name": "stdout",
     "output_type": "stream",
     "text": [
      "4700\n"
     ]
    },
    {
     "name": "stderr",
     "output_type": "stream",
     "text": [
      "4701it [06:06,  3.50s/it]"
     ]
    },
    {
     "name": "stdout",
     "output_type": "stream",
     "text": [
      "4701\n"
     ]
    },
    {
     "name": "stderr",
     "output_type": "stream",
     "text": [
      "4702it [06:12,  4.05s/it]"
     ]
    },
    {
     "name": "stdout",
     "output_type": "stream",
     "text": [
      "4702\n"
     ]
    },
    {
     "name": "stderr",
     "output_type": "stream",
     "text": [
      "4703it [06:16,  3.97s/it]"
     ]
    },
    {
     "name": "stdout",
     "output_type": "stream",
     "text": [
      "4703\n"
     ]
    },
    {
     "name": "stderr",
     "output_type": "stream",
     "text": [
      "4704it [06:22,  4.82s/it]"
     ]
    },
    {
     "name": "stdout",
     "output_type": "stream",
     "text": [
      "4704\n"
     ]
    },
    {
     "name": "stderr",
     "output_type": "stream",
     "text": [
      "4705it [06:27,  4.63s/it]"
     ]
    },
    {
     "name": "stdout",
     "output_type": "stream",
     "text": [
      "4705\n"
     ]
    },
    {
     "name": "stderr",
     "output_type": "stream",
     "text": [
      "4706it [06:31,  4.58s/it]"
     ]
    },
    {
     "name": "stdout",
     "output_type": "stream",
     "text": [
      "4706\n"
     ]
    },
    {
     "name": "stderr",
     "output_type": "stream",
     "text": [
      "4707it [06:36,  4.66s/it]"
     ]
    },
    {
     "name": "stdout",
     "output_type": "stream",
     "text": [
      "4707\n"
     ]
    },
    {
     "name": "stderr",
     "output_type": "stream",
     "text": [
      "4708it [06:40,  4.51s/it]"
     ]
    },
    {
     "name": "stdout",
     "output_type": "stream",
     "text": [
      "4708\n"
     ]
    },
    {
     "name": "stderr",
     "output_type": "stream",
     "text": [
      "4709it [06:45,  4.55s/it]"
     ]
    },
    {
     "name": "stdout",
     "output_type": "stream",
     "text": [
      "4709\n"
     ]
    },
    {
     "name": "stderr",
     "output_type": "stream",
     "text": [
      "4710it [06:50,  4.70s/it]"
     ]
    },
    {
     "name": "stdout",
     "output_type": "stream",
     "text": [
      "4710\n"
     ]
    },
    {
     "name": "stderr",
     "output_type": "stream",
     "text": [
      "4711it [06:54,  4.68s/it]"
     ]
    },
    {
     "name": "stdout",
     "output_type": "stream",
     "text": [
      "4711\n"
     ]
    },
    {
     "name": "stderr",
     "output_type": "stream",
     "text": [
      "4712it [06:59,  4.70s/it]"
     ]
    },
    {
     "name": "stdout",
     "output_type": "stream",
     "text": [
      "4712\n"
     ]
    },
    {
     "name": "stderr",
     "output_type": "stream",
     "text": [
      "4713it [07:03,  4.60s/it]"
     ]
    },
    {
     "name": "stdout",
     "output_type": "stream",
     "text": [
      "4713\n"
     ]
    },
    {
     "name": "stderr",
     "output_type": "stream",
     "text": [
      "4714it [07:08,  4.70s/it]"
     ]
    },
    {
     "name": "stdout",
     "output_type": "stream",
     "text": [
      "4714\n"
     ]
    },
    {
     "name": "stderr",
     "output_type": "stream",
     "text": [
      "4715it [07:14,  4.86s/it]"
     ]
    },
    {
     "name": "stdout",
     "output_type": "stream",
     "text": [
      "4715\n"
     ]
    },
    {
     "name": "stderr",
     "output_type": "stream",
     "text": [
      "4716it [07:18,  4.72s/it]"
     ]
    },
    {
     "name": "stdout",
     "output_type": "stream",
     "text": [
      "4716\n"
     ]
    },
    {
     "name": "stderr",
     "output_type": "stream",
     "text": [
      "4717it [07:18,  3.38s/it]"
     ]
    },
    {
     "name": "stdout",
     "output_type": "stream",
     "text": [
      "Failed on account: 901949629188550784\n",
      "[{'code': 34, 'message': 'Sorry, that page does not exist.'}]\n",
      "4717\n"
     ]
    },
    {
     "name": "stderr",
     "output_type": "stream",
     "text": [
      "4718it [07:23,  3.76s/it]"
     ]
    },
    {
     "name": "stdout",
     "output_type": "stream",
     "text": [
      "4718\n"
     ]
    },
    {
     "name": "stderr",
     "output_type": "stream",
     "text": [
      "4719it [07:27,  3.93s/it]"
     ]
    },
    {
     "name": "stdout",
     "output_type": "stream",
     "text": [
      "4719\n"
     ]
    },
    {
     "name": "stderr",
     "output_type": "stream",
     "text": [
      "4720it [07:32,  4.22s/it]"
     ]
    },
    {
     "name": "stdout",
     "output_type": "stream",
     "text": [
      "4720\n"
     ]
    },
    {
     "name": "stderr",
     "output_type": "stream",
     "text": [
      "4721it [07:37,  4.40s/it]"
     ]
    },
    {
     "name": "stdout",
     "output_type": "stream",
     "text": [
      "4721\n"
     ]
    },
    {
     "name": "stderr",
     "output_type": "stream",
     "text": [
      "4722it [07:41,  4.16s/it]"
     ]
    },
    {
     "name": "stdout",
     "output_type": "stream",
     "text": [
      "4722\n"
     ]
    },
    {
     "name": "stderr",
     "output_type": "stream",
     "text": [
      "4723it [07:46,  4.56s/it]"
     ]
    },
    {
     "name": "stdout",
     "output_type": "stream",
     "text": [
      "4723\n"
     ]
    },
    {
     "name": "stderr",
     "output_type": "stream",
     "text": [
      "4724it [07:51,  4.59s/it]"
     ]
    },
    {
     "name": "stdout",
     "output_type": "stream",
     "text": [
      "4724\n"
     ]
    },
    {
     "name": "stderr",
     "output_type": "stream",
     "text": [
      "4725it [07:55,  4.52s/it]"
     ]
    },
    {
     "name": "stdout",
     "output_type": "stream",
     "text": [
      "4725\n"
     ]
    },
    {
     "name": "stderr",
     "output_type": "stream",
     "text": [
      "4726it [07:59,  4.44s/it]"
     ]
    },
    {
     "name": "stdout",
     "output_type": "stream",
     "text": [
      "4726\n"
     ]
    },
    {
     "name": "stderr",
     "output_type": "stream",
     "text": [
      "4727it [08:04,  4.39s/it]"
     ]
    },
    {
     "name": "stdout",
     "output_type": "stream",
     "text": [
      "4727\n"
     ]
    },
    {
     "name": "stderr",
     "output_type": "stream",
     "text": [
      "4728it [08:08,  4.42s/it]"
     ]
    },
    {
     "name": "stdout",
     "output_type": "stream",
     "text": [
      "4728\n"
     ]
    },
    {
     "name": "stderr",
     "output_type": "stream",
     "text": [
      "4729it [08:12,  4.32s/it]"
     ]
    },
    {
     "name": "stdout",
     "output_type": "stream",
     "text": [
      "4729\n"
     ]
    },
    {
     "name": "stderr",
     "output_type": "stream",
     "text": [
      "4730it [08:16,  4.04s/it]"
     ]
    },
    {
     "name": "stdout",
     "output_type": "stream",
     "text": [
      "4730\n"
     ]
    },
    {
     "name": "stderr",
     "output_type": "stream",
     "text": [
      "4731it [08:21,  4.34s/it]"
     ]
    },
    {
     "name": "stdout",
     "output_type": "stream",
     "text": [
      "4731\n"
     ]
    },
    {
     "name": "stderr",
     "output_type": "stream",
     "text": [
      "4732it [08:25,  4.50s/it]"
     ]
    },
    {
     "name": "stdout",
     "output_type": "stream",
     "text": [
      "4732\n"
     ]
    },
    {
     "name": "stderr",
     "output_type": "stream",
     "text": [
      "4733it [08:31,  4.83s/it]"
     ]
    },
    {
     "name": "stdout",
     "output_type": "stream",
     "text": [
      "4733\n"
     ]
    },
    {
     "name": "stderr",
     "output_type": "stream",
     "text": [
      "4734it [08:35,  4.63s/it]"
     ]
    },
    {
     "name": "stdout",
     "output_type": "stream",
     "text": [
      "4734\n"
     ]
    },
    {
     "name": "stderr",
     "output_type": "stream",
     "text": [
      "4735it [08:39,  4.51s/it]"
     ]
    },
    {
     "name": "stdout",
     "output_type": "stream",
     "text": [
      "4735\n"
     ]
    },
    {
     "name": "stderr",
     "output_type": "stream",
     "text": [
      "4736it [08:44,  4.63s/it]"
     ]
    },
    {
     "name": "stdout",
     "output_type": "stream",
     "text": [
      "4736\n"
     ]
    },
    {
     "name": "stderr",
     "output_type": "stream",
     "text": [
      "4737it [08:48,  4.31s/it]"
     ]
    },
    {
     "name": "stdout",
     "output_type": "stream",
     "text": [
      "4737\n"
     ]
    },
    {
     "name": "stderr",
     "output_type": "stream",
     "text": [
      "4738it [08:53,  4.60s/it]"
     ]
    },
    {
     "name": "stdout",
     "output_type": "stream",
     "text": [
      "4738\n"
     ]
    },
    {
     "name": "stderr",
     "output_type": "stream",
     "text": [
      "4739it [08:57,  4.31s/it]"
     ]
    },
    {
     "name": "stdout",
     "output_type": "stream",
     "text": [
      "4739\n"
     ]
    },
    {
     "name": "stderr",
     "output_type": "stream",
     "text": [
      "4740it [09:03,  4.77s/it]"
     ]
    },
    {
     "name": "stdout",
     "output_type": "stream",
     "text": [
      "4740\n"
     ]
    },
    {
     "name": "stderr",
     "output_type": "stream",
     "text": [
      "4741it [09:07,  4.57s/it]"
     ]
    },
    {
     "name": "stdout",
     "output_type": "stream",
     "text": [
      "4741\n"
     ]
    },
    {
     "name": "stderr",
     "output_type": "stream",
     "text": [
      "4742it [09:07,  3.27s/it]"
     ]
    },
    {
     "name": "stdout",
     "output_type": "stream",
     "text": [
      "Failed on account: 822696225153708032\n",
      "[{'code': 34, 'message': 'Sorry, that page does not exist.'}]\n",
      "4742\n"
     ]
    },
    {
     "name": "stderr",
     "output_type": "stream",
     "text": [
      "4743it [09:11,  3.44s/it]"
     ]
    },
    {
     "name": "stdout",
     "output_type": "stream",
     "text": [
      "4743\n"
     ]
    },
    {
     "name": "stderr",
     "output_type": "stream",
     "text": [
      "4744it [09:15,  3.67s/it]"
     ]
    },
    {
     "name": "stdout",
     "output_type": "stream",
     "text": [
      "4744\n"
     ]
    },
    {
     "name": "stderr",
     "output_type": "stream",
     "text": [
      "4745it [09:20,  4.09s/it]"
     ]
    },
    {
     "name": "stdout",
     "output_type": "stream",
     "text": [
      "4745\n"
     ]
    },
    {
     "name": "stderr",
     "output_type": "stream",
     "text": [
      "4746it [09:27,  4.78s/it]"
     ]
    },
    {
     "name": "stdout",
     "output_type": "stream",
     "text": [
      "4746\n"
     ]
    },
    {
     "name": "stderr",
     "output_type": "stream",
     "text": [
      "4747it [09:31,  4.79s/it]"
     ]
    },
    {
     "name": "stdout",
     "output_type": "stream",
     "text": [
      "4747\n"
     ]
    },
    {
     "name": "stderr",
     "output_type": "stream",
     "text": [
      "4748it [09:36,  4.63s/it]"
     ]
    },
    {
     "name": "stdout",
     "output_type": "stream",
     "text": [
      "4748\n"
     ]
    },
    {
     "name": "stderr",
     "output_type": "stream",
     "text": [
      "4749it [09:40,  4.49s/it]"
     ]
    },
    {
     "name": "stdout",
     "output_type": "stream",
     "text": [
      "4749\n"
     ]
    },
    {
     "name": "stderr",
     "output_type": "stream",
     "text": [
      "4750it [09:43,  4.24s/it]"
     ]
    },
    {
     "name": "stdout",
     "output_type": "stream",
     "text": [
      "4750\n"
     ]
    },
    {
     "name": "stderr",
     "output_type": "stream",
     "text": [
      "4751it [09:44,  3.04s/it]"
     ]
    },
    {
     "name": "stdout",
     "output_type": "stream",
     "text": [
      "Failed on account: 911387521610928000\n",
      "[{'code': 34, 'message': 'Sorry, that page does not exist.'}]\n",
      "4751\n"
     ]
    },
    {
     "name": "stderr",
     "output_type": "stream",
     "text": [
      "4752it [09:48,  3.42s/it]"
     ]
    },
    {
     "name": "stdout",
     "output_type": "stream",
     "text": [
      "4752\n"
     ]
    },
    {
     "name": "stderr",
     "output_type": "stream",
     "text": [
      "4753it [09:54,  4.28s/it]"
     ]
    },
    {
     "name": "stdout",
     "output_type": "stream",
     "text": [
      "4753\n"
     ]
    },
    {
     "name": "stderr",
     "output_type": "stream",
     "text": [
      "4754it [10:00,  4.63s/it]"
     ]
    },
    {
     "name": "stdout",
     "output_type": "stream",
     "text": [
      "4754\n"
     ]
    },
    {
     "name": "stderr",
     "output_type": "stream",
     "text": [
      "4755it [10:03,  4.35s/it]"
     ]
    },
    {
     "name": "stdout",
     "output_type": "stream",
     "text": [
      "4755\n"
     ]
    },
    {
     "name": "stderr",
     "output_type": "stream",
     "text": [
      "4756it [10:08,  4.43s/it]"
     ]
    },
    {
     "name": "stdout",
     "output_type": "stream",
     "text": [
      "4756\n"
     ]
    },
    {
     "name": "stderr",
     "output_type": "stream",
     "text": [
      "4757it [10:12,  4.42s/it]"
     ]
    },
    {
     "name": "stdout",
     "output_type": "stream",
     "text": [
      "4757\n"
     ]
    },
    {
     "name": "stderr",
     "output_type": "stream",
     "text": [
      "4758it [10:18,  4.64s/it]"
     ]
    },
    {
     "name": "stdout",
     "output_type": "stream",
     "text": [
      "4758\n"
     ]
    },
    {
     "name": "stderr",
     "output_type": "stream",
     "text": [
      "4759it [10:22,  4.70s/it]"
     ]
    },
    {
     "name": "stdout",
     "output_type": "stream",
     "text": [
      "4759\n"
     ]
    },
    {
     "name": "stderr",
     "output_type": "stream",
     "text": [
      "4760it [10:27,  4.59s/it]"
     ]
    },
    {
     "name": "stdout",
     "output_type": "stream",
     "text": [
      "4760\n"
     ]
    },
    {
     "name": "stderr",
     "output_type": "stream",
     "text": [
      "4761it [10:31,  4.48s/it]"
     ]
    },
    {
     "name": "stdout",
     "output_type": "stream",
     "text": [
      "4761\n"
     ]
    },
    {
     "name": "stderr",
     "output_type": "stream",
     "text": [
      "4762it [10:36,  4.79s/it]"
     ]
    },
    {
     "name": "stdout",
     "output_type": "stream",
     "text": [
      "4762\n"
     ]
    },
    {
     "name": "stderr",
     "output_type": "stream",
     "text": [
      "4763it [10:41,  4.68s/it]"
     ]
    },
    {
     "name": "stdout",
     "output_type": "stream",
     "text": [
      "4763\n"
     ]
    },
    {
     "name": "stderr",
     "output_type": "stream",
     "text": [
      "4764it [10:41,  3.35s/it]"
     ]
    },
    {
     "name": "stdout",
     "output_type": "stream",
     "text": [
      "Failed on account: 877239859789918208\n",
      "[{'code': 34, 'message': 'Sorry, that page does not exist.'}]\n",
      "4764\n"
     ]
    },
    {
     "name": "stderr",
     "output_type": "stream",
     "text": [
      "4765it [10:45,  3.65s/it]"
     ]
    },
    {
     "name": "stdout",
     "output_type": "stream",
     "text": [
      "4765\n"
     ]
    },
    {
     "name": "stderr",
     "output_type": "stream",
     "text": [
      "4766it [10:51,  4.09s/it]"
     ]
    },
    {
     "name": "stdout",
     "output_type": "stream",
     "text": [
      "4766\n"
     ]
    },
    {
     "name": "stderr",
     "output_type": "stream",
     "text": [
      "4767it [10:55,  4.15s/it]"
     ]
    },
    {
     "name": "stdout",
     "output_type": "stream",
     "text": [
      "4767\n"
     ]
    },
    {
     "name": "stderr",
     "output_type": "stream",
     "text": [
      "4768it [11:01,  4.59s/it]"
     ]
    },
    {
     "name": "stdout",
     "output_type": "stream",
     "text": [
      "4768\n"
     ]
    },
    {
     "name": "stderr",
     "output_type": "stream",
     "text": [
      "4769it [11:05,  4.66s/it]"
     ]
    },
    {
     "name": "stdout",
     "output_type": "stream",
     "text": [
      "4769\n"
     ]
    },
    {
     "name": "stderr",
     "output_type": "stream",
     "text": [
      "4770it [11:09,  4.34s/it]"
     ]
    },
    {
     "name": "stdout",
     "output_type": "stream",
     "text": [
      "4770\n"
     ]
    },
    {
     "name": "stderr",
     "output_type": "stream",
     "text": [
      "4771it [11:13,  4.36s/it]"
     ]
    },
    {
     "name": "stdout",
     "output_type": "stream",
     "text": [
      "4771\n"
     ]
    },
    {
     "name": "stderr",
     "output_type": "stream",
     "text": [
      "4772it [11:18,  4.34s/it]"
     ]
    },
    {
     "name": "stdout",
     "output_type": "stream",
     "text": [
      "4772\n"
     ]
    },
    {
     "name": "stderr",
     "output_type": "stream",
     "text": [
      "4773it [11:21,  4.18s/it]"
     ]
    },
    {
     "name": "stdout",
     "output_type": "stream",
     "text": [
      "4773\n"
     ]
    },
    {
     "name": "stderr",
     "output_type": "stream",
     "text": [
      "4774it [11:26,  4.36s/it]"
     ]
    },
    {
     "name": "stdout",
     "output_type": "stream",
     "text": [
      "4774\n"
     ]
    },
    {
     "name": "stderr",
     "output_type": "stream",
     "text": [
      "4775it [11:30,  4.32s/it]"
     ]
    },
    {
     "name": "stdout",
     "output_type": "stream",
     "text": [
      "4775\n"
     ]
    },
    {
     "name": "stderr",
     "output_type": "stream",
     "text": [
      "4776it [11:36,  4.61s/it]"
     ]
    },
    {
     "name": "stdout",
     "output_type": "stream",
     "text": [
      "4776\n"
     ]
    },
    {
     "name": "stderr",
     "output_type": "stream",
     "text": [
      "4777it [11:41,  4.80s/it]"
     ]
    },
    {
     "name": "stdout",
     "output_type": "stream",
     "text": [
      "4777\n"
     ]
    },
    {
     "name": "stderr",
     "output_type": "stream",
     "text": [
      "4778it [11:45,  4.62s/it]"
     ]
    },
    {
     "name": "stdout",
     "output_type": "stream",
     "text": [
      "4778\n"
     ]
    },
    {
     "name": "stderr",
     "output_type": "stream",
     "text": [
      "4779it [11:49,  4.34s/it]"
     ]
    },
    {
     "name": "stdout",
     "output_type": "stream",
     "text": [
      "4779\n"
     ]
    },
    {
     "name": "stderr",
     "output_type": "stream",
     "text": [
      "4780it [11:53,  4.41s/it]"
     ]
    },
    {
     "name": "stdout",
     "output_type": "stream",
     "text": [
      "4780\n"
     ]
    },
    {
     "name": "stderr",
     "output_type": "stream",
     "text": [
      "4781it [11:58,  4.42s/it]"
     ]
    },
    {
     "name": "stdout",
     "output_type": "stream",
     "text": [
      "4781\n"
     ]
    },
    {
     "name": "stderr",
     "output_type": "stream",
     "text": [
      "4782it [12:03,  4.60s/it]"
     ]
    },
    {
     "name": "stdout",
     "output_type": "stream",
     "text": [
      "4782\n"
     ]
    },
    {
     "name": "stderr",
     "output_type": "stream",
     "text": [
      "4783it [12:08,  4.70s/it]"
     ]
    },
    {
     "name": "stdout",
     "output_type": "stream",
     "text": [
      "4783\n"
     ]
    },
    {
     "name": "stderr",
     "output_type": "stream",
     "text": [
      "4784it [12:12,  4.44s/it]"
     ]
    },
    {
     "name": "stdout",
     "output_type": "stream",
     "text": [
      "4784\n"
     ]
    },
    {
     "name": "stderr",
     "output_type": "stream",
     "text": [
      "4785it [12:16,  4.45s/it]"
     ]
    },
    {
     "name": "stdout",
     "output_type": "stream",
     "text": [
      "4785\n"
     ]
    },
    {
     "name": "stderr",
     "output_type": "stream",
     "text": [
      "4786it [12:21,  4.47s/it]"
     ]
    },
    {
     "name": "stdout",
     "output_type": "stream",
     "text": [
      "4786\n"
     ]
    },
    {
     "name": "stderr",
     "output_type": "stream",
     "text": [
      "4787it [12:25,  4.47s/it]"
     ]
    },
    {
     "name": "stdout",
     "output_type": "stream",
     "text": [
      "4787\n"
     ]
    },
    {
     "name": "stderr",
     "output_type": "stream",
     "text": [
      "4788it [12:29,  4.16s/it]"
     ]
    },
    {
     "name": "stdout",
     "output_type": "stream",
     "text": [
      "4788\n"
     ]
    },
    {
     "name": "stderr",
     "output_type": "stream",
     "text": [
      "4789it [12:33,  4.37s/it]"
     ]
    },
    {
     "name": "stdout",
     "output_type": "stream",
     "text": [
      "4789\n"
     ]
    },
    {
     "name": "stderr",
     "output_type": "stream",
     "text": [
      "4790it [12:40,  4.91s/it]"
     ]
    },
    {
     "name": "stdout",
     "output_type": "stream",
     "text": [
      "4790\n"
     ]
    },
    {
     "name": "stderr",
     "output_type": "stream",
     "text": [
      "4791it [12:46,  5.33s/it]"
     ]
    },
    {
     "name": "stdout",
     "output_type": "stream",
     "text": [
      "4791\n"
     ]
    },
    {
     "name": "stderr",
     "output_type": "stream",
     "text": [
      "4792it [12:51,  5.18s/it]"
     ]
    },
    {
     "name": "stdout",
     "output_type": "stream",
     "text": [
      "4792\n"
     ]
    },
    {
     "name": "stderr",
     "output_type": "stream",
     "text": [
      "4793it [12:51,  3.69s/it]"
     ]
    },
    {
     "name": "stdout",
     "output_type": "stream",
     "text": [
      "Failed on account: 734528732581507072\n",
      "[{'code': 34, 'message': 'Sorry, that page does not exist.'}]\n",
      "4793\n"
     ]
    },
    {
     "name": "stderr",
     "output_type": "stream",
     "text": [
      "4794it [12:56,  3.99s/it]"
     ]
    },
    {
     "name": "stdout",
     "output_type": "stream",
     "text": [
      "4794\n"
     ]
    },
    {
     "name": "stderr",
     "output_type": "stream",
     "text": [
      "4795it [13:01,  4.33s/it]"
     ]
    },
    {
     "name": "stdout",
     "output_type": "stream",
     "text": [
      "4795\n"
     ]
    },
    {
     "name": "stderr",
     "output_type": "stream",
     "text": [
      "4796it [13:04,  4.04s/it]"
     ]
    },
    {
     "name": "stdout",
     "output_type": "stream",
     "text": [
      "4796\n"
     ]
    },
    {
     "name": "stderr",
     "output_type": "stream",
     "text": [
      "4797it [13:08,  4.03s/it]"
     ]
    },
    {
     "name": "stdout",
     "output_type": "stream",
     "text": [
      "4797\n"
     ]
    },
    {
     "name": "stderr",
     "output_type": "stream",
     "text": [
      "4798it [13:12,  4.11s/it]"
     ]
    },
    {
     "name": "stdout",
     "output_type": "stream",
     "text": [
      "4798\n"
     ]
    },
    {
     "name": "stderr",
     "output_type": "stream",
     "text": [
      "4799it [13:16,  3.98s/it]"
     ]
    },
    {
     "name": "stdout",
     "output_type": "stream",
     "text": [
      "4799\n"
     ]
    },
    {
     "name": "stderr",
     "output_type": "stream",
     "text": [
      "4800it [13:21,  4.26s/it]"
     ]
    },
    {
     "name": "stdout",
     "output_type": "stream",
     "text": [
      "4800\n"
     ]
    },
    {
     "name": "stderr",
     "output_type": "stream",
     "text": [
      "4801it [13:26,  4.61s/it]"
     ]
    },
    {
     "name": "stdout",
     "output_type": "stream",
     "text": [
      "4801\n"
     ]
    },
    {
     "name": "stderr",
     "output_type": "stream",
     "text": [
      "4802it [13:27,  3.32s/it]"
     ]
    },
    {
     "name": "stdout",
     "output_type": "stream",
     "text": [
      "Failed on account: 739895436043898880\n",
      "[{'code': 34, 'message': 'Sorry, that page does not exist.'}]\n",
      "4802\n"
     ]
    },
    {
     "name": "stderr",
     "output_type": "stream",
     "text": [
      "4803it [13:31,  3.69s/it]"
     ]
    },
    {
     "name": "stdout",
     "output_type": "stream",
     "text": [
      "4803\n"
     ]
    },
    {
     "name": "stderr",
     "output_type": "stream",
     "text": [
      "4804it [13:35,  3.80s/it]"
     ]
    },
    {
     "name": "stdout",
     "output_type": "stream",
     "text": [
      "4804\n"
     ]
    },
    {
     "name": "stderr",
     "output_type": "stream",
     "text": [
      "4805it [13:39,  3.83s/it]"
     ]
    },
    {
     "name": "stdout",
     "output_type": "stream",
     "text": [
      "4805\n"
     ]
    },
    {
     "name": "stderr",
     "output_type": "stream",
     "text": [
      "4806it [13:43,  3.94s/it]"
     ]
    },
    {
     "name": "stdout",
     "output_type": "stream",
     "text": [
      "4806\n"
     ]
    },
    {
     "name": "stderr",
     "output_type": "stream",
     "text": [
      "4807it [13:49,  4.49s/it]"
     ]
    },
    {
     "name": "stdout",
     "output_type": "stream",
     "text": [
      "4807\n"
     ]
    },
    {
     "name": "stderr",
     "output_type": "stream",
     "text": [
      "4808it [13:54,  4.43s/it]"
     ]
    },
    {
     "name": "stdout",
     "output_type": "stream",
     "text": [
      "4808\n"
     ]
    },
    {
     "name": "stderr",
     "output_type": "stream",
     "text": [
      "4809it [13:59,  4.62s/it]"
     ]
    },
    {
     "name": "stdout",
     "output_type": "stream",
     "text": [
      "4809\n"
     ]
    },
    {
     "name": "stderr",
     "output_type": "stream",
     "text": [
      "4810it [13:59,  3.30s/it]"
     ]
    },
    {
     "name": "stdout",
     "output_type": "stream",
     "text": [
      "Failed on account: 734528732581507072\n",
      "[{'code': 34, 'message': 'Sorry, that page does not exist.'}]\n",
      "4810\n"
     ]
    },
    {
     "name": "stderr",
     "output_type": "stream",
     "text": [
      "4811it [14:03,  3.66s/it]"
     ]
    },
    {
     "name": "stdout",
     "output_type": "stream",
     "text": [
      "4811\n"
     ]
    },
    {
     "name": "stderr",
     "output_type": "stream",
     "text": [
      "4812it [14:07,  3.73s/it]"
     ]
    },
    {
     "name": "stdout",
     "output_type": "stream",
     "text": [
      "4812\n"
     ]
    },
    {
     "name": "stderr",
     "output_type": "stream",
     "text": [
      "4813it [15:09, 21.18s/it]"
     ]
    },
    {
     "name": "stdout",
     "output_type": "stream",
     "text": [
      "4813\n"
     ]
    },
    {
     "name": "stderr",
     "output_type": "stream",
     "text": [
      "4814it [15:13, 16.03s/it]"
     ]
    },
    {
     "name": "stdout",
     "output_type": "stream",
     "text": [
      "4814\n"
     ]
    },
    {
     "name": "stderr",
     "output_type": "stream",
     "text": [
      "4815it [15:20, 13.42s/it]"
     ]
    },
    {
     "name": "stdout",
     "output_type": "stream",
     "text": [
      "4815\n"
     ]
    },
    {
     "name": "stderr",
     "output_type": "stream",
     "text": [
      "4816it [15:25, 10.84s/it]"
     ]
    },
    {
     "name": "stdout",
     "output_type": "stream",
     "text": [
      "4816\n"
     ]
    },
    {
     "name": "stderr",
     "output_type": "stream",
     "text": [
      "4817it [15:30,  9.06s/it]"
     ]
    },
    {
     "name": "stdout",
     "output_type": "stream",
     "text": [
      "4817\n"
     ]
    },
    {
     "name": "stderr",
     "output_type": "stream",
     "text": [
      "4818it [15:30,  6.42s/it]"
     ]
    },
    {
     "name": "stdout",
     "output_type": "stream",
     "text": [
      "Failed on account: 919648829808480384\n",
      "[{'code': 34, 'message': 'Sorry, that page does not exist.'}]\n",
      "4818\n"
     ]
    },
    {
     "name": "stderr",
     "output_type": "stream",
     "text": [
      "4819it [15:36,  6.03s/it]"
     ]
    },
    {
     "name": "stdout",
     "output_type": "stream",
     "text": [
      "4819\n"
     ]
    },
    {
     "name": "stderr",
     "output_type": "stream",
     "text": [
      "4820it [15:40,  5.70s/it]"
     ]
    },
    {
     "name": "stdout",
     "output_type": "stream",
     "text": [
      "4820\n"
     ]
    },
    {
     "name": "stderr",
     "output_type": "stream",
     "text": [
      "4821it [15:44,  5.07s/it]"
     ]
    },
    {
     "name": "stdout",
     "output_type": "stream",
     "text": [
      "4821\n"
     ]
    },
    {
     "name": "stderr",
     "output_type": "stream",
     "text": [
      "4822it [15:50,  5.25s/it]"
     ]
    },
    {
     "name": "stdout",
     "output_type": "stream",
     "text": [
      "4822\n"
     ]
    },
    {
     "name": "stderr",
     "output_type": "stream",
     "text": [
      "4823it [15:54,  5.03s/it]"
     ]
    },
    {
     "name": "stdout",
     "output_type": "stream",
     "text": [
      "4823\n"
     ]
    },
    {
     "name": "stderr",
     "output_type": "stream",
     "text": [
      "4824it [15:59,  4.92s/it]"
     ]
    },
    {
     "name": "stdout",
     "output_type": "stream",
     "text": [
      "4824\n"
     ]
    },
    {
     "name": "stderr",
     "output_type": "stream",
     "text": [
      "4825it [16:03,  4.58s/it]"
     ]
    },
    {
     "name": "stdout",
     "output_type": "stream",
     "text": [
      "4825\n"
     ]
    },
    {
     "name": "stderr",
     "output_type": "stream",
     "text": [
      "4826it [16:06,  4.34s/it]"
     ]
    },
    {
     "name": "stdout",
     "output_type": "stream",
     "text": [
      "4826\n"
     ]
    },
    {
     "name": "stderr",
     "output_type": "stream",
     "text": [
      "4827it [16:10,  4.10s/it]"
     ]
    },
    {
     "name": "stdout",
     "output_type": "stream",
     "text": [
      "4827\n"
     ]
    },
    {
     "name": "stderr",
     "output_type": "stream",
     "text": [
      "4828it [16:15,  4.45s/it]"
     ]
    },
    {
     "name": "stdout",
     "output_type": "stream",
     "text": [
      "4828\n"
     ]
    },
    {
     "name": "stderr",
     "output_type": "stream",
     "text": [
      "4829it [16:19,  4.13s/it]"
     ]
    },
    {
     "name": "stdout",
     "output_type": "stream",
     "text": [
      "4829\n"
     ]
    },
    {
     "name": "stderr",
     "output_type": "stream",
     "text": [
      "4830it [16:24,  4.55s/it]"
     ]
    },
    {
     "name": "stdout",
     "output_type": "stream",
     "text": [
      "4830\n"
     ]
    },
    {
     "name": "stderr",
     "output_type": "stream",
     "text": [
      "4831it [16:29,  4.58s/it]"
     ]
    },
    {
     "name": "stdout",
     "output_type": "stream",
     "text": [
      "4831\n"
     ]
    },
    {
     "name": "stderr",
     "output_type": "stream",
     "text": [
      "4832it [16:33,  4.51s/it]"
     ]
    },
    {
     "name": "stdout",
     "output_type": "stream",
     "text": [
      "4832\n"
     ]
    },
    {
     "name": "stderr",
     "output_type": "stream",
     "text": [
      "4833it [16:38,  4.46s/it]"
     ]
    },
    {
     "name": "stdout",
     "output_type": "stream",
     "text": [
      "4833\n"
     ]
    },
    {
     "name": "stderr",
     "output_type": "stream",
     "text": [
      "4834it [16:42,  4.59s/it]"
     ]
    },
    {
     "name": "stdout",
     "output_type": "stream",
     "text": [
      "4834\n"
     ]
    },
    {
     "name": "stderr",
     "output_type": "stream",
     "text": [
      "4835it [16:47,  4.50s/it]"
     ]
    },
    {
     "name": "stdout",
     "output_type": "stream",
     "text": [
      "4835\n"
     ]
    },
    {
     "name": "stderr",
     "output_type": "stream",
     "text": [
      "4836it [16:52,  4.61s/it]"
     ]
    },
    {
     "name": "stdout",
     "output_type": "stream",
     "text": [
      "4836\n"
     ]
    },
    {
     "name": "stderr",
     "output_type": "stream",
     "text": [
      "4837it [16:57,  4.99s/it]"
     ]
    },
    {
     "name": "stdout",
     "output_type": "stream",
     "text": [
      "4837\n"
     ]
    },
    {
     "name": "stderr",
     "output_type": "stream",
     "text": [
      "4838it [17:03,  5.07s/it]"
     ]
    },
    {
     "name": "stdout",
     "output_type": "stream",
     "text": [
      "4838\n"
     ]
    },
    {
     "name": "stderr",
     "output_type": "stream",
     "text": [
      "4839it [17:08,  5.17s/it]"
     ]
    },
    {
     "name": "stdout",
     "output_type": "stream",
     "text": [
      "4839\n"
     ]
    },
    {
     "name": "stderr",
     "output_type": "stream",
     "text": [
      "4840it [17:08,  3.71s/it]"
     ]
    },
    {
     "name": "stdout",
     "output_type": "stream",
     "text": [
      "Failed on account: 920317576609190016\n",
      "[{'code': 34, 'message': 'Sorry, that page does not exist.'}]\n",
      "4840\n"
     ]
    },
    {
     "name": "stderr",
     "output_type": "stream",
     "text": [
      "4841it [17:13,  3.92s/it]"
     ]
    },
    {
     "name": "stdout",
     "output_type": "stream",
     "text": [
      "4841\n"
     ]
    },
    {
     "name": "stderr",
     "output_type": "stream",
     "text": [
      "4842it [17:17,  4.10s/it]"
     ]
    },
    {
     "name": "stdout",
     "output_type": "stream",
     "text": [
      "4842\n"
     ]
    },
    {
     "name": "stderr",
     "output_type": "stream",
     "text": [
      "4843it [17:21,  3.95s/it]"
     ]
    },
    {
     "name": "stdout",
     "output_type": "stream",
     "text": [
      "4843\n"
     ]
    },
    {
     "name": "stderr",
     "output_type": "stream",
     "text": [
      "4844it [17:25,  3.83s/it]"
     ]
    },
    {
     "name": "stdout",
     "output_type": "stream",
     "text": [
      "4844\n"
     ]
    },
    {
     "name": "stderr",
     "output_type": "stream",
     "text": [
      "4845it [17:30,  4.42s/it]"
     ]
    },
    {
     "name": "stdout",
     "output_type": "stream",
     "text": [
      "4845\n"
     ]
    },
    {
     "name": "stderr",
     "output_type": "stream",
     "text": [
      "4846it [17:35,  4.40s/it]"
     ]
    },
    {
     "name": "stdout",
     "output_type": "stream",
     "text": [
      "4846\n"
     ]
    },
    {
     "name": "stderr",
     "output_type": "stream",
     "text": [
      "4847it [17:39,  4.31s/it]"
     ]
    },
    {
     "name": "stdout",
     "output_type": "stream",
     "text": [
      "4847\n"
     ]
    },
    {
     "name": "stderr",
     "output_type": "stream",
     "text": [
      "4848it [17:42,  4.03s/it]"
     ]
    },
    {
     "name": "stdout",
     "output_type": "stream",
     "text": [
      "4848\n"
     ]
    },
    {
     "name": "stderr",
     "output_type": "stream",
     "text": [
      "4849it [17:47,  4.20s/it]"
     ]
    },
    {
     "name": "stdout",
     "output_type": "stream",
     "text": [
      "4849\n"
     ]
    },
    {
     "name": "stderr",
     "output_type": "stream",
     "text": [
      "4850it [17:52,  4.38s/it]"
     ]
    },
    {
     "name": "stdout",
     "output_type": "stream",
     "text": [
      "4850\n"
     ]
    },
    {
     "name": "stderr",
     "output_type": "stream",
     "text": [
      "4851it [17:56,  4.45s/it]"
     ]
    },
    {
     "name": "stdout",
     "output_type": "stream",
     "text": [
      "4851\n"
     ]
    },
    {
     "name": "stderr",
     "output_type": "stream",
     "text": [
      "4852it [18:01,  4.69s/it]"
     ]
    },
    {
     "name": "stdout",
     "output_type": "stream",
     "text": [
      "4852\n"
     ]
    },
    {
     "name": "stderr",
     "output_type": "stream",
     "text": [
      "4853it [18:06,  4.52s/it]"
     ]
    },
    {
     "name": "stdout",
     "output_type": "stream",
     "text": [
      "4853\n"
     ]
    },
    {
     "name": "stderr",
     "output_type": "stream",
     "text": [
      "4854it [18:10,  4.64s/it]"
     ]
    },
    {
     "name": "stdout",
     "output_type": "stream",
     "text": [
      "4854\n"
     ]
    },
    {
     "name": "stderr",
     "output_type": "stream",
     "text": [
      "4855it [18:15,  4.52s/it]"
     ]
    },
    {
     "name": "stdout",
     "output_type": "stream",
     "text": [
      "4855\n"
     ]
    },
    {
     "name": "stderr",
     "output_type": "stream",
     "text": [
      "4856it [18:20,  4.82s/it]"
     ]
    },
    {
     "name": "stdout",
     "output_type": "stream",
     "text": [
      "4856\n"
     ]
    },
    {
     "name": "stderr",
     "output_type": "stream",
     "text": [
      "4857it [18:25,  4.92s/it]"
     ]
    },
    {
     "name": "stdout",
     "output_type": "stream",
     "text": [
      "4857\n"
     ]
    },
    {
     "name": "stderr",
     "output_type": "stream",
     "text": [
      "4858it [18:29,  4.63s/it]"
     ]
    },
    {
     "name": "stdout",
     "output_type": "stream",
     "text": [
      "4858\n"
     ]
    },
    {
     "name": "stderr",
     "output_type": "stream",
     "text": [
      "4859it [18:33,  4.26s/it]"
     ]
    },
    {
     "name": "stdout",
     "output_type": "stream",
     "text": [
      "4859\n"
     ]
    },
    {
     "name": "stderr",
     "output_type": "stream",
     "text": [
      "4860it [18:37,  4.36s/it]"
     ]
    },
    {
     "name": "stdout",
     "output_type": "stream",
     "text": [
      "4860\n"
     ]
    },
    {
     "name": "stderr",
     "output_type": "stream",
     "text": [
      "4861it [18:42,  4.50s/it]"
     ]
    },
    {
     "name": "stdout",
     "output_type": "stream",
     "text": [
      "4861\n"
     ]
    },
    {
     "name": "stderr",
     "output_type": "stream",
     "text": [
      "4862it [18:47,  4.46s/it]"
     ]
    },
    {
     "name": "stdout",
     "output_type": "stream",
     "text": [
      "4862\n"
     ]
    },
    {
     "name": "stderr",
     "output_type": "stream",
     "text": [
      "4863it [18:53,  4.96s/it]"
     ]
    },
    {
     "name": "stdout",
     "output_type": "stream",
     "text": [
      "4863\n"
     ]
    },
    {
     "name": "stderr",
     "output_type": "stream",
     "text": [
      "4864it [18:58,  5.03s/it]"
     ]
    },
    {
     "name": "stdout",
     "output_type": "stream",
     "text": [
      "4864\n"
     ]
    },
    {
     "name": "stderr",
     "output_type": "stream",
     "text": [
      "4865it [19:02,  4.66s/it]"
     ]
    },
    {
     "name": "stdout",
     "output_type": "stream",
     "text": [
      "4865\n"
     ]
    },
    {
     "name": "stderr",
     "output_type": "stream",
     "text": [
      "4866it [19:07,  4.76s/it]"
     ]
    },
    {
     "name": "stdout",
     "output_type": "stream",
     "text": [
      "4866\n"
     ]
    },
    {
     "name": "stderr",
     "output_type": "stream",
     "text": [
      "4867it [19:13,  5.21s/it]"
     ]
    },
    {
     "name": "stdout",
     "output_type": "stream",
     "text": [
      "4867\n"
     ]
    },
    {
     "name": "stderr",
     "output_type": "stream",
     "text": [
      "4868it [19:17,  4.80s/it]"
     ]
    },
    {
     "name": "stdout",
     "output_type": "stream",
     "text": [
      "4868\n"
     ]
    },
    {
     "name": "stderr",
     "output_type": "stream",
     "text": [
      "4869it [19:17,  3.42s/it]"
     ]
    },
    {
     "name": "stdout",
     "output_type": "stream",
     "text": [
      "Failed on account: 787140516219645952\n",
      "[{'code': 34, 'message': 'Sorry, that page does not exist.'}]\n",
      "4869\n"
     ]
    },
    {
     "name": "stderr",
     "output_type": "stream",
     "text": [
      "4870it [19:21,  3.61s/it]"
     ]
    },
    {
     "name": "stdout",
     "output_type": "stream",
     "text": [
      "4870\n"
     ]
    },
    {
     "name": "stderr",
     "output_type": "stream",
     "text": [
      "4871it [19:25,  3.60s/it]"
     ]
    },
    {
     "name": "stdout",
     "output_type": "stream",
     "text": [
      "4871\n"
     ]
    },
    {
     "name": "stderr",
     "output_type": "stream",
     "text": [
      "4872it [19:30,  4.27s/it]"
     ]
    },
    {
     "name": "stdout",
     "output_type": "stream",
     "text": [
      "4872\n"
     ]
    },
    {
     "name": "stderr",
     "output_type": "stream",
     "text": [
      "4873it [19:36,  4.80s/it]"
     ]
    },
    {
     "name": "stdout",
     "output_type": "stream",
     "text": [
      "4873\n"
     ]
    },
    {
     "name": "stderr",
     "output_type": "stream",
     "text": [
      "4874it [19:42,  5.02s/it]"
     ]
    },
    {
     "name": "stdout",
     "output_type": "stream",
     "text": [
      "4874\n"
     ]
    },
    {
     "name": "stderr",
     "output_type": "stream",
     "text": [
      "4875it [19:47,  4.93s/it]"
     ]
    },
    {
     "name": "stdout",
     "output_type": "stream",
     "text": [
      "4875\n"
     ]
    },
    {
     "name": "stderr",
     "output_type": "stream",
     "text": [
      "4876it [19:52,  4.92s/it]"
     ]
    },
    {
     "name": "stdout",
     "output_type": "stream",
     "text": [
      "4876\n"
     ]
    },
    {
     "name": "stderr",
     "output_type": "stream",
     "text": [
      "4877it [19:56,  4.73s/it]"
     ]
    },
    {
     "name": "stdout",
     "output_type": "stream",
     "text": [
      "4877\n"
     ]
    },
    {
     "name": "stderr",
     "output_type": "stream",
     "text": [
      "4878it [19:56,  3.38s/it]"
     ]
    },
    {
     "name": "stdout",
     "output_type": "stream",
     "text": [
      "Failed on account: 919807004784201600\n",
      "[{'code': 34, 'message': 'Sorry, that page does not exist.'}]\n",
      "4878\n"
     ]
    },
    {
     "name": "stderr",
     "output_type": "stream",
     "text": [
      "4879it [20:01,  3.93s/it]"
     ]
    },
    {
     "name": "stdout",
     "output_type": "stream",
     "text": [
      "4879\n"
     ]
    },
    {
     "name": "stderr",
     "output_type": "stream",
     "text": [
      "4880it [20:06,  4.26s/it]"
     ]
    },
    {
     "name": "stdout",
     "output_type": "stream",
     "text": [
      "4880\n"
     ]
    },
    {
     "name": "stderr",
     "output_type": "stream",
     "text": [
      "4881it [20:07,  3.13s/it]"
     ]
    },
    {
     "name": "stdout",
     "output_type": "stream",
     "text": [
      "Failed on account: 844655062571978752\n",
      "[{'code': 34, 'message': 'Sorry, that page does not exist.'}]\n",
      "4881\n"
     ]
    },
    {
     "name": "stderr",
     "output_type": "stream",
     "text": [
      "4882it [20:12,  3.64s/it]"
     ]
    },
    {
     "name": "stdout",
     "output_type": "stream",
     "text": [
      "4882\n"
     ]
    },
    {
     "name": "stderr",
     "output_type": "stream",
     "text": [
      "4883it [20:12,  2.61s/it]"
     ]
    },
    {
     "name": "stdout",
     "output_type": "stream",
     "text": [
      "Failed on account: 835512456940236800\n",
      "[{'code': 34, 'message': 'Sorry, that page does not exist.'}]\n",
      "4883\n"
     ]
    },
    {
     "name": "stderr",
     "output_type": "stream",
     "text": [
      "4884it [20:16,  3.00s/it]"
     ]
    },
    {
     "name": "stdout",
     "output_type": "stream",
     "text": [
      "4884\n"
     ]
    },
    {
     "name": "stderr",
     "output_type": "stream",
     "text": [
      "4885it [20:19,  3.20s/it]"
     ]
    },
    {
     "name": "stdout",
     "output_type": "stream",
     "text": [
      "4885\n"
     ]
    },
    {
     "name": "stderr",
     "output_type": "stream",
     "text": [
      "4886it [20:23,  3.38s/it]"
     ]
    },
    {
     "name": "stdout",
     "output_type": "stream",
     "text": [
      "4886\n"
     ]
    },
    {
     "name": "stderr",
     "output_type": "stream",
     "text": [
      "4887it [20:27,  3.56s/it]"
     ]
    },
    {
     "name": "stdout",
     "output_type": "stream",
     "text": [
      "4887\n"
     ]
    },
    {
     "name": "stderr",
     "output_type": "stream",
     "text": [
      "4888it [20:32,  4.07s/it]"
     ]
    },
    {
     "name": "stdout",
     "output_type": "stream",
     "text": [
      "4888\n"
     ]
    },
    {
     "name": "stderr",
     "output_type": "stream",
     "text": [
      "4889it [20:37,  4.27s/it]"
     ]
    },
    {
     "name": "stdout",
     "output_type": "stream",
     "text": [
      "4889\n"
     ]
    },
    {
     "name": "stderr",
     "output_type": "stream",
     "text": [
      "4890it [20:41,  4.04s/it]"
     ]
    },
    {
     "name": "stdout",
     "output_type": "stream",
     "text": [
      "4890\n"
     ]
    },
    {
     "name": "stderr",
     "output_type": "stream",
     "text": [
      "4891it [20:45,  4.00s/it]"
     ]
    },
    {
     "name": "stdout",
     "output_type": "stream",
     "text": [
      "4891\n"
     ]
    },
    {
     "name": "stderr",
     "output_type": "stream",
     "text": [
      "4892it [20:48,  3.88s/it]"
     ]
    },
    {
     "name": "stdout",
     "output_type": "stream",
     "text": [
      "4892\n"
     ]
    },
    {
     "name": "stderr",
     "output_type": "stream",
     "text": [
      "4893it [20:53,  4.08s/it]"
     ]
    },
    {
     "name": "stdout",
     "output_type": "stream",
     "text": [
      "4893\n"
     ]
    },
    {
     "name": "stderr",
     "output_type": "stream",
     "text": [
      "4894it [20:59,  4.81s/it]"
     ]
    },
    {
     "name": "stdout",
     "output_type": "stream",
     "text": [
      "4894\n"
     ]
    },
    {
     "name": "stderr",
     "output_type": "stream",
     "text": [
      "4895it [21:04,  4.87s/it]"
     ]
    },
    {
     "name": "stdout",
     "output_type": "stream",
     "text": [
      "4895\n"
     ]
    },
    {
     "name": "stderr",
     "output_type": "stream",
     "text": [
      "4896it [21:08,  4.65s/it]"
     ]
    },
    {
     "name": "stdout",
     "output_type": "stream",
     "text": [
      "4896\n"
     ]
    },
    {
     "name": "stderr",
     "output_type": "stream",
     "text": [
      "4897it [21:13,  4.57s/it]"
     ]
    },
    {
     "name": "stdout",
     "output_type": "stream",
     "text": [
      "4897\n"
     ]
    },
    {
     "name": "stderr",
     "output_type": "stream",
     "text": [
      "4898it [21:18,  4.76s/it]"
     ]
    },
    {
     "name": "stdout",
     "output_type": "stream",
     "text": [
      "4898\n"
     ]
    },
    {
     "name": "stderr",
     "output_type": "stream",
     "text": [
      "4899it [21:22,  4.40s/it]"
     ]
    },
    {
     "name": "stdout",
     "output_type": "stream",
     "text": [
      "4899\n"
     ]
    },
    {
     "name": "stderr",
     "output_type": "stream",
     "text": [
      "4900it [21:22,  3.15s/it]"
     ]
    },
    {
     "name": "stdout",
     "output_type": "stream",
     "text": [
      "Failed on account: 835512456940236800\n",
      "[{'code': 34, 'message': 'Sorry, that page does not exist.'}]\n",
      "4900\n"
     ]
    },
    {
     "name": "stderr",
     "output_type": "stream",
     "text": [
      "4901it [21:27,  3.71s/it]"
     ]
    },
    {
     "name": "stdout",
     "output_type": "stream",
     "text": [
      "4901\n"
     ]
    },
    {
     "name": "stderr",
     "output_type": "stream",
     "text": [
      "4902it [21:30,  3.61s/it]"
     ]
    },
    {
     "name": "stdout",
     "output_type": "stream",
     "text": [
      "4902\n"
     ]
    },
    {
     "name": "stderr",
     "output_type": "stream",
     "text": [
      "4903it [21:35,  4.00s/it]"
     ]
    },
    {
     "name": "stdout",
     "output_type": "stream",
     "text": [
      "4903\n"
     ]
    },
    {
     "name": "stderr",
     "output_type": "stream",
     "text": [
      "4904it [21:35,  2.89s/it]"
     ]
    },
    {
     "name": "stdout",
     "output_type": "stream",
     "text": [
      "Failed on account: 759419429088333824\n",
      "[{'code': 34, 'message': 'Sorry, that page does not exist.'}]\n",
      "4904\n"
     ]
    },
    {
     "name": "stderr",
     "output_type": "stream",
     "text": [
      "4905it [21:39,  3.10s/it]"
     ]
    },
    {
     "name": "stdout",
     "output_type": "stream",
     "text": [
      "4905\n"
     ]
    },
    {
     "name": "stderr",
     "output_type": "stream",
     "text": [
      "4906it [21:43,  3.37s/it]"
     ]
    },
    {
     "name": "stdout",
     "output_type": "stream",
     "text": [
      "4906\n"
     ]
    },
    {
     "name": "stderr",
     "output_type": "stream",
     "text": [
      "4907it [21:47,  3.43s/it]"
     ]
    },
    {
     "name": "stdout",
     "output_type": "stream",
     "text": [
      "4907\n"
     ]
    },
    {
     "name": "stderr",
     "output_type": "stream",
     "text": [
      "4908it [21:51,  3.73s/it]"
     ]
    },
    {
     "name": "stdout",
     "output_type": "stream",
     "text": [
      "4908\n"
     ]
    },
    {
     "name": "stderr",
     "output_type": "stream",
     "text": [
      "4909it [21:56,  4.05s/it]"
     ]
    },
    {
     "name": "stdout",
     "output_type": "stream",
     "text": [
      "4909\n"
     ]
    },
    {
     "name": "stderr",
     "output_type": "stream",
     "text": [
      "4910it [22:01,  4.51s/it]"
     ]
    },
    {
     "name": "stdout",
     "output_type": "stream",
     "text": [
      "4910\n"
     ]
    },
    {
     "name": "stderr",
     "output_type": "stream",
     "text": [
      "4911it [22:06,  4.51s/it]"
     ]
    },
    {
     "name": "stdout",
     "output_type": "stream",
     "text": [
      "4911\n"
     ]
    },
    {
     "name": "stderr",
     "output_type": "stream",
     "text": [
      "4912it [22:12,  4.90s/it]"
     ]
    },
    {
     "name": "stdout",
     "output_type": "stream",
     "text": [
      "4912\n"
     ]
    },
    {
     "name": "stderr",
     "output_type": "stream",
     "text": [
      "4913it [22:16,  4.78s/it]"
     ]
    },
    {
     "name": "stdout",
     "output_type": "stream",
     "text": [
      "4913\n"
     ]
    },
    {
     "name": "stderr",
     "output_type": "stream",
     "text": [
      "4914it [22:21,  4.73s/it]"
     ]
    },
    {
     "name": "stdout",
     "output_type": "stream",
     "text": [
      "4914\n"
     ]
    },
    {
     "name": "stderr",
     "output_type": "stream",
     "text": [
      "4915it [22:21,  3.40s/it]"
     ]
    },
    {
     "name": "stdout",
     "output_type": "stream",
     "text": [
      "Failed on account: 752493806\n",
      "Not authorized.\n",
      "4915\n"
     ]
    },
    {
     "name": "stderr",
     "output_type": "stream",
     "text": [
      "4916it [22:26,  3.88s/it]"
     ]
    },
    {
     "name": "stdout",
     "output_type": "stream",
     "text": [
      "4916\n"
     ]
    },
    {
     "name": "stderr",
     "output_type": "stream",
     "text": [
      "4917it [22:30,  3.79s/it]"
     ]
    },
    {
     "name": "stdout",
     "output_type": "stream",
     "text": [
      "4917\n"
     ]
    },
    {
     "name": "stderr",
     "output_type": "stream",
     "text": [
      "4918it [22:34,  3.91s/it]"
     ]
    },
    {
     "name": "stdout",
     "output_type": "stream",
     "text": [
      "4918\n"
     ]
    },
    {
     "name": "stderr",
     "output_type": "stream",
     "text": [
      "4919it [22:40,  4.56s/it]"
     ]
    },
    {
     "name": "stdout",
     "output_type": "stream",
     "text": [
      "4919\n"
     ]
    },
    {
     "name": "stderr",
     "output_type": "stream",
     "text": [
      "4920it [22:45,  4.67s/it]"
     ]
    },
    {
     "name": "stdout",
     "output_type": "stream",
     "text": [
      "4920\n"
     ]
    },
    {
     "name": "stderr",
     "output_type": "stream",
     "text": [
      "4921it [22:50,  4.83s/it]"
     ]
    },
    {
     "name": "stdout",
     "output_type": "stream",
     "text": [
      "4921\n"
     ]
    },
    {
     "name": "stderr",
     "output_type": "stream",
     "text": [
      "4922it [22:50,  3.47s/it]"
     ]
    },
    {
     "name": "stdout",
     "output_type": "stream",
     "text": [
      "Failed on account: 800925905136877568\n",
      "[{'code': 34, 'message': 'Sorry, that page does not exist.'}]\n",
      "4922\n"
     ]
    },
    {
     "name": "stderr",
     "output_type": "stream",
     "text": [
      "4923it [22:51,  2.52s/it]"
     ]
    },
    {
     "name": "stdout",
     "output_type": "stream",
     "text": [
      "Failed on account: 853430994061455360\n",
      "[{'code': 34, 'message': 'Sorry, that page does not exist.'}]\n",
      "4923\n"
     ]
    },
    {
     "name": "stderr",
     "output_type": "stream",
     "text": [
      "4924it [22:56,  3.26s/it]"
     ]
    },
    {
     "name": "stdout",
     "output_type": "stream",
     "text": [
      "4924\n"
     ]
    },
    {
     "name": "stderr",
     "output_type": "stream",
     "text": [
      "4925it [23:01,  3.77s/it]"
     ]
    },
    {
     "name": "stdout",
     "output_type": "stream",
     "text": [
      "4925\n"
     ]
    },
    {
     "name": "stderr",
     "output_type": "stream",
     "text": [
      "4926it [23:08,  4.71s/it]"
     ]
    },
    {
     "name": "stdout",
     "output_type": "stream",
     "text": [
      "4926\n"
     ]
    },
    {
     "name": "stderr",
     "output_type": "stream",
     "text": [
      "4927it [23:12,  4.51s/it]"
     ]
    },
    {
     "name": "stdout",
     "output_type": "stream",
     "text": [
      "4927\n"
     ]
    },
    {
     "name": "stderr",
     "output_type": "stream",
     "text": [
      "4928it [23:15,  4.29s/it]"
     ]
    },
    {
     "name": "stdout",
     "output_type": "stream",
     "text": [
      "4928\n"
     ]
    },
    {
     "name": "stderr",
     "output_type": "stream",
     "text": [
      "4929it [23:21,  4.84s/it]"
     ]
    },
    {
     "name": "stdout",
     "output_type": "stream",
     "text": [
      "4929\n"
     ]
    },
    {
     "name": "stderr",
     "output_type": "stream",
     "text": [
      "4930it [23:26,  4.84s/it]"
     ]
    },
    {
     "name": "stdout",
     "output_type": "stream",
     "text": [
      "4930\n"
     ]
    },
    {
     "name": "stderr",
     "output_type": "stream",
     "text": [
      "4931it [23:33,  5.47s/it]"
     ]
    },
    {
     "name": "stdout",
     "output_type": "stream",
     "text": [
      "4931\n"
     ]
    },
    {
     "name": "stderr",
     "output_type": "stream",
     "text": [
      "4932it [23:37,  4.94s/it]"
     ]
    },
    {
     "name": "stdout",
     "output_type": "stream",
     "text": [
      "4932\n"
     ]
    },
    {
     "name": "stderr",
     "output_type": "stream",
     "text": [
      "4933it [23:42,  4.97s/it]"
     ]
    },
    {
     "name": "stdout",
     "output_type": "stream",
     "text": [
      "4933\n"
     ]
    },
    {
     "name": "stderr",
     "output_type": "stream",
     "text": [
      "4934it [23:46,  4.65s/it]"
     ]
    },
    {
     "name": "stdout",
     "output_type": "stream",
     "text": [
      "4934\n"
     ]
    },
    {
     "name": "stderr",
     "output_type": "stream",
     "text": [
      "4935it [23:50,  4.54s/it]"
     ]
    },
    {
     "name": "stdout",
     "output_type": "stream",
     "text": [
      "4935\n"
     ]
    },
    {
     "name": "stderr",
     "output_type": "stream",
     "text": [
      "4936it [23:55,  4.56s/it]"
     ]
    },
    {
     "name": "stdout",
     "output_type": "stream",
     "text": [
      "4936\n"
     ]
    },
    {
     "name": "stderr",
     "output_type": "stream",
     "text": [
      "4937it [23:59,  4.51s/it]"
     ]
    },
    {
     "name": "stdout",
     "output_type": "stream",
     "text": [
      "4937\n"
     ]
    },
    {
     "name": "stderr",
     "output_type": "stream",
     "text": [
      "4938it [23:59,  3.25s/it]"
     ]
    },
    {
     "name": "stdout",
     "output_type": "stream",
     "text": [
      "Failed on account: 796443501298909184\n",
      "[{'code': 34, 'message': 'Sorry, that page does not exist.'}]\n",
      "4938\n"
     ]
    },
    {
     "name": "stderr",
     "output_type": "stream",
     "text": [
      "4939it [24:04,  3.69s/it]"
     ]
    },
    {
     "name": "stdout",
     "output_type": "stream",
     "text": [
      "4939\n"
     ]
    },
    {
     "name": "stderr",
     "output_type": "stream",
     "text": [
      "4940it [24:08,  3.63s/it]"
     ]
    },
    {
     "name": "stdout",
     "output_type": "stream",
     "text": [
      "4940\n"
     ]
    },
    {
     "name": "stderr",
     "output_type": "stream",
     "text": [
      "4941it [24:11,  3.61s/it]"
     ]
    },
    {
     "name": "stdout",
     "output_type": "stream",
     "text": [
      "4941\n"
     ]
    },
    {
     "name": "stderr",
     "output_type": "stream",
     "text": [
      "4942it [24:16,  3.82s/it]"
     ]
    },
    {
     "name": "stdout",
     "output_type": "stream",
     "text": [
      "4942\n"
     ]
    },
    {
     "name": "stderr",
     "output_type": "stream",
     "text": [
      "4943it [24:21,  4.19s/it]"
     ]
    },
    {
     "name": "stdout",
     "output_type": "stream",
     "text": [
      "4943\n"
     ]
    },
    {
     "name": "stderr",
     "output_type": "stream",
     "text": [
      "4944it [24:25,  4.11s/it]"
     ]
    },
    {
     "name": "stdout",
     "output_type": "stream",
     "text": [
      "4944\n"
     ]
    },
    {
     "name": "stderr",
     "output_type": "stream",
     "text": [
      "4945it [24:30,  4.46s/it]"
     ]
    },
    {
     "name": "stdout",
     "output_type": "stream",
     "text": [
      "4945\n"
     ]
    },
    {
     "name": "stderr",
     "output_type": "stream",
     "text": [
      "4946it [24:34,  4.44s/it]"
     ]
    },
    {
     "name": "stdout",
     "output_type": "stream",
     "text": [
      "4946\n"
     ]
    },
    {
     "name": "stderr",
     "output_type": "stream",
     "text": [
      "4947it [24:39,  4.65s/it]"
     ]
    },
    {
     "name": "stdout",
     "output_type": "stream",
     "text": [
      "4947\n"
     ]
    },
    {
     "name": "stderr",
     "output_type": "stream",
     "text": [
      "4948it [24:44,  4.51s/it]"
     ]
    },
    {
     "name": "stdout",
     "output_type": "stream",
     "text": [
      "4948\n"
     ]
    },
    {
     "name": "stderr",
     "output_type": "stream",
     "text": [
      "4949it [24:49,  4.66s/it]"
     ]
    },
    {
     "name": "stdout",
     "output_type": "stream",
     "text": [
      "4949\n"
     ]
    },
    {
     "name": "stderr",
     "output_type": "stream",
     "text": [
      "4950it [24:49,  3.35s/it]"
     ]
    },
    {
     "name": "stdout",
     "output_type": "stream",
     "text": [
      "Failed on account: 874795883274969088\n",
      "[{'code': 34, 'message': 'Sorry, that page does not exist.'}]\n",
      "4950\n"
     ]
    },
    {
     "name": "stderr",
     "output_type": "stream",
     "text": [
      "4951it [24:53,  3.50s/it]"
     ]
    },
    {
     "name": "stdout",
     "output_type": "stream",
     "text": [
      "4951\n"
     ]
    },
    {
     "name": "stderr",
     "output_type": "stream",
     "text": [
      "4952it [24:57,  3.88s/it]"
     ]
    },
    {
     "name": "stdout",
     "output_type": "stream",
     "text": [
      "4952\n"
     ]
    },
    {
     "name": "stderr",
     "output_type": "stream",
     "text": [
      "4953it [25:01,  3.85s/it]"
     ]
    },
    {
     "name": "stdout",
     "output_type": "stream",
     "text": [
      "4953\n"
     ]
    },
    {
     "name": "stderr",
     "output_type": "stream",
     "text": [
      "4954it [25:05,  3.77s/it]"
     ]
    },
    {
     "name": "stdout",
     "output_type": "stream",
     "text": [
      "4954\n"
     ]
    },
    {
     "name": "stderr",
     "output_type": "stream",
     "text": [
      "4955it [25:08,  3.68s/it]"
     ]
    },
    {
     "name": "stdout",
     "output_type": "stream",
     "text": [
      "4955\n"
     ]
    },
    {
     "name": "stderr",
     "output_type": "stream",
     "text": [
      "4956it [25:13,  3.99s/it]"
     ]
    },
    {
     "name": "stdout",
     "output_type": "stream",
     "text": [
      "4956\n"
     ]
    },
    {
     "name": "stderr",
     "output_type": "stream",
     "text": [
      "4957it [25:17,  3.93s/it]"
     ]
    },
    {
     "name": "stdout",
     "output_type": "stream",
     "text": [
      "4957\n"
     ]
    },
    {
     "name": "stderr",
     "output_type": "stream",
     "text": [
      "4958it [25:17,  2.84s/it]"
     ]
    },
    {
     "name": "stdout",
     "output_type": "stream",
     "text": [
      "Failed on account: 828645741254033408\n",
      "[{'code': 34, 'message': 'Sorry, that page does not exist.'}]\n",
      "4958\n"
     ]
    },
    {
     "name": "stderr",
     "output_type": "stream",
     "text": [
      "4959it [25:21,  3.13s/it]"
     ]
    },
    {
     "name": "stdout",
     "output_type": "stream",
     "text": [
      "4959\n"
     ]
    },
    {
     "name": "stderr",
     "output_type": "stream",
     "text": [
      "4960it [25:28,  4.34s/it]"
     ]
    },
    {
     "name": "stdout",
     "output_type": "stream",
     "text": [
      "4960\n"
     ]
    },
    {
     "name": "stderr",
     "output_type": "stream",
     "text": [
      "4961it [25:32,  4.08s/it]"
     ]
    },
    {
     "name": "stdout",
     "output_type": "stream",
     "text": [
      "4961\n"
     ]
    },
    {
     "name": "stderr",
     "output_type": "stream",
     "text": [
      "4962it [25:32,  2.95s/it]"
     ]
    },
    {
     "name": "stdout",
     "output_type": "stream",
     "text": [
      "Failed on account: 885538963213225984\n",
      "[{'code': 34, 'message': 'Sorry, that page does not exist.'}]\n",
      "4962\n"
     ]
    },
    {
     "name": "stderr",
     "output_type": "stream",
     "text": [
      "4963it [25:35,  3.11s/it]"
     ]
    },
    {
     "name": "stdout",
     "output_type": "stream",
     "text": [
      "4963\n"
     ]
    },
    {
     "name": "stderr",
     "output_type": "stream",
     "text": [
      "4964it [25:36,  2.27s/it]"
     ]
    },
    {
     "name": "stdout",
     "output_type": "stream",
     "text": [
      "Failed on account: 702723646209564672\n",
      "[{'code': 34, 'message': 'Sorry, that page does not exist.'}]\n",
      "4964\n"
     ]
    },
    {
     "name": "stderr",
     "output_type": "stream",
     "text": [
      "4965it [25:40,  2.99s/it]"
     ]
    },
    {
     "name": "stdout",
     "output_type": "stream",
     "text": [
      "4965\n"
     ]
    },
    {
     "name": "stderr",
     "output_type": "stream",
     "text": [
      "4966it [25:45,  3.52s/it]"
     ]
    },
    {
     "name": "stdout",
     "output_type": "stream",
     "text": [
      "4966\n"
     ]
    },
    {
     "name": "stderr",
     "output_type": "stream",
     "text": [
      "4967it [25:50,  3.88s/it]"
     ]
    },
    {
     "name": "stdout",
     "output_type": "stream",
     "text": [
      "4967\n"
     ]
    },
    {
     "name": "stderr",
     "output_type": "stream",
     "text": [
      "4968it [25:54,  4.08s/it]"
     ]
    },
    {
     "name": "stdout",
     "output_type": "stream",
     "text": [
      "4968\n"
     ]
    },
    {
     "name": "stderr",
     "output_type": "stream",
     "text": [
      "4969it [26:01,  4.84s/it]"
     ]
    },
    {
     "name": "stdout",
     "output_type": "stream",
     "text": [
      "4969\n"
     ]
    },
    {
     "name": "stderr",
     "output_type": "stream",
     "text": [
      "4970it [26:07,  5.14s/it]"
     ]
    },
    {
     "name": "stdout",
     "output_type": "stream",
     "text": [
      "4970\n"
     ]
    },
    {
     "name": "stderr",
     "output_type": "stream",
     "text": [
      "4971it [26:11,  5.01s/it]"
     ]
    },
    {
     "name": "stdout",
     "output_type": "stream",
     "text": [
      "4971\n"
     ]
    },
    {
     "name": "stderr",
     "output_type": "stream",
     "text": [
      "4972it [26:16,  4.98s/it]"
     ]
    },
    {
     "name": "stdout",
     "output_type": "stream",
     "text": [
      "4972\n"
     ]
    },
    {
     "name": "stderr",
     "output_type": "stream",
     "text": [
      "4973it [26:21,  4.90s/it]"
     ]
    },
    {
     "name": "stdout",
     "output_type": "stream",
     "text": [
      "4973\n"
     ]
    },
    {
     "name": "stderr",
     "output_type": "stream",
     "text": [
      "4974it [26:34,  7.27s/it]"
     ]
    },
    {
     "name": "stdout",
     "output_type": "stream",
     "text": [
      "4974\n"
     ]
    },
    {
     "name": "stderr",
     "output_type": "stream",
     "text": [
      "4975it [26:39,  6.53s/it]"
     ]
    },
    {
     "name": "stdout",
     "output_type": "stream",
     "text": [
      "4975\n"
     ]
    },
    {
     "name": "stderr",
     "output_type": "stream",
     "text": [
      "4976it [26:42,  5.65s/it]"
     ]
    },
    {
     "name": "stdout",
     "output_type": "stream",
     "text": [
      "4976\n"
     ]
    },
    {
     "name": "stderr",
     "output_type": "stream",
     "text": [
      "4977it [26:48,  5.55s/it]"
     ]
    },
    {
     "name": "stdout",
     "output_type": "stream",
     "text": [
      "4977\n"
     ]
    },
    {
     "name": "stderr",
     "output_type": "stream",
     "text": [
      "4978it [26:52,  5.15s/it]"
     ]
    },
    {
     "name": "stdout",
     "output_type": "stream",
     "text": [
      "4978\n"
     ]
    },
    {
     "name": "stderr",
     "output_type": "stream",
     "text": [
      "4979it [26:57,  5.03s/it]"
     ]
    },
    {
     "name": "stdout",
     "output_type": "stream",
     "text": [
      "4979\n"
     ]
    },
    {
     "name": "stderr",
     "output_type": "stream",
     "text": [
      "4980it [26:57,  3.61s/it]"
     ]
    },
    {
     "name": "stdout",
     "output_type": "stream",
     "text": [
      "Failed on account: 840581314776576000\n",
      "[{'code': 34, 'message': 'Sorry, that page does not exist.'}]\n",
      "4980\n"
     ]
    },
    {
     "name": "stderr",
     "output_type": "stream",
     "text": [
      "4981it [27:00,  3.58s/it]"
     ]
    },
    {
     "name": "stdout",
     "output_type": "stream",
     "text": [
      "4981\n"
     ]
    },
    {
     "name": "stderr",
     "output_type": "stream",
     "text": [
      "4982it [27:05,  3.92s/it]"
     ]
    },
    {
     "name": "stdout",
     "output_type": "stream",
     "text": [
      "4982\n"
     ]
    },
    {
     "name": "stderr",
     "output_type": "stream",
     "text": [
      "4983it [27:05,  2.83s/it]"
     ]
    },
    {
     "name": "stdout",
     "output_type": "stream",
     "text": [
      "Failed on account: 797537528223961088\n",
      "[{'code': 34, 'message': 'Sorry, that page does not exist.'}]\n",
      "4983\n"
     ]
    },
    {
     "name": "stderr",
     "output_type": "stream",
     "text": [
      "4984it [27:09,  3.09s/it]"
     ]
    },
    {
     "name": "stdout",
     "output_type": "stream",
     "text": [
      "4984\n"
     ]
    },
    {
     "name": "stderr",
     "output_type": "stream",
     "text": [
      "4985it [27:14,  3.66s/it]"
     ]
    },
    {
     "name": "stdout",
     "output_type": "stream",
     "text": [
      "4985\n"
     ]
    },
    {
     "name": "stderr",
     "output_type": "stream",
     "text": [
      "4986it [27:19,  3.92s/it]"
     ]
    },
    {
     "name": "stdout",
     "output_type": "stream",
     "text": [
      "4986\n"
     ]
    },
    {
     "name": "stderr",
     "output_type": "stream",
     "text": [
      "4987it [27:23,  4.06s/it]"
     ]
    },
    {
     "name": "stdout",
     "output_type": "stream",
     "text": [
      "4987\n"
     ]
    },
    {
     "name": "stderr",
     "output_type": "stream",
     "text": [
      "4988it [27:27,  4.16s/it]"
     ]
    },
    {
     "name": "stdout",
     "output_type": "stream",
     "text": [
      "4988\n"
     ]
    },
    {
     "name": "stderr",
     "output_type": "stream",
     "text": [
      "4989it [27:32,  4.17s/it]"
     ]
    },
    {
     "name": "stdout",
     "output_type": "stream",
     "text": [
      "4989\n"
     ]
    },
    {
     "name": "stderr",
     "output_type": "stream",
     "text": [
      "4990it [27:37,  4.55s/it]"
     ]
    },
    {
     "name": "stdout",
     "output_type": "stream",
     "text": [
      "4990\n"
     ]
    },
    {
     "name": "stderr",
     "output_type": "stream",
     "text": [
      "4991it [27:42,  4.57s/it]"
     ]
    },
    {
     "name": "stdout",
     "output_type": "stream",
     "text": [
      "4991\n"
     ]
    },
    {
     "name": "stderr",
     "output_type": "stream",
     "text": [
      "4992it [27:46,  4.49s/it]"
     ]
    },
    {
     "name": "stdout",
     "output_type": "stream",
     "text": [
      "4992\n"
     ]
    },
    {
     "name": "stderr",
     "output_type": "stream",
     "text": [
      "4993it [27:51,  4.77s/it]"
     ]
    },
    {
     "name": "stdout",
     "output_type": "stream",
     "text": [
      "4993\n"
     ]
    },
    {
     "name": "stderr",
     "output_type": "stream",
     "text": [
      "4994it [27:52,  3.43s/it]"
     ]
    },
    {
     "name": "stdout",
     "output_type": "stream",
     "text": [
      "Failed on account: 734168909553766400\n",
      "[{'code': 34, 'message': 'Sorry, that page does not exist.'}]\n",
      "4994\n"
     ]
    },
    {
     "name": "stderr",
     "output_type": "stream",
     "text": [
      "4995it [27:57,  3.88s/it]"
     ]
    },
    {
     "name": "stdout",
     "output_type": "stream",
     "text": [
      "4995\n"
     ]
    },
    {
     "name": "stderr",
     "output_type": "stream",
     "text": [
      "4996it [28:00,  3.86s/it]"
     ]
    },
    {
     "name": "stdout",
     "output_type": "stream",
     "text": [
      "4996\n"
     ]
    },
    {
     "name": "stderr",
     "output_type": "stream",
     "text": [
      "4997it [28:01,  2.78s/it]"
     ]
    },
    {
     "name": "stdout",
     "output_type": "stream",
     "text": [
      "Failed on account: 797537528223961088\n",
      "[{'code': 34, 'message': 'Sorry, that page does not exist.'}]\n",
      "4997\n"
     ]
    },
    {
     "name": "stderr",
     "output_type": "stream",
     "text": [
      "4998it [28:01,  2.03s/it]"
     ]
    },
    {
     "name": "stdout",
     "output_type": "stream",
     "text": [
      "Failed on account: 782945061445054464\n",
      "[{'code': 34, 'message': 'Sorry, that page does not exist.'}]\n",
      "4998\n"
     ]
    },
    {
     "name": "stderr",
     "output_type": "stream",
     "text": [
      "4999it [28:06,  2.88s/it]"
     ]
    },
    {
     "name": "stdout",
     "output_type": "stream",
     "text": [
      "4999\n"
     ]
    },
    {
     "name": "stderr",
     "output_type": "stream",
     "text": [
      "5000it [28:10,  3.41s/it]"
     ]
    },
    {
     "name": "stdout",
     "output_type": "stream",
     "text": [
      "5000\n"
     ]
    },
    {
     "name": "stderr",
     "output_type": "stream",
     "text": [
      "5001it [28:15,  3.71s/it]"
     ]
    },
    {
     "name": "stdout",
     "output_type": "stream",
     "text": [
      "5001\n"
     ]
    },
    {
     "name": "stderr",
     "output_type": "stream",
     "text": [
      "5002it [28:20,  4.05s/it]"
     ]
    },
    {
     "name": "stdout",
     "output_type": "stream",
     "text": [
      "5002\n"
     ]
    },
    {
     "name": "stderr",
     "output_type": "stream",
     "text": [
      "5003it [28:24,  4.01s/it]"
     ]
    },
    {
     "name": "stdout",
     "output_type": "stream",
     "text": [
      "5003\n"
     ]
    },
    {
     "name": "stderr",
     "output_type": "stream",
     "text": [
      "5004it [28:28,  4.01s/it]"
     ]
    },
    {
     "name": "stdout",
     "output_type": "stream",
     "text": [
      "5004\n"
     ]
    },
    {
     "name": "stderr",
     "output_type": "stream",
     "text": [
      "5005it [28:34,  4.74s/it]"
     ]
    },
    {
     "name": "stdout",
     "output_type": "stream",
     "text": [
      "5005\n"
     ]
    },
    {
     "name": "stderr",
     "output_type": "stream",
     "text": [
      "5006it [28:37,  4.33s/it]"
     ]
    },
    {
     "name": "stdout",
     "output_type": "stream",
     "text": [
      "5006\n"
     ]
    },
    {
     "name": "stderr",
     "output_type": "stream",
     "text": [
      "5007it [28:42,  4.35s/it]"
     ]
    },
    {
     "name": "stdout",
     "output_type": "stream",
     "text": [
      "5007\n"
     ]
    },
    {
     "name": "stderr",
     "output_type": "stream",
     "text": [
      "5008it [28:42,  3.14s/it]"
     ]
    },
    {
     "name": "stdout",
     "output_type": "stream",
     "text": [
      "Failed on account: 813554157097459712\n",
      "[{'code': 34, 'message': 'Sorry, that page does not exist.'}]\n",
      "5008\n"
     ]
    },
    {
     "name": "stderr",
     "output_type": "stream",
     "text": [
      "5009it [28:49,  4.10s/it]"
     ]
    },
    {
     "name": "stdout",
     "output_type": "stream",
     "text": [
      "5009\n"
     ]
    },
    {
     "name": "stderr",
     "output_type": "stream",
     "text": [
      "5010it [28:53,  4.29s/it]"
     ]
    },
    {
     "name": "stdout",
     "output_type": "stream",
     "text": [
      "5010\n"
     ]
    },
    {
     "name": "stderr",
     "output_type": "stream",
     "text": [
      "5011it [28:58,  4.29s/it]"
     ]
    },
    {
     "name": "stdout",
     "output_type": "stream",
     "text": [
      "5011\n"
     ]
    },
    {
     "name": "stderr",
     "output_type": "stream",
     "text": [
      "5012it [29:02,  4.45s/it]"
     ]
    },
    {
     "name": "stdout",
     "output_type": "stream",
     "text": [
      "5012\n"
     ]
    },
    {
     "name": "stderr",
     "output_type": "stream",
     "text": [
      "5013it [29:03,  3.18s/it]"
     ]
    },
    {
     "name": "stdout",
     "output_type": "stream",
     "text": [
      "Failed on account: 853430994061455360\n",
      "[{'code': 34, 'message': 'Sorry, that page does not exist.'}]\n",
      "5013\n"
     ]
    },
    {
     "name": "stderr",
     "output_type": "stream",
     "text": [
      "5014it [29:07,  3.54s/it]"
     ]
    },
    {
     "name": "stdout",
     "output_type": "stream",
     "text": [
      "5014\n"
     ]
    },
    {
     "name": "stderr",
     "output_type": "stream",
     "text": [
      "5015it [29:12,  3.86s/it]"
     ]
    },
    {
     "name": "stdout",
     "output_type": "stream",
     "text": [
      "5015\n"
     ]
    },
    {
     "name": "stderr",
     "output_type": "stream",
     "text": [
      "5016it [29:15,  3.78s/it]"
     ]
    },
    {
     "name": "stdout",
     "output_type": "stream",
     "text": [
      "5016\n"
     ]
    },
    {
     "name": "stderr",
     "output_type": "stream",
     "text": [
      "5017it [29:20,  4.09s/it]"
     ]
    },
    {
     "name": "stdout",
     "output_type": "stream",
     "text": [
      "5017\n"
     ]
    },
    {
     "name": "stderr",
     "output_type": "stream",
     "text": [
      "5018it [29:24,  4.00s/it]"
     ]
    },
    {
     "name": "stdout",
     "output_type": "stream",
     "text": [
      "5018\n"
     ]
    },
    {
     "name": "stderr",
     "output_type": "stream",
     "text": [
      "5019it [29:30,  4.77s/it]"
     ]
    },
    {
     "name": "stdout",
     "output_type": "stream",
     "text": [
      "5019\n"
     ]
    },
    {
     "name": "stderr",
     "output_type": "stream",
     "text": [
      "5020it [29:33,  4.28s/it]"
     ]
    },
    {
     "name": "stdout",
     "output_type": "stream",
     "text": [
      "5020\n"
     ]
    },
    {
     "name": "stderr",
     "output_type": "stream",
     "text": [
      "5021it [29:40,  5.10s/it]"
     ]
    },
    {
     "name": "stdout",
     "output_type": "stream",
     "text": [
      "5021\n"
     ]
    },
    {
     "name": "stderr",
     "output_type": "stream",
     "text": [
      "5022it [29:44,  4.73s/it]"
     ]
    },
    {
     "name": "stdout",
     "output_type": "stream",
     "text": [
      "5022\n"
     ]
    },
    {
     "name": "stderr",
     "output_type": "stream",
     "text": [
      "5023it [29:49,  4.79s/it]"
     ]
    },
    {
     "name": "stdout",
     "output_type": "stream",
     "text": [
      "5023\n"
     ]
    },
    {
     "name": "stderr",
     "output_type": "stream",
     "text": [
      "5024it [29:50,  3.44s/it]"
     ]
    },
    {
     "name": "stdout",
     "output_type": "stream",
     "text": [
      "Failed on account: 894640312542347264\n",
      "[{'code': 34, 'message': 'Sorry, that page does not exist.'}]\n",
      "5024\n"
     ]
    },
    {
     "name": "stderr",
     "output_type": "stream",
     "text": [
      "5025it [29:54,  3.73s/it]"
     ]
    },
    {
     "name": "stdout",
     "output_type": "stream",
     "text": [
      "5025\n"
     ]
    },
    {
     "name": "stderr",
     "output_type": "stream",
     "text": [
      "5026it [29:59,  4.12s/it]"
     ]
    },
    {
     "name": "stdout",
     "output_type": "stream",
     "text": [
      "5026\n"
     ]
    },
    {
     "name": "stderr",
     "output_type": "stream",
     "text": [
      "5027it [30:16,  7.85s/it]"
     ]
    },
    {
     "name": "stdout",
     "output_type": "stream",
     "text": [
      "5027\n"
     ]
    },
    {
     "name": "stderr",
     "output_type": "stream",
     "text": [
      "5028it [30:19,  6.67s/it]"
     ]
    },
    {
     "name": "stdout",
     "output_type": "stream",
     "text": [
      "5028\n"
     ]
    },
    {
     "name": "stderr",
     "output_type": "stream",
     "text": [
      "5029it [30:25,  6.34s/it]"
     ]
    },
    {
     "name": "stdout",
     "output_type": "stream",
     "text": [
      "5029\n"
     ]
    },
    {
     "name": "stderr",
     "output_type": "stream",
     "text": [
      "5030it [30:30,  5.90s/it]"
     ]
    },
    {
     "name": "stdout",
     "output_type": "stream",
     "text": [
      "5030\n"
     ]
    },
    {
     "name": "stderr",
     "output_type": "stream",
     "text": [
      "5031it [30:36,  5.87s/it]"
     ]
    },
    {
     "name": "stdout",
     "output_type": "stream",
     "text": [
      "5031\n"
     ]
    },
    {
     "name": "stderr",
     "output_type": "stream",
     "text": [
      "5032it [30:40,  5.25s/it]"
     ]
    },
    {
     "name": "stdout",
     "output_type": "stream",
     "text": [
      "5032\n"
     ]
    },
    {
     "name": "stderr",
     "output_type": "stream",
     "text": [
      "5033it [30:40,  3.74s/it]"
     ]
    },
    {
     "name": "stdout",
     "output_type": "stream",
     "text": [
      "Failed on account: 930484470108401664\n",
      "[{'code': 34, 'message': 'Sorry, that page does not exist.'}]\n",
      "5033\n"
     ]
    },
    {
     "name": "stderr",
     "output_type": "stream",
     "text": [
      "5034it [30:45,  4.16s/it]"
     ]
    },
    {
     "name": "stdout",
     "output_type": "stream",
     "text": [
      "5034\n"
     ]
    },
    {
     "name": "stderr",
     "output_type": "stream",
     "text": [
      "5035it [30:49,  4.17s/it]"
     ]
    },
    {
     "name": "stdout",
     "output_type": "stream",
     "text": [
      "5035\n"
     ]
    },
    {
     "name": "stderr",
     "output_type": "stream",
     "text": [
      "5036it [30:53,  4.09s/it]"
     ]
    },
    {
     "name": "stdout",
     "output_type": "stream",
     "text": [
      "5036\n"
     ]
    },
    {
     "name": "stderr",
     "output_type": "stream",
     "text": [
      "5037it [30:58,  4.24s/it]"
     ]
    },
    {
     "name": "stdout",
     "output_type": "stream",
     "text": [
      "5037\n"
     ]
    },
    {
     "name": "stderr",
     "output_type": "stream",
     "text": [
      "5038it [31:02,  4.23s/it]"
     ]
    },
    {
     "name": "stdout",
     "output_type": "stream",
     "text": [
      "5038\n"
     ]
    },
    {
     "name": "stderr",
     "output_type": "stream",
     "text": [
      "5039it [31:06,  4.37s/it]"
     ]
    },
    {
     "name": "stdout",
     "output_type": "stream",
     "text": [
      "5039\n"
     ]
    },
    {
     "name": "stderr",
     "output_type": "stream",
     "text": [
      "5040it [31:16,  5.96s/it]"
     ]
    },
    {
     "name": "stdout",
     "output_type": "stream",
     "text": [
      "5040\n"
     ]
    },
    {
     "name": "stderr",
     "output_type": "stream",
     "text": [
      "5041it [31:20,  5.39s/it]"
     ]
    },
    {
     "name": "stdout",
     "output_type": "stream",
     "text": [
      "5041\n"
     ]
    },
    {
     "name": "stderr",
     "output_type": "stream",
     "text": [
      "5042it [31:25,  5.25s/it]"
     ]
    },
    {
     "name": "stdout",
     "output_type": "stream",
     "text": [
      "5042\n"
     ]
    },
    {
     "name": "stderr",
     "output_type": "stream",
     "text": [
      "5043it [31:28,  4.69s/it]"
     ]
    },
    {
     "name": "stdout",
     "output_type": "stream",
     "text": [
      "5043\n"
     ]
    },
    {
     "name": "stderr",
     "output_type": "stream",
     "text": [
      "5044it [31:32,  4.39s/it]"
     ]
    },
    {
     "name": "stdout",
     "output_type": "stream",
     "text": [
      "5044\n"
     ]
    },
    {
     "name": "stderr",
     "output_type": "stream",
     "text": [
      "5045it [31:37,  4.55s/it]"
     ]
    },
    {
     "name": "stdout",
     "output_type": "stream",
     "text": [
      "5045\n"
     ]
    },
    {
     "name": "stderr",
     "output_type": "stream",
     "text": [
      "5046it [31:43,  4.84s/it]"
     ]
    },
    {
     "name": "stdout",
     "output_type": "stream",
     "text": [
      "5046\n"
     ]
    },
    {
     "name": "stderr",
     "output_type": "stream",
     "text": [
      "5047it [31:48,  4.86s/it]"
     ]
    },
    {
     "name": "stdout",
     "output_type": "stream",
     "text": [
      "5047\n"
     ]
    },
    {
     "name": "stderr",
     "output_type": "stream",
     "text": [
      "5048it [31:52,  4.67s/it]"
     ]
    },
    {
     "name": "stdout",
     "output_type": "stream",
     "text": [
      "5048\n"
     ]
    },
    {
     "name": "stderr",
     "output_type": "stream",
     "text": [
      "5049it [31:56,  4.40s/it]"
     ]
    },
    {
     "name": "stdout",
     "output_type": "stream",
     "text": [
      "5049\n"
     ]
    },
    {
     "name": "stderr",
     "output_type": "stream",
     "text": [
      "5050it [32:00,  4.52s/it]"
     ]
    },
    {
     "name": "stdout",
     "output_type": "stream",
     "text": [
      "5050\n"
     ]
    },
    {
     "name": "stderr",
     "output_type": "stream",
     "text": [
      "5051it [32:05,  4.43s/it]"
     ]
    },
    {
     "name": "stdout",
     "output_type": "stream",
     "text": [
      "5051\n"
     ]
    },
    {
     "name": "stderr",
     "output_type": "stream",
     "text": [
      "5052it [32:05,  3.19s/it]"
     ]
    },
    {
     "name": "stdout",
     "output_type": "stream",
     "text": [
      "Failed on account: 859543521711271936\n",
      "[{'code': 34, 'message': 'Sorry, that page does not exist.'}]\n",
      "5052\n"
     ]
    },
    {
     "name": "stderr",
     "output_type": "stream",
     "text": [
      "5053it [32:09,  3.59s/it]"
     ]
    },
    {
     "name": "stdout",
     "output_type": "stream",
     "text": [
      "5053\n"
     ]
    },
    {
     "name": "stderr",
     "output_type": "stream",
     "text": [
      "5054it [32:14,  3.99s/it]"
     ]
    },
    {
     "name": "stdout",
     "output_type": "stream",
     "text": [
      "5054\n"
     ]
    },
    {
     "name": "stderr",
     "output_type": "stream",
     "text": [
      "5055it [32:51, 13.78s/it]"
     ]
    },
    {
     "name": "stdout",
     "output_type": "stream",
     "text": [
      "5055\n"
     ]
    },
    {
     "name": "stderr",
     "output_type": "stream",
     "text": [
      "5056it [32:56, 11.27s/it]"
     ]
    },
    {
     "name": "stdout",
     "output_type": "stream",
     "text": [
      "5056\n"
     ]
    },
    {
     "name": "stderr",
     "output_type": "stream",
     "text": [
      "5057it [33:02,  9.49s/it]"
     ]
    },
    {
     "name": "stdout",
     "output_type": "stream",
     "text": [
      "5057\n"
     ]
    },
    {
     "name": "stderr",
     "output_type": "stream",
     "text": [
      "5058it [33:06,  8.04s/it]"
     ]
    },
    {
     "name": "stdout",
     "output_type": "stream",
     "text": [
      "5058\n"
     ]
    },
    {
     "name": "stderr",
     "output_type": "stream",
     "text": [
      "5059it [33:11,  7.06s/it]"
     ]
    },
    {
     "name": "stdout",
     "output_type": "stream",
     "text": [
      "5059\n"
     ]
    },
    {
     "name": "stderr",
     "output_type": "stream",
     "text": [
      "5060it [33:16,  6.52s/it]"
     ]
    },
    {
     "name": "stdout",
     "output_type": "stream",
     "text": [
      "5060\n"
     ]
    },
    {
     "name": "stderr",
     "output_type": "stream",
     "text": [
      "5061it [33:21,  5.97s/it]"
     ]
    },
    {
     "name": "stdout",
     "output_type": "stream",
     "text": [
      "5061\n"
     ]
    },
    {
     "name": "stderr",
     "output_type": "stream",
     "text": [
      "5062it [33:28,  6.24s/it]"
     ]
    },
    {
     "name": "stdout",
     "output_type": "stream",
     "text": [
      "5062\n"
     ]
    },
    {
     "name": "stderr",
     "output_type": "stream",
     "text": [
      "5063it [33:34,  6.21s/it]"
     ]
    },
    {
     "name": "stdout",
     "output_type": "stream",
     "text": [
      "5063\n"
     ]
    },
    {
     "name": "stderr",
     "output_type": "stream",
     "text": [
      "5064it [33:42,  6.59s/it]"
     ]
    },
    {
     "name": "stdout",
     "output_type": "stream",
     "text": [
      "5064\n"
     ]
    },
    {
     "name": "stderr",
     "output_type": "stream",
     "text": [
      "5065it [33:46,  6.10s/it]"
     ]
    },
    {
     "name": "stdout",
     "output_type": "stream",
     "text": [
      "5065\n"
     ]
    },
    {
     "name": "stderr",
     "output_type": "stream",
     "text": [
      "5066it [33:51,  5.61s/it]"
     ]
    },
    {
     "name": "stdout",
     "output_type": "stream",
     "text": [
      "5066\n"
     ]
    },
    {
     "name": "stderr",
     "output_type": "stream",
     "text": [
      "5067it [33:56,  5.55s/it]"
     ]
    },
    {
     "name": "stdout",
     "output_type": "stream",
     "text": [
      "5067\n"
     ]
    },
    {
     "name": "stderr",
     "output_type": "stream",
     "text": [
      "5068it [34:01,  5.21s/it]"
     ]
    },
    {
     "name": "stdout",
     "output_type": "stream",
     "text": [
      "5068\n"
     ]
    },
    {
     "name": "stderr",
     "output_type": "stream",
     "text": [
      "5069it [34:06,  5.09s/it]"
     ]
    },
    {
     "name": "stdout",
     "output_type": "stream",
     "text": [
      "5069\n"
     ]
    },
    {
     "name": "stderr",
     "output_type": "stream",
     "text": [
      "5070it [34:10,  4.88s/it]"
     ]
    },
    {
     "name": "stdout",
     "output_type": "stream",
     "text": [
      "5070\n"
     ]
    },
    {
     "name": "stderr",
     "output_type": "stream",
     "text": [
      "5071it [34:14,  4.65s/it]"
     ]
    },
    {
     "name": "stdout",
     "output_type": "stream",
     "text": [
      "5071\n"
     ]
    },
    {
     "name": "stderr",
     "output_type": "stream",
     "text": [
      "5072it [34:18,  4.45s/it]"
     ]
    },
    {
     "name": "stdout",
     "output_type": "stream",
     "text": [
      "5072\n"
     ]
    },
    {
     "name": "stderr",
     "output_type": "stream",
     "text": [
      "5073it [34:23,  4.56s/it]"
     ]
    },
    {
     "name": "stdout",
     "output_type": "stream",
     "text": [
      "5073\n"
     ]
    },
    {
     "name": "stderr",
     "output_type": "stream",
     "text": [
      "5074it [34:28,  4.73s/it]"
     ]
    },
    {
     "name": "stdout",
     "output_type": "stream",
     "text": [
      "5074\n"
     ]
    },
    {
     "name": "stderr",
     "output_type": "stream",
     "text": [
      "5075it [34:34,  5.06s/it]"
     ]
    },
    {
     "name": "stdout",
     "output_type": "stream",
     "text": [
      "5075\n"
     ]
    },
    {
     "name": "stderr",
     "output_type": "stream",
     "text": [
      "5076it [34:37,  4.62s/it]"
     ]
    },
    {
     "name": "stdout",
     "output_type": "stream",
     "text": [
      "5076\n"
     ]
    },
    {
     "name": "stderr",
     "output_type": "stream",
     "text": [
      "5077it [34:42,  4.73s/it]"
     ]
    },
    {
     "name": "stdout",
     "output_type": "stream",
     "text": [
      "5077\n"
     ]
    },
    {
     "name": "stderr",
     "output_type": "stream",
     "text": [
      "5078it [34:46,  4.39s/it]"
     ]
    },
    {
     "name": "stdout",
     "output_type": "stream",
     "text": [
      "5078\n"
     ]
    },
    {
     "name": "stderr",
     "output_type": "stream",
     "text": [
      "5079it [34:50,  4.13s/it]"
     ]
    },
    {
     "name": "stdout",
     "output_type": "stream",
     "text": [
      "5079\n"
     ]
    },
    {
     "name": "stderr",
     "output_type": "stream",
     "text": [
      "5080it [34:53,  3.96s/it]"
     ]
    },
    {
     "name": "stdout",
     "output_type": "stream",
     "text": [
      "5080\n"
     ]
    },
    {
     "name": "stderr",
     "output_type": "stream",
     "text": [
      "5081it [34:59,  4.48s/it]"
     ]
    },
    {
     "name": "stdout",
     "output_type": "stream",
     "text": [
      "5081\n"
     ]
    },
    {
     "name": "stderr",
     "output_type": "stream",
     "text": [
      "5082it [35:04,  4.56s/it]"
     ]
    },
    {
     "name": "stdout",
     "output_type": "stream",
     "text": [
      "5082\n"
     ]
    },
    {
     "name": "stderr",
     "output_type": "stream",
     "text": [
      "5083it [35:08,  4.42s/it]"
     ]
    },
    {
     "name": "stdout",
     "output_type": "stream",
     "text": [
      "5083\n"
     ]
    },
    {
     "name": "stderr",
     "output_type": "stream",
     "text": [
      "5084it [35:13,  4.81s/it]"
     ]
    },
    {
     "name": "stdout",
     "output_type": "stream",
     "text": [
      "5084\n"
     ]
    },
    {
     "name": "stderr",
     "output_type": "stream",
     "text": [
      "5085it [35:18,  4.85s/it]"
     ]
    },
    {
     "name": "stdout",
     "output_type": "stream",
     "text": [
      "5085\n"
     ]
    },
    {
     "name": "stderr",
     "output_type": "stream",
     "text": [
      "5086it [35:22,  4.53s/it]"
     ]
    },
    {
     "name": "stdout",
     "output_type": "stream",
     "text": [
      "5086\n"
     ]
    },
    {
     "name": "stderr",
     "output_type": "stream",
     "text": [
      "5087it [35:29,  5.17s/it]"
     ]
    },
    {
     "name": "stdout",
     "output_type": "stream",
     "text": [
      "5087\n"
     ]
    },
    {
     "name": "stderr",
     "output_type": "stream",
     "text": [
      "5088it [35:35,  5.46s/it]"
     ]
    },
    {
     "name": "stdout",
     "output_type": "stream",
     "text": [
      "5088\n"
     ]
    },
    {
     "name": "stderr",
     "output_type": "stream",
     "text": [
      "5089it [35:35,  3.91s/it]"
     ]
    },
    {
     "name": "stdout",
     "output_type": "stream",
     "text": [
      "Failed on account: 752493806\n",
      "Not authorized.\n",
      "5089\n"
     ]
    },
    {
     "name": "stderr",
     "output_type": "stream",
     "text": [
      "5090it [35:40,  4.29s/it]"
     ]
    },
    {
     "name": "stdout",
     "output_type": "stream",
     "text": [
      "5090\n"
     ]
    },
    {
     "name": "stderr",
     "output_type": "stream",
     "text": [
      "5091it [35:44,  4.19s/it]"
     ]
    },
    {
     "name": "stdout",
     "output_type": "stream",
     "text": [
      "5091\n"
     ]
    },
    {
     "name": "stderr",
     "output_type": "stream",
     "text": [
      "5092it [35:49,  4.31s/it]"
     ]
    },
    {
     "name": "stdout",
     "output_type": "stream",
     "text": [
      "5092\n"
     ]
    },
    {
     "name": "stderr",
     "output_type": "stream",
     "text": [
      "5093it [35:53,  4.37s/it]"
     ]
    },
    {
     "name": "stdout",
     "output_type": "stream",
     "text": [
      "5093\n"
     ]
    },
    {
     "name": "stderr",
     "output_type": "stream",
     "text": [
      "5094it [35:57,  4.11s/it]"
     ]
    },
    {
     "name": "stdout",
     "output_type": "stream",
     "text": [
      "5094\n"
     ]
    },
    {
     "name": "stderr",
     "output_type": "stream",
     "text": [
      "5095it [36:01,  4.07s/it]"
     ]
    },
    {
     "name": "stdout",
     "output_type": "stream",
     "text": [
      "5095\n"
     ]
    },
    {
     "name": "stderr",
     "output_type": "stream",
     "text": [
      "5096it [36:05,  4.21s/it]"
     ]
    },
    {
     "name": "stdout",
     "output_type": "stream",
     "text": [
      "5096\n"
     ]
    },
    {
     "name": "stderr",
     "output_type": "stream",
     "text": [
      "5097it [36:11,  4.54s/it]"
     ]
    },
    {
     "name": "stdout",
     "output_type": "stream",
     "text": [
      "5097\n"
     ]
    },
    {
     "name": "stderr",
     "output_type": "stream",
     "text": [
      "5098it [36:15,  4.56s/it]"
     ]
    },
    {
     "name": "stdout",
     "output_type": "stream",
     "text": [
      "5098\n"
     ]
    },
    {
     "name": "stderr",
     "output_type": "stream",
     "text": [
      "5099it [36:20,  4.60s/it]"
     ]
    },
    {
     "name": "stdout",
     "output_type": "stream",
     "text": [
      "5099\n"
     ]
    },
    {
     "name": "stderr",
     "output_type": "stream",
     "text": [
      "5100it [36:27,  5.31s/it]"
     ]
    },
    {
     "name": "stdout",
     "output_type": "stream",
     "text": [
      "5100\n"
     ]
    },
    {
     "name": "stderr",
     "output_type": "stream",
     "text": [
      "5101it [36:33,  5.43s/it]"
     ]
    },
    {
     "name": "stdout",
     "output_type": "stream",
     "text": [
      "5101\n"
     ]
    },
    {
     "name": "stderr",
     "output_type": "stream",
     "text": [
      "5102it [36:38,  5.26s/it]"
     ]
    },
    {
     "name": "stdout",
     "output_type": "stream",
     "text": [
      "5102\n"
     ]
    },
    {
     "name": "stderr",
     "output_type": "stream",
     "text": [
      "5103it [36:43,  5.18s/it]"
     ]
    },
    {
     "name": "stdout",
     "output_type": "stream",
     "text": [
      "5103\n"
     ]
    },
    {
     "name": "stderr",
     "output_type": "stream",
     "text": [
      "5104it [36:50,  5.99s/it]"
     ]
    },
    {
     "name": "stdout",
     "output_type": "stream",
     "text": [
      "5104\n"
     ]
    },
    {
     "name": "stderr",
     "output_type": "stream",
     "text": [
      "5105it [36:55,  5.65s/it]"
     ]
    },
    {
     "name": "stdout",
     "output_type": "stream",
     "text": [
      "5105\n"
     ]
    },
    {
     "name": "stderr",
     "output_type": "stream",
     "text": [
      "5106it [37:00,  5.39s/it]"
     ]
    },
    {
     "name": "stdout",
     "output_type": "stream",
     "text": [
      "5106\n"
     ]
    },
    {
     "name": "stderr",
     "output_type": "stream",
     "text": [
      "5107it [37:05,  5.15s/it]"
     ]
    },
    {
     "name": "stdout",
     "output_type": "stream",
     "text": [
      "5107\n"
     ]
    },
    {
     "name": "stderr",
     "output_type": "stream",
     "text": [
      "5108it [37:09,  5.04s/it]"
     ]
    },
    {
     "name": "stdout",
     "output_type": "stream",
     "text": [
      "5108\n"
     ]
    },
    {
     "name": "stderr",
     "output_type": "stream",
     "text": [
      "5109it [37:14,  4.97s/it]"
     ]
    },
    {
     "name": "stdout",
     "output_type": "stream",
     "text": [
      "5109\n"
     ]
    },
    {
     "name": "stderr",
     "output_type": "stream",
     "text": [
      "5110it [37:20,  5.09s/it]"
     ]
    },
    {
     "name": "stdout",
     "output_type": "stream",
     "text": [
      "5110\n"
     ]
    },
    {
     "name": "stderr",
     "output_type": "stream",
     "text": [
      "5111it [37:24,  4.91s/it]"
     ]
    },
    {
     "name": "stdout",
     "output_type": "stream",
     "text": [
      "5111\n"
     ]
    },
    {
     "name": "stderr",
     "output_type": "stream",
     "text": [
      "5112it [37:28,  4.70s/it]"
     ]
    },
    {
     "name": "stdout",
     "output_type": "stream",
     "text": [
      "5112\n"
     ]
    },
    {
     "name": "stderr",
     "output_type": "stream",
     "text": [
      "5113it [37:33,  4.64s/it]"
     ]
    },
    {
     "name": "stdout",
     "output_type": "stream",
     "text": [
      "5113\n"
     ]
    },
    {
     "name": "stderr",
     "output_type": "stream",
     "text": [
      "5114it [37:37,  4.63s/it]"
     ]
    },
    {
     "name": "stdout",
     "output_type": "stream",
     "text": [
      "5114\n"
     ]
    },
    {
     "name": "stderr",
     "output_type": "stream",
     "text": [
      "5115it [37:44,  5.08s/it]"
     ]
    },
    {
     "name": "stdout",
     "output_type": "stream",
     "text": [
      "5115\n"
     ]
    },
    {
     "name": "stderr",
     "output_type": "stream",
     "text": [
      "5116it [37:48,  4.74s/it]"
     ]
    },
    {
     "name": "stdout",
     "output_type": "stream",
     "text": [
      "5116\n"
     ]
    },
    {
     "name": "stderr",
     "output_type": "stream",
     "text": [
      "5117it [37:53,  4.81s/it]"
     ]
    },
    {
     "name": "stdout",
     "output_type": "stream",
     "text": [
      "5117\n"
     ]
    },
    {
     "name": "stderr",
     "output_type": "stream",
     "text": [
      "5118it [37:56,  4.44s/it]"
     ]
    },
    {
     "name": "stdout",
     "output_type": "stream",
     "text": [
      "5118\n"
     ]
    },
    {
     "name": "stderr",
     "output_type": "stream",
     "text": [
      "5119it [38:01,  4.68s/it]"
     ]
    },
    {
     "name": "stdout",
     "output_type": "stream",
     "text": [
      "5119\n"
     ]
    },
    {
     "name": "stderr",
     "output_type": "stream",
     "text": [
      "5120it [38:08,  5.20s/it]"
     ]
    },
    {
     "name": "stdout",
     "output_type": "stream",
     "text": [
      "5120\n"
     ]
    },
    {
     "name": "stderr",
     "output_type": "stream",
     "text": [
      "5121it [38:12,  4.82s/it]"
     ]
    },
    {
     "name": "stdout",
     "output_type": "stream",
     "text": [
      "5121\n"
     ]
    },
    {
     "name": "stderr",
     "output_type": "stream",
     "text": [
      "5122it [38:16,  4.81s/it]"
     ]
    },
    {
     "name": "stdout",
     "output_type": "stream",
     "text": [
      "5122\n"
     ]
    },
    {
     "name": "stderr",
     "output_type": "stream",
     "text": [
      "5123it [38:20,  4.44s/it]"
     ]
    },
    {
     "name": "stdout",
     "output_type": "stream",
     "text": [
      "5123\n"
     ]
    },
    {
     "name": "stderr",
     "output_type": "stream",
     "text": [
      "5124it [38:25,  4.53s/it]"
     ]
    },
    {
     "name": "stdout",
     "output_type": "stream",
     "text": [
      "5124\n"
     ]
    },
    {
     "name": "stderr",
     "output_type": "stream",
     "text": [
      "5125it [38:29,  4.49s/it]"
     ]
    },
    {
     "name": "stdout",
     "output_type": "stream",
     "text": [
      "5125\n"
     ]
    },
    {
     "name": "stderr",
     "output_type": "stream",
     "text": [
      "5126it [38:34,  4.62s/it]"
     ]
    },
    {
     "name": "stdout",
     "output_type": "stream",
     "text": [
      "5126\n"
     ]
    },
    {
     "name": "stderr",
     "output_type": "stream",
     "text": [
      "5127it [38:39,  4.71s/it]"
     ]
    },
    {
     "name": "stdout",
     "output_type": "stream",
     "text": [
      "5127\n"
     ]
    },
    {
     "name": "stderr",
     "output_type": "stream",
     "text": [
      "5128it [38:45,  5.17s/it]"
     ]
    },
    {
     "name": "stdout",
     "output_type": "stream",
     "text": [
      "5128\n"
     ]
    },
    {
     "name": "stderr",
     "output_type": "stream",
     "text": [
      "5129it [38:52,  5.65s/it]"
     ]
    },
    {
     "name": "stdout",
     "output_type": "stream",
     "text": [
      "5129\n"
     ]
    },
    {
     "name": "stderr",
     "output_type": "stream",
     "text": [
      "5130it [38:52,  4.04s/it]"
     ]
    },
    {
     "name": "stdout",
     "output_type": "stream",
     "text": [
      "Failed on account: 778581027291660288\n",
      "[{'code': 34, 'message': 'Sorry, that page does not exist.'}]\n",
      "5130\n"
     ]
    },
    {
     "name": "stderr",
     "output_type": "stream",
     "text": [
      "5131it [38:57,  4.09s/it]"
     ]
    },
    {
     "name": "stdout",
     "output_type": "stream",
     "text": [
      "5131\n"
     ]
    },
    {
     "name": "stderr",
     "output_type": "stream",
     "text": [
      "5132it [39:02,  4.46s/it]"
     ]
    },
    {
     "name": "stdout",
     "output_type": "stream",
     "text": [
      "5132\n"
     ]
    },
    {
     "name": "stderr",
     "output_type": "stream",
     "text": [
      "5133it [39:07,  4.57s/it]"
     ]
    },
    {
     "name": "stdout",
     "output_type": "stream",
     "text": [
      "5133\n"
     ]
    },
    {
     "name": "stderr",
     "output_type": "stream",
     "text": [
      "5134it [39:11,  4.37s/it]"
     ]
    },
    {
     "name": "stdout",
     "output_type": "stream",
     "text": [
      "5134\n"
     ]
    },
    {
     "name": "stderr",
     "output_type": "stream",
     "text": [
      "5135it [39:16,  4.73s/it]"
     ]
    },
    {
     "name": "stdout",
     "output_type": "stream",
     "text": [
      "5135\n"
     ]
    },
    {
     "name": "stderr",
     "output_type": "stream",
     "text": [
      "5136it [39:22,  5.21s/it]"
     ]
    },
    {
     "name": "stdout",
     "output_type": "stream",
     "text": [
      "5136\n"
     ]
    },
    {
     "name": "stderr",
     "output_type": "stream",
     "text": [
      "5137it [39:23,  3.72s/it]"
     ]
    },
    {
     "name": "stdout",
     "output_type": "stream",
     "text": [
      "Failed on account: 738721186826178560\n",
      "[{'code': 34, 'message': 'Sorry, that page does not exist.'}]\n",
      "5137\n"
     ]
    },
    {
     "name": "stderr",
     "output_type": "stream",
     "text": [
      "5138it [39:27,  3.75s/it]"
     ]
    },
    {
     "name": "stdout",
     "output_type": "stream",
     "text": [
      "5138\n"
     ]
    },
    {
     "name": "stderr",
     "output_type": "stream",
     "text": [
      "5139it [39:33,  4.65s/it]"
     ]
    },
    {
     "name": "stdout",
     "output_type": "stream",
     "text": [
      "5139\n"
     ]
    },
    {
     "name": "stderr",
     "output_type": "stream",
     "text": [
      "5140it [39:37,  4.42s/it]"
     ]
    },
    {
     "name": "stdout",
     "output_type": "stream",
     "text": [
      "5140\n"
     ]
    },
    {
     "name": "stderr",
     "output_type": "stream",
     "text": [
      "5141it [39:43,  4.78s/it]"
     ]
    },
    {
     "name": "stdout",
     "output_type": "stream",
     "text": [
      "5141\n"
     ]
    },
    {
     "name": "stderr",
     "output_type": "stream",
     "text": [
      "5142it [39:48,  4.87s/it]"
     ]
    },
    {
     "name": "stdout",
     "output_type": "stream",
     "text": [
      "5142\n"
     ]
    },
    {
     "name": "stderr",
     "output_type": "stream",
     "text": [
      "5143it [39:48,  3.56s/it]"
     ]
    },
    {
     "name": "stdout",
     "output_type": "stream",
     "text": [
      "Failed on account: 832675998030192640\n",
      "[{'code': 34, 'message': 'Sorry, that page does not exist.'}]\n",
      "5143\n"
     ]
    },
    {
     "name": "stderr",
     "output_type": "stream",
     "text": [
      "5144it [39:53,  3.96s/it]"
     ]
    },
    {
     "name": "stdout",
     "output_type": "stream",
     "text": [
      "5144\n"
     ]
    },
    {
     "name": "stderr",
     "output_type": "stream",
     "text": [
      "5145it [39:59,  4.64s/it]"
     ]
    },
    {
     "name": "stdout",
     "output_type": "stream",
     "text": [
      "5145\n"
     ]
    },
    {
     "name": "stderr",
     "output_type": "stream",
     "text": [
      "5146it [40:00,  3.34s/it]"
     ]
    },
    {
     "name": "stdout",
     "output_type": "stream",
     "text": [
      "Failed on account: 824059809951531008\n",
      "[{'code': 34, 'message': 'Sorry, that page does not exist.'}]\n",
      "5146\n"
     ]
    },
    {
     "name": "stderr",
     "output_type": "stream",
     "text": [
      "5147it [40:04,  3.68s/it]"
     ]
    },
    {
     "name": "stdout",
     "output_type": "stream",
     "text": [
      "5147\n"
     ]
    },
    {
     "name": "stderr",
     "output_type": "stream",
     "text": [
      "5148it [40:09,  4.00s/it]"
     ]
    },
    {
     "name": "stdout",
     "output_type": "stream",
     "text": [
      "5148\n"
     ]
    },
    {
     "name": "stderr",
     "output_type": "stream",
     "text": [
      "5149it [40:13,  4.09s/it]"
     ]
    },
    {
     "name": "stdout",
     "output_type": "stream",
     "text": [
      "5149\n"
     ]
    },
    {
     "name": "stderr",
     "output_type": "stream",
     "text": [
      "5150it [40:19,  4.47s/it]"
     ]
    },
    {
     "name": "stdout",
     "output_type": "stream",
     "text": [
      "5150\n"
     ]
    },
    {
     "name": "stderr",
     "output_type": "stream",
     "text": [
      "5151it [40:19,  3.21s/it]"
     ]
    },
    {
     "name": "stdout",
     "output_type": "stream",
     "text": [
      "Failed on account: 830905941855989760\n",
      "[{'code': 34, 'message': 'Sorry, that page does not exist.'}]\n",
      "5151\n"
     ]
    },
    {
     "name": "stderr",
     "output_type": "stream",
     "text": [
      "5152it [40:24,  3.87s/it]"
     ]
    },
    {
     "name": "stdout",
     "output_type": "stream",
     "text": [
      "5152\n"
     ]
    },
    {
     "name": "stderr",
     "output_type": "stream",
     "text": [
      "5153it [40:25,  2.78s/it]"
     ]
    },
    {
     "name": "stdout",
     "output_type": "stream",
     "text": [
      "Failed on account: 830683587452219392\n",
      "[{'code': 34, 'message': 'Sorry, that page does not exist.'}]\n",
      "5153\n"
     ]
    },
    {
     "name": "stderr",
     "output_type": "stream",
     "text": [
      "5154it [40:28,  2.98s/it]"
     ]
    },
    {
     "name": "stdout",
     "output_type": "stream",
     "text": [
      "5154\n"
     ]
    },
    {
     "name": "stderr",
     "output_type": "stream",
     "text": [
      "5155it [40:37,  4.86s/it]"
     ]
    },
    {
     "name": "stdout",
     "output_type": "stream",
     "text": [
      "5155\n"
     ]
    },
    {
     "name": "stderr",
     "output_type": "stream",
     "text": [
      "5156it [40:42,  4.95s/it]"
     ]
    },
    {
     "name": "stdout",
     "output_type": "stream",
     "text": [
      "5156\n"
     ]
    },
    {
     "name": "stderr",
     "output_type": "stream",
     "text": [
      "5157it [40:47,  4.80s/it]"
     ]
    },
    {
     "name": "stdout",
     "output_type": "stream",
     "text": [
      "5157\n"
     ]
    },
    {
     "name": "stderr",
     "output_type": "stream",
     "text": [
      "5158it [40:47,  3.45s/it]"
     ]
    },
    {
     "name": "stdout",
     "output_type": "stream",
     "text": [
      "Failed on account: 752493806\n",
      "Not authorized.\n",
      "5158\n"
     ]
    },
    {
     "name": "stderr",
     "output_type": "stream",
     "text": [
      "5159it [40:50,  3.18s/it]"
     ]
    },
    {
     "name": "stdout",
     "output_type": "stream",
     "text": [
      "Failed on account: 18511142\n",
      "429 Client Error: Too Many Requests for url: https://botometer-pro.p.rapidapi.com/4/check_account\n",
      "5159\n"
     ]
    },
    {
     "name": "stderr",
     "output_type": "stream",
     "text": [
      "5160it [40:54,  3.45s/it]"
     ]
    },
    {
     "name": "stdout",
     "output_type": "stream",
     "text": [
      "Failed on account: 48459553\n",
      "429 Client Error: Too Many Requests for url: https://botometer-pro.p.rapidapi.com/4/check_account\n",
      "5160\n"
     ]
    },
    {
     "name": "stderr",
     "output_type": "stream",
     "text": [
      "5161it [40:57,  3.26s/it]"
     ]
    },
    {
     "name": "stdout",
     "output_type": "stream",
     "text": [
      "Failed on account: 715718165397942272\n",
      "429 Client Error: Too Many Requests for url: https://botometer-pro.p.rapidapi.com/4/check_account\n",
      "5161\n"
     ]
    },
    {
     "name": "stderr",
     "output_type": "stream",
     "text": [
      "5162it [40:59,  2.93s/it]"
     ]
    },
    {
     "name": "stdout",
     "output_type": "stream",
     "text": [
      "Failed on account: 817458036834873344\n",
      "429 Client Error: Too Many Requests for url: https://botometer-pro.p.rapidapi.com/4/check_account\n",
      "5162\n"
     ]
    },
    {
     "name": "stderr",
     "output_type": "stream",
     "text": [
      "5163it [41:00,  2.51s/it]"
     ]
    },
    {
     "name": "stdout",
     "output_type": "stream",
     "text": [
      "Failed on account: 909690730100264960\n",
      "429 Client Error: Too Many Requests for url: https://botometer-pro.p.rapidapi.com/4/check_account\n",
      "5163\n"
     ]
    },
    {
     "name": "stderr",
     "output_type": "stream",
     "text": [
      "5164it [41:02,  2.38s/it]"
     ]
    },
    {
     "name": "stdout",
     "output_type": "stream",
     "text": [
      "Failed on account: 1392951560\n",
      "429 Client Error: Too Many Requests for url: https://botometer-pro.p.rapidapi.com/4/check_account\n",
      "5164\n"
     ]
    },
    {
     "name": "stderr",
     "output_type": "stream",
     "text": [
      "5165it [41:05,  2.34s/it]"
     ]
    },
    {
     "name": "stdout",
     "output_type": "stream",
     "text": [
      "Failed on account: 436360631\n",
      "429 Client Error: Too Many Requests for url: https://botometer-pro.p.rapidapi.com/4/check_account\n",
      "5165\n"
     ]
    },
    {
     "name": "stderr",
     "output_type": "stream",
     "text": [
      "5166it [41:08,  2.66s/it]"
     ]
    },
    {
     "name": "stdout",
     "output_type": "stream",
     "text": [
      "Failed on account: 3267456386\n",
      "429 Client Error: Too Many Requests for url: https://botometer-pro.p.rapidapi.com/4/check_account\n",
      "5166\n"
     ]
    },
    {
     "name": "stderr",
     "output_type": "stream",
     "text": [
      "5167it [41:12,  2.97s/it]"
     ]
    },
    {
     "name": "stdout",
     "output_type": "stream",
     "text": [
      "Failed on account: 187437575\n",
      "429 Client Error: Too Many Requests for url: https://botometer-pro.p.rapidapi.com/4/check_account\n",
      "5167\n"
     ]
    },
    {
     "name": "stderr",
     "output_type": "stream",
     "text": [
      "5168it [41:18,  3.81s/it]"
     ]
    },
    {
     "name": "stdout",
     "output_type": "stream",
     "text": [
      "Failed on account: 17633850\n",
      "429 Client Error: Too Many Requests for url: https://botometer-pro.p.rapidapi.com/4/check_account\n",
      "5168\n"
     ]
    },
    {
     "name": "stderr",
     "output_type": "stream",
     "text": [
      "5169it [41:20,  3.48s/it]"
     ]
    },
    {
     "name": "stdout",
     "output_type": "stream",
     "text": [
      "Failed on account: 2880436049\n",
      "429 Client Error: Too Many Requests for url: https://botometer-pro.p.rapidapi.com/4/check_account\n",
      "5169\n"
     ]
    },
    {
     "name": "stderr",
     "output_type": "stream",
     "text": [
      "5170it [41:24,  3.63s/it]"
     ]
    },
    {
     "name": "stdout",
     "output_type": "stream",
     "text": [
      "Failed on account: 17850785\n",
      "429 Client Error: Too Many Requests for url: https://botometer-pro.p.rapidapi.com/4/check_account\n",
      "5170\n"
     ]
    },
    {
     "name": "stderr",
     "output_type": "stream",
     "text": [
      "5171it [41:27,  3.27s/it]"
     ]
    },
    {
     "name": "stdout",
     "output_type": "stream",
     "text": [
      "Failed on account: 707231479047315456\n",
      "429 Client Error: Too Many Requests for url: https://botometer-pro.p.rapidapi.com/4/check_account\n",
      "5171\n"
     ]
    },
    {
     "name": "stderr",
     "output_type": "stream",
     "text": [
      "5172it [41:29,  2.95s/it]"
     ]
    },
    {
     "name": "stdout",
     "output_type": "stream",
     "text": [
      "Failed on account: 424598105\n",
      "429 Client Error: Too Many Requests for url: https://botometer-pro.p.rapidapi.com/4/check_account\n",
      "5172\n"
     ]
    },
    {
     "name": "stderr",
     "output_type": "stream",
     "text": [
      "5173it [41:29,  2.14s/it]"
     ]
    },
    {
     "name": "stdout",
     "output_type": "stream",
     "text": [
      "Failed on account: 832675998030192640\n",
      "[{'code': 34, 'message': 'Sorry, that page does not exist.'}]\n",
      "5173\n"
     ]
    },
    {
     "name": "stderr",
     "output_type": "stream",
     "text": [
      "5174it [41:32,  2.37s/it]"
     ]
    },
    {
     "name": "stdout",
     "output_type": "stream",
     "text": [
      "Failed on account: 15939644\n",
      "429 Client Error: Too Many Requests for url: https://botometer-pro.p.rapidapi.com/4/check_account\n",
      "5174\n"
     ]
    },
    {
     "name": "stderr",
     "output_type": "stream",
     "text": [
      "5175it [41:34,  2.30s/it]"
     ]
    },
    {
     "name": "stdout",
     "output_type": "stream",
     "text": [
      "Failed on account: 348680229\n",
      "429 Client Error: Too Many Requests for url: https://botometer-pro.p.rapidapi.com/4/check_account\n",
      "5175\n"
     ]
    },
    {
     "name": "stderr",
     "output_type": "stream",
     "text": [
      "5176it [41:36,  2.14s/it]"
     ]
    },
    {
     "name": "stdout",
     "output_type": "stream",
     "text": [
      "Failed on account: 190044015\n",
      "429 Client Error: Too Many Requests for url: https://botometer-pro.p.rapidapi.com/4/check_account\n",
      "5176\n"
     ]
    },
    {
     "name": "stderr",
     "output_type": "stream",
     "text": [
      "5177it [41:38,  2.17s/it]"
     ]
    },
    {
     "name": "stdout",
     "output_type": "stream",
     "text": [
      "Failed on account: 61242633\n",
      "429 Client Error: Too Many Requests for url: https://botometer-pro.p.rapidapi.com/4/check_account\n",
      "5177\n"
     ]
    },
    {
     "name": "stderr",
     "output_type": "stream",
     "text": [
      "5178it [41:41,  2.24s/it]"
     ]
    },
    {
     "name": "stdout",
     "output_type": "stream",
     "text": [
      "Failed on account: 77047730\n",
      "429 Client Error: Too Many Requests for url: https://botometer-pro.p.rapidapi.com/4/check_account\n",
      "5178\n"
     ]
    },
    {
     "name": "stderr",
     "output_type": "stream",
     "text": [
      "5179it [41:43,  2.17s/it]"
     ]
    },
    {
     "name": "stdout",
     "output_type": "stream",
     "text": [
      "Failed on account: 2225356830\n",
      "429 Client Error: Too Many Requests for url: https://botometer-pro.p.rapidapi.com/4/check_account\n",
      "5179\n"
     ]
    },
    {
     "name": "stderr",
     "output_type": "stream",
     "text": [
      "5180it [41:45,  2.29s/it]"
     ]
    },
    {
     "name": "stdout",
     "output_type": "stream",
     "text": [
      "Failed on account: 799287091708338176\n",
      "429 Client Error: Too Many Requests for url: https://botometer-pro.p.rapidapi.com/4/check_account\n",
      "5180\n"
     ]
    },
    {
     "name": "stderr",
     "output_type": "stream",
     "text": [
      "5181it [41:48,  2.44s/it]"
     ]
    },
    {
     "name": "stdout",
     "output_type": "stream",
     "text": [
      "Failed on account: 20508666\n",
      "429 Client Error: Too Many Requests for url: https://botometer-pro.p.rapidapi.com/4/check_account\n",
      "5181\n"
     ]
    },
    {
     "name": "stderr",
     "output_type": "stream",
     "text": [
      "5182it [41:50,  2.31s/it]"
     ]
    },
    {
     "name": "stdout",
     "output_type": "stream",
     "text": [
      "Failed on account: 1129113331\n",
      "429 Client Error: Too Many Requests for url: https://botometer-pro.p.rapidapi.com/4/check_account\n",
      "5182\n"
     ]
    },
    {
     "name": "stderr",
     "output_type": "stream",
     "text": [
      "5183it [41:52,  2.34s/it]"
     ]
    },
    {
     "name": "stdout",
     "output_type": "stream",
     "text": [
      "Failed on account: 20246830\n",
      "429 Client Error: Too Many Requests for url: https://botometer-pro.p.rapidapi.com/4/check_account\n",
      "5183\n"
     ]
    },
    {
     "name": "stderr",
     "output_type": "stream",
     "text": [
      "5184it [41:56,  2.68s/it]"
     ]
    },
    {
     "name": "stdout",
     "output_type": "stream",
     "text": [
      "Failed on account: 954124423\n",
      "429 Client Error: Too Many Requests for url: https://botometer-pro.p.rapidapi.com/4/check_account\n",
      "5184\n"
     ]
    },
    {
     "name": "stderr",
     "output_type": "stream",
     "text": [
      "5185it [41:58,  2.46s/it]"
     ]
    },
    {
     "name": "stdout",
     "output_type": "stream",
     "text": [
      "Failed on account: 3592503441\n",
      "429 Client Error: Too Many Requests for url: https://botometer-pro.p.rapidapi.com/4/check_account\n",
      "5185\n"
     ]
    },
    {
     "name": "stderr",
     "output_type": "stream",
     "text": [
      "5186it [42:00,  2.48s/it]"
     ]
    },
    {
     "name": "stdout",
     "output_type": "stream",
     "text": [
      "Failed on account: 26830055\n",
      "429 Client Error: Too Many Requests for url: https://botometer-pro.p.rapidapi.com/4/check_account\n",
      "5186\n"
     ]
    },
    {
     "name": "stderr",
     "output_type": "stream",
     "text": [
      "5187it [42:02,  2.22s/it]"
     ]
    },
    {
     "name": "stdout",
     "output_type": "stream",
     "text": [
      "Failed on account: 998195396\n",
      "429 Client Error: Too Many Requests for url: https://botometer-pro.p.rapidapi.com/4/check_account\n",
      "5187\n"
     ]
    },
    {
     "name": "stderr",
     "output_type": "stream",
     "text": [
      "5188it [42:04,  2.09s/it]"
     ]
    },
    {
     "name": "stdout",
     "output_type": "stream",
     "text": [
      "Failed on account: 892395037\n",
      "429 Client Error: Too Many Requests for url: https://botometer-pro.p.rapidapi.com/4/check_account\n",
      "5188\n"
     ]
    },
    {
     "name": "stderr",
     "output_type": "stream",
     "text": [
      "5189it [42:06,  2.19s/it]"
     ]
    },
    {
     "name": "stdout",
     "output_type": "stream",
     "text": [
      "Failed on account: 79784897\n",
      "429 Client Error: Too Many Requests for url: https://botometer-pro.p.rapidapi.com/4/check_account\n",
      "5189\n"
     ]
    },
    {
     "name": "stderr",
     "output_type": "stream",
     "text": [
      "5190it [42:08,  2.21s/it]"
     ]
    },
    {
     "name": "stdout",
     "output_type": "stream",
     "text": [
      "Failed on account: 48387462\n",
      "429 Client Error: Too Many Requests for url: https://botometer-pro.p.rapidapi.com/4/check_account\n",
      "5190\n"
     ]
    },
    {
     "name": "stderr",
     "output_type": "stream",
     "text": [
      "5191it [42:11,  2.33s/it]"
     ]
    },
    {
     "name": "stdout",
     "output_type": "stream",
     "text": [
      "Failed on account: 4296903437\n",
      "429 Client Error: Too Many Requests for url: https://botometer-pro.p.rapidapi.com/4/check_account\n",
      "5191\n"
     ]
    },
    {
     "name": "stderr",
     "output_type": "stream",
     "text": [
      "5192it [42:13,  2.36s/it]"
     ]
    },
    {
     "name": "stdout",
     "output_type": "stream",
     "text": [
      "Failed on account: 18428796\n",
      "429 Client Error: Too Many Requests for url: https://botometer-pro.p.rapidapi.com/4/check_account\n",
      "5192\n"
     ]
    },
    {
     "name": "stderr",
     "output_type": "stream",
     "text": [
      "5193it [42:16,  2.46s/it]"
     ]
    },
    {
     "name": "stdout",
     "output_type": "stream",
     "text": [
      "Failed on account: 15962154\n",
      "429 Client Error: Too Many Requests for url: https://botometer-pro.p.rapidapi.com/4/check_account\n",
      "5193\n"
     ]
    },
    {
     "name": "stderr",
     "output_type": "stream",
     "text": [
      "5194it [42:20,  2.91s/it]"
     ]
    },
    {
     "name": "stdout",
     "output_type": "stream",
     "text": [
      "Failed on account: 729265706\n",
      "429 Client Error: Too Many Requests for url: https://botometer-pro.p.rapidapi.com/4/check_account\n",
      "5194\n"
     ]
    },
    {
     "name": "stderr",
     "output_type": "stream",
     "text": [
      "5195it [42:24,  3.22s/it]"
     ]
    },
    {
     "name": "stdout",
     "output_type": "stream",
     "text": [
      "Failed on account: 327015859\n",
      "429 Client Error: Too Many Requests for url: https://botometer-pro.p.rapidapi.com/4/check_account\n",
      "5195\n"
     ]
    },
    {
     "name": "stderr",
     "output_type": "stream",
     "text": [
      "5196it [42:27,  3.06s/it]"
     ]
    },
    {
     "name": "stdout",
     "output_type": "stream",
     "text": [
      "Failed on account: 20016062\n",
      "429 Client Error: Too Many Requests for url: https://botometer-pro.p.rapidapi.com/4/check_account\n",
      "5196\n"
     ]
    },
    {
     "name": "stderr",
     "output_type": "stream",
     "text": [
      "5197it [42:29,  2.98s/it]"
     ]
    },
    {
     "name": "stdout",
     "output_type": "stream",
     "text": [
      "Failed on account: 828078081931780096\n",
      "429 Client Error: Too Many Requests for url: https://botometer-pro.p.rapidapi.com/4/check_account\n",
      "5197\n"
     ]
    },
    {
     "name": "stderr",
     "output_type": "stream",
     "text": [
      "5198it [42:32,  2.94s/it]"
     ]
    },
    {
     "name": "stdout",
     "output_type": "stream",
     "text": [
      "Failed on account: 7744592\n",
      "429 Client Error: Too Many Requests for url: https://botometer-pro.p.rapidapi.com/4/check_account\n",
      "5198\n"
     ]
    },
    {
     "name": "stderr",
     "output_type": "stream",
     "text": [
      "5199it [42:34,  2.68s/it]"
     ]
    },
    {
     "name": "stdout",
     "output_type": "stream",
     "text": [
      "Failed on account: 2188732538\n",
      "429 Client Error: Too Many Requests for url: https://botometer-pro.p.rapidapi.com/4/check_account\n",
      "5199\n"
     ]
    },
    {
     "name": "stderr",
     "output_type": "stream",
     "text": [
      "5200it [42:37,  2.57s/it]"
     ]
    },
    {
     "name": "stdout",
     "output_type": "stream",
     "text": [
      "Failed on account: 810293888548159488\n",
      "429 Client Error: Too Many Requests for url: https://botometer-pro.p.rapidapi.com/4/check_account\n",
      "5200\n"
     ]
    },
    {
     "name": "stderr",
     "output_type": "stream",
     "text": [
      "5201it [42:40,  2.65s/it]"
     ]
    },
    {
     "name": "stdout",
     "output_type": "stream",
     "text": [
      "Failed on account: 38400130\n",
      "429 Client Error: Too Many Requests for url: https://botometer-pro.p.rapidapi.com/4/check_account\n",
      "5201\n"
     ]
    },
    {
     "name": "stderr",
     "output_type": "stream",
     "text": [
      "5202it [42:42,  2.72s/it]"
     ]
    },
    {
     "name": "stdout",
     "output_type": "stream",
     "text": [
      "Failed on account: 1686369542\n",
      "429 Client Error: Too Many Requests for url: https://botometer-pro.p.rapidapi.com/4/check_account\n",
      "5202\n"
     ]
    },
    {
     "name": "stderr",
     "output_type": "stream",
     "text": [
      "5203it [42:55,  5.67s/it]"
     ]
    },
    {
     "name": "stdout",
     "output_type": "stream",
     "text": [
      "Failed on account: 2301628435\n",
      "429 Client Error: Too Many Requests for url: https://botometer-pro.p.rapidapi.com/4/check_account\n",
      "5203\n"
     ]
    },
    {
     "name": "stderr",
     "output_type": "stream",
     "text": [
      "5204it [42:58,  4.97s/it]"
     ]
    },
    {
     "name": "stdout",
     "output_type": "stream",
     "text": [
      "Failed on account: 179005945\n",
      "429 Client Error: Too Many Requests for url: https://botometer-pro.p.rapidapi.com/4/check_account\n",
      "5204\n"
     ]
    },
    {
     "name": "stderr",
     "output_type": "stream",
     "text": [
      "5205it [43:00,  4.12s/it]"
     ]
    },
    {
     "name": "stdout",
     "output_type": "stream",
     "text": [
      "Failed on account: 2547855686\n",
      "429 Client Error: Too Many Requests for url: https://botometer-pro.p.rapidapi.com/4/check_account\n",
      "5205\n"
     ]
    },
    {
     "name": "stderr",
     "output_type": "stream",
     "text": [
      "5206it [43:03,  3.50s/it]"
     ]
    },
    {
     "name": "stdout",
     "output_type": "stream",
     "text": [
      "Failed on account: 2717696568\n",
      "429 Client Error: Too Many Requests for url: https://botometer-pro.p.rapidapi.com/4/check_account\n",
      "5206\n"
     ]
    },
    {
     "name": "stderr",
     "output_type": "stream",
     "text": [
      "5207it [43:06,  3.40s/it]"
     ]
    },
    {
     "name": "stdout",
     "output_type": "stream",
     "text": [
      "Failed on account: 18993395\n",
      "429 Client Error: Too Many Requests for url: https://botometer-pro.p.rapidapi.com/4/check_account\n",
      "5207\n"
     ]
    },
    {
     "name": "stderr",
     "output_type": "stream",
     "text": [
      "5208it [43:09,  3.28s/it]"
     ]
    },
    {
     "name": "stdout",
     "output_type": "stream",
     "text": [
      "Failed on account: 736935466604363776\n",
      "429 Client Error: Too Many Requests for url: https://botometer-pro.p.rapidapi.com/4/check_account\n",
      "5208\n"
     ]
    },
    {
     "name": "stderr",
     "output_type": "stream",
     "text": [
      "5209it [43:12,  3.32s/it]"
     ]
    },
    {
     "name": "stdout",
     "output_type": "stream",
     "text": [
      "Failed on account: 1048784496\n",
      "429 Client Error: Too Many Requests for url: https://botometer-pro.p.rapidapi.com/4/check_account\n",
      "5209\n"
     ]
    },
    {
     "name": "stderr",
     "output_type": "stream",
     "text": [
      "5210it [43:14,  3.03s/it]"
     ]
    },
    {
     "name": "stdout",
     "output_type": "stream",
     "text": [
      "Failed on account: 32871086\n",
      "429 Client Error: Too Many Requests for url: https://botometer-pro.p.rapidapi.com/4/check_account\n",
      "5210\n"
     ]
    },
    {
     "name": "stderr",
     "output_type": "stream",
     "text": [
      "5211it [43:18,  3.12s/it]"
     ]
    },
    {
     "name": "stdout",
     "output_type": "stream",
     "text": [
      "Failed on account: 4828013916\n",
      "429 Client Error: Too Many Requests for url: https://botometer-pro.p.rapidapi.com/4/check_account\n",
      "5211\n"
     ]
    },
    {
     "name": "stderr",
     "output_type": "stream",
     "text": [
      "5212it [43:18,  2.25s/it]"
     ]
    },
    {
     "name": "stdout",
     "output_type": "stream",
     "text": [
      "Failed on account: 819803813146042368\n",
      "[{'code': 34, 'message': 'Sorry, that page does not exist.'}]\n",
      "5212\n"
     ]
    },
    {
     "name": "stderr",
     "output_type": "stream",
     "text": [
      "5213it [43:23,  3.14s/it]"
     ]
    },
    {
     "name": "stdout",
     "output_type": "stream",
     "text": [
      "Failed on account: 130051975\n",
      "429 Client Error: Too Many Requests for url: https://botometer-pro.p.rapidapi.com/4/check_account\n",
      "5213\n"
     ]
    },
    {
     "name": "stderr",
     "output_type": "stream",
     "text": [
      "5214it [43:26,  2.95s/it]"
     ]
    },
    {
     "name": "stdout",
     "output_type": "stream",
     "text": [
      "Failed on account: 217386141\n",
      "429 Client Error: Too Many Requests for url: https://botometer-pro.p.rapidapi.com/4/check_account\n",
      "5214\n"
     ]
    },
    {
     "name": "stderr",
     "output_type": "stream",
     "text": [
      "5215it [43:30,  3.48s/it]"
     ]
    },
    {
     "name": "stdout",
     "output_type": "stream",
     "text": [
      "Failed on account: 813106447\n",
      "429 Client Error: Too Many Requests for url: https://botometer-pro.p.rapidapi.com/4/check_account\n",
      "5215\n"
     ]
    },
    {
     "name": "stderr",
     "output_type": "stream",
     "text": [
      "5216it [43:36,  4.02s/it]"
     ]
    },
    {
     "name": "stdout",
     "output_type": "stream",
     "text": [
      "Failed on account: 466645191\n",
      "429 Client Error: Too Many Requests for url: https://botometer-pro.p.rapidapi.com/4/check_account\n",
      "5216\n"
     ]
    },
    {
     "name": "stderr",
     "output_type": "stream",
     "text": [
      "5217it [43:36,  2.89s/it]"
     ]
    },
    {
     "name": "stdout",
     "output_type": "stream",
     "text": [
      "Failed on account: 824142768603807744\n",
      "[{'code': 34, 'message': 'Sorry, that page does not exist.'}]\n",
      "5217\n"
     ]
    },
    {
     "name": "stderr",
     "output_type": "stream",
     "text": [
      "5218it [43:36,  2.11s/it]"
     ]
    },
    {
     "name": "stdout",
     "output_type": "stream",
     "text": [
      "Failed on account: 863411205377052672\n",
      "[{'code': 34, 'message': 'Sorry, that page does not exist.'}]\n",
      "5218\n"
     ]
    },
    {
     "name": "stderr",
     "output_type": "stream",
     "text": [
      "5219it [43:38,  1.98s/it]"
     ]
    },
    {
     "name": "stdout",
     "output_type": "stream",
     "text": [
      "Failed on account: 920733222\n",
      "429 Client Error: Too Many Requests for url: https://botometer-pro.p.rapidapi.com/4/check_account\n",
      "5219\n"
     ]
    },
    {
     "name": "stderr",
     "output_type": "stream",
     "text": [
      "5220it [43:41,  2.44s/it]"
     ]
    },
    {
     "name": "stdout",
     "output_type": "stream",
     "text": [
      "Failed on account: 798953701972938752\n",
      "429 Client Error: Too Many Requests for url: https://botometer-pro.p.rapidapi.com/4/check_account\n",
      "5220\n"
     ]
    },
    {
     "name": "stderr",
     "output_type": "stream",
     "text": [
      "5221it [43:45,  2.62s/it]"
     ]
    },
    {
     "name": "stdout",
     "output_type": "stream",
     "text": [
      "Failed on account: 879060476\n",
      "429 Client Error: Too Many Requests for url: https://botometer-pro.p.rapidapi.com/4/check_account\n",
      "5221\n"
     ]
    },
    {
     "name": "stderr",
     "output_type": "stream",
     "text": [
      "5222it [43:47,  2.68s/it]"
     ]
    },
    {
     "name": "stdout",
     "output_type": "stream",
     "text": [
      "Failed on account: 15576928\n",
      "429 Client Error: Too Many Requests for url: https://botometer-pro.p.rapidapi.com/4/check_account\n",
      "5222\n"
     ]
    },
    {
     "name": "stderr",
     "output_type": "stream",
     "text": [
      "5223it [43:49,  2.39s/it]"
     ]
    },
    {
     "name": "stdout",
     "output_type": "stream",
     "text": [
      "Failed on account: 802761598779658240\n",
      "429 Client Error: Too Many Requests for url: https://botometer-pro.p.rapidapi.com/4/check_account\n",
      "5223\n"
     ]
    },
    {
     "name": "stderr",
     "output_type": "stream",
     "text": [
      "5224it [43:52,  2.54s/it]"
     ]
    },
    {
     "name": "stdout",
     "output_type": "stream",
     "text": [
      "Failed on account: 3765479422\n",
      "429 Client Error: Too Many Requests for url: https://botometer-pro.p.rapidapi.com/4/check_account\n",
      "5224\n"
     ]
    },
    {
     "name": "stderr",
     "output_type": "stream",
     "text": [
      "5225it [43:54,  2.48s/it]"
     ]
    },
    {
     "name": "stdout",
     "output_type": "stream",
     "text": [
      "Failed on account: 1329601190\n",
      "429 Client Error: Too Many Requests for url: https://botometer-pro.p.rapidapi.com/4/check_account\n",
      "5225\n"
     ]
    },
    {
     "name": "stderr",
     "output_type": "stream",
     "text": [
      "5226it [43:57,  2.49s/it]"
     ]
    },
    {
     "name": "stdout",
     "output_type": "stream",
     "text": [
      "Failed on account: 2677214379\n",
      "429 Client Error: Too Many Requests for url: https://botometer-pro.p.rapidapi.com/4/check_account\n",
      "5226\n"
     ]
    },
    {
     "name": "stderr",
     "output_type": "stream",
     "text": [
      "5227it [44:00,  2.60s/it]"
     ]
    },
    {
     "name": "stdout",
     "output_type": "stream",
     "text": [
      "Failed on account: 15328653\n",
      "429 Client Error: Too Many Requests for url: https://botometer-pro.p.rapidapi.com/4/check_account\n",
      "5227\n"
     ]
    },
    {
     "name": "stderr",
     "output_type": "stream",
     "text": [
      "5228it [44:00,  1.91s/it]"
     ]
    },
    {
     "name": "stdout",
     "output_type": "stream",
     "text": [
      "Failed on account: 53315324\n",
      "Not authorized.\n",
      "5228\n"
     ]
    },
    {
     "name": "stderr",
     "output_type": "stream",
     "text": [
      "5229it [44:03,  2.28s/it]"
     ]
    },
    {
     "name": "stdout",
     "output_type": "stream",
     "text": [
      "Failed on account: 14464766\n",
      "429 Client Error: Too Many Requests for url: https://botometer-pro.p.rapidapi.com/4/check_account\n",
      "5229\n"
     ]
    },
    {
     "name": "stderr",
     "output_type": "stream",
     "text": [
      "5230it [44:06,  2.42s/it]"
     ]
    },
    {
     "name": "stdout",
     "output_type": "stream",
     "text": [
      "Failed on account: 4914384040\n",
      "429 Client Error: Too Many Requests for url: https://botometer-pro.p.rapidapi.com/4/check_account\n",
      "5230\n"
     ]
    },
    {
     "name": "stderr",
     "output_type": "stream",
     "text": [
      "5231it [44:08,  2.50s/it]"
     ]
    },
    {
     "name": "stdout",
     "output_type": "stream",
     "text": [
      "Failed on account: 988539692\n",
      "429 Client Error: Too Many Requests for url: https://botometer-pro.p.rapidapi.com/4/check_account\n",
      "5231\n"
     ]
    },
    {
     "name": "stderr",
     "output_type": "stream",
     "text": [
      "5231it [45:15,  1.93it/s]\n"
     ]
    },
    {
     "ename": "KeyboardInterrupt",
     "evalue": "",
     "output_type": "error",
     "traceback": [
      "\u001b[0;31m---------------------------------------------------------------------------\u001b[0m",
      "\u001b[0;31mKeyboardInterrupt\u001b[0m                         Traceback (most recent call last)",
      "\u001b[0;32m/tmp/ipykernel_169603/2560928281.py\u001b[0m in \u001b[0;36m<module>\u001b[0;34m\u001b[0m\n\u001b[1;32m     35\u001b[0m         \u001b[0mprint\u001b[0m\u001b[0;34m(\u001b[0m\u001b[0mi\u001b[0m\u001b[0;34m)\u001b[0m\u001b[0;34m\u001b[0m\u001b[0;34m\u001b[0m\u001b[0m\n\u001b[1;32m     36\u001b[0m         \u001b[0;32mtry\u001b[0m\u001b[0;34m:\u001b[0m\u001b[0;34m\u001b[0m\u001b[0;34m\u001b[0m\u001b[0m\n\u001b[0;32m---> 37\u001b[0;31m             \u001b[0mresult\u001b[0m \u001b[0;34m=\u001b[0m \u001b[0mbom\u001b[0m\u001b[0;34m.\u001b[0m\u001b[0mcheck_account\u001b[0m\u001b[0;34m(\u001b[0m\u001b[0maccount\u001b[0m\u001b[0;34m)\u001b[0m\u001b[0;34m\u001b[0m\u001b[0;34m\u001b[0m\u001b[0m\n\u001b[0m\u001b[1;32m     38\u001b[0m             \u001b[0mdf\u001b[0m\u001b[0;34m.\u001b[0m\u001b[0mloc\u001b[0m\u001b[0;34m[\u001b[0m\u001b[0mi\u001b[0m\u001b[0;34m,\u001b[0m \u001b[0;34m\"botometer\"\u001b[0m\u001b[0;34m]\u001b[0m \u001b[0;34m=\u001b[0m \u001b[0mstr\u001b[0m\u001b[0;34m(\u001b[0m\u001b[0mresult\u001b[0m\u001b[0;34m)\u001b[0m\u001b[0;34m\u001b[0m\u001b[0;34m\u001b[0m\u001b[0m\n\u001b[1;32m     39\u001b[0m         \u001b[0;32mexcept\u001b[0m \u001b[0mException\u001b[0m \u001b[0;32mas\u001b[0m \u001b[0me\u001b[0m\u001b[0;34m:\u001b[0m\u001b[0;34m\u001b[0m\u001b[0;34m\u001b[0m\u001b[0m\n",
      "\u001b[0;32m~/anaconda3/lib/python3.9/site-packages/botometer/__init__.py\u001b[0m in \u001b[0;36mcheck_account\u001b[0;34m(self, user, full_user_object)\u001b[0m\n\u001b[1;32m    125\u001b[0m \u001b[0;34m\u001b[0m\u001b[0m\n\u001b[1;32m    126\u001b[0m     \u001b[0;32mdef\u001b[0m \u001b[0mcheck_account\u001b[0m\u001b[0;34m(\u001b[0m\u001b[0mself\u001b[0m\u001b[0;34m,\u001b[0m \u001b[0muser\u001b[0m\u001b[0;34m,\u001b[0m \u001b[0mfull_user_object\u001b[0m\u001b[0;34m=\u001b[0m\u001b[0;32mFalse\u001b[0m\u001b[0;34m)\u001b[0m\u001b[0;34m:\u001b[0m\u001b[0;34m\u001b[0m\u001b[0;34m\u001b[0m\u001b[0m\n\u001b[0;32m--> 127\u001b[0;31m         payload = self._get_twitter_data(user,\n\u001b[0m\u001b[1;32m    128\u001b[0m                                          full_user_object=full_user_object)\n\u001b[1;32m    129\u001b[0m         \u001b[0;32mif\u001b[0m \u001b[0;32mnot\u001b[0m \u001b[0mpayload\u001b[0m\u001b[0;34m[\u001b[0m\u001b[0;34m'timeline'\u001b[0m\u001b[0;34m]\u001b[0m\u001b[0;34m:\u001b[0m\u001b[0;34m\u001b[0m\u001b[0;34m\u001b[0m\u001b[0m\n",
      "\u001b[0;32m~/anaconda3/lib/python3.9/site-packages/botometer/__init__.py\u001b[0m in \u001b[0;36m_get_twitter_data\u001b[0;34m(self, user, full_user_object)\u001b[0m\n\u001b[1;32m     92\u001b[0m \u001b[0;34m\u001b[0m\u001b[0m\n\u001b[1;32m     93\u001b[0m         \u001b[0;32mtry\u001b[0m\u001b[0;34m:\u001b[0m\u001b[0;34m\u001b[0m\u001b[0;34m\u001b[0m\u001b[0m\n\u001b[0;32m---> 94\u001b[0;31m             \u001b[0msearch\u001b[0m \u001b[0;34m=\u001b[0m \u001b[0mself\u001b[0m\u001b[0;34m.\u001b[0m\u001b[0mtwitter_api\u001b[0m\u001b[0;34m.\u001b[0m\u001b[0msearch\u001b[0m\u001b[0;34m(\u001b[0m\u001b[0mscreen_name\u001b[0m\u001b[0;34m,\u001b[0m \u001b[0mcount\u001b[0m\u001b[0;34m=\u001b[0m\u001b[0;36m100\u001b[0m\u001b[0;34m)\u001b[0m\u001b[0;34m\u001b[0m\u001b[0;34m\u001b[0m\u001b[0m\n\u001b[0m\u001b[1;32m     95\u001b[0m         \u001b[0;32mexcept\u001b[0m \u001b[0mRateLimitError\u001b[0m \u001b[0;32mas\u001b[0m \u001b[0me\u001b[0m\u001b[0;34m:\u001b[0m\u001b[0;34m\u001b[0m\u001b[0;34m\u001b[0m\u001b[0m\n\u001b[1;32m     96\u001b[0m             \u001b[0me\u001b[0m\u001b[0;34m.\u001b[0m\u001b[0margs\u001b[0m \u001b[0;34m=\u001b[0m \u001b[0;34m(\u001b[0m\u001b[0mself\u001b[0m\u001b[0;34m.\u001b[0m\u001b[0m_TWITTER_RL_MSG\u001b[0m\u001b[0;34m,\u001b[0m \u001b[0;34m'search/tweets'\u001b[0m\u001b[0;34m)\u001b[0m\u001b[0;34m\u001b[0m\u001b[0;34m\u001b[0m\u001b[0m\n",
      "\u001b[0;32m~/anaconda3/lib/python3.9/site-packages/tweepy/binder.py\u001b[0m in \u001b[0;36m_call\u001b[0;34m(*args, **kwargs)\u001b[0m\n\u001b[1;32m    251\u001b[0m                 \u001b[0;32mreturn\u001b[0m \u001b[0mmethod\u001b[0m\u001b[0;34m\u001b[0m\u001b[0;34m\u001b[0m\u001b[0m\n\u001b[1;32m    252\u001b[0m             \u001b[0;32melse\u001b[0m\u001b[0;34m:\u001b[0m\u001b[0;34m\u001b[0m\u001b[0;34m\u001b[0m\u001b[0m\n\u001b[0;32m--> 253\u001b[0;31m                 \u001b[0;32mreturn\u001b[0m \u001b[0mmethod\u001b[0m\u001b[0;34m.\u001b[0m\u001b[0mexecute\u001b[0m\u001b[0;34m(\u001b[0m\u001b[0;34m)\u001b[0m\u001b[0;34m\u001b[0m\u001b[0;34m\u001b[0m\u001b[0m\n\u001b[0m\u001b[1;32m    254\u001b[0m         \u001b[0;32mfinally\u001b[0m\u001b[0;34m:\u001b[0m\u001b[0;34m\u001b[0m\u001b[0;34m\u001b[0m\u001b[0m\n\u001b[1;32m    255\u001b[0m             \u001b[0mmethod\u001b[0m\u001b[0;34m.\u001b[0m\u001b[0msession\u001b[0m\u001b[0;34m.\u001b[0m\u001b[0mclose\u001b[0m\u001b[0;34m(\u001b[0m\u001b[0;34m)\u001b[0m\u001b[0;34m\u001b[0m\u001b[0;34m\u001b[0m\u001b[0m\n",
      "\u001b[0;32m~/anaconda3/lib/python3.9/site-packages/tweepy/binder.py\u001b[0m in \u001b[0;36mexecute\u001b[0;34m(self)\u001b[0m\n\u001b[1;32m    161\u001b[0m                                     \u001b[0;32mif\u001b[0m \u001b[0mself\u001b[0m\u001b[0;34m.\u001b[0m\u001b[0mwait_on_rate_limit_notify\u001b[0m\u001b[0;34m:\u001b[0m\u001b[0;34m\u001b[0m\u001b[0;34m\u001b[0m\u001b[0m\n\u001b[1;32m    162\u001b[0m                                         \u001b[0mlog\u001b[0m\u001b[0;34m.\u001b[0m\u001b[0mwarning\u001b[0m\u001b[0;34m(\u001b[0m\u001b[0;34m\"Rate limit reached. Sleeping for: %d\"\u001b[0m \u001b[0;34m%\u001b[0m \u001b[0msleep_time\u001b[0m\u001b[0;34m)\u001b[0m\u001b[0;34m\u001b[0m\u001b[0;34m\u001b[0m\u001b[0m\n\u001b[0;32m--> 163\u001b[0;31m                                     \u001b[0mtime\u001b[0m\u001b[0;34m.\u001b[0m\u001b[0msleep\u001b[0m\u001b[0;34m(\u001b[0m\u001b[0msleep_time\u001b[0m \u001b[0;34m+\u001b[0m \u001b[0;36m5\u001b[0m\u001b[0;34m)\u001b[0m  \u001b[0;31m# sleep for few extra sec\u001b[0m\u001b[0;34m\u001b[0m\u001b[0;34m\u001b[0m\u001b[0m\n\u001b[0m\u001b[1;32m    164\u001b[0m \u001b[0;34m\u001b[0m\u001b[0m\n\u001b[1;32m    165\u001b[0m                 \u001b[0;31m# if self.wait_on_rate_limit and self._reset_time is not None and \\\u001b[0m\u001b[0;34m\u001b[0m\u001b[0;34m\u001b[0m\u001b[0m\n",
      "\u001b[0;31mKeyboardInterrupt\u001b[0m: "
     ]
    }
   ],
   "source": [
    "import botometer\n",
    "\n",
    "rapidapi_key = \"b0dd966c59mshdf2db2daf9a121fp15f57djsn5bf9d54db4aa\"\n",
    "consumer_key, consumer_secret = \"uHktObbiyJpGoLUaENXdpUWyj\", \"DLoJ8VRhFUK4GQeo3XUP2LGaSN4D7a2mAZqSKlRQshr6N0Ru1r\"\n",
    "access_token, access_token_secret = \"4121890515-8wV0UlTyu9hFzJL9d8NBU6BY24STUtS7zFeAcel\", \"vfnDrkEUAHtVayGJDZxau18mPjG4CuyB2JW6sG0xeYFGs\"\n",
    "\n",
    "\n",
    "twitter_app_auth = {\n",
    "    'consumer_key': consumer_key, # 'sO59YfsV552iCsfLLpQTuS64T',\n",
    "    'consumer_secret': consumer_secret, #'YVGEDbcA3Mg3bTY9rwXpLAH5ATOzbmhRBZ92wuWaBfVMdiflzq',\n",
    "    'access_token': access_token, # 'AAAAAAAAAAAAAAAAAAAAAD%2FZWwEAAAAAJgG8hY2XJfmsYbbs%2Bp5BruRr8aM%3DtRxrtqs0eEhHQ9ZFE9U7tRlNnqm7oPUXeQEijSnj3RgxWgvN5l',\n",
    "    'access_token_secret': access_token_secret,\n",
    "  }\n",
    "bom = botometer.Botometer(wait_on_ratelimit=True,\n",
    "                          rapidapi_key=rapidapi_key,\n",
    "                          **twitter_app_auth)\n",
    "\n",
    "# Check a single account by screen name\n",
    "# result = bom.check_account('@clayadavis')\n",
    "\n",
    "# Check a single account by id\n",
    "# result = bom.check_account(1548959833)\n",
    "\n",
    "# Check a sequence of accounts\n",
    "# accounts = ['@clayadavis', '@onurvarol', '@jabawack']\n",
    "\n",
    "\n",
    "\n",
    "# df = pd.read_csv(\"snopes_botometer_406.csv\")\n",
    "\n",
    "accounts = df.acc_id.tolist()\n",
    "\n",
    "for i, account in tqdm(enumerate(accounts)):\n",
    "    if i > 5156:\n",
    "        print(i)\n",
    "        try:\n",
    "            result = bom.check_account(account)\n",
    "            df.loc[i, \"botometer\"] = str(result)\n",
    "        except Exception as e:\n",
    "            print(f\"Failed on account: {account}\")\n",
    "            print(e)\n",
    "            df.loc[i, \"botometer\"] = str({'code': 34, 'message': 'Sorry, that page does not exist.'})\n",
    "    \n",
    "    \n",
    "# for i, result in tqdm(enumerate(bom.check_accounts_in(accounts[407:]))):\n",
    "#     print(accounts[(407+i)])\n",
    "#     try:\n",
    "# #         snopes_acc.loc[i, \"botometer\"] = str(result[1])\n",
    "#         snopes_acc.loc[snopes_acc.acc_id.isin([result[0]]).index, \"botometer\"] = str(result[1])\n",
    "#     except Exception as e:\n",
    "#         print(e)\n",
    "#         snopes_acc.loc[snopes_acc.acc_id.isin([result[0]]).index, \"botometer\"] = None\n"
   ]
  },
  {
   "cell_type": "code",
   "execution_count": 23,
   "metadata": {},
   "outputs": [],
   "source": [
    "df.to_csv(\"snopes_5156.csv\", index=False)"
   ]
  },
  {
   "cell_type": "code",
   "execution_count": 22,
   "metadata": {},
   "outputs": [
    {
     "data": {
      "text/html": [
       "<div>\n",
       "<style scoped>\n",
       "    .dataframe tbody tr th:only-of-type {\n",
       "        vertical-align: middle;\n",
       "    }\n",
       "\n",
       "    .dataframe tbody tr th {\n",
       "        vertical-align: top;\n",
       "    }\n",
       "\n",
       "    .dataframe thead th {\n",
       "        text-align: right;\n",
       "    }\n",
       "</style>\n",
       "<table border=\"1\" class=\"dataframe\">\n",
       "  <thead>\n",
       "    <tr style=\"text-align: right;\">\n",
       "      <th></th>\n",
       "      <th>id</th>\n",
       "      <th>original_id</th>\n",
       "      <th>tweet_text</th>\n",
       "      <th>tweet_url</th>\n",
       "      <th>claim</th>\n",
       "      <th>rating</th>\n",
       "      <th>images</th>\n",
       "      <th>text_images</th>\n",
       "      <th>source</th>\n",
       "      <th>label</th>\n",
       "      <th>label_info</th>\n",
       "      <th>available</th>\n",
       "      <th>acc_id</th>\n",
       "      <th>botometer</th>\n",
       "    </tr>\n",
       "  </thead>\n",
       "  <tbody>\n",
       "    <tr>\n",
       "      <th>5130</th>\n",
       "      <td>934393119625351168</td>\n",
       "      <td>934388266798911488</td>\n",
       "      <td>@FoxNews @TheWorldsFrates no he hasnt even col...</td>\n",
       "      <td>https://twitter.com/POTUS/status/9343931196253...</td>\n",
       "      <td>A photograph shows the Army football team knee...</td>\n",
       "      <td>['https://www.snopes.com/tachyon/2018/03/ratin...</td>\n",
       "      <td>http://pbs.twimg.com/media/DPedKpBUMAAdfuK.jpg</td>\n",
       "      <td>This is the U . S . Army football team What's ...</td>\n",
       "      <td>https://www.snopes.com/fact-check/army-footbal...</td>\n",
       "      <td>false</td>\n",
       "      <td>NaN</td>\n",
       "      <td>missing</td>\n",
       "      <td>391494054</td>\n",
       "      <td>{'cap': {'english': 0.0, 'universal': 0.406739...</td>\n",
       "    </tr>\n",
       "    <tr>\n",
       "      <th>5131</th>\n",
       "      <td>934421469555195905</td>\n",
       "      <td>934407150851551233</td>\n",
       "      <td>It shouldn't be a surprise to learn that I onl...</td>\n",
       "      <td>https://twitter.com/POTUS/status/9344214695551...</td>\n",
       "      <td>Early in America's history, white Irish slaves...</td>\n",
       "      <td>['https://www.snopes.com/tachyon/2018/03/ratin...</td>\n",
       "      <td>http://pbs.twimg.com/media/DPetWp1XkAIZPf_.jpg</td>\n",
       "      <td>Freedom Daily 20 hrs Anyone EVER See This On M...</td>\n",
       "      <td>https://www.snopes.com/fact-check/irish-slaves...</td>\n",
       "      <td>mixture</td>\n",
       "      <td>NaN</td>\n",
       "      <td>auth</td>\n",
       "      <td>510455186</td>\n",
       "      <td>{'cap': {'english': 0.5778862084370772, 'unive...</td>\n",
       "    </tr>\n",
       "    <tr>\n",
       "      <th>5132</th>\n",
       "      <td>934546448581980160</td>\n",
       "      <td>934437421105762304</td>\n",
       "      <td>Is this the same guy who said solar power woul...</td>\n",
       "      <td>https://twitter.com/POTUS/status/9345464485819...</td>\n",
       "      <td>Rep. Joe Barton said \"wind is a finite resourc...</td>\n",
       "      <td>['https://www.snopes.com/tachyon/2018/03/ratin...</td>\n",
       "      <td>http://pbs.twimg.com/media/DPfJ4Z3XkAA9YgH.jpg</td>\n",
       "      <td>, g + d is a finite resource , and harnessing ...</td>\n",
       "      <td>https://www.snopes.com/fact-check/barton-wind-...</td>\n",
       "      <td>mixture</td>\n",
       "      <td>NaN</td>\n",
       "      <td>ok</td>\n",
       "      <td>1216789842</td>\n",
       "      <td>{'cap': {'english': 0.7892294694438972, 'unive...</td>\n",
       "    </tr>\n",
       "    <tr>\n",
       "      <th>5133</th>\n",
       "      <td>934469257802350592</td>\n",
       "      <td>934467754756853761</td>\n",
       "      <td>@krassenstein He Sure didn't lie about this!!!...</td>\n",
       "      <td>https://twitter.com/POTUS/status/9344692578023...</td>\n",
       "      <td>Donald Trump said in 1998 that he would one da...</td>\n",
       "      <td>['https://www.snopes.com/tachyon/2018/03/ratin...</td>\n",
       "      <td>http://pbs.twimg.com/media/DPfldVYV4AUYVBv.jpg</td>\n",
       "      <td>' ' If I were to run , I'd run as a Republican...</td>\n",
       "      <td>https://www.snopes.com/fact-check/1998-trump-p...</td>\n",
       "      <td>false</td>\n",
       "      <td>NaN</td>\n",
       "      <td>ok</td>\n",
       "      <td>890540622431621120</td>\n",
       "      <td>{'cap': {'english': 0.4197222421546159, 'unive...</td>\n",
       "    </tr>\n",
       "    <tr>\n",
       "      <th>5134</th>\n",
       "      <td>991432181812785158</td>\n",
       "      <td>934530449631617024</td>\n",
       "      <td>Remember The missing/disappearance of MALAYSIA...</td>\n",
       "      <td>https://twitter.com/POTUS/status/9914321818127...</td>\n",
       "      <td>Malaysia Airlines Flight 370 was made to disap...</td>\n",
       "      <td>['https://www.snopes.com/tachyon/2018/03/ratin...</td>\n",
       "      <td>http://pbs.twimg.com/media/DPgeTXYUIAEwyVi.jpg</td>\n",
       "      <td>Rothschild inherits Patent after 4 co-owners d...</td>\n",
       "      <td>https://www.snopes.com/fact-check/mh370-patent...</td>\n",
       "      <td>false</td>\n",
       "      <td>NaN</td>\n",
       "      <td>missing</td>\n",
       "      <td>87274760</td>\n",
       "      <td>{'cap': {'english': 0.5288664776112156, 'unive...</td>\n",
       "    </tr>\n",
       "    <tr>\n",
       "      <th>5135</th>\n",
       "      <td>934535278320082944</td>\n",
       "      <td>934530650140393472</td>\n",
       "      <td>The ONE TIME @realDonaldTrump did not lie.  He...</td>\n",
       "      <td>https://twitter.com/POTUS/status/9345352783200...</td>\n",
       "      <td>Donald Trump said in 1998 that he would one da...</td>\n",
       "      <td>['https://www.snopes.com/tachyon/2018/03/ratin...</td>\n",
       "      <td>http://pbs.twimg.com/media/DPgeqgUUQAABL8D.jpg</td>\n",
       "      <td>\" If I were to run , I'd run as a Republican ....</td>\n",
       "      <td>https://www.snopes.com/fact-check/1998-trump-p...</td>\n",
       "      <td>false</td>\n",
       "      <td>NaN</td>\n",
       "      <td>missing</td>\n",
       "      <td>3887013074</td>\n",
       "      <td>{'cap': {'english': 0.7384783166429812, 'unive...</td>\n",
       "    </tr>\n",
       "    <tr>\n",
       "      <th>5136</th>\n",
       "      <td>934586104275185664</td>\n",
       "      <td>934531130853801984</td>\n",
       "      <td>@MooreSenate 🚨Ex-Apprentice Trump Accuser Was ...</td>\n",
       "      <td>https://twitter.com/POTUS/status/9345861042751...</td>\n",
       "      <td>Summer Zervos was paid $500,000 to fabricate h...</td>\n",
       "      <td>['https://www.snopes.com/tachyon/2018/03/ratin...</td>\n",
       "      <td>http://pbs.twimg.com/media/DPgefceUQAA10wo.jpg</td>\n",
       "      <td>OHH , HERE'S AN EMAIL FROM GLORIA ALLRED , i d...</td>\n",
       "      <td>https://www.snopes.com/fact-check/summer-zervo...</td>\n",
       "      <td>unproven</td>\n",
       "      <td>NaN</td>\n",
       "      <td>missing</td>\n",
       "      <td>738721186826178560</td>\n",
       "      <td>{'code': 34, 'message': 'Sorry, that page does...</td>\n",
       "    </tr>\n",
       "    <tr>\n",
       "      <th>5137</th>\n",
       "      <td>934554718726012928</td>\n",
       "      <td>934538628994347010</td>\n",
       "      <td>Seriously⁉️ Had NO idea. Share if you didn’t e...</td>\n",
       "      <td>https://twitter.com/POTUS/status/9345547187260...</td>\n",
       "      <td>The word news is an acronym formed from the wo...</td>\n",
       "      <td>['https://www.snopes.com/tachyon/2018/03/ratin...</td>\n",
       "      <td>http://pbs.twimg.com/media/DPgl7dRWAAAKFey.jpg</td>\n",
       "      <td>It took me 14 years to figure out NEWS stands ...</td>\n",
       "      <td>https://www.snopes.com/fact-check/news-etymology/</td>\n",
       "      <td>false</td>\n",
       "      <td>NaN</td>\n",
       "      <td>ok</td>\n",
       "      <td>219371427</td>\n",
       "      <td>{'cap': {'english': 0.7892294694438972, 'unive...</td>\n",
       "    </tr>\n",
       "    <tr>\n",
       "      <th>5138</th>\n",
       "      <td>934598445230370816</td>\n",
       "      <td>934598118347296768</td>\n",
       "      <td>@josephclancy47 @Amoney666 I know I'm probably...</td>\n",
       "      <td>https://twitter.com/POTUS/status/9345984452303...</td>\n",
       "      <td>Sec. of State Hillary Clinton's approval of a ...</td>\n",
       "      <td>['https://www.snopes.com/tachyon/2018/03/ratin...</td>\n",
       "      <td>http://pbs.twimg.com/media/DPhb8jnXkAQ-m3j.jpg</td>\n",
       "      <td>Uranium One The Lie : Clinton sold US uranium ...</td>\n",
       "      <td>https://www.snopes.com/fact-check/hillary-clin...</td>\n",
       "      <td>false</td>\n",
       "      <td>NaN</td>\n",
       "      <td>ok</td>\n",
       "      <td>3323302539</td>\n",
       "      <td>{'cap': {'english': 0.3912159239072283, 'unive...</td>\n",
       "    </tr>\n",
       "    <tr>\n",
       "      <th>5139</th>\n",
       "      <td>934622222303428608</td>\n",
       "      <td>934609370440196096</td>\n",
       "      <td>United kingdom pulls the Plug on FOX FAKE NEWs...</td>\n",
       "      <td>https://twitter.com/POTUS/status/9346222223034...</td>\n",
       "      <td>The Fox News Channel has been banned in Canada...</td>\n",
       "      <td>['https://www.snopes.com/tachyon/2018/03/ratin...</td>\n",
       "      <td>['http://pbs.twimg.com/media/DPhmQrkVwAASy7P.j...</td>\n",
       "      <td>['FOX NEWS THE FAKE NEWS CONSERVATIVES TRUST M...</td>\n",
       "      <td>https://www.snopes.com/fact-check/canadian-fox/</td>\n",
       "      <td>false</td>\n",
       "      <td>NaN</td>\n",
       "      <td>ok</td>\n",
       "      <td>2979749464</td>\n",
       "      <td>{'cap': {'english': 0.621687023966582, 'univer...</td>\n",
       "    </tr>\n",
       "    <tr>\n",
       "      <th>5140</th>\n",
       "      <td>934658403422670848</td>\n",
       "      <td>934639907032719361</td>\n",
       "      <td>I gotta believe few people who see this would ...</td>\n",
       "      <td>https://twitter.com/POTUS/status/9346584034226...</td>\n",
       "      <td>Photographs show Jimmy John Liautaud, the owne...</td>\n",
       "      <td>['https://www.snopes.com/tachyon/2018/03/ratin...</td>\n",
       "      <td>http://pbs.twimg.com/media/DPiCCZfVoAAJMND.jpg</td>\n",
       "      <td>0 251 01,147 0 1,029 E</td>\n",
       "      <td>https://www.snopes.com/fact-check/jimmy-john-l...</td>\n",
       "      <td>true</td>\n",
       "      <td>NaN</td>\n",
       "      <td>auth</td>\n",
       "      <td>2889924959</td>\n",
       "      <td>{'cap': {'english': 0.5539725719744064, 'unive...</td>\n",
       "    </tr>\n",
       "    <tr>\n",
       "      <th>5141</th>\n",
       "      <td>934896580007792640</td>\n",
       "      <td>934787090428104705</td>\n",
       "      <td>Perfect. https://t.co/kYCJixjWAH</td>\n",
       "      <td>https://twitter.com/POTUS/status/9348965800077...</td>\n",
       "      <td>A Noah's Ark exhibit at a Christian theme park...</td>\n",
       "      <td>['https://www.snopes.com/tachyon/2018/03/ratin...</td>\n",
       "      <td>http://pbs.twimg.com/media/DPkH5oVVQAE5DAJ.jpg</td>\n",
       "      <td>Noah's Ark Theme Park Destroyed In A Flood ON ...</td>\n",
       "      <td>https://www.snopes.com/fact-check/noahs-ark-pa...</td>\n",
       "      <td>false</td>\n",
       "      <td>NaN</td>\n",
       "      <td>auth</td>\n",
       "      <td>2874718858</td>\n",
       "      <td>{'cap': {'english': 0.0, 'universal': 0.233324...</td>\n",
       "    </tr>\n",
       "    <tr>\n",
       "      <th>5142</th>\n",
       "      <td>934821813896359937</td>\n",
       "      <td>934795723593228288</td>\n",
       "      <td>@TranslateRealDT And you know your little weak...</td>\n",
       "      <td>https://twitter.com/POTUS/status/9348218138963...</td>\n",
       "      <td>Donald Trump said in 1998 that he would one da...</td>\n",
       "      <td>['https://www.snopes.com/tachyon/2018/03/ratin...</td>\n",
       "      <td>http://pbs.twimg.com/media/DPkPvz2U8AUYy8C.jpg</td>\n",
       "      <td>\" If I were to run , I'd run as a Republican ....</td>\n",
       "      <td>https://www.snopes.com/fact-check/1998-trump-p...</td>\n",
       "      <td>false</td>\n",
       "      <td>NaN</td>\n",
       "      <td>ok</td>\n",
       "      <td>832675998030192640</td>\n",
       "      <td>{'code': 34, 'message': 'Sorry, that page does...</td>\n",
       "    </tr>\n",
       "    <tr>\n",
       "      <th>5143</th>\n",
       "      <td>935158809789718529</td>\n",
       "      <td>934797232611655680</td>\n",
       "      <td>@A2Mamman @politico @POLITICOMag More than the...</td>\n",
       "      <td>https://twitter.com/POTUS/status/9351588097897...</td>\n",
       "      <td>Donald Trump won 3,084 of America's 3,141 coun...</td>\n",
       "      <td>['https://www.snopes.com/tachyon/2018/03/ratin...</td>\n",
       "      <td>http://pbs.twimg.com/media/DPkRH7WV4AEvaY0.jpg</td>\n",
       "      <td>NaN</td>\n",
       "      <td>https://www.snopes.com/fact-check/trump-clinto...</td>\n",
       "      <td>false</td>\n",
       "      <td>NaN</td>\n",
       "      <td>auth</td>\n",
       "      <td>282783298</td>\n",
       "      <td>{'cap': {'english': 0.22631829961109876, 'univ...</td>\n",
       "    </tr>\n",
       "    <tr>\n",
       "      <th>5144</th>\n",
       "      <td>934883597009543168</td>\n",
       "      <td>934802616705568770</td>\n",
       "      <td>@soledadobrien And look who we have to thank f...</td>\n",
       "      <td>https://twitter.com/POTUS/status/9348835970095...</td>\n",
       "      <td>A circulating list of nine historical \"facts\" ...</td>\n",
       "      <td>['https://www.snopes.com/tachyon/2018/03/ratin...</td>\n",
       "      <td>http://pbs.twimg.com/media/DPkV7iIVAAATx7s.jpg</td>\n",
       "      <td>THE FIRST SLAVE OWNER IN AMERICA WAS NOT ONLY ...</td>\n",
       "      <td>https://www.snopes.com/fact-check/facts-about-...</td>\n",
       "      <td>mixture</td>\n",
       "      <td>NaN</td>\n",
       "      <td>ok</td>\n",
       "      <td>2596091898</td>\n",
       "      <td>{'cap': {'english': 0.3342309004634953, 'unive...</td>\n",
       "    </tr>\n",
       "    <tr>\n",
       "      <th>5145</th>\n",
       "      <td>934863122732425216</td>\n",
       "      <td>934808282102935552</td>\n",
       "      <td>@RepTedYoho   Did you really??? https://t.co/9...</td>\n",
       "      <td>https://twitter.com/POTUS/status/9348631227324...</td>\n",
       "      <td>Congressman Ted Yoho said that African-America...</td>\n",
       "      <td>['https://www.snopes.com/tachyon/2018/03/ratin...</td>\n",
       "      <td>http://pbs.twimg.com/media/DPkbKpRX4AAk-hf.jpg</td>\n",
       "      <td>THIS GUY Is Republican Florida Representitive ...</td>\n",
       "      <td>https://www.snopes.com/fact-check/ted-yoho-votes/</td>\n",
       "      <td>false</td>\n",
       "      <td>NaN</td>\n",
       "      <td>auth</td>\n",
       "      <td>824059809951531008</td>\n",
       "      <td>{'code': 34, 'message': 'Sorry, that page does...</td>\n",
       "    </tr>\n",
       "    <tr>\n",
       "      <th>5146</th>\n",
       "      <td>934818011541901312</td>\n",
       "      <td>934815395101495296</td>\n",
       "      <td>He never grew up https://t.co/0vyad85NdC</td>\n",
       "      <td>https://twitter.com/POTUS/status/9348180115419...</td>\n",
       "      <td>A photograph shows President Trump with balloo...</td>\n",
       "      <td>['https://www.snopes.com/tachyon/2018/03/ratin...</td>\n",
       "      <td>http://pbs.twimg.com/media/DPkhpXcXUAAcwy1.jpg</td>\n",
       "      <td>NaN</td>\n",
       "      <td>https://www.snopes.com/fact-check/balloon-brea...</td>\n",
       "      <td>false</td>\n",
       "      <td>NaN</td>\n",
       "      <td>ok</td>\n",
       "      <td>21833728</td>\n",
       "      <td>{'cap': {'english': 0.7759887465100499, 'unive...</td>\n",
       "    </tr>\n",
       "    <tr>\n",
       "      <th>5147</th>\n",
       "      <td>934863022421549056</td>\n",
       "      <td>934822391997284352</td>\n",
       "      <td>@RepTedYoho  This guy, one of many Republicans...</td>\n",
       "      <td>https://twitter.com/POTUS/status/9348630224215...</td>\n",
       "      <td>Congressman Ted Yoho said that African-America...</td>\n",
       "      <td>['https://www.snopes.com/tachyon/2018/03/ratin...</td>\n",
       "      <td>http://pbs.twimg.com/media/DPkncqSVAAAqE22.jpg</td>\n",
       "      <td>THIS GUY Is Republican Florida Representitive ...</td>\n",
       "      <td>https://www.snopes.com/fact-check/ted-yoho-votes/</td>\n",
       "      <td>false</td>\n",
       "      <td>NaN</td>\n",
       "      <td>auth</td>\n",
       "      <td>236224860</td>\n",
       "      <td>{'cap': {'english': 0.8021481695167405, 'unive...</td>\n",
       "    </tr>\n",
       "    <tr>\n",
       "      <th>5148</th>\n",
       "      <td>943525365443543040</td>\n",
       "      <td>934844146216468480</td>\n",
       "      <td>@washingtonpost @nytimes @realDonaldTrump @Ste...</td>\n",
       "      <td>https://twitter.com/POTUS/status/9435253654435...</td>\n",
       "      <td>Under the 2017 tax overhaul legislation curren...</td>\n",
       "      <td>['https://www.snopes.com/tachyon/2018/03/ratin...</td>\n",
       "      <td>http://pbs.twimg.com/media/DPk7nCeV4AA1a1R.jpg</td>\n",
       "      <td>Jim Anthony As someone who has been helping pr...</td>\n",
       "      <td>https://www.snopes.com/fact-check/tax-bill-sma...</td>\n",
       "      <td>false</td>\n",
       "      <td>NaN</td>\n",
       "      <td>auth</td>\n",
       "      <td>801369748206448640</td>\n",
       "      <td>{'cap': {'english': 0.7384783166429812, 'unive...</td>\n",
       "    </tr>\n",
       "    <tr>\n",
       "      <th>5149</th>\n",
       "      <td>934857094901190656</td>\n",
       "      <td>934852631117352961</td>\n",
       "      <td>Ted Yoho https://t.co/nkhDbVT8eV</td>\n",
       "      <td>https://twitter.com/POTUS/status/9348570949011...</td>\n",
       "      <td>Congressman Ted Yoho said that African-America...</td>\n",
       "      <td>['https://www.snopes.com/tachyon/2018/03/ratin...</td>\n",
       "      <td>http://pbs.twimg.com/media/DPlDg0WXkAIPLFM.jpg</td>\n",
       "      <td>THIS GUY Is Republican Florida Representitive ...</td>\n",
       "      <td>https://www.snopes.com/fact-check/ted-yoho-votes/</td>\n",
       "      <td>false</td>\n",
       "      <td>NaN</td>\n",
       "      <td>ok</td>\n",
       "      <td>21833728</td>\n",
       "      <td>{'cap': {'english': 0.7759887465100499, 'unive...</td>\n",
       "    </tr>\n",
       "    <tr>\n",
       "      <th>5150</th>\n",
       "      <td>934918866232365056</td>\n",
       "      <td>934916058338791424</td>\n",
       "      <td>Is he a sooth-sayer or simply Satan? https://t...</td>\n",
       "      <td>https://twitter.com/POTUS/status/9349188662323...</td>\n",
       "      <td>Donald Trump said in 1998 that he would one da...</td>\n",
       "      <td>['https://www.snopes.com/tachyon/2018/03/ratin...</td>\n",
       "      <td>http://pbs.twimg.com/media/DPl9MW-WkAAZUXJ.jpg</td>\n",
       "      <td>\" If I were to run , I'd run as a Republican ....</td>\n",
       "      <td>https://www.snopes.com/fact-check/1998-trump-p...</td>\n",
       "      <td>false</td>\n",
       "      <td>NaN</td>\n",
       "      <td>ok</td>\n",
       "      <td>830905941855989760</td>\n",
       "      <td>{'code': 34, 'message': 'Sorry, that page does...</td>\n",
       "    </tr>\n",
       "    <tr>\n",
       "      <th>5151</th>\n",
       "      <td>935137416062652417</td>\n",
       "      <td>935074629743468545</td>\n",
       "      <td>Genuine or not it seems so true https://t.co/k...</td>\n",
       "      <td>https://twitter.com/POTUS/status/9351374160626...</td>\n",
       "      <td>Donald Trump said in 1998 that he would one da...</td>\n",
       "      <td>['https://www.snopes.com/tachyon/2018/03/ratin...</td>\n",
       "      <td>http://pbs.twimg.com/media/DPoNa2vWsAAUnQX.jpg</td>\n",
       "      <td>\" If I were to run , I'd run as a Republican ....</td>\n",
       "      <td>https://www.snopes.com/fact-check/1998-trump-p...</td>\n",
       "      <td>false</td>\n",
       "      <td>NaN</td>\n",
       "      <td>ok</td>\n",
       "      <td>15263098</td>\n",
       "      <td>{'cap': {'english': 0.5027122940873614, 'unive...</td>\n",
       "    </tr>\n",
       "    <tr>\n",
       "      <th>5152</th>\n",
       "      <td>936776463021256704</td>\n",
       "      <td>935104029159542784</td>\n",
       "      <td>Slave trade in this time and age people are be...</td>\n",
       "      <td>https://twitter.com/POTUS/status/9367764630212...</td>\n",
       "      <td>A November 2017 Facebook post includes photogr...</td>\n",
       "      <td>['https://www.snopes.com/tachyon/2018/03/ratin...</td>\n",
       "      <td>['http://pbs.twimg.com/media/DPooHI5WAAA3Ov8.j...</td>\n",
       "      <td>['', '', '', '']</td>\n",
       "      <td>https://www.snopes.com/fact-check/libya-slavery/</td>\n",
       "      <td>miscaptioned</td>\n",
       "      <td>NaN</td>\n",
       "      <td>ok</td>\n",
       "      <td>830683587452219392</td>\n",
       "      <td>{'code': 34, 'message': 'Sorry, that page does...</td>\n",
       "    </tr>\n",
       "    <tr>\n",
       "      <th>5153</th>\n",
       "      <td>935277312185995264</td>\n",
       "      <td>935112741659885568</td>\n",
       "      <td>@mcannonbrookes so what do we think Fukushima ...</td>\n",
       "      <td>https://twitter.com/POTUS/status/9352773121859...</td>\n",
       "      <td>Image shows radioactive seepage spreading acro...</td>\n",
       "      <td>['https://www.snopes.com/tachyon/2018/03/ratin...</td>\n",
       "      <td>http://pbs.twimg.com/media/DPov-2SUMAAB1gl.jpg</td>\n",
       "      <td>NaN</td>\n",
       "      <td>https://www.snopes.com/fact-check/fukushima-em...</td>\n",
       "      <td>false</td>\n",
       "      <td>NaN</td>\n",
       "      <td>missing</td>\n",
       "      <td>756544116</td>\n",
       "      <td>{'cap': {'english': 0.7384783166429812, 'unive...</td>\n",
       "    </tr>\n",
       "    <tr>\n",
       "      <th>5154</th>\n",
       "      <td>935242006917509120</td>\n",
       "      <td>935140558825287680</td>\n",
       "      <td>This is just one of the many examples where Tr...</td>\n",
       "      <td>https://twitter.com/POTUS/status/9352420069175...</td>\n",
       "      <td>Donald Trump violated Palm Beach ordinances by...</td>\n",
       "      <td>['https://www.snopes.com/tachyon/2018/03/ratin...</td>\n",
       "      <td>http://pbs.twimg.com/media/DPpJYHaVoAAN5gi.jpg</td>\n",
       "      <td>' S When Trump purchased and rebuilt Mar-A-Lag...</td>\n",
       "      <td>https://www.snopes.com/fact-check/trump-marala...</td>\n",
       "      <td>mostly-true-new</td>\n",
       "      <td>NaN</td>\n",
       "      <td>ok</td>\n",
       "      <td>3250141399</td>\n",
       "      <td>{'cap': {'english': 0.8339181685112829, 'unive...</td>\n",
       "    </tr>\n",
       "    <tr>\n",
       "      <th>5155</th>\n",
       "      <td>935174055602274305</td>\n",
       "      <td>935159565234171904</td>\n",
       "      <td>@realDonaldTrump Your base is so stupid they e...</td>\n",
       "      <td>https://twitter.com/POTUS/status/9351740556022...</td>\n",
       "      <td>Donald Trump said in 1998 that he would one da...</td>\n",
       "      <td>['https://www.snopes.com/tachyon/2018/03/ratin...</td>\n",
       "      <td>http://pbs.twimg.com/media/DPpaqmWVwAEnj-C.jpg</td>\n",
       "      <td>\" If I were to run , I'd run as a Republican ....</td>\n",
       "      <td>https://www.snopes.com/fact-check/1998-trump-p...</td>\n",
       "      <td>false</td>\n",
       "      <td>NaN</td>\n",
       "      <td>ok</td>\n",
       "      <td>95027058</td>\n",
       "      <td>{'cap': {'english': 0.36264564124632276, 'univ...</td>\n",
       "    </tr>\n",
       "    <tr>\n",
       "      <th>5156</th>\n",
       "      <td>935186087521157121</td>\n",
       "      <td>935166263164309504</td>\n",
       "      <td>@BadHombreNPS @SecretaryZinke He is a vile hum...</td>\n",
       "      <td>https://twitter.com/POTUS/status/9351860875211...</td>\n",
       "      <td>A photograph shows Ryan Zinke posing with a de...</td>\n",
       "      <td>['https://www.snopes.com/tachyon/2018/03/ratin...</td>\n",
       "      <td>http://pbs.twimg.com/media/DPpgwHDXkAIJAKE.jpg</td>\n",
       "      <td>NaN</td>\n",
       "      <td>https://www.snopes.com/fact-check/ryan-zinke-d...</td>\n",
       "      <td>false</td>\n",
       "      <td>NaN</td>\n",
       "      <td>ok</td>\n",
       "      <td>490566701</td>\n",
       "      <td>{'cap': {'english': 0.7611878625273879, 'unive...</td>\n",
       "    </tr>\n",
       "    <tr>\n",
       "      <th>5157</th>\n",
       "      <td>935718849508511744</td>\n",
       "      <td>935288615508123648</td>\n",
       "      <td>As promised, the Nativity Scene returned to Th...</td>\n",
       "      <td>https://twitter.com/POTUS/status/9357188495085...</td>\n",
       "      <td>The White House decided not to display a Chris...</td>\n",
       "      <td>['https://www.snopes.com/tachyon/2018/03/ratin...</td>\n",
       "      <td>http://pbs.twimg.com/media/DPrQBv6UQAAxV__.jpg</td>\n",
       "      <td>o Nikki Schwab D Mail online</td>\n",
       "      <td>https://www.snopes.com/fact-check/no-nativity-...</td>\n",
       "      <td>false</td>\n",
       "      <td>NaN</td>\n",
       "      <td>ok</td>\n",
       "      <td>752493806</td>\n",
       "      <td>{'code': 34, 'message': 'Sorry, that page does...</td>\n",
       "    </tr>\n",
       "    <tr>\n",
       "      <th>5158</th>\n",
       "      <td>935426890919235585</td>\n",
       "      <td>935323693575786496</td>\n",
       "      <td>Can you guess what I'm getting all of my frien...</td>\n",
       "      <td>https://twitter.com/POTUS/status/9354268909192...</td>\n",
       "      <td>In August 2017, a \"leading toy company\" produc...</td>\n",
       "      <td>['https://www.snopes.com/tachyon/2018/03/ratin...</td>\n",
       "      <td>http://pbs.twimg.com/media/DPrv71wUEAAFiFI.jpg</td>\n",
       "      <td>NaN</td>\n",
       "      <td>https://www.snopes.com/fact-check/my-first-vap...</td>\n",
       "      <td>false</td>\n",
       "      <td>NaN</td>\n",
       "      <td>ok</td>\n",
       "      <td>18511142</td>\n",
       "      <td>{'code': 34, 'message': 'Sorry, that page does...</td>\n",
       "    </tr>\n",
       "    <tr>\n",
       "      <th>5159</th>\n",
       "      <td>935455444864327680</td>\n",
       "      <td>935337544677511169</td>\n",
       "      <td>. @SenWarren has no shame. Just like she did a...</td>\n",
       "      <td>https://twitter.com/POTUS/status/9354554448643...</td>\n",
       "      <td>Elizabeth Warren lives in a multi-million-doll...</td>\n",
       "      <td>['https://www.snopes.com/tachyon/2018/03/ratin...</td>\n",
       "      <td>http://pbs.twimg.com/media/DPr8h-FUEAALhnm.jpg</td>\n",
       "      <td>SENATOR WA REN You might have heard that Donal...</td>\n",
       "      <td>https://www.snopes.com/fact-check/elizabeth-wa...</td>\n",
       "      <td>mixture</td>\n",
       "      <td>NaN</td>\n",
       "      <td>ok</td>\n",
       "      <td>48459553</td>\n",
       "      <td>{'code': 34, 'message': 'Sorry, that page does...</td>\n",
       "    </tr>\n",
       "    <tr>\n",
       "      <th>5160</th>\n",
       "      <td>935391888319840256</td>\n",
       "      <td>935357785897947136</td>\n",
       "      <td>check mate christians. LOL tide goes in tide g...</td>\n",
       "      <td>https://twitter.com/POTUS/status/9353918883198...</td>\n",
       "      <td>A Noah's Ark exhibit at a Christian theme park...</td>\n",
       "      <td>['https://www.snopes.com/tachyon/2018/03/ratin...</td>\n",
       "      <td>http://pbs.twimg.com/media/DPsO18FWkAANnGS.jpg</td>\n",
       "      <td>Noah's Ark Theme Park Destroyed In A Flood ON ...</td>\n",
       "      <td>https://www.snopes.com/fact-check/noahs-ark-pa...</td>\n",
       "      <td>false</td>\n",
       "      <td>NaN</td>\n",
       "      <td>missing</td>\n",
       "      <td>715718165397942272</td>\n",
       "      <td>{'code': 34, 'message': 'Sorry, that page does...</td>\n",
       "    </tr>\n",
       "    <tr>\n",
       "      <th>5161</th>\n",
       "      <td>935449286548099073</td>\n",
       "      <td>935370638784479232</td>\n",
       "      <td>@Khanoisseur Trump is a demigod for the magas ...</td>\n",
       "      <td>https://twitter.com/POTUS/status/9354492865480...</td>\n",
       "      <td>President Trump disparaged Navajos on Twitter ...</td>\n",
       "      <td>['https://www.snopes.com/tachyon/2018/03/ratin...</td>\n",
       "      <td>http://pbs.twimg.com/media/DPsaoB7UIAEYLzM.jpg</td>\n",
       "      <td>A Donald Trump j @user Follow Tribal Sovereign...</td>\n",
       "      <td>https://www.snopes.com/fact-check/trump-navajo...</td>\n",
       "      <td>false</td>\n",
       "      <td>NaN</td>\n",
       "      <td>ok</td>\n",
       "      <td>817458036834873344</td>\n",
       "      <td>{'code': 34, 'message': 'Sorry, that page does...</td>\n",
       "    </tr>\n",
       "    <tr>\n",
       "      <th>5162</th>\n",
       "      <td>935470399894286337</td>\n",
       "      <td>935459943108538370</td>\n",
       "      <td>Science 😎 https://t.co/gqMAbnDNeg</td>\n",
       "      <td>https://twitter.com/POTUS/status/9354703998942...</td>\n",
       "      <td>The gender of a bell pepper can be identified ...</td>\n",
       "      <td>['https://www.snopes.com/tachyon/2018/03/ratin...</td>\n",
       "      <td>http://pbs.twimg.com/media/DPtr2hjX4AAiFu7.jpg</td>\n",
       "      <td>FOOD FACT : Flip the bell peppers over to chec...</td>\n",
       "      <td>https://www.snopes.com/fact-check/gender-pepper/</td>\n",
       "      <td>false</td>\n",
       "      <td>NaN</td>\n",
       "      <td>ok</td>\n",
       "      <td>909690730100264960</td>\n",
       "      <td>{'code': 34, 'message': 'Sorry, that page does...</td>\n",
       "    </tr>\n",
       "    <tr>\n",
       "      <th>5163</th>\n",
       "      <td>935522465530355714</td>\n",
       "      <td>935515699761549313</td>\n",
       "      <td>If Native Americans are to be offended at all,...</td>\n",
       "      <td>https://twitter.com/POTUS/status/9355224655303...</td>\n",
       "      <td>Elizabeth Warren lives in a multi-million-doll...</td>\n",
       "      <td>['https://www.snopes.com/tachyon/2018/03/ratin...</td>\n",
       "      <td>http://pbs.twimg.com/media/DPuekIEU8AAqy-7.jpg</td>\n",
       "      <td>Falsified her ancestry for $ 300,000 lecturers...</td>\n",
       "      <td>https://www.snopes.com/fact-check/elizabeth-wa...</td>\n",
       "      <td>mixture</td>\n",
       "      <td>NaN</td>\n",
       "      <td>missing</td>\n",
       "      <td>1392951560</td>\n",
       "      <td>{'code': 34, 'message': 'Sorry, that page does...</td>\n",
       "    </tr>\n",
       "  </tbody>\n",
       "</table>\n",
       "</div>"
      ],
      "text/plain": [
       "                      id         original_id  \\\n",
       "5130  934393119625351168  934388266798911488   \n",
       "5131  934421469555195905  934407150851551233   \n",
       "5132  934546448581980160  934437421105762304   \n",
       "5133  934469257802350592  934467754756853761   \n",
       "5134  991432181812785158  934530449631617024   \n",
       "5135  934535278320082944  934530650140393472   \n",
       "5136  934586104275185664  934531130853801984   \n",
       "5137  934554718726012928  934538628994347010   \n",
       "5138  934598445230370816  934598118347296768   \n",
       "5139  934622222303428608  934609370440196096   \n",
       "5140  934658403422670848  934639907032719361   \n",
       "5141  934896580007792640  934787090428104705   \n",
       "5142  934821813896359937  934795723593228288   \n",
       "5143  935158809789718529  934797232611655680   \n",
       "5144  934883597009543168  934802616705568770   \n",
       "5145  934863122732425216  934808282102935552   \n",
       "5146  934818011541901312  934815395101495296   \n",
       "5147  934863022421549056  934822391997284352   \n",
       "5148  943525365443543040  934844146216468480   \n",
       "5149  934857094901190656  934852631117352961   \n",
       "5150  934918866232365056  934916058338791424   \n",
       "5151  935137416062652417  935074629743468545   \n",
       "5152  936776463021256704  935104029159542784   \n",
       "5153  935277312185995264  935112741659885568   \n",
       "5154  935242006917509120  935140558825287680   \n",
       "5155  935174055602274305  935159565234171904   \n",
       "5156  935186087521157121  935166263164309504   \n",
       "5157  935718849508511744  935288615508123648   \n",
       "5158  935426890919235585  935323693575786496   \n",
       "5159  935455444864327680  935337544677511169   \n",
       "5160  935391888319840256  935357785897947136   \n",
       "5161  935449286548099073  935370638784479232   \n",
       "5162  935470399894286337  935459943108538370   \n",
       "5163  935522465530355714  935515699761549313   \n",
       "\n",
       "                                             tweet_text  \\\n",
       "5130  @FoxNews @TheWorldsFrates no he hasnt even col...   \n",
       "5131  It shouldn't be a surprise to learn that I onl...   \n",
       "5132  Is this the same guy who said solar power woul...   \n",
       "5133  @krassenstein He Sure didn't lie about this!!!...   \n",
       "5134  Remember The missing/disappearance of MALAYSIA...   \n",
       "5135  The ONE TIME @realDonaldTrump did not lie.  He...   \n",
       "5136  @MooreSenate 🚨Ex-Apprentice Trump Accuser Was ...   \n",
       "5137  Seriously⁉️ Had NO idea. Share if you didn’t e...   \n",
       "5138  @josephclancy47 @Amoney666 I know I'm probably...   \n",
       "5139  United kingdom pulls the Plug on FOX FAKE NEWs...   \n",
       "5140  I gotta believe few people who see this would ...   \n",
       "5141                   Perfect. https://t.co/kYCJixjWAH   \n",
       "5142  @TranslateRealDT And you know your little weak...   \n",
       "5143  @A2Mamman @politico @POLITICOMag More than the...   \n",
       "5144  @soledadobrien And look who we have to thank f...   \n",
       "5145  @RepTedYoho   Did you really??? https://t.co/9...   \n",
       "5146           He never grew up https://t.co/0vyad85NdC   \n",
       "5147  @RepTedYoho  This guy, one of many Republicans...   \n",
       "5148  @washingtonpost @nytimes @realDonaldTrump @Ste...   \n",
       "5149                   Ted Yoho https://t.co/nkhDbVT8eV   \n",
       "5150  Is he a sooth-sayer or simply Satan? https://t...   \n",
       "5151  Genuine or not it seems so true https://t.co/k...   \n",
       "5152  Slave trade in this time and age people are be...   \n",
       "5153  @mcannonbrookes so what do we think Fukushima ...   \n",
       "5154  This is just one of the many examples where Tr...   \n",
       "5155  @realDonaldTrump Your base is so stupid they e...   \n",
       "5156  @BadHombreNPS @SecretaryZinke He is a vile hum...   \n",
       "5157  As promised, the Nativity Scene returned to Th...   \n",
       "5158  Can you guess what I'm getting all of my frien...   \n",
       "5159  . @SenWarren has no shame. Just like she did a...   \n",
       "5160  check mate christians. LOL tide goes in tide g...   \n",
       "5161  @Khanoisseur Trump is a demigod for the magas ...   \n",
       "5162                  Science 😎 https://t.co/gqMAbnDNeg   \n",
       "5163  If Native Americans are to be offended at all,...   \n",
       "\n",
       "                                              tweet_url  \\\n",
       "5130  https://twitter.com/POTUS/status/9343931196253...   \n",
       "5131  https://twitter.com/POTUS/status/9344214695551...   \n",
       "5132  https://twitter.com/POTUS/status/9345464485819...   \n",
       "5133  https://twitter.com/POTUS/status/9344692578023...   \n",
       "5134  https://twitter.com/POTUS/status/9914321818127...   \n",
       "5135  https://twitter.com/POTUS/status/9345352783200...   \n",
       "5136  https://twitter.com/POTUS/status/9345861042751...   \n",
       "5137  https://twitter.com/POTUS/status/9345547187260...   \n",
       "5138  https://twitter.com/POTUS/status/9345984452303...   \n",
       "5139  https://twitter.com/POTUS/status/9346222223034...   \n",
       "5140  https://twitter.com/POTUS/status/9346584034226...   \n",
       "5141  https://twitter.com/POTUS/status/9348965800077...   \n",
       "5142  https://twitter.com/POTUS/status/9348218138963...   \n",
       "5143  https://twitter.com/POTUS/status/9351588097897...   \n",
       "5144  https://twitter.com/POTUS/status/9348835970095...   \n",
       "5145  https://twitter.com/POTUS/status/9348631227324...   \n",
       "5146  https://twitter.com/POTUS/status/9348180115419...   \n",
       "5147  https://twitter.com/POTUS/status/9348630224215...   \n",
       "5148  https://twitter.com/POTUS/status/9435253654435...   \n",
       "5149  https://twitter.com/POTUS/status/9348570949011...   \n",
       "5150  https://twitter.com/POTUS/status/9349188662323...   \n",
       "5151  https://twitter.com/POTUS/status/9351374160626...   \n",
       "5152  https://twitter.com/POTUS/status/9367764630212...   \n",
       "5153  https://twitter.com/POTUS/status/9352773121859...   \n",
       "5154  https://twitter.com/POTUS/status/9352420069175...   \n",
       "5155  https://twitter.com/POTUS/status/9351740556022...   \n",
       "5156  https://twitter.com/POTUS/status/9351860875211...   \n",
       "5157  https://twitter.com/POTUS/status/9357188495085...   \n",
       "5158  https://twitter.com/POTUS/status/9354268909192...   \n",
       "5159  https://twitter.com/POTUS/status/9354554448643...   \n",
       "5160  https://twitter.com/POTUS/status/9353918883198...   \n",
       "5161  https://twitter.com/POTUS/status/9354492865480...   \n",
       "5162  https://twitter.com/POTUS/status/9354703998942...   \n",
       "5163  https://twitter.com/POTUS/status/9355224655303...   \n",
       "\n",
       "                                                  claim  \\\n",
       "5130  A photograph shows the Army football team knee...   \n",
       "5131  Early in America's history, white Irish slaves...   \n",
       "5132  Rep. Joe Barton said \"wind is a finite resourc...   \n",
       "5133  Donald Trump said in 1998 that he would one da...   \n",
       "5134  Malaysia Airlines Flight 370 was made to disap...   \n",
       "5135  Donald Trump said in 1998 that he would one da...   \n",
       "5136  Summer Zervos was paid $500,000 to fabricate h...   \n",
       "5137  The word news is an acronym formed from the wo...   \n",
       "5138  Sec. of State Hillary Clinton's approval of a ...   \n",
       "5139  The Fox News Channel has been banned in Canada...   \n",
       "5140  Photographs show Jimmy John Liautaud, the owne...   \n",
       "5141  A Noah's Ark exhibit at a Christian theme park...   \n",
       "5142  Donald Trump said in 1998 that he would one da...   \n",
       "5143  Donald Trump won 3,084 of America's 3,141 coun...   \n",
       "5144  A circulating list of nine historical \"facts\" ...   \n",
       "5145  Congressman Ted Yoho said that African-America...   \n",
       "5146  A photograph shows President Trump with balloo...   \n",
       "5147  Congressman Ted Yoho said that African-America...   \n",
       "5148  Under the 2017 tax overhaul legislation curren...   \n",
       "5149  Congressman Ted Yoho said that African-America...   \n",
       "5150  Donald Trump said in 1998 that he would one da...   \n",
       "5151  Donald Trump said in 1998 that he would one da...   \n",
       "5152  A November 2017 Facebook post includes photogr...   \n",
       "5153  Image shows radioactive seepage spreading acro...   \n",
       "5154  Donald Trump violated Palm Beach ordinances by...   \n",
       "5155  Donald Trump said in 1998 that he would one da...   \n",
       "5156  A photograph shows Ryan Zinke posing with a de...   \n",
       "5157  The White House decided not to display a Chris...   \n",
       "5158  In August 2017, a \"leading toy company\" produc...   \n",
       "5159  Elizabeth Warren lives in a multi-million-doll...   \n",
       "5160  A Noah's Ark exhibit at a Christian theme park...   \n",
       "5161  President Trump disparaged Navajos on Twitter ...   \n",
       "5162  The gender of a bell pepper can be identified ...   \n",
       "5163  Elizabeth Warren lives in a multi-million-doll...   \n",
       "\n",
       "                                                 rating  \\\n",
       "5130  ['https://www.snopes.com/tachyon/2018/03/ratin...   \n",
       "5131  ['https://www.snopes.com/tachyon/2018/03/ratin...   \n",
       "5132  ['https://www.snopes.com/tachyon/2018/03/ratin...   \n",
       "5133  ['https://www.snopes.com/tachyon/2018/03/ratin...   \n",
       "5134  ['https://www.snopes.com/tachyon/2018/03/ratin...   \n",
       "5135  ['https://www.snopes.com/tachyon/2018/03/ratin...   \n",
       "5136  ['https://www.snopes.com/tachyon/2018/03/ratin...   \n",
       "5137  ['https://www.snopes.com/tachyon/2018/03/ratin...   \n",
       "5138  ['https://www.snopes.com/tachyon/2018/03/ratin...   \n",
       "5139  ['https://www.snopes.com/tachyon/2018/03/ratin...   \n",
       "5140  ['https://www.snopes.com/tachyon/2018/03/ratin...   \n",
       "5141  ['https://www.snopes.com/tachyon/2018/03/ratin...   \n",
       "5142  ['https://www.snopes.com/tachyon/2018/03/ratin...   \n",
       "5143  ['https://www.snopes.com/tachyon/2018/03/ratin...   \n",
       "5144  ['https://www.snopes.com/tachyon/2018/03/ratin...   \n",
       "5145  ['https://www.snopes.com/tachyon/2018/03/ratin...   \n",
       "5146  ['https://www.snopes.com/tachyon/2018/03/ratin...   \n",
       "5147  ['https://www.snopes.com/tachyon/2018/03/ratin...   \n",
       "5148  ['https://www.snopes.com/tachyon/2018/03/ratin...   \n",
       "5149  ['https://www.snopes.com/tachyon/2018/03/ratin...   \n",
       "5150  ['https://www.snopes.com/tachyon/2018/03/ratin...   \n",
       "5151  ['https://www.snopes.com/tachyon/2018/03/ratin...   \n",
       "5152  ['https://www.snopes.com/tachyon/2018/03/ratin...   \n",
       "5153  ['https://www.snopes.com/tachyon/2018/03/ratin...   \n",
       "5154  ['https://www.snopes.com/tachyon/2018/03/ratin...   \n",
       "5155  ['https://www.snopes.com/tachyon/2018/03/ratin...   \n",
       "5156  ['https://www.snopes.com/tachyon/2018/03/ratin...   \n",
       "5157  ['https://www.snopes.com/tachyon/2018/03/ratin...   \n",
       "5158  ['https://www.snopes.com/tachyon/2018/03/ratin...   \n",
       "5159  ['https://www.snopes.com/tachyon/2018/03/ratin...   \n",
       "5160  ['https://www.snopes.com/tachyon/2018/03/ratin...   \n",
       "5161  ['https://www.snopes.com/tachyon/2018/03/ratin...   \n",
       "5162  ['https://www.snopes.com/tachyon/2018/03/ratin...   \n",
       "5163  ['https://www.snopes.com/tachyon/2018/03/ratin...   \n",
       "\n",
       "                                                 images  \\\n",
       "5130     http://pbs.twimg.com/media/DPedKpBUMAAdfuK.jpg   \n",
       "5131     http://pbs.twimg.com/media/DPetWp1XkAIZPf_.jpg   \n",
       "5132     http://pbs.twimg.com/media/DPfJ4Z3XkAA9YgH.jpg   \n",
       "5133     http://pbs.twimg.com/media/DPfldVYV4AUYVBv.jpg   \n",
       "5134     http://pbs.twimg.com/media/DPgeTXYUIAEwyVi.jpg   \n",
       "5135     http://pbs.twimg.com/media/DPgeqgUUQAABL8D.jpg   \n",
       "5136     http://pbs.twimg.com/media/DPgefceUQAA10wo.jpg   \n",
       "5137     http://pbs.twimg.com/media/DPgl7dRWAAAKFey.jpg   \n",
       "5138     http://pbs.twimg.com/media/DPhb8jnXkAQ-m3j.jpg   \n",
       "5139  ['http://pbs.twimg.com/media/DPhmQrkVwAASy7P.j...   \n",
       "5140     http://pbs.twimg.com/media/DPiCCZfVoAAJMND.jpg   \n",
       "5141     http://pbs.twimg.com/media/DPkH5oVVQAE5DAJ.jpg   \n",
       "5142     http://pbs.twimg.com/media/DPkPvz2U8AUYy8C.jpg   \n",
       "5143     http://pbs.twimg.com/media/DPkRH7WV4AEvaY0.jpg   \n",
       "5144     http://pbs.twimg.com/media/DPkV7iIVAAATx7s.jpg   \n",
       "5145     http://pbs.twimg.com/media/DPkbKpRX4AAk-hf.jpg   \n",
       "5146     http://pbs.twimg.com/media/DPkhpXcXUAAcwy1.jpg   \n",
       "5147     http://pbs.twimg.com/media/DPkncqSVAAAqE22.jpg   \n",
       "5148     http://pbs.twimg.com/media/DPk7nCeV4AA1a1R.jpg   \n",
       "5149     http://pbs.twimg.com/media/DPlDg0WXkAIPLFM.jpg   \n",
       "5150     http://pbs.twimg.com/media/DPl9MW-WkAAZUXJ.jpg   \n",
       "5151     http://pbs.twimg.com/media/DPoNa2vWsAAUnQX.jpg   \n",
       "5152  ['http://pbs.twimg.com/media/DPooHI5WAAA3Ov8.j...   \n",
       "5153     http://pbs.twimg.com/media/DPov-2SUMAAB1gl.jpg   \n",
       "5154     http://pbs.twimg.com/media/DPpJYHaVoAAN5gi.jpg   \n",
       "5155     http://pbs.twimg.com/media/DPpaqmWVwAEnj-C.jpg   \n",
       "5156     http://pbs.twimg.com/media/DPpgwHDXkAIJAKE.jpg   \n",
       "5157     http://pbs.twimg.com/media/DPrQBv6UQAAxV__.jpg   \n",
       "5158     http://pbs.twimg.com/media/DPrv71wUEAAFiFI.jpg   \n",
       "5159     http://pbs.twimg.com/media/DPr8h-FUEAALhnm.jpg   \n",
       "5160     http://pbs.twimg.com/media/DPsO18FWkAANnGS.jpg   \n",
       "5161     http://pbs.twimg.com/media/DPsaoB7UIAEYLzM.jpg   \n",
       "5162     http://pbs.twimg.com/media/DPtr2hjX4AAiFu7.jpg   \n",
       "5163     http://pbs.twimg.com/media/DPuekIEU8AAqy-7.jpg   \n",
       "\n",
       "                                            text_images  \\\n",
       "5130  This is the U . S . Army football team What's ...   \n",
       "5131  Freedom Daily 20 hrs Anyone EVER See This On M...   \n",
       "5132  , g + d is a finite resource , and harnessing ...   \n",
       "5133  ' ' If I were to run , I'd run as a Republican...   \n",
       "5134  Rothschild inherits Patent after 4 co-owners d...   \n",
       "5135  \" If I were to run , I'd run as a Republican ....   \n",
       "5136  OHH , HERE'S AN EMAIL FROM GLORIA ALLRED , i d...   \n",
       "5137  It took me 14 years to figure out NEWS stands ...   \n",
       "5138  Uranium One The Lie : Clinton sold US uranium ...   \n",
       "5139  ['FOX NEWS THE FAKE NEWS CONSERVATIVES TRUST M...   \n",
       "5140                             0 251 01,147 0 1,029 E   \n",
       "5141  Noah's Ark Theme Park Destroyed In A Flood ON ...   \n",
       "5142  \" If I were to run , I'd run as a Republican ....   \n",
       "5143                                                NaN   \n",
       "5144  THE FIRST SLAVE OWNER IN AMERICA WAS NOT ONLY ...   \n",
       "5145  THIS GUY Is Republican Florida Representitive ...   \n",
       "5146                                                NaN   \n",
       "5147  THIS GUY Is Republican Florida Representitive ...   \n",
       "5148  Jim Anthony As someone who has been helping pr...   \n",
       "5149  THIS GUY Is Republican Florida Representitive ...   \n",
       "5150  \" If I were to run , I'd run as a Republican ....   \n",
       "5151  \" If I were to run , I'd run as a Republican ....   \n",
       "5152                                   ['', '', '', '']   \n",
       "5153                                                NaN   \n",
       "5154  ' S When Trump purchased and rebuilt Mar-A-Lag...   \n",
       "5155  \" If I were to run , I'd run as a Republican ....   \n",
       "5156                                                NaN   \n",
       "5157                       o Nikki Schwab D Mail online   \n",
       "5158                                                NaN   \n",
       "5159  SENATOR WA REN You might have heard that Donal...   \n",
       "5160  Noah's Ark Theme Park Destroyed In A Flood ON ...   \n",
       "5161  A Donald Trump j @user Follow Tribal Sovereign...   \n",
       "5162  FOOD FACT : Flip the bell peppers over to chec...   \n",
       "5163  Falsified her ancestry for $ 300,000 lecturers...   \n",
       "\n",
       "                                                 source            label  \\\n",
       "5130  https://www.snopes.com/fact-check/army-footbal...            false   \n",
       "5131  https://www.snopes.com/fact-check/irish-slaves...          mixture   \n",
       "5132  https://www.snopes.com/fact-check/barton-wind-...          mixture   \n",
       "5133  https://www.snopes.com/fact-check/1998-trump-p...            false   \n",
       "5134  https://www.snopes.com/fact-check/mh370-patent...            false   \n",
       "5135  https://www.snopes.com/fact-check/1998-trump-p...            false   \n",
       "5136  https://www.snopes.com/fact-check/summer-zervo...         unproven   \n",
       "5137  https://www.snopes.com/fact-check/news-etymology/            false   \n",
       "5138  https://www.snopes.com/fact-check/hillary-clin...            false   \n",
       "5139    https://www.snopes.com/fact-check/canadian-fox/            false   \n",
       "5140  https://www.snopes.com/fact-check/jimmy-john-l...             true   \n",
       "5141  https://www.snopes.com/fact-check/noahs-ark-pa...            false   \n",
       "5142  https://www.snopes.com/fact-check/1998-trump-p...            false   \n",
       "5143  https://www.snopes.com/fact-check/trump-clinto...            false   \n",
       "5144  https://www.snopes.com/fact-check/facts-about-...          mixture   \n",
       "5145  https://www.snopes.com/fact-check/ted-yoho-votes/            false   \n",
       "5146  https://www.snopes.com/fact-check/balloon-brea...            false   \n",
       "5147  https://www.snopes.com/fact-check/ted-yoho-votes/            false   \n",
       "5148  https://www.snopes.com/fact-check/tax-bill-sma...            false   \n",
       "5149  https://www.snopes.com/fact-check/ted-yoho-votes/            false   \n",
       "5150  https://www.snopes.com/fact-check/1998-trump-p...            false   \n",
       "5151  https://www.snopes.com/fact-check/1998-trump-p...            false   \n",
       "5152   https://www.snopes.com/fact-check/libya-slavery/     miscaptioned   \n",
       "5153  https://www.snopes.com/fact-check/fukushima-em...            false   \n",
       "5154  https://www.snopes.com/fact-check/trump-marala...  mostly-true-new   \n",
       "5155  https://www.snopes.com/fact-check/1998-trump-p...            false   \n",
       "5156  https://www.snopes.com/fact-check/ryan-zinke-d...            false   \n",
       "5157  https://www.snopes.com/fact-check/no-nativity-...            false   \n",
       "5158  https://www.snopes.com/fact-check/my-first-vap...            false   \n",
       "5159  https://www.snopes.com/fact-check/elizabeth-wa...          mixture   \n",
       "5160  https://www.snopes.com/fact-check/noahs-ark-pa...            false   \n",
       "5161  https://www.snopes.com/fact-check/trump-navajo...            false   \n",
       "5162   https://www.snopes.com/fact-check/gender-pepper/            false   \n",
       "5163  https://www.snopes.com/fact-check/elizabeth-wa...          mixture   \n",
       "\n",
       "      label_info available              acc_id  \\\n",
       "5130         NaN   missing           391494054   \n",
       "5131         NaN      auth           510455186   \n",
       "5132         NaN        ok          1216789842   \n",
       "5133         NaN        ok  890540622431621120   \n",
       "5134         NaN   missing            87274760   \n",
       "5135         NaN   missing          3887013074   \n",
       "5136         NaN   missing  738721186826178560   \n",
       "5137         NaN        ok           219371427   \n",
       "5138         NaN        ok          3323302539   \n",
       "5139         NaN        ok          2979749464   \n",
       "5140         NaN      auth          2889924959   \n",
       "5141         NaN      auth          2874718858   \n",
       "5142         NaN        ok  832675998030192640   \n",
       "5143         NaN      auth           282783298   \n",
       "5144         NaN        ok          2596091898   \n",
       "5145         NaN      auth  824059809951531008   \n",
       "5146         NaN        ok            21833728   \n",
       "5147         NaN      auth           236224860   \n",
       "5148         NaN      auth  801369748206448640   \n",
       "5149         NaN        ok            21833728   \n",
       "5150         NaN        ok  830905941855989760   \n",
       "5151         NaN        ok            15263098   \n",
       "5152         NaN        ok  830683587452219392   \n",
       "5153         NaN   missing           756544116   \n",
       "5154         NaN        ok          3250141399   \n",
       "5155         NaN        ok            95027058   \n",
       "5156         NaN        ok           490566701   \n",
       "5157         NaN        ok           752493806   \n",
       "5158         NaN        ok            18511142   \n",
       "5159         NaN        ok            48459553   \n",
       "5160         NaN   missing  715718165397942272   \n",
       "5161         NaN        ok  817458036834873344   \n",
       "5162         NaN        ok  909690730100264960   \n",
       "5163         NaN   missing          1392951560   \n",
       "\n",
       "                                              botometer  \n",
       "5130  {'cap': {'english': 0.0, 'universal': 0.406739...  \n",
       "5131  {'cap': {'english': 0.5778862084370772, 'unive...  \n",
       "5132  {'cap': {'english': 0.7892294694438972, 'unive...  \n",
       "5133  {'cap': {'english': 0.4197222421546159, 'unive...  \n",
       "5134  {'cap': {'english': 0.5288664776112156, 'unive...  \n",
       "5135  {'cap': {'english': 0.7384783166429812, 'unive...  \n",
       "5136  {'code': 34, 'message': 'Sorry, that page does...  \n",
       "5137  {'cap': {'english': 0.7892294694438972, 'unive...  \n",
       "5138  {'cap': {'english': 0.3912159239072283, 'unive...  \n",
       "5139  {'cap': {'english': 0.621687023966582, 'univer...  \n",
       "5140  {'cap': {'english': 0.5539725719744064, 'unive...  \n",
       "5141  {'cap': {'english': 0.0, 'universal': 0.233324...  \n",
       "5142  {'code': 34, 'message': 'Sorry, that page does...  \n",
       "5143  {'cap': {'english': 0.22631829961109876, 'univ...  \n",
       "5144  {'cap': {'english': 0.3342309004634953, 'unive...  \n",
       "5145  {'code': 34, 'message': 'Sorry, that page does...  \n",
       "5146  {'cap': {'english': 0.7759887465100499, 'unive...  \n",
       "5147  {'cap': {'english': 0.8021481695167405, 'unive...  \n",
       "5148  {'cap': {'english': 0.7384783166429812, 'unive...  \n",
       "5149  {'cap': {'english': 0.7759887465100499, 'unive...  \n",
       "5150  {'code': 34, 'message': 'Sorry, that page does...  \n",
       "5151  {'cap': {'english': 0.5027122940873614, 'unive...  \n",
       "5152  {'code': 34, 'message': 'Sorry, that page does...  \n",
       "5153  {'cap': {'english': 0.7384783166429812, 'unive...  \n",
       "5154  {'cap': {'english': 0.8339181685112829, 'unive...  \n",
       "5155  {'cap': {'english': 0.36264564124632276, 'univ...  \n",
       "5156  {'cap': {'english': 0.7611878625273879, 'unive...  \n",
       "5157  {'code': 34, 'message': 'Sorry, that page does...  \n",
       "5158  {'code': 34, 'message': 'Sorry, that page does...  \n",
       "5159  {'code': 34, 'message': 'Sorry, that page does...  \n",
       "5160  {'code': 34, 'message': 'Sorry, that page does...  \n",
       "5161  {'code': 34, 'message': 'Sorry, that page does...  \n",
       "5162  {'code': 34, 'message': 'Sorry, that page does...  \n",
       "5163  {'code': 34, 'message': 'Sorry, that page does...  "
      ]
     },
     "execution_count": 22,
     "metadata": {},
     "output_type": "execute_result"
    }
   ],
   "source": [
    "df.loc[5130:5163]"
   ]
  },
  {
   "cell_type": "code",
   "execution_count": 5,
   "metadata": {},
   "outputs": [],
   "source": [
    "df = pd.read_csv(\"snopes_4060.csv\")"
   ]
  },
  {
   "cell_type": "code",
   "execution_count": 13,
   "metadata": {},
   "outputs": [],
   "source": [
    "df.to_csv(\"snopes_4612.csv\", index=False)"
   ]
  },
  {
   "cell_type": "code",
   "execution_count": 12,
   "metadata": {},
   "outputs": [
    {
     "data": {
      "text/html": [
       "<div>\n",
       "<style scoped>\n",
       "    .dataframe tbody tr th:only-of-type {\n",
       "        vertical-align: middle;\n",
       "    }\n",
       "\n",
       "    .dataframe tbody tr th {\n",
       "        vertical-align: top;\n",
       "    }\n",
       "\n",
       "    .dataframe thead th {\n",
       "        text-align: right;\n",
       "    }\n",
       "</style>\n",
       "<table border=\"1\" class=\"dataframe\">\n",
       "  <thead>\n",
       "    <tr style=\"text-align: right;\">\n",
       "      <th></th>\n",
       "      <th>id</th>\n",
       "      <th>original_id</th>\n",
       "      <th>tweet_text</th>\n",
       "      <th>tweet_url</th>\n",
       "      <th>claim</th>\n",
       "      <th>rating</th>\n",
       "      <th>images</th>\n",
       "      <th>text_images</th>\n",
       "      <th>source</th>\n",
       "      <th>label</th>\n",
       "      <th>label_info</th>\n",
       "      <th>available</th>\n",
       "      <th>acc_id</th>\n",
       "      <th>botometer</th>\n",
       "    </tr>\n",
       "  </thead>\n",
       "  <tbody>\n",
       "    <tr>\n",
       "      <th>4600</th>\n",
       "      <td>917008562563543040</td>\n",
       "      <td>916890818048294912</td>\n",
       "      <td>@antipandemonium @ShaunKing @NFL @DonteStallwo...</td>\n",
       "      <td>https://twitter.com/POTUS/status/9170085625635...</td>\n",
       "      <td>NFL players did not stand for the national ant...</td>\n",
       "      <td>['https://www.snopes.com/tachyon/2018/03/ratin...</td>\n",
       "      <td>http://pbs.twimg.com/media/DLlzVL0V4AEFNCG.jpg</td>\n",
       "      <td>NFL players only started coming on field for t...</td>\n",
       "      <td>https://www.snopes.com/fact-check/nfl-sideline...</td>\n",
       "      <td>mixture</td>\n",
       "      <td>NaN</td>\n",
       "      <td>ok</td>\n",
       "      <td>28722755</td>\n",
       "      <td>{'cap': {'english': 0.5539725719744064, 'unive...</td>\n",
       "    </tr>\n",
       "    <tr>\n",
       "      <th>4601</th>\n",
       "      <td>917134801416736768</td>\n",
       "      <td>917009839674544128</td>\n",
       "      <td>@HarryDowning113 @tia6sc @rodliz1225 @VP @POTU...</td>\n",
       "      <td>https://twitter.com/POTUS/status/9171348014167...</td>\n",
       "      <td>A meme accurately lists Democrats who have bee...</td>\n",
       "      <td>['https://www.snopes.com/tachyon/2018/03/ratin...</td>\n",
       "      <td>http://pbs.twimg.com/media/DLnflb4UQAE6fY5.jpg</td>\n",
       "      <td>nwughtCrime Resistance In 1865 a Democrat kill...</td>\n",
       "      <td>https://www.snopes.com/fact-check/democrat-sho...</td>\n",
       "      <td>mostly-false</td>\n",
       "      <td>NaN</td>\n",
       "      <td>ok</td>\n",
       "      <td>422041473</td>\n",
       "      <td>{'cap': {'english': 0.5778862084370772, 'unive...</td>\n",
       "    </tr>\n",
       "    <tr>\n",
       "      <th>4602</th>\n",
       "      <td>919401783683936256</td>\n",
       "      <td>917081407960305665</td>\n",
       "      <td>Oh now you’ll stand? I think not. Hope you nev...</td>\n",
       "      <td>https://twitter.com/POTUS/status/9194017836839...</td>\n",
       "      <td>In October 2017, Colin Kaepernick told a CBS r...</td>\n",
       "      <td>['https://www.snopes.com/tachyon/2018/03/ratin...</td>\n",
       "      <td>http://pbs.twimg.com/media/DLogrJOV4AAZwvw.jpg</td>\n",
       "      <td>FOX NEWS Breaking News 2m ago Colin Kaepernick...</td>\n",
       "      <td>https://www.snopes.com/fact-check/kaepernick-a...</td>\n",
       "      <td>false</td>\n",
       "      <td>NaN</td>\n",
       "      <td>ok</td>\n",
       "      <td>166751745</td>\n",
       "      <td>{'cap': {'english': 0.7920317685697057, 'unive...</td>\n",
       "    </tr>\n",
       "    <tr>\n",
       "      <th>4603</th>\n",
       "      <td>917104093029699586</td>\n",
       "      <td>917102637950017536</td>\n",
       "      <td>@ProudResister You mean this guy? https://t.co...</td>\n",
       "      <td>https://twitter.com/POTUS/status/9171040930296...</td>\n",
       "      <td>A photograph shows a young Mike Pence with his...</td>\n",
       "      <td>['https://www.snopes.com/tachyon/2018/03/ratin...</td>\n",
       "      <td>http://pbs.twimg.com/media/DLoz7n7UEAAOW6Y.jpg</td>\n",
       "      <td>Mike pence is trying to have this removed from...</td>\n",
       "      <td>https://www.snopes.com/fact-check/mike-pences-...</td>\n",
       "      <td>false</td>\n",
       "      <td>NaN</td>\n",
       "      <td>ok</td>\n",
       "      <td>867953768041660416</td>\n",
       "      <td>{'cap': {'english': 0.22631829961109876, 'univ...</td>\n",
       "    </tr>\n",
       "    <tr>\n",
       "      <th>4604</th>\n",
       "      <td>917189014918258688</td>\n",
       "      <td>917187370012823553</td>\n",
       "      <td>@ThePatriot143 Yeah &amp;amp; this is the Army so ...</td>\n",
       "      <td>https://twitter.com/POTUS/status/9171890149182...</td>\n",
       "      <td>A photograph shows the Army football team knee...</td>\n",
       "      <td>['https://www.snopes.com/tachyon/2018/03/ratin...</td>\n",
       "      <td>http://pbs.twimg.com/media/DLqBDJqWkAA0Oz0.jpg</td>\n",
       "      <td>Raymon King Jr 1 hr e U . S . Army Football Te...</td>\n",
       "      <td>https://www.snopes.com/fact-check/army-footbal...</td>\n",
       "      <td>false</td>\n",
       "      <td>NaN</td>\n",
       "      <td>auth</td>\n",
       "      <td>911585169060003840</td>\n",
       "      <td>{'code': 34, 'message': 'Sorry, that page does...</td>\n",
       "    </tr>\n",
       "    <tr>\n",
       "      <th>4605</th>\n",
       "      <td>917937955381088258</td>\n",
       "      <td>917202064358477824</td>\n",
       "      <td>@ChrisFagan57 @bridget4kicks @JulianAssange @S...</td>\n",
       "      <td>https://twitter.com/POTUS/status/9179379553810...</td>\n",
       "      <td>George Soros said that he funded the Black Liv...</td>\n",
       "      <td>['https://www.snopes.com/tachyon/2018/03/ratin...</td>\n",
       "      <td>http://pbs.twimg.com/media/DLqOaQYV4AEzRea.jpg</td>\n",
       "      <td>\" I'm going to bring down the United States by...</td>\n",
       "      <td>https://www.snopes.com/fact-check/george-soros...</td>\n",
       "      <td>false</td>\n",
       "      <td>NaN</td>\n",
       "      <td>auth</td>\n",
       "      <td>54017596</td>\n",
       "      <td>{'cap': {'english': 0.9158377984126878, 'unive...</td>\n",
       "    </tr>\n",
       "    <tr>\n",
       "      <th>4606</th>\n",
       "      <td>917266413076623360</td>\n",
       "      <td>917248492900249600</td>\n",
       "      <td>@DanCorkill1 @TheGrungeHam @carol_NC66 As I ha...</td>\n",
       "      <td>https://twitter.com/POTUS/status/9172664130766...</td>\n",
       "      <td>The man accused of opening fire on hundreds of...</td>\n",
       "      <td>['https://www.snopes.com/tachyon/2018/03/ratin...</td>\n",
       "      <td>http://pbs.twimg.com/media/DLq4c0CU8AAYLtT.jpg</td>\n",
       "      <td>NaN</td>\n",
       "      <td>https://www.snopes.com/fact-check/las-vegas-sh...</td>\n",
       "      <td>false</td>\n",
       "      <td>NaN</td>\n",
       "      <td>ok</td>\n",
       "      <td>124673927</td>\n",
       "      <td>{'cap': {'english': 0.4197222421546159, 'unive...</td>\n",
       "    </tr>\n",
       "    <tr>\n",
       "      <th>4607</th>\n",
       "      <td>917756421017690112</td>\n",
       "      <td>917248535136894977</td>\n",
       "      <td>it fucks me up that clickhole wrote one of the...</td>\n",
       "      <td>https://twitter.com/POTUS/status/9177564210176...</td>\n",
       "      <td>Barry Wilmore said that he saw astronaut Ramir...</td>\n",
       "      <td>['https://www.snopes.com/tachyon/2018/03/ratin...</td>\n",
       "      <td>http://pbs.twimg.com/media/DLq4q82UMAAdf_0.jpg</td>\n",
       "      <td>Barry Wilmore \" You never know true beauty unt...</td>\n",
       "      <td>https://www.snopes.com/fact-check/barry-wilmor...</td>\n",
       "      <td>false</td>\n",
       "      <td>NaN</td>\n",
       "      <td>auth</td>\n",
       "      <td>20600882</td>\n",
       "      <td>{'cap': {'english': 0.7176911080698488, 'unive...</td>\n",
       "    </tr>\n",
       "    <tr>\n",
       "      <th>4608</th>\n",
       "      <td>917388478144499717</td>\n",
       "      <td>917350015059791873</td>\n",
       "      <td>@USArmy333 @NBCNews @PeterAlexander @TODAYshow...</td>\n",
       "      <td>https://twitter.com/POTUS/status/9173884781444...</td>\n",
       "      <td>Prior to condemning flag burning in November 2...</td>\n",
       "      <td>['https://www.snopes.com/tachyon/2018/03/ratin...</td>\n",
       "      <td>http://pbs.twimg.com/media/DLsU-J8UIAERqd0.jpg</td>\n",
       "      <td>e Donald J . Trump @user Follow Burning a flag...</td>\n",
       "      <td>https://www.snopes.com/fact-check/trumps-flip-...</td>\n",
       "      <td>false</td>\n",
       "      <td>NaN</td>\n",
       "      <td>ok</td>\n",
       "      <td>793278250130825216</td>\n",
       "      <td>{'cap': {'english': 0.4756769663222349, 'unive...</td>\n",
       "    </tr>\n",
       "    <tr>\n",
       "      <th>4609</th>\n",
       "      <td>931324102899412993</td>\n",
       "      <td>917394007390425088</td>\n",
       "      <td>@VP @POTUS You &amp;amp; your boss should ask the ...</td>\n",
       "      <td>https://twitter.com/POTUS/status/9313241028994...</td>\n",
       "      <td>A photograph shows the Army football team knee...</td>\n",
       "      <td>['https://www.snopes.com/tachyon/2018/03/ratin...</td>\n",
       "      <td>http://pbs.twimg.com/media/DLs8-7pUQAAgiWd.jpg</td>\n",
       "      <td>331 likes livingthelifeof_blackgirlmagic Ummmm...</td>\n",
       "      <td>https://www.snopes.com/fact-check/army-footbal...</td>\n",
       "      <td>false</td>\n",
       "      <td>NaN</td>\n",
       "      <td>ok</td>\n",
       "      <td>24043461</td>\n",
       "      <td>{'cap': {'english': 0.22631829961109876, 'univ...</td>\n",
       "    </tr>\n",
       "    <tr>\n",
       "      <th>4610</th>\n",
       "      <td>917435403262558208</td>\n",
       "      <td>917408316569026560</td>\n",
       "      <td>@SonjiCarey @thehill ☝This can't seriously😠 be...</td>\n",
       "      <td>https://twitter.com/POTUS/status/9174354032625...</td>\n",
       "      <td>Prior to condemning flag burning in November 2...</td>\n",
       "      <td>['https://www.snopes.com/tachyon/2018/03/ratin...</td>\n",
       "      <td>http://pbs.twimg.com/media/DLtJ_6BWAAIrP7r.jpg</td>\n",
       "      <td>i 11:39 AM Q M ry Ostensarvi 43m Trump : NFL p...</td>\n",
       "      <td>https://www.snopes.com/fact-check/trumps-flip-...</td>\n",
       "      <td>false</td>\n",
       "      <td>NaN</td>\n",
       "      <td>ok</td>\n",
       "      <td>1277721991</td>\n",
       "      <td>{'cap': {'english': 0.2520419704315795, 'unive...</td>\n",
       "    </tr>\n",
       "    <tr>\n",
       "      <th>4611</th>\n",
       "      <td>932404019926110208</td>\n",
       "      <td>917414773322670081</td>\n",
       "      <td>This Shirt Says It All! https://t.co/8OrKgIpbTz</td>\n",
       "      <td>https://twitter.com/POTUS/status/9324040199261...</td>\n",
       "      <td>An image shows Lebron James wearing a \"we marc...</td>\n",
       "      <td>['https://www.snopes.com/tachyon/2018/03/ratin...</td>\n",
       "      <td>http://pbs.twimg.com/media/DLtPyjRXkAAuoCe.jpg</td>\n",
       "      <td>WE MARCH , y'all mad . WE SIT DOWN , y'all mad...</td>\n",
       "      <td>https://www.snopes.com/fact-check/lebron-james...</td>\n",
       "      <td>false</td>\n",
       "      <td>NaN</td>\n",
       "      <td>missing</td>\n",
       "      <td>2301628435</td>\n",
       "      <td>{'cap': {'english': 0.8912318555080615, 'unive...</td>\n",
       "    </tr>\n",
       "    <tr>\n",
       "      <th>4612</th>\n",
       "      <td>917432224433106945</td>\n",
       "      <td>917420153666703360</td>\n",
       "      <td>@realDonaldTrump @VP Kneeling disrespectful bu...</td>\n",
       "      <td>https://twitter.com/POTUS/status/9174322244331...</td>\n",
       "      <td>Prior to condemning flag burning in November 2...</td>\n",
       "      <td>['https://www.snopes.com/tachyon/2018/03/ratin...</td>\n",
       "      <td>http://pbs.twimg.com/media/DLtUw3MW0AAGeyj.jpg</td>\n",
       "      <td>Donald J . Trump great DonakiTrurnp &amp; Follow B...</td>\n",
       "      <td>https://www.snopes.com/fact-check/trumps-flip-...</td>\n",
       "      <td>false</td>\n",
       "      <td>NaN</td>\n",
       "      <td>ok</td>\n",
       "      <td>15694971</td>\n",
       "      <td>{'cap': {'english': 0.5778862084370772, 'unive...</td>\n",
       "    </tr>\n",
       "    <tr>\n",
       "      <th>4613</th>\n",
       "      <td>917474084530937856</td>\n",
       "      <td>917427575214956544</td>\n",
       "      <td>@GuyMckee5 @scottinclearh2o @secupp @GOP @NRA ...</td>\n",
       "      <td>https://twitter.com/POTUS/status/9174740845309...</td>\n",
       "      <td>Sec. of State Hillary Clinton's approval of a ...</td>\n",
       "      <td>['https://www.snopes.com/tachyon/2018/03/ratin...</td>\n",
       "      <td>http://pbs.twimg.com/media/DLtbg35VAAA2etM.jpg</td>\n",
       "      <td>In 2010 , the State Department under Hillary C...</td>\n",
       "      <td>https://www.snopes.com/fact-check/hillary-clin...</td>\n",
       "      <td>false</td>\n",
       "      <td>NaN</td>\n",
       "      <td>ok</td>\n",
       "      <td>3401758332</td>\n",
       "      <td>{'code': 34, 'message': 'Sorry, that page does...</td>\n",
       "    </tr>\n",
       "    <tr>\n",
       "      <th>4614</th>\n",
       "      <td>917488416538972160</td>\n",
       "      <td>917437803138609153</td>\n",
       "      <td>Now that’s unfortunate. https://t.co/ozX0T0NL2Y</td>\n",
       "      <td>https://twitter.com/POTUS/status/9174884165389...</td>\n",
       "      <td>Actress Judi Dench has Havey Weinstein's initi...</td>\n",
       "      <td>['https://www.snopes.com/tachyon/2018/03/ratin...</td>\n",
       "      <td>http://pbs.twimg.com/media/DLtk0buXkAAO6DT.jpg</td>\n",
       "      <td>Weinstein confirmed that Dench had a tattoo th...</td>\n",
       "      <td>https://www.snopes.com/fact-check/judi-dench-h...</td>\n",
       "      <td>false</td>\n",
       "      <td>NaN</td>\n",
       "      <td>missing</td>\n",
       "      <td>14701191</td>\n",
       "      <td>{'code': 34, 'message': 'Sorry, that page does...</td>\n",
       "    </tr>\n",
       "    <tr>\n",
       "      <th>4615</th>\n",
       "      <td>919292155692232705</td>\n",
       "      <td>917532655608127490</td>\n",
       "      <td>Exclusive: Judi Dench, who has a Harvey Weinst...</td>\n",
       "      <td>https://twitter.com/POTUS/status/9192921556922...</td>\n",
       "      <td>Actress Judi Dench has Havey Weinstein's initi...</td>\n",
       "      <td>['https://www.snopes.com/tachyon/2018/03/ratin...</td>\n",
       "      <td>http://pbs.twimg.com/media/DLu7Fh7WAAAvowc.jpg</td>\n",
       "      <td>NaN</td>\n",
       "      <td>https://www.snopes.com/fact-check/judi-dench-h...</td>\n",
       "      <td>false</td>\n",
       "      <td>NaN</td>\n",
       "      <td>ok</td>\n",
       "      <td>2884771</td>\n",
       "      <td>{'code': 34, 'message': 'Sorry, that page does...</td>\n",
       "    </tr>\n",
       "    <tr>\n",
       "      <th>4616</th>\n",
       "      <td>917910097845559296</td>\n",
       "      <td>917571711196909568</td>\n",
       "      <td>Looks like a Photoshop job.  RT @mersmom8 This...</td>\n",
       "      <td>https://twitter.com/POTUS/status/9179100978455...</td>\n",
       "      <td>An image shows Lebron James wearing a \"we marc...</td>\n",
       "      <td>['https://www.snopes.com/tachyon/2018/03/ratin...</td>\n",
       "      <td>http://pbs.twimg.com/media/DLtPyjRXkAAuoCe.jpg</td>\n",
       "      <td>WE MARCH , y'all mad . WE SIT DOWN , y'all mad...</td>\n",
       "      <td>https://www.snopes.com/fact-check/lebron-james...</td>\n",
       "      <td>false</td>\n",
       "      <td>NaN</td>\n",
       "      <td>auth</td>\n",
       "      <td>25241610</td>\n",
       "      <td>{'code': 34, 'message': 'Sorry, that page does...</td>\n",
       "    </tr>\n",
       "    <tr>\n",
       "      <th>4617</th>\n",
       "      <td>917675610297765893</td>\n",
       "      <td>917675143710769153</td>\n",
       "      <td>@DennisDoiron @JoyLapine @H_Combs @VP I think ...</td>\n",
       "      <td>https://twitter.com/POTUS/status/9176756102977...</td>\n",
       "      <td>A photograph shows a young Mike Pence with his...</td>\n",
       "      <td>['https://www.snopes.com/tachyon/2018/03/ratin...</td>\n",
       "      <td>http://pbs.twimg.com/media/DLw8rUIVwAAHRT_.jpg</td>\n",
       "      <td>NaN</td>\n",
       "      <td>https://www.snopes.com/fact-check/mike-pences-...</td>\n",
       "      <td>false</td>\n",
       "      <td>NaN</td>\n",
       "      <td>ok</td>\n",
       "      <td>4868688743</td>\n",
       "      <td>{'code': 34, 'message': 'Sorry, that page does...</td>\n",
       "    </tr>\n",
       "    <tr>\n",
       "      <th>4618</th>\n",
       "      <td>917745985811566593</td>\n",
       "      <td>917739219010899968</td>\n",
       "      <td>@ZimJay @SheriffClarke Look in the mirror mini...</td>\n",
       "      <td>https://twitter.com/POTUS/status/9177459858115...</td>\n",
       "      <td>Hillary Clinton said that Democratic voters ar...</td>\n",
       "      <td>['https://www.snopes.com/tachyon/2018/03/ratin...</td>\n",
       "      <td>http://pbs.twimg.com/media/DLx28u2WAAAhVTY.jpg</td>\n",
       "      <td>\" Look , the average Democrat voter is just pl...</td>\n",
       "      <td>https://www.snopes.com/fact-check/hillary-clin...</td>\n",
       "      <td>false</td>\n",
       "      <td>NaN</td>\n",
       "      <td>ok</td>\n",
       "      <td>703384522033897472</td>\n",
       "      <td>{'code': 34, 'message': 'Sorry, that page does...</td>\n",
       "    </tr>\n",
       "    <tr>\n",
       "      <th>4619</th>\n",
       "      <td>917756129853296641</td>\n",
       "      <td>917742711339335680</td>\n",
       "      <td>@IngrahamAngle @realDonaldTrump Read what Reag...</td>\n",
       "      <td>https://twitter.com/POTUS/status/9177561298532...</td>\n",
       "      <td>Ronald Reagan said he felt like he was shaking...</td>\n",
       "      <td>['https://www.snopes.com/tachyon/2018/03/ratin...</td>\n",
       "      <td>http://pbs.twimg.com/media/DLx6IEBVwAErwto.jpg</td>\n",
       "      <td>I'UINEVER IT , WHEN I MET THAiYOUNGMAN , lFELT...</td>\n",
       "      <td>https://www.snopes.com/fact-check/reagan-trump...</td>\n",
       "      <td>false</td>\n",
       "      <td>NaN</td>\n",
       "      <td>ok</td>\n",
       "      <td>854166263618088960</td>\n",
       "      <td>{'code': 34, 'message': 'Sorry, that page does...</td>\n",
       "    </tr>\n",
       "    <tr>\n",
       "      <th>4620</th>\n",
       "      <td>917754439481614336</td>\n",
       "      <td>917752003299807232</td>\n",
       "      <td>“Sorry losers and haters, but my I.Q. is one o...</td>\n",
       "      <td>https://twitter.com/POTUS/status/9177544394816...</td>\n",
       "      <td>Donald Trump's IQ, at 156, is comparable to th...</td>\n",
       "      <td>['https://www.snopes.com/tachyon/2018/03/ratin...</td>\n",
       "      <td>http://pbs.twimg.com/media/DLyClQTWsAA93OE.jpg</td>\n",
       "      <td>NaN</td>\n",
       "      <td>https://www.snopes.com/fact-check/donald-trump...</td>\n",
       "      <td>false</td>\n",
       "      <td>NaN</td>\n",
       "      <td>auth</td>\n",
       "      <td>759251</td>\n",
       "      <td>{'code': 34, 'message': 'Sorry, that page does...</td>\n",
       "    </tr>\n",
       "  </tbody>\n",
       "</table>\n",
       "</div>"
      ],
      "text/plain": [
       "                      id         original_id  \\\n",
       "4600  917008562563543040  916890818048294912   \n",
       "4601  917134801416736768  917009839674544128   \n",
       "4602  919401783683936256  917081407960305665   \n",
       "4603  917104093029699586  917102637950017536   \n",
       "4604  917189014918258688  917187370012823553   \n",
       "4605  917937955381088258  917202064358477824   \n",
       "4606  917266413076623360  917248492900249600   \n",
       "4607  917756421017690112  917248535136894977   \n",
       "4608  917388478144499717  917350015059791873   \n",
       "4609  931324102899412993  917394007390425088   \n",
       "4610  917435403262558208  917408316569026560   \n",
       "4611  932404019926110208  917414773322670081   \n",
       "4612  917432224433106945  917420153666703360   \n",
       "4613  917474084530937856  917427575214956544   \n",
       "4614  917488416538972160  917437803138609153   \n",
       "4615  919292155692232705  917532655608127490   \n",
       "4616  917910097845559296  917571711196909568   \n",
       "4617  917675610297765893  917675143710769153   \n",
       "4618  917745985811566593  917739219010899968   \n",
       "4619  917756129853296641  917742711339335680   \n",
       "4620  917754439481614336  917752003299807232   \n",
       "\n",
       "                                             tweet_text  \\\n",
       "4600  @antipandemonium @ShaunKing @NFL @DonteStallwo...   \n",
       "4601  @HarryDowning113 @tia6sc @rodliz1225 @VP @POTU...   \n",
       "4602  Oh now you’ll stand? I think not. Hope you nev...   \n",
       "4603  @ProudResister You mean this guy? https://t.co...   \n",
       "4604  @ThePatriot143 Yeah &amp; this is the Army so ...   \n",
       "4605  @ChrisFagan57 @bridget4kicks @JulianAssange @S...   \n",
       "4606  @DanCorkill1 @TheGrungeHam @carol_NC66 As I ha...   \n",
       "4607  it fucks me up that clickhole wrote one of the...   \n",
       "4608  @USArmy333 @NBCNews @PeterAlexander @TODAYshow...   \n",
       "4609  @VP @POTUS You &amp; your boss should ask the ...   \n",
       "4610  @SonjiCarey @thehill ☝This can't seriously😠 be...   \n",
       "4611    This Shirt Says It All! https://t.co/8OrKgIpbTz   \n",
       "4612  @realDonaldTrump @VP Kneeling disrespectful bu...   \n",
       "4613  @GuyMckee5 @scottinclearh2o @secupp @GOP @NRA ...   \n",
       "4614    Now that’s unfortunate. https://t.co/ozX0T0NL2Y   \n",
       "4615  Exclusive: Judi Dench, who has a Harvey Weinst...   \n",
       "4616  Looks like a Photoshop job.  RT @mersmom8 This...   \n",
       "4617  @DennisDoiron @JoyLapine @H_Combs @VP I think ...   \n",
       "4618  @ZimJay @SheriffClarke Look in the mirror mini...   \n",
       "4619  @IngrahamAngle @realDonaldTrump Read what Reag...   \n",
       "4620  “Sorry losers and haters, but my I.Q. is one o...   \n",
       "\n",
       "                                              tweet_url  \\\n",
       "4600  https://twitter.com/POTUS/status/9170085625635...   \n",
       "4601  https://twitter.com/POTUS/status/9171348014167...   \n",
       "4602  https://twitter.com/POTUS/status/9194017836839...   \n",
       "4603  https://twitter.com/POTUS/status/9171040930296...   \n",
       "4604  https://twitter.com/POTUS/status/9171890149182...   \n",
       "4605  https://twitter.com/POTUS/status/9179379553810...   \n",
       "4606  https://twitter.com/POTUS/status/9172664130766...   \n",
       "4607  https://twitter.com/POTUS/status/9177564210176...   \n",
       "4608  https://twitter.com/POTUS/status/9173884781444...   \n",
       "4609  https://twitter.com/POTUS/status/9313241028994...   \n",
       "4610  https://twitter.com/POTUS/status/9174354032625...   \n",
       "4611  https://twitter.com/POTUS/status/9324040199261...   \n",
       "4612  https://twitter.com/POTUS/status/9174322244331...   \n",
       "4613  https://twitter.com/POTUS/status/9174740845309...   \n",
       "4614  https://twitter.com/POTUS/status/9174884165389...   \n",
       "4615  https://twitter.com/POTUS/status/9192921556922...   \n",
       "4616  https://twitter.com/POTUS/status/9179100978455...   \n",
       "4617  https://twitter.com/POTUS/status/9176756102977...   \n",
       "4618  https://twitter.com/POTUS/status/9177459858115...   \n",
       "4619  https://twitter.com/POTUS/status/9177561298532...   \n",
       "4620  https://twitter.com/POTUS/status/9177544394816...   \n",
       "\n",
       "                                                  claim  \\\n",
       "4600  NFL players did not stand for the national ant...   \n",
       "4601  A meme accurately lists Democrats who have bee...   \n",
       "4602  In October 2017, Colin Kaepernick told a CBS r...   \n",
       "4603  A photograph shows a young Mike Pence with his...   \n",
       "4604  A photograph shows the Army football team knee...   \n",
       "4605  George Soros said that he funded the Black Liv...   \n",
       "4606  The man accused of opening fire on hundreds of...   \n",
       "4607  Barry Wilmore said that he saw astronaut Ramir...   \n",
       "4608  Prior to condemning flag burning in November 2...   \n",
       "4609  A photograph shows the Army football team knee...   \n",
       "4610  Prior to condemning flag burning in November 2...   \n",
       "4611  An image shows Lebron James wearing a \"we marc...   \n",
       "4612  Prior to condemning flag burning in November 2...   \n",
       "4613  Sec. of State Hillary Clinton's approval of a ...   \n",
       "4614  Actress Judi Dench has Havey Weinstein's initi...   \n",
       "4615  Actress Judi Dench has Havey Weinstein's initi...   \n",
       "4616  An image shows Lebron James wearing a \"we marc...   \n",
       "4617  A photograph shows a young Mike Pence with his...   \n",
       "4618  Hillary Clinton said that Democratic voters ar...   \n",
       "4619  Ronald Reagan said he felt like he was shaking...   \n",
       "4620  Donald Trump's IQ, at 156, is comparable to th...   \n",
       "\n",
       "                                                 rating  \\\n",
       "4600  ['https://www.snopes.com/tachyon/2018/03/ratin...   \n",
       "4601  ['https://www.snopes.com/tachyon/2018/03/ratin...   \n",
       "4602  ['https://www.snopes.com/tachyon/2018/03/ratin...   \n",
       "4603  ['https://www.snopes.com/tachyon/2018/03/ratin...   \n",
       "4604  ['https://www.snopes.com/tachyon/2018/03/ratin...   \n",
       "4605  ['https://www.snopes.com/tachyon/2018/03/ratin...   \n",
       "4606  ['https://www.snopes.com/tachyon/2018/03/ratin...   \n",
       "4607  ['https://www.snopes.com/tachyon/2018/03/ratin...   \n",
       "4608  ['https://www.snopes.com/tachyon/2018/03/ratin...   \n",
       "4609  ['https://www.snopes.com/tachyon/2018/03/ratin...   \n",
       "4610  ['https://www.snopes.com/tachyon/2018/03/ratin...   \n",
       "4611  ['https://www.snopes.com/tachyon/2018/03/ratin...   \n",
       "4612  ['https://www.snopes.com/tachyon/2018/03/ratin...   \n",
       "4613  ['https://www.snopes.com/tachyon/2018/03/ratin...   \n",
       "4614  ['https://www.snopes.com/tachyon/2018/03/ratin...   \n",
       "4615  ['https://www.snopes.com/tachyon/2018/03/ratin...   \n",
       "4616  ['https://www.snopes.com/tachyon/2018/03/ratin...   \n",
       "4617  ['https://www.snopes.com/tachyon/2018/03/ratin...   \n",
       "4618  ['https://www.snopes.com/tachyon/2018/03/ratin...   \n",
       "4619  ['https://www.snopes.com/tachyon/2018/03/ratin...   \n",
       "4620  ['https://www.snopes.com/tachyon/2018/03/ratin...   \n",
       "\n",
       "                                              images  \\\n",
       "4600  http://pbs.twimg.com/media/DLlzVL0V4AEFNCG.jpg   \n",
       "4601  http://pbs.twimg.com/media/DLnflb4UQAE6fY5.jpg   \n",
       "4602  http://pbs.twimg.com/media/DLogrJOV4AAZwvw.jpg   \n",
       "4603  http://pbs.twimg.com/media/DLoz7n7UEAAOW6Y.jpg   \n",
       "4604  http://pbs.twimg.com/media/DLqBDJqWkAA0Oz0.jpg   \n",
       "4605  http://pbs.twimg.com/media/DLqOaQYV4AEzRea.jpg   \n",
       "4606  http://pbs.twimg.com/media/DLq4c0CU8AAYLtT.jpg   \n",
       "4607  http://pbs.twimg.com/media/DLq4q82UMAAdf_0.jpg   \n",
       "4608  http://pbs.twimg.com/media/DLsU-J8UIAERqd0.jpg   \n",
       "4609  http://pbs.twimg.com/media/DLs8-7pUQAAgiWd.jpg   \n",
       "4610  http://pbs.twimg.com/media/DLtJ_6BWAAIrP7r.jpg   \n",
       "4611  http://pbs.twimg.com/media/DLtPyjRXkAAuoCe.jpg   \n",
       "4612  http://pbs.twimg.com/media/DLtUw3MW0AAGeyj.jpg   \n",
       "4613  http://pbs.twimg.com/media/DLtbg35VAAA2etM.jpg   \n",
       "4614  http://pbs.twimg.com/media/DLtk0buXkAAO6DT.jpg   \n",
       "4615  http://pbs.twimg.com/media/DLu7Fh7WAAAvowc.jpg   \n",
       "4616  http://pbs.twimg.com/media/DLtPyjRXkAAuoCe.jpg   \n",
       "4617  http://pbs.twimg.com/media/DLw8rUIVwAAHRT_.jpg   \n",
       "4618  http://pbs.twimg.com/media/DLx28u2WAAAhVTY.jpg   \n",
       "4619  http://pbs.twimg.com/media/DLx6IEBVwAErwto.jpg   \n",
       "4620  http://pbs.twimg.com/media/DLyClQTWsAA93OE.jpg   \n",
       "\n",
       "                                            text_images  \\\n",
       "4600  NFL players only started coming on field for t...   \n",
       "4601  nwughtCrime Resistance In 1865 a Democrat kill...   \n",
       "4602  FOX NEWS Breaking News 2m ago Colin Kaepernick...   \n",
       "4603  Mike pence is trying to have this removed from...   \n",
       "4604  Raymon King Jr 1 hr e U . S . Army Football Te...   \n",
       "4605  \" I'm going to bring down the United States by...   \n",
       "4606                                                NaN   \n",
       "4607  Barry Wilmore \" You never know true beauty unt...   \n",
       "4608  e Donald J . Trump @user Follow Burning a flag...   \n",
       "4609  331 likes livingthelifeof_blackgirlmagic Ummmm...   \n",
       "4610  i 11:39 AM Q M ry Ostensarvi 43m Trump : NFL p...   \n",
       "4611  WE MARCH , y'all mad . WE SIT DOWN , y'all mad...   \n",
       "4612  Donald J . Trump great DonakiTrurnp & Follow B...   \n",
       "4613  In 2010 , the State Department under Hillary C...   \n",
       "4614  Weinstein confirmed that Dench had a tattoo th...   \n",
       "4615                                                NaN   \n",
       "4616  WE MARCH , y'all mad . WE SIT DOWN , y'all mad...   \n",
       "4617                                                NaN   \n",
       "4618  \" Look , the average Democrat voter is just pl...   \n",
       "4619  I'UINEVER IT , WHEN I MET THAiYOUNGMAN , lFELT...   \n",
       "4620                                                NaN   \n",
       "\n",
       "                                                 source         label  \\\n",
       "4600  https://www.snopes.com/fact-check/nfl-sideline...       mixture   \n",
       "4601  https://www.snopes.com/fact-check/democrat-sho...  mostly-false   \n",
       "4602  https://www.snopes.com/fact-check/kaepernick-a...         false   \n",
       "4603  https://www.snopes.com/fact-check/mike-pences-...         false   \n",
       "4604  https://www.snopes.com/fact-check/army-footbal...         false   \n",
       "4605  https://www.snopes.com/fact-check/george-soros...         false   \n",
       "4606  https://www.snopes.com/fact-check/las-vegas-sh...         false   \n",
       "4607  https://www.snopes.com/fact-check/barry-wilmor...         false   \n",
       "4608  https://www.snopes.com/fact-check/trumps-flip-...         false   \n",
       "4609  https://www.snopes.com/fact-check/army-footbal...         false   \n",
       "4610  https://www.snopes.com/fact-check/trumps-flip-...         false   \n",
       "4611  https://www.snopes.com/fact-check/lebron-james...         false   \n",
       "4612  https://www.snopes.com/fact-check/trumps-flip-...         false   \n",
       "4613  https://www.snopes.com/fact-check/hillary-clin...         false   \n",
       "4614  https://www.snopes.com/fact-check/judi-dench-h...         false   \n",
       "4615  https://www.snopes.com/fact-check/judi-dench-h...         false   \n",
       "4616  https://www.snopes.com/fact-check/lebron-james...         false   \n",
       "4617  https://www.snopes.com/fact-check/mike-pences-...         false   \n",
       "4618  https://www.snopes.com/fact-check/hillary-clin...         false   \n",
       "4619  https://www.snopes.com/fact-check/reagan-trump...         false   \n",
       "4620  https://www.snopes.com/fact-check/donald-trump...         false   \n",
       "\n",
       "      label_info available              acc_id  \\\n",
       "4600         NaN        ok            28722755   \n",
       "4601         NaN        ok           422041473   \n",
       "4602         NaN        ok           166751745   \n",
       "4603         NaN        ok  867953768041660416   \n",
       "4604         NaN      auth  911585169060003840   \n",
       "4605         NaN      auth            54017596   \n",
       "4606         NaN        ok           124673927   \n",
       "4607         NaN      auth            20600882   \n",
       "4608         NaN        ok  793278250130825216   \n",
       "4609         NaN        ok            24043461   \n",
       "4610         NaN        ok          1277721991   \n",
       "4611         NaN   missing          2301628435   \n",
       "4612         NaN        ok            15694971   \n",
       "4613         NaN        ok          3401758332   \n",
       "4614         NaN   missing            14701191   \n",
       "4615         NaN        ok             2884771   \n",
       "4616         NaN      auth            25241610   \n",
       "4617         NaN        ok          4868688743   \n",
       "4618         NaN        ok  703384522033897472   \n",
       "4619         NaN        ok  854166263618088960   \n",
       "4620         NaN      auth              759251   \n",
       "\n",
       "                                              botometer  \n",
       "4600  {'cap': {'english': 0.5539725719744064, 'unive...  \n",
       "4601  {'cap': {'english': 0.5778862084370772, 'unive...  \n",
       "4602  {'cap': {'english': 0.7920317685697057, 'unive...  \n",
       "4603  {'cap': {'english': 0.22631829961109876, 'univ...  \n",
       "4604  {'code': 34, 'message': 'Sorry, that page does...  \n",
       "4605  {'cap': {'english': 0.9158377984126878, 'unive...  \n",
       "4606  {'cap': {'english': 0.4197222421546159, 'unive...  \n",
       "4607  {'cap': {'english': 0.7176911080698488, 'unive...  \n",
       "4608  {'cap': {'english': 0.4756769663222349, 'unive...  \n",
       "4609  {'cap': {'english': 0.22631829961109876, 'univ...  \n",
       "4610  {'cap': {'english': 0.2520419704315795, 'unive...  \n",
       "4611  {'cap': {'english': 0.8912318555080615, 'unive...  \n",
       "4612  {'cap': {'english': 0.5778862084370772, 'unive...  \n",
       "4613  {'code': 34, 'message': 'Sorry, that page does...  \n",
       "4614  {'code': 34, 'message': 'Sorry, that page does...  \n",
       "4615  {'code': 34, 'message': 'Sorry, that page does...  \n",
       "4616  {'code': 34, 'message': 'Sorry, that page does...  \n",
       "4617  {'code': 34, 'message': 'Sorry, that page does...  \n",
       "4618  {'code': 34, 'message': 'Sorry, that page does...  \n",
       "4619  {'code': 34, 'message': 'Sorry, that page does...  \n",
       "4620  {'code': 34, 'message': 'Sorry, that page does...  "
      ]
     },
     "execution_count": 12,
     "metadata": {},
     "output_type": "execute_result"
    }
   ],
   "source": [
    "df.loc[4600:4620]"
   ]
  },
  {
   "cell_type": "code",
   "execution_count": 6,
   "metadata": {},
   "outputs": [
    {
     "name": "stdout",
     "output_type": "stream",
     "text": [
      "Collecting tweepy==3.6\n",
      "  Downloading tweepy-3.6.0-py2.py3-none-any.whl (29 kB)\n",
      "Requirement already satisfied: requests>=2.11.1 in /home/mihail/.local/lib/python3.8/site-packages (from tweepy==3.6) (2.27.1)\n",
      "Requirement already satisfied: six>=1.10.0 in /usr/lib/python3/dist-packages (from tweepy==3.6) (1.14.0)\n",
      "Requirement already satisfied: requests-oauthlib>=0.7.0 in /home/mihail/.local/lib/python3.8/site-packages (from tweepy==3.6) (1.3.1)\n",
      "Collecting PySocks>=1.5.7\n",
      "  Downloading PySocks-1.7.1-py3-none-any.whl (16 kB)\n",
      "Requirement already satisfied: idna<4,>=2.5; python_version >= \"3\" in /usr/lib/python3/dist-packages (from requests>=2.11.1->tweepy==3.6) (2.8)\n",
      "Requirement already satisfied: certifi>=2017.4.17 in /usr/lib/python3/dist-packages (from requests>=2.11.1->tweepy==3.6) (2019.11.28)\n",
      "Requirement already satisfied: urllib3<1.27,>=1.21.1 in /usr/lib/python3/dist-packages (from requests>=2.11.1->tweepy==3.6) (1.25.8)\n",
      "Requirement already satisfied: charset-normalizer~=2.0.0; python_version >= \"3\" in /home/mihail/.local/lib/python3.8/site-packages (from requests>=2.11.1->tweepy==3.6) (2.0.12)\n",
      "Requirement already satisfied: oauthlib>=3.0.0 in /home/mihail/.local/lib/python3.8/site-packages (from requests-oauthlib>=0.7.0->tweepy==3.6) (3.2.0)\n",
      "Installing collected packages: PySocks, tweepy\n",
      "  Attempting uninstall: tweepy\n",
      "    Found existing installation: tweepy 4.0.0\n",
      "    Uninstalling tweepy-4.0.0:\n",
      "      Successfully uninstalled tweepy-4.0.0\n",
      "Successfully installed PySocks-1.7.1 tweepy-3.6.0\n",
      "Note: you may need to restart the kernel to use updated packages.\n"
     ]
    }
   ],
   "source": [
    "pip install tweepy==3.6"
   ]
  },
  {
   "cell_type": "code",
   "execution_count": 164,
   "metadata": {},
   "outputs": [
    {
     "data": {
      "text/plain": [
       "6232"
      ]
     },
     "execution_count": 164,
     "metadata": {},
     "output_type": "execute_result"
    }
   ],
   "source": [
    "df.botometer.isna().sum()"
   ]
  },
  {
   "cell_type": "code",
   "execution_count": 167,
   "metadata": {},
   "outputs": [
    {
     "data": {
      "text/html": [
       "<div>\n",
       "<style scoped>\n",
       "    .dataframe tbody tr th:only-of-type {\n",
       "        vertical-align: middle;\n",
       "    }\n",
       "\n",
       "    .dataframe tbody tr th {\n",
       "        vertical-align: top;\n",
       "    }\n",
       "\n",
       "    .dataframe thead th {\n",
       "        text-align: right;\n",
       "    }\n",
       "</style>\n",
       "<table border=\"1\" class=\"dataframe\">\n",
       "  <thead>\n",
       "    <tr style=\"text-align: right;\">\n",
       "      <th></th>\n",
       "      <th>id</th>\n",
       "      <th>original_id</th>\n",
       "      <th>tweet_text</th>\n",
       "      <th>tweet_url</th>\n",
       "      <th>claim</th>\n",
       "      <th>rating</th>\n",
       "      <th>images</th>\n",
       "      <th>text_images</th>\n",
       "      <th>source</th>\n",
       "      <th>label</th>\n",
       "      <th>label_info</th>\n",
       "      <th>available</th>\n",
       "      <th>acc_id</th>\n",
       "      <th>botometer</th>\n",
       "    </tr>\n",
       "  </thead>\n",
       "  <tbody>\n",
       "    <tr>\n",
       "      <th>904</th>\n",
       "      <td>777593547142889472</td>\n",
       "      <td>777587316923600896</td>\n",
       "      <td>The @WSJ has different content in different lo...</td>\n",
       "      <td>https://twitter.com/POTUS/status/7775935471428...</td>\n",
       "      <td>The Wall Street Journal ran Donald Trump stori...</td>\n",
       "      <td>['https://www.snopes.com/tachyon/2018/03/ratin...</td>\n",
       "      <td>http://pbs.twimg.com/media/CsqLirWUAAACzYg.jpg</td>\n",
       "      <td>TIIE WALL STREET JOIRNAL . THE LOAFER STEPS UP...</td>\n",
       "      <td>https://www.snopes.com/fact-check/wsj-differen...</td>\n",
       "      <td>true</td>\n",
       "      <td>NaN</td>\n",
       "      <td>ok</td>\n",
       "      <td>3362345172</td>\n",
       "      <td>{'code': 34, 'message': 'Sorry, that page does...</td>\n",
       "    </tr>\n",
       "  </tbody>\n",
       "</table>\n",
       "</div>"
      ],
      "text/plain": [
       "                     id         original_id  \\\n",
       "904  777593547142889472  777587316923600896   \n",
       "\n",
       "                                            tweet_text  \\\n",
       "904  The @WSJ has different content in different lo...   \n",
       "\n",
       "                                             tweet_url  \\\n",
       "904  https://twitter.com/POTUS/status/7775935471428...   \n",
       "\n",
       "                                                 claim  \\\n",
       "904  The Wall Street Journal ran Donald Trump stori...   \n",
       "\n",
       "                                                rating  \\\n",
       "904  ['https://www.snopes.com/tachyon/2018/03/ratin...   \n",
       "\n",
       "                                             images  \\\n",
       "904  http://pbs.twimg.com/media/CsqLirWUAAACzYg.jpg   \n",
       "\n",
       "                                           text_images  \\\n",
       "904  TIIE WALL STREET JOIRNAL . THE LOAFER STEPS UP...   \n",
       "\n",
       "                                                source label  label_info  \\\n",
       "904  https://www.snopes.com/fact-check/wsj-differen...  true         NaN   \n",
       "\n",
       "    available      acc_id                                          botometer  \n",
       "904        ok  3362345172  {'code': 34, 'message': 'Sorry, that page does...  "
      ]
     },
     "execution_count": 167,
     "metadata": {},
     "output_type": "execute_result"
    }
   ],
   "source": [
    "df[df.acc_id.isin([3362345172])]"
   ]
  },
  {
   "cell_type": "code",
   "execution_count": 177,
   "metadata": {},
   "outputs": [],
   "source": [
    "df.to_csv(\"snopes_1429.csv\", index=False)"
   ]
  },
  {
   "cell_type": "code",
   "execution_count": 12,
   "metadata": {},
   "outputs": [],
   "source": [
    "df.to_csv(\"snopes_1942.csv\", index=False)"
   ]
  },
  {
   "cell_type": "code",
   "execution_count": 21,
   "metadata": {},
   "outputs": [],
   "source": [
    "df.to_csv(\"snopes_2990.csv\", index=False)"
   ]
  },
  {
   "cell_type": "code",
   "execution_count": 22,
   "metadata": {},
   "outputs": [],
   "source": [
    "df = pd.read_csv(\"snopes_2990.csv\")"
   ]
  },
  {
   "cell_type": "code",
   "execution_count": 23,
   "metadata": {},
   "outputs": [
    {
     "data": {
      "text/html": [
       "<div>\n",
       "<style scoped>\n",
       "    .dataframe tbody tr th:only-of-type {\n",
       "        vertical-align: middle;\n",
       "    }\n",
       "\n",
       "    .dataframe tbody tr th {\n",
       "        vertical-align: top;\n",
       "    }\n",
       "\n",
       "    .dataframe thead th {\n",
       "        text-align: right;\n",
       "    }\n",
       "</style>\n",
       "<table border=\"1\" class=\"dataframe\">\n",
       "  <thead>\n",
       "    <tr style=\"text-align: right;\">\n",
       "      <th></th>\n",
       "      <th>id</th>\n",
       "      <th>original_id</th>\n",
       "      <th>tweet_text</th>\n",
       "      <th>tweet_url</th>\n",
       "      <th>claim</th>\n",
       "      <th>rating</th>\n",
       "      <th>images</th>\n",
       "      <th>text_images</th>\n",
       "      <th>source</th>\n",
       "      <th>label</th>\n",
       "      <th>label_info</th>\n",
       "      <th>available</th>\n",
       "      <th>acc_id</th>\n",
       "      <th>botometer</th>\n",
       "    </tr>\n",
       "  </thead>\n",
       "  <tbody>\n",
       "    <tr>\n",
       "      <th>2980</th>\n",
       "      <td>851380310403108864</td>\n",
       "      <td>851369498351460352</td>\n",
       "      <td>IF TOMAHAWK MISSLES ARE AROUND A $1M EACH, WHY...</td>\n",
       "      <td>https://twitter.com/POTUS/status/8513803104031...</td>\n",
       "      <td>CNN was caught using photographs of the same g...</td>\n",
       "      <td>['https://www.snopes.com/tachyon/2018/03/ratin...</td>\n",
       "      <td>http://pbs.twimg.com/media/C9CsB6uXoAEaorL.jpg</td>\n",
       "      <td>NaN</td>\n",
       "      <td>https://www.snopes.com/fact-check/cnn-same-ref...</td>\n",
       "      <td>false</td>\n",
       "      <td>NaN</td>\n",
       "      <td>ok</td>\n",
       "      <td>113423108</td>\n",
       "      <td>{'cap': {'english': 0.8076035454448582, 'unive...</td>\n",
       "    </tr>\n",
       "    <tr>\n",
       "      <th>2981</th>\n",
       "      <td>851512935176425472</td>\n",
       "      <td>851501829351501824</td>\n",
       "      <td>United #UnitedAirlines https://t.co/GzXudvd9BD</td>\n",
       "      <td>https://twitter.com/POTUS/status/8515129351764...</td>\n",
       "      <td>United Airlines will begin charging for overhe...</td>\n",
       "      <td>['https://www.snopes.com/tachyon/2018/03/ratin...</td>\n",
       "      <td>http://pbs.twimg.com/media/C9EkZW-WsAAXsa-.jpg</td>\n",
       "      <td>United Airlines just announced they will now b...</td>\n",
       "      <td>https://www.snopes.com/fact-check/united-airli...</td>\n",
       "      <td>mostly-false</td>\n",
       "      <td>NaN</td>\n",
       "      <td>ok</td>\n",
       "      <td>794706601676591104</td>\n",
       "      <td>{'code': 34, 'message': 'Sorry, that page does...</td>\n",
       "    </tr>\n",
       "    <tr>\n",
       "      <th>2982</th>\n",
       "      <td>851560765433806849</td>\n",
       "      <td>851555419457585153</td>\n",
       "      <td>Honestly- I'm not a hateful person, but I hope...</td>\n",
       "      <td>https://twitter.com/POTUS/status/8515607654338...</td>\n",
       "      <td>Whoopi Goldberg said that \"military widows lov...</td>\n",
       "      <td>['https://www.snopes.com/tachyon/2018/03/ratin...</td>\n",
       "      <td>http://pbs.twimg.com/media/C9FVIyjVYAA6ZV6.jpg</td>\n",
       "      <td>.. JTHWITH JONES \" She was just looking for at...</td>\n",
       "      <td>https://www.snopes.com/fact-check/whoopi-goldb...</td>\n",
       "      <td>false</td>\n",
       "      <td>NaN</td>\n",
       "      <td>ok</td>\n",
       "      <td>59435428</td>\n",
       "      <td>{'cap': {'english': 0.30618807248975083, 'univ...</td>\n",
       "    </tr>\n",
       "    <tr>\n",
       "      <th>2983</th>\n",
       "      <td>851580394663182337</td>\n",
       "      <td>851567595409088518</td>\n",
       "      <td>@realDonaldTrump Were the crossed fingers behi...</td>\n",
       "      <td>https://twitter.com/POTUS/status/8515803946631...</td>\n",
       "      <td>Neil Gorsuch called for the \"advancement of th...</td>\n",
       "      <td>['https://www.snopes.com/tachyon/2018/03/ratin...</td>\n",
       "      <td>http://pbs.twimg.com/media/C9Ff_ZjXsAAp0EG.jpg</td>\n",
       "      <td>MakAusGr 8Again @user . Agaln Follow @user Ano...</td>\n",
       "      <td>https://www.snopes.com/fact-check/neil-gorsuch...</td>\n",
       "      <td>false</td>\n",
       "      <td>NaN</td>\n",
       "      <td>ok</td>\n",
       "      <td>3306164498</td>\n",
       "      <td>{'cap': {'english': 0.4756769663222349, 'unive...</td>\n",
       "    </tr>\n",
       "    <tr>\n",
       "      <th>2984</th>\n",
       "      <td>851574095145828352</td>\n",
       "      <td>851573350342242304</td>\n",
       "      <td>Now how do you teach a squirrel anything, oh I...</td>\n",
       "      <td>https://twitter.com/POTUS/status/8515740951458...</td>\n",
       "      <td>A woman was arrested for training squirrels to...</td>\n",
       "      <td>['https://www.snopes.com/tachyon/2018/03/ratin...</td>\n",
       "      <td>http://pbs.twimg.com/media/C9FlcdkVoAEzlwt.jpg</td>\n",
       "      <td>woMAN ARRESTED FOR TRAINING SQUIRRELS TO ATTAC...</td>\n",
       "      <td>https://www.snopes.com/fact-check/attack-squir...</td>\n",
       "      <td>false</td>\n",
       "      <td>NaN</td>\n",
       "      <td>missing</td>\n",
       "      <td>257715213</td>\n",
       "      <td>{'cap': {'english': 0.8054784364249085, 'unive...</td>\n",
       "    </tr>\n",
       "    <tr>\n",
       "      <th>2985</th>\n",
       "      <td>851729777727725568</td>\n",
       "      <td>851728536595345409</td>\n",
       "      <td>And the Australian Govt awards a $2b missile c...</td>\n",
       "      <td>https://twitter.com/POTUS/status/8517297777277...</td>\n",
       "      <td>President Trump owns stock in Raytheon and dir...</td>\n",
       "      <td>['https://www.snopes.com/tachyon/2018/03/ratin...</td>\n",
       "      <td>http://pbs.twimg.com/media/C9HykJAUMAA-LTi.jpg</td>\n",
       "      <td>Meanwhile , the stocks of the military contrac...</td>\n",
       "      <td>https://www.snopes.com/fact-check/trump-raythe...</td>\n",
       "      <td>unproven</td>\n",
       "      <td>NaN</td>\n",
       "      <td>ok</td>\n",
       "      <td>285431964</td>\n",
       "      <td>{'cap': {'english': 0.659646495284545, 'univer...</td>\n",
       "    </tr>\n",
       "    <tr>\n",
       "      <th>2986</th>\n",
       "      <td>885580034399850496</td>\n",
       "      <td>851753867989721088</td>\n",
       "      <td>When CNN Uses The Same Girl In 3 Different Ref...</td>\n",
       "      <td>https://twitter.com/POTUS/status/8855800343998...</td>\n",
       "      <td>CNN was caught using photographs of the same g...</td>\n",
       "      <td>['https://www.snopes.com/tachyon/2018/03/ratin...</td>\n",
       "      <td>http://pbs.twimg.com/media/C9IJlbHUIAA7Hzr.jpg</td>\n",
       "      <td>men CNN ugg game In 3 dffaent Refugee Crigig p...</td>\n",
       "      <td>https://www.snopes.com/fact-check/cnn-same-ref...</td>\n",
       "      <td>false</td>\n",
       "      <td>NaN</td>\n",
       "      <td>ok</td>\n",
       "      <td>785149463413268480</td>\n",
       "      <td>{'cap': {'english': 0.7611878625273879, 'unive...</td>\n",
       "    </tr>\n",
       "    <tr>\n",
       "      <th>2987</th>\n",
       "      <td>851818307522973696</td>\n",
       "      <td>851794590415724544</td>\n",
       "      <td>Annual budget of the National Endowment for th...</td>\n",
       "      <td>https://twitter.com/POTUS/status/8518183075229...</td>\n",
       "      <td>Providing security for First Lady Melania Trum...</td>\n",
       "      <td>['https://www.snopes.com/tachyon/2018/03/ratin...</td>\n",
       "      <td>http://pbs.twimg.com/media/C9IuqehU0AA6VNz.jpg</td>\n",
       "      <td>NaN</td>\n",
       "      <td>https://www.snopes.com/fact-check/melania-trum...</td>\n",
       "      <td>unproven</td>\n",
       "      <td>NaN</td>\n",
       "      <td>ok</td>\n",
       "      <td>784890784273215488</td>\n",
       "      <td>{'cap': {'english': 0.7546218700467833, 'unive...</td>\n",
       "    </tr>\n",
       "    <tr>\n",
       "      <th>2988</th>\n",
       "      <td>852058180729413633</td>\n",
       "      <td>851914780914987010</td>\n",
       "      <td>#WhiteHelmets working w/victims of sarin gas  ...</td>\n",
       "      <td>https://twitter.com/POTUS/status/8520581807294...</td>\n",
       "      <td>The search-and-rescue organization in Syria, t...</td>\n",
       "      <td>['https://www.snopes.com/tachyon/2018/03/ratin...</td>\n",
       "      <td>http://pbs.twimg.com/media/C9KbKMiW0AMAadM.jpg</td>\n",
       "      <td>NaN</td>\n",
       "      <td>https://www.snopes.com/fact-check/syrian-rescu...</td>\n",
       "      <td>false</td>\n",
       "      <td>NaN</td>\n",
       "      <td>ok</td>\n",
       "      <td>282695161</td>\n",
       "      <td>{'cap': {'english': 0.793087009461318, 'univer...</td>\n",
       "    </tr>\n",
       "    <tr>\n",
       "      <th>2989</th>\n",
       "      <td>852315244336562176</td>\n",
       "      <td>851971479642263552</td>\n",
       "      <td>@anne_goldgar @simon_schama I honestly don't k...</td>\n",
       "      <td>https://twitter.com/POTUS/status/8523152443365...</td>\n",
       "      <td>In a botched attempt to clarify his previous s...</td>\n",
       "      <td>['https://www.snopes.com/tachyon/2018/03/ratin...</td>\n",
       "      <td>http://pbs.twimg.com/media/C9LO3XnUQAAEqsS.jpg</td>\n",
       "      <td>Press Secretary Sean Spicer 3 hrs The media ha...</td>\n",
       "      <td>https://www.snopes.com/fact-check/spicer-weapo...</td>\n",
       "      <td>false</td>\n",
       "      <td>NaN</td>\n",
       "      <td>missing</td>\n",
       "      <td>16622739</td>\n",
       "      <td>{'cap': {'english': 0.5027122940873614, 'unive...</td>\n",
       "    </tr>\n",
       "    <tr>\n",
       "      <th>2990</th>\n",
       "      <td>852585427034820609</td>\n",
       "      <td>851977156271976448</td>\n",
       "      <td>You know who else thought that Jews were not G...</td>\n",
       "      <td>https://twitter.com/POTUS/status/8525854270348...</td>\n",
       "      <td>In a botched attempt to clarify his previous s...</td>\n",
       "      <td>['https://www.snopes.com/tachyon/2018/03/ratin...</td>\n",
       "      <td>http://pbs.twimg.com/media/C9LUtI4XYAEUovx.jpg</td>\n",
       "      <td>Press Secretary Sean Spicer 6 hrs . e The medi...</td>\n",
       "      <td>https://www.snopes.com/fact-check/spicer-weapo...</td>\n",
       "      <td>false</td>\n",
       "      <td>NaN</td>\n",
       "      <td>ok</td>\n",
       "      <td>22879254</td>\n",
       "      <td>{'cap': {'english': 0.30618807248975083, 'univ...</td>\n",
       "    </tr>\n",
       "    <tr>\n",
       "      <th>2991</th>\n",
       "      <td>852115530165125120</td>\n",
       "      <td>852038216882372608</td>\n",
       "      <td>#OffendEveryoneIn4Words  ...I'd be dating her....</td>\n",
       "      <td>https://twitter.com/POTUS/status/8521155301651...</td>\n",
       "      <td>A photograph shows Ivanka Trump grinding on th...</td>\n",
       "      <td>['https://www.snopes.com/tachyon/2018/03/ratin...</td>\n",
       "      <td>http://pbs.twimg.com/media/C9MMPAKVwAMVmYg.jpg</td>\n",
       "      <td>NaN</td>\n",
       "      <td>https://www.snopes.com/fact-check/ivanka-trump...</td>\n",
       "      <td>mixture</td>\n",
       "      <td>NaN</td>\n",
       "      <td>ok</td>\n",
       "      <td>1640929196</td>\n",
       "      <td>{'code': 34, 'message': 'Sorry, that page does...</td>\n",
       "    </tr>\n",
       "    <tr>\n",
       "      <th>2992</th>\n",
       "      <td>852106092477767680</td>\n",
       "      <td>852062484827693056</td>\n",
       "      <td>Another WH fakery, same girl in three differen...</td>\n",
       "      <td>https://twitter.com/POTUS/status/8521060924777...</td>\n",
       "      <td>CNN was caught using photographs of the same g...</td>\n",
       "      <td>['https://www.snopes.com/tachyon/2018/03/ratin...</td>\n",
       "      <td>http://pbs.twimg.com/media/C9MiToZXYAAfcjk.jpg</td>\n",
       "      <td>NaN</td>\n",
       "      <td>https://www.snopes.com/fact-check/cnn-same-ref...</td>\n",
       "      <td>false</td>\n",
       "      <td>NaN</td>\n",
       "      <td>ok</td>\n",
       "      <td>1289954977</td>\n",
       "      <td>{'code': 34, 'message': 'Sorry, that page does...</td>\n",
       "    </tr>\n",
       "    <tr>\n",
       "      <th>2993</th>\n",
       "      <td>852295102684962817</td>\n",
       "      <td>852159615563378690</td>\n",
       "      <td>@joerogan Did you see this? Southwest airlines...</td>\n",
       "      <td>https://twitter.com/POTUS/status/8522951026849...</td>\n",
       "      <td>Southwest Airlines changed their slogan to cap...</td>\n",
       "      <td>['https://www.snopes.com/tachyon/2018/03/ratin...</td>\n",
       "      <td>http://pbs.twimg.com/media/C9N6poRW0AEkMXD.jpg</td>\n",
       "      <td>Southweste We beat the competition . Not you .</td>\n",
       "      <td>https://www.snopes.com/fact-check/southwest-ai...</td>\n",
       "      <td>false</td>\n",
       "      <td>NaN</td>\n",
       "      <td>missing</td>\n",
       "      <td>221797984</td>\n",
       "      <td>NaN</td>\n",
       "    </tr>\n",
       "    <tr>\n",
       "      <th>2994</th>\n",
       "      <td>852230036258205696</td>\n",
       "      <td>852218990789263360</td>\n",
       "      <td>@yzbeauty4him @TrumpLovePutin @Charlen92128804...</td>\n",
       "      <td>https://twitter.com/POTUS/status/8522300362582...</td>\n",
       "      <td>TV evangelist Pat Robertson described nude pho...</td>\n",
       "      <td>['https://www.snopes.com/tachyon/2018/03/ratin...</td>\n",
       "      <td>http://pbs.twimg.com/media/C9Owph9WsAQ2kdm.jpg</td>\n",
       "      <td>Pot Roberson comments on Michelle Otxvna's \" M...</td>\n",
       "      <td>https://www.snopes.com/fact-check/pat-robertso...</td>\n",
       "      <td>false</td>\n",
       "      <td>NaN</td>\n",
       "      <td>ok</td>\n",
       "      <td>787314168219176960</td>\n",
       "      <td>NaN</td>\n",
       "    </tr>\n",
       "    <tr>\n",
       "      <th>2995</th>\n",
       "      <td>852242215640457216</td>\n",
       "      <td>852238591484940289</td>\n",
       "      <td>Ronald Reagan when he first met Trump. https:/...</td>\n",
       "      <td>https://twitter.com/POTUS/status/8522422156404...</td>\n",
       "      <td>Ronald Reagan said he felt like he was shaking...</td>\n",
       "      <td>['https://www.snopes.com/tachyon/2018/03/ratin...</td>\n",
       "      <td>http://pbs.twimg.com/media/C9PCXNMXkAIHONx.jpg</td>\n",
       "      <td>Prophetic Reagan For the life of me , ' and I'...</td>\n",
       "      <td>https://www.snopes.com/fact-check/reagan-trump...</td>\n",
       "      <td>false</td>\n",
       "      <td>NaN</td>\n",
       "      <td>ok</td>\n",
       "      <td>2719597309</td>\n",
       "      <td>NaN</td>\n",
       "    </tr>\n",
       "    <tr>\n",
       "      <th>2996</th>\n",
       "      <td>852240452745142273</td>\n",
       "      <td>852238948046966785</td>\n",
       "      <td>Ben Carson trending 4 getting stuck in an elev...</td>\n",
       "      <td>https://twitter.com/POTUS/status/8522404527451...</td>\n",
       "      <td>HUD director Ben Carson found more than $500 b...</td>\n",
       "      <td>['https://www.snopes.com/tachyon/2018/03/ratin...</td>\n",
       "      <td>http://pbs.twimg.com/media/C9PCzbQWAAExtk5.jpg</td>\n",
       "      <td>ooo AT &amp; T 3:12 PM thetruthdivision.com MENU =...</td>\n",
       "      <td>https://www.snopes.com/fact-check/carson-hud-a...</td>\n",
       "      <td>mostly-false</td>\n",
       "      <td>NaN</td>\n",
       "      <td>ok</td>\n",
       "      <td>4427224377</td>\n",
       "      <td>NaN</td>\n",
       "    </tr>\n",
       "    <tr>\n",
       "      <th>2997</th>\n",
       "      <td>852346862552076289</td>\n",
       "      <td>852245457321504768</td>\n",
       "      <td>Donald at his finest doing to himself what he'...</td>\n",
       "      <td>https://twitter.com/POTUS/status/8523468625520...</td>\n",
       "      <td>A photograph shows Donald Trump with a diarrhe...</td>\n",
       "      <td>['https://www.snopes.com/tachyon/2018/03/ratin...</td>\n",
       "      <td>http://pbs.twimg.com/media/C9PIuQDUQAAtFJ1.jpg</td>\n",
       "      <td>NaN</td>\n",
       "      <td>https://www.snopes.com/fact-check/trump-diarrh...</td>\n",
       "      <td>false</td>\n",
       "      <td>NaN</td>\n",
       "      <td>ok</td>\n",
       "      <td>325414439</td>\n",
       "      <td>NaN</td>\n",
       "    </tr>\n",
       "    <tr>\n",
       "      <th>2998</th>\n",
       "      <td>852348237390282755</td>\n",
       "      <td>852258086454673408</td>\n",
       "      <td>That shitty fatty doing to himself what he's d...</td>\n",
       "      <td>https://twitter.com/POTUS/status/8523482373902...</td>\n",
       "      <td>A photograph shows Donald Trump with a diarrhe...</td>\n",
       "      <td>['https://www.snopes.com/tachyon/2018/03/ratin...</td>\n",
       "      <td>http://pbs.twimg.com/media/C9PUNaOUwAAf_rq.jpg</td>\n",
       "      <td>NaN</td>\n",
       "      <td>https://www.snopes.com/fact-check/trump-diarrh...</td>\n",
       "      <td>false</td>\n",
       "      <td>NaN</td>\n",
       "      <td>ok</td>\n",
       "      <td>836800363</td>\n",
       "      <td>NaN</td>\n",
       "    </tr>\n",
       "    <tr>\n",
       "      <th>2999</th>\n",
       "      <td>852362322853146624</td>\n",
       "      <td>852292939661402113</td>\n",
       "      <td>Try it,,, even if they protest and picket. htt...</td>\n",
       "      <td>https://twitter.com/POTUS/status/8523623228531...</td>\n",
       "      <td>Actor Bill Murray said in order to teach child...</td>\n",
       "      <td>['https://www.snopes.com/tachyon/2018/03/ratin...</td>\n",
       "      <td>http://pbs.twimg.com/media/C9Pz6UJWAAQhp4L.jpg</td>\n",
       "      <td>NaN</td>\n",
       "      <td>https://www.snopes.com/fact-check/bill-murray-...</td>\n",
       "      <td>false</td>\n",
       "      <td>NaN</td>\n",
       "      <td>ok</td>\n",
       "      <td>313460745</td>\n",
       "      <td>NaN</td>\n",
       "    </tr>\n",
       "  </tbody>\n",
       "</table>\n",
       "</div>"
      ],
      "text/plain": [
       "                      id         original_id  \\\n",
       "2980  851380310403108864  851369498351460352   \n",
       "2981  851512935176425472  851501829351501824   \n",
       "2982  851560765433806849  851555419457585153   \n",
       "2983  851580394663182337  851567595409088518   \n",
       "2984  851574095145828352  851573350342242304   \n",
       "2985  851729777727725568  851728536595345409   \n",
       "2986  885580034399850496  851753867989721088   \n",
       "2987  851818307522973696  851794590415724544   \n",
       "2988  852058180729413633  851914780914987010   \n",
       "2989  852315244336562176  851971479642263552   \n",
       "2990  852585427034820609  851977156271976448   \n",
       "2991  852115530165125120  852038216882372608   \n",
       "2992  852106092477767680  852062484827693056   \n",
       "2993  852295102684962817  852159615563378690   \n",
       "2994  852230036258205696  852218990789263360   \n",
       "2995  852242215640457216  852238591484940289   \n",
       "2996  852240452745142273  852238948046966785   \n",
       "2997  852346862552076289  852245457321504768   \n",
       "2998  852348237390282755  852258086454673408   \n",
       "2999  852362322853146624  852292939661402113   \n",
       "\n",
       "                                             tweet_text  \\\n",
       "2980  IF TOMAHAWK MISSLES ARE AROUND A $1M EACH, WHY...   \n",
       "2981     United #UnitedAirlines https://t.co/GzXudvd9BD   \n",
       "2982  Honestly- I'm not a hateful person, but I hope...   \n",
       "2983  @realDonaldTrump Were the crossed fingers behi...   \n",
       "2984  Now how do you teach a squirrel anything, oh I...   \n",
       "2985  And the Australian Govt awards a $2b missile c...   \n",
       "2986  When CNN Uses The Same Girl In 3 Different Ref...   \n",
       "2987  Annual budget of the National Endowment for th...   \n",
       "2988  #WhiteHelmets working w/victims of sarin gas  ...   \n",
       "2989  @anne_goldgar @simon_schama I honestly don't k...   \n",
       "2990  You know who else thought that Jews were not G...   \n",
       "2991  #OffendEveryoneIn4Words  ...I'd be dating her....   \n",
       "2992  Another WH fakery, same girl in three differen...   \n",
       "2993  @joerogan Did you see this? Southwest airlines...   \n",
       "2994  @yzbeauty4him @TrumpLovePutin @Charlen92128804...   \n",
       "2995  Ronald Reagan when he first met Trump. https:/...   \n",
       "2996  Ben Carson trending 4 getting stuck in an elev...   \n",
       "2997  Donald at his finest doing to himself what he'...   \n",
       "2998  That shitty fatty doing to himself what he's d...   \n",
       "2999  Try it,,, even if they protest and picket. htt...   \n",
       "\n",
       "                                              tweet_url  \\\n",
       "2980  https://twitter.com/POTUS/status/8513803104031...   \n",
       "2981  https://twitter.com/POTUS/status/8515129351764...   \n",
       "2982  https://twitter.com/POTUS/status/8515607654338...   \n",
       "2983  https://twitter.com/POTUS/status/8515803946631...   \n",
       "2984  https://twitter.com/POTUS/status/8515740951458...   \n",
       "2985  https://twitter.com/POTUS/status/8517297777277...   \n",
       "2986  https://twitter.com/POTUS/status/8855800343998...   \n",
       "2987  https://twitter.com/POTUS/status/8518183075229...   \n",
       "2988  https://twitter.com/POTUS/status/8520581807294...   \n",
       "2989  https://twitter.com/POTUS/status/8523152443365...   \n",
       "2990  https://twitter.com/POTUS/status/8525854270348...   \n",
       "2991  https://twitter.com/POTUS/status/8521155301651...   \n",
       "2992  https://twitter.com/POTUS/status/8521060924777...   \n",
       "2993  https://twitter.com/POTUS/status/8522951026849...   \n",
       "2994  https://twitter.com/POTUS/status/8522300362582...   \n",
       "2995  https://twitter.com/POTUS/status/8522422156404...   \n",
       "2996  https://twitter.com/POTUS/status/8522404527451...   \n",
       "2997  https://twitter.com/POTUS/status/8523468625520...   \n",
       "2998  https://twitter.com/POTUS/status/8523482373902...   \n",
       "2999  https://twitter.com/POTUS/status/8523623228531...   \n",
       "\n",
       "                                                  claim  \\\n",
       "2980  CNN was caught using photographs of the same g...   \n",
       "2981  United Airlines will begin charging for overhe...   \n",
       "2982  Whoopi Goldberg said that \"military widows lov...   \n",
       "2983  Neil Gorsuch called for the \"advancement of th...   \n",
       "2984  A woman was arrested for training squirrels to...   \n",
       "2985  President Trump owns stock in Raytheon and dir...   \n",
       "2986  CNN was caught using photographs of the same g...   \n",
       "2987  Providing security for First Lady Melania Trum...   \n",
       "2988  The search-and-rescue organization in Syria, t...   \n",
       "2989  In a botched attempt to clarify his previous s...   \n",
       "2990  In a botched attempt to clarify his previous s...   \n",
       "2991  A photograph shows Ivanka Trump grinding on th...   \n",
       "2992  CNN was caught using photographs of the same g...   \n",
       "2993  Southwest Airlines changed their slogan to cap...   \n",
       "2994  TV evangelist Pat Robertson described nude pho...   \n",
       "2995  Ronald Reagan said he felt like he was shaking...   \n",
       "2996  HUD director Ben Carson found more than $500 b...   \n",
       "2997  A photograph shows Donald Trump with a diarrhe...   \n",
       "2998  A photograph shows Donald Trump with a diarrhe...   \n",
       "2999  Actor Bill Murray said in order to teach child...   \n",
       "\n",
       "                                                 rating  \\\n",
       "2980  ['https://www.snopes.com/tachyon/2018/03/ratin...   \n",
       "2981  ['https://www.snopes.com/tachyon/2018/03/ratin...   \n",
       "2982  ['https://www.snopes.com/tachyon/2018/03/ratin...   \n",
       "2983  ['https://www.snopes.com/tachyon/2018/03/ratin...   \n",
       "2984  ['https://www.snopes.com/tachyon/2018/03/ratin...   \n",
       "2985  ['https://www.snopes.com/tachyon/2018/03/ratin...   \n",
       "2986  ['https://www.snopes.com/tachyon/2018/03/ratin...   \n",
       "2987  ['https://www.snopes.com/tachyon/2018/03/ratin...   \n",
       "2988  ['https://www.snopes.com/tachyon/2018/03/ratin...   \n",
       "2989  ['https://www.snopes.com/tachyon/2018/03/ratin...   \n",
       "2990  ['https://www.snopes.com/tachyon/2018/03/ratin...   \n",
       "2991  ['https://www.snopes.com/tachyon/2018/03/ratin...   \n",
       "2992  ['https://www.snopes.com/tachyon/2018/03/ratin...   \n",
       "2993  ['https://www.snopes.com/tachyon/2018/03/ratin...   \n",
       "2994  ['https://www.snopes.com/tachyon/2018/03/ratin...   \n",
       "2995  ['https://www.snopes.com/tachyon/2018/03/ratin...   \n",
       "2996  ['https://www.snopes.com/tachyon/2018/03/ratin...   \n",
       "2997  ['https://www.snopes.com/tachyon/2018/03/ratin...   \n",
       "2998  ['https://www.snopes.com/tachyon/2018/03/ratin...   \n",
       "2999  ['https://www.snopes.com/tachyon/2018/03/ratin...   \n",
       "\n",
       "                                              images  \\\n",
       "2980  http://pbs.twimg.com/media/C9CsB6uXoAEaorL.jpg   \n",
       "2981  http://pbs.twimg.com/media/C9EkZW-WsAAXsa-.jpg   \n",
       "2982  http://pbs.twimg.com/media/C9FVIyjVYAA6ZV6.jpg   \n",
       "2983  http://pbs.twimg.com/media/C9Ff_ZjXsAAp0EG.jpg   \n",
       "2984  http://pbs.twimg.com/media/C9FlcdkVoAEzlwt.jpg   \n",
       "2985  http://pbs.twimg.com/media/C9HykJAUMAA-LTi.jpg   \n",
       "2986  http://pbs.twimg.com/media/C9IJlbHUIAA7Hzr.jpg   \n",
       "2987  http://pbs.twimg.com/media/C9IuqehU0AA6VNz.jpg   \n",
       "2988  http://pbs.twimg.com/media/C9KbKMiW0AMAadM.jpg   \n",
       "2989  http://pbs.twimg.com/media/C9LO3XnUQAAEqsS.jpg   \n",
       "2990  http://pbs.twimg.com/media/C9LUtI4XYAEUovx.jpg   \n",
       "2991  http://pbs.twimg.com/media/C9MMPAKVwAMVmYg.jpg   \n",
       "2992  http://pbs.twimg.com/media/C9MiToZXYAAfcjk.jpg   \n",
       "2993  http://pbs.twimg.com/media/C9N6poRW0AEkMXD.jpg   \n",
       "2994  http://pbs.twimg.com/media/C9Owph9WsAQ2kdm.jpg   \n",
       "2995  http://pbs.twimg.com/media/C9PCXNMXkAIHONx.jpg   \n",
       "2996  http://pbs.twimg.com/media/C9PCzbQWAAExtk5.jpg   \n",
       "2997  http://pbs.twimg.com/media/C9PIuQDUQAAtFJ1.jpg   \n",
       "2998  http://pbs.twimg.com/media/C9PUNaOUwAAf_rq.jpg   \n",
       "2999  http://pbs.twimg.com/media/C9Pz6UJWAAQhp4L.jpg   \n",
       "\n",
       "                                            text_images  \\\n",
       "2980                                                NaN   \n",
       "2981  United Airlines just announced they will now b...   \n",
       "2982  .. JTHWITH JONES \" She was just looking for at...   \n",
       "2983  MakAusGr 8Again @user . Agaln Follow @user Ano...   \n",
       "2984  woMAN ARRESTED FOR TRAINING SQUIRRELS TO ATTAC...   \n",
       "2985  Meanwhile , the stocks of the military contrac...   \n",
       "2986  men CNN ugg game In 3 dffaent Refugee Crigig p...   \n",
       "2987                                                NaN   \n",
       "2988                                                NaN   \n",
       "2989  Press Secretary Sean Spicer 3 hrs The media ha...   \n",
       "2990  Press Secretary Sean Spicer 6 hrs . e The medi...   \n",
       "2991                                                NaN   \n",
       "2992                                                NaN   \n",
       "2993     Southweste We beat the competition . Not you .   \n",
       "2994  Pot Roberson comments on Michelle Otxvna's \" M...   \n",
       "2995  Prophetic Reagan For the life of me , ' and I'...   \n",
       "2996  ooo AT & T 3:12 PM thetruthdivision.com MENU =...   \n",
       "2997                                                NaN   \n",
       "2998                                                NaN   \n",
       "2999                                                NaN   \n",
       "\n",
       "                                                 source         label  \\\n",
       "2980  https://www.snopes.com/fact-check/cnn-same-ref...         false   \n",
       "2981  https://www.snopes.com/fact-check/united-airli...  mostly-false   \n",
       "2982  https://www.snopes.com/fact-check/whoopi-goldb...         false   \n",
       "2983  https://www.snopes.com/fact-check/neil-gorsuch...         false   \n",
       "2984  https://www.snopes.com/fact-check/attack-squir...         false   \n",
       "2985  https://www.snopes.com/fact-check/trump-raythe...      unproven   \n",
       "2986  https://www.snopes.com/fact-check/cnn-same-ref...         false   \n",
       "2987  https://www.snopes.com/fact-check/melania-trum...      unproven   \n",
       "2988  https://www.snopes.com/fact-check/syrian-rescu...         false   \n",
       "2989  https://www.snopes.com/fact-check/spicer-weapo...         false   \n",
       "2990  https://www.snopes.com/fact-check/spicer-weapo...         false   \n",
       "2991  https://www.snopes.com/fact-check/ivanka-trump...       mixture   \n",
       "2992  https://www.snopes.com/fact-check/cnn-same-ref...         false   \n",
       "2993  https://www.snopes.com/fact-check/southwest-ai...         false   \n",
       "2994  https://www.snopes.com/fact-check/pat-robertso...         false   \n",
       "2995  https://www.snopes.com/fact-check/reagan-trump...         false   \n",
       "2996  https://www.snopes.com/fact-check/carson-hud-a...  mostly-false   \n",
       "2997  https://www.snopes.com/fact-check/trump-diarrh...         false   \n",
       "2998  https://www.snopes.com/fact-check/trump-diarrh...         false   \n",
       "2999  https://www.snopes.com/fact-check/bill-murray-...         false   \n",
       "\n",
       "      label_info available              acc_id  \\\n",
       "2980         NaN        ok           113423108   \n",
       "2981         NaN        ok  794706601676591104   \n",
       "2982         NaN        ok            59435428   \n",
       "2983         NaN        ok          3306164498   \n",
       "2984         NaN   missing           257715213   \n",
       "2985         NaN        ok           285431964   \n",
       "2986         NaN        ok  785149463413268480   \n",
       "2987         NaN        ok  784890784273215488   \n",
       "2988         NaN        ok           282695161   \n",
       "2989         NaN   missing            16622739   \n",
       "2990         NaN        ok            22879254   \n",
       "2991         NaN        ok          1640929196   \n",
       "2992         NaN        ok          1289954977   \n",
       "2993         NaN   missing           221797984   \n",
       "2994         NaN        ok  787314168219176960   \n",
       "2995         NaN        ok          2719597309   \n",
       "2996         NaN        ok          4427224377   \n",
       "2997         NaN        ok           325414439   \n",
       "2998         NaN        ok           836800363   \n",
       "2999         NaN        ok           313460745   \n",
       "\n",
       "                                              botometer  \n",
       "2980  {'cap': {'english': 0.8076035454448582, 'unive...  \n",
       "2981  {'code': 34, 'message': 'Sorry, that page does...  \n",
       "2982  {'cap': {'english': 0.30618807248975083, 'univ...  \n",
       "2983  {'cap': {'english': 0.4756769663222349, 'unive...  \n",
       "2984  {'cap': {'english': 0.8054784364249085, 'unive...  \n",
       "2985  {'cap': {'english': 0.659646495284545, 'univer...  \n",
       "2986  {'cap': {'english': 0.7611878625273879, 'unive...  \n",
       "2987  {'cap': {'english': 0.7546218700467833, 'unive...  \n",
       "2988  {'cap': {'english': 0.793087009461318, 'univer...  \n",
       "2989  {'cap': {'english': 0.5027122940873614, 'unive...  \n",
       "2990  {'cap': {'english': 0.30618807248975083, 'univ...  \n",
       "2991  {'code': 34, 'message': 'Sorry, that page does...  \n",
       "2992  {'code': 34, 'message': 'Sorry, that page does...  \n",
       "2993                                                NaN  \n",
       "2994                                                NaN  \n",
       "2995                                                NaN  \n",
       "2996                                                NaN  \n",
       "2997                                                NaN  \n",
       "2998                                                NaN  \n",
       "2999                                                NaN  "
      ]
     },
     "execution_count": 23,
     "metadata": {},
     "output_type": "execute_result"
    }
   ],
   "source": [
    "df.iloc[2980:3000]"
   ]
  },
  {
   "cell_type": "code",
   "execution_count": 122,
   "metadata": {},
   "outputs": [
    {
     "data": {
      "text/plain": [
       "9300262"
      ]
     },
     "execution_count": 122,
     "metadata": {},
     "output_type": "execute_result"
    }
   ],
   "source": [
    "accounts[407]"
   ]
  },
  {
   "cell_type": "code",
   "execution_count": 120,
   "metadata": {},
   "outputs": [
    {
     "data": {
      "text/plain": [
       "584177882"
      ]
     },
     "execution_count": 120,
     "metadata": {},
     "output_type": "execute_result"
    }
   ],
   "source": [
    "snopes_acc.loc[406].acc_id"
   ]
  },
  {
   "cell_type": "code",
   "execution_count": 125,
   "metadata": {},
   "outputs": [
    {
     "data": {
      "text/plain": [
       "[9300262,\n",
       " 721185346797572096,\n",
       " 67899097,\n",
       " 2499109494,\n",
       " 2796929687,\n",
       " 292929271,\n",
       " 2269567158,\n",
       " 2393098723,\n",
       " 709920419529281536,\n",
       " 4784596178,\n",
       " 4236806414,\n",
       " 494624290,\n",
       " 561654065,\n",
       " 1599141961,\n",
       " 17860906,\n",
       " 2839030037,\n",
       " 4226960114,\n",
       " 743688372460216320,\n",
       " 118496889,\n",
       " 2915156131,\n",
       " 166329578,\n",
       " 4676548814,\n",
       " 4197546072,\n",
       " 88494677,\n",
       " 608471241,\n",
       " 608471241,\n",
       " 325164172,\n",
       " 26672170,\n",
       " 177584156,\n",
       " 2801177472,\n",
       " 95995039,\n",
       " 126009130,\n",
       " 126009130,\n",
       " 399774230,\n",
       " 972255098,\n",
       " 1917731,\n",
       " 65854394,\n",
       " 741589503102570496,\n",
       " 1917731,\n",
       " 2244290719,\n",
       " 701655880920510464,\n",
       " 2793194082,\n",
       " 18301196,\n",
       " 1496756359,\n",
       " 430118889,\n",
       " 15164565,\n",
       " 3697285157,\n",
       " 2923563766,\n",
       " 2923563766,\n",
       " 1375629385,\n",
       " 1325018372,\n",
       " 25975551,\n",
       " 22722452,\n",
       " 374284455,\n",
       " 49035775,\n",
       " 48421473,\n",
       " 428713002,\n",
       " 3407847574,\n",
       " 18545481,\n",
       " 15164565,\n",
       " 47652227,\n",
       " 78523300,\n",
       " 361275163,\n",
       " 495622651,\n",
       " 19098324,\n",
       " 421275603,\n",
       " 177584156,\n",
       " 361275163,\n",
       " 28905454,\n",
       " 15164565,\n",
       " 4429709805,\n",
       " 1496756359,\n",
       " 766797410,\n",
       " 15164565,\n",
       " 548172120,\n",
       " 2241227238,\n",
       " 15164565,\n",
       " 30456403,\n",
       " 248692627,\n",
       " 28048355,\n",
       " 18545481,\n",
       " 1917731,\n",
       " 138742761,\n",
       " 289118612,\n",
       " 15706904,\n",
       " 865636782,\n",
       " 2291904432,\n",
       " 3103091745,\n",
       " 3047937393,\n",
       " 167796615,\n",
       " 14511951,\n",
       " 49452556,\n",
       " 3974665634,\n",
       " 1018491630,\n",
       " 537904539,\n",
       " 2374469136,\n",
       " 3433022621,\n",
       " 585465795,\n",
       " 2883533651,\n",
       " 16955991,\n",
       " 547969112,\n",
       " 272114651,\n",
       " 936148682,\n",
       " 728635523816775680,\n",
       " 547969112,\n",
       " 67899097,\n",
       " 547969112,\n",
       " 3047377314,\n",
       " 759179340307243008,\n",
       " 1367531,\n",
       " 361275163,\n",
       " 399717630,\n",
       " 9369062,\n",
       " 762252876,\n",
       " 582135529,\n",
       " 851866178,\n",
       " 608471241,\n",
       " 331825712,\n",
       " 733808069440741376,\n",
       " 3995778614,\n",
       " 3390416469,\n",
       " 1367531,\n",
       " 754135908,\n",
       " 890302164,\n",
       " 81602176,\n",
       " 728979362775638016,\n",
       " 553998793,\n",
       " 157054921,\n",
       " 2255424079,\n",
       " 547969112,\n",
       " 2875990472,\n",
       " 2316246829,\n",
       " 758313715695427584,\n",
       " 758313715695427584,\n",
       " 25446957,\n",
       " 86963075,\n",
       " 715357604961263616,\n",
       " 140638292,\n",
       " 2801177472,\n",
       " 2801177472,\n",
       " 1976799128,\n",
       " 421460415,\n",
       " 2775579278,\n",
       " 3974665634,\n",
       " 1482516500,\n",
       " 750399805851963392,\n",
       " 43413425,\n",
       " 43308598,\n",
       " 3066008697,\n",
       " 18195110,\n",
       " 40246348,\n",
       " 2793800587,\n",
       " 802722056,\n",
       " 43308598,\n",
       " 402985469,\n",
       " 4897543230,\n",
       " 865538113,\n",
       " 2972410695,\n",
       " 2998466930,\n",
       " 4182512297,\n",
       " 30067748,\n",
       " 71359942,\n",
       " 277090518,\n",
       " 65003619,\n",
       " 753806066052235264,\n",
       " 705333567543504896,\n",
       " 2998441830,\n",
       " 3308110350,\n",
       " 4796678896,\n",
       " 2441304533,\n",
       " 561654065,\n",
       " 3034834939,\n",
       " 261035490,\n",
       " 4851276082,\n",
       " 370513594,\n",
       " 15854008,\n",
       " 2226870793,\n",
       " 971176056,\n",
       " 4240150034,\n",
       " 561654065,\n",
       " 332433520,\n",
       " 2416597188,\n",
       " 2416597188,\n",
       " 17094311,\n",
       " 543452426,\n",
       " 4846395737,\n",
       " 3220025137,\n",
       " 753753493622628352,\n",
       " 18002528,\n",
       " 16444868,\n",
       " 3433002136,\n",
       " 743651896578060288,\n",
       " 21833728,\n",
       " 50010587,\n",
       " 835328618,\n",
       " 297457814,\n",
       " 620872388,\n",
       " 3139537490,\n",
       " 60370335,\n",
       " 1225818590,\n",
       " 234841289,\n",
       " 2891102076,\n",
       " 702174406739685376,\n",
       " 57912099,\n",
       " 732445833682018304,\n",
       " 732445833682018304,\n",
       " 2904671027,\n",
       " 322674930,\n",
       " 65003619,\n",
       " 4543053312,\n",
       " 42158021,\n",
       " 279208035,\n",
       " 180511021,\n",
       " 311241090,\n",
       " 15359578,\n",
       " 20826129,\n",
       " 4700477725,\n",
       " 371142734,\n",
       " 24638062,\n",
       " 45291573,\n",
       " 552410408,\n",
       " 20295763,\n",
       " 1564676498,\n",
       " 17343602,\n",
       " 552983877,\n",
       " 18561223,\n",
       " 14787713,\n",
       " 1568498256,\n",
       " 752493806,\n",
       " 516093774,\n",
       " 28905454,\n",
       " 2747259456,\n",
       " 224268822,\n",
       " 17232340,\n",
       " 3359243787,\n",
       " 75974281,\n",
       " 233933230,\n",
       " 233933230,\n",
       " 479068816,\n",
       " 2892976359,\n",
       " 19908848,\n",
       " 4237277387,\n",
       " 3359243787,\n",
       " 284104234,\n",
       " 3592503441,\n",
       " 905530344,\n",
       " 19899980,\n",
       " 600061917,\n",
       " 221452291,\n",
       " 4765012532,\n",
       " 15671833,\n",
       " 1530853626,\n",
       " 24395228,\n",
       " 343171160,\n",
       " 2908170952,\n",
       " 251913645,\n",
       " 709920419529281536,\n",
       " 431198790,\n",
       " 90285099,\n",
       " 2299826742,\n",
       " 142077688,\n",
       " 1213274119,\n",
       " 608471241,\n",
       " 561654065,\n",
       " 15368940,\n",
       " 2740452163,\n",
       " 25446957,\n",
       " 70773048,\n",
       " 706176697440276480,\n",
       " 759251,\n",
       " 50881405,\n",
       " 1356123823,\n",
       " 716260246109483008,\n",
       " 3202808548,\n",
       " 150059501,\n",
       " 565008398,\n",
       " 56192739,\n",
       " 751095331408973824,\n",
       " 2900220088,\n",
       " 1652687708,\n",
       " 704034081898668032,\n",
       " 37315032,\n",
       " 632171886,\n",
       " 124199238,\n",
       " 3589464580,\n",
       " 542962969,\n",
       " 2421067430,\n",
       " 704363061013057536,\n",
       " 2910776820,\n",
       " 1096411117,\n",
       " 3124454195,\n",
       " 4760647532,\n",
       " 38367188,\n",
       " 605448008,\n",
       " 83788240,\n",
       " 374284455,\n",
       " 22798141,\n",
       " 2818206308,\n",
       " 2382281029,\n",
       " 415256606,\n",
       " 1966026648,\n",
       " 893470729,\n",
       " 2953422203,\n",
       " 167363471,\n",
       " 291874773,\n",
       " 44103717,\n",
       " 28670599,\n",
       " 739567626511388672,\n",
       " 200656602,\n",
       " 31801993,\n",
       " 703230673776197632,\n",
       " 146928495,\n",
       " 729096352676782080,\n",
       " 1643634444,\n",
       " 246377722,\n",
       " 3407847574,\n",
       " 21845346,\n",
       " 385075625,\n",
       " 29465136,\n",
       " 13148382,\n",
       " 4851276082,\n",
       " 3416492723,\n",
       " 3359243787,\n",
       " 9611592,\n",
       " 739080916610342912,\n",
       " 34367582,\n",
       " 28007091,\n",
       " 3124454195,\n",
       " 26579739,\n",
       " 76373,\n",
       " 758049168690642944,\n",
       " 963176808,\n",
       " 19193016,\n",
       " 3381686297,\n",
       " 93493910,\n",
       " 3313143320,\n",
       " 2610081858,\n",
       " 4646073148,\n",
       " 344729527,\n",
       " 32951070,\n",
       " 37013920,\n",
       " 23116280,\n",
       " 25197377,\n",
       " 33228837,\n",
       " 4242905298,\n",
       " 18637247,\n",
       " 714949505720823808,\n",
       " 872954089,\n",
       " 437352926,\n",
       " 23004495,\n",
       " 4361249533,\n",
       " 156377910,\n",
       " 4452560741,\n",
       " 273951517,\n",
       " 264493607,\n",
       " 760130823374843904,\n",
       " 118845216,\n",
       " 232333397,\n",
       " 414873541,\n",
       " 3723723982,\n",
       " 824391878,\n",
       " 450213974,\n",
       " 890302164,\n",
       " 29059784,\n",
       " 709144993,\n",
       " 15104164,\n",
       " 289118612,\n",
       " 3314963469,\n",
       " 21833728,\n",
       " 796261392,\n",
       " 227010728,\n",
       " 196109220,\n",
       " 582414351,\n",
       " 340968277,\n",
       " 1969346438,\n",
       " 13804112,\n",
       " 739567626511388672,\n",
       " 835328618,\n",
       " 164523117,\n",
       " 446228264,\n",
       " 39344374,\n",
       " 757749684580519936,\n",
       " 515542297,\n",
       " 41265813,\n",
       " 78523300,\n",
       " 18643437,\n",
       " 232201971,\n",
       " 801071388,\n",
       " 3539755636,\n",
       " 1367531,\n",
       " 1564676498,\n",
       " 4901489212,\n",
       " 704034081898668032,\n",
       " 22630309,\n",
       " 46520074,\n",
       " 17895820,\n",
       " 14412533,\n",
       " 1917731,\n",
       " 1080576949,\n",
       " 492833134,\n",
       " 65132037,\n",
       " 1735546184,\n",
       " 765091605472698368,\n",
       " 743142244706848768,\n",
       " 107012365,\n",
       " 237623215,\n",
       " 865187658,\n",
       " 621110318,\n",
       " 25197377,\n",
       " 739567626511388672,\n",
       " 1462579488,\n",
       " 430905373,\n",
       " 20854637,\n",
       " 25832979,\n",
       " 1200713864,\n",
       " 758809594936238080,\n",
       " 758809594936238080,\n",
       " 374284455,\n",
       " 25197377,\n",
       " 172394944,\n",
       " 910332056,\n",
       " 34163521,\n",
       " 1537048512,\n",
       " 715650695647637504,\n",
       " 1513958744,\n",
       " 727578244841639936,\n",
       " 713832622808412160,\n",
       " 4855687055,\n",
       " 3558102739,\n",
       " 695365245376696320,\n",
       " 28869089,\n",
       " 54065567,\n",
       " 54065567,\n",
       " 746367431388585984,\n",
       " 746367431388585984,\n",
       " 3166217539,\n",
       " 3329997245,\n",
       " 765091605472698368,\n",
       " 317223956,\n",
       " 1849938847,\n",
       " 1148951203,\n",
       " 138581916,\n",
       " 2953617710,\n",
       " 49685124,\n",
       " 169536421,\n",
       " 3124454195,\n",
       " 2830167800,\n",
       " 141642957,\n",
       " 710829502843064320,\n",
       " 30265457,\n",
       " 561654065,\n",
       " 16887175,\n",
       " 730786518848159744,\n",
       " 22677397,\n",
       " 2353703503,\n",
       " 21248626,\n",
       " 17395207,\n",
       " 144130505,\n",
       " 17529294,\n",
       " 52801677,\n",
       " 742923442471763968,\n",
       " 3697721113,\n",
       " 2584482763,\n",
       " 20944649,\n",
       " 773520163396325376,\n",
       " 20889358,\n",
       " 67095221,\n",
       " 767036004,\n",
       " 765091605472698368,\n",
       " 176914461,\n",
       " 78569026,\n",
       " 331747494,\n",
       " 2316246829,\n",
       " 361275163,\n",
       " 2364837974,\n",
       " 1242465014,\n",
       " 289118612,\n",
       " 568143078,\n",
       " 758313715695427584,\n",
       " 18195110,\n",
       " 765091605472698368,\n",
       " 1289704663,\n",
       " 754086125917106176,\n",
       " 1371572360,\n",
       " 769297227957141504,\n",
       " 3610264154,\n",
       " 27211961,\n",
       " 723387344175296512,\n",
       " 151375368,\n",
       " 767587128524013568,\n",
       " 35677844,\n",
       " 936304345,\n",
       " 19195442,\n",
       " 744281884310405120,\n",
       " 3389134989,\n",
       " 3019417439,\n",
       " 10735392,\n",
       " 3362345172,\n",
       " 33388399,\n",
       " 341688336,\n",
       " 231641765,\n",
       " 3394911915,\n",
       " 2902031256,\n",
       " 3297022953,\n",
       " 455288410,\n",
       " 219815601,\n",
       " 374284455,\n",
       " 2684196134,\n",
       " 865636782,\n",
       " 126009130,\n",
       " 126009130,\n",
       " 126009130,\n",
       " 126009130,\n",
       " 126009130,\n",
       " 126009130,\n",
       " 126009130,\n",
       " 126009130,\n",
       " 126009130,\n",
       " 126009130,\n",
       " 126009130,\n",
       " 126009130,\n",
       " 126009130,\n",
       " 126009130,\n",
       " 126009130,\n",
       " 126009130,\n",
       " 126009130,\n",
       " 126009130,\n",
       " 126009130,\n",
       " 325893346,\n",
       " 126009130,\n",
       " 126009130,\n",
       " 126009130,\n",
       " 126009130,\n",
       " 126009130,\n",
       " 126009130,\n",
       " 126009130,\n",
       " 126009130,\n",
       " 18132806,\n",
       " 3057650044,\n",
       " 972651,\n",
       " 865636782,\n",
       " 1353347065,\n",
       " 767587128524013568,\n",
       " 3686488635,\n",
       " 3002739417,\n",
       " 1183779272,\n",
       " 1309391066,\n",
       " 4334047641,\n",
       " 42371615,\n",
       " 3930608896,\n",
       " 21773704,\n",
       " 399774230,\n",
       " 758076297876602880,\n",
       " 2911587582,\n",
       " 735624304050593792,\n",
       " 4240150034,\n",
       " 16674128,\n",
       " 14441020,\n",
       " 30265457,\n",
       " 1326707346,\n",
       " 908933376,\n",
       " 124185033,\n",
       " 2451462137,\n",
       " 2417586104,\n",
       " 2344571893,\n",
       " 3340267793,\n",
       " 902851051,\n",
       " 1339835893,\n",
       " 36196526,\n",
       " 6563122,\n",
       " 4345493055,\n",
       " 1851877248,\n",
       " 90573210,\n",
       " 118845216,\n",
       " 172032623,\n",
       " 2786693552,\n",
       " 755726522,\n",
       " 2788642796,\n",
       " 340660967,\n",
       " 22141405,\n",
       " 4194141941,\n",
       " 115772421,\n",
       " 22714413,\n",
       " 97082147,\n",
       " 63514682,\n",
       " 1027392638,\n",
       " 259509924,\n",
       " 762658215850971136,\n",
       " 214112621,\n",
       " 15511737,\n",
       " 758313715695427584,\n",
       " 20065936,\n",
       " 704795920433414144,\n",
       " 116949923,\n",
       " 4922951833,\n",
       " 2959654959,\n",
       " 27680579,\n",
       " 167411983,\n",
       " 3253946096,\n",
       " 102569776,\n",
       " 1220140158,\n",
       " 704034081898668032,\n",
       " 704743208044118016,\n",
       " 2220165991,\n",
       " 5514192,\n",
       " 567823476,\n",
       " 1419413276,\n",
       " 3229949515,\n",
       " 4236806414,\n",
       " 123699851,\n",
       " 3220025137,\n",
       " 3416492723,\n",
       " 33529092,\n",
       " 181249422,\n",
       " 3050742101,\n",
       " 2333546774,\n",
       " 14511951,\n",
       " 3411313300,\n",
       " 1917731,\n",
       " 741998561689251840,\n",
       " 237845487,\n",
       " 23398898,\n",
       " 246939630,\n",
       " 2836421,\n",
       " 38955690,\n",
       " 19847765,\n",
       " 2525675331,\n",
       " 18643437,\n",
       " 257797355,\n",
       " 3290191140,\n",
       " 2891459376,\n",
       " 3434574681,\n",
       " 16589206,\n",
       " 2220656158,\n",
       " 48101103,\n",
       " 48101103,\n",
       " 48101103,\n",
       " 48101103,\n",
       " 48101103,\n",
       " 718571477772075008,\n",
       " 18643437,\n",
       " 18643437,\n",
       " 37690914,\n",
       " 49318764,\n",
       " 534516052,\n",
       " 754720098393272320,\n",
       " 4087647976,\n",
       " 2670627368,\n",
       " 767587128524013568,\n",
       " 1332367184,\n",
       " 107012365,\n",
       " 16910746,\n",
       " 1159026354,\n",
       " 48101103,\n",
       " 709036196941459456,\n",
       " 18154797,\n",
       " 11912362,\n",
       " 746413996304015360,\n",
       " 500243950,\n",
       " 14093404,\n",
       " 4551929255,\n",
       " 3784467913,\n",
       " 236657980,\n",
       " 101298165,\n",
       " 714949505720823808,\n",
       " 4273837226,\n",
       " 2562270259,\n",
       " 39308549,\n",
       " 2917559867,\n",
       " 737602729,\n",
       " 4236806414,\n",
       " 3096393734,\n",
       " 85990330,\n",
       " 770759270,\n",
       " 149679293,\n",
       " 380285402,\n",
       " 756880499881103360,\n",
       " 1640929196,\n",
       " 371142734,\n",
       " 242618658,\n",
       " 2391736411,\n",
       " 634242289,\n",
       " 744920442,\n",
       " 18787733,\n",
       " 2386693961,\n",
       " 3756112462,\n",
       " 2349012840,\n",
       " 741977462028926976,\n",
       " 20849008,\n",
       " 1653051,\n",
       " 39000115,\n",
       " 253940881,\n",
       " 289118612,\n",
       " 4182138315,\n",
       " 2203686183,\n",
       " 14792263,\n",
       " 289118612,\n",
       " 61526430,\n",
       " 108713959,\n",
       " 2601795218,\n",
       " 741334289376116736,\n",
       " 2262908824,\n",
       " 2902031256,\n",
       " 534567942,\n",
       " 118845216,\n",
       " 16589206,\n",
       " 762750852247396352,\n",
       " 745514486631542784,\n",
       " 756897488657715200,\n",
       " 3253885297,\n",
       " 492833134,\n",
       " 3096964498,\n",
       " 757214917036474368,\n",
       " 3328878194,\n",
       " 88237533,\n",
       " 18787733,\n",
       " 40164923,\n",
       " 16589206,\n",
       " 1652541,\n",
       " 44688778,\n",
       " 3818784613,\n",
       " 74913349,\n",
       " 78523300,\n",
       " 144001050,\n",
       " 769633840356728832,\n",
       " 40164923,\n",
       " 2649507198,\n",
       " 731240208952262656,\n",
       " 3384693167,\n",
       " 296610784,\n",
       " 18787733,\n",
       " 562261824,\n",
       " 462487731,\n",
       " 765357788,\n",
       " 104914594,\n",
       " 14000592,\n",
       " 118845216,\n",
       " 480435113,\n",
       " 3338779876,\n",
       " 197662233,\n",
       " 61008839,\n",
       " 841039189,\n",
       " 2840452198,\n",
       " 2840452198,\n",
       " 67899097,\n",
       " 52136185,\n",
       " 730141801881853952,\n",
       " 18787733,\n",
       " 500154514,\n",
       " 2575717004,\n",
       " 1141094348,\n",
       " 2776376446,\n",
       " 608389155,\n",
       " 4846395737,\n",
       " 2416597188,\n",
       " 1027632134,\n",
       " 118845216,\n",
       " 3974665634,\n",
       " 197496309,\n",
       " 17965340,\n",
       " 4663625910,\n",
       " 218325695,\n",
       " 18787733,\n",
       " 931286316,\n",
       " 2801177472,\n",
       " 19575451,\n",
       " 518009192,\n",
       " 825952160,\n",
       " 347627434,\n",
       " 1344787579,\n",
       " 951008132,\n",
       " 227333373,\n",
       " 21091954,\n",
       " 718592022,\n",
       " 3974665634,\n",
       " 3324042441,\n",
       " 4810747934,\n",
       " 367452068,\n",
       " 1375629385,\n",
       " 3578921292,\n",
       " 2345831796,\n",
       " 207040407,\n",
       " 3288598806,\n",
       " 52989817,\n",
       " 61526430,\n",
       " 60783724,\n",
       " 188095835,\n",
       " 775374224034783232,\n",
       " 19802846,\n",
       " 2517972111,\n",
       " 459735022,\n",
       " 67899097,\n",
       " 41747308,\n",
       " 14511951,\n",
       " 2236655070,\n",
       " 170357723,\n",
       " 14185814,\n",
       " 443924415,\n",
       " 1921995883,\n",
       " 126009130,\n",
       " 1524518970,\n",
       " 1375629385,\n",
       " 27688800,\n",
       " 751447878711869440,\n",
       " 213678006,\n",
       " 3308560736,\n",
       " 774140462370127872,\n",
       " 1528941756,\n",
       " 292508851,\n",
       " 3903052998,\n",
       " 116384038,\n",
       " 2845849081,\n",
       " 18545481,\n",
       " 785629978738032640,\n",
       " 82447359,\n",
       " 3000673803,\n",
       " 550222026,\n",
       " 3222909799,\n",
       " 15513604,\n",
       " 788146803669512192,\n",
       " 1713036884,\n",
       " 250492272,\n",
       " 1917731,\n",
       " 1367531,\n",
       " 25446957,\n",
       " 3091373190,\n",
       " 371142734,\n",
       " 931286316,\n",
       " 2469824234,\n",
       " 14575708,\n",
       " 263069137,\n",
       " 362977781,\n",
       " 2902031256,\n",
       " 791949967824793600,\n",
       " 254117355,\n",
       " 28785486,\n",
       " 707246777515245568,\n",
       " 250736021,\n",
       " 4825764434,\n",
       " 5695632,\n",
       " 262277370,\n",
       " 72761654,\n",
       " 28785486,\n",
       " 1149979224,\n",
       " 181249422,\n",
       " 1301720724,\n",
       " 84491326,\n",
       " 921376165,\n",
       " 111216929,\n",
       " 22953032,\n",
       " 3381686297,\n",
       " 97942529,\n",
       " 1655493013,\n",
       " 748608249910419456,\n",
       " 1238328264,\n",
       " 788998587011043328,\n",
       " 118845216,\n",
       " 714128911823724544,\n",
       " 79593630,\n",
       " 4261318354,\n",
       " 757255733704548352,\n",
       " 706201477300297728,\n",
       " 387948805,\n",
       " 17784660,\n",
       " 65166471,\n",
       " 25939719,\n",
       " 4181620034,\n",
       " 33416495,\n",
       " 580252446,\n",
       " 749958546004054016,\n",
       " 749958546004054016,\n",
       " 368555136,\n",
       " 146646613,\n",
       " 729582066,\n",
       " 4757535874,\n",
       " 69004966,\n",
       " 39246283,\n",
       " 33930094,\n",
       " 469708044,\n",
       " 3974665634,\n",
       " 1339835893,\n",
       " 2902031256,\n",
       " 63528313,\n",
       " 303892169,\n",
       " 3309654696,\n",
       " 15315465,\n",
       " 34900333,\n",
       " 15164565,\n",
       " 1459916354,\n",
       " 3684208045,\n",
       " 44696944,\n",
       " 776565331007381504,\n",
       " 4070021129,\n",
       " 2703114008,\n",
       " 2750334224,\n",
       " 1033798970,\n",
       " 2750334224,\n",
       " 63485337,\n",
       " 733093128081661952,\n",
       " 746093922494058496,\n",
       " 210424042,\n",
       " 22630309,\n",
       " 2196378314,\n",
       " 57314318,\n",
       " 956163518,\n",
       " 48967685,\n",
       " 347627434,\n",
       " 1520324371,\n",
       " 288656545,\n",
       " 3193055477,\n",
       " 2374469136,\n",
       " 1676285761,\n",
       " 4855687055,\n",
       " 1367531,\n",
       " 2975936339,\n",
       " 3195345898,\n",
       " 16589206,\n",
       " 3338568554,\n",
       " 16589206,\n",
       " 3371241641,\n",
       " 321774180,\n",
       " 781252299507142656,\n",
       " 729709984217337856,\n",
       " 779126152774299648,\n",
       " 130254817,\n",
       " 169536421,\n",
       " 128429068,\n",
       " 4840244240,\n",
       " 91882544,\n",
       " 716371621380890624,\n",
       " 743576222228185088,\n",
       " 724253317577236480,\n",
       " 435564722,\n",
       " 328741551,\n",
       " 65455370,\n",
       " 50769180,\n",
       " 50769180,\n",
       " 492833134,\n",
       " 785578193604317184,\n",
       " 86403191,\n",
       " 774486797606907904,\n",
       " 2896866728,\n",
       " 729523218218766336,\n",
       " 3359000590,\n",
       " 1655766132,\n",
       " 33529092,\n",
       " 96648433,\n",
       " 726405146788290560,\n",
       " 786670304903004160,\n",
       " 561654065,\n",
       " 19377400,\n",
       " 4849413012,\n",
       " 3408847582,\n",
       " 2556605767,\n",
       " 1065869268,\n",
       " 774074669230071808,\n",
       " 1065869268,\n",
       " 362200757,\n",
       " 4851343726,\n",
       " 33605130,\n",
       " 20982772,\n",
       " 1499268588,\n",
       " 547969112,\n",
       " 739664413330804736,\n",
       " 20675681,\n",
       " 954124423,\n",
       " 3102351219,\n",
       " 127182036,\n",
       " 259332340,\n",
       " 13831292,\n",
       " 443605395,\n",
       " 1682330258,\n",
       " 788010267649183744,\n",
       " 30946469,\n",
       " 14464961,\n",
       " 744920442,\n",
       " 33932623,\n",
       " 3339557473,\n",
       " 3269661906,\n",
       " 278770435,\n",
       " 778276054909812736,\n",
       " 2971891547,\n",
       " 726319466951237632,\n",
       " 81611744,\n",
       " 2517972111,\n",
       " 3221413128,\n",
       " 185838958,\n",
       " 766445003128377344,\n",
       " 366355851,\n",
       " 582402433,\n",
       " 2355662572,\n",
       " 2884891245,\n",
       " 176464757,\n",
       " 2183756121,\n",
       " 463232547,\n",
       " 200616013,\n",
       " 619158246,\n",
       " 213801320,\n",
       " 1444300153,\n",
       " 564702484,\n",
       " ...]"
      ]
     },
     "execution_count": 125,
     "metadata": {},
     "output_type": "execute_result"
    }
   ],
   "source": [
    "accounts[407:]"
   ]
  },
  {
   "cell_type": "code",
   "execution_count": 123,
   "metadata": {},
   "outputs": [
    {
     "data": {
      "text/plain": [
       "id                                            758193276151222272\n",
       "original_id                                   758190213973872640\n",
       "tweet_text     Bill O'Reilly: Slaves who built White House we...\n",
       "tweet_url      https://twitter.com/POTUS/status/7581932761512...\n",
       "claim               The White House was built using slave labor.\n",
       "rating         ['https://www.snopes.com/tachyon/2018/03/ratin...\n",
       "images            http://pbs.twimg.com/media/CoWh-nhXEAA3jp1.jpg\n",
       "text_images                                                  NaN\n",
       "source         https://www.snopes.com/fact-check/was-the-whit...\n",
       "label                                            mostly-true-new\n",
       "label_info                                                   NaN\n",
       "available                                                     ok\n",
       "acc_id                                                   9300262\n",
       "botometer                                                       \n",
       "Name: 407, dtype: object"
      ]
     },
     "execution_count": 123,
     "metadata": {},
     "output_type": "execute_result"
    }
   ],
   "source": [
    "snopes_acc.loc[407]"
   ]
  },
  {
   "cell_type": "code",
   "execution_count": 112,
   "metadata": {},
   "outputs": [],
   "source": [
    "snopes_acc.to_csv(\"snopes_botometer_406.csv\", index=False)"
   ]
  },
  {
   "cell_type": "code",
   "execution_count": 111,
   "metadata": {},
   "outputs": [
    {
     "data": {
      "text/html": [
       "<div>\n",
       "<style scoped>\n",
       "    .dataframe tbody tr th:only-of-type {\n",
       "        vertical-align: middle;\n",
       "    }\n",
       "\n",
       "    .dataframe tbody tr th {\n",
       "        vertical-align: top;\n",
       "    }\n",
       "\n",
       "    .dataframe thead th {\n",
       "        text-align: right;\n",
       "    }\n",
       "</style>\n",
       "<table border=\"1\" class=\"dataframe\">\n",
       "  <thead>\n",
       "    <tr style=\"text-align: right;\">\n",
       "      <th></th>\n",
       "      <th>id</th>\n",
       "      <th>original_id</th>\n",
       "      <th>tweet_text</th>\n",
       "      <th>tweet_url</th>\n",
       "      <th>claim</th>\n",
       "      <th>rating</th>\n",
       "      <th>images</th>\n",
       "      <th>text_images</th>\n",
       "      <th>source</th>\n",
       "      <th>label</th>\n",
       "      <th>label_info</th>\n",
       "      <th>available</th>\n",
       "      <th>acc_id</th>\n",
       "      <th>botometer</th>\n",
       "    </tr>\n",
       "  </thead>\n",
       "  <tbody>\n",
       "    <tr>\n",
       "      <th>0</th>\n",
       "      <td>1000037356836093953</td>\n",
       "      <td>1000023322481086466</td>\n",
       "      <td>Brave men died to keep us free. Radicals want ...</td>\n",
       "      <td>https://twitter.com/POTUS/status/1000037356836...</td>\n",
       "      <td>Liberals were offended by a World War I memori...</td>\n",
       "      <td>['https://www.snopes.com/tachyon/2018/03/ratin...</td>\n",
       "      <td>http://pbs.twimg.com/media/DeDL5a-XkAI7Hlw.jpg</td>\n",
       "      <td>#DontTearMeDown IRSTLIBERT . ORG DontTearMeDow...</td>\n",
       "      <td>https://www.snopes.com/fact-check/liberals-dem...</td>\n",
       "      <td>mixture</td>\n",
       "      <td>NaN</td>\n",
       "      <td>ok</td>\n",
       "      <td>3981225735</td>\n",
       "      <td>{'cap': {'english': 0.7759887465100499, 'unive...</td>\n",
       "    </tr>\n",
       "    <tr>\n",
       "      <th>1</th>\n",
       "      <td>1000098833798389760</td>\n",
       "      <td>1000059879682342912</td>\n",
       "      <td>“Stand for the National Anthem or be punished”...</td>\n",
       "      <td>https://twitter.com/POTUS/status/1000098833798...</td>\n",
       "      <td>A German football club was banned from playing...</td>\n",
       "      <td>['https://www.snopes.com/tachyon/2018/03/ratin...</td>\n",
       "      <td>http://pbs.twimg.com/media/DeDtKIRVAAA4kPm.jpg</td>\n",
       "      <td>FAILED TO GIVE NAZI SALUTE . German Football C...</td>\n",
       "      <td>https://www.snopes.com/fact-check/german-footb...</td>\n",
       "      <td>mostly-true-new</td>\n",
       "      <td>NaN</td>\n",
       "      <td>ok</td>\n",
       "      <td>1924071992</td>\n",
       "      <td>{'cap': {'english': 0.7759887465100499, 'unive...</td>\n",
       "    </tr>\n",
       "    <tr>\n",
       "      <th>2</th>\n",
       "      <td>1000158804795781120</td>\n",
       "      <td>1000073920760791040</td>\n",
       "      <td>@Humancipator35 @buddydusty @davidhogg111 🙌🏼 R...</td>\n",
       "      <td>https://twitter.com/POTUS/status/1000158804795...</td>\n",
       "      <td>Emma Gonz lez, a survivor of the Parkland scho...</td>\n",
       "      <td>['https://www.snopes.com/tachyon/2018/03/ratin...</td>\n",
       "      <td>http://pbs.twimg.com/media/DeD57XMV4AAUG4k.jpg</td>\n",
       "      <td>NaN</td>\n",
       "      <td>https://www.snopes.com/fact-check/emma-gonzale...</td>\n",
       "      <td>false</td>\n",
       "      <td>NaN</td>\n",
       "      <td>auth</td>\n",
       "      <td>924224208</td>\n",
       "      <td>{'cap': {'english': 0.30618807248975083, 'univ...</td>\n",
       "    </tr>\n",
       "    <tr>\n",
       "      <th>3</th>\n",
       "      <td>1000175568241872897</td>\n",
       "      <td>1000174645973315586</td>\n",
       "      <td>Just sayin'  #NFL https://t.co/70tFG5ieMC</td>\n",
       "      <td>https://twitter.com/POTUS/status/1000175568241...</td>\n",
       "      <td>A German football club was banned from playing...</td>\n",
       "      <td>['https://www.snopes.com/tachyon/2018/03/ratin...</td>\n",
       "      <td>http://pbs.twimg.com/media/DeFVdDlUwAA17qS.jpg</td>\n",
       "      <td>FAILED TO GIVE NAZI SALUTE . German Football C...</td>\n",
       "      <td>https://www.snopes.com/fact-check/german-footb...</td>\n",
       "      <td>mostly-true-new</td>\n",
       "      <td>NaN</td>\n",
       "      <td>auth</td>\n",
       "      <td>170735298</td>\n",
       "      <td>{'cap': {'english': 0.6763619064808265, 'unive...</td>\n",
       "    </tr>\n",
       "    <tr>\n",
       "      <th>4</th>\n",
       "      <td>1000438777792344067</td>\n",
       "      <td>1000191784797040640</td>\n",
       "      <td>Those who do not learn from history are doomed...</td>\n",
       "      <td>https://twitter.com/POTUS/status/1000438777792...</td>\n",
       "      <td>A German football club was banned from playing...</td>\n",
       "      <td>['https://www.snopes.com/tachyon/2018/03/ratin...</td>\n",
       "      <td>http://pbs.twimg.com/media/DeFkp5eU0AA2aLJ.jpg</td>\n",
       "      <td>pnting n the wo \" ' t WHY to win . nbor mu t n...</td>\n",
       "      <td>https://www.snopes.com/fact-check/german-footb...</td>\n",
       "      <td>mostly-true-new</td>\n",
       "      <td>NaN</td>\n",
       "      <td>ok</td>\n",
       "      <td>115563859</td>\n",
       "      <td>{'cap': {'english': 0.7668769621923945, 'unive...</td>\n",
       "    </tr>\n",
       "    <tr>\n",
       "      <th>...</th>\n",
       "      <td>...</td>\n",
       "      <td>...</td>\n",
       "      <td>...</td>\n",
       "      <td>...</td>\n",
       "      <td>...</td>\n",
       "      <td>...</td>\n",
       "      <td>...</td>\n",
       "      <td>...</td>\n",
       "      <td>...</td>\n",
       "      <td>...</td>\n",
       "      <td>...</td>\n",
       "      <td>...</td>\n",
       "      <td>...</td>\n",
       "      <td>...</td>\n",
       "    </tr>\n",
       "    <tr>\n",
       "      <th>6971</th>\n",
       "      <td>1000095067887910917</td>\n",
       "      <td>999866405687209984</td>\n",
       "      <td>History repeating itself with @realDonaldTrump...</td>\n",
       "      <td>https://twitter.com/POTUS/status/1000095067887...</td>\n",
       "      <td>A German football club was banned from playing...</td>\n",
       "      <td>['https://www.snopes.com/tachyon/2018/03/ratin...</td>\n",
       "      <td>http://pbs.twimg.com/media/DeA9KrlVwAEHtPB.jpg</td>\n",
       "      <td>FAILED TO GIVE NAZI SALUTE . German Football C...</td>\n",
       "      <td>https://www.snopes.com/fact-check/german-footb...</td>\n",
       "      <td>mostly-true-new</td>\n",
       "      <td>NaN</td>\n",
       "      <td>ok</td>\n",
       "      <td>550658726</td>\n",
       "      <td></td>\n",
       "    </tr>\n",
       "    <tr>\n",
       "      <th>6972</th>\n",
       "      <td>1000146882428096512</td>\n",
       "      <td>999903412425711616</td>\n",
       "      <td>I picked this up from someone here. Its🙄🤨🙄 wor...</td>\n",
       "      <td>https://twitter.com/POTUS/status/1000146882428...</td>\n",
       "      <td>A German football club was banned from playing...</td>\n",
       "      <td>['https://www.snopes.com/tachyon/2018/03/ratin...</td>\n",
       "      <td>http://pbs.twimg.com/media/DeBe1X5VAAI-Zhh.jpg</td>\n",
       "      <td>FAILED TO GIVE NAZI SALUTE . German Football C...</td>\n",
       "      <td>https://www.snopes.com/fact-check/german-footb...</td>\n",
       "      <td>mostly-true-new</td>\n",
       "      <td>NaN</td>\n",
       "      <td>ok</td>\n",
       "      <td>91743765</td>\n",
       "      <td></td>\n",
       "    </tr>\n",
       "    <tr>\n",
       "      <th>6973</th>\n",
       "      <td>1000018438184734720</td>\n",
       "      <td>999961946932723713</td>\n",
       "      <td>Trump is a criminal, a gangster using criminal...</td>\n",
       "      <td>https://twitter.com/POTUS/status/1000018438184...</td>\n",
       "      <td>Notorious mobster Al Capone demanded an inquir...</td>\n",
       "      <td>['https://www.snopes.com/tachyon/2018/03/ratin...</td>\n",
       "      <td>http://pbs.twimg.com/media/DeCUF2ZV4AAMm0Z.jpg</td>\n",
       "      <td>Ci ) icago Sunday Cribune INAL 17 . Capone Dem...</td>\n",
       "      <td>https://www.snopes.com/fact-check/did-al-capon...</td>\n",
       "      <td>false</td>\n",
       "      <td>NaN</td>\n",
       "      <td>missing</td>\n",
       "      <td>881682896607600640</td>\n",
       "      <td></td>\n",
       "    </tr>\n",
       "    <tr>\n",
       "      <th>6974</th>\n",
       "      <td>999992400725585920</td>\n",
       "      <td>999962442141782016</td>\n",
       "      <td>@VP @NFL @POTUS The only thing that’s #Winning...</td>\n",
       "      <td>https://twitter.com/POTUS/status/9999924007255...</td>\n",
       "      <td>Baseball players in the 1950s were caught on c...</td>\n",
       "      <td>['https://www.snopes.com/tachyon/2018/03/ratin...</td>\n",
       "      <td>http://pbs.twimg.com/media/DeCUiW3VwAAQbyx.jpg</td>\n",
       "      <td>White Baseball Players Kneel in the 50 ' s to ...</td>\n",
       "      <td>https://www.snopes.com/fact-check/baseball-pla...</td>\n",
       "      <td>false</td>\n",
       "      <td>NaN</td>\n",
       "      <td>auth</td>\n",
       "      <td>115748564</td>\n",
       "      <td></td>\n",
       "    </tr>\n",
       "    <tr>\n",
       "      <th>6975</th>\n",
       "      <td>1000035228679852032</td>\n",
       "      <td>999973815655518213</td>\n",
       "      <td>@mjfree Sports has been used as a means of pro...</td>\n",
       "      <td>https://twitter.com/POTUS/status/1000035228679...</td>\n",
       "      <td>Baseball players in the 1950s were caught on c...</td>\n",
       "      <td>['https://www.snopes.com/tachyon/2018/03/ratin...</td>\n",
       "      <td>http://pbs.twimg.com/media/DeCejk4WkAMruuM.jpg</td>\n",
       "      <td>White Baseball Players Kneel in the 50 ' s to ...</td>\n",
       "      <td>https://www.snopes.com/fact-check/baseball-pla...</td>\n",
       "      <td>false</td>\n",
       "      <td>NaN</td>\n",
       "      <td>ok</td>\n",
       "      <td>518227176</td>\n",
       "      <td></td>\n",
       "    </tr>\n",
       "  </tbody>\n",
       "</table>\n",
       "<p>6976 rows × 14 columns</p>\n",
       "</div>"
      ],
      "text/plain": [
       "                       id          original_id  \\\n",
       "0     1000037356836093953  1000023322481086466   \n",
       "1     1000098833798389760  1000059879682342912   \n",
       "2     1000158804795781120  1000073920760791040   \n",
       "3     1000175568241872897  1000174645973315586   \n",
       "4     1000438777792344067  1000191784797040640   \n",
       "...                   ...                  ...   \n",
       "6971  1000095067887910917   999866405687209984   \n",
       "6972  1000146882428096512   999903412425711616   \n",
       "6973  1000018438184734720   999961946932723713   \n",
       "6974   999992400725585920   999962442141782016   \n",
       "6975  1000035228679852032   999973815655518213   \n",
       "\n",
       "                                             tweet_text  \\\n",
       "0     Brave men died to keep us free. Radicals want ...   \n",
       "1     “Stand for the National Anthem or be punished”...   \n",
       "2     @Humancipator35 @buddydusty @davidhogg111 🙌🏼 R...   \n",
       "3             Just sayin'  #NFL https://t.co/70tFG5ieMC   \n",
       "4     Those who do not learn from history are doomed...   \n",
       "...                                                 ...   \n",
       "6971  History repeating itself with @realDonaldTrump...   \n",
       "6972  I picked this up from someone here. Its🙄🤨🙄 wor...   \n",
       "6973  Trump is a criminal, a gangster using criminal...   \n",
       "6974  @VP @NFL @POTUS The only thing that’s #Winning...   \n",
       "6975  @mjfree Sports has been used as a means of pro...   \n",
       "\n",
       "                                              tweet_url  \\\n",
       "0     https://twitter.com/POTUS/status/1000037356836...   \n",
       "1     https://twitter.com/POTUS/status/1000098833798...   \n",
       "2     https://twitter.com/POTUS/status/1000158804795...   \n",
       "3     https://twitter.com/POTUS/status/1000175568241...   \n",
       "4     https://twitter.com/POTUS/status/1000438777792...   \n",
       "...                                                 ...   \n",
       "6971  https://twitter.com/POTUS/status/1000095067887...   \n",
       "6972  https://twitter.com/POTUS/status/1000146882428...   \n",
       "6973  https://twitter.com/POTUS/status/1000018438184...   \n",
       "6974  https://twitter.com/POTUS/status/9999924007255...   \n",
       "6975  https://twitter.com/POTUS/status/1000035228679...   \n",
       "\n",
       "                                                  claim  \\\n",
       "0     Liberals were offended by a World War I memori...   \n",
       "1     A German football club was banned from playing...   \n",
       "2     Emma Gonz lez, a survivor of the Parkland scho...   \n",
       "3     A German football club was banned from playing...   \n",
       "4     A German football club was banned from playing...   \n",
       "...                                                 ...   \n",
       "6971  A German football club was banned from playing...   \n",
       "6972  A German football club was banned from playing...   \n",
       "6973  Notorious mobster Al Capone demanded an inquir...   \n",
       "6974  Baseball players in the 1950s were caught on c...   \n",
       "6975  Baseball players in the 1950s were caught on c...   \n",
       "\n",
       "                                                 rating  \\\n",
       "0     ['https://www.snopes.com/tachyon/2018/03/ratin...   \n",
       "1     ['https://www.snopes.com/tachyon/2018/03/ratin...   \n",
       "2     ['https://www.snopes.com/tachyon/2018/03/ratin...   \n",
       "3     ['https://www.snopes.com/tachyon/2018/03/ratin...   \n",
       "4     ['https://www.snopes.com/tachyon/2018/03/ratin...   \n",
       "...                                                 ...   \n",
       "6971  ['https://www.snopes.com/tachyon/2018/03/ratin...   \n",
       "6972  ['https://www.snopes.com/tachyon/2018/03/ratin...   \n",
       "6973  ['https://www.snopes.com/tachyon/2018/03/ratin...   \n",
       "6974  ['https://www.snopes.com/tachyon/2018/03/ratin...   \n",
       "6975  ['https://www.snopes.com/tachyon/2018/03/ratin...   \n",
       "\n",
       "                                              images  \\\n",
       "0     http://pbs.twimg.com/media/DeDL5a-XkAI7Hlw.jpg   \n",
       "1     http://pbs.twimg.com/media/DeDtKIRVAAA4kPm.jpg   \n",
       "2     http://pbs.twimg.com/media/DeD57XMV4AAUG4k.jpg   \n",
       "3     http://pbs.twimg.com/media/DeFVdDlUwAA17qS.jpg   \n",
       "4     http://pbs.twimg.com/media/DeFkp5eU0AA2aLJ.jpg   \n",
       "...                                              ...   \n",
       "6971  http://pbs.twimg.com/media/DeA9KrlVwAEHtPB.jpg   \n",
       "6972  http://pbs.twimg.com/media/DeBe1X5VAAI-Zhh.jpg   \n",
       "6973  http://pbs.twimg.com/media/DeCUF2ZV4AAMm0Z.jpg   \n",
       "6974  http://pbs.twimg.com/media/DeCUiW3VwAAQbyx.jpg   \n",
       "6975  http://pbs.twimg.com/media/DeCejk4WkAMruuM.jpg   \n",
       "\n",
       "                                            text_images  \\\n",
       "0     #DontTearMeDown IRSTLIBERT . ORG DontTearMeDow...   \n",
       "1     FAILED TO GIVE NAZI SALUTE . German Football C...   \n",
       "2                                                   NaN   \n",
       "3     FAILED TO GIVE NAZI SALUTE . German Football C...   \n",
       "4     pnting n the wo \" ' t WHY to win . nbor mu t n...   \n",
       "...                                                 ...   \n",
       "6971  FAILED TO GIVE NAZI SALUTE . German Football C...   \n",
       "6972  FAILED TO GIVE NAZI SALUTE . German Football C...   \n",
       "6973  Ci ) icago Sunday Cribune INAL 17 . Capone Dem...   \n",
       "6974  White Baseball Players Kneel in the 50 ' s to ...   \n",
       "6975  White Baseball Players Kneel in the 50 ' s to ...   \n",
       "\n",
       "                                                 source            label  \\\n",
       "0     https://www.snopes.com/fact-check/liberals-dem...          mixture   \n",
       "1     https://www.snopes.com/fact-check/german-footb...  mostly-true-new   \n",
       "2     https://www.snopes.com/fact-check/emma-gonzale...            false   \n",
       "3     https://www.snopes.com/fact-check/german-footb...  mostly-true-new   \n",
       "4     https://www.snopes.com/fact-check/german-footb...  mostly-true-new   \n",
       "...                                                 ...              ...   \n",
       "6971  https://www.snopes.com/fact-check/german-footb...  mostly-true-new   \n",
       "6972  https://www.snopes.com/fact-check/german-footb...  mostly-true-new   \n",
       "6973  https://www.snopes.com/fact-check/did-al-capon...            false   \n",
       "6974  https://www.snopes.com/fact-check/baseball-pla...            false   \n",
       "6975  https://www.snopes.com/fact-check/baseball-pla...            false   \n",
       "\n",
       "      label_info available              acc_id  \\\n",
       "0            NaN        ok          3981225735   \n",
       "1            NaN        ok          1924071992   \n",
       "2            NaN      auth           924224208   \n",
       "3            NaN      auth           170735298   \n",
       "4            NaN        ok           115563859   \n",
       "...          ...       ...                 ...   \n",
       "6971         NaN        ok           550658726   \n",
       "6972         NaN        ok            91743765   \n",
       "6973         NaN   missing  881682896607600640   \n",
       "6974         NaN      auth           115748564   \n",
       "6975         NaN        ok           518227176   \n",
       "\n",
       "                                              botometer  \n",
       "0     {'cap': {'english': 0.7759887465100499, 'unive...  \n",
       "1     {'cap': {'english': 0.7759887465100499, 'unive...  \n",
       "2     {'cap': {'english': 0.30618807248975083, 'univ...  \n",
       "3     {'cap': {'english': 0.6763619064808265, 'unive...  \n",
       "4     {'cap': {'english': 0.7668769621923945, 'unive...  \n",
       "...                                                 ...  \n",
       "6971                                                     \n",
       "6972                                                     \n",
       "6973                                                     \n",
       "6974                                                     \n",
       "6975                                                     \n",
       "\n",
       "[6976 rows x 14 columns]"
      ]
     },
     "execution_count": 111,
     "metadata": {},
     "output_type": "execute_result"
    }
   ],
   "source": [
    "snopes_acc"
   ]
  },
  {
   "cell_type": "code",
   "execution_count": 110,
   "metadata": {},
   "outputs": [
    {
     "data": {
      "text/plain": [
       "nan"
      ]
     },
     "execution_count": 110,
     "metadata": {},
     "output_type": "execute_result"
    }
   ],
   "source": [
    "test.loc[407].botometer"
   ]
  },
  {
   "cell_type": "code",
   "execution_count": null,
   "metadata": {},
   "outputs": [],
   "source": [
    "bots = snopes.botometer.tolist()"
   ]
  },
  {
   "cell_type": "code",
   "execution_count": null,
   "metadata": {},
   "outputs": [],
   "source": [
    "dicts = []\n",
    "for i in bots:\n",
    "    if i:\n",
    "        dicts.append(eval(i))\n",
    "    else:\n",
    "        dicts.append(None)\n"
   ]
  },
  {
   "cell_type": "code",
   "execution_count": null,
   "metadata": {},
   "outputs": [],
   "source": [
    "for s in bom.check_account(accounts[0]):\n",
    "    print(s)"
   ]
  },
  {
   "cell_type": "code",
   "execution_count": null,
   "metadata": {},
   "outputs": [],
   "source": [
    "import botometer\n",
    "\n",
    "rapidapi_key = \"b0dd966c59mshdf2db2daf9a121fp15f57djsn5bf9d54db4aa\"\n",
    "\n",
    "consumer_key, consumer_secret = \"uHktObbiyJpGoLUaENXdpUWyj\", \"DLoJ8VRhFUK4GQeo3XUP2LGaSN4D7a2mAZqSKlRQshr6N0Ru1r\"\n",
    "access_token, access_token_secret = \"4121890515-8wV0UlTyu9hFzJL9d8NBU6BY24STUtS7zFeAcel\", \"vfnDrkEUAHtVayGJDZxau18mPjG4CuyB2JW6sG0xeYFGs\"\n",
    "\n",
    "\n",
    "twitter_app_auth = {\n",
    "    'consumer_key': consumer_key, # 'sO59YfsV552iCsfLLpQTuS64T',\n",
    "    'consumer_secret': consumer_secret, #'YVGEDbcA3Mg3bTY9rwXpLAH5ATOzbmhRBZ92wuWaBfVMdiflzq',\n",
    "    'access_token': access_token, # 'AAAAAAAAAAAAAAAAAAAAAD%2FZWwEAAAAAJgG8hY2XJfmsYbbs%2Bp5BruRr8aM%3DtRxrtqs0eEhHQ9ZFE9U7tRlNnqm7oPUXeQEijSnj3RgxWgvN5l',\n",
    "    'access_token_secret': access_token_secret,\n",
    "  }\n",
    "bom = botometer.Botometer(wait_on_ratelimit=True,\n",
    "                          rapidapi_key=rapidapi_key,\n",
    "                          **twitter_app_auth)\n",
    "\n",
    "accounts = snopes.acc_id.tolist()\n",
    "for screen_name, result in tqdm(bom.check_accounts_in(accounts=accounts)):\n",
    "    try:\n",
    "        snopes.loc[i, \"botometer\"] = str(result[1])\n",
    "        print(result)\n",
    "    except Exception as e:\n",
    "        print(e)\n",
    "        snopes.loc[i, \"botometer\"] = None\n",
    "\n"
   ]
  },
  {
   "cell_type": "code",
   "execution_count": 50,
   "metadata": {},
   "outputs": [],
   "source": [
    "rapidapi_key = \"b0dd966c59mshdf2db2daf9a121fp15f57djsn5bf9d54db4aa\"\n",
    "\n",
    "consumer_key, consumer_secret = \"uHktObbiyJpGoLUaENXdpUWyj\", \"DLoJ8VRhFUK4GQeo3XUP2LGaSN4D7a2mAZqSKlRQshr6N0Ru1r\"\n",
    "access_token, access_token_secret = \"4121890515-8wV0UlTyu9hFzJL9d8NBU6BY24STUtS7zFeAcel\", \"vfnDrkEUAHtVayGJDZxau18mPjG4CuyB2JW6sG0xeYFGs\"\n",
    "\n",
    "\n",
    "twitter_app_auth = {\n",
    "    'consumer_key': consumer_key, # 'sO59YfsV552iCsfLLpQTuS64T',\n",
    "    'consumer_secret': consumer_secret, #'YVGEDbcA3Mg3bTY9rwXpLAH5ATOzbmhRBZ92wuWaBfVMdiflzq',\n",
    "    'access_token': access_token, # 'AAAAAAAAAAAAAAAAAAAAAD%2FZWwEAAAAAJgG8hY2XJfmsYbbs%2Bp5BruRr8aM%3DtRxrtqs0eEhHQ9ZFE9U7tRlNnqm7oPUXeQEijSnj3RgxWgvN5l',\n",
    "    'access_token_secret': access_token_secret,\n",
    "  }\n",
    "bom = botometer.Botometer(wait_on_ratelimit=True,\n",
    "                          rapidapi_key=rapidapi_key,\n",
    "                          **twitter_app_auth)\n",
    "\n",
    "result = bom.check_accounts_in(accounts[:3])\n",
    "\n"
   ]
  },
  {
   "cell_type": "code",
   "execution_count": 51,
   "metadata": {},
   "outputs": [
    {
     "name": "stdout",
     "output_type": "stream",
     "text": [
      "(3981225735, {'cap': {'english': 0.7759887465100499, 'universal': 0.8006881983123656}, 'display_scores': {'english': {'astroturf': 1.1, 'fake_follower': 1.4, 'financial': 0.0, 'other': 2.2, 'overall': 1.5, 'self_declared': 0.1, 'spammer': 0.1}, 'universal': {'astroturf': 0.8, 'fake_follower': 1.1, 'financial': 0.3, 'other': 3.0, 'overall': 1.8, 'self_declared': 0.1, 'spammer': 0.1}}, 'raw_scores': {'english': {'astroturf': 0.22, 'fake_follower': 0.29, 'financial': 0.01, 'other': 0.45, 'overall': 0.3, 'self_declared': 0.02, 'spammer': 0.02}, 'universal': {'astroturf': 0.15, 'fake_follower': 0.22, 'financial': 0.06, 'other': 0.6, 'overall': 0.37, 'self_declared': 0.02, 'spammer': 0.02}}, 'user': {'majority_lang': 'en', 'user_data': {'id_str': '3981225735', 'screen_name': 'TrumpStudents'}}})\n",
      "(1924071992, {'cap': {'english': 0.7759887465100499, 'universal': 0.792436790569533}, 'display_scores': {'english': {'astroturf': 2.8, 'fake_follower': 0.4, 'financial': 0.6, 'other': 1.4, 'overall': 1.5, 'self_declared': 0.2, 'spammer': 0.0}, 'universal': {'astroturf': 2.2, 'fake_follower': 0.5, 'financial': 0.4, 'other': 1.5, 'overall': 1.6, 'self_declared': 0.0, 'spammer': 0.0}}, 'raw_scores': {'english': {'astroturf': 0.57, 'fake_follower': 0.07, 'financial': 0.13, 'other': 0.29, 'overall': 0.3, 'self_declared': 0.03, 'spammer': 0.0}, 'universal': {'astroturf': 0.43, 'fake_follower': 0.1, 'financial': 0.09, 'other': 0.3, 'overall': 0.32, 'self_declared': 0.01, 'spammer': 0.01}}, 'user': {'majority_lang': 'en', 'user_data': {'id_str': '1924071992', 'screen_name': 'MillenPolitics'}}})\n",
      "(924224208, {'cap': {'english': 0.30618807248975083, 'universal': 0.37678996390568303}, 'display_scores': {'english': {'astroturf': 1.4, 'fake_follower': 0.4, 'financial': 0.3, 'other': 0.9, 'overall': 0.2, 'self_declared': 0.0, 'spammer': 0.0}, 'universal': {'astroturf': 1.1, 'fake_follower': 0.6, 'financial': 0.4, 'other': 0.8, 'overall': 0.3, 'self_declared': 0.0, 'spammer': 0.0}}, 'raw_scores': {'english': {'astroturf': 0.29, 'fake_follower': 0.09, 'financial': 0.06, 'other': 0.18, 'overall': 0.04, 'self_declared': 0.0, 'spammer': 0.0}, 'universal': {'astroturf': 0.22, 'fake_follower': 0.12, 'financial': 0.07, 'other': 0.15, 'overall': 0.06, 'self_declared': 0.0, 'spammer': 0.0}}, 'user': {'majority_lang': 'en', 'user_data': {'id_str': '924224208', 'screen_name': 'jaybluuee'}}})\n"
     ]
    }
   ],
   "source": [
    "for a in result:\n",
    "    print(a)"
   ]
  },
  {
   "cell_type": "code",
   "execution_count": 52,
   "metadata": {},
   "outputs": [
    {
     "data": {
      "text/plain": [
       "{'cap': {'english': 0.30618807248975083, 'universal': 0.37678996390568303},\n",
       " 'display_scores': {'english': {'astroturf': 1.4,\n",
       "   'fake_follower': 0.4,\n",
       "   'financial': 0.3,\n",
       "   'other': 0.9,\n",
       "   'overall': 0.2,\n",
       "   'self_declared': 0.0,\n",
       "   'spammer': 0.0},\n",
       "  'universal': {'astroturf': 1.1,\n",
       "   'fake_follower': 0.6,\n",
       "   'financial': 0.4,\n",
       "   'other': 0.8,\n",
       "   'overall': 0.3,\n",
       "   'self_declared': 0.0,\n",
       "   'spammer': 0.0}},\n",
       " 'raw_scores': {'english': {'astroturf': 0.29,\n",
       "   'fake_follower': 0.09,\n",
       "   'financial': 0.06,\n",
       "   'other': 0.18,\n",
       "   'overall': 0.04,\n",
       "   'self_declared': 0.0,\n",
       "   'spammer': 0.0},\n",
       "  'universal': {'astroturf': 0.22,\n",
       "   'fake_follower': 0.12,\n",
       "   'financial': 0.07,\n",
       "   'other': 0.15,\n",
       "   'overall': 0.06,\n",
       "   'self_declared': 0.0,\n",
       "   'spammer': 0.0}},\n",
       " 'user': {'majority_lang': 'en',\n",
       "  'user_data': {'id_str': '924224208', 'screen_name': 'jaybluuee'}}}"
      ]
     },
     "execution_count": 52,
     "metadata": {},
     "output_type": "execute_result"
    }
   ],
   "source": [
    "a[1]"
   ]
  },
  {
   "cell_type": "code",
   "execution_count": 49,
   "metadata": {},
   "outputs": [
    {
     "data": {
      "text/plain": [
       "[3981225735,\n",
       " 1924071992,\n",
       " 924224208,\n",
       " 170735298,\n",
       " 115563859,\n",
       " 839300788702875648,\n",
       " 187286731,\n",
       " 803984530700910592,\n",
       " 432703985,\n",
       " 96838049,\n",
       " 22289130,\n",
       " 1336826635,\n",
       " 600061917,\n",
       " 259132164,\n",
       " 818231382,\n",
       " 284236188,\n",
       " 184383206,\n",
       " 2316246829,\n",
       " 807095,\n",
       " 1266239359,\n",
       " 3995778614,\n",
       " 571135299,\n",
       " 1367140224,\n",
       " 1170769933,\n",
       " 4041846647,\n",
       " 2505411212,\n",
       " 1102665366,\n",
       " 22084427,\n",
       " 227128602,\n",
       " 221557378,\n",
       " 704876221197193216,\n",
       " 15317676,\n",
       " 500391228,\n",
       " 1260181622,\n",
       " 22162379,\n",
       " 14849146,\n",
       " 2884176405,\n",
       " 2411569569,\n",
       " 2411569569,\n",
       " 235709466,\n",
       " 110855805,\n",
       " 554987162,\n",
       " 192529611,\n",
       " 1329515617,\n",
       " 554888488,\n",
       " 1367140224,\n",
       " 53159918,\n",
       " 714647220268744704,\n",
       " 1732751822,\n",
       " 16973333,\n",
       " 1893751014,\n",
       " 4480863626,\n",
       " 166329578,\n",
       " 608471241,\n",
       " 724755152515829760,\n",
       " 128796694,\n",
       " 607558430,\n",
       " 124954456,\n",
       " 4864871778,\n",
       " 19874344,\n",
       " 580312540,\n",
       " 1909350781,\n",
       " 17756195,\n",
       " 304761097,\n",
       " 350362817,\n",
       " 4173349815,\n",
       " 487600344,\n",
       " 177584156,\n",
       " 2682013394,\n",
       " 4236806414,\n",
       " 18545481,\n",
       " 2255785398,\n",
       " 4833119038,\n",
       " 2416940856,\n",
       " 457820209,\n",
       " 30528628,\n",
       " 3314758074,\n",
       " 68450683,\n",
       " 339060259,\n",
       " 728733298373988352,\n",
       " 231124010,\n",
       " 3389134989,\n",
       " 1038821832,\n",
       " 2466008792,\n",
       " 370243466,\n",
       " 3323100684,\n",
       " 68450683,\n",
       " 578090036,\n",
       " 2206912764,\n",
       " 265891353,\n",
       " 4823097016,\n",
       " 399774230,\n",
       " 4832357954,\n",
       " 25224960,\n",
       " 25224960,\n",
       " 3380835143,\n",
       " 4909226006,\n",
       " 1969346438,\n",
       " 3951682217,\n",
       " 159655623,\n",
       " 22064592,\n",
       " 185635130,\n",
       " 437208886,\n",
       " 4664372353,\n",
       " 204872032,\n",
       " 440817801,\n",
       " 205757668,\n",
       " 443924415,\n",
       " 18545481,\n",
       " 66837697,\n",
       " 27789999,\n",
       " 27789999,\n",
       " 27789999,\n",
       " 3411313300,\n",
       " 19131322,\n",
       " 85831860,\n",
       " 2908170952,\n",
       " 145359341,\n",
       " 312149882,\n",
       " 1449488359,\n",
       " 4704367111,\n",
       " 136166272,\n",
       " 2490661603,\n",
       " 561654065,\n",
       " 163995557,\n",
       " 27413161,\n",
       " 126009130,\n",
       " 126009130,\n",
       " 18545481,\n",
       " 18545481,\n",
       " 18545481,\n",
       " 145359341,\n",
       " 162114552,\n",
       " 3588258014,\n",
       " 944470134,\n",
       " 1678775311,\n",
       " 201727015,\n",
       " 705607964007108608,\n",
       " 222519463,\n",
       " 533666781,\n",
       " 52136185,\n",
       " 586206240,\n",
       " 3225287206,\n",
       " 49452556,\n",
       " 904789082,\n",
       " 732615765476564992,\n",
       " 2665438183,\n",
       " 944470134,\n",
       " 1713036884,\n",
       " 500391228,\n",
       " 485373368,\n",
       " 59615269,\n",
       " 295988417,\n",
       " 2695447915,\n",
       " 561654065,\n",
       " 2840452198,\n",
       " 561654065,\n",
       " 1425679045,\n",
       " 33170847,\n",
       " 82447359,\n",
       " 3995778614,\n",
       " 1605994580,\n",
       " 245687348,\n",
       " 21833728,\n",
       " 82447359,\n",
       " 200811254,\n",
       " 269576133,\n",
       " 361275163,\n",
       " 2847859818,\n",
       " 4726885214,\n",
       " 54065567,\n",
       " 54065567,\n",
       " 2686313414,\n",
       " 2975669439,\n",
       " 300497193,\n",
       " 361275163,\n",
       " 3307295642,\n",
       " 2875780737,\n",
       " 222519463,\n",
       " 705890784319377408,\n",
       " 17350532,\n",
       " 304543369,\n",
       " 1849938847,\n",
       " 2600602135,\n",
       " 59615269,\n",
       " 195271137,\n",
       " 2600602135,\n",
       " 2914451594,\n",
       " 3974665634,\n",
       " 729022640313106432,\n",
       " 2600602135,\n",
       " 104051619,\n",
       " 2600602135,\n",
       " 2600602135,\n",
       " 1430455554,\n",
       " 21343120,\n",
       " 1941136946,\n",
       " 2600602135,\n",
       " 421344061,\n",
       " 713005707470069760,\n",
       " 49685124,\n",
       " 3020425427,\n",
       " 297191567,\n",
       " 4883470551,\n",
       " 4883470551,\n",
       " 555475580,\n",
       " 705890784319377408,\n",
       " 25066686,\n",
       " 726627971490934784,\n",
       " 359196437,\n",
       " 4883470551,\n",
       " 487013912,\n",
       " 4883470551,\n",
       " 727308523139272704,\n",
       " 705532607790870528,\n",
       " 4883470551,\n",
       " 706429945258463232,\n",
       " 4883470551,\n",
       " 289118612,\n",
       " 4883470551,\n",
       " 60207798,\n",
       " 4883470551,\n",
       " 4914495876,\n",
       " 60207798,\n",
       " 21773704,\n",
       " 71272041,\n",
       " 194521859,\n",
       " 2902181749,\n",
       " 4883470551,\n",
       " 634676291,\n",
       " 4883470551,\n",
       " 4883470551,\n",
       " 843066685,\n",
       " 141711305,\n",
       " 3974665634,\n",
       " 4883470551,\n",
       " 4883470551,\n",
       " 2457085861,\n",
       " 4883470551,\n",
       " 14294848,\n",
       " 2421067430,\n",
       " 374116640,\n",
       " 279390084,\n",
       " 19943761,\n",
       " 30681036,\n",
       " 594886554,\n",
       " 594886554,\n",
       " 15226811,\n",
       " 723167125272027136,\n",
       " 312149882,\n",
       " 3018828006,\n",
       " 59241915,\n",
       " 14211510,\n",
       " 170357723,\n",
       " 15012486,\n",
       " 126009130,\n",
       " 161132591,\n",
       " 3567446177,\n",
       " 2982225709,\n",
       " 18363962,\n",
       " 542318578,\n",
       " 158619022,\n",
       " 121493492,\n",
       " 18564980,\n",
       " 109484669,\n",
       " 18643437,\n",
       " 3311629271,\n",
       " 32272710,\n",
       " 796261392,\n",
       " 18240386,\n",
       " 146928495,\n",
       " 77324226,\n",
       " 1735969045,\n",
       " 16267083,\n",
       " 2560466682,\n",
       " 378016563,\n",
       " 213795411,\n",
       " 414174068,\n",
       " 177584156,\n",
       " 88989613,\n",
       " 31341662,\n",
       " 71875415,\n",
       " 401657173,\n",
       " 275276082,\n",
       " 719198026909290496,\n",
       " 38570287,\n",
       " 554316017,\n",
       " 944470134,\n",
       " 891073250,\n",
       " 90194079,\n",
       " 709920419529281536,\n",
       " 753573418507743232,\n",
       " 94818581,\n",
       " 26652733,\n",
       " 3314758074,\n",
       " 3903128778,\n",
       " 149679293,\n",
       " 714513049,\n",
       " 98229878,\n",
       " 3308560736,\n",
       " 385194334,\n",
       " 2570615502,\n",
       " 319373700,\n",
       " 362798863,\n",
       " 330378192,\n",
       " 291874773,\n",
       " 118867974,\n",
       " 28587919,\n",
       " 16208276,\n",
       " 238053427,\n",
       " 175954697,\n",
       " 600195366,\n",
       " 525676041,\n",
       " 918230042,\n",
       " 1269583296,\n",
       " 345253262,\n",
       " 32133117,\n",
       " 4496819788,\n",
       " 14294848,\n",
       " 108172069,\n",
       " 33156354,\n",
       " 17427779,\n",
       " 3389073989,\n",
       " 3020168556,\n",
       " 1969346438,\n",
       " 4236806414,\n",
       " 470438993,\n",
       " 21833728,\n",
       " 82447359,\n",
       " 45302174,\n",
       " 272114651,\n",
       " 15976697,\n",
       " 33529092,\n",
       " 1247921690,\n",
       " 278781274,\n",
       " 47534393,\n",
       " 61759552,\n",
       " 707288641995939840,\n",
       " 306097862,\n",
       " 43283406,\n",
       " 352145373,\n",
       " 43296233,\n",
       " 3698501,\n",
       " 561654065,\n",
       " 741814929842405376,\n",
       " 18764841,\n",
       " 19062754,\n",
       " 3520122318,\n",
       " 14546264,\n",
       " 2604924327,\n",
       " 338613723,\n",
       " 15150453,\n",
       " 16027904,\n",
       " 18210263,\n",
       " 3974665634,\n",
       " 3974665634,\n",
       " 177584156,\n",
       " 3685459885,\n",
       " 1620343501,\n",
       " 764644970,\n",
       " 726148842,\n",
       " 756487123650260992,\n",
       " 792788359,\n",
       " 184997446,\n",
       " 706656042327801856,\n",
       " 722787662214483968,\n",
       " 1541810258,\n",
       " 4068318254,\n",
       " 2725381381,\n",
       " 21343120,\n",
       " 275276082,\n",
       " 323208365,\n",
       " 233933230,\n",
       " 55976150,\n",
       " 90804267,\n",
       " 2570615502,\n",
       " 208996041,\n",
       " 133478732,\n",
       " 39578387,\n",
       " 316739994,\n",
       " 3308560736,\n",
       " 39308549,\n",
       " 2845253645,\n",
       " 2750334224,\n",
       " 264268489,\n",
       " 39349894,\n",
       " 42822396,\n",
       " 21458842,\n",
       " 88243144,\n",
       " 1426907185,\n",
       " 2332264339,\n",
       " 104513680,\n",
       " 618563,\n",
       " 264361128,\n",
       " 34917150,\n",
       " 752961357113200640,\n",
       " 59817827,\n",
       " 398919818,\n",
       " 715496304777015296,\n",
       " 347627434,\n",
       " 707077738620780544,\n",
       " 742446825337028608,\n",
       " 9300262,\n",
       " 704034081898668032,\n",
       " 1374585606,\n",
       " 718983299608129536,\n",
       " 584177882,\n",
       " 9300262,\n",
       " 721185346797572096,\n",
       " 67899097,\n",
       " 2499109494,\n",
       " 2796929687,\n",
       " 292929271,\n",
       " 2269567158,\n",
       " 2393098723,\n",
       " 709920419529281536,\n",
       " 4784596178,\n",
       " 4236806414,\n",
       " 494624290,\n",
       " 561654065,\n",
       " 1599141961,\n",
       " 17860906,\n",
       " 2839030037,\n",
       " 4226960114,\n",
       " 743688372460216320,\n",
       " 118496889,\n",
       " 2915156131,\n",
       " 166329578,\n",
       " 4676548814,\n",
       " 4197546072,\n",
       " 88494677,\n",
       " 608471241,\n",
       " 608471241,\n",
       " 325164172,\n",
       " 26672170,\n",
       " 177584156,\n",
       " 2801177472,\n",
       " 95995039,\n",
       " 126009130,\n",
       " 126009130,\n",
       " 399774230,\n",
       " 972255098,\n",
       " 1917731,\n",
       " 65854394,\n",
       " 741589503102570496,\n",
       " 1917731,\n",
       " 2244290719,\n",
       " 701655880920510464,\n",
       " 2793194082,\n",
       " 18301196,\n",
       " 1496756359,\n",
       " 430118889,\n",
       " 15164565,\n",
       " 3697285157,\n",
       " 2923563766,\n",
       " 2923563766,\n",
       " 1375629385,\n",
       " 1325018372,\n",
       " 25975551,\n",
       " 22722452,\n",
       " 374284455,\n",
       " 49035775,\n",
       " 48421473,\n",
       " 428713002,\n",
       " 3407847574,\n",
       " 18545481,\n",
       " 15164565,\n",
       " 47652227,\n",
       " 78523300,\n",
       " 361275163,\n",
       " 495622651,\n",
       " 19098324,\n",
       " 421275603,\n",
       " 177584156,\n",
       " 361275163,\n",
       " 28905454,\n",
       " 15164565,\n",
       " 4429709805,\n",
       " 1496756359,\n",
       " 766797410,\n",
       " 15164565,\n",
       " 548172120,\n",
       " 2241227238,\n",
       " 15164565,\n",
       " 30456403,\n",
       " 248692627,\n",
       " 28048355,\n",
       " 18545481,\n",
       " 1917731,\n",
       " 138742761,\n",
       " 289118612,\n",
       " 15706904,\n",
       " 865636782,\n",
       " 2291904432,\n",
       " 3103091745,\n",
       " 3047937393,\n",
       " 167796615,\n",
       " 14511951,\n",
       " 49452556,\n",
       " 3974665634,\n",
       " 1018491630,\n",
       " 537904539,\n",
       " 2374469136,\n",
       " 3433022621,\n",
       " 585465795,\n",
       " 2883533651,\n",
       " 16955991,\n",
       " 547969112,\n",
       " 272114651,\n",
       " 936148682,\n",
       " 728635523816775680,\n",
       " 547969112,\n",
       " 67899097,\n",
       " 547969112,\n",
       " 3047377314,\n",
       " 759179340307243008,\n",
       " 1367531,\n",
       " 361275163,\n",
       " 399717630,\n",
       " 9369062,\n",
       " 762252876,\n",
       " 582135529,\n",
       " 851866178,\n",
       " 608471241,\n",
       " 331825712,\n",
       " 733808069440741376,\n",
       " 3995778614,\n",
       " 3390416469,\n",
       " 1367531,\n",
       " 754135908,\n",
       " 890302164,\n",
       " 81602176,\n",
       " 728979362775638016,\n",
       " 553998793,\n",
       " 157054921,\n",
       " 2255424079,\n",
       " 547969112,\n",
       " 2875990472,\n",
       " 2316246829,\n",
       " 758313715695427584,\n",
       " 758313715695427584,\n",
       " 25446957,\n",
       " 86963075,\n",
       " 715357604961263616,\n",
       " 140638292,\n",
       " 2801177472,\n",
       " 2801177472,\n",
       " 1976799128,\n",
       " 421460415,\n",
       " 2775579278,\n",
       " 3974665634,\n",
       " 1482516500,\n",
       " 750399805851963392,\n",
       " 43413425,\n",
       " 43308598,\n",
       " 3066008697,\n",
       " 18195110,\n",
       " 40246348,\n",
       " 2793800587,\n",
       " 802722056,\n",
       " 43308598,\n",
       " 402985469,\n",
       " 4897543230,\n",
       " 865538113,\n",
       " 2972410695,\n",
       " 2998466930,\n",
       " 4182512297,\n",
       " 30067748,\n",
       " 71359942,\n",
       " 277090518,\n",
       " 65003619,\n",
       " 753806066052235264,\n",
       " 705333567543504896,\n",
       " 2998441830,\n",
       " 3308110350,\n",
       " 4796678896,\n",
       " 2441304533,\n",
       " 561654065,\n",
       " 3034834939,\n",
       " 261035490,\n",
       " 4851276082,\n",
       " 370513594,\n",
       " 15854008,\n",
       " 2226870793,\n",
       " 971176056,\n",
       " 4240150034,\n",
       " 561654065,\n",
       " 332433520,\n",
       " 2416597188,\n",
       " 2416597188,\n",
       " 17094311,\n",
       " 543452426,\n",
       " 4846395737,\n",
       " 3220025137,\n",
       " 753753493622628352,\n",
       " 18002528,\n",
       " 16444868,\n",
       " 3433002136,\n",
       " 743651896578060288,\n",
       " 21833728,\n",
       " 50010587,\n",
       " 835328618,\n",
       " 297457814,\n",
       " 620872388,\n",
       " 3139537490,\n",
       " 60370335,\n",
       " 1225818590,\n",
       " 234841289,\n",
       " 2891102076,\n",
       " 702174406739685376,\n",
       " 57912099,\n",
       " 732445833682018304,\n",
       " 732445833682018304,\n",
       " 2904671027,\n",
       " 322674930,\n",
       " 65003619,\n",
       " 4543053312,\n",
       " 42158021,\n",
       " 279208035,\n",
       " 180511021,\n",
       " 311241090,\n",
       " 15359578,\n",
       " 20826129,\n",
       " 4700477725,\n",
       " 371142734,\n",
       " 24638062,\n",
       " 45291573,\n",
       " 552410408,\n",
       " 20295763,\n",
       " 1564676498,\n",
       " 17343602,\n",
       " 552983877,\n",
       " 18561223,\n",
       " 14787713,\n",
       " 1568498256,\n",
       " 752493806,\n",
       " 516093774,\n",
       " 28905454,\n",
       " 2747259456,\n",
       " 224268822,\n",
       " 17232340,\n",
       " 3359243787,\n",
       " 75974281,\n",
       " 233933230,\n",
       " 233933230,\n",
       " 479068816,\n",
       " 2892976359,\n",
       " 19908848,\n",
       " 4237277387,\n",
       " 3359243787,\n",
       " 284104234,\n",
       " 3592503441,\n",
       " 905530344,\n",
       " 19899980,\n",
       " 600061917,\n",
       " 221452291,\n",
       " 4765012532,\n",
       " 15671833,\n",
       " 1530853626,\n",
       " 24395228,\n",
       " 343171160,\n",
       " 2908170952,\n",
       " 251913645,\n",
       " 709920419529281536,\n",
       " 431198790,\n",
       " 90285099,\n",
       " 2299826742,\n",
       " 142077688,\n",
       " 1213274119,\n",
       " 608471241,\n",
       " 561654065,\n",
       " 15368940,\n",
       " 2740452163,\n",
       " 25446957,\n",
       " 70773048,\n",
       " 706176697440276480,\n",
       " 759251,\n",
       " 50881405,\n",
       " 1356123823,\n",
       " 716260246109483008,\n",
       " 3202808548,\n",
       " 150059501,\n",
       " 565008398,\n",
       " 56192739,\n",
       " 751095331408973824,\n",
       " 2900220088,\n",
       " 1652687708,\n",
       " 704034081898668032,\n",
       " 37315032,\n",
       " 632171886,\n",
       " 124199238,\n",
       " 3589464580,\n",
       " 542962969,\n",
       " 2421067430,\n",
       " 704363061013057536,\n",
       " 2910776820,\n",
       " 1096411117,\n",
       " 3124454195,\n",
       " 4760647532,\n",
       " 38367188,\n",
       " 605448008,\n",
       " 83788240,\n",
       " 374284455,\n",
       " 22798141,\n",
       " 2818206308,\n",
       " 2382281029,\n",
       " 415256606,\n",
       " 1966026648,\n",
       " 893470729,\n",
       " 2953422203,\n",
       " 167363471,\n",
       " 291874773,\n",
       " 44103717,\n",
       " 28670599,\n",
       " 739567626511388672,\n",
       " 200656602,\n",
       " 31801993,\n",
       " 703230673776197632,\n",
       " 146928495,\n",
       " 729096352676782080,\n",
       " 1643634444,\n",
       " 246377722,\n",
       " 3407847574,\n",
       " 21845346,\n",
       " 385075625,\n",
       " 29465136,\n",
       " 13148382,\n",
       " 4851276082,\n",
       " 3416492723,\n",
       " 3359243787,\n",
       " 9611592,\n",
       " 739080916610342912,\n",
       " 34367582,\n",
       " 28007091,\n",
       " 3124454195,\n",
       " 26579739,\n",
       " 76373,\n",
       " 758049168690642944,\n",
       " 963176808,\n",
       " 19193016,\n",
       " 3381686297,\n",
       " 93493910,\n",
       " 3313143320,\n",
       " 2610081858,\n",
       " 4646073148,\n",
       " 344729527,\n",
       " 32951070,\n",
       " 37013920,\n",
       " 23116280,\n",
       " 25197377,\n",
       " 33228837,\n",
       " 4242905298,\n",
       " 18637247,\n",
       " 714949505720823808,\n",
       " 872954089,\n",
       " 437352926,\n",
       " 23004495,\n",
       " 4361249533,\n",
       " 156377910,\n",
       " 4452560741,\n",
       " 273951517,\n",
       " 264493607,\n",
       " 760130823374843904,\n",
       " 118845216,\n",
       " 232333397,\n",
       " 414873541,\n",
       " 3723723982,\n",
       " 824391878,\n",
       " 450213974,\n",
       " 890302164,\n",
       " 29059784,\n",
       " 709144993,\n",
       " 15104164,\n",
       " 289118612,\n",
       " 3314963469,\n",
       " 21833728,\n",
       " 796261392,\n",
       " 227010728,\n",
       " 196109220,\n",
       " 582414351,\n",
       " 340968277,\n",
       " 1969346438,\n",
       " 13804112,\n",
       " 739567626511388672,\n",
       " 835328618,\n",
       " 164523117,\n",
       " 446228264,\n",
       " 39344374,\n",
       " 757749684580519936,\n",
       " 515542297,\n",
       " 41265813,\n",
       " 78523300,\n",
       " 18643437,\n",
       " 232201971,\n",
       " 801071388,\n",
       " 3539755636,\n",
       " 1367531,\n",
       " 1564676498,\n",
       " 4901489212,\n",
       " 704034081898668032,\n",
       " 22630309,\n",
       " 46520074,\n",
       " 17895820,\n",
       " 14412533,\n",
       " 1917731,\n",
       " 1080576949,\n",
       " 492833134,\n",
       " 65132037,\n",
       " 1735546184,\n",
       " 765091605472698368,\n",
       " 743142244706848768,\n",
       " 107012365,\n",
       " 237623215,\n",
       " 865187658,\n",
       " 621110318,\n",
       " 25197377,\n",
       " 739567626511388672,\n",
       " 1462579488,\n",
       " 430905373,\n",
       " 20854637,\n",
       " 25832979,\n",
       " 1200713864,\n",
       " 758809594936238080,\n",
       " 758809594936238080,\n",
       " 374284455,\n",
       " 25197377,\n",
       " 172394944,\n",
       " 910332056,\n",
       " 34163521,\n",
       " 1537048512,\n",
       " 715650695647637504,\n",
       " 1513958744,\n",
       " 727578244841639936,\n",
       " 713832622808412160,\n",
       " 4855687055,\n",
       " 3558102739,\n",
       " 695365245376696320,\n",
       " 28869089,\n",
       " 54065567,\n",
       " 54065567,\n",
       " 746367431388585984,\n",
       " 746367431388585984,\n",
       " 3166217539,\n",
       " 3329997245,\n",
       " 765091605472698368,\n",
       " 317223956,\n",
       " 1849938847,\n",
       " 1148951203,\n",
       " 138581916,\n",
       " 2953617710,\n",
       " 49685124,\n",
       " 169536421,\n",
       " 3124454195,\n",
       " 2830167800,\n",
       " 141642957,\n",
       " 710829502843064320,\n",
       " 30265457,\n",
       " 561654065,\n",
       " 16887175,\n",
       " 730786518848159744,\n",
       " 22677397,\n",
       " 2353703503,\n",
       " 21248626,\n",
       " 17395207,\n",
       " 144130505,\n",
       " 17529294,\n",
       " 52801677,\n",
       " 742923442471763968,\n",
       " 3697721113,\n",
       " 2584482763,\n",
       " 20944649,\n",
       " 773520163396325376,\n",
       " 20889358,\n",
       " 67095221,\n",
       " 767036004,\n",
       " 765091605472698368,\n",
       " 176914461,\n",
       " 78569026,\n",
       " 331747494,\n",
       " 2316246829,\n",
       " 361275163,\n",
       " 2364837974,\n",
       " 1242465014,\n",
       " 289118612,\n",
       " 568143078,\n",
       " 758313715695427584,\n",
       " 18195110,\n",
       " 765091605472698368,\n",
       " 1289704663,\n",
       " 754086125917106176,\n",
       " 1371572360,\n",
       " 769297227957141504,\n",
       " 3610264154,\n",
       " 27211961,\n",
       " 723387344175296512,\n",
       " 151375368,\n",
       " 767587128524013568,\n",
       " 35677844,\n",
       " 936304345,\n",
       " 19195442,\n",
       " 744281884310405120,\n",
       " 3389134989,\n",
       " 3019417439,\n",
       " 10735392,\n",
       " 3362345172,\n",
       " 33388399,\n",
       " 341688336,\n",
       " 231641765,\n",
       " 3394911915,\n",
       " 2902031256,\n",
       " 3297022953,\n",
       " 455288410,\n",
       " 219815601,\n",
       " 374284455,\n",
       " 2684196134,\n",
       " 865636782,\n",
       " 126009130,\n",
       " 126009130,\n",
       " 126009130,\n",
       " 126009130,\n",
       " 126009130,\n",
       " 126009130,\n",
       " 126009130,\n",
       " 126009130,\n",
       " 126009130,\n",
       " 126009130,\n",
       " 126009130,\n",
       " 126009130,\n",
       " 126009130,\n",
       " 126009130,\n",
       " 126009130,\n",
       " 126009130,\n",
       " 126009130,\n",
       " 126009130,\n",
       " 126009130,\n",
       " 325893346,\n",
       " 126009130,\n",
       " 126009130,\n",
       " 126009130,\n",
       " 126009130,\n",
       " 126009130,\n",
       " 126009130,\n",
       " 126009130,\n",
       " 126009130,\n",
       " 18132806,\n",
       " 3057650044,\n",
       " 972651,\n",
       " 865636782,\n",
       " 1353347065,\n",
       " 767587128524013568,\n",
       " 3686488635,\n",
       " 3002739417,\n",
       " 1183779272,\n",
       " 1309391066,\n",
       " 4334047641,\n",
       " 42371615,\n",
       " 3930608896,\n",
       " 21773704,\n",
       " 399774230,\n",
       " 758076297876602880,\n",
       " 2911587582,\n",
       " 735624304050593792,\n",
       " 4240150034,\n",
       " 16674128,\n",
       " 14441020,\n",
       " 30265457,\n",
       " 1326707346,\n",
       " 908933376,\n",
       " 124185033,\n",
       " 2451462137,\n",
       " 2417586104,\n",
       " 2344571893,\n",
       " 3340267793,\n",
       " 902851051,\n",
       " 1339835893,\n",
       " 36196526,\n",
       " 6563122,\n",
       " 4345493055,\n",
       " 1851877248,\n",
       " 90573210,\n",
       " 118845216,\n",
       " 172032623,\n",
       " 2786693552,\n",
       " 755726522,\n",
       " 2788642796,\n",
       " 340660967,\n",
       " 22141405,\n",
       " 4194141941,\n",
       " 115772421,\n",
       " 22714413,\n",
       " 97082147,\n",
       " 63514682,\n",
       " 1027392638,\n",
       " 259509924,\n",
       " 762658215850971136,\n",
       " 214112621,\n",
       " 15511737,\n",
       " 758313715695427584,\n",
       " 20065936,\n",
       " 704795920433414144,\n",
       " ...]"
      ]
     },
     "execution_count": 49,
     "metadata": {},
     "output_type": "execute_result"
    }
   ],
   "source": [
    "accounts"
   ]
  },
  {
   "cell_type": "code",
   "execution_count": null,
   "metadata": {},
   "outputs": [],
   "source": [
    "\"@clayadavis\"\n",
    "[1548959833]"
   ]
  },
  {
   "cell_type": "code",
   "execution_count": null,
   "metadata": {},
   "outputs": [],
   "source": [
    "pip install git+https://github.com/tweepy/tweepy.git\n"
   ]
  },
  {
   "cell_type": "code",
   "execution_count": null,
   "metadata": {},
   "outputs": [],
   "source": [
    "accounts = snopes.original_id.tolist()\n",
    "\n"
   ]
  },
  {
   "cell_type": "code",
   "execution_count": null,
   "metadata": {},
   "outputs": [],
   "source": [
    "import tweepy\n",
    "from tqdm import tqdm\n",
    "\n",
    "from time import sleep\n",
    "\n",
    "consumer_key, consumer_secret = \"uHktObbiyJpGoLUaENXdpUWyj\", \"DLoJ8VRhFUK4GQeo3XUP2LGaSN4D7a2mAZqSKlRQshr6N0Ru1r\"\n",
    "access_token, access_token_secret = \"4121890515-8wV0UlTyu9hFzJL9d8NBU6BY24STUtS7zFeAcel\", \"vfnDrkEUAHtVayGJDZxau18mPjG4CuyB2JW6sG0xeYFGs\"\n",
    "\n",
    "\n",
    "bearer_token = \"AAAAAAAAAAAAAAAAAAAAAD%2FZWwEAAAAA3Kiamz2egng9VKNdyiCM9%2BFUsrM%3DPS7mSlp9wPQ0BHX5inmPmOJBFrwevMrbEV4e9R10rEeU2DwaJt\"\n",
    "\n",
    "\n",
    "auth = tweepy.OAuthHandler(consumer_key, consumer_secret)\n",
    "auth.set_access_token(access_token, access_token_secret)\n",
    "\n",
    "client = tweepy.Client(bearer_token)\n",
    "# client = tweepy.Client(auth)\n",
    "\n",
    "# client = tweepy.Client(\n",
    "#     consumer_key=consumer_key, consumer_secret=consumer_secret,\n",
    "#     access_token=access_token, access_token_secret=access_token_secret\n",
    "# )\n",
    "\n",
    "# snopes[\"acc_id\"] = None\n",
    "\n",
    "\n",
    "for i, account in tqdm(enumerate(accounts)):\n",
    "    \n",
    "    if i<7250: continue\n",
    "    \n",
    "    if i % 250 == 0:\n",
    "        sleep(900)\n",
    "    try:\n",
    "        response = client.get_tweet(id=account, expansions='author_id')\n",
    "    except Exception as e:\n",
    "        print(\"Cant get tweet -----------> \", e)\n",
    "    \n",
    "    if response.data:\n",
    "        try:\n",
    "            snopes.loc[i, \"acc_id\"] = response.includes[\"users\"][0].id\n",
    "        except Exception as e:\n",
    "            snopes.loc[i, \"acc_id\"] = None\n",
    "            print(\"Cant append to df :/ ----------> \", e)"
   ]
  },
  {
   "cell_type": "code",
   "execution_count": null,
   "metadata": {},
   "outputs": [],
   "source": []
  },
  {
   "cell_type": "code",
   "execution_count": 10,
   "metadata": {},
   "outputs": [],
   "source": [
    "# snopes.to_csv(\"snopes_acc.csv\", index=False)"
   ]
  },
  {
   "cell_type": "code",
   "execution_count": null,
   "metadata": {},
   "outputs": [],
   "source": [
    "first_100 = str(accounts[:100]).replace(\"[\", \"\").replace(\"]\", \"\").replace(\" \", \"\")"
   ]
  },
  {
   "cell_type": "code",
   "execution_count": 31,
   "metadata": {},
   "outputs": [
    {
     "data": {
      "text/plain": [
       "[3981225735.0,\n",
       " 1924071992.0,\n",
       " 924224208.0,\n",
       " 170735298.0,\n",
       " 115563859.0,\n",
       " 8.393007887028756e+17,\n",
       " 187286731.0,\n",
       " 8.039845307009106e+17,\n",
       " 432703985.0,\n",
       " 96838049.0,\n",
       " 22289130.0,\n",
       " 1336826635.0,\n",
       " 600061917.0,\n",
       " 259132164.0,\n",
       " 818231382.0,\n",
       " 284236188.0,\n",
       " 184383206.0,\n",
       " 2316246829.0,\n",
       " 807095.0,\n",
       " 1266239359.0,\n",
       " 3995778614.0,\n",
       " 571135299.0,\n",
       " 1367140224.0,\n",
       " 1170769933.0,\n",
       " 4041846647.0,\n",
       " 2505411212.0,\n",
       " 1102665366.0,\n",
       " 22084427.0,\n",
       " 227128602.0,\n",
       " 221557378.0,\n",
       " 7.048762211971932e+17,\n",
       " 15317676.0,\n",
       " 500391228.0,\n",
       " 1260181622.0,\n",
       " 22162379.0,\n",
       " 14849146.0,\n",
       " 2884176405.0,\n",
       " 2411569569.0,\n",
       " 2411569569.0,\n",
       " 235709466.0,\n",
       " 110855805.0,\n",
       " 554987162.0,\n",
       " 192529611.0,\n",
       " 1329515617.0,\n",
       " 554888488.0,\n",
       " 1367140224.0,\n",
       " 53159918.0,\n",
       " 7.146472202687447e+17,\n",
       " 1732751822.0,\n",
       " 16973333.0,\n",
       " 1893751014.0,\n",
       " 4480863626.0,\n",
       " 166329578.0,\n",
       " 608471241.0,\n",
       " 7.247551525158298e+17,\n",
       " 128796694.0,\n",
       " 607558430.0,\n",
       " 124954456.0,\n",
       " 4864871778.0,\n",
       " 19874344.0,\n",
       " 580312540.0,\n",
       " 1909350781.0,\n",
       " 17756195.0,\n",
       " 304761097.0,\n",
       " 350362817.0,\n",
       " 4173349815.0,\n",
       " 487600344.0,\n",
       " 177584156.0,\n",
       " 2682013394.0,\n",
       " 4236806414.0,\n",
       " 18545481.0,\n",
       " 2255785398.0,\n",
       " 4833119038.0,\n",
       " 2416940856.0,\n",
       " 457820209.0,\n",
       " 30528628.0,\n",
       " 3314758074.0,\n",
       " 68450683.0,\n",
       " 339060259.0,\n",
       " 7.287332983739884e+17,\n",
       " 231124010.0,\n",
       " 3389134989.0,\n",
       " 1038821832.0,\n",
       " 2466008792.0,\n",
       " 370243466.0,\n",
       " 3323100684.0,\n",
       " 68450683.0,\n",
       " 578090036.0,\n",
       " 2206912764.0,\n",
       " 265891353.0,\n",
       " 4823097016.0,\n",
       " 399774230.0,\n",
       " 4832357954.0,\n",
       " 25224960.0,\n",
       " 25224960.0,\n",
       " 3380835143.0,\n",
       " 4909226006.0,\n",
       " 1969346438.0,\n",
       " 3951682217.0,\n",
       " 159655623.0,\n",
       " 22064592.0,\n",
       " 185635130.0,\n",
       " 437208886.0,\n",
       " 4664372353.0,\n",
       " 204872032.0,\n",
       " 440817801.0,\n",
       " 205757668.0,\n",
       " 443924415.0,\n",
       " 18545481.0,\n",
       " 66837697.0,\n",
       " 27789999.0,\n",
       " 27789999.0,\n",
       " 27789999.0,\n",
       " 3411313300.0,\n",
       " 19131322.0,\n",
       " 85831860.0,\n",
       " 2908170952.0,\n",
       " 145359341.0,\n",
       " 312149882.0,\n",
       " 1449488359.0,\n",
       " 4704367111.0,\n",
       " 136166272.0,\n",
       " 2490661603.0,\n",
       " 561654065.0,\n",
       " 163995557.0,\n",
       " 27413161.0,\n",
       " 126009130.0,\n",
       " 126009130.0,\n",
       " 18545481.0,\n",
       " 18545481.0,\n",
       " 18545481.0,\n",
       " 145359341.0,\n",
       " 162114552.0,\n",
       " 3588258014.0,\n",
       " 944470134.0,\n",
       " 1678775311.0,\n",
       " 201727015.0,\n",
       " 7.056079640071086e+17,\n",
       " 222519463.0,\n",
       " 533666781.0,\n",
       " 52136185.0,\n",
       " 586206240.0,\n",
       " 3225287206.0,\n",
       " 49452556.0,\n",
       " 904789082.0,\n",
       " 7.32615765476565e+17,\n",
       " 2665438183.0,\n",
       " 944470134.0,\n",
       " 1713036884.0,\n",
       " 500391228.0,\n",
       " 485373368.0,\n",
       " 59615269.0,\n",
       " 295988417.0,\n",
       " 2695447915.0,\n",
       " 561654065.0,\n",
       " 2840452198.0,\n",
       " 561654065.0,\n",
       " 1425679045.0,\n",
       " 33170847.0,\n",
       " 82447359.0,\n",
       " 3995778614.0,\n",
       " 1605994580.0,\n",
       " 245687348.0,\n",
       " 21833728.0,\n",
       " 82447359.0,\n",
       " 200811254.0,\n",
       " 269576133.0,\n",
       " 361275163.0,\n",
       " 2847859818.0,\n",
       " 4726885214.0,\n",
       " 54065567.0,\n",
       " 54065567.0,\n",
       " 2686313414.0,\n",
       " 2975669439.0,\n",
       " 300497193.0,\n",
       " 361275163.0,\n",
       " 3307295642.0,\n",
       " 2875780737.0,\n",
       " 222519463.0,\n",
       " 7.058907843193774e+17,\n",
       " 17350532.0,\n",
       " 304543369.0,\n",
       " 1849938847.0,\n",
       " 2600602135.0,\n",
       " 59615269.0,\n",
       " 195271137.0,\n",
       " 2600602135.0,\n",
       " 2914451594.0,\n",
       " 3974665634.0,\n",
       " 7.290226403131064e+17,\n",
       " 2600602135.0,\n",
       " 104051619.0,\n",
       " 2600602135.0,\n",
       " 2600602135.0,\n",
       " 1430455554.0,\n",
       " 21343120.0,\n",
       " 1941136946.0,\n",
       " 2600602135.0,\n",
       " 421344061.0,\n",
       " 7.130057074700698e+17,\n",
       " 49685124.0,\n",
       " 3020425427.0,\n",
       " 297191567.0,\n",
       " 4883470551.0,\n",
       " 4883470551.0,\n",
       " 555475580.0,\n",
       " 7.058907843193774e+17,\n",
       " 25066686.0,\n",
       " 7.266279714909348e+17,\n",
       " 359196437.0,\n",
       " 4883470551.0,\n",
       " 487013912.0,\n",
       " 4883470551.0,\n",
       " 7.273085231392727e+17,\n",
       " 7.055326077908705e+17,\n",
       " 4883470551.0,\n",
       " 7.064299452584632e+17,\n",
       " 4883470551.0,\n",
       " 289118612.0,\n",
       " 4883470551.0,\n",
       " 60207798.0,\n",
       " 4883470551.0,\n",
       " 4914495876.0,\n",
       " 60207798.0,\n",
       " 21773704.0,\n",
       " 71272041.0,\n",
       " 194521859.0,\n",
       " 2902181749.0,\n",
       " 4883470551.0,\n",
       " 634676291.0,\n",
       " 4883470551.0,\n",
       " 4883470551.0,\n",
       " 843066685.0,\n",
       " 141711305.0,\n",
       " 3974665634.0,\n",
       " 4883470551.0,\n",
       " 4883470551.0,\n",
       " 2457085861.0,\n",
       " 4883470551.0,\n",
       " 14294848.0,\n",
       " 2421067430.0,\n",
       " 374116640.0,\n",
       " 279390084.0,\n",
       " 19943761.0,\n",
       " 30681036.0,\n",
       " 594886554.0,\n",
       " 594886554.0,\n",
       " 15226811.0,\n",
       " 7.231671252720271e+17,\n",
       " 312149882.0,\n",
       " 3018828006.0,\n",
       " 59241915.0,\n",
       " 14211510.0,\n",
       " 170357723.0,\n",
       " 15012486.0,\n",
       " 126009130.0,\n",
       " 161132591.0,\n",
       " 3567446177.0,\n",
       " 2982225709.0,\n",
       " 18363962.0,\n",
       " 542318578.0,\n",
       " 158619022.0,\n",
       " 121493492.0,\n",
       " 18564980.0,\n",
       " 109484669.0,\n",
       " 18643437.0,\n",
       " 3311629271.0,\n",
       " 32272710.0,\n",
       " 796261392.0,\n",
       " 18240386.0,\n",
       " 146928495.0,\n",
       " 77324226.0,\n",
       " 1735969045.0,\n",
       " 16267083.0,\n",
       " 2560466682.0,\n",
       " 378016563.0,\n",
       " 213795411.0,\n",
       " 414174068.0,\n",
       " 177584156.0,\n",
       " 88989613.0,\n",
       " 31341662.0,\n",
       " 71875415.0,\n",
       " 401657173.0,\n",
       " 275276082.0,\n",
       " 7.191980269092905e+17,\n",
       " 38570287.0,\n",
       " 554316017.0,\n",
       " 944470134.0,\n",
       " 891073250.0,\n",
       " 90194079.0,\n",
       " 7.099204195292815e+17,\n",
       " 7.535734185077432e+17,\n",
       " 94818581.0,\n",
       " 26652733.0,\n",
       " 3314758074.0,\n",
       " 3903128778.0,\n",
       " 149679293.0,\n",
       " 714513049.0,\n",
       " 98229878.0,\n",
       " 3308560736.0,\n",
       " 385194334.0,\n",
       " 2570615502.0,\n",
       " 319373700.0,\n",
       " 362798863.0,\n",
       " 330378192.0,\n",
       " 291874773.0,\n",
       " 118867974.0,\n",
       " 28587919.0,\n",
       " 16208276.0,\n",
       " 238053427.0,\n",
       " 175954697.0,\n",
       " 600195366.0,\n",
       " 525676041.0,\n",
       " 918230042.0,\n",
       " 1269583296.0,\n",
       " 345253262.0,\n",
       " 32133117.0,\n",
       " 4496819788.0,\n",
       " 14294848.0,\n",
       " 108172069.0,\n",
       " 33156354.0,\n",
       " 17427779.0,\n",
       " 3389073989.0,\n",
       " 3020168556.0,\n",
       " 1969346438.0,\n",
       " 4236806414.0,\n",
       " 470438993.0,\n",
       " 21833728.0,\n",
       " 82447359.0,\n",
       " 45302174.0,\n",
       " 272114651.0,\n",
       " 15976697.0,\n",
       " 33529092.0,\n",
       " 1247921690.0,\n",
       " 278781274.0,\n",
       " 47534393.0,\n",
       " 61759552.0,\n",
       " 7.072886419959398e+17,\n",
       " 306097862.0,\n",
       " 43283406.0,\n",
       " 352145373.0,\n",
       " 43296233.0,\n",
       " 3698501.0,\n",
       " 561654065.0,\n",
       " 7.418149298424054e+17,\n",
       " 18764841.0,\n",
       " 19062754.0,\n",
       " 3520122318.0,\n",
       " 14546264.0,\n",
       " 2604924327.0,\n",
       " 338613723.0,\n",
       " 15150453.0,\n",
       " 16027904.0,\n",
       " 18210263.0,\n",
       " 3974665634.0,\n",
       " 3974665634.0,\n",
       " 177584156.0,\n",
       " 3685459885.0,\n",
       " 1620343501.0,\n",
       " 764644970.0,\n",
       " 726148842.0,\n",
       " 7.56487123650261e+17,\n",
       " 792788359.0,\n",
       " 184997446.0,\n",
       " 7.066560423278019e+17,\n",
       " 7.22787662214484e+17,\n",
       " 1541810258.0,\n",
       " 4068318254.0,\n",
       " 2725381381.0,\n",
       " 21343120.0,\n",
       " 275276082.0,\n",
       " 323208365.0,\n",
       " 233933230.0,\n",
       " 55976150.0,\n",
       " 90804267.0,\n",
       " 2570615502.0,\n",
       " 208996041.0,\n",
       " 133478732.0,\n",
       " 39578387.0,\n",
       " 316739994.0,\n",
       " 3308560736.0,\n",
       " 39308549.0,\n",
       " 2845253645.0,\n",
       " 2750334224.0,\n",
       " 264268489.0,\n",
       " 39349894.0,\n",
       " 42822396.0,\n",
       " 21458842.0,\n",
       " 88243144.0,\n",
       " 1426907185.0,\n",
       " 2332264339.0,\n",
       " 104513680.0,\n",
       " 618563.0,\n",
       " 264361128.0,\n",
       " 34917150.0,\n",
       " 7.529613571132006e+17,\n",
       " 59817827.0,\n",
       " 398919818.0,\n",
       " 7.154963047770153e+17,\n",
       " 347627434.0,\n",
       " 7.070777386207805e+17,\n",
       " 7.424468253370286e+17,\n",
       " 9300262.0,\n",
       " 7.04034081898668e+17,\n",
       " 1374585606.0,\n",
       " 7.189832996081295e+17,\n",
       " 584177882.0,\n",
       " 9300262.0,\n",
       " 7.211853467975721e+17,\n",
       " 67899097.0,\n",
       " 2499109494.0,\n",
       " 2796929687.0,\n",
       " 292929271.0,\n",
       " 2269567158.0,\n",
       " 2393098723.0,\n",
       " 7.099204195292815e+17,\n",
       " 4784596178.0,\n",
       " 4236806414.0,\n",
       " 494624290.0,\n",
       " 561654065.0,\n",
       " 1599141961.0,\n",
       " 17860906.0,\n",
       " 2839030037.0,\n",
       " 4226960114.0,\n",
       " 7.436883724602163e+17,\n",
       " 118496889.0,\n",
       " 2915156131.0,\n",
       " 166329578.0,\n",
       " 4676548814.0,\n",
       " 4197546072.0,\n",
       " 88494677.0,\n",
       " 608471241.0,\n",
       " 608471241.0,\n",
       " 325164172.0,\n",
       " 26672170.0,\n",
       " 177584156.0,\n",
       " 2801177472.0,\n",
       " 95995039.0,\n",
       " 126009130.0,\n",
       " 126009130.0,\n",
       " 399774230.0,\n",
       " 972255098.0,\n",
       " 1917731.0,\n",
       " 65854394.0,\n",
       " 7.415895031025705e+17,\n",
       " 1917731.0,\n",
       " 2244290719.0,\n",
       " 7.016558809205105e+17,\n",
       " 2793194082.0,\n",
       " 18301196.0,\n",
       " 1496756359.0,\n",
       " 430118889.0,\n",
       " 15164565.0,\n",
       " 3697285157.0,\n",
       " 2923563766.0,\n",
       " 2923563766.0,\n",
       " 1375629385.0,\n",
       " 1325018372.0,\n",
       " 25975551.0,\n",
       " 22722452.0,\n",
       " 374284455.0,\n",
       " 49035775.0,\n",
       " 48421473.0,\n",
       " 428713002.0,\n",
       " 3407847574.0,\n",
       " 18545481.0,\n",
       " 15164565.0,\n",
       " 47652227.0,\n",
       " 78523300.0,\n",
       " 361275163.0,\n",
       " 495622651.0,\n",
       " 19098324.0,\n",
       " 421275603.0,\n",
       " 177584156.0,\n",
       " 361275163.0,\n",
       " 28905454.0,\n",
       " 15164565.0,\n",
       " 4429709805.0,\n",
       " 1496756359.0,\n",
       " 766797410.0,\n",
       " 15164565.0,\n",
       " 548172120.0,\n",
       " 2241227238.0,\n",
       " 15164565.0,\n",
       " 30456403.0,\n",
       " 248692627.0,\n",
       " 28048355.0,\n",
       " 18545481.0,\n",
       " 1917731.0,\n",
       " 138742761.0,\n",
       " 289118612.0,\n",
       " 15706904.0,\n",
       " 865636782.0,\n",
       " 2291904432.0,\n",
       " 3103091745.0,\n",
       " 3047937393.0,\n",
       " 167796615.0,\n",
       " 14511951.0,\n",
       " 49452556.0,\n",
       " 3974665634.0,\n",
       " 1018491630.0,\n",
       " 537904539.0,\n",
       " 2374469136.0,\n",
       " 3433022621.0,\n",
       " 585465795.0,\n",
       " 2883533651.0,\n",
       " 16955991.0,\n",
       " 547969112.0,\n",
       " 272114651.0,\n",
       " 936148682.0,\n",
       " 7.286355238167757e+17,\n",
       " 547969112.0,\n",
       " 67899097.0,\n",
       " 547969112.0,\n",
       " 3047377314.0,\n",
       " 7.59179340307243e+17,\n",
       " 1367531.0,\n",
       " 361275163.0,\n",
       " 399717630.0,\n",
       " 9369062.0,\n",
       " 762252876.0,\n",
       " 582135529.0,\n",
       " 851866178.0,\n",
       " 608471241.0,\n",
       " 331825712.0,\n",
       " 7.338080694407414e+17,\n",
       " 3995778614.0,\n",
       " 3390416469.0,\n",
       " 1367531.0,\n",
       " 754135908.0,\n",
       " 890302164.0,\n",
       " 81602176.0,\n",
       " 7.28979362775638e+17,\n",
       " 553998793.0,\n",
       " 157054921.0,\n",
       " 2255424079.0,\n",
       " 547969112.0,\n",
       " 2875990472.0,\n",
       " 2316246829.0,\n",
       " 7.583137156954276e+17,\n",
       " 7.583137156954276e+17,\n",
       " 25446957.0,\n",
       " 86963075.0,\n",
       " 7.153576049612636e+17,\n",
       " 140638292.0,\n",
       " 2801177472.0,\n",
       " 2801177472.0,\n",
       " 1976799128.0,\n",
       " 421460415.0,\n",
       " 2775579278.0,\n",
       " 3974665634.0,\n",
       " 1482516500.0,\n",
       " 7.503998058519634e+17,\n",
       " 43413425.0,\n",
       " 43308598.0,\n",
       " 3066008697.0,\n",
       " 18195110.0,\n",
       " 40246348.0,\n",
       " 2793800587.0,\n",
       " 802722056.0,\n",
       " 43308598.0,\n",
       " 402985469.0,\n",
       " 4897543230.0,\n",
       " 865538113.0,\n",
       " 2972410695.0,\n",
       " 2998466930.0,\n",
       " 4182512297.0,\n",
       " 30067748.0,\n",
       " 71359942.0,\n",
       " 277090518.0,\n",
       " 65003619.0,\n",
       " 7.538060660522353e+17,\n",
       " 7.053335675435049e+17,\n",
       " 2998441830.0,\n",
       " 3308110350.0,\n",
       " 4796678896.0,\n",
       " 2441304533.0,\n",
       " 561654065.0,\n",
       " 3034834939.0,\n",
       " 261035490.0,\n",
       " 4851276082.0,\n",
       " 370513594.0,\n",
       " 15854008.0,\n",
       " 2226870793.0,\n",
       " 971176056.0,\n",
       " 4240150034.0,\n",
       " 561654065.0,\n",
       " 332433520.0,\n",
       " 2416597188.0,\n",
       " 2416597188.0,\n",
       " 17094311.0,\n",
       " 543452426.0,\n",
       " 4846395737.0,\n",
       " 3220025137.0,\n",
       " 7.537534936226284e+17,\n",
       " 18002528.0,\n",
       " 16444868.0,\n",
       " 3433002136.0,\n",
       " 7.436518965780603e+17,\n",
       " 21833728.0,\n",
       " 50010587.0,\n",
       " 835328618.0,\n",
       " 297457814.0,\n",
       " 620872388.0,\n",
       " 3139537490.0,\n",
       " 60370335.0,\n",
       " 1225818590.0,\n",
       " 234841289.0,\n",
       " 2891102076.0,\n",
       " 7.021744067396854e+17,\n",
       " 57912099.0,\n",
       " 7.324458336820183e+17,\n",
       " 7.324458336820183e+17,\n",
       " 2904671027.0,\n",
       " 322674930.0,\n",
       " 65003619.0,\n",
       " 4543053312.0,\n",
       " 42158021.0,\n",
       " 279208035.0,\n",
       " 180511021.0,\n",
       " 311241090.0,\n",
       " 15359578.0,\n",
       " 20826129.0,\n",
       " 4700477725.0,\n",
       " 371142734.0,\n",
       " 24638062.0,\n",
       " 45291573.0,\n",
       " 552410408.0,\n",
       " 20295763.0,\n",
       " 1564676498.0,\n",
       " 17343602.0,\n",
       " 552983877.0,\n",
       " 18561223.0,\n",
       " 14787713.0,\n",
       " 1568498256.0,\n",
       " 752493806.0,\n",
       " 516093774.0,\n",
       " 28905454.0,\n",
       " 2747259456.0,\n",
       " 224268822.0,\n",
       " 17232340.0,\n",
       " 3359243787.0,\n",
       " 75974281.0,\n",
       " 233933230.0,\n",
       " 233933230.0,\n",
       " 479068816.0,\n",
       " 2892976359.0,\n",
       " 19908848.0,\n",
       " 4237277387.0,\n",
       " 3359243787.0,\n",
       " 284104234.0,\n",
       " 3592503441.0,\n",
       " 905530344.0,\n",
       " 19899980.0,\n",
       " 600061917.0,\n",
       " 221452291.0,\n",
       " 4765012532.0,\n",
       " 15671833.0,\n",
       " 1530853626.0,\n",
       " 24395228.0,\n",
       " 343171160.0,\n",
       " 2908170952.0,\n",
       " 251913645.0,\n",
       " 7.099204195292815e+17,\n",
       " 431198790.0,\n",
       " 90285099.0,\n",
       " 2299826742.0,\n",
       " 142077688.0,\n",
       " 1213274119.0,\n",
       " 608471241.0,\n",
       " 561654065.0,\n",
       " 15368940.0,\n",
       " 2740452163.0,\n",
       " 25446957.0,\n",
       " 70773048.0,\n",
       " 7.061766974402765e+17,\n",
       " 759251.0,\n",
       " 50881405.0,\n",
       " 1356123823.0,\n",
       " 7.16260246109483e+17,\n",
       " 3202808548.0,\n",
       " 150059501.0,\n",
       " 565008398.0,\n",
       " 56192739.0,\n",
       " 7.510953314089738e+17,\n",
       " 2900220088.0,\n",
       " 1652687708.0,\n",
       " 7.04034081898668e+17,\n",
       " 37315032.0,\n",
       " 632171886.0,\n",
       " 124199238.0,\n",
       " 3589464580.0,\n",
       " 542962969.0,\n",
       " 2421067430.0,\n",
       " 7.043630610130575e+17,\n",
       " 2910776820.0,\n",
       " 1096411117.0,\n",
       " 3124454195.0,\n",
       " 4760647532.0,\n",
       " 38367188.0,\n",
       " 605448008.0,\n",
       " 83788240.0,\n",
       " 374284455.0,\n",
       " 22798141.0,\n",
       " 2818206308.0,\n",
       " 2382281029.0,\n",
       " 415256606.0,\n",
       " 1966026648.0,\n",
       " 893470729.0,\n",
       " 2953422203.0,\n",
       " 167363471.0,\n",
       " 291874773.0,\n",
       " 44103717.0,\n",
       " 28670599.0,\n",
       " 7.395676265113887e+17,\n",
       " 200656602.0,\n",
       " 31801993.0,\n",
       " 7.032306737761976e+17,\n",
       " 146928495.0,\n",
       " 7.290963526767821e+17,\n",
       " 1643634444.0,\n",
       " 246377722.0,\n",
       " 3407847574.0,\n",
       " 21845346.0,\n",
       " 385075625.0,\n",
       " 29465136.0,\n",
       " 13148382.0,\n",
       " 4851276082.0,\n",
       " 3416492723.0,\n",
       " 3359243787.0,\n",
       " 9611592.0,\n",
       " 7.390809166103429e+17,\n",
       " 34367582.0,\n",
       " 28007091.0,\n",
       " 3124454195.0,\n",
       " 26579739.0,\n",
       " 76373.0,\n",
       " 7.58049168690643e+17,\n",
       " 963176808.0,\n",
       " 19193016.0,\n",
       " 3381686297.0,\n",
       " 93493910.0,\n",
       " 3313143320.0,\n",
       " 2610081858.0,\n",
       " 4646073148.0,\n",
       " 344729527.0,\n",
       " 32951070.0,\n",
       " 37013920.0,\n",
       " 23116280.0,\n",
       " 25197377.0,\n",
       " 33228837.0,\n",
       " 4242905298.0,\n",
       " 18637247.0,\n",
       " 7.149495057208238e+17,\n",
       " 872954089.0,\n",
       " 437352926.0,\n",
       " 23004495.0,\n",
       " 4361249533.0,\n",
       " 156377910.0,\n",
       " 4452560741.0,\n",
       " 273951517.0,\n",
       " 264493607.0,\n",
       " 7.601308233748439e+17,\n",
       " 118845216.0,\n",
       " 232333397.0,\n",
       " 414873541.0,\n",
       " 3723723982.0,\n",
       " 824391878.0,\n",
       " 450213974.0,\n",
       " 890302164.0,\n",
       " 29059784.0,\n",
       " 709144993.0,\n",
       " 15104164.0,\n",
       " 289118612.0,\n",
       " 3314963469.0,\n",
       " 21833728.0,\n",
       " 796261392.0,\n",
       " 227010728.0,\n",
       " 196109220.0,\n",
       " 582414351.0,\n",
       " 340968277.0,\n",
       " 1969346438.0,\n",
       " 13804112.0,\n",
       " 7.395676265113887e+17,\n",
       " 835328618.0,\n",
       " 164523117.0,\n",
       " 446228264.0,\n",
       " 39344374.0,\n",
       " 7.5774968458052e+17,\n",
       " 515542297.0,\n",
       " 41265813.0,\n",
       " 78523300.0,\n",
       " 18643437.0,\n",
       " 232201971.0,\n",
       " 801071388.0,\n",
       " 3539755636.0,\n",
       " 1367531.0,\n",
       " 1564676498.0,\n",
       " 4901489212.0,\n",
       " 7.04034081898668e+17,\n",
       " 22630309.0,\n",
       " 46520074.0,\n",
       " 17895820.0,\n",
       " 14412533.0,\n",
       " 1917731.0,\n",
       " 1080576949.0,\n",
       " 492833134.0,\n",
       " 65132037.0,\n",
       " 1735546184.0,\n",
       " 7.650916054726984e+17,\n",
       " 7.431422447068488e+17,\n",
       " 107012365.0,\n",
       " 237623215.0,\n",
       " 865187658.0,\n",
       " 621110318.0,\n",
       " 25197377.0,\n",
       " 7.395676265113887e+17,\n",
       " 1462579488.0,\n",
       " 430905373.0,\n",
       " 20854637.0,\n",
       " 25832979.0,\n",
       " 1200713864.0,\n",
       " 7.588095949362381e+17,\n",
       " 7.588095949362381e+17,\n",
       " 374284455.0,\n",
       " 25197377.0,\n",
       " 172394944.0,\n",
       " 910332056.0,\n",
       " 34163521.0,\n",
       " 1537048512.0,\n",
       " 7.156506956476375e+17,\n",
       " 1513958744.0,\n",
       " 7.2757824484164e+17,\n",
       " 7.138326228084122e+17,\n",
       " 4855687055.0,\n",
       " 3558102739.0,\n",
       " 6.953652453766963e+17,\n",
       " 28869089.0,\n",
       " 54065567.0,\n",
       " 54065567.0,\n",
       " 7.46367431388586e+17,\n",
       " 7.46367431388586e+17,\n",
       " 3166217539.0,\n",
       " 3329997245.0,\n",
       " 7.650916054726984e+17,\n",
       " 317223956.0,\n",
       " 1849938847.0,\n",
       " 1148951203.0,\n",
       " 138581916.0,\n",
       " 2953617710.0,\n",
       " 49685124.0,\n",
       " 169536421.0,\n",
       " 3124454195.0,\n",
       " 2830167800.0,\n",
       " 141642957.0,\n",
       " 7.108295028430643e+17,\n",
       " 30265457.0,\n",
       " 561654065.0,\n",
       " 16887175.0,\n",
       " 7.307865188481597e+17,\n",
       " 22677397.0,\n",
       " 2353703503.0,\n",
       " 21248626.0,\n",
       " 17395207.0,\n",
       " 144130505.0,\n",
       " 17529294.0,\n",
       " 52801677.0,\n",
       " 7.42923442471764e+17,\n",
       " 3697721113.0,\n",
       " 2584482763.0,\n",
       " 20944649.0,\n",
       " 7.735201633963254e+17,\n",
       " 20889358.0,\n",
       " 67095221.0,\n",
       " 767036004.0,\n",
       " 7.650916054726984e+17,\n",
       " 176914461.0,\n",
       " 78569026.0,\n",
       " 331747494.0,\n",
       " 2316246829.0,\n",
       " 361275163.0,\n",
       " 2364837974.0,\n",
       " 1242465014.0,\n",
       " 289118612.0,\n",
       " 568143078.0,\n",
       " 7.583137156954276e+17,\n",
       " 18195110.0,\n",
       " 7.650916054726984e+17,\n",
       " 1289704663.0,\n",
       " 7.540861259171062e+17,\n",
       " 1371572360.0,\n",
       " 7.692972279571415e+17,\n",
       " 3610264154.0,\n",
       " 27211961.0,\n",
       " 7.233873441752965e+17,\n",
       " 151375368.0,\n",
       " 7.675871285240136e+17,\n",
       " 35677844.0,\n",
       " 936304345.0,\n",
       " 19195442.0,\n",
       " 7.442818843104051e+17,\n",
       " 3389134989.0,\n",
       " 3019417439.0,\n",
       " 10735392.0,\n",
       " 3362345172.0,\n",
       " 33388399.0,\n",
       " 341688336.0,\n",
       " 231641765.0,\n",
       " 3394911915.0,\n",
       " 2902031256.0,\n",
       " 3297022953.0,\n",
       " 455288410.0,\n",
       " 219815601.0,\n",
       " 374284455.0,\n",
       " 2684196134.0,\n",
       " 865636782.0,\n",
       " 126009130.0,\n",
       " 126009130.0,\n",
       " 126009130.0,\n",
       " 126009130.0,\n",
       " 126009130.0,\n",
       " 126009130.0,\n",
       " 126009130.0,\n",
       " 126009130.0,\n",
       " 126009130.0,\n",
       " 126009130.0,\n",
       " 126009130.0,\n",
       " 126009130.0,\n",
       " 126009130.0,\n",
       " 126009130.0,\n",
       " 126009130.0,\n",
       " 126009130.0,\n",
       " 126009130.0,\n",
       " 126009130.0,\n",
       " 126009130.0,\n",
       " 325893346.0,\n",
       " 126009130.0,\n",
       " 126009130.0,\n",
       " 126009130.0,\n",
       " 126009130.0,\n",
       " 126009130.0,\n",
       " 126009130.0,\n",
       " 126009130.0,\n",
       " 126009130.0,\n",
       " 18132806.0,\n",
       " 3057650044.0,\n",
       " 972651.0,\n",
       " 865636782.0,\n",
       " 1353347065.0,\n",
       " 7.675871285240136e+17,\n",
       " 3686488635.0,\n",
       " 3002739417.0,\n",
       " 1183779272.0,\n",
       " 1309391066.0,\n",
       " 4334047641.0,\n",
       " 42371615.0,\n",
       " 3930608896.0,\n",
       " 21773704.0,\n",
       " 399774230.0,\n",
       " 7.580762978766029e+17,\n",
       " 2911587582.0,\n",
       " 7.356243040505938e+17,\n",
       " 4240150034.0,\n",
       " 16674128.0,\n",
       " 14441020.0,\n",
       " 30265457.0,\n",
       " 1326707346.0,\n",
       " 908933376.0,\n",
       " 124185033.0,\n",
       " 2451462137.0,\n",
       " 2417586104.0,\n",
       " 2344571893.0,\n",
       " 3340267793.0,\n",
       " 902851051.0,\n",
       " 1339835893.0,\n",
       " 36196526.0,\n",
       " 6563122.0,\n",
       " 4345493055.0,\n",
       " 1851877248.0,\n",
       " 90573210.0,\n",
       " 118845216.0,\n",
       " 172032623.0,\n",
       " 2786693552.0,\n",
       " 755726522.0,\n",
       " 2788642796.0,\n",
       " 340660967.0,\n",
       " 22141405.0,\n",
       " 4194141941.0,\n",
       " 115772421.0,\n",
       " 22714413.0,\n",
       " 97082147.0,\n",
       " 63514682.0,\n",
       " 1027392638.0,\n",
       " 259509924.0,\n",
       " 7.626582158509711e+17,\n",
       " 214112621.0,\n",
       " 15511737.0,\n",
       " 7.583137156954276e+17,\n",
       " 20065936.0,\n",
       " 7.047959204334141e+17,\n",
       " ...]"
      ]
     },
     "execution_count": 31,
     "metadata": {},
     "output_type": "execute_result"
    }
   ],
   "source": [
    "accounts"
   ]
  },
  {
   "cell_type": "code",
   "execution_count": 14,
   "metadata": {},
   "outputs": [
    {
     "data": {
      "text/plain": [
       "['',\n",
       " \"{'cap': {'english': 0.2520419704315795, 'universal': 0.5982419966968565}, 'display_scores': {'english': {'astroturf': 1.2, 'fake_follower': 0.2, 'financial': 0.0, 'other': 1.3, 'overall': 0.1, 'self_declared': 0.1, 'spammer': 0.0}, 'universal': {'astroturf': 0.6, 'fake_follower': 0.4, 'financial': 0.0, 'other': 0.9, 'overall': 0.7, 'self_declared': 0.1, 'spammer': 0.0}}, 'raw_scores': {'english': {'astroturf': 0.24, 'fake_follower': 0.05, 'financial': 0.0, 'other': 0.26, 'overall': 0.02, 'self_declared': 0.02, 'spammer': 0.0}, 'universal': {'astroturf': 0.12, 'fake_follower': 0.07, 'financial': 0.0, 'other': 0.18, 'overall': 0.14, 'self_declared': 0.02, 'spammer': 0.0}}, 'user': {'majority_lang': 'en', 'user_data': {'id_str': '14802766', 'screen_name': 'nan'}}}\",\n",
       " \"{'cap': {'english': 0.2787259978325127, 'universal': 0.6415870166679795}, 'display_scores': {'english': {'astroturf': 1.2, 'fake_follower': 0.4, 'financial': 0.0, 'other': 1.3, 'overall': 0.2, 'self_declared': 0.1, 'spammer': 0.0}, 'universal': {'astroturf': 0.6, 'fake_follower': 0.5, 'financial': 0.0, 'other': 1.0, 'overall': 0.8, 'self_declared': 0.1, 'spammer': 0.0}}, 'raw_scores': {'english': {'astroturf': 0.24, 'fake_follower': 0.08, 'financial': 0.0, 'other': 0.26, 'overall': 0.03, 'self_declared': 0.02, 'spammer': 0.0}, 'universal': {'astroturf': 0.12, 'fake_follower': 0.1, 'financial': 0.0, 'other': 0.19, 'overall': 0.16, 'self_declared': 0.02, 'spammer': 0.0}}, 'user': {'majority_lang': 'en', 'user_data': {'id_str': '14802766', 'screen_name': 'nan'}}}\",\n",
       " \"{'cap': {'english': 0.3342309004634953, 'universal': 0.6608500314332488}, 'display_scores': {'english': {'astroturf': 1.2, 'fake_follower': 0.3, 'financial': 0.0, 'other': 1.3, 'overall': 0.2, 'self_declared': 0.2, 'spammer': 0.0}, 'universal': {'astroturf': 0.6, 'fake_follower': 0.5, 'financial': 0.0, 'other': 1.0, 'overall': 0.8, 'self_declared': 0.1, 'spammer': 0.0}}, 'raw_scores': {'english': {'astroturf': 0.24, 'fake_follower': 0.06, 'financial': 0.0, 'other': 0.26, 'overall': 0.05, 'self_declared': 0.03, 'spammer': 0.0}, 'universal': {'astroturf': 0.12, 'fake_follower': 0.1, 'financial': 0.0, 'other': 0.19, 'overall': 0.17, 'self_declared': 0.02, 'spammer': 0.0}}, 'user': {'majority_lang': 'en', 'user_data': {'id_str': '14802766', 'screen_name': 'nan'}}}\",\n",
       " '{\\'error\\': \"TweepError: [{\\'code\\': 34, \\'message\\': \\'Sorry, that page does not exist.\\'}]\"}']"
      ]
     },
     "execution_count": 14,
     "metadata": {},
     "output_type": "execute_result"
    }
   ],
   "source": [
    "list(set(snopes.botometer.tolist()))"
   ]
  },
  {
   "cell_type": "code",
   "execution_count": 15,
   "metadata": {},
   "outputs": [
    {
     "data": {
      "text/html": [
       "<div>\n",
       "<style scoped>\n",
       "    .dataframe tbody tr th:only-of-type {\n",
       "        vertical-align: middle;\n",
       "    }\n",
       "\n",
       "    .dataframe tbody tr th {\n",
       "        vertical-align: top;\n",
       "    }\n",
       "\n",
       "    .dataframe thead th {\n",
       "        text-align: right;\n",
       "    }\n",
       "</style>\n",
       "<table border=\"1\" class=\"dataframe\">\n",
       "  <thead>\n",
       "    <tr style=\"text-align: right;\">\n",
       "      <th></th>\n",
       "      <th>id</th>\n",
       "      <th>original_id</th>\n",
       "      <th>tweet_text</th>\n",
       "      <th>tweet_url</th>\n",
       "      <th>claim</th>\n",
       "      <th>rating</th>\n",
       "      <th>images</th>\n",
       "      <th>text_images</th>\n",
       "      <th>source</th>\n",
       "      <th>label</th>\n",
       "      <th>label_info</th>\n",
       "      <th>available</th>\n",
       "      <th>acc_id</th>\n",
       "      <th>botometer</th>\n",
       "    </tr>\n",
       "  </thead>\n",
       "  <tbody>\n",
       "    <tr>\n",
       "      <th>199</th>\n",
       "      <td>740993500053901312</td>\n",
       "      <td>740992653555163136</td>\n",
       "      <td>@HillaryClinton  Hillbilly Racists #blm #Black...</td>\n",
       "      <td>https://twitter.com/POTUS/status/7409935000539...</td>\n",
       "      <td>A photograph shows Hillary Clinton in blackfac...</td>\n",
       "      <td>['https://www.snopes.com/tachyon/2018/03/ratin...</td>\n",
       "      <td>http://pbs.twimg.com/media/CkiI48wUkAIzNuC.jpg</td>\n",
       "      <td>THE DEMOCRATS AREN'T GOING TO LIKE THIS ONEI H...</td>\n",
       "      <td>https://www.snopes.com/fact-check/hillary-clin...</td>\n",
       "      <td>false</td>\n",
       "      <td>NaN</td>\n",
       "      <td>ok</td>\n",
       "      <td>NaN</td>\n",
       "      <td>{'cap': {'english': 0.2787259978325127, 'unive...</td>\n",
       "    </tr>\n",
       "    <tr>\n",
       "      <th>272</th>\n",
       "      <td>746201362900254720</td>\n",
       "      <td>746167181608685568</td>\n",
       "      <td>@GrantJr @wakeupfla @FoxNews here's the true R...</td>\n",
       "      <td>https://twitter.com/POTUS/status/7462013629002...</td>\n",
       "      <td>A photograph shows Hillary Clinton in blackfac...</td>\n",
       "      <td>['https://www.snopes.com/tachyon/2018/03/ratin...</td>\n",
       "      <td>http://pbs.twimg.com/media/ClrrF4gWIAAgP-3.jpg</td>\n",
       "      <td>THE DEMOCRATS AREN'T GOING TO LIKE THIS ONE ! ...</td>\n",
       "      <td>https://www.snopes.com/fact-check/hillary-clin...</td>\n",
       "      <td>false</td>\n",
       "      <td>NaN</td>\n",
       "      <td>ok</td>\n",
       "      <td>NaN</td>\n",
       "      <td>{'cap': {'english': 0.2787259978325127, 'unive...</td>\n",
       "    </tr>\n",
       "    <tr>\n",
       "      <th>523</th>\n",
       "      <td>756589186979946496</td>\n",
       "      <td>756557780815867904</td>\n",
       "      <td>Guess This Applies To You Stupid &amp;amp; Easy 2 ...</td>\n",
       "      <td>https://twitter.com/POTUS/status/7565891869799...</td>\n",
       "      <td>Hillary Clinton said that Democratic voters ar...</td>\n",
       "      <td>['https://www.snopes.com/tachyon/2018/03/ratin...</td>\n",
       "      <td>http://pbs.twimg.com/media/Cn_VShHXgAA76R3.jpg</td>\n",
       "      <td>\" Look , the average Democrat voter is just pl...</td>\n",
       "      <td>https://www.snopes.com/fact-check/hillary-clin...</td>\n",
       "      <td>false</td>\n",
       "      <td>NaN</td>\n",
       "      <td>ok</td>\n",
       "      <td>NaN</td>\n",
       "      <td>{'cap': {'english': 0.2787259978325127, 'unive...</td>\n",
       "    </tr>\n",
       "    <tr>\n",
       "      <th>630</th>\n",
       "      <td>758755498300760064</td>\n",
       "      <td>758752442733457408</td>\n",
       "      <td>The Cosmic 'ice sculptures' of the Carina Nebu...</td>\n",
       "      <td>https://twitter.com/POTUS/status/7587554983007...</td>\n",
       "      <td>Scientists are stumped by a photograph taken b...</td>\n",
       "      <td>['https://www.snopes.com/tachyon/2018/03/ratin...</td>\n",
       "      <td>http://pbs.twimg.com/media/CV5fNY5WcAQftf4.jpg</td>\n",
       "      <td>NaN</td>\n",
       "      <td>https://www.snopes.com/fact-check/gates-of-hea...</td>\n",
       "      <td>false</td>\n",
       "      <td>NaN</td>\n",
       "      <td>missing</td>\n",
       "      <td>NaN</td>\n",
       "      <td>{'cap': {'english': 0.2787259978325127, 'unive...</td>\n",
       "    </tr>\n",
       "    <tr>\n",
       "      <th>1061</th>\n",
       "      <td>770292202593484800</td>\n",
       "      <td>770282705434968064</td>\n",
       "      <td>@duceyco @garywhitta @SubjectPolitics PS: I'm ...</td>\n",
       "      <td>https://twitter.com/POTUS/status/7702922025934...</td>\n",
       "      <td>A photograph shows Hillary Clinton in blackfac...</td>\n",
       "      <td>['https://www.snopes.com/tachyon/2018/03/ratin...</td>\n",
       "      <td>http://pbs.twimg.com/media/CrCXl2LUMAAkSWk.jpg</td>\n",
       "      <td>NaN</td>\n",
       "      <td>https://www.snopes.com/fact-check/hillary-clin...</td>\n",
       "      <td>false</td>\n",
       "      <td>NaN</td>\n",
       "      <td>ok</td>\n",
       "      <td>NaN</td>\n",
       "      <td>{'cap': {'english': 0.2787259978325127, 'unive...</td>\n",
       "    </tr>\n",
       "  </tbody>\n",
       "</table>\n",
       "</div>"
      ],
      "text/plain": [
       "                      id         original_id  \\\n",
       "199   740993500053901312  740992653555163136   \n",
       "272   746201362900254720  746167181608685568   \n",
       "523   756589186979946496  756557780815867904   \n",
       "630   758755498300760064  758752442733457408   \n",
       "1061  770292202593484800  770282705434968064   \n",
       "\n",
       "                                             tweet_text  \\\n",
       "199   @HillaryClinton  Hillbilly Racists #blm #Black...   \n",
       "272   @GrantJr @wakeupfla @FoxNews here's the true R...   \n",
       "523   Guess This Applies To You Stupid &amp; Easy 2 ...   \n",
       "630   The Cosmic 'ice sculptures' of the Carina Nebu...   \n",
       "1061  @duceyco @garywhitta @SubjectPolitics PS: I'm ...   \n",
       "\n",
       "                                              tweet_url  \\\n",
       "199   https://twitter.com/POTUS/status/7409935000539...   \n",
       "272   https://twitter.com/POTUS/status/7462013629002...   \n",
       "523   https://twitter.com/POTUS/status/7565891869799...   \n",
       "630   https://twitter.com/POTUS/status/7587554983007...   \n",
       "1061  https://twitter.com/POTUS/status/7702922025934...   \n",
       "\n",
       "                                                  claim  \\\n",
       "199   A photograph shows Hillary Clinton in blackfac...   \n",
       "272   A photograph shows Hillary Clinton in blackfac...   \n",
       "523   Hillary Clinton said that Democratic voters ar...   \n",
       "630   Scientists are stumped by a photograph taken b...   \n",
       "1061  A photograph shows Hillary Clinton in blackfac...   \n",
       "\n",
       "                                                 rating  \\\n",
       "199   ['https://www.snopes.com/tachyon/2018/03/ratin...   \n",
       "272   ['https://www.snopes.com/tachyon/2018/03/ratin...   \n",
       "523   ['https://www.snopes.com/tachyon/2018/03/ratin...   \n",
       "630   ['https://www.snopes.com/tachyon/2018/03/ratin...   \n",
       "1061  ['https://www.snopes.com/tachyon/2018/03/ratin...   \n",
       "\n",
       "                                              images  \\\n",
       "199   http://pbs.twimg.com/media/CkiI48wUkAIzNuC.jpg   \n",
       "272   http://pbs.twimg.com/media/ClrrF4gWIAAgP-3.jpg   \n",
       "523   http://pbs.twimg.com/media/Cn_VShHXgAA76R3.jpg   \n",
       "630   http://pbs.twimg.com/media/CV5fNY5WcAQftf4.jpg   \n",
       "1061  http://pbs.twimg.com/media/CrCXl2LUMAAkSWk.jpg   \n",
       "\n",
       "                                            text_images  \\\n",
       "199   THE DEMOCRATS AREN'T GOING TO LIKE THIS ONEI H...   \n",
       "272   THE DEMOCRATS AREN'T GOING TO LIKE THIS ONE ! ...   \n",
       "523   \" Look , the average Democrat voter is just pl...   \n",
       "630                                                 NaN   \n",
       "1061                                                NaN   \n",
       "\n",
       "                                                 source  label  label_info  \\\n",
       "199   https://www.snopes.com/fact-check/hillary-clin...  false         NaN   \n",
       "272   https://www.snopes.com/fact-check/hillary-clin...  false         NaN   \n",
       "523   https://www.snopes.com/fact-check/hillary-clin...  false         NaN   \n",
       "630   https://www.snopes.com/fact-check/gates-of-hea...  false         NaN   \n",
       "1061  https://www.snopes.com/fact-check/hillary-clin...  false         NaN   \n",
       "\n",
       "     available  acc_id                                          botometer  \n",
       "199         ok     NaN  {'cap': {'english': 0.2787259978325127, 'unive...  \n",
       "272         ok     NaN  {'cap': {'english': 0.2787259978325127, 'unive...  \n",
       "523         ok     NaN  {'cap': {'english': 0.2787259978325127, 'unive...  \n",
       "630    missing     NaN  {'cap': {'english': 0.2787259978325127, 'unive...  \n",
       "1061        ok     NaN  {'cap': {'english': 0.2787259978325127, 'unive...  "
      ]
     },
     "execution_count": 15,
     "metadata": {},
     "output_type": "execute_result"
    }
   ],
   "source": [
    "snopes[snopes.botometer.str.contains(\"{'cap': {'english': 0.2787259978325127, 'universal': 0.6415870166679795}, 'display_scores': {'english': {'astroturf': 1.2, 'fake_follower': 0.4, 'financial': 0.0, 'other': 1.3, 'overall': 0.2, 'self_declared': 0.1, 'spammer': 0.0}, 'universal': {'astroturf': 0.6, 'fake_follower': 0.5, 'financial': 0.0, 'other': 1.0, 'overall': 0.8, 'self_declared': 0.1, 'spammer': 0.0}}, 'raw_scores': {'english': {'astroturf': 0.24, 'fake_follower': 0.08, 'financial': 0.0, 'other': 0.26, 'overall': 0.03, 'self_declared': 0.02, 'spammer': 0.0}, 'universal': {'astroturf': 0.12, 'fake_follower': 0.1, 'financial': 0.0, 'other': 0.19, 'overall': 0.16, 'self_declared': 0.02, 'spammer': 0.0}}, 'user': {'majority_lang': 'en', 'user_data': {'id_str': '14802766', 'screen_name': 'nan'}}}\")]"
   ]
  },
  {
   "cell_type": "code",
   "execution_count": 23,
   "metadata": {},
   "outputs": [
    {
     "data": {
      "text/html": [
       "<div>\n",
       "<style scoped>\n",
       "    .dataframe tbody tr th:only-of-type {\n",
       "        vertical-align: middle;\n",
       "    }\n",
       "\n",
       "    .dataframe tbody tr th {\n",
       "        vertical-align: top;\n",
       "    }\n",
       "\n",
       "    .dataframe thead th {\n",
       "        text-align: right;\n",
       "    }\n",
       "</style>\n",
       "<table border=\"1\" class=\"dataframe\">\n",
       "  <thead>\n",
       "    <tr style=\"text-align: right;\">\n",
       "      <th></th>\n",
       "      <th>id</th>\n",
       "      <th>original_id</th>\n",
       "      <th>tweet_text</th>\n",
       "      <th>tweet_url</th>\n",
       "      <th>claim</th>\n",
       "      <th>rating</th>\n",
       "      <th>images</th>\n",
       "      <th>text_images</th>\n",
       "      <th>source</th>\n",
       "      <th>label</th>\n",
       "      <th>label_info</th>\n",
       "      <th>available</th>\n",
       "      <th>acc_id</th>\n",
       "      <th>botometer</th>\n",
       "    </tr>\n",
       "  </thead>\n",
       "  <tbody>\n",
       "    <tr>\n",
       "      <th>0</th>\n",
       "      <td>1000085962053959680</td>\n",
       "      <td>1000006390323253249</td>\n",
       "      <td>*cough* @NFL *cough* https://t.co/H9SskJ8q4Q</td>\n",
       "      <td>https://twitter.com/POTUS/status/1000085962053...</td>\n",
       "      <td>A German football club was banned from playing...</td>\n",
       "      <td>['https://www.snopes.com/tachyon/2018/03/ratin...</td>\n",
       "      <td>http://pbs.twimg.com/media/DeC8Z5DX4AAduxj.jpg</td>\n",
       "      <td>FAILED TO GIVE NAZI SALUTE . German Football C...</td>\n",
       "      <td>https://www.snopes.com/fact-check/german-footb...</td>\n",
       "      <td>mostly-true-new</td>\n",
       "      <td>NaN</td>\n",
       "      <td>auth</td>\n",
       "      <td>NaN</td>\n",
       "      <td>{'cap': {'english': 0.2520419704315795, 'unive...</td>\n",
       "    </tr>\n",
       "    <tr>\n",
       "      <th>1</th>\n",
       "      <td>1000057516615786496</td>\n",
       "      <td>1000015162714263553</td>\n",
       "      <td>@PhilMcCrackin44 Schiff's sister was married t...</td>\n",
       "      <td>https://twitter.com/POTUS/status/1000057516615...</td>\n",
       "      <td>Adam Schiff's sister Melissa was married to Ge...</td>\n",
       "      <td>['https://www.snopes.com/tachyon/2018/03/ratin...</td>\n",
       "      <td>['http://pbs.twimg.com/media/DeDEfF0XcAAHExJ.j...</td>\n",
       "      <td>['', '', 'di \" twant wutted to cmt ur to frpyo...</td>\n",
       "      <td>https://www.snopes.com/fact-check/adam-schiffs...</td>\n",
       "      <td>false</td>\n",
       "      <td>NaN</td>\n",
       "      <td>auth</td>\n",
       "      <td>NaN</td>\n",
       "      <td>{'cap': {'english': 0.2520419704315795, 'unive...</td>\n",
       "    </tr>\n",
       "    <tr>\n",
       "      <th>2</th>\n",
       "      <td>1000037356836093953</td>\n",
       "      <td>1000023322481086466</td>\n",
       "      <td>Brave men died to keep us free. Radicals want ...</td>\n",
       "      <td>https://twitter.com/POTUS/status/1000037356836...</td>\n",
       "      <td>Liberals were offended by a World War I memori...</td>\n",
       "      <td>['https://www.snopes.com/tachyon/2018/03/ratin...</td>\n",
       "      <td>http://pbs.twimg.com/media/DeDL5a-XkAI7Hlw.jpg</td>\n",
       "      <td>#DontTearMeDown IRSTLIBERT . ORG DontTearMeDow...</td>\n",
       "      <td>https://www.snopes.com/fact-check/liberals-dem...</td>\n",
       "      <td>mixture</td>\n",
       "      <td>NaN</td>\n",
       "      <td>ok</td>\n",
       "      <td>3.981226e+09</td>\n",
       "      <td>{'error': \"TweepError: [{'code': 34, 'message'...</td>\n",
       "    </tr>\n",
       "    <tr>\n",
       "      <th>3</th>\n",
       "      <td>1000056983070892032</td>\n",
       "      <td>1000048498677571584</td>\n",
       "      <td>@AP @farmerfar55 Was he wearing the medal give...</td>\n",
       "      <td>https://twitter.com/POTUS/status/1000056983070...</td>\n",
       "      <td>A meme shows President Obama awarding the Pres...</td>\n",
       "      <td>['https://www.snopes.com/tachyon/2018/03/ratin...</td>\n",
       "      <td>['http://pbs.twimg.com/media/DeCrb0SUwAAsw-t.j...</td>\n",
       "      <td>['', '', '', '']</td>\n",
       "      <td>https://www.snopes.com/fact-check/obama-medal-...</td>\n",
       "      <td>mostly-false</td>\n",
       "      <td>NaN</td>\n",
       "      <td>ok</td>\n",
       "      <td>NaN</td>\n",
       "      <td>{'cap': {'english': 0.2520419704315795, 'unive...</td>\n",
       "    </tr>\n",
       "    <tr>\n",
       "      <th>4</th>\n",
       "      <td>1000149982408794113</td>\n",
       "      <td>1000058582476435456</td>\n",
       "      <td>The importance of the electoral college is vit...</td>\n",
       "      <td>https://twitter.com/POTUS/status/1000149982408...</td>\n",
       "      <td>Donald Trump won 3,084 of America's 3,141 coun...</td>\n",
       "      <td>['https://www.snopes.com/tachyon/2018/03/ratin...</td>\n",
       "      <td>http://pbs.twimg.com/media/DeDr-FjVMAAlZe1.jpg</td>\n",
       "      <td>HILLARY'S POPULAR VOTE Mont . Ore . Idaho Wyo ...</td>\n",
       "      <td>https://www.snopes.com/fact-check/trump-clinto...</td>\n",
       "      <td>false</td>\n",
       "      <td>NaN</td>\n",
       "      <td>auth</td>\n",
       "      <td>NaN</td>\n",
       "      <td>{'cap': {'english': 0.2520419704315795, 'unive...</td>\n",
       "    </tr>\n",
       "    <tr>\n",
       "      <th>...</th>\n",
       "      <td>...</td>\n",
       "      <td>...</td>\n",
       "      <td>...</td>\n",
       "      <td>...</td>\n",
       "      <td>...</td>\n",
       "      <td>...</td>\n",
       "      <td>...</td>\n",
       "      <td>...</td>\n",
       "      <td>...</td>\n",
       "      <td>...</td>\n",
       "      <td>...</td>\n",
       "      <td>...</td>\n",
       "      <td>...</td>\n",
       "      <td>...</td>\n",
       "    </tr>\n",
       "    <tr>\n",
       "      <th>11192</th>\n",
       "      <td>1000146882428096512</td>\n",
       "      <td>999903412425711616</td>\n",
       "      <td>I picked this up from someone here. Its🙄🤨🙄 wor...</td>\n",
       "      <td>https://twitter.com/POTUS/status/1000146882428...</td>\n",
       "      <td>A German football club was banned from playing...</td>\n",
       "      <td>['https://www.snopes.com/tachyon/2018/03/ratin...</td>\n",
       "      <td>http://pbs.twimg.com/media/DeBe1X5VAAI-Zhh.jpg</td>\n",
       "      <td>FAILED TO GIVE NAZI SALUTE . German Football C...</td>\n",
       "      <td>https://www.snopes.com/fact-check/german-footb...</td>\n",
       "      <td>mostly-true-new</td>\n",
       "      <td>NaN</td>\n",
       "      <td>ok</td>\n",
       "      <td>9.174376e+07</td>\n",
       "      <td></td>\n",
       "    </tr>\n",
       "    <tr>\n",
       "      <th>11193</th>\n",
       "      <td>1000018438184734720</td>\n",
       "      <td>999961946932723713</td>\n",
       "      <td>Trump is a criminal, a gangster using criminal...</td>\n",
       "      <td>https://twitter.com/POTUS/status/1000018438184...</td>\n",
       "      <td>Notorious mobster Al Capone demanded an inquir...</td>\n",
       "      <td>['https://www.snopes.com/tachyon/2018/03/ratin...</td>\n",
       "      <td>http://pbs.twimg.com/media/DeCUF2ZV4AAMm0Z.jpg</td>\n",
       "      <td>Ci ) icago Sunday Cribune INAL 17 . Capone Dem...</td>\n",
       "      <td>https://www.snopes.com/fact-check/did-al-capon...</td>\n",
       "      <td>false</td>\n",
       "      <td>NaN</td>\n",
       "      <td>missing</td>\n",
       "      <td>8.816829e+17</td>\n",
       "      <td></td>\n",
       "    </tr>\n",
       "    <tr>\n",
       "      <th>11194</th>\n",
       "      <td>999992400725585920</td>\n",
       "      <td>999962442141782016</td>\n",
       "      <td>@VP @NFL @POTUS The only thing that’s #Winning...</td>\n",
       "      <td>https://twitter.com/POTUS/status/9999924007255...</td>\n",
       "      <td>Baseball players in the 1950s were caught on c...</td>\n",
       "      <td>['https://www.snopes.com/tachyon/2018/03/ratin...</td>\n",
       "      <td>http://pbs.twimg.com/media/DeCUiW3VwAAQbyx.jpg</td>\n",
       "      <td>White Baseball Players Kneel in the 50 ' s to ...</td>\n",
       "      <td>https://www.snopes.com/fact-check/baseball-pla...</td>\n",
       "      <td>false</td>\n",
       "      <td>NaN</td>\n",
       "      <td>auth</td>\n",
       "      <td>1.157486e+08</td>\n",
       "      <td></td>\n",
       "    </tr>\n",
       "    <tr>\n",
       "      <th>11195</th>\n",
       "      <td>1000035228679852032</td>\n",
       "      <td>999973815655518213</td>\n",
       "      <td>@mjfree Sports has been used as a means of pro...</td>\n",
       "      <td>https://twitter.com/POTUS/status/1000035228679...</td>\n",
       "      <td>Baseball players in the 1950s were caught on c...</td>\n",
       "      <td>['https://www.snopes.com/tachyon/2018/03/ratin...</td>\n",
       "      <td>http://pbs.twimg.com/media/DeCejk4WkAMruuM.jpg</td>\n",
       "      <td>White Baseball Players Kneel in the 50 ' s to ...</td>\n",
       "      <td>https://www.snopes.com/fact-check/baseball-pla...</td>\n",
       "      <td>false</td>\n",
       "      <td>NaN</td>\n",
       "      <td>ok</td>\n",
       "      <td>5.182272e+08</td>\n",
       "      <td></td>\n",
       "    </tr>\n",
       "    <tr>\n",
       "      <th>11196</th>\n",
       "      <td>999996611039191040</td>\n",
       "      <td>999996171824386048</td>\n",
       "      <td>@spectatorindex How you call this? https://t.c...</td>\n",
       "      <td>https://twitter.com/POTUS/status/9999966110391...</td>\n",
       "      <td>A photograph shows Senator John McCain posing ...</td>\n",
       "      <td>['https://www.snopes.com/tachyon/2018/03/ratin...</td>\n",
       "      <td>http://pbs.twimg.com/media/DeCzNhwX4AICQ0-.jpg</td>\n",
       "      <td>iSIS Leader Abu Bakr al-Baghdadi US . Sen . ' ...</td>\n",
       "      <td>https://www.snopes.com/fact-check/john-mccain-...</td>\n",
       "      <td>miscaptioned</td>\n",
       "      <td>NaN</td>\n",
       "      <td>ok</td>\n",
       "      <td>NaN</td>\n",
       "      <td></td>\n",
       "    </tr>\n",
       "  </tbody>\n",
       "</table>\n",
       "<p>11197 rows × 14 columns</p>\n",
       "</div>"
      ],
      "text/plain": [
       "                        id          original_id  \\\n",
       "0      1000085962053959680  1000006390323253249   \n",
       "1      1000057516615786496  1000015162714263553   \n",
       "2      1000037356836093953  1000023322481086466   \n",
       "3      1000056983070892032  1000048498677571584   \n",
       "4      1000149982408794113  1000058582476435456   \n",
       "...                    ...                  ...   \n",
       "11192  1000146882428096512   999903412425711616   \n",
       "11193  1000018438184734720   999961946932723713   \n",
       "11194   999992400725585920   999962442141782016   \n",
       "11195  1000035228679852032   999973815655518213   \n",
       "11196   999996611039191040   999996171824386048   \n",
       "\n",
       "                                              tweet_text  \\\n",
       "0           *cough* @NFL *cough* https://t.co/H9SskJ8q4Q   \n",
       "1      @PhilMcCrackin44 Schiff's sister was married t...   \n",
       "2      Brave men died to keep us free. Radicals want ...   \n",
       "3      @AP @farmerfar55 Was he wearing the medal give...   \n",
       "4      The importance of the electoral college is vit...   \n",
       "...                                                  ...   \n",
       "11192  I picked this up from someone here. Its🙄🤨🙄 wor...   \n",
       "11193  Trump is a criminal, a gangster using criminal...   \n",
       "11194  @VP @NFL @POTUS The only thing that’s #Winning...   \n",
       "11195  @mjfree Sports has been used as a means of pro...   \n",
       "11196  @spectatorindex How you call this? https://t.c...   \n",
       "\n",
       "                                               tweet_url  \\\n",
       "0      https://twitter.com/POTUS/status/1000085962053...   \n",
       "1      https://twitter.com/POTUS/status/1000057516615...   \n",
       "2      https://twitter.com/POTUS/status/1000037356836...   \n",
       "3      https://twitter.com/POTUS/status/1000056983070...   \n",
       "4      https://twitter.com/POTUS/status/1000149982408...   \n",
       "...                                                  ...   \n",
       "11192  https://twitter.com/POTUS/status/1000146882428...   \n",
       "11193  https://twitter.com/POTUS/status/1000018438184...   \n",
       "11194  https://twitter.com/POTUS/status/9999924007255...   \n",
       "11195  https://twitter.com/POTUS/status/1000035228679...   \n",
       "11196  https://twitter.com/POTUS/status/9999966110391...   \n",
       "\n",
       "                                                   claim  \\\n",
       "0      A German football club was banned from playing...   \n",
       "1      Adam Schiff's sister Melissa was married to Ge...   \n",
       "2      Liberals were offended by a World War I memori...   \n",
       "3      A meme shows President Obama awarding the Pres...   \n",
       "4      Donald Trump won 3,084 of America's 3,141 coun...   \n",
       "...                                                  ...   \n",
       "11192  A German football club was banned from playing...   \n",
       "11193  Notorious mobster Al Capone demanded an inquir...   \n",
       "11194  Baseball players in the 1950s were caught on c...   \n",
       "11195  Baseball players in the 1950s were caught on c...   \n",
       "11196  A photograph shows Senator John McCain posing ...   \n",
       "\n",
       "                                                  rating  \\\n",
       "0      ['https://www.snopes.com/tachyon/2018/03/ratin...   \n",
       "1      ['https://www.snopes.com/tachyon/2018/03/ratin...   \n",
       "2      ['https://www.snopes.com/tachyon/2018/03/ratin...   \n",
       "3      ['https://www.snopes.com/tachyon/2018/03/ratin...   \n",
       "4      ['https://www.snopes.com/tachyon/2018/03/ratin...   \n",
       "...                                                  ...   \n",
       "11192  ['https://www.snopes.com/tachyon/2018/03/ratin...   \n",
       "11193  ['https://www.snopes.com/tachyon/2018/03/ratin...   \n",
       "11194  ['https://www.snopes.com/tachyon/2018/03/ratin...   \n",
       "11195  ['https://www.snopes.com/tachyon/2018/03/ratin...   \n",
       "11196  ['https://www.snopes.com/tachyon/2018/03/ratin...   \n",
       "\n",
       "                                                  images  \\\n",
       "0         http://pbs.twimg.com/media/DeC8Z5DX4AAduxj.jpg   \n",
       "1      ['http://pbs.twimg.com/media/DeDEfF0XcAAHExJ.j...   \n",
       "2         http://pbs.twimg.com/media/DeDL5a-XkAI7Hlw.jpg   \n",
       "3      ['http://pbs.twimg.com/media/DeCrb0SUwAAsw-t.j...   \n",
       "4         http://pbs.twimg.com/media/DeDr-FjVMAAlZe1.jpg   \n",
       "...                                                  ...   \n",
       "11192     http://pbs.twimg.com/media/DeBe1X5VAAI-Zhh.jpg   \n",
       "11193     http://pbs.twimg.com/media/DeCUF2ZV4AAMm0Z.jpg   \n",
       "11194     http://pbs.twimg.com/media/DeCUiW3VwAAQbyx.jpg   \n",
       "11195     http://pbs.twimg.com/media/DeCejk4WkAMruuM.jpg   \n",
       "11196     http://pbs.twimg.com/media/DeCzNhwX4AICQ0-.jpg   \n",
       "\n",
       "                                             text_images  \\\n",
       "0      FAILED TO GIVE NAZI SALUTE . German Football C...   \n",
       "1      ['', '', 'di \" twant wutted to cmt ur to frpyo...   \n",
       "2      #DontTearMeDown IRSTLIBERT . ORG DontTearMeDow...   \n",
       "3                                       ['', '', '', '']   \n",
       "4      HILLARY'S POPULAR VOTE Mont . Ore . Idaho Wyo ...   \n",
       "...                                                  ...   \n",
       "11192  FAILED TO GIVE NAZI SALUTE . German Football C...   \n",
       "11193  Ci ) icago Sunday Cribune INAL 17 . Capone Dem...   \n",
       "11194  White Baseball Players Kneel in the 50 ' s to ...   \n",
       "11195  White Baseball Players Kneel in the 50 ' s to ...   \n",
       "11196  iSIS Leader Abu Bakr al-Baghdadi US . Sen . ' ...   \n",
       "\n",
       "                                                  source            label  \\\n",
       "0      https://www.snopes.com/fact-check/german-footb...  mostly-true-new   \n",
       "1      https://www.snopes.com/fact-check/adam-schiffs...            false   \n",
       "2      https://www.snopes.com/fact-check/liberals-dem...          mixture   \n",
       "3      https://www.snopes.com/fact-check/obama-medal-...     mostly-false   \n",
       "4      https://www.snopes.com/fact-check/trump-clinto...            false   \n",
       "...                                                  ...              ...   \n",
       "11192  https://www.snopes.com/fact-check/german-footb...  mostly-true-new   \n",
       "11193  https://www.snopes.com/fact-check/did-al-capon...            false   \n",
       "11194  https://www.snopes.com/fact-check/baseball-pla...            false   \n",
       "11195  https://www.snopes.com/fact-check/baseball-pla...            false   \n",
       "11196  https://www.snopes.com/fact-check/john-mccain-...     miscaptioned   \n",
       "\n",
       "       label_info available        acc_id  \\\n",
       "0             NaN      auth           NaN   \n",
       "1             NaN      auth           NaN   \n",
       "2             NaN        ok  3.981226e+09   \n",
       "3             NaN        ok           NaN   \n",
       "4             NaN      auth           NaN   \n",
       "...           ...       ...           ...   \n",
       "11192         NaN        ok  9.174376e+07   \n",
       "11193         NaN   missing  8.816829e+17   \n",
       "11194         NaN      auth  1.157486e+08   \n",
       "11195         NaN        ok  5.182272e+08   \n",
       "11196         NaN        ok           NaN   \n",
       "\n",
       "                                               botometer  \n",
       "0      {'cap': {'english': 0.2520419704315795, 'unive...  \n",
       "1      {'cap': {'english': 0.2520419704315795, 'unive...  \n",
       "2      {'error': \"TweepError: [{'code': 34, 'message'...  \n",
       "3      {'cap': {'english': 0.2520419704315795, 'unive...  \n",
       "4      {'cap': {'english': 0.2520419704315795, 'unive...  \n",
       "...                                                  ...  \n",
       "11192                                                     \n",
       "11193                                                     \n",
       "11194                                                     \n",
       "11195                                                     \n",
       "11196                                                     \n",
       "\n",
       "[11197 rows x 14 columns]"
      ]
     },
     "execution_count": 23,
     "metadata": {},
     "output_type": "execute_result"
    }
   ],
   "source": [
    "snopes"
   ]
  },
  {
   "cell_type": "code",
   "execution_count": 19,
   "metadata": {},
   "outputs": [
    {
     "data": {
      "text/html": [
       "<div>\n",
       "<style scoped>\n",
       "    .dataframe tbody tr th:only-of-type {\n",
       "        vertical-align: middle;\n",
       "    }\n",
       "\n",
       "    .dataframe tbody tr th {\n",
       "        vertical-align: top;\n",
       "    }\n",
       "\n",
       "    .dataframe thead th {\n",
       "        text-align: right;\n",
       "    }\n",
       "</style>\n",
       "<table border=\"1\" class=\"dataframe\">\n",
       "  <thead>\n",
       "    <tr style=\"text-align: right;\">\n",
       "      <th></th>\n",
       "      <th>id</th>\n",
       "      <th>original_id</th>\n",
       "      <th>tweet_text</th>\n",
       "      <th>tweet_url</th>\n",
       "      <th>claim</th>\n",
       "      <th>rating</th>\n",
       "      <th>images</th>\n",
       "      <th>text_images</th>\n",
       "      <th>source</th>\n",
       "      <th>label</th>\n",
       "      <th>label_info</th>\n",
       "      <th>available</th>\n",
       "      <th>acc_id</th>\n",
       "      <th>botometer</th>\n",
       "    </tr>\n",
       "  </thead>\n",
       "  <tbody>\n",
       "  </tbody>\n",
       "</table>\n",
       "</div>"
      ],
      "text/plain": [
       "Empty DataFrame\n",
       "Columns: [id, original_id, tweet_text, tweet_url, claim, rating, images, text_images, source, label, label_info, available, acc_id, botometer]\n",
       "Index: []"
      ]
     },
     "execution_count": 19,
     "metadata": {},
     "output_type": "execute_result"
    }
   ],
   "source": [
    "snopes[snopes.original_id.isin([14802766])]"
   ]
  },
  {
   "cell_type": "code",
   "execution_count": null,
   "metadata": {},
   "outputs": [],
   "source": []
  },
  {
   "cell_type": "code",
   "execution_count": 22,
   "metadata": {},
   "outputs": [
    {
     "data": {
      "text/plain": [
       "3981225735.0"
      ]
     },
     "execution_count": 22,
     "metadata": {},
     "output_type": "execute_result"
    }
   ],
   "source": [
    "snopes.acc_id.tolist()[2]"
   ]
  },
  {
   "cell_type": "code",
   "execution_count": 11,
   "metadata": {},
   "outputs": [
    {
     "name": "stdout",
     "output_type": "stream",
     "text": [
      "Collecting tweepy==4.0\n",
      "  Downloading tweepy-4.0.0-py2.py3-none-any.whl (60 kB)\n",
      "\u001b[K     |████████████████████████████████| 60 kB 1.5 MB/s eta 0:00:01\n",
      "\u001b[?25hRequirement already satisfied: requests<3,>=2.11.1 in /home/mihail/.local/lib/python3.8/site-packages (from tweepy==4.0) (2.27.1)\n",
      "Requirement already satisfied: requests-oauthlib<2,>=1.0.0 in /home/mihail/.local/lib/python3.8/site-packages (from tweepy==4.0) (1.3.1)\n",
      "Requirement already satisfied: charset-normalizer~=2.0.0; python_version >= \"3\" in /home/mihail/.local/lib/python3.8/site-packages (from requests<3,>=2.11.1->tweepy==4.0) (2.0.12)\n",
      "Requirement already satisfied: idna<4,>=2.5; python_version >= \"3\" in /usr/lib/python3/dist-packages (from requests<3,>=2.11.1->tweepy==4.0) (2.8)\n",
      "Requirement already satisfied: certifi>=2017.4.17 in /usr/lib/python3/dist-packages (from requests<3,>=2.11.1->tweepy==4.0) (2019.11.28)\n",
      "Requirement already satisfied: urllib3<1.27,>=1.21.1 in /usr/lib/python3/dist-packages (from requests<3,>=2.11.1->tweepy==4.0) (1.25.8)\n",
      "Requirement already satisfied: oauthlib>=3.0.0 in /home/mihail/.local/lib/python3.8/site-packages (from requests-oauthlib<2,>=1.0.0->tweepy==4.0) (3.2.0)\n",
      "\u001b[31mERROR: botometer 1.6.1 has requirement tweepy<4,>=3.5.0, but you'll have tweepy 4.0.0 which is incompatible.\u001b[0m\n",
      "Installing collected packages: tweepy\n",
      "  Attempting uninstall: tweepy\n",
      "    Found existing installation: tweepy 4.6.0\n",
      "    Uninstalling tweepy-4.6.0:\n",
      "      Successfully uninstalled tweepy-4.6.0\n",
      "Successfully installed tweepy-4.0.0\n",
      "Note: you may need to restart the kernel to use updated packages.\n"
     ]
    }
   ],
   "source": [
    "pip install tweepy==4.0"
   ]
  },
  {
   "cell_type": "code",
   "execution_count": null,
   "metadata": {},
   "outputs": [],
   "source": []
  }
 ],
 "metadata": {
  "kernelspec": {
   "display_name": "Python 3 (ipykernel)",
   "language": "python",
   "name": "python3"
  },
  "language_info": {
   "codemirror_mode": {
    "name": "ipython",
    "version": 3
   },
   "file_extension": ".py",
   "mimetype": "text/x-python",
   "name": "python",
   "nbconvert_exporter": "python",
   "pygments_lexer": "ipython3",
   "version": "3.9.7"
  }
 },
 "nbformat": 4,
 "nbformat_minor": 2
}
