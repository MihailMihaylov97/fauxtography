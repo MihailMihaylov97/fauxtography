{
 "cells": [
  {
   "cell_type": "code",
   "execution_count": 1,
   "metadata": {},
   "outputs": [
    {
     "data": {
      "text/html": [
       "<style>.container { width:100% !important; }</style>"
      ],
      "text/plain": [
       "<IPython.core.display.HTML object>"
      ]
     },
     "metadata": {},
     "output_type": "display_data"
    }
   ],
   "source": [
    "from IPython.core.display import display, HTML\n",
    "display(HTML(\"<style>.container { width:100% !important; }</style>\"))"
   ]
  },
  {
   "cell_type": "code",
   "execution_count": 2,
   "metadata": {},
   "outputs": [],
   "source": [
    "import json\n",
    "import pandas as pd\n",
    "import numpy as np"
   ]
  },
  {
   "cell_type": "code",
   "execution_count": null,
   "metadata": {},
   "outputs": [],
   "source": [
    "with open(\"merged_data.json\") as jfile:\n",
    "    data = json.load(jfile)"
   ]
  },
  {
   "cell_type": "code",
   "execution_count": null,
   "metadata": {},
   "outputs": [],
   "source": [
    "len(data)"
   ]
  },
  {
   "cell_type": "code",
   "execution_count": null,
   "metadata": {},
   "outputs": [],
   "source": [
    "data[0]['tweet_data'][\"Images_in_tweet\"]"
   ]
  },
  {
   "cell_type": "code",
   "execution_count": null,
   "metadata": {},
   "outputs": [],
   "source": [
    "df = pd.DataFrame(index = range(13239), columns=[\"id\", \"original_id\", \"tweet_text\", \"tweet_url\", \"claim\", \"rating\", \"images\", \"text_images\", \"source\"])"
   ]
  },
  {
   "cell_type": "code",
   "execution_count": null,
   "metadata": {},
   "outputs": [],
   "source": [
    "def extract_labels(tweet):\n",
    "    \n",
    "    try:\n",
    "        tweet_did = tweet[\"tweet_data\"][\"DtweetID\"]\n",
    "        tweet_oid = tweet[\"tweet_data\"][\"originalTweetID\"]\n",
    "        tweet_url = f\"https://twitter.com/POTUS/status/{tweet_did}\"\n",
    "        tweet_text = tweet[\"tweet_data\"][\"OriginalTweetContent_Raw\"]\n",
    "        claim = tweet[\"article_data\"][\"claim\"]\n",
    "        rating = tweet[\"article_data\"][\"rating\"]\n",
    "        images = list(tweet[\"tweet_data\"][\"Images_in_tweet\"].keys())\n",
    "        text_images = [tweet[\"tweet_data\"][\"Images_in_tweet\"][i][\"text_for_the_image\"] for i in images]\n",
    "        source = tweet[\"article_data\"][\"url\"]\n",
    "        \n",
    "        if len(images) == 1: images = images[0]\n",
    "        if len(rating) == 1: rating = rating[0]\n",
    "        if len(text_images) == 1: text_images = text_images[0] if len(text_images[0]) > 0 else None\n",
    "            \n",
    "        return [tweet_did, tweet_oid, tweet_text, tweet_url, claim, rating, images, text_images, source]     \n",
    "    \n",
    "    except Exception as e:\n",
    "        return e\n"
   ]
  },
  {
   "cell_type": "code",
   "execution_count": null,
   "metadata": {},
   "outputs": [],
   "source": [
    "data[0][\"article_data\"].keys()"
   ]
  },
  {
   "cell_type": "code",
   "execution_count": null,
   "metadata": {},
   "outputs": [],
   "source": [
    "errors = {}\n",
    "for i in df.index:\n",
    "    info = extract_labels(data[i])\n",
    "    \n",
    "    if isinstance(info, list): \n",
    "        df.loc[i,] = np.asarray(info)\n",
    "    else:\n",
    "        errors[i] = info        \n",
    "\n"
   ]
  },
  {
   "cell_type": "code",
   "execution_count": null,
   "metadata": {},
   "outputs": [],
   "source": [
    "errors"
   ]
  },
  {
   "cell_type": "code",
   "execution_count": null,
   "metadata": {},
   "outputs": [],
   "source": [
    "df = df.drop(list(errors.keys()))"
   ]
  },
  {
   "cell_type": "code",
   "execution_count": null,
   "metadata": {},
   "outputs": [],
   "source": [
    "df[\"label\"] = [i[0].split(\"/\")[-1].split(\".\")[0] for i in df.rating]\n",
    "df[\"label\"] = [i.replace(\"rating-\",\"\").replace(\"tom-\",\"\").replace(\"fom-\",\"\") for i in df.label]\n",
    "df[\"label_info\"] = [i[2] if len(i)>2 else None for i in df.rating]"
   ]
  },
  {
   "cell_type": "code",
   "execution_count": null,
   "metadata": {},
   "outputs": [],
   "source": [
    "snopes = df[~df.source.str.contains(\"www.politifact.com\")]"
   ]
  },
  {
   "cell_type": "code",
   "execution_count": null,
   "metadata": {},
   "outputs": [],
   "source": [
    "snopes.label.value_counts()"
   ]
  },
  {
   "cell_type": "code",
   "execution_count": null,
   "metadata": {},
   "outputs": [],
   "source": [
    "import json\n",
    "with open(\"json_data.json\") as rfile:\n",
    "    data = json.load(rfile)\n",
    "    "
   ]
  },
  {
   "cell_type": "code",
   "execution_count": null,
   "metadata": {},
   "outputs": [],
   "source": [
    "data"
   ]
  },
  {
   "cell_type": "code",
   "execution_count": null,
   "metadata": {},
   "outputs": [],
   "source": [
    "def map_availability(row):\n",
    "    return [key for key in data.keys() if row in data[key]][0]"
   ]
  },
  {
   "cell_type": "code",
   "execution_count": null,
   "metadata": {},
   "outputs": [],
   "source": [
    "snopes[\"available\"] = snopes.id.apply(map_availability)"
   ]
  },
  {
   "cell_type": "code",
   "execution_count": null,
   "metadata": {},
   "outputs": [],
   "source": [
    "# snopes.to_csv(\"snopes_clean.csv\", index=False)"
   ]
  },
  {
   "cell_type": "code",
   "execution_count": null,
   "metadata": {},
   "outputs": [],
   "source": [
    "# snopes = pd.read_csv(\"snopes_clean.csv\")"
   ]
  },
  {
   "cell_type": "code",
   "execution_count": null,
   "metadata": {},
   "outputs": [],
   "source": [
    "snopes"
   ]
  },
  {
   "cell_type": "code",
   "execution_count": null,
   "metadata": {},
   "outputs": [],
   "source": [
    "snopes.available.value_counts()"
   ]
  },
  {
   "cell_type": "code",
   "execution_count": null,
   "metadata": {},
   "outputs": [],
   "source": [
    "snopes.tail().source.tolist()"
   ]
  },
  {
   "cell_type": "code",
   "execution_count": null,
   "metadata": {},
   "outputs": [],
   "source": [
    "snopes.tail().tweet_url.tolist()"
   ]
  },
  {
   "cell_type": "code",
   "execution_count": 4,
   "metadata": {},
   "outputs": [
    {
     "name": "stdout",
     "output_type": "stream",
     "text": [
      "Requirement already satisfied: requests in /home/mihail/.local/lib/python3.8/site-packages (2.27.1)\n",
      "Collecting tweepy\n",
      "  Downloading tweepy-4.6.0-py2.py3-none-any.whl (69 kB)\n",
      "\u001b[K     |████████████████████████████████| 69 kB 2.0 MB/s eta 0:00:01\n",
      "\u001b[?25hCollecting botometer\n",
      "  Downloading botometer-1.6.1-py3-none-any.whl (4.8 kB)\n",
      "Requirement already satisfied: urllib3<1.27,>=1.21.1 in /usr/lib/python3/dist-packages (from requests) (1.25.8)\n",
      "Requirement already satisfied: idna<4,>=2.5; python_version >= \"3\" in /usr/lib/python3/dist-packages (from requests) (2.8)\n",
      "Requirement already satisfied: certifi>=2017.4.17 in /usr/lib/python3/dist-packages (from requests) (2019.11.28)\n",
      "Requirement already satisfied: charset-normalizer~=2.0.0; python_version >= \"3\" in /home/mihail/.local/lib/python3.8/site-packages (from requests) (2.0.12)\n",
      "Collecting requests-oauthlib<2,>=1.2.0\n",
      "  Using cached requests_oauthlib-1.3.1-py2.py3-none-any.whl (23 kB)\n",
      "Collecting oauthlib<4,>=3.2.0\n",
      "  Using cached oauthlib-3.2.0-py3-none-any.whl (151 kB)\n",
      "\u001b[31mERROR: botometer 1.6.1 has requirement tweepy<4,>=3.5.0, but you'll have tweepy 4.6.0 which is incompatible.\u001b[0m\n",
      "Installing collected packages: oauthlib, requests-oauthlib, tweepy, botometer\n",
      "Successfully installed botometer-1.6.1 oauthlib-3.2.0 requests-oauthlib-1.3.1 tweepy-4.6.0\n"
     ]
    }
   ],
   "source": [
    "!pip3 install requests tweepy==4.0 botometer"
   ]
  },
  {
   "cell_type": "code",
   "execution_count": 54,
   "metadata": {},
   "outputs": [
    {
     "name": "stderr",
     "output_type": "stream",
     "text": [
      "/var/folders/jf/w9ffcr5s1t1fffdv873rd0xr0000gn/T/ipykernel_17446/1629282148.py:5: SettingWithCopyWarning: \n",
      "A value is trying to be set on a copy of a slice from a DataFrame.\n",
      "Try using .loc[row_indexer,col_indexer] = value instead\n",
      "\n",
      "See the caveats in the documentation: https://pandas.pydata.org/pandas-docs/stable/user_guide/indexing.html#returning-a-view-versus-a-copy\n",
      "  snopes_acc[\"acc_id\"] = snopes_acc.acc_id.astype(int)\n"
     ]
    }
   ],
   "source": [
    "snopes = pd.read_csv(\"snopes_acc.csv\")\n",
    "snopes[\"botometer\"] = ''\n",
    "\n",
    "snopes_acc = snopes[snopes.acc_id.notna()]\n",
    "snopes_acc[\"acc_id\"] = snopes_acc.acc_id.astype(int)\n",
    "accounts = snopes_acc.acc_id.tolist()\n",
    "\n",
    "\n",
    "snopes_acc.reset_index(inplace=True)\n",
    "del snopes_acc['index']"
   ]
  },
  {
   "cell_type": "code",
   "execution_count": 6,
   "metadata": {},
   "outputs": [
    {
     "name": "stdout",
     "output_type": "stream",
     "text": [
      "Collecting tqdm\n",
      "  Using cached tqdm-4.63.0-py2.py3-none-any.whl (76 kB)\n",
      "Installing collected packages: tqdm\n",
      "Successfully installed tqdm-4.63.0\n"
     ]
    }
   ],
   "source": [
    "!pip install tqdm"
   ]
  },
  {
   "cell_type": "code",
   "execution_count": 55,
   "metadata": {},
   "outputs": [
    {
     "data": {
      "text/html": [
       "<div>\n",
       "<style scoped>\n",
       "    .dataframe tbody tr th:only-of-type {\n",
       "        vertical-align: middle;\n",
       "    }\n",
       "\n",
       "    .dataframe tbody tr th {\n",
       "        vertical-align: top;\n",
       "    }\n",
       "\n",
       "    .dataframe thead th {\n",
       "        text-align: right;\n",
       "    }\n",
       "</style>\n",
       "<table border=\"1\" class=\"dataframe\">\n",
       "  <thead>\n",
       "    <tr style=\"text-align: right;\">\n",
       "      <th></th>\n",
       "      <th>id</th>\n",
       "      <th>original_id</th>\n",
       "      <th>tweet_text</th>\n",
       "      <th>tweet_url</th>\n",
       "      <th>claim</th>\n",
       "      <th>rating</th>\n",
       "      <th>images</th>\n",
       "      <th>text_images</th>\n",
       "      <th>source</th>\n",
       "      <th>label</th>\n",
       "      <th>label_info</th>\n",
       "      <th>available</th>\n",
       "      <th>acc_id</th>\n",
       "      <th>botometer</th>\n",
       "    </tr>\n",
       "  </thead>\n",
       "  <tbody>\n",
       "    <tr>\n",
       "      <th>0</th>\n",
       "      <td>1000037356836093953</td>\n",
       "      <td>1000023322481086466</td>\n",
       "      <td>Brave men died to keep us free. Radicals want ...</td>\n",
       "      <td>https://twitter.com/POTUS/status/1000037356836...</td>\n",
       "      <td>Liberals were offended by a World War I memori...</td>\n",
       "      <td>['https://www.snopes.com/tachyon/2018/03/ratin...</td>\n",
       "      <td>http://pbs.twimg.com/media/DeDL5a-XkAI7Hlw.jpg</td>\n",
       "      <td>#DontTearMeDown IRSTLIBERT . ORG DontTearMeDow...</td>\n",
       "      <td>https://www.snopes.com/fact-check/liberals-dem...</td>\n",
       "      <td>mixture</td>\n",
       "      <td>NaN</td>\n",
       "      <td>ok</td>\n",
       "      <td>3981225735</td>\n",
       "      <td></td>\n",
       "    </tr>\n",
       "    <tr>\n",
       "      <th>1</th>\n",
       "      <td>1000098833798389760</td>\n",
       "      <td>1000059879682342912</td>\n",
       "      <td>“Stand for the National Anthem or be punished”...</td>\n",
       "      <td>https://twitter.com/POTUS/status/1000098833798...</td>\n",
       "      <td>A German football club was banned from playing...</td>\n",
       "      <td>['https://www.snopes.com/tachyon/2018/03/ratin...</td>\n",
       "      <td>http://pbs.twimg.com/media/DeDtKIRVAAA4kPm.jpg</td>\n",
       "      <td>FAILED TO GIVE NAZI SALUTE . German Football C...</td>\n",
       "      <td>https://www.snopes.com/fact-check/german-footb...</td>\n",
       "      <td>mostly-true-new</td>\n",
       "      <td>NaN</td>\n",
       "      <td>ok</td>\n",
       "      <td>1924071992</td>\n",
       "      <td></td>\n",
       "    </tr>\n",
       "    <tr>\n",
       "      <th>2</th>\n",
       "      <td>1000158804795781120</td>\n",
       "      <td>1000073920760791040</td>\n",
       "      <td>@Humancipator35 @buddydusty @davidhogg111 🙌🏼 R...</td>\n",
       "      <td>https://twitter.com/POTUS/status/1000158804795...</td>\n",
       "      <td>Emma Gonz lez, a survivor of the Parkland scho...</td>\n",
       "      <td>['https://www.snopes.com/tachyon/2018/03/ratin...</td>\n",
       "      <td>http://pbs.twimg.com/media/DeD57XMV4AAUG4k.jpg</td>\n",
       "      <td>NaN</td>\n",
       "      <td>https://www.snopes.com/fact-check/emma-gonzale...</td>\n",
       "      <td>false</td>\n",
       "      <td>NaN</td>\n",
       "      <td>auth</td>\n",
       "      <td>924224208</td>\n",
       "      <td></td>\n",
       "    </tr>\n",
       "    <tr>\n",
       "      <th>3</th>\n",
       "      <td>1000175568241872897</td>\n",
       "      <td>1000174645973315586</td>\n",
       "      <td>Just sayin'  #NFL https://t.co/70tFG5ieMC</td>\n",
       "      <td>https://twitter.com/POTUS/status/1000175568241...</td>\n",
       "      <td>A German football club was banned from playing...</td>\n",
       "      <td>['https://www.snopes.com/tachyon/2018/03/ratin...</td>\n",
       "      <td>http://pbs.twimg.com/media/DeFVdDlUwAA17qS.jpg</td>\n",
       "      <td>FAILED TO GIVE NAZI SALUTE . German Football C...</td>\n",
       "      <td>https://www.snopes.com/fact-check/german-footb...</td>\n",
       "      <td>mostly-true-new</td>\n",
       "      <td>NaN</td>\n",
       "      <td>auth</td>\n",
       "      <td>170735298</td>\n",
       "      <td></td>\n",
       "    </tr>\n",
       "    <tr>\n",
       "      <th>4</th>\n",
       "      <td>1000438777792344067</td>\n",
       "      <td>1000191784797040640</td>\n",
       "      <td>Those who do not learn from history are doomed...</td>\n",
       "      <td>https://twitter.com/POTUS/status/1000438777792...</td>\n",
       "      <td>A German football club was banned from playing...</td>\n",
       "      <td>['https://www.snopes.com/tachyon/2018/03/ratin...</td>\n",
       "      <td>http://pbs.twimg.com/media/DeFkp5eU0AA2aLJ.jpg</td>\n",
       "      <td>pnting n the wo \" ' t WHY to win . nbor mu t n...</td>\n",
       "      <td>https://www.snopes.com/fact-check/german-footb...</td>\n",
       "      <td>mostly-true-new</td>\n",
       "      <td>NaN</td>\n",
       "      <td>ok</td>\n",
       "      <td>115563859</td>\n",
       "      <td></td>\n",
       "    </tr>\n",
       "    <tr>\n",
       "      <th>...</th>\n",
       "      <td>...</td>\n",
       "      <td>...</td>\n",
       "      <td>...</td>\n",
       "      <td>...</td>\n",
       "      <td>...</td>\n",
       "      <td>...</td>\n",
       "      <td>...</td>\n",
       "      <td>...</td>\n",
       "      <td>...</td>\n",
       "      <td>...</td>\n",
       "      <td>...</td>\n",
       "      <td>...</td>\n",
       "      <td>...</td>\n",
       "      <td>...</td>\n",
       "    </tr>\n",
       "    <tr>\n",
       "      <th>6971</th>\n",
       "      <td>1000095067887910917</td>\n",
       "      <td>999866405687209984</td>\n",
       "      <td>History repeating itself with @realDonaldTrump...</td>\n",
       "      <td>https://twitter.com/POTUS/status/1000095067887...</td>\n",
       "      <td>A German football club was banned from playing...</td>\n",
       "      <td>['https://www.snopes.com/tachyon/2018/03/ratin...</td>\n",
       "      <td>http://pbs.twimg.com/media/DeA9KrlVwAEHtPB.jpg</td>\n",
       "      <td>FAILED TO GIVE NAZI SALUTE . German Football C...</td>\n",
       "      <td>https://www.snopes.com/fact-check/german-footb...</td>\n",
       "      <td>mostly-true-new</td>\n",
       "      <td>NaN</td>\n",
       "      <td>ok</td>\n",
       "      <td>550658726</td>\n",
       "      <td></td>\n",
       "    </tr>\n",
       "    <tr>\n",
       "      <th>6972</th>\n",
       "      <td>1000146882428096512</td>\n",
       "      <td>999903412425711616</td>\n",
       "      <td>I picked this up from someone here. Its🙄🤨🙄 wor...</td>\n",
       "      <td>https://twitter.com/POTUS/status/1000146882428...</td>\n",
       "      <td>A German football club was banned from playing...</td>\n",
       "      <td>['https://www.snopes.com/tachyon/2018/03/ratin...</td>\n",
       "      <td>http://pbs.twimg.com/media/DeBe1X5VAAI-Zhh.jpg</td>\n",
       "      <td>FAILED TO GIVE NAZI SALUTE . German Football C...</td>\n",
       "      <td>https://www.snopes.com/fact-check/german-footb...</td>\n",
       "      <td>mostly-true-new</td>\n",
       "      <td>NaN</td>\n",
       "      <td>ok</td>\n",
       "      <td>91743765</td>\n",
       "      <td></td>\n",
       "    </tr>\n",
       "    <tr>\n",
       "      <th>6973</th>\n",
       "      <td>1000018438184734720</td>\n",
       "      <td>999961946932723713</td>\n",
       "      <td>Trump is a criminal, a gangster using criminal...</td>\n",
       "      <td>https://twitter.com/POTUS/status/1000018438184...</td>\n",
       "      <td>Notorious mobster Al Capone demanded an inquir...</td>\n",
       "      <td>['https://www.snopes.com/tachyon/2018/03/ratin...</td>\n",
       "      <td>http://pbs.twimg.com/media/DeCUF2ZV4AAMm0Z.jpg</td>\n",
       "      <td>Ci ) icago Sunday Cribune INAL 17 . Capone Dem...</td>\n",
       "      <td>https://www.snopes.com/fact-check/did-al-capon...</td>\n",
       "      <td>false</td>\n",
       "      <td>NaN</td>\n",
       "      <td>missing</td>\n",
       "      <td>881682896607600640</td>\n",
       "      <td></td>\n",
       "    </tr>\n",
       "    <tr>\n",
       "      <th>6974</th>\n",
       "      <td>999992400725585920</td>\n",
       "      <td>999962442141782016</td>\n",
       "      <td>@VP @NFL @POTUS The only thing that’s #Winning...</td>\n",
       "      <td>https://twitter.com/POTUS/status/9999924007255...</td>\n",
       "      <td>Baseball players in the 1950s were caught on c...</td>\n",
       "      <td>['https://www.snopes.com/tachyon/2018/03/ratin...</td>\n",
       "      <td>http://pbs.twimg.com/media/DeCUiW3VwAAQbyx.jpg</td>\n",
       "      <td>White Baseball Players Kneel in the 50 ' s to ...</td>\n",
       "      <td>https://www.snopes.com/fact-check/baseball-pla...</td>\n",
       "      <td>false</td>\n",
       "      <td>NaN</td>\n",
       "      <td>auth</td>\n",
       "      <td>115748564</td>\n",
       "      <td></td>\n",
       "    </tr>\n",
       "    <tr>\n",
       "      <th>6975</th>\n",
       "      <td>1000035228679852032</td>\n",
       "      <td>999973815655518213</td>\n",
       "      <td>@mjfree Sports has been used as a means of pro...</td>\n",
       "      <td>https://twitter.com/POTUS/status/1000035228679...</td>\n",
       "      <td>Baseball players in the 1950s were caught on c...</td>\n",
       "      <td>['https://www.snopes.com/tachyon/2018/03/ratin...</td>\n",
       "      <td>http://pbs.twimg.com/media/DeCejk4WkAMruuM.jpg</td>\n",
       "      <td>White Baseball Players Kneel in the 50 ' s to ...</td>\n",
       "      <td>https://www.snopes.com/fact-check/baseball-pla...</td>\n",
       "      <td>false</td>\n",
       "      <td>NaN</td>\n",
       "      <td>ok</td>\n",
       "      <td>518227176</td>\n",
       "      <td></td>\n",
       "    </tr>\n",
       "  </tbody>\n",
       "</table>\n",
       "<p>6976 rows × 14 columns</p>\n",
       "</div>"
      ],
      "text/plain": [
       "                       id          original_id  \\\n",
       "0     1000037356836093953  1000023322481086466   \n",
       "1     1000098833798389760  1000059879682342912   \n",
       "2     1000158804795781120  1000073920760791040   \n",
       "3     1000175568241872897  1000174645973315586   \n",
       "4     1000438777792344067  1000191784797040640   \n",
       "...                   ...                  ...   \n",
       "6971  1000095067887910917   999866405687209984   \n",
       "6972  1000146882428096512   999903412425711616   \n",
       "6973  1000018438184734720   999961946932723713   \n",
       "6974   999992400725585920   999962442141782016   \n",
       "6975  1000035228679852032   999973815655518213   \n",
       "\n",
       "                                             tweet_text  \\\n",
       "0     Brave men died to keep us free. Radicals want ...   \n",
       "1     “Stand for the National Anthem or be punished”...   \n",
       "2     @Humancipator35 @buddydusty @davidhogg111 🙌🏼 R...   \n",
       "3             Just sayin'  #NFL https://t.co/70tFG5ieMC   \n",
       "4     Those who do not learn from history are doomed...   \n",
       "...                                                 ...   \n",
       "6971  History repeating itself with @realDonaldTrump...   \n",
       "6972  I picked this up from someone here. Its🙄🤨🙄 wor...   \n",
       "6973  Trump is a criminal, a gangster using criminal...   \n",
       "6974  @VP @NFL @POTUS The only thing that’s #Winning...   \n",
       "6975  @mjfree Sports has been used as a means of pro...   \n",
       "\n",
       "                                              tweet_url  \\\n",
       "0     https://twitter.com/POTUS/status/1000037356836...   \n",
       "1     https://twitter.com/POTUS/status/1000098833798...   \n",
       "2     https://twitter.com/POTUS/status/1000158804795...   \n",
       "3     https://twitter.com/POTUS/status/1000175568241...   \n",
       "4     https://twitter.com/POTUS/status/1000438777792...   \n",
       "...                                                 ...   \n",
       "6971  https://twitter.com/POTUS/status/1000095067887...   \n",
       "6972  https://twitter.com/POTUS/status/1000146882428...   \n",
       "6973  https://twitter.com/POTUS/status/1000018438184...   \n",
       "6974  https://twitter.com/POTUS/status/9999924007255...   \n",
       "6975  https://twitter.com/POTUS/status/1000035228679...   \n",
       "\n",
       "                                                  claim  \\\n",
       "0     Liberals were offended by a World War I memori...   \n",
       "1     A German football club was banned from playing...   \n",
       "2     Emma Gonz lez, a survivor of the Parkland scho...   \n",
       "3     A German football club was banned from playing...   \n",
       "4     A German football club was banned from playing...   \n",
       "...                                                 ...   \n",
       "6971  A German football club was banned from playing...   \n",
       "6972  A German football club was banned from playing...   \n",
       "6973  Notorious mobster Al Capone demanded an inquir...   \n",
       "6974  Baseball players in the 1950s were caught on c...   \n",
       "6975  Baseball players in the 1950s were caught on c...   \n",
       "\n",
       "                                                 rating  \\\n",
       "0     ['https://www.snopes.com/tachyon/2018/03/ratin...   \n",
       "1     ['https://www.snopes.com/tachyon/2018/03/ratin...   \n",
       "2     ['https://www.snopes.com/tachyon/2018/03/ratin...   \n",
       "3     ['https://www.snopes.com/tachyon/2018/03/ratin...   \n",
       "4     ['https://www.snopes.com/tachyon/2018/03/ratin...   \n",
       "...                                                 ...   \n",
       "6971  ['https://www.snopes.com/tachyon/2018/03/ratin...   \n",
       "6972  ['https://www.snopes.com/tachyon/2018/03/ratin...   \n",
       "6973  ['https://www.snopes.com/tachyon/2018/03/ratin...   \n",
       "6974  ['https://www.snopes.com/tachyon/2018/03/ratin...   \n",
       "6975  ['https://www.snopes.com/tachyon/2018/03/ratin...   \n",
       "\n",
       "                                              images  \\\n",
       "0     http://pbs.twimg.com/media/DeDL5a-XkAI7Hlw.jpg   \n",
       "1     http://pbs.twimg.com/media/DeDtKIRVAAA4kPm.jpg   \n",
       "2     http://pbs.twimg.com/media/DeD57XMV4AAUG4k.jpg   \n",
       "3     http://pbs.twimg.com/media/DeFVdDlUwAA17qS.jpg   \n",
       "4     http://pbs.twimg.com/media/DeFkp5eU0AA2aLJ.jpg   \n",
       "...                                              ...   \n",
       "6971  http://pbs.twimg.com/media/DeA9KrlVwAEHtPB.jpg   \n",
       "6972  http://pbs.twimg.com/media/DeBe1X5VAAI-Zhh.jpg   \n",
       "6973  http://pbs.twimg.com/media/DeCUF2ZV4AAMm0Z.jpg   \n",
       "6974  http://pbs.twimg.com/media/DeCUiW3VwAAQbyx.jpg   \n",
       "6975  http://pbs.twimg.com/media/DeCejk4WkAMruuM.jpg   \n",
       "\n",
       "                                            text_images  \\\n",
       "0     #DontTearMeDown IRSTLIBERT . ORG DontTearMeDow...   \n",
       "1     FAILED TO GIVE NAZI SALUTE . German Football C...   \n",
       "2                                                   NaN   \n",
       "3     FAILED TO GIVE NAZI SALUTE . German Football C...   \n",
       "4     pnting n the wo \" ' t WHY to win . nbor mu t n...   \n",
       "...                                                 ...   \n",
       "6971  FAILED TO GIVE NAZI SALUTE . German Football C...   \n",
       "6972  FAILED TO GIVE NAZI SALUTE . German Football C...   \n",
       "6973  Ci ) icago Sunday Cribune INAL 17 . Capone Dem...   \n",
       "6974  White Baseball Players Kneel in the 50 ' s to ...   \n",
       "6975  White Baseball Players Kneel in the 50 ' s to ...   \n",
       "\n",
       "                                                 source            label  \\\n",
       "0     https://www.snopes.com/fact-check/liberals-dem...          mixture   \n",
       "1     https://www.snopes.com/fact-check/german-footb...  mostly-true-new   \n",
       "2     https://www.snopes.com/fact-check/emma-gonzale...            false   \n",
       "3     https://www.snopes.com/fact-check/german-footb...  mostly-true-new   \n",
       "4     https://www.snopes.com/fact-check/german-footb...  mostly-true-new   \n",
       "...                                                 ...              ...   \n",
       "6971  https://www.snopes.com/fact-check/german-footb...  mostly-true-new   \n",
       "6972  https://www.snopes.com/fact-check/german-footb...  mostly-true-new   \n",
       "6973  https://www.snopes.com/fact-check/did-al-capon...            false   \n",
       "6974  https://www.snopes.com/fact-check/baseball-pla...            false   \n",
       "6975  https://www.snopes.com/fact-check/baseball-pla...            false   \n",
       "\n",
       "      label_info available              acc_id botometer  \n",
       "0            NaN        ok          3981225735            \n",
       "1            NaN        ok          1924071992            \n",
       "2            NaN      auth           924224208            \n",
       "3            NaN      auth           170735298            \n",
       "4            NaN        ok           115563859            \n",
       "...          ...       ...                 ...       ...  \n",
       "6971         NaN        ok           550658726            \n",
       "6972         NaN        ok            91743765            \n",
       "6973         NaN   missing  881682896607600640            \n",
       "6974         NaN      auth           115748564            \n",
       "6975         NaN        ok           518227176            \n",
       "\n",
       "[6976 rows x 14 columns]"
      ]
     },
     "execution_count": 55,
     "metadata": {},
     "output_type": "execute_result"
    }
   ],
   "source": [
    "snopes_acc"
   ]
  },
  {
   "cell_type": "code",
   "execution_count": 10,
   "metadata": {},
   "outputs": [],
   "source": [
    "from tqdm import tqdm"
   ]
  },
  {
   "cell_type": "code",
   "execution_count": 6,
   "metadata": {},
   "outputs": [],
   "source": [
    "df = pd.read_csv(\"snopes_1429.csv\")\n",
    "\n"
   ]
  },
  {
   "cell_type": "code",
   "execution_count": 7,
   "metadata": {},
   "outputs": [
    {
     "data": {
      "text/html": [
       "<div>\n",
       "<style scoped>\n",
       "    .dataframe tbody tr th:only-of-type {\n",
       "        vertical-align: middle;\n",
       "    }\n",
       "\n",
       "    .dataframe tbody tr th {\n",
       "        vertical-align: top;\n",
       "    }\n",
       "\n",
       "    .dataframe thead th {\n",
       "        text-align: right;\n",
       "    }\n",
       "</style>\n",
       "<table border=\"1\" class=\"dataframe\">\n",
       "  <thead>\n",
       "    <tr style=\"text-align: right;\">\n",
       "      <th></th>\n",
       "      <th>id</th>\n",
       "      <th>original_id</th>\n",
       "      <th>tweet_text</th>\n",
       "      <th>tweet_url</th>\n",
       "      <th>claim</th>\n",
       "      <th>rating</th>\n",
       "      <th>images</th>\n",
       "      <th>text_images</th>\n",
       "      <th>source</th>\n",
       "      <th>label</th>\n",
       "      <th>label_info</th>\n",
       "      <th>available</th>\n",
       "      <th>acc_id</th>\n",
       "      <th>botometer</th>\n",
       "    </tr>\n",
       "  </thead>\n",
       "  <tbody>\n",
       "    <tr>\n",
       "      <th>0</th>\n",
       "      <td>1000037356836093953</td>\n",
       "      <td>1000023322481086466</td>\n",
       "      <td>Brave men died to keep us free. Radicals want ...</td>\n",
       "      <td>https://twitter.com/POTUS/status/1000037356836...</td>\n",
       "      <td>Liberals were offended by a World War I memori...</td>\n",
       "      <td>['https://www.snopes.com/tachyon/2018/03/ratin...</td>\n",
       "      <td>http://pbs.twimg.com/media/DeDL5a-XkAI7Hlw.jpg</td>\n",
       "      <td>#DontTearMeDown IRSTLIBERT . ORG DontTearMeDow...</td>\n",
       "      <td>https://www.snopes.com/fact-check/liberals-dem...</td>\n",
       "      <td>mixture</td>\n",
       "      <td>NaN</td>\n",
       "      <td>ok</td>\n",
       "      <td>3981225735</td>\n",
       "      <td>{'cap': {'english': 0.7759887465100499, 'unive...</td>\n",
       "    </tr>\n",
       "    <tr>\n",
       "      <th>1</th>\n",
       "      <td>1000098833798389760</td>\n",
       "      <td>1000059879682342912</td>\n",
       "      <td>“Stand for the National Anthem or be punished”...</td>\n",
       "      <td>https://twitter.com/POTUS/status/1000098833798...</td>\n",
       "      <td>A German football club was banned from playing...</td>\n",
       "      <td>['https://www.snopes.com/tachyon/2018/03/ratin...</td>\n",
       "      <td>http://pbs.twimg.com/media/DeDtKIRVAAA4kPm.jpg</td>\n",
       "      <td>FAILED TO GIVE NAZI SALUTE . German Football C...</td>\n",
       "      <td>https://www.snopes.com/fact-check/german-footb...</td>\n",
       "      <td>mostly-true-new</td>\n",
       "      <td>NaN</td>\n",
       "      <td>ok</td>\n",
       "      <td>1924071992</td>\n",
       "      <td>{'cap': {'english': 0.7759887465100499, 'unive...</td>\n",
       "    </tr>\n",
       "    <tr>\n",
       "      <th>2</th>\n",
       "      <td>1000158804795781120</td>\n",
       "      <td>1000073920760791040</td>\n",
       "      <td>@Humancipator35 @buddydusty @davidhogg111 🙌🏼 R...</td>\n",
       "      <td>https://twitter.com/POTUS/status/1000158804795...</td>\n",
       "      <td>Emma Gonz lez, a survivor of the Parkland scho...</td>\n",
       "      <td>['https://www.snopes.com/tachyon/2018/03/ratin...</td>\n",
       "      <td>http://pbs.twimg.com/media/DeD57XMV4AAUG4k.jpg</td>\n",
       "      <td>NaN</td>\n",
       "      <td>https://www.snopes.com/fact-check/emma-gonzale...</td>\n",
       "      <td>false</td>\n",
       "      <td>NaN</td>\n",
       "      <td>auth</td>\n",
       "      <td>924224208</td>\n",
       "      <td>{'cap': {'english': 0.30618807248975083, 'univ...</td>\n",
       "    </tr>\n",
       "    <tr>\n",
       "      <th>3</th>\n",
       "      <td>1000175568241872897</td>\n",
       "      <td>1000174645973315586</td>\n",
       "      <td>Just sayin'  #NFL https://t.co/70tFG5ieMC</td>\n",
       "      <td>https://twitter.com/POTUS/status/1000175568241...</td>\n",
       "      <td>A German football club was banned from playing...</td>\n",
       "      <td>['https://www.snopes.com/tachyon/2018/03/ratin...</td>\n",
       "      <td>http://pbs.twimg.com/media/DeFVdDlUwAA17qS.jpg</td>\n",
       "      <td>FAILED TO GIVE NAZI SALUTE . German Football C...</td>\n",
       "      <td>https://www.snopes.com/fact-check/german-footb...</td>\n",
       "      <td>mostly-true-new</td>\n",
       "      <td>NaN</td>\n",
       "      <td>auth</td>\n",
       "      <td>170735298</td>\n",
       "      <td>{'cap': {'english': 0.6763619064808265, 'unive...</td>\n",
       "    </tr>\n",
       "    <tr>\n",
       "      <th>4</th>\n",
       "      <td>1000438777792344067</td>\n",
       "      <td>1000191784797040640</td>\n",
       "      <td>Those who do not learn from history are doomed...</td>\n",
       "      <td>https://twitter.com/POTUS/status/1000438777792...</td>\n",
       "      <td>A German football club was banned from playing...</td>\n",
       "      <td>['https://www.snopes.com/tachyon/2018/03/ratin...</td>\n",
       "      <td>http://pbs.twimg.com/media/DeFkp5eU0AA2aLJ.jpg</td>\n",
       "      <td>pnting n the wo \" ' t WHY to win . nbor mu t n...</td>\n",
       "      <td>https://www.snopes.com/fact-check/german-footb...</td>\n",
       "      <td>mostly-true-new</td>\n",
       "      <td>NaN</td>\n",
       "      <td>ok</td>\n",
       "      <td>115563859</td>\n",
       "      <td>{'cap': {'english': 0.7668769621923945, 'unive...</td>\n",
       "    </tr>\n",
       "    <tr>\n",
       "      <th>...</th>\n",
       "      <td>...</td>\n",
       "      <td>...</td>\n",
       "      <td>...</td>\n",
       "      <td>...</td>\n",
       "      <td>...</td>\n",
       "      <td>...</td>\n",
       "      <td>...</td>\n",
       "      <td>...</td>\n",
       "      <td>...</td>\n",
       "      <td>...</td>\n",
       "      <td>...</td>\n",
       "      <td>...</td>\n",
       "      <td>...</td>\n",
       "      <td>...</td>\n",
       "    </tr>\n",
       "    <tr>\n",
       "      <th>6971</th>\n",
       "      <td>1000095067887910917</td>\n",
       "      <td>999866405687209984</td>\n",
       "      <td>History repeating itself with @realDonaldTrump...</td>\n",
       "      <td>https://twitter.com/POTUS/status/1000095067887...</td>\n",
       "      <td>A German football club was banned from playing...</td>\n",
       "      <td>['https://www.snopes.com/tachyon/2018/03/ratin...</td>\n",
       "      <td>http://pbs.twimg.com/media/DeA9KrlVwAEHtPB.jpg</td>\n",
       "      <td>FAILED TO GIVE NAZI SALUTE . German Football C...</td>\n",
       "      <td>https://www.snopes.com/fact-check/german-footb...</td>\n",
       "      <td>mostly-true-new</td>\n",
       "      <td>NaN</td>\n",
       "      <td>ok</td>\n",
       "      <td>550658726</td>\n",
       "      <td>NaN</td>\n",
       "    </tr>\n",
       "    <tr>\n",
       "      <th>6972</th>\n",
       "      <td>1000146882428096512</td>\n",
       "      <td>999903412425711616</td>\n",
       "      <td>I picked this up from someone here. Its🙄🤨🙄 wor...</td>\n",
       "      <td>https://twitter.com/POTUS/status/1000146882428...</td>\n",
       "      <td>A German football club was banned from playing...</td>\n",
       "      <td>['https://www.snopes.com/tachyon/2018/03/ratin...</td>\n",
       "      <td>http://pbs.twimg.com/media/DeBe1X5VAAI-Zhh.jpg</td>\n",
       "      <td>FAILED TO GIVE NAZI SALUTE . German Football C...</td>\n",
       "      <td>https://www.snopes.com/fact-check/german-footb...</td>\n",
       "      <td>mostly-true-new</td>\n",
       "      <td>NaN</td>\n",
       "      <td>ok</td>\n",
       "      <td>91743765</td>\n",
       "      <td>NaN</td>\n",
       "    </tr>\n",
       "    <tr>\n",
       "      <th>6973</th>\n",
       "      <td>1000018438184734720</td>\n",
       "      <td>999961946932723713</td>\n",
       "      <td>Trump is a criminal, a gangster using criminal...</td>\n",
       "      <td>https://twitter.com/POTUS/status/1000018438184...</td>\n",
       "      <td>Notorious mobster Al Capone demanded an inquir...</td>\n",
       "      <td>['https://www.snopes.com/tachyon/2018/03/ratin...</td>\n",
       "      <td>http://pbs.twimg.com/media/DeCUF2ZV4AAMm0Z.jpg</td>\n",
       "      <td>Ci ) icago Sunday Cribune INAL 17 . Capone Dem...</td>\n",
       "      <td>https://www.snopes.com/fact-check/did-al-capon...</td>\n",
       "      <td>false</td>\n",
       "      <td>NaN</td>\n",
       "      <td>missing</td>\n",
       "      <td>881682896607600640</td>\n",
       "      <td>NaN</td>\n",
       "    </tr>\n",
       "    <tr>\n",
       "      <th>6974</th>\n",
       "      <td>999992400725585920</td>\n",
       "      <td>999962442141782016</td>\n",
       "      <td>@VP @NFL @POTUS The only thing that’s #Winning...</td>\n",
       "      <td>https://twitter.com/POTUS/status/9999924007255...</td>\n",
       "      <td>Baseball players in the 1950s were caught on c...</td>\n",
       "      <td>['https://www.snopes.com/tachyon/2018/03/ratin...</td>\n",
       "      <td>http://pbs.twimg.com/media/DeCUiW3VwAAQbyx.jpg</td>\n",
       "      <td>White Baseball Players Kneel in the 50 ' s to ...</td>\n",
       "      <td>https://www.snopes.com/fact-check/baseball-pla...</td>\n",
       "      <td>false</td>\n",
       "      <td>NaN</td>\n",
       "      <td>auth</td>\n",
       "      <td>115748564</td>\n",
       "      <td>NaN</td>\n",
       "    </tr>\n",
       "    <tr>\n",
       "      <th>6975</th>\n",
       "      <td>1000035228679852032</td>\n",
       "      <td>999973815655518213</td>\n",
       "      <td>@mjfree Sports has been used as a means of pro...</td>\n",
       "      <td>https://twitter.com/POTUS/status/1000035228679...</td>\n",
       "      <td>Baseball players in the 1950s were caught on c...</td>\n",
       "      <td>['https://www.snopes.com/tachyon/2018/03/ratin...</td>\n",
       "      <td>http://pbs.twimg.com/media/DeCejk4WkAMruuM.jpg</td>\n",
       "      <td>White Baseball Players Kneel in the 50 ' s to ...</td>\n",
       "      <td>https://www.snopes.com/fact-check/baseball-pla...</td>\n",
       "      <td>false</td>\n",
       "      <td>NaN</td>\n",
       "      <td>ok</td>\n",
       "      <td>518227176</td>\n",
       "      <td>NaN</td>\n",
       "    </tr>\n",
       "  </tbody>\n",
       "</table>\n",
       "<p>6976 rows × 14 columns</p>\n",
       "</div>"
      ],
      "text/plain": [
       "                       id          original_id  \\\n",
       "0     1000037356836093953  1000023322481086466   \n",
       "1     1000098833798389760  1000059879682342912   \n",
       "2     1000158804795781120  1000073920760791040   \n",
       "3     1000175568241872897  1000174645973315586   \n",
       "4     1000438777792344067  1000191784797040640   \n",
       "...                   ...                  ...   \n",
       "6971  1000095067887910917   999866405687209984   \n",
       "6972  1000146882428096512   999903412425711616   \n",
       "6973  1000018438184734720   999961946932723713   \n",
       "6974   999992400725585920   999962442141782016   \n",
       "6975  1000035228679852032   999973815655518213   \n",
       "\n",
       "                                             tweet_text  \\\n",
       "0     Brave men died to keep us free. Radicals want ...   \n",
       "1     “Stand for the National Anthem or be punished”...   \n",
       "2     @Humancipator35 @buddydusty @davidhogg111 🙌🏼 R...   \n",
       "3             Just sayin'  #NFL https://t.co/70tFG5ieMC   \n",
       "4     Those who do not learn from history are doomed...   \n",
       "...                                                 ...   \n",
       "6971  History repeating itself with @realDonaldTrump...   \n",
       "6972  I picked this up from someone here. Its🙄🤨🙄 wor...   \n",
       "6973  Trump is a criminal, a gangster using criminal...   \n",
       "6974  @VP @NFL @POTUS The only thing that’s #Winning...   \n",
       "6975  @mjfree Sports has been used as a means of pro...   \n",
       "\n",
       "                                              tweet_url  \\\n",
       "0     https://twitter.com/POTUS/status/1000037356836...   \n",
       "1     https://twitter.com/POTUS/status/1000098833798...   \n",
       "2     https://twitter.com/POTUS/status/1000158804795...   \n",
       "3     https://twitter.com/POTUS/status/1000175568241...   \n",
       "4     https://twitter.com/POTUS/status/1000438777792...   \n",
       "...                                                 ...   \n",
       "6971  https://twitter.com/POTUS/status/1000095067887...   \n",
       "6972  https://twitter.com/POTUS/status/1000146882428...   \n",
       "6973  https://twitter.com/POTUS/status/1000018438184...   \n",
       "6974  https://twitter.com/POTUS/status/9999924007255...   \n",
       "6975  https://twitter.com/POTUS/status/1000035228679...   \n",
       "\n",
       "                                                  claim  \\\n",
       "0     Liberals were offended by a World War I memori...   \n",
       "1     A German football club was banned from playing...   \n",
       "2     Emma Gonz lez, a survivor of the Parkland scho...   \n",
       "3     A German football club was banned from playing...   \n",
       "4     A German football club was banned from playing...   \n",
       "...                                                 ...   \n",
       "6971  A German football club was banned from playing...   \n",
       "6972  A German football club was banned from playing...   \n",
       "6973  Notorious mobster Al Capone demanded an inquir...   \n",
       "6974  Baseball players in the 1950s were caught on c...   \n",
       "6975  Baseball players in the 1950s were caught on c...   \n",
       "\n",
       "                                                 rating  \\\n",
       "0     ['https://www.snopes.com/tachyon/2018/03/ratin...   \n",
       "1     ['https://www.snopes.com/tachyon/2018/03/ratin...   \n",
       "2     ['https://www.snopes.com/tachyon/2018/03/ratin...   \n",
       "3     ['https://www.snopes.com/tachyon/2018/03/ratin...   \n",
       "4     ['https://www.snopes.com/tachyon/2018/03/ratin...   \n",
       "...                                                 ...   \n",
       "6971  ['https://www.snopes.com/tachyon/2018/03/ratin...   \n",
       "6972  ['https://www.snopes.com/tachyon/2018/03/ratin...   \n",
       "6973  ['https://www.snopes.com/tachyon/2018/03/ratin...   \n",
       "6974  ['https://www.snopes.com/tachyon/2018/03/ratin...   \n",
       "6975  ['https://www.snopes.com/tachyon/2018/03/ratin...   \n",
       "\n",
       "                                              images  \\\n",
       "0     http://pbs.twimg.com/media/DeDL5a-XkAI7Hlw.jpg   \n",
       "1     http://pbs.twimg.com/media/DeDtKIRVAAA4kPm.jpg   \n",
       "2     http://pbs.twimg.com/media/DeD57XMV4AAUG4k.jpg   \n",
       "3     http://pbs.twimg.com/media/DeFVdDlUwAA17qS.jpg   \n",
       "4     http://pbs.twimg.com/media/DeFkp5eU0AA2aLJ.jpg   \n",
       "...                                              ...   \n",
       "6971  http://pbs.twimg.com/media/DeA9KrlVwAEHtPB.jpg   \n",
       "6972  http://pbs.twimg.com/media/DeBe1X5VAAI-Zhh.jpg   \n",
       "6973  http://pbs.twimg.com/media/DeCUF2ZV4AAMm0Z.jpg   \n",
       "6974  http://pbs.twimg.com/media/DeCUiW3VwAAQbyx.jpg   \n",
       "6975  http://pbs.twimg.com/media/DeCejk4WkAMruuM.jpg   \n",
       "\n",
       "                                            text_images  \\\n",
       "0     #DontTearMeDown IRSTLIBERT . ORG DontTearMeDow...   \n",
       "1     FAILED TO GIVE NAZI SALUTE . German Football C...   \n",
       "2                                                   NaN   \n",
       "3     FAILED TO GIVE NAZI SALUTE . German Football C...   \n",
       "4     pnting n the wo \" ' t WHY to win . nbor mu t n...   \n",
       "...                                                 ...   \n",
       "6971  FAILED TO GIVE NAZI SALUTE . German Football C...   \n",
       "6972  FAILED TO GIVE NAZI SALUTE . German Football C...   \n",
       "6973  Ci ) icago Sunday Cribune INAL 17 . Capone Dem...   \n",
       "6974  White Baseball Players Kneel in the 50 ' s to ...   \n",
       "6975  White Baseball Players Kneel in the 50 ' s to ...   \n",
       "\n",
       "                                                 source            label  \\\n",
       "0     https://www.snopes.com/fact-check/liberals-dem...          mixture   \n",
       "1     https://www.snopes.com/fact-check/german-footb...  mostly-true-new   \n",
       "2     https://www.snopes.com/fact-check/emma-gonzale...            false   \n",
       "3     https://www.snopes.com/fact-check/german-footb...  mostly-true-new   \n",
       "4     https://www.snopes.com/fact-check/german-footb...  mostly-true-new   \n",
       "...                                                 ...              ...   \n",
       "6971  https://www.snopes.com/fact-check/german-footb...  mostly-true-new   \n",
       "6972  https://www.snopes.com/fact-check/german-footb...  mostly-true-new   \n",
       "6973  https://www.snopes.com/fact-check/did-al-capon...            false   \n",
       "6974  https://www.snopes.com/fact-check/baseball-pla...            false   \n",
       "6975  https://www.snopes.com/fact-check/baseball-pla...            false   \n",
       "\n",
       "      label_info available              acc_id  \\\n",
       "0            NaN        ok          3981225735   \n",
       "1            NaN        ok          1924071992   \n",
       "2            NaN      auth           924224208   \n",
       "3            NaN      auth           170735298   \n",
       "4            NaN        ok           115563859   \n",
       "...          ...       ...                 ...   \n",
       "6971         NaN        ok           550658726   \n",
       "6972         NaN        ok            91743765   \n",
       "6973         NaN   missing  881682896607600640   \n",
       "6974         NaN      auth           115748564   \n",
       "6975         NaN        ok           518227176   \n",
       "\n",
       "                                              botometer  \n",
       "0     {'cap': {'english': 0.7759887465100499, 'unive...  \n",
       "1     {'cap': {'english': 0.7759887465100499, 'unive...  \n",
       "2     {'cap': {'english': 0.30618807248975083, 'univ...  \n",
       "3     {'cap': {'english': 0.6763619064808265, 'unive...  \n",
       "4     {'cap': {'english': 0.7668769621923945, 'unive...  \n",
       "...                                                 ...  \n",
       "6971                                                NaN  \n",
       "6972                                                NaN  \n",
       "6973                                                NaN  \n",
       "6974                                                NaN  \n",
       "6975                                                NaN  \n",
       "\n",
       "[6976 rows x 14 columns]"
      ]
     },
     "execution_count": 7,
     "metadata": {},
     "output_type": "execute_result"
    }
   ],
   "source": [
    "df"
   ]
  },
  {
   "cell_type": "code",
   "execution_count": 4,
   "metadata": {},
   "outputs": [
    {
     "name": "stdout",
     "output_type": "stream",
     "text": [
      "Collecting tweepy==4.0\n",
      "  Using cached tweepy-4.0.0-py2.py3-none-any.whl (60 kB)\n",
      "Requirement already satisfied: requests<3,>=2.11.1 in /home/mihail/.local/lib/python3.8/site-packages (from tweepy==4.0) (2.27.1)\n",
      "Requirement already satisfied: requests-oauthlib<2,>=1.0.0 in /home/mihail/.local/lib/python3.8/site-packages (from tweepy==4.0) (1.3.1)\n",
      "Requirement already satisfied: urllib3<1.27,>=1.21.1 in /usr/lib/python3/dist-packages (from requests<3,>=2.11.1->tweepy==4.0) (1.25.8)\n",
      "Requirement already satisfied: certifi>=2017.4.17 in /usr/lib/python3/dist-packages (from requests<3,>=2.11.1->tweepy==4.0) (2019.11.28)\n",
      "Requirement already satisfied: idna<4,>=2.5; python_version >= \"3\" in /usr/lib/python3/dist-packages (from requests<3,>=2.11.1->tweepy==4.0) (2.8)\n",
      "Requirement already satisfied: charset-normalizer~=2.0.0; python_version >= \"3\" in /home/mihail/.local/lib/python3.8/site-packages (from requests<3,>=2.11.1->tweepy==4.0) (2.0.12)\n",
      "Requirement already satisfied: oauthlib>=3.0.0 in /home/mihail/.local/lib/python3.8/site-packages (from requests-oauthlib<2,>=1.0.0->tweepy==4.0) (3.2.0)\n",
      "\u001b[31mERROR: botometer 1.6.1 has requirement tweepy<4,>=3.5.0, but you'll have tweepy 4.0.0 which is incompatible.\u001b[0m\n",
      "Installing collected packages: tweepy\n",
      "  Attempting uninstall: tweepy\n",
      "    Found existing installation: tweepy 3.6.0\n",
      "    Uninstalling tweepy-3.6.0:\n",
      "      Successfully uninstalled tweepy-3.6.0\n",
      "Successfully installed tweepy-4.0.0\n",
      "Note: you may need to restart the kernel to use updated packages.\n"
     ]
    }
   ],
   "source": [
    "pip install tweepy==4.0"
   ]
  },
  {
   "cell_type": "code",
   "execution_count": 8,
   "metadata": {},
   "outputs": [
    {
     "name": "stdout",
     "output_type": "stream",
     "text": [
      "Collecting botometer\n",
      "  Downloading botometer-1.6.1-py3-none-any.whl (4.8 kB)\n",
      "Collecting tweepy<4,>=3.5.0\n",
      "  Downloading tweepy-3.10.0-py2.py3-none-any.whl (30 kB)\n",
      "Requirement already satisfied: requests in /home/mihail/anaconda3/lib/python3.9/site-packages (from botometer) (2.26.0)\n",
      "Requirement already satisfied: six>=1.10.0 in /home/mihail/anaconda3/lib/python3.9/site-packages (from tweepy<4,>=3.5.0->botometer) (1.16.0)\n",
      "Collecting requests-oauthlib>=0.7.0\n",
      "  Downloading requests_oauthlib-1.3.1-py2.py3-none-any.whl (23 kB)\n",
      "Collecting oauthlib>=3.0.0\n",
      "  Downloading oauthlib-3.2.0-py3-none-any.whl (151 kB)\n",
      "\u001b[K     |████████████████████████████████| 151 kB 7.5 MB/s eta 0:00:01\n",
      "\u001b[?25hRequirement already satisfied: certifi>=2017.4.17 in /home/mihail/anaconda3/lib/python3.9/site-packages (from requests->botometer) (2021.10.8)\n",
      "Requirement already satisfied: idna<4,>=2.5 in /home/mihail/anaconda3/lib/python3.9/site-packages (from requests->botometer) (3.2)\n",
      "Requirement already satisfied: charset-normalizer~=2.0.0 in /home/mihail/anaconda3/lib/python3.9/site-packages (from requests->botometer) (2.0.4)\n",
      "Requirement already satisfied: urllib3<1.27,>=1.21.1 in /home/mihail/anaconda3/lib/python3.9/site-packages (from requests->botometer) (1.26.7)\n",
      "Requirement already satisfied: PySocks!=1.5.7,>=1.5.6 in /home/mihail/anaconda3/lib/python3.9/site-packages (from requests->botometer) (1.7.1)\n",
      "Installing collected packages: oauthlib, requests-oauthlib, tweepy, botometer\n",
      "Successfully installed botometer-1.6.1 oauthlib-3.2.0 requests-oauthlib-1.3.1 tweepy-3.10.0\n",
      "Note: you may need to restart the kernel to use updated packages.\n"
     ]
    }
   ],
   "source": [
    "pip install botometer"
   ]
  },
  {
   "cell_type": "code",
   "execution_count": 18,
   "metadata": {},
   "outputs": [
    {
     "name": "stderr",
     "output_type": "stream",
     "text": [
      "0it [00:00, ?it/s]"
     ]
    },
    {
     "name": "stdout",
     "output_type": "stream",
     "text": [
      "2796\n"
     ]
    },
    {
     "name": "stderr",
     "output_type": "stream",
     "text": [
      "2797it [00:04, 682.05it/s]"
     ]
    },
    {
     "name": "stdout",
     "output_type": "stream",
     "text": [
      "2797\n",
      "2798\n",
      "2799\n",
      "2800\n",
      "Failed on account: 739567626511388672\n",
      "[{'code': 34, 'message': 'Sorry, that page does not exist.'}]\n",
      "2801\n"
     ]
    },
    {
     "name": "stderr",
     "output_type": "stream",
     "text": [
      "2802it [00:18, 111.42it/s]"
     ]
    },
    {
     "name": "stdout",
     "output_type": "stream",
     "text": [
      "2802\n"
     ]
    },
    {
     "name": "stderr",
     "output_type": "stream",
     "text": [
      "2803it [00:22, 83.70it/s] "
     ]
    },
    {
     "name": "stdout",
     "output_type": "stream",
     "text": [
      "2803\n",
      "2804\n",
      "2805\n",
      "2806\n"
     ]
    },
    {
     "name": "stderr",
     "output_type": "stream",
     "text": [
      "2807it [00:38, 35.85it/s]"
     ]
    },
    {
     "name": "stdout",
     "output_type": "stream",
     "text": [
      "2807\n"
     ]
    },
    {
     "name": "stderr",
     "output_type": "stream",
     "text": [
      "2808it [00:41, 30.31it/s]"
     ]
    },
    {
     "name": "stdout",
     "output_type": "stream",
     "text": [
      "2808\n",
      "2809\n",
      "2810\n",
      "2811\n"
     ]
    },
    {
     "name": "stderr",
     "output_type": "stream",
     "text": [
      "2812it [01:00, 13.87it/s]"
     ]
    },
    {
     "name": "stdout",
     "output_type": "stream",
     "text": [
      "2812\n"
     ]
    },
    {
     "name": "stderr",
     "output_type": "stream",
     "text": [
      "2813it [01:04, 11.85it/s]"
     ]
    },
    {
     "name": "stdout",
     "output_type": "stream",
     "text": [
      "2813\n",
      "2814\n",
      "2815\n"
     ]
    },
    {
     "name": "stderr",
     "output_type": "stream",
     "text": [
      "2816it [01:19,  6.99it/s]"
     ]
    },
    {
     "name": "stdout",
     "output_type": "stream",
     "text": [
      "2816\n"
     ]
    },
    {
     "name": "stderr",
     "output_type": "stream",
     "text": [
      "2817it [01:24,  5.77it/s]"
     ]
    },
    {
     "name": "stdout",
     "output_type": "stream",
     "text": [
      "2817\n",
      "2818\n",
      "2819\n"
     ]
    },
    {
     "name": "stderr",
     "output_type": "stream",
     "text": [
      "2820it [01:38,  3.46it/s]"
     ]
    },
    {
     "name": "stdout",
     "output_type": "stream",
     "text": [
      "2820\n"
     ]
    },
    {
     "name": "stderr",
     "output_type": "stream",
     "text": [
      "2821it [01:42,  2.99it/s]"
     ]
    },
    {
     "name": "stdout",
     "output_type": "stream",
     "text": [
      "2821\n",
      "2822\n",
      "2823\n",
      "2824\n"
     ]
    },
    {
     "name": "stderr",
     "output_type": "stream",
     "text": [
      "2825it [01:56,  1.89it/s]"
     ]
    },
    {
     "name": "stdout",
     "output_type": "stream",
     "text": [
      "Failed on account: 723167125272027136\n",
      "[{'code': 34, 'message': 'Sorry, that page does not exist.'}]\n",
      "2825\n"
     ]
    },
    {
     "name": "stderr",
     "output_type": "stream",
     "text": [
      "2826it [01:56,  1.91it/s]"
     ]
    },
    {
     "name": "stdout",
     "output_type": "stream",
     "text": [
      "Failed on account: 786292158756229120\n",
      "[{'code': 34, 'message': 'Sorry, that page does not exist.'}]\n",
      "2826\n",
      "2827\n",
      "2828\n"
     ]
    },
    {
     "name": "stderr",
     "output_type": "stream",
     "text": [
      "2829it [02:05,  1.37it/s]"
     ]
    },
    {
     "name": "stdout",
     "output_type": "stream",
     "text": [
      "Failed on account: 723167125272027136\n",
      "[{'code': 34, 'message': 'Sorry, that page does not exist.'}]\n",
      "2829\n",
      "2830\n"
     ]
    },
    {
     "name": "stderr",
     "output_type": "stream",
     "text": [
      "2831it [02:13,  1.02it/s]"
     ]
    },
    {
     "name": "stdout",
     "output_type": "stream",
     "text": [
      "2831\n",
      "2832\n"
     ]
    },
    {
     "name": "stderr",
     "output_type": "stream",
     "text": [
      "2833it [02:26,  1.49s/it]"
     ]
    },
    {
     "name": "stdout",
     "output_type": "stream",
     "text": [
      "2833\n"
     ]
    },
    {
     "name": "stderr",
     "output_type": "stream",
     "text": [
      "2834it [02:30,  1.66s/it]"
     ]
    },
    {
     "name": "stdout",
     "output_type": "stream",
     "text": [
      "2834\n"
     ]
    },
    {
     "name": "stderr",
     "output_type": "stream",
     "text": [
      "2835it [02:33,  1.81s/it]"
     ]
    },
    {
     "name": "stdout",
     "output_type": "stream",
     "text": [
      "2835\n"
     ]
    },
    {
     "name": "stderr",
     "output_type": "stream",
     "text": [
      "2836it [02:38,  2.10s/it]"
     ]
    },
    {
     "name": "stdout",
     "output_type": "stream",
     "text": [
      "2836\n"
     ]
    },
    {
     "name": "stderr",
     "output_type": "stream",
     "text": [
      "2837it [02:44,  2.60s/it]"
     ]
    },
    {
     "name": "stdout",
     "output_type": "stream",
     "text": [
      "2837\n"
     ]
    },
    {
     "name": "stderr",
     "output_type": "stream",
     "text": [
      "2838it [02:54,  3.82s/it]"
     ]
    },
    {
     "name": "stdout",
     "output_type": "stream",
     "text": [
      "2838\n"
     ]
    },
    {
     "name": "stderr",
     "output_type": "stream",
     "text": [
      "2839it [03:04,  5.01s/it]"
     ]
    },
    {
     "name": "stdout",
     "output_type": "stream",
     "text": [
      "2839\n"
     ]
    },
    {
     "name": "stderr",
     "output_type": "stream",
     "text": [
      "2840it [03:11,  5.47s/it]"
     ]
    },
    {
     "name": "stdout",
     "output_type": "stream",
     "text": [
      "2840\n"
     ]
    },
    {
     "name": "stderr",
     "output_type": "stream",
     "text": [
      "2841it [03:16,  5.23s/it]"
     ]
    },
    {
     "name": "stdout",
     "output_type": "stream",
     "text": [
      "2841\n"
     ]
    },
    {
     "name": "stderr",
     "output_type": "stream",
     "text": [
      "2842it [03:20,  5.07s/it]"
     ]
    },
    {
     "name": "stdout",
     "output_type": "stream",
     "text": [
      "2842\n"
     ]
    },
    {
     "name": "stderr",
     "output_type": "stream",
     "text": [
      "2843it [03:24,  4.71s/it]"
     ]
    },
    {
     "name": "stdout",
     "output_type": "stream",
     "text": [
      "2843\n"
     ]
    },
    {
     "name": "stderr",
     "output_type": "stream",
     "text": [
      "2844it [03:29,  4.85s/it]"
     ]
    },
    {
     "name": "stdout",
     "output_type": "stream",
     "text": [
      "2844\n"
     ]
    },
    {
     "name": "stderr",
     "output_type": "stream",
     "text": [
      "2845it [03:42,  7.24s/it]"
     ]
    },
    {
     "name": "stdout",
     "output_type": "stream",
     "text": [
      "2845\n"
     ]
    },
    {
     "name": "stderr",
     "output_type": "stream",
     "text": [
      "2846it [03:46,  6.27s/it]"
     ]
    },
    {
     "name": "stdout",
     "output_type": "stream",
     "text": [
      "2846\n"
     ]
    },
    {
     "name": "stderr",
     "output_type": "stream",
     "text": [
      "2847it [03:53,  6.28s/it]"
     ]
    },
    {
     "name": "stdout",
     "output_type": "stream",
     "text": [
      "2847\n"
     ]
    },
    {
     "name": "stderr",
     "output_type": "stream",
     "text": [
      "2848it [03:57,  5.76s/it]"
     ]
    },
    {
     "name": "stdout",
     "output_type": "stream",
     "text": [
      "2848\n"
     ]
    },
    {
     "name": "stderr",
     "output_type": "stream",
     "text": [
      "2849it [04:05,  6.39s/it]"
     ]
    },
    {
     "name": "stdout",
     "output_type": "stream",
     "text": [
      "2849\n"
     ]
    },
    {
     "name": "stderr",
     "output_type": "stream",
     "text": [
      "2850it [04:10,  5.93s/it]"
     ]
    },
    {
     "name": "stdout",
     "output_type": "stream",
     "text": [
      "2850\n"
     ]
    },
    {
     "name": "stderr",
     "output_type": "stream",
     "text": [
      "2851it [04:14,  5.31s/it]"
     ]
    },
    {
     "name": "stdout",
     "output_type": "stream",
     "text": [
      "2851\n"
     ]
    },
    {
     "name": "stderr",
     "output_type": "stream",
     "text": [
      "2852it [04:28,  8.13s/it]"
     ]
    },
    {
     "name": "stdout",
     "output_type": "stream",
     "text": [
      "2852\n"
     ]
    },
    {
     "name": "stderr",
     "output_type": "stream",
     "text": [
      "2853it [04:32,  6.74s/it]"
     ]
    },
    {
     "name": "stdout",
     "output_type": "stream",
     "text": [
      "2853\n"
     ]
    },
    {
     "name": "stderr",
     "output_type": "stream",
     "text": [
      "2854it [04:35,  5.79s/it]"
     ]
    },
    {
     "name": "stdout",
     "output_type": "stream",
     "text": [
      "2854\n"
     ]
    },
    {
     "name": "stderr",
     "output_type": "stream",
     "text": [
      "2855it [04:39,  5.10s/it]"
     ]
    },
    {
     "name": "stdout",
     "output_type": "stream",
     "text": [
      "2855\n"
     ]
    },
    {
     "name": "stderr",
     "output_type": "stream",
     "text": [
      "2856it [04:43,  4.68s/it]"
     ]
    },
    {
     "name": "stdout",
     "output_type": "stream",
     "text": [
      "2856\n"
     ]
    },
    {
     "name": "stderr",
     "output_type": "stream",
     "text": [
      "2857it [04:46,  4.34s/it]"
     ]
    },
    {
     "name": "stdout",
     "output_type": "stream",
     "text": [
      "2857\n"
     ]
    },
    {
     "name": "stderr",
     "output_type": "stream",
     "text": [
      "2858it [04:50,  4.06s/it]"
     ]
    },
    {
     "name": "stdout",
     "output_type": "stream",
     "text": [
      "2858\n"
     ]
    },
    {
     "name": "stderr",
     "output_type": "stream",
     "text": [
      "2859it [04:52,  3.68s/it]"
     ]
    },
    {
     "name": "stdout",
     "output_type": "stream",
     "text": [
      "2859\n"
     ]
    },
    {
     "name": "stderr",
     "output_type": "stream",
     "text": [
      "2860it [04:56,  3.65s/it]"
     ]
    },
    {
     "name": "stdout",
     "output_type": "stream",
     "text": [
      "2860\n"
     ]
    },
    {
     "name": "stderr",
     "output_type": "stream",
     "text": [
      "2861it [04:59,  3.60s/it]"
     ]
    },
    {
     "name": "stdout",
     "output_type": "stream",
     "text": [
      "2861\n"
     ]
    },
    {
     "name": "stderr",
     "output_type": "stream",
     "text": [
      "2862it [05:03,  3.66s/it]"
     ]
    },
    {
     "name": "stdout",
     "output_type": "stream",
     "text": [
      "2862\n"
     ]
    },
    {
     "name": "stderr",
     "output_type": "stream",
     "text": [
      "2863it [05:03,  2.64s/it]"
     ]
    },
    {
     "name": "stdout",
     "output_type": "stream",
     "text": [
      "Failed on account: 835717584037216256\n",
      "[{'code': 34, 'message': 'Sorry, that page does not exist.'}]\n",
      "2863\n"
     ]
    },
    {
     "name": "stderr",
     "output_type": "stream",
     "text": [
      "2864it [05:08,  3.09s/it]"
     ]
    },
    {
     "name": "stdout",
     "output_type": "stream",
     "text": [
      "2864\n"
     ]
    },
    {
     "name": "stderr",
     "output_type": "stream",
     "text": [
      "2865it [05:12,  3.42s/it]"
     ]
    },
    {
     "name": "stdout",
     "output_type": "stream",
     "text": [
      "2865\n"
     ]
    },
    {
     "name": "stderr",
     "output_type": "stream",
     "text": [
      "2866it [05:17,  3.84s/it]"
     ]
    },
    {
     "name": "stdout",
     "output_type": "stream",
     "text": [
      "2866\n"
     ]
    },
    {
     "name": "stderr",
     "output_type": "stream",
     "text": [
      "2867it [05:20,  3.82s/it]"
     ]
    },
    {
     "name": "stdout",
     "output_type": "stream",
     "text": [
      "2867\n"
     ]
    },
    {
     "name": "stderr",
     "output_type": "stream",
     "text": [
      "2868it [05:25,  3.97s/it]"
     ]
    },
    {
     "name": "stdout",
     "output_type": "stream",
     "text": [
      "2868\n"
     ]
    },
    {
     "name": "stderr",
     "output_type": "stream",
     "text": [
      "2869it [05:30,  4.25s/it]"
     ]
    },
    {
     "name": "stdout",
     "output_type": "stream",
     "text": [
      "2869\n"
     ]
    },
    {
     "name": "stderr",
     "output_type": "stream",
     "text": [
      "2870it [05:33,  4.02s/it]"
     ]
    },
    {
     "name": "stdout",
     "output_type": "stream",
     "text": [
      "2870\n"
     ]
    },
    {
     "name": "stderr",
     "output_type": "stream",
     "text": [
      "2871it [05:37,  3.95s/it]"
     ]
    },
    {
     "name": "stdout",
     "output_type": "stream",
     "text": [
      "2871\n"
     ]
    },
    {
     "name": "stderr",
     "output_type": "stream",
     "text": [
      "2872it [05:42,  4.18s/it]"
     ]
    },
    {
     "name": "stdout",
     "output_type": "stream",
     "text": [
      "2872\n"
     ]
    },
    {
     "name": "stderr",
     "output_type": "stream",
     "text": [
      "2873it [05:48,  4.74s/it]"
     ]
    },
    {
     "name": "stdout",
     "output_type": "stream",
     "text": [
      "2873\n"
     ]
    },
    {
     "name": "stderr",
     "output_type": "stream",
     "text": [
      "2874it [05:53,  4.88s/it]"
     ]
    },
    {
     "name": "stdout",
     "output_type": "stream",
     "text": [
      "2874\n"
     ]
    },
    {
     "name": "stderr",
     "output_type": "stream",
     "text": [
      "2875it [05:56,  4.42s/it]"
     ]
    },
    {
     "name": "stdout",
     "output_type": "stream",
     "text": [
      "2875\n"
     ]
    },
    {
     "name": "stderr",
     "output_type": "stream",
     "text": [
      "2876it [05:59,  4.02s/it]"
     ]
    },
    {
     "name": "stdout",
     "output_type": "stream",
     "text": [
      "2876\n"
     ]
    },
    {
     "name": "stderr",
     "output_type": "stream",
     "text": [
      "2877it [06:04,  4.35s/it]"
     ]
    },
    {
     "name": "stdout",
     "output_type": "stream",
     "text": [
      "2877\n"
     ]
    },
    {
     "name": "stderr",
     "output_type": "stream",
     "text": [
      "2878it [06:09,  4.49s/it]"
     ]
    },
    {
     "name": "stdout",
     "output_type": "stream",
     "text": [
      "2878\n"
     ]
    },
    {
     "name": "stderr",
     "output_type": "stream",
     "text": [
      "2879it [06:14,  4.50s/it]"
     ]
    },
    {
     "name": "stdout",
     "output_type": "stream",
     "text": [
      "2879\n"
     ]
    },
    {
     "name": "stderr",
     "output_type": "stream",
     "text": [
      "2880it [06:17,  4.25s/it]"
     ]
    },
    {
     "name": "stdout",
     "output_type": "stream",
     "text": [
      "2880\n"
     ]
    },
    {
     "name": "stderr",
     "output_type": "stream",
     "text": [
      "2881it [06:22,  4.35s/it]"
     ]
    },
    {
     "name": "stdout",
     "output_type": "stream",
     "text": [
      "2881\n"
     ]
    },
    {
     "name": "stderr",
     "output_type": "stream",
     "text": [
      "2882it [06:27,  4.58s/it]"
     ]
    },
    {
     "name": "stdout",
     "output_type": "stream",
     "text": [
      "2882\n"
     ]
    },
    {
     "name": "stderr",
     "output_type": "stream",
     "text": [
      "2883it [06:32,  4.68s/it]"
     ]
    },
    {
     "name": "stdout",
     "output_type": "stream",
     "text": [
      "2883\n"
     ]
    },
    {
     "name": "stderr",
     "output_type": "stream",
     "text": [
      "2884it [06:36,  4.43s/it]"
     ]
    },
    {
     "name": "stdout",
     "output_type": "stream",
     "text": [
      "2884\n"
     ]
    },
    {
     "name": "stderr",
     "output_type": "stream",
     "text": [
      "2885it [06:40,  4.30s/it]"
     ]
    },
    {
     "name": "stdout",
     "output_type": "stream",
     "text": [
      "2885\n"
     ]
    },
    {
     "name": "stderr",
     "output_type": "stream",
     "text": [
      "2886it [06:43,  4.04s/it]"
     ]
    },
    {
     "name": "stdout",
     "output_type": "stream",
     "text": [
      "2886\n"
     ]
    },
    {
     "name": "stderr",
     "output_type": "stream",
     "text": [
      "2887it [06:49,  4.43s/it]"
     ]
    },
    {
     "name": "stdout",
     "output_type": "stream",
     "text": [
      "2887\n"
     ]
    },
    {
     "name": "stderr",
     "output_type": "stream",
     "text": [
      "2888it [06:55,  4.99s/it]"
     ]
    },
    {
     "name": "stdout",
     "output_type": "stream",
     "text": [
      "2888\n"
     ]
    },
    {
     "name": "stderr",
     "output_type": "stream",
     "text": [
      "2889it [06:55,  3.65s/it]"
     ]
    },
    {
     "name": "stdout",
     "output_type": "stream",
     "text": [
      "Failed on account: 730344214056284160\n",
      "[{'code': 34, 'message': 'Sorry, that page does not exist.'}]\n",
      "2889\n"
     ]
    },
    {
     "name": "stderr",
     "output_type": "stream",
     "text": [
      "2890it [07:01,  4.07s/it]"
     ]
    },
    {
     "name": "stdout",
     "output_type": "stream",
     "text": [
      "2890\n"
     ]
    },
    {
     "name": "stderr",
     "output_type": "stream",
     "text": [
      "2891it [07:05,  4.24s/it]"
     ]
    },
    {
     "name": "stdout",
     "output_type": "stream",
     "text": [
      "2891\n"
     ]
    },
    {
     "name": "stderr",
     "output_type": "stream",
     "text": [
      "2892it [07:09,  4.15s/it]"
     ]
    },
    {
     "name": "stdout",
     "output_type": "stream",
     "text": [
      "2892\n"
     ]
    },
    {
     "name": "stderr",
     "output_type": "stream",
     "text": [
      "2893it [07:15,  4.68s/it]"
     ]
    },
    {
     "name": "stdout",
     "output_type": "stream",
     "text": [
      "2893\n"
     ]
    },
    {
     "name": "stderr",
     "output_type": "stream",
     "text": [
      "2894it [07:19,  4.53s/it]"
     ]
    },
    {
     "name": "stdout",
     "output_type": "stream",
     "text": [
      "2894\n"
     ]
    },
    {
     "name": "stderr",
     "output_type": "stream",
     "text": [
      "2895it [07:22,  4.12s/it]"
     ]
    },
    {
     "name": "stdout",
     "output_type": "stream",
     "text": [
      "2895\n"
     ]
    },
    {
     "name": "stderr",
     "output_type": "stream",
     "text": [
      "2896it [07:29,  4.92s/it]"
     ]
    },
    {
     "name": "stdout",
     "output_type": "stream",
     "text": [
      "2896\n"
     ]
    },
    {
     "name": "stderr",
     "output_type": "stream",
     "text": [
      "2897it [07:29,  3.53s/it]"
     ]
    },
    {
     "name": "stdout",
     "output_type": "stream",
     "text": [
      "Failed on account: 823899195295801344\n",
      "[{'code': 34, 'message': 'Sorry, that page does not exist.'}]\n",
      "2897\n"
     ]
    },
    {
     "name": "stderr",
     "output_type": "stream",
     "text": [
      "2898it [07:33,  3.61s/it]"
     ]
    },
    {
     "name": "stdout",
     "output_type": "stream",
     "text": [
      "2898\n"
     ]
    },
    {
     "name": "stderr",
     "output_type": "stream",
     "text": [
      "2899it [07:37,  3.69s/it]"
     ]
    },
    {
     "name": "stdout",
     "output_type": "stream",
     "text": [
      "2899\n"
     ]
    },
    {
     "name": "stderr",
     "output_type": "stream",
     "text": [
      "2900it [07:41,  3.85s/it]"
     ]
    },
    {
     "name": "stdout",
     "output_type": "stream",
     "text": [
      "2900\n"
     ]
    },
    {
     "name": "stderr",
     "output_type": "stream",
     "text": [
      "2901it [07:46,  4.13s/it]"
     ]
    },
    {
     "name": "stdout",
     "output_type": "stream",
     "text": [
      "2901\n"
     ]
    },
    {
     "name": "stderr",
     "output_type": "stream",
     "text": [
      "2902it [07:51,  4.46s/it]"
     ]
    },
    {
     "name": "stdout",
     "output_type": "stream",
     "text": [
      "2902\n"
     ]
    },
    {
     "name": "stderr",
     "output_type": "stream",
     "text": [
      "2903it [07:55,  4.32s/it]"
     ]
    },
    {
     "name": "stdout",
     "output_type": "stream",
     "text": [
      "2903\n"
     ]
    },
    {
     "name": "stderr",
     "output_type": "stream",
     "text": [
      "2904it [08:00,  4.35s/it]"
     ]
    },
    {
     "name": "stdout",
     "output_type": "stream",
     "text": [
      "2904\n"
     ]
    },
    {
     "name": "stderr",
     "output_type": "stream",
     "text": [
      "2905it [08:05,  4.55s/it]"
     ]
    },
    {
     "name": "stdout",
     "output_type": "stream",
     "text": [
      "2905\n"
     ]
    },
    {
     "name": "stderr",
     "output_type": "stream",
     "text": [
      "2906it [08:09,  4.57s/it]"
     ]
    },
    {
     "name": "stdout",
     "output_type": "stream",
     "text": [
      "2906\n"
     ]
    },
    {
     "name": "stderr",
     "output_type": "stream",
     "text": [
      "2907it [08:13,  4.27s/it]"
     ]
    },
    {
     "name": "stdout",
     "output_type": "stream",
     "text": [
      "2907\n"
     ]
    },
    {
     "name": "stderr",
     "output_type": "stream",
     "text": [
      "2908it [08:17,  4.21s/it]"
     ]
    },
    {
     "name": "stdout",
     "output_type": "stream",
     "text": [
      "2908\n"
     ]
    },
    {
     "name": "stderr",
     "output_type": "stream",
     "text": [
      "2909it [08:21,  4.12s/it]"
     ]
    },
    {
     "name": "stdout",
     "output_type": "stream",
     "text": [
      "2909\n"
     ]
    },
    {
     "name": "stderr",
     "output_type": "stream",
     "text": [
      "2910it [08:21,  2.98s/it]"
     ]
    },
    {
     "name": "stdout",
     "output_type": "stream",
     "text": [
      "Failed on account: 792862490350661632\n",
      "[{'code': 34, 'message': 'Sorry, that page does not exist.'}]\n",
      "2910\n"
     ]
    },
    {
     "name": "stderr",
     "output_type": "stream",
     "text": [
      "2911it [08:25,  3.25s/it]"
     ]
    },
    {
     "name": "stdout",
     "output_type": "stream",
     "text": [
      "2911\n"
     ]
    },
    {
     "name": "stderr",
     "output_type": "stream",
     "text": [
      "2912it [08:32,  4.42s/it]"
     ]
    },
    {
     "name": "stdout",
     "output_type": "stream",
     "text": [
      "2912\n"
     ]
    },
    {
     "name": "stderr",
     "output_type": "stream",
     "text": [
      "2913it [08:37,  4.57s/it]"
     ]
    },
    {
     "name": "stdout",
     "output_type": "stream",
     "text": [
      "2913\n"
     ]
    },
    {
     "name": "stderr",
     "output_type": "stream",
     "text": [
      "2914it [08:43,  4.79s/it]"
     ]
    },
    {
     "name": "stdout",
     "output_type": "stream",
     "text": [
      "2914\n"
     ]
    },
    {
     "name": "stderr",
     "output_type": "stream",
     "text": [
      "2915it [08:47,  4.67s/it]"
     ]
    },
    {
     "name": "stdout",
     "output_type": "stream",
     "text": [
      "2915\n"
     ]
    },
    {
     "name": "stderr",
     "output_type": "stream",
     "text": [
      "2916it [08:52,  4.65s/it]"
     ]
    },
    {
     "name": "stdout",
     "output_type": "stream",
     "text": [
      "2916\n"
     ]
    },
    {
     "name": "stderr",
     "output_type": "stream",
     "text": [
      "2917it [08:56,  4.57s/it]"
     ]
    },
    {
     "name": "stdout",
     "output_type": "stream",
     "text": [
      "2917\n"
     ]
    },
    {
     "name": "stderr",
     "output_type": "stream",
     "text": [
      "2918it [09:00,  4.29s/it]"
     ]
    },
    {
     "name": "stdout",
     "output_type": "stream",
     "text": [
      "2918\n"
     ]
    },
    {
     "name": "stderr",
     "output_type": "stream",
     "text": [
      "2919it [09:03,  4.09s/it]"
     ]
    },
    {
     "name": "stdout",
     "output_type": "stream",
     "text": [
      "2919\n"
     ]
    },
    {
     "name": "stderr",
     "output_type": "stream",
     "text": [
      "2920it [09:09,  4.53s/it]"
     ]
    },
    {
     "name": "stdout",
     "output_type": "stream",
     "text": [
      "2920\n"
     ]
    },
    {
     "name": "stderr",
     "output_type": "stream",
     "text": [
      "2921it [09:14,  4.85s/it]"
     ]
    },
    {
     "name": "stdout",
     "output_type": "stream",
     "text": [
      "2921\n"
     ]
    },
    {
     "name": "stderr",
     "output_type": "stream",
     "text": [
      "2922it [09:18,  4.53s/it]"
     ]
    },
    {
     "name": "stdout",
     "output_type": "stream",
     "text": [
      "2922\n"
     ]
    },
    {
     "name": "stderr",
     "output_type": "stream",
     "text": [
      "2923it [09:23,  4.52s/it]"
     ]
    },
    {
     "name": "stdout",
     "output_type": "stream",
     "text": [
      "2923\n"
     ]
    },
    {
     "name": "stderr",
     "output_type": "stream",
     "text": [
      "2924it [09:28,  4.77s/it]"
     ]
    },
    {
     "name": "stdout",
     "output_type": "stream",
     "text": [
      "2924\n"
     ]
    },
    {
     "name": "stderr",
     "output_type": "stream",
     "text": [
      "2925it [09:31,  4.35s/it]"
     ]
    },
    {
     "name": "stdout",
     "output_type": "stream",
     "text": [
      "2925\n"
     ]
    },
    {
     "name": "stderr",
     "output_type": "stream",
     "text": [
      "2926it [09:37,  4.77s/it]"
     ]
    },
    {
     "name": "stdout",
     "output_type": "stream",
     "text": [
      "2926\n"
     ]
    },
    {
     "name": "stderr",
     "output_type": "stream",
     "text": [
      "2927it [09:43,  5.03s/it]"
     ]
    },
    {
     "name": "stdout",
     "output_type": "stream",
     "text": [
      "2927\n"
     ]
    },
    {
     "name": "stderr",
     "output_type": "stream",
     "text": [
      "2928it [09:47,  4.70s/it]"
     ]
    },
    {
     "name": "stdout",
     "output_type": "stream",
     "text": [
      "2928\n"
     ]
    },
    {
     "name": "stderr",
     "output_type": "stream",
     "text": [
      "2929it [09:51,  4.72s/it]"
     ]
    },
    {
     "name": "stdout",
     "output_type": "stream",
     "text": [
      "2929\n"
     ]
    },
    {
     "name": "stderr",
     "output_type": "stream",
     "text": [
      "2930it [09:56,  4.56s/it]"
     ]
    },
    {
     "name": "stdout",
     "output_type": "stream",
     "text": [
      "2930\n"
     ]
    },
    {
     "name": "stderr",
     "output_type": "stream",
     "text": [
      "2931it [10:00,  4.62s/it]"
     ]
    },
    {
     "name": "stdout",
     "output_type": "stream",
     "text": [
      "2931\n"
     ]
    },
    {
     "name": "stderr",
     "output_type": "stream",
     "text": [
      "2932it [10:05,  4.67s/it]"
     ]
    },
    {
     "name": "stdout",
     "output_type": "stream",
     "text": [
      "2932\n"
     ]
    },
    {
     "name": "stderr",
     "output_type": "stream",
     "text": [
      "2933it [10:09,  4.48s/it]"
     ]
    },
    {
     "name": "stdout",
     "output_type": "stream",
     "text": [
      "2933\n"
     ]
    },
    {
     "name": "stderr",
     "output_type": "stream",
     "text": [
      "2934it [10:13,  4.34s/it]"
     ]
    },
    {
     "name": "stdout",
     "output_type": "stream",
     "text": [
      "2934\n"
     ]
    },
    {
     "name": "stderr",
     "output_type": "stream",
     "text": [
      "2935it [10:23,  5.93s/it]"
     ]
    },
    {
     "name": "stdout",
     "output_type": "stream",
     "text": [
      "2935\n"
     ]
    },
    {
     "name": "stderr",
     "output_type": "stream",
     "text": [
      "2936it [10:26,  5.23s/it]"
     ]
    },
    {
     "name": "stdout",
     "output_type": "stream",
     "text": [
      "2936\n"
     ]
    },
    {
     "name": "stderr",
     "output_type": "stream",
     "text": [
      "2937it [10:31,  4.98s/it]"
     ]
    },
    {
     "name": "stdout",
     "output_type": "stream",
     "text": [
      "2937\n"
     ]
    },
    {
     "name": "stderr",
     "output_type": "stream",
     "text": [
      "2938it [10:35,  4.81s/it]"
     ]
    },
    {
     "name": "stdout",
     "output_type": "stream",
     "text": [
      "2938\n"
     ]
    },
    {
     "name": "stderr",
     "output_type": "stream",
     "text": [
      "2939it [10:40,  4.75s/it]"
     ]
    },
    {
     "name": "stdout",
     "output_type": "stream",
     "text": [
      "2939\n"
     ]
    },
    {
     "name": "stderr",
     "output_type": "stream",
     "text": [
      "2940it [10:44,  4.49s/it]"
     ]
    },
    {
     "name": "stdout",
     "output_type": "stream",
     "text": [
      "2940\n"
     ]
    },
    {
     "name": "stderr",
     "output_type": "stream",
     "text": [
      "2941it [10:49,  4.59s/it]"
     ]
    },
    {
     "name": "stdout",
     "output_type": "stream",
     "text": [
      "2941\n"
     ]
    },
    {
     "name": "stderr",
     "output_type": "stream",
     "text": [
      "2942it [10:54,  4.88s/it]"
     ]
    },
    {
     "name": "stdout",
     "output_type": "stream",
     "text": [
      "2942\n"
     ]
    },
    {
     "name": "stderr",
     "output_type": "stream",
     "text": [
      "2943it [10:58,  4.61s/it]"
     ]
    },
    {
     "name": "stdout",
     "output_type": "stream",
     "text": [
      "2943\n"
     ]
    },
    {
     "name": "stderr",
     "output_type": "stream",
     "text": [
      "2944it [11:03,  4.58s/it]"
     ]
    },
    {
     "name": "stdout",
     "output_type": "stream",
     "text": [
      "2944\n"
     ]
    },
    {
     "name": "stderr",
     "output_type": "stream",
     "text": [
      "2945it [11:06,  4.32s/it]"
     ]
    },
    {
     "name": "stdout",
     "output_type": "stream",
     "text": [
      "2945\n"
     ]
    },
    {
     "name": "stderr",
     "output_type": "stream",
     "text": [
      "2946it [11:11,  4.46s/it]"
     ]
    },
    {
     "name": "stdout",
     "output_type": "stream",
     "text": [
      "2946\n"
     ]
    },
    {
     "name": "stderr",
     "output_type": "stream",
     "text": [
      "2947it [11:15,  4.16s/it]"
     ]
    },
    {
     "name": "stdout",
     "output_type": "stream",
     "text": [
      "2947\n"
     ]
    },
    {
     "name": "stderr",
     "output_type": "stream",
     "text": [
      "2948it [11:18,  3.91s/it]"
     ]
    },
    {
     "name": "stdout",
     "output_type": "stream",
     "text": [
      "2948\n"
     ]
    },
    {
     "name": "stderr",
     "output_type": "stream",
     "text": [
      "2949it [11:22,  3.98s/it]"
     ]
    },
    {
     "name": "stdout",
     "output_type": "stream",
     "text": [
      "2949\n"
     ]
    },
    {
     "name": "stderr",
     "output_type": "stream",
     "text": [
      "2950it [11:27,  4.42s/it]"
     ]
    },
    {
     "name": "stdout",
     "output_type": "stream",
     "text": [
      "2950\n"
     ]
    },
    {
     "name": "stderr",
     "output_type": "stream",
     "text": [
      "2951it [11:36,  5.57s/it]"
     ]
    },
    {
     "name": "stdout",
     "output_type": "stream",
     "text": [
      "2951\n"
     ]
    },
    {
     "name": "stderr",
     "output_type": "stream",
     "text": [
      "2952it [11:42,  5.66s/it]"
     ]
    },
    {
     "name": "stdout",
     "output_type": "stream",
     "text": [
      "2952\n"
     ]
    },
    {
     "name": "stderr",
     "output_type": "stream",
     "text": [
      "2953it [11:42,  4.06s/it]"
     ]
    },
    {
     "name": "stdout",
     "output_type": "stream",
     "text": [
      "Failed on account: 827269043795005440\n",
      "[{'code': 34, 'message': 'Sorry, that page does not exist.'}]\n",
      "2953\n"
     ]
    },
    {
     "name": "stderr",
     "output_type": "stream",
     "text": [
      "2954it [11:46,  4.22s/it]"
     ]
    },
    {
     "name": "stdout",
     "output_type": "stream",
     "text": [
      "2954\n"
     ]
    },
    {
     "name": "stderr",
     "output_type": "stream",
     "text": [
      "2955it [11:51,  4.31s/it]"
     ]
    },
    {
     "name": "stdout",
     "output_type": "stream",
     "text": [
      "2955\n"
     ]
    },
    {
     "name": "stderr",
     "output_type": "stream",
     "text": [
      "2956it [11:59,  5.32s/it]"
     ]
    },
    {
     "name": "stdout",
     "output_type": "stream",
     "text": [
      "2956\n"
     ]
    },
    {
     "name": "stderr",
     "output_type": "stream",
     "text": [
      "2957it [12:03,  4.98s/it]"
     ]
    },
    {
     "name": "stdout",
     "output_type": "stream",
     "text": [
      "2957\n"
     ]
    },
    {
     "name": "stderr",
     "output_type": "stream",
     "text": [
      "2958it [12:07,  4.84s/it]"
     ]
    },
    {
     "name": "stdout",
     "output_type": "stream",
     "text": [
      "2958\n"
     ]
    },
    {
     "name": "stderr",
     "output_type": "stream",
     "text": [
      "2959it [12:13,  5.02s/it]"
     ]
    },
    {
     "name": "stdout",
     "output_type": "stream",
     "text": [
      "2959\n"
     ]
    },
    {
     "name": "stderr",
     "output_type": "stream",
     "text": [
      "2960it [12:17,  4.74s/it]"
     ]
    },
    {
     "name": "stdout",
     "output_type": "stream",
     "text": [
      "2960\n"
     ]
    },
    {
     "name": "stderr",
     "output_type": "stream",
     "text": [
      "2961it [12:21,  4.67s/it]"
     ]
    },
    {
     "name": "stdout",
     "output_type": "stream",
     "text": [
      "2961\n"
     ]
    },
    {
     "name": "stderr",
     "output_type": "stream",
     "text": [
      "2962it [12:25,  4.28s/it]"
     ]
    },
    {
     "name": "stdout",
     "output_type": "stream",
     "text": [
      "2962\n"
     ]
    },
    {
     "name": "stderr",
     "output_type": "stream",
     "text": [
      "2963it [12:30,  4.66s/it]"
     ]
    },
    {
     "name": "stdout",
     "output_type": "stream",
     "text": [
      "2963\n"
     ]
    },
    {
     "name": "stderr",
     "output_type": "stream",
     "text": [
      "2964it [12:34,  4.48s/it]"
     ]
    },
    {
     "name": "stdout",
     "output_type": "stream",
     "text": [
      "2964\n"
     ]
    },
    {
     "name": "stderr",
     "output_type": "stream",
     "text": [
      "2965it [12:39,  4.53s/it]"
     ]
    },
    {
     "name": "stdout",
     "output_type": "stream",
     "text": [
      "2965\n"
     ]
    },
    {
     "name": "stderr",
     "output_type": "stream",
     "text": [
      "2966it [12:44,  4.80s/it]"
     ]
    },
    {
     "name": "stdout",
     "output_type": "stream",
     "text": [
      "2966\n"
     ]
    },
    {
     "name": "stderr",
     "output_type": "stream",
     "text": [
      "2967it [12:55,  6.43s/it]"
     ]
    },
    {
     "name": "stdout",
     "output_type": "stream",
     "text": [
      "2967\n"
     ]
    },
    {
     "name": "stderr",
     "output_type": "stream",
     "text": [
      "2968it [13:00,  6.07s/it]"
     ]
    },
    {
     "name": "stdout",
     "output_type": "stream",
     "text": [
      "2968\n"
     ]
    },
    {
     "name": "stderr",
     "output_type": "stream",
     "text": [
      "2969it [13:03,  5.26s/it]"
     ]
    },
    {
     "name": "stdout",
     "output_type": "stream",
     "text": [
      "2969\n"
     ]
    },
    {
     "name": "stderr",
     "output_type": "stream",
     "text": [
      "2970it [13:08,  5.04s/it]"
     ]
    },
    {
     "name": "stdout",
     "output_type": "stream",
     "text": [
      "2970\n"
     ]
    },
    {
     "name": "stderr",
     "output_type": "stream",
     "text": [
      "2971it [13:13,  5.19s/it]"
     ]
    },
    {
     "name": "stdout",
     "output_type": "stream",
     "text": [
      "2971\n"
     ]
    },
    {
     "name": "stderr",
     "output_type": "stream",
     "text": [
      "2972it [13:17,  4.74s/it]"
     ]
    },
    {
     "name": "stdout",
     "output_type": "stream",
     "text": [
      "2972\n"
     ]
    },
    {
     "name": "stderr",
     "output_type": "stream",
     "text": [
      "2973it [13:21,  4.50s/it]"
     ]
    },
    {
     "name": "stdout",
     "output_type": "stream",
     "text": [
      "2973\n"
     ]
    },
    {
     "name": "stderr",
     "output_type": "stream",
     "text": [
      "2974it [13:25,  4.29s/it]"
     ]
    },
    {
     "name": "stdout",
     "output_type": "stream",
     "text": [
      "2974\n"
     ]
    },
    {
     "name": "stderr",
     "output_type": "stream",
     "text": [
      "2975it [14:00, 13.60s/it]"
     ]
    },
    {
     "name": "stdout",
     "output_type": "stream",
     "text": [
      "2975\n"
     ]
    },
    {
     "name": "stderr",
     "output_type": "stream",
     "text": [
      "2976it [14:03, 10.41s/it]"
     ]
    },
    {
     "name": "stdout",
     "output_type": "stream",
     "text": [
      "2976\n"
     ]
    },
    {
     "name": "stderr",
     "output_type": "stream",
     "text": [
      "2977it [14:08,  8.62s/it]"
     ]
    },
    {
     "name": "stdout",
     "output_type": "stream",
     "text": [
      "2977\n"
     ]
    },
    {
     "name": "stderr",
     "output_type": "stream",
     "text": [
      "2978it [14:11,  7.10s/it]"
     ]
    },
    {
     "name": "stdout",
     "output_type": "stream",
     "text": [
      "2978\n"
     ]
    },
    {
     "name": "stderr",
     "output_type": "stream",
     "text": [
      "2979it [14:15,  6.07s/it]"
     ]
    },
    {
     "name": "stdout",
     "output_type": "stream",
     "text": [
      "2979\n"
     ]
    },
    {
     "name": "stderr",
     "output_type": "stream",
     "text": [
      "2980it [14:19,  5.42s/it]"
     ]
    },
    {
     "name": "stdout",
     "output_type": "stream",
     "text": [
      "2980\n"
     ]
    },
    {
     "name": "stderr",
     "output_type": "stream",
     "text": [
      "2981it [14:25,  5.58s/it]"
     ]
    },
    {
     "name": "stdout",
     "output_type": "stream",
     "text": [
      "2981\n"
     ]
    },
    {
     "name": "stderr",
     "output_type": "stream",
     "text": [
      "2982it [14:25,  4.03s/it]"
     ]
    },
    {
     "name": "stdout",
     "output_type": "stream",
     "text": [
      "Failed on account: 794706601676591104\n",
      "[{'code': 34, 'message': 'Sorry, that page does not exist.'}]\n",
      "2982\n"
     ]
    },
    {
     "name": "stderr",
     "output_type": "stream",
     "text": [
      "2983it [14:29,  3.99s/it]"
     ]
    },
    {
     "name": "stdout",
     "output_type": "stream",
     "text": [
      "2983\n"
     ]
    },
    {
     "name": "stderr",
     "output_type": "stream",
     "text": [
      "2984it [14:33,  4.11s/it]"
     ]
    },
    {
     "name": "stdout",
     "output_type": "stream",
     "text": [
      "2984\n"
     ]
    },
    {
     "name": "stderr",
     "output_type": "stream",
     "text": [
      "2985it [14:38,  4.17s/it]"
     ]
    },
    {
     "name": "stdout",
     "output_type": "stream",
     "text": [
      "2985\n"
     ]
    },
    {
     "name": "stderr",
     "output_type": "stream",
     "text": [
      "2986it [14:43,  4.58s/it]"
     ]
    },
    {
     "name": "stdout",
     "output_type": "stream",
     "text": [
      "2986\n"
     ]
    },
    {
     "name": "stderr",
     "output_type": "stream",
     "text": [
      "2987it [14:48,  4.65s/it]"
     ]
    },
    {
     "name": "stdout",
     "output_type": "stream",
     "text": [
      "2987\n"
     ]
    },
    {
     "name": "stderr",
     "output_type": "stream",
     "text": [
      "2988it [14:53,  4.91s/it]"
     ]
    },
    {
     "name": "stdout",
     "output_type": "stream",
     "text": [
      "2988\n"
     ]
    },
    {
     "name": "stderr",
     "output_type": "stream",
     "text": [
      "2989it [14:58,  4.82s/it]"
     ]
    },
    {
     "name": "stdout",
     "output_type": "stream",
     "text": [
      "2989\n"
     ]
    },
    {
     "name": "stderr",
     "output_type": "stream",
     "text": [
      "2990it [15:03,  4.73s/it]"
     ]
    },
    {
     "name": "stdout",
     "output_type": "stream",
     "text": [
      "2990\n"
     ]
    },
    {
     "name": "stderr",
     "output_type": "stream",
     "text": [
      "2991it [15:08,  4.97s/it]"
     ]
    },
    {
     "name": "stdout",
     "output_type": "stream",
     "text": [
      "2991\n"
     ]
    },
    {
     "name": "stderr",
     "output_type": "stream",
     "text": [
      "2992it [15:11,  4.41s/it]"
     ]
    },
    {
     "name": "stdout",
     "output_type": "stream",
     "text": [
      "Failed on account: 1640929196\n",
      "429 Client Error: Too Many Requests for url: https://botometer-pro.p.rapidapi.com/4/check_account\n",
      "2992\n"
     ]
    },
    {
     "name": "stderr",
     "output_type": "stream",
     "text": [
      "2993it [15:15,  4.22s/it]"
     ]
    },
    {
     "name": "stdout",
     "output_type": "stream",
     "text": [
      "Failed on account: 1289954977\n",
      "429 Client Error: Too Many Requests for url: https://botometer-pro.p.rapidapi.com/4/check_account\n",
      "2993\n"
     ]
    },
    {
     "name": "stderr",
     "output_type": "stream",
     "text": [
      "2993it [15:16,  3.26it/s]\n"
     ]
    },
    {
     "ename": "KeyboardInterrupt",
     "evalue": "",
     "output_type": "error",
     "traceback": [
      "\u001b[0;31m---------------------------------------------------------------------------\u001b[0m",
      "\u001b[0;31mKeyboardInterrupt\u001b[0m                         Traceback (most recent call last)",
      "\u001b[0;32m/tmp/ipykernel_90376/3608171437.py\u001b[0m in \u001b[0;36m<module>\u001b[0;34m\u001b[0m\n\u001b[1;32m     35\u001b[0m         \u001b[0mprint\u001b[0m\u001b[0;34m(\u001b[0m\u001b[0mi\u001b[0m\u001b[0;34m)\u001b[0m\u001b[0;34m\u001b[0m\u001b[0;34m\u001b[0m\u001b[0m\n\u001b[1;32m     36\u001b[0m         \u001b[0;32mtry\u001b[0m\u001b[0;34m:\u001b[0m\u001b[0;34m\u001b[0m\u001b[0;34m\u001b[0m\u001b[0m\n\u001b[0;32m---> 37\u001b[0;31m             \u001b[0mresult\u001b[0m \u001b[0;34m=\u001b[0m \u001b[0mbom\u001b[0m\u001b[0;34m.\u001b[0m\u001b[0mcheck_account\u001b[0m\u001b[0;34m(\u001b[0m\u001b[0maccount\u001b[0m\u001b[0;34m)\u001b[0m\u001b[0;34m\u001b[0m\u001b[0;34m\u001b[0m\u001b[0m\n\u001b[0m\u001b[1;32m     38\u001b[0m             \u001b[0mdf\u001b[0m\u001b[0;34m.\u001b[0m\u001b[0mloc\u001b[0m\u001b[0;34m[\u001b[0m\u001b[0mi\u001b[0m\u001b[0;34m,\u001b[0m \u001b[0;34m\"botometer\"\u001b[0m\u001b[0;34m]\u001b[0m \u001b[0;34m=\u001b[0m \u001b[0mstr\u001b[0m\u001b[0;34m(\u001b[0m\u001b[0mresult\u001b[0m\u001b[0;34m)\u001b[0m\u001b[0;34m\u001b[0m\u001b[0;34m\u001b[0m\u001b[0m\n\u001b[1;32m     39\u001b[0m         \u001b[0;32mexcept\u001b[0m \u001b[0mException\u001b[0m \u001b[0;32mas\u001b[0m \u001b[0me\u001b[0m\u001b[0;34m:\u001b[0m\u001b[0;34m\u001b[0m\u001b[0;34m\u001b[0m\u001b[0m\n",
      "\u001b[0;32m~/anaconda3/lib/python3.9/site-packages/botometer/__init__.py\u001b[0m in \u001b[0;36mcheck_account\u001b[0;34m(self, user, full_user_object)\u001b[0m\n\u001b[1;32m    125\u001b[0m \u001b[0;34m\u001b[0m\u001b[0m\n\u001b[1;32m    126\u001b[0m     \u001b[0;32mdef\u001b[0m \u001b[0mcheck_account\u001b[0m\u001b[0;34m(\u001b[0m\u001b[0mself\u001b[0m\u001b[0;34m,\u001b[0m \u001b[0muser\u001b[0m\u001b[0;34m,\u001b[0m \u001b[0mfull_user_object\u001b[0m\u001b[0;34m=\u001b[0m\u001b[0;32mFalse\u001b[0m\u001b[0;34m)\u001b[0m\u001b[0;34m:\u001b[0m\u001b[0;34m\u001b[0m\u001b[0;34m\u001b[0m\u001b[0m\n\u001b[0;32m--> 127\u001b[0;31m         payload = self._get_twitter_data(user,\n\u001b[0m\u001b[1;32m    128\u001b[0m                                          full_user_object=full_user_object)\n\u001b[1;32m    129\u001b[0m         \u001b[0;32mif\u001b[0m \u001b[0;32mnot\u001b[0m \u001b[0mpayload\u001b[0m\u001b[0;34m[\u001b[0m\u001b[0;34m'timeline'\u001b[0m\u001b[0;34m]\u001b[0m\u001b[0;34m:\u001b[0m\u001b[0;34m\u001b[0m\u001b[0;34m\u001b[0m\u001b[0m\n",
      "\u001b[0;32m~/anaconda3/lib/python3.9/site-packages/botometer/__init__.py\u001b[0m in \u001b[0;36m_get_twitter_data\u001b[0;34m(self, user, full_user_object)\u001b[0m\n\u001b[1;32m     92\u001b[0m \u001b[0;34m\u001b[0m\u001b[0m\n\u001b[1;32m     93\u001b[0m         \u001b[0;32mtry\u001b[0m\u001b[0;34m:\u001b[0m\u001b[0;34m\u001b[0m\u001b[0;34m\u001b[0m\u001b[0m\n\u001b[0;32m---> 94\u001b[0;31m             \u001b[0msearch\u001b[0m \u001b[0;34m=\u001b[0m \u001b[0mself\u001b[0m\u001b[0;34m.\u001b[0m\u001b[0mtwitter_api\u001b[0m\u001b[0;34m.\u001b[0m\u001b[0msearch\u001b[0m\u001b[0;34m(\u001b[0m\u001b[0mscreen_name\u001b[0m\u001b[0;34m,\u001b[0m \u001b[0mcount\u001b[0m\u001b[0;34m=\u001b[0m\u001b[0;36m100\u001b[0m\u001b[0;34m)\u001b[0m\u001b[0;34m\u001b[0m\u001b[0;34m\u001b[0m\u001b[0m\n\u001b[0m\u001b[1;32m     95\u001b[0m         \u001b[0;32mexcept\u001b[0m \u001b[0mRateLimitError\u001b[0m \u001b[0;32mas\u001b[0m \u001b[0me\u001b[0m\u001b[0;34m:\u001b[0m\u001b[0;34m\u001b[0m\u001b[0;34m\u001b[0m\u001b[0m\n\u001b[1;32m     96\u001b[0m             \u001b[0me\u001b[0m\u001b[0;34m.\u001b[0m\u001b[0margs\u001b[0m \u001b[0;34m=\u001b[0m \u001b[0;34m(\u001b[0m\u001b[0mself\u001b[0m\u001b[0;34m.\u001b[0m\u001b[0m_TWITTER_RL_MSG\u001b[0m\u001b[0;34m,\u001b[0m \u001b[0;34m'search/tweets'\u001b[0m\u001b[0;34m)\u001b[0m\u001b[0;34m\u001b[0m\u001b[0;34m\u001b[0m\u001b[0m\n",
      "\u001b[0;32m~/anaconda3/lib/python3.9/site-packages/tweepy/binder.py\u001b[0m in \u001b[0;36m_call\u001b[0;34m(*args, **kwargs)\u001b[0m\n\u001b[1;32m    251\u001b[0m                 \u001b[0;32mreturn\u001b[0m \u001b[0mmethod\u001b[0m\u001b[0;34m\u001b[0m\u001b[0;34m\u001b[0m\u001b[0m\n\u001b[1;32m    252\u001b[0m             \u001b[0;32melse\u001b[0m\u001b[0;34m:\u001b[0m\u001b[0;34m\u001b[0m\u001b[0;34m\u001b[0m\u001b[0m\n\u001b[0;32m--> 253\u001b[0;31m                 \u001b[0;32mreturn\u001b[0m \u001b[0mmethod\u001b[0m\u001b[0;34m.\u001b[0m\u001b[0mexecute\u001b[0m\u001b[0;34m(\u001b[0m\u001b[0;34m)\u001b[0m\u001b[0;34m\u001b[0m\u001b[0;34m\u001b[0m\u001b[0m\n\u001b[0m\u001b[1;32m    254\u001b[0m         \u001b[0;32mfinally\u001b[0m\u001b[0;34m:\u001b[0m\u001b[0;34m\u001b[0m\u001b[0;34m\u001b[0m\u001b[0m\n\u001b[1;32m    255\u001b[0m             \u001b[0mmethod\u001b[0m\u001b[0;34m.\u001b[0m\u001b[0msession\u001b[0m\u001b[0;34m.\u001b[0m\u001b[0mclose\u001b[0m\u001b[0;34m(\u001b[0m\u001b[0;34m)\u001b[0m\u001b[0;34m\u001b[0m\u001b[0;34m\u001b[0m\u001b[0m\n",
      "\u001b[0;32m~/anaconda3/lib/python3.9/site-packages/tweepy/binder.py\u001b[0m in \u001b[0;36mexecute\u001b[0;34m(self)\u001b[0m\n\u001b[1;32m    182\u001b[0m                 \u001b[0;31m# Execute request\u001b[0m\u001b[0;34m\u001b[0m\u001b[0;34m\u001b[0m\u001b[0m\n\u001b[1;32m    183\u001b[0m                 \u001b[0;32mtry\u001b[0m\u001b[0;34m:\u001b[0m\u001b[0;34m\u001b[0m\u001b[0;34m\u001b[0m\u001b[0m\n\u001b[0;32m--> 184\u001b[0;31m                     resp = self.session.request(self.method,\n\u001b[0m\u001b[1;32m    185\u001b[0m                                                 \u001b[0mfull_url\u001b[0m\u001b[0;34m,\u001b[0m\u001b[0;34m\u001b[0m\u001b[0;34m\u001b[0m\u001b[0m\n\u001b[1;32m    186\u001b[0m                                                 \u001b[0mdata\u001b[0m\u001b[0;34m=\u001b[0m\u001b[0mself\u001b[0m\u001b[0;34m.\u001b[0m\u001b[0mpost_data\u001b[0m\u001b[0;34m,\u001b[0m\u001b[0;34m\u001b[0m\u001b[0;34m\u001b[0m\u001b[0m\n",
      "\u001b[0;32m~/anaconda3/lib/python3.9/site-packages/requests/sessions.py\u001b[0m in \u001b[0;36mrequest\u001b[0;34m(self, method, url, params, data, headers, cookies, files, auth, timeout, allow_redirects, proxies, hooks, stream, verify, cert, json)\u001b[0m\n\u001b[1;32m    540\u001b[0m         }\n\u001b[1;32m    541\u001b[0m         \u001b[0msend_kwargs\u001b[0m\u001b[0;34m.\u001b[0m\u001b[0mupdate\u001b[0m\u001b[0;34m(\u001b[0m\u001b[0msettings\u001b[0m\u001b[0;34m)\u001b[0m\u001b[0;34m\u001b[0m\u001b[0;34m\u001b[0m\u001b[0m\n\u001b[0;32m--> 542\u001b[0;31m         \u001b[0mresp\u001b[0m \u001b[0;34m=\u001b[0m \u001b[0mself\u001b[0m\u001b[0;34m.\u001b[0m\u001b[0msend\u001b[0m\u001b[0;34m(\u001b[0m\u001b[0mprep\u001b[0m\u001b[0;34m,\u001b[0m \u001b[0;34m**\u001b[0m\u001b[0msend_kwargs\u001b[0m\u001b[0;34m)\u001b[0m\u001b[0;34m\u001b[0m\u001b[0;34m\u001b[0m\u001b[0m\n\u001b[0m\u001b[1;32m    543\u001b[0m \u001b[0;34m\u001b[0m\u001b[0m\n\u001b[1;32m    544\u001b[0m         \u001b[0;32mreturn\u001b[0m \u001b[0mresp\u001b[0m\u001b[0;34m\u001b[0m\u001b[0;34m\u001b[0m\u001b[0m\n",
      "\u001b[0;32m~/anaconda3/lib/python3.9/site-packages/requests/sessions.py\u001b[0m in \u001b[0;36msend\u001b[0;34m(self, request, **kwargs)\u001b[0m\n\u001b[1;32m    653\u001b[0m \u001b[0;34m\u001b[0m\u001b[0m\n\u001b[1;32m    654\u001b[0m         \u001b[0;31m# Send the request\u001b[0m\u001b[0;34m\u001b[0m\u001b[0;34m\u001b[0m\u001b[0m\n\u001b[0;32m--> 655\u001b[0;31m         \u001b[0mr\u001b[0m \u001b[0;34m=\u001b[0m \u001b[0madapter\u001b[0m\u001b[0;34m.\u001b[0m\u001b[0msend\u001b[0m\u001b[0;34m(\u001b[0m\u001b[0mrequest\u001b[0m\u001b[0;34m,\u001b[0m \u001b[0;34m**\u001b[0m\u001b[0mkwargs\u001b[0m\u001b[0;34m)\u001b[0m\u001b[0;34m\u001b[0m\u001b[0;34m\u001b[0m\u001b[0m\n\u001b[0m\u001b[1;32m    656\u001b[0m \u001b[0;34m\u001b[0m\u001b[0m\n\u001b[1;32m    657\u001b[0m         \u001b[0;31m# Total elapsed time of the request (approximately)\u001b[0m\u001b[0;34m\u001b[0m\u001b[0;34m\u001b[0m\u001b[0m\n",
      "\u001b[0;32m~/anaconda3/lib/python3.9/site-packages/requests/adapters.py\u001b[0m in \u001b[0;36msend\u001b[0;34m(self, request, stream, timeout, verify, cert, proxies)\u001b[0m\n\u001b[1;32m    437\u001b[0m         \u001b[0;32mtry\u001b[0m\u001b[0;34m:\u001b[0m\u001b[0;34m\u001b[0m\u001b[0;34m\u001b[0m\u001b[0m\n\u001b[1;32m    438\u001b[0m             \u001b[0;32mif\u001b[0m \u001b[0;32mnot\u001b[0m \u001b[0mchunked\u001b[0m\u001b[0;34m:\u001b[0m\u001b[0;34m\u001b[0m\u001b[0;34m\u001b[0m\u001b[0m\n\u001b[0;32m--> 439\u001b[0;31m                 resp = conn.urlopen(\n\u001b[0m\u001b[1;32m    440\u001b[0m                     \u001b[0mmethod\u001b[0m\u001b[0;34m=\u001b[0m\u001b[0mrequest\u001b[0m\u001b[0;34m.\u001b[0m\u001b[0mmethod\u001b[0m\u001b[0;34m,\u001b[0m\u001b[0;34m\u001b[0m\u001b[0;34m\u001b[0m\u001b[0m\n\u001b[1;32m    441\u001b[0m                     \u001b[0murl\u001b[0m\u001b[0;34m=\u001b[0m\u001b[0murl\u001b[0m\u001b[0;34m,\u001b[0m\u001b[0;34m\u001b[0m\u001b[0;34m\u001b[0m\u001b[0m\n",
      "\u001b[0;32m~/anaconda3/lib/python3.9/site-packages/urllib3/connectionpool.py\u001b[0m in \u001b[0;36murlopen\u001b[0;34m(self, method, url, body, headers, retries, redirect, assert_same_host, timeout, pool_timeout, release_conn, chunked, body_pos, **response_kw)\u001b[0m\n\u001b[1;32m    697\u001b[0m \u001b[0;34m\u001b[0m\u001b[0m\n\u001b[1;32m    698\u001b[0m             \u001b[0;31m# Make the request on the httplib connection object.\u001b[0m\u001b[0;34m\u001b[0m\u001b[0;34m\u001b[0m\u001b[0m\n\u001b[0;32m--> 699\u001b[0;31m             httplib_response = self._make_request(\n\u001b[0m\u001b[1;32m    700\u001b[0m                 \u001b[0mconn\u001b[0m\u001b[0;34m,\u001b[0m\u001b[0;34m\u001b[0m\u001b[0;34m\u001b[0m\u001b[0m\n\u001b[1;32m    701\u001b[0m                 \u001b[0mmethod\u001b[0m\u001b[0;34m,\u001b[0m\u001b[0;34m\u001b[0m\u001b[0;34m\u001b[0m\u001b[0m\n",
      "\u001b[0;32m~/anaconda3/lib/python3.9/site-packages/urllib3/connectionpool.py\u001b[0m in \u001b[0;36m_make_request\u001b[0;34m(self, conn, method, url, timeout, chunked, **httplib_request_kw)\u001b[0m\n\u001b[1;32m    443\u001b[0m                     \u001b[0;31m# Python 3 (including for exceptions like SystemExit).\u001b[0m\u001b[0;34m\u001b[0m\u001b[0;34m\u001b[0m\u001b[0m\n\u001b[1;32m    444\u001b[0m                     \u001b[0;31m# Otherwise it looks like a bug in the code.\u001b[0m\u001b[0;34m\u001b[0m\u001b[0;34m\u001b[0m\u001b[0m\n\u001b[0;32m--> 445\u001b[0;31m                     \u001b[0msix\u001b[0m\u001b[0;34m.\u001b[0m\u001b[0mraise_from\u001b[0m\u001b[0;34m(\u001b[0m\u001b[0me\u001b[0m\u001b[0;34m,\u001b[0m \u001b[0;32mNone\u001b[0m\u001b[0;34m)\u001b[0m\u001b[0;34m\u001b[0m\u001b[0;34m\u001b[0m\u001b[0m\n\u001b[0m\u001b[1;32m    446\u001b[0m         \u001b[0;32mexcept\u001b[0m \u001b[0;34m(\u001b[0m\u001b[0mSocketTimeout\u001b[0m\u001b[0;34m,\u001b[0m \u001b[0mBaseSSLError\u001b[0m\u001b[0;34m,\u001b[0m \u001b[0mSocketError\u001b[0m\u001b[0;34m)\u001b[0m \u001b[0;32mas\u001b[0m \u001b[0me\u001b[0m\u001b[0;34m:\u001b[0m\u001b[0;34m\u001b[0m\u001b[0;34m\u001b[0m\u001b[0m\n\u001b[1;32m    447\u001b[0m             \u001b[0mself\u001b[0m\u001b[0;34m.\u001b[0m\u001b[0m_raise_timeout\u001b[0m\u001b[0;34m(\u001b[0m\u001b[0merr\u001b[0m\u001b[0;34m=\u001b[0m\u001b[0me\u001b[0m\u001b[0;34m,\u001b[0m \u001b[0murl\u001b[0m\u001b[0;34m=\u001b[0m\u001b[0murl\u001b[0m\u001b[0;34m,\u001b[0m \u001b[0mtimeout_value\u001b[0m\u001b[0;34m=\u001b[0m\u001b[0mread_timeout\u001b[0m\u001b[0;34m)\u001b[0m\u001b[0;34m\u001b[0m\u001b[0;34m\u001b[0m\u001b[0m\n",
      "\u001b[0;32m~/anaconda3/lib/python3.9/site-packages/urllib3/packages/six.py\u001b[0m in \u001b[0;36mraise_from\u001b[0;34m(value, from_value)\u001b[0m\n",
      "\u001b[0;32m~/anaconda3/lib/python3.9/site-packages/urllib3/connectionpool.py\u001b[0m in \u001b[0;36m_make_request\u001b[0;34m(self, conn, method, url, timeout, chunked, **httplib_request_kw)\u001b[0m\n\u001b[1;32m    438\u001b[0m                 \u001b[0;31m# Python 3\u001b[0m\u001b[0;34m\u001b[0m\u001b[0;34m\u001b[0m\u001b[0m\n\u001b[1;32m    439\u001b[0m                 \u001b[0;32mtry\u001b[0m\u001b[0;34m:\u001b[0m\u001b[0;34m\u001b[0m\u001b[0;34m\u001b[0m\u001b[0m\n\u001b[0;32m--> 440\u001b[0;31m                     \u001b[0mhttplib_response\u001b[0m \u001b[0;34m=\u001b[0m \u001b[0mconn\u001b[0m\u001b[0;34m.\u001b[0m\u001b[0mgetresponse\u001b[0m\u001b[0;34m(\u001b[0m\u001b[0;34m)\u001b[0m\u001b[0;34m\u001b[0m\u001b[0;34m\u001b[0m\u001b[0m\n\u001b[0m\u001b[1;32m    441\u001b[0m                 \u001b[0;32mexcept\u001b[0m \u001b[0mBaseException\u001b[0m \u001b[0;32mas\u001b[0m \u001b[0me\u001b[0m\u001b[0;34m:\u001b[0m\u001b[0;34m\u001b[0m\u001b[0;34m\u001b[0m\u001b[0m\n\u001b[1;32m    442\u001b[0m                     \u001b[0;31m# Remove the TypeError from the exception chain in\u001b[0m\u001b[0;34m\u001b[0m\u001b[0;34m\u001b[0m\u001b[0m\n",
      "\u001b[0;32m~/anaconda3/lib/python3.9/http/client.py\u001b[0m in \u001b[0;36mgetresponse\u001b[0;34m(self)\u001b[0m\n\u001b[1;32m   1369\u001b[0m         \u001b[0;32mtry\u001b[0m\u001b[0;34m:\u001b[0m\u001b[0;34m\u001b[0m\u001b[0;34m\u001b[0m\u001b[0m\n\u001b[1;32m   1370\u001b[0m             \u001b[0;32mtry\u001b[0m\u001b[0;34m:\u001b[0m\u001b[0;34m\u001b[0m\u001b[0;34m\u001b[0m\u001b[0m\n\u001b[0;32m-> 1371\u001b[0;31m                 \u001b[0mresponse\u001b[0m\u001b[0;34m.\u001b[0m\u001b[0mbegin\u001b[0m\u001b[0;34m(\u001b[0m\u001b[0;34m)\u001b[0m\u001b[0;34m\u001b[0m\u001b[0;34m\u001b[0m\u001b[0m\n\u001b[0m\u001b[1;32m   1372\u001b[0m             \u001b[0;32mexcept\u001b[0m \u001b[0mConnectionError\u001b[0m\u001b[0;34m:\u001b[0m\u001b[0;34m\u001b[0m\u001b[0;34m\u001b[0m\u001b[0m\n\u001b[1;32m   1373\u001b[0m                 \u001b[0mself\u001b[0m\u001b[0;34m.\u001b[0m\u001b[0mclose\u001b[0m\u001b[0;34m(\u001b[0m\u001b[0;34m)\u001b[0m\u001b[0;34m\u001b[0m\u001b[0;34m\u001b[0m\u001b[0m\n",
      "\u001b[0;32m~/anaconda3/lib/python3.9/http/client.py\u001b[0m in \u001b[0;36mbegin\u001b[0;34m(self)\u001b[0m\n\u001b[1;32m    317\u001b[0m         \u001b[0;31m# read until we get a non-100 response\u001b[0m\u001b[0;34m\u001b[0m\u001b[0;34m\u001b[0m\u001b[0m\n\u001b[1;32m    318\u001b[0m         \u001b[0;32mwhile\u001b[0m \u001b[0;32mTrue\u001b[0m\u001b[0;34m:\u001b[0m\u001b[0;34m\u001b[0m\u001b[0;34m\u001b[0m\u001b[0m\n\u001b[0;32m--> 319\u001b[0;31m             \u001b[0mversion\u001b[0m\u001b[0;34m,\u001b[0m \u001b[0mstatus\u001b[0m\u001b[0;34m,\u001b[0m \u001b[0mreason\u001b[0m \u001b[0;34m=\u001b[0m \u001b[0mself\u001b[0m\u001b[0;34m.\u001b[0m\u001b[0m_read_status\u001b[0m\u001b[0;34m(\u001b[0m\u001b[0;34m)\u001b[0m\u001b[0;34m\u001b[0m\u001b[0;34m\u001b[0m\u001b[0m\n\u001b[0m\u001b[1;32m    320\u001b[0m             \u001b[0;32mif\u001b[0m \u001b[0mstatus\u001b[0m \u001b[0;34m!=\u001b[0m \u001b[0mCONTINUE\u001b[0m\u001b[0;34m:\u001b[0m\u001b[0;34m\u001b[0m\u001b[0;34m\u001b[0m\u001b[0m\n\u001b[1;32m    321\u001b[0m                 \u001b[0;32mbreak\u001b[0m\u001b[0;34m\u001b[0m\u001b[0;34m\u001b[0m\u001b[0m\n",
      "\u001b[0;32m~/anaconda3/lib/python3.9/http/client.py\u001b[0m in \u001b[0;36m_read_status\u001b[0;34m(self)\u001b[0m\n\u001b[1;32m    278\u001b[0m \u001b[0;34m\u001b[0m\u001b[0m\n\u001b[1;32m    279\u001b[0m     \u001b[0;32mdef\u001b[0m \u001b[0m_read_status\u001b[0m\u001b[0;34m(\u001b[0m\u001b[0mself\u001b[0m\u001b[0;34m)\u001b[0m\u001b[0;34m:\u001b[0m\u001b[0;34m\u001b[0m\u001b[0;34m\u001b[0m\u001b[0m\n\u001b[0;32m--> 280\u001b[0;31m         \u001b[0mline\u001b[0m \u001b[0;34m=\u001b[0m \u001b[0mstr\u001b[0m\u001b[0;34m(\u001b[0m\u001b[0mself\u001b[0m\u001b[0;34m.\u001b[0m\u001b[0mfp\u001b[0m\u001b[0;34m.\u001b[0m\u001b[0mreadline\u001b[0m\u001b[0;34m(\u001b[0m\u001b[0m_MAXLINE\u001b[0m \u001b[0;34m+\u001b[0m \u001b[0;36m1\u001b[0m\u001b[0;34m)\u001b[0m\u001b[0;34m,\u001b[0m \u001b[0;34m\"iso-8859-1\"\u001b[0m\u001b[0;34m)\u001b[0m\u001b[0;34m\u001b[0m\u001b[0;34m\u001b[0m\u001b[0m\n\u001b[0m\u001b[1;32m    281\u001b[0m         \u001b[0;32mif\u001b[0m \u001b[0mlen\u001b[0m\u001b[0;34m(\u001b[0m\u001b[0mline\u001b[0m\u001b[0;34m)\u001b[0m \u001b[0;34m>\u001b[0m \u001b[0m_MAXLINE\u001b[0m\u001b[0;34m:\u001b[0m\u001b[0;34m\u001b[0m\u001b[0;34m\u001b[0m\u001b[0m\n\u001b[1;32m    282\u001b[0m             \u001b[0;32mraise\u001b[0m \u001b[0mLineTooLong\u001b[0m\u001b[0;34m(\u001b[0m\u001b[0;34m\"status line\"\u001b[0m\u001b[0;34m)\u001b[0m\u001b[0;34m\u001b[0m\u001b[0;34m\u001b[0m\u001b[0m\n",
      "\u001b[0;32m~/anaconda3/lib/python3.9/socket.py\u001b[0m in \u001b[0;36mreadinto\u001b[0;34m(self, b)\u001b[0m\n\u001b[1;32m    702\u001b[0m         \u001b[0;32mwhile\u001b[0m \u001b[0;32mTrue\u001b[0m\u001b[0;34m:\u001b[0m\u001b[0;34m\u001b[0m\u001b[0;34m\u001b[0m\u001b[0m\n\u001b[1;32m    703\u001b[0m             \u001b[0;32mtry\u001b[0m\u001b[0;34m:\u001b[0m\u001b[0;34m\u001b[0m\u001b[0;34m\u001b[0m\u001b[0m\n\u001b[0;32m--> 704\u001b[0;31m                 \u001b[0;32mreturn\u001b[0m \u001b[0mself\u001b[0m\u001b[0;34m.\u001b[0m\u001b[0m_sock\u001b[0m\u001b[0;34m.\u001b[0m\u001b[0mrecv_into\u001b[0m\u001b[0;34m(\u001b[0m\u001b[0mb\u001b[0m\u001b[0;34m)\u001b[0m\u001b[0;34m\u001b[0m\u001b[0;34m\u001b[0m\u001b[0m\n\u001b[0m\u001b[1;32m    705\u001b[0m             \u001b[0;32mexcept\u001b[0m \u001b[0mtimeout\u001b[0m\u001b[0;34m:\u001b[0m\u001b[0;34m\u001b[0m\u001b[0;34m\u001b[0m\u001b[0m\n\u001b[1;32m    706\u001b[0m                 \u001b[0mself\u001b[0m\u001b[0;34m.\u001b[0m\u001b[0m_timeout_occurred\u001b[0m \u001b[0;34m=\u001b[0m \u001b[0;32mTrue\u001b[0m\u001b[0;34m\u001b[0m\u001b[0;34m\u001b[0m\u001b[0m\n",
      "\u001b[0;32m~/anaconda3/lib/python3.9/ssl.py\u001b[0m in \u001b[0;36mrecv_into\u001b[0;34m(self, buffer, nbytes, flags)\u001b[0m\n\u001b[1;32m   1239\u001b[0m                   \u001b[0;34m\"non-zero flags not allowed in calls to recv_into() on %s\"\u001b[0m \u001b[0;34m%\u001b[0m\u001b[0;34m\u001b[0m\u001b[0;34m\u001b[0m\u001b[0m\n\u001b[1;32m   1240\u001b[0m                   self.__class__)\n\u001b[0;32m-> 1241\u001b[0;31m             \u001b[0;32mreturn\u001b[0m \u001b[0mself\u001b[0m\u001b[0;34m.\u001b[0m\u001b[0mread\u001b[0m\u001b[0;34m(\u001b[0m\u001b[0mnbytes\u001b[0m\u001b[0;34m,\u001b[0m \u001b[0mbuffer\u001b[0m\u001b[0;34m)\u001b[0m\u001b[0;34m\u001b[0m\u001b[0;34m\u001b[0m\u001b[0m\n\u001b[0m\u001b[1;32m   1242\u001b[0m         \u001b[0;32melse\u001b[0m\u001b[0;34m:\u001b[0m\u001b[0;34m\u001b[0m\u001b[0;34m\u001b[0m\u001b[0m\n\u001b[1;32m   1243\u001b[0m             \u001b[0;32mreturn\u001b[0m \u001b[0msuper\u001b[0m\u001b[0;34m(\u001b[0m\u001b[0;34m)\u001b[0m\u001b[0;34m.\u001b[0m\u001b[0mrecv_into\u001b[0m\u001b[0;34m(\u001b[0m\u001b[0mbuffer\u001b[0m\u001b[0;34m,\u001b[0m \u001b[0mnbytes\u001b[0m\u001b[0;34m,\u001b[0m \u001b[0mflags\u001b[0m\u001b[0;34m)\u001b[0m\u001b[0;34m\u001b[0m\u001b[0;34m\u001b[0m\u001b[0m\n",
      "\u001b[0;32m~/anaconda3/lib/python3.9/ssl.py\u001b[0m in \u001b[0;36mread\u001b[0;34m(self, len, buffer)\u001b[0m\n\u001b[1;32m   1097\u001b[0m         \u001b[0;32mtry\u001b[0m\u001b[0;34m:\u001b[0m\u001b[0;34m\u001b[0m\u001b[0;34m\u001b[0m\u001b[0m\n\u001b[1;32m   1098\u001b[0m             \u001b[0;32mif\u001b[0m \u001b[0mbuffer\u001b[0m \u001b[0;32mis\u001b[0m \u001b[0;32mnot\u001b[0m \u001b[0;32mNone\u001b[0m\u001b[0;34m:\u001b[0m\u001b[0;34m\u001b[0m\u001b[0;34m\u001b[0m\u001b[0m\n\u001b[0;32m-> 1099\u001b[0;31m                 \u001b[0;32mreturn\u001b[0m \u001b[0mself\u001b[0m\u001b[0;34m.\u001b[0m\u001b[0m_sslobj\u001b[0m\u001b[0;34m.\u001b[0m\u001b[0mread\u001b[0m\u001b[0;34m(\u001b[0m\u001b[0mlen\u001b[0m\u001b[0;34m,\u001b[0m \u001b[0mbuffer\u001b[0m\u001b[0;34m)\u001b[0m\u001b[0;34m\u001b[0m\u001b[0;34m\u001b[0m\u001b[0m\n\u001b[0m\u001b[1;32m   1100\u001b[0m             \u001b[0;32melse\u001b[0m\u001b[0;34m:\u001b[0m\u001b[0;34m\u001b[0m\u001b[0;34m\u001b[0m\u001b[0m\n\u001b[1;32m   1101\u001b[0m                 \u001b[0;32mreturn\u001b[0m \u001b[0mself\u001b[0m\u001b[0;34m.\u001b[0m\u001b[0m_sslobj\u001b[0m\u001b[0;34m.\u001b[0m\u001b[0mread\u001b[0m\u001b[0;34m(\u001b[0m\u001b[0mlen\u001b[0m\u001b[0;34m)\u001b[0m\u001b[0;34m\u001b[0m\u001b[0;34m\u001b[0m\u001b[0m\n",
      "\u001b[0;31mKeyboardInterrupt\u001b[0m: "
     ]
    }
   ],
   "source": [
    "import botometer\n",
    "\n",
    "rapidapi_key = \"b0dd966c59mshdf2db2daf9a121fp15f57djsn5bf9d54db4aa\"\n",
    "consumer_key, consumer_secret = \"uHktObbiyJpGoLUaENXdpUWyj\", \"DLoJ8VRhFUK4GQeo3XUP2LGaSN4D7a2mAZqSKlRQshr6N0Ru1r\"\n",
    "access_token, access_token_secret = \"4121890515-8wV0UlTyu9hFzJL9d8NBU6BY24STUtS7zFeAcel\", \"vfnDrkEUAHtVayGJDZxau18mPjG4CuyB2JW6sG0xeYFGs\"\n",
    "\n",
    "\n",
    "twitter_app_auth = {\n",
    "    'consumer_key': consumer_key, # 'sO59YfsV552iCsfLLpQTuS64T',\n",
    "    'consumer_secret': consumer_secret, #'YVGEDbcA3Mg3bTY9rwXpLAH5ATOzbmhRBZ92wuWaBfVMdiflzq',\n",
    "    'access_token': access_token, # 'AAAAAAAAAAAAAAAAAAAAAD%2FZWwEAAAAAJgG8hY2XJfmsYbbs%2Bp5BruRr8aM%3DtRxrtqs0eEhHQ9ZFE9U7tRlNnqm7oPUXeQEijSnj3RgxWgvN5l',\n",
    "    'access_token_secret': access_token_secret,\n",
    "  }\n",
    "bom = botometer.Botometer(wait_on_ratelimit=True,\n",
    "                          rapidapi_key=rapidapi_key,\n",
    "                          **twitter_app_auth)\n",
    "\n",
    "# Check a single account by screen name\n",
    "# result = bom.check_account('@clayadavis')\n",
    "\n",
    "# Check a single account by id\n",
    "# result = bom.check_account(1548959833)\n",
    "\n",
    "# Check a sequence of accounts\n",
    "# accounts = ['@clayadavis', '@onurvarol', '@jabawack']\n",
    "\n",
    "\n",
    "\n",
    "# df = pd.read_csv(\"snopes_botometer_406.csv\")\n",
    "\n",
    "accounts = df.acc_id.tolist()\n",
    "\n",
    "for i, account in tqdm(enumerate(accounts)):\n",
    "    if i > 2795:\n",
    "        print(i)\n",
    "        try:\n",
    "            result = bom.check_account(account)\n",
    "            df.loc[i, \"botometer\"] = str(result)\n",
    "        except Exception as e:\n",
    "            print(f\"Failed on account: {account}\")\n",
    "            print(e)\n",
    "            df.loc[i, \"botometer\"] = str({'code': 34, 'message': 'Sorry, that page does not exist.'})\n",
    "    \n",
    "    \n",
    "# for i, result in tqdm(enumerate(bom.check_accounts_in(accounts[407:]))):\n",
    "#     print(accounts[(407+i)])\n",
    "#     try:\n",
    "# #         snopes_acc.loc[i, \"botometer\"] = str(result[1])\n",
    "#         snopes_acc.loc[snopes_acc.acc_id.isin([result[0]]).index, \"botometer\"] = str(result[1])\n",
    "#     except Exception as e:\n",
    "#         print(e)\n",
    "#         snopes_acc.loc[snopes_acc.acc_id.isin([result[0]]).index, \"botometer\"] = None\n"
   ]
  },
  {
   "cell_type": "code",
   "execution_count": 20,
   "metadata": {},
   "outputs": [
    {
     "data": {
      "text/html": [
       "<div>\n",
       "<style scoped>\n",
       "    .dataframe tbody tr th:only-of-type {\n",
       "        vertical-align: middle;\n",
       "    }\n",
       "\n",
       "    .dataframe tbody tr th {\n",
       "        vertical-align: top;\n",
       "    }\n",
       "\n",
       "    .dataframe thead th {\n",
       "        text-align: right;\n",
       "    }\n",
       "</style>\n",
       "<table border=\"1\" class=\"dataframe\">\n",
       "  <thead>\n",
       "    <tr style=\"text-align: right;\">\n",
       "      <th></th>\n",
       "      <th>id</th>\n",
       "      <th>original_id</th>\n",
       "      <th>tweet_text</th>\n",
       "      <th>tweet_url</th>\n",
       "      <th>claim</th>\n",
       "      <th>rating</th>\n",
       "      <th>images</th>\n",
       "      <th>text_images</th>\n",
       "      <th>source</th>\n",
       "      <th>label</th>\n",
       "      <th>label_info</th>\n",
       "      <th>available</th>\n",
       "      <th>acc_id</th>\n",
       "      <th>botometer</th>\n",
       "    </tr>\n",
       "  </thead>\n",
       "  <tbody>\n",
       "    <tr>\n",
       "      <th>2980</th>\n",
       "      <td>851380310403108864</td>\n",
       "      <td>851369498351460352</td>\n",
       "      <td>IF TOMAHAWK MISSLES ARE AROUND A $1M EACH, WHY...</td>\n",
       "      <td>https://twitter.com/POTUS/status/8513803104031...</td>\n",
       "      <td>CNN was caught using photographs of the same g...</td>\n",
       "      <td>['https://www.snopes.com/tachyon/2018/03/ratin...</td>\n",
       "      <td>http://pbs.twimg.com/media/C9CsB6uXoAEaorL.jpg</td>\n",
       "      <td>NaN</td>\n",
       "      <td>https://www.snopes.com/fact-check/cnn-same-ref...</td>\n",
       "      <td>false</td>\n",
       "      <td>NaN</td>\n",
       "      <td>ok</td>\n",
       "      <td>113423108</td>\n",
       "      <td>{'cap': {'english': 0.8076035454448582, 'unive...</td>\n",
       "    </tr>\n",
       "    <tr>\n",
       "      <th>2981</th>\n",
       "      <td>851512935176425472</td>\n",
       "      <td>851501829351501824</td>\n",
       "      <td>United #UnitedAirlines https://t.co/GzXudvd9BD</td>\n",
       "      <td>https://twitter.com/POTUS/status/8515129351764...</td>\n",
       "      <td>United Airlines will begin charging for overhe...</td>\n",
       "      <td>['https://www.snopes.com/tachyon/2018/03/ratin...</td>\n",
       "      <td>http://pbs.twimg.com/media/C9EkZW-WsAAXsa-.jpg</td>\n",
       "      <td>United Airlines just announced they will now b...</td>\n",
       "      <td>https://www.snopes.com/fact-check/united-airli...</td>\n",
       "      <td>mostly-false</td>\n",
       "      <td>NaN</td>\n",
       "      <td>ok</td>\n",
       "      <td>794706601676591104</td>\n",
       "      <td>{'code': 34, 'message': 'Sorry, that page does...</td>\n",
       "    </tr>\n",
       "    <tr>\n",
       "      <th>2982</th>\n",
       "      <td>851560765433806849</td>\n",
       "      <td>851555419457585153</td>\n",
       "      <td>Honestly- I'm not a hateful person, but I hope...</td>\n",
       "      <td>https://twitter.com/POTUS/status/8515607654338...</td>\n",
       "      <td>Whoopi Goldberg said that \"military widows lov...</td>\n",
       "      <td>['https://www.snopes.com/tachyon/2018/03/ratin...</td>\n",
       "      <td>http://pbs.twimg.com/media/C9FVIyjVYAA6ZV6.jpg</td>\n",
       "      <td>.. JTHWITH JONES \" She was just looking for at...</td>\n",
       "      <td>https://www.snopes.com/fact-check/whoopi-goldb...</td>\n",
       "      <td>false</td>\n",
       "      <td>NaN</td>\n",
       "      <td>ok</td>\n",
       "      <td>59435428</td>\n",
       "      <td>{'cap': {'english': 0.30618807248975083, 'univ...</td>\n",
       "    </tr>\n",
       "    <tr>\n",
       "      <th>2983</th>\n",
       "      <td>851580394663182337</td>\n",
       "      <td>851567595409088518</td>\n",
       "      <td>@realDonaldTrump Were the crossed fingers behi...</td>\n",
       "      <td>https://twitter.com/POTUS/status/8515803946631...</td>\n",
       "      <td>Neil Gorsuch called for the \"advancement of th...</td>\n",
       "      <td>['https://www.snopes.com/tachyon/2018/03/ratin...</td>\n",
       "      <td>http://pbs.twimg.com/media/C9Ff_ZjXsAAp0EG.jpg</td>\n",
       "      <td>MakAusGr 8Again @user . Agaln Follow @user Ano...</td>\n",
       "      <td>https://www.snopes.com/fact-check/neil-gorsuch...</td>\n",
       "      <td>false</td>\n",
       "      <td>NaN</td>\n",
       "      <td>ok</td>\n",
       "      <td>3306164498</td>\n",
       "      <td>{'cap': {'english': 0.4756769663222349, 'unive...</td>\n",
       "    </tr>\n",
       "    <tr>\n",
       "      <th>2984</th>\n",
       "      <td>851574095145828352</td>\n",
       "      <td>851573350342242304</td>\n",
       "      <td>Now how do you teach a squirrel anything, oh I...</td>\n",
       "      <td>https://twitter.com/POTUS/status/8515740951458...</td>\n",
       "      <td>A woman was arrested for training squirrels to...</td>\n",
       "      <td>['https://www.snopes.com/tachyon/2018/03/ratin...</td>\n",
       "      <td>http://pbs.twimg.com/media/C9FlcdkVoAEzlwt.jpg</td>\n",
       "      <td>woMAN ARRESTED FOR TRAINING SQUIRRELS TO ATTAC...</td>\n",
       "      <td>https://www.snopes.com/fact-check/attack-squir...</td>\n",
       "      <td>false</td>\n",
       "      <td>NaN</td>\n",
       "      <td>missing</td>\n",
       "      <td>257715213</td>\n",
       "      <td>{'cap': {'english': 0.8054784364249085, 'unive...</td>\n",
       "    </tr>\n",
       "    <tr>\n",
       "      <th>2985</th>\n",
       "      <td>851729777727725568</td>\n",
       "      <td>851728536595345409</td>\n",
       "      <td>And the Australian Govt awards a $2b missile c...</td>\n",
       "      <td>https://twitter.com/POTUS/status/8517297777277...</td>\n",
       "      <td>President Trump owns stock in Raytheon and dir...</td>\n",
       "      <td>['https://www.snopes.com/tachyon/2018/03/ratin...</td>\n",
       "      <td>http://pbs.twimg.com/media/C9HykJAUMAA-LTi.jpg</td>\n",
       "      <td>Meanwhile , the stocks of the military contrac...</td>\n",
       "      <td>https://www.snopes.com/fact-check/trump-raythe...</td>\n",
       "      <td>unproven</td>\n",
       "      <td>NaN</td>\n",
       "      <td>ok</td>\n",
       "      <td>285431964</td>\n",
       "      <td>{'cap': {'english': 0.659646495284545, 'univer...</td>\n",
       "    </tr>\n",
       "    <tr>\n",
       "      <th>2986</th>\n",
       "      <td>885580034399850496</td>\n",
       "      <td>851753867989721088</td>\n",
       "      <td>When CNN Uses The Same Girl In 3 Different Ref...</td>\n",
       "      <td>https://twitter.com/POTUS/status/8855800343998...</td>\n",
       "      <td>CNN was caught using photographs of the same g...</td>\n",
       "      <td>['https://www.snopes.com/tachyon/2018/03/ratin...</td>\n",
       "      <td>http://pbs.twimg.com/media/C9IJlbHUIAA7Hzr.jpg</td>\n",
       "      <td>men CNN ugg game In 3 dffaent Refugee Crigig p...</td>\n",
       "      <td>https://www.snopes.com/fact-check/cnn-same-ref...</td>\n",
       "      <td>false</td>\n",
       "      <td>NaN</td>\n",
       "      <td>ok</td>\n",
       "      <td>785149463413268480</td>\n",
       "      <td>{'cap': {'english': 0.7611878625273879, 'unive...</td>\n",
       "    </tr>\n",
       "    <tr>\n",
       "      <th>2987</th>\n",
       "      <td>851818307522973696</td>\n",
       "      <td>851794590415724544</td>\n",
       "      <td>Annual budget of the National Endowment for th...</td>\n",
       "      <td>https://twitter.com/POTUS/status/8518183075229...</td>\n",
       "      <td>Providing security for First Lady Melania Trum...</td>\n",
       "      <td>['https://www.snopes.com/tachyon/2018/03/ratin...</td>\n",
       "      <td>http://pbs.twimg.com/media/C9IuqehU0AA6VNz.jpg</td>\n",
       "      <td>NaN</td>\n",
       "      <td>https://www.snopes.com/fact-check/melania-trum...</td>\n",
       "      <td>unproven</td>\n",
       "      <td>NaN</td>\n",
       "      <td>ok</td>\n",
       "      <td>784890784273215488</td>\n",
       "      <td>{'cap': {'english': 0.7546218700467833, 'unive...</td>\n",
       "    </tr>\n",
       "    <tr>\n",
       "      <th>2988</th>\n",
       "      <td>852058180729413633</td>\n",
       "      <td>851914780914987010</td>\n",
       "      <td>#WhiteHelmets working w/victims of sarin gas  ...</td>\n",
       "      <td>https://twitter.com/POTUS/status/8520581807294...</td>\n",
       "      <td>The search-and-rescue organization in Syria, t...</td>\n",
       "      <td>['https://www.snopes.com/tachyon/2018/03/ratin...</td>\n",
       "      <td>http://pbs.twimg.com/media/C9KbKMiW0AMAadM.jpg</td>\n",
       "      <td>NaN</td>\n",
       "      <td>https://www.snopes.com/fact-check/syrian-rescu...</td>\n",
       "      <td>false</td>\n",
       "      <td>NaN</td>\n",
       "      <td>ok</td>\n",
       "      <td>282695161</td>\n",
       "      <td>{'cap': {'english': 0.793087009461318, 'univer...</td>\n",
       "    </tr>\n",
       "    <tr>\n",
       "      <th>2989</th>\n",
       "      <td>852315244336562176</td>\n",
       "      <td>851971479642263552</td>\n",
       "      <td>@anne_goldgar @simon_schama I honestly don't k...</td>\n",
       "      <td>https://twitter.com/POTUS/status/8523152443365...</td>\n",
       "      <td>In a botched attempt to clarify his previous s...</td>\n",
       "      <td>['https://www.snopes.com/tachyon/2018/03/ratin...</td>\n",
       "      <td>http://pbs.twimg.com/media/C9LO3XnUQAAEqsS.jpg</td>\n",
       "      <td>Press Secretary Sean Spicer 3 hrs The media ha...</td>\n",
       "      <td>https://www.snopes.com/fact-check/spicer-weapo...</td>\n",
       "      <td>false</td>\n",
       "      <td>NaN</td>\n",
       "      <td>missing</td>\n",
       "      <td>16622739</td>\n",
       "      <td>{'cap': {'english': 0.5027122940873614, 'unive...</td>\n",
       "    </tr>\n",
       "    <tr>\n",
       "      <th>2990</th>\n",
       "      <td>852585427034820609</td>\n",
       "      <td>851977156271976448</td>\n",
       "      <td>You know who else thought that Jews were not G...</td>\n",
       "      <td>https://twitter.com/POTUS/status/8525854270348...</td>\n",
       "      <td>In a botched attempt to clarify his previous s...</td>\n",
       "      <td>['https://www.snopes.com/tachyon/2018/03/ratin...</td>\n",
       "      <td>http://pbs.twimg.com/media/C9LUtI4XYAEUovx.jpg</td>\n",
       "      <td>Press Secretary Sean Spicer 6 hrs . e The medi...</td>\n",
       "      <td>https://www.snopes.com/fact-check/spicer-weapo...</td>\n",
       "      <td>false</td>\n",
       "      <td>NaN</td>\n",
       "      <td>ok</td>\n",
       "      <td>22879254</td>\n",
       "      <td>{'cap': {'english': 0.30618807248975083, 'univ...</td>\n",
       "    </tr>\n",
       "    <tr>\n",
       "      <th>2991</th>\n",
       "      <td>852115530165125120</td>\n",
       "      <td>852038216882372608</td>\n",
       "      <td>#OffendEveryoneIn4Words  ...I'd be dating her....</td>\n",
       "      <td>https://twitter.com/POTUS/status/8521155301651...</td>\n",
       "      <td>A photograph shows Ivanka Trump grinding on th...</td>\n",
       "      <td>['https://www.snopes.com/tachyon/2018/03/ratin...</td>\n",
       "      <td>http://pbs.twimg.com/media/C9MMPAKVwAMVmYg.jpg</td>\n",
       "      <td>NaN</td>\n",
       "      <td>https://www.snopes.com/fact-check/ivanka-trump...</td>\n",
       "      <td>mixture</td>\n",
       "      <td>NaN</td>\n",
       "      <td>ok</td>\n",
       "      <td>1640929196</td>\n",
       "      <td>{'code': 34, 'message': 'Sorry, that page does...</td>\n",
       "    </tr>\n",
       "    <tr>\n",
       "      <th>2992</th>\n",
       "      <td>852106092477767680</td>\n",
       "      <td>852062484827693056</td>\n",
       "      <td>Another WH fakery, same girl in three differen...</td>\n",
       "      <td>https://twitter.com/POTUS/status/8521060924777...</td>\n",
       "      <td>CNN was caught using photographs of the same g...</td>\n",
       "      <td>['https://www.snopes.com/tachyon/2018/03/ratin...</td>\n",
       "      <td>http://pbs.twimg.com/media/C9MiToZXYAAfcjk.jpg</td>\n",
       "      <td>NaN</td>\n",
       "      <td>https://www.snopes.com/fact-check/cnn-same-ref...</td>\n",
       "      <td>false</td>\n",
       "      <td>NaN</td>\n",
       "      <td>ok</td>\n",
       "      <td>1289954977</td>\n",
       "      <td>{'code': 34, 'message': 'Sorry, that page does...</td>\n",
       "    </tr>\n",
       "    <tr>\n",
       "      <th>2993</th>\n",
       "      <td>852295102684962817</td>\n",
       "      <td>852159615563378690</td>\n",
       "      <td>@joerogan Did you see this? Southwest airlines...</td>\n",
       "      <td>https://twitter.com/POTUS/status/8522951026849...</td>\n",
       "      <td>Southwest Airlines changed their slogan to cap...</td>\n",
       "      <td>['https://www.snopes.com/tachyon/2018/03/ratin...</td>\n",
       "      <td>http://pbs.twimg.com/media/C9N6poRW0AEkMXD.jpg</td>\n",
       "      <td>Southweste We beat the competition . Not you .</td>\n",
       "      <td>https://www.snopes.com/fact-check/southwest-ai...</td>\n",
       "      <td>false</td>\n",
       "      <td>NaN</td>\n",
       "      <td>missing</td>\n",
       "      <td>221797984</td>\n",
       "      <td>NaN</td>\n",
       "    </tr>\n",
       "    <tr>\n",
       "      <th>2994</th>\n",
       "      <td>852230036258205696</td>\n",
       "      <td>852218990789263360</td>\n",
       "      <td>@yzbeauty4him @TrumpLovePutin @Charlen92128804...</td>\n",
       "      <td>https://twitter.com/POTUS/status/8522300362582...</td>\n",
       "      <td>TV evangelist Pat Robertson described nude pho...</td>\n",
       "      <td>['https://www.snopes.com/tachyon/2018/03/ratin...</td>\n",
       "      <td>http://pbs.twimg.com/media/C9Owph9WsAQ2kdm.jpg</td>\n",
       "      <td>Pot Roberson comments on Michelle Otxvna's \" M...</td>\n",
       "      <td>https://www.snopes.com/fact-check/pat-robertso...</td>\n",
       "      <td>false</td>\n",
       "      <td>NaN</td>\n",
       "      <td>ok</td>\n",
       "      <td>787314168219176960</td>\n",
       "      <td>NaN</td>\n",
       "    </tr>\n",
       "    <tr>\n",
       "      <th>2995</th>\n",
       "      <td>852242215640457216</td>\n",
       "      <td>852238591484940289</td>\n",
       "      <td>Ronald Reagan when he first met Trump. https:/...</td>\n",
       "      <td>https://twitter.com/POTUS/status/8522422156404...</td>\n",
       "      <td>Ronald Reagan said he felt like he was shaking...</td>\n",
       "      <td>['https://www.snopes.com/tachyon/2018/03/ratin...</td>\n",
       "      <td>http://pbs.twimg.com/media/C9PCXNMXkAIHONx.jpg</td>\n",
       "      <td>Prophetic Reagan For the life of me , ' and I'...</td>\n",
       "      <td>https://www.snopes.com/fact-check/reagan-trump...</td>\n",
       "      <td>false</td>\n",
       "      <td>NaN</td>\n",
       "      <td>ok</td>\n",
       "      <td>2719597309</td>\n",
       "      <td>NaN</td>\n",
       "    </tr>\n",
       "    <tr>\n",
       "      <th>2996</th>\n",
       "      <td>852240452745142273</td>\n",
       "      <td>852238948046966785</td>\n",
       "      <td>Ben Carson trending 4 getting stuck in an elev...</td>\n",
       "      <td>https://twitter.com/POTUS/status/8522404527451...</td>\n",
       "      <td>HUD director Ben Carson found more than $500 b...</td>\n",
       "      <td>['https://www.snopes.com/tachyon/2018/03/ratin...</td>\n",
       "      <td>http://pbs.twimg.com/media/C9PCzbQWAAExtk5.jpg</td>\n",
       "      <td>ooo AT &amp; T 3:12 PM thetruthdivision.com MENU =...</td>\n",
       "      <td>https://www.snopes.com/fact-check/carson-hud-a...</td>\n",
       "      <td>mostly-false</td>\n",
       "      <td>NaN</td>\n",
       "      <td>ok</td>\n",
       "      <td>4427224377</td>\n",
       "      <td>NaN</td>\n",
       "    </tr>\n",
       "    <tr>\n",
       "      <th>2997</th>\n",
       "      <td>852346862552076289</td>\n",
       "      <td>852245457321504768</td>\n",
       "      <td>Donald at his finest doing to himself what he'...</td>\n",
       "      <td>https://twitter.com/POTUS/status/8523468625520...</td>\n",
       "      <td>A photograph shows Donald Trump with a diarrhe...</td>\n",
       "      <td>['https://www.snopes.com/tachyon/2018/03/ratin...</td>\n",
       "      <td>http://pbs.twimg.com/media/C9PIuQDUQAAtFJ1.jpg</td>\n",
       "      <td>NaN</td>\n",
       "      <td>https://www.snopes.com/fact-check/trump-diarrh...</td>\n",
       "      <td>false</td>\n",
       "      <td>NaN</td>\n",
       "      <td>ok</td>\n",
       "      <td>325414439</td>\n",
       "      <td>NaN</td>\n",
       "    </tr>\n",
       "    <tr>\n",
       "      <th>2998</th>\n",
       "      <td>852348237390282755</td>\n",
       "      <td>852258086454673408</td>\n",
       "      <td>That shitty fatty doing to himself what he's d...</td>\n",
       "      <td>https://twitter.com/POTUS/status/8523482373902...</td>\n",
       "      <td>A photograph shows Donald Trump with a diarrhe...</td>\n",
       "      <td>['https://www.snopes.com/tachyon/2018/03/ratin...</td>\n",
       "      <td>http://pbs.twimg.com/media/C9PUNaOUwAAf_rq.jpg</td>\n",
       "      <td>NaN</td>\n",
       "      <td>https://www.snopes.com/fact-check/trump-diarrh...</td>\n",
       "      <td>false</td>\n",
       "      <td>NaN</td>\n",
       "      <td>ok</td>\n",
       "      <td>836800363</td>\n",
       "      <td>NaN</td>\n",
       "    </tr>\n",
       "    <tr>\n",
       "      <th>2999</th>\n",
       "      <td>852362322853146624</td>\n",
       "      <td>852292939661402113</td>\n",
       "      <td>Try it,,, even if they protest and picket. htt...</td>\n",
       "      <td>https://twitter.com/POTUS/status/8523623228531...</td>\n",
       "      <td>Actor Bill Murray said in order to teach child...</td>\n",
       "      <td>['https://www.snopes.com/tachyon/2018/03/ratin...</td>\n",
       "      <td>http://pbs.twimg.com/media/C9Pz6UJWAAQhp4L.jpg</td>\n",
       "      <td>NaN</td>\n",
       "      <td>https://www.snopes.com/fact-check/bill-murray-...</td>\n",
       "      <td>false</td>\n",
       "      <td>NaN</td>\n",
       "      <td>ok</td>\n",
       "      <td>313460745</td>\n",
       "      <td>NaN</td>\n",
       "    </tr>\n",
       "    <tr>\n",
       "      <th>3000</th>\n",
       "      <td>852339574860853248</td>\n",
       "      <td>852336820218208257</td>\n",
       "      <td>@vbernero you missed when #bencarson finds $50...</td>\n",
       "      <td>https://twitter.com/POTUS/status/8523395748608...</td>\n",
       "      <td>HUD director Ben Carson found more than $500 b...</td>\n",
       "      <td>['https://www.snopes.com/tachyon/2018/03/ratin...</td>\n",
       "      <td>http://pbs.twimg.com/media/C9Qb0VPXUAAkPSX.jpg</td>\n",
       "      <td>thegatewaypundit.com C MSM SILENT : Ben Carson...</td>\n",
       "      <td>https://www.snopes.com/fact-check/carson-hud-a...</td>\n",
       "      <td>mostly-false</td>\n",
       "      <td>NaN</td>\n",
       "      <td>ok</td>\n",
       "      <td>466008745</td>\n",
       "      <td>NaN</td>\n",
       "    </tr>\n",
       "  </tbody>\n",
       "</table>\n",
       "</div>"
      ],
      "text/plain": [
       "                      id         original_id  \\\n",
       "2980  851380310403108864  851369498351460352   \n",
       "2981  851512935176425472  851501829351501824   \n",
       "2982  851560765433806849  851555419457585153   \n",
       "2983  851580394663182337  851567595409088518   \n",
       "2984  851574095145828352  851573350342242304   \n",
       "2985  851729777727725568  851728536595345409   \n",
       "2986  885580034399850496  851753867989721088   \n",
       "2987  851818307522973696  851794590415724544   \n",
       "2988  852058180729413633  851914780914987010   \n",
       "2989  852315244336562176  851971479642263552   \n",
       "2990  852585427034820609  851977156271976448   \n",
       "2991  852115530165125120  852038216882372608   \n",
       "2992  852106092477767680  852062484827693056   \n",
       "2993  852295102684962817  852159615563378690   \n",
       "2994  852230036258205696  852218990789263360   \n",
       "2995  852242215640457216  852238591484940289   \n",
       "2996  852240452745142273  852238948046966785   \n",
       "2997  852346862552076289  852245457321504768   \n",
       "2998  852348237390282755  852258086454673408   \n",
       "2999  852362322853146624  852292939661402113   \n",
       "3000  852339574860853248  852336820218208257   \n",
       "\n",
       "                                             tweet_text  \\\n",
       "2980  IF TOMAHAWK MISSLES ARE AROUND A $1M EACH, WHY...   \n",
       "2981     United #UnitedAirlines https://t.co/GzXudvd9BD   \n",
       "2982  Honestly- I'm not a hateful person, but I hope...   \n",
       "2983  @realDonaldTrump Were the crossed fingers behi...   \n",
       "2984  Now how do you teach a squirrel anything, oh I...   \n",
       "2985  And the Australian Govt awards a $2b missile c...   \n",
       "2986  When CNN Uses The Same Girl In 3 Different Ref...   \n",
       "2987  Annual budget of the National Endowment for th...   \n",
       "2988  #WhiteHelmets working w/victims of sarin gas  ...   \n",
       "2989  @anne_goldgar @simon_schama I honestly don't k...   \n",
       "2990  You know who else thought that Jews were not G...   \n",
       "2991  #OffendEveryoneIn4Words  ...I'd be dating her....   \n",
       "2992  Another WH fakery, same girl in three differen...   \n",
       "2993  @joerogan Did you see this? Southwest airlines...   \n",
       "2994  @yzbeauty4him @TrumpLovePutin @Charlen92128804...   \n",
       "2995  Ronald Reagan when he first met Trump. https:/...   \n",
       "2996  Ben Carson trending 4 getting stuck in an elev...   \n",
       "2997  Donald at his finest doing to himself what he'...   \n",
       "2998  That shitty fatty doing to himself what he's d...   \n",
       "2999  Try it,,, even if they protest and picket. htt...   \n",
       "3000  @vbernero you missed when #bencarson finds $50...   \n",
       "\n",
       "                                              tweet_url  \\\n",
       "2980  https://twitter.com/POTUS/status/8513803104031...   \n",
       "2981  https://twitter.com/POTUS/status/8515129351764...   \n",
       "2982  https://twitter.com/POTUS/status/8515607654338...   \n",
       "2983  https://twitter.com/POTUS/status/8515803946631...   \n",
       "2984  https://twitter.com/POTUS/status/8515740951458...   \n",
       "2985  https://twitter.com/POTUS/status/8517297777277...   \n",
       "2986  https://twitter.com/POTUS/status/8855800343998...   \n",
       "2987  https://twitter.com/POTUS/status/8518183075229...   \n",
       "2988  https://twitter.com/POTUS/status/8520581807294...   \n",
       "2989  https://twitter.com/POTUS/status/8523152443365...   \n",
       "2990  https://twitter.com/POTUS/status/8525854270348...   \n",
       "2991  https://twitter.com/POTUS/status/8521155301651...   \n",
       "2992  https://twitter.com/POTUS/status/8521060924777...   \n",
       "2993  https://twitter.com/POTUS/status/8522951026849...   \n",
       "2994  https://twitter.com/POTUS/status/8522300362582...   \n",
       "2995  https://twitter.com/POTUS/status/8522422156404...   \n",
       "2996  https://twitter.com/POTUS/status/8522404527451...   \n",
       "2997  https://twitter.com/POTUS/status/8523468625520...   \n",
       "2998  https://twitter.com/POTUS/status/8523482373902...   \n",
       "2999  https://twitter.com/POTUS/status/8523623228531...   \n",
       "3000  https://twitter.com/POTUS/status/8523395748608...   \n",
       "\n",
       "                                                  claim  \\\n",
       "2980  CNN was caught using photographs of the same g...   \n",
       "2981  United Airlines will begin charging for overhe...   \n",
       "2982  Whoopi Goldberg said that \"military widows lov...   \n",
       "2983  Neil Gorsuch called for the \"advancement of th...   \n",
       "2984  A woman was arrested for training squirrels to...   \n",
       "2985  President Trump owns stock in Raytheon and dir...   \n",
       "2986  CNN was caught using photographs of the same g...   \n",
       "2987  Providing security for First Lady Melania Trum...   \n",
       "2988  The search-and-rescue organization in Syria, t...   \n",
       "2989  In a botched attempt to clarify his previous s...   \n",
       "2990  In a botched attempt to clarify his previous s...   \n",
       "2991  A photograph shows Ivanka Trump grinding on th...   \n",
       "2992  CNN was caught using photographs of the same g...   \n",
       "2993  Southwest Airlines changed their slogan to cap...   \n",
       "2994  TV evangelist Pat Robertson described nude pho...   \n",
       "2995  Ronald Reagan said he felt like he was shaking...   \n",
       "2996  HUD director Ben Carson found more than $500 b...   \n",
       "2997  A photograph shows Donald Trump with a diarrhe...   \n",
       "2998  A photograph shows Donald Trump with a diarrhe...   \n",
       "2999  Actor Bill Murray said in order to teach child...   \n",
       "3000  HUD director Ben Carson found more than $500 b...   \n",
       "\n",
       "                                                 rating  \\\n",
       "2980  ['https://www.snopes.com/tachyon/2018/03/ratin...   \n",
       "2981  ['https://www.snopes.com/tachyon/2018/03/ratin...   \n",
       "2982  ['https://www.snopes.com/tachyon/2018/03/ratin...   \n",
       "2983  ['https://www.snopes.com/tachyon/2018/03/ratin...   \n",
       "2984  ['https://www.snopes.com/tachyon/2018/03/ratin...   \n",
       "2985  ['https://www.snopes.com/tachyon/2018/03/ratin...   \n",
       "2986  ['https://www.snopes.com/tachyon/2018/03/ratin...   \n",
       "2987  ['https://www.snopes.com/tachyon/2018/03/ratin...   \n",
       "2988  ['https://www.snopes.com/tachyon/2018/03/ratin...   \n",
       "2989  ['https://www.snopes.com/tachyon/2018/03/ratin...   \n",
       "2990  ['https://www.snopes.com/tachyon/2018/03/ratin...   \n",
       "2991  ['https://www.snopes.com/tachyon/2018/03/ratin...   \n",
       "2992  ['https://www.snopes.com/tachyon/2018/03/ratin...   \n",
       "2993  ['https://www.snopes.com/tachyon/2018/03/ratin...   \n",
       "2994  ['https://www.snopes.com/tachyon/2018/03/ratin...   \n",
       "2995  ['https://www.snopes.com/tachyon/2018/03/ratin...   \n",
       "2996  ['https://www.snopes.com/tachyon/2018/03/ratin...   \n",
       "2997  ['https://www.snopes.com/tachyon/2018/03/ratin...   \n",
       "2998  ['https://www.snopes.com/tachyon/2018/03/ratin...   \n",
       "2999  ['https://www.snopes.com/tachyon/2018/03/ratin...   \n",
       "3000  ['https://www.snopes.com/tachyon/2018/03/ratin...   \n",
       "\n",
       "                                              images  \\\n",
       "2980  http://pbs.twimg.com/media/C9CsB6uXoAEaorL.jpg   \n",
       "2981  http://pbs.twimg.com/media/C9EkZW-WsAAXsa-.jpg   \n",
       "2982  http://pbs.twimg.com/media/C9FVIyjVYAA6ZV6.jpg   \n",
       "2983  http://pbs.twimg.com/media/C9Ff_ZjXsAAp0EG.jpg   \n",
       "2984  http://pbs.twimg.com/media/C9FlcdkVoAEzlwt.jpg   \n",
       "2985  http://pbs.twimg.com/media/C9HykJAUMAA-LTi.jpg   \n",
       "2986  http://pbs.twimg.com/media/C9IJlbHUIAA7Hzr.jpg   \n",
       "2987  http://pbs.twimg.com/media/C9IuqehU0AA6VNz.jpg   \n",
       "2988  http://pbs.twimg.com/media/C9KbKMiW0AMAadM.jpg   \n",
       "2989  http://pbs.twimg.com/media/C9LO3XnUQAAEqsS.jpg   \n",
       "2990  http://pbs.twimg.com/media/C9LUtI4XYAEUovx.jpg   \n",
       "2991  http://pbs.twimg.com/media/C9MMPAKVwAMVmYg.jpg   \n",
       "2992  http://pbs.twimg.com/media/C9MiToZXYAAfcjk.jpg   \n",
       "2993  http://pbs.twimg.com/media/C9N6poRW0AEkMXD.jpg   \n",
       "2994  http://pbs.twimg.com/media/C9Owph9WsAQ2kdm.jpg   \n",
       "2995  http://pbs.twimg.com/media/C9PCXNMXkAIHONx.jpg   \n",
       "2996  http://pbs.twimg.com/media/C9PCzbQWAAExtk5.jpg   \n",
       "2997  http://pbs.twimg.com/media/C9PIuQDUQAAtFJ1.jpg   \n",
       "2998  http://pbs.twimg.com/media/C9PUNaOUwAAf_rq.jpg   \n",
       "2999  http://pbs.twimg.com/media/C9Pz6UJWAAQhp4L.jpg   \n",
       "3000  http://pbs.twimg.com/media/C9Qb0VPXUAAkPSX.jpg   \n",
       "\n",
       "                                            text_images  \\\n",
       "2980                                                NaN   \n",
       "2981  United Airlines just announced they will now b...   \n",
       "2982  .. JTHWITH JONES \" She was just looking for at...   \n",
       "2983  MakAusGr 8Again @user . Agaln Follow @user Ano...   \n",
       "2984  woMAN ARRESTED FOR TRAINING SQUIRRELS TO ATTAC...   \n",
       "2985  Meanwhile , the stocks of the military contrac...   \n",
       "2986  men CNN ugg game In 3 dffaent Refugee Crigig p...   \n",
       "2987                                                NaN   \n",
       "2988                                                NaN   \n",
       "2989  Press Secretary Sean Spicer 3 hrs The media ha...   \n",
       "2990  Press Secretary Sean Spicer 6 hrs . e The medi...   \n",
       "2991                                                NaN   \n",
       "2992                                                NaN   \n",
       "2993     Southweste We beat the competition . Not you .   \n",
       "2994  Pot Roberson comments on Michelle Otxvna's \" M...   \n",
       "2995  Prophetic Reagan For the life of me , ' and I'...   \n",
       "2996  ooo AT & T 3:12 PM thetruthdivision.com MENU =...   \n",
       "2997                                                NaN   \n",
       "2998                                                NaN   \n",
       "2999                                                NaN   \n",
       "3000  thegatewaypundit.com C MSM SILENT : Ben Carson...   \n",
       "\n",
       "                                                 source         label  \\\n",
       "2980  https://www.snopes.com/fact-check/cnn-same-ref...         false   \n",
       "2981  https://www.snopes.com/fact-check/united-airli...  mostly-false   \n",
       "2982  https://www.snopes.com/fact-check/whoopi-goldb...         false   \n",
       "2983  https://www.snopes.com/fact-check/neil-gorsuch...         false   \n",
       "2984  https://www.snopes.com/fact-check/attack-squir...         false   \n",
       "2985  https://www.snopes.com/fact-check/trump-raythe...      unproven   \n",
       "2986  https://www.snopes.com/fact-check/cnn-same-ref...         false   \n",
       "2987  https://www.snopes.com/fact-check/melania-trum...      unproven   \n",
       "2988  https://www.snopes.com/fact-check/syrian-rescu...         false   \n",
       "2989  https://www.snopes.com/fact-check/spicer-weapo...         false   \n",
       "2990  https://www.snopes.com/fact-check/spicer-weapo...         false   \n",
       "2991  https://www.snopes.com/fact-check/ivanka-trump...       mixture   \n",
       "2992  https://www.snopes.com/fact-check/cnn-same-ref...         false   \n",
       "2993  https://www.snopes.com/fact-check/southwest-ai...         false   \n",
       "2994  https://www.snopes.com/fact-check/pat-robertso...         false   \n",
       "2995  https://www.snopes.com/fact-check/reagan-trump...         false   \n",
       "2996  https://www.snopes.com/fact-check/carson-hud-a...  mostly-false   \n",
       "2997  https://www.snopes.com/fact-check/trump-diarrh...         false   \n",
       "2998  https://www.snopes.com/fact-check/trump-diarrh...         false   \n",
       "2999  https://www.snopes.com/fact-check/bill-murray-...         false   \n",
       "3000  https://www.snopes.com/fact-check/carson-hud-a...  mostly-false   \n",
       "\n",
       "      label_info available              acc_id  \\\n",
       "2980         NaN        ok           113423108   \n",
       "2981         NaN        ok  794706601676591104   \n",
       "2982         NaN        ok            59435428   \n",
       "2983         NaN        ok          3306164498   \n",
       "2984         NaN   missing           257715213   \n",
       "2985         NaN        ok           285431964   \n",
       "2986         NaN        ok  785149463413268480   \n",
       "2987         NaN        ok  784890784273215488   \n",
       "2988         NaN        ok           282695161   \n",
       "2989         NaN   missing            16622739   \n",
       "2990         NaN        ok            22879254   \n",
       "2991         NaN        ok          1640929196   \n",
       "2992         NaN        ok          1289954977   \n",
       "2993         NaN   missing           221797984   \n",
       "2994         NaN        ok  787314168219176960   \n",
       "2995         NaN        ok          2719597309   \n",
       "2996         NaN        ok          4427224377   \n",
       "2997         NaN        ok           325414439   \n",
       "2998         NaN        ok           836800363   \n",
       "2999         NaN        ok           313460745   \n",
       "3000         NaN        ok           466008745   \n",
       "\n",
       "                                              botometer  \n",
       "2980  {'cap': {'english': 0.8076035454448582, 'unive...  \n",
       "2981  {'code': 34, 'message': 'Sorry, that page does...  \n",
       "2982  {'cap': {'english': 0.30618807248975083, 'univ...  \n",
       "2983  {'cap': {'english': 0.4756769663222349, 'unive...  \n",
       "2984  {'cap': {'english': 0.8054784364249085, 'unive...  \n",
       "2985  {'cap': {'english': 0.659646495284545, 'univer...  \n",
       "2986  {'cap': {'english': 0.7611878625273879, 'unive...  \n",
       "2987  {'cap': {'english': 0.7546218700467833, 'unive...  \n",
       "2988  {'cap': {'english': 0.793087009461318, 'univer...  \n",
       "2989  {'cap': {'english': 0.5027122940873614, 'unive...  \n",
       "2990  {'cap': {'english': 0.30618807248975083, 'univ...  \n",
       "2991  {'code': 34, 'message': 'Sorry, that page does...  \n",
       "2992  {'code': 34, 'message': 'Sorry, that page does...  \n",
       "2993                                                NaN  \n",
       "2994                                                NaN  \n",
       "2995                                                NaN  \n",
       "2996                                                NaN  \n",
       "2997                                                NaN  \n",
       "2998                                                NaN  \n",
       "2999                                                NaN  \n",
       "3000                                                NaN  "
      ]
     },
     "execution_count": 20,
     "metadata": {},
     "output_type": "execute_result"
    }
   ],
   "source": [
    "df.loc[2980:3000]"
   ]
  },
  {
   "cell_type": "code",
   "execution_count": 6,
   "metadata": {},
   "outputs": [
    {
     "name": "stdout",
     "output_type": "stream",
     "text": [
      "Collecting tweepy==3.6\n",
      "  Downloading tweepy-3.6.0-py2.py3-none-any.whl (29 kB)\n",
      "Requirement already satisfied: requests>=2.11.1 in /home/mihail/.local/lib/python3.8/site-packages (from tweepy==3.6) (2.27.1)\n",
      "Requirement already satisfied: six>=1.10.0 in /usr/lib/python3/dist-packages (from tweepy==3.6) (1.14.0)\n",
      "Requirement already satisfied: requests-oauthlib>=0.7.0 in /home/mihail/.local/lib/python3.8/site-packages (from tweepy==3.6) (1.3.1)\n",
      "Collecting PySocks>=1.5.7\n",
      "  Downloading PySocks-1.7.1-py3-none-any.whl (16 kB)\n",
      "Requirement already satisfied: idna<4,>=2.5; python_version >= \"3\" in /usr/lib/python3/dist-packages (from requests>=2.11.1->tweepy==3.6) (2.8)\n",
      "Requirement already satisfied: certifi>=2017.4.17 in /usr/lib/python3/dist-packages (from requests>=2.11.1->tweepy==3.6) (2019.11.28)\n",
      "Requirement already satisfied: urllib3<1.27,>=1.21.1 in /usr/lib/python3/dist-packages (from requests>=2.11.1->tweepy==3.6) (1.25.8)\n",
      "Requirement already satisfied: charset-normalizer~=2.0.0; python_version >= \"3\" in /home/mihail/.local/lib/python3.8/site-packages (from requests>=2.11.1->tweepy==3.6) (2.0.12)\n",
      "Requirement already satisfied: oauthlib>=3.0.0 in /home/mihail/.local/lib/python3.8/site-packages (from requests-oauthlib>=0.7.0->tweepy==3.6) (3.2.0)\n",
      "Installing collected packages: PySocks, tweepy\n",
      "  Attempting uninstall: tweepy\n",
      "    Found existing installation: tweepy 4.0.0\n",
      "    Uninstalling tweepy-4.0.0:\n",
      "      Successfully uninstalled tweepy-4.0.0\n",
      "Successfully installed PySocks-1.7.1 tweepy-3.6.0\n",
      "Note: you may need to restart the kernel to use updated packages.\n"
     ]
    }
   ],
   "source": [
    "pip install tweepy==3.6"
   ]
  },
  {
   "cell_type": "code",
   "execution_count": 164,
   "metadata": {},
   "outputs": [
    {
     "data": {
      "text/plain": [
       "6232"
      ]
     },
     "execution_count": 164,
     "metadata": {},
     "output_type": "execute_result"
    }
   ],
   "source": [
    "df.botometer.isna().sum()"
   ]
  },
  {
   "cell_type": "code",
   "execution_count": 167,
   "metadata": {},
   "outputs": [
    {
     "data": {
      "text/html": [
       "<div>\n",
       "<style scoped>\n",
       "    .dataframe tbody tr th:only-of-type {\n",
       "        vertical-align: middle;\n",
       "    }\n",
       "\n",
       "    .dataframe tbody tr th {\n",
       "        vertical-align: top;\n",
       "    }\n",
       "\n",
       "    .dataframe thead th {\n",
       "        text-align: right;\n",
       "    }\n",
       "</style>\n",
       "<table border=\"1\" class=\"dataframe\">\n",
       "  <thead>\n",
       "    <tr style=\"text-align: right;\">\n",
       "      <th></th>\n",
       "      <th>id</th>\n",
       "      <th>original_id</th>\n",
       "      <th>tweet_text</th>\n",
       "      <th>tweet_url</th>\n",
       "      <th>claim</th>\n",
       "      <th>rating</th>\n",
       "      <th>images</th>\n",
       "      <th>text_images</th>\n",
       "      <th>source</th>\n",
       "      <th>label</th>\n",
       "      <th>label_info</th>\n",
       "      <th>available</th>\n",
       "      <th>acc_id</th>\n",
       "      <th>botometer</th>\n",
       "    </tr>\n",
       "  </thead>\n",
       "  <tbody>\n",
       "    <tr>\n",
       "      <th>904</th>\n",
       "      <td>777593547142889472</td>\n",
       "      <td>777587316923600896</td>\n",
       "      <td>The @WSJ has different content in different lo...</td>\n",
       "      <td>https://twitter.com/POTUS/status/7775935471428...</td>\n",
       "      <td>The Wall Street Journal ran Donald Trump stori...</td>\n",
       "      <td>['https://www.snopes.com/tachyon/2018/03/ratin...</td>\n",
       "      <td>http://pbs.twimg.com/media/CsqLirWUAAACzYg.jpg</td>\n",
       "      <td>TIIE WALL STREET JOIRNAL . THE LOAFER STEPS UP...</td>\n",
       "      <td>https://www.snopes.com/fact-check/wsj-differen...</td>\n",
       "      <td>true</td>\n",
       "      <td>NaN</td>\n",
       "      <td>ok</td>\n",
       "      <td>3362345172</td>\n",
       "      <td>{'code': 34, 'message': 'Sorry, that page does...</td>\n",
       "    </tr>\n",
       "  </tbody>\n",
       "</table>\n",
       "</div>"
      ],
      "text/plain": [
       "                     id         original_id  \\\n",
       "904  777593547142889472  777587316923600896   \n",
       "\n",
       "                                            tweet_text  \\\n",
       "904  The @WSJ has different content in different lo...   \n",
       "\n",
       "                                             tweet_url  \\\n",
       "904  https://twitter.com/POTUS/status/7775935471428...   \n",
       "\n",
       "                                                 claim  \\\n",
       "904  The Wall Street Journal ran Donald Trump stori...   \n",
       "\n",
       "                                                rating  \\\n",
       "904  ['https://www.snopes.com/tachyon/2018/03/ratin...   \n",
       "\n",
       "                                             images  \\\n",
       "904  http://pbs.twimg.com/media/CsqLirWUAAACzYg.jpg   \n",
       "\n",
       "                                           text_images  \\\n",
       "904  TIIE WALL STREET JOIRNAL . THE LOAFER STEPS UP...   \n",
       "\n",
       "                                                source label  label_info  \\\n",
       "904  https://www.snopes.com/fact-check/wsj-differen...  true         NaN   \n",
       "\n",
       "    available      acc_id                                          botometer  \n",
       "904        ok  3362345172  {'code': 34, 'message': 'Sorry, that page does...  "
      ]
     },
     "execution_count": 167,
     "metadata": {},
     "output_type": "execute_result"
    }
   ],
   "source": [
    "df[df.acc_id.isin([3362345172])]"
   ]
  },
  {
   "cell_type": "code",
   "execution_count": 177,
   "metadata": {},
   "outputs": [],
   "source": [
    "df.to_csv(\"snopes_1429.csv\", index=False)"
   ]
  },
  {
   "cell_type": "code",
   "execution_count": 12,
   "metadata": {},
   "outputs": [],
   "source": [
    "df.to_csv(\"snopes_1942.csv\", index=False)"
   ]
  },
  {
   "cell_type": "code",
   "execution_count": null,
   "metadata": {},
   "outputs": [],
   "source": [
    "df.to_csv(\"snopes_2990.csv\", index=False)"
   ]
  },
  {
   "cell_type": "code",
   "execution_count": 5,
   "metadata": {},
   "outputs": [],
   "source": [
    "df = pd.read_csv(\"snopes_2463.csv\")"
   ]
  },
  {
   "cell_type": "code",
   "execution_count": 6,
   "metadata": {},
   "outputs": [
    {
     "data": {
      "text/html": [
       "<div>\n",
       "<style scoped>\n",
       "    .dataframe tbody tr th:only-of-type {\n",
       "        vertical-align: middle;\n",
       "    }\n",
       "\n",
       "    .dataframe tbody tr th {\n",
       "        vertical-align: top;\n",
       "    }\n",
       "\n",
       "    .dataframe thead th {\n",
       "        text-align: right;\n",
       "    }\n",
       "</style>\n",
       "<table border=\"1\" class=\"dataframe\">\n",
       "  <thead>\n",
       "    <tr style=\"text-align: right;\">\n",
       "      <th></th>\n",
       "      <th>id</th>\n",
       "      <th>original_id</th>\n",
       "      <th>tweet_text</th>\n",
       "      <th>tweet_url</th>\n",
       "      <th>claim</th>\n",
       "      <th>rating</th>\n",
       "      <th>images</th>\n",
       "      <th>text_images</th>\n",
       "      <th>source</th>\n",
       "      <th>label</th>\n",
       "      <th>label_info</th>\n",
       "      <th>available</th>\n",
       "      <th>acc_id</th>\n",
       "      <th>botometer</th>\n",
       "    </tr>\n",
       "  </thead>\n",
       "  <tbody>\n",
       "    <tr>\n",
       "      <th>2460</th>\n",
       "      <td>831245117075906560</td>\n",
       "      <td>830694544446468096</td>\n",
       "      <td>@OpenSociety @BallSixOFour funny Ive got his p...</td>\n",
       "      <td>https://twitter.com/POTUS/status/8312451170759...</td>\n",
       "      <td>During World War II, George Soros was a member...</td>\n",
       "      <td>['https://www.snopes.com/tachyon/2018/03/ratin...</td>\n",
       "      <td>http://pbs.twimg.com/media/C4c4PT3VYAAP-S3.jpg</td>\n",
       "      <td>3:24 I give you George Soros . A SS in the Nat...</td>\n",
       "      <td>https://www.snopes.com/fact-check/george-soros...</td>\n",
       "      <td>false</td>\n",
       "      <td>NaN</td>\n",
       "      <td>ok</td>\n",
       "      <td>1634254471</td>\n",
       "      <td>{'cap': {'english': 0.4756769663222349, 'unive...</td>\n",
       "    </tr>\n",
       "    <tr>\n",
       "      <th>2461</th>\n",
       "      <td>830820488893100032</td>\n",
       "      <td>830814708726784000</td>\n",
       "      <td>How about Mexico tear down their border fence ...</td>\n",
       "      <td>https://twitter.com/POTUS/status/8308204888931...</td>\n",
       "      <td>Photographs show a border fence between the co...</td>\n",
       "      <td>['https://www.snopes.com/tachyon/2018/03/ratin...</td>\n",
       "      <td>http://pbs.twimg.com/media/Bp5WSbsCUAACjw1.jpg</td>\n",
       "      <td>MEXICO s SOUTHERN BORDER A tull border tenceli...</td>\n",
       "      <td>https://www.snopes.com/fact-check/mexico-guate...</td>\n",
       "      <td>false</td>\n",
       "      <td>NaN</td>\n",
       "      <td>ok</td>\n",
       "      <td>177584156</td>\n",
       "      <td>{'cap': {'english': 0.8287549877594508, 'unive...</td>\n",
       "    </tr>\n",
       "    <tr>\n",
       "      <th>2462</th>\n",
       "      <td>830820286199119872</td>\n",
       "      <td>830819661298085888</td>\n",
       "      <td>@realDonaldTrump did you get the scoop on how ...</td>\n",
       "      <td>https://twitter.com/POTUS/status/8308202861991...</td>\n",
       "      <td>Japan has kept Islam at bay by enforcing stric...</td>\n",
       "      <td>['https://www.snopes.com/tachyon/2018/03/ratin...</td>\n",
       "      <td>http://pbs.twimg.com/media/C4eqEyRUMAAqvQb.jpg</td>\n",
       "      <td>an keeps Islam at bay by putting restrictions ...</td>\n",
       "      <td>https://www.snopes.com/fact-check/muslims-in-j...</td>\n",
       "      <td>false</td>\n",
       "      <td>NaN</td>\n",
       "      <td>ok</td>\n",
       "      <td>711580970365784064</td>\n",
       "      <td>{'code': 34, 'message': 'Sorry, that page does...</td>\n",
       "    </tr>\n",
       "    <tr>\n",
       "      <th>2463</th>\n",
       "      <td>830885269574389761</td>\n",
       "      <td>830883550522122240</td>\n",
       "      <td>Hate Liberals? Bite Me! https://t.co/uhzMfvs25N</td>\n",
       "      <td>https://twitter.com/POTUS/status/8308852695743...</td>\n",
       "      <td>\"Snowflake\" was a Nazi term used to describe t...</td>\n",
       "      <td>['https://www.snopes.com/tachyon/2018/03/ratin...</td>\n",
       "      <td>http://pbs.twimg.com/media/C4fkA5-WQAAwcsW.jpg</td>\n",
       "      <td>The next time a conservative calls you a \" sno...</td>\n",
       "      <td>https://www.snopes.com/fact-check/snowflake-na...</td>\n",
       "      <td>false</td>\n",
       "      <td>NaN</td>\n",
       "      <td>ok</td>\n",
       "      <td>67899097</td>\n",
       "      <td>{'cap': {'english': 0.9158377984126878, 'unive...</td>\n",
       "    </tr>\n",
       "    <tr>\n",
       "      <th>2464</th>\n",
       "      <td>830898663027208192</td>\n",
       "      <td>830895419542482944</td>\n",
       "      <td>.@chrizap #Germany knows #fascists when they s...</td>\n",
       "      <td>https://twitter.com/POTUS/status/8308986630272...</td>\n",
       "      <td>Supreme Court nominee Neil Gorsuch founded a '...</td>\n",
       "      <td>['https://www.snopes.com/tachyon/2018/03/ratin...</td>\n",
       "      <td>http://pbs.twimg.com/media/C4ftzbxUcAA-qF1.jpg</td>\n",
       "      <td>uS i 2 Club World Neil M . T . Gorsuch 243 Sou...</td>\n",
       "      <td>https://www.snopes.com/fact-check/neil-gorsuch...</td>\n",
       "      <td>false</td>\n",
       "      <td>NaN</td>\n",
       "      <td>ok</td>\n",
       "      <td>471831519</td>\n",
       "      <td>{'code': 34, 'message': 'Sorry, that page does...</td>\n",
       "    </tr>\n",
       "    <tr>\n",
       "      <th>2465</th>\n",
       "      <td>830963088950063105</td>\n",
       "      <td>830911856277610497</td>\n",
       "      <td>@DavidGMcAfee He didn't lost.Won 3084 out of 3...</td>\n",
       "      <td>https://twitter.com/POTUS/status/8309630889500...</td>\n",
       "      <td>Donald Trump won 3,084 of America's 3,141 coun...</td>\n",
       "      <td>['https://www.snopes.com/tachyon/2018/03/ratin...</td>\n",
       "      <td>http://pbs.twimg.com/media/C4f97I-WQAYhErl.jpg</td>\n",
       "      <td>NaN</td>\n",
       "      <td>https://www.snopes.com/fact-check/trump-clinto...</td>\n",
       "      <td>false</td>\n",
       "      <td>NaN</td>\n",
       "      <td>ok</td>\n",
       "      <td>28107703</td>\n",
       "      <td>{'code': 34, 'message': 'Sorry, that page does...</td>\n",
       "    </tr>\n",
       "    <tr>\n",
       "      <th>2466</th>\n",
       "      <td>830923521043922944</td>\n",
       "      <td>830919153070514176</td>\n",
       "      <td>When is this wizened, wrinkled, worthless, wea...</td>\n",
       "      <td>https://twitter.com/POTUS/status/8309235210439...</td>\n",
       "      <td>TV evangelist Pat Robertson described nude pho...</td>\n",
       "      <td>['https://www.snopes.com/tachyon/2018/03/ratin...</td>\n",
       "      <td>http://pbs.twimg.com/media/C4gDh-7XAAEa1hN.jpg</td>\n",
       "      <td>Pat Rotprson comments Michelle Obama's bare ar...</td>\n",
       "      <td>https://www.snopes.com/fact-check/pat-robertso...</td>\n",
       "      <td>false</td>\n",
       "      <td>NaN</td>\n",
       "      <td>ok</td>\n",
       "      <td>17350532</td>\n",
       "      <td>{'code': 34, 'message': 'Sorry, that page does...</td>\n",
       "    </tr>\n",
       "    <tr>\n",
       "      <th>2467</th>\n",
       "      <td>830963501019521024</td>\n",
       "      <td>830930910778322946</td>\n",
       "      <td>It's LIT. 🔥🔥 https://t.co/Yxwbe0itmy</td>\n",
       "      <td>https://twitter.com/POTUS/status/8309635010195...</td>\n",
       "      <td>Phillip Morris has announced the introduction ...</td>\n",
       "      <td>['https://www.snopes.com/tachyon/2018/03/ratin...</td>\n",
       "      <td>['http://pbs.twimg.com/media/C4gPHu9UEAAInXP.j...</td>\n",
       "      <td>['CIGARETTES The world\\'s largest cigarette pr...</td>\n",
       "      <td>https://www.snopes.com/fact-check/marlboro-mar...</td>\n",
       "      <td>false</td>\n",
       "      <td>NaN</td>\n",
       "      <td>ok</td>\n",
       "      <td>41038557</td>\n",
       "      <td>{'code': 34, 'message': 'Sorry, that page does...</td>\n",
       "    </tr>\n",
       "    <tr>\n",
       "      <th>2468</th>\n",
       "      <td>831193869517627392</td>\n",
       "      <td>830975629122207744</td>\n",
       "      <td>US history condensed into a single photo from ...</td>\n",
       "      <td>https://twitter.com/POTUS/status/8311938695176...</td>\n",
       "      <td>An image depicts burning tents at a Dakota Acc...</td>\n",
       "      <td>['https://www.snopes.com/tachyon/2018/03/ratin...</td>\n",
       "      <td>http://pbs.twimg.com/media/C4g36lEWQAAg6ao.jpg</td>\n",
       "      <td>NaN</td>\n",
       "      <td>https://www.snopes.com/fact-check/police-burn-...</td>\n",
       "      <td>false</td>\n",
       "      <td>NaN</td>\n",
       "      <td>ok</td>\n",
       "      <td>395674143</td>\n",
       "      <td>{'code': 34, 'message': 'Sorry, that page does...</td>\n",
       "    </tr>\n",
       "    <tr>\n",
       "      <th>2469</th>\n",
       "      <td>831005166799319040</td>\n",
       "      <td>831002306955137024</td>\n",
       "      <td>That's Horrible. https://t.co/XL23qsgFCN</td>\n",
       "      <td>https://twitter.com/POTUS/status/8310051667993...</td>\n",
       "      <td>\"Snowflake\" was a Nazi term used to describe t...</td>\n",
       "      <td>['https://www.snopes.com/tachyon/2018/03/ratin...</td>\n",
       "      <td>http://pbs.twimg.com/media/C4hQMWfXUAANUB5.jpg</td>\n",
       "      <td>% NOWFLAKEVAS BY-NAZI TO DESCLIBE m nle , gig</td>\n",
       "      <td>https://www.snopes.com/fact-check/snowflake-na...</td>\n",
       "      <td>false</td>\n",
       "      <td>NaN</td>\n",
       "      <td>ok</td>\n",
       "      <td>289118612</td>\n",
       "      <td>{'code': 34, 'message': 'Sorry, that page does...</td>\n",
       "    </tr>\n",
       "  </tbody>\n",
       "</table>\n",
       "</div>"
      ],
      "text/plain": [
       "                      id         original_id  \\\n",
       "2460  831245117075906560  830694544446468096   \n",
       "2461  830820488893100032  830814708726784000   \n",
       "2462  830820286199119872  830819661298085888   \n",
       "2463  830885269574389761  830883550522122240   \n",
       "2464  830898663027208192  830895419542482944   \n",
       "2465  830963088950063105  830911856277610497   \n",
       "2466  830923521043922944  830919153070514176   \n",
       "2467  830963501019521024  830930910778322946   \n",
       "2468  831193869517627392  830975629122207744   \n",
       "2469  831005166799319040  831002306955137024   \n",
       "\n",
       "                                             tweet_text  \\\n",
       "2460  @OpenSociety @BallSixOFour funny Ive got his p...   \n",
       "2461  How about Mexico tear down their border fence ...   \n",
       "2462  @realDonaldTrump did you get the scoop on how ...   \n",
       "2463    Hate Liberals? Bite Me! https://t.co/uhzMfvs25N   \n",
       "2464  .@chrizap #Germany knows #fascists when they s...   \n",
       "2465  @DavidGMcAfee He didn't lost.Won 3084 out of 3...   \n",
       "2466  When is this wizened, wrinkled, worthless, wea...   \n",
       "2467               It's LIT. 🔥🔥 https://t.co/Yxwbe0itmy   \n",
       "2468  US history condensed into a single photo from ...   \n",
       "2469           That's Horrible. https://t.co/XL23qsgFCN   \n",
       "\n",
       "                                              tweet_url  \\\n",
       "2460  https://twitter.com/POTUS/status/8312451170759...   \n",
       "2461  https://twitter.com/POTUS/status/8308204888931...   \n",
       "2462  https://twitter.com/POTUS/status/8308202861991...   \n",
       "2463  https://twitter.com/POTUS/status/8308852695743...   \n",
       "2464  https://twitter.com/POTUS/status/8308986630272...   \n",
       "2465  https://twitter.com/POTUS/status/8309630889500...   \n",
       "2466  https://twitter.com/POTUS/status/8309235210439...   \n",
       "2467  https://twitter.com/POTUS/status/8309635010195...   \n",
       "2468  https://twitter.com/POTUS/status/8311938695176...   \n",
       "2469  https://twitter.com/POTUS/status/8310051667993...   \n",
       "\n",
       "                                                  claim  \\\n",
       "2460  During World War II, George Soros was a member...   \n",
       "2461  Photographs show a border fence between the co...   \n",
       "2462  Japan has kept Islam at bay by enforcing stric...   \n",
       "2463  \"Snowflake\" was a Nazi term used to describe t...   \n",
       "2464  Supreme Court nominee Neil Gorsuch founded a '...   \n",
       "2465  Donald Trump won 3,084 of America's 3,141 coun...   \n",
       "2466  TV evangelist Pat Robertson described nude pho...   \n",
       "2467  Phillip Morris has announced the introduction ...   \n",
       "2468  An image depicts burning tents at a Dakota Acc...   \n",
       "2469  \"Snowflake\" was a Nazi term used to describe t...   \n",
       "\n",
       "                                                 rating  \\\n",
       "2460  ['https://www.snopes.com/tachyon/2018/03/ratin...   \n",
       "2461  ['https://www.snopes.com/tachyon/2018/03/ratin...   \n",
       "2462  ['https://www.snopes.com/tachyon/2018/03/ratin...   \n",
       "2463  ['https://www.snopes.com/tachyon/2018/03/ratin...   \n",
       "2464  ['https://www.snopes.com/tachyon/2018/03/ratin...   \n",
       "2465  ['https://www.snopes.com/tachyon/2018/03/ratin...   \n",
       "2466  ['https://www.snopes.com/tachyon/2018/03/ratin...   \n",
       "2467  ['https://www.snopes.com/tachyon/2018/03/ratin...   \n",
       "2468  ['https://www.snopes.com/tachyon/2018/03/ratin...   \n",
       "2469  ['https://www.snopes.com/tachyon/2018/03/ratin...   \n",
       "\n",
       "                                                 images  \\\n",
       "2460     http://pbs.twimg.com/media/C4c4PT3VYAAP-S3.jpg   \n",
       "2461     http://pbs.twimg.com/media/Bp5WSbsCUAACjw1.jpg   \n",
       "2462     http://pbs.twimg.com/media/C4eqEyRUMAAqvQb.jpg   \n",
       "2463     http://pbs.twimg.com/media/C4fkA5-WQAAwcsW.jpg   \n",
       "2464     http://pbs.twimg.com/media/C4ftzbxUcAA-qF1.jpg   \n",
       "2465     http://pbs.twimg.com/media/C4f97I-WQAYhErl.jpg   \n",
       "2466     http://pbs.twimg.com/media/C4gDh-7XAAEa1hN.jpg   \n",
       "2467  ['http://pbs.twimg.com/media/C4gPHu9UEAAInXP.j...   \n",
       "2468     http://pbs.twimg.com/media/C4g36lEWQAAg6ao.jpg   \n",
       "2469     http://pbs.twimg.com/media/C4hQMWfXUAANUB5.jpg   \n",
       "\n",
       "                                            text_images  \\\n",
       "2460  3:24 I give you George Soros . A SS in the Nat...   \n",
       "2461  MEXICO s SOUTHERN BORDER A tull border tenceli...   \n",
       "2462  an keeps Islam at bay by putting restrictions ...   \n",
       "2463  The next time a conservative calls you a \" sno...   \n",
       "2464  uS i 2 Club World Neil M . T . Gorsuch 243 Sou...   \n",
       "2465                                                NaN   \n",
       "2466  Pat Rotprson comments Michelle Obama's bare ar...   \n",
       "2467  ['CIGARETTES The world\\'s largest cigarette pr...   \n",
       "2468                                                NaN   \n",
       "2469      % NOWFLAKEVAS BY-NAZI TO DESCLIBE m nle , gig   \n",
       "\n",
       "                                                 source  label  label_info  \\\n",
       "2460  https://www.snopes.com/fact-check/george-soros...  false         NaN   \n",
       "2461  https://www.snopes.com/fact-check/mexico-guate...  false         NaN   \n",
       "2462  https://www.snopes.com/fact-check/muslims-in-j...  false         NaN   \n",
       "2463  https://www.snopes.com/fact-check/snowflake-na...  false         NaN   \n",
       "2464  https://www.snopes.com/fact-check/neil-gorsuch...  false         NaN   \n",
       "2465  https://www.snopes.com/fact-check/trump-clinto...  false         NaN   \n",
       "2466  https://www.snopes.com/fact-check/pat-robertso...  false         NaN   \n",
       "2467  https://www.snopes.com/fact-check/marlboro-mar...  false         NaN   \n",
       "2468  https://www.snopes.com/fact-check/police-burn-...  false         NaN   \n",
       "2469  https://www.snopes.com/fact-check/snowflake-na...  false         NaN   \n",
       "\n",
       "     available              acc_id  \\\n",
       "2460        ok          1634254471   \n",
       "2461        ok           177584156   \n",
       "2462        ok  711580970365784064   \n",
       "2463        ok            67899097   \n",
       "2464        ok           471831519   \n",
       "2465        ok            28107703   \n",
       "2466        ok            17350532   \n",
       "2467        ok            41038557   \n",
       "2468        ok           395674143   \n",
       "2469        ok           289118612   \n",
       "\n",
       "                                              botometer  \n",
       "2460  {'cap': {'english': 0.4756769663222349, 'unive...  \n",
       "2461  {'cap': {'english': 0.8287549877594508, 'unive...  \n",
       "2462  {'code': 34, 'message': 'Sorry, that page does...  \n",
       "2463  {'cap': {'english': 0.9158377984126878, 'unive...  \n",
       "2464  {'code': 34, 'message': 'Sorry, that page does...  \n",
       "2465  {'code': 34, 'message': 'Sorry, that page does...  \n",
       "2466  {'code': 34, 'message': 'Sorry, that page does...  \n",
       "2467  {'code': 34, 'message': 'Sorry, that page does...  \n",
       "2468  {'code': 34, 'message': 'Sorry, that page does...  \n",
       "2469  {'code': 34, 'message': 'Sorry, that page does...  "
      ]
     },
     "execution_count": 6,
     "metadata": {},
     "output_type": "execute_result"
    }
   ],
   "source": [
    "df.iloc[2460:2470]"
   ]
  },
  {
   "cell_type": "code",
   "execution_count": 122,
   "metadata": {},
   "outputs": [
    {
     "data": {
      "text/plain": [
       "9300262"
      ]
     },
     "execution_count": 122,
     "metadata": {},
     "output_type": "execute_result"
    }
   ],
   "source": [
    "accounts[407]"
   ]
  },
  {
   "cell_type": "code",
   "execution_count": 120,
   "metadata": {},
   "outputs": [
    {
     "data": {
      "text/plain": [
       "584177882"
      ]
     },
     "execution_count": 120,
     "metadata": {},
     "output_type": "execute_result"
    }
   ],
   "source": [
    "snopes_acc.loc[406].acc_id"
   ]
  },
  {
   "cell_type": "code",
   "execution_count": 125,
   "metadata": {},
   "outputs": [
    {
     "data": {
      "text/plain": [
       "[9300262,\n",
       " 721185346797572096,\n",
       " 67899097,\n",
       " 2499109494,\n",
       " 2796929687,\n",
       " 292929271,\n",
       " 2269567158,\n",
       " 2393098723,\n",
       " 709920419529281536,\n",
       " 4784596178,\n",
       " 4236806414,\n",
       " 494624290,\n",
       " 561654065,\n",
       " 1599141961,\n",
       " 17860906,\n",
       " 2839030037,\n",
       " 4226960114,\n",
       " 743688372460216320,\n",
       " 118496889,\n",
       " 2915156131,\n",
       " 166329578,\n",
       " 4676548814,\n",
       " 4197546072,\n",
       " 88494677,\n",
       " 608471241,\n",
       " 608471241,\n",
       " 325164172,\n",
       " 26672170,\n",
       " 177584156,\n",
       " 2801177472,\n",
       " 95995039,\n",
       " 126009130,\n",
       " 126009130,\n",
       " 399774230,\n",
       " 972255098,\n",
       " 1917731,\n",
       " 65854394,\n",
       " 741589503102570496,\n",
       " 1917731,\n",
       " 2244290719,\n",
       " 701655880920510464,\n",
       " 2793194082,\n",
       " 18301196,\n",
       " 1496756359,\n",
       " 430118889,\n",
       " 15164565,\n",
       " 3697285157,\n",
       " 2923563766,\n",
       " 2923563766,\n",
       " 1375629385,\n",
       " 1325018372,\n",
       " 25975551,\n",
       " 22722452,\n",
       " 374284455,\n",
       " 49035775,\n",
       " 48421473,\n",
       " 428713002,\n",
       " 3407847574,\n",
       " 18545481,\n",
       " 15164565,\n",
       " 47652227,\n",
       " 78523300,\n",
       " 361275163,\n",
       " 495622651,\n",
       " 19098324,\n",
       " 421275603,\n",
       " 177584156,\n",
       " 361275163,\n",
       " 28905454,\n",
       " 15164565,\n",
       " 4429709805,\n",
       " 1496756359,\n",
       " 766797410,\n",
       " 15164565,\n",
       " 548172120,\n",
       " 2241227238,\n",
       " 15164565,\n",
       " 30456403,\n",
       " 248692627,\n",
       " 28048355,\n",
       " 18545481,\n",
       " 1917731,\n",
       " 138742761,\n",
       " 289118612,\n",
       " 15706904,\n",
       " 865636782,\n",
       " 2291904432,\n",
       " 3103091745,\n",
       " 3047937393,\n",
       " 167796615,\n",
       " 14511951,\n",
       " 49452556,\n",
       " 3974665634,\n",
       " 1018491630,\n",
       " 537904539,\n",
       " 2374469136,\n",
       " 3433022621,\n",
       " 585465795,\n",
       " 2883533651,\n",
       " 16955991,\n",
       " 547969112,\n",
       " 272114651,\n",
       " 936148682,\n",
       " 728635523816775680,\n",
       " 547969112,\n",
       " 67899097,\n",
       " 547969112,\n",
       " 3047377314,\n",
       " 759179340307243008,\n",
       " 1367531,\n",
       " 361275163,\n",
       " 399717630,\n",
       " 9369062,\n",
       " 762252876,\n",
       " 582135529,\n",
       " 851866178,\n",
       " 608471241,\n",
       " 331825712,\n",
       " 733808069440741376,\n",
       " 3995778614,\n",
       " 3390416469,\n",
       " 1367531,\n",
       " 754135908,\n",
       " 890302164,\n",
       " 81602176,\n",
       " 728979362775638016,\n",
       " 553998793,\n",
       " 157054921,\n",
       " 2255424079,\n",
       " 547969112,\n",
       " 2875990472,\n",
       " 2316246829,\n",
       " 758313715695427584,\n",
       " 758313715695427584,\n",
       " 25446957,\n",
       " 86963075,\n",
       " 715357604961263616,\n",
       " 140638292,\n",
       " 2801177472,\n",
       " 2801177472,\n",
       " 1976799128,\n",
       " 421460415,\n",
       " 2775579278,\n",
       " 3974665634,\n",
       " 1482516500,\n",
       " 750399805851963392,\n",
       " 43413425,\n",
       " 43308598,\n",
       " 3066008697,\n",
       " 18195110,\n",
       " 40246348,\n",
       " 2793800587,\n",
       " 802722056,\n",
       " 43308598,\n",
       " 402985469,\n",
       " 4897543230,\n",
       " 865538113,\n",
       " 2972410695,\n",
       " 2998466930,\n",
       " 4182512297,\n",
       " 30067748,\n",
       " 71359942,\n",
       " 277090518,\n",
       " 65003619,\n",
       " 753806066052235264,\n",
       " 705333567543504896,\n",
       " 2998441830,\n",
       " 3308110350,\n",
       " 4796678896,\n",
       " 2441304533,\n",
       " 561654065,\n",
       " 3034834939,\n",
       " 261035490,\n",
       " 4851276082,\n",
       " 370513594,\n",
       " 15854008,\n",
       " 2226870793,\n",
       " 971176056,\n",
       " 4240150034,\n",
       " 561654065,\n",
       " 332433520,\n",
       " 2416597188,\n",
       " 2416597188,\n",
       " 17094311,\n",
       " 543452426,\n",
       " 4846395737,\n",
       " 3220025137,\n",
       " 753753493622628352,\n",
       " 18002528,\n",
       " 16444868,\n",
       " 3433002136,\n",
       " 743651896578060288,\n",
       " 21833728,\n",
       " 50010587,\n",
       " 835328618,\n",
       " 297457814,\n",
       " 620872388,\n",
       " 3139537490,\n",
       " 60370335,\n",
       " 1225818590,\n",
       " 234841289,\n",
       " 2891102076,\n",
       " 702174406739685376,\n",
       " 57912099,\n",
       " 732445833682018304,\n",
       " 732445833682018304,\n",
       " 2904671027,\n",
       " 322674930,\n",
       " 65003619,\n",
       " 4543053312,\n",
       " 42158021,\n",
       " 279208035,\n",
       " 180511021,\n",
       " 311241090,\n",
       " 15359578,\n",
       " 20826129,\n",
       " 4700477725,\n",
       " 371142734,\n",
       " 24638062,\n",
       " 45291573,\n",
       " 552410408,\n",
       " 20295763,\n",
       " 1564676498,\n",
       " 17343602,\n",
       " 552983877,\n",
       " 18561223,\n",
       " 14787713,\n",
       " 1568498256,\n",
       " 752493806,\n",
       " 516093774,\n",
       " 28905454,\n",
       " 2747259456,\n",
       " 224268822,\n",
       " 17232340,\n",
       " 3359243787,\n",
       " 75974281,\n",
       " 233933230,\n",
       " 233933230,\n",
       " 479068816,\n",
       " 2892976359,\n",
       " 19908848,\n",
       " 4237277387,\n",
       " 3359243787,\n",
       " 284104234,\n",
       " 3592503441,\n",
       " 905530344,\n",
       " 19899980,\n",
       " 600061917,\n",
       " 221452291,\n",
       " 4765012532,\n",
       " 15671833,\n",
       " 1530853626,\n",
       " 24395228,\n",
       " 343171160,\n",
       " 2908170952,\n",
       " 251913645,\n",
       " 709920419529281536,\n",
       " 431198790,\n",
       " 90285099,\n",
       " 2299826742,\n",
       " 142077688,\n",
       " 1213274119,\n",
       " 608471241,\n",
       " 561654065,\n",
       " 15368940,\n",
       " 2740452163,\n",
       " 25446957,\n",
       " 70773048,\n",
       " 706176697440276480,\n",
       " 759251,\n",
       " 50881405,\n",
       " 1356123823,\n",
       " 716260246109483008,\n",
       " 3202808548,\n",
       " 150059501,\n",
       " 565008398,\n",
       " 56192739,\n",
       " 751095331408973824,\n",
       " 2900220088,\n",
       " 1652687708,\n",
       " 704034081898668032,\n",
       " 37315032,\n",
       " 632171886,\n",
       " 124199238,\n",
       " 3589464580,\n",
       " 542962969,\n",
       " 2421067430,\n",
       " 704363061013057536,\n",
       " 2910776820,\n",
       " 1096411117,\n",
       " 3124454195,\n",
       " 4760647532,\n",
       " 38367188,\n",
       " 605448008,\n",
       " 83788240,\n",
       " 374284455,\n",
       " 22798141,\n",
       " 2818206308,\n",
       " 2382281029,\n",
       " 415256606,\n",
       " 1966026648,\n",
       " 893470729,\n",
       " 2953422203,\n",
       " 167363471,\n",
       " 291874773,\n",
       " 44103717,\n",
       " 28670599,\n",
       " 739567626511388672,\n",
       " 200656602,\n",
       " 31801993,\n",
       " 703230673776197632,\n",
       " 146928495,\n",
       " 729096352676782080,\n",
       " 1643634444,\n",
       " 246377722,\n",
       " 3407847574,\n",
       " 21845346,\n",
       " 385075625,\n",
       " 29465136,\n",
       " 13148382,\n",
       " 4851276082,\n",
       " 3416492723,\n",
       " 3359243787,\n",
       " 9611592,\n",
       " 739080916610342912,\n",
       " 34367582,\n",
       " 28007091,\n",
       " 3124454195,\n",
       " 26579739,\n",
       " 76373,\n",
       " 758049168690642944,\n",
       " 963176808,\n",
       " 19193016,\n",
       " 3381686297,\n",
       " 93493910,\n",
       " 3313143320,\n",
       " 2610081858,\n",
       " 4646073148,\n",
       " 344729527,\n",
       " 32951070,\n",
       " 37013920,\n",
       " 23116280,\n",
       " 25197377,\n",
       " 33228837,\n",
       " 4242905298,\n",
       " 18637247,\n",
       " 714949505720823808,\n",
       " 872954089,\n",
       " 437352926,\n",
       " 23004495,\n",
       " 4361249533,\n",
       " 156377910,\n",
       " 4452560741,\n",
       " 273951517,\n",
       " 264493607,\n",
       " 760130823374843904,\n",
       " 118845216,\n",
       " 232333397,\n",
       " 414873541,\n",
       " 3723723982,\n",
       " 824391878,\n",
       " 450213974,\n",
       " 890302164,\n",
       " 29059784,\n",
       " 709144993,\n",
       " 15104164,\n",
       " 289118612,\n",
       " 3314963469,\n",
       " 21833728,\n",
       " 796261392,\n",
       " 227010728,\n",
       " 196109220,\n",
       " 582414351,\n",
       " 340968277,\n",
       " 1969346438,\n",
       " 13804112,\n",
       " 739567626511388672,\n",
       " 835328618,\n",
       " 164523117,\n",
       " 446228264,\n",
       " 39344374,\n",
       " 757749684580519936,\n",
       " 515542297,\n",
       " 41265813,\n",
       " 78523300,\n",
       " 18643437,\n",
       " 232201971,\n",
       " 801071388,\n",
       " 3539755636,\n",
       " 1367531,\n",
       " 1564676498,\n",
       " 4901489212,\n",
       " 704034081898668032,\n",
       " 22630309,\n",
       " 46520074,\n",
       " 17895820,\n",
       " 14412533,\n",
       " 1917731,\n",
       " 1080576949,\n",
       " 492833134,\n",
       " 65132037,\n",
       " 1735546184,\n",
       " 765091605472698368,\n",
       " 743142244706848768,\n",
       " 107012365,\n",
       " 237623215,\n",
       " 865187658,\n",
       " 621110318,\n",
       " 25197377,\n",
       " 739567626511388672,\n",
       " 1462579488,\n",
       " 430905373,\n",
       " 20854637,\n",
       " 25832979,\n",
       " 1200713864,\n",
       " 758809594936238080,\n",
       " 758809594936238080,\n",
       " 374284455,\n",
       " 25197377,\n",
       " 172394944,\n",
       " 910332056,\n",
       " 34163521,\n",
       " 1537048512,\n",
       " 715650695647637504,\n",
       " 1513958744,\n",
       " 727578244841639936,\n",
       " 713832622808412160,\n",
       " 4855687055,\n",
       " 3558102739,\n",
       " 695365245376696320,\n",
       " 28869089,\n",
       " 54065567,\n",
       " 54065567,\n",
       " 746367431388585984,\n",
       " 746367431388585984,\n",
       " 3166217539,\n",
       " 3329997245,\n",
       " 765091605472698368,\n",
       " 317223956,\n",
       " 1849938847,\n",
       " 1148951203,\n",
       " 138581916,\n",
       " 2953617710,\n",
       " 49685124,\n",
       " 169536421,\n",
       " 3124454195,\n",
       " 2830167800,\n",
       " 141642957,\n",
       " 710829502843064320,\n",
       " 30265457,\n",
       " 561654065,\n",
       " 16887175,\n",
       " 730786518848159744,\n",
       " 22677397,\n",
       " 2353703503,\n",
       " 21248626,\n",
       " 17395207,\n",
       " 144130505,\n",
       " 17529294,\n",
       " 52801677,\n",
       " 742923442471763968,\n",
       " 3697721113,\n",
       " 2584482763,\n",
       " 20944649,\n",
       " 773520163396325376,\n",
       " 20889358,\n",
       " 67095221,\n",
       " 767036004,\n",
       " 765091605472698368,\n",
       " 176914461,\n",
       " 78569026,\n",
       " 331747494,\n",
       " 2316246829,\n",
       " 361275163,\n",
       " 2364837974,\n",
       " 1242465014,\n",
       " 289118612,\n",
       " 568143078,\n",
       " 758313715695427584,\n",
       " 18195110,\n",
       " 765091605472698368,\n",
       " 1289704663,\n",
       " 754086125917106176,\n",
       " 1371572360,\n",
       " 769297227957141504,\n",
       " 3610264154,\n",
       " 27211961,\n",
       " 723387344175296512,\n",
       " 151375368,\n",
       " 767587128524013568,\n",
       " 35677844,\n",
       " 936304345,\n",
       " 19195442,\n",
       " 744281884310405120,\n",
       " 3389134989,\n",
       " 3019417439,\n",
       " 10735392,\n",
       " 3362345172,\n",
       " 33388399,\n",
       " 341688336,\n",
       " 231641765,\n",
       " 3394911915,\n",
       " 2902031256,\n",
       " 3297022953,\n",
       " 455288410,\n",
       " 219815601,\n",
       " 374284455,\n",
       " 2684196134,\n",
       " 865636782,\n",
       " 126009130,\n",
       " 126009130,\n",
       " 126009130,\n",
       " 126009130,\n",
       " 126009130,\n",
       " 126009130,\n",
       " 126009130,\n",
       " 126009130,\n",
       " 126009130,\n",
       " 126009130,\n",
       " 126009130,\n",
       " 126009130,\n",
       " 126009130,\n",
       " 126009130,\n",
       " 126009130,\n",
       " 126009130,\n",
       " 126009130,\n",
       " 126009130,\n",
       " 126009130,\n",
       " 325893346,\n",
       " 126009130,\n",
       " 126009130,\n",
       " 126009130,\n",
       " 126009130,\n",
       " 126009130,\n",
       " 126009130,\n",
       " 126009130,\n",
       " 126009130,\n",
       " 18132806,\n",
       " 3057650044,\n",
       " 972651,\n",
       " 865636782,\n",
       " 1353347065,\n",
       " 767587128524013568,\n",
       " 3686488635,\n",
       " 3002739417,\n",
       " 1183779272,\n",
       " 1309391066,\n",
       " 4334047641,\n",
       " 42371615,\n",
       " 3930608896,\n",
       " 21773704,\n",
       " 399774230,\n",
       " 758076297876602880,\n",
       " 2911587582,\n",
       " 735624304050593792,\n",
       " 4240150034,\n",
       " 16674128,\n",
       " 14441020,\n",
       " 30265457,\n",
       " 1326707346,\n",
       " 908933376,\n",
       " 124185033,\n",
       " 2451462137,\n",
       " 2417586104,\n",
       " 2344571893,\n",
       " 3340267793,\n",
       " 902851051,\n",
       " 1339835893,\n",
       " 36196526,\n",
       " 6563122,\n",
       " 4345493055,\n",
       " 1851877248,\n",
       " 90573210,\n",
       " 118845216,\n",
       " 172032623,\n",
       " 2786693552,\n",
       " 755726522,\n",
       " 2788642796,\n",
       " 340660967,\n",
       " 22141405,\n",
       " 4194141941,\n",
       " 115772421,\n",
       " 22714413,\n",
       " 97082147,\n",
       " 63514682,\n",
       " 1027392638,\n",
       " 259509924,\n",
       " 762658215850971136,\n",
       " 214112621,\n",
       " 15511737,\n",
       " 758313715695427584,\n",
       " 20065936,\n",
       " 704795920433414144,\n",
       " 116949923,\n",
       " 4922951833,\n",
       " 2959654959,\n",
       " 27680579,\n",
       " 167411983,\n",
       " 3253946096,\n",
       " 102569776,\n",
       " 1220140158,\n",
       " 704034081898668032,\n",
       " 704743208044118016,\n",
       " 2220165991,\n",
       " 5514192,\n",
       " 567823476,\n",
       " 1419413276,\n",
       " 3229949515,\n",
       " 4236806414,\n",
       " 123699851,\n",
       " 3220025137,\n",
       " 3416492723,\n",
       " 33529092,\n",
       " 181249422,\n",
       " 3050742101,\n",
       " 2333546774,\n",
       " 14511951,\n",
       " 3411313300,\n",
       " 1917731,\n",
       " 741998561689251840,\n",
       " 237845487,\n",
       " 23398898,\n",
       " 246939630,\n",
       " 2836421,\n",
       " 38955690,\n",
       " 19847765,\n",
       " 2525675331,\n",
       " 18643437,\n",
       " 257797355,\n",
       " 3290191140,\n",
       " 2891459376,\n",
       " 3434574681,\n",
       " 16589206,\n",
       " 2220656158,\n",
       " 48101103,\n",
       " 48101103,\n",
       " 48101103,\n",
       " 48101103,\n",
       " 48101103,\n",
       " 718571477772075008,\n",
       " 18643437,\n",
       " 18643437,\n",
       " 37690914,\n",
       " 49318764,\n",
       " 534516052,\n",
       " 754720098393272320,\n",
       " 4087647976,\n",
       " 2670627368,\n",
       " 767587128524013568,\n",
       " 1332367184,\n",
       " 107012365,\n",
       " 16910746,\n",
       " 1159026354,\n",
       " 48101103,\n",
       " 709036196941459456,\n",
       " 18154797,\n",
       " 11912362,\n",
       " 746413996304015360,\n",
       " 500243950,\n",
       " 14093404,\n",
       " 4551929255,\n",
       " 3784467913,\n",
       " 236657980,\n",
       " 101298165,\n",
       " 714949505720823808,\n",
       " 4273837226,\n",
       " 2562270259,\n",
       " 39308549,\n",
       " 2917559867,\n",
       " 737602729,\n",
       " 4236806414,\n",
       " 3096393734,\n",
       " 85990330,\n",
       " 770759270,\n",
       " 149679293,\n",
       " 380285402,\n",
       " 756880499881103360,\n",
       " 1640929196,\n",
       " 371142734,\n",
       " 242618658,\n",
       " 2391736411,\n",
       " 634242289,\n",
       " 744920442,\n",
       " 18787733,\n",
       " 2386693961,\n",
       " 3756112462,\n",
       " 2349012840,\n",
       " 741977462028926976,\n",
       " 20849008,\n",
       " 1653051,\n",
       " 39000115,\n",
       " 253940881,\n",
       " 289118612,\n",
       " 4182138315,\n",
       " 2203686183,\n",
       " 14792263,\n",
       " 289118612,\n",
       " 61526430,\n",
       " 108713959,\n",
       " 2601795218,\n",
       " 741334289376116736,\n",
       " 2262908824,\n",
       " 2902031256,\n",
       " 534567942,\n",
       " 118845216,\n",
       " 16589206,\n",
       " 762750852247396352,\n",
       " 745514486631542784,\n",
       " 756897488657715200,\n",
       " 3253885297,\n",
       " 492833134,\n",
       " 3096964498,\n",
       " 757214917036474368,\n",
       " 3328878194,\n",
       " 88237533,\n",
       " 18787733,\n",
       " 40164923,\n",
       " 16589206,\n",
       " 1652541,\n",
       " 44688778,\n",
       " 3818784613,\n",
       " 74913349,\n",
       " 78523300,\n",
       " 144001050,\n",
       " 769633840356728832,\n",
       " 40164923,\n",
       " 2649507198,\n",
       " 731240208952262656,\n",
       " 3384693167,\n",
       " 296610784,\n",
       " 18787733,\n",
       " 562261824,\n",
       " 462487731,\n",
       " 765357788,\n",
       " 104914594,\n",
       " 14000592,\n",
       " 118845216,\n",
       " 480435113,\n",
       " 3338779876,\n",
       " 197662233,\n",
       " 61008839,\n",
       " 841039189,\n",
       " 2840452198,\n",
       " 2840452198,\n",
       " 67899097,\n",
       " 52136185,\n",
       " 730141801881853952,\n",
       " 18787733,\n",
       " 500154514,\n",
       " 2575717004,\n",
       " 1141094348,\n",
       " 2776376446,\n",
       " 608389155,\n",
       " 4846395737,\n",
       " 2416597188,\n",
       " 1027632134,\n",
       " 118845216,\n",
       " 3974665634,\n",
       " 197496309,\n",
       " 17965340,\n",
       " 4663625910,\n",
       " 218325695,\n",
       " 18787733,\n",
       " 931286316,\n",
       " 2801177472,\n",
       " 19575451,\n",
       " 518009192,\n",
       " 825952160,\n",
       " 347627434,\n",
       " 1344787579,\n",
       " 951008132,\n",
       " 227333373,\n",
       " 21091954,\n",
       " 718592022,\n",
       " 3974665634,\n",
       " 3324042441,\n",
       " 4810747934,\n",
       " 367452068,\n",
       " 1375629385,\n",
       " 3578921292,\n",
       " 2345831796,\n",
       " 207040407,\n",
       " 3288598806,\n",
       " 52989817,\n",
       " 61526430,\n",
       " 60783724,\n",
       " 188095835,\n",
       " 775374224034783232,\n",
       " 19802846,\n",
       " 2517972111,\n",
       " 459735022,\n",
       " 67899097,\n",
       " 41747308,\n",
       " 14511951,\n",
       " 2236655070,\n",
       " 170357723,\n",
       " 14185814,\n",
       " 443924415,\n",
       " 1921995883,\n",
       " 126009130,\n",
       " 1524518970,\n",
       " 1375629385,\n",
       " 27688800,\n",
       " 751447878711869440,\n",
       " 213678006,\n",
       " 3308560736,\n",
       " 774140462370127872,\n",
       " 1528941756,\n",
       " 292508851,\n",
       " 3903052998,\n",
       " 116384038,\n",
       " 2845849081,\n",
       " 18545481,\n",
       " 785629978738032640,\n",
       " 82447359,\n",
       " 3000673803,\n",
       " 550222026,\n",
       " 3222909799,\n",
       " 15513604,\n",
       " 788146803669512192,\n",
       " 1713036884,\n",
       " 250492272,\n",
       " 1917731,\n",
       " 1367531,\n",
       " 25446957,\n",
       " 3091373190,\n",
       " 371142734,\n",
       " 931286316,\n",
       " 2469824234,\n",
       " 14575708,\n",
       " 263069137,\n",
       " 362977781,\n",
       " 2902031256,\n",
       " 791949967824793600,\n",
       " 254117355,\n",
       " 28785486,\n",
       " 707246777515245568,\n",
       " 250736021,\n",
       " 4825764434,\n",
       " 5695632,\n",
       " 262277370,\n",
       " 72761654,\n",
       " 28785486,\n",
       " 1149979224,\n",
       " 181249422,\n",
       " 1301720724,\n",
       " 84491326,\n",
       " 921376165,\n",
       " 111216929,\n",
       " 22953032,\n",
       " 3381686297,\n",
       " 97942529,\n",
       " 1655493013,\n",
       " 748608249910419456,\n",
       " 1238328264,\n",
       " 788998587011043328,\n",
       " 118845216,\n",
       " 714128911823724544,\n",
       " 79593630,\n",
       " 4261318354,\n",
       " 757255733704548352,\n",
       " 706201477300297728,\n",
       " 387948805,\n",
       " 17784660,\n",
       " 65166471,\n",
       " 25939719,\n",
       " 4181620034,\n",
       " 33416495,\n",
       " 580252446,\n",
       " 749958546004054016,\n",
       " 749958546004054016,\n",
       " 368555136,\n",
       " 146646613,\n",
       " 729582066,\n",
       " 4757535874,\n",
       " 69004966,\n",
       " 39246283,\n",
       " 33930094,\n",
       " 469708044,\n",
       " 3974665634,\n",
       " 1339835893,\n",
       " 2902031256,\n",
       " 63528313,\n",
       " 303892169,\n",
       " 3309654696,\n",
       " 15315465,\n",
       " 34900333,\n",
       " 15164565,\n",
       " 1459916354,\n",
       " 3684208045,\n",
       " 44696944,\n",
       " 776565331007381504,\n",
       " 4070021129,\n",
       " 2703114008,\n",
       " 2750334224,\n",
       " 1033798970,\n",
       " 2750334224,\n",
       " 63485337,\n",
       " 733093128081661952,\n",
       " 746093922494058496,\n",
       " 210424042,\n",
       " 22630309,\n",
       " 2196378314,\n",
       " 57314318,\n",
       " 956163518,\n",
       " 48967685,\n",
       " 347627434,\n",
       " 1520324371,\n",
       " 288656545,\n",
       " 3193055477,\n",
       " 2374469136,\n",
       " 1676285761,\n",
       " 4855687055,\n",
       " 1367531,\n",
       " 2975936339,\n",
       " 3195345898,\n",
       " 16589206,\n",
       " 3338568554,\n",
       " 16589206,\n",
       " 3371241641,\n",
       " 321774180,\n",
       " 781252299507142656,\n",
       " 729709984217337856,\n",
       " 779126152774299648,\n",
       " 130254817,\n",
       " 169536421,\n",
       " 128429068,\n",
       " 4840244240,\n",
       " 91882544,\n",
       " 716371621380890624,\n",
       " 743576222228185088,\n",
       " 724253317577236480,\n",
       " 435564722,\n",
       " 328741551,\n",
       " 65455370,\n",
       " 50769180,\n",
       " 50769180,\n",
       " 492833134,\n",
       " 785578193604317184,\n",
       " 86403191,\n",
       " 774486797606907904,\n",
       " 2896866728,\n",
       " 729523218218766336,\n",
       " 3359000590,\n",
       " 1655766132,\n",
       " 33529092,\n",
       " 96648433,\n",
       " 726405146788290560,\n",
       " 786670304903004160,\n",
       " 561654065,\n",
       " 19377400,\n",
       " 4849413012,\n",
       " 3408847582,\n",
       " 2556605767,\n",
       " 1065869268,\n",
       " 774074669230071808,\n",
       " 1065869268,\n",
       " 362200757,\n",
       " 4851343726,\n",
       " 33605130,\n",
       " 20982772,\n",
       " 1499268588,\n",
       " 547969112,\n",
       " 739664413330804736,\n",
       " 20675681,\n",
       " 954124423,\n",
       " 3102351219,\n",
       " 127182036,\n",
       " 259332340,\n",
       " 13831292,\n",
       " 443605395,\n",
       " 1682330258,\n",
       " 788010267649183744,\n",
       " 30946469,\n",
       " 14464961,\n",
       " 744920442,\n",
       " 33932623,\n",
       " 3339557473,\n",
       " 3269661906,\n",
       " 278770435,\n",
       " 778276054909812736,\n",
       " 2971891547,\n",
       " 726319466951237632,\n",
       " 81611744,\n",
       " 2517972111,\n",
       " 3221413128,\n",
       " 185838958,\n",
       " 766445003128377344,\n",
       " 366355851,\n",
       " 582402433,\n",
       " 2355662572,\n",
       " 2884891245,\n",
       " 176464757,\n",
       " 2183756121,\n",
       " 463232547,\n",
       " 200616013,\n",
       " 619158246,\n",
       " 213801320,\n",
       " 1444300153,\n",
       " 564702484,\n",
       " ...]"
      ]
     },
     "execution_count": 125,
     "metadata": {},
     "output_type": "execute_result"
    }
   ],
   "source": [
    "accounts[407:]"
   ]
  },
  {
   "cell_type": "code",
   "execution_count": 123,
   "metadata": {},
   "outputs": [
    {
     "data": {
      "text/plain": [
       "id                                            758193276151222272\n",
       "original_id                                   758190213973872640\n",
       "tweet_text     Bill O'Reilly: Slaves who built White House we...\n",
       "tweet_url      https://twitter.com/POTUS/status/7581932761512...\n",
       "claim               The White House was built using slave labor.\n",
       "rating         ['https://www.snopes.com/tachyon/2018/03/ratin...\n",
       "images            http://pbs.twimg.com/media/CoWh-nhXEAA3jp1.jpg\n",
       "text_images                                                  NaN\n",
       "source         https://www.snopes.com/fact-check/was-the-whit...\n",
       "label                                            mostly-true-new\n",
       "label_info                                                   NaN\n",
       "available                                                     ok\n",
       "acc_id                                                   9300262\n",
       "botometer                                                       \n",
       "Name: 407, dtype: object"
      ]
     },
     "execution_count": 123,
     "metadata": {},
     "output_type": "execute_result"
    }
   ],
   "source": [
    "snopes_acc.loc[407]"
   ]
  },
  {
   "cell_type": "code",
   "execution_count": 112,
   "metadata": {},
   "outputs": [],
   "source": [
    "snopes_acc.to_csv(\"snopes_botometer_406.csv\", index=False)"
   ]
  },
  {
   "cell_type": "code",
   "execution_count": 111,
   "metadata": {},
   "outputs": [
    {
     "data": {
      "text/html": [
       "<div>\n",
       "<style scoped>\n",
       "    .dataframe tbody tr th:only-of-type {\n",
       "        vertical-align: middle;\n",
       "    }\n",
       "\n",
       "    .dataframe tbody tr th {\n",
       "        vertical-align: top;\n",
       "    }\n",
       "\n",
       "    .dataframe thead th {\n",
       "        text-align: right;\n",
       "    }\n",
       "</style>\n",
       "<table border=\"1\" class=\"dataframe\">\n",
       "  <thead>\n",
       "    <tr style=\"text-align: right;\">\n",
       "      <th></th>\n",
       "      <th>id</th>\n",
       "      <th>original_id</th>\n",
       "      <th>tweet_text</th>\n",
       "      <th>tweet_url</th>\n",
       "      <th>claim</th>\n",
       "      <th>rating</th>\n",
       "      <th>images</th>\n",
       "      <th>text_images</th>\n",
       "      <th>source</th>\n",
       "      <th>label</th>\n",
       "      <th>label_info</th>\n",
       "      <th>available</th>\n",
       "      <th>acc_id</th>\n",
       "      <th>botometer</th>\n",
       "    </tr>\n",
       "  </thead>\n",
       "  <tbody>\n",
       "    <tr>\n",
       "      <th>0</th>\n",
       "      <td>1000037356836093953</td>\n",
       "      <td>1000023322481086466</td>\n",
       "      <td>Brave men died to keep us free. Radicals want ...</td>\n",
       "      <td>https://twitter.com/POTUS/status/1000037356836...</td>\n",
       "      <td>Liberals were offended by a World War I memori...</td>\n",
       "      <td>['https://www.snopes.com/tachyon/2018/03/ratin...</td>\n",
       "      <td>http://pbs.twimg.com/media/DeDL5a-XkAI7Hlw.jpg</td>\n",
       "      <td>#DontTearMeDown IRSTLIBERT . ORG DontTearMeDow...</td>\n",
       "      <td>https://www.snopes.com/fact-check/liberals-dem...</td>\n",
       "      <td>mixture</td>\n",
       "      <td>NaN</td>\n",
       "      <td>ok</td>\n",
       "      <td>3981225735</td>\n",
       "      <td>{'cap': {'english': 0.7759887465100499, 'unive...</td>\n",
       "    </tr>\n",
       "    <tr>\n",
       "      <th>1</th>\n",
       "      <td>1000098833798389760</td>\n",
       "      <td>1000059879682342912</td>\n",
       "      <td>“Stand for the National Anthem or be punished”...</td>\n",
       "      <td>https://twitter.com/POTUS/status/1000098833798...</td>\n",
       "      <td>A German football club was banned from playing...</td>\n",
       "      <td>['https://www.snopes.com/tachyon/2018/03/ratin...</td>\n",
       "      <td>http://pbs.twimg.com/media/DeDtKIRVAAA4kPm.jpg</td>\n",
       "      <td>FAILED TO GIVE NAZI SALUTE . German Football C...</td>\n",
       "      <td>https://www.snopes.com/fact-check/german-footb...</td>\n",
       "      <td>mostly-true-new</td>\n",
       "      <td>NaN</td>\n",
       "      <td>ok</td>\n",
       "      <td>1924071992</td>\n",
       "      <td>{'cap': {'english': 0.7759887465100499, 'unive...</td>\n",
       "    </tr>\n",
       "    <tr>\n",
       "      <th>2</th>\n",
       "      <td>1000158804795781120</td>\n",
       "      <td>1000073920760791040</td>\n",
       "      <td>@Humancipator35 @buddydusty @davidhogg111 🙌🏼 R...</td>\n",
       "      <td>https://twitter.com/POTUS/status/1000158804795...</td>\n",
       "      <td>Emma Gonz lez, a survivor of the Parkland scho...</td>\n",
       "      <td>['https://www.snopes.com/tachyon/2018/03/ratin...</td>\n",
       "      <td>http://pbs.twimg.com/media/DeD57XMV4AAUG4k.jpg</td>\n",
       "      <td>NaN</td>\n",
       "      <td>https://www.snopes.com/fact-check/emma-gonzale...</td>\n",
       "      <td>false</td>\n",
       "      <td>NaN</td>\n",
       "      <td>auth</td>\n",
       "      <td>924224208</td>\n",
       "      <td>{'cap': {'english': 0.30618807248975083, 'univ...</td>\n",
       "    </tr>\n",
       "    <tr>\n",
       "      <th>3</th>\n",
       "      <td>1000175568241872897</td>\n",
       "      <td>1000174645973315586</td>\n",
       "      <td>Just sayin'  #NFL https://t.co/70tFG5ieMC</td>\n",
       "      <td>https://twitter.com/POTUS/status/1000175568241...</td>\n",
       "      <td>A German football club was banned from playing...</td>\n",
       "      <td>['https://www.snopes.com/tachyon/2018/03/ratin...</td>\n",
       "      <td>http://pbs.twimg.com/media/DeFVdDlUwAA17qS.jpg</td>\n",
       "      <td>FAILED TO GIVE NAZI SALUTE . German Football C...</td>\n",
       "      <td>https://www.snopes.com/fact-check/german-footb...</td>\n",
       "      <td>mostly-true-new</td>\n",
       "      <td>NaN</td>\n",
       "      <td>auth</td>\n",
       "      <td>170735298</td>\n",
       "      <td>{'cap': {'english': 0.6763619064808265, 'unive...</td>\n",
       "    </tr>\n",
       "    <tr>\n",
       "      <th>4</th>\n",
       "      <td>1000438777792344067</td>\n",
       "      <td>1000191784797040640</td>\n",
       "      <td>Those who do not learn from history are doomed...</td>\n",
       "      <td>https://twitter.com/POTUS/status/1000438777792...</td>\n",
       "      <td>A German football club was banned from playing...</td>\n",
       "      <td>['https://www.snopes.com/tachyon/2018/03/ratin...</td>\n",
       "      <td>http://pbs.twimg.com/media/DeFkp5eU0AA2aLJ.jpg</td>\n",
       "      <td>pnting n the wo \" ' t WHY to win . nbor mu t n...</td>\n",
       "      <td>https://www.snopes.com/fact-check/german-footb...</td>\n",
       "      <td>mostly-true-new</td>\n",
       "      <td>NaN</td>\n",
       "      <td>ok</td>\n",
       "      <td>115563859</td>\n",
       "      <td>{'cap': {'english': 0.7668769621923945, 'unive...</td>\n",
       "    </tr>\n",
       "    <tr>\n",
       "      <th>...</th>\n",
       "      <td>...</td>\n",
       "      <td>...</td>\n",
       "      <td>...</td>\n",
       "      <td>...</td>\n",
       "      <td>...</td>\n",
       "      <td>...</td>\n",
       "      <td>...</td>\n",
       "      <td>...</td>\n",
       "      <td>...</td>\n",
       "      <td>...</td>\n",
       "      <td>...</td>\n",
       "      <td>...</td>\n",
       "      <td>...</td>\n",
       "      <td>...</td>\n",
       "    </tr>\n",
       "    <tr>\n",
       "      <th>6971</th>\n",
       "      <td>1000095067887910917</td>\n",
       "      <td>999866405687209984</td>\n",
       "      <td>History repeating itself with @realDonaldTrump...</td>\n",
       "      <td>https://twitter.com/POTUS/status/1000095067887...</td>\n",
       "      <td>A German football club was banned from playing...</td>\n",
       "      <td>['https://www.snopes.com/tachyon/2018/03/ratin...</td>\n",
       "      <td>http://pbs.twimg.com/media/DeA9KrlVwAEHtPB.jpg</td>\n",
       "      <td>FAILED TO GIVE NAZI SALUTE . German Football C...</td>\n",
       "      <td>https://www.snopes.com/fact-check/german-footb...</td>\n",
       "      <td>mostly-true-new</td>\n",
       "      <td>NaN</td>\n",
       "      <td>ok</td>\n",
       "      <td>550658726</td>\n",
       "      <td></td>\n",
       "    </tr>\n",
       "    <tr>\n",
       "      <th>6972</th>\n",
       "      <td>1000146882428096512</td>\n",
       "      <td>999903412425711616</td>\n",
       "      <td>I picked this up from someone here. Its🙄🤨🙄 wor...</td>\n",
       "      <td>https://twitter.com/POTUS/status/1000146882428...</td>\n",
       "      <td>A German football club was banned from playing...</td>\n",
       "      <td>['https://www.snopes.com/tachyon/2018/03/ratin...</td>\n",
       "      <td>http://pbs.twimg.com/media/DeBe1X5VAAI-Zhh.jpg</td>\n",
       "      <td>FAILED TO GIVE NAZI SALUTE . German Football C...</td>\n",
       "      <td>https://www.snopes.com/fact-check/german-footb...</td>\n",
       "      <td>mostly-true-new</td>\n",
       "      <td>NaN</td>\n",
       "      <td>ok</td>\n",
       "      <td>91743765</td>\n",
       "      <td></td>\n",
       "    </tr>\n",
       "    <tr>\n",
       "      <th>6973</th>\n",
       "      <td>1000018438184734720</td>\n",
       "      <td>999961946932723713</td>\n",
       "      <td>Trump is a criminal, a gangster using criminal...</td>\n",
       "      <td>https://twitter.com/POTUS/status/1000018438184...</td>\n",
       "      <td>Notorious mobster Al Capone demanded an inquir...</td>\n",
       "      <td>['https://www.snopes.com/tachyon/2018/03/ratin...</td>\n",
       "      <td>http://pbs.twimg.com/media/DeCUF2ZV4AAMm0Z.jpg</td>\n",
       "      <td>Ci ) icago Sunday Cribune INAL 17 . Capone Dem...</td>\n",
       "      <td>https://www.snopes.com/fact-check/did-al-capon...</td>\n",
       "      <td>false</td>\n",
       "      <td>NaN</td>\n",
       "      <td>missing</td>\n",
       "      <td>881682896607600640</td>\n",
       "      <td></td>\n",
       "    </tr>\n",
       "    <tr>\n",
       "      <th>6974</th>\n",
       "      <td>999992400725585920</td>\n",
       "      <td>999962442141782016</td>\n",
       "      <td>@VP @NFL @POTUS The only thing that’s #Winning...</td>\n",
       "      <td>https://twitter.com/POTUS/status/9999924007255...</td>\n",
       "      <td>Baseball players in the 1950s were caught on c...</td>\n",
       "      <td>['https://www.snopes.com/tachyon/2018/03/ratin...</td>\n",
       "      <td>http://pbs.twimg.com/media/DeCUiW3VwAAQbyx.jpg</td>\n",
       "      <td>White Baseball Players Kneel in the 50 ' s to ...</td>\n",
       "      <td>https://www.snopes.com/fact-check/baseball-pla...</td>\n",
       "      <td>false</td>\n",
       "      <td>NaN</td>\n",
       "      <td>auth</td>\n",
       "      <td>115748564</td>\n",
       "      <td></td>\n",
       "    </tr>\n",
       "    <tr>\n",
       "      <th>6975</th>\n",
       "      <td>1000035228679852032</td>\n",
       "      <td>999973815655518213</td>\n",
       "      <td>@mjfree Sports has been used as a means of pro...</td>\n",
       "      <td>https://twitter.com/POTUS/status/1000035228679...</td>\n",
       "      <td>Baseball players in the 1950s were caught on c...</td>\n",
       "      <td>['https://www.snopes.com/tachyon/2018/03/ratin...</td>\n",
       "      <td>http://pbs.twimg.com/media/DeCejk4WkAMruuM.jpg</td>\n",
       "      <td>White Baseball Players Kneel in the 50 ' s to ...</td>\n",
       "      <td>https://www.snopes.com/fact-check/baseball-pla...</td>\n",
       "      <td>false</td>\n",
       "      <td>NaN</td>\n",
       "      <td>ok</td>\n",
       "      <td>518227176</td>\n",
       "      <td></td>\n",
       "    </tr>\n",
       "  </tbody>\n",
       "</table>\n",
       "<p>6976 rows × 14 columns</p>\n",
       "</div>"
      ],
      "text/plain": [
       "                       id          original_id  \\\n",
       "0     1000037356836093953  1000023322481086466   \n",
       "1     1000098833798389760  1000059879682342912   \n",
       "2     1000158804795781120  1000073920760791040   \n",
       "3     1000175568241872897  1000174645973315586   \n",
       "4     1000438777792344067  1000191784797040640   \n",
       "...                   ...                  ...   \n",
       "6971  1000095067887910917   999866405687209984   \n",
       "6972  1000146882428096512   999903412425711616   \n",
       "6973  1000018438184734720   999961946932723713   \n",
       "6974   999992400725585920   999962442141782016   \n",
       "6975  1000035228679852032   999973815655518213   \n",
       "\n",
       "                                             tweet_text  \\\n",
       "0     Brave men died to keep us free. Radicals want ...   \n",
       "1     “Stand for the National Anthem or be punished”...   \n",
       "2     @Humancipator35 @buddydusty @davidhogg111 🙌🏼 R...   \n",
       "3             Just sayin'  #NFL https://t.co/70tFG5ieMC   \n",
       "4     Those who do not learn from history are doomed...   \n",
       "...                                                 ...   \n",
       "6971  History repeating itself with @realDonaldTrump...   \n",
       "6972  I picked this up from someone here. Its🙄🤨🙄 wor...   \n",
       "6973  Trump is a criminal, a gangster using criminal...   \n",
       "6974  @VP @NFL @POTUS The only thing that’s #Winning...   \n",
       "6975  @mjfree Sports has been used as a means of pro...   \n",
       "\n",
       "                                              tweet_url  \\\n",
       "0     https://twitter.com/POTUS/status/1000037356836...   \n",
       "1     https://twitter.com/POTUS/status/1000098833798...   \n",
       "2     https://twitter.com/POTUS/status/1000158804795...   \n",
       "3     https://twitter.com/POTUS/status/1000175568241...   \n",
       "4     https://twitter.com/POTUS/status/1000438777792...   \n",
       "...                                                 ...   \n",
       "6971  https://twitter.com/POTUS/status/1000095067887...   \n",
       "6972  https://twitter.com/POTUS/status/1000146882428...   \n",
       "6973  https://twitter.com/POTUS/status/1000018438184...   \n",
       "6974  https://twitter.com/POTUS/status/9999924007255...   \n",
       "6975  https://twitter.com/POTUS/status/1000035228679...   \n",
       "\n",
       "                                                  claim  \\\n",
       "0     Liberals were offended by a World War I memori...   \n",
       "1     A German football club was banned from playing...   \n",
       "2     Emma Gonz lez, a survivor of the Parkland scho...   \n",
       "3     A German football club was banned from playing...   \n",
       "4     A German football club was banned from playing...   \n",
       "...                                                 ...   \n",
       "6971  A German football club was banned from playing...   \n",
       "6972  A German football club was banned from playing...   \n",
       "6973  Notorious mobster Al Capone demanded an inquir...   \n",
       "6974  Baseball players in the 1950s were caught on c...   \n",
       "6975  Baseball players in the 1950s were caught on c...   \n",
       "\n",
       "                                                 rating  \\\n",
       "0     ['https://www.snopes.com/tachyon/2018/03/ratin...   \n",
       "1     ['https://www.snopes.com/tachyon/2018/03/ratin...   \n",
       "2     ['https://www.snopes.com/tachyon/2018/03/ratin...   \n",
       "3     ['https://www.snopes.com/tachyon/2018/03/ratin...   \n",
       "4     ['https://www.snopes.com/tachyon/2018/03/ratin...   \n",
       "...                                                 ...   \n",
       "6971  ['https://www.snopes.com/tachyon/2018/03/ratin...   \n",
       "6972  ['https://www.snopes.com/tachyon/2018/03/ratin...   \n",
       "6973  ['https://www.snopes.com/tachyon/2018/03/ratin...   \n",
       "6974  ['https://www.snopes.com/tachyon/2018/03/ratin...   \n",
       "6975  ['https://www.snopes.com/tachyon/2018/03/ratin...   \n",
       "\n",
       "                                              images  \\\n",
       "0     http://pbs.twimg.com/media/DeDL5a-XkAI7Hlw.jpg   \n",
       "1     http://pbs.twimg.com/media/DeDtKIRVAAA4kPm.jpg   \n",
       "2     http://pbs.twimg.com/media/DeD57XMV4AAUG4k.jpg   \n",
       "3     http://pbs.twimg.com/media/DeFVdDlUwAA17qS.jpg   \n",
       "4     http://pbs.twimg.com/media/DeFkp5eU0AA2aLJ.jpg   \n",
       "...                                              ...   \n",
       "6971  http://pbs.twimg.com/media/DeA9KrlVwAEHtPB.jpg   \n",
       "6972  http://pbs.twimg.com/media/DeBe1X5VAAI-Zhh.jpg   \n",
       "6973  http://pbs.twimg.com/media/DeCUF2ZV4AAMm0Z.jpg   \n",
       "6974  http://pbs.twimg.com/media/DeCUiW3VwAAQbyx.jpg   \n",
       "6975  http://pbs.twimg.com/media/DeCejk4WkAMruuM.jpg   \n",
       "\n",
       "                                            text_images  \\\n",
       "0     #DontTearMeDown IRSTLIBERT . ORG DontTearMeDow...   \n",
       "1     FAILED TO GIVE NAZI SALUTE . German Football C...   \n",
       "2                                                   NaN   \n",
       "3     FAILED TO GIVE NAZI SALUTE . German Football C...   \n",
       "4     pnting n the wo \" ' t WHY to win . nbor mu t n...   \n",
       "...                                                 ...   \n",
       "6971  FAILED TO GIVE NAZI SALUTE . German Football C...   \n",
       "6972  FAILED TO GIVE NAZI SALUTE . German Football C...   \n",
       "6973  Ci ) icago Sunday Cribune INAL 17 . Capone Dem...   \n",
       "6974  White Baseball Players Kneel in the 50 ' s to ...   \n",
       "6975  White Baseball Players Kneel in the 50 ' s to ...   \n",
       "\n",
       "                                                 source            label  \\\n",
       "0     https://www.snopes.com/fact-check/liberals-dem...          mixture   \n",
       "1     https://www.snopes.com/fact-check/german-footb...  mostly-true-new   \n",
       "2     https://www.snopes.com/fact-check/emma-gonzale...            false   \n",
       "3     https://www.snopes.com/fact-check/german-footb...  mostly-true-new   \n",
       "4     https://www.snopes.com/fact-check/german-footb...  mostly-true-new   \n",
       "...                                                 ...              ...   \n",
       "6971  https://www.snopes.com/fact-check/german-footb...  mostly-true-new   \n",
       "6972  https://www.snopes.com/fact-check/german-footb...  mostly-true-new   \n",
       "6973  https://www.snopes.com/fact-check/did-al-capon...            false   \n",
       "6974  https://www.snopes.com/fact-check/baseball-pla...            false   \n",
       "6975  https://www.snopes.com/fact-check/baseball-pla...            false   \n",
       "\n",
       "      label_info available              acc_id  \\\n",
       "0            NaN        ok          3981225735   \n",
       "1            NaN        ok          1924071992   \n",
       "2            NaN      auth           924224208   \n",
       "3            NaN      auth           170735298   \n",
       "4            NaN        ok           115563859   \n",
       "...          ...       ...                 ...   \n",
       "6971         NaN        ok           550658726   \n",
       "6972         NaN        ok            91743765   \n",
       "6973         NaN   missing  881682896607600640   \n",
       "6974         NaN      auth           115748564   \n",
       "6975         NaN        ok           518227176   \n",
       "\n",
       "                                              botometer  \n",
       "0     {'cap': {'english': 0.7759887465100499, 'unive...  \n",
       "1     {'cap': {'english': 0.7759887465100499, 'unive...  \n",
       "2     {'cap': {'english': 0.30618807248975083, 'univ...  \n",
       "3     {'cap': {'english': 0.6763619064808265, 'unive...  \n",
       "4     {'cap': {'english': 0.7668769621923945, 'unive...  \n",
       "...                                                 ...  \n",
       "6971                                                     \n",
       "6972                                                     \n",
       "6973                                                     \n",
       "6974                                                     \n",
       "6975                                                     \n",
       "\n",
       "[6976 rows x 14 columns]"
      ]
     },
     "execution_count": 111,
     "metadata": {},
     "output_type": "execute_result"
    }
   ],
   "source": [
    "snopes_acc"
   ]
  },
  {
   "cell_type": "code",
   "execution_count": 110,
   "metadata": {},
   "outputs": [
    {
     "data": {
      "text/plain": [
       "nan"
      ]
     },
     "execution_count": 110,
     "metadata": {},
     "output_type": "execute_result"
    }
   ],
   "source": [
    "test.loc[407].botometer"
   ]
  },
  {
   "cell_type": "code",
   "execution_count": null,
   "metadata": {},
   "outputs": [],
   "source": [
    "bots = snopes.botometer.tolist()"
   ]
  },
  {
   "cell_type": "code",
   "execution_count": null,
   "metadata": {},
   "outputs": [],
   "source": [
    "dicts = []\n",
    "for i in bots:\n",
    "    if i:\n",
    "        dicts.append(eval(i))\n",
    "    else:\n",
    "        dicts.append(None)\n"
   ]
  },
  {
   "cell_type": "code",
   "execution_count": null,
   "metadata": {},
   "outputs": [],
   "source": [
    "for s in bom.check_account(accounts[0]):\n",
    "    print(s)"
   ]
  },
  {
   "cell_type": "code",
   "execution_count": null,
   "metadata": {},
   "outputs": [],
   "source": [
    "import botometer\n",
    "\n",
    "rapidapi_key = \"b0dd966c59mshdf2db2daf9a121fp15f57djsn5bf9d54db4aa\"\n",
    "\n",
    "consumer_key, consumer_secret = \"uHktObbiyJpGoLUaENXdpUWyj\", \"DLoJ8VRhFUK4GQeo3XUP2LGaSN4D7a2mAZqSKlRQshr6N0Ru1r\"\n",
    "access_token, access_token_secret = \"4121890515-8wV0UlTyu9hFzJL9d8NBU6BY24STUtS7zFeAcel\", \"vfnDrkEUAHtVayGJDZxau18mPjG4CuyB2JW6sG0xeYFGs\"\n",
    "\n",
    "\n",
    "twitter_app_auth = {\n",
    "    'consumer_key': consumer_key, # 'sO59YfsV552iCsfLLpQTuS64T',\n",
    "    'consumer_secret': consumer_secret, #'YVGEDbcA3Mg3bTY9rwXpLAH5ATOzbmhRBZ92wuWaBfVMdiflzq',\n",
    "    'access_token': access_token, # 'AAAAAAAAAAAAAAAAAAAAAD%2FZWwEAAAAAJgG8hY2XJfmsYbbs%2Bp5BruRr8aM%3DtRxrtqs0eEhHQ9ZFE9U7tRlNnqm7oPUXeQEijSnj3RgxWgvN5l',\n",
    "    'access_token_secret': access_token_secret,\n",
    "  }\n",
    "bom = botometer.Botometer(wait_on_ratelimit=True,\n",
    "                          rapidapi_key=rapidapi_key,\n",
    "                          **twitter_app_auth)\n",
    "\n",
    "accounts = snopes.acc_id.tolist()\n",
    "for screen_name, result in tqdm(bom.check_accounts_in(accounts=accounts)):\n",
    "    try:\n",
    "        snopes.loc[i, \"botometer\"] = str(result[1])\n",
    "        print(result)\n",
    "    except Exception as e:\n",
    "        print(e)\n",
    "        snopes.loc[i, \"botometer\"] = None\n",
    "\n"
   ]
  },
  {
   "cell_type": "code",
   "execution_count": 50,
   "metadata": {},
   "outputs": [],
   "source": [
    "rapidapi_key = \"b0dd966c59mshdf2db2daf9a121fp15f57djsn5bf9d54db4aa\"\n",
    "\n",
    "consumer_key, consumer_secret = \"uHktObbiyJpGoLUaENXdpUWyj\", \"DLoJ8VRhFUK4GQeo3XUP2LGaSN4D7a2mAZqSKlRQshr6N0Ru1r\"\n",
    "access_token, access_token_secret = \"4121890515-8wV0UlTyu9hFzJL9d8NBU6BY24STUtS7zFeAcel\", \"vfnDrkEUAHtVayGJDZxau18mPjG4CuyB2JW6sG0xeYFGs\"\n",
    "\n",
    "\n",
    "twitter_app_auth = {\n",
    "    'consumer_key': consumer_key, # 'sO59YfsV552iCsfLLpQTuS64T',\n",
    "    'consumer_secret': consumer_secret, #'YVGEDbcA3Mg3bTY9rwXpLAH5ATOzbmhRBZ92wuWaBfVMdiflzq',\n",
    "    'access_token': access_token, # 'AAAAAAAAAAAAAAAAAAAAAD%2FZWwEAAAAAJgG8hY2XJfmsYbbs%2Bp5BruRr8aM%3DtRxrtqs0eEhHQ9ZFE9U7tRlNnqm7oPUXeQEijSnj3RgxWgvN5l',\n",
    "    'access_token_secret': access_token_secret,\n",
    "  }\n",
    "bom = botometer.Botometer(wait_on_ratelimit=True,\n",
    "                          rapidapi_key=rapidapi_key,\n",
    "                          **twitter_app_auth)\n",
    "\n",
    "result = bom.check_accounts_in(accounts[:3])\n",
    "\n"
   ]
  },
  {
   "cell_type": "code",
   "execution_count": 51,
   "metadata": {},
   "outputs": [
    {
     "name": "stdout",
     "output_type": "stream",
     "text": [
      "(3981225735, {'cap': {'english': 0.7759887465100499, 'universal': 0.8006881983123656}, 'display_scores': {'english': {'astroturf': 1.1, 'fake_follower': 1.4, 'financial': 0.0, 'other': 2.2, 'overall': 1.5, 'self_declared': 0.1, 'spammer': 0.1}, 'universal': {'astroturf': 0.8, 'fake_follower': 1.1, 'financial': 0.3, 'other': 3.0, 'overall': 1.8, 'self_declared': 0.1, 'spammer': 0.1}}, 'raw_scores': {'english': {'astroturf': 0.22, 'fake_follower': 0.29, 'financial': 0.01, 'other': 0.45, 'overall': 0.3, 'self_declared': 0.02, 'spammer': 0.02}, 'universal': {'astroturf': 0.15, 'fake_follower': 0.22, 'financial': 0.06, 'other': 0.6, 'overall': 0.37, 'self_declared': 0.02, 'spammer': 0.02}}, 'user': {'majority_lang': 'en', 'user_data': {'id_str': '3981225735', 'screen_name': 'TrumpStudents'}}})\n",
      "(1924071992, {'cap': {'english': 0.7759887465100499, 'universal': 0.792436790569533}, 'display_scores': {'english': {'astroturf': 2.8, 'fake_follower': 0.4, 'financial': 0.6, 'other': 1.4, 'overall': 1.5, 'self_declared': 0.2, 'spammer': 0.0}, 'universal': {'astroturf': 2.2, 'fake_follower': 0.5, 'financial': 0.4, 'other': 1.5, 'overall': 1.6, 'self_declared': 0.0, 'spammer': 0.0}}, 'raw_scores': {'english': {'astroturf': 0.57, 'fake_follower': 0.07, 'financial': 0.13, 'other': 0.29, 'overall': 0.3, 'self_declared': 0.03, 'spammer': 0.0}, 'universal': {'astroturf': 0.43, 'fake_follower': 0.1, 'financial': 0.09, 'other': 0.3, 'overall': 0.32, 'self_declared': 0.01, 'spammer': 0.01}}, 'user': {'majority_lang': 'en', 'user_data': {'id_str': '1924071992', 'screen_name': 'MillenPolitics'}}})\n",
      "(924224208, {'cap': {'english': 0.30618807248975083, 'universal': 0.37678996390568303}, 'display_scores': {'english': {'astroturf': 1.4, 'fake_follower': 0.4, 'financial': 0.3, 'other': 0.9, 'overall': 0.2, 'self_declared': 0.0, 'spammer': 0.0}, 'universal': {'astroturf': 1.1, 'fake_follower': 0.6, 'financial': 0.4, 'other': 0.8, 'overall': 0.3, 'self_declared': 0.0, 'spammer': 0.0}}, 'raw_scores': {'english': {'astroturf': 0.29, 'fake_follower': 0.09, 'financial': 0.06, 'other': 0.18, 'overall': 0.04, 'self_declared': 0.0, 'spammer': 0.0}, 'universal': {'astroturf': 0.22, 'fake_follower': 0.12, 'financial': 0.07, 'other': 0.15, 'overall': 0.06, 'self_declared': 0.0, 'spammer': 0.0}}, 'user': {'majority_lang': 'en', 'user_data': {'id_str': '924224208', 'screen_name': 'jaybluuee'}}})\n"
     ]
    }
   ],
   "source": [
    "for a in result:\n",
    "    print(a)"
   ]
  },
  {
   "cell_type": "code",
   "execution_count": 52,
   "metadata": {},
   "outputs": [
    {
     "data": {
      "text/plain": [
       "{'cap': {'english': 0.30618807248975083, 'universal': 0.37678996390568303},\n",
       " 'display_scores': {'english': {'astroturf': 1.4,\n",
       "   'fake_follower': 0.4,\n",
       "   'financial': 0.3,\n",
       "   'other': 0.9,\n",
       "   'overall': 0.2,\n",
       "   'self_declared': 0.0,\n",
       "   'spammer': 0.0},\n",
       "  'universal': {'astroturf': 1.1,\n",
       "   'fake_follower': 0.6,\n",
       "   'financial': 0.4,\n",
       "   'other': 0.8,\n",
       "   'overall': 0.3,\n",
       "   'self_declared': 0.0,\n",
       "   'spammer': 0.0}},\n",
       " 'raw_scores': {'english': {'astroturf': 0.29,\n",
       "   'fake_follower': 0.09,\n",
       "   'financial': 0.06,\n",
       "   'other': 0.18,\n",
       "   'overall': 0.04,\n",
       "   'self_declared': 0.0,\n",
       "   'spammer': 0.0},\n",
       "  'universal': {'astroturf': 0.22,\n",
       "   'fake_follower': 0.12,\n",
       "   'financial': 0.07,\n",
       "   'other': 0.15,\n",
       "   'overall': 0.06,\n",
       "   'self_declared': 0.0,\n",
       "   'spammer': 0.0}},\n",
       " 'user': {'majority_lang': 'en',\n",
       "  'user_data': {'id_str': '924224208', 'screen_name': 'jaybluuee'}}}"
      ]
     },
     "execution_count": 52,
     "metadata": {},
     "output_type": "execute_result"
    }
   ],
   "source": [
    "a[1]"
   ]
  },
  {
   "cell_type": "code",
   "execution_count": 49,
   "metadata": {},
   "outputs": [
    {
     "data": {
      "text/plain": [
       "[3981225735,\n",
       " 1924071992,\n",
       " 924224208,\n",
       " 170735298,\n",
       " 115563859,\n",
       " 839300788702875648,\n",
       " 187286731,\n",
       " 803984530700910592,\n",
       " 432703985,\n",
       " 96838049,\n",
       " 22289130,\n",
       " 1336826635,\n",
       " 600061917,\n",
       " 259132164,\n",
       " 818231382,\n",
       " 284236188,\n",
       " 184383206,\n",
       " 2316246829,\n",
       " 807095,\n",
       " 1266239359,\n",
       " 3995778614,\n",
       " 571135299,\n",
       " 1367140224,\n",
       " 1170769933,\n",
       " 4041846647,\n",
       " 2505411212,\n",
       " 1102665366,\n",
       " 22084427,\n",
       " 227128602,\n",
       " 221557378,\n",
       " 704876221197193216,\n",
       " 15317676,\n",
       " 500391228,\n",
       " 1260181622,\n",
       " 22162379,\n",
       " 14849146,\n",
       " 2884176405,\n",
       " 2411569569,\n",
       " 2411569569,\n",
       " 235709466,\n",
       " 110855805,\n",
       " 554987162,\n",
       " 192529611,\n",
       " 1329515617,\n",
       " 554888488,\n",
       " 1367140224,\n",
       " 53159918,\n",
       " 714647220268744704,\n",
       " 1732751822,\n",
       " 16973333,\n",
       " 1893751014,\n",
       " 4480863626,\n",
       " 166329578,\n",
       " 608471241,\n",
       " 724755152515829760,\n",
       " 128796694,\n",
       " 607558430,\n",
       " 124954456,\n",
       " 4864871778,\n",
       " 19874344,\n",
       " 580312540,\n",
       " 1909350781,\n",
       " 17756195,\n",
       " 304761097,\n",
       " 350362817,\n",
       " 4173349815,\n",
       " 487600344,\n",
       " 177584156,\n",
       " 2682013394,\n",
       " 4236806414,\n",
       " 18545481,\n",
       " 2255785398,\n",
       " 4833119038,\n",
       " 2416940856,\n",
       " 457820209,\n",
       " 30528628,\n",
       " 3314758074,\n",
       " 68450683,\n",
       " 339060259,\n",
       " 728733298373988352,\n",
       " 231124010,\n",
       " 3389134989,\n",
       " 1038821832,\n",
       " 2466008792,\n",
       " 370243466,\n",
       " 3323100684,\n",
       " 68450683,\n",
       " 578090036,\n",
       " 2206912764,\n",
       " 265891353,\n",
       " 4823097016,\n",
       " 399774230,\n",
       " 4832357954,\n",
       " 25224960,\n",
       " 25224960,\n",
       " 3380835143,\n",
       " 4909226006,\n",
       " 1969346438,\n",
       " 3951682217,\n",
       " 159655623,\n",
       " 22064592,\n",
       " 185635130,\n",
       " 437208886,\n",
       " 4664372353,\n",
       " 204872032,\n",
       " 440817801,\n",
       " 205757668,\n",
       " 443924415,\n",
       " 18545481,\n",
       " 66837697,\n",
       " 27789999,\n",
       " 27789999,\n",
       " 27789999,\n",
       " 3411313300,\n",
       " 19131322,\n",
       " 85831860,\n",
       " 2908170952,\n",
       " 145359341,\n",
       " 312149882,\n",
       " 1449488359,\n",
       " 4704367111,\n",
       " 136166272,\n",
       " 2490661603,\n",
       " 561654065,\n",
       " 163995557,\n",
       " 27413161,\n",
       " 126009130,\n",
       " 126009130,\n",
       " 18545481,\n",
       " 18545481,\n",
       " 18545481,\n",
       " 145359341,\n",
       " 162114552,\n",
       " 3588258014,\n",
       " 944470134,\n",
       " 1678775311,\n",
       " 201727015,\n",
       " 705607964007108608,\n",
       " 222519463,\n",
       " 533666781,\n",
       " 52136185,\n",
       " 586206240,\n",
       " 3225287206,\n",
       " 49452556,\n",
       " 904789082,\n",
       " 732615765476564992,\n",
       " 2665438183,\n",
       " 944470134,\n",
       " 1713036884,\n",
       " 500391228,\n",
       " 485373368,\n",
       " 59615269,\n",
       " 295988417,\n",
       " 2695447915,\n",
       " 561654065,\n",
       " 2840452198,\n",
       " 561654065,\n",
       " 1425679045,\n",
       " 33170847,\n",
       " 82447359,\n",
       " 3995778614,\n",
       " 1605994580,\n",
       " 245687348,\n",
       " 21833728,\n",
       " 82447359,\n",
       " 200811254,\n",
       " 269576133,\n",
       " 361275163,\n",
       " 2847859818,\n",
       " 4726885214,\n",
       " 54065567,\n",
       " 54065567,\n",
       " 2686313414,\n",
       " 2975669439,\n",
       " 300497193,\n",
       " 361275163,\n",
       " 3307295642,\n",
       " 2875780737,\n",
       " 222519463,\n",
       " 705890784319377408,\n",
       " 17350532,\n",
       " 304543369,\n",
       " 1849938847,\n",
       " 2600602135,\n",
       " 59615269,\n",
       " 195271137,\n",
       " 2600602135,\n",
       " 2914451594,\n",
       " 3974665634,\n",
       " 729022640313106432,\n",
       " 2600602135,\n",
       " 104051619,\n",
       " 2600602135,\n",
       " 2600602135,\n",
       " 1430455554,\n",
       " 21343120,\n",
       " 1941136946,\n",
       " 2600602135,\n",
       " 421344061,\n",
       " 713005707470069760,\n",
       " 49685124,\n",
       " 3020425427,\n",
       " 297191567,\n",
       " 4883470551,\n",
       " 4883470551,\n",
       " 555475580,\n",
       " 705890784319377408,\n",
       " 25066686,\n",
       " 726627971490934784,\n",
       " 359196437,\n",
       " 4883470551,\n",
       " 487013912,\n",
       " 4883470551,\n",
       " 727308523139272704,\n",
       " 705532607790870528,\n",
       " 4883470551,\n",
       " 706429945258463232,\n",
       " 4883470551,\n",
       " 289118612,\n",
       " 4883470551,\n",
       " 60207798,\n",
       " 4883470551,\n",
       " 4914495876,\n",
       " 60207798,\n",
       " 21773704,\n",
       " 71272041,\n",
       " 194521859,\n",
       " 2902181749,\n",
       " 4883470551,\n",
       " 634676291,\n",
       " 4883470551,\n",
       " 4883470551,\n",
       " 843066685,\n",
       " 141711305,\n",
       " 3974665634,\n",
       " 4883470551,\n",
       " 4883470551,\n",
       " 2457085861,\n",
       " 4883470551,\n",
       " 14294848,\n",
       " 2421067430,\n",
       " 374116640,\n",
       " 279390084,\n",
       " 19943761,\n",
       " 30681036,\n",
       " 594886554,\n",
       " 594886554,\n",
       " 15226811,\n",
       " 723167125272027136,\n",
       " 312149882,\n",
       " 3018828006,\n",
       " 59241915,\n",
       " 14211510,\n",
       " 170357723,\n",
       " 15012486,\n",
       " 126009130,\n",
       " 161132591,\n",
       " 3567446177,\n",
       " 2982225709,\n",
       " 18363962,\n",
       " 542318578,\n",
       " 158619022,\n",
       " 121493492,\n",
       " 18564980,\n",
       " 109484669,\n",
       " 18643437,\n",
       " 3311629271,\n",
       " 32272710,\n",
       " 796261392,\n",
       " 18240386,\n",
       " 146928495,\n",
       " 77324226,\n",
       " 1735969045,\n",
       " 16267083,\n",
       " 2560466682,\n",
       " 378016563,\n",
       " 213795411,\n",
       " 414174068,\n",
       " 177584156,\n",
       " 88989613,\n",
       " 31341662,\n",
       " 71875415,\n",
       " 401657173,\n",
       " 275276082,\n",
       " 719198026909290496,\n",
       " 38570287,\n",
       " 554316017,\n",
       " 944470134,\n",
       " 891073250,\n",
       " 90194079,\n",
       " 709920419529281536,\n",
       " 753573418507743232,\n",
       " 94818581,\n",
       " 26652733,\n",
       " 3314758074,\n",
       " 3903128778,\n",
       " 149679293,\n",
       " 714513049,\n",
       " 98229878,\n",
       " 3308560736,\n",
       " 385194334,\n",
       " 2570615502,\n",
       " 319373700,\n",
       " 362798863,\n",
       " 330378192,\n",
       " 291874773,\n",
       " 118867974,\n",
       " 28587919,\n",
       " 16208276,\n",
       " 238053427,\n",
       " 175954697,\n",
       " 600195366,\n",
       " 525676041,\n",
       " 918230042,\n",
       " 1269583296,\n",
       " 345253262,\n",
       " 32133117,\n",
       " 4496819788,\n",
       " 14294848,\n",
       " 108172069,\n",
       " 33156354,\n",
       " 17427779,\n",
       " 3389073989,\n",
       " 3020168556,\n",
       " 1969346438,\n",
       " 4236806414,\n",
       " 470438993,\n",
       " 21833728,\n",
       " 82447359,\n",
       " 45302174,\n",
       " 272114651,\n",
       " 15976697,\n",
       " 33529092,\n",
       " 1247921690,\n",
       " 278781274,\n",
       " 47534393,\n",
       " 61759552,\n",
       " 707288641995939840,\n",
       " 306097862,\n",
       " 43283406,\n",
       " 352145373,\n",
       " 43296233,\n",
       " 3698501,\n",
       " 561654065,\n",
       " 741814929842405376,\n",
       " 18764841,\n",
       " 19062754,\n",
       " 3520122318,\n",
       " 14546264,\n",
       " 2604924327,\n",
       " 338613723,\n",
       " 15150453,\n",
       " 16027904,\n",
       " 18210263,\n",
       " 3974665634,\n",
       " 3974665634,\n",
       " 177584156,\n",
       " 3685459885,\n",
       " 1620343501,\n",
       " 764644970,\n",
       " 726148842,\n",
       " 756487123650260992,\n",
       " 792788359,\n",
       " 184997446,\n",
       " 706656042327801856,\n",
       " 722787662214483968,\n",
       " 1541810258,\n",
       " 4068318254,\n",
       " 2725381381,\n",
       " 21343120,\n",
       " 275276082,\n",
       " 323208365,\n",
       " 233933230,\n",
       " 55976150,\n",
       " 90804267,\n",
       " 2570615502,\n",
       " 208996041,\n",
       " 133478732,\n",
       " 39578387,\n",
       " 316739994,\n",
       " 3308560736,\n",
       " 39308549,\n",
       " 2845253645,\n",
       " 2750334224,\n",
       " 264268489,\n",
       " 39349894,\n",
       " 42822396,\n",
       " 21458842,\n",
       " 88243144,\n",
       " 1426907185,\n",
       " 2332264339,\n",
       " 104513680,\n",
       " 618563,\n",
       " 264361128,\n",
       " 34917150,\n",
       " 752961357113200640,\n",
       " 59817827,\n",
       " 398919818,\n",
       " 715496304777015296,\n",
       " 347627434,\n",
       " 707077738620780544,\n",
       " 742446825337028608,\n",
       " 9300262,\n",
       " 704034081898668032,\n",
       " 1374585606,\n",
       " 718983299608129536,\n",
       " 584177882,\n",
       " 9300262,\n",
       " 721185346797572096,\n",
       " 67899097,\n",
       " 2499109494,\n",
       " 2796929687,\n",
       " 292929271,\n",
       " 2269567158,\n",
       " 2393098723,\n",
       " 709920419529281536,\n",
       " 4784596178,\n",
       " 4236806414,\n",
       " 494624290,\n",
       " 561654065,\n",
       " 1599141961,\n",
       " 17860906,\n",
       " 2839030037,\n",
       " 4226960114,\n",
       " 743688372460216320,\n",
       " 118496889,\n",
       " 2915156131,\n",
       " 166329578,\n",
       " 4676548814,\n",
       " 4197546072,\n",
       " 88494677,\n",
       " 608471241,\n",
       " 608471241,\n",
       " 325164172,\n",
       " 26672170,\n",
       " 177584156,\n",
       " 2801177472,\n",
       " 95995039,\n",
       " 126009130,\n",
       " 126009130,\n",
       " 399774230,\n",
       " 972255098,\n",
       " 1917731,\n",
       " 65854394,\n",
       " 741589503102570496,\n",
       " 1917731,\n",
       " 2244290719,\n",
       " 701655880920510464,\n",
       " 2793194082,\n",
       " 18301196,\n",
       " 1496756359,\n",
       " 430118889,\n",
       " 15164565,\n",
       " 3697285157,\n",
       " 2923563766,\n",
       " 2923563766,\n",
       " 1375629385,\n",
       " 1325018372,\n",
       " 25975551,\n",
       " 22722452,\n",
       " 374284455,\n",
       " 49035775,\n",
       " 48421473,\n",
       " 428713002,\n",
       " 3407847574,\n",
       " 18545481,\n",
       " 15164565,\n",
       " 47652227,\n",
       " 78523300,\n",
       " 361275163,\n",
       " 495622651,\n",
       " 19098324,\n",
       " 421275603,\n",
       " 177584156,\n",
       " 361275163,\n",
       " 28905454,\n",
       " 15164565,\n",
       " 4429709805,\n",
       " 1496756359,\n",
       " 766797410,\n",
       " 15164565,\n",
       " 548172120,\n",
       " 2241227238,\n",
       " 15164565,\n",
       " 30456403,\n",
       " 248692627,\n",
       " 28048355,\n",
       " 18545481,\n",
       " 1917731,\n",
       " 138742761,\n",
       " 289118612,\n",
       " 15706904,\n",
       " 865636782,\n",
       " 2291904432,\n",
       " 3103091745,\n",
       " 3047937393,\n",
       " 167796615,\n",
       " 14511951,\n",
       " 49452556,\n",
       " 3974665634,\n",
       " 1018491630,\n",
       " 537904539,\n",
       " 2374469136,\n",
       " 3433022621,\n",
       " 585465795,\n",
       " 2883533651,\n",
       " 16955991,\n",
       " 547969112,\n",
       " 272114651,\n",
       " 936148682,\n",
       " 728635523816775680,\n",
       " 547969112,\n",
       " 67899097,\n",
       " 547969112,\n",
       " 3047377314,\n",
       " 759179340307243008,\n",
       " 1367531,\n",
       " 361275163,\n",
       " 399717630,\n",
       " 9369062,\n",
       " 762252876,\n",
       " 582135529,\n",
       " 851866178,\n",
       " 608471241,\n",
       " 331825712,\n",
       " 733808069440741376,\n",
       " 3995778614,\n",
       " 3390416469,\n",
       " 1367531,\n",
       " 754135908,\n",
       " 890302164,\n",
       " 81602176,\n",
       " 728979362775638016,\n",
       " 553998793,\n",
       " 157054921,\n",
       " 2255424079,\n",
       " 547969112,\n",
       " 2875990472,\n",
       " 2316246829,\n",
       " 758313715695427584,\n",
       " 758313715695427584,\n",
       " 25446957,\n",
       " 86963075,\n",
       " 715357604961263616,\n",
       " 140638292,\n",
       " 2801177472,\n",
       " 2801177472,\n",
       " 1976799128,\n",
       " 421460415,\n",
       " 2775579278,\n",
       " 3974665634,\n",
       " 1482516500,\n",
       " 750399805851963392,\n",
       " 43413425,\n",
       " 43308598,\n",
       " 3066008697,\n",
       " 18195110,\n",
       " 40246348,\n",
       " 2793800587,\n",
       " 802722056,\n",
       " 43308598,\n",
       " 402985469,\n",
       " 4897543230,\n",
       " 865538113,\n",
       " 2972410695,\n",
       " 2998466930,\n",
       " 4182512297,\n",
       " 30067748,\n",
       " 71359942,\n",
       " 277090518,\n",
       " 65003619,\n",
       " 753806066052235264,\n",
       " 705333567543504896,\n",
       " 2998441830,\n",
       " 3308110350,\n",
       " 4796678896,\n",
       " 2441304533,\n",
       " 561654065,\n",
       " 3034834939,\n",
       " 261035490,\n",
       " 4851276082,\n",
       " 370513594,\n",
       " 15854008,\n",
       " 2226870793,\n",
       " 971176056,\n",
       " 4240150034,\n",
       " 561654065,\n",
       " 332433520,\n",
       " 2416597188,\n",
       " 2416597188,\n",
       " 17094311,\n",
       " 543452426,\n",
       " 4846395737,\n",
       " 3220025137,\n",
       " 753753493622628352,\n",
       " 18002528,\n",
       " 16444868,\n",
       " 3433002136,\n",
       " 743651896578060288,\n",
       " 21833728,\n",
       " 50010587,\n",
       " 835328618,\n",
       " 297457814,\n",
       " 620872388,\n",
       " 3139537490,\n",
       " 60370335,\n",
       " 1225818590,\n",
       " 234841289,\n",
       " 2891102076,\n",
       " 702174406739685376,\n",
       " 57912099,\n",
       " 732445833682018304,\n",
       " 732445833682018304,\n",
       " 2904671027,\n",
       " 322674930,\n",
       " 65003619,\n",
       " 4543053312,\n",
       " 42158021,\n",
       " 279208035,\n",
       " 180511021,\n",
       " 311241090,\n",
       " 15359578,\n",
       " 20826129,\n",
       " 4700477725,\n",
       " 371142734,\n",
       " 24638062,\n",
       " 45291573,\n",
       " 552410408,\n",
       " 20295763,\n",
       " 1564676498,\n",
       " 17343602,\n",
       " 552983877,\n",
       " 18561223,\n",
       " 14787713,\n",
       " 1568498256,\n",
       " 752493806,\n",
       " 516093774,\n",
       " 28905454,\n",
       " 2747259456,\n",
       " 224268822,\n",
       " 17232340,\n",
       " 3359243787,\n",
       " 75974281,\n",
       " 233933230,\n",
       " 233933230,\n",
       " 479068816,\n",
       " 2892976359,\n",
       " 19908848,\n",
       " 4237277387,\n",
       " 3359243787,\n",
       " 284104234,\n",
       " 3592503441,\n",
       " 905530344,\n",
       " 19899980,\n",
       " 600061917,\n",
       " 221452291,\n",
       " 4765012532,\n",
       " 15671833,\n",
       " 1530853626,\n",
       " 24395228,\n",
       " 343171160,\n",
       " 2908170952,\n",
       " 251913645,\n",
       " 709920419529281536,\n",
       " 431198790,\n",
       " 90285099,\n",
       " 2299826742,\n",
       " 142077688,\n",
       " 1213274119,\n",
       " 608471241,\n",
       " 561654065,\n",
       " 15368940,\n",
       " 2740452163,\n",
       " 25446957,\n",
       " 70773048,\n",
       " 706176697440276480,\n",
       " 759251,\n",
       " 50881405,\n",
       " 1356123823,\n",
       " 716260246109483008,\n",
       " 3202808548,\n",
       " 150059501,\n",
       " 565008398,\n",
       " 56192739,\n",
       " 751095331408973824,\n",
       " 2900220088,\n",
       " 1652687708,\n",
       " 704034081898668032,\n",
       " 37315032,\n",
       " 632171886,\n",
       " 124199238,\n",
       " 3589464580,\n",
       " 542962969,\n",
       " 2421067430,\n",
       " 704363061013057536,\n",
       " 2910776820,\n",
       " 1096411117,\n",
       " 3124454195,\n",
       " 4760647532,\n",
       " 38367188,\n",
       " 605448008,\n",
       " 83788240,\n",
       " 374284455,\n",
       " 22798141,\n",
       " 2818206308,\n",
       " 2382281029,\n",
       " 415256606,\n",
       " 1966026648,\n",
       " 893470729,\n",
       " 2953422203,\n",
       " 167363471,\n",
       " 291874773,\n",
       " 44103717,\n",
       " 28670599,\n",
       " 739567626511388672,\n",
       " 200656602,\n",
       " 31801993,\n",
       " 703230673776197632,\n",
       " 146928495,\n",
       " 729096352676782080,\n",
       " 1643634444,\n",
       " 246377722,\n",
       " 3407847574,\n",
       " 21845346,\n",
       " 385075625,\n",
       " 29465136,\n",
       " 13148382,\n",
       " 4851276082,\n",
       " 3416492723,\n",
       " 3359243787,\n",
       " 9611592,\n",
       " 739080916610342912,\n",
       " 34367582,\n",
       " 28007091,\n",
       " 3124454195,\n",
       " 26579739,\n",
       " 76373,\n",
       " 758049168690642944,\n",
       " 963176808,\n",
       " 19193016,\n",
       " 3381686297,\n",
       " 93493910,\n",
       " 3313143320,\n",
       " 2610081858,\n",
       " 4646073148,\n",
       " 344729527,\n",
       " 32951070,\n",
       " 37013920,\n",
       " 23116280,\n",
       " 25197377,\n",
       " 33228837,\n",
       " 4242905298,\n",
       " 18637247,\n",
       " 714949505720823808,\n",
       " 872954089,\n",
       " 437352926,\n",
       " 23004495,\n",
       " 4361249533,\n",
       " 156377910,\n",
       " 4452560741,\n",
       " 273951517,\n",
       " 264493607,\n",
       " 760130823374843904,\n",
       " 118845216,\n",
       " 232333397,\n",
       " 414873541,\n",
       " 3723723982,\n",
       " 824391878,\n",
       " 450213974,\n",
       " 890302164,\n",
       " 29059784,\n",
       " 709144993,\n",
       " 15104164,\n",
       " 289118612,\n",
       " 3314963469,\n",
       " 21833728,\n",
       " 796261392,\n",
       " 227010728,\n",
       " 196109220,\n",
       " 582414351,\n",
       " 340968277,\n",
       " 1969346438,\n",
       " 13804112,\n",
       " 739567626511388672,\n",
       " 835328618,\n",
       " 164523117,\n",
       " 446228264,\n",
       " 39344374,\n",
       " 757749684580519936,\n",
       " 515542297,\n",
       " 41265813,\n",
       " 78523300,\n",
       " 18643437,\n",
       " 232201971,\n",
       " 801071388,\n",
       " 3539755636,\n",
       " 1367531,\n",
       " 1564676498,\n",
       " 4901489212,\n",
       " 704034081898668032,\n",
       " 22630309,\n",
       " 46520074,\n",
       " 17895820,\n",
       " 14412533,\n",
       " 1917731,\n",
       " 1080576949,\n",
       " 492833134,\n",
       " 65132037,\n",
       " 1735546184,\n",
       " 765091605472698368,\n",
       " 743142244706848768,\n",
       " 107012365,\n",
       " 237623215,\n",
       " 865187658,\n",
       " 621110318,\n",
       " 25197377,\n",
       " 739567626511388672,\n",
       " 1462579488,\n",
       " 430905373,\n",
       " 20854637,\n",
       " 25832979,\n",
       " 1200713864,\n",
       " 758809594936238080,\n",
       " 758809594936238080,\n",
       " 374284455,\n",
       " 25197377,\n",
       " 172394944,\n",
       " 910332056,\n",
       " 34163521,\n",
       " 1537048512,\n",
       " 715650695647637504,\n",
       " 1513958744,\n",
       " 727578244841639936,\n",
       " 713832622808412160,\n",
       " 4855687055,\n",
       " 3558102739,\n",
       " 695365245376696320,\n",
       " 28869089,\n",
       " 54065567,\n",
       " 54065567,\n",
       " 746367431388585984,\n",
       " 746367431388585984,\n",
       " 3166217539,\n",
       " 3329997245,\n",
       " 765091605472698368,\n",
       " 317223956,\n",
       " 1849938847,\n",
       " 1148951203,\n",
       " 138581916,\n",
       " 2953617710,\n",
       " 49685124,\n",
       " 169536421,\n",
       " 3124454195,\n",
       " 2830167800,\n",
       " 141642957,\n",
       " 710829502843064320,\n",
       " 30265457,\n",
       " 561654065,\n",
       " 16887175,\n",
       " 730786518848159744,\n",
       " 22677397,\n",
       " 2353703503,\n",
       " 21248626,\n",
       " 17395207,\n",
       " 144130505,\n",
       " 17529294,\n",
       " 52801677,\n",
       " 742923442471763968,\n",
       " 3697721113,\n",
       " 2584482763,\n",
       " 20944649,\n",
       " 773520163396325376,\n",
       " 20889358,\n",
       " 67095221,\n",
       " 767036004,\n",
       " 765091605472698368,\n",
       " 176914461,\n",
       " 78569026,\n",
       " 331747494,\n",
       " 2316246829,\n",
       " 361275163,\n",
       " 2364837974,\n",
       " 1242465014,\n",
       " 289118612,\n",
       " 568143078,\n",
       " 758313715695427584,\n",
       " 18195110,\n",
       " 765091605472698368,\n",
       " 1289704663,\n",
       " 754086125917106176,\n",
       " 1371572360,\n",
       " 769297227957141504,\n",
       " 3610264154,\n",
       " 27211961,\n",
       " 723387344175296512,\n",
       " 151375368,\n",
       " 767587128524013568,\n",
       " 35677844,\n",
       " 936304345,\n",
       " 19195442,\n",
       " 744281884310405120,\n",
       " 3389134989,\n",
       " 3019417439,\n",
       " 10735392,\n",
       " 3362345172,\n",
       " 33388399,\n",
       " 341688336,\n",
       " 231641765,\n",
       " 3394911915,\n",
       " 2902031256,\n",
       " 3297022953,\n",
       " 455288410,\n",
       " 219815601,\n",
       " 374284455,\n",
       " 2684196134,\n",
       " 865636782,\n",
       " 126009130,\n",
       " 126009130,\n",
       " 126009130,\n",
       " 126009130,\n",
       " 126009130,\n",
       " 126009130,\n",
       " 126009130,\n",
       " 126009130,\n",
       " 126009130,\n",
       " 126009130,\n",
       " 126009130,\n",
       " 126009130,\n",
       " 126009130,\n",
       " 126009130,\n",
       " 126009130,\n",
       " 126009130,\n",
       " 126009130,\n",
       " 126009130,\n",
       " 126009130,\n",
       " 325893346,\n",
       " 126009130,\n",
       " 126009130,\n",
       " 126009130,\n",
       " 126009130,\n",
       " 126009130,\n",
       " 126009130,\n",
       " 126009130,\n",
       " 126009130,\n",
       " 18132806,\n",
       " 3057650044,\n",
       " 972651,\n",
       " 865636782,\n",
       " 1353347065,\n",
       " 767587128524013568,\n",
       " 3686488635,\n",
       " 3002739417,\n",
       " 1183779272,\n",
       " 1309391066,\n",
       " 4334047641,\n",
       " 42371615,\n",
       " 3930608896,\n",
       " 21773704,\n",
       " 399774230,\n",
       " 758076297876602880,\n",
       " 2911587582,\n",
       " 735624304050593792,\n",
       " 4240150034,\n",
       " 16674128,\n",
       " 14441020,\n",
       " 30265457,\n",
       " 1326707346,\n",
       " 908933376,\n",
       " 124185033,\n",
       " 2451462137,\n",
       " 2417586104,\n",
       " 2344571893,\n",
       " 3340267793,\n",
       " 902851051,\n",
       " 1339835893,\n",
       " 36196526,\n",
       " 6563122,\n",
       " 4345493055,\n",
       " 1851877248,\n",
       " 90573210,\n",
       " 118845216,\n",
       " 172032623,\n",
       " 2786693552,\n",
       " 755726522,\n",
       " 2788642796,\n",
       " 340660967,\n",
       " 22141405,\n",
       " 4194141941,\n",
       " 115772421,\n",
       " 22714413,\n",
       " 97082147,\n",
       " 63514682,\n",
       " 1027392638,\n",
       " 259509924,\n",
       " 762658215850971136,\n",
       " 214112621,\n",
       " 15511737,\n",
       " 758313715695427584,\n",
       " 20065936,\n",
       " 704795920433414144,\n",
       " ...]"
      ]
     },
     "execution_count": 49,
     "metadata": {},
     "output_type": "execute_result"
    }
   ],
   "source": [
    "accounts"
   ]
  },
  {
   "cell_type": "code",
   "execution_count": null,
   "metadata": {},
   "outputs": [],
   "source": [
    "\"@clayadavis\"\n",
    "[1548959833]"
   ]
  },
  {
   "cell_type": "code",
   "execution_count": null,
   "metadata": {},
   "outputs": [],
   "source": [
    "pip install git+https://github.com/tweepy/tweepy.git\n"
   ]
  },
  {
   "cell_type": "code",
   "execution_count": null,
   "metadata": {},
   "outputs": [],
   "source": [
    "accounts = snopes.original_id.tolist()\n",
    "\n"
   ]
  },
  {
   "cell_type": "code",
   "execution_count": null,
   "metadata": {},
   "outputs": [],
   "source": [
    "import tweepy\n",
    "from tqdm import tqdm\n",
    "\n",
    "from time import sleep\n",
    "\n",
    "consumer_key, consumer_secret = \"uHktObbiyJpGoLUaENXdpUWyj\", \"DLoJ8VRhFUK4GQeo3XUP2LGaSN4D7a2mAZqSKlRQshr6N0Ru1r\"\n",
    "access_token, access_token_secret = \"4121890515-8wV0UlTyu9hFzJL9d8NBU6BY24STUtS7zFeAcel\", \"vfnDrkEUAHtVayGJDZxau18mPjG4CuyB2JW6sG0xeYFGs\"\n",
    "\n",
    "\n",
    "bearer_token = \"AAAAAAAAAAAAAAAAAAAAAD%2FZWwEAAAAA3Kiamz2egng9VKNdyiCM9%2BFUsrM%3DPS7mSlp9wPQ0BHX5inmPmOJBFrwevMrbEV4e9R10rEeU2DwaJt\"\n",
    "\n",
    "\n",
    "auth = tweepy.OAuthHandler(consumer_key, consumer_secret)\n",
    "auth.set_access_token(access_token, access_token_secret)\n",
    "\n",
    "client = tweepy.Client(bearer_token)\n",
    "# client = tweepy.Client(auth)\n",
    "\n",
    "# client = tweepy.Client(\n",
    "#     consumer_key=consumer_key, consumer_secret=consumer_secret,\n",
    "#     access_token=access_token, access_token_secret=access_token_secret\n",
    "# )\n",
    "\n",
    "# snopes[\"acc_id\"] = None\n",
    "\n",
    "\n",
    "for i, account in tqdm(enumerate(accounts)):\n",
    "    \n",
    "    if i<7250: continue\n",
    "    \n",
    "    if i % 250 == 0:\n",
    "        sleep(900)\n",
    "    try:\n",
    "        response = client.get_tweet(id=account, expansions='author_id')\n",
    "    except Exception as e:\n",
    "        print(\"Cant get tweet -----------> \", e)\n",
    "    \n",
    "    if response.data:\n",
    "        try:\n",
    "            snopes.loc[i, \"acc_id\"] = response.includes[\"users\"][0].id\n",
    "        except Exception as e:\n",
    "            snopes.loc[i, \"acc_id\"] = None\n",
    "            print(\"Cant append to df :/ ----------> \", e)"
   ]
  },
  {
   "cell_type": "code",
   "execution_count": null,
   "metadata": {},
   "outputs": [],
   "source": []
  },
  {
   "cell_type": "code",
   "execution_count": 10,
   "metadata": {},
   "outputs": [],
   "source": [
    "# snopes.to_csv(\"snopes_acc.csv\", index=False)"
   ]
  },
  {
   "cell_type": "code",
   "execution_count": null,
   "metadata": {},
   "outputs": [],
   "source": [
    "first_100 = str(accounts[:100]).replace(\"[\", \"\").replace(\"]\", \"\").replace(\" \", \"\")"
   ]
  },
  {
   "cell_type": "code",
   "execution_count": 31,
   "metadata": {},
   "outputs": [
    {
     "data": {
      "text/plain": [
       "[3981225735.0,\n",
       " 1924071992.0,\n",
       " 924224208.0,\n",
       " 170735298.0,\n",
       " 115563859.0,\n",
       " 8.393007887028756e+17,\n",
       " 187286731.0,\n",
       " 8.039845307009106e+17,\n",
       " 432703985.0,\n",
       " 96838049.0,\n",
       " 22289130.0,\n",
       " 1336826635.0,\n",
       " 600061917.0,\n",
       " 259132164.0,\n",
       " 818231382.0,\n",
       " 284236188.0,\n",
       " 184383206.0,\n",
       " 2316246829.0,\n",
       " 807095.0,\n",
       " 1266239359.0,\n",
       " 3995778614.0,\n",
       " 571135299.0,\n",
       " 1367140224.0,\n",
       " 1170769933.0,\n",
       " 4041846647.0,\n",
       " 2505411212.0,\n",
       " 1102665366.0,\n",
       " 22084427.0,\n",
       " 227128602.0,\n",
       " 221557378.0,\n",
       " 7.048762211971932e+17,\n",
       " 15317676.0,\n",
       " 500391228.0,\n",
       " 1260181622.0,\n",
       " 22162379.0,\n",
       " 14849146.0,\n",
       " 2884176405.0,\n",
       " 2411569569.0,\n",
       " 2411569569.0,\n",
       " 235709466.0,\n",
       " 110855805.0,\n",
       " 554987162.0,\n",
       " 192529611.0,\n",
       " 1329515617.0,\n",
       " 554888488.0,\n",
       " 1367140224.0,\n",
       " 53159918.0,\n",
       " 7.146472202687447e+17,\n",
       " 1732751822.0,\n",
       " 16973333.0,\n",
       " 1893751014.0,\n",
       " 4480863626.0,\n",
       " 166329578.0,\n",
       " 608471241.0,\n",
       " 7.247551525158298e+17,\n",
       " 128796694.0,\n",
       " 607558430.0,\n",
       " 124954456.0,\n",
       " 4864871778.0,\n",
       " 19874344.0,\n",
       " 580312540.0,\n",
       " 1909350781.0,\n",
       " 17756195.0,\n",
       " 304761097.0,\n",
       " 350362817.0,\n",
       " 4173349815.0,\n",
       " 487600344.0,\n",
       " 177584156.0,\n",
       " 2682013394.0,\n",
       " 4236806414.0,\n",
       " 18545481.0,\n",
       " 2255785398.0,\n",
       " 4833119038.0,\n",
       " 2416940856.0,\n",
       " 457820209.0,\n",
       " 30528628.0,\n",
       " 3314758074.0,\n",
       " 68450683.0,\n",
       " 339060259.0,\n",
       " 7.287332983739884e+17,\n",
       " 231124010.0,\n",
       " 3389134989.0,\n",
       " 1038821832.0,\n",
       " 2466008792.0,\n",
       " 370243466.0,\n",
       " 3323100684.0,\n",
       " 68450683.0,\n",
       " 578090036.0,\n",
       " 2206912764.0,\n",
       " 265891353.0,\n",
       " 4823097016.0,\n",
       " 399774230.0,\n",
       " 4832357954.0,\n",
       " 25224960.0,\n",
       " 25224960.0,\n",
       " 3380835143.0,\n",
       " 4909226006.0,\n",
       " 1969346438.0,\n",
       " 3951682217.0,\n",
       " 159655623.0,\n",
       " 22064592.0,\n",
       " 185635130.0,\n",
       " 437208886.0,\n",
       " 4664372353.0,\n",
       " 204872032.0,\n",
       " 440817801.0,\n",
       " 205757668.0,\n",
       " 443924415.0,\n",
       " 18545481.0,\n",
       " 66837697.0,\n",
       " 27789999.0,\n",
       " 27789999.0,\n",
       " 27789999.0,\n",
       " 3411313300.0,\n",
       " 19131322.0,\n",
       " 85831860.0,\n",
       " 2908170952.0,\n",
       " 145359341.0,\n",
       " 312149882.0,\n",
       " 1449488359.0,\n",
       " 4704367111.0,\n",
       " 136166272.0,\n",
       " 2490661603.0,\n",
       " 561654065.0,\n",
       " 163995557.0,\n",
       " 27413161.0,\n",
       " 126009130.0,\n",
       " 126009130.0,\n",
       " 18545481.0,\n",
       " 18545481.0,\n",
       " 18545481.0,\n",
       " 145359341.0,\n",
       " 162114552.0,\n",
       " 3588258014.0,\n",
       " 944470134.0,\n",
       " 1678775311.0,\n",
       " 201727015.0,\n",
       " 7.056079640071086e+17,\n",
       " 222519463.0,\n",
       " 533666781.0,\n",
       " 52136185.0,\n",
       " 586206240.0,\n",
       " 3225287206.0,\n",
       " 49452556.0,\n",
       " 904789082.0,\n",
       " 7.32615765476565e+17,\n",
       " 2665438183.0,\n",
       " 944470134.0,\n",
       " 1713036884.0,\n",
       " 500391228.0,\n",
       " 485373368.0,\n",
       " 59615269.0,\n",
       " 295988417.0,\n",
       " 2695447915.0,\n",
       " 561654065.0,\n",
       " 2840452198.0,\n",
       " 561654065.0,\n",
       " 1425679045.0,\n",
       " 33170847.0,\n",
       " 82447359.0,\n",
       " 3995778614.0,\n",
       " 1605994580.0,\n",
       " 245687348.0,\n",
       " 21833728.0,\n",
       " 82447359.0,\n",
       " 200811254.0,\n",
       " 269576133.0,\n",
       " 361275163.0,\n",
       " 2847859818.0,\n",
       " 4726885214.0,\n",
       " 54065567.0,\n",
       " 54065567.0,\n",
       " 2686313414.0,\n",
       " 2975669439.0,\n",
       " 300497193.0,\n",
       " 361275163.0,\n",
       " 3307295642.0,\n",
       " 2875780737.0,\n",
       " 222519463.0,\n",
       " 7.058907843193774e+17,\n",
       " 17350532.0,\n",
       " 304543369.0,\n",
       " 1849938847.0,\n",
       " 2600602135.0,\n",
       " 59615269.0,\n",
       " 195271137.0,\n",
       " 2600602135.0,\n",
       " 2914451594.0,\n",
       " 3974665634.0,\n",
       " 7.290226403131064e+17,\n",
       " 2600602135.0,\n",
       " 104051619.0,\n",
       " 2600602135.0,\n",
       " 2600602135.0,\n",
       " 1430455554.0,\n",
       " 21343120.0,\n",
       " 1941136946.0,\n",
       " 2600602135.0,\n",
       " 421344061.0,\n",
       " 7.130057074700698e+17,\n",
       " 49685124.0,\n",
       " 3020425427.0,\n",
       " 297191567.0,\n",
       " 4883470551.0,\n",
       " 4883470551.0,\n",
       " 555475580.0,\n",
       " 7.058907843193774e+17,\n",
       " 25066686.0,\n",
       " 7.266279714909348e+17,\n",
       " 359196437.0,\n",
       " 4883470551.0,\n",
       " 487013912.0,\n",
       " 4883470551.0,\n",
       " 7.273085231392727e+17,\n",
       " 7.055326077908705e+17,\n",
       " 4883470551.0,\n",
       " 7.064299452584632e+17,\n",
       " 4883470551.0,\n",
       " 289118612.0,\n",
       " 4883470551.0,\n",
       " 60207798.0,\n",
       " 4883470551.0,\n",
       " 4914495876.0,\n",
       " 60207798.0,\n",
       " 21773704.0,\n",
       " 71272041.0,\n",
       " 194521859.0,\n",
       " 2902181749.0,\n",
       " 4883470551.0,\n",
       " 634676291.0,\n",
       " 4883470551.0,\n",
       " 4883470551.0,\n",
       " 843066685.0,\n",
       " 141711305.0,\n",
       " 3974665634.0,\n",
       " 4883470551.0,\n",
       " 4883470551.0,\n",
       " 2457085861.0,\n",
       " 4883470551.0,\n",
       " 14294848.0,\n",
       " 2421067430.0,\n",
       " 374116640.0,\n",
       " 279390084.0,\n",
       " 19943761.0,\n",
       " 30681036.0,\n",
       " 594886554.0,\n",
       " 594886554.0,\n",
       " 15226811.0,\n",
       " 7.231671252720271e+17,\n",
       " 312149882.0,\n",
       " 3018828006.0,\n",
       " 59241915.0,\n",
       " 14211510.0,\n",
       " 170357723.0,\n",
       " 15012486.0,\n",
       " 126009130.0,\n",
       " 161132591.0,\n",
       " 3567446177.0,\n",
       " 2982225709.0,\n",
       " 18363962.0,\n",
       " 542318578.0,\n",
       " 158619022.0,\n",
       " 121493492.0,\n",
       " 18564980.0,\n",
       " 109484669.0,\n",
       " 18643437.0,\n",
       " 3311629271.0,\n",
       " 32272710.0,\n",
       " 796261392.0,\n",
       " 18240386.0,\n",
       " 146928495.0,\n",
       " 77324226.0,\n",
       " 1735969045.0,\n",
       " 16267083.0,\n",
       " 2560466682.0,\n",
       " 378016563.0,\n",
       " 213795411.0,\n",
       " 414174068.0,\n",
       " 177584156.0,\n",
       " 88989613.0,\n",
       " 31341662.0,\n",
       " 71875415.0,\n",
       " 401657173.0,\n",
       " 275276082.0,\n",
       " 7.191980269092905e+17,\n",
       " 38570287.0,\n",
       " 554316017.0,\n",
       " 944470134.0,\n",
       " 891073250.0,\n",
       " 90194079.0,\n",
       " 7.099204195292815e+17,\n",
       " 7.535734185077432e+17,\n",
       " 94818581.0,\n",
       " 26652733.0,\n",
       " 3314758074.0,\n",
       " 3903128778.0,\n",
       " 149679293.0,\n",
       " 714513049.0,\n",
       " 98229878.0,\n",
       " 3308560736.0,\n",
       " 385194334.0,\n",
       " 2570615502.0,\n",
       " 319373700.0,\n",
       " 362798863.0,\n",
       " 330378192.0,\n",
       " 291874773.0,\n",
       " 118867974.0,\n",
       " 28587919.0,\n",
       " 16208276.0,\n",
       " 238053427.0,\n",
       " 175954697.0,\n",
       " 600195366.0,\n",
       " 525676041.0,\n",
       " 918230042.0,\n",
       " 1269583296.0,\n",
       " 345253262.0,\n",
       " 32133117.0,\n",
       " 4496819788.0,\n",
       " 14294848.0,\n",
       " 108172069.0,\n",
       " 33156354.0,\n",
       " 17427779.0,\n",
       " 3389073989.0,\n",
       " 3020168556.0,\n",
       " 1969346438.0,\n",
       " 4236806414.0,\n",
       " 470438993.0,\n",
       " 21833728.0,\n",
       " 82447359.0,\n",
       " 45302174.0,\n",
       " 272114651.0,\n",
       " 15976697.0,\n",
       " 33529092.0,\n",
       " 1247921690.0,\n",
       " 278781274.0,\n",
       " 47534393.0,\n",
       " 61759552.0,\n",
       " 7.072886419959398e+17,\n",
       " 306097862.0,\n",
       " 43283406.0,\n",
       " 352145373.0,\n",
       " 43296233.0,\n",
       " 3698501.0,\n",
       " 561654065.0,\n",
       " 7.418149298424054e+17,\n",
       " 18764841.0,\n",
       " 19062754.0,\n",
       " 3520122318.0,\n",
       " 14546264.0,\n",
       " 2604924327.0,\n",
       " 338613723.0,\n",
       " 15150453.0,\n",
       " 16027904.0,\n",
       " 18210263.0,\n",
       " 3974665634.0,\n",
       " 3974665634.0,\n",
       " 177584156.0,\n",
       " 3685459885.0,\n",
       " 1620343501.0,\n",
       " 764644970.0,\n",
       " 726148842.0,\n",
       " 7.56487123650261e+17,\n",
       " 792788359.0,\n",
       " 184997446.0,\n",
       " 7.066560423278019e+17,\n",
       " 7.22787662214484e+17,\n",
       " 1541810258.0,\n",
       " 4068318254.0,\n",
       " 2725381381.0,\n",
       " 21343120.0,\n",
       " 275276082.0,\n",
       " 323208365.0,\n",
       " 233933230.0,\n",
       " 55976150.0,\n",
       " 90804267.0,\n",
       " 2570615502.0,\n",
       " 208996041.0,\n",
       " 133478732.0,\n",
       " 39578387.0,\n",
       " 316739994.0,\n",
       " 3308560736.0,\n",
       " 39308549.0,\n",
       " 2845253645.0,\n",
       " 2750334224.0,\n",
       " 264268489.0,\n",
       " 39349894.0,\n",
       " 42822396.0,\n",
       " 21458842.0,\n",
       " 88243144.0,\n",
       " 1426907185.0,\n",
       " 2332264339.0,\n",
       " 104513680.0,\n",
       " 618563.0,\n",
       " 264361128.0,\n",
       " 34917150.0,\n",
       " 7.529613571132006e+17,\n",
       " 59817827.0,\n",
       " 398919818.0,\n",
       " 7.154963047770153e+17,\n",
       " 347627434.0,\n",
       " 7.070777386207805e+17,\n",
       " 7.424468253370286e+17,\n",
       " 9300262.0,\n",
       " 7.04034081898668e+17,\n",
       " 1374585606.0,\n",
       " 7.189832996081295e+17,\n",
       " 584177882.0,\n",
       " 9300262.0,\n",
       " 7.211853467975721e+17,\n",
       " 67899097.0,\n",
       " 2499109494.0,\n",
       " 2796929687.0,\n",
       " 292929271.0,\n",
       " 2269567158.0,\n",
       " 2393098723.0,\n",
       " 7.099204195292815e+17,\n",
       " 4784596178.0,\n",
       " 4236806414.0,\n",
       " 494624290.0,\n",
       " 561654065.0,\n",
       " 1599141961.0,\n",
       " 17860906.0,\n",
       " 2839030037.0,\n",
       " 4226960114.0,\n",
       " 7.436883724602163e+17,\n",
       " 118496889.0,\n",
       " 2915156131.0,\n",
       " 166329578.0,\n",
       " 4676548814.0,\n",
       " 4197546072.0,\n",
       " 88494677.0,\n",
       " 608471241.0,\n",
       " 608471241.0,\n",
       " 325164172.0,\n",
       " 26672170.0,\n",
       " 177584156.0,\n",
       " 2801177472.0,\n",
       " 95995039.0,\n",
       " 126009130.0,\n",
       " 126009130.0,\n",
       " 399774230.0,\n",
       " 972255098.0,\n",
       " 1917731.0,\n",
       " 65854394.0,\n",
       " 7.415895031025705e+17,\n",
       " 1917731.0,\n",
       " 2244290719.0,\n",
       " 7.016558809205105e+17,\n",
       " 2793194082.0,\n",
       " 18301196.0,\n",
       " 1496756359.0,\n",
       " 430118889.0,\n",
       " 15164565.0,\n",
       " 3697285157.0,\n",
       " 2923563766.0,\n",
       " 2923563766.0,\n",
       " 1375629385.0,\n",
       " 1325018372.0,\n",
       " 25975551.0,\n",
       " 22722452.0,\n",
       " 374284455.0,\n",
       " 49035775.0,\n",
       " 48421473.0,\n",
       " 428713002.0,\n",
       " 3407847574.0,\n",
       " 18545481.0,\n",
       " 15164565.0,\n",
       " 47652227.0,\n",
       " 78523300.0,\n",
       " 361275163.0,\n",
       " 495622651.0,\n",
       " 19098324.0,\n",
       " 421275603.0,\n",
       " 177584156.0,\n",
       " 361275163.0,\n",
       " 28905454.0,\n",
       " 15164565.0,\n",
       " 4429709805.0,\n",
       " 1496756359.0,\n",
       " 766797410.0,\n",
       " 15164565.0,\n",
       " 548172120.0,\n",
       " 2241227238.0,\n",
       " 15164565.0,\n",
       " 30456403.0,\n",
       " 248692627.0,\n",
       " 28048355.0,\n",
       " 18545481.0,\n",
       " 1917731.0,\n",
       " 138742761.0,\n",
       " 289118612.0,\n",
       " 15706904.0,\n",
       " 865636782.0,\n",
       " 2291904432.0,\n",
       " 3103091745.0,\n",
       " 3047937393.0,\n",
       " 167796615.0,\n",
       " 14511951.0,\n",
       " 49452556.0,\n",
       " 3974665634.0,\n",
       " 1018491630.0,\n",
       " 537904539.0,\n",
       " 2374469136.0,\n",
       " 3433022621.0,\n",
       " 585465795.0,\n",
       " 2883533651.0,\n",
       " 16955991.0,\n",
       " 547969112.0,\n",
       " 272114651.0,\n",
       " 936148682.0,\n",
       " 7.286355238167757e+17,\n",
       " 547969112.0,\n",
       " 67899097.0,\n",
       " 547969112.0,\n",
       " 3047377314.0,\n",
       " 7.59179340307243e+17,\n",
       " 1367531.0,\n",
       " 361275163.0,\n",
       " 399717630.0,\n",
       " 9369062.0,\n",
       " 762252876.0,\n",
       " 582135529.0,\n",
       " 851866178.0,\n",
       " 608471241.0,\n",
       " 331825712.0,\n",
       " 7.338080694407414e+17,\n",
       " 3995778614.0,\n",
       " 3390416469.0,\n",
       " 1367531.0,\n",
       " 754135908.0,\n",
       " 890302164.0,\n",
       " 81602176.0,\n",
       " 7.28979362775638e+17,\n",
       " 553998793.0,\n",
       " 157054921.0,\n",
       " 2255424079.0,\n",
       " 547969112.0,\n",
       " 2875990472.0,\n",
       " 2316246829.0,\n",
       " 7.583137156954276e+17,\n",
       " 7.583137156954276e+17,\n",
       " 25446957.0,\n",
       " 86963075.0,\n",
       " 7.153576049612636e+17,\n",
       " 140638292.0,\n",
       " 2801177472.0,\n",
       " 2801177472.0,\n",
       " 1976799128.0,\n",
       " 421460415.0,\n",
       " 2775579278.0,\n",
       " 3974665634.0,\n",
       " 1482516500.0,\n",
       " 7.503998058519634e+17,\n",
       " 43413425.0,\n",
       " 43308598.0,\n",
       " 3066008697.0,\n",
       " 18195110.0,\n",
       " 40246348.0,\n",
       " 2793800587.0,\n",
       " 802722056.0,\n",
       " 43308598.0,\n",
       " 402985469.0,\n",
       " 4897543230.0,\n",
       " 865538113.0,\n",
       " 2972410695.0,\n",
       " 2998466930.0,\n",
       " 4182512297.0,\n",
       " 30067748.0,\n",
       " 71359942.0,\n",
       " 277090518.0,\n",
       " 65003619.0,\n",
       " 7.538060660522353e+17,\n",
       " 7.053335675435049e+17,\n",
       " 2998441830.0,\n",
       " 3308110350.0,\n",
       " 4796678896.0,\n",
       " 2441304533.0,\n",
       " 561654065.0,\n",
       " 3034834939.0,\n",
       " 261035490.0,\n",
       " 4851276082.0,\n",
       " 370513594.0,\n",
       " 15854008.0,\n",
       " 2226870793.0,\n",
       " 971176056.0,\n",
       " 4240150034.0,\n",
       " 561654065.0,\n",
       " 332433520.0,\n",
       " 2416597188.0,\n",
       " 2416597188.0,\n",
       " 17094311.0,\n",
       " 543452426.0,\n",
       " 4846395737.0,\n",
       " 3220025137.0,\n",
       " 7.537534936226284e+17,\n",
       " 18002528.0,\n",
       " 16444868.0,\n",
       " 3433002136.0,\n",
       " 7.436518965780603e+17,\n",
       " 21833728.0,\n",
       " 50010587.0,\n",
       " 835328618.0,\n",
       " 297457814.0,\n",
       " 620872388.0,\n",
       " 3139537490.0,\n",
       " 60370335.0,\n",
       " 1225818590.0,\n",
       " 234841289.0,\n",
       " 2891102076.0,\n",
       " 7.021744067396854e+17,\n",
       " 57912099.0,\n",
       " 7.324458336820183e+17,\n",
       " 7.324458336820183e+17,\n",
       " 2904671027.0,\n",
       " 322674930.0,\n",
       " 65003619.0,\n",
       " 4543053312.0,\n",
       " 42158021.0,\n",
       " 279208035.0,\n",
       " 180511021.0,\n",
       " 311241090.0,\n",
       " 15359578.0,\n",
       " 20826129.0,\n",
       " 4700477725.0,\n",
       " 371142734.0,\n",
       " 24638062.0,\n",
       " 45291573.0,\n",
       " 552410408.0,\n",
       " 20295763.0,\n",
       " 1564676498.0,\n",
       " 17343602.0,\n",
       " 552983877.0,\n",
       " 18561223.0,\n",
       " 14787713.0,\n",
       " 1568498256.0,\n",
       " 752493806.0,\n",
       " 516093774.0,\n",
       " 28905454.0,\n",
       " 2747259456.0,\n",
       " 224268822.0,\n",
       " 17232340.0,\n",
       " 3359243787.0,\n",
       " 75974281.0,\n",
       " 233933230.0,\n",
       " 233933230.0,\n",
       " 479068816.0,\n",
       " 2892976359.0,\n",
       " 19908848.0,\n",
       " 4237277387.0,\n",
       " 3359243787.0,\n",
       " 284104234.0,\n",
       " 3592503441.0,\n",
       " 905530344.0,\n",
       " 19899980.0,\n",
       " 600061917.0,\n",
       " 221452291.0,\n",
       " 4765012532.0,\n",
       " 15671833.0,\n",
       " 1530853626.0,\n",
       " 24395228.0,\n",
       " 343171160.0,\n",
       " 2908170952.0,\n",
       " 251913645.0,\n",
       " 7.099204195292815e+17,\n",
       " 431198790.0,\n",
       " 90285099.0,\n",
       " 2299826742.0,\n",
       " 142077688.0,\n",
       " 1213274119.0,\n",
       " 608471241.0,\n",
       " 561654065.0,\n",
       " 15368940.0,\n",
       " 2740452163.0,\n",
       " 25446957.0,\n",
       " 70773048.0,\n",
       " 7.061766974402765e+17,\n",
       " 759251.0,\n",
       " 50881405.0,\n",
       " 1356123823.0,\n",
       " 7.16260246109483e+17,\n",
       " 3202808548.0,\n",
       " 150059501.0,\n",
       " 565008398.0,\n",
       " 56192739.0,\n",
       " 7.510953314089738e+17,\n",
       " 2900220088.0,\n",
       " 1652687708.0,\n",
       " 7.04034081898668e+17,\n",
       " 37315032.0,\n",
       " 632171886.0,\n",
       " 124199238.0,\n",
       " 3589464580.0,\n",
       " 542962969.0,\n",
       " 2421067430.0,\n",
       " 7.043630610130575e+17,\n",
       " 2910776820.0,\n",
       " 1096411117.0,\n",
       " 3124454195.0,\n",
       " 4760647532.0,\n",
       " 38367188.0,\n",
       " 605448008.0,\n",
       " 83788240.0,\n",
       " 374284455.0,\n",
       " 22798141.0,\n",
       " 2818206308.0,\n",
       " 2382281029.0,\n",
       " 415256606.0,\n",
       " 1966026648.0,\n",
       " 893470729.0,\n",
       " 2953422203.0,\n",
       " 167363471.0,\n",
       " 291874773.0,\n",
       " 44103717.0,\n",
       " 28670599.0,\n",
       " 7.395676265113887e+17,\n",
       " 200656602.0,\n",
       " 31801993.0,\n",
       " 7.032306737761976e+17,\n",
       " 146928495.0,\n",
       " 7.290963526767821e+17,\n",
       " 1643634444.0,\n",
       " 246377722.0,\n",
       " 3407847574.0,\n",
       " 21845346.0,\n",
       " 385075625.0,\n",
       " 29465136.0,\n",
       " 13148382.0,\n",
       " 4851276082.0,\n",
       " 3416492723.0,\n",
       " 3359243787.0,\n",
       " 9611592.0,\n",
       " 7.390809166103429e+17,\n",
       " 34367582.0,\n",
       " 28007091.0,\n",
       " 3124454195.0,\n",
       " 26579739.0,\n",
       " 76373.0,\n",
       " 7.58049168690643e+17,\n",
       " 963176808.0,\n",
       " 19193016.0,\n",
       " 3381686297.0,\n",
       " 93493910.0,\n",
       " 3313143320.0,\n",
       " 2610081858.0,\n",
       " 4646073148.0,\n",
       " 344729527.0,\n",
       " 32951070.0,\n",
       " 37013920.0,\n",
       " 23116280.0,\n",
       " 25197377.0,\n",
       " 33228837.0,\n",
       " 4242905298.0,\n",
       " 18637247.0,\n",
       " 7.149495057208238e+17,\n",
       " 872954089.0,\n",
       " 437352926.0,\n",
       " 23004495.0,\n",
       " 4361249533.0,\n",
       " 156377910.0,\n",
       " 4452560741.0,\n",
       " 273951517.0,\n",
       " 264493607.0,\n",
       " 7.601308233748439e+17,\n",
       " 118845216.0,\n",
       " 232333397.0,\n",
       " 414873541.0,\n",
       " 3723723982.0,\n",
       " 824391878.0,\n",
       " 450213974.0,\n",
       " 890302164.0,\n",
       " 29059784.0,\n",
       " 709144993.0,\n",
       " 15104164.0,\n",
       " 289118612.0,\n",
       " 3314963469.0,\n",
       " 21833728.0,\n",
       " 796261392.0,\n",
       " 227010728.0,\n",
       " 196109220.0,\n",
       " 582414351.0,\n",
       " 340968277.0,\n",
       " 1969346438.0,\n",
       " 13804112.0,\n",
       " 7.395676265113887e+17,\n",
       " 835328618.0,\n",
       " 164523117.0,\n",
       " 446228264.0,\n",
       " 39344374.0,\n",
       " 7.5774968458052e+17,\n",
       " 515542297.0,\n",
       " 41265813.0,\n",
       " 78523300.0,\n",
       " 18643437.0,\n",
       " 232201971.0,\n",
       " 801071388.0,\n",
       " 3539755636.0,\n",
       " 1367531.0,\n",
       " 1564676498.0,\n",
       " 4901489212.0,\n",
       " 7.04034081898668e+17,\n",
       " 22630309.0,\n",
       " 46520074.0,\n",
       " 17895820.0,\n",
       " 14412533.0,\n",
       " 1917731.0,\n",
       " 1080576949.0,\n",
       " 492833134.0,\n",
       " 65132037.0,\n",
       " 1735546184.0,\n",
       " 7.650916054726984e+17,\n",
       " 7.431422447068488e+17,\n",
       " 107012365.0,\n",
       " 237623215.0,\n",
       " 865187658.0,\n",
       " 621110318.0,\n",
       " 25197377.0,\n",
       " 7.395676265113887e+17,\n",
       " 1462579488.0,\n",
       " 430905373.0,\n",
       " 20854637.0,\n",
       " 25832979.0,\n",
       " 1200713864.0,\n",
       " 7.588095949362381e+17,\n",
       " 7.588095949362381e+17,\n",
       " 374284455.0,\n",
       " 25197377.0,\n",
       " 172394944.0,\n",
       " 910332056.0,\n",
       " 34163521.0,\n",
       " 1537048512.0,\n",
       " 7.156506956476375e+17,\n",
       " 1513958744.0,\n",
       " 7.2757824484164e+17,\n",
       " 7.138326228084122e+17,\n",
       " 4855687055.0,\n",
       " 3558102739.0,\n",
       " 6.953652453766963e+17,\n",
       " 28869089.0,\n",
       " 54065567.0,\n",
       " 54065567.0,\n",
       " 7.46367431388586e+17,\n",
       " 7.46367431388586e+17,\n",
       " 3166217539.0,\n",
       " 3329997245.0,\n",
       " 7.650916054726984e+17,\n",
       " 317223956.0,\n",
       " 1849938847.0,\n",
       " 1148951203.0,\n",
       " 138581916.0,\n",
       " 2953617710.0,\n",
       " 49685124.0,\n",
       " 169536421.0,\n",
       " 3124454195.0,\n",
       " 2830167800.0,\n",
       " 141642957.0,\n",
       " 7.108295028430643e+17,\n",
       " 30265457.0,\n",
       " 561654065.0,\n",
       " 16887175.0,\n",
       " 7.307865188481597e+17,\n",
       " 22677397.0,\n",
       " 2353703503.0,\n",
       " 21248626.0,\n",
       " 17395207.0,\n",
       " 144130505.0,\n",
       " 17529294.0,\n",
       " 52801677.0,\n",
       " 7.42923442471764e+17,\n",
       " 3697721113.0,\n",
       " 2584482763.0,\n",
       " 20944649.0,\n",
       " 7.735201633963254e+17,\n",
       " 20889358.0,\n",
       " 67095221.0,\n",
       " 767036004.0,\n",
       " 7.650916054726984e+17,\n",
       " 176914461.0,\n",
       " 78569026.0,\n",
       " 331747494.0,\n",
       " 2316246829.0,\n",
       " 361275163.0,\n",
       " 2364837974.0,\n",
       " 1242465014.0,\n",
       " 289118612.0,\n",
       " 568143078.0,\n",
       " 7.583137156954276e+17,\n",
       " 18195110.0,\n",
       " 7.650916054726984e+17,\n",
       " 1289704663.0,\n",
       " 7.540861259171062e+17,\n",
       " 1371572360.0,\n",
       " 7.692972279571415e+17,\n",
       " 3610264154.0,\n",
       " 27211961.0,\n",
       " 7.233873441752965e+17,\n",
       " 151375368.0,\n",
       " 7.675871285240136e+17,\n",
       " 35677844.0,\n",
       " 936304345.0,\n",
       " 19195442.0,\n",
       " 7.442818843104051e+17,\n",
       " 3389134989.0,\n",
       " 3019417439.0,\n",
       " 10735392.0,\n",
       " 3362345172.0,\n",
       " 33388399.0,\n",
       " 341688336.0,\n",
       " 231641765.0,\n",
       " 3394911915.0,\n",
       " 2902031256.0,\n",
       " 3297022953.0,\n",
       " 455288410.0,\n",
       " 219815601.0,\n",
       " 374284455.0,\n",
       " 2684196134.0,\n",
       " 865636782.0,\n",
       " 126009130.0,\n",
       " 126009130.0,\n",
       " 126009130.0,\n",
       " 126009130.0,\n",
       " 126009130.0,\n",
       " 126009130.0,\n",
       " 126009130.0,\n",
       " 126009130.0,\n",
       " 126009130.0,\n",
       " 126009130.0,\n",
       " 126009130.0,\n",
       " 126009130.0,\n",
       " 126009130.0,\n",
       " 126009130.0,\n",
       " 126009130.0,\n",
       " 126009130.0,\n",
       " 126009130.0,\n",
       " 126009130.0,\n",
       " 126009130.0,\n",
       " 325893346.0,\n",
       " 126009130.0,\n",
       " 126009130.0,\n",
       " 126009130.0,\n",
       " 126009130.0,\n",
       " 126009130.0,\n",
       " 126009130.0,\n",
       " 126009130.0,\n",
       " 126009130.0,\n",
       " 18132806.0,\n",
       " 3057650044.0,\n",
       " 972651.0,\n",
       " 865636782.0,\n",
       " 1353347065.0,\n",
       " 7.675871285240136e+17,\n",
       " 3686488635.0,\n",
       " 3002739417.0,\n",
       " 1183779272.0,\n",
       " 1309391066.0,\n",
       " 4334047641.0,\n",
       " 42371615.0,\n",
       " 3930608896.0,\n",
       " 21773704.0,\n",
       " 399774230.0,\n",
       " 7.580762978766029e+17,\n",
       " 2911587582.0,\n",
       " 7.356243040505938e+17,\n",
       " 4240150034.0,\n",
       " 16674128.0,\n",
       " 14441020.0,\n",
       " 30265457.0,\n",
       " 1326707346.0,\n",
       " 908933376.0,\n",
       " 124185033.0,\n",
       " 2451462137.0,\n",
       " 2417586104.0,\n",
       " 2344571893.0,\n",
       " 3340267793.0,\n",
       " 902851051.0,\n",
       " 1339835893.0,\n",
       " 36196526.0,\n",
       " 6563122.0,\n",
       " 4345493055.0,\n",
       " 1851877248.0,\n",
       " 90573210.0,\n",
       " 118845216.0,\n",
       " 172032623.0,\n",
       " 2786693552.0,\n",
       " 755726522.0,\n",
       " 2788642796.0,\n",
       " 340660967.0,\n",
       " 22141405.0,\n",
       " 4194141941.0,\n",
       " 115772421.0,\n",
       " 22714413.0,\n",
       " 97082147.0,\n",
       " 63514682.0,\n",
       " 1027392638.0,\n",
       " 259509924.0,\n",
       " 7.626582158509711e+17,\n",
       " 214112621.0,\n",
       " 15511737.0,\n",
       " 7.583137156954276e+17,\n",
       " 20065936.0,\n",
       " 7.047959204334141e+17,\n",
       " ...]"
      ]
     },
     "execution_count": 31,
     "metadata": {},
     "output_type": "execute_result"
    }
   ],
   "source": [
    "accounts"
   ]
  },
  {
   "cell_type": "code",
   "execution_count": 14,
   "metadata": {},
   "outputs": [
    {
     "data": {
      "text/plain": [
       "['',\n",
       " \"{'cap': {'english': 0.2520419704315795, 'universal': 0.5982419966968565}, 'display_scores': {'english': {'astroturf': 1.2, 'fake_follower': 0.2, 'financial': 0.0, 'other': 1.3, 'overall': 0.1, 'self_declared': 0.1, 'spammer': 0.0}, 'universal': {'astroturf': 0.6, 'fake_follower': 0.4, 'financial': 0.0, 'other': 0.9, 'overall': 0.7, 'self_declared': 0.1, 'spammer': 0.0}}, 'raw_scores': {'english': {'astroturf': 0.24, 'fake_follower': 0.05, 'financial': 0.0, 'other': 0.26, 'overall': 0.02, 'self_declared': 0.02, 'spammer': 0.0}, 'universal': {'astroturf': 0.12, 'fake_follower': 0.07, 'financial': 0.0, 'other': 0.18, 'overall': 0.14, 'self_declared': 0.02, 'spammer': 0.0}}, 'user': {'majority_lang': 'en', 'user_data': {'id_str': '14802766', 'screen_name': 'nan'}}}\",\n",
       " \"{'cap': {'english': 0.2787259978325127, 'universal': 0.6415870166679795}, 'display_scores': {'english': {'astroturf': 1.2, 'fake_follower': 0.4, 'financial': 0.0, 'other': 1.3, 'overall': 0.2, 'self_declared': 0.1, 'spammer': 0.0}, 'universal': {'astroturf': 0.6, 'fake_follower': 0.5, 'financial': 0.0, 'other': 1.0, 'overall': 0.8, 'self_declared': 0.1, 'spammer': 0.0}}, 'raw_scores': {'english': {'astroturf': 0.24, 'fake_follower': 0.08, 'financial': 0.0, 'other': 0.26, 'overall': 0.03, 'self_declared': 0.02, 'spammer': 0.0}, 'universal': {'astroturf': 0.12, 'fake_follower': 0.1, 'financial': 0.0, 'other': 0.19, 'overall': 0.16, 'self_declared': 0.02, 'spammer': 0.0}}, 'user': {'majority_lang': 'en', 'user_data': {'id_str': '14802766', 'screen_name': 'nan'}}}\",\n",
       " \"{'cap': {'english': 0.3342309004634953, 'universal': 0.6608500314332488}, 'display_scores': {'english': {'astroturf': 1.2, 'fake_follower': 0.3, 'financial': 0.0, 'other': 1.3, 'overall': 0.2, 'self_declared': 0.2, 'spammer': 0.0}, 'universal': {'astroturf': 0.6, 'fake_follower': 0.5, 'financial': 0.0, 'other': 1.0, 'overall': 0.8, 'self_declared': 0.1, 'spammer': 0.0}}, 'raw_scores': {'english': {'astroturf': 0.24, 'fake_follower': 0.06, 'financial': 0.0, 'other': 0.26, 'overall': 0.05, 'self_declared': 0.03, 'spammer': 0.0}, 'universal': {'astroturf': 0.12, 'fake_follower': 0.1, 'financial': 0.0, 'other': 0.19, 'overall': 0.17, 'self_declared': 0.02, 'spammer': 0.0}}, 'user': {'majority_lang': 'en', 'user_data': {'id_str': '14802766', 'screen_name': 'nan'}}}\",\n",
       " '{\\'error\\': \"TweepError: [{\\'code\\': 34, \\'message\\': \\'Sorry, that page does not exist.\\'}]\"}']"
      ]
     },
     "execution_count": 14,
     "metadata": {},
     "output_type": "execute_result"
    }
   ],
   "source": [
    "list(set(snopes.botometer.tolist()))"
   ]
  },
  {
   "cell_type": "code",
   "execution_count": 15,
   "metadata": {},
   "outputs": [
    {
     "data": {
      "text/html": [
       "<div>\n",
       "<style scoped>\n",
       "    .dataframe tbody tr th:only-of-type {\n",
       "        vertical-align: middle;\n",
       "    }\n",
       "\n",
       "    .dataframe tbody tr th {\n",
       "        vertical-align: top;\n",
       "    }\n",
       "\n",
       "    .dataframe thead th {\n",
       "        text-align: right;\n",
       "    }\n",
       "</style>\n",
       "<table border=\"1\" class=\"dataframe\">\n",
       "  <thead>\n",
       "    <tr style=\"text-align: right;\">\n",
       "      <th></th>\n",
       "      <th>id</th>\n",
       "      <th>original_id</th>\n",
       "      <th>tweet_text</th>\n",
       "      <th>tweet_url</th>\n",
       "      <th>claim</th>\n",
       "      <th>rating</th>\n",
       "      <th>images</th>\n",
       "      <th>text_images</th>\n",
       "      <th>source</th>\n",
       "      <th>label</th>\n",
       "      <th>label_info</th>\n",
       "      <th>available</th>\n",
       "      <th>acc_id</th>\n",
       "      <th>botometer</th>\n",
       "    </tr>\n",
       "  </thead>\n",
       "  <tbody>\n",
       "    <tr>\n",
       "      <th>199</th>\n",
       "      <td>740993500053901312</td>\n",
       "      <td>740992653555163136</td>\n",
       "      <td>@HillaryClinton  Hillbilly Racists #blm #Black...</td>\n",
       "      <td>https://twitter.com/POTUS/status/7409935000539...</td>\n",
       "      <td>A photograph shows Hillary Clinton in blackfac...</td>\n",
       "      <td>['https://www.snopes.com/tachyon/2018/03/ratin...</td>\n",
       "      <td>http://pbs.twimg.com/media/CkiI48wUkAIzNuC.jpg</td>\n",
       "      <td>THE DEMOCRATS AREN'T GOING TO LIKE THIS ONEI H...</td>\n",
       "      <td>https://www.snopes.com/fact-check/hillary-clin...</td>\n",
       "      <td>false</td>\n",
       "      <td>NaN</td>\n",
       "      <td>ok</td>\n",
       "      <td>NaN</td>\n",
       "      <td>{'cap': {'english': 0.2787259978325127, 'unive...</td>\n",
       "    </tr>\n",
       "    <tr>\n",
       "      <th>272</th>\n",
       "      <td>746201362900254720</td>\n",
       "      <td>746167181608685568</td>\n",
       "      <td>@GrantJr @wakeupfla @FoxNews here's the true R...</td>\n",
       "      <td>https://twitter.com/POTUS/status/7462013629002...</td>\n",
       "      <td>A photograph shows Hillary Clinton in blackfac...</td>\n",
       "      <td>['https://www.snopes.com/tachyon/2018/03/ratin...</td>\n",
       "      <td>http://pbs.twimg.com/media/ClrrF4gWIAAgP-3.jpg</td>\n",
       "      <td>THE DEMOCRATS AREN'T GOING TO LIKE THIS ONE ! ...</td>\n",
       "      <td>https://www.snopes.com/fact-check/hillary-clin...</td>\n",
       "      <td>false</td>\n",
       "      <td>NaN</td>\n",
       "      <td>ok</td>\n",
       "      <td>NaN</td>\n",
       "      <td>{'cap': {'english': 0.2787259978325127, 'unive...</td>\n",
       "    </tr>\n",
       "    <tr>\n",
       "      <th>523</th>\n",
       "      <td>756589186979946496</td>\n",
       "      <td>756557780815867904</td>\n",
       "      <td>Guess This Applies To You Stupid &amp;amp; Easy 2 ...</td>\n",
       "      <td>https://twitter.com/POTUS/status/7565891869799...</td>\n",
       "      <td>Hillary Clinton said that Democratic voters ar...</td>\n",
       "      <td>['https://www.snopes.com/tachyon/2018/03/ratin...</td>\n",
       "      <td>http://pbs.twimg.com/media/Cn_VShHXgAA76R3.jpg</td>\n",
       "      <td>\" Look , the average Democrat voter is just pl...</td>\n",
       "      <td>https://www.snopes.com/fact-check/hillary-clin...</td>\n",
       "      <td>false</td>\n",
       "      <td>NaN</td>\n",
       "      <td>ok</td>\n",
       "      <td>NaN</td>\n",
       "      <td>{'cap': {'english': 0.2787259978325127, 'unive...</td>\n",
       "    </tr>\n",
       "    <tr>\n",
       "      <th>630</th>\n",
       "      <td>758755498300760064</td>\n",
       "      <td>758752442733457408</td>\n",
       "      <td>The Cosmic 'ice sculptures' of the Carina Nebu...</td>\n",
       "      <td>https://twitter.com/POTUS/status/7587554983007...</td>\n",
       "      <td>Scientists are stumped by a photograph taken b...</td>\n",
       "      <td>['https://www.snopes.com/tachyon/2018/03/ratin...</td>\n",
       "      <td>http://pbs.twimg.com/media/CV5fNY5WcAQftf4.jpg</td>\n",
       "      <td>NaN</td>\n",
       "      <td>https://www.snopes.com/fact-check/gates-of-hea...</td>\n",
       "      <td>false</td>\n",
       "      <td>NaN</td>\n",
       "      <td>missing</td>\n",
       "      <td>NaN</td>\n",
       "      <td>{'cap': {'english': 0.2787259978325127, 'unive...</td>\n",
       "    </tr>\n",
       "    <tr>\n",
       "      <th>1061</th>\n",
       "      <td>770292202593484800</td>\n",
       "      <td>770282705434968064</td>\n",
       "      <td>@duceyco @garywhitta @SubjectPolitics PS: I'm ...</td>\n",
       "      <td>https://twitter.com/POTUS/status/7702922025934...</td>\n",
       "      <td>A photograph shows Hillary Clinton in blackfac...</td>\n",
       "      <td>['https://www.snopes.com/tachyon/2018/03/ratin...</td>\n",
       "      <td>http://pbs.twimg.com/media/CrCXl2LUMAAkSWk.jpg</td>\n",
       "      <td>NaN</td>\n",
       "      <td>https://www.snopes.com/fact-check/hillary-clin...</td>\n",
       "      <td>false</td>\n",
       "      <td>NaN</td>\n",
       "      <td>ok</td>\n",
       "      <td>NaN</td>\n",
       "      <td>{'cap': {'english': 0.2787259978325127, 'unive...</td>\n",
       "    </tr>\n",
       "  </tbody>\n",
       "</table>\n",
       "</div>"
      ],
      "text/plain": [
       "                      id         original_id  \\\n",
       "199   740993500053901312  740992653555163136   \n",
       "272   746201362900254720  746167181608685568   \n",
       "523   756589186979946496  756557780815867904   \n",
       "630   758755498300760064  758752442733457408   \n",
       "1061  770292202593484800  770282705434968064   \n",
       "\n",
       "                                             tweet_text  \\\n",
       "199   @HillaryClinton  Hillbilly Racists #blm #Black...   \n",
       "272   @GrantJr @wakeupfla @FoxNews here's the true R...   \n",
       "523   Guess This Applies To You Stupid &amp; Easy 2 ...   \n",
       "630   The Cosmic 'ice sculptures' of the Carina Nebu...   \n",
       "1061  @duceyco @garywhitta @SubjectPolitics PS: I'm ...   \n",
       "\n",
       "                                              tweet_url  \\\n",
       "199   https://twitter.com/POTUS/status/7409935000539...   \n",
       "272   https://twitter.com/POTUS/status/7462013629002...   \n",
       "523   https://twitter.com/POTUS/status/7565891869799...   \n",
       "630   https://twitter.com/POTUS/status/7587554983007...   \n",
       "1061  https://twitter.com/POTUS/status/7702922025934...   \n",
       "\n",
       "                                                  claim  \\\n",
       "199   A photograph shows Hillary Clinton in blackfac...   \n",
       "272   A photograph shows Hillary Clinton in blackfac...   \n",
       "523   Hillary Clinton said that Democratic voters ar...   \n",
       "630   Scientists are stumped by a photograph taken b...   \n",
       "1061  A photograph shows Hillary Clinton in blackfac...   \n",
       "\n",
       "                                                 rating  \\\n",
       "199   ['https://www.snopes.com/tachyon/2018/03/ratin...   \n",
       "272   ['https://www.snopes.com/tachyon/2018/03/ratin...   \n",
       "523   ['https://www.snopes.com/tachyon/2018/03/ratin...   \n",
       "630   ['https://www.snopes.com/tachyon/2018/03/ratin...   \n",
       "1061  ['https://www.snopes.com/tachyon/2018/03/ratin...   \n",
       "\n",
       "                                              images  \\\n",
       "199   http://pbs.twimg.com/media/CkiI48wUkAIzNuC.jpg   \n",
       "272   http://pbs.twimg.com/media/ClrrF4gWIAAgP-3.jpg   \n",
       "523   http://pbs.twimg.com/media/Cn_VShHXgAA76R3.jpg   \n",
       "630   http://pbs.twimg.com/media/CV5fNY5WcAQftf4.jpg   \n",
       "1061  http://pbs.twimg.com/media/CrCXl2LUMAAkSWk.jpg   \n",
       "\n",
       "                                            text_images  \\\n",
       "199   THE DEMOCRATS AREN'T GOING TO LIKE THIS ONEI H...   \n",
       "272   THE DEMOCRATS AREN'T GOING TO LIKE THIS ONE ! ...   \n",
       "523   \" Look , the average Democrat voter is just pl...   \n",
       "630                                                 NaN   \n",
       "1061                                                NaN   \n",
       "\n",
       "                                                 source  label  label_info  \\\n",
       "199   https://www.snopes.com/fact-check/hillary-clin...  false         NaN   \n",
       "272   https://www.snopes.com/fact-check/hillary-clin...  false         NaN   \n",
       "523   https://www.snopes.com/fact-check/hillary-clin...  false         NaN   \n",
       "630   https://www.snopes.com/fact-check/gates-of-hea...  false         NaN   \n",
       "1061  https://www.snopes.com/fact-check/hillary-clin...  false         NaN   \n",
       "\n",
       "     available  acc_id                                          botometer  \n",
       "199         ok     NaN  {'cap': {'english': 0.2787259978325127, 'unive...  \n",
       "272         ok     NaN  {'cap': {'english': 0.2787259978325127, 'unive...  \n",
       "523         ok     NaN  {'cap': {'english': 0.2787259978325127, 'unive...  \n",
       "630    missing     NaN  {'cap': {'english': 0.2787259978325127, 'unive...  \n",
       "1061        ok     NaN  {'cap': {'english': 0.2787259978325127, 'unive...  "
      ]
     },
     "execution_count": 15,
     "metadata": {},
     "output_type": "execute_result"
    }
   ],
   "source": [
    "snopes[snopes.botometer.str.contains(\"{'cap': {'english': 0.2787259978325127, 'universal': 0.6415870166679795}, 'display_scores': {'english': {'astroturf': 1.2, 'fake_follower': 0.4, 'financial': 0.0, 'other': 1.3, 'overall': 0.2, 'self_declared': 0.1, 'spammer': 0.0}, 'universal': {'astroturf': 0.6, 'fake_follower': 0.5, 'financial': 0.0, 'other': 1.0, 'overall': 0.8, 'self_declared': 0.1, 'spammer': 0.0}}, 'raw_scores': {'english': {'astroturf': 0.24, 'fake_follower': 0.08, 'financial': 0.0, 'other': 0.26, 'overall': 0.03, 'self_declared': 0.02, 'spammer': 0.0}, 'universal': {'astroturf': 0.12, 'fake_follower': 0.1, 'financial': 0.0, 'other': 0.19, 'overall': 0.16, 'self_declared': 0.02, 'spammer': 0.0}}, 'user': {'majority_lang': 'en', 'user_data': {'id_str': '14802766', 'screen_name': 'nan'}}}\")]"
   ]
  },
  {
   "cell_type": "code",
   "execution_count": 23,
   "metadata": {},
   "outputs": [
    {
     "data": {
      "text/html": [
       "<div>\n",
       "<style scoped>\n",
       "    .dataframe tbody tr th:only-of-type {\n",
       "        vertical-align: middle;\n",
       "    }\n",
       "\n",
       "    .dataframe tbody tr th {\n",
       "        vertical-align: top;\n",
       "    }\n",
       "\n",
       "    .dataframe thead th {\n",
       "        text-align: right;\n",
       "    }\n",
       "</style>\n",
       "<table border=\"1\" class=\"dataframe\">\n",
       "  <thead>\n",
       "    <tr style=\"text-align: right;\">\n",
       "      <th></th>\n",
       "      <th>id</th>\n",
       "      <th>original_id</th>\n",
       "      <th>tweet_text</th>\n",
       "      <th>tweet_url</th>\n",
       "      <th>claim</th>\n",
       "      <th>rating</th>\n",
       "      <th>images</th>\n",
       "      <th>text_images</th>\n",
       "      <th>source</th>\n",
       "      <th>label</th>\n",
       "      <th>label_info</th>\n",
       "      <th>available</th>\n",
       "      <th>acc_id</th>\n",
       "      <th>botometer</th>\n",
       "    </tr>\n",
       "  </thead>\n",
       "  <tbody>\n",
       "    <tr>\n",
       "      <th>0</th>\n",
       "      <td>1000085962053959680</td>\n",
       "      <td>1000006390323253249</td>\n",
       "      <td>*cough* @NFL *cough* https://t.co/H9SskJ8q4Q</td>\n",
       "      <td>https://twitter.com/POTUS/status/1000085962053...</td>\n",
       "      <td>A German football club was banned from playing...</td>\n",
       "      <td>['https://www.snopes.com/tachyon/2018/03/ratin...</td>\n",
       "      <td>http://pbs.twimg.com/media/DeC8Z5DX4AAduxj.jpg</td>\n",
       "      <td>FAILED TO GIVE NAZI SALUTE . German Football C...</td>\n",
       "      <td>https://www.snopes.com/fact-check/german-footb...</td>\n",
       "      <td>mostly-true-new</td>\n",
       "      <td>NaN</td>\n",
       "      <td>auth</td>\n",
       "      <td>NaN</td>\n",
       "      <td>{'cap': {'english': 0.2520419704315795, 'unive...</td>\n",
       "    </tr>\n",
       "    <tr>\n",
       "      <th>1</th>\n",
       "      <td>1000057516615786496</td>\n",
       "      <td>1000015162714263553</td>\n",
       "      <td>@PhilMcCrackin44 Schiff's sister was married t...</td>\n",
       "      <td>https://twitter.com/POTUS/status/1000057516615...</td>\n",
       "      <td>Adam Schiff's sister Melissa was married to Ge...</td>\n",
       "      <td>['https://www.snopes.com/tachyon/2018/03/ratin...</td>\n",
       "      <td>['http://pbs.twimg.com/media/DeDEfF0XcAAHExJ.j...</td>\n",
       "      <td>['', '', 'di \" twant wutted to cmt ur to frpyo...</td>\n",
       "      <td>https://www.snopes.com/fact-check/adam-schiffs...</td>\n",
       "      <td>false</td>\n",
       "      <td>NaN</td>\n",
       "      <td>auth</td>\n",
       "      <td>NaN</td>\n",
       "      <td>{'cap': {'english': 0.2520419704315795, 'unive...</td>\n",
       "    </tr>\n",
       "    <tr>\n",
       "      <th>2</th>\n",
       "      <td>1000037356836093953</td>\n",
       "      <td>1000023322481086466</td>\n",
       "      <td>Brave men died to keep us free. Radicals want ...</td>\n",
       "      <td>https://twitter.com/POTUS/status/1000037356836...</td>\n",
       "      <td>Liberals were offended by a World War I memori...</td>\n",
       "      <td>['https://www.snopes.com/tachyon/2018/03/ratin...</td>\n",
       "      <td>http://pbs.twimg.com/media/DeDL5a-XkAI7Hlw.jpg</td>\n",
       "      <td>#DontTearMeDown IRSTLIBERT . ORG DontTearMeDow...</td>\n",
       "      <td>https://www.snopes.com/fact-check/liberals-dem...</td>\n",
       "      <td>mixture</td>\n",
       "      <td>NaN</td>\n",
       "      <td>ok</td>\n",
       "      <td>3.981226e+09</td>\n",
       "      <td>{'error': \"TweepError: [{'code': 34, 'message'...</td>\n",
       "    </tr>\n",
       "    <tr>\n",
       "      <th>3</th>\n",
       "      <td>1000056983070892032</td>\n",
       "      <td>1000048498677571584</td>\n",
       "      <td>@AP @farmerfar55 Was he wearing the medal give...</td>\n",
       "      <td>https://twitter.com/POTUS/status/1000056983070...</td>\n",
       "      <td>A meme shows President Obama awarding the Pres...</td>\n",
       "      <td>['https://www.snopes.com/tachyon/2018/03/ratin...</td>\n",
       "      <td>['http://pbs.twimg.com/media/DeCrb0SUwAAsw-t.j...</td>\n",
       "      <td>['', '', '', '']</td>\n",
       "      <td>https://www.snopes.com/fact-check/obama-medal-...</td>\n",
       "      <td>mostly-false</td>\n",
       "      <td>NaN</td>\n",
       "      <td>ok</td>\n",
       "      <td>NaN</td>\n",
       "      <td>{'cap': {'english': 0.2520419704315795, 'unive...</td>\n",
       "    </tr>\n",
       "    <tr>\n",
       "      <th>4</th>\n",
       "      <td>1000149982408794113</td>\n",
       "      <td>1000058582476435456</td>\n",
       "      <td>The importance of the electoral college is vit...</td>\n",
       "      <td>https://twitter.com/POTUS/status/1000149982408...</td>\n",
       "      <td>Donald Trump won 3,084 of America's 3,141 coun...</td>\n",
       "      <td>['https://www.snopes.com/tachyon/2018/03/ratin...</td>\n",
       "      <td>http://pbs.twimg.com/media/DeDr-FjVMAAlZe1.jpg</td>\n",
       "      <td>HILLARY'S POPULAR VOTE Mont . Ore . Idaho Wyo ...</td>\n",
       "      <td>https://www.snopes.com/fact-check/trump-clinto...</td>\n",
       "      <td>false</td>\n",
       "      <td>NaN</td>\n",
       "      <td>auth</td>\n",
       "      <td>NaN</td>\n",
       "      <td>{'cap': {'english': 0.2520419704315795, 'unive...</td>\n",
       "    </tr>\n",
       "    <tr>\n",
       "      <th>...</th>\n",
       "      <td>...</td>\n",
       "      <td>...</td>\n",
       "      <td>...</td>\n",
       "      <td>...</td>\n",
       "      <td>...</td>\n",
       "      <td>...</td>\n",
       "      <td>...</td>\n",
       "      <td>...</td>\n",
       "      <td>...</td>\n",
       "      <td>...</td>\n",
       "      <td>...</td>\n",
       "      <td>...</td>\n",
       "      <td>...</td>\n",
       "      <td>...</td>\n",
       "    </tr>\n",
       "    <tr>\n",
       "      <th>11192</th>\n",
       "      <td>1000146882428096512</td>\n",
       "      <td>999903412425711616</td>\n",
       "      <td>I picked this up from someone here. Its🙄🤨🙄 wor...</td>\n",
       "      <td>https://twitter.com/POTUS/status/1000146882428...</td>\n",
       "      <td>A German football club was banned from playing...</td>\n",
       "      <td>['https://www.snopes.com/tachyon/2018/03/ratin...</td>\n",
       "      <td>http://pbs.twimg.com/media/DeBe1X5VAAI-Zhh.jpg</td>\n",
       "      <td>FAILED TO GIVE NAZI SALUTE . German Football C...</td>\n",
       "      <td>https://www.snopes.com/fact-check/german-footb...</td>\n",
       "      <td>mostly-true-new</td>\n",
       "      <td>NaN</td>\n",
       "      <td>ok</td>\n",
       "      <td>9.174376e+07</td>\n",
       "      <td></td>\n",
       "    </tr>\n",
       "    <tr>\n",
       "      <th>11193</th>\n",
       "      <td>1000018438184734720</td>\n",
       "      <td>999961946932723713</td>\n",
       "      <td>Trump is a criminal, a gangster using criminal...</td>\n",
       "      <td>https://twitter.com/POTUS/status/1000018438184...</td>\n",
       "      <td>Notorious mobster Al Capone demanded an inquir...</td>\n",
       "      <td>['https://www.snopes.com/tachyon/2018/03/ratin...</td>\n",
       "      <td>http://pbs.twimg.com/media/DeCUF2ZV4AAMm0Z.jpg</td>\n",
       "      <td>Ci ) icago Sunday Cribune INAL 17 . Capone Dem...</td>\n",
       "      <td>https://www.snopes.com/fact-check/did-al-capon...</td>\n",
       "      <td>false</td>\n",
       "      <td>NaN</td>\n",
       "      <td>missing</td>\n",
       "      <td>8.816829e+17</td>\n",
       "      <td></td>\n",
       "    </tr>\n",
       "    <tr>\n",
       "      <th>11194</th>\n",
       "      <td>999992400725585920</td>\n",
       "      <td>999962442141782016</td>\n",
       "      <td>@VP @NFL @POTUS The only thing that’s #Winning...</td>\n",
       "      <td>https://twitter.com/POTUS/status/9999924007255...</td>\n",
       "      <td>Baseball players in the 1950s were caught on c...</td>\n",
       "      <td>['https://www.snopes.com/tachyon/2018/03/ratin...</td>\n",
       "      <td>http://pbs.twimg.com/media/DeCUiW3VwAAQbyx.jpg</td>\n",
       "      <td>White Baseball Players Kneel in the 50 ' s to ...</td>\n",
       "      <td>https://www.snopes.com/fact-check/baseball-pla...</td>\n",
       "      <td>false</td>\n",
       "      <td>NaN</td>\n",
       "      <td>auth</td>\n",
       "      <td>1.157486e+08</td>\n",
       "      <td></td>\n",
       "    </tr>\n",
       "    <tr>\n",
       "      <th>11195</th>\n",
       "      <td>1000035228679852032</td>\n",
       "      <td>999973815655518213</td>\n",
       "      <td>@mjfree Sports has been used as a means of pro...</td>\n",
       "      <td>https://twitter.com/POTUS/status/1000035228679...</td>\n",
       "      <td>Baseball players in the 1950s were caught on c...</td>\n",
       "      <td>['https://www.snopes.com/tachyon/2018/03/ratin...</td>\n",
       "      <td>http://pbs.twimg.com/media/DeCejk4WkAMruuM.jpg</td>\n",
       "      <td>White Baseball Players Kneel in the 50 ' s to ...</td>\n",
       "      <td>https://www.snopes.com/fact-check/baseball-pla...</td>\n",
       "      <td>false</td>\n",
       "      <td>NaN</td>\n",
       "      <td>ok</td>\n",
       "      <td>5.182272e+08</td>\n",
       "      <td></td>\n",
       "    </tr>\n",
       "    <tr>\n",
       "      <th>11196</th>\n",
       "      <td>999996611039191040</td>\n",
       "      <td>999996171824386048</td>\n",
       "      <td>@spectatorindex How you call this? https://t.c...</td>\n",
       "      <td>https://twitter.com/POTUS/status/9999966110391...</td>\n",
       "      <td>A photograph shows Senator John McCain posing ...</td>\n",
       "      <td>['https://www.snopes.com/tachyon/2018/03/ratin...</td>\n",
       "      <td>http://pbs.twimg.com/media/DeCzNhwX4AICQ0-.jpg</td>\n",
       "      <td>iSIS Leader Abu Bakr al-Baghdadi US . Sen . ' ...</td>\n",
       "      <td>https://www.snopes.com/fact-check/john-mccain-...</td>\n",
       "      <td>miscaptioned</td>\n",
       "      <td>NaN</td>\n",
       "      <td>ok</td>\n",
       "      <td>NaN</td>\n",
       "      <td></td>\n",
       "    </tr>\n",
       "  </tbody>\n",
       "</table>\n",
       "<p>11197 rows × 14 columns</p>\n",
       "</div>"
      ],
      "text/plain": [
       "                        id          original_id  \\\n",
       "0      1000085962053959680  1000006390323253249   \n",
       "1      1000057516615786496  1000015162714263553   \n",
       "2      1000037356836093953  1000023322481086466   \n",
       "3      1000056983070892032  1000048498677571584   \n",
       "4      1000149982408794113  1000058582476435456   \n",
       "...                    ...                  ...   \n",
       "11192  1000146882428096512   999903412425711616   \n",
       "11193  1000018438184734720   999961946932723713   \n",
       "11194   999992400725585920   999962442141782016   \n",
       "11195  1000035228679852032   999973815655518213   \n",
       "11196   999996611039191040   999996171824386048   \n",
       "\n",
       "                                              tweet_text  \\\n",
       "0           *cough* @NFL *cough* https://t.co/H9SskJ8q4Q   \n",
       "1      @PhilMcCrackin44 Schiff's sister was married t...   \n",
       "2      Brave men died to keep us free. Radicals want ...   \n",
       "3      @AP @farmerfar55 Was he wearing the medal give...   \n",
       "4      The importance of the electoral college is vit...   \n",
       "...                                                  ...   \n",
       "11192  I picked this up from someone here. Its🙄🤨🙄 wor...   \n",
       "11193  Trump is a criminal, a gangster using criminal...   \n",
       "11194  @VP @NFL @POTUS The only thing that’s #Winning...   \n",
       "11195  @mjfree Sports has been used as a means of pro...   \n",
       "11196  @spectatorindex How you call this? https://t.c...   \n",
       "\n",
       "                                               tweet_url  \\\n",
       "0      https://twitter.com/POTUS/status/1000085962053...   \n",
       "1      https://twitter.com/POTUS/status/1000057516615...   \n",
       "2      https://twitter.com/POTUS/status/1000037356836...   \n",
       "3      https://twitter.com/POTUS/status/1000056983070...   \n",
       "4      https://twitter.com/POTUS/status/1000149982408...   \n",
       "...                                                  ...   \n",
       "11192  https://twitter.com/POTUS/status/1000146882428...   \n",
       "11193  https://twitter.com/POTUS/status/1000018438184...   \n",
       "11194  https://twitter.com/POTUS/status/9999924007255...   \n",
       "11195  https://twitter.com/POTUS/status/1000035228679...   \n",
       "11196  https://twitter.com/POTUS/status/9999966110391...   \n",
       "\n",
       "                                                   claim  \\\n",
       "0      A German football club was banned from playing...   \n",
       "1      Adam Schiff's sister Melissa was married to Ge...   \n",
       "2      Liberals were offended by a World War I memori...   \n",
       "3      A meme shows President Obama awarding the Pres...   \n",
       "4      Donald Trump won 3,084 of America's 3,141 coun...   \n",
       "...                                                  ...   \n",
       "11192  A German football club was banned from playing...   \n",
       "11193  Notorious mobster Al Capone demanded an inquir...   \n",
       "11194  Baseball players in the 1950s were caught on c...   \n",
       "11195  Baseball players in the 1950s were caught on c...   \n",
       "11196  A photograph shows Senator John McCain posing ...   \n",
       "\n",
       "                                                  rating  \\\n",
       "0      ['https://www.snopes.com/tachyon/2018/03/ratin...   \n",
       "1      ['https://www.snopes.com/tachyon/2018/03/ratin...   \n",
       "2      ['https://www.snopes.com/tachyon/2018/03/ratin...   \n",
       "3      ['https://www.snopes.com/tachyon/2018/03/ratin...   \n",
       "4      ['https://www.snopes.com/tachyon/2018/03/ratin...   \n",
       "...                                                  ...   \n",
       "11192  ['https://www.snopes.com/tachyon/2018/03/ratin...   \n",
       "11193  ['https://www.snopes.com/tachyon/2018/03/ratin...   \n",
       "11194  ['https://www.snopes.com/tachyon/2018/03/ratin...   \n",
       "11195  ['https://www.snopes.com/tachyon/2018/03/ratin...   \n",
       "11196  ['https://www.snopes.com/tachyon/2018/03/ratin...   \n",
       "\n",
       "                                                  images  \\\n",
       "0         http://pbs.twimg.com/media/DeC8Z5DX4AAduxj.jpg   \n",
       "1      ['http://pbs.twimg.com/media/DeDEfF0XcAAHExJ.j...   \n",
       "2         http://pbs.twimg.com/media/DeDL5a-XkAI7Hlw.jpg   \n",
       "3      ['http://pbs.twimg.com/media/DeCrb0SUwAAsw-t.j...   \n",
       "4         http://pbs.twimg.com/media/DeDr-FjVMAAlZe1.jpg   \n",
       "...                                                  ...   \n",
       "11192     http://pbs.twimg.com/media/DeBe1X5VAAI-Zhh.jpg   \n",
       "11193     http://pbs.twimg.com/media/DeCUF2ZV4AAMm0Z.jpg   \n",
       "11194     http://pbs.twimg.com/media/DeCUiW3VwAAQbyx.jpg   \n",
       "11195     http://pbs.twimg.com/media/DeCejk4WkAMruuM.jpg   \n",
       "11196     http://pbs.twimg.com/media/DeCzNhwX4AICQ0-.jpg   \n",
       "\n",
       "                                             text_images  \\\n",
       "0      FAILED TO GIVE NAZI SALUTE . German Football C...   \n",
       "1      ['', '', 'di \" twant wutted to cmt ur to frpyo...   \n",
       "2      #DontTearMeDown IRSTLIBERT . ORG DontTearMeDow...   \n",
       "3                                       ['', '', '', '']   \n",
       "4      HILLARY'S POPULAR VOTE Mont . Ore . Idaho Wyo ...   \n",
       "...                                                  ...   \n",
       "11192  FAILED TO GIVE NAZI SALUTE . German Football C...   \n",
       "11193  Ci ) icago Sunday Cribune INAL 17 . Capone Dem...   \n",
       "11194  White Baseball Players Kneel in the 50 ' s to ...   \n",
       "11195  White Baseball Players Kneel in the 50 ' s to ...   \n",
       "11196  iSIS Leader Abu Bakr al-Baghdadi US . Sen . ' ...   \n",
       "\n",
       "                                                  source            label  \\\n",
       "0      https://www.snopes.com/fact-check/german-footb...  mostly-true-new   \n",
       "1      https://www.snopes.com/fact-check/adam-schiffs...            false   \n",
       "2      https://www.snopes.com/fact-check/liberals-dem...          mixture   \n",
       "3      https://www.snopes.com/fact-check/obama-medal-...     mostly-false   \n",
       "4      https://www.snopes.com/fact-check/trump-clinto...            false   \n",
       "...                                                  ...              ...   \n",
       "11192  https://www.snopes.com/fact-check/german-footb...  mostly-true-new   \n",
       "11193  https://www.snopes.com/fact-check/did-al-capon...            false   \n",
       "11194  https://www.snopes.com/fact-check/baseball-pla...            false   \n",
       "11195  https://www.snopes.com/fact-check/baseball-pla...            false   \n",
       "11196  https://www.snopes.com/fact-check/john-mccain-...     miscaptioned   \n",
       "\n",
       "       label_info available        acc_id  \\\n",
       "0             NaN      auth           NaN   \n",
       "1             NaN      auth           NaN   \n",
       "2             NaN        ok  3.981226e+09   \n",
       "3             NaN        ok           NaN   \n",
       "4             NaN      auth           NaN   \n",
       "...           ...       ...           ...   \n",
       "11192         NaN        ok  9.174376e+07   \n",
       "11193         NaN   missing  8.816829e+17   \n",
       "11194         NaN      auth  1.157486e+08   \n",
       "11195         NaN        ok  5.182272e+08   \n",
       "11196         NaN        ok           NaN   \n",
       "\n",
       "                                               botometer  \n",
       "0      {'cap': {'english': 0.2520419704315795, 'unive...  \n",
       "1      {'cap': {'english': 0.2520419704315795, 'unive...  \n",
       "2      {'error': \"TweepError: [{'code': 34, 'message'...  \n",
       "3      {'cap': {'english': 0.2520419704315795, 'unive...  \n",
       "4      {'cap': {'english': 0.2520419704315795, 'unive...  \n",
       "...                                                  ...  \n",
       "11192                                                     \n",
       "11193                                                     \n",
       "11194                                                     \n",
       "11195                                                     \n",
       "11196                                                     \n",
       "\n",
       "[11197 rows x 14 columns]"
      ]
     },
     "execution_count": 23,
     "metadata": {},
     "output_type": "execute_result"
    }
   ],
   "source": [
    "snopes"
   ]
  },
  {
   "cell_type": "code",
   "execution_count": 19,
   "metadata": {},
   "outputs": [
    {
     "data": {
      "text/html": [
       "<div>\n",
       "<style scoped>\n",
       "    .dataframe tbody tr th:only-of-type {\n",
       "        vertical-align: middle;\n",
       "    }\n",
       "\n",
       "    .dataframe tbody tr th {\n",
       "        vertical-align: top;\n",
       "    }\n",
       "\n",
       "    .dataframe thead th {\n",
       "        text-align: right;\n",
       "    }\n",
       "</style>\n",
       "<table border=\"1\" class=\"dataframe\">\n",
       "  <thead>\n",
       "    <tr style=\"text-align: right;\">\n",
       "      <th></th>\n",
       "      <th>id</th>\n",
       "      <th>original_id</th>\n",
       "      <th>tweet_text</th>\n",
       "      <th>tweet_url</th>\n",
       "      <th>claim</th>\n",
       "      <th>rating</th>\n",
       "      <th>images</th>\n",
       "      <th>text_images</th>\n",
       "      <th>source</th>\n",
       "      <th>label</th>\n",
       "      <th>label_info</th>\n",
       "      <th>available</th>\n",
       "      <th>acc_id</th>\n",
       "      <th>botometer</th>\n",
       "    </tr>\n",
       "  </thead>\n",
       "  <tbody>\n",
       "  </tbody>\n",
       "</table>\n",
       "</div>"
      ],
      "text/plain": [
       "Empty DataFrame\n",
       "Columns: [id, original_id, tweet_text, tweet_url, claim, rating, images, text_images, source, label, label_info, available, acc_id, botometer]\n",
       "Index: []"
      ]
     },
     "execution_count": 19,
     "metadata": {},
     "output_type": "execute_result"
    }
   ],
   "source": [
    "snopes[snopes.original_id.isin([14802766])]"
   ]
  },
  {
   "cell_type": "code",
   "execution_count": null,
   "metadata": {},
   "outputs": [],
   "source": []
  },
  {
   "cell_type": "code",
   "execution_count": 22,
   "metadata": {},
   "outputs": [
    {
     "data": {
      "text/plain": [
       "3981225735.0"
      ]
     },
     "execution_count": 22,
     "metadata": {},
     "output_type": "execute_result"
    }
   ],
   "source": [
    "snopes.acc_id.tolist()[2]"
   ]
  },
  {
   "cell_type": "code",
   "execution_count": 11,
   "metadata": {},
   "outputs": [
    {
     "name": "stdout",
     "output_type": "stream",
     "text": [
      "Collecting tweepy==4.0\n",
      "  Downloading tweepy-4.0.0-py2.py3-none-any.whl (60 kB)\n",
      "\u001b[K     |████████████████████████████████| 60 kB 1.5 MB/s eta 0:00:01\n",
      "\u001b[?25hRequirement already satisfied: requests<3,>=2.11.1 in /home/mihail/.local/lib/python3.8/site-packages (from tweepy==4.0) (2.27.1)\n",
      "Requirement already satisfied: requests-oauthlib<2,>=1.0.0 in /home/mihail/.local/lib/python3.8/site-packages (from tweepy==4.0) (1.3.1)\n",
      "Requirement already satisfied: charset-normalizer~=2.0.0; python_version >= \"3\" in /home/mihail/.local/lib/python3.8/site-packages (from requests<3,>=2.11.1->tweepy==4.0) (2.0.12)\n",
      "Requirement already satisfied: idna<4,>=2.5; python_version >= \"3\" in /usr/lib/python3/dist-packages (from requests<3,>=2.11.1->tweepy==4.0) (2.8)\n",
      "Requirement already satisfied: certifi>=2017.4.17 in /usr/lib/python3/dist-packages (from requests<3,>=2.11.1->tweepy==4.0) (2019.11.28)\n",
      "Requirement already satisfied: urllib3<1.27,>=1.21.1 in /usr/lib/python3/dist-packages (from requests<3,>=2.11.1->tweepy==4.0) (1.25.8)\n",
      "Requirement already satisfied: oauthlib>=3.0.0 in /home/mihail/.local/lib/python3.8/site-packages (from requests-oauthlib<2,>=1.0.0->tweepy==4.0) (3.2.0)\n",
      "\u001b[31mERROR: botometer 1.6.1 has requirement tweepy<4,>=3.5.0, but you'll have tweepy 4.0.0 which is incompatible.\u001b[0m\n",
      "Installing collected packages: tweepy\n",
      "  Attempting uninstall: tweepy\n",
      "    Found existing installation: tweepy 4.6.0\n",
      "    Uninstalling tweepy-4.6.0:\n",
      "      Successfully uninstalled tweepy-4.6.0\n",
      "Successfully installed tweepy-4.0.0\n",
      "Note: you may need to restart the kernel to use updated packages.\n"
     ]
    }
   ],
   "source": [
    "pip install tweepy==4.0"
   ]
  },
  {
   "cell_type": "code",
   "execution_count": null,
   "metadata": {},
   "outputs": [],
   "source": []
  }
 ],
 "metadata": {
  "kernelspec": {
   "display_name": "Python 3 (ipykernel)",
   "language": "python",
   "name": "python3"
  },
  "language_info": {
   "codemirror_mode": {
    "name": "ipython",
    "version": 3
   },
   "file_extension": ".py",
   "mimetype": "text/x-python",
   "name": "python",
   "nbconvert_exporter": "python",
   "pygments_lexer": "ipython3",
   "version": "3.9.7"
  }
 },
 "nbformat": 4,
 "nbformat_minor": 2
}
