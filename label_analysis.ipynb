{
 "cells": [
  {
   "cell_type": "code",
   "execution_count": 3,
   "metadata": {},
   "outputs": [
    {
     "data": {
      "text/html": [
       "<style>.container { width:100% !important; }</style>"
      ],
      "text/plain": [
       "<IPython.core.display.HTML object>"
      ]
     },
     "metadata": {},
     "output_type": "display_data"
    }
   ],
   "source": [
    "from IPython.core.display import display, HTML\n",
    "display(HTML(\"<style>.container { width:100% !important; }</style>\"))"
   ]
  },
  {
   "cell_type": "code",
   "execution_count": 4,
   "metadata": {},
   "outputs": [],
   "source": [
    "import json\n",
    "import pandas as pd\n",
    "import numpy as np"
   ]
  },
  {
   "cell_type": "code",
   "execution_count": null,
   "metadata": {},
   "outputs": [],
   "source": [
    "with open(\"merged_data.json\") as jfile:\n",
    "    data = json.load(jfile)"
   ]
  },
  {
   "cell_type": "code",
   "execution_count": null,
   "metadata": {},
   "outputs": [],
   "source": [
    "len(data)"
   ]
  },
  {
   "cell_type": "code",
   "execution_count": null,
   "metadata": {},
   "outputs": [],
   "source": [
    "data[0]['tweet_data'][\"Images_in_tweet\"]"
   ]
  },
  {
   "cell_type": "code",
   "execution_count": null,
   "metadata": {},
   "outputs": [],
   "source": [
    "df = pd.DataFrame(index = range(13239), columns=[\"id\", \"original_id\", \"tweet_text\", \"tweet_url\", \"claim\", \"rating\", \"images\", \"text_images\", \"source\"])"
   ]
  },
  {
   "cell_type": "code",
   "execution_count": null,
   "metadata": {},
   "outputs": [],
   "source": [
    "def extract_labels(tweet):\n",
    "    \n",
    "    try:\n",
    "        tweet_did = tweet[\"tweet_data\"][\"DtweetID\"]\n",
    "        tweet_oid = tweet[\"tweet_data\"][\"originalTweetID\"]\n",
    "        tweet_url = f\"https://twitter.com/POTUS/status/{tweet_did}\"\n",
    "        tweet_text = tweet[\"tweet_data\"][\"OriginalTweetContent_Raw\"]\n",
    "        claim = tweet[\"article_data\"][\"claim\"]\n",
    "        rating = tweet[\"article_data\"][\"rating\"]\n",
    "        images = list(tweet[\"tweet_data\"][\"Images_in_tweet\"].keys())\n",
    "        text_images = [tweet[\"tweet_data\"][\"Images_in_tweet\"][i][\"text_for_the_image\"] for i in images]\n",
    "        source = tweet[\"article_data\"][\"url\"]\n",
    "        \n",
    "        if len(images) == 1: images = images[0]\n",
    "        if len(rating) == 1: rating = rating[0]\n",
    "        if len(text_images) == 1: text_images = text_images[0] if len(text_images[0]) > 0 else None\n",
    "            \n",
    "        return [tweet_did, tweet_oid, tweet_text, tweet_url, claim, rating, images, text_images, source]     \n",
    "    \n",
    "    except Exception as e:\n",
    "        return e\n"
   ]
  },
  {
   "cell_type": "code",
   "execution_count": null,
   "metadata": {},
   "outputs": [],
   "source": [
    "data[0][\"article_data\"].keys()"
   ]
  },
  {
   "cell_type": "code",
   "execution_count": null,
   "metadata": {},
   "outputs": [],
   "source": [
    "errors = {}\n",
    "for i in df.index:\n",
    "    info = extract_labels(data[i])\n",
    "    \n",
    "    if isinstance(info, list): \n",
    "        df.loc[i,] = np.asarray(info)\n",
    "    else:\n",
    "        errors[i] = info        \n",
    "\n"
   ]
  },
  {
   "cell_type": "code",
   "execution_count": null,
   "metadata": {},
   "outputs": [],
   "source": [
    "errors"
   ]
  },
  {
   "cell_type": "code",
   "execution_count": null,
   "metadata": {},
   "outputs": [],
   "source": [
    "df = df.drop(list(errors.keys()))"
   ]
  },
  {
   "cell_type": "code",
   "execution_count": null,
   "metadata": {},
   "outputs": [],
   "source": [
    "df[\"label\"] = [i[0].split(\"/\")[-1].split(\".\")[0] for i in df.rating]\n",
    "df[\"label\"] = [i.replace(\"rating-\",\"\").replace(\"tom-\",\"\").replace(\"fom-\",\"\") for i in df.label]\n",
    "df[\"label_info\"] = [i[2] if len(i)>2 else None for i in df.rating]"
   ]
  },
  {
   "cell_type": "code",
   "execution_count": null,
   "metadata": {},
   "outputs": [],
   "source": [
    "snopes = df[~df.source.str.contains(\"www.politifact.com\")]"
   ]
  },
  {
   "cell_type": "code",
   "execution_count": null,
   "metadata": {},
   "outputs": [],
   "source": [
    "snopes.label.value_counts()"
   ]
  },
  {
   "cell_type": "code",
   "execution_count": null,
   "metadata": {},
   "outputs": [],
   "source": [
    "import json\n",
    "with open(\"json_data.json\") as rfile:\n",
    "    data = json.load(rfile)\n",
    "    "
   ]
  },
  {
   "cell_type": "code",
   "execution_count": null,
   "metadata": {},
   "outputs": [],
   "source": [
    "data"
   ]
  },
  {
   "cell_type": "code",
   "execution_count": null,
   "metadata": {},
   "outputs": [],
   "source": [
    "def map_availability(row):\n",
    "    return [key for key in data.keys() if row in data[key]][0]"
   ]
  },
  {
   "cell_type": "code",
   "execution_count": null,
   "metadata": {},
   "outputs": [],
   "source": [
    "snopes[\"available\"] = snopes.id.apply(map_availability)"
   ]
  },
  {
   "cell_type": "code",
   "execution_count": null,
   "metadata": {},
   "outputs": [],
   "source": [
    "# snopes.to_csv(\"snopes_clean.csv\", index=False)"
   ]
  },
  {
   "cell_type": "code",
   "execution_count": null,
   "metadata": {},
   "outputs": [],
   "source": [
    "# snopes = pd.read_csv(\"snopes_clean.csv\")"
   ]
  },
  {
   "cell_type": "code",
   "execution_count": null,
   "metadata": {},
   "outputs": [],
   "source": [
    "snopes"
   ]
  },
  {
   "cell_type": "code",
   "execution_count": null,
   "metadata": {},
   "outputs": [],
   "source": [
    "snopes.available.value_counts()"
   ]
  },
  {
   "cell_type": "code",
   "execution_count": null,
   "metadata": {},
   "outputs": [],
   "source": [
    "snopes.tail().source.tolist()"
   ]
  },
  {
   "cell_type": "code",
   "execution_count": null,
   "metadata": {},
   "outputs": [],
   "source": [
    "snopes.tail().tweet_url.tolist()"
   ]
  },
  {
   "cell_type": "code",
   "execution_count": 4,
   "metadata": {},
   "outputs": [
    {
     "name": "stdout",
     "output_type": "stream",
     "text": [
      "Requirement already satisfied: requests in /home/mihail/.local/lib/python3.8/site-packages (2.27.1)\n",
      "Collecting tweepy\n",
      "  Downloading tweepy-4.6.0-py2.py3-none-any.whl (69 kB)\n",
      "\u001b[K     |████████████████████████████████| 69 kB 2.0 MB/s eta 0:00:01\n",
      "\u001b[?25hCollecting botometer\n",
      "  Downloading botometer-1.6.1-py3-none-any.whl (4.8 kB)\n",
      "Requirement already satisfied: urllib3<1.27,>=1.21.1 in /usr/lib/python3/dist-packages (from requests) (1.25.8)\n",
      "Requirement already satisfied: idna<4,>=2.5; python_version >= \"3\" in /usr/lib/python3/dist-packages (from requests) (2.8)\n",
      "Requirement already satisfied: certifi>=2017.4.17 in /usr/lib/python3/dist-packages (from requests) (2019.11.28)\n",
      "Requirement already satisfied: charset-normalizer~=2.0.0; python_version >= \"3\" in /home/mihail/.local/lib/python3.8/site-packages (from requests) (2.0.12)\n",
      "Collecting requests-oauthlib<2,>=1.2.0\n",
      "  Using cached requests_oauthlib-1.3.1-py2.py3-none-any.whl (23 kB)\n",
      "Collecting oauthlib<4,>=3.2.0\n",
      "  Using cached oauthlib-3.2.0-py3-none-any.whl (151 kB)\n",
      "\u001b[31mERROR: botometer 1.6.1 has requirement tweepy<4,>=3.5.0, but you'll have tweepy 4.6.0 which is incompatible.\u001b[0m\n",
      "Installing collected packages: oauthlib, requests-oauthlib, tweepy, botometer\n",
      "Successfully installed botometer-1.6.1 oauthlib-3.2.0 requests-oauthlib-1.3.1 tweepy-4.6.0\n"
     ]
    }
   ],
   "source": [
    "!pip3 install requests tweepy==4.0 botometer"
   ]
  },
  {
   "cell_type": "code",
   "execution_count": 54,
   "metadata": {},
   "outputs": [
    {
     "name": "stderr",
     "output_type": "stream",
     "text": [
      "/var/folders/jf/w9ffcr5s1t1fffdv873rd0xr0000gn/T/ipykernel_17446/1629282148.py:5: SettingWithCopyWarning: \n",
      "A value is trying to be set on a copy of a slice from a DataFrame.\n",
      "Try using .loc[row_indexer,col_indexer] = value instead\n",
      "\n",
      "See the caveats in the documentation: https://pandas.pydata.org/pandas-docs/stable/user_guide/indexing.html#returning-a-view-versus-a-copy\n",
      "  snopes_acc[\"acc_id\"] = snopes_acc.acc_id.astype(int)\n"
     ]
    }
   ],
   "source": [
    "snopes = pd.read_csv(\"snopes_acc.csv\")\n",
    "snopes[\"botometer\"] = ''\n",
    "\n",
    "snopes_acc = snopes[snopes.acc_id.notna()]\n",
    "snopes_acc[\"acc_id\"] = snopes_acc.acc_id.astype(int)\n",
    "accounts = snopes_acc.acc_id.tolist()\n",
    "\n",
    "\n",
    "snopes_acc.reset_index(inplace=True)\n",
    "del snopes_acc['index']"
   ]
  },
  {
   "cell_type": "code",
   "execution_count": 6,
   "metadata": {},
   "outputs": [
    {
     "name": "stdout",
     "output_type": "stream",
     "text": [
      "Collecting tqdm\n",
      "  Using cached tqdm-4.63.0-py2.py3-none-any.whl (76 kB)\n",
      "Installing collected packages: tqdm\n",
      "Successfully installed tqdm-4.63.0\n"
     ]
    }
   ],
   "source": [
    "!pip install tqdm"
   ]
  },
  {
   "cell_type": "code",
   "execution_count": 55,
   "metadata": {},
   "outputs": [
    {
     "data": {
      "text/html": [
       "<div>\n",
       "<style scoped>\n",
       "    .dataframe tbody tr th:only-of-type {\n",
       "        vertical-align: middle;\n",
       "    }\n",
       "\n",
       "    .dataframe tbody tr th {\n",
       "        vertical-align: top;\n",
       "    }\n",
       "\n",
       "    .dataframe thead th {\n",
       "        text-align: right;\n",
       "    }\n",
       "</style>\n",
       "<table border=\"1\" class=\"dataframe\">\n",
       "  <thead>\n",
       "    <tr style=\"text-align: right;\">\n",
       "      <th></th>\n",
       "      <th>id</th>\n",
       "      <th>original_id</th>\n",
       "      <th>tweet_text</th>\n",
       "      <th>tweet_url</th>\n",
       "      <th>claim</th>\n",
       "      <th>rating</th>\n",
       "      <th>images</th>\n",
       "      <th>text_images</th>\n",
       "      <th>source</th>\n",
       "      <th>label</th>\n",
       "      <th>label_info</th>\n",
       "      <th>available</th>\n",
       "      <th>acc_id</th>\n",
       "      <th>botometer</th>\n",
       "    </tr>\n",
       "  </thead>\n",
       "  <tbody>\n",
       "    <tr>\n",
       "      <th>0</th>\n",
       "      <td>1000037356836093953</td>\n",
       "      <td>1000023322481086466</td>\n",
       "      <td>Brave men died to keep us free. Radicals want ...</td>\n",
       "      <td>https://twitter.com/POTUS/status/1000037356836...</td>\n",
       "      <td>Liberals were offended by a World War I memori...</td>\n",
       "      <td>['https://www.snopes.com/tachyon/2018/03/ratin...</td>\n",
       "      <td>http://pbs.twimg.com/media/DeDL5a-XkAI7Hlw.jpg</td>\n",
       "      <td>#DontTearMeDown IRSTLIBERT . ORG DontTearMeDow...</td>\n",
       "      <td>https://www.snopes.com/fact-check/liberals-dem...</td>\n",
       "      <td>mixture</td>\n",
       "      <td>NaN</td>\n",
       "      <td>ok</td>\n",
       "      <td>3981225735</td>\n",
       "      <td></td>\n",
       "    </tr>\n",
       "    <tr>\n",
       "      <th>1</th>\n",
       "      <td>1000098833798389760</td>\n",
       "      <td>1000059879682342912</td>\n",
       "      <td>“Stand for the National Anthem or be punished”...</td>\n",
       "      <td>https://twitter.com/POTUS/status/1000098833798...</td>\n",
       "      <td>A German football club was banned from playing...</td>\n",
       "      <td>['https://www.snopes.com/tachyon/2018/03/ratin...</td>\n",
       "      <td>http://pbs.twimg.com/media/DeDtKIRVAAA4kPm.jpg</td>\n",
       "      <td>FAILED TO GIVE NAZI SALUTE . German Football C...</td>\n",
       "      <td>https://www.snopes.com/fact-check/german-footb...</td>\n",
       "      <td>mostly-true-new</td>\n",
       "      <td>NaN</td>\n",
       "      <td>ok</td>\n",
       "      <td>1924071992</td>\n",
       "      <td></td>\n",
       "    </tr>\n",
       "    <tr>\n",
       "      <th>2</th>\n",
       "      <td>1000158804795781120</td>\n",
       "      <td>1000073920760791040</td>\n",
       "      <td>@Humancipator35 @buddydusty @davidhogg111 🙌🏼 R...</td>\n",
       "      <td>https://twitter.com/POTUS/status/1000158804795...</td>\n",
       "      <td>Emma Gonz lez, a survivor of the Parkland scho...</td>\n",
       "      <td>['https://www.snopes.com/tachyon/2018/03/ratin...</td>\n",
       "      <td>http://pbs.twimg.com/media/DeD57XMV4AAUG4k.jpg</td>\n",
       "      <td>NaN</td>\n",
       "      <td>https://www.snopes.com/fact-check/emma-gonzale...</td>\n",
       "      <td>false</td>\n",
       "      <td>NaN</td>\n",
       "      <td>auth</td>\n",
       "      <td>924224208</td>\n",
       "      <td></td>\n",
       "    </tr>\n",
       "    <tr>\n",
       "      <th>3</th>\n",
       "      <td>1000175568241872897</td>\n",
       "      <td>1000174645973315586</td>\n",
       "      <td>Just sayin'  #NFL https://t.co/70tFG5ieMC</td>\n",
       "      <td>https://twitter.com/POTUS/status/1000175568241...</td>\n",
       "      <td>A German football club was banned from playing...</td>\n",
       "      <td>['https://www.snopes.com/tachyon/2018/03/ratin...</td>\n",
       "      <td>http://pbs.twimg.com/media/DeFVdDlUwAA17qS.jpg</td>\n",
       "      <td>FAILED TO GIVE NAZI SALUTE . German Football C...</td>\n",
       "      <td>https://www.snopes.com/fact-check/german-footb...</td>\n",
       "      <td>mostly-true-new</td>\n",
       "      <td>NaN</td>\n",
       "      <td>auth</td>\n",
       "      <td>170735298</td>\n",
       "      <td></td>\n",
       "    </tr>\n",
       "    <tr>\n",
       "      <th>4</th>\n",
       "      <td>1000438777792344067</td>\n",
       "      <td>1000191784797040640</td>\n",
       "      <td>Those who do not learn from history are doomed...</td>\n",
       "      <td>https://twitter.com/POTUS/status/1000438777792...</td>\n",
       "      <td>A German football club was banned from playing...</td>\n",
       "      <td>['https://www.snopes.com/tachyon/2018/03/ratin...</td>\n",
       "      <td>http://pbs.twimg.com/media/DeFkp5eU0AA2aLJ.jpg</td>\n",
       "      <td>pnting n the wo \" ' t WHY to win . nbor mu t n...</td>\n",
       "      <td>https://www.snopes.com/fact-check/german-footb...</td>\n",
       "      <td>mostly-true-new</td>\n",
       "      <td>NaN</td>\n",
       "      <td>ok</td>\n",
       "      <td>115563859</td>\n",
       "      <td></td>\n",
       "    </tr>\n",
       "    <tr>\n",
       "      <th>...</th>\n",
       "      <td>...</td>\n",
       "      <td>...</td>\n",
       "      <td>...</td>\n",
       "      <td>...</td>\n",
       "      <td>...</td>\n",
       "      <td>...</td>\n",
       "      <td>...</td>\n",
       "      <td>...</td>\n",
       "      <td>...</td>\n",
       "      <td>...</td>\n",
       "      <td>...</td>\n",
       "      <td>...</td>\n",
       "      <td>...</td>\n",
       "      <td>...</td>\n",
       "    </tr>\n",
       "    <tr>\n",
       "      <th>6971</th>\n",
       "      <td>1000095067887910917</td>\n",
       "      <td>999866405687209984</td>\n",
       "      <td>History repeating itself with @realDonaldTrump...</td>\n",
       "      <td>https://twitter.com/POTUS/status/1000095067887...</td>\n",
       "      <td>A German football club was banned from playing...</td>\n",
       "      <td>['https://www.snopes.com/tachyon/2018/03/ratin...</td>\n",
       "      <td>http://pbs.twimg.com/media/DeA9KrlVwAEHtPB.jpg</td>\n",
       "      <td>FAILED TO GIVE NAZI SALUTE . German Football C...</td>\n",
       "      <td>https://www.snopes.com/fact-check/german-footb...</td>\n",
       "      <td>mostly-true-new</td>\n",
       "      <td>NaN</td>\n",
       "      <td>ok</td>\n",
       "      <td>550658726</td>\n",
       "      <td></td>\n",
       "    </tr>\n",
       "    <tr>\n",
       "      <th>6972</th>\n",
       "      <td>1000146882428096512</td>\n",
       "      <td>999903412425711616</td>\n",
       "      <td>I picked this up from someone here. Its🙄🤨🙄 wor...</td>\n",
       "      <td>https://twitter.com/POTUS/status/1000146882428...</td>\n",
       "      <td>A German football club was banned from playing...</td>\n",
       "      <td>['https://www.snopes.com/tachyon/2018/03/ratin...</td>\n",
       "      <td>http://pbs.twimg.com/media/DeBe1X5VAAI-Zhh.jpg</td>\n",
       "      <td>FAILED TO GIVE NAZI SALUTE . German Football C...</td>\n",
       "      <td>https://www.snopes.com/fact-check/german-footb...</td>\n",
       "      <td>mostly-true-new</td>\n",
       "      <td>NaN</td>\n",
       "      <td>ok</td>\n",
       "      <td>91743765</td>\n",
       "      <td></td>\n",
       "    </tr>\n",
       "    <tr>\n",
       "      <th>6973</th>\n",
       "      <td>1000018438184734720</td>\n",
       "      <td>999961946932723713</td>\n",
       "      <td>Trump is a criminal, a gangster using criminal...</td>\n",
       "      <td>https://twitter.com/POTUS/status/1000018438184...</td>\n",
       "      <td>Notorious mobster Al Capone demanded an inquir...</td>\n",
       "      <td>['https://www.snopes.com/tachyon/2018/03/ratin...</td>\n",
       "      <td>http://pbs.twimg.com/media/DeCUF2ZV4AAMm0Z.jpg</td>\n",
       "      <td>Ci ) icago Sunday Cribune INAL 17 . Capone Dem...</td>\n",
       "      <td>https://www.snopes.com/fact-check/did-al-capon...</td>\n",
       "      <td>false</td>\n",
       "      <td>NaN</td>\n",
       "      <td>missing</td>\n",
       "      <td>881682896607600640</td>\n",
       "      <td></td>\n",
       "    </tr>\n",
       "    <tr>\n",
       "      <th>6974</th>\n",
       "      <td>999992400725585920</td>\n",
       "      <td>999962442141782016</td>\n",
       "      <td>@VP @NFL @POTUS The only thing that’s #Winning...</td>\n",
       "      <td>https://twitter.com/POTUS/status/9999924007255...</td>\n",
       "      <td>Baseball players in the 1950s were caught on c...</td>\n",
       "      <td>['https://www.snopes.com/tachyon/2018/03/ratin...</td>\n",
       "      <td>http://pbs.twimg.com/media/DeCUiW3VwAAQbyx.jpg</td>\n",
       "      <td>White Baseball Players Kneel in the 50 ' s to ...</td>\n",
       "      <td>https://www.snopes.com/fact-check/baseball-pla...</td>\n",
       "      <td>false</td>\n",
       "      <td>NaN</td>\n",
       "      <td>auth</td>\n",
       "      <td>115748564</td>\n",
       "      <td></td>\n",
       "    </tr>\n",
       "    <tr>\n",
       "      <th>6975</th>\n",
       "      <td>1000035228679852032</td>\n",
       "      <td>999973815655518213</td>\n",
       "      <td>@mjfree Sports has been used as a means of pro...</td>\n",
       "      <td>https://twitter.com/POTUS/status/1000035228679...</td>\n",
       "      <td>Baseball players in the 1950s were caught on c...</td>\n",
       "      <td>['https://www.snopes.com/tachyon/2018/03/ratin...</td>\n",
       "      <td>http://pbs.twimg.com/media/DeCejk4WkAMruuM.jpg</td>\n",
       "      <td>White Baseball Players Kneel in the 50 ' s to ...</td>\n",
       "      <td>https://www.snopes.com/fact-check/baseball-pla...</td>\n",
       "      <td>false</td>\n",
       "      <td>NaN</td>\n",
       "      <td>ok</td>\n",
       "      <td>518227176</td>\n",
       "      <td></td>\n",
       "    </tr>\n",
       "  </tbody>\n",
       "</table>\n",
       "<p>6976 rows × 14 columns</p>\n",
       "</div>"
      ],
      "text/plain": [
       "                       id          original_id  \\\n",
       "0     1000037356836093953  1000023322481086466   \n",
       "1     1000098833798389760  1000059879682342912   \n",
       "2     1000158804795781120  1000073920760791040   \n",
       "3     1000175568241872897  1000174645973315586   \n",
       "4     1000438777792344067  1000191784797040640   \n",
       "...                   ...                  ...   \n",
       "6971  1000095067887910917   999866405687209984   \n",
       "6972  1000146882428096512   999903412425711616   \n",
       "6973  1000018438184734720   999961946932723713   \n",
       "6974   999992400725585920   999962442141782016   \n",
       "6975  1000035228679852032   999973815655518213   \n",
       "\n",
       "                                             tweet_text  \\\n",
       "0     Brave men died to keep us free. Radicals want ...   \n",
       "1     “Stand for the National Anthem or be punished”...   \n",
       "2     @Humancipator35 @buddydusty @davidhogg111 🙌🏼 R...   \n",
       "3             Just sayin'  #NFL https://t.co/70tFG5ieMC   \n",
       "4     Those who do not learn from history are doomed...   \n",
       "...                                                 ...   \n",
       "6971  History repeating itself with @realDonaldTrump...   \n",
       "6972  I picked this up from someone here. Its🙄🤨🙄 wor...   \n",
       "6973  Trump is a criminal, a gangster using criminal...   \n",
       "6974  @VP @NFL @POTUS The only thing that’s #Winning...   \n",
       "6975  @mjfree Sports has been used as a means of pro...   \n",
       "\n",
       "                                              tweet_url  \\\n",
       "0     https://twitter.com/POTUS/status/1000037356836...   \n",
       "1     https://twitter.com/POTUS/status/1000098833798...   \n",
       "2     https://twitter.com/POTUS/status/1000158804795...   \n",
       "3     https://twitter.com/POTUS/status/1000175568241...   \n",
       "4     https://twitter.com/POTUS/status/1000438777792...   \n",
       "...                                                 ...   \n",
       "6971  https://twitter.com/POTUS/status/1000095067887...   \n",
       "6972  https://twitter.com/POTUS/status/1000146882428...   \n",
       "6973  https://twitter.com/POTUS/status/1000018438184...   \n",
       "6974  https://twitter.com/POTUS/status/9999924007255...   \n",
       "6975  https://twitter.com/POTUS/status/1000035228679...   \n",
       "\n",
       "                                                  claim  \\\n",
       "0     Liberals were offended by a World War I memori...   \n",
       "1     A German football club was banned from playing...   \n",
       "2     Emma Gonz lez, a survivor of the Parkland scho...   \n",
       "3     A German football club was banned from playing...   \n",
       "4     A German football club was banned from playing...   \n",
       "...                                                 ...   \n",
       "6971  A German football club was banned from playing...   \n",
       "6972  A German football club was banned from playing...   \n",
       "6973  Notorious mobster Al Capone demanded an inquir...   \n",
       "6974  Baseball players in the 1950s were caught on c...   \n",
       "6975  Baseball players in the 1950s were caught on c...   \n",
       "\n",
       "                                                 rating  \\\n",
       "0     ['https://www.snopes.com/tachyon/2018/03/ratin...   \n",
       "1     ['https://www.snopes.com/tachyon/2018/03/ratin...   \n",
       "2     ['https://www.snopes.com/tachyon/2018/03/ratin...   \n",
       "3     ['https://www.snopes.com/tachyon/2018/03/ratin...   \n",
       "4     ['https://www.snopes.com/tachyon/2018/03/ratin...   \n",
       "...                                                 ...   \n",
       "6971  ['https://www.snopes.com/tachyon/2018/03/ratin...   \n",
       "6972  ['https://www.snopes.com/tachyon/2018/03/ratin...   \n",
       "6973  ['https://www.snopes.com/tachyon/2018/03/ratin...   \n",
       "6974  ['https://www.snopes.com/tachyon/2018/03/ratin...   \n",
       "6975  ['https://www.snopes.com/tachyon/2018/03/ratin...   \n",
       "\n",
       "                                              images  \\\n",
       "0     http://pbs.twimg.com/media/DeDL5a-XkAI7Hlw.jpg   \n",
       "1     http://pbs.twimg.com/media/DeDtKIRVAAA4kPm.jpg   \n",
       "2     http://pbs.twimg.com/media/DeD57XMV4AAUG4k.jpg   \n",
       "3     http://pbs.twimg.com/media/DeFVdDlUwAA17qS.jpg   \n",
       "4     http://pbs.twimg.com/media/DeFkp5eU0AA2aLJ.jpg   \n",
       "...                                              ...   \n",
       "6971  http://pbs.twimg.com/media/DeA9KrlVwAEHtPB.jpg   \n",
       "6972  http://pbs.twimg.com/media/DeBe1X5VAAI-Zhh.jpg   \n",
       "6973  http://pbs.twimg.com/media/DeCUF2ZV4AAMm0Z.jpg   \n",
       "6974  http://pbs.twimg.com/media/DeCUiW3VwAAQbyx.jpg   \n",
       "6975  http://pbs.twimg.com/media/DeCejk4WkAMruuM.jpg   \n",
       "\n",
       "                                            text_images  \\\n",
       "0     #DontTearMeDown IRSTLIBERT . ORG DontTearMeDow...   \n",
       "1     FAILED TO GIVE NAZI SALUTE . German Football C...   \n",
       "2                                                   NaN   \n",
       "3     FAILED TO GIVE NAZI SALUTE . German Football C...   \n",
       "4     pnting n the wo \" ' t WHY to win . nbor mu t n...   \n",
       "...                                                 ...   \n",
       "6971  FAILED TO GIVE NAZI SALUTE . German Football C...   \n",
       "6972  FAILED TO GIVE NAZI SALUTE . German Football C...   \n",
       "6973  Ci ) icago Sunday Cribune INAL 17 . Capone Dem...   \n",
       "6974  White Baseball Players Kneel in the 50 ' s to ...   \n",
       "6975  White Baseball Players Kneel in the 50 ' s to ...   \n",
       "\n",
       "                                                 source            label  \\\n",
       "0     https://www.snopes.com/fact-check/liberals-dem...          mixture   \n",
       "1     https://www.snopes.com/fact-check/german-footb...  mostly-true-new   \n",
       "2     https://www.snopes.com/fact-check/emma-gonzale...            false   \n",
       "3     https://www.snopes.com/fact-check/german-footb...  mostly-true-new   \n",
       "4     https://www.snopes.com/fact-check/german-footb...  mostly-true-new   \n",
       "...                                                 ...              ...   \n",
       "6971  https://www.snopes.com/fact-check/german-footb...  mostly-true-new   \n",
       "6972  https://www.snopes.com/fact-check/german-footb...  mostly-true-new   \n",
       "6973  https://www.snopes.com/fact-check/did-al-capon...            false   \n",
       "6974  https://www.snopes.com/fact-check/baseball-pla...            false   \n",
       "6975  https://www.snopes.com/fact-check/baseball-pla...            false   \n",
       "\n",
       "      label_info available              acc_id botometer  \n",
       "0            NaN        ok          3981225735            \n",
       "1            NaN        ok          1924071992            \n",
       "2            NaN      auth           924224208            \n",
       "3            NaN      auth           170735298            \n",
       "4            NaN        ok           115563859            \n",
       "...          ...       ...                 ...       ...  \n",
       "6971         NaN        ok           550658726            \n",
       "6972         NaN        ok            91743765            \n",
       "6973         NaN   missing  881682896607600640            \n",
       "6974         NaN      auth           115748564            \n",
       "6975         NaN        ok           518227176            \n",
       "\n",
       "[6976 rows x 14 columns]"
      ]
     },
     "execution_count": 55,
     "metadata": {},
     "output_type": "execute_result"
    }
   ],
   "source": [
    "snopes_acc"
   ]
  },
  {
   "cell_type": "code",
   "execution_count": 7,
   "metadata": {},
   "outputs": [],
   "source": [
    "from tqdm import tqdm"
   ]
  },
  {
   "cell_type": "code",
   "execution_count": 4,
   "metadata": {},
   "outputs": [
    {
     "name": "stdout",
     "output_type": "stream",
     "text": [
      "Collecting tweepy==4.0\n",
      "  Using cached tweepy-4.0.0-py2.py3-none-any.whl (60 kB)\n",
      "Requirement already satisfied: requests<3,>=2.11.1 in /home/mihail/.local/lib/python3.8/site-packages (from tweepy==4.0) (2.27.1)\n",
      "Requirement already satisfied: requests-oauthlib<2,>=1.0.0 in /home/mihail/.local/lib/python3.8/site-packages (from tweepy==4.0) (1.3.1)\n",
      "Requirement already satisfied: urllib3<1.27,>=1.21.1 in /usr/lib/python3/dist-packages (from requests<3,>=2.11.1->tweepy==4.0) (1.25.8)\n",
      "Requirement already satisfied: certifi>=2017.4.17 in /usr/lib/python3/dist-packages (from requests<3,>=2.11.1->tweepy==4.0) (2019.11.28)\n",
      "Requirement already satisfied: idna<4,>=2.5; python_version >= \"3\" in /usr/lib/python3/dist-packages (from requests<3,>=2.11.1->tweepy==4.0) (2.8)\n",
      "Requirement already satisfied: charset-normalizer~=2.0.0; python_version >= \"3\" in /home/mihail/.local/lib/python3.8/site-packages (from requests<3,>=2.11.1->tweepy==4.0) (2.0.12)\n",
      "Requirement already satisfied: oauthlib>=3.0.0 in /home/mihail/.local/lib/python3.8/site-packages (from requests-oauthlib<2,>=1.0.0->tweepy==4.0) (3.2.0)\n",
      "\u001b[31mERROR: botometer 1.6.1 has requirement tweepy<4,>=3.5.0, but you'll have tweepy 4.0.0 which is incompatible.\u001b[0m\n",
      "Installing collected packages: tweepy\n",
      "  Attempting uninstall: tweepy\n",
      "    Found existing installation: tweepy 3.6.0\n",
      "    Uninstalling tweepy-3.6.0:\n",
      "      Successfully uninstalled tweepy-3.6.0\n",
      "Successfully installed tweepy-4.0.0\n",
      "Note: you may need to restart the kernel to use updated packages.\n"
     ]
    }
   ],
   "source": [
    "pip install tweepy==4.0"
   ]
  },
  {
   "cell_type": "code",
   "execution_count": 8,
   "metadata": {},
   "outputs": [
    {
     "name": "stdout",
     "output_type": "stream",
     "text": [
      "Collecting botometer\n",
      "  Downloading botometer-1.6.1-py3-none-any.whl (4.8 kB)\n",
      "Collecting tweepy<4,>=3.5.0\n",
      "  Downloading tweepy-3.10.0-py2.py3-none-any.whl (30 kB)\n",
      "Requirement already satisfied: requests in /home/mihail/anaconda3/lib/python3.9/site-packages (from botometer) (2.26.0)\n",
      "Requirement already satisfied: six>=1.10.0 in /home/mihail/anaconda3/lib/python3.9/site-packages (from tweepy<4,>=3.5.0->botometer) (1.16.0)\n",
      "Collecting requests-oauthlib>=0.7.0\n",
      "  Downloading requests_oauthlib-1.3.1-py2.py3-none-any.whl (23 kB)\n",
      "Collecting oauthlib>=3.0.0\n",
      "  Downloading oauthlib-3.2.0-py3-none-any.whl (151 kB)\n",
      "\u001b[K     |████████████████████████████████| 151 kB 7.5 MB/s eta 0:00:01\n",
      "\u001b[?25hRequirement already satisfied: certifi>=2017.4.17 in /home/mihail/anaconda3/lib/python3.9/site-packages (from requests->botometer) (2021.10.8)\n",
      "Requirement already satisfied: idna<4,>=2.5 in /home/mihail/anaconda3/lib/python3.9/site-packages (from requests->botometer) (3.2)\n",
      "Requirement already satisfied: charset-normalizer~=2.0.0 in /home/mihail/anaconda3/lib/python3.9/site-packages (from requests->botometer) (2.0.4)\n",
      "Requirement already satisfied: urllib3<1.27,>=1.21.1 in /home/mihail/anaconda3/lib/python3.9/site-packages (from requests->botometer) (1.26.7)\n",
      "Requirement already satisfied: PySocks!=1.5.7,>=1.5.6 in /home/mihail/anaconda3/lib/python3.9/site-packages (from requests->botometer) (1.7.1)\n",
      "Installing collected packages: oauthlib, requests-oauthlib, tweepy, botometer\n",
      "Successfully installed botometer-1.6.1 oauthlib-3.2.0 requests-oauthlib-1.3.1 tweepy-3.10.0\n",
      "Note: you may need to restart the kernel to use updated packages.\n"
     ]
    }
   ],
   "source": [
    "pip install botometer"
   ]
  },
  {
   "cell_type": "code",
   "execution_count": 14,
   "metadata": {},
   "outputs": [
    {
     "data": {
      "text/html": [
       "<div>\n",
       "<style scoped>\n",
       "    .dataframe tbody tr th:only-of-type {\n",
       "        vertical-align: middle;\n",
       "    }\n",
       "\n",
       "    .dataframe tbody tr th {\n",
       "        vertical-align: top;\n",
       "    }\n",
       "\n",
       "    .dataframe thead th {\n",
       "        text-align: right;\n",
       "    }\n",
       "</style>\n",
       "<table border=\"1\" class=\"dataframe\">\n",
       "  <thead>\n",
       "    <tr style=\"text-align: right;\">\n",
       "      <th></th>\n",
       "      <th>id</th>\n",
       "      <th>original_id</th>\n",
       "      <th>tweet_text</th>\n",
       "      <th>tweet_url</th>\n",
       "      <th>claim</th>\n",
       "      <th>rating</th>\n",
       "      <th>images</th>\n",
       "      <th>text_images</th>\n",
       "      <th>source</th>\n",
       "      <th>label</th>\n",
       "      <th>label_info</th>\n",
       "      <th>available</th>\n",
       "      <th>acc_id</th>\n",
       "      <th>botometer</th>\n",
       "    </tr>\n",
       "  </thead>\n",
       "  <tbody>\n",
       "    <tr>\n",
       "      <th>0</th>\n",
       "      <td>1000037356836093953</td>\n",
       "      <td>1000023322481086466</td>\n",
       "      <td>Brave men died to keep us free. Radicals want ...</td>\n",
       "      <td>https://twitter.com/POTUS/status/1000037356836...</td>\n",
       "      <td>Liberals were offended by a World War I memori...</td>\n",
       "      <td>['https://www.snopes.com/tachyon/2018/03/ratin...</td>\n",
       "      <td>http://pbs.twimg.com/media/DeDL5a-XkAI7Hlw.jpg</td>\n",
       "      <td>#DontTearMeDown IRSTLIBERT . ORG DontTearMeDow...</td>\n",
       "      <td>https://www.snopes.com/fact-check/liberals-dem...</td>\n",
       "      <td>mixture</td>\n",
       "      <td>NaN</td>\n",
       "      <td>ok</td>\n",
       "      <td>3981225735</td>\n",
       "      <td>{'cap': {'english': 0.7759887465100499, 'unive...</td>\n",
       "    </tr>\n",
       "    <tr>\n",
       "      <th>1</th>\n",
       "      <td>1000098833798389760</td>\n",
       "      <td>1000059879682342912</td>\n",
       "      <td>“Stand for the National Anthem or be punished”...</td>\n",
       "      <td>https://twitter.com/POTUS/status/1000098833798...</td>\n",
       "      <td>A German football club was banned from playing...</td>\n",
       "      <td>['https://www.snopes.com/tachyon/2018/03/ratin...</td>\n",
       "      <td>http://pbs.twimg.com/media/DeDtKIRVAAA4kPm.jpg</td>\n",
       "      <td>FAILED TO GIVE NAZI SALUTE . German Football C...</td>\n",
       "      <td>https://www.snopes.com/fact-check/german-footb...</td>\n",
       "      <td>mostly-true-new</td>\n",
       "      <td>NaN</td>\n",
       "      <td>ok</td>\n",
       "      <td>1924071992</td>\n",
       "      <td>{'cap': {'english': 0.7759887465100499, 'unive...</td>\n",
       "    </tr>\n",
       "    <tr>\n",
       "      <th>2</th>\n",
       "      <td>1000158804795781120</td>\n",
       "      <td>1000073920760791040</td>\n",
       "      <td>@Humancipator35 @buddydusty @davidhogg111 🙌🏼 R...</td>\n",
       "      <td>https://twitter.com/POTUS/status/1000158804795...</td>\n",
       "      <td>Emma Gonz lez, a survivor of the Parkland scho...</td>\n",
       "      <td>['https://www.snopes.com/tachyon/2018/03/ratin...</td>\n",
       "      <td>http://pbs.twimg.com/media/DeD57XMV4AAUG4k.jpg</td>\n",
       "      <td>NaN</td>\n",
       "      <td>https://www.snopes.com/fact-check/emma-gonzale...</td>\n",
       "      <td>false</td>\n",
       "      <td>NaN</td>\n",
       "      <td>auth</td>\n",
       "      <td>924224208</td>\n",
       "      <td>{'cap': {'english': 0.30618807248975083, 'univ...</td>\n",
       "    </tr>\n",
       "    <tr>\n",
       "      <th>3</th>\n",
       "      <td>1000175568241872897</td>\n",
       "      <td>1000174645973315586</td>\n",
       "      <td>Just sayin'  #NFL https://t.co/70tFG5ieMC</td>\n",
       "      <td>https://twitter.com/POTUS/status/1000175568241...</td>\n",
       "      <td>A German football club was banned from playing...</td>\n",
       "      <td>['https://www.snopes.com/tachyon/2018/03/ratin...</td>\n",
       "      <td>http://pbs.twimg.com/media/DeFVdDlUwAA17qS.jpg</td>\n",
       "      <td>FAILED TO GIVE NAZI SALUTE . German Football C...</td>\n",
       "      <td>https://www.snopes.com/fact-check/german-footb...</td>\n",
       "      <td>mostly-true-new</td>\n",
       "      <td>NaN</td>\n",
       "      <td>auth</td>\n",
       "      <td>170735298</td>\n",
       "      <td>{'cap': {'english': 0.6763619064808265, 'unive...</td>\n",
       "    </tr>\n",
       "    <tr>\n",
       "      <th>4</th>\n",
       "      <td>1000438777792344067</td>\n",
       "      <td>1000191784797040640</td>\n",
       "      <td>Those who do not learn from history are doomed...</td>\n",
       "      <td>https://twitter.com/POTUS/status/1000438777792...</td>\n",
       "      <td>A German football club was banned from playing...</td>\n",
       "      <td>['https://www.snopes.com/tachyon/2018/03/ratin...</td>\n",
       "      <td>http://pbs.twimg.com/media/DeFkp5eU0AA2aLJ.jpg</td>\n",
       "      <td>pnting n the wo \" ' t WHY to win . nbor mu t n...</td>\n",
       "      <td>https://www.snopes.com/fact-check/german-footb...</td>\n",
       "      <td>mostly-true-new</td>\n",
       "      <td>NaN</td>\n",
       "      <td>ok</td>\n",
       "      <td>115563859</td>\n",
       "      <td>{'cap': {'english': 0.7668769621923945, 'unive...</td>\n",
       "    </tr>\n",
       "    <tr>\n",
       "      <th>...</th>\n",
       "      <td>...</td>\n",
       "      <td>...</td>\n",
       "      <td>...</td>\n",
       "      <td>...</td>\n",
       "      <td>...</td>\n",
       "      <td>...</td>\n",
       "      <td>...</td>\n",
       "      <td>...</td>\n",
       "      <td>...</td>\n",
       "      <td>...</td>\n",
       "      <td>...</td>\n",
       "      <td>...</td>\n",
       "      <td>...</td>\n",
       "      <td>...</td>\n",
       "    </tr>\n",
       "    <tr>\n",
       "      <th>6971</th>\n",
       "      <td>1000095067887910917</td>\n",
       "      <td>999866405687209984</td>\n",
       "      <td>History repeating itself with @realDonaldTrump...</td>\n",
       "      <td>https://twitter.com/POTUS/status/1000095067887...</td>\n",
       "      <td>A German football club was banned from playing...</td>\n",
       "      <td>['https://www.snopes.com/tachyon/2018/03/ratin...</td>\n",
       "      <td>http://pbs.twimg.com/media/DeA9KrlVwAEHtPB.jpg</td>\n",
       "      <td>FAILED TO GIVE NAZI SALUTE . German Football C...</td>\n",
       "      <td>https://www.snopes.com/fact-check/german-footb...</td>\n",
       "      <td>mostly-true-new</td>\n",
       "      <td>NaN</td>\n",
       "      <td>ok</td>\n",
       "      <td>550658726</td>\n",
       "      <td>NaN</td>\n",
       "    </tr>\n",
       "    <tr>\n",
       "      <th>6972</th>\n",
       "      <td>1000146882428096512</td>\n",
       "      <td>999903412425711616</td>\n",
       "      <td>I picked this up from someone here. Its🙄🤨🙄 wor...</td>\n",
       "      <td>https://twitter.com/POTUS/status/1000146882428...</td>\n",
       "      <td>A German football club was banned from playing...</td>\n",
       "      <td>['https://www.snopes.com/tachyon/2018/03/ratin...</td>\n",
       "      <td>http://pbs.twimg.com/media/DeBe1X5VAAI-Zhh.jpg</td>\n",
       "      <td>FAILED TO GIVE NAZI SALUTE . German Football C...</td>\n",
       "      <td>https://www.snopes.com/fact-check/german-footb...</td>\n",
       "      <td>mostly-true-new</td>\n",
       "      <td>NaN</td>\n",
       "      <td>ok</td>\n",
       "      <td>91743765</td>\n",
       "      <td>NaN</td>\n",
       "    </tr>\n",
       "    <tr>\n",
       "      <th>6973</th>\n",
       "      <td>1000018438184734720</td>\n",
       "      <td>999961946932723713</td>\n",
       "      <td>Trump is a criminal, a gangster using criminal...</td>\n",
       "      <td>https://twitter.com/POTUS/status/1000018438184...</td>\n",
       "      <td>Notorious mobster Al Capone demanded an inquir...</td>\n",
       "      <td>['https://www.snopes.com/tachyon/2018/03/ratin...</td>\n",
       "      <td>http://pbs.twimg.com/media/DeCUF2ZV4AAMm0Z.jpg</td>\n",
       "      <td>Ci ) icago Sunday Cribune INAL 17 . Capone Dem...</td>\n",
       "      <td>https://www.snopes.com/fact-check/did-al-capon...</td>\n",
       "      <td>false</td>\n",
       "      <td>NaN</td>\n",
       "      <td>missing</td>\n",
       "      <td>881682896607600640</td>\n",
       "      <td>NaN</td>\n",
       "    </tr>\n",
       "    <tr>\n",
       "      <th>6974</th>\n",
       "      <td>999992400725585920</td>\n",
       "      <td>999962442141782016</td>\n",
       "      <td>@VP @NFL @POTUS The only thing that’s #Winning...</td>\n",
       "      <td>https://twitter.com/POTUS/status/9999924007255...</td>\n",
       "      <td>Baseball players in the 1950s were caught on c...</td>\n",
       "      <td>['https://www.snopes.com/tachyon/2018/03/ratin...</td>\n",
       "      <td>http://pbs.twimg.com/media/DeCUiW3VwAAQbyx.jpg</td>\n",
       "      <td>White Baseball Players Kneel in the 50 ' s to ...</td>\n",
       "      <td>https://www.snopes.com/fact-check/baseball-pla...</td>\n",
       "      <td>false</td>\n",
       "      <td>NaN</td>\n",
       "      <td>auth</td>\n",
       "      <td>115748564</td>\n",
       "      <td>NaN</td>\n",
       "    </tr>\n",
       "    <tr>\n",
       "      <th>6975</th>\n",
       "      <td>1000035228679852032</td>\n",
       "      <td>999973815655518213</td>\n",
       "      <td>@mjfree Sports has been used as a means of pro...</td>\n",
       "      <td>https://twitter.com/POTUS/status/1000035228679...</td>\n",
       "      <td>Baseball players in the 1950s were caught on c...</td>\n",
       "      <td>['https://www.snopes.com/tachyon/2018/03/ratin...</td>\n",
       "      <td>http://pbs.twimg.com/media/DeCejk4WkAMruuM.jpg</td>\n",
       "      <td>White Baseball Players Kneel in the 50 ' s to ...</td>\n",
       "      <td>https://www.snopes.com/fact-check/baseball-pla...</td>\n",
       "      <td>false</td>\n",
       "      <td>NaN</td>\n",
       "      <td>ok</td>\n",
       "      <td>518227176</td>\n",
       "      <td>NaN</td>\n",
       "    </tr>\n",
       "  </tbody>\n",
       "</table>\n",
       "<p>6976 rows × 14 columns</p>\n",
       "</div>"
      ],
      "text/plain": [
       "                       id          original_id  \\\n",
       "0     1000037356836093953  1000023322481086466   \n",
       "1     1000098833798389760  1000059879682342912   \n",
       "2     1000158804795781120  1000073920760791040   \n",
       "3     1000175568241872897  1000174645973315586   \n",
       "4     1000438777792344067  1000191784797040640   \n",
       "...                   ...                  ...   \n",
       "6971  1000095067887910917   999866405687209984   \n",
       "6972  1000146882428096512   999903412425711616   \n",
       "6973  1000018438184734720   999961946932723713   \n",
       "6974   999992400725585920   999962442141782016   \n",
       "6975  1000035228679852032   999973815655518213   \n",
       "\n",
       "                                             tweet_text  \\\n",
       "0     Brave men died to keep us free. Radicals want ...   \n",
       "1     “Stand for the National Anthem or be punished”...   \n",
       "2     @Humancipator35 @buddydusty @davidhogg111 🙌🏼 R...   \n",
       "3             Just sayin'  #NFL https://t.co/70tFG5ieMC   \n",
       "4     Those who do not learn from history are doomed...   \n",
       "...                                                 ...   \n",
       "6971  History repeating itself with @realDonaldTrump...   \n",
       "6972  I picked this up from someone here. Its🙄🤨🙄 wor...   \n",
       "6973  Trump is a criminal, a gangster using criminal...   \n",
       "6974  @VP @NFL @POTUS The only thing that’s #Winning...   \n",
       "6975  @mjfree Sports has been used as a means of pro...   \n",
       "\n",
       "                                              tweet_url  \\\n",
       "0     https://twitter.com/POTUS/status/1000037356836...   \n",
       "1     https://twitter.com/POTUS/status/1000098833798...   \n",
       "2     https://twitter.com/POTUS/status/1000158804795...   \n",
       "3     https://twitter.com/POTUS/status/1000175568241...   \n",
       "4     https://twitter.com/POTUS/status/1000438777792...   \n",
       "...                                                 ...   \n",
       "6971  https://twitter.com/POTUS/status/1000095067887...   \n",
       "6972  https://twitter.com/POTUS/status/1000146882428...   \n",
       "6973  https://twitter.com/POTUS/status/1000018438184...   \n",
       "6974  https://twitter.com/POTUS/status/9999924007255...   \n",
       "6975  https://twitter.com/POTUS/status/1000035228679...   \n",
       "\n",
       "                                                  claim  \\\n",
       "0     Liberals were offended by a World War I memori...   \n",
       "1     A German football club was banned from playing...   \n",
       "2     Emma Gonz lez, a survivor of the Parkland scho...   \n",
       "3     A German football club was banned from playing...   \n",
       "4     A German football club was banned from playing...   \n",
       "...                                                 ...   \n",
       "6971  A German football club was banned from playing...   \n",
       "6972  A German football club was banned from playing...   \n",
       "6973  Notorious mobster Al Capone demanded an inquir...   \n",
       "6974  Baseball players in the 1950s were caught on c...   \n",
       "6975  Baseball players in the 1950s were caught on c...   \n",
       "\n",
       "                                                 rating  \\\n",
       "0     ['https://www.snopes.com/tachyon/2018/03/ratin...   \n",
       "1     ['https://www.snopes.com/tachyon/2018/03/ratin...   \n",
       "2     ['https://www.snopes.com/tachyon/2018/03/ratin...   \n",
       "3     ['https://www.snopes.com/tachyon/2018/03/ratin...   \n",
       "4     ['https://www.snopes.com/tachyon/2018/03/ratin...   \n",
       "...                                                 ...   \n",
       "6971  ['https://www.snopes.com/tachyon/2018/03/ratin...   \n",
       "6972  ['https://www.snopes.com/tachyon/2018/03/ratin...   \n",
       "6973  ['https://www.snopes.com/tachyon/2018/03/ratin...   \n",
       "6974  ['https://www.snopes.com/tachyon/2018/03/ratin...   \n",
       "6975  ['https://www.snopes.com/tachyon/2018/03/ratin...   \n",
       "\n",
       "                                              images  \\\n",
       "0     http://pbs.twimg.com/media/DeDL5a-XkAI7Hlw.jpg   \n",
       "1     http://pbs.twimg.com/media/DeDtKIRVAAA4kPm.jpg   \n",
       "2     http://pbs.twimg.com/media/DeD57XMV4AAUG4k.jpg   \n",
       "3     http://pbs.twimg.com/media/DeFVdDlUwAA17qS.jpg   \n",
       "4     http://pbs.twimg.com/media/DeFkp5eU0AA2aLJ.jpg   \n",
       "...                                              ...   \n",
       "6971  http://pbs.twimg.com/media/DeA9KrlVwAEHtPB.jpg   \n",
       "6972  http://pbs.twimg.com/media/DeBe1X5VAAI-Zhh.jpg   \n",
       "6973  http://pbs.twimg.com/media/DeCUF2ZV4AAMm0Z.jpg   \n",
       "6974  http://pbs.twimg.com/media/DeCUiW3VwAAQbyx.jpg   \n",
       "6975  http://pbs.twimg.com/media/DeCejk4WkAMruuM.jpg   \n",
       "\n",
       "                                            text_images  \\\n",
       "0     #DontTearMeDown IRSTLIBERT . ORG DontTearMeDow...   \n",
       "1     FAILED TO GIVE NAZI SALUTE . German Football C...   \n",
       "2                                                   NaN   \n",
       "3     FAILED TO GIVE NAZI SALUTE . German Football C...   \n",
       "4     pnting n the wo \" ' t WHY to win . nbor mu t n...   \n",
       "...                                                 ...   \n",
       "6971  FAILED TO GIVE NAZI SALUTE . German Football C...   \n",
       "6972  FAILED TO GIVE NAZI SALUTE . German Football C...   \n",
       "6973  Ci ) icago Sunday Cribune INAL 17 . Capone Dem...   \n",
       "6974  White Baseball Players Kneel in the 50 ' s to ...   \n",
       "6975  White Baseball Players Kneel in the 50 ' s to ...   \n",
       "\n",
       "                                                 source            label  \\\n",
       "0     https://www.snopes.com/fact-check/liberals-dem...          mixture   \n",
       "1     https://www.snopes.com/fact-check/german-footb...  mostly-true-new   \n",
       "2     https://www.snopes.com/fact-check/emma-gonzale...            false   \n",
       "3     https://www.snopes.com/fact-check/german-footb...  mostly-true-new   \n",
       "4     https://www.snopes.com/fact-check/german-footb...  mostly-true-new   \n",
       "...                                                 ...              ...   \n",
       "6971  https://www.snopes.com/fact-check/german-footb...  mostly-true-new   \n",
       "6972  https://www.snopes.com/fact-check/german-footb...  mostly-true-new   \n",
       "6973  https://www.snopes.com/fact-check/did-al-capon...            false   \n",
       "6974  https://www.snopes.com/fact-check/baseball-pla...            false   \n",
       "6975  https://www.snopes.com/fact-check/baseball-pla...            false   \n",
       "\n",
       "      label_info available              acc_id  \\\n",
       "0            NaN        ok          3981225735   \n",
       "1            NaN        ok          1924071992   \n",
       "2            NaN      auth           924224208   \n",
       "3            NaN      auth           170735298   \n",
       "4            NaN        ok           115563859   \n",
       "...          ...       ...                 ...   \n",
       "6971         NaN        ok           550658726   \n",
       "6972         NaN        ok            91743765   \n",
       "6973         NaN   missing  881682896607600640   \n",
       "6974         NaN      auth           115748564   \n",
       "6975         NaN        ok           518227176   \n",
       "\n",
       "                                              botometer  \n",
       "0     {'cap': {'english': 0.7759887465100499, 'unive...  \n",
       "1     {'cap': {'english': 0.7759887465100499, 'unive...  \n",
       "2     {'cap': {'english': 0.30618807248975083, 'univ...  \n",
       "3     {'cap': {'english': 0.6763619064808265, 'unive...  \n",
       "4     {'cap': {'english': 0.7668769621923945, 'unive...  \n",
       "...                                                 ...  \n",
       "6971                                                NaN  \n",
       "6972                                                NaN  \n",
       "6973                                                NaN  \n",
       "6974                                                NaN  \n",
       "6975                                                NaN  \n",
       "\n",
       "[6976 rows x 14 columns]"
      ]
     },
     "execution_count": 14,
     "metadata": {},
     "output_type": "execute_result"
    }
   ],
   "source": [
    "df"
   ]
  },
  {
   "cell_type": "code",
   "execution_count": 25,
   "metadata": {},
   "outputs": [
    {
     "name": "stderr",
     "output_type": "stream",
     "text": [
      "0it [00:00, ?it/s]"
     ]
    },
    {
     "name": "stdout",
     "output_type": "stream",
     "text": [
      "5157\n"
     ]
    },
    {
     "name": "stderr",
     "output_type": "stream",
     "text": [
      "5158it [00:04, 1077.64it/s]"
     ]
    },
    {
     "name": "stdout",
     "output_type": "stream",
     "text": [
      "5158\n",
      "5159\n",
      "5160\n",
      "5161\n"
     ]
    },
    {
     "name": "stderr",
     "output_type": "stream",
     "text": [
      "5162it [00:25, 150.41it/s] "
     ]
    },
    {
     "name": "stdout",
     "output_type": "stream",
     "text": [
      "5162\n"
     ]
    },
    {
     "name": "stderr",
     "output_type": "stream",
     "text": [
      "5163it [00:28, 129.91it/s]"
     ]
    },
    {
     "name": "stdout",
     "output_type": "stream",
     "text": [
      "5163\n",
      "5164\n",
      "5165\n"
     ]
    },
    {
     "name": "stderr",
     "output_type": "stream",
     "text": [
      "5166it [00:42, 62.97it/s] "
     ]
    },
    {
     "name": "stdout",
     "output_type": "stream",
     "text": [
      "5166\n"
     ]
    },
    {
     "name": "stderr",
     "output_type": "stream",
     "text": [
      "5167it [00:47, 50.89it/s]"
     ]
    },
    {
     "name": "stdout",
     "output_type": "stream",
     "text": [
      "5167\n",
      "5168\n",
      "5169\n",
      "5170\n"
     ]
    },
    {
     "name": "stderr",
     "output_type": "stream",
     "text": [
      "5171it [01:04, 25.34it/s]"
     ]
    },
    {
     "name": "stdout",
     "output_type": "stream",
     "text": [
      "5171\n"
     ]
    },
    {
     "name": "stderr",
     "output_type": "stream",
     "text": [
      "5172it [01:08, 21.99it/s]"
     ]
    },
    {
     "name": "stdout",
     "output_type": "stream",
     "text": [
      "5172\n",
      "Failed on account: 832675998030192640\n",
      "[{'code': 34, 'message': 'Sorry, that page does not exist.'}]\n",
      "5173\n",
      "5174\n",
      "5175\n",
      "5176\n"
     ]
    },
    {
     "name": "stderr",
     "output_type": "stream",
     "text": [
      "5177it [01:23, 12.41it/s]"
     ]
    },
    {
     "name": "stdout",
     "output_type": "stream",
     "text": [
      "5177\n"
     ]
    },
    {
     "name": "stderr",
     "output_type": "stream",
     "text": [
      "5178it [01:29, 10.24it/s]"
     ]
    },
    {
     "name": "stdout",
     "output_type": "stream",
     "text": [
      "5178\n",
      "5179\n",
      "5180\n"
     ]
    },
    {
     "name": "stderr",
     "output_type": "stream",
     "text": [
      "5181it [01:43,  6.17it/s]"
     ]
    },
    {
     "name": "stdout",
     "output_type": "stream",
     "text": [
      "5181\n"
     ]
    },
    {
     "name": "stderr",
     "output_type": "stream",
     "text": [
      "5182it [01:47,  5.33it/s]"
     ]
    },
    {
     "name": "stdout",
     "output_type": "stream",
     "text": [
      "5182\n",
      "5183\n"
     ]
    },
    {
     "name": "stderr",
     "output_type": "stream",
     "text": [
      "5184it [02:02,  3.15it/s]"
     ]
    },
    {
     "name": "stdout",
     "output_type": "stream",
     "text": [
      "5184\n"
     ]
    },
    {
     "name": "stderr",
     "output_type": "stream",
     "text": [
      "5185it [02:06,  2.74it/s]"
     ]
    },
    {
     "name": "stdout",
     "output_type": "stream",
     "text": [
      "5185\n",
      "5186\n",
      "5187\n",
      "5188\n"
     ]
    },
    {
     "name": "stderr",
     "output_type": "stream",
     "text": [
      "5189it [02:23,  1.55it/s]"
     ]
    },
    {
     "name": "stdout",
     "output_type": "stream",
     "text": [
      "5189\n"
     ]
    },
    {
     "name": "stderr",
     "output_type": "stream",
     "text": [
      "5190it [02:27,  1.37it/s]"
     ]
    },
    {
     "name": "stdout",
     "output_type": "stream",
     "text": [
      "5190\n",
      "5191\n",
      "5192\n"
     ]
    },
    {
     "name": "stderr",
     "output_type": "stream",
     "text": [
      "5193it [02:41,  1.07s/it]"
     ]
    },
    {
     "name": "stdout",
     "output_type": "stream",
     "text": [
      "5193\n"
     ]
    },
    {
     "name": "stderr",
     "output_type": "stream",
     "text": [
      "5194it [02:45,  1.22s/it]"
     ]
    },
    {
     "name": "stdout",
     "output_type": "stream",
     "text": [
      "5194\n",
      "5195\n"
     ]
    },
    {
     "name": "stderr",
     "output_type": "stream",
     "text": [
      "5196it [02:54,  1.56s/it]"
     ]
    },
    {
     "name": "stdout",
     "output_type": "stream",
     "text": [
      "5196\n",
      "5197\n"
     ]
    },
    {
     "name": "stderr",
     "output_type": "stream",
     "text": [
      "5198it [03:03,  1.95s/it]"
     ]
    },
    {
     "name": "stdout",
     "output_type": "stream",
     "text": [
      "5198\n"
     ]
    },
    {
     "name": "stderr",
     "output_type": "stream",
     "text": [
      "5199it [03:07,  2.10s/it]"
     ]
    },
    {
     "name": "stdout",
     "output_type": "stream",
     "text": [
      "5199\n"
     ]
    },
    {
     "name": "stderr",
     "output_type": "stream",
     "text": [
      "5200it [03:11,  2.35s/it]"
     ]
    },
    {
     "name": "stdout",
     "output_type": "stream",
     "text": [
      "5200\n"
     ]
    },
    {
     "name": "stderr",
     "output_type": "stream",
     "text": [
      "5201it [03:16,  2.70s/it]"
     ]
    },
    {
     "name": "stdout",
     "output_type": "stream",
     "text": [
      "5201\n"
     ]
    },
    {
     "name": "stderr",
     "output_type": "stream",
     "text": [
      "5202it [03:20,  2.95s/it]"
     ]
    },
    {
     "name": "stdout",
     "output_type": "stream",
     "text": [
      "5202\n"
     ]
    },
    {
     "name": "stderr",
     "output_type": "stream",
     "text": [
      "5203it [03:26,  3.53s/it]"
     ]
    },
    {
     "name": "stdout",
     "output_type": "stream",
     "text": [
      "5203\n"
     ]
    },
    {
     "name": "stderr",
     "output_type": "stream",
     "text": [
      "5204it [03:30,  3.59s/it]"
     ]
    },
    {
     "name": "stdout",
     "output_type": "stream",
     "text": [
      "5204\n"
     ]
    },
    {
     "name": "stderr",
     "output_type": "stream",
     "text": [
      "5205it [03:34,  3.68s/it]"
     ]
    },
    {
     "name": "stdout",
     "output_type": "stream",
     "text": [
      "5205\n"
     ]
    },
    {
     "name": "stderr",
     "output_type": "stream",
     "text": [
      "5206it [03:37,  3.58s/it]"
     ]
    },
    {
     "name": "stdout",
     "output_type": "stream",
     "text": [
      "5206\n"
     ]
    },
    {
     "name": "stderr",
     "output_type": "stream",
     "text": [
      "5207it [03:41,  3.77s/it]"
     ]
    },
    {
     "name": "stdout",
     "output_type": "stream",
     "text": [
      "5207\n"
     ]
    },
    {
     "name": "stderr",
     "output_type": "stream",
     "text": [
      "5208it [03:46,  3.97s/it]"
     ]
    },
    {
     "name": "stdout",
     "output_type": "stream",
     "text": [
      "5208\n"
     ]
    },
    {
     "name": "stderr",
     "output_type": "stream",
     "text": [
      "5209it [03:50,  4.11s/it]"
     ]
    },
    {
     "name": "stdout",
     "output_type": "stream",
     "text": [
      "5209\n"
     ]
    },
    {
     "name": "stderr",
     "output_type": "stream",
     "text": [
      "5210it [03:56,  4.52s/it]"
     ]
    },
    {
     "name": "stdout",
     "output_type": "stream",
     "text": [
      "5210\n"
     ]
    },
    {
     "name": "stderr",
     "output_type": "stream",
     "text": [
      "5211it [04:01,  4.58s/it]"
     ]
    },
    {
     "name": "stdout",
     "output_type": "stream",
     "text": [
      "5211\n"
     ]
    },
    {
     "name": "stderr",
     "output_type": "stream",
     "text": [
      "5212it [04:01,  3.33s/it]"
     ]
    },
    {
     "name": "stdout",
     "output_type": "stream",
     "text": [
      "Failed on account: 819803813146042368\n",
      "[{'code': 34, 'message': 'Sorry, that page does not exist.'}]\n",
      "5212\n"
     ]
    },
    {
     "name": "stderr",
     "output_type": "stream",
     "text": [
      "5213it [04:05,  3.68s/it]"
     ]
    },
    {
     "name": "stdout",
     "output_type": "stream",
     "text": [
      "5213\n"
     ]
    },
    {
     "name": "stderr",
     "output_type": "stream",
     "text": [
      "5214it [04:10,  3.80s/it]"
     ]
    },
    {
     "name": "stdout",
     "output_type": "stream",
     "text": [
      "5214\n"
     ]
    },
    {
     "name": "stderr",
     "output_type": "stream",
     "text": [
      "5215it [04:13,  3.70s/it]"
     ]
    },
    {
     "name": "stdout",
     "output_type": "stream",
     "text": [
      "5215\n"
     ]
    },
    {
     "name": "stderr",
     "output_type": "stream",
     "text": [
      "5216it [04:17,  3.82s/it]"
     ]
    },
    {
     "name": "stdout",
     "output_type": "stream",
     "text": [
      "5216\n"
     ]
    },
    {
     "name": "stderr",
     "output_type": "stream",
     "text": [
      "5217it [04:17,  2.75s/it]"
     ]
    },
    {
     "name": "stdout",
     "output_type": "stream",
     "text": [
      "Failed on account: 824142768603807744\n",
      "[{'code': 34, 'message': 'Sorry, that page does not exist.'}]\n",
      "5217\n"
     ]
    },
    {
     "name": "stderr",
     "output_type": "stream",
     "text": [
      "5218it [04:18,  2.01s/it]"
     ]
    },
    {
     "name": "stdout",
     "output_type": "stream",
     "text": [
      "Failed on account: 863411205377052672\n",
      "[{'code': 34, 'message': 'Sorry, that page does not exist.'}]\n",
      "5218\n"
     ]
    },
    {
     "name": "stderr",
     "output_type": "stream",
     "text": [
      "5219it [04:21,  2.39s/it]"
     ]
    },
    {
     "name": "stdout",
     "output_type": "stream",
     "text": [
      "5219\n"
     ]
    },
    {
     "name": "stderr",
     "output_type": "stream",
     "text": [
      "5220it [04:27,  3.40s/it]"
     ]
    },
    {
     "name": "stdout",
     "output_type": "stream",
     "text": [
      "5220\n"
     ]
    },
    {
     "name": "stderr",
     "output_type": "stream",
     "text": [
      "5221it [04:32,  4.08s/it]"
     ]
    },
    {
     "name": "stdout",
     "output_type": "stream",
     "text": [
      "5221\n"
     ]
    },
    {
     "name": "stderr",
     "output_type": "stream",
     "text": [
      "5222it [04:38,  4.53s/it]"
     ]
    },
    {
     "name": "stdout",
     "output_type": "stream",
     "text": [
      "5222\n"
     ]
    },
    {
     "name": "stderr",
     "output_type": "stream",
     "text": [
      "5223it [04:42,  4.27s/it]"
     ]
    },
    {
     "name": "stdout",
     "output_type": "stream",
     "text": [
      "5223\n"
     ]
    },
    {
     "name": "stderr",
     "output_type": "stream",
     "text": [
      "5224it [04:46,  4.40s/it]"
     ]
    },
    {
     "name": "stdout",
     "output_type": "stream",
     "text": [
      "5224\n"
     ]
    },
    {
     "name": "stderr",
     "output_type": "stream",
     "text": [
      "5225it [04:51,  4.51s/it]"
     ]
    },
    {
     "name": "stdout",
     "output_type": "stream",
     "text": [
      "5225\n"
     ]
    },
    {
     "name": "stderr",
     "output_type": "stream",
     "text": [
      "5226it [04:56,  4.59s/it]"
     ]
    },
    {
     "name": "stdout",
     "output_type": "stream",
     "text": [
      "5226\n"
     ]
    },
    {
     "name": "stderr",
     "output_type": "stream",
     "text": [
      "5227it [05:01,  4.78s/it]"
     ]
    },
    {
     "name": "stdout",
     "output_type": "stream",
     "text": [
      "5227\n"
     ]
    },
    {
     "name": "stderr",
     "output_type": "stream",
     "text": [
      "5228it [05:01,  3.44s/it]"
     ]
    },
    {
     "name": "stdout",
     "output_type": "stream",
     "text": [
      "Failed on account: 53315324\n",
      "Not authorized.\n",
      "5228\n"
     ]
    },
    {
     "name": "stderr",
     "output_type": "stream",
     "text": [
      "5229it [05:06,  3.76s/it]"
     ]
    },
    {
     "name": "stdout",
     "output_type": "stream",
     "text": [
      "5229\n"
     ]
    },
    {
     "name": "stderr",
     "output_type": "stream",
     "text": [
      "5230it [05:10,  3.92s/it]"
     ]
    },
    {
     "name": "stdout",
     "output_type": "stream",
     "text": [
      "5230\n"
     ]
    },
    {
     "name": "stderr",
     "output_type": "stream",
     "text": [
      "5231it [05:15,  4.10s/it]"
     ]
    },
    {
     "name": "stdout",
     "output_type": "stream",
     "text": [
      "5231\n"
     ]
    },
    {
     "name": "stderr",
     "output_type": "stream",
     "text": [
      "5232it [05:19,  4.23s/it]"
     ]
    },
    {
     "name": "stdout",
     "output_type": "stream",
     "text": [
      "5232\n"
     ]
    },
    {
     "name": "stderr",
     "output_type": "stream",
     "text": [
      "5233it [05:23,  4.01s/it]"
     ]
    },
    {
     "name": "stdout",
     "output_type": "stream",
     "text": [
      "5233\n"
     ]
    },
    {
     "name": "stderr",
     "output_type": "stream",
     "text": [
      "5234it [05:27,  3.96s/it]"
     ]
    },
    {
     "name": "stdout",
     "output_type": "stream",
     "text": [
      "5234\n"
     ]
    },
    {
     "name": "stderr",
     "output_type": "stream",
     "text": [
      "5235it [05:32,  4.37s/it]"
     ]
    },
    {
     "name": "stdout",
     "output_type": "stream",
     "text": [
      "5235\n"
     ]
    },
    {
     "name": "stderr",
     "output_type": "stream",
     "text": [
      "5236it [05:32,  3.16s/it]"
     ]
    },
    {
     "name": "stdout",
     "output_type": "stream",
     "text": [
      "Failed on account: 832675998030192640\n",
      "[{'code': 34, 'message': 'Sorry, that page does not exist.'}]\n",
      "5236\n"
     ]
    },
    {
     "name": "stderr",
     "output_type": "stream",
     "text": [
      "5237it [05:37,  3.55s/it]"
     ]
    },
    {
     "name": "stdout",
     "output_type": "stream",
     "text": [
      "5237\n"
     ]
    },
    {
     "name": "stderr",
     "output_type": "stream",
     "text": [
      "5238it [05:41,  3.65s/it]"
     ]
    },
    {
     "name": "stdout",
     "output_type": "stream",
     "text": [
      "5238\n"
     ]
    },
    {
     "name": "stderr",
     "output_type": "stream",
     "text": [
      "5239it [05:45,  4.03s/it]"
     ]
    },
    {
     "name": "stdout",
     "output_type": "stream",
     "text": [
      "5239\n"
     ]
    },
    {
     "name": "stderr",
     "output_type": "stream",
     "text": [
      "5240it [05:50,  4.08s/it]"
     ]
    },
    {
     "name": "stdout",
     "output_type": "stream",
     "text": [
      "5240\n"
     ]
    },
    {
     "name": "stderr",
     "output_type": "stream",
     "text": [
      "5241it [05:53,  3.90s/it]"
     ]
    },
    {
     "name": "stdout",
     "output_type": "stream",
     "text": [
      "5241\n"
     ]
    },
    {
     "name": "stderr",
     "output_type": "stream",
     "text": [
      "5242it [05:57,  3.93s/it]"
     ]
    },
    {
     "name": "stdout",
     "output_type": "stream",
     "text": [
      "5242\n"
     ]
    },
    {
     "name": "stderr",
     "output_type": "stream",
     "text": [
      "5243it [06:03,  4.39s/it]"
     ]
    },
    {
     "name": "stdout",
     "output_type": "stream",
     "text": [
      "5243\n"
     ]
    },
    {
     "name": "stderr",
     "output_type": "stream",
     "text": [
      "5244it [06:07,  4.35s/it]"
     ]
    },
    {
     "name": "stdout",
     "output_type": "stream",
     "text": [
      "5244\n"
     ]
    },
    {
     "name": "stderr",
     "output_type": "stream",
     "text": [
      "5245it [06:07,  3.11s/it]"
     ]
    },
    {
     "name": "stdout",
     "output_type": "stream",
     "text": [
      "Failed on account: 929096352390250368\n",
      "[{'code': 34, 'message': 'Sorry, that page does not exist.'}]\n",
      "5245\n"
     ]
    },
    {
     "name": "stderr",
     "output_type": "stream",
     "text": [
      "5246it [06:07,  2.24s/it]"
     ]
    },
    {
     "name": "stdout",
     "output_type": "stream",
     "text": [
      "Failed on account: 929096352390250368\n",
      "[{'code': 34, 'message': 'Sorry, that page does not exist.'}]\n",
      "5246\n"
     ]
    },
    {
     "name": "stderr",
     "output_type": "stream",
     "text": [
      "5247it [06:13,  3.22s/it]"
     ]
    },
    {
     "name": "stdout",
     "output_type": "stream",
     "text": [
      "5247\n"
     ]
    },
    {
     "name": "stderr",
     "output_type": "stream",
     "text": [
      "5248it [06:16,  3.29s/it]"
     ]
    },
    {
     "name": "stdout",
     "output_type": "stream",
     "text": [
      "5248\n"
     ]
    },
    {
     "name": "stderr",
     "output_type": "stream",
     "text": [
      "5249it [06:20,  3.42s/it]"
     ]
    },
    {
     "name": "stdout",
     "output_type": "stream",
     "text": [
      "5249\n"
     ]
    },
    {
     "name": "stderr",
     "output_type": "stream",
     "text": [
      "5250it [06:24,  3.65s/it]"
     ]
    },
    {
     "name": "stdout",
     "output_type": "stream",
     "text": [
      "5250\n"
     ]
    },
    {
     "name": "stderr",
     "output_type": "stream",
     "text": [
      "5251it [06:29,  3.90s/it]"
     ]
    },
    {
     "name": "stdout",
     "output_type": "stream",
     "text": [
      "5251\n"
     ]
    },
    {
     "name": "stderr",
     "output_type": "stream",
     "text": [
      "5252it [06:29,  2.80s/it]"
     ]
    },
    {
     "name": "stdout",
     "output_type": "stream",
     "text": [
      "Failed on account: 933419714294046848\n",
      "[{'code': 34, 'message': 'Sorry, that page does not exist.'}]\n",
      "5252\n"
     ]
    },
    {
     "name": "stderr",
     "output_type": "stream",
     "text": [
      "5253it [06:33,  3.07s/it]"
     ]
    },
    {
     "name": "stdout",
     "output_type": "stream",
     "text": [
      "5253\n"
     ]
    },
    {
     "name": "stderr",
     "output_type": "stream",
     "text": [
      "5254it [06:37,  3.48s/it]"
     ]
    },
    {
     "name": "stdout",
     "output_type": "stream",
     "text": [
      "5254\n"
     ]
    },
    {
     "name": "stderr",
     "output_type": "stream",
     "text": [
      "5255it [06:43,  4.24s/it]"
     ]
    },
    {
     "name": "stdout",
     "output_type": "stream",
     "text": [
      "5255\n"
     ]
    },
    {
     "name": "stderr",
     "output_type": "stream",
     "text": [
      "5256it [06:43,  3.06s/it]"
     ]
    },
    {
     "name": "stdout",
     "output_type": "stream",
     "text": [
      "Failed on account: 881038430825701376\n",
      "[{'code': 34, 'message': 'Sorry, that page does not exist.'}]\n",
      "5256\n"
     ]
    },
    {
     "name": "stderr",
     "output_type": "stream",
     "text": [
      "5257it [06:47,  3.18s/it]"
     ]
    },
    {
     "name": "stdout",
     "output_type": "stream",
     "text": [
      "5257\n"
     ]
    },
    {
     "name": "stderr",
     "output_type": "stream",
     "text": [
      "5258it [06:51,  3.42s/it]"
     ]
    },
    {
     "name": "stdout",
     "output_type": "stream",
     "text": [
      "5258\n"
     ]
    },
    {
     "name": "stderr",
     "output_type": "stream",
     "text": [
      "5259it [06:56,  3.82s/it]"
     ]
    },
    {
     "name": "stdout",
     "output_type": "stream",
     "text": [
      "5259\n"
     ]
    },
    {
     "name": "stderr",
     "output_type": "stream",
     "text": [
      "5260it [06:59,  3.83s/it]"
     ]
    },
    {
     "name": "stdout",
     "output_type": "stream",
     "text": [
      "5260\n"
     ]
    },
    {
     "name": "stderr",
     "output_type": "stream",
     "text": [
      "5261it [07:04,  3.94s/it]"
     ]
    },
    {
     "name": "stdout",
     "output_type": "stream",
     "text": [
      "5261\n"
     ]
    },
    {
     "name": "stderr",
     "output_type": "stream",
     "text": [
      "5262it [07:08,  3.99s/it]"
     ]
    },
    {
     "name": "stdout",
     "output_type": "stream",
     "text": [
      "5262\n"
     ]
    },
    {
     "name": "stderr",
     "output_type": "stream",
     "text": [
      "5263it [07:12,  4.11s/it]"
     ]
    },
    {
     "name": "stdout",
     "output_type": "stream",
     "text": [
      "5263\n"
     ]
    },
    {
     "name": "stderr",
     "output_type": "stream",
     "text": [
      "5264it [07:16,  4.17s/it]"
     ]
    },
    {
     "name": "stdout",
     "output_type": "stream",
     "text": [
      "5264\n"
     ]
    },
    {
     "name": "stderr",
     "output_type": "stream",
     "text": [
      "5265it [07:20,  4.08s/it]"
     ]
    },
    {
     "name": "stdout",
     "output_type": "stream",
     "text": [
      "5265\n"
     ]
    },
    {
     "name": "stderr",
     "output_type": "stream",
     "text": [
      "5266it [07:21,  2.92s/it]"
     ]
    },
    {
     "name": "stdout",
     "output_type": "stream",
     "text": [
      "Failed on account: 940634713173225600\n",
      "[{'code': 34, 'message': 'Sorry, that page does not exist.'}]\n",
      "5266\n"
     ]
    },
    {
     "name": "stderr",
     "output_type": "stream",
     "text": [
      "5267it [07:25,  3.46s/it]"
     ]
    },
    {
     "name": "stdout",
     "output_type": "stream",
     "text": [
      "5267\n"
     ]
    },
    {
     "name": "stderr",
     "output_type": "stream",
     "text": [
      "5268it [07:29,  3.65s/it]"
     ]
    },
    {
     "name": "stdout",
     "output_type": "stream",
     "text": [
      "5268\n"
     ]
    },
    {
     "name": "stderr",
     "output_type": "stream",
     "text": [
      "5269it [07:35,  4.15s/it]"
     ]
    },
    {
     "name": "stdout",
     "output_type": "stream",
     "text": [
      "5269\n"
     ]
    },
    {
     "name": "stderr",
     "output_type": "stream",
     "text": [
      "5270it [07:35,  2.98s/it]"
     ]
    },
    {
     "name": "stdout",
     "output_type": "stream",
     "text": [
      "Failed on account: 810698204375293952\n",
      "[{'code': 34, 'message': 'Sorry, that page does not exist.'}]\n",
      "5270\n"
     ]
    },
    {
     "name": "stderr",
     "output_type": "stream",
     "text": [
      "5271it [07:38,  3.09s/it]"
     ]
    },
    {
     "name": "stdout",
     "output_type": "stream",
     "text": [
      "5271\n"
     ]
    },
    {
     "name": "stderr",
     "output_type": "stream",
     "text": [
      "5272it [07:42,  3.37s/it]"
     ]
    },
    {
     "name": "stdout",
     "output_type": "stream",
     "text": [
      "5272\n"
     ]
    },
    {
     "name": "stderr",
     "output_type": "stream",
     "text": [
      "5273it [07:47,  3.90s/it]"
     ]
    },
    {
     "name": "stdout",
     "output_type": "stream",
     "text": [
      "5273\n"
     ]
    },
    {
     "name": "stderr",
     "output_type": "stream",
     "text": [
      "5274it [07:54,  4.74s/it]"
     ]
    },
    {
     "name": "stdout",
     "output_type": "stream",
     "text": [
      "5274\n"
     ]
    },
    {
     "name": "stderr",
     "output_type": "stream",
     "text": [
      "5275it [07:54,  3.41s/it]"
     ]
    },
    {
     "name": "stdout",
     "output_type": "stream",
     "text": [
      "Failed on account: 881733457067552768\n",
      "[{'code': 34, 'message': 'Sorry, that page does not exist.'}]\n",
      "5275\n"
     ]
    },
    {
     "name": "stderr",
     "output_type": "stream",
     "text": [
      "5276it [07:58,  3.50s/it]"
     ]
    },
    {
     "name": "stdout",
     "output_type": "stream",
     "text": [
      "5276\n"
     ]
    },
    {
     "name": "stderr",
     "output_type": "stream",
     "text": [
      "5277it [08:03,  3.78s/it]"
     ]
    },
    {
     "name": "stdout",
     "output_type": "stream",
     "text": [
      "5277\n"
     ]
    },
    {
     "name": "stderr",
     "output_type": "stream",
     "text": [
      "5278it [08:07,  3.92s/it]"
     ]
    },
    {
     "name": "stdout",
     "output_type": "stream",
     "text": [
      "5278\n"
     ]
    },
    {
     "name": "stderr",
     "output_type": "stream",
     "text": [
      "5279it [08:07,  2.84s/it]"
     ]
    },
    {
     "name": "stdout",
     "output_type": "stream",
     "text": [
      "Failed on account: 825709430050320384\n",
      "[{'code': 34, 'message': 'Sorry, that page does not exist.'}]\n",
      "5279\n"
     ]
    },
    {
     "name": "stderr",
     "output_type": "stream",
     "text": [
      "5280it [08:12,  3.43s/it]"
     ]
    },
    {
     "name": "stdout",
     "output_type": "stream",
     "text": [
      "5280\n"
     ]
    },
    {
     "name": "stderr",
     "output_type": "stream",
     "text": [
      "5281it [08:16,  3.58s/it]"
     ]
    },
    {
     "name": "stdout",
     "output_type": "stream",
     "text": [
      "5281\n"
     ]
    },
    {
     "name": "stderr",
     "output_type": "stream",
     "text": [
      "5282it [08:16,  2.62s/it]"
     ]
    },
    {
     "name": "stdout",
     "output_type": "stream",
     "text": [
      "Failed on account: 1395839550\n",
      "Not authorized.\n",
      "5282\n"
     ]
    },
    {
     "name": "stderr",
     "output_type": "stream",
     "text": [
      "5283it [08:33,  6.81s/it]"
     ]
    },
    {
     "name": "stdout",
     "output_type": "stream",
     "text": [
      "5283\n"
     ]
    },
    {
     "name": "stderr",
     "output_type": "stream",
     "text": [
      "5284it [08:36,  5.87s/it]"
     ]
    },
    {
     "name": "stdout",
     "output_type": "stream",
     "text": [
      "5284\n"
     ]
    },
    {
     "name": "stderr",
     "output_type": "stream",
     "text": [
      "5285it [08:40,  5.10s/it]"
     ]
    },
    {
     "name": "stdout",
     "output_type": "stream",
     "text": [
      "5285\n"
     ]
    },
    {
     "name": "stderr",
     "output_type": "stream",
     "text": [
      "5286it [08:45,  5.10s/it]"
     ]
    },
    {
     "name": "stdout",
     "output_type": "stream",
     "text": [
      "5286\n"
     ]
    },
    {
     "name": "stderr",
     "output_type": "stream",
     "text": [
      "5287it [08:50,  5.04s/it]"
     ]
    },
    {
     "name": "stdout",
     "output_type": "stream",
     "text": [
      "5287\n"
     ]
    },
    {
     "name": "stderr",
     "output_type": "stream",
     "text": [
      "5288it [08:54,  4.85s/it]"
     ]
    },
    {
     "name": "stdout",
     "output_type": "stream",
     "text": [
      "5288\n"
     ]
    },
    {
     "name": "stderr",
     "output_type": "stream",
     "text": [
      "5289it [08:59,  4.77s/it]"
     ]
    },
    {
     "name": "stdout",
     "output_type": "stream",
     "text": [
      "5289\n"
     ]
    },
    {
     "name": "stderr",
     "output_type": "stream",
     "text": [
      "5290it [09:03,  4.61s/it]"
     ]
    },
    {
     "name": "stdout",
     "output_type": "stream",
     "text": [
      "5290\n"
     ]
    },
    {
     "name": "stderr",
     "output_type": "stream",
     "text": [
      "5291it [09:06,  4.19s/it]"
     ]
    },
    {
     "name": "stdout",
     "output_type": "stream",
     "text": [
      "5291\n"
     ]
    },
    {
     "name": "stderr",
     "output_type": "stream",
     "text": [
      "5292it [09:11,  4.24s/it]"
     ]
    },
    {
     "name": "stdout",
     "output_type": "stream",
     "text": [
      "5292\n"
     ]
    },
    {
     "name": "stderr",
     "output_type": "stream",
     "text": [
      "5293it [09:14,  3.92s/it]"
     ]
    },
    {
     "name": "stdout",
     "output_type": "stream",
     "text": [
      "5293\n"
     ]
    },
    {
     "name": "stderr",
     "output_type": "stream",
     "text": [
      "5294it [09:18,  4.07s/it]"
     ]
    },
    {
     "name": "stdout",
     "output_type": "stream",
     "text": [
      "5294\n"
     ]
    },
    {
     "name": "stderr",
     "output_type": "stream",
     "text": [
      "5295it [09:23,  4.19s/it]"
     ]
    },
    {
     "name": "stdout",
     "output_type": "stream",
     "text": [
      "5295\n"
     ]
    },
    {
     "name": "stderr",
     "output_type": "stream",
     "text": [
      "5296it [09:26,  3.95s/it]"
     ]
    },
    {
     "name": "stdout",
     "output_type": "stream",
     "text": [
      "5296\n"
     ]
    },
    {
     "name": "stderr",
     "output_type": "stream",
     "text": [
      "5297it [09:31,  4.15s/it]"
     ]
    },
    {
     "name": "stdout",
     "output_type": "stream",
     "text": [
      "5297\n"
     ]
    },
    {
     "name": "stderr",
     "output_type": "stream",
     "text": [
      "5298it [09:35,  4.07s/it]"
     ]
    },
    {
     "name": "stdout",
     "output_type": "stream",
     "text": [
      "5298\n"
     ]
    },
    {
     "name": "stderr",
     "output_type": "stream",
     "text": [
      "5299it [09:39,  4.23s/it]"
     ]
    },
    {
     "name": "stdout",
     "output_type": "stream",
     "text": [
      "5299\n"
     ]
    },
    {
     "name": "stderr",
     "output_type": "stream",
     "text": [
      "5300it [09:43,  4.01s/it]"
     ]
    },
    {
     "name": "stdout",
     "output_type": "stream",
     "text": [
      "5300\n"
     ]
    },
    {
     "name": "stderr",
     "output_type": "stream",
     "text": [
      "5301it [09:47,  3.97s/it]"
     ]
    },
    {
     "name": "stdout",
     "output_type": "stream",
     "text": [
      "5301\n"
     ]
    },
    {
     "name": "stderr",
     "output_type": "stream",
     "text": [
      "5302it [09:51,  4.01s/it]"
     ]
    },
    {
     "name": "stdout",
     "output_type": "stream",
     "text": [
      "5302\n"
     ]
    },
    {
     "name": "stderr",
     "output_type": "stream",
     "text": [
      "5303it [09:55,  4.25s/it]"
     ]
    },
    {
     "name": "stdout",
     "output_type": "stream",
     "text": [
      "5303\n"
     ]
    },
    {
     "name": "stderr",
     "output_type": "stream",
     "text": [
      "5304it [09:56,  3.06s/it]"
     ]
    },
    {
     "name": "stdout",
     "output_type": "stream",
     "text": [
      "Failed on account: 890216312840081408\n",
      "[{'code': 34, 'message': 'Sorry, that page does not exist.'}]\n",
      "5304\n"
     ]
    },
    {
     "name": "stderr",
     "output_type": "stream",
     "text": [
      "5305it [09:56,  2.24s/it]"
     ]
    },
    {
     "name": "stdout",
     "output_type": "stream",
     "text": [
      "Failed on account: 897112521978544128\n",
      "[{'code': 34, 'message': 'Sorry, that page does not exist.'}]\n",
      "5305\n"
     ]
    },
    {
     "name": "stderr",
     "output_type": "stream",
     "text": [
      "5306it [10:01,  2.92s/it]"
     ]
    },
    {
     "name": "stdout",
     "output_type": "stream",
     "text": [
      "5306\n"
     ]
    },
    {
     "name": "stderr",
     "output_type": "stream",
     "text": [
      "5307it [10:05,  3.49s/it]"
     ]
    },
    {
     "name": "stdout",
     "output_type": "stream",
     "text": [
      "5307\n"
     ]
    },
    {
     "name": "stderr",
     "output_type": "stream",
     "text": [
      "5308it [10:09,  3.43s/it]"
     ]
    },
    {
     "name": "stdout",
     "output_type": "stream",
     "text": [
      "5308\n"
     ]
    },
    {
     "name": "stderr",
     "output_type": "stream",
     "text": [
      "5309it [10:13,  3.85s/it]"
     ]
    },
    {
     "name": "stdout",
     "output_type": "stream",
     "text": [
      "5309\n"
     ]
    },
    {
     "name": "stderr",
     "output_type": "stream",
     "text": [
      "5310it [10:17,  3.67s/it]"
     ]
    },
    {
     "name": "stdout",
     "output_type": "stream",
     "text": [
      "5310\n"
     ]
    },
    {
     "name": "stderr",
     "output_type": "stream",
     "text": [
      "5311it [10:53, 13.34s/it]"
     ]
    },
    {
     "name": "stdout",
     "output_type": "stream",
     "text": [
      "5311\n"
     ]
    },
    {
     "name": "stderr",
     "output_type": "stream",
     "text": [
      "5312it [10:57, 10.61s/it]"
     ]
    },
    {
     "name": "stdout",
     "output_type": "stream",
     "text": [
      "5312\n"
     ]
    },
    {
     "name": "stderr",
     "output_type": "stream",
     "text": [
      "5313it [11:01,  8.81s/it]"
     ]
    },
    {
     "name": "stdout",
     "output_type": "stream",
     "text": [
      "5313\n"
     ]
    },
    {
     "name": "stderr",
     "output_type": "stream",
     "text": [
      "5314it [11:06,  7.49s/it]"
     ]
    },
    {
     "name": "stdout",
     "output_type": "stream",
     "text": [
      "5314\n"
     ]
    },
    {
     "name": "stderr",
     "output_type": "stream",
     "text": [
      "5315it [11:06,  5.34s/it]"
     ]
    },
    {
     "name": "stdout",
     "output_type": "stream",
     "text": [
      "Failed on account: 825074418011471872\n",
      "[{'code': 34, 'message': 'Sorry, that page does not exist.'}]\n",
      "5315\n"
     ]
    },
    {
     "name": "stderr",
     "output_type": "stream",
     "text": [
      "5316it [11:11,  5.24s/it]"
     ]
    },
    {
     "name": "stdout",
     "output_type": "stream",
     "text": [
      "5316\n"
     ]
    },
    {
     "name": "stderr",
     "output_type": "stream",
     "text": [
      "5317it [11:16,  4.96s/it]"
     ]
    },
    {
     "name": "stdout",
     "output_type": "stream",
     "text": [
      "5317\n"
     ]
    },
    {
     "name": "stderr",
     "output_type": "stream",
     "text": [
      "5318it [11:20,  4.70s/it]"
     ]
    },
    {
     "name": "stdout",
     "output_type": "stream",
     "text": [
      "5318\n"
     ]
    },
    {
     "name": "stderr",
     "output_type": "stream",
     "text": [
      "5319it [11:24,  4.68s/it]"
     ]
    },
    {
     "name": "stdout",
     "output_type": "stream",
     "text": [
      "5319\n"
     ]
    },
    {
     "name": "stderr",
     "output_type": "stream",
     "text": [
      "5320it [11:30,  5.05s/it]"
     ]
    },
    {
     "name": "stdout",
     "output_type": "stream",
     "text": [
      "5320\n"
     ]
    },
    {
     "name": "stderr",
     "output_type": "stream",
     "text": [
      "5321it [11:30,  3.60s/it]"
     ]
    },
    {
     "name": "stdout",
     "output_type": "stream",
     "text": [
      "Failed on account: 874106117886005248\n",
      "[{'code': 34, 'message': 'Sorry, that page does not exist.'}]\n",
      "5321\n"
     ]
    },
    {
     "name": "stderr",
     "output_type": "stream",
     "text": [
      "5322it [11:35,  3.90s/it]"
     ]
    },
    {
     "name": "stdout",
     "output_type": "stream",
     "text": [
      "5322\n"
     ]
    },
    {
     "name": "stderr",
     "output_type": "stream",
     "text": [
      "5323it [11:38,  3.71s/it]"
     ]
    },
    {
     "name": "stdout",
     "output_type": "stream",
     "text": [
      "5323\n"
     ]
    },
    {
     "name": "stderr",
     "output_type": "stream",
     "text": [
      "5324it [11:42,  3.61s/it]"
     ]
    },
    {
     "name": "stdout",
     "output_type": "stream",
     "text": [
      "5324\n"
     ]
    },
    {
     "name": "stderr",
     "output_type": "stream",
     "text": [
      "5325it [11:48,  4.40s/it]"
     ]
    },
    {
     "name": "stdout",
     "output_type": "stream",
     "text": [
      "5325\n"
     ]
    },
    {
     "name": "stderr",
     "output_type": "stream",
     "text": [
      "5326it [11:52,  4.44s/it]"
     ]
    },
    {
     "name": "stdout",
     "output_type": "stream",
     "text": [
      "5326\n"
     ]
    },
    {
     "name": "stderr",
     "output_type": "stream",
     "text": [
      "5327it [11:57,  4.37s/it]"
     ]
    },
    {
     "name": "stdout",
     "output_type": "stream",
     "text": [
      "5327\n"
     ]
    },
    {
     "name": "stderr",
     "output_type": "stream",
     "text": [
      "5328it [12:01,  4.49s/it]"
     ]
    },
    {
     "name": "stdout",
     "output_type": "stream",
     "text": [
      "5328\n"
     ]
    },
    {
     "name": "stderr",
     "output_type": "stream",
     "text": [
      "5329it [12:02,  3.24s/it]"
     ]
    },
    {
     "name": "stdout",
     "output_type": "stream",
     "text": [
      "Failed on account: 943819275122495616\n",
      "[{'code': 34, 'message': 'Sorry, that page does not exist.'}]\n",
      "5329\n"
     ]
    },
    {
     "name": "stderr",
     "output_type": "stream",
     "text": [
      "5330it [12:06,  3.55s/it]"
     ]
    },
    {
     "name": "stdout",
     "output_type": "stream",
     "text": [
      "5330\n"
     ]
    },
    {
     "name": "stderr",
     "output_type": "stream",
     "text": [
      "5331it [12:10,  3.75s/it]"
     ]
    },
    {
     "name": "stdout",
     "output_type": "stream",
     "text": [
      "5331\n"
     ]
    },
    {
     "name": "stderr",
     "output_type": "stream",
     "text": [
      "5332it [12:14,  3.79s/it]"
     ]
    },
    {
     "name": "stdout",
     "output_type": "stream",
     "text": [
      "5332\n"
     ]
    },
    {
     "name": "stderr",
     "output_type": "stream",
     "text": [
      "5333it [12:18,  3.92s/it]"
     ]
    },
    {
     "name": "stdout",
     "output_type": "stream",
     "text": [
      "5333\n"
     ]
    },
    {
     "name": "stderr",
     "output_type": "stream",
     "text": [
      "5334it [12:22,  3.88s/it]"
     ]
    },
    {
     "name": "stdout",
     "output_type": "stream",
     "text": [
      "5334\n"
     ]
    },
    {
     "name": "stderr",
     "output_type": "stream",
     "text": [
      "5335it [12:30,  5.20s/it]"
     ]
    },
    {
     "name": "stdout",
     "output_type": "stream",
     "text": [
      "5335\n"
     ]
    },
    {
     "name": "stderr",
     "output_type": "stream",
     "text": [
      "5336it [12:37,  5.68s/it]"
     ]
    },
    {
     "name": "stdout",
     "output_type": "stream",
     "text": [
      "5336\n"
     ]
    },
    {
     "name": "stderr",
     "output_type": "stream",
     "text": [
      "5337it [12:42,  5.35s/it]"
     ]
    },
    {
     "name": "stdout",
     "output_type": "stream",
     "text": [
      "5337\n"
     ]
    },
    {
     "name": "stderr",
     "output_type": "stream",
     "text": [
      "5338it [12:46,  4.89s/it]"
     ]
    },
    {
     "name": "stdout",
     "output_type": "stream",
     "text": [
      "5338\n"
     ]
    },
    {
     "name": "stderr",
     "output_type": "stream",
     "text": [
      "5339it [12:51,  5.04s/it]"
     ]
    },
    {
     "name": "stdout",
     "output_type": "stream",
     "text": [
      "5339\n"
     ]
    },
    {
     "name": "stderr",
     "output_type": "stream",
     "text": [
      "5340it [12:55,  4.79s/it]"
     ]
    },
    {
     "name": "stdout",
     "output_type": "stream",
     "text": [
      "5340\n"
     ]
    },
    {
     "name": "stderr",
     "output_type": "stream",
     "text": [
      "5341it [13:00,  4.89s/it]"
     ]
    },
    {
     "name": "stdout",
     "output_type": "stream",
     "text": [
      "5341\n"
     ]
    },
    {
     "name": "stderr",
     "output_type": "stream",
     "text": [
      "5342it [13:03,  4.37s/it]"
     ]
    },
    {
     "name": "stdout",
     "output_type": "stream",
     "text": [
      "5342\n"
     ]
    },
    {
     "name": "stderr",
     "output_type": "stream",
     "text": [
      "5343it [13:08,  4.57s/it]"
     ]
    },
    {
     "name": "stdout",
     "output_type": "stream",
     "text": [
      "5343\n"
     ]
    },
    {
     "name": "stderr",
     "output_type": "stream",
     "text": [
      "5344it [13:12,  4.31s/it]"
     ]
    },
    {
     "name": "stdout",
     "output_type": "stream",
     "text": [
      "5344\n"
     ]
    },
    {
     "name": "stderr",
     "output_type": "stream",
     "text": [
      "5345it [13:41, 11.64s/it]"
     ]
    },
    {
     "name": "stdout",
     "output_type": "stream",
     "text": [
      "5345\n"
     ]
    },
    {
     "name": "stderr",
     "output_type": "stream",
     "text": [
      "5346it [13:44,  9.16s/it]"
     ]
    },
    {
     "name": "stdout",
     "output_type": "stream",
     "text": [
      "5346\n"
     ]
    },
    {
     "name": "stderr",
     "output_type": "stream",
     "text": [
      "5347it [13:45,  6.48s/it]"
     ]
    },
    {
     "name": "stdout",
     "output_type": "stream",
     "text": [
      "Failed on account: 916500346695974784\n",
      "[{'code': 34, 'message': 'Sorry, that page does not exist.'}]\n",
      "5347\n"
     ]
    },
    {
     "name": "stderr",
     "output_type": "stream",
     "text": [
      "5348it [13:49,  5.74s/it]"
     ]
    },
    {
     "name": "stdout",
     "output_type": "stream",
     "text": [
      "5348\n"
     ]
    },
    {
     "name": "stderr",
     "output_type": "stream",
     "text": [
      "5349it [13:52,  5.16s/it]"
     ]
    },
    {
     "name": "stdout",
     "output_type": "stream",
     "text": [
      "5349\n"
     ]
    },
    {
     "name": "stderr",
     "output_type": "stream",
     "text": [
      "5350it [13:56,  4.72s/it]"
     ]
    },
    {
     "name": "stdout",
     "output_type": "stream",
     "text": [
      "5350\n"
     ]
    },
    {
     "name": "stderr",
     "output_type": "stream",
     "text": [
      "5351it [13:56,  3.37s/it]"
     ]
    },
    {
     "name": "stdout",
     "output_type": "stream",
     "text": [
      "Failed on account: 888769659851481088\n",
      "[{'code': 34, 'message': 'Sorry, that page does not exist.'}]\n",
      "5351\n"
     ]
    },
    {
     "name": "stderr",
     "output_type": "stream",
     "text": [
      "5352it [14:00,  3.41s/it]"
     ]
    },
    {
     "name": "stdout",
     "output_type": "stream",
     "text": [
      "5352\n"
     ]
    },
    {
     "name": "stderr",
     "output_type": "stream",
     "text": [
      "5353it [14:04,  3.52s/it]"
     ]
    },
    {
     "name": "stdout",
     "output_type": "stream",
     "text": [
      "5353\n"
     ]
    },
    {
     "name": "stderr",
     "output_type": "stream",
     "text": [
      "5354it [14:08,  3.89s/it]"
     ]
    },
    {
     "name": "stdout",
     "output_type": "stream",
     "text": [
      "5354\n"
     ]
    },
    {
     "name": "stderr",
     "output_type": "stream",
     "text": [
      "5355it [14:13,  4.09s/it]"
     ]
    },
    {
     "name": "stdout",
     "output_type": "stream",
     "text": [
      "5355\n"
     ]
    },
    {
     "name": "stderr",
     "output_type": "stream",
     "text": [
      "5356it [14:18,  4.31s/it]"
     ]
    },
    {
     "name": "stdout",
     "output_type": "stream",
     "text": [
      "5356\n"
     ]
    },
    {
     "name": "stderr",
     "output_type": "stream",
     "text": [
      "5357it [14:23,  4.55s/it]"
     ]
    },
    {
     "name": "stdout",
     "output_type": "stream",
     "text": [
      "5357\n"
     ]
    },
    {
     "name": "stderr",
     "output_type": "stream",
     "text": [
      "5358it [14:28,  4.63s/it]"
     ]
    },
    {
     "name": "stdout",
     "output_type": "stream",
     "text": [
      "5358\n"
     ]
    },
    {
     "name": "stderr",
     "output_type": "stream",
     "text": [
      "5359it [14:32,  4.53s/it]"
     ]
    },
    {
     "name": "stdout",
     "output_type": "stream",
     "text": [
      "5359\n"
     ]
    },
    {
     "name": "stderr",
     "output_type": "stream",
     "text": [
      "5360it [15:09, 14.42s/it]"
     ]
    },
    {
     "name": "stdout",
     "output_type": "stream",
     "text": [
      "5360\n"
     ]
    },
    {
     "name": "stderr",
     "output_type": "stream",
     "text": [
      "5361it [15:15, 11.71s/it]"
     ]
    },
    {
     "name": "stdout",
     "output_type": "stream",
     "text": [
      "5361\n"
     ]
    },
    {
     "name": "stderr",
     "output_type": "stream",
     "text": [
      "5362it [15:19,  9.50s/it]"
     ]
    },
    {
     "name": "stdout",
     "output_type": "stream",
     "text": [
      "5362\n"
     ]
    },
    {
     "name": "stderr",
     "output_type": "stream",
     "text": [
      "5363it [15:25,  8.55s/it]"
     ]
    },
    {
     "name": "stdout",
     "output_type": "stream",
     "text": [
      "5363\n"
     ]
    },
    {
     "name": "stderr",
     "output_type": "stream",
     "text": [
      "5364it [15:30,  7.43s/it]"
     ]
    },
    {
     "name": "stdout",
     "output_type": "stream",
     "text": [
      "5364\n"
     ]
    },
    {
     "name": "stderr",
     "output_type": "stream",
     "text": [
      "5365it [15:34,  6.18s/it]"
     ]
    },
    {
     "name": "stdout",
     "output_type": "stream",
     "text": [
      "5365\n"
     ]
    },
    {
     "name": "stderr",
     "output_type": "stream",
     "text": [
      "5366it [15:34,  4.42s/it]"
     ]
    },
    {
     "name": "stdout",
     "output_type": "stream",
     "text": [
      "Failed on account: 712086342339923968\n",
      "[{'code': 34, 'message': 'Sorry, that page does not exist.'}]\n",
      "5366\n"
     ]
    },
    {
     "name": "stderr",
     "output_type": "stream",
     "text": [
      "5367it [15:34,  3.19s/it]"
     ]
    },
    {
     "name": "stdout",
     "output_type": "stream",
     "text": [
      "Failed on account: 818682920026009600\n",
      "[{'code': 34, 'message': 'Sorry, that page does not exist.'}]\n",
      "5367\n"
     ]
    },
    {
     "name": "stderr",
     "output_type": "stream",
     "text": [
      "5368it [15:34,  2.32s/it]"
     ]
    },
    {
     "name": "stdout",
     "output_type": "stream",
     "text": [
      "Failed on account: 726652997468610560\n",
      "[{'code': 34, 'message': 'Sorry, that page does not exist.'}]\n",
      "5368\n"
     ]
    },
    {
     "name": "stderr",
     "output_type": "stream",
     "text": [
      "5369it [15:38,  2.64s/it]"
     ]
    },
    {
     "name": "stdout",
     "output_type": "stream",
     "text": [
      "5369\n"
     ]
    },
    {
     "name": "stderr",
     "output_type": "stream",
     "text": [
      "5370it [15:38,  1.94s/it]"
     ]
    },
    {
     "name": "stdout",
     "output_type": "stream",
     "text": [
      "Failed on account: 898013691085549568\n",
      "[{'code': 34, 'message': 'Sorry, that page does not exist.'}]\n",
      "5370\n"
     ]
    },
    {
     "name": "stderr",
     "output_type": "stream",
     "text": [
      "5371it [15:43,  2.78s/it]"
     ]
    },
    {
     "name": "stdout",
     "output_type": "stream",
     "text": [
      "5371\n"
     ]
    },
    {
     "name": "stderr",
     "output_type": "stream",
     "text": [
      "5372it [15:43,  2.03s/it]"
     ]
    },
    {
     "name": "stdout",
     "output_type": "stream",
     "text": [
      "Failed on account: 339735417\n",
      "Not authorized.\n",
      "5372\n"
     ]
    },
    {
     "name": "stderr",
     "output_type": "stream",
     "text": [
      "5373it [15:48,  2.93s/it]"
     ]
    },
    {
     "name": "stdout",
     "output_type": "stream",
     "text": [
      "5373\n"
     ]
    },
    {
     "name": "stderr",
     "output_type": "stream",
     "text": [
      "5374it [15:49,  2.14s/it]"
     ]
    },
    {
     "name": "stdout",
     "output_type": "stream",
     "text": [
      "Failed on account: 887166045588398080\n",
      "[{'code': 34, 'message': 'Sorry, that page does not exist.'}]\n",
      "5374\n"
     ]
    },
    {
     "name": "stderr",
     "output_type": "stream",
     "text": [
      "5375it [15:54,  3.09s/it]"
     ]
    },
    {
     "name": "stdout",
     "output_type": "stream",
     "text": [
      "5375\n"
     ]
    },
    {
     "name": "stderr",
     "output_type": "stream",
     "text": [
      "5376it [15:59,  3.73s/it]"
     ]
    },
    {
     "name": "stdout",
     "output_type": "stream",
     "text": [
      "5376\n"
     ]
    },
    {
     "name": "stderr",
     "output_type": "stream",
     "text": [
      "5377it [16:03,  3.93s/it]"
     ]
    },
    {
     "name": "stdout",
     "output_type": "stream",
     "text": [
      "5377\n"
     ]
    },
    {
     "name": "stderr",
     "output_type": "stream",
     "text": [
      "5378it [16:07,  3.68s/it]"
     ]
    },
    {
     "name": "stdout",
     "output_type": "stream",
     "text": [
      "5378\n"
     ]
    },
    {
     "name": "stderr",
     "output_type": "stream",
     "text": [
      "5379it [16:12,  4.36s/it]"
     ]
    },
    {
     "name": "stdout",
     "output_type": "stream",
     "text": [
      "5379\n"
     ]
    },
    {
     "name": "stderr",
     "output_type": "stream",
     "text": [
      "5380it [16:16,  4.25s/it]"
     ]
    },
    {
     "name": "stdout",
     "output_type": "stream",
     "text": [
      "5380\n"
     ]
    },
    {
     "name": "stderr",
     "output_type": "stream",
     "text": [
      "5381it [16:34,  8.10s/it]"
     ]
    },
    {
     "name": "stdout",
     "output_type": "stream",
     "text": [
      "5381\n"
     ]
    },
    {
     "name": "stderr",
     "output_type": "stream",
     "text": [
      "5382it [16:39,  7.21s/it]"
     ]
    },
    {
     "name": "stdout",
     "output_type": "stream",
     "text": [
      "5382\n"
     ]
    },
    {
     "name": "stderr",
     "output_type": "stream",
     "text": [
      "5383it [16:43,  6.46s/it]"
     ]
    },
    {
     "name": "stdout",
     "output_type": "stream",
     "text": [
      "5383\n"
     ]
    },
    {
     "name": "stderr",
     "output_type": "stream",
     "text": [
      "5384it [16:46,  5.20s/it]"
     ]
    },
    {
     "name": "stdout",
     "output_type": "stream",
     "text": [
      "5384\n"
     ]
    },
    {
     "name": "stderr",
     "output_type": "stream",
     "text": [
      "5385it [16:50,  5.02s/it]"
     ]
    },
    {
     "name": "stdout",
     "output_type": "stream",
     "text": [
      "5385\n"
     ]
    },
    {
     "name": "stderr",
     "output_type": "stream",
     "text": [
      "5386it [16:55,  4.81s/it]"
     ]
    },
    {
     "name": "stdout",
     "output_type": "stream",
     "text": [
      "5386\n"
     ]
    },
    {
     "name": "stderr",
     "output_type": "stream",
     "text": [
      "5387it [17:01,  5.18s/it]"
     ]
    },
    {
     "name": "stdout",
     "output_type": "stream",
     "text": [
      "5387\n"
     ]
    },
    {
     "name": "stderr",
     "output_type": "stream",
     "text": [
      "5388it [17:01,  3.71s/it]"
     ]
    },
    {
     "name": "stdout",
     "output_type": "stream",
     "text": [
      "Failed on account: 856162158845059072\n",
      "[{'code': 34, 'message': 'Sorry, that page does not exist.'}]\n",
      "5388\n"
     ]
    },
    {
     "name": "stderr",
     "output_type": "stream",
     "text": [
      "5389it [17:05,  3.77s/it]"
     ]
    },
    {
     "name": "stdout",
     "output_type": "stream",
     "text": [
      "5389\n"
     ]
    },
    {
     "name": "stderr",
     "output_type": "stream",
     "text": [
      "5390it [17:09,  3.90s/it]"
     ]
    },
    {
     "name": "stdout",
     "output_type": "stream",
     "text": [
      "5390\n"
     ]
    },
    {
     "name": "stderr",
     "output_type": "stream",
     "text": [
      "5391it [17:14,  4.09s/it]"
     ]
    },
    {
     "name": "stdout",
     "output_type": "stream",
     "text": [
      "5391\n"
     ]
    },
    {
     "name": "stderr",
     "output_type": "stream",
     "text": [
      "5392it [17:14,  2.93s/it]"
     ]
    },
    {
     "name": "stdout",
     "output_type": "stream",
     "text": [
      "Failed on account: 822822640134082560\n",
      "[{'code': 34, 'message': 'Sorry, that page does not exist.'}]\n",
      "5392\n"
     ]
    },
    {
     "name": "stderr",
     "output_type": "stream",
     "text": [
      "5393it [17:19,  3.51s/it]"
     ]
    },
    {
     "name": "stdout",
     "output_type": "stream",
     "text": [
      "5393\n"
     ]
    },
    {
     "name": "stderr",
     "output_type": "stream",
     "text": [
      "5394it [17:24,  3.99s/it]"
     ]
    },
    {
     "name": "stdout",
     "output_type": "stream",
     "text": [
      "5394\n"
     ]
    },
    {
     "name": "stderr",
     "output_type": "stream",
     "text": [
      "5395it [17:27,  3.75s/it]"
     ]
    },
    {
     "name": "stdout",
     "output_type": "stream",
     "text": [
      "5395\n"
     ]
    },
    {
     "name": "stderr",
     "output_type": "stream",
     "text": [
      "5396it [17:31,  3.92s/it]"
     ]
    },
    {
     "name": "stdout",
     "output_type": "stream",
     "text": [
      "5396\n"
     ]
    },
    {
     "name": "stderr",
     "output_type": "stream",
     "text": [
      "5397it [17:36,  4.06s/it]"
     ]
    },
    {
     "name": "stdout",
     "output_type": "stream",
     "text": [
      "5397\n"
     ]
    },
    {
     "name": "stderr",
     "output_type": "stream",
     "text": [
      "5398it [17:39,  3.95s/it]"
     ]
    },
    {
     "name": "stdout",
     "output_type": "stream",
     "text": [
      "5398\n"
     ]
    },
    {
     "name": "stderr",
     "output_type": "stream",
     "text": [
      "5399it [17:44,  4.12s/it]"
     ]
    },
    {
     "name": "stdout",
     "output_type": "stream",
     "text": [
      "5399\n"
     ]
    },
    {
     "name": "stderr",
     "output_type": "stream",
     "text": [
      "5400it [17:48,  4.26s/it]"
     ]
    },
    {
     "name": "stdout",
     "output_type": "stream",
     "text": [
      "5400\n"
     ]
    },
    {
     "name": "stderr",
     "output_type": "stream",
     "text": [
      "5401it [17:49,  3.11s/it]"
     ]
    },
    {
     "name": "stdout",
     "output_type": "stream",
     "text": [
      "Failed on account: 896124289967153152\n",
      "[{'code': 34, 'message': 'Sorry, that page does not exist.'}]\n",
      "5401\n"
     ]
    },
    {
     "name": "stderr",
     "output_type": "stream",
     "text": [
      "5402it [17:54,  3.85s/it]"
     ]
    },
    {
     "name": "stdout",
     "output_type": "stream",
     "text": [
      "5402\n"
     ]
    },
    {
     "name": "stderr",
     "output_type": "stream",
     "text": [
      "5403it [17:55,  2.77s/it]"
     ]
    },
    {
     "name": "stdout",
     "output_type": "stream",
     "text": [
      "Failed on account: 945142107555147776\n",
      "[{'code': 34, 'message': 'Sorry, that page does not exist.'}]\n",
      "5403\n"
     ]
    },
    {
     "name": "stderr",
     "output_type": "stream",
     "text": [
      "5404it [17:59,  3.20s/it]"
     ]
    },
    {
     "name": "stdout",
     "output_type": "stream",
     "text": [
      "5404\n"
     ]
    },
    {
     "name": "stderr",
     "output_type": "stream",
     "text": [
      "5405it [18:02,  3.24s/it]"
     ]
    },
    {
     "name": "stdout",
     "output_type": "stream",
     "text": [
      "5405\n"
     ]
    },
    {
     "name": "stderr",
     "output_type": "stream",
     "text": [
      "5406it [18:07,  3.69s/it]"
     ]
    },
    {
     "name": "stdout",
     "output_type": "stream",
     "text": [
      "5406\n"
     ]
    },
    {
     "name": "stderr",
     "output_type": "stream",
     "text": [
      "5407it [18:11,  3.80s/it]"
     ]
    },
    {
     "name": "stdout",
     "output_type": "stream",
     "text": [
      "5407\n"
     ]
    },
    {
     "name": "stderr",
     "output_type": "stream",
     "text": [
      "5408it [18:17,  4.58s/it]"
     ]
    },
    {
     "name": "stdout",
     "output_type": "stream",
     "text": [
      "5408\n"
     ]
    },
    {
     "name": "stderr",
     "output_type": "stream",
     "text": [
      "5409it [18:22,  4.47s/it]"
     ]
    },
    {
     "name": "stdout",
     "output_type": "stream",
     "text": [
      "5409\n"
     ]
    },
    {
     "name": "stderr",
     "output_type": "stream",
     "text": [
      "5410it [18:22,  3.22s/it]"
     ]
    },
    {
     "name": "stdout",
     "output_type": "stream",
     "text": [
      "Failed on account: 720090731973619712\n",
      "[{'code': 34, 'message': 'Sorry, that page does not exist.'}]\n",
      "5410\n"
     ]
    },
    {
     "name": "stderr",
     "output_type": "stream",
     "text": [
      "5411it [18:27,  3.76s/it]"
     ]
    },
    {
     "name": "stdout",
     "output_type": "stream",
     "text": [
      "5411\n"
     ]
    },
    {
     "name": "stderr",
     "output_type": "stream",
     "text": [
      "5412it [18:31,  3.92s/it]"
     ]
    },
    {
     "name": "stdout",
     "output_type": "stream",
     "text": [
      "5412\n"
     ]
    },
    {
     "name": "stderr",
     "output_type": "stream",
     "text": [
      "5413it [18:37,  4.44s/it]"
     ]
    },
    {
     "name": "stdout",
     "output_type": "stream",
     "text": [
      "5413\n"
     ]
    },
    {
     "name": "stderr",
     "output_type": "stream",
     "text": [
      "5414it [18:41,  4.21s/it]"
     ]
    },
    {
     "name": "stdout",
     "output_type": "stream",
     "text": [
      "5414\n"
     ]
    },
    {
     "name": "stderr",
     "output_type": "stream",
     "text": [
      "5415it [18:45,  4.15s/it]"
     ]
    },
    {
     "name": "stdout",
     "output_type": "stream",
     "text": [
      "5415\n"
     ]
    },
    {
     "name": "stderr",
     "output_type": "stream",
     "text": [
      "5416it [18:49,  4.22s/it]"
     ]
    },
    {
     "name": "stdout",
     "output_type": "stream",
     "text": [
      "5416\n"
     ]
    },
    {
     "name": "stderr",
     "output_type": "stream",
     "text": [
      "5417it [18:54,  4.53s/it]"
     ]
    },
    {
     "name": "stdout",
     "output_type": "stream",
     "text": [
      "5417\n"
     ]
    },
    {
     "name": "stderr",
     "output_type": "stream",
     "text": [
      "5418it [18:58,  4.30s/it]"
     ]
    },
    {
     "name": "stdout",
     "output_type": "stream",
     "text": [
      "5418\n"
     ]
    },
    {
     "name": "stderr",
     "output_type": "stream",
     "text": [
      "5419it [19:02,  4.36s/it]"
     ]
    },
    {
     "name": "stdout",
     "output_type": "stream",
     "text": [
      "5419\n"
     ]
    },
    {
     "name": "stderr",
     "output_type": "stream",
     "text": [
      "5420it [19:06,  4.22s/it]"
     ]
    },
    {
     "name": "stdout",
     "output_type": "stream",
     "text": [
      "5420\n"
     ]
    },
    {
     "name": "stderr",
     "output_type": "stream",
     "text": [
      "5421it [19:11,  4.22s/it]"
     ]
    },
    {
     "name": "stdout",
     "output_type": "stream",
     "text": [
      "5421\n"
     ]
    },
    {
     "name": "stderr",
     "output_type": "stream",
     "text": [
      "5422it [19:15,  4.24s/it]"
     ]
    },
    {
     "name": "stdout",
     "output_type": "stream",
     "text": [
      "5422\n"
     ]
    },
    {
     "name": "stderr",
     "output_type": "stream",
     "text": [
      "5423it [19:18,  3.97s/it]"
     ]
    },
    {
     "name": "stdout",
     "output_type": "stream",
     "text": [
      "5423\n"
     ]
    },
    {
     "name": "stderr",
     "output_type": "stream",
     "text": [
      "5424it [19:24,  4.60s/it]"
     ]
    },
    {
     "name": "stdout",
     "output_type": "stream",
     "text": [
      "5424\n"
     ]
    },
    {
     "name": "stderr",
     "output_type": "stream",
     "text": [
      "5425it [19:30,  4.82s/it]"
     ]
    },
    {
     "name": "stdout",
     "output_type": "stream",
     "text": [
      "5425\n"
     ]
    },
    {
     "name": "stderr",
     "output_type": "stream",
     "text": [
      "5426it [19:35,  5.12s/it]"
     ]
    },
    {
     "name": "stdout",
     "output_type": "stream",
     "text": [
      "5426\n"
     ]
    },
    {
     "name": "stderr",
     "output_type": "stream",
     "text": [
      "5427it [19:39,  4.56s/it]"
     ]
    },
    {
     "name": "stdout",
     "output_type": "stream",
     "text": [
      "5427\n"
     ]
    },
    {
     "name": "stderr",
     "output_type": "stream",
     "text": [
      "5428it [19:43,  4.46s/it]"
     ]
    },
    {
     "name": "stdout",
     "output_type": "stream",
     "text": [
      "5428\n"
     ]
    },
    {
     "name": "stderr",
     "output_type": "stream",
     "text": [
      "5429it [19:48,  4.53s/it]"
     ]
    },
    {
     "name": "stdout",
     "output_type": "stream",
     "text": [
      "5429\n"
     ]
    },
    {
     "name": "stderr",
     "output_type": "stream",
     "text": [
      "5430it [19:51,  4.32s/it]"
     ]
    },
    {
     "name": "stdout",
     "output_type": "stream",
     "text": [
      "5430\n"
     ]
    },
    {
     "name": "stderr",
     "output_type": "stream",
     "text": [
      "5431it [19:55,  3.97s/it]"
     ]
    },
    {
     "name": "stdout",
     "output_type": "stream",
     "text": [
      "5431\n"
     ]
    },
    {
     "name": "stderr",
     "output_type": "stream",
     "text": [
      "5432it [20:01,  4.59s/it]"
     ]
    },
    {
     "name": "stdout",
     "output_type": "stream",
     "text": [
      "5432\n"
     ]
    },
    {
     "name": "stderr",
     "output_type": "stream",
     "text": [
      "5433it [20:04,  4.32s/it]"
     ]
    },
    {
     "name": "stdout",
     "output_type": "stream",
     "text": [
      "5433\n"
     ]
    },
    {
     "name": "stderr",
     "output_type": "stream",
     "text": [
      "5434it [20:08,  4.10s/it]"
     ]
    },
    {
     "name": "stdout",
     "output_type": "stream",
     "text": [
      "5434\n"
     ]
    },
    {
     "name": "stderr",
     "output_type": "stream",
     "text": [
      "5435it [20:12,  3.96s/it]"
     ]
    },
    {
     "name": "stdout",
     "output_type": "stream",
     "text": [
      "5435\n"
     ]
    },
    {
     "name": "stderr",
     "output_type": "stream",
     "text": [
      "5436it [20:15,  3.74s/it]"
     ]
    },
    {
     "name": "stdout",
     "output_type": "stream",
     "text": [
      "5436\n"
     ]
    },
    {
     "name": "stderr",
     "output_type": "stream",
     "text": [
      "5437it [20:20,  4.05s/it]"
     ]
    },
    {
     "name": "stdout",
     "output_type": "stream",
     "text": [
      "5437\n"
     ]
    },
    {
     "name": "stderr",
     "output_type": "stream",
     "text": [
      "5438it [20:26,  4.72s/it]"
     ]
    },
    {
     "name": "stdout",
     "output_type": "stream",
     "text": [
      "5438\n"
     ]
    },
    {
     "name": "stderr",
     "output_type": "stream",
     "text": [
      "5439it [20:30,  4.51s/it]"
     ]
    },
    {
     "name": "stdout",
     "output_type": "stream",
     "text": [
      "5439\n"
     ]
    },
    {
     "name": "stderr",
     "output_type": "stream",
     "text": [
      "5440it [20:34,  4.44s/it]"
     ]
    },
    {
     "name": "stdout",
     "output_type": "stream",
     "text": [
      "5440\n"
     ]
    },
    {
     "name": "stderr",
     "output_type": "stream",
     "text": [
      "5441it [20:39,  4.48s/it]"
     ]
    },
    {
     "name": "stdout",
     "output_type": "stream",
     "text": [
      "5441\n"
     ]
    },
    {
     "name": "stderr",
     "output_type": "stream",
     "text": [
      "5442it [20:43,  4.47s/it]"
     ]
    },
    {
     "name": "stdout",
     "output_type": "stream",
     "text": [
      "5442\n"
     ]
    },
    {
     "name": "stderr",
     "output_type": "stream",
     "text": [
      "5443it [20:48,  4.51s/it]"
     ]
    },
    {
     "name": "stdout",
     "output_type": "stream",
     "text": [
      "5443\n"
     ]
    },
    {
     "name": "stderr",
     "output_type": "stream",
     "text": [
      "5444it [20:51,  4.28s/it]"
     ]
    },
    {
     "name": "stdout",
     "output_type": "stream",
     "text": [
      "5444\n"
     ]
    },
    {
     "name": "stderr",
     "output_type": "stream",
     "text": [
      "5445it [20:57,  4.70s/it]"
     ]
    },
    {
     "name": "stdout",
     "output_type": "stream",
     "text": [
      "5445\n"
     ]
    },
    {
     "name": "stderr",
     "output_type": "stream",
     "text": [
      "5446it [21:01,  4.33s/it]"
     ]
    },
    {
     "name": "stdout",
     "output_type": "stream",
     "text": [
      "5446\n"
     ]
    },
    {
     "name": "stderr",
     "output_type": "stream",
     "text": [
      "5447it [21:07,  4.83s/it]"
     ]
    },
    {
     "name": "stdout",
     "output_type": "stream",
     "text": [
      "5447\n"
     ]
    },
    {
     "name": "stderr",
     "output_type": "stream",
     "text": [
      "5448it [21:13,  5.18s/it]"
     ]
    },
    {
     "name": "stdout",
     "output_type": "stream",
     "text": [
      "5448\n"
     ]
    },
    {
     "name": "stderr",
     "output_type": "stream",
     "text": [
      "5449it [21:16,  4.77s/it]"
     ]
    },
    {
     "name": "stdout",
     "output_type": "stream",
     "text": [
      "5449\n"
     ]
    },
    {
     "name": "stderr",
     "output_type": "stream",
     "text": [
      "5450it [21:17,  3.45s/it]"
     ]
    },
    {
     "name": "stdout",
     "output_type": "stream",
     "text": [
      "Failed on account: 813554157097459712\n",
      "[{'code': 34, 'message': 'Sorry, that page does not exist.'}]\n",
      "5450\n"
     ]
    },
    {
     "name": "stderr",
     "output_type": "stream",
     "text": [
      "5451it [21:20,  3.49s/it]"
     ]
    },
    {
     "name": "stdout",
     "output_type": "stream",
     "text": [
      "5451\n"
     ]
    },
    {
     "name": "stderr",
     "output_type": "stream",
     "text": [
      "5452it [21:25,  3.86s/it]"
     ]
    },
    {
     "name": "stdout",
     "output_type": "stream",
     "text": [
      "5452\n"
     ]
    },
    {
     "name": "stderr",
     "output_type": "stream",
     "text": [
      "5453it [21:29,  3.93s/it]"
     ]
    },
    {
     "name": "stdout",
     "output_type": "stream",
     "text": [
      "5453\n"
     ]
    },
    {
     "name": "stderr",
     "output_type": "stream",
     "text": [
      "5454it [21:34,  4.26s/it]"
     ]
    },
    {
     "name": "stdout",
     "output_type": "stream",
     "text": [
      "5454\n"
     ]
    },
    {
     "name": "stderr",
     "output_type": "stream",
     "text": [
      "5455it [21:39,  4.33s/it]"
     ]
    },
    {
     "name": "stdout",
     "output_type": "stream",
     "text": [
      "5455\n"
     ]
    },
    {
     "name": "stderr",
     "output_type": "stream",
     "text": [
      "5456it [21:43,  4.38s/it]"
     ]
    },
    {
     "name": "stdout",
     "output_type": "stream",
     "text": [
      "5456\n"
     ]
    },
    {
     "name": "stderr",
     "output_type": "stream",
     "text": [
      "5457it [21:48,  4.61s/it]"
     ]
    },
    {
     "name": "stdout",
     "output_type": "stream",
     "text": [
      "5457\n"
     ]
    },
    {
     "name": "stderr",
     "output_type": "stream",
     "text": [
      "5458it [21:53,  4.54s/it]"
     ]
    },
    {
     "name": "stdout",
     "output_type": "stream",
     "text": [
      "5458\n"
     ]
    },
    {
     "name": "stderr",
     "output_type": "stream",
     "text": [
      "5459it [21:57,  4.53s/it]"
     ]
    },
    {
     "name": "stdout",
     "output_type": "stream",
     "text": [
      "5459\n"
     ]
    },
    {
     "name": "stderr",
     "output_type": "stream",
     "text": [
      "5460it [22:01,  4.44s/it]"
     ]
    },
    {
     "name": "stdout",
     "output_type": "stream",
     "text": [
      "5460\n"
     ]
    },
    {
     "name": "stderr",
     "output_type": "stream",
     "text": [
      "5461it [22:06,  4.48s/it]"
     ]
    },
    {
     "name": "stdout",
     "output_type": "stream",
     "text": [
      "5461\n"
     ]
    },
    {
     "name": "stderr",
     "output_type": "stream",
     "text": [
      "5462it [22:10,  4.37s/it]"
     ]
    },
    {
     "name": "stdout",
     "output_type": "stream",
     "text": [
      "5462\n"
     ]
    },
    {
     "name": "stderr",
     "output_type": "stream",
     "text": [
      "5463it [22:14,  4.35s/it]"
     ]
    },
    {
     "name": "stdout",
     "output_type": "stream",
     "text": [
      "5463\n"
     ]
    },
    {
     "name": "stderr",
     "output_type": "stream",
     "text": [
      "5464it [22:19,  4.49s/it]"
     ]
    },
    {
     "name": "stdout",
     "output_type": "stream",
     "text": [
      "5464\n"
     ]
    },
    {
     "name": "stderr",
     "output_type": "stream",
     "text": [
      "5465it [22:26,  5.23s/it]"
     ]
    },
    {
     "name": "stdout",
     "output_type": "stream",
     "text": [
      "5465\n"
     ]
    },
    {
     "name": "stderr",
     "output_type": "stream",
     "text": [
      "5466it [22:30,  4.80s/it]"
     ]
    },
    {
     "name": "stdout",
     "output_type": "stream",
     "text": [
      "5466\n"
     ]
    },
    {
     "name": "stderr",
     "output_type": "stream",
     "text": [
      "5467it [22:34,  4.44s/it]"
     ]
    },
    {
     "name": "stdout",
     "output_type": "stream",
     "text": [
      "5467\n"
     ]
    },
    {
     "name": "stderr",
     "output_type": "stream",
     "text": [
      "5468it [22:40,  5.04s/it]"
     ]
    },
    {
     "name": "stdout",
     "output_type": "stream",
     "text": [
      "5468\n"
     ]
    },
    {
     "name": "stderr",
     "output_type": "stream",
     "text": [
      "5469it [22:43,  4.54s/it]"
     ]
    },
    {
     "name": "stdout",
     "output_type": "stream",
     "text": [
      "5469\n"
     ]
    },
    {
     "name": "stderr",
     "output_type": "stream",
     "text": [
      "5470it [22:48,  4.50s/it]"
     ]
    },
    {
     "name": "stdout",
     "output_type": "stream",
     "text": [
      "5470\n"
     ]
    },
    {
     "name": "stderr",
     "output_type": "stream",
     "text": [
      "5471it [22:51,  4.20s/it]"
     ]
    },
    {
     "name": "stdout",
     "output_type": "stream",
     "text": [
      "5471\n"
     ]
    },
    {
     "name": "stderr",
     "output_type": "stream",
     "text": [
      "5472it [22:55,  4.04s/it]"
     ]
    },
    {
     "name": "stdout",
     "output_type": "stream",
     "text": [
      "5472\n"
     ]
    },
    {
     "name": "stderr",
     "output_type": "stream",
     "text": [
      "5473it [22:59,  3.89s/it]"
     ]
    },
    {
     "name": "stdout",
     "output_type": "stream",
     "text": [
      "5473\n"
     ]
    },
    {
     "name": "stderr",
     "output_type": "stream",
     "text": [
      "5474it [23:02,  3.84s/it]"
     ]
    },
    {
     "name": "stdout",
     "output_type": "stream",
     "text": [
      "5474\n"
     ]
    },
    {
     "name": "stderr",
     "output_type": "stream",
     "text": [
      "5475it [23:08,  4.38s/it]"
     ]
    },
    {
     "name": "stdout",
     "output_type": "stream",
     "text": [
      "5475\n"
     ]
    },
    {
     "name": "stderr",
     "output_type": "stream",
     "text": [
      "5476it [23:14,  4.94s/it]"
     ]
    },
    {
     "name": "stdout",
     "output_type": "stream",
     "text": [
      "5476\n"
     ]
    },
    {
     "name": "stderr",
     "output_type": "stream",
     "text": [
      "5477it [23:14,  3.55s/it]"
     ]
    },
    {
     "name": "stdout",
     "output_type": "stream",
     "text": [
      "Failed on account: 927563444286607360\n",
      "[{'code': 34, 'message': 'Sorry, that page does not exist.'}]\n",
      "5477\n"
     ]
    },
    {
     "name": "stderr",
     "output_type": "stream",
     "text": [
      "5478it [23:18,  3.64s/it]"
     ]
    },
    {
     "name": "stdout",
     "output_type": "stream",
     "text": [
      "5478\n"
     ]
    },
    {
     "name": "stderr",
     "output_type": "stream",
     "text": [
      "5479it [23:25,  4.52s/it]"
     ]
    },
    {
     "name": "stdout",
     "output_type": "stream",
     "text": [
      "5479\n"
     ]
    },
    {
     "name": "stderr",
     "output_type": "stream",
     "text": [
      "5480it [23:30,  4.70s/it]"
     ]
    },
    {
     "name": "stdout",
     "output_type": "stream",
     "text": [
      "5480\n"
     ]
    },
    {
     "name": "stderr",
     "output_type": "stream",
     "text": [
      "5481it [23:36,  4.99s/it]"
     ]
    },
    {
     "name": "stdout",
     "output_type": "stream",
     "text": [
      "5481\n"
     ]
    },
    {
     "name": "stderr",
     "output_type": "stream",
     "text": [
      "5482it [23:40,  4.68s/it]"
     ]
    },
    {
     "name": "stdout",
     "output_type": "stream",
     "text": [
      "5482\n"
     ]
    },
    {
     "name": "stderr",
     "output_type": "stream",
     "text": [
      "5483it [23:45,  4.98s/it]"
     ]
    },
    {
     "name": "stdout",
     "output_type": "stream",
     "text": [
      "5483\n"
     ]
    },
    {
     "name": "stderr",
     "output_type": "stream",
     "text": [
      "5484it [23:49,  4.62s/it]"
     ]
    },
    {
     "name": "stdout",
     "output_type": "stream",
     "text": [
      "5484\n"
     ]
    },
    {
     "name": "stderr",
     "output_type": "stream",
     "text": [
      "5485it [23:54,  4.61s/it]"
     ]
    },
    {
     "name": "stdout",
     "output_type": "stream",
     "text": [
      "5485\n"
     ]
    },
    {
     "name": "stderr",
     "output_type": "stream",
     "text": [
      "5486it [23:58,  4.46s/it]"
     ]
    },
    {
     "name": "stdout",
     "output_type": "stream",
     "text": [
      "5486\n"
     ]
    },
    {
     "name": "stderr",
     "output_type": "stream",
     "text": [
      "5487it [24:02,  4.35s/it]"
     ]
    },
    {
     "name": "stdout",
     "output_type": "stream",
     "text": [
      "5487\n"
     ]
    },
    {
     "name": "stderr",
     "output_type": "stream",
     "text": [
      "5488it [24:08,  4.73s/it]"
     ]
    },
    {
     "name": "stdout",
     "output_type": "stream",
     "text": [
      "5488\n"
     ]
    },
    {
     "name": "stderr",
     "output_type": "stream",
     "text": [
      "5489it [24:12,  4.66s/it]"
     ]
    },
    {
     "name": "stdout",
     "output_type": "stream",
     "text": [
      "5489\n"
     ]
    },
    {
     "name": "stderr",
     "output_type": "stream",
     "text": [
      "5490it [24:18,  5.02s/it]"
     ]
    },
    {
     "name": "stdout",
     "output_type": "stream",
     "text": [
      "5490\n"
     ]
    },
    {
     "name": "stderr",
     "output_type": "stream",
     "text": [
      "5491it [24:22,  4.77s/it]"
     ]
    },
    {
     "name": "stdout",
     "output_type": "stream",
     "text": [
      "5491\n"
     ]
    },
    {
     "name": "stderr",
     "output_type": "stream",
     "text": [
      "5492it [24:27,  4.69s/it]"
     ]
    },
    {
     "name": "stdout",
     "output_type": "stream",
     "text": [
      "5492\n"
     ]
    },
    {
     "name": "stderr",
     "output_type": "stream",
     "text": [
      "5493it [24:31,  4.70s/it]"
     ]
    },
    {
     "name": "stdout",
     "output_type": "stream",
     "text": [
      "5493\n"
     ]
    },
    {
     "name": "stderr",
     "output_type": "stream",
     "text": [
      "5494it [24:32,  3.38s/it]"
     ]
    },
    {
     "name": "stdout",
     "output_type": "stream",
     "text": [
      "Failed on account: 912824905816735616\n",
      "[{'code': 34, 'message': 'Sorry, that page does not exist.'}]\n",
      "5494\n"
     ]
    },
    {
     "name": "stderr",
     "output_type": "stream",
     "text": [
      "5495it [24:36,  3.66s/it]"
     ]
    },
    {
     "name": "stdout",
     "output_type": "stream",
     "text": [
      "5495\n"
     ]
    },
    {
     "name": "stderr",
     "output_type": "stream",
     "text": [
      "5496it [24:42,  4.47s/it]"
     ]
    },
    {
     "name": "stdout",
     "output_type": "stream",
     "text": [
      "5496\n"
     ]
    },
    {
     "name": "stderr",
     "output_type": "stream",
     "text": [
      "5497it [24:47,  4.50s/it]"
     ]
    },
    {
     "name": "stdout",
     "output_type": "stream",
     "text": [
      "5497\n"
     ]
    },
    {
     "name": "stderr",
     "output_type": "stream",
     "text": [
      "5498it [24:52,  4.60s/it]"
     ]
    },
    {
     "name": "stdout",
     "output_type": "stream",
     "text": [
      "5498\n"
     ]
    },
    {
     "name": "stderr",
     "output_type": "stream",
     "text": [
      "5499it [24:59,  5.31s/it]"
     ]
    },
    {
     "name": "stdout",
     "output_type": "stream",
     "text": [
      "5499\n"
     ]
    },
    {
     "name": "stderr",
     "output_type": "stream",
     "text": [
      "5500it [25:03,  5.07s/it]"
     ]
    },
    {
     "name": "stdout",
     "output_type": "stream",
     "text": [
      "5500\n"
     ]
    },
    {
     "name": "stderr",
     "output_type": "stream",
     "text": [
      "5501it [25:06,  4.53s/it]"
     ]
    },
    {
     "name": "stdout",
     "output_type": "stream",
     "text": [
      "5501\n"
     ]
    },
    {
     "name": "stderr",
     "output_type": "stream",
     "text": [
      "5502it [25:10,  4.34s/it]"
     ]
    },
    {
     "name": "stdout",
     "output_type": "stream",
     "text": [
      "5502\n"
     ]
    },
    {
     "name": "stderr",
     "output_type": "stream",
     "text": [
      "5503it [25:14,  4.27s/it]"
     ]
    },
    {
     "name": "stdout",
     "output_type": "stream",
     "text": [
      "5503\n"
     ]
    },
    {
     "name": "stderr",
     "output_type": "stream",
     "text": [
      "5504it [25:19,  4.31s/it]"
     ]
    },
    {
     "name": "stdout",
     "output_type": "stream",
     "text": [
      "5504\n"
     ]
    },
    {
     "name": "stderr",
     "output_type": "stream",
     "text": [
      "5505it [25:24,  4.70s/it]"
     ]
    },
    {
     "name": "stdout",
     "output_type": "stream",
     "text": [
      "5505\n"
     ]
    },
    {
     "name": "stderr",
     "output_type": "stream",
     "text": [
      "5506it [25:28,  4.46s/it]"
     ]
    },
    {
     "name": "stdout",
     "output_type": "stream",
     "text": [
      "5506\n"
     ]
    },
    {
     "name": "stderr",
     "output_type": "stream",
     "text": [
      "5507it [25:29,  3.19s/it]"
     ]
    },
    {
     "name": "stdout",
     "output_type": "stream",
     "text": [
      "Failed on account: 857535975517454336\n",
      "[{'code': 34, 'message': 'Sorry, that page does not exist.'}]\n",
      "5507\n"
     ]
    },
    {
     "name": "stderr",
     "output_type": "stream",
     "text": [
      "5508it [25:29,  2.35s/it]"
     ]
    },
    {
     "name": "stdout",
     "output_type": "stream",
     "text": [
      "Failed on account: 914820220497354752\n",
      "[{'code': 34, 'message': 'Sorry, that page does not exist.'}]\n",
      "5508\n"
     ]
    },
    {
     "name": "stderr",
     "output_type": "stream",
     "text": [
      "5509it [25:33,  2.72s/it]"
     ]
    },
    {
     "name": "stdout",
     "output_type": "stream",
     "text": [
      "5509\n"
     ]
    },
    {
     "name": "stderr",
     "output_type": "stream",
     "text": [
      "5510it [25:38,  3.66s/it]"
     ]
    },
    {
     "name": "stdout",
     "output_type": "stream",
     "text": [
      "5510\n"
     ]
    },
    {
     "name": "stderr",
     "output_type": "stream",
     "text": [
      "5511it [25:44,  4.22s/it]"
     ]
    },
    {
     "name": "stdout",
     "output_type": "stream",
     "text": [
      "5511\n"
     ]
    },
    {
     "name": "stderr",
     "output_type": "stream",
     "text": [
      "5512it [25:44,  3.04s/it]"
     ]
    },
    {
     "name": "stdout",
     "output_type": "stream",
     "text": [
      "Failed on account: 703301849256992768\n",
      "[{'code': 34, 'message': 'Sorry, that page does not exist.'}]\n",
      "5512\n"
     ]
    },
    {
     "name": "stderr",
     "output_type": "stream",
     "text": [
      "5513it [25:48,  3.27s/it]"
     ]
    },
    {
     "name": "stdout",
     "output_type": "stream",
     "text": [
      "5513\n"
     ]
    },
    {
     "name": "stderr",
     "output_type": "stream",
     "text": [
      "5514it [25:52,  3.37s/it]"
     ]
    },
    {
     "name": "stdout",
     "output_type": "stream",
     "text": [
      "5514\n"
     ]
    },
    {
     "name": "stderr",
     "output_type": "stream",
     "text": [
      "5515it [25:59,  4.50s/it]"
     ]
    },
    {
     "name": "stdout",
     "output_type": "stream",
     "text": [
      "5515\n"
     ]
    },
    {
     "name": "stderr",
     "output_type": "stream",
     "text": [
      "5516it [26:02,  4.28s/it]"
     ]
    },
    {
     "name": "stdout",
     "output_type": "stream",
     "text": [
      "5516\n"
     ]
    },
    {
     "name": "stderr",
     "output_type": "stream",
     "text": [
      "5517it [26:09,  4.85s/it]"
     ]
    },
    {
     "name": "stdout",
     "output_type": "stream",
     "text": [
      "5517\n"
     ]
    },
    {
     "name": "stderr",
     "output_type": "stream",
     "text": [
      "5518it [26:09,  3.49s/it]"
     ]
    },
    {
     "name": "stdout",
     "output_type": "stream",
     "text": [
      "Failed on account: 821725656660738048\n",
      "[{'code': 34, 'message': 'Sorry, that page does not exist.'}]\n",
      "5518\n"
     ]
    },
    {
     "name": "stderr",
     "output_type": "stream",
     "text": [
      "5519it [26:09,  2.53s/it]"
     ]
    },
    {
     "name": "stdout",
     "output_type": "stream",
     "text": [
      "Failed on account: 838501176836489216\n",
      "[{'code': 34, 'message': 'Sorry, that page does not exist.'}]\n",
      "5519\n"
     ]
    },
    {
     "name": "stderr",
     "output_type": "stream",
     "text": [
      "5520it [26:10,  1.84s/it]"
     ]
    },
    {
     "name": "stdout",
     "output_type": "stream",
     "text": [
      "Failed on account: 821845354043817984\n",
      "[{'code': 34, 'message': 'Sorry, that page does not exist.'}]\n",
      "5520\n"
     ]
    },
    {
     "name": "stderr",
     "output_type": "stream",
     "text": [
      "5521it [26:13,  2.30s/it]"
     ]
    },
    {
     "name": "stdout",
     "output_type": "stream",
     "text": [
      "5521\n"
     ]
    },
    {
     "name": "stderr",
     "output_type": "stream",
     "text": [
      "5522it [26:16,  2.65s/it]"
     ]
    },
    {
     "name": "stdout",
     "output_type": "stream",
     "text": [
      "5522\n"
     ]
    },
    {
     "name": "stderr",
     "output_type": "stream",
     "text": [
      "5523it [26:20,  3.05s/it]"
     ]
    },
    {
     "name": "stdout",
     "output_type": "stream",
     "text": [
      "5523\n"
     ]
    },
    {
     "name": "stderr",
     "output_type": "stream",
     "text": [
      "5524it [26:26,  3.98s/it]"
     ]
    },
    {
     "name": "stdout",
     "output_type": "stream",
     "text": [
      "5524\n"
     ]
    },
    {
     "name": "stderr",
     "output_type": "stream",
     "text": [
      "5525it [26:32,  4.41s/it]"
     ]
    },
    {
     "name": "stdout",
     "output_type": "stream",
     "text": [
      "5525\n"
     ]
    },
    {
     "name": "stderr",
     "output_type": "stream",
     "text": [
      "5526it [26:38,  4.92s/it]"
     ]
    },
    {
     "name": "stdout",
     "output_type": "stream",
     "text": [
      "5526\n"
     ]
    },
    {
     "name": "stderr",
     "output_type": "stream",
     "text": [
      "5527it [26:38,  3.52s/it]"
     ]
    },
    {
     "name": "stdout",
     "output_type": "stream",
     "text": [
      "Failed on account: 855674316373020672\n",
      "[{'code': 34, 'message': 'Sorry, that page does not exist.'}]\n",
      "5527\n"
     ]
    },
    {
     "name": "stderr",
     "output_type": "stream",
     "text": [
      "5528it [26:43,  3.88s/it]"
     ]
    },
    {
     "name": "stdout",
     "output_type": "stream",
     "text": [
      "5528\n"
     ]
    },
    {
     "name": "stderr",
     "output_type": "stream",
     "text": [
      "5529it [26:48,  4.19s/it]"
     ]
    },
    {
     "name": "stdout",
     "output_type": "stream",
     "text": [
      "5529\n"
     ]
    },
    {
     "name": "stderr",
     "output_type": "stream",
     "text": [
      "5530it [26:54,  4.62s/it]"
     ]
    },
    {
     "name": "stdout",
     "output_type": "stream",
     "text": [
      "5530\n"
     ]
    },
    {
     "name": "stderr",
     "output_type": "stream",
     "text": [
      "5531it [26:54,  3.32s/it]"
     ]
    },
    {
     "name": "stdout",
     "output_type": "stream",
     "text": [
      "Failed on account: 905959864601587584\n",
      "[{'code': 34, 'message': 'Sorry, that page does not exist.'}]\n",
      "5531\n"
     ]
    },
    {
     "name": "stderr",
     "output_type": "stream",
     "text": [
      "5532it [26:59,  3.96s/it]"
     ]
    },
    {
     "name": "stdout",
     "output_type": "stream",
     "text": [
      "5532\n"
     ]
    },
    {
     "name": "stderr",
     "output_type": "stream",
     "text": [
      "5533it [27:00,  2.86s/it]"
     ]
    },
    {
     "name": "stdout",
     "output_type": "stream",
     "text": [
      "Failed on account: 807039058639814656\n",
      "[{'code': 34, 'message': 'Sorry, that page does not exist.'}]\n",
      "5533\n"
     ]
    },
    {
     "name": "stderr",
     "output_type": "stream",
     "text": [
      "5534it [27:04,  3.42s/it]"
     ]
    },
    {
     "name": "stdout",
     "output_type": "stream",
     "text": [
      "5534\n"
     ]
    },
    {
     "name": "stderr",
     "output_type": "stream",
     "text": [
      "5535it [27:05,  2.48s/it]"
     ]
    },
    {
     "name": "stdout",
     "output_type": "stream",
     "text": [
      "Failed on account: 821485649371000832\n",
      "[{'code': 34, 'message': 'Sorry, that page does not exist.'}]\n",
      "5535\n"
     ]
    },
    {
     "name": "stderr",
     "output_type": "stream",
     "text": [
      "5536it [27:05,  1.83s/it]"
     ]
    },
    {
     "name": "stdout",
     "output_type": "stream",
     "text": [
      "Failed on account: 827274725948731392\n",
      "[{'code': 34, 'message': 'Sorry, that page does not exist.'}]\n",
      "5536\n"
     ]
    },
    {
     "name": "stderr",
     "output_type": "stream",
     "text": [
      "5537it [27:11,  3.02s/it]"
     ]
    },
    {
     "name": "stdout",
     "output_type": "stream",
     "text": [
      "5537\n"
     ]
    },
    {
     "name": "stderr",
     "output_type": "stream",
     "text": [
      "5538it [27:15,  3.36s/it]"
     ]
    },
    {
     "name": "stdout",
     "output_type": "stream",
     "text": [
      "5538\n"
     ]
    },
    {
     "name": "stderr",
     "output_type": "stream",
     "text": [
      "5539it [27:18,  3.42s/it]"
     ]
    },
    {
     "name": "stdout",
     "output_type": "stream",
     "text": [
      "5539\n"
     ]
    },
    {
     "name": "stderr",
     "output_type": "stream",
     "text": [
      "5540it [27:23,  3.78s/it]"
     ]
    },
    {
     "name": "stdout",
     "output_type": "stream",
     "text": [
      "5540\n"
     ]
    },
    {
     "name": "stderr",
     "output_type": "stream",
     "text": [
      "5541it [27:28,  4.16s/it]"
     ]
    },
    {
     "name": "stdout",
     "output_type": "stream",
     "text": [
      "5541\n"
     ]
    },
    {
     "name": "stderr",
     "output_type": "stream",
     "text": [
      "5542it [27:29,  3.28s/it]"
     ]
    },
    {
     "name": "stdout",
     "output_type": "stream",
     "text": [
      "Failed on account: 824797212425191424\n",
      "[{'code': 34, 'message': 'Sorry, that page does not exist.'}]\n",
      "5542\n"
     ]
    },
    {
     "name": "stderr",
     "output_type": "stream",
     "text": [
      "5543it [27:35,  4.04s/it]"
     ]
    },
    {
     "name": "stdout",
     "output_type": "stream",
     "text": [
      "5543\n"
     ]
    },
    {
     "name": "stderr",
     "output_type": "stream",
     "text": [
      "5544it [27:40,  4.41s/it]"
     ]
    },
    {
     "name": "stdout",
     "output_type": "stream",
     "text": [
      "5544\n"
     ]
    },
    {
     "name": "stderr",
     "output_type": "stream",
     "text": [
      "5545it [27:45,  4.42s/it]"
     ]
    },
    {
     "name": "stdout",
     "output_type": "stream",
     "text": [
      "5545\n"
     ]
    },
    {
     "name": "stderr",
     "output_type": "stream",
     "text": [
      "5546it [27:49,  4.32s/it]"
     ]
    },
    {
     "name": "stdout",
     "output_type": "stream",
     "text": [
      "5546\n"
     ]
    },
    {
     "name": "stderr",
     "output_type": "stream",
     "text": [
      "5547it [27:53,  4.32s/it]"
     ]
    },
    {
     "name": "stdout",
     "output_type": "stream",
     "text": [
      "5547\n"
     ]
    },
    {
     "name": "stderr",
     "output_type": "stream",
     "text": [
      "5548it [27:59,  4.71s/it]"
     ]
    },
    {
     "name": "stdout",
     "output_type": "stream",
     "text": [
      "5548\n"
     ]
    },
    {
     "name": "stderr",
     "output_type": "stream",
     "text": [
      "5549it [28:04,  4.77s/it]"
     ]
    },
    {
     "name": "stdout",
     "output_type": "stream",
     "text": [
      "5549\n"
     ]
    },
    {
     "name": "stderr",
     "output_type": "stream",
     "text": [
      "5550it [28:12,  5.74s/it]"
     ]
    },
    {
     "name": "stdout",
     "output_type": "stream",
     "text": [
      "5550\n"
     ]
    },
    {
     "name": "stderr",
     "output_type": "stream",
     "text": [
      "5551it [28:19,  6.31s/it]"
     ]
    },
    {
     "name": "stdout",
     "output_type": "stream",
     "text": [
      "5551\n"
     ]
    },
    {
     "name": "stderr",
     "output_type": "stream",
     "text": [
      "5552it [28:23,  5.65s/it]"
     ]
    },
    {
     "name": "stdout",
     "output_type": "stream",
     "text": [
      "5552\n"
     ]
    },
    {
     "name": "stderr",
     "output_type": "stream",
     "text": [
      "5553it [28:27,  5.07s/it]"
     ]
    },
    {
     "name": "stdout",
     "output_type": "stream",
     "text": [
      "5553\n"
     ]
    },
    {
     "name": "stderr",
     "output_type": "stream",
     "text": [
      "5554it [28:38,  6.86s/it]"
     ]
    },
    {
     "name": "stdout",
     "output_type": "stream",
     "text": [
      "5554\n"
     ]
    },
    {
     "name": "stderr",
     "output_type": "stream",
     "text": [
      "5555it [28:44,  6.38s/it]"
     ]
    },
    {
     "name": "stdout",
     "output_type": "stream",
     "text": [
      "5555\n"
     ]
    },
    {
     "name": "stderr",
     "output_type": "stream",
     "text": [
      "5556it [28:49,  6.15s/it]"
     ]
    },
    {
     "name": "stdout",
     "output_type": "stream",
     "text": [
      "5556\n"
     ]
    },
    {
     "name": "stderr",
     "output_type": "stream",
     "text": [
      "5557it [28:49,  4.37s/it]"
     ]
    },
    {
     "name": "stdout",
     "output_type": "stream",
     "text": [
      "Failed on account: 924618793615286400\n",
      "[{'code': 34, 'message': 'Sorry, that page does not exist.'}]\n",
      "5557\n"
     ]
    },
    {
     "name": "stderr",
     "output_type": "stream",
     "text": [
      "5558it [28:50,  3.13s/it]"
     ]
    },
    {
     "name": "stdout",
     "output_type": "stream",
     "text": [
      "Failed on account: 837433637318451200\n",
      "[{'code': 34, 'message': 'Sorry, that page does not exist.'}]\n",
      "5558\n"
     ]
    },
    {
     "name": "stderr",
     "output_type": "stream",
     "text": [
      "5559it [28:53,  3.34s/it]"
     ]
    },
    {
     "name": "stdout",
     "output_type": "stream",
     "text": [
      "5559\n"
     ]
    },
    {
     "name": "stderr",
     "output_type": "stream",
     "text": [
      "5560it [28:57,  3.29s/it]"
     ]
    },
    {
     "name": "stdout",
     "output_type": "stream",
     "text": [
      "5560\n"
     ]
    },
    {
     "name": "stderr",
     "output_type": "stream",
     "text": [
      "5561it [29:00,  3.28s/it]"
     ]
    },
    {
     "name": "stdout",
     "output_type": "stream",
     "text": [
      "5561\n"
     ]
    },
    {
     "name": "stderr",
     "output_type": "stream",
     "text": [
      "5562it [29:04,  3.47s/it]"
     ]
    },
    {
     "name": "stdout",
     "output_type": "stream",
     "text": [
      "5562\n"
     ]
    },
    {
     "name": "stderr",
     "output_type": "stream",
     "text": [
      "5563it [29:09,  4.00s/it]"
     ]
    },
    {
     "name": "stdout",
     "output_type": "stream",
     "text": [
      "5563\n"
     ]
    },
    {
     "name": "stderr",
     "output_type": "stream",
     "text": [
      "5564it [29:13,  3.91s/it]"
     ]
    },
    {
     "name": "stdout",
     "output_type": "stream",
     "text": [
      "5564\n"
     ]
    },
    {
     "name": "stderr",
     "output_type": "stream",
     "text": [
      "5565it [29:17,  3.93s/it]"
     ]
    },
    {
     "name": "stdout",
     "output_type": "stream",
     "text": [
      "5565\n"
     ]
    },
    {
     "name": "stderr",
     "output_type": "stream",
     "text": [
      "5566it [29:21,  4.10s/it]"
     ]
    },
    {
     "name": "stdout",
     "output_type": "stream",
     "text": [
      "5566\n"
     ]
    },
    {
     "name": "stderr",
     "output_type": "stream",
     "text": [
      "5567it [29:25,  4.10s/it]"
     ]
    },
    {
     "name": "stdout",
     "output_type": "stream",
     "text": [
      "5567\n"
     ]
    },
    {
     "name": "stderr",
     "output_type": "stream",
     "text": [
      "5568it [30:15, 17.86s/it]"
     ]
    },
    {
     "name": "stdout",
     "output_type": "stream",
     "text": [
      "5568\n"
     ]
    },
    {
     "name": "stderr",
     "output_type": "stream",
     "text": [
      "5569it [30:20, 14.01s/it]"
     ]
    },
    {
     "name": "stdout",
     "output_type": "stream",
     "text": [
      "5569\n"
     ]
    },
    {
     "name": "stderr",
     "output_type": "stream",
     "text": [
      "5570it [30:24, 10.88s/it]"
     ]
    },
    {
     "name": "stdout",
     "output_type": "stream",
     "text": [
      "5570\n"
     ]
    },
    {
     "name": "stderr",
     "output_type": "stream",
     "text": [
      "5571it [30:24,  7.71s/it]"
     ]
    },
    {
     "name": "stdout",
     "output_type": "stream",
     "text": [
      "Failed on account: 879056557647986688\n",
      "[{'code': 34, 'message': 'Sorry, that page does not exist.'}]\n",
      "5571\n"
     ]
    },
    {
     "name": "stderr",
     "output_type": "stream",
     "text": [
      "5572it [30:28,  6.41s/it]"
     ]
    },
    {
     "name": "stdout",
     "output_type": "stream",
     "text": [
      "5572\n"
     ]
    },
    {
     "name": "stderr",
     "output_type": "stream",
     "text": [
      "5573it [30:28,  4.58s/it]"
     ]
    },
    {
     "name": "stdout",
     "output_type": "stream",
     "text": [
      "Failed on account: 912037917635248000\n",
      "[{'code': 34, 'message': 'Sorry, that page does not exist.'}]\n",
      "5573\n"
     ]
    },
    {
     "name": "stderr",
     "output_type": "stream",
     "text": [
      "5574it [30:28,  3.30s/it]"
     ]
    },
    {
     "name": "stdout",
     "output_type": "stream",
     "text": [
      "Failed on account: 820695531353575424\n",
      "[{'code': 34, 'message': 'Sorry, that page does not exist.'}]\n",
      "5574\n"
     ]
    },
    {
     "name": "stderr",
     "output_type": "stream",
     "text": [
      "5575it [30:32,  3.38s/it]"
     ]
    },
    {
     "name": "stdout",
     "output_type": "stream",
     "text": [
      "5575\n"
     ]
    },
    {
     "name": "stderr",
     "output_type": "stream",
     "text": [
      "5576it [30:36,  3.73s/it]"
     ]
    },
    {
     "name": "stdout",
     "output_type": "stream",
     "text": [
      "5576\n"
     ]
    },
    {
     "name": "stderr",
     "output_type": "stream",
     "text": [
      "5577it [30:40,  3.88s/it]"
     ]
    },
    {
     "name": "stdout",
     "output_type": "stream",
     "text": [
      "5577\n"
     ]
    },
    {
     "name": "stderr",
     "output_type": "stream",
     "text": [
      "5578it [30:51,  5.83s/it]"
     ]
    },
    {
     "name": "stdout",
     "output_type": "stream",
     "text": [
      "5578\n"
     ]
    },
    {
     "name": "stderr",
     "output_type": "stream",
     "text": [
      "5579it [30:59,  6.38s/it]"
     ]
    },
    {
     "name": "stdout",
     "output_type": "stream",
     "text": [
      "5579\n"
     ]
    },
    {
     "name": "stderr",
     "output_type": "stream",
     "text": [
      "5580it [31:05,  6.41s/it]"
     ]
    },
    {
     "name": "stdout",
     "output_type": "stream",
     "text": [
      "5580\n"
     ]
    },
    {
     "name": "stderr",
     "output_type": "stream",
     "text": [
      "5581it [31:09,  5.56s/it]"
     ]
    },
    {
     "name": "stdout",
     "output_type": "stream",
     "text": [
      "5581\n"
     ]
    },
    {
     "name": "stderr",
     "output_type": "stream",
     "text": [
      "5582it [31:09,  3.96s/it]"
     ]
    },
    {
     "name": "stdout",
     "output_type": "stream",
     "text": [
      "Failed on account: 822927813347069952\n",
      "[{'code': 34, 'message': 'Sorry, that page does not exist.'}]\n",
      "5582\n"
     ]
    },
    {
     "name": "stderr",
     "output_type": "stream",
     "text": [
      "5583it [31:13,  3.99s/it]"
     ]
    },
    {
     "name": "stdout",
     "output_type": "stream",
     "text": [
      "5583\n"
     ]
    },
    {
     "name": "stderr",
     "output_type": "stream",
     "text": [
      "5584it [31:18,  4.39s/it]"
     ]
    },
    {
     "name": "stdout",
     "output_type": "stream",
     "text": [
      "5584\n"
     ]
    },
    {
     "name": "stderr",
     "output_type": "stream",
     "text": [
      "5585it [31:22,  4.33s/it]"
     ]
    },
    {
     "name": "stdout",
     "output_type": "stream",
     "text": [
      "5585\n"
     ]
    },
    {
     "name": "stderr",
     "output_type": "stream",
     "text": [
      "5586it [31:23,  3.13s/it]"
     ]
    },
    {
     "name": "stdout",
     "output_type": "stream",
     "text": [
      "Failed on account: 763812077542649856\n",
      "[{'code': 34, 'message': 'Sorry, that page does not exist.'}]\n",
      "5586\n"
     ]
    },
    {
     "name": "stderr",
     "output_type": "stream",
     "text": [
      "5587it [31:27,  3.48s/it]"
     ]
    },
    {
     "name": "stdout",
     "output_type": "stream",
     "text": [
      "5587\n"
     ]
    },
    {
     "name": "stderr",
     "output_type": "stream",
     "text": [
      "5588it [31:30,  3.42s/it]"
     ]
    },
    {
     "name": "stdout",
     "output_type": "stream",
     "text": [
      "5588\n"
     ]
    },
    {
     "name": "stderr",
     "output_type": "stream",
     "text": [
      "5589it [31:34,  3.36s/it]"
     ]
    },
    {
     "name": "stdout",
     "output_type": "stream",
     "text": [
      "5589\n"
     ]
    },
    {
     "name": "stderr",
     "output_type": "stream",
     "text": [
      "5590it [31:37,  3.35s/it]"
     ]
    },
    {
     "name": "stdout",
     "output_type": "stream",
     "text": [
      "5590\n"
     ]
    },
    {
     "name": "stderr",
     "output_type": "stream",
     "text": [
      "5591it [31:45,  4.86s/it]"
     ]
    },
    {
     "name": "stdout",
     "output_type": "stream",
     "text": [
      "5591\n"
     ]
    },
    {
     "name": "stderr",
     "output_type": "stream",
     "text": [
      "5592it [31:53,  5.77s/it]"
     ]
    },
    {
     "name": "stdout",
     "output_type": "stream",
     "text": [
      "5592\n"
     ]
    },
    {
     "name": "stderr",
     "output_type": "stream",
     "text": [
      "5593it [31:57,  5.33s/it]"
     ]
    },
    {
     "name": "stdout",
     "output_type": "stream",
     "text": [
      "5593\n"
     ]
    },
    {
     "name": "stderr",
     "output_type": "stream",
     "text": [
      "5594it [31:58,  3.80s/it]"
     ]
    },
    {
     "name": "stdout",
     "output_type": "stream",
     "text": [
      "Failed on account: 813554157097459712\n",
      "[{'code': 34, 'message': 'Sorry, that page does not exist.'}]\n",
      "5594\n"
     ]
    },
    {
     "name": "stderr",
     "output_type": "stream",
     "text": [
      "5595it [32:03,  4.22s/it]"
     ]
    },
    {
     "name": "stdout",
     "output_type": "stream",
     "text": [
      "5595\n"
     ]
    },
    {
     "name": "stderr",
     "output_type": "stream",
     "text": [
      "5596it [32:10,  4.95s/it]"
     ]
    },
    {
     "name": "stdout",
     "output_type": "stream",
     "text": [
      "5596\n"
     ]
    },
    {
     "name": "stderr",
     "output_type": "stream",
     "text": [
      "5597it [32:13,  4.66s/it]"
     ]
    },
    {
     "name": "stdout",
     "output_type": "stream",
     "text": [
      "5597\n"
     ]
    },
    {
     "name": "stderr",
     "output_type": "stream",
     "text": [
      "5598it [32:18,  4.59s/it]"
     ]
    },
    {
     "name": "stdout",
     "output_type": "stream",
     "text": [
      "5598\n"
     ]
    },
    {
     "name": "stderr",
     "output_type": "stream",
     "text": [
      "5599it [32:24,  5.05s/it]"
     ]
    },
    {
     "name": "stdout",
     "output_type": "stream",
     "text": [
      "5599\n"
     ]
    },
    {
     "name": "stderr",
     "output_type": "stream",
     "text": [
      "5600it [32:29,  5.14s/it]"
     ]
    },
    {
     "name": "stdout",
     "output_type": "stream",
     "text": [
      "5600\n"
     ]
    },
    {
     "name": "stderr",
     "output_type": "stream",
     "text": [
      "5601it [32:30,  3.69s/it]"
     ]
    },
    {
     "name": "stdout",
     "output_type": "stream",
     "text": [
      "Failed on account: 709204972785631232\n",
      "[{'code': 34, 'message': 'Sorry, that page does not exist.'}]\n",
      "5601\n"
     ]
    },
    {
     "name": "stderr",
     "output_type": "stream",
     "text": [
      "5602it [32:33,  3.59s/it]"
     ]
    },
    {
     "name": "stdout",
     "output_type": "stream",
     "text": [
      "5602\n"
     ]
    },
    {
     "name": "stderr",
     "output_type": "stream",
     "text": [
      "5603it [32:33,  2.61s/it]"
     ]
    },
    {
     "name": "stdout",
     "output_type": "stream",
     "text": [
      "Failed on account: 831231329165520896\n",
      "[{'code': 34, 'message': 'Sorry, that page does not exist.'}]\n",
      "5603\n"
     ]
    },
    {
     "name": "stderr",
     "output_type": "stream",
     "text": [
      "5604it [32:37,  2.86s/it]"
     ]
    },
    {
     "name": "stdout",
     "output_type": "stream",
     "text": [
      "5604\n"
     ]
    },
    {
     "name": "stderr",
     "output_type": "stream",
     "text": [
      "5605it [32:42,  3.64s/it]"
     ]
    },
    {
     "name": "stdout",
     "output_type": "stream",
     "text": [
      "5605\n"
     ]
    },
    {
     "name": "stderr",
     "output_type": "stream",
     "text": [
      "5606it [32:48,  4.27s/it]"
     ]
    },
    {
     "name": "stdout",
     "output_type": "stream",
     "text": [
      "5606\n"
     ]
    },
    {
     "name": "stderr",
     "output_type": "stream",
     "text": [
      "5607it [32:48,  3.08s/it]"
     ]
    },
    {
     "name": "stdout",
     "output_type": "stream",
     "text": [
      "Failed on account: 955868432557199360\n",
      "[{'code': 34, 'message': 'Sorry, that page does not exist.'}]\n",
      "5607\n"
     ]
    },
    {
     "name": "stderr",
     "output_type": "stream",
     "text": [
      "5608it [32:52,  3.21s/it]"
     ]
    },
    {
     "name": "stdout",
     "output_type": "stream",
     "text": [
      "5608\n"
     ]
    },
    {
     "name": "stderr",
     "output_type": "stream",
     "text": [
      "5609it [32:57,  3.73s/it]"
     ]
    },
    {
     "name": "stdout",
     "output_type": "stream",
     "text": [
      "5609\n"
     ]
    },
    {
     "name": "stderr",
     "output_type": "stream",
     "text": [
      "5610it [33:01,  3.91s/it]"
     ]
    },
    {
     "name": "stdout",
     "output_type": "stream",
     "text": [
      "5610\n"
     ]
    },
    {
     "name": "stderr",
     "output_type": "stream",
     "text": [
      "5611it [33:05,  4.04s/it]"
     ]
    },
    {
     "name": "stdout",
     "output_type": "stream",
     "text": [
      "5611\n"
     ]
    },
    {
     "name": "stderr",
     "output_type": "stream",
     "text": [
      "5612it [33:10,  4.15s/it]"
     ]
    },
    {
     "name": "stdout",
     "output_type": "stream",
     "text": [
      "5612\n"
     ]
    },
    {
     "name": "stderr",
     "output_type": "stream",
     "text": [
      "5613it [33:15,  4.41s/it]"
     ]
    },
    {
     "name": "stdout",
     "output_type": "stream",
     "text": [
      "5613\n"
     ]
    },
    {
     "name": "stderr",
     "output_type": "stream",
     "text": [
      "5614it [33:19,  4.47s/it]"
     ]
    },
    {
     "name": "stdout",
     "output_type": "stream",
     "text": [
      "5614\n"
     ]
    },
    {
     "name": "stderr",
     "output_type": "stream",
     "text": [
      "5615it [33:24,  4.50s/it]"
     ]
    },
    {
     "name": "stdout",
     "output_type": "stream",
     "text": [
      "5615\n"
     ]
    },
    {
     "name": "stderr",
     "output_type": "stream",
     "text": [
      "5616it [33:25,  3.29s/it]"
     ]
    },
    {
     "name": "stdout",
     "output_type": "stream",
     "text": [
      "Failed on account: 853578818145193984\n",
      "[{'code': 34, 'message': 'Sorry, that page does not exist.'}]\n",
      "5616\n"
     ]
    },
    {
     "name": "stderr",
     "output_type": "stream",
     "text": [
      "5617it [33:29,  3.54s/it]"
     ]
    },
    {
     "name": "stdout",
     "output_type": "stream",
     "text": [
      "5617\n"
     ]
    },
    {
     "name": "stderr",
     "output_type": "stream",
     "text": [
      "5618it [33:29,  2.57s/it]"
     ]
    },
    {
     "name": "stdout",
     "output_type": "stream",
     "text": [
      "Failed on account: 733488168918360064\n",
      "[{'code': 34, 'message': 'Sorry, that page does not exist.'}]\n",
      "5618\n"
     ]
    },
    {
     "name": "stderr",
     "output_type": "stream",
     "text": [
      "5619it [33:33,  3.14s/it]"
     ]
    },
    {
     "name": "stdout",
     "output_type": "stream",
     "text": [
      "5619\n"
     ]
    },
    {
     "name": "stderr",
     "output_type": "stream",
     "text": [
      "5620it [33:38,  3.58s/it]"
     ]
    },
    {
     "name": "stdout",
     "output_type": "stream",
     "text": [
      "5620\n"
     ]
    },
    {
     "name": "stderr",
     "output_type": "stream",
     "text": [
      "5621it [33:41,  3.47s/it]"
     ]
    },
    {
     "name": "stdout",
     "output_type": "stream",
     "text": [
      "5621\n"
     ]
    },
    {
     "name": "stderr",
     "output_type": "stream",
     "text": [
      "5622it [33:46,  3.98s/it]"
     ]
    },
    {
     "name": "stdout",
     "output_type": "stream",
     "text": [
      "5622\n"
     ]
    },
    {
     "name": "stderr",
     "output_type": "stream",
     "text": [
      "5623it [33:50,  3.89s/it]"
     ]
    },
    {
     "name": "stdout",
     "output_type": "stream",
     "text": [
      "5623\n"
     ]
    },
    {
     "name": "stderr",
     "output_type": "stream",
     "text": [
      "5624it [33:55,  4.16s/it]"
     ]
    },
    {
     "name": "stdout",
     "output_type": "stream",
     "text": [
      "5624\n"
     ]
    },
    {
     "name": "stderr",
     "output_type": "stream",
     "text": [
      "5625it [34:01,  4.82s/it]"
     ]
    },
    {
     "name": "stdout",
     "output_type": "stream",
     "text": [
      "5625\n"
     ]
    },
    {
     "name": "stderr",
     "output_type": "stream",
     "text": [
      "5626it [34:06,  4.75s/it]"
     ]
    },
    {
     "name": "stdout",
     "output_type": "stream",
     "text": [
      "5626\n"
     ]
    },
    {
     "name": "stderr",
     "output_type": "stream",
     "text": [
      "5627it [34:10,  4.57s/it]"
     ]
    },
    {
     "name": "stdout",
     "output_type": "stream",
     "text": [
      "5627\n"
     ]
    },
    {
     "name": "stderr",
     "output_type": "stream",
     "text": [
      "5628it [34:15,  4.66s/it]"
     ]
    },
    {
     "name": "stdout",
     "output_type": "stream",
     "text": [
      "5628\n"
     ]
    },
    {
     "name": "stderr",
     "output_type": "stream",
     "text": [
      "5629it [34:21,  5.17s/it]"
     ]
    },
    {
     "name": "stdout",
     "output_type": "stream",
     "text": [
      "5629\n"
     ]
    },
    {
     "name": "stderr",
     "output_type": "stream",
     "text": [
      "5630it [34:23,  4.29s/it]"
     ]
    },
    {
     "name": "stdout",
     "output_type": "stream",
     "text": [
      "5630\n"
     ]
    },
    {
     "name": "stderr",
     "output_type": "stream",
     "text": [
      "5631it [34:28,  4.32s/it]"
     ]
    },
    {
     "name": "stdout",
     "output_type": "stream",
     "text": [
      "5631\n"
     ]
    },
    {
     "name": "stderr",
     "output_type": "stream",
     "text": [
      "5632it [34:31,  4.02s/it]"
     ]
    },
    {
     "name": "stdout",
     "output_type": "stream",
     "text": [
      "5632\n"
     ]
    },
    {
     "name": "stderr",
     "output_type": "stream",
     "text": [
      "5633it [34:37,  4.68s/it]"
     ]
    },
    {
     "name": "stdout",
     "output_type": "stream",
     "text": [
      "5633\n"
     ]
    },
    {
     "name": "stderr",
     "output_type": "stream",
     "text": [
      "5634it [34:42,  4.53s/it]"
     ]
    },
    {
     "name": "stdout",
     "output_type": "stream",
     "text": [
      "5634\n"
     ]
    },
    {
     "name": "stderr",
     "output_type": "stream",
     "text": [
      "5635it [34:48,  5.23s/it]"
     ]
    },
    {
     "name": "stdout",
     "output_type": "stream",
     "text": [
      "5635\n"
     ]
    },
    {
     "name": "stderr",
     "output_type": "stream",
     "text": [
      "5636it [34:53,  5.14s/it]"
     ]
    },
    {
     "name": "stdout",
     "output_type": "stream",
     "text": [
      "5636\n"
     ]
    },
    {
     "name": "stderr",
     "output_type": "stream",
     "text": [
      "5637it [34:57,  4.79s/it]"
     ]
    },
    {
     "name": "stdout",
     "output_type": "stream",
     "text": [
      "5637\n"
     ]
    },
    {
     "name": "stderr",
     "output_type": "stream",
     "text": [
      "5638it [35:05,  5.51s/it]"
     ]
    },
    {
     "name": "stdout",
     "output_type": "stream",
     "text": [
      "5638\n"
     ]
    },
    {
     "name": "stderr",
     "output_type": "stream",
     "text": [
      "5639it [35:05,  3.97s/it]"
     ]
    },
    {
     "name": "stdout",
     "output_type": "stream",
     "text": [
      "Failed on account: 954760332173443200\n",
      "[{'code': 34, 'message': 'Sorry, that page does not exist.'}]\n",
      "5639\n"
     ]
    },
    {
     "name": "stderr",
     "output_type": "stream",
     "text": [
      "5640it [35:10,  4.41s/it]"
     ]
    },
    {
     "name": "stdout",
     "output_type": "stream",
     "text": [
      "5640\n"
     ]
    },
    {
     "name": "stderr",
     "output_type": "stream",
     "text": [
      "5641it [35:14,  4.16s/it]"
     ]
    },
    {
     "name": "stdout",
     "output_type": "stream",
     "text": [
      "5641\n"
     ]
    },
    {
     "name": "stderr",
     "output_type": "stream",
     "text": [
      "5642it [35:20,  4.63s/it]"
     ]
    },
    {
     "name": "stdout",
     "output_type": "stream",
     "text": [
      "5642\n"
     ]
    },
    {
     "name": "stderr",
     "output_type": "stream",
     "text": [
      "5643it [35:25,  4.72s/it]"
     ]
    },
    {
     "name": "stdout",
     "output_type": "stream",
     "text": [
      "5643\n"
     ]
    },
    {
     "name": "stderr",
     "output_type": "stream",
     "text": [
      "5644it [35:30,  4.89s/it]"
     ]
    },
    {
     "name": "stdout",
     "output_type": "stream",
     "text": [
      "5644\n"
     ]
    },
    {
     "name": "stderr",
     "output_type": "stream",
     "text": [
      "5645it [35:36,  5.20s/it]"
     ]
    },
    {
     "name": "stdout",
     "output_type": "stream",
     "text": [
      "5645\n"
     ]
    },
    {
     "name": "stderr",
     "output_type": "stream",
     "text": [
      "5646it [35:40,  4.85s/it]"
     ]
    },
    {
     "name": "stdout",
     "output_type": "stream",
     "text": [
      "5646\n"
     ]
    },
    {
     "name": "stderr",
     "output_type": "stream",
     "text": [
      "5647it [35:43,  4.39s/it]"
     ]
    },
    {
     "name": "stdout",
     "output_type": "stream",
     "text": [
      "5647\n"
     ]
    },
    {
     "name": "stderr",
     "output_type": "stream",
     "text": [
      "5648it [35:43,  3.15s/it]"
     ]
    },
    {
     "name": "stdout",
     "output_type": "stream",
     "text": [
      "Failed on account: 705462870289588224\n",
      "[{'code': 34, 'message': 'Sorry, that page does not exist.'}]\n",
      "5648\n"
     ]
    },
    {
     "name": "stderr",
     "output_type": "stream",
     "text": [
      "5649it [35:48,  3.54s/it]"
     ]
    },
    {
     "name": "stdout",
     "output_type": "stream",
     "text": [
      "5649\n"
     ]
    },
    {
     "name": "stderr",
     "output_type": "stream",
     "text": [
      "5650it [35:53,  4.04s/it]"
     ]
    },
    {
     "name": "stdout",
     "output_type": "stream",
     "text": [
      "5650\n"
     ]
    },
    {
     "name": "stderr",
     "output_type": "stream",
     "text": [
      "5651it [35:59,  4.65s/it]"
     ]
    },
    {
     "name": "stdout",
     "output_type": "stream",
     "text": [
      "5651\n"
     ]
    },
    {
     "name": "stderr",
     "output_type": "stream",
     "text": [
      "5652it [36:05,  4.99s/it]"
     ]
    },
    {
     "name": "stdout",
     "output_type": "stream",
     "text": [
      "5652\n"
     ]
    },
    {
     "name": "stderr",
     "output_type": "stream",
     "text": [
      "5653it [36:11,  5.23s/it]"
     ]
    },
    {
     "name": "stdout",
     "output_type": "stream",
     "text": [
      "5653\n"
     ]
    },
    {
     "name": "stderr",
     "output_type": "stream",
     "text": [
      "5654it [36:11,  3.75s/it]"
     ]
    },
    {
     "name": "stdout",
     "output_type": "stream",
     "text": [
      "Failed on account: 755418059792416768\n",
      "[{'code': 34, 'message': 'Sorry, that page does not exist.'}]\n",
      "5654\n"
     ]
    },
    {
     "name": "stderr",
     "output_type": "stream",
     "text": [
      "5655it [36:14,  3.60s/it]"
     ]
    },
    {
     "name": "stdout",
     "output_type": "stream",
     "text": [
      "5655\n"
     ]
    },
    {
     "name": "stderr",
     "output_type": "stream",
     "text": [
      "5656it [36:18,  3.68s/it]"
     ]
    },
    {
     "name": "stdout",
     "output_type": "stream",
     "text": [
      "5656\n"
     ]
    },
    {
     "name": "stderr",
     "output_type": "stream",
     "text": [
      "5657it [36:24,  4.28s/it]"
     ]
    },
    {
     "name": "stdout",
     "output_type": "stream",
     "text": [
      "5657\n"
     ]
    },
    {
     "name": "stderr",
     "output_type": "stream",
     "text": [
      "5658it [36:29,  4.49s/it]"
     ]
    },
    {
     "name": "stdout",
     "output_type": "stream",
     "text": [
      "5658\n"
     ]
    },
    {
     "name": "stderr",
     "output_type": "stream",
     "text": [
      "5659it [36:33,  4.57s/it]"
     ]
    },
    {
     "name": "stdout",
     "output_type": "stream",
     "text": [
      "5659\n"
     ]
    },
    {
     "name": "stderr",
     "output_type": "stream",
     "text": [
      "5660it [36:45,  6.62s/it]"
     ]
    },
    {
     "name": "stdout",
     "output_type": "stream",
     "text": [
      "5660\n"
     ]
    },
    {
     "name": "stderr",
     "output_type": "stream",
     "text": [
      "5661it [36:50,  6.23s/it]"
     ]
    },
    {
     "name": "stdout",
     "output_type": "stream",
     "text": [
      "5661\n"
     ]
    },
    {
     "name": "stderr",
     "output_type": "stream",
     "text": [
      "5662it [36:55,  5.80s/it]"
     ]
    },
    {
     "name": "stdout",
     "output_type": "stream",
     "text": [
      "5662\n"
     ]
    },
    {
     "name": "stderr",
     "output_type": "stream",
     "text": [
      "5663it [36:59,  5.32s/it]"
     ]
    },
    {
     "name": "stdout",
     "output_type": "stream",
     "text": [
      "5663\n"
     ]
    },
    {
     "name": "stderr",
     "output_type": "stream",
     "text": [
      "5664it [37:05,  5.32s/it]"
     ]
    },
    {
     "name": "stdout",
     "output_type": "stream",
     "text": [
      "5664\n"
     ]
    },
    {
     "name": "stderr",
     "output_type": "stream",
     "text": [
      "5665it [37:11,  5.78s/it]"
     ]
    },
    {
     "name": "stdout",
     "output_type": "stream",
     "text": [
      "5665\n"
     ]
    },
    {
     "name": "stderr",
     "output_type": "stream",
     "text": [
      "5666it [37:12,  4.14s/it]"
     ]
    },
    {
     "name": "stdout",
     "output_type": "stream",
     "text": [
      "Failed on account: 954384272147836800\n",
      "[{'code': 34, 'message': 'Sorry, that page does not exist.'}]\n",
      "5666\n"
     ]
    },
    {
     "name": "stderr",
     "output_type": "stream",
     "text": [
      "5667it [37:19,  5.05s/it]"
     ]
    },
    {
     "name": "stdout",
     "output_type": "stream",
     "text": [
      "5667\n"
     ]
    },
    {
     "name": "stderr",
     "output_type": "stream",
     "text": [
      "5668it [37:23,  4.64s/it]"
     ]
    },
    {
     "name": "stdout",
     "output_type": "stream",
     "text": [
      "5668\n"
     ]
    },
    {
     "name": "stderr",
     "output_type": "stream",
     "text": [
      "5669it [37:28,  5.00s/it]"
     ]
    },
    {
     "name": "stdout",
     "output_type": "stream",
     "text": [
      "5669\n"
     ]
    },
    {
     "name": "stderr",
     "output_type": "stream",
     "text": [
      "5670it [37:34,  5.19s/it]"
     ]
    },
    {
     "name": "stdout",
     "output_type": "stream",
     "text": [
      "5670\n"
     ]
    },
    {
     "name": "stderr",
     "output_type": "stream",
     "text": [
      "5671it [37:39,  5.02s/it]"
     ]
    },
    {
     "name": "stdout",
     "output_type": "stream",
     "text": [
      "5671\n"
     ]
    },
    {
     "name": "stderr",
     "output_type": "stream",
     "text": [
      "5672it [37:43,  4.80s/it]"
     ]
    },
    {
     "name": "stdout",
     "output_type": "stream",
     "text": [
      "5672\n"
     ]
    },
    {
     "name": "stderr",
     "output_type": "stream",
     "text": [
      "5673it [37:43,  3.45s/it]"
     ]
    },
    {
     "name": "stdout",
     "output_type": "stream",
     "text": [
      "Failed on account: 914261911335817216\n",
      "[{'code': 34, 'message': 'Sorry, that page does not exist.'}]\n",
      "5673\n"
     ]
    },
    {
     "name": "stderr",
     "output_type": "stream",
     "text": [
      "5674it [37:48,  3.96s/it]"
     ]
    },
    {
     "name": "stdout",
     "output_type": "stream",
     "text": [
      "5674\n"
     ]
    },
    {
     "name": "stderr",
     "output_type": "stream",
     "text": [
      "5675it [37:59,  5.81s/it]"
     ]
    },
    {
     "name": "stdout",
     "output_type": "stream",
     "text": [
      "5675\n"
     ]
    },
    {
     "name": "stderr",
     "output_type": "stream",
     "text": [
      "5676it [38:02,  5.14s/it]"
     ]
    },
    {
     "name": "stdout",
     "output_type": "stream",
     "text": [
      "5676\n"
     ]
    },
    {
     "name": "stderr",
     "output_type": "stream",
     "text": [
      "5677it [38:06,  4.80s/it]"
     ]
    },
    {
     "name": "stdout",
     "output_type": "stream",
     "text": [
      "5677\n"
     ]
    },
    {
     "name": "stderr",
     "output_type": "stream",
     "text": [
      "5678it [38:11,  4.74s/it]"
     ]
    },
    {
     "name": "stdout",
     "output_type": "stream",
     "text": [
      "5678\n"
     ]
    },
    {
     "name": "stderr",
     "output_type": "stream",
     "text": [
      "5679it [38:14,  4.26s/it]"
     ]
    },
    {
     "name": "stdout",
     "output_type": "stream",
     "text": [
      "5679\n"
     ]
    },
    {
     "name": "stderr",
     "output_type": "stream",
     "text": [
      "5680it [38:19,  4.61s/it]"
     ]
    },
    {
     "name": "stdout",
     "output_type": "stream",
     "text": [
      "5680\n"
     ]
    },
    {
     "name": "stderr",
     "output_type": "stream",
     "text": [
      "5681it [38:26,  5.22s/it]"
     ]
    },
    {
     "name": "stdout",
     "output_type": "stream",
     "text": [
      "5681\n"
     ]
    },
    {
     "name": "stderr",
     "output_type": "stream",
     "text": [
      "5682it [38:31,  5.24s/it]"
     ]
    },
    {
     "name": "stdout",
     "output_type": "stream",
     "text": [
      "5682\n"
     ]
    },
    {
     "name": "stderr",
     "output_type": "stream",
     "text": [
      "5683it [38:31,  3.76s/it]"
     ]
    },
    {
     "name": "stdout",
     "output_type": "stream",
     "text": [
      "Failed on account: 893097400440639488\n",
      "[{'code': 34, 'message': 'Sorry, that page does not exist.'}]\n",
      "5683\n"
     ]
    },
    {
     "name": "stderr",
     "output_type": "stream",
     "text": [
      "5684it [38:35,  3.74s/it]"
     ]
    },
    {
     "name": "stdout",
     "output_type": "stream",
     "text": [
      "5684\n"
     ]
    },
    {
     "name": "stderr",
     "output_type": "stream",
     "text": [
      "5685it [38:39,  3.69s/it]"
     ]
    },
    {
     "name": "stdout",
     "output_type": "stream",
     "text": [
      "5685\n"
     ]
    },
    {
     "name": "stderr",
     "output_type": "stream",
     "text": [
      "5686it [38:43,  3.81s/it]"
     ]
    },
    {
     "name": "stdout",
     "output_type": "stream",
     "text": [
      "5686\n"
     ]
    },
    {
     "name": "stderr",
     "output_type": "stream",
     "text": [
      "5687it [38:46,  3.62s/it]"
     ]
    },
    {
     "name": "stdout",
     "output_type": "stream",
     "text": [
      "5687\n"
     ]
    },
    {
     "name": "stderr",
     "output_type": "stream",
     "text": [
      "5688it [38:51,  4.04s/it]"
     ]
    },
    {
     "name": "stdout",
     "output_type": "stream",
     "text": [
      "5688\n"
     ]
    },
    {
     "name": "stderr",
     "output_type": "stream",
     "text": [
      "5689it [38:55,  4.12s/it]"
     ]
    },
    {
     "name": "stdout",
     "output_type": "stream",
     "text": [
      "5689\n"
     ]
    },
    {
     "name": "stderr",
     "output_type": "stream",
     "text": [
      "5690it [39:00,  4.14s/it]"
     ]
    },
    {
     "name": "stdout",
     "output_type": "stream",
     "text": [
      "5690\n"
     ]
    },
    {
     "name": "stderr",
     "output_type": "stream",
     "text": [
      "5691it [39:03,  4.07s/it]"
     ]
    },
    {
     "name": "stdout",
     "output_type": "stream",
     "text": [
      "5691\n"
     ]
    },
    {
     "name": "stderr",
     "output_type": "stream",
     "text": [
      "5692it [39:10,  4.93s/it]"
     ]
    },
    {
     "name": "stdout",
     "output_type": "stream",
     "text": [
      "5692\n"
     ]
    },
    {
     "name": "stderr",
     "output_type": "stream",
     "text": [
      "5693it [39:22,  6.90s/it]"
     ]
    },
    {
     "name": "stdout",
     "output_type": "stream",
     "text": [
      "5693\n"
     ]
    },
    {
     "name": "stderr",
     "output_type": "stream",
     "text": [
      "5694it [39:28,  6.70s/it]"
     ]
    },
    {
     "name": "stdout",
     "output_type": "stream",
     "text": [
      "5694\n"
     ]
    },
    {
     "name": "stderr",
     "output_type": "stream",
     "text": [
      "5695it [39:32,  5.83s/it]"
     ]
    },
    {
     "name": "stdout",
     "output_type": "stream",
     "text": [
      "5695\n"
     ]
    },
    {
     "name": "stderr",
     "output_type": "stream",
     "text": [
      "5696it [39:36,  5.18s/it]"
     ]
    },
    {
     "name": "stdout",
     "output_type": "stream",
     "text": [
      "5696\n"
     ]
    },
    {
     "name": "stderr",
     "output_type": "stream",
     "text": [
      "5697it [39:41,  5.35s/it]"
     ]
    },
    {
     "name": "stdout",
     "output_type": "stream",
     "text": [
      "5697\n"
     ]
    },
    {
     "name": "stderr",
     "output_type": "stream",
     "text": [
      "5698it [39:47,  5.37s/it]"
     ]
    },
    {
     "name": "stdout",
     "output_type": "stream",
     "text": [
      "5698\n"
     ]
    },
    {
     "name": "stderr",
     "output_type": "stream",
     "text": [
      "5699it [39:50,  4.81s/it]"
     ]
    },
    {
     "name": "stdout",
     "output_type": "stream",
     "text": [
      "5699\n"
     ]
    },
    {
     "name": "stderr",
     "output_type": "stream",
     "text": [
      "5700it [39:55,  4.87s/it]"
     ]
    },
    {
     "name": "stdout",
     "output_type": "stream",
     "text": [
      "5700\n"
     ]
    },
    {
     "name": "stderr",
     "output_type": "stream",
     "text": [
      "5701it [40:01,  5.25s/it]"
     ]
    },
    {
     "name": "stdout",
     "output_type": "stream",
     "text": [
      "5701\n"
     ]
    },
    {
     "name": "stderr",
     "output_type": "stream",
     "text": [
      "5702it [40:06,  5.09s/it]"
     ]
    },
    {
     "name": "stdout",
     "output_type": "stream",
     "text": [
      "5702\n"
     ]
    },
    {
     "name": "stderr",
     "output_type": "stream",
     "text": [
      "5703it [40:11,  4.99s/it]"
     ]
    },
    {
     "name": "stdout",
     "output_type": "stream",
     "text": [
      "5703\n"
     ]
    },
    {
     "name": "stderr",
     "output_type": "stream",
     "text": [
      "5704it [40:20,  6.34s/it]"
     ]
    },
    {
     "name": "stdout",
     "output_type": "stream",
     "text": [
      "5704\n"
     ]
    },
    {
     "name": "stderr",
     "output_type": "stream",
     "text": [
      "5705it [40:25,  5.78s/it]"
     ]
    },
    {
     "name": "stdout",
     "output_type": "stream",
     "text": [
      "5705\n"
     ]
    },
    {
     "name": "stderr",
     "output_type": "stream",
     "text": [
      "5706it [40:29,  5.16s/it]"
     ]
    },
    {
     "name": "stdout",
     "output_type": "stream",
     "text": [
      "5706\n"
     ]
    },
    {
     "name": "stderr",
     "output_type": "stream",
     "text": [
      "5707it [40:34,  5.14s/it]"
     ]
    },
    {
     "name": "stdout",
     "output_type": "stream",
     "text": [
      "5707\n"
     ]
    },
    {
     "name": "stderr",
     "output_type": "stream",
     "text": [
      "5708it [40:34,  3.67s/it]"
     ]
    },
    {
     "name": "stdout",
     "output_type": "stream",
     "text": [
      "Failed on account: 707246777515245568\n",
      "[{'code': 34, 'message': 'Sorry, that page does not exist.'}]\n",
      "5708\n"
     ]
    },
    {
     "name": "stderr",
     "output_type": "stream",
     "text": [
      "5709it [40:40,  4.34s/it]"
     ]
    },
    {
     "name": "stdout",
     "output_type": "stream",
     "text": [
      "5709\n"
     ]
    },
    {
     "name": "stderr",
     "output_type": "stream",
     "text": [
      "5710it [40:45,  4.63s/it]"
     ]
    },
    {
     "name": "stdout",
     "output_type": "stream",
     "text": [
      "5710\n"
     ]
    },
    {
     "name": "stderr",
     "output_type": "stream",
     "text": [
      "5711it [40:51,  5.00s/it]"
     ]
    },
    {
     "name": "stdout",
     "output_type": "stream",
     "text": [
      "5711\n"
     ]
    },
    {
     "name": "stderr",
     "output_type": "stream",
     "text": [
      "5712it [40:55,  4.79s/it]"
     ]
    },
    {
     "name": "stdout",
     "output_type": "stream",
     "text": [
      "5712\n"
     ]
    },
    {
     "name": "stderr",
     "output_type": "stream",
     "text": [
      "5713it [40:59,  4.52s/it]"
     ]
    },
    {
     "name": "stdout",
     "output_type": "stream",
     "text": [
      "5713\n"
     ]
    },
    {
     "name": "stderr",
     "output_type": "stream",
     "text": [
      "5714it [41:05,  4.83s/it]"
     ]
    },
    {
     "name": "stdout",
     "output_type": "stream",
     "text": [
      "5714\n"
     ]
    },
    {
     "name": "stderr",
     "output_type": "stream",
     "text": [
      "5715it [41:11,  5.31s/it]"
     ]
    },
    {
     "name": "stdout",
     "output_type": "stream",
     "text": [
      "5715\n"
     ]
    },
    {
     "name": "stderr",
     "output_type": "stream",
     "text": [
      "5716it [41:18,  5.71s/it]"
     ]
    },
    {
     "name": "stdout",
     "output_type": "stream",
     "text": [
      "5716\n"
     ]
    },
    {
     "name": "stderr",
     "output_type": "stream",
     "text": [
      "5717it [41:22,  5.32s/it]"
     ]
    },
    {
     "name": "stdout",
     "output_type": "stream",
     "text": [
      "5717\n"
     ]
    },
    {
     "name": "stderr",
     "output_type": "stream",
     "text": [
      "5718it [41:26,  5.01s/it]"
     ]
    },
    {
     "name": "stdout",
     "output_type": "stream",
     "text": [
      "5718\n"
     ]
    },
    {
     "name": "stderr",
     "output_type": "stream",
     "text": [
      "5719it [41:34,  5.72s/it]"
     ]
    },
    {
     "name": "stdout",
     "output_type": "stream",
     "text": [
      "5719\n"
     ]
    },
    {
     "name": "stderr",
     "output_type": "stream",
     "text": [
      "5720it [41:38,  5.17s/it]"
     ]
    },
    {
     "name": "stdout",
     "output_type": "stream",
     "text": [
      "5720\n"
     ]
    },
    {
     "name": "stderr",
     "output_type": "stream",
     "text": [
      "5721it [41:41,  4.74s/it]"
     ]
    },
    {
     "name": "stdout",
     "output_type": "stream",
     "text": [
      "5721\n"
     ]
    },
    {
     "name": "stderr",
     "output_type": "stream",
     "text": [
      "5722it [41:48,  5.18s/it]"
     ]
    },
    {
     "name": "stdout",
     "output_type": "stream",
     "text": [
      "5722\n"
     ]
    },
    {
     "name": "stderr",
     "output_type": "stream",
     "text": [
      "5723it [41:52,  4.79s/it]"
     ]
    },
    {
     "name": "stdout",
     "output_type": "stream",
     "text": [
      "5723\n"
     ]
    },
    {
     "name": "stderr",
     "output_type": "stream",
     "text": [
      "5724it [41:55,  4.49s/it]"
     ]
    },
    {
     "name": "stdout",
     "output_type": "stream",
     "text": [
      "5724\n"
     ]
    },
    {
     "name": "stderr",
     "output_type": "stream",
     "text": [
      "5725it [42:02,  4.98s/it]"
     ]
    },
    {
     "name": "stdout",
     "output_type": "stream",
     "text": [
      "5725\n"
     ]
    },
    {
     "name": "stderr",
     "output_type": "stream",
     "text": [
      "5726it [42:11,  6.39s/it]"
     ]
    },
    {
     "name": "stdout",
     "output_type": "stream",
     "text": [
      "Failed on account: 4161019223\n",
      "429 Client Error: Too Many Requests for url: https://botometer-pro.p.rapidapi.com/4/check_account\n",
      "5726\n"
     ]
    },
    {
     "name": "stderr",
     "output_type": "stream",
     "text": [
      "5727it [42:16,  5.97s/it]"
     ]
    },
    {
     "name": "stdout",
     "output_type": "stream",
     "text": [
      "Failed on account: 840297020531326976\n",
      "[{'code': 34, 'message': 'Sorry, that page does not exist.'}]\n",
      "5727\n"
     ]
    },
    {
     "name": "stderr",
     "output_type": "stream",
     "text": [
      "5728it [42:18,  4.87s/it]"
     ]
    },
    {
     "name": "stdout",
     "output_type": "stream",
     "text": [
      "Failed on account: 18028518\n",
      "429 Client Error: Too Many Requests for url: https://botometer-pro.p.rapidapi.com/4/check_account\n",
      "5728\n"
     ]
    },
    {
     "name": "stderr",
     "output_type": "stream",
     "text": [
      "5729it [42:22,  4.47s/it]"
     ]
    },
    {
     "name": "stdout",
     "output_type": "stream",
     "text": [
      "Failed on account: 518574152\n",
      "429 Client Error: Too Many Requests for url: https://botometer-pro.p.rapidapi.com/4/check_account\n",
      "5729\n"
     ]
    },
    {
     "name": "stderr",
     "output_type": "stream",
     "text": [
      "5730it [42:25,  4.00s/it]"
     ]
    },
    {
     "name": "stdout",
     "output_type": "stream",
     "text": [
      "Failed on account: 39512124\n",
      "429 Client Error: Too Many Requests for url: https://botometer-pro.p.rapidapi.com/4/check_account\n",
      "5730\n"
     ]
    },
    {
     "name": "stderr",
     "output_type": "stream",
     "text": [
      "5731it [42:33,  5.25s/it]"
     ]
    },
    {
     "name": "stdout",
     "output_type": "stream",
     "text": [
      "Failed on account: 983062994\n",
      "429 Client Error: Too Many Requests for url: https://botometer-pro.p.rapidapi.com/4/check_account\n",
      "5731\n"
     ]
    },
    {
     "name": "stderr",
     "output_type": "stream",
     "text": [
      "5732it [42:35,  4.36s/it]"
     ]
    },
    {
     "name": "stdout",
     "output_type": "stream",
     "text": [
      "Failed on account: 2786381160\n",
      "429 Client Error: Too Many Requests for url: https://botometer-pro.p.rapidapi.com/4/check_account\n",
      "5732\n"
     ]
    },
    {
     "name": "stderr",
     "output_type": "stream",
     "text": [
      "5733it [42:38,  3.75s/it]"
     ]
    },
    {
     "name": "stdout",
     "output_type": "stream",
     "text": [
      "Failed on account: 23871180\n",
      "429 Client Error: Too Many Requests for url: https://botometer-pro.p.rapidapi.com/4/check_account\n",
      "5733\n"
     ]
    },
    {
     "name": "stderr",
     "output_type": "stream",
     "text": [
      "5734it [42:42,  4.05s/it]"
     ]
    },
    {
     "name": "stdout",
     "output_type": "stream",
     "text": [
      "Failed on account: 22234483\n",
      "429 Client Error: Too Many Requests for url: https://botometer-pro.p.rapidapi.com/4/check_account\n",
      "5734\n"
     ]
    },
    {
     "name": "stderr",
     "output_type": "stream",
     "text": [
      "5735it [42:45,  3.54s/it]"
     ]
    },
    {
     "name": "stdout",
     "output_type": "stream",
     "text": [
      "Failed on account: 2899929414\n",
      "429 Client Error: Too Many Requests for url: https://botometer-pro.p.rapidapi.com/4/check_account\n",
      "5735\n"
     ]
    },
    {
     "name": "stderr",
     "output_type": "stream",
     "text": [
      "5736it [42:49,  3.65s/it]"
     ]
    },
    {
     "name": "stdout",
     "output_type": "stream",
     "text": [
      "Failed on account: 15723895\n",
      "429 Client Error: Too Many Requests for url: https://botometer-pro.p.rapidapi.com/4/check_account\n",
      "5736\n"
     ]
    },
    {
     "name": "stderr",
     "output_type": "stream",
     "text": [
      "5737it [42:51,  3.37s/it]"
     ]
    },
    {
     "name": "stdout",
     "output_type": "stream",
     "text": [
      "Failed on account: 465936656\n",
      "429 Client Error: Too Many Requests for url: https://botometer-pro.p.rapidapi.com/4/check_account\n",
      "5737\n"
     ]
    },
    {
     "name": "stderr",
     "output_type": "stream",
     "text": [
      "5738it [42:53,  2.96s/it]"
     ]
    },
    {
     "name": "stdout",
     "output_type": "stream",
     "text": [
      "Failed on account: 403458744\n",
      "429 Client Error: Too Many Requests for url: https://botometer-pro.p.rapidapi.com/4/check_account\n",
      "5738\n"
     ]
    },
    {
     "name": "stderr",
     "output_type": "stream",
     "text": [
      "5739it [42:57,  3.14s/it]"
     ]
    },
    {
     "name": "stdout",
     "output_type": "stream",
     "text": [
      "Failed on account: 37329191\n",
      "429 Client Error: Too Many Requests for url: https://botometer-pro.p.rapidapi.com/4/check_account\n",
      "5739\n"
     ]
    },
    {
     "name": "stderr",
     "output_type": "stream",
     "text": [
      "5740it [42:59,  2.75s/it]"
     ]
    },
    {
     "name": "stdout",
     "output_type": "stream",
     "text": [
      "Failed on account: 33587950\n",
      "429 Client Error: Too Many Requests for url: https://botometer-pro.p.rapidapi.com/4/check_account\n",
      "5740\n"
     ]
    },
    {
     "name": "stderr",
     "output_type": "stream",
     "text": [
      "5741it [43:01,  2.69s/it]"
     ]
    },
    {
     "name": "stdout",
     "output_type": "stream",
     "text": [
      "Failed on account: 27279989\n",
      "429 Client Error: Too Many Requests for url: https://botometer-pro.p.rapidapi.com/4/check_account\n",
      "5741\n"
     ]
    },
    {
     "name": "stderr",
     "output_type": "stream",
     "text": [
      "5742it [43:07,  3.53s/it]"
     ]
    },
    {
     "name": "stdout",
     "output_type": "stream",
     "text": [
      "Failed on account: 934500442364559360\n",
      "429 Client Error: Too Many Requests for url: https://botometer-pro.p.rapidapi.com/4/check_account\n",
      "5742\n"
     ]
    },
    {
     "name": "stderr",
     "output_type": "stream",
     "text": [
      "5743it [43:11,  3.66s/it]"
     ]
    },
    {
     "name": "stdout",
     "output_type": "stream",
     "text": [
      "Failed on account: 4900058284\n",
      "429 Client Error: Too Many Requests for url: https://botometer-pro.p.rapidapi.com/4/check_account\n",
      "5743\n"
     ]
    },
    {
     "name": "stderr",
     "output_type": "stream",
     "text": [
      "5744it [43:11,  2.63s/it]"
     ]
    },
    {
     "name": "stdout",
     "output_type": "stream",
     "text": [
      "Failed on account: 835834201802846208\n",
      "[{'code': 34, 'message': 'Sorry, that page does not exist.'}]\n",
      "5744\n"
     ]
    },
    {
     "name": "stderr",
     "output_type": "stream",
     "text": [
      "5745it [43:13,  2.58s/it]"
     ]
    },
    {
     "name": "stdout",
     "output_type": "stream",
     "text": [
      "Failed on account: 53029401\n",
      "429 Client Error: Too Many Requests for url: https://botometer-pro.p.rapidapi.com/4/check_account\n",
      "5745\n"
     ]
    },
    {
     "name": "stderr",
     "output_type": "stream",
     "text": [
      "5746it [43:17,  2.80s/it]"
     ]
    },
    {
     "name": "stdout",
     "output_type": "stream",
     "text": [
      "Failed on account: 44752134\n",
      "429 Client Error: Too Many Requests for url: https://botometer-pro.p.rapidapi.com/4/check_account\n",
      "5746\n"
     ]
    },
    {
     "name": "stderr",
     "output_type": "stream",
     "text": [
      "5747it [43:21,  3.10s/it]"
     ]
    },
    {
     "name": "stdout",
     "output_type": "stream",
     "text": [
      "Failed on account: 73760208\n",
      "429 Client Error: Too Many Requests for url: https://botometer-pro.p.rapidapi.com/4/check_account\n",
      "5747\n"
     ]
    },
    {
     "name": "stderr",
     "output_type": "stream",
     "text": [
      "5748it [43:23,  2.83s/it]"
     ]
    },
    {
     "name": "stdout",
     "output_type": "stream",
     "text": [
      "Failed on account: 1271173646\n",
      "429 Client Error: Too Many Requests for url: https://botometer-pro.p.rapidapi.com/4/check_account\n",
      "5748\n"
     ]
    },
    {
     "name": "stderr",
     "output_type": "stream",
     "text": [
      "5749it [43:29,  3.74s/it]"
     ]
    },
    {
     "name": "stdout",
     "output_type": "stream",
     "text": [
      "Failed on account: 1640929196\n",
      "429 Client Error: Too Many Requests for url: https://botometer-pro.p.rapidapi.com/4/check_account\n",
      "5749\n"
     ]
    },
    {
     "name": "stderr",
     "output_type": "stream",
     "text": [
      "5750it [43:32,  3.64s/it]"
     ]
    },
    {
     "name": "stdout",
     "output_type": "stream",
     "text": [
      "Failed on account: 2335911820\n",
      "429 Client Error: Too Many Requests for url: https://botometer-pro.p.rapidapi.com/4/check_account\n",
      "5750\n"
     ]
    },
    {
     "name": "stderr",
     "output_type": "stream",
     "text": [
      "5751it [43:36,  3.79s/it]"
     ]
    },
    {
     "name": "stdout",
     "output_type": "stream",
     "text": [
      "Failed on account: 771745581958107136\n",
      "429 Client Error: Too Many Requests for url: https://botometer-pro.p.rapidapi.com/4/check_account\n",
      "5751\n"
     ]
    },
    {
     "name": "stderr",
     "output_type": "stream",
     "text": [
      "5752it [43:38,  3.26s/it]"
     ]
    },
    {
     "name": "stdout",
     "output_type": "stream",
     "text": [
      "Failed on account: 872230961370497024\n",
      "429 Client Error: Too Many Requests for url: https://botometer-pro.p.rapidapi.com/4/check_account\n",
      "5752\n"
     ]
    },
    {
     "name": "stderr",
     "output_type": "stream",
     "text": [
      "5753it [43:41,  3.14s/it]"
     ]
    },
    {
     "name": "stdout",
     "output_type": "stream",
     "text": [
      "Failed on account: 30451813\n",
      "429 Client Error: Too Many Requests for url: https://botometer-pro.p.rapidapi.com/4/check_account\n",
      "5753\n"
     ]
    },
    {
     "name": "stderr",
     "output_type": "stream",
     "text": [
      "5754it [43:44,  3.11s/it]"
     ]
    },
    {
     "name": "stdout",
     "output_type": "stream",
     "text": [
      "Failed on account: 1331656009\n",
      "429 Client Error: Too Many Requests for url: https://botometer-pro.p.rapidapi.com/4/check_account\n",
      "5754\n"
     ]
    },
    {
     "name": "stderr",
     "output_type": "stream",
     "text": [
      "5755it [43:46,  2.86s/it]"
     ]
    },
    {
     "name": "stdout",
     "output_type": "stream",
     "text": [
      "Failed on account: 16278219\n",
      "429 Client Error: Too Many Requests for url: https://botometer-pro.p.rapidapi.com/4/check_account\n",
      "5755\n"
     ]
    },
    {
     "name": "stderr",
     "output_type": "stream",
     "text": [
      "5756it [44:00,  6.20s/it]"
     ]
    },
    {
     "name": "stdout",
     "output_type": "stream",
     "text": [
      "Failed on account: 1058520120\n",
      "429 Client Error: Too Many Requests for url: https://botometer-pro.p.rapidapi.com/4/check_account\n",
      "5756\n"
     ]
    },
    {
     "name": "stderr",
     "output_type": "stream",
     "text": [
      "5757it [44:02,  4.87s/it]"
     ]
    },
    {
     "name": "stdout",
     "output_type": "stream",
     "text": [
      "Failed on account: 21105483\n",
      "429 Client Error: Too Many Requests for url: https://botometer-pro.p.rapidapi.com/4/check_account\n",
      "5757\n"
     ]
    },
    {
     "name": "stderr",
     "output_type": "stream",
     "text": [
      "5758it [44:05,  4.16s/it]"
     ]
    },
    {
     "name": "stdout",
     "output_type": "stream",
     "text": [
      "Failed on account: 294227087\n",
      "429 Client Error: Too Many Requests for url: https://botometer-pro.p.rapidapi.com/4/check_account\n",
      "5758\n"
     ]
    },
    {
     "name": "stderr",
     "output_type": "stream",
     "text": [
      "5759it [44:08,  3.83s/it]"
     ]
    },
    {
     "name": "stdout",
     "output_type": "stream",
     "text": [
      "Failed on account: 1934787661\n",
      "429 Client Error: Too Many Requests for url: https://botometer-pro.p.rapidapi.com/4/check_account\n",
      "5759\n"
     ]
    },
    {
     "name": "stderr",
     "output_type": "stream",
     "text": [
      "5760it [44:11,  3.53s/it]"
     ]
    },
    {
     "name": "stdout",
     "output_type": "stream",
     "text": [
      "Failed on account: 956817108\n",
      "429 Client Error: Too Many Requests for url: https://botometer-pro.p.rapidapi.com/4/check_account\n",
      "5760\n"
     ]
    },
    {
     "name": "stderr",
     "output_type": "stream",
     "text": [
      "5761it [44:18,  4.77s/it]"
     ]
    },
    {
     "name": "stdout",
     "output_type": "stream",
     "text": [
      "Failed on account: 103130238\n",
      "429 Client Error: Too Many Requests for url: https://botometer-pro.p.rapidapi.com/4/check_account\n",
      "5761\n"
     ]
    },
    {
     "name": "stderr",
     "output_type": "stream",
     "text": [
      "5762it [44:21,  4.08s/it]"
     ]
    },
    {
     "name": "stdout",
     "output_type": "stream",
     "text": [
      "Failed on account: 933499622\n",
      "429 Client Error: Too Many Requests for url: https://botometer-pro.p.rapidapi.com/4/check_account\n",
      "5762\n"
     ]
    },
    {
     "name": "stderr",
     "output_type": "stream",
     "text": [
      "5762it [44:25,  2.16it/s]\n"
     ]
    },
    {
     "ename": "KeyboardInterrupt",
     "evalue": "",
     "output_type": "error",
     "traceback": [
      "\u001b[0;31m---------------------------------------------------------------------------\u001b[0m",
      "\u001b[0;31mKeyboardInterrupt\u001b[0m                         Traceback (most recent call last)",
      "\u001b[0;32m/tmp/ipykernel_169603/4151060278.py\u001b[0m in \u001b[0;36m<module>\u001b[0;34m\u001b[0m\n\u001b[1;32m     35\u001b[0m         \u001b[0mprint\u001b[0m\u001b[0;34m(\u001b[0m\u001b[0mi\u001b[0m\u001b[0;34m)\u001b[0m\u001b[0;34m\u001b[0m\u001b[0;34m\u001b[0m\u001b[0m\n\u001b[1;32m     36\u001b[0m         \u001b[0;32mtry\u001b[0m\u001b[0;34m:\u001b[0m\u001b[0;34m\u001b[0m\u001b[0;34m\u001b[0m\u001b[0m\n\u001b[0;32m---> 37\u001b[0;31m             \u001b[0mresult\u001b[0m \u001b[0;34m=\u001b[0m \u001b[0mbom\u001b[0m\u001b[0;34m.\u001b[0m\u001b[0mcheck_account\u001b[0m\u001b[0;34m(\u001b[0m\u001b[0maccount\u001b[0m\u001b[0;34m)\u001b[0m\u001b[0;34m\u001b[0m\u001b[0;34m\u001b[0m\u001b[0m\n\u001b[0m\u001b[1;32m     38\u001b[0m             \u001b[0mdf\u001b[0m\u001b[0;34m.\u001b[0m\u001b[0mloc\u001b[0m\u001b[0;34m[\u001b[0m\u001b[0mi\u001b[0m\u001b[0;34m,\u001b[0m \u001b[0;34m\"botometer\"\u001b[0m\u001b[0;34m]\u001b[0m \u001b[0;34m=\u001b[0m \u001b[0mstr\u001b[0m\u001b[0;34m(\u001b[0m\u001b[0mresult\u001b[0m\u001b[0;34m)\u001b[0m\u001b[0;34m\u001b[0m\u001b[0;34m\u001b[0m\u001b[0m\n\u001b[1;32m     39\u001b[0m         \u001b[0;32mexcept\u001b[0m \u001b[0mException\u001b[0m \u001b[0;32mas\u001b[0m \u001b[0me\u001b[0m\u001b[0;34m:\u001b[0m\u001b[0;34m\u001b[0m\u001b[0;34m\u001b[0m\u001b[0m\n",
      "\u001b[0;32m~/anaconda3/lib/python3.9/site-packages/botometer/__init__.py\u001b[0m in \u001b[0;36mcheck_account\u001b[0;34m(self, user, full_user_object)\u001b[0m\n\u001b[1;32m    131\u001b[0m \u001b[0;34m\u001b[0m\u001b[0m\n\u001b[1;32m    132\u001b[0m         \u001b[0murl\u001b[0m \u001b[0;34m=\u001b[0m \u001b[0mself\u001b[0m\u001b[0;34m.\u001b[0m\u001b[0mbom_api_path\u001b[0m\u001b[0;34m(\u001b[0m\u001b[0;34m'check_account'\u001b[0m\u001b[0;34m)\u001b[0m\u001b[0;34m\u001b[0m\u001b[0;34m\u001b[0m\u001b[0m\n\u001b[0;32m--> 133\u001b[0;31m         \u001b[0mbom_resp\u001b[0m \u001b[0;34m=\u001b[0m \u001b[0mself\u001b[0m\u001b[0;34m.\u001b[0m\u001b[0m_bom_post\u001b[0m\u001b[0;34m(\u001b[0m\u001b[0murl\u001b[0m\u001b[0;34m,\u001b[0m \u001b[0mjson\u001b[0m\u001b[0;34m=\u001b[0m\u001b[0mpayload\u001b[0m\u001b[0;34m)\u001b[0m\u001b[0;34m\u001b[0m\u001b[0;34m\u001b[0m\u001b[0m\n\u001b[0m\u001b[1;32m    134\u001b[0m         \u001b[0mbom_resp\u001b[0m\u001b[0;34m.\u001b[0m\u001b[0mraise_for_status\u001b[0m\u001b[0;34m(\u001b[0m\u001b[0;34m)\u001b[0m\u001b[0;34m\u001b[0m\u001b[0;34m\u001b[0m\u001b[0m\n\u001b[1;32m    135\u001b[0m         \u001b[0mclassification\u001b[0m \u001b[0;34m=\u001b[0m \u001b[0mbom_resp\u001b[0m\u001b[0;34m.\u001b[0m\u001b[0mjson\u001b[0m\u001b[0;34m(\u001b[0m\u001b[0;34m)\u001b[0m\u001b[0;34m\u001b[0m\u001b[0;34m\u001b[0m\u001b[0m\n",
      "\u001b[0;32m~/anaconda3/lib/python3.9/site-packages/botometer/__init__.py\u001b[0m in \u001b[0;36m_bom_post\u001b[0;34m(self, *args, **kwargs)\u001b[0m\n\u001b[1;32m     71\u001b[0m     \u001b[0;32mdef\u001b[0m \u001b[0m_bom_post\u001b[0m\u001b[0;34m(\u001b[0m\u001b[0mself\u001b[0m\u001b[0;34m,\u001b[0m \u001b[0;34m*\u001b[0m\u001b[0margs\u001b[0m\u001b[0;34m,\u001b[0m \u001b[0;34m**\u001b[0m\u001b[0mkwargs\u001b[0m\u001b[0;34m)\u001b[0m\u001b[0;34m:\u001b[0m\u001b[0;34m\u001b[0m\u001b[0;34m\u001b[0m\u001b[0m\n\u001b[1;32m     72\u001b[0m         \u001b[0mself\u001b[0m\u001b[0;34m.\u001b[0m\u001b[0m_add_rapidapi_header\u001b[0m\u001b[0;34m(\u001b[0m\u001b[0mkwargs\u001b[0m\u001b[0;34m)\u001b[0m\u001b[0;34m\u001b[0m\u001b[0;34m\u001b[0m\u001b[0m\n\u001b[0;32m---> 73\u001b[0;31m         \u001b[0;32mreturn\u001b[0m \u001b[0mrequests\u001b[0m\u001b[0;34m.\u001b[0m\u001b[0mpost\u001b[0m\u001b[0;34m(\u001b[0m\u001b[0;34m*\u001b[0m\u001b[0margs\u001b[0m\u001b[0;34m,\u001b[0m \u001b[0;34m**\u001b[0m\u001b[0mkwargs\u001b[0m\u001b[0;34m)\u001b[0m\u001b[0;34m\u001b[0m\u001b[0;34m\u001b[0m\u001b[0m\n\u001b[0m\u001b[1;32m     74\u001b[0m \u001b[0;34m\u001b[0m\u001b[0m\n\u001b[1;32m     75\u001b[0m     \u001b[0;32mdef\u001b[0m \u001b[0m_get_twitter_data\u001b[0m\u001b[0;34m(\u001b[0m\u001b[0mself\u001b[0m\u001b[0;34m,\u001b[0m \u001b[0muser\u001b[0m\u001b[0;34m,\u001b[0m \u001b[0mfull_user_object\u001b[0m\u001b[0;34m=\u001b[0m\u001b[0;32mFalse\u001b[0m\u001b[0;34m)\u001b[0m\u001b[0;34m:\u001b[0m\u001b[0;34m\u001b[0m\u001b[0;34m\u001b[0m\u001b[0m\n",
      "\u001b[0;32m~/anaconda3/lib/python3.9/site-packages/requests/api.py\u001b[0m in \u001b[0;36mpost\u001b[0;34m(url, data, json, **kwargs)\u001b[0m\n\u001b[1;32m    115\u001b[0m     \"\"\"\n\u001b[1;32m    116\u001b[0m \u001b[0;34m\u001b[0m\u001b[0m\n\u001b[0;32m--> 117\u001b[0;31m     \u001b[0;32mreturn\u001b[0m \u001b[0mrequest\u001b[0m\u001b[0;34m(\u001b[0m\u001b[0;34m'post'\u001b[0m\u001b[0;34m,\u001b[0m \u001b[0murl\u001b[0m\u001b[0;34m,\u001b[0m \u001b[0mdata\u001b[0m\u001b[0;34m=\u001b[0m\u001b[0mdata\u001b[0m\u001b[0;34m,\u001b[0m \u001b[0mjson\u001b[0m\u001b[0;34m=\u001b[0m\u001b[0mjson\u001b[0m\u001b[0;34m,\u001b[0m \u001b[0;34m**\u001b[0m\u001b[0mkwargs\u001b[0m\u001b[0;34m)\u001b[0m\u001b[0;34m\u001b[0m\u001b[0;34m\u001b[0m\u001b[0m\n\u001b[0m\u001b[1;32m    118\u001b[0m \u001b[0;34m\u001b[0m\u001b[0m\n\u001b[1;32m    119\u001b[0m \u001b[0;34m\u001b[0m\u001b[0m\n",
      "\u001b[0;32m~/anaconda3/lib/python3.9/site-packages/requests/api.py\u001b[0m in \u001b[0;36mrequest\u001b[0;34m(method, url, **kwargs)\u001b[0m\n\u001b[1;32m     59\u001b[0m     \u001b[0;31m# cases, and look like a memory leak in others.\u001b[0m\u001b[0;34m\u001b[0m\u001b[0;34m\u001b[0m\u001b[0m\n\u001b[1;32m     60\u001b[0m     \u001b[0;32mwith\u001b[0m \u001b[0msessions\u001b[0m\u001b[0;34m.\u001b[0m\u001b[0mSession\u001b[0m\u001b[0;34m(\u001b[0m\u001b[0;34m)\u001b[0m \u001b[0;32mas\u001b[0m \u001b[0msession\u001b[0m\u001b[0;34m:\u001b[0m\u001b[0;34m\u001b[0m\u001b[0;34m\u001b[0m\u001b[0m\n\u001b[0;32m---> 61\u001b[0;31m         \u001b[0;32mreturn\u001b[0m \u001b[0msession\u001b[0m\u001b[0;34m.\u001b[0m\u001b[0mrequest\u001b[0m\u001b[0;34m(\u001b[0m\u001b[0mmethod\u001b[0m\u001b[0;34m=\u001b[0m\u001b[0mmethod\u001b[0m\u001b[0;34m,\u001b[0m \u001b[0murl\u001b[0m\u001b[0;34m=\u001b[0m\u001b[0murl\u001b[0m\u001b[0;34m,\u001b[0m \u001b[0;34m**\u001b[0m\u001b[0mkwargs\u001b[0m\u001b[0;34m)\u001b[0m\u001b[0;34m\u001b[0m\u001b[0;34m\u001b[0m\u001b[0m\n\u001b[0m\u001b[1;32m     62\u001b[0m \u001b[0;34m\u001b[0m\u001b[0m\n\u001b[1;32m     63\u001b[0m \u001b[0;34m\u001b[0m\u001b[0m\n",
      "\u001b[0;32m~/anaconda3/lib/python3.9/site-packages/requests/sessions.py\u001b[0m in \u001b[0;36mrequest\u001b[0;34m(self, method, url, params, data, headers, cookies, files, auth, timeout, allow_redirects, proxies, hooks, stream, verify, cert, json)\u001b[0m\n\u001b[1;32m    540\u001b[0m         }\n\u001b[1;32m    541\u001b[0m         \u001b[0msend_kwargs\u001b[0m\u001b[0;34m.\u001b[0m\u001b[0mupdate\u001b[0m\u001b[0;34m(\u001b[0m\u001b[0msettings\u001b[0m\u001b[0;34m)\u001b[0m\u001b[0;34m\u001b[0m\u001b[0;34m\u001b[0m\u001b[0m\n\u001b[0;32m--> 542\u001b[0;31m         \u001b[0mresp\u001b[0m \u001b[0;34m=\u001b[0m \u001b[0mself\u001b[0m\u001b[0;34m.\u001b[0m\u001b[0msend\u001b[0m\u001b[0;34m(\u001b[0m\u001b[0mprep\u001b[0m\u001b[0;34m,\u001b[0m \u001b[0;34m**\u001b[0m\u001b[0msend_kwargs\u001b[0m\u001b[0;34m)\u001b[0m\u001b[0;34m\u001b[0m\u001b[0;34m\u001b[0m\u001b[0m\n\u001b[0m\u001b[1;32m    543\u001b[0m \u001b[0;34m\u001b[0m\u001b[0m\n\u001b[1;32m    544\u001b[0m         \u001b[0;32mreturn\u001b[0m \u001b[0mresp\u001b[0m\u001b[0;34m\u001b[0m\u001b[0;34m\u001b[0m\u001b[0m\n",
      "\u001b[0;32m~/anaconda3/lib/python3.9/site-packages/requests/sessions.py\u001b[0m in \u001b[0;36msend\u001b[0;34m(self, request, **kwargs)\u001b[0m\n\u001b[1;32m    653\u001b[0m \u001b[0;34m\u001b[0m\u001b[0m\n\u001b[1;32m    654\u001b[0m         \u001b[0;31m# Send the request\u001b[0m\u001b[0;34m\u001b[0m\u001b[0;34m\u001b[0m\u001b[0m\n\u001b[0;32m--> 655\u001b[0;31m         \u001b[0mr\u001b[0m \u001b[0;34m=\u001b[0m \u001b[0madapter\u001b[0m\u001b[0;34m.\u001b[0m\u001b[0msend\u001b[0m\u001b[0;34m(\u001b[0m\u001b[0mrequest\u001b[0m\u001b[0;34m,\u001b[0m \u001b[0;34m**\u001b[0m\u001b[0mkwargs\u001b[0m\u001b[0;34m)\u001b[0m\u001b[0;34m\u001b[0m\u001b[0;34m\u001b[0m\u001b[0m\n\u001b[0m\u001b[1;32m    656\u001b[0m \u001b[0;34m\u001b[0m\u001b[0m\n\u001b[1;32m    657\u001b[0m         \u001b[0;31m# Total elapsed time of the request (approximately)\u001b[0m\u001b[0;34m\u001b[0m\u001b[0;34m\u001b[0m\u001b[0m\n",
      "\u001b[0;32m~/anaconda3/lib/python3.9/site-packages/requests/adapters.py\u001b[0m in \u001b[0;36msend\u001b[0;34m(self, request, stream, timeout, verify, cert, proxies)\u001b[0m\n\u001b[1;32m    437\u001b[0m         \u001b[0;32mtry\u001b[0m\u001b[0;34m:\u001b[0m\u001b[0;34m\u001b[0m\u001b[0;34m\u001b[0m\u001b[0m\n\u001b[1;32m    438\u001b[0m             \u001b[0;32mif\u001b[0m \u001b[0;32mnot\u001b[0m \u001b[0mchunked\u001b[0m\u001b[0;34m:\u001b[0m\u001b[0;34m\u001b[0m\u001b[0;34m\u001b[0m\u001b[0m\n\u001b[0;32m--> 439\u001b[0;31m                 resp = conn.urlopen(\n\u001b[0m\u001b[1;32m    440\u001b[0m                     \u001b[0mmethod\u001b[0m\u001b[0;34m=\u001b[0m\u001b[0mrequest\u001b[0m\u001b[0;34m.\u001b[0m\u001b[0mmethod\u001b[0m\u001b[0;34m,\u001b[0m\u001b[0;34m\u001b[0m\u001b[0;34m\u001b[0m\u001b[0m\n\u001b[1;32m    441\u001b[0m                     \u001b[0murl\u001b[0m\u001b[0;34m=\u001b[0m\u001b[0murl\u001b[0m\u001b[0;34m,\u001b[0m\u001b[0;34m\u001b[0m\u001b[0;34m\u001b[0m\u001b[0m\n",
      "\u001b[0;32m~/anaconda3/lib/python3.9/site-packages/urllib3/connectionpool.py\u001b[0m in \u001b[0;36murlopen\u001b[0;34m(self, method, url, body, headers, retries, redirect, assert_same_host, timeout, pool_timeout, release_conn, chunked, body_pos, **response_kw)\u001b[0m\n\u001b[1;32m    697\u001b[0m \u001b[0;34m\u001b[0m\u001b[0m\n\u001b[1;32m    698\u001b[0m             \u001b[0;31m# Make the request on the httplib connection object.\u001b[0m\u001b[0;34m\u001b[0m\u001b[0;34m\u001b[0m\u001b[0m\n\u001b[0;32m--> 699\u001b[0;31m             httplib_response = self._make_request(\n\u001b[0m\u001b[1;32m    700\u001b[0m                 \u001b[0mconn\u001b[0m\u001b[0;34m,\u001b[0m\u001b[0;34m\u001b[0m\u001b[0;34m\u001b[0m\u001b[0m\n\u001b[1;32m    701\u001b[0m                 \u001b[0mmethod\u001b[0m\u001b[0;34m,\u001b[0m\u001b[0;34m\u001b[0m\u001b[0;34m\u001b[0m\u001b[0m\n",
      "\u001b[0;32m~/anaconda3/lib/python3.9/site-packages/urllib3/connectionpool.py\u001b[0m in \u001b[0;36m_make_request\u001b[0;34m(self, conn, method, url, timeout, chunked, **httplib_request_kw)\u001b[0m\n\u001b[1;32m    392\u001b[0m                 \u001b[0mconn\u001b[0m\u001b[0;34m.\u001b[0m\u001b[0mrequest_chunked\u001b[0m\u001b[0;34m(\u001b[0m\u001b[0mmethod\u001b[0m\u001b[0;34m,\u001b[0m \u001b[0murl\u001b[0m\u001b[0;34m,\u001b[0m \u001b[0;34m**\u001b[0m\u001b[0mhttplib_request_kw\u001b[0m\u001b[0;34m)\u001b[0m\u001b[0;34m\u001b[0m\u001b[0;34m\u001b[0m\u001b[0m\n\u001b[1;32m    393\u001b[0m             \u001b[0;32melse\u001b[0m\u001b[0;34m:\u001b[0m\u001b[0;34m\u001b[0m\u001b[0;34m\u001b[0m\u001b[0m\n\u001b[0;32m--> 394\u001b[0;31m                 \u001b[0mconn\u001b[0m\u001b[0;34m.\u001b[0m\u001b[0mrequest\u001b[0m\u001b[0;34m(\u001b[0m\u001b[0mmethod\u001b[0m\u001b[0;34m,\u001b[0m \u001b[0murl\u001b[0m\u001b[0;34m,\u001b[0m \u001b[0;34m**\u001b[0m\u001b[0mhttplib_request_kw\u001b[0m\u001b[0;34m)\u001b[0m\u001b[0;34m\u001b[0m\u001b[0;34m\u001b[0m\u001b[0m\n\u001b[0m\u001b[1;32m    395\u001b[0m \u001b[0;34m\u001b[0m\u001b[0m\n\u001b[1;32m    396\u001b[0m         \u001b[0;31m# We are swallowing BrokenPipeError (errno.EPIPE) since the server is\u001b[0m\u001b[0;34m\u001b[0m\u001b[0;34m\u001b[0m\u001b[0m\n",
      "\u001b[0;32m~/anaconda3/lib/python3.9/site-packages/urllib3/connection.py\u001b[0m in \u001b[0;36mrequest\u001b[0;34m(self, method, url, body, headers)\u001b[0m\n\u001b[1;32m    237\u001b[0m         \u001b[0;32mif\u001b[0m \u001b[0;34m\"user-agent\"\u001b[0m \u001b[0;32mnot\u001b[0m \u001b[0;32min\u001b[0m \u001b[0;34m(\u001b[0m\u001b[0msix\u001b[0m\u001b[0;34m.\u001b[0m\u001b[0mensure_str\u001b[0m\u001b[0;34m(\u001b[0m\u001b[0mk\u001b[0m\u001b[0;34m.\u001b[0m\u001b[0mlower\u001b[0m\u001b[0;34m(\u001b[0m\u001b[0;34m)\u001b[0m\u001b[0;34m)\u001b[0m \u001b[0;32mfor\u001b[0m \u001b[0mk\u001b[0m \u001b[0;32min\u001b[0m \u001b[0mheaders\u001b[0m\u001b[0;34m)\u001b[0m\u001b[0;34m:\u001b[0m\u001b[0;34m\u001b[0m\u001b[0;34m\u001b[0m\u001b[0m\n\u001b[1;32m    238\u001b[0m             \u001b[0mheaders\u001b[0m\u001b[0;34m[\u001b[0m\u001b[0;34m\"User-Agent\"\u001b[0m\u001b[0;34m]\u001b[0m \u001b[0;34m=\u001b[0m \u001b[0m_get_default_user_agent\u001b[0m\u001b[0;34m(\u001b[0m\u001b[0;34m)\u001b[0m\u001b[0;34m\u001b[0m\u001b[0;34m\u001b[0m\u001b[0m\n\u001b[0;32m--> 239\u001b[0;31m         \u001b[0msuper\u001b[0m\u001b[0;34m(\u001b[0m\u001b[0mHTTPConnection\u001b[0m\u001b[0;34m,\u001b[0m \u001b[0mself\u001b[0m\u001b[0;34m)\u001b[0m\u001b[0;34m.\u001b[0m\u001b[0mrequest\u001b[0m\u001b[0;34m(\u001b[0m\u001b[0mmethod\u001b[0m\u001b[0;34m,\u001b[0m \u001b[0murl\u001b[0m\u001b[0;34m,\u001b[0m \u001b[0mbody\u001b[0m\u001b[0;34m=\u001b[0m\u001b[0mbody\u001b[0m\u001b[0;34m,\u001b[0m \u001b[0mheaders\u001b[0m\u001b[0;34m=\u001b[0m\u001b[0mheaders\u001b[0m\u001b[0;34m)\u001b[0m\u001b[0;34m\u001b[0m\u001b[0;34m\u001b[0m\u001b[0m\n\u001b[0m\u001b[1;32m    240\u001b[0m \u001b[0;34m\u001b[0m\u001b[0m\n\u001b[1;32m    241\u001b[0m     \u001b[0;32mdef\u001b[0m \u001b[0mrequest_chunked\u001b[0m\u001b[0;34m(\u001b[0m\u001b[0mself\u001b[0m\u001b[0;34m,\u001b[0m \u001b[0mmethod\u001b[0m\u001b[0;34m,\u001b[0m \u001b[0murl\u001b[0m\u001b[0;34m,\u001b[0m \u001b[0mbody\u001b[0m\u001b[0;34m=\u001b[0m\u001b[0;32mNone\u001b[0m\u001b[0;34m,\u001b[0m \u001b[0mheaders\u001b[0m\u001b[0;34m=\u001b[0m\u001b[0;32mNone\u001b[0m\u001b[0;34m)\u001b[0m\u001b[0;34m:\u001b[0m\u001b[0;34m\u001b[0m\u001b[0;34m\u001b[0m\u001b[0m\n",
      "\u001b[0;32m~/anaconda3/lib/python3.9/http/client.py\u001b[0m in \u001b[0;36mrequest\u001b[0;34m(self, method, url, body, headers, encode_chunked)\u001b[0m\n\u001b[1;32m   1277\u001b[0m                 encode_chunked=False):\n\u001b[1;32m   1278\u001b[0m         \u001b[0;34m\"\"\"Send a complete request to the server.\"\"\"\u001b[0m\u001b[0;34m\u001b[0m\u001b[0;34m\u001b[0m\u001b[0m\n\u001b[0;32m-> 1279\u001b[0;31m         \u001b[0mself\u001b[0m\u001b[0;34m.\u001b[0m\u001b[0m_send_request\u001b[0m\u001b[0;34m(\u001b[0m\u001b[0mmethod\u001b[0m\u001b[0;34m,\u001b[0m \u001b[0murl\u001b[0m\u001b[0;34m,\u001b[0m \u001b[0mbody\u001b[0m\u001b[0;34m,\u001b[0m \u001b[0mheaders\u001b[0m\u001b[0;34m,\u001b[0m \u001b[0mencode_chunked\u001b[0m\u001b[0;34m)\u001b[0m\u001b[0;34m\u001b[0m\u001b[0;34m\u001b[0m\u001b[0m\n\u001b[0m\u001b[1;32m   1280\u001b[0m \u001b[0;34m\u001b[0m\u001b[0m\n\u001b[1;32m   1281\u001b[0m     \u001b[0;32mdef\u001b[0m \u001b[0m_send_request\u001b[0m\u001b[0;34m(\u001b[0m\u001b[0mself\u001b[0m\u001b[0;34m,\u001b[0m \u001b[0mmethod\u001b[0m\u001b[0;34m,\u001b[0m \u001b[0murl\u001b[0m\u001b[0;34m,\u001b[0m \u001b[0mbody\u001b[0m\u001b[0;34m,\u001b[0m \u001b[0mheaders\u001b[0m\u001b[0;34m,\u001b[0m \u001b[0mencode_chunked\u001b[0m\u001b[0;34m)\u001b[0m\u001b[0;34m:\u001b[0m\u001b[0;34m\u001b[0m\u001b[0;34m\u001b[0m\u001b[0m\n",
      "\u001b[0;32m~/anaconda3/lib/python3.9/http/client.py\u001b[0m in \u001b[0;36m_send_request\u001b[0;34m(self, method, url, body, headers, encode_chunked)\u001b[0m\n\u001b[1;32m   1323\u001b[0m             \u001b[0;31m# default charset of iso-8859-1.\u001b[0m\u001b[0;34m\u001b[0m\u001b[0;34m\u001b[0m\u001b[0m\n\u001b[1;32m   1324\u001b[0m             \u001b[0mbody\u001b[0m \u001b[0;34m=\u001b[0m \u001b[0m_encode\u001b[0m\u001b[0;34m(\u001b[0m\u001b[0mbody\u001b[0m\u001b[0;34m,\u001b[0m \u001b[0;34m'body'\u001b[0m\u001b[0;34m)\u001b[0m\u001b[0;34m\u001b[0m\u001b[0;34m\u001b[0m\u001b[0m\n\u001b[0;32m-> 1325\u001b[0;31m         \u001b[0mself\u001b[0m\u001b[0;34m.\u001b[0m\u001b[0mendheaders\u001b[0m\u001b[0;34m(\u001b[0m\u001b[0mbody\u001b[0m\u001b[0;34m,\u001b[0m \u001b[0mencode_chunked\u001b[0m\u001b[0;34m=\u001b[0m\u001b[0mencode_chunked\u001b[0m\u001b[0;34m)\u001b[0m\u001b[0;34m\u001b[0m\u001b[0;34m\u001b[0m\u001b[0m\n\u001b[0m\u001b[1;32m   1326\u001b[0m \u001b[0;34m\u001b[0m\u001b[0m\n\u001b[1;32m   1327\u001b[0m     \u001b[0;32mdef\u001b[0m \u001b[0mgetresponse\u001b[0m\u001b[0;34m(\u001b[0m\u001b[0mself\u001b[0m\u001b[0;34m)\u001b[0m\u001b[0;34m:\u001b[0m\u001b[0;34m\u001b[0m\u001b[0;34m\u001b[0m\u001b[0m\n",
      "\u001b[0;32m~/anaconda3/lib/python3.9/http/client.py\u001b[0m in \u001b[0;36mendheaders\u001b[0;34m(self, message_body, encode_chunked)\u001b[0m\n\u001b[1;32m   1272\u001b[0m         \u001b[0;32melse\u001b[0m\u001b[0;34m:\u001b[0m\u001b[0;34m\u001b[0m\u001b[0;34m\u001b[0m\u001b[0m\n\u001b[1;32m   1273\u001b[0m             \u001b[0;32mraise\u001b[0m \u001b[0mCannotSendHeader\u001b[0m\u001b[0;34m(\u001b[0m\u001b[0;34m)\u001b[0m\u001b[0;34m\u001b[0m\u001b[0;34m\u001b[0m\u001b[0m\n\u001b[0;32m-> 1274\u001b[0;31m         \u001b[0mself\u001b[0m\u001b[0;34m.\u001b[0m\u001b[0m_send_output\u001b[0m\u001b[0;34m(\u001b[0m\u001b[0mmessage_body\u001b[0m\u001b[0;34m,\u001b[0m \u001b[0mencode_chunked\u001b[0m\u001b[0;34m=\u001b[0m\u001b[0mencode_chunked\u001b[0m\u001b[0;34m)\u001b[0m\u001b[0;34m\u001b[0m\u001b[0;34m\u001b[0m\u001b[0m\n\u001b[0m\u001b[1;32m   1275\u001b[0m \u001b[0;34m\u001b[0m\u001b[0m\n\u001b[1;32m   1276\u001b[0m     def request(self, method, url, body=None, headers={}, *,\n",
      "\u001b[0;32m~/anaconda3/lib/python3.9/http/client.py\u001b[0m in \u001b[0;36m_send_output\u001b[0;34m(self, message_body, encode_chunked)\u001b[0m\n\u001b[1;32m   1071\u001b[0m                     \u001b[0mchunk\u001b[0m \u001b[0;34m=\u001b[0m \u001b[0;34mf'{len(chunk):X}\\r\\n'\u001b[0m\u001b[0;34m.\u001b[0m\u001b[0mencode\u001b[0m\u001b[0;34m(\u001b[0m\u001b[0;34m'ascii'\u001b[0m\u001b[0;34m)\u001b[0m \u001b[0;34m+\u001b[0m \u001b[0mchunk\u001b[0m\u001b[0;31m \u001b[0m\u001b[0;31m\\\u001b[0m\u001b[0;34m\u001b[0m\u001b[0;34m\u001b[0m\u001b[0m\n\u001b[1;32m   1072\u001b[0m                         \u001b[0;34m+\u001b[0m \u001b[0;34mb'\\r\\n'\u001b[0m\u001b[0;34m\u001b[0m\u001b[0;34m\u001b[0m\u001b[0m\n\u001b[0;32m-> 1073\u001b[0;31m                 \u001b[0mself\u001b[0m\u001b[0;34m.\u001b[0m\u001b[0msend\u001b[0m\u001b[0;34m(\u001b[0m\u001b[0mchunk\u001b[0m\u001b[0;34m)\u001b[0m\u001b[0;34m\u001b[0m\u001b[0;34m\u001b[0m\u001b[0m\n\u001b[0m\u001b[1;32m   1074\u001b[0m \u001b[0;34m\u001b[0m\u001b[0m\n\u001b[1;32m   1075\u001b[0m             \u001b[0;32mif\u001b[0m \u001b[0mencode_chunked\u001b[0m \u001b[0;32mand\u001b[0m \u001b[0mself\u001b[0m\u001b[0;34m.\u001b[0m\u001b[0m_http_vsn\u001b[0m \u001b[0;34m==\u001b[0m \u001b[0;36m11\u001b[0m\u001b[0;34m:\u001b[0m\u001b[0;34m\u001b[0m\u001b[0;34m\u001b[0m\u001b[0m\n",
      "\u001b[0;32m~/anaconda3/lib/python3.9/http/client.py\u001b[0m in \u001b[0;36msend\u001b[0;34m(self, data)\u001b[0m\n\u001b[1;32m    993\u001b[0m             \u001b[0;32mreturn\u001b[0m\u001b[0;34m\u001b[0m\u001b[0;34m\u001b[0m\u001b[0m\n\u001b[1;32m    994\u001b[0m         \u001b[0;32mtry\u001b[0m\u001b[0;34m:\u001b[0m\u001b[0;34m\u001b[0m\u001b[0;34m\u001b[0m\u001b[0m\n\u001b[0;32m--> 995\u001b[0;31m             \u001b[0mself\u001b[0m\u001b[0;34m.\u001b[0m\u001b[0msock\u001b[0m\u001b[0;34m.\u001b[0m\u001b[0msendall\u001b[0m\u001b[0;34m(\u001b[0m\u001b[0mdata\u001b[0m\u001b[0;34m)\u001b[0m\u001b[0;34m\u001b[0m\u001b[0;34m\u001b[0m\u001b[0m\n\u001b[0m\u001b[1;32m    996\u001b[0m         \u001b[0;32mexcept\u001b[0m \u001b[0mTypeError\u001b[0m\u001b[0;34m:\u001b[0m\u001b[0;34m\u001b[0m\u001b[0;34m\u001b[0m\u001b[0m\n\u001b[1;32m    997\u001b[0m             \u001b[0;32mif\u001b[0m \u001b[0misinstance\u001b[0m\u001b[0;34m(\u001b[0m\u001b[0mdata\u001b[0m\u001b[0;34m,\u001b[0m \u001b[0mcollections\u001b[0m\u001b[0;34m.\u001b[0m\u001b[0mabc\u001b[0m\u001b[0;34m.\u001b[0m\u001b[0mIterable\u001b[0m\u001b[0;34m)\u001b[0m\u001b[0;34m:\u001b[0m\u001b[0;34m\u001b[0m\u001b[0;34m\u001b[0m\u001b[0m\n",
      "\u001b[0;32m~/anaconda3/lib/python3.9/ssl.py\u001b[0m in \u001b[0;36msendall\u001b[0;34m(self, data, flags)\u001b[0m\n\u001b[1;32m   1202\u001b[0m                 \u001b[0mamount\u001b[0m \u001b[0;34m=\u001b[0m \u001b[0mlen\u001b[0m\u001b[0;34m(\u001b[0m\u001b[0mbyte_view\u001b[0m\u001b[0;34m)\u001b[0m\u001b[0;34m\u001b[0m\u001b[0;34m\u001b[0m\u001b[0m\n\u001b[1;32m   1203\u001b[0m                 \u001b[0;32mwhile\u001b[0m \u001b[0mcount\u001b[0m \u001b[0;34m<\u001b[0m \u001b[0mamount\u001b[0m\u001b[0;34m:\u001b[0m\u001b[0;34m\u001b[0m\u001b[0;34m\u001b[0m\u001b[0m\n\u001b[0;32m-> 1204\u001b[0;31m                     \u001b[0mv\u001b[0m \u001b[0;34m=\u001b[0m \u001b[0mself\u001b[0m\u001b[0;34m.\u001b[0m\u001b[0msend\u001b[0m\u001b[0;34m(\u001b[0m\u001b[0mbyte_view\u001b[0m\u001b[0;34m[\u001b[0m\u001b[0mcount\u001b[0m\u001b[0;34m:\u001b[0m\u001b[0;34m]\u001b[0m\u001b[0;34m)\u001b[0m\u001b[0;34m\u001b[0m\u001b[0;34m\u001b[0m\u001b[0m\n\u001b[0m\u001b[1;32m   1205\u001b[0m                     \u001b[0mcount\u001b[0m \u001b[0;34m+=\u001b[0m \u001b[0mv\u001b[0m\u001b[0;34m\u001b[0m\u001b[0;34m\u001b[0m\u001b[0m\n\u001b[1;32m   1206\u001b[0m         \u001b[0;32melse\u001b[0m\u001b[0;34m:\u001b[0m\u001b[0;34m\u001b[0m\u001b[0;34m\u001b[0m\u001b[0m\n",
      "\u001b[0;32m~/anaconda3/lib/python3.9/ssl.py\u001b[0m in \u001b[0;36msend\u001b[0;34m(self, data, flags)\u001b[0m\n\u001b[1;32m   1171\u001b[0m                     \u001b[0;34m\"non-zero flags not allowed in calls to send() on %s\"\u001b[0m \u001b[0;34m%\u001b[0m\u001b[0;34m\u001b[0m\u001b[0;34m\u001b[0m\u001b[0m\n\u001b[1;32m   1172\u001b[0m                     self.__class__)\n\u001b[0;32m-> 1173\u001b[0;31m             \u001b[0;32mreturn\u001b[0m \u001b[0mself\u001b[0m\u001b[0;34m.\u001b[0m\u001b[0m_sslobj\u001b[0m\u001b[0;34m.\u001b[0m\u001b[0mwrite\u001b[0m\u001b[0;34m(\u001b[0m\u001b[0mdata\u001b[0m\u001b[0;34m)\u001b[0m\u001b[0;34m\u001b[0m\u001b[0;34m\u001b[0m\u001b[0m\n\u001b[0m\u001b[1;32m   1174\u001b[0m         \u001b[0;32melse\u001b[0m\u001b[0;34m:\u001b[0m\u001b[0;34m\u001b[0m\u001b[0;34m\u001b[0m\u001b[0m\n\u001b[1;32m   1175\u001b[0m             \u001b[0;32mreturn\u001b[0m \u001b[0msuper\u001b[0m\u001b[0;34m(\u001b[0m\u001b[0;34m)\u001b[0m\u001b[0;34m.\u001b[0m\u001b[0msend\u001b[0m\u001b[0;34m(\u001b[0m\u001b[0mdata\u001b[0m\u001b[0;34m,\u001b[0m \u001b[0mflags\u001b[0m\u001b[0;34m)\u001b[0m\u001b[0;34m\u001b[0m\u001b[0;34m\u001b[0m\u001b[0m\n",
      "\u001b[0;31mKeyboardInterrupt\u001b[0m: "
     ]
    }
   ],
   "source": [
    "import botometer\n",
    "\n",
    "rapidapi_key = \"b0dd966c59mshdf2db2daf9a121fp15f57djsn5bf9d54db4aa\"\n",
    "consumer_key, consumer_secret = \"uHktObbiyJpGoLUaENXdpUWyj\", \"DLoJ8VRhFUK4GQeo3XUP2LGaSN4D7a2mAZqSKlRQshr6N0Ru1r\"\n",
    "access_token, access_token_secret = \"4121890515-8wV0UlTyu9hFzJL9d8NBU6BY24STUtS7zFeAcel\", \"vfnDrkEUAHtVayGJDZxau18mPjG4CuyB2JW6sG0xeYFGs\"\n",
    "\n",
    "\n",
    "twitter_app_auth = {\n",
    "    'consumer_key': consumer_key, # 'sO59YfsV552iCsfLLpQTuS64T',\n",
    "    'consumer_secret': consumer_secret, #'YVGEDbcA3Mg3bTY9rwXpLAH5ATOzbmhRBZ92wuWaBfVMdiflzq',\n",
    "    'access_token': access_token, # 'AAAAAAAAAAAAAAAAAAAAAD%2FZWwEAAAAAJgG8hY2XJfmsYbbs%2Bp5BruRr8aM%3DtRxrtqs0eEhHQ9ZFE9U7tRlNnqm7oPUXeQEijSnj3RgxWgvN5l',\n",
    "    'access_token_secret': access_token_secret,\n",
    "  }\n",
    "bom = botometer.Botometer(wait_on_ratelimit=True,\n",
    "                          rapidapi_key=rapidapi_key,\n",
    "                          **twitter_app_auth)\n",
    "\n",
    "# Check a single account by screen name\n",
    "# result = bom.check_account('@clayadavis')\n",
    "\n",
    "# Check a single account by id\n",
    "# result = bom.check_account(1548959833)\n",
    "\n",
    "# Check a sequence of accounts\n",
    "# accounts = ['@clayadavis', '@onurvarol', '@jabawack']\n",
    "\n",
    "\n",
    "\n",
    "# df = pd.read_csv(\"snopes_botometer_406.csv\")\n",
    "\n",
    "accounts = df.acc_id.tolist()\n",
    "\n",
    "for i, account in tqdm(enumerate(accounts)):\n",
    "    if i > 5724:\n",
    "        print(i)\n",
    "        try:\n",
    "            result = bom.check_account(account)\n",
    "            df.loc[i, \"botometer\"] = str(result)\n",
    "        except Exception as e:\n",
    "            print(f\"Failed on account: {account}\")\n",
    "            print(e)\n",
    "            df.loc[i, \"botometer\"] = str({'code': 34, 'message': 'Sorry, that page does not exist.'})\n",
    "    \n",
    "    \n",
    "# for i, result in tqdm(enumerate(bom.check_accounts_in(accounts[407:]))):\n",
    "#     print(accounts[(407+i)])\n",
    "#     try:\n",
    "# #         snopes_acc.loc[i, \"botometer\"] = str(result[1])\n",
    "#         snopes_acc.loc[snopes_acc.acc_id.isin([result[0]]).index, \"botometer\"] = str(result[1])\n",
    "#     except Exception as e:\n",
    "#         print(e)\n",
    "#         snopes_acc.loc[snopes_acc.acc_id.isin([result[0]]).index, \"botometer\"] = None\n"
   ]
  },
  {
   "cell_type": "code",
   "execution_count": 29,
   "metadata": {},
   "outputs": [],
   "source": [
    "df.to_csv(\"snopes_5724.csv\", index=False)"
   ]
  },
  {
   "cell_type": "code",
   "execution_count": 28,
   "metadata": {},
   "outputs": [
    {
     "data": {
      "text/html": [
       "<div>\n",
       "<style scoped>\n",
       "    .dataframe tbody tr th:only-of-type {\n",
       "        vertical-align: middle;\n",
       "    }\n",
       "\n",
       "    .dataframe tbody tr th {\n",
       "        vertical-align: top;\n",
       "    }\n",
       "\n",
       "    .dataframe thead th {\n",
       "        text-align: right;\n",
       "    }\n",
       "</style>\n",
       "<table border=\"1\" class=\"dataframe\">\n",
       "  <thead>\n",
       "    <tr style=\"text-align: right;\">\n",
       "      <th></th>\n",
       "      <th>id</th>\n",
       "      <th>original_id</th>\n",
       "      <th>tweet_text</th>\n",
       "      <th>tweet_url</th>\n",
       "      <th>claim</th>\n",
       "      <th>rating</th>\n",
       "      <th>images</th>\n",
       "      <th>text_images</th>\n",
       "      <th>source</th>\n",
       "      <th>label</th>\n",
       "      <th>label_info</th>\n",
       "      <th>available</th>\n",
       "      <th>acc_id</th>\n",
       "      <th>botometer</th>\n",
       "    </tr>\n",
       "  </thead>\n",
       "  <tbody>\n",
       "    <tr>\n",
       "      <th>5700</th>\n",
       "      <td>960211823466352640</td>\n",
       "      <td>960211086707376129</td>\n",
       "      <td>So now it’s time for the guys to say #MeToo ht...</td>\n",
       "      <td>https://twitter.com/POTUS/status/9602118234663...</td>\n",
       "      <td>Lord of the Flies author William Golding once ...</td>\n",
       "      <td>['https://www.snopes.com/tachyon/2018/03/ratin...</td>\n",
       "      <td>http://pbs.twimg.com/media/DVNa4_LVMAAe4AV.jpg</td>\n",
       "      <td>Sir William Golding regarding women Lessons Ta...</td>\n",
       "      <td>https://www.snopes.com/fact-check/william-gold...</td>\n",
       "      <td>true</td>\n",
       "      <td>NaN</td>\n",
       "      <td>ok</td>\n",
       "      <td>19495609</td>\n",
       "      <td>{'cap': {'english': 0.3912159239072283, 'unive...</td>\n",
       "    </tr>\n",
       "    <tr>\n",
       "      <th>5701</th>\n",
       "      <td>960258676593274880</td>\n",
       "      <td>960232082088669184</td>\n",
       "      <td>Hey there, anyone know a Jason Paul Naglich of...</td>\n",
       "      <td>https://twitter.com/POTUS/status/9602586765932...</td>\n",
       "      <td>A restaurant customer named Jason Naglich wrot...</td>\n",
       "      <td>['https://www.snopes.com/tachyon/2018/03/ratin...</td>\n",
       "      <td>http://pbs.twimg.com/media/DVNt559VMAArD_-.jpg</td>\n",
       "      <td>Table : ptnomsE AIO 3 Entry Mode : Card Number...</td>\n",
       "      <td>https://www.snopes.com/fact-check/tip-non-immi...</td>\n",
       "      <td>unproven</td>\n",
       "      <td>NaN</td>\n",
       "      <td>ok</td>\n",
       "      <td>2206395156</td>\n",
       "      <td>{'cap': {'english': 0.30618807248975083, 'univ...</td>\n",
       "    </tr>\n",
       "    <tr>\n",
       "      <th>5702</th>\n",
       "      <td>960359630261153797</td>\n",
       "      <td>960250090345578496</td>\n",
       "      <td>Anybody know Jason Paul Naglich of Redondo Bea...</td>\n",
       "      <td>https://twitter.com/POTUS/status/9603596302611...</td>\n",
       "      <td>A restaurant customer named Jason Naglich wrot...</td>\n",
       "      <td>['https://www.snopes.com/tachyon/2018/03/ratin...</td>\n",
       "      <td>http://pbs.twimg.com/media/DVN-XStVMAAWCFH.jpg</td>\n",
       "      <td>Table : ptnomsE Entry Mode : Card Number Card ...</td>\n",
       "      <td>https://www.snopes.com/fact-check/tip-non-immi...</td>\n",
       "      <td>unproven</td>\n",
       "      <td>NaN</td>\n",
       "      <td>ok</td>\n",
       "      <td>805807750659702784</td>\n",
       "      <td>{'cap': {'english': 0.8457543526336647, 'unive...</td>\n",
       "    </tr>\n",
       "    <tr>\n",
       "      <th>5703</th>\n",
       "      <td>960278836691652609</td>\n",
       "      <td>960274232310747136</td>\n",
       "      <td>@aravosis Facts, like science and education, w...</td>\n",
       "      <td>https://twitter.com/POTUS/status/9602788366916...</td>\n",
       "      <td>The Fox News Channel has been banned in Canada...</td>\n",
       "      <td>['https://www.snopes.com/tachyon/2018/03/ratin...</td>\n",
       "      <td>http://pbs.twimg.com/media/DVOTs6iVQAA5l5V.jpg</td>\n",
       "      <td>Fun fact : Canada's Truth in Journalism Law pr...</td>\n",
       "      <td>https://www.snopes.com/fact-check/canadian-fox/</td>\n",
       "      <td>false</td>\n",
       "      <td>NaN</td>\n",
       "      <td>ok</td>\n",
       "      <td>820780116116541440</td>\n",
       "      <td>{'cap': {'english': 0.8395863545645614, 'unive...</td>\n",
       "    </tr>\n",
       "    <tr>\n",
       "      <th>5704</th>\n",
       "      <td>960343063229902848</td>\n",
       "      <td>960342616461029376</td>\n",
       "      <td>Reflect on this @PeterDutton_MP https://t.co/j...</td>\n",
       "      <td>https://twitter.com/POTUS/status/9603430632299...</td>\n",
       "      <td>The family of Anne Frank sought (and was denie...</td>\n",
       "      <td>['https://www.snopes.com/tachyon/2018/03/ratin...</td>\n",
       "      <td>http://pbs.twimg.com/media/DVPSg0RUQAAhKpe.jpg</td>\n",
       "      <td>Anne Frank's visa application was turned down ...</td>\n",
       "      <td>https://www.snopes.com/fact-check/anne-frank-r...</td>\n",
       "      <td>true</td>\n",
       "      <td>NaN</td>\n",
       "      <td>ok</td>\n",
       "      <td>15225512</td>\n",
       "      <td>{'cap': {'english': 0.5539725719744064, 'unive...</td>\n",
       "    </tr>\n",
       "    <tr>\n",
       "      <th>5705</th>\n",
       "      <td>960361754671841280</td>\n",
       "      <td>960359357836812289</td>\n",
       "      <td>@FiveRights Well said and loved by the Hollywo...</td>\n",
       "      <td>https://twitter.com/POTUS/status/9603617546718...</td>\n",
       "      <td>An image depicts Ariana Grande defiling the Am...</td>\n",
       "      <td>['https://www.snopes.com/tachyon/2018/03/ratin...</td>\n",
       "      <td>http://pbs.twimg.com/media/DVPhvoDVAAEZ6BU.jpg</td>\n",
       "      <td>a yet . I too , am wiping my ass with your SHI...</td>\n",
       "      <td>https://www.snopes.com/fact-check/ariana-grand...</td>\n",
       "      <td>false</td>\n",
       "      <td>NaN</td>\n",
       "      <td>missing</td>\n",
       "      <td>120199354</td>\n",
       "      <td>{'cap': {'english': 0.2787259978325127, 'unive...</td>\n",
       "    </tr>\n",
       "    <tr>\n",
       "      <th>5706</th>\n",
       "      <td>960387472315297792</td>\n",
       "      <td>960384742687322114</td>\n",
       "      <td>Jason Paul Naglich of Redondo Beach, CA. assum...</td>\n",
       "      <td>https://twitter.com/POTUS/status/9603874723152...</td>\n",
       "      <td>A restaurant customer named Jason Naglich wrot...</td>\n",
       "      <td>['https://www.snopes.com/tachyon/2018/03/ratin...</td>\n",
       "      <td>http://pbs.twimg.com/media/DVP40xNUQAAp2Vt.jpg</td>\n",
       "      <td>Table : pos : Entry Mode : AIO 3 Card Number :...</td>\n",
       "      <td>https://www.snopes.com/fact-check/tip-non-immi...</td>\n",
       "      <td>unproven</td>\n",
       "      <td>NaN</td>\n",
       "      <td>ok</td>\n",
       "      <td>3420717695</td>\n",
       "      <td>{'cap': {'english': 0.6004883262510591, 'unive...</td>\n",
       "    </tr>\n",
       "    <tr>\n",
       "      <th>5707</th>\n",
       "      <td>960602128573181952</td>\n",
       "      <td>960428922809692161</td>\n",
       "      <td>Philadelphia learns Obama was abusing his powe...</td>\n",
       "      <td>https://twitter.com/POTUS/status/9606021285731...</td>\n",
       "      <td>President B. Lyndon Johnson once said, \"I'll h...</td>\n",
       "      <td>['https://www.snopes.com/tachyon/2018/03/ratin...</td>\n",
       "      <td>http://pbs.twimg.com/media/DVQgP_1VMAEHN4R.jpg</td>\n",
       "      <td>NaN</td>\n",
       "      <td>https://www.snopes.com/fact-check/lbj-voting-d...</td>\n",
       "      <td>unproven</td>\n",
       "      <td>NaN</td>\n",
       "      <td>ok</td>\n",
       "      <td>707246777515245568</td>\n",
       "      <td>{'code': 34, 'message': 'Sorry, that page does...</td>\n",
       "    </tr>\n",
       "    <tr>\n",
       "      <th>5708</th>\n",
       "      <td>961846888923148288</td>\n",
       "      <td>960549765284007937</td>\n",
       "      <td>Dear @realDonaldTrump,  Before you take a swip...</td>\n",
       "      <td>https://twitter.com/POTUS/status/9618468889231...</td>\n",
       "      <td>643,000 Americans declare bankruptcy over medi...</td>\n",
       "      <td>['https://www.snopes.com/tachyon/2018/03/ratin...</td>\n",
       "      <td>http://pbs.twimg.com/media/DVSO6nzW4AAXyBG.jpg</td>\n",
       "      <td>NUMBER OF PEOPLE WHO GO BANKRUPT EVERY YEAR BE...</td>\n",
       "      <td>https://www.snopes.com/fact-check/643000-bankr...</td>\n",
       "      <td>mixture</td>\n",
       "      <td>NaN</td>\n",
       "      <td>missing</td>\n",
       "      <td>4882743003</td>\n",
       "      <td>{'cap': {'english': 0.7971037475964349, 'unive...</td>\n",
       "    </tr>\n",
       "    <tr>\n",
       "      <th>5709</th>\n",
       "      <td>960609867147960320</td>\n",
       "      <td>960561748272209921</td>\n",
       "      <td>@realDonaldTrump lmfao https://t.co/jZDqRFDrgK</td>\n",
       "      <td>https://twitter.com/POTUS/status/9606098671479...</td>\n",
       "      <td>The Philadelphia Eagles responded to a tweet f...</td>\n",
       "      <td>['https://www.snopes.com/tachyon/2018/03/ratin...</td>\n",
       "      <td>http://pbs.twimg.com/media/DVSZ0DMW4AE5TQW.jpg</td>\n",
       "      <td>Donald J . Trump O @user Congratulations to th...</td>\n",
       "      <td>https://www.snopes.com/fact-check/eagles-respo...</td>\n",
       "      <td>false</td>\n",
       "      <td>NaN</td>\n",
       "      <td>ok</td>\n",
       "      <td>32293987</td>\n",
       "      <td>{'cap': {'english': 0.5539725719744064, 'unive...</td>\n",
       "    </tr>\n",
       "    <tr>\n",
       "      <th>5710</th>\n",
       "      <td>960570420079538176</td>\n",
       "      <td>960569427665317891</td>\n",
       "      <td>Chucking out loads of old kids VHS's today. Th...</td>\n",
       "      <td>https://twitter.com/POTUS/status/9605704200795...</td>\n",
       "      <td>\"Black Diamond Collection\" Disney films on VHS...</td>\n",
       "      <td>['https://www.snopes.com/tachyon/2018/03/ratin...</td>\n",
       "      <td>['http://pbs.twimg.com/media/DVSgpl_X0AEMGZ4.j...</td>\n",
       "      <td>['Beauty and the Beast VHS 1992 DISNEY Byauty ...</td>\n",
       "      <td>https://www.snopes.com/fact-check/black-diamon...</td>\n",
       "      <td>mostly-false</td>\n",
       "      <td>NaN</td>\n",
       "      <td>ok</td>\n",
       "      <td>279513123</td>\n",
       "      <td>{'cap': {'english': 0.36264564124632276, 'univ...</td>\n",
       "    </tr>\n",
       "    <tr>\n",
       "      <th>5711</th>\n",
       "      <td>960834901649051648</td>\n",
       "      <td>960579056231243776</td>\n",
       "      <td>\" For the life of me , and I'll never know how...</td>\n",
       "      <td>https://twitter.com/POTUS/status/9608349016490...</td>\n",
       "      <td>Ronald Reagan said he felt like he was shaking...</td>\n",
       "      <td>['https://www.snopes.com/tachyon/2018/03/ratin...</td>\n",
       "      <td>http://pbs.twimg.com/media/DVSpjmDW4AAR7bH.jpg</td>\n",
       "      <td>Prophetic Reagan For the life of me , ' and I'...</td>\n",
       "      <td>https://www.snopes.com/fact-check/reagan-trump...</td>\n",
       "      <td>false</td>\n",
       "      <td>NaN</td>\n",
       "      <td>ok</td>\n",
       "      <td>817158775610179584</td>\n",
       "      <td>{'cap': {'english': 0.7053377817049258, 'unive...</td>\n",
       "    </tr>\n",
       "    <tr>\n",
       "      <th>5712</th>\n",
       "      <td>960639726524030978</td>\n",
       "      <td>960603020034822145</td>\n",
       "      <td>.This. https://t.co/MybBci3r6i</td>\n",
       "      <td>https://twitter.com/POTUS/status/9606397265240...</td>\n",
       "      <td>Sophia Stewart won a large judgment in a copyr...</td>\n",
       "      <td>['https://www.snopes.com/tachyon/2018/03/ratin...</td>\n",
       "      <td>http://pbs.twimg.com/media/DVS_WqDXkAEKAUc.jpg</td>\n",
       "      <td>Sitting in her home unemployed in the late 70 ...</td>\n",
       "      <td>https://www.snopes.com/fact-check/sophia-stewa...</td>\n",
       "      <td>false</td>\n",
       "      <td>NaN</td>\n",
       "      <td>ok</td>\n",
       "      <td>818629189318348800</td>\n",
       "      <td>{'cap': {'english': 0.7287106185584935, 'unive...</td>\n",
       "    </tr>\n",
       "    <tr>\n",
       "      <th>5713</th>\n",
       "      <td>967950692244627456</td>\n",
       "      <td>960606621977206785</td>\n",
       "      <td>@Imaginer77 @StopTrump2020 More, ................</td>\n",
       "      <td>https://twitter.com/POTUS/status/9679506922446...</td>\n",
       "      <td>Bill Clinton has quietly done away with severa...</td>\n",
       "      <td>['https://www.snopes.com/tachyon/2018/03/ratin...</td>\n",
       "      <td>http://pbs.twimg.com/media/DVTCkm0VQAACUqB.jpg</td>\n",
       "      <td>THE CLiNTON ODY.BAGS l - James McDougal 2 Mary...</td>\n",
       "      <td>https://www.snopes.com/fact-check/clinton-body...</td>\n",
       "      <td>false</td>\n",
       "      <td>NaN</td>\n",
       "      <td>ok</td>\n",
       "      <td>2375662316</td>\n",
       "      <td>{'cap': {'english': 0.5778862084370772, 'unive...</td>\n",
       "    </tr>\n",
       "    <tr>\n",
       "      <th>5714</th>\n",
       "      <td>960619124970999809</td>\n",
       "      <td>960611270625058821</td>\n",
       "      <td>I want this to be not a hoax almost more than ...</td>\n",
       "      <td>https://twitter.com/POTUS/status/9606191249709...</td>\n",
       "      <td>The Philadelphia Eagles responded to a tweet f...</td>\n",
       "      <td>['https://www.snopes.com/tachyon/2018/03/ratin...</td>\n",
       "      <td>http://pbs.twimg.com/media/DVTG2daXkAAhh9M.jpg</td>\n",
       "      <td>Donald J . Trump O @user Congratulations to th...</td>\n",
       "      <td>https://www.snopes.com/fact-check/eagles-respo...</td>\n",
       "      <td>false</td>\n",
       "      <td>NaN</td>\n",
       "      <td>ok</td>\n",
       "      <td>103357357</td>\n",
       "      <td>{'cap': {'english': 0.2787259978325127, 'unive...</td>\n",
       "    </tr>\n",
       "    <tr>\n",
       "      <th>5715</th>\n",
       "      <td>960658940567703552</td>\n",
       "      <td>960612900615442433</td>\n",
       "      <td>Now that’s one of the juiciest clap backs of a...</td>\n",
       "      <td>https://twitter.com/POTUS/status/9606589405677...</td>\n",
       "      <td>The Philadelphia Eagles responded to a tweet f...</td>\n",
       "      <td>['https://www.snopes.com/tachyon/2018/03/ratin...</td>\n",
       "      <td>http://pbs.twimg.com/media/DVTIV4VXcAACesu.jpg</td>\n",
       "      <td>Donald J . Trump @user Congratulations to the ...</td>\n",
       "      <td>https://www.snopes.com/fact-check/eagles-respo...</td>\n",
       "      <td>false</td>\n",
       "      <td>NaN</td>\n",
       "      <td>ok</td>\n",
       "      <td>2147604445</td>\n",
       "      <td>{'cap': {'english': 0.30618807248975083, 'univ...</td>\n",
       "    </tr>\n",
       "    <tr>\n",
       "      <th>5716</th>\n",
       "      <td>960685652756099073</td>\n",
       "      <td>960613800645939200</td>\n",
       "      <td>2/1 This incredible photo marks the end of Mat...</td>\n",
       "      <td>https://twitter.com/POTUS/status/9606856527560...</td>\n",
       "      <td>A photograph captures the exact moment torero ...</td>\n",
       "      <td>['https://www.snopes.com/tachyon/2018/03/ratin...</td>\n",
       "      <td>http://pbs.twimg.com/media/DVTJJ6wX4AEm5sG.jpg</td>\n",
       "      <td>NaN</td>\n",
       "      <td>https://www.snopes.com/fact-check/the-last-bul...</td>\n",
       "      <td>miscaptioned</td>\n",
       "      <td>NaN</td>\n",
       "      <td>ok</td>\n",
       "      <td>2953422203</td>\n",
       "      <td>{'cap': {'english': 0.7759887465100499, 'unive...</td>\n",
       "    </tr>\n",
       "    <tr>\n",
       "      <th>5717</th>\n",
       "      <td>960658910221828096</td>\n",
       "      <td>960626360686391296</td>\n",
       "      <td>@SamSanderson123 @John_Hudson @swin24 Yes i pe...</td>\n",
       "      <td>https://twitter.com/POTUS/status/9606589102218...</td>\n",
       "      <td>A list reproduces Saul Alinsky's rules for \"Ho...</td>\n",
       "      <td>['https://www.snopes.com/tachyon/2018/03/ratin...</td>\n",
       "      <td>['http://pbs.twimg.com/media/DVTUk_8VMAAW2HY.j...</td>\n",
       "      <td>['submltted by Garret Geer Recall that Hillary...</td>\n",
       "      <td>https://www.snopes.com/fact-check/how-to-creat...</td>\n",
       "      <td>false</td>\n",
       "      <td>NaN</td>\n",
       "      <td>ok</td>\n",
       "      <td>54061081</td>\n",
       "      <td>{'cap': {'english': 0.7611878625273879, 'unive...</td>\n",
       "    </tr>\n",
       "    <tr>\n",
       "      <th>5718</th>\n",
       "      <td>960675032811753472</td>\n",
       "      <td>960630741297188864</td>\n",
       "      <td>I think it may be time to roll this one out.  ...</td>\n",
       "      <td>https://twitter.com/POTUS/status/9606750328117...</td>\n",
       "      <td>President Trump tweeted in 2015 that the presi...</td>\n",
       "      <td>['https://www.snopes.com/tachyon/2018/03/ratin...</td>\n",
       "      <td>http://pbs.twimg.com/media/DVTYj_yXkAABHCh.jpg</td>\n",
       "      <td>Donald J . Trump Following @user If the Dow Jo...</td>\n",
       "      <td>https://www.snopes.com/fact-check/trump-dow-jo...</td>\n",
       "      <td>false</td>\n",
       "      <td>NaN</td>\n",
       "      <td>missing</td>\n",
       "      <td>2378742140</td>\n",
       "      <td>{'cap': {'english': 0.5288664776112156, 'unive...</td>\n",
       "    </tr>\n",
       "    <tr>\n",
       "      <th>5719</th>\n",
       "      <td>960746941171683328</td>\n",
       "      <td>960632442238324736</td>\n",
       "      <td>.@realDonaldTrump Now where did I put my canno...</td>\n",
       "      <td>https://twitter.com/POTUS/status/9607469411716...</td>\n",
       "      <td>President Trump tweeted in 2015 that the presi...</td>\n",
       "      <td>['https://www.snopes.com/tachyon/2018/03/ratin...</td>\n",
       "      <td>http://pbs.twimg.com/media/DVTaHU8VAAAr8gA.jpg</td>\n",
       "      <td>Donald J . Trump e @user Following If the Dow ...</td>\n",
       "      <td>https://www.snopes.com/fact-check/trump-dow-jo...</td>\n",
       "      <td>false</td>\n",
       "      <td>NaN</td>\n",
       "      <td>ok</td>\n",
       "      <td>827658471000600576</td>\n",
       "      <td>{'cap': {'english': 0.7668769621923945, 'unive...</td>\n",
       "    </tr>\n",
       "    <tr>\n",
       "      <th>5720</th>\n",
       "      <td>962084523256221696</td>\n",
       "      <td>960633444739858432</td>\n",
       "      <td>Here’s a good one. https://t.co/CaEi5gKVYh</td>\n",
       "      <td>https://twitter.com/POTUS/status/9620845232562...</td>\n",
       "      <td>President Trump tweeted in 2015 that the presi...</td>\n",
       "      <td>['https://www.snopes.com/tachyon/2018/03/ratin...</td>\n",
       "      <td>http://pbs.twimg.com/media/DVTbBcbUQAAu0Mz.jpg</td>\n",
       "      <td>Donald J . Trump Following @user If the Dow Jo...</td>\n",
       "      <td>https://www.snopes.com/fact-check/trump-dow-jo...</td>\n",
       "      <td>false</td>\n",
       "      <td>NaN</td>\n",
       "      <td>auth</td>\n",
       "      <td>502149526</td>\n",
       "      <td>{'cap': {'english': 0.30618807248975083, 'univ...</td>\n",
       "    </tr>\n",
       "    <tr>\n",
       "      <th>5721</th>\n",
       "      <td>960663766408089600</td>\n",
       "      <td>960634426207211520</td>\n",
       "      <td>“Dow Joans.” But hey, he has a point. Can Cong...</td>\n",
       "      <td>https://twitter.com/POTUS/status/9606637664080...</td>\n",
       "      <td>President Trump tweeted in 2015 that the presi...</td>\n",
       "      <td>['https://www.snopes.com/tachyon/2018/03/ratin...</td>\n",
       "      <td>http://pbs.twimg.com/media/DVTb2tBX0AA0gFm.jpg</td>\n",
       "      <td>Donald J . Trump Following @user If the Dow Jo...</td>\n",
       "      <td>https://www.snopes.com/fact-check/trump-dow-jo...</td>\n",
       "      <td>false</td>\n",
       "      <td>NaN</td>\n",
       "      <td>auth</td>\n",
       "      <td>176644153</td>\n",
       "      <td>{'cap': {'english': 0.5539725719744064, 'unive...</td>\n",
       "    </tr>\n",
       "    <tr>\n",
       "      <th>5722</th>\n",
       "      <td>960673880258985984</td>\n",
       "      <td>960636453498818560</td>\n",
       "      <td>Awkward. https://t.co/lABoCMCF2A</td>\n",
       "      <td>https://twitter.com/POTUS/status/9606738802589...</td>\n",
       "      <td>President Trump tweeted in 2015 that the presi...</td>\n",
       "      <td>['https://www.snopes.com/tachyon/2018/03/ratin...</td>\n",
       "      <td>http://pbs.twimg.com/media/DVTdvocUMAAxNeD.jpg</td>\n",
       "      <td>Donald J . Trump If the Dow Joans ever falls m...</td>\n",
       "      <td>https://www.snopes.com/fact-check/trump-dow-jo...</td>\n",
       "      <td>false</td>\n",
       "      <td>NaN</td>\n",
       "      <td>ok</td>\n",
       "      <td>4305051193</td>\n",
       "      <td>{'cap': {'english': 0.30618807248975083, 'univ...</td>\n",
       "    </tr>\n",
       "    <tr>\n",
       "      <th>5723</th>\n",
       "      <td>960659790505521152</td>\n",
       "      <td>960637727602491393</td>\n",
       "      <td>My mistake. He has already spoken to this. htt...</td>\n",
       "      <td>https://twitter.com/POTUS/status/9606597905055...</td>\n",
       "      <td>President Trump tweeted in 2015 that the presi...</td>\n",
       "      <td>['https://www.snopes.com/tachyon/2018/03/ratin...</td>\n",
       "      <td>http://pbs.twimg.com/media/DVTe6k2VAAA-kMk.jpg</td>\n",
       "      <td>Donald J . Trump 0 If the Dow Joans ever falls...</td>\n",
       "      <td>https://www.snopes.com/fact-check/trump-dow-jo...</td>\n",
       "      <td>false</td>\n",
       "      <td>NaN</td>\n",
       "      <td>ok</td>\n",
       "      <td>818799985</td>\n",
       "      <td>{'cap': {'english': 0.3342309004634953, 'unive...</td>\n",
       "    </tr>\n",
       "    <tr>\n",
       "      <th>5724</th>\n",
       "      <td>960666943639506949</td>\n",
       "      <td>960638583584456704</td>\n",
       "      <td>Looking at our watches... @RepFredUpton @RepHu...</td>\n",
       "      <td>https://twitter.com/POTUS/status/9606669436395...</td>\n",
       "      <td>President Trump tweeted in 2015 that the presi...</td>\n",
       "      <td>['https://www.snopes.com/tachyon/2018/03/ratin...</td>\n",
       "      <td>http://pbs.twimg.com/media/DVTfskHWAAAyQQf.jpg</td>\n",
       "      <td>Donald J . Trump Following @user If the Dow Jo...</td>\n",
       "      <td>https://www.snopes.com/fact-check/trump-dow-jo...</td>\n",
       "      <td>false</td>\n",
       "      <td>NaN</td>\n",
       "      <td>missing</td>\n",
       "      <td>818236311924523008</td>\n",
       "      <td>{'cap': {'english': 0.3342309004634953, 'unive...</td>\n",
       "    </tr>\n",
       "    <tr>\n",
       "      <th>5725</th>\n",
       "      <td>960674573078482944</td>\n",
       "      <td>960639958561128449</td>\n",
       "      <td>@JamesGunn @ungadjo1 @realDonaldTrump They sho...</td>\n",
       "      <td>https://twitter.com/POTUS/status/9606745730784...</td>\n",
       "      <td>President Trump tweeted in 2015 that the presi...</td>\n",
       "      <td>['https://www.snopes.com/tachyon/2018/03/ratin...</td>\n",
       "      <td>http://pbs.twimg.com/media/DVTg8w3UQAAIuvv.jpg</td>\n",
       "      <td>Donald J . Trump Following @user If the Dow Jo...</td>\n",
       "      <td>https://www.snopes.com/fact-check/trump-dow-jo...</td>\n",
       "      <td>false</td>\n",
       "      <td>NaN</td>\n",
       "      <td>ok</td>\n",
       "      <td>4161019223</td>\n",
       "      <td>{'code': 34, 'message': 'Sorry, that page does...</td>\n",
       "    </tr>\n",
       "    <tr>\n",
       "      <th>5726</th>\n",
       "      <td>960652173641207808</td>\n",
       "      <td>960640553712082945</td>\n",
       "      <td>\"Dow Jones\"#DowJones #StockMarket well this is...</td>\n",
       "      <td>https://twitter.com/POTUS/status/9606521736412...</td>\n",
       "      <td>President Trump tweeted in 2015 that the presi...</td>\n",
       "      <td>['https://www.snopes.com/tachyon/2018/03/ratin...</td>\n",
       "      <td>http://pbs.twimg.com/media/DVThcmOWAAAFhv1.jpg</td>\n",
       "      <td>Donald J . Trump Following @user If the Dow Jo...</td>\n",
       "      <td>https://www.snopes.com/fact-check/trump-dow-jo...</td>\n",
       "      <td>false</td>\n",
       "      <td>NaN</td>\n",
       "      <td>ok</td>\n",
       "      <td>840297020531326976</td>\n",
       "      <td>{'code': 34, 'message': 'Sorry, that page does...</td>\n",
       "    </tr>\n",
       "    <tr>\n",
       "      <th>5727</th>\n",
       "      <td>960694249279905792</td>\n",
       "      <td>960641597871357952</td>\n",
       "      <td>There is literally a tweet for EVERYTHING.  #S...</td>\n",
       "      <td>https://twitter.com/POTUS/status/9606942492799...</td>\n",
       "      <td>President Trump tweeted in 2015 that the presi...</td>\n",
       "      <td>['https://www.snopes.com/tachyon/2018/03/ratin...</td>\n",
       "      <td>http://pbs.twimg.com/media/DVTiYqyW4AMkHSO.jpg</td>\n",
       "      <td>Donald J . Trump Following @user If the Dow Jo...</td>\n",
       "      <td>https://www.snopes.com/fact-check/trump-dow-jo...</td>\n",
       "      <td>false</td>\n",
       "      <td>NaN</td>\n",
       "      <td>ok</td>\n",
       "      <td>18028518</td>\n",
       "      <td>{'code': 34, 'message': 'Sorry, that page does...</td>\n",
       "    </tr>\n",
       "    <tr>\n",
       "      <th>5728</th>\n",
       "      <td>960652386598400001</td>\n",
       "      <td>960642728395706368</td>\n",
       "      <td>The Dow Jones dropped by 1175 points today, so...</td>\n",
       "      <td>https://twitter.com/POTUS/status/9606523865984...</td>\n",
       "      <td>President Trump tweeted in 2015 that the presi...</td>\n",
       "      <td>['https://www.snopes.com/tachyon/2018/03/ratin...</td>\n",
       "      <td>http://pbs.twimg.com/media/DVTjb9WU0AAJzpB.jpg</td>\n",
       "      <td>Donald J . Trump Following @user If the Dow Jo...</td>\n",
       "      <td>https://www.snopes.com/fact-check/trump-dow-jo...</td>\n",
       "      <td>false</td>\n",
       "      <td>NaN</td>\n",
       "      <td>auth</td>\n",
       "      <td>518574152</td>\n",
       "      <td>{'code': 34, 'message': 'Sorry, that page does...</td>\n",
       "    </tr>\n",
       "    <tr>\n",
       "      <th>5729</th>\n",
       "      <td>960663941100769280</td>\n",
       "      <td>960644206883721217</td>\n",
       "      <td>Is it \"Dow Jones\", or is it \"Dow Joans\"? .@rea...</td>\n",
       "      <td>https://twitter.com/POTUS/status/9606639411007...</td>\n",
       "      <td>President Trump tweeted in 2015 that the presi...</td>\n",
       "      <td>['https://www.snopes.com/tachyon/2018/03/ratin...</td>\n",
       "      <td>http://pbs.twimg.com/media/DVTkak5XcAEgtLU.jpg</td>\n",
       "      <td>Donald J . Trump Following @user If the Dow Jo...</td>\n",
       "      <td>https://www.snopes.com/fact-check/trump-dow-jo...</td>\n",
       "      <td>false</td>\n",
       "      <td>NaN</td>\n",
       "      <td>auth</td>\n",
       "      <td>39512124</td>\n",
       "      <td>{'code': 34, 'message': 'Sorry, that page does...</td>\n",
       "    </tr>\n",
       "    <tr>\n",
       "      <th>5730</th>\n",
       "      <td>960651914877788165</td>\n",
       "      <td>960647148936179712</td>\n",
       "      <td>Here’s a tweet in 2/2015 from Trump &amp;amp; what...</td>\n",
       "      <td>https://twitter.com/POTUS/status/9606519148777...</td>\n",
       "      <td>President Trump tweeted in 2015 that the presi...</td>\n",
       "      <td>['https://www.snopes.com/tachyon/2018/03/ratin...</td>\n",
       "      <td>http://pbs.twimg.com/media/DVTneN3VoAEr-mz.jpg</td>\n",
       "      <td>Donald J . Trump Following @user If the Dow Jo...</td>\n",
       "      <td>https://www.snopes.com/fact-check/trump-dow-jo...</td>\n",
       "      <td>false</td>\n",
       "      <td>NaN</td>\n",
       "      <td>ok</td>\n",
       "      <td>983062994</td>\n",
       "      <td>{'code': 34, 'message': 'Sorry, that page does...</td>\n",
       "    </tr>\n",
       "    <tr>\n",
       "      <th>5731</th>\n",
       "      <td>960667138963931138</td>\n",
       "      <td>960647502046281728</td>\n",
       "      <td>@TheBucket015 @Susiejwp_susan @doritnyc @FoxNe...</td>\n",
       "      <td>https://twitter.com/POTUS/status/9606671389639...</td>\n",
       "      <td>President Trump tweeted in 2015 that the presi...</td>\n",
       "      <td>['https://www.snopes.com/tachyon/2018/03/ratin...</td>\n",
       "      <td>http://pbs.twimg.com/media/DVTnzr1U8AAGQZB.jpg</td>\n",
       "      <td>Donald J . Trump Following @user If the Dow Jo...</td>\n",
       "      <td>https://www.snopes.com/fact-check/trump-dow-jo...</td>\n",
       "      <td>false</td>\n",
       "      <td>NaN</td>\n",
       "      <td>ok</td>\n",
       "      <td>2786381160</td>\n",
       "      <td>{'code': 34, 'message': 'Sorry, that page does...</td>\n",
       "    </tr>\n",
       "    <tr>\n",
       "      <th>5732</th>\n",
       "      <td>960744682014691330</td>\n",
       "      <td>960647716744282112</td>\n",
       "      <td>@realDonaldTrump Per YOUR own words I just wan...</td>\n",
       "      <td>https://twitter.com/POTUS/status/9607446820146...</td>\n",
       "      <td>President Trump tweeted in 2015 that the presi...</td>\n",
       "      <td>['https://www.snopes.com/tachyon/2018/03/ratin...</td>\n",
       "      <td>http://pbs.twimg.com/media/DVToAZ0VwAADjFn.jpg</td>\n",
       "      <td>Impeach Trump , Impeach Pence , Keep Impeachin...</td>\n",
       "      <td>https://www.snopes.com/fact-check/trump-dow-jo...</td>\n",
       "      <td>false</td>\n",
       "      <td>NaN</td>\n",
       "      <td>ok</td>\n",
       "      <td>23871180</td>\n",
       "      <td>{'code': 34, 'message': 'Sorry, that page does...</td>\n",
       "    </tr>\n",
       "    <tr>\n",
       "      <th>5733</th>\n",
       "      <td>960684123978309632</td>\n",
       "      <td>960649329731096576</td>\n",
       "      <td>Trump's \"sterling economy\" is doing great y'al...</td>\n",
       "      <td>https://twitter.com/POTUS/status/9606841239783...</td>\n",
       "      <td>President Trump tweeted in 2015 that the presi...</td>\n",
       "      <td>['https://www.snopes.com/tachyon/2018/03/ratin...</td>\n",
       "      <td>['http://pbs.twimg.com/media/DVTpXsZVoAASRsn.j...</td>\n",
       "      <td>['Donald J . Trump Following @user If the Dow ...</td>\n",
       "      <td>https://www.snopes.com/fact-check/trump-dow-jo...</td>\n",
       "      <td>false</td>\n",
       "      <td>NaN</td>\n",
       "      <td>missing</td>\n",
       "      <td>22234483</td>\n",
       "      <td>{'code': 34, 'message': 'Sorry, that page does...</td>\n",
       "    </tr>\n",
       "    <tr>\n",
       "      <th>5734</th>\n",
       "      <td>960763045780758528</td>\n",
       "      <td>960649402858663936</td>\n",
       "      <td>I guess it’s true, there’s a Trump tweet for e...</td>\n",
       "      <td>https://twitter.com/POTUS/status/9607630457807...</td>\n",
       "      <td>President Trump tweeted in 2015 that the presi...</td>\n",
       "      <td>['https://www.snopes.com/tachyon/2018/03/ratin...</td>\n",
       "      <td>http://pbs.twimg.com/media/DVTpiTEU8AAHXUO.jpg</td>\n",
       "      <td>Donald J . Trump Following areal DonaldTrump I...</td>\n",
       "      <td>https://www.snopes.com/fact-check/trump-dow-jo...</td>\n",
       "      <td>false</td>\n",
       "      <td>NaN</td>\n",
       "      <td>ok</td>\n",
       "      <td>2899929414</td>\n",
       "      <td>{'code': 34, 'message': 'Sorry, that page does...</td>\n",
       "    </tr>\n",
       "    <tr>\n",
       "      <th>5735</th>\n",
       "      <td>960653747364888576</td>\n",
       "      <td>960649975548936193</td>\n",
       "      <td>@mike_Zollo Whahahahahahaha. Sorry, but he eve...</td>\n",
       "      <td>https://twitter.com/POTUS/status/9606537473648...</td>\n",
       "      <td>President Trump tweeted in 2015 that the presi...</td>\n",
       "      <td>['https://www.snopes.com/tachyon/2018/03/ratin...</td>\n",
       "      <td>http://pbs.twimg.com/media/DVTqDjJUQAAekkl.jpg</td>\n",
       "      <td>There is * ALWAYS * Donald J . Trump @user a T...</td>\n",
       "      <td>https://www.snopes.com/fact-check/trump-dow-jo...</td>\n",
       "      <td>false</td>\n",
       "      <td>NaN</td>\n",
       "      <td>ok</td>\n",
       "      <td>15723895</td>\n",
       "      <td>{'code': 34, 'message': 'Sorry, that page does...</td>\n",
       "    </tr>\n",
       "    <tr>\n",
       "      <th>5736</th>\n",
       "      <td>960754585659850752</td>\n",
       "      <td>960651516985073665</td>\n",
       "      <td>They'll be selling tickets to the launch of th...</td>\n",
       "      <td>https://twitter.com/POTUS/status/9607545856598...</td>\n",
       "      <td>President Trump tweeted in 2015 that the presi...</td>\n",
       "      <td>['https://www.snopes.com/tachyon/2018/03/ratin...</td>\n",
       "      <td>http://pbs.twimg.com/media/DVTrQaHU8AA6_hD.jpg</td>\n",
       "      <td>Donald J . Trump Following @user If the Dow Jo...</td>\n",
       "      <td>https://www.snopes.com/fact-check/trump-dow-jo...</td>\n",
       "      <td>false</td>\n",
       "      <td>NaN</td>\n",
       "      <td>ok</td>\n",
       "      <td>465936656</td>\n",
       "      <td>{'code': 34, 'message': 'Sorry, that page does...</td>\n",
       "    </tr>\n",
       "    <tr>\n",
       "      <th>5737</th>\n",
       "      <td>960672510013509632</td>\n",
       "      <td>960652981606797312</td>\n",
       "      <td>Someone get the cannon out. https://t.co/o5pyS...</td>\n",
       "      <td>https://twitter.com/POTUS/status/9606725100135...</td>\n",
       "      <td>President Trump tweeted in 2015 that the presi...</td>\n",
       "      <td>['https://www.snopes.com/tachyon/2018/03/ratin...</td>\n",
       "      <td>http://pbs.twimg.com/media/DVTsy2hX0AAescc.jpg</td>\n",
       "      <td>Donald J . Trump Following areal DonaldTrump I...</td>\n",
       "      <td>https://www.snopes.com/fact-check/trump-dow-jo...</td>\n",
       "      <td>false</td>\n",
       "      <td>NaN</td>\n",
       "      <td>ok</td>\n",
       "      <td>403458744</td>\n",
       "      <td>{'code': 34, 'message': 'Sorry, that page does...</td>\n",
       "    </tr>\n",
       "    <tr>\n",
       "      <th>5738</th>\n",
       "      <td>960671885691203585</td>\n",
       "      <td>960654004773560320</td>\n",
       "      <td>@NYinLA2121 Ha...  Dow Joans..?   Probably a f...</td>\n",
       "      <td>https://twitter.com/POTUS/status/9606718856912...</td>\n",
       "      <td>President Trump tweeted in 2015 that the presi...</td>\n",
       "      <td>['https://www.snopes.com/tachyon/2018/03/ratin...</td>\n",
       "      <td>http://pbs.twimg.com/media/DVTtuHGUMAIGMSX.jpg</td>\n",
       "      <td>Donald J . Trump Following areal DonaldTrump I...</td>\n",
       "      <td>https://www.snopes.com/fact-check/trump-dow-jo...</td>\n",
       "      <td>false</td>\n",
       "      <td>NaN</td>\n",
       "      <td>auth</td>\n",
       "      <td>37329191</td>\n",
       "      <td>{'code': 34, 'message': 'Sorry, that page does...</td>\n",
       "    </tr>\n",
       "    <tr>\n",
       "      <th>5739</th>\n",
       "      <td>960731939597639680</td>\n",
       "      <td>960655529478705154</td>\n",
       "      <td>READY THE CANNON! #noexcuses https://t.co/Pryf...</td>\n",
       "      <td>https://twitter.com/POTUS/status/9607319395976...</td>\n",
       "      <td>President Trump tweeted in 2015 that the presi...</td>\n",
       "      <td>['https://www.snopes.com/tachyon/2018/03/ratin...</td>\n",
       "      <td>http://pbs.twimg.com/media/DVTvHJDXUAAgKwP.jpg</td>\n",
       "      <td>Donald J . Trump Following @user If the Dow Jo...</td>\n",
       "      <td>https://www.snopes.com/fact-check/trump-dow-jo...</td>\n",
       "      <td>false</td>\n",
       "      <td>NaN</td>\n",
       "      <td>ok</td>\n",
       "      <td>33587950</td>\n",
       "      <td>{'code': 34, 'message': 'Sorry, that page does...</td>\n",
       "    </tr>\n",
       "    <tr>\n",
       "      <th>5740</th>\n",
       "      <td>960658106261762048</td>\n",
       "      <td>960655531076710401</td>\n",
       "      <td>Please tell me someone is prepping the cannon ...</td>\n",
       "      <td>https://twitter.com/POTUS/status/9606581062617...</td>\n",
       "      <td>President Trump tweeted in 2015 that the presi...</td>\n",
       "      <td>['https://www.snopes.com/tachyon/2018/03/ratin...</td>\n",
       "      <td>http://pbs.twimg.com/media/DVTvAmZVwAAoCC3.jpg</td>\n",
       "      <td>Donald J . Trump @user Following If the Dow Jo...</td>\n",
       "      <td>https://www.snopes.com/fact-check/trump-dow-jo...</td>\n",
       "      <td>false</td>\n",
       "      <td>NaN</td>\n",
       "      <td>ok</td>\n",
       "      <td>27279989</td>\n",
       "      <td>{'code': 34, 'message': 'Sorry, that page does...</td>\n",
       "    </tr>\n",
       "  </tbody>\n",
       "</table>\n",
       "</div>"
      ],
      "text/plain": [
       "                      id         original_id  \\\n",
       "5700  960211823466352640  960211086707376129   \n",
       "5701  960258676593274880  960232082088669184   \n",
       "5702  960359630261153797  960250090345578496   \n",
       "5703  960278836691652609  960274232310747136   \n",
       "5704  960343063229902848  960342616461029376   \n",
       "5705  960361754671841280  960359357836812289   \n",
       "5706  960387472315297792  960384742687322114   \n",
       "5707  960602128573181952  960428922809692161   \n",
       "5708  961846888923148288  960549765284007937   \n",
       "5709  960609867147960320  960561748272209921   \n",
       "5710  960570420079538176  960569427665317891   \n",
       "5711  960834901649051648  960579056231243776   \n",
       "5712  960639726524030978  960603020034822145   \n",
       "5713  967950692244627456  960606621977206785   \n",
       "5714  960619124970999809  960611270625058821   \n",
       "5715  960658940567703552  960612900615442433   \n",
       "5716  960685652756099073  960613800645939200   \n",
       "5717  960658910221828096  960626360686391296   \n",
       "5718  960675032811753472  960630741297188864   \n",
       "5719  960746941171683328  960632442238324736   \n",
       "5720  962084523256221696  960633444739858432   \n",
       "5721  960663766408089600  960634426207211520   \n",
       "5722  960673880258985984  960636453498818560   \n",
       "5723  960659790505521152  960637727602491393   \n",
       "5724  960666943639506949  960638583584456704   \n",
       "5725  960674573078482944  960639958561128449   \n",
       "5726  960652173641207808  960640553712082945   \n",
       "5727  960694249279905792  960641597871357952   \n",
       "5728  960652386598400001  960642728395706368   \n",
       "5729  960663941100769280  960644206883721217   \n",
       "5730  960651914877788165  960647148936179712   \n",
       "5731  960667138963931138  960647502046281728   \n",
       "5732  960744682014691330  960647716744282112   \n",
       "5733  960684123978309632  960649329731096576   \n",
       "5734  960763045780758528  960649402858663936   \n",
       "5735  960653747364888576  960649975548936193   \n",
       "5736  960754585659850752  960651516985073665   \n",
       "5737  960672510013509632  960652981606797312   \n",
       "5738  960671885691203585  960654004773560320   \n",
       "5739  960731939597639680  960655529478705154   \n",
       "5740  960658106261762048  960655531076710401   \n",
       "\n",
       "                                             tweet_text  \\\n",
       "5700  So now it’s time for the guys to say #MeToo ht...   \n",
       "5701  Hey there, anyone know a Jason Paul Naglich of...   \n",
       "5702  Anybody know Jason Paul Naglich of Redondo Bea...   \n",
       "5703  @aravosis Facts, like science and education, w...   \n",
       "5704  Reflect on this @PeterDutton_MP https://t.co/j...   \n",
       "5705  @FiveRights Well said and loved by the Hollywo...   \n",
       "5706  Jason Paul Naglich of Redondo Beach, CA. assum...   \n",
       "5707  Philadelphia learns Obama was abusing his powe...   \n",
       "5708  Dear @realDonaldTrump,  Before you take a swip...   \n",
       "5709     @realDonaldTrump lmfao https://t.co/jZDqRFDrgK   \n",
       "5710  Chucking out loads of old kids VHS's today. Th...   \n",
       "5711  \" For the life of me , and I'll never know how...   \n",
       "5712                     .This. https://t.co/MybBci3r6i   \n",
       "5713  @Imaginer77 @StopTrump2020 More, ................   \n",
       "5714  I want this to be not a hoax almost more than ...   \n",
       "5715  Now that’s one of the juiciest clap backs of a...   \n",
       "5716  2/1 This incredible photo marks the end of Mat...   \n",
       "5717  @SamSanderson123 @John_Hudson @swin24 Yes i pe...   \n",
       "5718  I think it may be time to roll this one out.  ...   \n",
       "5719  .@realDonaldTrump Now where did I put my canno...   \n",
       "5720         Here’s a good one. https://t.co/CaEi5gKVYh   \n",
       "5721  “Dow Joans.” But hey, he has a point. Can Cong...   \n",
       "5722                   Awkward. https://t.co/lABoCMCF2A   \n",
       "5723  My mistake. He has already spoken to this. htt...   \n",
       "5724  Looking at our watches... @RepFredUpton @RepHu...   \n",
       "5725  @JamesGunn @ungadjo1 @realDonaldTrump They sho...   \n",
       "5726  \"Dow Jones\"#DowJones #StockMarket well this is...   \n",
       "5727  There is literally a tweet for EVERYTHING.  #S...   \n",
       "5728  The Dow Jones dropped by 1175 points today, so...   \n",
       "5729  Is it \"Dow Jones\", or is it \"Dow Joans\"? .@rea...   \n",
       "5730  Here’s a tweet in 2/2015 from Trump &amp; what...   \n",
       "5731  @TheBucket015 @Susiejwp_susan @doritnyc @FoxNe...   \n",
       "5732  @realDonaldTrump Per YOUR own words I just wan...   \n",
       "5733  Trump's \"sterling economy\" is doing great y'al...   \n",
       "5734  I guess it’s true, there’s a Trump tweet for e...   \n",
       "5735  @mike_Zollo Whahahahahahaha. Sorry, but he eve...   \n",
       "5736  They'll be selling tickets to the launch of th...   \n",
       "5737  Someone get the cannon out. https://t.co/o5pyS...   \n",
       "5738  @NYinLA2121 Ha...  Dow Joans..?   Probably a f...   \n",
       "5739  READY THE CANNON! #noexcuses https://t.co/Pryf...   \n",
       "5740  Please tell me someone is prepping the cannon ...   \n",
       "\n",
       "                                              tweet_url  \\\n",
       "5700  https://twitter.com/POTUS/status/9602118234663...   \n",
       "5701  https://twitter.com/POTUS/status/9602586765932...   \n",
       "5702  https://twitter.com/POTUS/status/9603596302611...   \n",
       "5703  https://twitter.com/POTUS/status/9602788366916...   \n",
       "5704  https://twitter.com/POTUS/status/9603430632299...   \n",
       "5705  https://twitter.com/POTUS/status/9603617546718...   \n",
       "5706  https://twitter.com/POTUS/status/9603874723152...   \n",
       "5707  https://twitter.com/POTUS/status/9606021285731...   \n",
       "5708  https://twitter.com/POTUS/status/9618468889231...   \n",
       "5709  https://twitter.com/POTUS/status/9606098671479...   \n",
       "5710  https://twitter.com/POTUS/status/9605704200795...   \n",
       "5711  https://twitter.com/POTUS/status/9608349016490...   \n",
       "5712  https://twitter.com/POTUS/status/9606397265240...   \n",
       "5713  https://twitter.com/POTUS/status/9679506922446...   \n",
       "5714  https://twitter.com/POTUS/status/9606191249709...   \n",
       "5715  https://twitter.com/POTUS/status/9606589405677...   \n",
       "5716  https://twitter.com/POTUS/status/9606856527560...   \n",
       "5717  https://twitter.com/POTUS/status/9606589102218...   \n",
       "5718  https://twitter.com/POTUS/status/9606750328117...   \n",
       "5719  https://twitter.com/POTUS/status/9607469411716...   \n",
       "5720  https://twitter.com/POTUS/status/9620845232562...   \n",
       "5721  https://twitter.com/POTUS/status/9606637664080...   \n",
       "5722  https://twitter.com/POTUS/status/9606738802589...   \n",
       "5723  https://twitter.com/POTUS/status/9606597905055...   \n",
       "5724  https://twitter.com/POTUS/status/9606669436395...   \n",
       "5725  https://twitter.com/POTUS/status/9606745730784...   \n",
       "5726  https://twitter.com/POTUS/status/9606521736412...   \n",
       "5727  https://twitter.com/POTUS/status/9606942492799...   \n",
       "5728  https://twitter.com/POTUS/status/9606523865984...   \n",
       "5729  https://twitter.com/POTUS/status/9606639411007...   \n",
       "5730  https://twitter.com/POTUS/status/9606519148777...   \n",
       "5731  https://twitter.com/POTUS/status/9606671389639...   \n",
       "5732  https://twitter.com/POTUS/status/9607446820146...   \n",
       "5733  https://twitter.com/POTUS/status/9606841239783...   \n",
       "5734  https://twitter.com/POTUS/status/9607630457807...   \n",
       "5735  https://twitter.com/POTUS/status/9606537473648...   \n",
       "5736  https://twitter.com/POTUS/status/9607545856598...   \n",
       "5737  https://twitter.com/POTUS/status/9606725100135...   \n",
       "5738  https://twitter.com/POTUS/status/9606718856912...   \n",
       "5739  https://twitter.com/POTUS/status/9607319395976...   \n",
       "5740  https://twitter.com/POTUS/status/9606581062617...   \n",
       "\n",
       "                                                  claim  \\\n",
       "5700  Lord of the Flies author William Golding once ...   \n",
       "5701  A restaurant customer named Jason Naglich wrot...   \n",
       "5702  A restaurant customer named Jason Naglich wrot...   \n",
       "5703  The Fox News Channel has been banned in Canada...   \n",
       "5704  The family of Anne Frank sought (and was denie...   \n",
       "5705  An image depicts Ariana Grande defiling the Am...   \n",
       "5706  A restaurant customer named Jason Naglich wrot...   \n",
       "5707  President B. Lyndon Johnson once said, \"I'll h...   \n",
       "5708  643,000 Americans declare bankruptcy over medi...   \n",
       "5709  The Philadelphia Eagles responded to a tweet f...   \n",
       "5710  \"Black Diamond Collection\" Disney films on VHS...   \n",
       "5711  Ronald Reagan said he felt like he was shaking...   \n",
       "5712  Sophia Stewart won a large judgment in a copyr...   \n",
       "5713  Bill Clinton has quietly done away with severa...   \n",
       "5714  The Philadelphia Eagles responded to a tweet f...   \n",
       "5715  The Philadelphia Eagles responded to a tweet f...   \n",
       "5716  A photograph captures the exact moment torero ...   \n",
       "5717  A list reproduces Saul Alinsky's rules for \"Ho...   \n",
       "5718  President Trump tweeted in 2015 that the presi...   \n",
       "5719  President Trump tweeted in 2015 that the presi...   \n",
       "5720  President Trump tweeted in 2015 that the presi...   \n",
       "5721  President Trump tweeted in 2015 that the presi...   \n",
       "5722  President Trump tweeted in 2015 that the presi...   \n",
       "5723  President Trump tweeted in 2015 that the presi...   \n",
       "5724  President Trump tweeted in 2015 that the presi...   \n",
       "5725  President Trump tweeted in 2015 that the presi...   \n",
       "5726  President Trump tweeted in 2015 that the presi...   \n",
       "5727  President Trump tweeted in 2015 that the presi...   \n",
       "5728  President Trump tweeted in 2015 that the presi...   \n",
       "5729  President Trump tweeted in 2015 that the presi...   \n",
       "5730  President Trump tweeted in 2015 that the presi...   \n",
       "5731  President Trump tweeted in 2015 that the presi...   \n",
       "5732  President Trump tweeted in 2015 that the presi...   \n",
       "5733  President Trump tweeted in 2015 that the presi...   \n",
       "5734  President Trump tweeted in 2015 that the presi...   \n",
       "5735  President Trump tweeted in 2015 that the presi...   \n",
       "5736  President Trump tweeted in 2015 that the presi...   \n",
       "5737  President Trump tweeted in 2015 that the presi...   \n",
       "5738  President Trump tweeted in 2015 that the presi...   \n",
       "5739  President Trump tweeted in 2015 that the presi...   \n",
       "5740  President Trump tweeted in 2015 that the presi...   \n",
       "\n",
       "                                                 rating  \\\n",
       "5700  ['https://www.snopes.com/tachyon/2018/03/ratin...   \n",
       "5701  ['https://www.snopes.com/tachyon/2018/03/ratin...   \n",
       "5702  ['https://www.snopes.com/tachyon/2018/03/ratin...   \n",
       "5703  ['https://www.snopes.com/tachyon/2018/03/ratin...   \n",
       "5704  ['https://www.snopes.com/tachyon/2018/03/ratin...   \n",
       "5705  ['https://www.snopes.com/tachyon/2018/03/ratin...   \n",
       "5706  ['https://www.snopes.com/tachyon/2018/03/ratin...   \n",
       "5707  ['https://www.snopes.com/tachyon/2018/03/ratin...   \n",
       "5708  ['https://www.snopes.com/tachyon/2018/03/ratin...   \n",
       "5709  ['https://www.snopes.com/tachyon/2018/03/ratin...   \n",
       "5710  ['https://www.snopes.com/tachyon/2018/03/ratin...   \n",
       "5711  ['https://www.snopes.com/tachyon/2018/03/ratin...   \n",
       "5712  ['https://www.snopes.com/tachyon/2018/03/ratin...   \n",
       "5713  ['https://www.snopes.com/tachyon/2018/03/ratin...   \n",
       "5714  ['https://www.snopes.com/tachyon/2018/03/ratin...   \n",
       "5715  ['https://www.snopes.com/tachyon/2018/03/ratin...   \n",
       "5716  ['https://www.snopes.com/tachyon/2018/03/ratin...   \n",
       "5717  ['https://www.snopes.com/tachyon/2018/03/ratin...   \n",
       "5718  ['https://www.snopes.com/tachyon/2018/03/ratin...   \n",
       "5719  ['https://www.snopes.com/tachyon/2018/03/ratin...   \n",
       "5720  ['https://www.snopes.com/tachyon/2018/03/ratin...   \n",
       "5721  ['https://www.snopes.com/tachyon/2018/03/ratin...   \n",
       "5722  ['https://www.snopes.com/tachyon/2018/03/ratin...   \n",
       "5723  ['https://www.snopes.com/tachyon/2018/03/ratin...   \n",
       "5724  ['https://www.snopes.com/tachyon/2018/03/ratin...   \n",
       "5725  ['https://www.snopes.com/tachyon/2018/03/ratin...   \n",
       "5726  ['https://www.snopes.com/tachyon/2018/03/ratin...   \n",
       "5727  ['https://www.snopes.com/tachyon/2018/03/ratin...   \n",
       "5728  ['https://www.snopes.com/tachyon/2018/03/ratin...   \n",
       "5729  ['https://www.snopes.com/tachyon/2018/03/ratin...   \n",
       "5730  ['https://www.snopes.com/tachyon/2018/03/ratin...   \n",
       "5731  ['https://www.snopes.com/tachyon/2018/03/ratin...   \n",
       "5732  ['https://www.snopes.com/tachyon/2018/03/ratin...   \n",
       "5733  ['https://www.snopes.com/tachyon/2018/03/ratin...   \n",
       "5734  ['https://www.snopes.com/tachyon/2018/03/ratin...   \n",
       "5735  ['https://www.snopes.com/tachyon/2018/03/ratin...   \n",
       "5736  ['https://www.snopes.com/tachyon/2018/03/ratin...   \n",
       "5737  ['https://www.snopes.com/tachyon/2018/03/ratin...   \n",
       "5738  ['https://www.snopes.com/tachyon/2018/03/ratin...   \n",
       "5739  ['https://www.snopes.com/tachyon/2018/03/ratin...   \n",
       "5740  ['https://www.snopes.com/tachyon/2018/03/ratin...   \n",
       "\n",
       "                                                 images  \\\n",
       "5700     http://pbs.twimg.com/media/DVNa4_LVMAAe4AV.jpg   \n",
       "5701     http://pbs.twimg.com/media/DVNt559VMAArD_-.jpg   \n",
       "5702     http://pbs.twimg.com/media/DVN-XStVMAAWCFH.jpg   \n",
       "5703     http://pbs.twimg.com/media/DVOTs6iVQAA5l5V.jpg   \n",
       "5704     http://pbs.twimg.com/media/DVPSg0RUQAAhKpe.jpg   \n",
       "5705     http://pbs.twimg.com/media/DVPhvoDVAAEZ6BU.jpg   \n",
       "5706     http://pbs.twimg.com/media/DVP40xNUQAAp2Vt.jpg   \n",
       "5707     http://pbs.twimg.com/media/DVQgP_1VMAEHN4R.jpg   \n",
       "5708     http://pbs.twimg.com/media/DVSO6nzW4AAXyBG.jpg   \n",
       "5709     http://pbs.twimg.com/media/DVSZ0DMW4AE5TQW.jpg   \n",
       "5710  ['http://pbs.twimg.com/media/DVSgpl_X0AEMGZ4.j...   \n",
       "5711     http://pbs.twimg.com/media/DVSpjmDW4AAR7bH.jpg   \n",
       "5712     http://pbs.twimg.com/media/DVS_WqDXkAEKAUc.jpg   \n",
       "5713     http://pbs.twimg.com/media/DVTCkm0VQAACUqB.jpg   \n",
       "5714     http://pbs.twimg.com/media/DVTG2daXkAAhh9M.jpg   \n",
       "5715     http://pbs.twimg.com/media/DVTIV4VXcAACesu.jpg   \n",
       "5716     http://pbs.twimg.com/media/DVTJJ6wX4AEm5sG.jpg   \n",
       "5717  ['http://pbs.twimg.com/media/DVTUk_8VMAAW2HY.j...   \n",
       "5718     http://pbs.twimg.com/media/DVTYj_yXkAABHCh.jpg   \n",
       "5719     http://pbs.twimg.com/media/DVTaHU8VAAAr8gA.jpg   \n",
       "5720     http://pbs.twimg.com/media/DVTbBcbUQAAu0Mz.jpg   \n",
       "5721     http://pbs.twimg.com/media/DVTb2tBX0AA0gFm.jpg   \n",
       "5722     http://pbs.twimg.com/media/DVTdvocUMAAxNeD.jpg   \n",
       "5723     http://pbs.twimg.com/media/DVTe6k2VAAA-kMk.jpg   \n",
       "5724     http://pbs.twimg.com/media/DVTfskHWAAAyQQf.jpg   \n",
       "5725     http://pbs.twimg.com/media/DVTg8w3UQAAIuvv.jpg   \n",
       "5726     http://pbs.twimg.com/media/DVThcmOWAAAFhv1.jpg   \n",
       "5727     http://pbs.twimg.com/media/DVTiYqyW4AMkHSO.jpg   \n",
       "5728     http://pbs.twimg.com/media/DVTjb9WU0AAJzpB.jpg   \n",
       "5729     http://pbs.twimg.com/media/DVTkak5XcAEgtLU.jpg   \n",
       "5730     http://pbs.twimg.com/media/DVTneN3VoAEr-mz.jpg   \n",
       "5731     http://pbs.twimg.com/media/DVTnzr1U8AAGQZB.jpg   \n",
       "5732     http://pbs.twimg.com/media/DVToAZ0VwAADjFn.jpg   \n",
       "5733  ['http://pbs.twimg.com/media/DVTpXsZVoAASRsn.j...   \n",
       "5734     http://pbs.twimg.com/media/DVTpiTEU8AAHXUO.jpg   \n",
       "5735     http://pbs.twimg.com/media/DVTqDjJUQAAekkl.jpg   \n",
       "5736     http://pbs.twimg.com/media/DVTrQaHU8AA6_hD.jpg   \n",
       "5737     http://pbs.twimg.com/media/DVTsy2hX0AAescc.jpg   \n",
       "5738     http://pbs.twimg.com/media/DVTtuHGUMAIGMSX.jpg   \n",
       "5739     http://pbs.twimg.com/media/DVTvHJDXUAAgKwP.jpg   \n",
       "5740     http://pbs.twimg.com/media/DVTvAmZVwAAoCC3.jpg   \n",
       "\n",
       "                                            text_images  \\\n",
       "5700  Sir William Golding regarding women Lessons Ta...   \n",
       "5701  Table : ptnomsE AIO 3 Entry Mode : Card Number...   \n",
       "5702  Table : ptnomsE Entry Mode : Card Number Card ...   \n",
       "5703  Fun fact : Canada's Truth in Journalism Law pr...   \n",
       "5704  Anne Frank's visa application was turned down ...   \n",
       "5705  a yet . I too , am wiping my ass with your SHI...   \n",
       "5706  Table : pos : Entry Mode : AIO 3 Card Number :...   \n",
       "5707                                                NaN   \n",
       "5708  NUMBER OF PEOPLE WHO GO BANKRUPT EVERY YEAR BE...   \n",
       "5709  Donald J . Trump O @user Congratulations to th...   \n",
       "5710  ['Beauty and the Beast VHS 1992 DISNEY Byauty ...   \n",
       "5711  Prophetic Reagan For the life of me , ' and I'...   \n",
       "5712  Sitting in her home unemployed in the late 70 ...   \n",
       "5713  THE CLiNTON ODY.BAGS l - James McDougal 2 Mary...   \n",
       "5714  Donald J . Trump O @user Congratulations to th...   \n",
       "5715  Donald J . Trump @user Congratulations to the ...   \n",
       "5716                                                NaN   \n",
       "5717  ['submltted by Garret Geer Recall that Hillary...   \n",
       "5718  Donald J . Trump Following @user If the Dow Jo...   \n",
       "5719  Donald J . Trump e @user Following If the Dow ...   \n",
       "5720  Donald J . Trump Following @user If the Dow Jo...   \n",
       "5721  Donald J . Trump Following @user If the Dow Jo...   \n",
       "5722  Donald J . Trump If the Dow Joans ever falls m...   \n",
       "5723  Donald J . Trump 0 If the Dow Joans ever falls...   \n",
       "5724  Donald J . Trump Following @user If the Dow Jo...   \n",
       "5725  Donald J . Trump Following @user If the Dow Jo...   \n",
       "5726  Donald J . Trump Following @user If the Dow Jo...   \n",
       "5727  Donald J . Trump Following @user If the Dow Jo...   \n",
       "5728  Donald J . Trump Following @user If the Dow Jo...   \n",
       "5729  Donald J . Trump Following @user If the Dow Jo...   \n",
       "5730  Donald J . Trump Following @user If the Dow Jo...   \n",
       "5731  Donald J . Trump Following @user If the Dow Jo...   \n",
       "5732  Impeach Trump , Impeach Pence , Keep Impeachin...   \n",
       "5733  ['Donald J . Trump Following @user If the Dow ...   \n",
       "5734  Donald J . Trump Following areal DonaldTrump I...   \n",
       "5735  There is * ALWAYS * Donald J . Trump @user a T...   \n",
       "5736  Donald J . Trump Following @user If the Dow Jo...   \n",
       "5737  Donald J . Trump Following areal DonaldTrump I...   \n",
       "5738  Donald J . Trump Following areal DonaldTrump I...   \n",
       "5739  Donald J . Trump Following @user If the Dow Jo...   \n",
       "5740  Donald J . Trump @user Following If the Dow Jo...   \n",
       "\n",
       "                                                 source         label  \\\n",
       "5700  https://www.snopes.com/fact-check/william-gold...          true   \n",
       "5701  https://www.snopes.com/fact-check/tip-non-immi...      unproven   \n",
       "5702  https://www.snopes.com/fact-check/tip-non-immi...      unproven   \n",
       "5703    https://www.snopes.com/fact-check/canadian-fox/         false   \n",
       "5704  https://www.snopes.com/fact-check/anne-frank-r...          true   \n",
       "5705  https://www.snopes.com/fact-check/ariana-grand...         false   \n",
       "5706  https://www.snopes.com/fact-check/tip-non-immi...      unproven   \n",
       "5707  https://www.snopes.com/fact-check/lbj-voting-d...      unproven   \n",
       "5708  https://www.snopes.com/fact-check/643000-bankr...       mixture   \n",
       "5709  https://www.snopes.com/fact-check/eagles-respo...         false   \n",
       "5710  https://www.snopes.com/fact-check/black-diamon...  mostly-false   \n",
       "5711  https://www.snopes.com/fact-check/reagan-trump...         false   \n",
       "5712  https://www.snopes.com/fact-check/sophia-stewa...         false   \n",
       "5713  https://www.snopes.com/fact-check/clinton-body...         false   \n",
       "5714  https://www.snopes.com/fact-check/eagles-respo...         false   \n",
       "5715  https://www.snopes.com/fact-check/eagles-respo...         false   \n",
       "5716  https://www.snopes.com/fact-check/the-last-bul...  miscaptioned   \n",
       "5717  https://www.snopes.com/fact-check/how-to-creat...         false   \n",
       "5718  https://www.snopes.com/fact-check/trump-dow-jo...         false   \n",
       "5719  https://www.snopes.com/fact-check/trump-dow-jo...         false   \n",
       "5720  https://www.snopes.com/fact-check/trump-dow-jo...         false   \n",
       "5721  https://www.snopes.com/fact-check/trump-dow-jo...         false   \n",
       "5722  https://www.snopes.com/fact-check/trump-dow-jo...         false   \n",
       "5723  https://www.snopes.com/fact-check/trump-dow-jo...         false   \n",
       "5724  https://www.snopes.com/fact-check/trump-dow-jo...         false   \n",
       "5725  https://www.snopes.com/fact-check/trump-dow-jo...         false   \n",
       "5726  https://www.snopes.com/fact-check/trump-dow-jo...         false   \n",
       "5727  https://www.snopes.com/fact-check/trump-dow-jo...         false   \n",
       "5728  https://www.snopes.com/fact-check/trump-dow-jo...         false   \n",
       "5729  https://www.snopes.com/fact-check/trump-dow-jo...         false   \n",
       "5730  https://www.snopes.com/fact-check/trump-dow-jo...         false   \n",
       "5731  https://www.snopes.com/fact-check/trump-dow-jo...         false   \n",
       "5732  https://www.snopes.com/fact-check/trump-dow-jo...         false   \n",
       "5733  https://www.snopes.com/fact-check/trump-dow-jo...         false   \n",
       "5734  https://www.snopes.com/fact-check/trump-dow-jo...         false   \n",
       "5735  https://www.snopes.com/fact-check/trump-dow-jo...         false   \n",
       "5736  https://www.snopes.com/fact-check/trump-dow-jo...         false   \n",
       "5737  https://www.snopes.com/fact-check/trump-dow-jo...         false   \n",
       "5738  https://www.snopes.com/fact-check/trump-dow-jo...         false   \n",
       "5739  https://www.snopes.com/fact-check/trump-dow-jo...         false   \n",
       "5740  https://www.snopes.com/fact-check/trump-dow-jo...         false   \n",
       "\n",
       "      label_info available              acc_id  \\\n",
       "5700         NaN        ok            19495609   \n",
       "5701         NaN        ok          2206395156   \n",
       "5702         NaN        ok  805807750659702784   \n",
       "5703         NaN        ok  820780116116541440   \n",
       "5704         NaN        ok            15225512   \n",
       "5705         NaN   missing           120199354   \n",
       "5706         NaN        ok          3420717695   \n",
       "5707         NaN        ok  707246777515245568   \n",
       "5708         NaN   missing          4882743003   \n",
       "5709         NaN        ok            32293987   \n",
       "5710         NaN        ok           279513123   \n",
       "5711         NaN        ok  817158775610179584   \n",
       "5712         NaN        ok  818629189318348800   \n",
       "5713         NaN        ok          2375662316   \n",
       "5714         NaN        ok           103357357   \n",
       "5715         NaN        ok          2147604445   \n",
       "5716         NaN        ok          2953422203   \n",
       "5717         NaN        ok            54061081   \n",
       "5718         NaN   missing          2378742140   \n",
       "5719         NaN        ok  827658471000600576   \n",
       "5720         NaN      auth           502149526   \n",
       "5721         NaN      auth           176644153   \n",
       "5722         NaN        ok          4305051193   \n",
       "5723         NaN        ok           818799985   \n",
       "5724         NaN   missing  818236311924523008   \n",
       "5725         NaN        ok          4161019223   \n",
       "5726         NaN        ok  840297020531326976   \n",
       "5727         NaN        ok            18028518   \n",
       "5728         NaN      auth           518574152   \n",
       "5729         NaN      auth            39512124   \n",
       "5730         NaN        ok           983062994   \n",
       "5731         NaN        ok          2786381160   \n",
       "5732         NaN        ok            23871180   \n",
       "5733         NaN   missing            22234483   \n",
       "5734         NaN        ok          2899929414   \n",
       "5735         NaN        ok            15723895   \n",
       "5736         NaN        ok           465936656   \n",
       "5737         NaN        ok           403458744   \n",
       "5738         NaN      auth            37329191   \n",
       "5739         NaN        ok            33587950   \n",
       "5740         NaN        ok            27279989   \n",
       "\n",
       "                                              botometer  \n",
       "5700  {'cap': {'english': 0.3912159239072283, 'unive...  \n",
       "5701  {'cap': {'english': 0.30618807248975083, 'univ...  \n",
       "5702  {'cap': {'english': 0.8457543526336647, 'unive...  \n",
       "5703  {'cap': {'english': 0.8395863545645614, 'unive...  \n",
       "5704  {'cap': {'english': 0.5539725719744064, 'unive...  \n",
       "5705  {'cap': {'english': 0.2787259978325127, 'unive...  \n",
       "5706  {'cap': {'english': 0.6004883262510591, 'unive...  \n",
       "5707  {'code': 34, 'message': 'Sorry, that page does...  \n",
       "5708  {'cap': {'english': 0.7971037475964349, 'unive...  \n",
       "5709  {'cap': {'english': 0.5539725719744064, 'unive...  \n",
       "5710  {'cap': {'english': 0.36264564124632276, 'univ...  \n",
       "5711  {'cap': {'english': 0.7053377817049258, 'unive...  \n",
       "5712  {'cap': {'english': 0.7287106185584935, 'unive...  \n",
       "5713  {'cap': {'english': 0.5778862084370772, 'unive...  \n",
       "5714  {'cap': {'english': 0.2787259978325127, 'unive...  \n",
       "5715  {'cap': {'english': 0.30618807248975083, 'univ...  \n",
       "5716  {'cap': {'english': 0.7759887465100499, 'unive...  \n",
       "5717  {'cap': {'english': 0.7611878625273879, 'unive...  \n",
       "5718  {'cap': {'english': 0.5288664776112156, 'unive...  \n",
       "5719  {'cap': {'english': 0.7668769621923945, 'unive...  \n",
       "5720  {'cap': {'english': 0.30618807248975083, 'univ...  \n",
       "5721  {'cap': {'english': 0.5539725719744064, 'unive...  \n",
       "5722  {'cap': {'english': 0.30618807248975083, 'univ...  \n",
       "5723  {'cap': {'english': 0.3342309004634953, 'unive...  \n",
       "5724  {'cap': {'english': 0.3342309004634953, 'unive...  \n",
       "5725  {'code': 34, 'message': 'Sorry, that page does...  \n",
       "5726  {'code': 34, 'message': 'Sorry, that page does...  \n",
       "5727  {'code': 34, 'message': 'Sorry, that page does...  \n",
       "5728  {'code': 34, 'message': 'Sorry, that page does...  \n",
       "5729  {'code': 34, 'message': 'Sorry, that page does...  \n",
       "5730  {'code': 34, 'message': 'Sorry, that page does...  \n",
       "5731  {'code': 34, 'message': 'Sorry, that page does...  \n",
       "5732  {'code': 34, 'message': 'Sorry, that page does...  \n",
       "5733  {'code': 34, 'message': 'Sorry, that page does...  \n",
       "5734  {'code': 34, 'message': 'Sorry, that page does...  \n",
       "5735  {'code': 34, 'message': 'Sorry, that page does...  \n",
       "5736  {'code': 34, 'message': 'Sorry, that page does...  \n",
       "5737  {'code': 34, 'message': 'Sorry, that page does...  \n",
       "5738  {'code': 34, 'message': 'Sorry, that page does...  \n",
       "5739  {'code': 34, 'message': 'Sorry, that page does...  \n",
       "5740  {'code': 34, 'message': 'Sorry, that page does...  "
      ]
     },
     "execution_count": 28,
     "metadata": {},
     "output_type": "execute_result"
    }
   ],
   "source": [
    "df.loc[5700:5740]"
   ]
  },
  {
   "cell_type": "code",
   "execution_count": 5,
   "metadata": {},
   "outputs": [],
   "source": [
    "df = pd.read_csv(\"snopes_4060.csv\")"
   ]
  },
  {
   "cell_type": "code",
   "execution_count": 13,
   "metadata": {},
   "outputs": [],
   "source": [
    "df.to_csv(\"snopes_4612.csv\", index=False)"
   ]
  },
  {
   "cell_type": "code",
   "execution_count": 12,
   "metadata": {},
   "outputs": [
    {
     "data": {
      "text/html": [
       "<div>\n",
       "<style scoped>\n",
       "    .dataframe tbody tr th:only-of-type {\n",
       "        vertical-align: middle;\n",
       "    }\n",
       "\n",
       "    .dataframe tbody tr th {\n",
       "        vertical-align: top;\n",
       "    }\n",
       "\n",
       "    .dataframe thead th {\n",
       "        text-align: right;\n",
       "    }\n",
       "</style>\n",
       "<table border=\"1\" class=\"dataframe\">\n",
       "  <thead>\n",
       "    <tr style=\"text-align: right;\">\n",
       "      <th></th>\n",
       "      <th>id</th>\n",
       "      <th>original_id</th>\n",
       "      <th>tweet_text</th>\n",
       "      <th>tweet_url</th>\n",
       "      <th>claim</th>\n",
       "      <th>rating</th>\n",
       "      <th>images</th>\n",
       "      <th>text_images</th>\n",
       "      <th>source</th>\n",
       "      <th>label</th>\n",
       "      <th>label_info</th>\n",
       "      <th>available</th>\n",
       "      <th>acc_id</th>\n",
       "      <th>botometer</th>\n",
       "    </tr>\n",
       "  </thead>\n",
       "  <tbody>\n",
       "    <tr>\n",
       "      <th>4600</th>\n",
       "      <td>917008562563543040</td>\n",
       "      <td>916890818048294912</td>\n",
       "      <td>@antipandemonium @ShaunKing @NFL @DonteStallwo...</td>\n",
       "      <td>https://twitter.com/POTUS/status/9170085625635...</td>\n",
       "      <td>NFL players did not stand for the national ant...</td>\n",
       "      <td>['https://www.snopes.com/tachyon/2018/03/ratin...</td>\n",
       "      <td>http://pbs.twimg.com/media/DLlzVL0V4AEFNCG.jpg</td>\n",
       "      <td>NFL players only started coming on field for t...</td>\n",
       "      <td>https://www.snopes.com/fact-check/nfl-sideline...</td>\n",
       "      <td>mixture</td>\n",
       "      <td>NaN</td>\n",
       "      <td>ok</td>\n",
       "      <td>28722755</td>\n",
       "      <td>{'cap': {'english': 0.5539725719744064, 'unive...</td>\n",
       "    </tr>\n",
       "    <tr>\n",
       "      <th>4601</th>\n",
       "      <td>917134801416736768</td>\n",
       "      <td>917009839674544128</td>\n",
       "      <td>@HarryDowning113 @tia6sc @rodliz1225 @VP @POTU...</td>\n",
       "      <td>https://twitter.com/POTUS/status/9171348014167...</td>\n",
       "      <td>A meme accurately lists Democrats who have bee...</td>\n",
       "      <td>['https://www.snopes.com/tachyon/2018/03/ratin...</td>\n",
       "      <td>http://pbs.twimg.com/media/DLnflb4UQAE6fY5.jpg</td>\n",
       "      <td>nwughtCrime Resistance In 1865 a Democrat kill...</td>\n",
       "      <td>https://www.snopes.com/fact-check/democrat-sho...</td>\n",
       "      <td>mostly-false</td>\n",
       "      <td>NaN</td>\n",
       "      <td>ok</td>\n",
       "      <td>422041473</td>\n",
       "      <td>{'cap': {'english': 0.5778862084370772, 'unive...</td>\n",
       "    </tr>\n",
       "    <tr>\n",
       "      <th>4602</th>\n",
       "      <td>919401783683936256</td>\n",
       "      <td>917081407960305665</td>\n",
       "      <td>Oh now you’ll stand? I think not. Hope you nev...</td>\n",
       "      <td>https://twitter.com/POTUS/status/9194017836839...</td>\n",
       "      <td>In October 2017, Colin Kaepernick told a CBS r...</td>\n",
       "      <td>['https://www.snopes.com/tachyon/2018/03/ratin...</td>\n",
       "      <td>http://pbs.twimg.com/media/DLogrJOV4AAZwvw.jpg</td>\n",
       "      <td>FOX NEWS Breaking News 2m ago Colin Kaepernick...</td>\n",
       "      <td>https://www.snopes.com/fact-check/kaepernick-a...</td>\n",
       "      <td>false</td>\n",
       "      <td>NaN</td>\n",
       "      <td>ok</td>\n",
       "      <td>166751745</td>\n",
       "      <td>{'cap': {'english': 0.7920317685697057, 'unive...</td>\n",
       "    </tr>\n",
       "    <tr>\n",
       "      <th>4603</th>\n",
       "      <td>917104093029699586</td>\n",
       "      <td>917102637950017536</td>\n",
       "      <td>@ProudResister You mean this guy? https://t.co...</td>\n",
       "      <td>https://twitter.com/POTUS/status/9171040930296...</td>\n",
       "      <td>A photograph shows a young Mike Pence with his...</td>\n",
       "      <td>['https://www.snopes.com/tachyon/2018/03/ratin...</td>\n",
       "      <td>http://pbs.twimg.com/media/DLoz7n7UEAAOW6Y.jpg</td>\n",
       "      <td>Mike pence is trying to have this removed from...</td>\n",
       "      <td>https://www.snopes.com/fact-check/mike-pences-...</td>\n",
       "      <td>false</td>\n",
       "      <td>NaN</td>\n",
       "      <td>ok</td>\n",
       "      <td>867953768041660416</td>\n",
       "      <td>{'cap': {'english': 0.22631829961109876, 'univ...</td>\n",
       "    </tr>\n",
       "    <tr>\n",
       "      <th>4604</th>\n",
       "      <td>917189014918258688</td>\n",
       "      <td>917187370012823553</td>\n",
       "      <td>@ThePatriot143 Yeah &amp;amp; this is the Army so ...</td>\n",
       "      <td>https://twitter.com/POTUS/status/9171890149182...</td>\n",
       "      <td>A photograph shows the Army football team knee...</td>\n",
       "      <td>['https://www.snopes.com/tachyon/2018/03/ratin...</td>\n",
       "      <td>http://pbs.twimg.com/media/DLqBDJqWkAA0Oz0.jpg</td>\n",
       "      <td>Raymon King Jr 1 hr e U . S . Army Football Te...</td>\n",
       "      <td>https://www.snopes.com/fact-check/army-footbal...</td>\n",
       "      <td>false</td>\n",
       "      <td>NaN</td>\n",
       "      <td>auth</td>\n",
       "      <td>911585169060003840</td>\n",
       "      <td>{'code': 34, 'message': 'Sorry, that page does...</td>\n",
       "    </tr>\n",
       "    <tr>\n",
       "      <th>4605</th>\n",
       "      <td>917937955381088258</td>\n",
       "      <td>917202064358477824</td>\n",
       "      <td>@ChrisFagan57 @bridget4kicks @JulianAssange @S...</td>\n",
       "      <td>https://twitter.com/POTUS/status/9179379553810...</td>\n",
       "      <td>George Soros said that he funded the Black Liv...</td>\n",
       "      <td>['https://www.snopes.com/tachyon/2018/03/ratin...</td>\n",
       "      <td>http://pbs.twimg.com/media/DLqOaQYV4AEzRea.jpg</td>\n",
       "      <td>\" I'm going to bring down the United States by...</td>\n",
       "      <td>https://www.snopes.com/fact-check/george-soros...</td>\n",
       "      <td>false</td>\n",
       "      <td>NaN</td>\n",
       "      <td>auth</td>\n",
       "      <td>54017596</td>\n",
       "      <td>{'cap': {'english': 0.9158377984126878, 'unive...</td>\n",
       "    </tr>\n",
       "    <tr>\n",
       "      <th>4606</th>\n",
       "      <td>917266413076623360</td>\n",
       "      <td>917248492900249600</td>\n",
       "      <td>@DanCorkill1 @TheGrungeHam @carol_NC66 As I ha...</td>\n",
       "      <td>https://twitter.com/POTUS/status/9172664130766...</td>\n",
       "      <td>The man accused of opening fire on hundreds of...</td>\n",
       "      <td>['https://www.snopes.com/tachyon/2018/03/ratin...</td>\n",
       "      <td>http://pbs.twimg.com/media/DLq4c0CU8AAYLtT.jpg</td>\n",
       "      <td>NaN</td>\n",
       "      <td>https://www.snopes.com/fact-check/las-vegas-sh...</td>\n",
       "      <td>false</td>\n",
       "      <td>NaN</td>\n",
       "      <td>ok</td>\n",
       "      <td>124673927</td>\n",
       "      <td>{'cap': {'english': 0.4197222421546159, 'unive...</td>\n",
       "    </tr>\n",
       "    <tr>\n",
       "      <th>4607</th>\n",
       "      <td>917756421017690112</td>\n",
       "      <td>917248535136894977</td>\n",
       "      <td>it fucks me up that clickhole wrote one of the...</td>\n",
       "      <td>https://twitter.com/POTUS/status/9177564210176...</td>\n",
       "      <td>Barry Wilmore said that he saw astronaut Ramir...</td>\n",
       "      <td>['https://www.snopes.com/tachyon/2018/03/ratin...</td>\n",
       "      <td>http://pbs.twimg.com/media/DLq4q82UMAAdf_0.jpg</td>\n",
       "      <td>Barry Wilmore \" You never know true beauty unt...</td>\n",
       "      <td>https://www.snopes.com/fact-check/barry-wilmor...</td>\n",
       "      <td>false</td>\n",
       "      <td>NaN</td>\n",
       "      <td>auth</td>\n",
       "      <td>20600882</td>\n",
       "      <td>{'cap': {'english': 0.7176911080698488, 'unive...</td>\n",
       "    </tr>\n",
       "    <tr>\n",
       "      <th>4608</th>\n",
       "      <td>917388478144499717</td>\n",
       "      <td>917350015059791873</td>\n",
       "      <td>@USArmy333 @NBCNews @PeterAlexander @TODAYshow...</td>\n",
       "      <td>https://twitter.com/POTUS/status/9173884781444...</td>\n",
       "      <td>Prior to condemning flag burning in November 2...</td>\n",
       "      <td>['https://www.snopes.com/tachyon/2018/03/ratin...</td>\n",
       "      <td>http://pbs.twimg.com/media/DLsU-J8UIAERqd0.jpg</td>\n",
       "      <td>e Donald J . Trump @user Follow Burning a flag...</td>\n",
       "      <td>https://www.snopes.com/fact-check/trumps-flip-...</td>\n",
       "      <td>false</td>\n",
       "      <td>NaN</td>\n",
       "      <td>ok</td>\n",
       "      <td>793278250130825216</td>\n",
       "      <td>{'cap': {'english': 0.4756769663222349, 'unive...</td>\n",
       "    </tr>\n",
       "    <tr>\n",
       "      <th>4609</th>\n",
       "      <td>931324102899412993</td>\n",
       "      <td>917394007390425088</td>\n",
       "      <td>@VP @POTUS You &amp;amp; your boss should ask the ...</td>\n",
       "      <td>https://twitter.com/POTUS/status/9313241028994...</td>\n",
       "      <td>A photograph shows the Army football team knee...</td>\n",
       "      <td>['https://www.snopes.com/tachyon/2018/03/ratin...</td>\n",
       "      <td>http://pbs.twimg.com/media/DLs8-7pUQAAgiWd.jpg</td>\n",
       "      <td>331 likes livingthelifeof_blackgirlmagic Ummmm...</td>\n",
       "      <td>https://www.snopes.com/fact-check/army-footbal...</td>\n",
       "      <td>false</td>\n",
       "      <td>NaN</td>\n",
       "      <td>ok</td>\n",
       "      <td>24043461</td>\n",
       "      <td>{'cap': {'english': 0.22631829961109876, 'univ...</td>\n",
       "    </tr>\n",
       "    <tr>\n",
       "      <th>4610</th>\n",
       "      <td>917435403262558208</td>\n",
       "      <td>917408316569026560</td>\n",
       "      <td>@SonjiCarey @thehill ☝This can't seriously😠 be...</td>\n",
       "      <td>https://twitter.com/POTUS/status/9174354032625...</td>\n",
       "      <td>Prior to condemning flag burning in November 2...</td>\n",
       "      <td>['https://www.snopes.com/tachyon/2018/03/ratin...</td>\n",
       "      <td>http://pbs.twimg.com/media/DLtJ_6BWAAIrP7r.jpg</td>\n",
       "      <td>i 11:39 AM Q M ry Ostensarvi 43m Trump : NFL p...</td>\n",
       "      <td>https://www.snopes.com/fact-check/trumps-flip-...</td>\n",
       "      <td>false</td>\n",
       "      <td>NaN</td>\n",
       "      <td>ok</td>\n",
       "      <td>1277721991</td>\n",
       "      <td>{'cap': {'english': 0.2520419704315795, 'unive...</td>\n",
       "    </tr>\n",
       "    <tr>\n",
       "      <th>4611</th>\n",
       "      <td>932404019926110208</td>\n",
       "      <td>917414773322670081</td>\n",
       "      <td>This Shirt Says It All! https://t.co/8OrKgIpbTz</td>\n",
       "      <td>https://twitter.com/POTUS/status/9324040199261...</td>\n",
       "      <td>An image shows Lebron James wearing a \"we marc...</td>\n",
       "      <td>['https://www.snopes.com/tachyon/2018/03/ratin...</td>\n",
       "      <td>http://pbs.twimg.com/media/DLtPyjRXkAAuoCe.jpg</td>\n",
       "      <td>WE MARCH , y'all mad . WE SIT DOWN , y'all mad...</td>\n",
       "      <td>https://www.snopes.com/fact-check/lebron-james...</td>\n",
       "      <td>false</td>\n",
       "      <td>NaN</td>\n",
       "      <td>missing</td>\n",
       "      <td>2301628435</td>\n",
       "      <td>{'cap': {'english': 0.8912318555080615, 'unive...</td>\n",
       "    </tr>\n",
       "    <tr>\n",
       "      <th>4612</th>\n",
       "      <td>917432224433106945</td>\n",
       "      <td>917420153666703360</td>\n",
       "      <td>@realDonaldTrump @VP Kneeling disrespectful bu...</td>\n",
       "      <td>https://twitter.com/POTUS/status/9174322244331...</td>\n",
       "      <td>Prior to condemning flag burning in November 2...</td>\n",
       "      <td>['https://www.snopes.com/tachyon/2018/03/ratin...</td>\n",
       "      <td>http://pbs.twimg.com/media/DLtUw3MW0AAGeyj.jpg</td>\n",
       "      <td>Donald J . Trump great DonakiTrurnp &amp; Follow B...</td>\n",
       "      <td>https://www.snopes.com/fact-check/trumps-flip-...</td>\n",
       "      <td>false</td>\n",
       "      <td>NaN</td>\n",
       "      <td>ok</td>\n",
       "      <td>15694971</td>\n",
       "      <td>{'cap': {'english': 0.5778862084370772, 'unive...</td>\n",
       "    </tr>\n",
       "    <tr>\n",
       "      <th>4613</th>\n",
       "      <td>917474084530937856</td>\n",
       "      <td>917427575214956544</td>\n",
       "      <td>@GuyMckee5 @scottinclearh2o @secupp @GOP @NRA ...</td>\n",
       "      <td>https://twitter.com/POTUS/status/9174740845309...</td>\n",
       "      <td>Sec. of State Hillary Clinton's approval of a ...</td>\n",
       "      <td>['https://www.snopes.com/tachyon/2018/03/ratin...</td>\n",
       "      <td>http://pbs.twimg.com/media/DLtbg35VAAA2etM.jpg</td>\n",
       "      <td>In 2010 , the State Department under Hillary C...</td>\n",
       "      <td>https://www.snopes.com/fact-check/hillary-clin...</td>\n",
       "      <td>false</td>\n",
       "      <td>NaN</td>\n",
       "      <td>ok</td>\n",
       "      <td>3401758332</td>\n",
       "      <td>{'code': 34, 'message': 'Sorry, that page does...</td>\n",
       "    </tr>\n",
       "    <tr>\n",
       "      <th>4614</th>\n",
       "      <td>917488416538972160</td>\n",
       "      <td>917437803138609153</td>\n",
       "      <td>Now that’s unfortunate. https://t.co/ozX0T0NL2Y</td>\n",
       "      <td>https://twitter.com/POTUS/status/9174884165389...</td>\n",
       "      <td>Actress Judi Dench has Havey Weinstein's initi...</td>\n",
       "      <td>['https://www.snopes.com/tachyon/2018/03/ratin...</td>\n",
       "      <td>http://pbs.twimg.com/media/DLtk0buXkAAO6DT.jpg</td>\n",
       "      <td>Weinstein confirmed that Dench had a tattoo th...</td>\n",
       "      <td>https://www.snopes.com/fact-check/judi-dench-h...</td>\n",
       "      <td>false</td>\n",
       "      <td>NaN</td>\n",
       "      <td>missing</td>\n",
       "      <td>14701191</td>\n",
       "      <td>{'code': 34, 'message': 'Sorry, that page does...</td>\n",
       "    </tr>\n",
       "    <tr>\n",
       "      <th>4615</th>\n",
       "      <td>919292155692232705</td>\n",
       "      <td>917532655608127490</td>\n",
       "      <td>Exclusive: Judi Dench, who has a Harvey Weinst...</td>\n",
       "      <td>https://twitter.com/POTUS/status/9192921556922...</td>\n",
       "      <td>Actress Judi Dench has Havey Weinstein's initi...</td>\n",
       "      <td>['https://www.snopes.com/tachyon/2018/03/ratin...</td>\n",
       "      <td>http://pbs.twimg.com/media/DLu7Fh7WAAAvowc.jpg</td>\n",
       "      <td>NaN</td>\n",
       "      <td>https://www.snopes.com/fact-check/judi-dench-h...</td>\n",
       "      <td>false</td>\n",
       "      <td>NaN</td>\n",
       "      <td>ok</td>\n",
       "      <td>2884771</td>\n",
       "      <td>{'code': 34, 'message': 'Sorry, that page does...</td>\n",
       "    </tr>\n",
       "    <tr>\n",
       "      <th>4616</th>\n",
       "      <td>917910097845559296</td>\n",
       "      <td>917571711196909568</td>\n",
       "      <td>Looks like a Photoshop job.  RT @mersmom8 This...</td>\n",
       "      <td>https://twitter.com/POTUS/status/9179100978455...</td>\n",
       "      <td>An image shows Lebron James wearing a \"we marc...</td>\n",
       "      <td>['https://www.snopes.com/tachyon/2018/03/ratin...</td>\n",
       "      <td>http://pbs.twimg.com/media/DLtPyjRXkAAuoCe.jpg</td>\n",
       "      <td>WE MARCH , y'all mad . WE SIT DOWN , y'all mad...</td>\n",
       "      <td>https://www.snopes.com/fact-check/lebron-james...</td>\n",
       "      <td>false</td>\n",
       "      <td>NaN</td>\n",
       "      <td>auth</td>\n",
       "      <td>25241610</td>\n",
       "      <td>{'code': 34, 'message': 'Sorry, that page does...</td>\n",
       "    </tr>\n",
       "    <tr>\n",
       "      <th>4617</th>\n",
       "      <td>917675610297765893</td>\n",
       "      <td>917675143710769153</td>\n",
       "      <td>@DennisDoiron @JoyLapine @H_Combs @VP I think ...</td>\n",
       "      <td>https://twitter.com/POTUS/status/9176756102977...</td>\n",
       "      <td>A photograph shows a young Mike Pence with his...</td>\n",
       "      <td>['https://www.snopes.com/tachyon/2018/03/ratin...</td>\n",
       "      <td>http://pbs.twimg.com/media/DLw8rUIVwAAHRT_.jpg</td>\n",
       "      <td>NaN</td>\n",
       "      <td>https://www.snopes.com/fact-check/mike-pences-...</td>\n",
       "      <td>false</td>\n",
       "      <td>NaN</td>\n",
       "      <td>ok</td>\n",
       "      <td>4868688743</td>\n",
       "      <td>{'code': 34, 'message': 'Sorry, that page does...</td>\n",
       "    </tr>\n",
       "    <tr>\n",
       "      <th>4618</th>\n",
       "      <td>917745985811566593</td>\n",
       "      <td>917739219010899968</td>\n",
       "      <td>@ZimJay @SheriffClarke Look in the mirror mini...</td>\n",
       "      <td>https://twitter.com/POTUS/status/9177459858115...</td>\n",
       "      <td>Hillary Clinton said that Democratic voters ar...</td>\n",
       "      <td>['https://www.snopes.com/tachyon/2018/03/ratin...</td>\n",
       "      <td>http://pbs.twimg.com/media/DLx28u2WAAAhVTY.jpg</td>\n",
       "      <td>\" Look , the average Democrat voter is just pl...</td>\n",
       "      <td>https://www.snopes.com/fact-check/hillary-clin...</td>\n",
       "      <td>false</td>\n",
       "      <td>NaN</td>\n",
       "      <td>ok</td>\n",
       "      <td>703384522033897472</td>\n",
       "      <td>{'code': 34, 'message': 'Sorry, that page does...</td>\n",
       "    </tr>\n",
       "    <tr>\n",
       "      <th>4619</th>\n",
       "      <td>917756129853296641</td>\n",
       "      <td>917742711339335680</td>\n",
       "      <td>@IngrahamAngle @realDonaldTrump Read what Reag...</td>\n",
       "      <td>https://twitter.com/POTUS/status/9177561298532...</td>\n",
       "      <td>Ronald Reagan said he felt like he was shaking...</td>\n",
       "      <td>['https://www.snopes.com/tachyon/2018/03/ratin...</td>\n",
       "      <td>http://pbs.twimg.com/media/DLx6IEBVwAErwto.jpg</td>\n",
       "      <td>I'UINEVER IT , WHEN I MET THAiYOUNGMAN , lFELT...</td>\n",
       "      <td>https://www.snopes.com/fact-check/reagan-trump...</td>\n",
       "      <td>false</td>\n",
       "      <td>NaN</td>\n",
       "      <td>ok</td>\n",
       "      <td>854166263618088960</td>\n",
       "      <td>{'code': 34, 'message': 'Sorry, that page does...</td>\n",
       "    </tr>\n",
       "    <tr>\n",
       "      <th>4620</th>\n",
       "      <td>917754439481614336</td>\n",
       "      <td>917752003299807232</td>\n",
       "      <td>“Sorry losers and haters, but my I.Q. is one o...</td>\n",
       "      <td>https://twitter.com/POTUS/status/9177544394816...</td>\n",
       "      <td>Donald Trump's IQ, at 156, is comparable to th...</td>\n",
       "      <td>['https://www.snopes.com/tachyon/2018/03/ratin...</td>\n",
       "      <td>http://pbs.twimg.com/media/DLyClQTWsAA93OE.jpg</td>\n",
       "      <td>NaN</td>\n",
       "      <td>https://www.snopes.com/fact-check/donald-trump...</td>\n",
       "      <td>false</td>\n",
       "      <td>NaN</td>\n",
       "      <td>auth</td>\n",
       "      <td>759251</td>\n",
       "      <td>{'code': 34, 'message': 'Sorry, that page does...</td>\n",
       "    </tr>\n",
       "  </tbody>\n",
       "</table>\n",
       "</div>"
      ],
      "text/plain": [
       "                      id         original_id  \\\n",
       "4600  917008562563543040  916890818048294912   \n",
       "4601  917134801416736768  917009839674544128   \n",
       "4602  919401783683936256  917081407960305665   \n",
       "4603  917104093029699586  917102637950017536   \n",
       "4604  917189014918258688  917187370012823553   \n",
       "4605  917937955381088258  917202064358477824   \n",
       "4606  917266413076623360  917248492900249600   \n",
       "4607  917756421017690112  917248535136894977   \n",
       "4608  917388478144499717  917350015059791873   \n",
       "4609  931324102899412993  917394007390425088   \n",
       "4610  917435403262558208  917408316569026560   \n",
       "4611  932404019926110208  917414773322670081   \n",
       "4612  917432224433106945  917420153666703360   \n",
       "4613  917474084530937856  917427575214956544   \n",
       "4614  917488416538972160  917437803138609153   \n",
       "4615  919292155692232705  917532655608127490   \n",
       "4616  917910097845559296  917571711196909568   \n",
       "4617  917675610297765893  917675143710769153   \n",
       "4618  917745985811566593  917739219010899968   \n",
       "4619  917756129853296641  917742711339335680   \n",
       "4620  917754439481614336  917752003299807232   \n",
       "\n",
       "                                             tweet_text  \\\n",
       "4600  @antipandemonium @ShaunKing @NFL @DonteStallwo...   \n",
       "4601  @HarryDowning113 @tia6sc @rodliz1225 @VP @POTU...   \n",
       "4602  Oh now you’ll stand? I think not. Hope you nev...   \n",
       "4603  @ProudResister You mean this guy? https://t.co...   \n",
       "4604  @ThePatriot143 Yeah &amp; this is the Army so ...   \n",
       "4605  @ChrisFagan57 @bridget4kicks @JulianAssange @S...   \n",
       "4606  @DanCorkill1 @TheGrungeHam @carol_NC66 As I ha...   \n",
       "4607  it fucks me up that clickhole wrote one of the...   \n",
       "4608  @USArmy333 @NBCNews @PeterAlexander @TODAYshow...   \n",
       "4609  @VP @POTUS You &amp; your boss should ask the ...   \n",
       "4610  @SonjiCarey @thehill ☝This can't seriously😠 be...   \n",
       "4611    This Shirt Says It All! https://t.co/8OrKgIpbTz   \n",
       "4612  @realDonaldTrump @VP Kneeling disrespectful bu...   \n",
       "4613  @GuyMckee5 @scottinclearh2o @secupp @GOP @NRA ...   \n",
       "4614    Now that’s unfortunate. https://t.co/ozX0T0NL2Y   \n",
       "4615  Exclusive: Judi Dench, who has a Harvey Weinst...   \n",
       "4616  Looks like a Photoshop job.  RT @mersmom8 This...   \n",
       "4617  @DennisDoiron @JoyLapine @H_Combs @VP I think ...   \n",
       "4618  @ZimJay @SheriffClarke Look in the mirror mini...   \n",
       "4619  @IngrahamAngle @realDonaldTrump Read what Reag...   \n",
       "4620  “Sorry losers and haters, but my I.Q. is one o...   \n",
       "\n",
       "                                              tweet_url  \\\n",
       "4600  https://twitter.com/POTUS/status/9170085625635...   \n",
       "4601  https://twitter.com/POTUS/status/9171348014167...   \n",
       "4602  https://twitter.com/POTUS/status/9194017836839...   \n",
       "4603  https://twitter.com/POTUS/status/9171040930296...   \n",
       "4604  https://twitter.com/POTUS/status/9171890149182...   \n",
       "4605  https://twitter.com/POTUS/status/9179379553810...   \n",
       "4606  https://twitter.com/POTUS/status/9172664130766...   \n",
       "4607  https://twitter.com/POTUS/status/9177564210176...   \n",
       "4608  https://twitter.com/POTUS/status/9173884781444...   \n",
       "4609  https://twitter.com/POTUS/status/9313241028994...   \n",
       "4610  https://twitter.com/POTUS/status/9174354032625...   \n",
       "4611  https://twitter.com/POTUS/status/9324040199261...   \n",
       "4612  https://twitter.com/POTUS/status/9174322244331...   \n",
       "4613  https://twitter.com/POTUS/status/9174740845309...   \n",
       "4614  https://twitter.com/POTUS/status/9174884165389...   \n",
       "4615  https://twitter.com/POTUS/status/9192921556922...   \n",
       "4616  https://twitter.com/POTUS/status/9179100978455...   \n",
       "4617  https://twitter.com/POTUS/status/9176756102977...   \n",
       "4618  https://twitter.com/POTUS/status/9177459858115...   \n",
       "4619  https://twitter.com/POTUS/status/9177561298532...   \n",
       "4620  https://twitter.com/POTUS/status/9177544394816...   \n",
       "\n",
       "                                                  claim  \\\n",
       "4600  NFL players did not stand for the national ant...   \n",
       "4601  A meme accurately lists Democrats who have bee...   \n",
       "4602  In October 2017, Colin Kaepernick told a CBS r...   \n",
       "4603  A photograph shows a young Mike Pence with his...   \n",
       "4604  A photograph shows the Army football team knee...   \n",
       "4605  George Soros said that he funded the Black Liv...   \n",
       "4606  The man accused of opening fire on hundreds of...   \n",
       "4607  Barry Wilmore said that he saw astronaut Ramir...   \n",
       "4608  Prior to condemning flag burning in November 2...   \n",
       "4609  A photograph shows the Army football team knee...   \n",
       "4610  Prior to condemning flag burning in November 2...   \n",
       "4611  An image shows Lebron James wearing a \"we marc...   \n",
       "4612  Prior to condemning flag burning in November 2...   \n",
       "4613  Sec. of State Hillary Clinton's approval of a ...   \n",
       "4614  Actress Judi Dench has Havey Weinstein's initi...   \n",
       "4615  Actress Judi Dench has Havey Weinstein's initi...   \n",
       "4616  An image shows Lebron James wearing a \"we marc...   \n",
       "4617  A photograph shows a young Mike Pence with his...   \n",
       "4618  Hillary Clinton said that Democratic voters ar...   \n",
       "4619  Ronald Reagan said he felt like he was shaking...   \n",
       "4620  Donald Trump's IQ, at 156, is comparable to th...   \n",
       "\n",
       "                                                 rating  \\\n",
       "4600  ['https://www.snopes.com/tachyon/2018/03/ratin...   \n",
       "4601  ['https://www.snopes.com/tachyon/2018/03/ratin...   \n",
       "4602  ['https://www.snopes.com/tachyon/2018/03/ratin...   \n",
       "4603  ['https://www.snopes.com/tachyon/2018/03/ratin...   \n",
       "4604  ['https://www.snopes.com/tachyon/2018/03/ratin...   \n",
       "4605  ['https://www.snopes.com/tachyon/2018/03/ratin...   \n",
       "4606  ['https://www.snopes.com/tachyon/2018/03/ratin...   \n",
       "4607  ['https://www.snopes.com/tachyon/2018/03/ratin...   \n",
       "4608  ['https://www.snopes.com/tachyon/2018/03/ratin...   \n",
       "4609  ['https://www.snopes.com/tachyon/2018/03/ratin...   \n",
       "4610  ['https://www.snopes.com/tachyon/2018/03/ratin...   \n",
       "4611  ['https://www.snopes.com/tachyon/2018/03/ratin...   \n",
       "4612  ['https://www.snopes.com/tachyon/2018/03/ratin...   \n",
       "4613  ['https://www.snopes.com/tachyon/2018/03/ratin...   \n",
       "4614  ['https://www.snopes.com/tachyon/2018/03/ratin...   \n",
       "4615  ['https://www.snopes.com/tachyon/2018/03/ratin...   \n",
       "4616  ['https://www.snopes.com/tachyon/2018/03/ratin...   \n",
       "4617  ['https://www.snopes.com/tachyon/2018/03/ratin...   \n",
       "4618  ['https://www.snopes.com/tachyon/2018/03/ratin...   \n",
       "4619  ['https://www.snopes.com/tachyon/2018/03/ratin...   \n",
       "4620  ['https://www.snopes.com/tachyon/2018/03/ratin...   \n",
       "\n",
       "                                              images  \\\n",
       "4600  http://pbs.twimg.com/media/DLlzVL0V4AEFNCG.jpg   \n",
       "4601  http://pbs.twimg.com/media/DLnflb4UQAE6fY5.jpg   \n",
       "4602  http://pbs.twimg.com/media/DLogrJOV4AAZwvw.jpg   \n",
       "4603  http://pbs.twimg.com/media/DLoz7n7UEAAOW6Y.jpg   \n",
       "4604  http://pbs.twimg.com/media/DLqBDJqWkAA0Oz0.jpg   \n",
       "4605  http://pbs.twimg.com/media/DLqOaQYV4AEzRea.jpg   \n",
       "4606  http://pbs.twimg.com/media/DLq4c0CU8AAYLtT.jpg   \n",
       "4607  http://pbs.twimg.com/media/DLq4q82UMAAdf_0.jpg   \n",
       "4608  http://pbs.twimg.com/media/DLsU-J8UIAERqd0.jpg   \n",
       "4609  http://pbs.twimg.com/media/DLs8-7pUQAAgiWd.jpg   \n",
       "4610  http://pbs.twimg.com/media/DLtJ_6BWAAIrP7r.jpg   \n",
       "4611  http://pbs.twimg.com/media/DLtPyjRXkAAuoCe.jpg   \n",
       "4612  http://pbs.twimg.com/media/DLtUw3MW0AAGeyj.jpg   \n",
       "4613  http://pbs.twimg.com/media/DLtbg35VAAA2etM.jpg   \n",
       "4614  http://pbs.twimg.com/media/DLtk0buXkAAO6DT.jpg   \n",
       "4615  http://pbs.twimg.com/media/DLu7Fh7WAAAvowc.jpg   \n",
       "4616  http://pbs.twimg.com/media/DLtPyjRXkAAuoCe.jpg   \n",
       "4617  http://pbs.twimg.com/media/DLw8rUIVwAAHRT_.jpg   \n",
       "4618  http://pbs.twimg.com/media/DLx28u2WAAAhVTY.jpg   \n",
       "4619  http://pbs.twimg.com/media/DLx6IEBVwAErwto.jpg   \n",
       "4620  http://pbs.twimg.com/media/DLyClQTWsAA93OE.jpg   \n",
       "\n",
       "                                            text_images  \\\n",
       "4600  NFL players only started coming on field for t...   \n",
       "4601  nwughtCrime Resistance In 1865 a Democrat kill...   \n",
       "4602  FOX NEWS Breaking News 2m ago Colin Kaepernick...   \n",
       "4603  Mike pence is trying to have this removed from...   \n",
       "4604  Raymon King Jr 1 hr e U . S . Army Football Te...   \n",
       "4605  \" I'm going to bring down the United States by...   \n",
       "4606                                                NaN   \n",
       "4607  Barry Wilmore \" You never know true beauty unt...   \n",
       "4608  e Donald J . Trump @user Follow Burning a flag...   \n",
       "4609  331 likes livingthelifeof_blackgirlmagic Ummmm...   \n",
       "4610  i 11:39 AM Q M ry Ostensarvi 43m Trump : NFL p...   \n",
       "4611  WE MARCH , y'all mad . WE SIT DOWN , y'all mad...   \n",
       "4612  Donald J . Trump great DonakiTrurnp & Follow B...   \n",
       "4613  In 2010 , the State Department under Hillary C...   \n",
       "4614  Weinstein confirmed that Dench had a tattoo th...   \n",
       "4615                                                NaN   \n",
       "4616  WE MARCH , y'all mad . WE SIT DOWN , y'all mad...   \n",
       "4617                                                NaN   \n",
       "4618  \" Look , the average Democrat voter is just pl...   \n",
       "4619  I'UINEVER IT , WHEN I MET THAiYOUNGMAN , lFELT...   \n",
       "4620                                                NaN   \n",
       "\n",
       "                                                 source         label  \\\n",
       "4600  https://www.snopes.com/fact-check/nfl-sideline...       mixture   \n",
       "4601  https://www.snopes.com/fact-check/democrat-sho...  mostly-false   \n",
       "4602  https://www.snopes.com/fact-check/kaepernick-a...         false   \n",
       "4603  https://www.snopes.com/fact-check/mike-pences-...         false   \n",
       "4604  https://www.snopes.com/fact-check/army-footbal...         false   \n",
       "4605  https://www.snopes.com/fact-check/george-soros...         false   \n",
       "4606  https://www.snopes.com/fact-check/las-vegas-sh...         false   \n",
       "4607  https://www.snopes.com/fact-check/barry-wilmor...         false   \n",
       "4608  https://www.snopes.com/fact-check/trumps-flip-...         false   \n",
       "4609  https://www.snopes.com/fact-check/army-footbal...         false   \n",
       "4610  https://www.snopes.com/fact-check/trumps-flip-...         false   \n",
       "4611  https://www.snopes.com/fact-check/lebron-james...         false   \n",
       "4612  https://www.snopes.com/fact-check/trumps-flip-...         false   \n",
       "4613  https://www.snopes.com/fact-check/hillary-clin...         false   \n",
       "4614  https://www.snopes.com/fact-check/judi-dench-h...         false   \n",
       "4615  https://www.snopes.com/fact-check/judi-dench-h...         false   \n",
       "4616  https://www.snopes.com/fact-check/lebron-james...         false   \n",
       "4617  https://www.snopes.com/fact-check/mike-pences-...         false   \n",
       "4618  https://www.snopes.com/fact-check/hillary-clin...         false   \n",
       "4619  https://www.snopes.com/fact-check/reagan-trump...         false   \n",
       "4620  https://www.snopes.com/fact-check/donald-trump...         false   \n",
       "\n",
       "      label_info available              acc_id  \\\n",
       "4600         NaN        ok            28722755   \n",
       "4601         NaN        ok           422041473   \n",
       "4602         NaN        ok           166751745   \n",
       "4603         NaN        ok  867953768041660416   \n",
       "4604         NaN      auth  911585169060003840   \n",
       "4605         NaN      auth            54017596   \n",
       "4606         NaN        ok           124673927   \n",
       "4607         NaN      auth            20600882   \n",
       "4608         NaN        ok  793278250130825216   \n",
       "4609         NaN        ok            24043461   \n",
       "4610         NaN        ok          1277721991   \n",
       "4611         NaN   missing          2301628435   \n",
       "4612         NaN        ok            15694971   \n",
       "4613         NaN        ok          3401758332   \n",
       "4614         NaN   missing            14701191   \n",
       "4615         NaN        ok             2884771   \n",
       "4616         NaN      auth            25241610   \n",
       "4617         NaN        ok          4868688743   \n",
       "4618         NaN        ok  703384522033897472   \n",
       "4619         NaN        ok  854166263618088960   \n",
       "4620         NaN      auth              759251   \n",
       "\n",
       "                                              botometer  \n",
       "4600  {'cap': {'english': 0.5539725719744064, 'unive...  \n",
       "4601  {'cap': {'english': 0.5778862084370772, 'unive...  \n",
       "4602  {'cap': {'english': 0.7920317685697057, 'unive...  \n",
       "4603  {'cap': {'english': 0.22631829961109876, 'univ...  \n",
       "4604  {'code': 34, 'message': 'Sorry, that page does...  \n",
       "4605  {'cap': {'english': 0.9158377984126878, 'unive...  \n",
       "4606  {'cap': {'english': 0.4197222421546159, 'unive...  \n",
       "4607  {'cap': {'english': 0.7176911080698488, 'unive...  \n",
       "4608  {'cap': {'english': 0.4756769663222349, 'unive...  \n",
       "4609  {'cap': {'english': 0.22631829961109876, 'univ...  \n",
       "4610  {'cap': {'english': 0.2520419704315795, 'unive...  \n",
       "4611  {'cap': {'english': 0.8912318555080615, 'unive...  \n",
       "4612  {'cap': {'english': 0.5778862084370772, 'unive...  \n",
       "4613  {'code': 34, 'message': 'Sorry, that page does...  \n",
       "4614  {'code': 34, 'message': 'Sorry, that page does...  \n",
       "4615  {'code': 34, 'message': 'Sorry, that page does...  \n",
       "4616  {'code': 34, 'message': 'Sorry, that page does...  \n",
       "4617  {'code': 34, 'message': 'Sorry, that page does...  \n",
       "4618  {'code': 34, 'message': 'Sorry, that page does...  \n",
       "4619  {'code': 34, 'message': 'Sorry, that page does...  \n",
       "4620  {'code': 34, 'message': 'Sorry, that page does...  "
      ]
     },
     "execution_count": 12,
     "metadata": {},
     "output_type": "execute_result"
    }
   ],
   "source": [
    "df.loc[4600:4620]"
   ]
  },
  {
   "cell_type": "code",
   "execution_count": 6,
   "metadata": {},
   "outputs": [
    {
     "name": "stdout",
     "output_type": "stream",
     "text": [
      "Collecting tweepy==3.6\n",
      "  Downloading tweepy-3.6.0-py2.py3-none-any.whl (29 kB)\n",
      "Requirement already satisfied: requests>=2.11.1 in /home/mihail/.local/lib/python3.8/site-packages (from tweepy==3.6) (2.27.1)\n",
      "Requirement already satisfied: six>=1.10.0 in /usr/lib/python3/dist-packages (from tweepy==3.6) (1.14.0)\n",
      "Requirement already satisfied: requests-oauthlib>=0.7.0 in /home/mihail/.local/lib/python3.8/site-packages (from tweepy==3.6) (1.3.1)\n",
      "Collecting PySocks>=1.5.7\n",
      "  Downloading PySocks-1.7.1-py3-none-any.whl (16 kB)\n",
      "Requirement already satisfied: idna<4,>=2.5; python_version >= \"3\" in /usr/lib/python3/dist-packages (from requests>=2.11.1->tweepy==3.6) (2.8)\n",
      "Requirement already satisfied: certifi>=2017.4.17 in /usr/lib/python3/dist-packages (from requests>=2.11.1->tweepy==3.6) (2019.11.28)\n",
      "Requirement already satisfied: urllib3<1.27,>=1.21.1 in /usr/lib/python3/dist-packages (from requests>=2.11.1->tweepy==3.6) (1.25.8)\n",
      "Requirement already satisfied: charset-normalizer~=2.0.0; python_version >= \"3\" in /home/mihail/.local/lib/python3.8/site-packages (from requests>=2.11.1->tweepy==3.6) (2.0.12)\n",
      "Requirement already satisfied: oauthlib>=3.0.0 in /home/mihail/.local/lib/python3.8/site-packages (from requests-oauthlib>=0.7.0->tweepy==3.6) (3.2.0)\n",
      "Installing collected packages: PySocks, tweepy\n",
      "  Attempting uninstall: tweepy\n",
      "    Found existing installation: tweepy 4.0.0\n",
      "    Uninstalling tweepy-4.0.0:\n",
      "      Successfully uninstalled tweepy-4.0.0\n",
      "Successfully installed PySocks-1.7.1 tweepy-3.6.0\n",
      "Note: you may need to restart the kernel to use updated packages.\n"
     ]
    }
   ],
   "source": [
    "pip install tweepy==3.6"
   ]
  },
  {
   "cell_type": "code",
   "execution_count": 164,
   "metadata": {},
   "outputs": [
    {
     "data": {
      "text/plain": [
       "6232"
      ]
     },
     "execution_count": 164,
     "metadata": {},
     "output_type": "execute_result"
    }
   ],
   "source": [
    "df.botometer.isna().sum()"
   ]
  },
  {
   "cell_type": "code",
   "execution_count": 167,
   "metadata": {},
   "outputs": [
    {
     "data": {
      "text/html": [
       "<div>\n",
       "<style scoped>\n",
       "    .dataframe tbody tr th:only-of-type {\n",
       "        vertical-align: middle;\n",
       "    }\n",
       "\n",
       "    .dataframe tbody tr th {\n",
       "        vertical-align: top;\n",
       "    }\n",
       "\n",
       "    .dataframe thead th {\n",
       "        text-align: right;\n",
       "    }\n",
       "</style>\n",
       "<table border=\"1\" class=\"dataframe\">\n",
       "  <thead>\n",
       "    <tr style=\"text-align: right;\">\n",
       "      <th></th>\n",
       "      <th>id</th>\n",
       "      <th>original_id</th>\n",
       "      <th>tweet_text</th>\n",
       "      <th>tweet_url</th>\n",
       "      <th>claim</th>\n",
       "      <th>rating</th>\n",
       "      <th>images</th>\n",
       "      <th>text_images</th>\n",
       "      <th>source</th>\n",
       "      <th>label</th>\n",
       "      <th>label_info</th>\n",
       "      <th>available</th>\n",
       "      <th>acc_id</th>\n",
       "      <th>botometer</th>\n",
       "    </tr>\n",
       "  </thead>\n",
       "  <tbody>\n",
       "    <tr>\n",
       "      <th>904</th>\n",
       "      <td>777593547142889472</td>\n",
       "      <td>777587316923600896</td>\n",
       "      <td>The @WSJ has different content in different lo...</td>\n",
       "      <td>https://twitter.com/POTUS/status/7775935471428...</td>\n",
       "      <td>The Wall Street Journal ran Donald Trump stori...</td>\n",
       "      <td>['https://www.snopes.com/tachyon/2018/03/ratin...</td>\n",
       "      <td>http://pbs.twimg.com/media/CsqLirWUAAACzYg.jpg</td>\n",
       "      <td>TIIE WALL STREET JOIRNAL . THE LOAFER STEPS UP...</td>\n",
       "      <td>https://www.snopes.com/fact-check/wsj-differen...</td>\n",
       "      <td>true</td>\n",
       "      <td>NaN</td>\n",
       "      <td>ok</td>\n",
       "      <td>3362345172</td>\n",
       "      <td>{'code': 34, 'message': 'Sorry, that page does...</td>\n",
       "    </tr>\n",
       "  </tbody>\n",
       "</table>\n",
       "</div>"
      ],
      "text/plain": [
       "                     id         original_id  \\\n",
       "904  777593547142889472  777587316923600896   \n",
       "\n",
       "                                            tweet_text  \\\n",
       "904  The @WSJ has different content in different lo...   \n",
       "\n",
       "                                             tweet_url  \\\n",
       "904  https://twitter.com/POTUS/status/7775935471428...   \n",
       "\n",
       "                                                 claim  \\\n",
       "904  The Wall Street Journal ran Donald Trump stori...   \n",
       "\n",
       "                                                rating  \\\n",
       "904  ['https://www.snopes.com/tachyon/2018/03/ratin...   \n",
       "\n",
       "                                             images  \\\n",
       "904  http://pbs.twimg.com/media/CsqLirWUAAACzYg.jpg   \n",
       "\n",
       "                                           text_images  \\\n",
       "904  TIIE WALL STREET JOIRNAL . THE LOAFER STEPS UP...   \n",
       "\n",
       "                                                source label  label_info  \\\n",
       "904  https://www.snopes.com/fact-check/wsj-differen...  true         NaN   \n",
       "\n",
       "    available      acc_id                                          botometer  \n",
       "904        ok  3362345172  {'code': 34, 'message': 'Sorry, that page does...  "
      ]
     },
     "execution_count": 167,
     "metadata": {},
     "output_type": "execute_result"
    }
   ],
   "source": [
    "df[df.acc_id.isin([3362345172])]"
   ]
  },
  {
   "cell_type": "code",
   "execution_count": 177,
   "metadata": {},
   "outputs": [],
   "source": [
    "df.to_csv(\"snopes_1429.csv\", index=False)"
   ]
  },
  {
   "cell_type": "code",
   "execution_count": 12,
   "metadata": {},
   "outputs": [],
   "source": [
    "df.to_csv(\"snopes_1942.csv\", index=False)"
   ]
  },
  {
   "cell_type": "code",
   "execution_count": 21,
   "metadata": {},
   "outputs": [],
   "source": [
    "df.to_csv(\"snopes_2990.csv\", index=False)"
   ]
  },
  {
   "cell_type": "code",
   "execution_count": 22,
   "metadata": {},
   "outputs": [],
   "source": [
    "df = pd.read_csv(\"snopes_2990.csv\")"
   ]
  },
  {
   "cell_type": "code",
   "execution_count": 23,
   "metadata": {},
   "outputs": [
    {
     "data": {
      "text/html": [
       "<div>\n",
       "<style scoped>\n",
       "    .dataframe tbody tr th:only-of-type {\n",
       "        vertical-align: middle;\n",
       "    }\n",
       "\n",
       "    .dataframe tbody tr th {\n",
       "        vertical-align: top;\n",
       "    }\n",
       "\n",
       "    .dataframe thead th {\n",
       "        text-align: right;\n",
       "    }\n",
       "</style>\n",
       "<table border=\"1\" class=\"dataframe\">\n",
       "  <thead>\n",
       "    <tr style=\"text-align: right;\">\n",
       "      <th></th>\n",
       "      <th>id</th>\n",
       "      <th>original_id</th>\n",
       "      <th>tweet_text</th>\n",
       "      <th>tweet_url</th>\n",
       "      <th>claim</th>\n",
       "      <th>rating</th>\n",
       "      <th>images</th>\n",
       "      <th>text_images</th>\n",
       "      <th>source</th>\n",
       "      <th>label</th>\n",
       "      <th>label_info</th>\n",
       "      <th>available</th>\n",
       "      <th>acc_id</th>\n",
       "      <th>botometer</th>\n",
       "    </tr>\n",
       "  </thead>\n",
       "  <tbody>\n",
       "    <tr>\n",
       "      <th>2980</th>\n",
       "      <td>851380310403108864</td>\n",
       "      <td>851369498351460352</td>\n",
       "      <td>IF TOMAHAWK MISSLES ARE AROUND A $1M EACH, WHY...</td>\n",
       "      <td>https://twitter.com/POTUS/status/8513803104031...</td>\n",
       "      <td>CNN was caught using photographs of the same g...</td>\n",
       "      <td>['https://www.snopes.com/tachyon/2018/03/ratin...</td>\n",
       "      <td>http://pbs.twimg.com/media/C9CsB6uXoAEaorL.jpg</td>\n",
       "      <td>NaN</td>\n",
       "      <td>https://www.snopes.com/fact-check/cnn-same-ref...</td>\n",
       "      <td>false</td>\n",
       "      <td>NaN</td>\n",
       "      <td>ok</td>\n",
       "      <td>113423108</td>\n",
       "      <td>{'cap': {'english': 0.8076035454448582, 'unive...</td>\n",
       "    </tr>\n",
       "    <tr>\n",
       "      <th>2981</th>\n",
       "      <td>851512935176425472</td>\n",
       "      <td>851501829351501824</td>\n",
       "      <td>United #UnitedAirlines https://t.co/GzXudvd9BD</td>\n",
       "      <td>https://twitter.com/POTUS/status/8515129351764...</td>\n",
       "      <td>United Airlines will begin charging for overhe...</td>\n",
       "      <td>['https://www.snopes.com/tachyon/2018/03/ratin...</td>\n",
       "      <td>http://pbs.twimg.com/media/C9EkZW-WsAAXsa-.jpg</td>\n",
       "      <td>United Airlines just announced they will now b...</td>\n",
       "      <td>https://www.snopes.com/fact-check/united-airli...</td>\n",
       "      <td>mostly-false</td>\n",
       "      <td>NaN</td>\n",
       "      <td>ok</td>\n",
       "      <td>794706601676591104</td>\n",
       "      <td>{'code': 34, 'message': 'Sorry, that page does...</td>\n",
       "    </tr>\n",
       "    <tr>\n",
       "      <th>2982</th>\n",
       "      <td>851560765433806849</td>\n",
       "      <td>851555419457585153</td>\n",
       "      <td>Honestly- I'm not a hateful person, but I hope...</td>\n",
       "      <td>https://twitter.com/POTUS/status/8515607654338...</td>\n",
       "      <td>Whoopi Goldberg said that \"military widows lov...</td>\n",
       "      <td>['https://www.snopes.com/tachyon/2018/03/ratin...</td>\n",
       "      <td>http://pbs.twimg.com/media/C9FVIyjVYAA6ZV6.jpg</td>\n",
       "      <td>.. JTHWITH JONES \" She was just looking for at...</td>\n",
       "      <td>https://www.snopes.com/fact-check/whoopi-goldb...</td>\n",
       "      <td>false</td>\n",
       "      <td>NaN</td>\n",
       "      <td>ok</td>\n",
       "      <td>59435428</td>\n",
       "      <td>{'cap': {'english': 0.30618807248975083, 'univ...</td>\n",
       "    </tr>\n",
       "    <tr>\n",
       "      <th>2983</th>\n",
       "      <td>851580394663182337</td>\n",
       "      <td>851567595409088518</td>\n",
       "      <td>@realDonaldTrump Were the crossed fingers behi...</td>\n",
       "      <td>https://twitter.com/POTUS/status/8515803946631...</td>\n",
       "      <td>Neil Gorsuch called for the \"advancement of th...</td>\n",
       "      <td>['https://www.snopes.com/tachyon/2018/03/ratin...</td>\n",
       "      <td>http://pbs.twimg.com/media/C9Ff_ZjXsAAp0EG.jpg</td>\n",
       "      <td>MakAusGr 8Again @user . Agaln Follow @user Ano...</td>\n",
       "      <td>https://www.snopes.com/fact-check/neil-gorsuch...</td>\n",
       "      <td>false</td>\n",
       "      <td>NaN</td>\n",
       "      <td>ok</td>\n",
       "      <td>3306164498</td>\n",
       "      <td>{'cap': {'english': 0.4756769663222349, 'unive...</td>\n",
       "    </tr>\n",
       "    <tr>\n",
       "      <th>2984</th>\n",
       "      <td>851574095145828352</td>\n",
       "      <td>851573350342242304</td>\n",
       "      <td>Now how do you teach a squirrel anything, oh I...</td>\n",
       "      <td>https://twitter.com/POTUS/status/8515740951458...</td>\n",
       "      <td>A woman was arrested for training squirrels to...</td>\n",
       "      <td>['https://www.snopes.com/tachyon/2018/03/ratin...</td>\n",
       "      <td>http://pbs.twimg.com/media/C9FlcdkVoAEzlwt.jpg</td>\n",
       "      <td>woMAN ARRESTED FOR TRAINING SQUIRRELS TO ATTAC...</td>\n",
       "      <td>https://www.snopes.com/fact-check/attack-squir...</td>\n",
       "      <td>false</td>\n",
       "      <td>NaN</td>\n",
       "      <td>missing</td>\n",
       "      <td>257715213</td>\n",
       "      <td>{'cap': {'english': 0.8054784364249085, 'unive...</td>\n",
       "    </tr>\n",
       "    <tr>\n",
       "      <th>2985</th>\n",
       "      <td>851729777727725568</td>\n",
       "      <td>851728536595345409</td>\n",
       "      <td>And the Australian Govt awards a $2b missile c...</td>\n",
       "      <td>https://twitter.com/POTUS/status/8517297777277...</td>\n",
       "      <td>President Trump owns stock in Raytheon and dir...</td>\n",
       "      <td>['https://www.snopes.com/tachyon/2018/03/ratin...</td>\n",
       "      <td>http://pbs.twimg.com/media/C9HykJAUMAA-LTi.jpg</td>\n",
       "      <td>Meanwhile , the stocks of the military contrac...</td>\n",
       "      <td>https://www.snopes.com/fact-check/trump-raythe...</td>\n",
       "      <td>unproven</td>\n",
       "      <td>NaN</td>\n",
       "      <td>ok</td>\n",
       "      <td>285431964</td>\n",
       "      <td>{'cap': {'english': 0.659646495284545, 'univer...</td>\n",
       "    </tr>\n",
       "    <tr>\n",
       "      <th>2986</th>\n",
       "      <td>885580034399850496</td>\n",
       "      <td>851753867989721088</td>\n",
       "      <td>When CNN Uses The Same Girl In 3 Different Ref...</td>\n",
       "      <td>https://twitter.com/POTUS/status/8855800343998...</td>\n",
       "      <td>CNN was caught using photographs of the same g...</td>\n",
       "      <td>['https://www.snopes.com/tachyon/2018/03/ratin...</td>\n",
       "      <td>http://pbs.twimg.com/media/C9IJlbHUIAA7Hzr.jpg</td>\n",
       "      <td>men CNN ugg game In 3 dffaent Refugee Crigig p...</td>\n",
       "      <td>https://www.snopes.com/fact-check/cnn-same-ref...</td>\n",
       "      <td>false</td>\n",
       "      <td>NaN</td>\n",
       "      <td>ok</td>\n",
       "      <td>785149463413268480</td>\n",
       "      <td>{'cap': {'english': 0.7611878625273879, 'unive...</td>\n",
       "    </tr>\n",
       "    <tr>\n",
       "      <th>2987</th>\n",
       "      <td>851818307522973696</td>\n",
       "      <td>851794590415724544</td>\n",
       "      <td>Annual budget of the National Endowment for th...</td>\n",
       "      <td>https://twitter.com/POTUS/status/8518183075229...</td>\n",
       "      <td>Providing security for First Lady Melania Trum...</td>\n",
       "      <td>['https://www.snopes.com/tachyon/2018/03/ratin...</td>\n",
       "      <td>http://pbs.twimg.com/media/C9IuqehU0AA6VNz.jpg</td>\n",
       "      <td>NaN</td>\n",
       "      <td>https://www.snopes.com/fact-check/melania-trum...</td>\n",
       "      <td>unproven</td>\n",
       "      <td>NaN</td>\n",
       "      <td>ok</td>\n",
       "      <td>784890784273215488</td>\n",
       "      <td>{'cap': {'english': 0.7546218700467833, 'unive...</td>\n",
       "    </tr>\n",
       "    <tr>\n",
       "      <th>2988</th>\n",
       "      <td>852058180729413633</td>\n",
       "      <td>851914780914987010</td>\n",
       "      <td>#WhiteHelmets working w/victims of sarin gas  ...</td>\n",
       "      <td>https://twitter.com/POTUS/status/8520581807294...</td>\n",
       "      <td>The search-and-rescue organization in Syria, t...</td>\n",
       "      <td>['https://www.snopes.com/tachyon/2018/03/ratin...</td>\n",
       "      <td>http://pbs.twimg.com/media/C9KbKMiW0AMAadM.jpg</td>\n",
       "      <td>NaN</td>\n",
       "      <td>https://www.snopes.com/fact-check/syrian-rescu...</td>\n",
       "      <td>false</td>\n",
       "      <td>NaN</td>\n",
       "      <td>ok</td>\n",
       "      <td>282695161</td>\n",
       "      <td>{'cap': {'english': 0.793087009461318, 'univer...</td>\n",
       "    </tr>\n",
       "    <tr>\n",
       "      <th>2989</th>\n",
       "      <td>852315244336562176</td>\n",
       "      <td>851971479642263552</td>\n",
       "      <td>@anne_goldgar @simon_schama I honestly don't k...</td>\n",
       "      <td>https://twitter.com/POTUS/status/8523152443365...</td>\n",
       "      <td>In a botched attempt to clarify his previous s...</td>\n",
       "      <td>['https://www.snopes.com/tachyon/2018/03/ratin...</td>\n",
       "      <td>http://pbs.twimg.com/media/C9LO3XnUQAAEqsS.jpg</td>\n",
       "      <td>Press Secretary Sean Spicer 3 hrs The media ha...</td>\n",
       "      <td>https://www.snopes.com/fact-check/spicer-weapo...</td>\n",
       "      <td>false</td>\n",
       "      <td>NaN</td>\n",
       "      <td>missing</td>\n",
       "      <td>16622739</td>\n",
       "      <td>{'cap': {'english': 0.5027122940873614, 'unive...</td>\n",
       "    </tr>\n",
       "    <tr>\n",
       "      <th>2990</th>\n",
       "      <td>852585427034820609</td>\n",
       "      <td>851977156271976448</td>\n",
       "      <td>You know who else thought that Jews were not G...</td>\n",
       "      <td>https://twitter.com/POTUS/status/8525854270348...</td>\n",
       "      <td>In a botched attempt to clarify his previous s...</td>\n",
       "      <td>['https://www.snopes.com/tachyon/2018/03/ratin...</td>\n",
       "      <td>http://pbs.twimg.com/media/C9LUtI4XYAEUovx.jpg</td>\n",
       "      <td>Press Secretary Sean Spicer 6 hrs . e The medi...</td>\n",
       "      <td>https://www.snopes.com/fact-check/spicer-weapo...</td>\n",
       "      <td>false</td>\n",
       "      <td>NaN</td>\n",
       "      <td>ok</td>\n",
       "      <td>22879254</td>\n",
       "      <td>{'cap': {'english': 0.30618807248975083, 'univ...</td>\n",
       "    </tr>\n",
       "    <tr>\n",
       "      <th>2991</th>\n",
       "      <td>852115530165125120</td>\n",
       "      <td>852038216882372608</td>\n",
       "      <td>#OffendEveryoneIn4Words  ...I'd be dating her....</td>\n",
       "      <td>https://twitter.com/POTUS/status/8521155301651...</td>\n",
       "      <td>A photograph shows Ivanka Trump grinding on th...</td>\n",
       "      <td>['https://www.snopes.com/tachyon/2018/03/ratin...</td>\n",
       "      <td>http://pbs.twimg.com/media/C9MMPAKVwAMVmYg.jpg</td>\n",
       "      <td>NaN</td>\n",
       "      <td>https://www.snopes.com/fact-check/ivanka-trump...</td>\n",
       "      <td>mixture</td>\n",
       "      <td>NaN</td>\n",
       "      <td>ok</td>\n",
       "      <td>1640929196</td>\n",
       "      <td>{'code': 34, 'message': 'Sorry, that page does...</td>\n",
       "    </tr>\n",
       "    <tr>\n",
       "      <th>2992</th>\n",
       "      <td>852106092477767680</td>\n",
       "      <td>852062484827693056</td>\n",
       "      <td>Another WH fakery, same girl in three differen...</td>\n",
       "      <td>https://twitter.com/POTUS/status/8521060924777...</td>\n",
       "      <td>CNN was caught using photographs of the same g...</td>\n",
       "      <td>['https://www.snopes.com/tachyon/2018/03/ratin...</td>\n",
       "      <td>http://pbs.twimg.com/media/C9MiToZXYAAfcjk.jpg</td>\n",
       "      <td>NaN</td>\n",
       "      <td>https://www.snopes.com/fact-check/cnn-same-ref...</td>\n",
       "      <td>false</td>\n",
       "      <td>NaN</td>\n",
       "      <td>ok</td>\n",
       "      <td>1289954977</td>\n",
       "      <td>{'code': 34, 'message': 'Sorry, that page does...</td>\n",
       "    </tr>\n",
       "    <tr>\n",
       "      <th>2993</th>\n",
       "      <td>852295102684962817</td>\n",
       "      <td>852159615563378690</td>\n",
       "      <td>@joerogan Did you see this? Southwest airlines...</td>\n",
       "      <td>https://twitter.com/POTUS/status/8522951026849...</td>\n",
       "      <td>Southwest Airlines changed their slogan to cap...</td>\n",
       "      <td>['https://www.snopes.com/tachyon/2018/03/ratin...</td>\n",
       "      <td>http://pbs.twimg.com/media/C9N6poRW0AEkMXD.jpg</td>\n",
       "      <td>Southweste We beat the competition . Not you .</td>\n",
       "      <td>https://www.snopes.com/fact-check/southwest-ai...</td>\n",
       "      <td>false</td>\n",
       "      <td>NaN</td>\n",
       "      <td>missing</td>\n",
       "      <td>221797984</td>\n",
       "      <td>NaN</td>\n",
       "    </tr>\n",
       "    <tr>\n",
       "      <th>2994</th>\n",
       "      <td>852230036258205696</td>\n",
       "      <td>852218990789263360</td>\n",
       "      <td>@yzbeauty4him @TrumpLovePutin @Charlen92128804...</td>\n",
       "      <td>https://twitter.com/POTUS/status/8522300362582...</td>\n",
       "      <td>TV evangelist Pat Robertson described nude pho...</td>\n",
       "      <td>['https://www.snopes.com/tachyon/2018/03/ratin...</td>\n",
       "      <td>http://pbs.twimg.com/media/C9Owph9WsAQ2kdm.jpg</td>\n",
       "      <td>Pot Roberson comments on Michelle Otxvna's \" M...</td>\n",
       "      <td>https://www.snopes.com/fact-check/pat-robertso...</td>\n",
       "      <td>false</td>\n",
       "      <td>NaN</td>\n",
       "      <td>ok</td>\n",
       "      <td>787314168219176960</td>\n",
       "      <td>NaN</td>\n",
       "    </tr>\n",
       "    <tr>\n",
       "      <th>2995</th>\n",
       "      <td>852242215640457216</td>\n",
       "      <td>852238591484940289</td>\n",
       "      <td>Ronald Reagan when he first met Trump. https:/...</td>\n",
       "      <td>https://twitter.com/POTUS/status/8522422156404...</td>\n",
       "      <td>Ronald Reagan said he felt like he was shaking...</td>\n",
       "      <td>['https://www.snopes.com/tachyon/2018/03/ratin...</td>\n",
       "      <td>http://pbs.twimg.com/media/C9PCXNMXkAIHONx.jpg</td>\n",
       "      <td>Prophetic Reagan For the life of me , ' and I'...</td>\n",
       "      <td>https://www.snopes.com/fact-check/reagan-trump...</td>\n",
       "      <td>false</td>\n",
       "      <td>NaN</td>\n",
       "      <td>ok</td>\n",
       "      <td>2719597309</td>\n",
       "      <td>NaN</td>\n",
       "    </tr>\n",
       "    <tr>\n",
       "      <th>2996</th>\n",
       "      <td>852240452745142273</td>\n",
       "      <td>852238948046966785</td>\n",
       "      <td>Ben Carson trending 4 getting stuck in an elev...</td>\n",
       "      <td>https://twitter.com/POTUS/status/8522404527451...</td>\n",
       "      <td>HUD director Ben Carson found more than $500 b...</td>\n",
       "      <td>['https://www.snopes.com/tachyon/2018/03/ratin...</td>\n",
       "      <td>http://pbs.twimg.com/media/C9PCzbQWAAExtk5.jpg</td>\n",
       "      <td>ooo AT &amp; T 3:12 PM thetruthdivision.com MENU =...</td>\n",
       "      <td>https://www.snopes.com/fact-check/carson-hud-a...</td>\n",
       "      <td>mostly-false</td>\n",
       "      <td>NaN</td>\n",
       "      <td>ok</td>\n",
       "      <td>4427224377</td>\n",
       "      <td>NaN</td>\n",
       "    </tr>\n",
       "    <tr>\n",
       "      <th>2997</th>\n",
       "      <td>852346862552076289</td>\n",
       "      <td>852245457321504768</td>\n",
       "      <td>Donald at his finest doing to himself what he'...</td>\n",
       "      <td>https://twitter.com/POTUS/status/8523468625520...</td>\n",
       "      <td>A photograph shows Donald Trump with a diarrhe...</td>\n",
       "      <td>['https://www.snopes.com/tachyon/2018/03/ratin...</td>\n",
       "      <td>http://pbs.twimg.com/media/C9PIuQDUQAAtFJ1.jpg</td>\n",
       "      <td>NaN</td>\n",
       "      <td>https://www.snopes.com/fact-check/trump-diarrh...</td>\n",
       "      <td>false</td>\n",
       "      <td>NaN</td>\n",
       "      <td>ok</td>\n",
       "      <td>325414439</td>\n",
       "      <td>NaN</td>\n",
       "    </tr>\n",
       "    <tr>\n",
       "      <th>2998</th>\n",
       "      <td>852348237390282755</td>\n",
       "      <td>852258086454673408</td>\n",
       "      <td>That shitty fatty doing to himself what he's d...</td>\n",
       "      <td>https://twitter.com/POTUS/status/8523482373902...</td>\n",
       "      <td>A photograph shows Donald Trump with a diarrhe...</td>\n",
       "      <td>['https://www.snopes.com/tachyon/2018/03/ratin...</td>\n",
       "      <td>http://pbs.twimg.com/media/C9PUNaOUwAAf_rq.jpg</td>\n",
       "      <td>NaN</td>\n",
       "      <td>https://www.snopes.com/fact-check/trump-diarrh...</td>\n",
       "      <td>false</td>\n",
       "      <td>NaN</td>\n",
       "      <td>ok</td>\n",
       "      <td>836800363</td>\n",
       "      <td>NaN</td>\n",
       "    </tr>\n",
       "    <tr>\n",
       "      <th>2999</th>\n",
       "      <td>852362322853146624</td>\n",
       "      <td>852292939661402113</td>\n",
       "      <td>Try it,,, even if they protest and picket. htt...</td>\n",
       "      <td>https://twitter.com/POTUS/status/8523623228531...</td>\n",
       "      <td>Actor Bill Murray said in order to teach child...</td>\n",
       "      <td>['https://www.snopes.com/tachyon/2018/03/ratin...</td>\n",
       "      <td>http://pbs.twimg.com/media/C9Pz6UJWAAQhp4L.jpg</td>\n",
       "      <td>NaN</td>\n",
       "      <td>https://www.snopes.com/fact-check/bill-murray-...</td>\n",
       "      <td>false</td>\n",
       "      <td>NaN</td>\n",
       "      <td>ok</td>\n",
       "      <td>313460745</td>\n",
       "      <td>NaN</td>\n",
       "    </tr>\n",
       "  </tbody>\n",
       "</table>\n",
       "</div>"
      ],
      "text/plain": [
       "                      id         original_id  \\\n",
       "2980  851380310403108864  851369498351460352   \n",
       "2981  851512935176425472  851501829351501824   \n",
       "2982  851560765433806849  851555419457585153   \n",
       "2983  851580394663182337  851567595409088518   \n",
       "2984  851574095145828352  851573350342242304   \n",
       "2985  851729777727725568  851728536595345409   \n",
       "2986  885580034399850496  851753867989721088   \n",
       "2987  851818307522973696  851794590415724544   \n",
       "2988  852058180729413633  851914780914987010   \n",
       "2989  852315244336562176  851971479642263552   \n",
       "2990  852585427034820609  851977156271976448   \n",
       "2991  852115530165125120  852038216882372608   \n",
       "2992  852106092477767680  852062484827693056   \n",
       "2993  852295102684962817  852159615563378690   \n",
       "2994  852230036258205696  852218990789263360   \n",
       "2995  852242215640457216  852238591484940289   \n",
       "2996  852240452745142273  852238948046966785   \n",
       "2997  852346862552076289  852245457321504768   \n",
       "2998  852348237390282755  852258086454673408   \n",
       "2999  852362322853146624  852292939661402113   \n",
       "\n",
       "                                             tweet_text  \\\n",
       "2980  IF TOMAHAWK MISSLES ARE AROUND A $1M EACH, WHY...   \n",
       "2981     United #UnitedAirlines https://t.co/GzXudvd9BD   \n",
       "2982  Honestly- I'm not a hateful person, but I hope...   \n",
       "2983  @realDonaldTrump Were the crossed fingers behi...   \n",
       "2984  Now how do you teach a squirrel anything, oh I...   \n",
       "2985  And the Australian Govt awards a $2b missile c...   \n",
       "2986  When CNN Uses The Same Girl In 3 Different Ref...   \n",
       "2987  Annual budget of the National Endowment for th...   \n",
       "2988  #WhiteHelmets working w/victims of sarin gas  ...   \n",
       "2989  @anne_goldgar @simon_schama I honestly don't k...   \n",
       "2990  You know who else thought that Jews were not G...   \n",
       "2991  #OffendEveryoneIn4Words  ...I'd be dating her....   \n",
       "2992  Another WH fakery, same girl in three differen...   \n",
       "2993  @joerogan Did you see this? Southwest airlines...   \n",
       "2994  @yzbeauty4him @TrumpLovePutin @Charlen92128804...   \n",
       "2995  Ronald Reagan when he first met Trump. https:/...   \n",
       "2996  Ben Carson trending 4 getting stuck in an elev...   \n",
       "2997  Donald at his finest doing to himself what he'...   \n",
       "2998  That shitty fatty doing to himself what he's d...   \n",
       "2999  Try it,,, even if they protest and picket. htt...   \n",
       "\n",
       "                                              tweet_url  \\\n",
       "2980  https://twitter.com/POTUS/status/8513803104031...   \n",
       "2981  https://twitter.com/POTUS/status/8515129351764...   \n",
       "2982  https://twitter.com/POTUS/status/8515607654338...   \n",
       "2983  https://twitter.com/POTUS/status/8515803946631...   \n",
       "2984  https://twitter.com/POTUS/status/8515740951458...   \n",
       "2985  https://twitter.com/POTUS/status/8517297777277...   \n",
       "2986  https://twitter.com/POTUS/status/8855800343998...   \n",
       "2987  https://twitter.com/POTUS/status/8518183075229...   \n",
       "2988  https://twitter.com/POTUS/status/8520581807294...   \n",
       "2989  https://twitter.com/POTUS/status/8523152443365...   \n",
       "2990  https://twitter.com/POTUS/status/8525854270348...   \n",
       "2991  https://twitter.com/POTUS/status/8521155301651...   \n",
       "2992  https://twitter.com/POTUS/status/8521060924777...   \n",
       "2993  https://twitter.com/POTUS/status/8522951026849...   \n",
       "2994  https://twitter.com/POTUS/status/8522300362582...   \n",
       "2995  https://twitter.com/POTUS/status/8522422156404...   \n",
       "2996  https://twitter.com/POTUS/status/8522404527451...   \n",
       "2997  https://twitter.com/POTUS/status/8523468625520...   \n",
       "2998  https://twitter.com/POTUS/status/8523482373902...   \n",
       "2999  https://twitter.com/POTUS/status/8523623228531...   \n",
       "\n",
       "                                                  claim  \\\n",
       "2980  CNN was caught using photographs of the same g...   \n",
       "2981  United Airlines will begin charging for overhe...   \n",
       "2982  Whoopi Goldberg said that \"military widows lov...   \n",
       "2983  Neil Gorsuch called for the \"advancement of th...   \n",
       "2984  A woman was arrested for training squirrels to...   \n",
       "2985  President Trump owns stock in Raytheon and dir...   \n",
       "2986  CNN was caught using photographs of the same g...   \n",
       "2987  Providing security for First Lady Melania Trum...   \n",
       "2988  The search-and-rescue organization in Syria, t...   \n",
       "2989  In a botched attempt to clarify his previous s...   \n",
       "2990  In a botched attempt to clarify his previous s...   \n",
       "2991  A photograph shows Ivanka Trump grinding on th...   \n",
       "2992  CNN was caught using photographs of the same g...   \n",
       "2993  Southwest Airlines changed their slogan to cap...   \n",
       "2994  TV evangelist Pat Robertson described nude pho...   \n",
       "2995  Ronald Reagan said he felt like he was shaking...   \n",
       "2996  HUD director Ben Carson found more than $500 b...   \n",
       "2997  A photograph shows Donald Trump with a diarrhe...   \n",
       "2998  A photograph shows Donald Trump with a diarrhe...   \n",
       "2999  Actor Bill Murray said in order to teach child...   \n",
       "\n",
       "                                                 rating  \\\n",
       "2980  ['https://www.snopes.com/tachyon/2018/03/ratin...   \n",
       "2981  ['https://www.snopes.com/tachyon/2018/03/ratin...   \n",
       "2982  ['https://www.snopes.com/tachyon/2018/03/ratin...   \n",
       "2983  ['https://www.snopes.com/tachyon/2018/03/ratin...   \n",
       "2984  ['https://www.snopes.com/tachyon/2018/03/ratin...   \n",
       "2985  ['https://www.snopes.com/tachyon/2018/03/ratin...   \n",
       "2986  ['https://www.snopes.com/tachyon/2018/03/ratin...   \n",
       "2987  ['https://www.snopes.com/tachyon/2018/03/ratin...   \n",
       "2988  ['https://www.snopes.com/tachyon/2018/03/ratin...   \n",
       "2989  ['https://www.snopes.com/tachyon/2018/03/ratin...   \n",
       "2990  ['https://www.snopes.com/tachyon/2018/03/ratin...   \n",
       "2991  ['https://www.snopes.com/tachyon/2018/03/ratin...   \n",
       "2992  ['https://www.snopes.com/tachyon/2018/03/ratin...   \n",
       "2993  ['https://www.snopes.com/tachyon/2018/03/ratin...   \n",
       "2994  ['https://www.snopes.com/tachyon/2018/03/ratin...   \n",
       "2995  ['https://www.snopes.com/tachyon/2018/03/ratin...   \n",
       "2996  ['https://www.snopes.com/tachyon/2018/03/ratin...   \n",
       "2997  ['https://www.snopes.com/tachyon/2018/03/ratin...   \n",
       "2998  ['https://www.snopes.com/tachyon/2018/03/ratin...   \n",
       "2999  ['https://www.snopes.com/tachyon/2018/03/ratin...   \n",
       "\n",
       "                                              images  \\\n",
       "2980  http://pbs.twimg.com/media/C9CsB6uXoAEaorL.jpg   \n",
       "2981  http://pbs.twimg.com/media/C9EkZW-WsAAXsa-.jpg   \n",
       "2982  http://pbs.twimg.com/media/C9FVIyjVYAA6ZV6.jpg   \n",
       "2983  http://pbs.twimg.com/media/C9Ff_ZjXsAAp0EG.jpg   \n",
       "2984  http://pbs.twimg.com/media/C9FlcdkVoAEzlwt.jpg   \n",
       "2985  http://pbs.twimg.com/media/C9HykJAUMAA-LTi.jpg   \n",
       "2986  http://pbs.twimg.com/media/C9IJlbHUIAA7Hzr.jpg   \n",
       "2987  http://pbs.twimg.com/media/C9IuqehU0AA6VNz.jpg   \n",
       "2988  http://pbs.twimg.com/media/C9KbKMiW0AMAadM.jpg   \n",
       "2989  http://pbs.twimg.com/media/C9LO3XnUQAAEqsS.jpg   \n",
       "2990  http://pbs.twimg.com/media/C9LUtI4XYAEUovx.jpg   \n",
       "2991  http://pbs.twimg.com/media/C9MMPAKVwAMVmYg.jpg   \n",
       "2992  http://pbs.twimg.com/media/C9MiToZXYAAfcjk.jpg   \n",
       "2993  http://pbs.twimg.com/media/C9N6poRW0AEkMXD.jpg   \n",
       "2994  http://pbs.twimg.com/media/C9Owph9WsAQ2kdm.jpg   \n",
       "2995  http://pbs.twimg.com/media/C9PCXNMXkAIHONx.jpg   \n",
       "2996  http://pbs.twimg.com/media/C9PCzbQWAAExtk5.jpg   \n",
       "2997  http://pbs.twimg.com/media/C9PIuQDUQAAtFJ1.jpg   \n",
       "2998  http://pbs.twimg.com/media/C9PUNaOUwAAf_rq.jpg   \n",
       "2999  http://pbs.twimg.com/media/C9Pz6UJWAAQhp4L.jpg   \n",
       "\n",
       "                                            text_images  \\\n",
       "2980                                                NaN   \n",
       "2981  United Airlines just announced they will now b...   \n",
       "2982  .. JTHWITH JONES \" She was just looking for at...   \n",
       "2983  MakAusGr 8Again @user . Agaln Follow @user Ano...   \n",
       "2984  woMAN ARRESTED FOR TRAINING SQUIRRELS TO ATTAC...   \n",
       "2985  Meanwhile , the stocks of the military contrac...   \n",
       "2986  men CNN ugg game In 3 dffaent Refugee Crigig p...   \n",
       "2987                                                NaN   \n",
       "2988                                                NaN   \n",
       "2989  Press Secretary Sean Spicer 3 hrs The media ha...   \n",
       "2990  Press Secretary Sean Spicer 6 hrs . e The medi...   \n",
       "2991                                                NaN   \n",
       "2992                                                NaN   \n",
       "2993     Southweste We beat the competition . Not you .   \n",
       "2994  Pot Roberson comments on Michelle Otxvna's \" M...   \n",
       "2995  Prophetic Reagan For the life of me , ' and I'...   \n",
       "2996  ooo AT & T 3:12 PM thetruthdivision.com MENU =...   \n",
       "2997                                                NaN   \n",
       "2998                                                NaN   \n",
       "2999                                                NaN   \n",
       "\n",
       "                                                 source         label  \\\n",
       "2980  https://www.snopes.com/fact-check/cnn-same-ref...         false   \n",
       "2981  https://www.snopes.com/fact-check/united-airli...  mostly-false   \n",
       "2982  https://www.snopes.com/fact-check/whoopi-goldb...         false   \n",
       "2983  https://www.snopes.com/fact-check/neil-gorsuch...         false   \n",
       "2984  https://www.snopes.com/fact-check/attack-squir...         false   \n",
       "2985  https://www.snopes.com/fact-check/trump-raythe...      unproven   \n",
       "2986  https://www.snopes.com/fact-check/cnn-same-ref...         false   \n",
       "2987  https://www.snopes.com/fact-check/melania-trum...      unproven   \n",
       "2988  https://www.snopes.com/fact-check/syrian-rescu...         false   \n",
       "2989  https://www.snopes.com/fact-check/spicer-weapo...         false   \n",
       "2990  https://www.snopes.com/fact-check/spicer-weapo...         false   \n",
       "2991  https://www.snopes.com/fact-check/ivanka-trump...       mixture   \n",
       "2992  https://www.snopes.com/fact-check/cnn-same-ref...         false   \n",
       "2993  https://www.snopes.com/fact-check/southwest-ai...         false   \n",
       "2994  https://www.snopes.com/fact-check/pat-robertso...         false   \n",
       "2995  https://www.snopes.com/fact-check/reagan-trump...         false   \n",
       "2996  https://www.snopes.com/fact-check/carson-hud-a...  mostly-false   \n",
       "2997  https://www.snopes.com/fact-check/trump-diarrh...         false   \n",
       "2998  https://www.snopes.com/fact-check/trump-diarrh...         false   \n",
       "2999  https://www.snopes.com/fact-check/bill-murray-...         false   \n",
       "\n",
       "      label_info available              acc_id  \\\n",
       "2980         NaN        ok           113423108   \n",
       "2981         NaN        ok  794706601676591104   \n",
       "2982         NaN        ok            59435428   \n",
       "2983         NaN        ok          3306164498   \n",
       "2984         NaN   missing           257715213   \n",
       "2985         NaN        ok           285431964   \n",
       "2986         NaN        ok  785149463413268480   \n",
       "2987         NaN        ok  784890784273215488   \n",
       "2988         NaN        ok           282695161   \n",
       "2989         NaN   missing            16622739   \n",
       "2990         NaN        ok            22879254   \n",
       "2991         NaN        ok          1640929196   \n",
       "2992         NaN        ok          1289954977   \n",
       "2993         NaN   missing           221797984   \n",
       "2994         NaN        ok  787314168219176960   \n",
       "2995         NaN        ok          2719597309   \n",
       "2996         NaN        ok          4427224377   \n",
       "2997         NaN        ok           325414439   \n",
       "2998         NaN        ok           836800363   \n",
       "2999         NaN        ok           313460745   \n",
       "\n",
       "                                              botometer  \n",
       "2980  {'cap': {'english': 0.8076035454448582, 'unive...  \n",
       "2981  {'code': 34, 'message': 'Sorry, that page does...  \n",
       "2982  {'cap': {'english': 0.30618807248975083, 'univ...  \n",
       "2983  {'cap': {'english': 0.4756769663222349, 'unive...  \n",
       "2984  {'cap': {'english': 0.8054784364249085, 'unive...  \n",
       "2985  {'cap': {'english': 0.659646495284545, 'univer...  \n",
       "2986  {'cap': {'english': 0.7611878625273879, 'unive...  \n",
       "2987  {'cap': {'english': 0.7546218700467833, 'unive...  \n",
       "2988  {'cap': {'english': 0.793087009461318, 'univer...  \n",
       "2989  {'cap': {'english': 0.5027122940873614, 'unive...  \n",
       "2990  {'cap': {'english': 0.30618807248975083, 'univ...  \n",
       "2991  {'code': 34, 'message': 'Sorry, that page does...  \n",
       "2992  {'code': 34, 'message': 'Sorry, that page does...  \n",
       "2993                                                NaN  \n",
       "2994                                                NaN  \n",
       "2995                                                NaN  \n",
       "2996                                                NaN  \n",
       "2997                                                NaN  \n",
       "2998                                                NaN  \n",
       "2999                                                NaN  "
      ]
     },
     "execution_count": 23,
     "metadata": {},
     "output_type": "execute_result"
    }
   ],
   "source": [
    "df.iloc[2980:3000]"
   ]
  },
  {
   "cell_type": "code",
   "execution_count": 122,
   "metadata": {},
   "outputs": [
    {
     "data": {
      "text/plain": [
       "9300262"
      ]
     },
     "execution_count": 122,
     "metadata": {},
     "output_type": "execute_result"
    }
   ],
   "source": [
    "accounts[407]"
   ]
  },
  {
   "cell_type": "code",
   "execution_count": 120,
   "metadata": {},
   "outputs": [
    {
     "data": {
      "text/plain": [
       "584177882"
      ]
     },
     "execution_count": 120,
     "metadata": {},
     "output_type": "execute_result"
    }
   ],
   "source": [
    "snopes_acc.loc[406].acc_id"
   ]
  },
  {
   "cell_type": "code",
   "execution_count": 125,
   "metadata": {},
   "outputs": [
    {
     "data": {
      "text/plain": [
       "[9300262,\n",
       " 721185346797572096,\n",
       " 67899097,\n",
       " 2499109494,\n",
       " 2796929687,\n",
       " 292929271,\n",
       " 2269567158,\n",
       " 2393098723,\n",
       " 709920419529281536,\n",
       " 4784596178,\n",
       " 4236806414,\n",
       " 494624290,\n",
       " 561654065,\n",
       " 1599141961,\n",
       " 17860906,\n",
       " 2839030037,\n",
       " 4226960114,\n",
       " 743688372460216320,\n",
       " 118496889,\n",
       " 2915156131,\n",
       " 166329578,\n",
       " 4676548814,\n",
       " 4197546072,\n",
       " 88494677,\n",
       " 608471241,\n",
       " 608471241,\n",
       " 325164172,\n",
       " 26672170,\n",
       " 177584156,\n",
       " 2801177472,\n",
       " 95995039,\n",
       " 126009130,\n",
       " 126009130,\n",
       " 399774230,\n",
       " 972255098,\n",
       " 1917731,\n",
       " 65854394,\n",
       " 741589503102570496,\n",
       " 1917731,\n",
       " 2244290719,\n",
       " 701655880920510464,\n",
       " 2793194082,\n",
       " 18301196,\n",
       " 1496756359,\n",
       " 430118889,\n",
       " 15164565,\n",
       " 3697285157,\n",
       " 2923563766,\n",
       " 2923563766,\n",
       " 1375629385,\n",
       " 1325018372,\n",
       " 25975551,\n",
       " 22722452,\n",
       " 374284455,\n",
       " 49035775,\n",
       " 48421473,\n",
       " 428713002,\n",
       " 3407847574,\n",
       " 18545481,\n",
       " 15164565,\n",
       " 47652227,\n",
       " 78523300,\n",
       " 361275163,\n",
       " 495622651,\n",
       " 19098324,\n",
       " 421275603,\n",
       " 177584156,\n",
       " 361275163,\n",
       " 28905454,\n",
       " 15164565,\n",
       " 4429709805,\n",
       " 1496756359,\n",
       " 766797410,\n",
       " 15164565,\n",
       " 548172120,\n",
       " 2241227238,\n",
       " 15164565,\n",
       " 30456403,\n",
       " 248692627,\n",
       " 28048355,\n",
       " 18545481,\n",
       " 1917731,\n",
       " 138742761,\n",
       " 289118612,\n",
       " 15706904,\n",
       " 865636782,\n",
       " 2291904432,\n",
       " 3103091745,\n",
       " 3047937393,\n",
       " 167796615,\n",
       " 14511951,\n",
       " 49452556,\n",
       " 3974665634,\n",
       " 1018491630,\n",
       " 537904539,\n",
       " 2374469136,\n",
       " 3433022621,\n",
       " 585465795,\n",
       " 2883533651,\n",
       " 16955991,\n",
       " 547969112,\n",
       " 272114651,\n",
       " 936148682,\n",
       " 728635523816775680,\n",
       " 547969112,\n",
       " 67899097,\n",
       " 547969112,\n",
       " 3047377314,\n",
       " 759179340307243008,\n",
       " 1367531,\n",
       " 361275163,\n",
       " 399717630,\n",
       " 9369062,\n",
       " 762252876,\n",
       " 582135529,\n",
       " 851866178,\n",
       " 608471241,\n",
       " 331825712,\n",
       " 733808069440741376,\n",
       " 3995778614,\n",
       " 3390416469,\n",
       " 1367531,\n",
       " 754135908,\n",
       " 890302164,\n",
       " 81602176,\n",
       " 728979362775638016,\n",
       " 553998793,\n",
       " 157054921,\n",
       " 2255424079,\n",
       " 547969112,\n",
       " 2875990472,\n",
       " 2316246829,\n",
       " 758313715695427584,\n",
       " 758313715695427584,\n",
       " 25446957,\n",
       " 86963075,\n",
       " 715357604961263616,\n",
       " 140638292,\n",
       " 2801177472,\n",
       " 2801177472,\n",
       " 1976799128,\n",
       " 421460415,\n",
       " 2775579278,\n",
       " 3974665634,\n",
       " 1482516500,\n",
       " 750399805851963392,\n",
       " 43413425,\n",
       " 43308598,\n",
       " 3066008697,\n",
       " 18195110,\n",
       " 40246348,\n",
       " 2793800587,\n",
       " 802722056,\n",
       " 43308598,\n",
       " 402985469,\n",
       " 4897543230,\n",
       " 865538113,\n",
       " 2972410695,\n",
       " 2998466930,\n",
       " 4182512297,\n",
       " 30067748,\n",
       " 71359942,\n",
       " 277090518,\n",
       " 65003619,\n",
       " 753806066052235264,\n",
       " 705333567543504896,\n",
       " 2998441830,\n",
       " 3308110350,\n",
       " 4796678896,\n",
       " 2441304533,\n",
       " 561654065,\n",
       " 3034834939,\n",
       " 261035490,\n",
       " 4851276082,\n",
       " 370513594,\n",
       " 15854008,\n",
       " 2226870793,\n",
       " 971176056,\n",
       " 4240150034,\n",
       " 561654065,\n",
       " 332433520,\n",
       " 2416597188,\n",
       " 2416597188,\n",
       " 17094311,\n",
       " 543452426,\n",
       " 4846395737,\n",
       " 3220025137,\n",
       " 753753493622628352,\n",
       " 18002528,\n",
       " 16444868,\n",
       " 3433002136,\n",
       " 743651896578060288,\n",
       " 21833728,\n",
       " 50010587,\n",
       " 835328618,\n",
       " 297457814,\n",
       " 620872388,\n",
       " 3139537490,\n",
       " 60370335,\n",
       " 1225818590,\n",
       " 234841289,\n",
       " 2891102076,\n",
       " 702174406739685376,\n",
       " 57912099,\n",
       " 732445833682018304,\n",
       " 732445833682018304,\n",
       " 2904671027,\n",
       " 322674930,\n",
       " 65003619,\n",
       " 4543053312,\n",
       " 42158021,\n",
       " 279208035,\n",
       " 180511021,\n",
       " 311241090,\n",
       " 15359578,\n",
       " 20826129,\n",
       " 4700477725,\n",
       " 371142734,\n",
       " 24638062,\n",
       " 45291573,\n",
       " 552410408,\n",
       " 20295763,\n",
       " 1564676498,\n",
       " 17343602,\n",
       " 552983877,\n",
       " 18561223,\n",
       " 14787713,\n",
       " 1568498256,\n",
       " 752493806,\n",
       " 516093774,\n",
       " 28905454,\n",
       " 2747259456,\n",
       " 224268822,\n",
       " 17232340,\n",
       " 3359243787,\n",
       " 75974281,\n",
       " 233933230,\n",
       " 233933230,\n",
       " 479068816,\n",
       " 2892976359,\n",
       " 19908848,\n",
       " 4237277387,\n",
       " 3359243787,\n",
       " 284104234,\n",
       " 3592503441,\n",
       " 905530344,\n",
       " 19899980,\n",
       " 600061917,\n",
       " 221452291,\n",
       " 4765012532,\n",
       " 15671833,\n",
       " 1530853626,\n",
       " 24395228,\n",
       " 343171160,\n",
       " 2908170952,\n",
       " 251913645,\n",
       " 709920419529281536,\n",
       " 431198790,\n",
       " 90285099,\n",
       " 2299826742,\n",
       " 142077688,\n",
       " 1213274119,\n",
       " 608471241,\n",
       " 561654065,\n",
       " 15368940,\n",
       " 2740452163,\n",
       " 25446957,\n",
       " 70773048,\n",
       " 706176697440276480,\n",
       " 759251,\n",
       " 50881405,\n",
       " 1356123823,\n",
       " 716260246109483008,\n",
       " 3202808548,\n",
       " 150059501,\n",
       " 565008398,\n",
       " 56192739,\n",
       " 751095331408973824,\n",
       " 2900220088,\n",
       " 1652687708,\n",
       " 704034081898668032,\n",
       " 37315032,\n",
       " 632171886,\n",
       " 124199238,\n",
       " 3589464580,\n",
       " 542962969,\n",
       " 2421067430,\n",
       " 704363061013057536,\n",
       " 2910776820,\n",
       " 1096411117,\n",
       " 3124454195,\n",
       " 4760647532,\n",
       " 38367188,\n",
       " 605448008,\n",
       " 83788240,\n",
       " 374284455,\n",
       " 22798141,\n",
       " 2818206308,\n",
       " 2382281029,\n",
       " 415256606,\n",
       " 1966026648,\n",
       " 893470729,\n",
       " 2953422203,\n",
       " 167363471,\n",
       " 291874773,\n",
       " 44103717,\n",
       " 28670599,\n",
       " 739567626511388672,\n",
       " 200656602,\n",
       " 31801993,\n",
       " 703230673776197632,\n",
       " 146928495,\n",
       " 729096352676782080,\n",
       " 1643634444,\n",
       " 246377722,\n",
       " 3407847574,\n",
       " 21845346,\n",
       " 385075625,\n",
       " 29465136,\n",
       " 13148382,\n",
       " 4851276082,\n",
       " 3416492723,\n",
       " 3359243787,\n",
       " 9611592,\n",
       " 739080916610342912,\n",
       " 34367582,\n",
       " 28007091,\n",
       " 3124454195,\n",
       " 26579739,\n",
       " 76373,\n",
       " 758049168690642944,\n",
       " 963176808,\n",
       " 19193016,\n",
       " 3381686297,\n",
       " 93493910,\n",
       " 3313143320,\n",
       " 2610081858,\n",
       " 4646073148,\n",
       " 344729527,\n",
       " 32951070,\n",
       " 37013920,\n",
       " 23116280,\n",
       " 25197377,\n",
       " 33228837,\n",
       " 4242905298,\n",
       " 18637247,\n",
       " 714949505720823808,\n",
       " 872954089,\n",
       " 437352926,\n",
       " 23004495,\n",
       " 4361249533,\n",
       " 156377910,\n",
       " 4452560741,\n",
       " 273951517,\n",
       " 264493607,\n",
       " 760130823374843904,\n",
       " 118845216,\n",
       " 232333397,\n",
       " 414873541,\n",
       " 3723723982,\n",
       " 824391878,\n",
       " 450213974,\n",
       " 890302164,\n",
       " 29059784,\n",
       " 709144993,\n",
       " 15104164,\n",
       " 289118612,\n",
       " 3314963469,\n",
       " 21833728,\n",
       " 796261392,\n",
       " 227010728,\n",
       " 196109220,\n",
       " 582414351,\n",
       " 340968277,\n",
       " 1969346438,\n",
       " 13804112,\n",
       " 739567626511388672,\n",
       " 835328618,\n",
       " 164523117,\n",
       " 446228264,\n",
       " 39344374,\n",
       " 757749684580519936,\n",
       " 515542297,\n",
       " 41265813,\n",
       " 78523300,\n",
       " 18643437,\n",
       " 232201971,\n",
       " 801071388,\n",
       " 3539755636,\n",
       " 1367531,\n",
       " 1564676498,\n",
       " 4901489212,\n",
       " 704034081898668032,\n",
       " 22630309,\n",
       " 46520074,\n",
       " 17895820,\n",
       " 14412533,\n",
       " 1917731,\n",
       " 1080576949,\n",
       " 492833134,\n",
       " 65132037,\n",
       " 1735546184,\n",
       " 765091605472698368,\n",
       " 743142244706848768,\n",
       " 107012365,\n",
       " 237623215,\n",
       " 865187658,\n",
       " 621110318,\n",
       " 25197377,\n",
       " 739567626511388672,\n",
       " 1462579488,\n",
       " 430905373,\n",
       " 20854637,\n",
       " 25832979,\n",
       " 1200713864,\n",
       " 758809594936238080,\n",
       " 758809594936238080,\n",
       " 374284455,\n",
       " 25197377,\n",
       " 172394944,\n",
       " 910332056,\n",
       " 34163521,\n",
       " 1537048512,\n",
       " 715650695647637504,\n",
       " 1513958744,\n",
       " 727578244841639936,\n",
       " 713832622808412160,\n",
       " 4855687055,\n",
       " 3558102739,\n",
       " 695365245376696320,\n",
       " 28869089,\n",
       " 54065567,\n",
       " 54065567,\n",
       " 746367431388585984,\n",
       " 746367431388585984,\n",
       " 3166217539,\n",
       " 3329997245,\n",
       " 765091605472698368,\n",
       " 317223956,\n",
       " 1849938847,\n",
       " 1148951203,\n",
       " 138581916,\n",
       " 2953617710,\n",
       " 49685124,\n",
       " 169536421,\n",
       " 3124454195,\n",
       " 2830167800,\n",
       " 141642957,\n",
       " 710829502843064320,\n",
       " 30265457,\n",
       " 561654065,\n",
       " 16887175,\n",
       " 730786518848159744,\n",
       " 22677397,\n",
       " 2353703503,\n",
       " 21248626,\n",
       " 17395207,\n",
       " 144130505,\n",
       " 17529294,\n",
       " 52801677,\n",
       " 742923442471763968,\n",
       " 3697721113,\n",
       " 2584482763,\n",
       " 20944649,\n",
       " 773520163396325376,\n",
       " 20889358,\n",
       " 67095221,\n",
       " 767036004,\n",
       " 765091605472698368,\n",
       " 176914461,\n",
       " 78569026,\n",
       " 331747494,\n",
       " 2316246829,\n",
       " 361275163,\n",
       " 2364837974,\n",
       " 1242465014,\n",
       " 289118612,\n",
       " 568143078,\n",
       " 758313715695427584,\n",
       " 18195110,\n",
       " 765091605472698368,\n",
       " 1289704663,\n",
       " 754086125917106176,\n",
       " 1371572360,\n",
       " 769297227957141504,\n",
       " 3610264154,\n",
       " 27211961,\n",
       " 723387344175296512,\n",
       " 151375368,\n",
       " 767587128524013568,\n",
       " 35677844,\n",
       " 936304345,\n",
       " 19195442,\n",
       " 744281884310405120,\n",
       " 3389134989,\n",
       " 3019417439,\n",
       " 10735392,\n",
       " 3362345172,\n",
       " 33388399,\n",
       " 341688336,\n",
       " 231641765,\n",
       " 3394911915,\n",
       " 2902031256,\n",
       " 3297022953,\n",
       " 455288410,\n",
       " 219815601,\n",
       " 374284455,\n",
       " 2684196134,\n",
       " 865636782,\n",
       " 126009130,\n",
       " 126009130,\n",
       " 126009130,\n",
       " 126009130,\n",
       " 126009130,\n",
       " 126009130,\n",
       " 126009130,\n",
       " 126009130,\n",
       " 126009130,\n",
       " 126009130,\n",
       " 126009130,\n",
       " 126009130,\n",
       " 126009130,\n",
       " 126009130,\n",
       " 126009130,\n",
       " 126009130,\n",
       " 126009130,\n",
       " 126009130,\n",
       " 126009130,\n",
       " 325893346,\n",
       " 126009130,\n",
       " 126009130,\n",
       " 126009130,\n",
       " 126009130,\n",
       " 126009130,\n",
       " 126009130,\n",
       " 126009130,\n",
       " 126009130,\n",
       " 18132806,\n",
       " 3057650044,\n",
       " 972651,\n",
       " 865636782,\n",
       " 1353347065,\n",
       " 767587128524013568,\n",
       " 3686488635,\n",
       " 3002739417,\n",
       " 1183779272,\n",
       " 1309391066,\n",
       " 4334047641,\n",
       " 42371615,\n",
       " 3930608896,\n",
       " 21773704,\n",
       " 399774230,\n",
       " 758076297876602880,\n",
       " 2911587582,\n",
       " 735624304050593792,\n",
       " 4240150034,\n",
       " 16674128,\n",
       " 14441020,\n",
       " 30265457,\n",
       " 1326707346,\n",
       " 908933376,\n",
       " 124185033,\n",
       " 2451462137,\n",
       " 2417586104,\n",
       " 2344571893,\n",
       " 3340267793,\n",
       " 902851051,\n",
       " 1339835893,\n",
       " 36196526,\n",
       " 6563122,\n",
       " 4345493055,\n",
       " 1851877248,\n",
       " 90573210,\n",
       " 118845216,\n",
       " 172032623,\n",
       " 2786693552,\n",
       " 755726522,\n",
       " 2788642796,\n",
       " 340660967,\n",
       " 22141405,\n",
       " 4194141941,\n",
       " 115772421,\n",
       " 22714413,\n",
       " 97082147,\n",
       " 63514682,\n",
       " 1027392638,\n",
       " 259509924,\n",
       " 762658215850971136,\n",
       " 214112621,\n",
       " 15511737,\n",
       " 758313715695427584,\n",
       " 20065936,\n",
       " 704795920433414144,\n",
       " 116949923,\n",
       " 4922951833,\n",
       " 2959654959,\n",
       " 27680579,\n",
       " 167411983,\n",
       " 3253946096,\n",
       " 102569776,\n",
       " 1220140158,\n",
       " 704034081898668032,\n",
       " 704743208044118016,\n",
       " 2220165991,\n",
       " 5514192,\n",
       " 567823476,\n",
       " 1419413276,\n",
       " 3229949515,\n",
       " 4236806414,\n",
       " 123699851,\n",
       " 3220025137,\n",
       " 3416492723,\n",
       " 33529092,\n",
       " 181249422,\n",
       " 3050742101,\n",
       " 2333546774,\n",
       " 14511951,\n",
       " 3411313300,\n",
       " 1917731,\n",
       " 741998561689251840,\n",
       " 237845487,\n",
       " 23398898,\n",
       " 246939630,\n",
       " 2836421,\n",
       " 38955690,\n",
       " 19847765,\n",
       " 2525675331,\n",
       " 18643437,\n",
       " 257797355,\n",
       " 3290191140,\n",
       " 2891459376,\n",
       " 3434574681,\n",
       " 16589206,\n",
       " 2220656158,\n",
       " 48101103,\n",
       " 48101103,\n",
       " 48101103,\n",
       " 48101103,\n",
       " 48101103,\n",
       " 718571477772075008,\n",
       " 18643437,\n",
       " 18643437,\n",
       " 37690914,\n",
       " 49318764,\n",
       " 534516052,\n",
       " 754720098393272320,\n",
       " 4087647976,\n",
       " 2670627368,\n",
       " 767587128524013568,\n",
       " 1332367184,\n",
       " 107012365,\n",
       " 16910746,\n",
       " 1159026354,\n",
       " 48101103,\n",
       " 709036196941459456,\n",
       " 18154797,\n",
       " 11912362,\n",
       " 746413996304015360,\n",
       " 500243950,\n",
       " 14093404,\n",
       " 4551929255,\n",
       " 3784467913,\n",
       " 236657980,\n",
       " 101298165,\n",
       " 714949505720823808,\n",
       " 4273837226,\n",
       " 2562270259,\n",
       " 39308549,\n",
       " 2917559867,\n",
       " 737602729,\n",
       " 4236806414,\n",
       " 3096393734,\n",
       " 85990330,\n",
       " 770759270,\n",
       " 149679293,\n",
       " 380285402,\n",
       " 756880499881103360,\n",
       " 1640929196,\n",
       " 371142734,\n",
       " 242618658,\n",
       " 2391736411,\n",
       " 634242289,\n",
       " 744920442,\n",
       " 18787733,\n",
       " 2386693961,\n",
       " 3756112462,\n",
       " 2349012840,\n",
       " 741977462028926976,\n",
       " 20849008,\n",
       " 1653051,\n",
       " 39000115,\n",
       " 253940881,\n",
       " 289118612,\n",
       " 4182138315,\n",
       " 2203686183,\n",
       " 14792263,\n",
       " 289118612,\n",
       " 61526430,\n",
       " 108713959,\n",
       " 2601795218,\n",
       " 741334289376116736,\n",
       " 2262908824,\n",
       " 2902031256,\n",
       " 534567942,\n",
       " 118845216,\n",
       " 16589206,\n",
       " 762750852247396352,\n",
       " 745514486631542784,\n",
       " 756897488657715200,\n",
       " 3253885297,\n",
       " 492833134,\n",
       " 3096964498,\n",
       " 757214917036474368,\n",
       " 3328878194,\n",
       " 88237533,\n",
       " 18787733,\n",
       " 40164923,\n",
       " 16589206,\n",
       " 1652541,\n",
       " 44688778,\n",
       " 3818784613,\n",
       " 74913349,\n",
       " 78523300,\n",
       " 144001050,\n",
       " 769633840356728832,\n",
       " 40164923,\n",
       " 2649507198,\n",
       " 731240208952262656,\n",
       " 3384693167,\n",
       " 296610784,\n",
       " 18787733,\n",
       " 562261824,\n",
       " 462487731,\n",
       " 765357788,\n",
       " 104914594,\n",
       " 14000592,\n",
       " 118845216,\n",
       " 480435113,\n",
       " 3338779876,\n",
       " 197662233,\n",
       " 61008839,\n",
       " 841039189,\n",
       " 2840452198,\n",
       " 2840452198,\n",
       " 67899097,\n",
       " 52136185,\n",
       " 730141801881853952,\n",
       " 18787733,\n",
       " 500154514,\n",
       " 2575717004,\n",
       " 1141094348,\n",
       " 2776376446,\n",
       " 608389155,\n",
       " 4846395737,\n",
       " 2416597188,\n",
       " 1027632134,\n",
       " 118845216,\n",
       " 3974665634,\n",
       " 197496309,\n",
       " 17965340,\n",
       " 4663625910,\n",
       " 218325695,\n",
       " 18787733,\n",
       " 931286316,\n",
       " 2801177472,\n",
       " 19575451,\n",
       " 518009192,\n",
       " 825952160,\n",
       " 347627434,\n",
       " 1344787579,\n",
       " 951008132,\n",
       " 227333373,\n",
       " 21091954,\n",
       " 718592022,\n",
       " 3974665634,\n",
       " 3324042441,\n",
       " 4810747934,\n",
       " 367452068,\n",
       " 1375629385,\n",
       " 3578921292,\n",
       " 2345831796,\n",
       " 207040407,\n",
       " 3288598806,\n",
       " 52989817,\n",
       " 61526430,\n",
       " 60783724,\n",
       " 188095835,\n",
       " 775374224034783232,\n",
       " 19802846,\n",
       " 2517972111,\n",
       " 459735022,\n",
       " 67899097,\n",
       " 41747308,\n",
       " 14511951,\n",
       " 2236655070,\n",
       " 170357723,\n",
       " 14185814,\n",
       " 443924415,\n",
       " 1921995883,\n",
       " 126009130,\n",
       " 1524518970,\n",
       " 1375629385,\n",
       " 27688800,\n",
       " 751447878711869440,\n",
       " 213678006,\n",
       " 3308560736,\n",
       " 774140462370127872,\n",
       " 1528941756,\n",
       " 292508851,\n",
       " 3903052998,\n",
       " 116384038,\n",
       " 2845849081,\n",
       " 18545481,\n",
       " 785629978738032640,\n",
       " 82447359,\n",
       " 3000673803,\n",
       " 550222026,\n",
       " 3222909799,\n",
       " 15513604,\n",
       " 788146803669512192,\n",
       " 1713036884,\n",
       " 250492272,\n",
       " 1917731,\n",
       " 1367531,\n",
       " 25446957,\n",
       " 3091373190,\n",
       " 371142734,\n",
       " 931286316,\n",
       " 2469824234,\n",
       " 14575708,\n",
       " 263069137,\n",
       " 362977781,\n",
       " 2902031256,\n",
       " 791949967824793600,\n",
       " 254117355,\n",
       " 28785486,\n",
       " 707246777515245568,\n",
       " 250736021,\n",
       " 4825764434,\n",
       " 5695632,\n",
       " 262277370,\n",
       " 72761654,\n",
       " 28785486,\n",
       " 1149979224,\n",
       " 181249422,\n",
       " 1301720724,\n",
       " 84491326,\n",
       " 921376165,\n",
       " 111216929,\n",
       " 22953032,\n",
       " 3381686297,\n",
       " 97942529,\n",
       " 1655493013,\n",
       " 748608249910419456,\n",
       " 1238328264,\n",
       " 788998587011043328,\n",
       " 118845216,\n",
       " 714128911823724544,\n",
       " 79593630,\n",
       " 4261318354,\n",
       " 757255733704548352,\n",
       " 706201477300297728,\n",
       " 387948805,\n",
       " 17784660,\n",
       " 65166471,\n",
       " 25939719,\n",
       " 4181620034,\n",
       " 33416495,\n",
       " 580252446,\n",
       " 749958546004054016,\n",
       " 749958546004054016,\n",
       " 368555136,\n",
       " 146646613,\n",
       " 729582066,\n",
       " 4757535874,\n",
       " 69004966,\n",
       " 39246283,\n",
       " 33930094,\n",
       " 469708044,\n",
       " 3974665634,\n",
       " 1339835893,\n",
       " 2902031256,\n",
       " 63528313,\n",
       " 303892169,\n",
       " 3309654696,\n",
       " 15315465,\n",
       " 34900333,\n",
       " 15164565,\n",
       " 1459916354,\n",
       " 3684208045,\n",
       " 44696944,\n",
       " 776565331007381504,\n",
       " 4070021129,\n",
       " 2703114008,\n",
       " 2750334224,\n",
       " 1033798970,\n",
       " 2750334224,\n",
       " 63485337,\n",
       " 733093128081661952,\n",
       " 746093922494058496,\n",
       " 210424042,\n",
       " 22630309,\n",
       " 2196378314,\n",
       " 57314318,\n",
       " 956163518,\n",
       " 48967685,\n",
       " 347627434,\n",
       " 1520324371,\n",
       " 288656545,\n",
       " 3193055477,\n",
       " 2374469136,\n",
       " 1676285761,\n",
       " 4855687055,\n",
       " 1367531,\n",
       " 2975936339,\n",
       " 3195345898,\n",
       " 16589206,\n",
       " 3338568554,\n",
       " 16589206,\n",
       " 3371241641,\n",
       " 321774180,\n",
       " 781252299507142656,\n",
       " 729709984217337856,\n",
       " 779126152774299648,\n",
       " 130254817,\n",
       " 169536421,\n",
       " 128429068,\n",
       " 4840244240,\n",
       " 91882544,\n",
       " 716371621380890624,\n",
       " 743576222228185088,\n",
       " 724253317577236480,\n",
       " 435564722,\n",
       " 328741551,\n",
       " 65455370,\n",
       " 50769180,\n",
       " 50769180,\n",
       " 492833134,\n",
       " 785578193604317184,\n",
       " 86403191,\n",
       " 774486797606907904,\n",
       " 2896866728,\n",
       " 729523218218766336,\n",
       " 3359000590,\n",
       " 1655766132,\n",
       " 33529092,\n",
       " 96648433,\n",
       " 726405146788290560,\n",
       " 786670304903004160,\n",
       " 561654065,\n",
       " 19377400,\n",
       " 4849413012,\n",
       " 3408847582,\n",
       " 2556605767,\n",
       " 1065869268,\n",
       " 774074669230071808,\n",
       " 1065869268,\n",
       " 362200757,\n",
       " 4851343726,\n",
       " 33605130,\n",
       " 20982772,\n",
       " 1499268588,\n",
       " 547969112,\n",
       " 739664413330804736,\n",
       " 20675681,\n",
       " 954124423,\n",
       " 3102351219,\n",
       " 127182036,\n",
       " 259332340,\n",
       " 13831292,\n",
       " 443605395,\n",
       " 1682330258,\n",
       " 788010267649183744,\n",
       " 30946469,\n",
       " 14464961,\n",
       " 744920442,\n",
       " 33932623,\n",
       " 3339557473,\n",
       " 3269661906,\n",
       " 278770435,\n",
       " 778276054909812736,\n",
       " 2971891547,\n",
       " 726319466951237632,\n",
       " 81611744,\n",
       " 2517972111,\n",
       " 3221413128,\n",
       " 185838958,\n",
       " 766445003128377344,\n",
       " 366355851,\n",
       " 582402433,\n",
       " 2355662572,\n",
       " 2884891245,\n",
       " 176464757,\n",
       " 2183756121,\n",
       " 463232547,\n",
       " 200616013,\n",
       " 619158246,\n",
       " 213801320,\n",
       " 1444300153,\n",
       " 564702484,\n",
       " ...]"
      ]
     },
     "execution_count": 125,
     "metadata": {},
     "output_type": "execute_result"
    }
   ],
   "source": [
    "accounts[407:]"
   ]
  },
  {
   "cell_type": "code",
   "execution_count": 123,
   "metadata": {},
   "outputs": [
    {
     "data": {
      "text/plain": [
       "id                                            758193276151222272\n",
       "original_id                                   758190213973872640\n",
       "tweet_text     Bill O'Reilly: Slaves who built White House we...\n",
       "tweet_url      https://twitter.com/POTUS/status/7581932761512...\n",
       "claim               The White House was built using slave labor.\n",
       "rating         ['https://www.snopes.com/tachyon/2018/03/ratin...\n",
       "images            http://pbs.twimg.com/media/CoWh-nhXEAA3jp1.jpg\n",
       "text_images                                                  NaN\n",
       "source         https://www.snopes.com/fact-check/was-the-whit...\n",
       "label                                            mostly-true-new\n",
       "label_info                                                   NaN\n",
       "available                                                     ok\n",
       "acc_id                                                   9300262\n",
       "botometer                                                       \n",
       "Name: 407, dtype: object"
      ]
     },
     "execution_count": 123,
     "metadata": {},
     "output_type": "execute_result"
    }
   ],
   "source": [
    "snopes_acc.loc[407]"
   ]
  },
  {
   "cell_type": "code",
   "execution_count": 112,
   "metadata": {},
   "outputs": [],
   "source": [
    "snopes_acc.to_csv(\"snopes_botometer_406.csv\", index=False)"
   ]
  },
  {
   "cell_type": "code",
   "execution_count": 111,
   "metadata": {},
   "outputs": [
    {
     "data": {
      "text/html": [
       "<div>\n",
       "<style scoped>\n",
       "    .dataframe tbody tr th:only-of-type {\n",
       "        vertical-align: middle;\n",
       "    }\n",
       "\n",
       "    .dataframe tbody tr th {\n",
       "        vertical-align: top;\n",
       "    }\n",
       "\n",
       "    .dataframe thead th {\n",
       "        text-align: right;\n",
       "    }\n",
       "</style>\n",
       "<table border=\"1\" class=\"dataframe\">\n",
       "  <thead>\n",
       "    <tr style=\"text-align: right;\">\n",
       "      <th></th>\n",
       "      <th>id</th>\n",
       "      <th>original_id</th>\n",
       "      <th>tweet_text</th>\n",
       "      <th>tweet_url</th>\n",
       "      <th>claim</th>\n",
       "      <th>rating</th>\n",
       "      <th>images</th>\n",
       "      <th>text_images</th>\n",
       "      <th>source</th>\n",
       "      <th>label</th>\n",
       "      <th>label_info</th>\n",
       "      <th>available</th>\n",
       "      <th>acc_id</th>\n",
       "      <th>botometer</th>\n",
       "    </tr>\n",
       "  </thead>\n",
       "  <tbody>\n",
       "    <tr>\n",
       "      <th>0</th>\n",
       "      <td>1000037356836093953</td>\n",
       "      <td>1000023322481086466</td>\n",
       "      <td>Brave men died to keep us free. Radicals want ...</td>\n",
       "      <td>https://twitter.com/POTUS/status/1000037356836...</td>\n",
       "      <td>Liberals were offended by a World War I memori...</td>\n",
       "      <td>['https://www.snopes.com/tachyon/2018/03/ratin...</td>\n",
       "      <td>http://pbs.twimg.com/media/DeDL5a-XkAI7Hlw.jpg</td>\n",
       "      <td>#DontTearMeDown IRSTLIBERT . ORG DontTearMeDow...</td>\n",
       "      <td>https://www.snopes.com/fact-check/liberals-dem...</td>\n",
       "      <td>mixture</td>\n",
       "      <td>NaN</td>\n",
       "      <td>ok</td>\n",
       "      <td>3981225735</td>\n",
       "      <td>{'cap': {'english': 0.7759887465100499, 'unive...</td>\n",
       "    </tr>\n",
       "    <tr>\n",
       "      <th>1</th>\n",
       "      <td>1000098833798389760</td>\n",
       "      <td>1000059879682342912</td>\n",
       "      <td>“Stand for the National Anthem or be punished”...</td>\n",
       "      <td>https://twitter.com/POTUS/status/1000098833798...</td>\n",
       "      <td>A German football club was banned from playing...</td>\n",
       "      <td>['https://www.snopes.com/tachyon/2018/03/ratin...</td>\n",
       "      <td>http://pbs.twimg.com/media/DeDtKIRVAAA4kPm.jpg</td>\n",
       "      <td>FAILED TO GIVE NAZI SALUTE . German Football C...</td>\n",
       "      <td>https://www.snopes.com/fact-check/german-footb...</td>\n",
       "      <td>mostly-true-new</td>\n",
       "      <td>NaN</td>\n",
       "      <td>ok</td>\n",
       "      <td>1924071992</td>\n",
       "      <td>{'cap': {'english': 0.7759887465100499, 'unive...</td>\n",
       "    </tr>\n",
       "    <tr>\n",
       "      <th>2</th>\n",
       "      <td>1000158804795781120</td>\n",
       "      <td>1000073920760791040</td>\n",
       "      <td>@Humancipator35 @buddydusty @davidhogg111 🙌🏼 R...</td>\n",
       "      <td>https://twitter.com/POTUS/status/1000158804795...</td>\n",
       "      <td>Emma Gonz lez, a survivor of the Parkland scho...</td>\n",
       "      <td>['https://www.snopes.com/tachyon/2018/03/ratin...</td>\n",
       "      <td>http://pbs.twimg.com/media/DeD57XMV4AAUG4k.jpg</td>\n",
       "      <td>NaN</td>\n",
       "      <td>https://www.snopes.com/fact-check/emma-gonzale...</td>\n",
       "      <td>false</td>\n",
       "      <td>NaN</td>\n",
       "      <td>auth</td>\n",
       "      <td>924224208</td>\n",
       "      <td>{'cap': {'english': 0.30618807248975083, 'univ...</td>\n",
       "    </tr>\n",
       "    <tr>\n",
       "      <th>3</th>\n",
       "      <td>1000175568241872897</td>\n",
       "      <td>1000174645973315586</td>\n",
       "      <td>Just sayin'  #NFL https://t.co/70tFG5ieMC</td>\n",
       "      <td>https://twitter.com/POTUS/status/1000175568241...</td>\n",
       "      <td>A German football club was banned from playing...</td>\n",
       "      <td>['https://www.snopes.com/tachyon/2018/03/ratin...</td>\n",
       "      <td>http://pbs.twimg.com/media/DeFVdDlUwAA17qS.jpg</td>\n",
       "      <td>FAILED TO GIVE NAZI SALUTE . German Football C...</td>\n",
       "      <td>https://www.snopes.com/fact-check/german-footb...</td>\n",
       "      <td>mostly-true-new</td>\n",
       "      <td>NaN</td>\n",
       "      <td>auth</td>\n",
       "      <td>170735298</td>\n",
       "      <td>{'cap': {'english': 0.6763619064808265, 'unive...</td>\n",
       "    </tr>\n",
       "    <tr>\n",
       "      <th>4</th>\n",
       "      <td>1000438777792344067</td>\n",
       "      <td>1000191784797040640</td>\n",
       "      <td>Those who do not learn from history are doomed...</td>\n",
       "      <td>https://twitter.com/POTUS/status/1000438777792...</td>\n",
       "      <td>A German football club was banned from playing...</td>\n",
       "      <td>['https://www.snopes.com/tachyon/2018/03/ratin...</td>\n",
       "      <td>http://pbs.twimg.com/media/DeFkp5eU0AA2aLJ.jpg</td>\n",
       "      <td>pnting n the wo \" ' t WHY to win . nbor mu t n...</td>\n",
       "      <td>https://www.snopes.com/fact-check/german-footb...</td>\n",
       "      <td>mostly-true-new</td>\n",
       "      <td>NaN</td>\n",
       "      <td>ok</td>\n",
       "      <td>115563859</td>\n",
       "      <td>{'cap': {'english': 0.7668769621923945, 'unive...</td>\n",
       "    </tr>\n",
       "    <tr>\n",
       "      <th>...</th>\n",
       "      <td>...</td>\n",
       "      <td>...</td>\n",
       "      <td>...</td>\n",
       "      <td>...</td>\n",
       "      <td>...</td>\n",
       "      <td>...</td>\n",
       "      <td>...</td>\n",
       "      <td>...</td>\n",
       "      <td>...</td>\n",
       "      <td>...</td>\n",
       "      <td>...</td>\n",
       "      <td>...</td>\n",
       "      <td>...</td>\n",
       "      <td>...</td>\n",
       "    </tr>\n",
       "    <tr>\n",
       "      <th>6971</th>\n",
       "      <td>1000095067887910917</td>\n",
       "      <td>999866405687209984</td>\n",
       "      <td>History repeating itself with @realDonaldTrump...</td>\n",
       "      <td>https://twitter.com/POTUS/status/1000095067887...</td>\n",
       "      <td>A German football club was banned from playing...</td>\n",
       "      <td>['https://www.snopes.com/tachyon/2018/03/ratin...</td>\n",
       "      <td>http://pbs.twimg.com/media/DeA9KrlVwAEHtPB.jpg</td>\n",
       "      <td>FAILED TO GIVE NAZI SALUTE . German Football C...</td>\n",
       "      <td>https://www.snopes.com/fact-check/german-footb...</td>\n",
       "      <td>mostly-true-new</td>\n",
       "      <td>NaN</td>\n",
       "      <td>ok</td>\n",
       "      <td>550658726</td>\n",
       "      <td></td>\n",
       "    </tr>\n",
       "    <tr>\n",
       "      <th>6972</th>\n",
       "      <td>1000146882428096512</td>\n",
       "      <td>999903412425711616</td>\n",
       "      <td>I picked this up from someone here. Its🙄🤨🙄 wor...</td>\n",
       "      <td>https://twitter.com/POTUS/status/1000146882428...</td>\n",
       "      <td>A German football club was banned from playing...</td>\n",
       "      <td>['https://www.snopes.com/tachyon/2018/03/ratin...</td>\n",
       "      <td>http://pbs.twimg.com/media/DeBe1X5VAAI-Zhh.jpg</td>\n",
       "      <td>FAILED TO GIVE NAZI SALUTE . German Football C...</td>\n",
       "      <td>https://www.snopes.com/fact-check/german-footb...</td>\n",
       "      <td>mostly-true-new</td>\n",
       "      <td>NaN</td>\n",
       "      <td>ok</td>\n",
       "      <td>91743765</td>\n",
       "      <td></td>\n",
       "    </tr>\n",
       "    <tr>\n",
       "      <th>6973</th>\n",
       "      <td>1000018438184734720</td>\n",
       "      <td>999961946932723713</td>\n",
       "      <td>Trump is a criminal, a gangster using criminal...</td>\n",
       "      <td>https://twitter.com/POTUS/status/1000018438184...</td>\n",
       "      <td>Notorious mobster Al Capone demanded an inquir...</td>\n",
       "      <td>['https://www.snopes.com/tachyon/2018/03/ratin...</td>\n",
       "      <td>http://pbs.twimg.com/media/DeCUF2ZV4AAMm0Z.jpg</td>\n",
       "      <td>Ci ) icago Sunday Cribune INAL 17 . Capone Dem...</td>\n",
       "      <td>https://www.snopes.com/fact-check/did-al-capon...</td>\n",
       "      <td>false</td>\n",
       "      <td>NaN</td>\n",
       "      <td>missing</td>\n",
       "      <td>881682896607600640</td>\n",
       "      <td></td>\n",
       "    </tr>\n",
       "    <tr>\n",
       "      <th>6974</th>\n",
       "      <td>999992400725585920</td>\n",
       "      <td>999962442141782016</td>\n",
       "      <td>@VP @NFL @POTUS The only thing that’s #Winning...</td>\n",
       "      <td>https://twitter.com/POTUS/status/9999924007255...</td>\n",
       "      <td>Baseball players in the 1950s were caught on c...</td>\n",
       "      <td>['https://www.snopes.com/tachyon/2018/03/ratin...</td>\n",
       "      <td>http://pbs.twimg.com/media/DeCUiW3VwAAQbyx.jpg</td>\n",
       "      <td>White Baseball Players Kneel in the 50 ' s to ...</td>\n",
       "      <td>https://www.snopes.com/fact-check/baseball-pla...</td>\n",
       "      <td>false</td>\n",
       "      <td>NaN</td>\n",
       "      <td>auth</td>\n",
       "      <td>115748564</td>\n",
       "      <td></td>\n",
       "    </tr>\n",
       "    <tr>\n",
       "      <th>6975</th>\n",
       "      <td>1000035228679852032</td>\n",
       "      <td>999973815655518213</td>\n",
       "      <td>@mjfree Sports has been used as a means of pro...</td>\n",
       "      <td>https://twitter.com/POTUS/status/1000035228679...</td>\n",
       "      <td>Baseball players in the 1950s were caught on c...</td>\n",
       "      <td>['https://www.snopes.com/tachyon/2018/03/ratin...</td>\n",
       "      <td>http://pbs.twimg.com/media/DeCejk4WkAMruuM.jpg</td>\n",
       "      <td>White Baseball Players Kneel in the 50 ' s to ...</td>\n",
       "      <td>https://www.snopes.com/fact-check/baseball-pla...</td>\n",
       "      <td>false</td>\n",
       "      <td>NaN</td>\n",
       "      <td>ok</td>\n",
       "      <td>518227176</td>\n",
       "      <td></td>\n",
       "    </tr>\n",
       "  </tbody>\n",
       "</table>\n",
       "<p>6976 rows × 14 columns</p>\n",
       "</div>"
      ],
      "text/plain": [
       "                       id          original_id  \\\n",
       "0     1000037356836093953  1000023322481086466   \n",
       "1     1000098833798389760  1000059879682342912   \n",
       "2     1000158804795781120  1000073920760791040   \n",
       "3     1000175568241872897  1000174645973315586   \n",
       "4     1000438777792344067  1000191784797040640   \n",
       "...                   ...                  ...   \n",
       "6971  1000095067887910917   999866405687209984   \n",
       "6972  1000146882428096512   999903412425711616   \n",
       "6973  1000018438184734720   999961946932723713   \n",
       "6974   999992400725585920   999962442141782016   \n",
       "6975  1000035228679852032   999973815655518213   \n",
       "\n",
       "                                             tweet_text  \\\n",
       "0     Brave men died to keep us free. Radicals want ...   \n",
       "1     “Stand for the National Anthem or be punished”...   \n",
       "2     @Humancipator35 @buddydusty @davidhogg111 🙌🏼 R...   \n",
       "3             Just sayin'  #NFL https://t.co/70tFG5ieMC   \n",
       "4     Those who do not learn from history are doomed...   \n",
       "...                                                 ...   \n",
       "6971  History repeating itself with @realDonaldTrump...   \n",
       "6972  I picked this up from someone here. Its🙄🤨🙄 wor...   \n",
       "6973  Trump is a criminal, a gangster using criminal...   \n",
       "6974  @VP @NFL @POTUS The only thing that’s #Winning...   \n",
       "6975  @mjfree Sports has been used as a means of pro...   \n",
       "\n",
       "                                              tweet_url  \\\n",
       "0     https://twitter.com/POTUS/status/1000037356836...   \n",
       "1     https://twitter.com/POTUS/status/1000098833798...   \n",
       "2     https://twitter.com/POTUS/status/1000158804795...   \n",
       "3     https://twitter.com/POTUS/status/1000175568241...   \n",
       "4     https://twitter.com/POTUS/status/1000438777792...   \n",
       "...                                                 ...   \n",
       "6971  https://twitter.com/POTUS/status/1000095067887...   \n",
       "6972  https://twitter.com/POTUS/status/1000146882428...   \n",
       "6973  https://twitter.com/POTUS/status/1000018438184...   \n",
       "6974  https://twitter.com/POTUS/status/9999924007255...   \n",
       "6975  https://twitter.com/POTUS/status/1000035228679...   \n",
       "\n",
       "                                                  claim  \\\n",
       "0     Liberals were offended by a World War I memori...   \n",
       "1     A German football club was banned from playing...   \n",
       "2     Emma Gonz lez, a survivor of the Parkland scho...   \n",
       "3     A German football club was banned from playing...   \n",
       "4     A German football club was banned from playing...   \n",
       "...                                                 ...   \n",
       "6971  A German football club was banned from playing...   \n",
       "6972  A German football club was banned from playing...   \n",
       "6973  Notorious mobster Al Capone demanded an inquir...   \n",
       "6974  Baseball players in the 1950s were caught on c...   \n",
       "6975  Baseball players in the 1950s were caught on c...   \n",
       "\n",
       "                                                 rating  \\\n",
       "0     ['https://www.snopes.com/tachyon/2018/03/ratin...   \n",
       "1     ['https://www.snopes.com/tachyon/2018/03/ratin...   \n",
       "2     ['https://www.snopes.com/tachyon/2018/03/ratin...   \n",
       "3     ['https://www.snopes.com/tachyon/2018/03/ratin...   \n",
       "4     ['https://www.snopes.com/tachyon/2018/03/ratin...   \n",
       "...                                                 ...   \n",
       "6971  ['https://www.snopes.com/tachyon/2018/03/ratin...   \n",
       "6972  ['https://www.snopes.com/tachyon/2018/03/ratin...   \n",
       "6973  ['https://www.snopes.com/tachyon/2018/03/ratin...   \n",
       "6974  ['https://www.snopes.com/tachyon/2018/03/ratin...   \n",
       "6975  ['https://www.snopes.com/tachyon/2018/03/ratin...   \n",
       "\n",
       "                                              images  \\\n",
       "0     http://pbs.twimg.com/media/DeDL5a-XkAI7Hlw.jpg   \n",
       "1     http://pbs.twimg.com/media/DeDtKIRVAAA4kPm.jpg   \n",
       "2     http://pbs.twimg.com/media/DeD57XMV4AAUG4k.jpg   \n",
       "3     http://pbs.twimg.com/media/DeFVdDlUwAA17qS.jpg   \n",
       "4     http://pbs.twimg.com/media/DeFkp5eU0AA2aLJ.jpg   \n",
       "...                                              ...   \n",
       "6971  http://pbs.twimg.com/media/DeA9KrlVwAEHtPB.jpg   \n",
       "6972  http://pbs.twimg.com/media/DeBe1X5VAAI-Zhh.jpg   \n",
       "6973  http://pbs.twimg.com/media/DeCUF2ZV4AAMm0Z.jpg   \n",
       "6974  http://pbs.twimg.com/media/DeCUiW3VwAAQbyx.jpg   \n",
       "6975  http://pbs.twimg.com/media/DeCejk4WkAMruuM.jpg   \n",
       "\n",
       "                                            text_images  \\\n",
       "0     #DontTearMeDown IRSTLIBERT . ORG DontTearMeDow...   \n",
       "1     FAILED TO GIVE NAZI SALUTE . German Football C...   \n",
       "2                                                   NaN   \n",
       "3     FAILED TO GIVE NAZI SALUTE . German Football C...   \n",
       "4     pnting n the wo \" ' t WHY to win . nbor mu t n...   \n",
       "...                                                 ...   \n",
       "6971  FAILED TO GIVE NAZI SALUTE . German Football C...   \n",
       "6972  FAILED TO GIVE NAZI SALUTE . German Football C...   \n",
       "6973  Ci ) icago Sunday Cribune INAL 17 . Capone Dem...   \n",
       "6974  White Baseball Players Kneel in the 50 ' s to ...   \n",
       "6975  White Baseball Players Kneel in the 50 ' s to ...   \n",
       "\n",
       "                                                 source            label  \\\n",
       "0     https://www.snopes.com/fact-check/liberals-dem...          mixture   \n",
       "1     https://www.snopes.com/fact-check/german-footb...  mostly-true-new   \n",
       "2     https://www.snopes.com/fact-check/emma-gonzale...            false   \n",
       "3     https://www.snopes.com/fact-check/german-footb...  mostly-true-new   \n",
       "4     https://www.snopes.com/fact-check/german-footb...  mostly-true-new   \n",
       "...                                                 ...              ...   \n",
       "6971  https://www.snopes.com/fact-check/german-footb...  mostly-true-new   \n",
       "6972  https://www.snopes.com/fact-check/german-footb...  mostly-true-new   \n",
       "6973  https://www.snopes.com/fact-check/did-al-capon...            false   \n",
       "6974  https://www.snopes.com/fact-check/baseball-pla...            false   \n",
       "6975  https://www.snopes.com/fact-check/baseball-pla...            false   \n",
       "\n",
       "      label_info available              acc_id  \\\n",
       "0            NaN        ok          3981225735   \n",
       "1            NaN        ok          1924071992   \n",
       "2            NaN      auth           924224208   \n",
       "3            NaN      auth           170735298   \n",
       "4            NaN        ok           115563859   \n",
       "...          ...       ...                 ...   \n",
       "6971         NaN        ok           550658726   \n",
       "6972         NaN        ok            91743765   \n",
       "6973         NaN   missing  881682896607600640   \n",
       "6974         NaN      auth           115748564   \n",
       "6975         NaN        ok           518227176   \n",
       "\n",
       "                                              botometer  \n",
       "0     {'cap': {'english': 0.7759887465100499, 'unive...  \n",
       "1     {'cap': {'english': 0.7759887465100499, 'unive...  \n",
       "2     {'cap': {'english': 0.30618807248975083, 'univ...  \n",
       "3     {'cap': {'english': 0.6763619064808265, 'unive...  \n",
       "4     {'cap': {'english': 0.7668769621923945, 'unive...  \n",
       "...                                                 ...  \n",
       "6971                                                     \n",
       "6972                                                     \n",
       "6973                                                     \n",
       "6974                                                     \n",
       "6975                                                     \n",
       "\n",
       "[6976 rows x 14 columns]"
      ]
     },
     "execution_count": 111,
     "metadata": {},
     "output_type": "execute_result"
    }
   ],
   "source": [
    "snopes_acc"
   ]
  },
  {
   "cell_type": "code",
   "execution_count": 110,
   "metadata": {},
   "outputs": [
    {
     "data": {
      "text/plain": [
       "nan"
      ]
     },
     "execution_count": 110,
     "metadata": {},
     "output_type": "execute_result"
    }
   ],
   "source": [
    "test.loc[407].botometer"
   ]
  },
  {
   "cell_type": "code",
   "execution_count": null,
   "metadata": {},
   "outputs": [],
   "source": [
    "bots = snopes.botometer.tolist()"
   ]
  },
  {
   "cell_type": "code",
   "execution_count": null,
   "metadata": {},
   "outputs": [],
   "source": [
    "dicts = []\n",
    "for i in bots:\n",
    "    if i:\n",
    "        dicts.append(eval(i))\n",
    "    else:\n",
    "        dicts.append(None)\n"
   ]
  },
  {
   "cell_type": "code",
   "execution_count": null,
   "metadata": {},
   "outputs": [],
   "source": [
    "for s in bom.check_account(accounts[0]):\n",
    "    print(s)"
   ]
  },
  {
   "cell_type": "code",
   "execution_count": null,
   "metadata": {},
   "outputs": [],
   "source": [
    "import botometer\n",
    "\n",
    "rapidapi_key = \"b0dd966c59mshdf2db2daf9a121fp15f57djsn5bf9d54db4aa\"\n",
    "\n",
    "consumer_key, consumer_secret = \"uHktObbiyJpGoLUaENXdpUWyj\", \"DLoJ8VRhFUK4GQeo3XUP2LGaSN4D7a2mAZqSKlRQshr6N0Ru1r\"\n",
    "access_token, access_token_secret = \"4121890515-8wV0UlTyu9hFzJL9d8NBU6BY24STUtS7zFeAcel\", \"vfnDrkEUAHtVayGJDZxau18mPjG4CuyB2JW6sG0xeYFGs\"\n",
    "\n",
    "\n",
    "twitter_app_auth = {\n",
    "    'consumer_key': consumer_key, # 'sO59YfsV552iCsfLLpQTuS64T',\n",
    "    'consumer_secret': consumer_secret, #'YVGEDbcA3Mg3bTY9rwXpLAH5ATOzbmhRBZ92wuWaBfVMdiflzq',\n",
    "    'access_token': access_token, # 'AAAAAAAAAAAAAAAAAAAAAD%2FZWwEAAAAAJgG8hY2XJfmsYbbs%2Bp5BruRr8aM%3DtRxrtqs0eEhHQ9ZFE9U7tRlNnqm7oPUXeQEijSnj3RgxWgvN5l',\n",
    "    'access_token_secret': access_token_secret,\n",
    "  }\n",
    "bom = botometer.Botometer(wait_on_ratelimit=True,\n",
    "                          rapidapi_key=rapidapi_key,\n",
    "                          **twitter_app_auth)\n",
    "\n",
    "accounts = snopes.acc_id.tolist()\n",
    "for screen_name, result in tqdm(bom.check_accounts_in(accounts=accounts)):\n",
    "    try:\n",
    "        snopes.loc[i, \"botometer\"] = str(result[1])\n",
    "        print(result)\n",
    "    except Exception as e:\n",
    "        print(e)\n",
    "        snopes.loc[i, \"botometer\"] = None\n",
    "\n"
   ]
  },
  {
   "cell_type": "code",
   "execution_count": 50,
   "metadata": {},
   "outputs": [],
   "source": [
    "rapidapi_key = \"b0dd966c59mshdf2db2daf9a121fp15f57djsn5bf9d54db4aa\"\n",
    "\n",
    "consumer_key, consumer_secret = \"uHktObbiyJpGoLUaENXdpUWyj\", \"DLoJ8VRhFUK4GQeo3XUP2LGaSN4D7a2mAZqSKlRQshr6N0Ru1r\"\n",
    "access_token, access_token_secret = \"4121890515-8wV0UlTyu9hFzJL9d8NBU6BY24STUtS7zFeAcel\", \"vfnDrkEUAHtVayGJDZxau18mPjG4CuyB2JW6sG0xeYFGs\"\n",
    "\n",
    "\n",
    "twitter_app_auth = {\n",
    "    'consumer_key': consumer_key, # 'sO59YfsV552iCsfLLpQTuS64T',\n",
    "    'consumer_secret': consumer_secret, #'YVGEDbcA3Mg3bTY9rwXpLAH5ATOzbmhRBZ92wuWaBfVMdiflzq',\n",
    "    'access_token': access_token, # 'AAAAAAAAAAAAAAAAAAAAAD%2FZWwEAAAAAJgG8hY2XJfmsYbbs%2Bp5BruRr8aM%3DtRxrtqs0eEhHQ9ZFE9U7tRlNnqm7oPUXeQEijSnj3RgxWgvN5l',\n",
    "    'access_token_secret': access_token_secret,\n",
    "  }\n",
    "bom = botometer.Botometer(wait_on_ratelimit=True,\n",
    "                          rapidapi_key=rapidapi_key,\n",
    "                          **twitter_app_auth)\n",
    "\n",
    "result = bom.check_accounts_in(accounts[:3])\n",
    "\n"
   ]
  },
  {
   "cell_type": "code",
   "execution_count": 51,
   "metadata": {},
   "outputs": [
    {
     "name": "stdout",
     "output_type": "stream",
     "text": [
      "(3981225735, {'cap': {'english': 0.7759887465100499, 'universal': 0.8006881983123656}, 'display_scores': {'english': {'astroturf': 1.1, 'fake_follower': 1.4, 'financial': 0.0, 'other': 2.2, 'overall': 1.5, 'self_declared': 0.1, 'spammer': 0.1}, 'universal': {'astroturf': 0.8, 'fake_follower': 1.1, 'financial': 0.3, 'other': 3.0, 'overall': 1.8, 'self_declared': 0.1, 'spammer': 0.1}}, 'raw_scores': {'english': {'astroturf': 0.22, 'fake_follower': 0.29, 'financial': 0.01, 'other': 0.45, 'overall': 0.3, 'self_declared': 0.02, 'spammer': 0.02}, 'universal': {'astroturf': 0.15, 'fake_follower': 0.22, 'financial': 0.06, 'other': 0.6, 'overall': 0.37, 'self_declared': 0.02, 'spammer': 0.02}}, 'user': {'majority_lang': 'en', 'user_data': {'id_str': '3981225735', 'screen_name': 'TrumpStudents'}}})\n",
      "(1924071992, {'cap': {'english': 0.7759887465100499, 'universal': 0.792436790569533}, 'display_scores': {'english': {'astroturf': 2.8, 'fake_follower': 0.4, 'financial': 0.6, 'other': 1.4, 'overall': 1.5, 'self_declared': 0.2, 'spammer': 0.0}, 'universal': {'astroturf': 2.2, 'fake_follower': 0.5, 'financial': 0.4, 'other': 1.5, 'overall': 1.6, 'self_declared': 0.0, 'spammer': 0.0}}, 'raw_scores': {'english': {'astroturf': 0.57, 'fake_follower': 0.07, 'financial': 0.13, 'other': 0.29, 'overall': 0.3, 'self_declared': 0.03, 'spammer': 0.0}, 'universal': {'astroturf': 0.43, 'fake_follower': 0.1, 'financial': 0.09, 'other': 0.3, 'overall': 0.32, 'self_declared': 0.01, 'spammer': 0.01}}, 'user': {'majority_lang': 'en', 'user_data': {'id_str': '1924071992', 'screen_name': 'MillenPolitics'}}})\n",
      "(924224208, {'cap': {'english': 0.30618807248975083, 'universal': 0.37678996390568303}, 'display_scores': {'english': {'astroturf': 1.4, 'fake_follower': 0.4, 'financial': 0.3, 'other': 0.9, 'overall': 0.2, 'self_declared': 0.0, 'spammer': 0.0}, 'universal': {'astroturf': 1.1, 'fake_follower': 0.6, 'financial': 0.4, 'other': 0.8, 'overall': 0.3, 'self_declared': 0.0, 'spammer': 0.0}}, 'raw_scores': {'english': {'astroturf': 0.29, 'fake_follower': 0.09, 'financial': 0.06, 'other': 0.18, 'overall': 0.04, 'self_declared': 0.0, 'spammer': 0.0}, 'universal': {'astroturf': 0.22, 'fake_follower': 0.12, 'financial': 0.07, 'other': 0.15, 'overall': 0.06, 'self_declared': 0.0, 'spammer': 0.0}}, 'user': {'majority_lang': 'en', 'user_data': {'id_str': '924224208', 'screen_name': 'jaybluuee'}}})\n"
     ]
    }
   ],
   "source": [
    "for a in result:\n",
    "    print(a)"
   ]
  },
  {
   "cell_type": "code",
   "execution_count": 52,
   "metadata": {},
   "outputs": [
    {
     "data": {
      "text/plain": [
       "{'cap': {'english': 0.30618807248975083, 'universal': 0.37678996390568303},\n",
       " 'display_scores': {'english': {'astroturf': 1.4,\n",
       "   'fake_follower': 0.4,\n",
       "   'financial': 0.3,\n",
       "   'other': 0.9,\n",
       "   'overall': 0.2,\n",
       "   'self_declared': 0.0,\n",
       "   'spammer': 0.0},\n",
       "  'universal': {'astroturf': 1.1,\n",
       "   'fake_follower': 0.6,\n",
       "   'financial': 0.4,\n",
       "   'other': 0.8,\n",
       "   'overall': 0.3,\n",
       "   'self_declared': 0.0,\n",
       "   'spammer': 0.0}},\n",
       " 'raw_scores': {'english': {'astroturf': 0.29,\n",
       "   'fake_follower': 0.09,\n",
       "   'financial': 0.06,\n",
       "   'other': 0.18,\n",
       "   'overall': 0.04,\n",
       "   'self_declared': 0.0,\n",
       "   'spammer': 0.0},\n",
       "  'universal': {'astroturf': 0.22,\n",
       "   'fake_follower': 0.12,\n",
       "   'financial': 0.07,\n",
       "   'other': 0.15,\n",
       "   'overall': 0.06,\n",
       "   'self_declared': 0.0,\n",
       "   'spammer': 0.0}},\n",
       " 'user': {'majority_lang': 'en',\n",
       "  'user_data': {'id_str': '924224208', 'screen_name': 'jaybluuee'}}}"
      ]
     },
     "execution_count": 52,
     "metadata": {},
     "output_type": "execute_result"
    }
   ],
   "source": [
    "a[1]"
   ]
  },
  {
   "cell_type": "code",
   "execution_count": 49,
   "metadata": {},
   "outputs": [
    {
     "data": {
      "text/plain": [
       "[3981225735,\n",
       " 1924071992,\n",
       " 924224208,\n",
       " 170735298,\n",
       " 115563859,\n",
       " 839300788702875648,\n",
       " 187286731,\n",
       " 803984530700910592,\n",
       " 432703985,\n",
       " 96838049,\n",
       " 22289130,\n",
       " 1336826635,\n",
       " 600061917,\n",
       " 259132164,\n",
       " 818231382,\n",
       " 284236188,\n",
       " 184383206,\n",
       " 2316246829,\n",
       " 807095,\n",
       " 1266239359,\n",
       " 3995778614,\n",
       " 571135299,\n",
       " 1367140224,\n",
       " 1170769933,\n",
       " 4041846647,\n",
       " 2505411212,\n",
       " 1102665366,\n",
       " 22084427,\n",
       " 227128602,\n",
       " 221557378,\n",
       " 704876221197193216,\n",
       " 15317676,\n",
       " 500391228,\n",
       " 1260181622,\n",
       " 22162379,\n",
       " 14849146,\n",
       " 2884176405,\n",
       " 2411569569,\n",
       " 2411569569,\n",
       " 235709466,\n",
       " 110855805,\n",
       " 554987162,\n",
       " 192529611,\n",
       " 1329515617,\n",
       " 554888488,\n",
       " 1367140224,\n",
       " 53159918,\n",
       " 714647220268744704,\n",
       " 1732751822,\n",
       " 16973333,\n",
       " 1893751014,\n",
       " 4480863626,\n",
       " 166329578,\n",
       " 608471241,\n",
       " 724755152515829760,\n",
       " 128796694,\n",
       " 607558430,\n",
       " 124954456,\n",
       " 4864871778,\n",
       " 19874344,\n",
       " 580312540,\n",
       " 1909350781,\n",
       " 17756195,\n",
       " 304761097,\n",
       " 350362817,\n",
       " 4173349815,\n",
       " 487600344,\n",
       " 177584156,\n",
       " 2682013394,\n",
       " 4236806414,\n",
       " 18545481,\n",
       " 2255785398,\n",
       " 4833119038,\n",
       " 2416940856,\n",
       " 457820209,\n",
       " 30528628,\n",
       " 3314758074,\n",
       " 68450683,\n",
       " 339060259,\n",
       " 728733298373988352,\n",
       " 231124010,\n",
       " 3389134989,\n",
       " 1038821832,\n",
       " 2466008792,\n",
       " 370243466,\n",
       " 3323100684,\n",
       " 68450683,\n",
       " 578090036,\n",
       " 2206912764,\n",
       " 265891353,\n",
       " 4823097016,\n",
       " 399774230,\n",
       " 4832357954,\n",
       " 25224960,\n",
       " 25224960,\n",
       " 3380835143,\n",
       " 4909226006,\n",
       " 1969346438,\n",
       " 3951682217,\n",
       " 159655623,\n",
       " 22064592,\n",
       " 185635130,\n",
       " 437208886,\n",
       " 4664372353,\n",
       " 204872032,\n",
       " 440817801,\n",
       " 205757668,\n",
       " 443924415,\n",
       " 18545481,\n",
       " 66837697,\n",
       " 27789999,\n",
       " 27789999,\n",
       " 27789999,\n",
       " 3411313300,\n",
       " 19131322,\n",
       " 85831860,\n",
       " 2908170952,\n",
       " 145359341,\n",
       " 312149882,\n",
       " 1449488359,\n",
       " 4704367111,\n",
       " 136166272,\n",
       " 2490661603,\n",
       " 561654065,\n",
       " 163995557,\n",
       " 27413161,\n",
       " 126009130,\n",
       " 126009130,\n",
       " 18545481,\n",
       " 18545481,\n",
       " 18545481,\n",
       " 145359341,\n",
       " 162114552,\n",
       " 3588258014,\n",
       " 944470134,\n",
       " 1678775311,\n",
       " 201727015,\n",
       " 705607964007108608,\n",
       " 222519463,\n",
       " 533666781,\n",
       " 52136185,\n",
       " 586206240,\n",
       " 3225287206,\n",
       " 49452556,\n",
       " 904789082,\n",
       " 732615765476564992,\n",
       " 2665438183,\n",
       " 944470134,\n",
       " 1713036884,\n",
       " 500391228,\n",
       " 485373368,\n",
       " 59615269,\n",
       " 295988417,\n",
       " 2695447915,\n",
       " 561654065,\n",
       " 2840452198,\n",
       " 561654065,\n",
       " 1425679045,\n",
       " 33170847,\n",
       " 82447359,\n",
       " 3995778614,\n",
       " 1605994580,\n",
       " 245687348,\n",
       " 21833728,\n",
       " 82447359,\n",
       " 200811254,\n",
       " 269576133,\n",
       " 361275163,\n",
       " 2847859818,\n",
       " 4726885214,\n",
       " 54065567,\n",
       " 54065567,\n",
       " 2686313414,\n",
       " 2975669439,\n",
       " 300497193,\n",
       " 361275163,\n",
       " 3307295642,\n",
       " 2875780737,\n",
       " 222519463,\n",
       " 705890784319377408,\n",
       " 17350532,\n",
       " 304543369,\n",
       " 1849938847,\n",
       " 2600602135,\n",
       " 59615269,\n",
       " 195271137,\n",
       " 2600602135,\n",
       " 2914451594,\n",
       " 3974665634,\n",
       " 729022640313106432,\n",
       " 2600602135,\n",
       " 104051619,\n",
       " 2600602135,\n",
       " 2600602135,\n",
       " 1430455554,\n",
       " 21343120,\n",
       " 1941136946,\n",
       " 2600602135,\n",
       " 421344061,\n",
       " 713005707470069760,\n",
       " 49685124,\n",
       " 3020425427,\n",
       " 297191567,\n",
       " 4883470551,\n",
       " 4883470551,\n",
       " 555475580,\n",
       " 705890784319377408,\n",
       " 25066686,\n",
       " 726627971490934784,\n",
       " 359196437,\n",
       " 4883470551,\n",
       " 487013912,\n",
       " 4883470551,\n",
       " 727308523139272704,\n",
       " 705532607790870528,\n",
       " 4883470551,\n",
       " 706429945258463232,\n",
       " 4883470551,\n",
       " 289118612,\n",
       " 4883470551,\n",
       " 60207798,\n",
       " 4883470551,\n",
       " 4914495876,\n",
       " 60207798,\n",
       " 21773704,\n",
       " 71272041,\n",
       " 194521859,\n",
       " 2902181749,\n",
       " 4883470551,\n",
       " 634676291,\n",
       " 4883470551,\n",
       " 4883470551,\n",
       " 843066685,\n",
       " 141711305,\n",
       " 3974665634,\n",
       " 4883470551,\n",
       " 4883470551,\n",
       " 2457085861,\n",
       " 4883470551,\n",
       " 14294848,\n",
       " 2421067430,\n",
       " 374116640,\n",
       " 279390084,\n",
       " 19943761,\n",
       " 30681036,\n",
       " 594886554,\n",
       " 594886554,\n",
       " 15226811,\n",
       " 723167125272027136,\n",
       " 312149882,\n",
       " 3018828006,\n",
       " 59241915,\n",
       " 14211510,\n",
       " 170357723,\n",
       " 15012486,\n",
       " 126009130,\n",
       " 161132591,\n",
       " 3567446177,\n",
       " 2982225709,\n",
       " 18363962,\n",
       " 542318578,\n",
       " 158619022,\n",
       " 121493492,\n",
       " 18564980,\n",
       " 109484669,\n",
       " 18643437,\n",
       " 3311629271,\n",
       " 32272710,\n",
       " 796261392,\n",
       " 18240386,\n",
       " 146928495,\n",
       " 77324226,\n",
       " 1735969045,\n",
       " 16267083,\n",
       " 2560466682,\n",
       " 378016563,\n",
       " 213795411,\n",
       " 414174068,\n",
       " 177584156,\n",
       " 88989613,\n",
       " 31341662,\n",
       " 71875415,\n",
       " 401657173,\n",
       " 275276082,\n",
       " 719198026909290496,\n",
       " 38570287,\n",
       " 554316017,\n",
       " 944470134,\n",
       " 891073250,\n",
       " 90194079,\n",
       " 709920419529281536,\n",
       " 753573418507743232,\n",
       " 94818581,\n",
       " 26652733,\n",
       " 3314758074,\n",
       " 3903128778,\n",
       " 149679293,\n",
       " 714513049,\n",
       " 98229878,\n",
       " 3308560736,\n",
       " 385194334,\n",
       " 2570615502,\n",
       " 319373700,\n",
       " 362798863,\n",
       " 330378192,\n",
       " 291874773,\n",
       " 118867974,\n",
       " 28587919,\n",
       " 16208276,\n",
       " 238053427,\n",
       " 175954697,\n",
       " 600195366,\n",
       " 525676041,\n",
       " 918230042,\n",
       " 1269583296,\n",
       " 345253262,\n",
       " 32133117,\n",
       " 4496819788,\n",
       " 14294848,\n",
       " 108172069,\n",
       " 33156354,\n",
       " 17427779,\n",
       " 3389073989,\n",
       " 3020168556,\n",
       " 1969346438,\n",
       " 4236806414,\n",
       " 470438993,\n",
       " 21833728,\n",
       " 82447359,\n",
       " 45302174,\n",
       " 272114651,\n",
       " 15976697,\n",
       " 33529092,\n",
       " 1247921690,\n",
       " 278781274,\n",
       " 47534393,\n",
       " 61759552,\n",
       " 707288641995939840,\n",
       " 306097862,\n",
       " 43283406,\n",
       " 352145373,\n",
       " 43296233,\n",
       " 3698501,\n",
       " 561654065,\n",
       " 741814929842405376,\n",
       " 18764841,\n",
       " 19062754,\n",
       " 3520122318,\n",
       " 14546264,\n",
       " 2604924327,\n",
       " 338613723,\n",
       " 15150453,\n",
       " 16027904,\n",
       " 18210263,\n",
       " 3974665634,\n",
       " 3974665634,\n",
       " 177584156,\n",
       " 3685459885,\n",
       " 1620343501,\n",
       " 764644970,\n",
       " 726148842,\n",
       " 756487123650260992,\n",
       " 792788359,\n",
       " 184997446,\n",
       " 706656042327801856,\n",
       " 722787662214483968,\n",
       " 1541810258,\n",
       " 4068318254,\n",
       " 2725381381,\n",
       " 21343120,\n",
       " 275276082,\n",
       " 323208365,\n",
       " 233933230,\n",
       " 55976150,\n",
       " 90804267,\n",
       " 2570615502,\n",
       " 208996041,\n",
       " 133478732,\n",
       " 39578387,\n",
       " 316739994,\n",
       " 3308560736,\n",
       " 39308549,\n",
       " 2845253645,\n",
       " 2750334224,\n",
       " 264268489,\n",
       " 39349894,\n",
       " 42822396,\n",
       " 21458842,\n",
       " 88243144,\n",
       " 1426907185,\n",
       " 2332264339,\n",
       " 104513680,\n",
       " 618563,\n",
       " 264361128,\n",
       " 34917150,\n",
       " 752961357113200640,\n",
       " 59817827,\n",
       " 398919818,\n",
       " 715496304777015296,\n",
       " 347627434,\n",
       " 707077738620780544,\n",
       " 742446825337028608,\n",
       " 9300262,\n",
       " 704034081898668032,\n",
       " 1374585606,\n",
       " 718983299608129536,\n",
       " 584177882,\n",
       " 9300262,\n",
       " 721185346797572096,\n",
       " 67899097,\n",
       " 2499109494,\n",
       " 2796929687,\n",
       " 292929271,\n",
       " 2269567158,\n",
       " 2393098723,\n",
       " 709920419529281536,\n",
       " 4784596178,\n",
       " 4236806414,\n",
       " 494624290,\n",
       " 561654065,\n",
       " 1599141961,\n",
       " 17860906,\n",
       " 2839030037,\n",
       " 4226960114,\n",
       " 743688372460216320,\n",
       " 118496889,\n",
       " 2915156131,\n",
       " 166329578,\n",
       " 4676548814,\n",
       " 4197546072,\n",
       " 88494677,\n",
       " 608471241,\n",
       " 608471241,\n",
       " 325164172,\n",
       " 26672170,\n",
       " 177584156,\n",
       " 2801177472,\n",
       " 95995039,\n",
       " 126009130,\n",
       " 126009130,\n",
       " 399774230,\n",
       " 972255098,\n",
       " 1917731,\n",
       " 65854394,\n",
       " 741589503102570496,\n",
       " 1917731,\n",
       " 2244290719,\n",
       " 701655880920510464,\n",
       " 2793194082,\n",
       " 18301196,\n",
       " 1496756359,\n",
       " 430118889,\n",
       " 15164565,\n",
       " 3697285157,\n",
       " 2923563766,\n",
       " 2923563766,\n",
       " 1375629385,\n",
       " 1325018372,\n",
       " 25975551,\n",
       " 22722452,\n",
       " 374284455,\n",
       " 49035775,\n",
       " 48421473,\n",
       " 428713002,\n",
       " 3407847574,\n",
       " 18545481,\n",
       " 15164565,\n",
       " 47652227,\n",
       " 78523300,\n",
       " 361275163,\n",
       " 495622651,\n",
       " 19098324,\n",
       " 421275603,\n",
       " 177584156,\n",
       " 361275163,\n",
       " 28905454,\n",
       " 15164565,\n",
       " 4429709805,\n",
       " 1496756359,\n",
       " 766797410,\n",
       " 15164565,\n",
       " 548172120,\n",
       " 2241227238,\n",
       " 15164565,\n",
       " 30456403,\n",
       " 248692627,\n",
       " 28048355,\n",
       " 18545481,\n",
       " 1917731,\n",
       " 138742761,\n",
       " 289118612,\n",
       " 15706904,\n",
       " 865636782,\n",
       " 2291904432,\n",
       " 3103091745,\n",
       " 3047937393,\n",
       " 167796615,\n",
       " 14511951,\n",
       " 49452556,\n",
       " 3974665634,\n",
       " 1018491630,\n",
       " 537904539,\n",
       " 2374469136,\n",
       " 3433022621,\n",
       " 585465795,\n",
       " 2883533651,\n",
       " 16955991,\n",
       " 547969112,\n",
       " 272114651,\n",
       " 936148682,\n",
       " 728635523816775680,\n",
       " 547969112,\n",
       " 67899097,\n",
       " 547969112,\n",
       " 3047377314,\n",
       " 759179340307243008,\n",
       " 1367531,\n",
       " 361275163,\n",
       " 399717630,\n",
       " 9369062,\n",
       " 762252876,\n",
       " 582135529,\n",
       " 851866178,\n",
       " 608471241,\n",
       " 331825712,\n",
       " 733808069440741376,\n",
       " 3995778614,\n",
       " 3390416469,\n",
       " 1367531,\n",
       " 754135908,\n",
       " 890302164,\n",
       " 81602176,\n",
       " 728979362775638016,\n",
       " 553998793,\n",
       " 157054921,\n",
       " 2255424079,\n",
       " 547969112,\n",
       " 2875990472,\n",
       " 2316246829,\n",
       " 758313715695427584,\n",
       " 758313715695427584,\n",
       " 25446957,\n",
       " 86963075,\n",
       " 715357604961263616,\n",
       " 140638292,\n",
       " 2801177472,\n",
       " 2801177472,\n",
       " 1976799128,\n",
       " 421460415,\n",
       " 2775579278,\n",
       " 3974665634,\n",
       " 1482516500,\n",
       " 750399805851963392,\n",
       " 43413425,\n",
       " 43308598,\n",
       " 3066008697,\n",
       " 18195110,\n",
       " 40246348,\n",
       " 2793800587,\n",
       " 802722056,\n",
       " 43308598,\n",
       " 402985469,\n",
       " 4897543230,\n",
       " 865538113,\n",
       " 2972410695,\n",
       " 2998466930,\n",
       " 4182512297,\n",
       " 30067748,\n",
       " 71359942,\n",
       " 277090518,\n",
       " 65003619,\n",
       " 753806066052235264,\n",
       " 705333567543504896,\n",
       " 2998441830,\n",
       " 3308110350,\n",
       " 4796678896,\n",
       " 2441304533,\n",
       " 561654065,\n",
       " 3034834939,\n",
       " 261035490,\n",
       " 4851276082,\n",
       " 370513594,\n",
       " 15854008,\n",
       " 2226870793,\n",
       " 971176056,\n",
       " 4240150034,\n",
       " 561654065,\n",
       " 332433520,\n",
       " 2416597188,\n",
       " 2416597188,\n",
       " 17094311,\n",
       " 543452426,\n",
       " 4846395737,\n",
       " 3220025137,\n",
       " 753753493622628352,\n",
       " 18002528,\n",
       " 16444868,\n",
       " 3433002136,\n",
       " 743651896578060288,\n",
       " 21833728,\n",
       " 50010587,\n",
       " 835328618,\n",
       " 297457814,\n",
       " 620872388,\n",
       " 3139537490,\n",
       " 60370335,\n",
       " 1225818590,\n",
       " 234841289,\n",
       " 2891102076,\n",
       " 702174406739685376,\n",
       " 57912099,\n",
       " 732445833682018304,\n",
       " 732445833682018304,\n",
       " 2904671027,\n",
       " 322674930,\n",
       " 65003619,\n",
       " 4543053312,\n",
       " 42158021,\n",
       " 279208035,\n",
       " 180511021,\n",
       " 311241090,\n",
       " 15359578,\n",
       " 20826129,\n",
       " 4700477725,\n",
       " 371142734,\n",
       " 24638062,\n",
       " 45291573,\n",
       " 552410408,\n",
       " 20295763,\n",
       " 1564676498,\n",
       " 17343602,\n",
       " 552983877,\n",
       " 18561223,\n",
       " 14787713,\n",
       " 1568498256,\n",
       " 752493806,\n",
       " 516093774,\n",
       " 28905454,\n",
       " 2747259456,\n",
       " 224268822,\n",
       " 17232340,\n",
       " 3359243787,\n",
       " 75974281,\n",
       " 233933230,\n",
       " 233933230,\n",
       " 479068816,\n",
       " 2892976359,\n",
       " 19908848,\n",
       " 4237277387,\n",
       " 3359243787,\n",
       " 284104234,\n",
       " 3592503441,\n",
       " 905530344,\n",
       " 19899980,\n",
       " 600061917,\n",
       " 221452291,\n",
       " 4765012532,\n",
       " 15671833,\n",
       " 1530853626,\n",
       " 24395228,\n",
       " 343171160,\n",
       " 2908170952,\n",
       " 251913645,\n",
       " 709920419529281536,\n",
       " 431198790,\n",
       " 90285099,\n",
       " 2299826742,\n",
       " 142077688,\n",
       " 1213274119,\n",
       " 608471241,\n",
       " 561654065,\n",
       " 15368940,\n",
       " 2740452163,\n",
       " 25446957,\n",
       " 70773048,\n",
       " 706176697440276480,\n",
       " 759251,\n",
       " 50881405,\n",
       " 1356123823,\n",
       " 716260246109483008,\n",
       " 3202808548,\n",
       " 150059501,\n",
       " 565008398,\n",
       " 56192739,\n",
       " 751095331408973824,\n",
       " 2900220088,\n",
       " 1652687708,\n",
       " 704034081898668032,\n",
       " 37315032,\n",
       " 632171886,\n",
       " 124199238,\n",
       " 3589464580,\n",
       " 542962969,\n",
       " 2421067430,\n",
       " 704363061013057536,\n",
       " 2910776820,\n",
       " 1096411117,\n",
       " 3124454195,\n",
       " 4760647532,\n",
       " 38367188,\n",
       " 605448008,\n",
       " 83788240,\n",
       " 374284455,\n",
       " 22798141,\n",
       " 2818206308,\n",
       " 2382281029,\n",
       " 415256606,\n",
       " 1966026648,\n",
       " 893470729,\n",
       " 2953422203,\n",
       " 167363471,\n",
       " 291874773,\n",
       " 44103717,\n",
       " 28670599,\n",
       " 739567626511388672,\n",
       " 200656602,\n",
       " 31801993,\n",
       " 703230673776197632,\n",
       " 146928495,\n",
       " 729096352676782080,\n",
       " 1643634444,\n",
       " 246377722,\n",
       " 3407847574,\n",
       " 21845346,\n",
       " 385075625,\n",
       " 29465136,\n",
       " 13148382,\n",
       " 4851276082,\n",
       " 3416492723,\n",
       " 3359243787,\n",
       " 9611592,\n",
       " 739080916610342912,\n",
       " 34367582,\n",
       " 28007091,\n",
       " 3124454195,\n",
       " 26579739,\n",
       " 76373,\n",
       " 758049168690642944,\n",
       " 963176808,\n",
       " 19193016,\n",
       " 3381686297,\n",
       " 93493910,\n",
       " 3313143320,\n",
       " 2610081858,\n",
       " 4646073148,\n",
       " 344729527,\n",
       " 32951070,\n",
       " 37013920,\n",
       " 23116280,\n",
       " 25197377,\n",
       " 33228837,\n",
       " 4242905298,\n",
       " 18637247,\n",
       " 714949505720823808,\n",
       " 872954089,\n",
       " 437352926,\n",
       " 23004495,\n",
       " 4361249533,\n",
       " 156377910,\n",
       " 4452560741,\n",
       " 273951517,\n",
       " 264493607,\n",
       " 760130823374843904,\n",
       " 118845216,\n",
       " 232333397,\n",
       " 414873541,\n",
       " 3723723982,\n",
       " 824391878,\n",
       " 450213974,\n",
       " 890302164,\n",
       " 29059784,\n",
       " 709144993,\n",
       " 15104164,\n",
       " 289118612,\n",
       " 3314963469,\n",
       " 21833728,\n",
       " 796261392,\n",
       " 227010728,\n",
       " 196109220,\n",
       " 582414351,\n",
       " 340968277,\n",
       " 1969346438,\n",
       " 13804112,\n",
       " 739567626511388672,\n",
       " 835328618,\n",
       " 164523117,\n",
       " 446228264,\n",
       " 39344374,\n",
       " 757749684580519936,\n",
       " 515542297,\n",
       " 41265813,\n",
       " 78523300,\n",
       " 18643437,\n",
       " 232201971,\n",
       " 801071388,\n",
       " 3539755636,\n",
       " 1367531,\n",
       " 1564676498,\n",
       " 4901489212,\n",
       " 704034081898668032,\n",
       " 22630309,\n",
       " 46520074,\n",
       " 17895820,\n",
       " 14412533,\n",
       " 1917731,\n",
       " 1080576949,\n",
       " 492833134,\n",
       " 65132037,\n",
       " 1735546184,\n",
       " 765091605472698368,\n",
       " 743142244706848768,\n",
       " 107012365,\n",
       " 237623215,\n",
       " 865187658,\n",
       " 621110318,\n",
       " 25197377,\n",
       " 739567626511388672,\n",
       " 1462579488,\n",
       " 430905373,\n",
       " 20854637,\n",
       " 25832979,\n",
       " 1200713864,\n",
       " 758809594936238080,\n",
       " 758809594936238080,\n",
       " 374284455,\n",
       " 25197377,\n",
       " 172394944,\n",
       " 910332056,\n",
       " 34163521,\n",
       " 1537048512,\n",
       " 715650695647637504,\n",
       " 1513958744,\n",
       " 727578244841639936,\n",
       " 713832622808412160,\n",
       " 4855687055,\n",
       " 3558102739,\n",
       " 695365245376696320,\n",
       " 28869089,\n",
       " 54065567,\n",
       " 54065567,\n",
       " 746367431388585984,\n",
       " 746367431388585984,\n",
       " 3166217539,\n",
       " 3329997245,\n",
       " 765091605472698368,\n",
       " 317223956,\n",
       " 1849938847,\n",
       " 1148951203,\n",
       " 138581916,\n",
       " 2953617710,\n",
       " 49685124,\n",
       " 169536421,\n",
       " 3124454195,\n",
       " 2830167800,\n",
       " 141642957,\n",
       " 710829502843064320,\n",
       " 30265457,\n",
       " 561654065,\n",
       " 16887175,\n",
       " 730786518848159744,\n",
       " 22677397,\n",
       " 2353703503,\n",
       " 21248626,\n",
       " 17395207,\n",
       " 144130505,\n",
       " 17529294,\n",
       " 52801677,\n",
       " 742923442471763968,\n",
       " 3697721113,\n",
       " 2584482763,\n",
       " 20944649,\n",
       " 773520163396325376,\n",
       " 20889358,\n",
       " 67095221,\n",
       " 767036004,\n",
       " 765091605472698368,\n",
       " 176914461,\n",
       " 78569026,\n",
       " 331747494,\n",
       " 2316246829,\n",
       " 361275163,\n",
       " 2364837974,\n",
       " 1242465014,\n",
       " 289118612,\n",
       " 568143078,\n",
       " 758313715695427584,\n",
       " 18195110,\n",
       " 765091605472698368,\n",
       " 1289704663,\n",
       " 754086125917106176,\n",
       " 1371572360,\n",
       " 769297227957141504,\n",
       " 3610264154,\n",
       " 27211961,\n",
       " 723387344175296512,\n",
       " 151375368,\n",
       " 767587128524013568,\n",
       " 35677844,\n",
       " 936304345,\n",
       " 19195442,\n",
       " 744281884310405120,\n",
       " 3389134989,\n",
       " 3019417439,\n",
       " 10735392,\n",
       " 3362345172,\n",
       " 33388399,\n",
       " 341688336,\n",
       " 231641765,\n",
       " 3394911915,\n",
       " 2902031256,\n",
       " 3297022953,\n",
       " 455288410,\n",
       " 219815601,\n",
       " 374284455,\n",
       " 2684196134,\n",
       " 865636782,\n",
       " 126009130,\n",
       " 126009130,\n",
       " 126009130,\n",
       " 126009130,\n",
       " 126009130,\n",
       " 126009130,\n",
       " 126009130,\n",
       " 126009130,\n",
       " 126009130,\n",
       " 126009130,\n",
       " 126009130,\n",
       " 126009130,\n",
       " 126009130,\n",
       " 126009130,\n",
       " 126009130,\n",
       " 126009130,\n",
       " 126009130,\n",
       " 126009130,\n",
       " 126009130,\n",
       " 325893346,\n",
       " 126009130,\n",
       " 126009130,\n",
       " 126009130,\n",
       " 126009130,\n",
       " 126009130,\n",
       " 126009130,\n",
       " 126009130,\n",
       " 126009130,\n",
       " 18132806,\n",
       " 3057650044,\n",
       " 972651,\n",
       " 865636782,\n",
       " 1353347065,\n",
       " 767587128524013568,\n",
       " 3686488635,\n",
       " 3002739417,\n",
       " 1183779272,\n",
       " 1309391066,\n",
       " 4334047641,\n",
       " 42371615,\n",
       " 3930608896,\n",
       " 21773704,\n",
       " 399774230,\n",
       " 758076297876602880,\n",
       " 2911587582,\n",
       " 735624304050593792,\n",
       " 4240150034,\n",
       " 16674128,\n",
       " 14441020,\n",
       " 30265457,\n",
       " 1326707346,\n",
       " 908933376,\n",
       " 124185033,\n",
       " 2451462137,\n",
       " 2417586104,\n",
       " 2344571893,\n",
       " 3340267793,\n",
       " 902851051,\n",
       " 1339835893,\n",
       " 36196526,\n",
       " 6563122,\n",
       " 4345493055,\n",
       " 1851877248,\n",
       " 90573210,\n",
       " 118845216,\n",
       " 172032623,\n",
       " 2786693552,\n",
       " 755726522,\n",
       " 2788642796,\n",
       " 340660967,\n",
       " 22141405,\n",
       " 4194141941,\n",
       " 115772421,\n",
       " 22714413,\n",
       " 97082147,\n",
       " 63514682,\n",
       " 1027392638,\n",
       " 259509924,\n",
       " 762658215850971136,\n",
       " 214112621,\n",
       " 15511737,\n",
       " 758313715695427584,\n",
       " 20065936,\n",
       " 704795920433414144,\n",
       " ...]"
      ]
     },
     "execution_count": 49,
     "metadata": {},
     "output_type": "execute_result"
    }
   ],
   "source": [
    "accounts"
   ]
  },
  {
   "cell_type": "code",
   "execution_count": null,
   "metadata": {},
   "outputs": [],
   "source": [
    "\"@clayadavis\"\n",
    "[1548959833]"
   ]
  },
  {
   "cell_type": "code",
   "execution_count": null,
   "metadata": {},
   "outputs": [],
   "source": [
    "pip install git+https://github.com/tweepy/tweepy.git\n"
   ]
  },
  {
   "cell_type": "code",
   "execution_count": null,
   "metadata": {},
   "outputs": [],
   "source": [
    "accounts = snopes.original_id.tolist()\n",
    "\n"
   ]
  },
  {
   "cell_type": "code",
   "execution_count": null,
   "metadata": {},
   "outputs": [],
   "source": [
    "import tweepy\n",
    "from tqdm import tqdm\n",
    "\n",
    "from time import sleep\n",
    "\n",
    "consumer_key, consumer_secret = \"uHktObbiyJpGoLUaENXdpUWyj\", \"DLoJ8VRhFUK4GQeo3XUP2LGaSN4D7a2mAZqSKlRQshr6N0Ru1r\"\n",
    "access_token, access_token_secret = \"4121890515-8wV0UlTyu9hFzJL9d8NBU6BY24STUtS7zFeAcel\", \"vfnDrkEUAHtVayGJDZxau18mPjG4CuyB2JW6sG0xeYFGs\"\n",
    "\n",
    "\n",
    "bearer_token = \"AAAAAAAAAAAAAAAAAAAAAD%2FZWwEAAAAA3Kiamz2egng9VKNdyiCM9%2BFUsrM%3DPS7mSlp9wPQ0BHX5inmPmOJBFrwevMrbEV4e9R10rEeU2DwaJt\"\n",
    "\n",
    "\n",
    "auth = tweepy.OAuthHandler(consumer_key, consumer_secret)\n",
    "auth.set_access_token(access_token, access_token_secret)\n",
    "\n",
    "client = tweepy.Client(bearer_token)\n",
    "# client = tweepy.Client(auth)\n",
    "\n",
    "# client = tweepy.Client(\n",
    "#     consumer_key=consumer_key, consumer_secret=consumer_secret,\n",
    "#     access_token=access_token, access_token_secret=access_token_secret\n",
    "# )\n",
    "\n",
    "# snopes[\"acc_id\"] = None\n",
    "\n",
    "\n",
    "for i, account in tqdm(enumerate(accounts)):\n",
    "    \n",
    "    if i<7250: continue\n",
    "    \n",
    "    if i % 250 == 0:\n",
    "        sleep(900)\n",
    "    try:\n",
    "        response = client.get_tweet(id=account, expansions='author_id')\n",
    "    except Exception as e:\n",
    "        print(\"Cant get tweet -----------> \", e)\n",
    "    \n",
    "    if response.data:\n",
    "        try:\n",
    "            snopes.loc[i, \"acc_id\"] = response.includes[\"users\"][0].id\n",
    "        except Exception as e:\n",
    "            snopes.loc[i, \"acc_id\"] = None\n",
    "            print(\"Cant append to df :/ ----------> \", e)"
   ]
  },
  {
   "cell_type": "code",
   "execution_count": null,
   "metadata": {},
   "outputs": [],
   "source": []
  },
  {
   "cell_type": "code",
   "execution_count": 10,
   "metadata": {},
   "outputs": [],
   "source": [
    "# snopes.to_csv(\"snopes_acc.csv\", index=False)"
   ]
  },
  {
   "cell_type": "code",
   "execution_count": null,
   "metadata": {},
   "outputs": [],
   "source": [
    "first_100 = str(accounts[:100]).replace(\"[\", \"\").replace(\"]\", \"\").replace(\" \", \"\")"
   ]
  },
  {
   "cell_type": "code",
   "execution_count": 31,
   "metadata": {},
   "outputs": [
    {
     "data": {
      "text/plain": [
       "[3981225735.0,\n",
       " 1924071992.0,\n",
       " 924224208.0,\n",
       " 170735298.0,\n",
       " 115563859.0,\n",
       " 8.393007887028756e+17,\n",
       " 187286731.0,\n",
       " 8.039845307009106e+17,\n",
       " 432703985.0,\n",
       " 96838049.0,\n",
       " 22289130.0,\n",
       " 1336826635.0,\n",
       " 600061917.0,\n",
       " 259132164.0,\n",
       " 818231382.0,\n",
       " 284236188.0,\n",
       " 184383206.0,\n",
       " 2316246829.0,\n",
       " 807095.0,\n",
       " 1266239359.0,\n",
       " 3995778614.0,\n",
       " 571135299.0,\n",
       " 1367140224.0,\n",
       " 1170769933.0,\n",
       " 4041846647.0,\n",
       " 2505411212.0,\n",
       " 1102665366.0,\n",
       " 22084427.0,\n",
       " 227128602.0,\n",
       " 221557378.0,\n",
       " 7.048762211971932e+17,\n",
       " 15317676.0,\n",
       " 500391228.0,\n",
       " 1260181622.0,\n",
       " 22162379.0,\n",
       " 14849146.0,\n",
       " 2884176405.0,\n",
       " 2411569569.0,\n",
       " 2411569569.0,\n",
       " 235709466.0,\n",
       " 110855805.0,\n",
       " 554987162.0,\n",
       " 192529611.0,\n",
       " 1329515617.0,\n",
       " 554888488.0,\n",
       " 1367140224.0,\n",
       " 53159918.0,\n",
       " 7.146472202687447e+17,\n",
       " 1732751822.0,\n",
       " 16973333.0,\n",
       " 1893751014.0,\n",
       " 4480863626.0,\n",
       " 166329578.0,\n",
       " 608471241.0,\n",
       " 7.247551525158298e+17,\n",
       " 128796694.0,\n",
       " 607558430.0,\n",
       " 124954456.0,\n",
       " 4864871778.0,\n",
       " 19874344.0,\n",
       " 580312540.0,\n",
       " 1909350781.0,\n",
       " 17756195.0,\n",
       " 304761097.0,\n",
       " 350362817.0,\n",
       " 4173349815.0,\n",
       " 487600344.0,\n",
       " 177584156.0,\n",
       " 2682013394.0,\n",
       " 4236806414.0,\n",
       " 18545481.0,\n",
       " 2255785398.0,\n",
       " 4833119038.0,\n",
       " 2416940856.0,\n",
       " 457820209.0,\n",
       " 30528628.0,\n",
       " 3314758074.0,\n",
       " 68450683.0,\n",
       " 339060259.0,\n",
       " 7.287332983739884e+17,\n",
       " 231124010.0,\n",
       " 3389134989.0,\n",
       " 1038821832.0,\n",
       " 2466008792.0,\n",
       " 370243466.0,\n",
       " 3323100684.0,\n",
       " 68450683.0,\n",
       " 578090036.0,\n",
       " 2206912764.0,\n",
       " 265891353.0,\n",
       " 4823097016.0,\n",
       " 399774230.0,\n",
       " 4832357954.0,\n",
       " 25224960.0,\n",
       " 25224960.0,\n",
       " 3380835143.0,\n",
       " 4909226006.0,\n",
       " 1969346438.0,\n",
       " 3951682217.0,\n",
       " 159655623.0,\n",
       " 22064592.0,\n",
       " 185635130.0,\n",
       " 437208886.0,\n",
       " 4664372353.0,\n",
       " 204872032.0,\n",
       " 440817801.0,\n",
       " 205757668.0,\n",
       " 443924415.0,\n",
       " 18545481.0,\n",
       " 66837697.0,\n",
       " 27789999.0,\n",
       " 27789999.0,\n",
       " 27789999.0,\n",
       " 3411313300.0,\n",
       " 19131322.0,\n",
       " 85831860.0,\n",
       " 2908170952.0,\n",
       " 145359341.0,\n",
       " 312149882.0,\n",
       " 1449488359.0,\n",
       " 4704367111.0,\n",
       " 136166272.0,\n",
       " 2490661603.0,\n",
       " 561654065.0,\n",
       " 163995557.0,\n",
       " 27413161.0,\n",
       " 126009130.0,\n",
       " 126009130.0,\n",
       " 18545481.0,\n",
       " 18545481.0,\n",
       " 18545481.0,\n",
       " 145359341.0,\n",
       " 162114552.0,\n",
       " 3588258014.0,\n",
       " 944470134.0,\n",
       " 1678775311.0,\n",
       " 201727015.0,\n",
       " 7.056079640071086e+17,\n",
       " 222519463.0,\n",
       " 533666781.0,\n",
       " 52136185.0,\n",
       " 586206240.0,\n",
       " 3225287206.0,\n",
       " 49452556.0,\n",
       " 904789082.0,\n",
       " 7.32615765476565e+17,\n",
       " 2665438183.0,\n",
       " 944470134.0,\n",
       " 1713036884.0,\n",
       " 500391228.0,\n",
       " 485373368.0,\n",
       " 59615269.0,\n",
       " 295988417.0,\n",
       " 2695447915.0,\n",
       " 561654065.0,\n",
       " 2840452198.0,\n",
       " 561654065.0,\n",
       " 1425679045.0,\n",
       " 33170847.0,\n",
       " 82447359.0,\n",
       " 3995778614.0,\n",
       " 1605994580.0,\n",
       " 245687348.0,\n",
       " 21833728.0,\n",
       " 82447359.0,\n",
       " 200811254.0,\n",
       " 269576133.0,\n",
       " 361275163.0,\n",
       " 2847859818.0,\n",
       " 4726885214.0,\n",
       " 54065567.0,\n",
       " 54065567.0,\n",
       " 2686313414.0,\n",
       " 2975669439.0,\n",
       " 300497193.0,\n",
       " 361275163.0,\n",
       " 3307295642.0,\n",
       " 2875780737.0,\n",
       " 222519463.0,\n",
       " 7.058907843193774e+17,\n",
       " 17350532.0,\n",
       " 304543369.0,\n",
       " 1849938847.0,\n",
       " 2600602135.0,\n",
       " 59615269.0,\n",
       " 195271137.0,\n",
       " 2600602135.0,\n",
       " 2914451594.0,\n",
       " 3974665634.0,\n",
       " 7.290226403131064e+17,\n",
       " 2600602135.0,\n",
       " 104051619.0,\n",
       " 2600602135.0,\n",
       " 2600602135.0,\n",
       " 1430455554.0,\n",
       " 21343120.0,\n",
       " 1941136946.0,\n",
       " 2600602135.0,\n",
       " 421344061.0,\n",
       " 7.130057074700698e+17,\n",
       " 49685124.0,\n",
       " 3020425427.0,\n",
       " 297191567.0,\n",
       " 4883470551.0,\n",
       " 4883470551.0,\n",
       " 555475580.0,\n",
       " 7.058907843193774e+17,\n",
       " 25066686.0,\n",
       " 7.266279714909348e+17,\n",
       " 359196437.0,\n",
       " 4883470551.0,\n",
       " 487013912.0,\n",
       " 4883470551.0,\n",
       " 7.273085231392727e+17,\n",
       " 7.055326077908705e+17,\n",
       " 4883470551.0,\n",
       " 7.064299452584632e+17,\n",
       " 4883470551.0,\n",
       " 289118612.0,\n",
       " 4883470551.0,\n",
       " 60207798.0,\n",
       " 4883470551.0,\n",
       " 4914495876.0,\n",
       " 60207798.0,\n",
       " 21773704.0,\n",
       " 71272041.0,\n",
       " 194521859.0,\n",
       " 2902181749.0,\n",
       " 4883470551.0,\n",
       " 634676291.0,\n",
       " 4883470551.0,\n",
       " 4883470551.0,\n",
       " 843066685.0,\n",
       " 141711305.0,\n",
       " 3974665634.0,\n",
       " 4883470551.0,\n",
       " 4883470551.0,\n",
       " 2457085861.0,\n",
       " 4883470551.0,\n",
       " 14294848.0,\n",
       " 2421067430.0,\n",
       " 374116640.0,\n",
       " 279390084.0,\n",
       " 19943761.0,\n",
       " 30681036.0,\n",
       " 594886554.0,\n",
       " 594886554.0,\n",
       " 15226811.0,\n",
       " 7.231671252720271e+17,\n",
       " 312149882.0,\n",
       " 3018828006.0,\n",
       " 59241915.0,\n",
       " 14211510.0,\n",
       " 170357723.0,\n",
       " 15012486.0,\n",
       " 126009130.0,\n",
       " 161132591.0,\n",
       " 3567446177.0,\n",
       " 2982225709.0,\n",
       " 18363962.0,\n",
       " 542318578.0,\n",
       " 158619022.0,\n",
       " 121493492.0,\n",
       " 18564980.0,\n",
       " 109484669.0,\n",
       " 18643437.0,\n",
       " 3311629271.0,\n",
       " 32272710.0,\n",
       " 796261392.0,\n",
       " 18240386.0,\n",
       " 146928495.0,\n",
       " 77324226.0,\n",
       " 1735969045.0,\n",
       " 16267083.0,\n",
       " 2560466682.0,\n",
       " 378016563.0,\n",
       " 213795411.0,\n",
       " 414174068.0,\n",
       " 177584156.0,\n",
       " 88989613.0,\n",
       " 31341662.0,\n",
       " 71875415.0,\n",
       " 401657173.0,\n",
       " 275276082.0,\n",
       " 7.191980269092905e+17,\n",
       " 38570287.0,\n",
       " 554316017.0,\n",
       " 944470134.0,\n",
       " 891073250.0,\n",
       " 90194079.0,\n",
       " 7.099204195292815e+17,\n",
       " 7.535734185077432e+17,\n",
       " 94818581.0,\n",
       " 26652733.0,\n",
       " 3314758074.0,\n",
       " 3903128778.0,\n",
       " 149679293.0,\n",
       " 714513049.0,\n",
       " 98229878.0,\n",
       " 3308560736.0,\n",
       " 385194334.0,\n",
       " 2570615502.0,\n",
       " 319373700.0,\n",
       " 362798863.0,\n",
       " 330378192.0,\n",
       " 291874773.0,\n",
       " 118867974.0,\n",
       " 28587919.0,\n",
       " 16208276.0,\n",
       " 238053427.0,\n",
       " 175954697.0,\n",
       " 600195366.0,\n",
       " 525676041.0,\n",
       " 918230042.0,\n",
       " 1269583296.0,\n",
       " 345253262.0,\n",
       " 32133117.0,\n",
       " 4496819788.0,\n",
       " 14294848.0,\n",
       " 108172069.0,\n",
       " 33156354.0,\n",
       " 17427779.0,\n",
       " 3389073989.0,\n",
       " 3020168556.0,\n",
       " 1969346438.0,\n",
       " 4236806414.0,\n",
       " 470438993.0,\n",
       " 21833728.0,\n",
       " 82447359.0,\n",
       " 45302174.0,\n",
       " 272114651.0,\n",
       " 15976697.0,\n",
       " 33529092.0,\n",
       " 1247921690.0,\n",
       " 278781274.0,\n",
       " 47534393.0,\n",
       " 61759552.0,\n",
       " 7.072886419959398e+17,\n",
       " 306097862.0,\n",
       " 43283406.0,\n",
       " 352145373.0,\n",
       " 43296233.0,\n",
       " 3698501.0,\n",
       " 561654065.0,\n",
       " 7.418149298424054e+17,\n",
       " 18764841.0,\n",
       " 19062754.0,\n",
       " 3520122318.0,\n",
       " 14546264.0,\n",
       " 2604924327.0,\n",
       " 338613723.0,\n",
       " 15150453.0,\n",
       " 16027904.0,\n",
       " 18210263.0,\n",
       " 3974665634.0,\n",
       " 3974665634.0,\n",
       " 177584156.0,\n",
       " 3685459885.0,\n",
       " 1620343501.0,\n",
       " 764644970.0,\n",
       " 726148842.0,\n",
       " 7.56487123650261e+17,\n",
       " 792788359.0,\n",
       " 184997446.0,\n",
       " 7.066560423278019e+17,\n",
       " 7.22787662214484e+17,\n",
       " 1541810258.0,\n",
       " 4068318254.0,\n",
       " 2725381381.0,\n",
       " 21343120.0,\n",
       " 275276082.0,\n",
       " 323208365.0,\n",
       " 233933230.0,\n",
       " 55976150.0,\n",
       " 90804267.0,\n",
       " 2570615502.0,\n",
       " 208996041.0,\n",
       " 133478732.0,\n",
       " 39578387.0,\n",
       " 316739994.0,\n",
       " 3308560736.0,\n",
       " 39308549.0,\n",
       " 2845253645.0,\n",
       " 2750334224.0,\n",
       " 264268489.0,\n",
       " 39349894.0,\n",
       " 42822396.0,\n",
       " 21458842.0,\n",
       " 88243144.0,\n",
       " 1426907185.0,\n",
       " 2332264339.0,\n",
       " 104513680.0,\n",
       " 618563.0,\n",
       " 264361128.0,\n",
       " 34917150.0,\n",
       " 7.529613571132006e+17,\n",
       " 59817827.0,\n",
       " 398919818.0,\n",
       " 7.154963047770153e+17,\n",
       " 347627434.0,\n",
       " 7.070777386207805e+17,\n",
       " 7.424468253370286e+17,\n",
       " 9300262.0,\n",
       " 7.04034081898668e+17,\n",
       " 1374585606.0,\n",
       " 7.189832996081295e+17,\n",
       " 584177882.0,\n",
       " 9300262.0,\n",
       " 7.211853467975721e+17,\n",
       " 67899097.0,\n",
       " 2499109494.0,\n",
       " 2796929687.0,\n",
       " 292929271.0,\n",
       " 2269567158.0,\n",
       " 2393098723.0,\n",
       " 7.099204195292815e+17,\n",
       " 4784596178.0,\n",
       " 4236806414.0,\n",
       " 494624290.0,\n",
       " 561654065.0,\n",
       " 1599141961.0,\n",
       " 17860906.0,\n",
       " 2839030037.0,\n",
       " 4226960114.0,\n",
       " 7.436883724602163e+17,\n",
       " 118496889.0,\n",
       " 2915156131.0,\n",
       " 166329578.0,\n",
       " 4676548814.0,\n",
       " 4197546072.0,\n",
       " 88494677.0,\n",
       " 608471241.0,\n",
       " 608471241.0,\n",
       " 325164172.0,\n",
       " 26672170.0,\n",
       " 177584156.0,\n",
       " 2801177472.0,\n",
       " 95995039.0,\n",
       " 126009130.0,\n",
       " 126009130.0,\n",
       " 399774230.0,\n",
       " 972255098.0,\n",
       " 1917731.0,\n",
       " 65854394.0,\n",
       " 7.415895031025705e+17,\n",
       " 1917731.0,\n",
       " 2244290719.0,\n",
       " 7.016558809205105e+17,\n",
       " 2793194082.0,\n",
       " 18301196.0,\n",
       " 1496756359.0,\n",
       " 430118889.0,\n",
       " 15164565.0,\n",
       " 3697285157.0,\n",
       " 2923563766.0,\n",
       " 2923563766.0,\n",
       " 1375629385.0,\n",
       " 1325018372.0,\n",
       " 25975551.0,\n",
       " 22722452.0,\n",
       " 374284455.0,\n",
       " 49035775.0,\n",
       " 48421473.0,\n",
       " 428713002.0,\n",
       " 3407847574.0,\n",
       " 18545481.0,\n",
       " 15164565.0,\n",
       " 47652227.0,\n",
       " 78523300.0,\n",
       " 361275163.0,\n",
       " 495622651.0,\n",
       " 19098324.0,\n",
       " 421275603.0,\n",
       " 177584156.0,\n",
       " 361275163.0,\n",
       " 28905454.0,\n",
       " 15164565.0,\n",
       " 4429709805.0,\n",
       " 1496756359.0,\n",
       " 766797410.0,\n",
       " 15164565.0,\n",
       " 548172120.0,\n",
       " 2241227238.0,\n",
       " 15164565.0,\n",
       " 30456403.0,\n",
       " 248692627.0,\n",
       " 28048355.0,\n",
       " 18545481.0,\n",
       " 1917731.0,\n",
       " 138742761.0,\n",
       " 289118612.0,\n",
       " 15706904.0,\n",
       " 865636782.0,\n",
       " 2291904432.0,\n",
       " 3103091745.0,\n",
       " 3047937393.0,\n",
       " 167796615.0,\n",
       " 14511951.0,\n",
       " 49452556.0,\n",
       " 3974665634.0,\n",
       " 1018491630.0,\n",
       " 537904539.0,\n",
       " 2374469136.0,\n",
       " 3433022621.0,\n",
       " 585465795.0,\n",
       " 2883533651.0,\n",
       " 16955991.0,\n",
       " 547969112.0,\n",
       " 272114651.0,\n",
       " 936148682.0,\n",
       " 7.286355238167757e+17,\n",
       " 547969112.0,\n",
       " 67899097.0,\n",
       " 547969112.0,\n",
       " 3047377314.0,\n",
       " 7.59179340307243e+17,\n",
       " 1367531.0,\n",
       " 361275163.0,\n",
       " 399717630.0,\n",
       " 9369062.0,\n",
       " 762252876.0,\n",
       " 582135529.0,\n",
       " 851866178.0,\n",
       " 608471241.0,\n",
       " 331825712.0,\n",
       " 7.338080694407414e+17,\n",
       " 3995778614.0,\n",
       " 3390416469.0,\n",
       " 1367531.0,\n",
       " 754135908.0,\n",
       " 890302164.0,\n",
       " 81602176.0,\n",
       " 7.28979362775638e+17,\n",
       " 553998793.0,\n",
       " 157054921.0,\n",
       " 2255424079.0,\n",
       " 547969112.0,\n",
       " 2875990472.0,\n",
       " 2316246829.0,\n",
       " 7.583137156954276e+17,\n",
       " 7.583137156954276e+17,\n",
       " 25446957.0,\n",
       " 86963075.0,\n",
       " 7.153576049612636e+17,\n",
       " 140638292.0,\n",
       " 2801177472.0,\n",
       " 2801177472.0,\n",
       " 1976799128.0,\n",
       " 421460415.0,\n",
       " 2775579278.0,\n",
       " 3974665634.0,\n",
       " 1482516500.0,\n",
       " 7.503998058519634e+17,\n",
       " 43413425.0,\n",
       " 43308598.0,\n",
       " 3066008697.0,\n",
       " 18195110.0,\n",
       " 40246348.0,\n",
       " 2793800587.0,\n",
       " 802722056.0,\n",
       " 43308598.0,\n",
       " 402985469.0,\n",
       " 4897543230.0,\n",
       " 865538113.0,\n",
       " 2972410695.0,\n",
       " 2998466930.0,\n",
       " 4182512297.0,\n",
       " 30067748.0,\n",
       " 71359942.0,\n",
       " 277090518.0,\n",
       " 65003619.0,\n",
       " 7.538060660522353e+17,\n",
       " 7.053335675435049e+17,\n",
       " 2998441830.0,\n",
       " 3308110350.0,\n",
       " 4796678896.0,\n",
       " 2441304533.0,\n",
       " 561654065.0,\n",
       " 3034834939.0,\n",
       " 261035490.0,\n",
       " 4851276082.0,\n",
       " 370513594.0,\n",
       " 15854008.0,\n",
       " 2226870793.0,\n",
       " 971176056.0,\n",
       " 4240150034.0,\n",
       " 561654065.0,\n",
       " 332433520.0,\n",
       " 2416597188.0,\n",
       " 2416597188.0,\n",
       " 17094311.0,\n",
       " 543452426.0,\n",
       " 4846395737.0,\n",
       " 3220025137.0,\n",
       " 7.537534936226284e+17,\n",
       " 18002528.0,\n",
       " 16444868.0,\n",
       " 3433002136.0,\n",
       " 7.436518965780603e+17,\n",
       " 21833728.0,\n",
       " 50010587.0,\n",
       " 835328618.0,\n",
       " 297457814.0,\n",
       " 620872388.0,\n",
       " 3139537490.0,\n",
       " 60370335.0,\n",
       " 1225818590.0,\n",
       " 234841289.0,\n",
       " 2891102076.0,\n",
       " 7.021744067396854e+17,\n",
       " 57912099.0,\n",
       " 7.324458336820183e+17,\n",
       " 7.324458336820183e+17,\n",
       " 2904671027.0,\n",
       " 322674930.0,\n",
       " 65003619.0,\n",
       " 4543053312.0,\n",
       " 42158021.0,\n",
       " 279208035.0,\n",
       " 180511021.0,\n",
       " 311241090.0,\n",
       " 15359578.0,\n",
       " 20826129.0,\n",
       " 4700477725.0,\n",
       " 371142734.0,\n",
       " 24638062.0,\n",
       " 45291573.0,\n",
       " 552410408.0,\n",
       " 20295763.0,\n",
       " 1564676498.0,\n",
       " 17343602.0,\n",
       " 552983877.0,\n",
       " 18561223.0,\n",
       " 14787713.0,\n",
       " 1568498256.0,\n",
       " 752493806.0,\n",
       " 516093774.0,\n",
       " 28905454.0,\n",
       " 2747259456.0,\n",
       " 224268822.0,\n",
       " 17232340.0,\n",
       " 3359243787.0,\n",
       " 75974281.0,\n",
       " 233933230.0,\n",
       " 233933230.0,\n",
       " 479068816.0,\n",
       " 2892976359.0,\n",
       " 19908848.0,\n",
       " 4237277387.0,\n",
       " 3359243787.0,\n",
       " 284104234.0,\n",
       " 3592503441.0,\n",
       " 905530344.0,\n",
       " 19899980.0,\n",
       " 600061917.0,\n",
       " 221452291.0,\n",
       " 4765012532.0,\n",
       " 15671833.0,\n",
       " 1530853626.0,\n",
       " 24395228.0,\n",
       " 343171160.0,\n",
       " 2908170952.0,\n",
       " 251913645.0,\n",
       " 7.099204195292815e+17,\n",
       " 431198790.0,\n",
       " 90285099.0,\n",
       " 2299826742.0,\n",
       " 142077688.0,\n",
       " 1213274119.0,\n",
       " 608471241.0,\n",
       " 561654065.0,\n",
       " 15368940.0,\n",
       " 2740452163.0,\n",
       " 25446957.0,\n",
       " 70773048.0,\n",
       " 7.061766974402765e+17,\n",
       " 759251.0,\n",
       " 50881405.0,\n",
       " 1356123823.0,\n",
       " 7.16260246109483e+17,\n",
       " 3202808548.0,\n",
       " 150059501.0,\n",
       " 565008398.0,\n",
       " 56192739.0,\n",
       " 7.510953314089738e+17,\n",
       " 2900220088.0,\n",
       " 1652687708.0,\n",
       " 7.04034081898668e+17,\n",
       " 37315032.0,\n",
       " 632171886.0,\n",
       " 124199238.0,\n",
       " 3589464580.0,\n",
       " 542962969.0,\n",
       " 2421067430.0,\n",
       " 7.043630610130575e+17,\n",
       " 2910776820.0,\n",
       " 1096411117.0,\n",
       " 3124454195.0,\n",
       " 4760647532.0,\n",
       " 38367188.0,\n",
       " 605448008.0,\n",
       " 83788240.0,\n",
       " 374284455.0,\n",
       " 22798141.0,\n",
       " 2818206308.0,\n",
       " 2382281029.0,\n",
       " 415256606.0,\n",
       " 1966026648.0,\n",
       " 893470729.0,\n",
       " 2953422203.0,\n",
       " 167363471.0,\n",
       " 291874773.0,\n",
       " 44103717.0,\n",
       " 28670599.0,\n",
       " 7.395676265113887e+17,\n",
       " 200656602.0,\n",
       " 31801993.0,\n",
       " 7.032306737761976e+17,\n",
       " 146928495.0,\n",
       " 7.290963526767821e+17,\n",
       " 1643634444.0,\n",
       " 246377722.0,\n",
       " 3407847574.0,\n",
       " 21845346.0,\n",
       " 385075625.0,\n",
       " 29465136.0,\n",
       " 13148382.0,\n",
       " 4851276082.0,\n",
       " 3416492723.0,\n",
       " 3359243787.0,\n",
       " 9611592.0,\n",
       " 7.390809166103429e+17,\n",
       " 34367582.0,\n",
       " 28007091.0,\n",
       " 3124454195.0,\n",
       " 26579739.0,\n",
       " 76373.0,\n",
       " 7.58049168690643e+17,\n",
       " 963176808.0,\n",
       " 19193016.0,\n",
       " 3381686297.0,\n",
       " 93493910.0,\n",
       " 3313143320.0,\n",
       " 2610081858.0,\n",
       " 4646073148.0,\n",
       " 344729527.0,\n",
       " 32951070.0,\n",
       " 37013920.0,\n",
       " 23116280.0,\n",
       " 25197377.0,\n",
       " 33228837.0,\n",
       " 4242905298.0,\n",
       " 18637247.0,\n",
       " 7.149495057208238e+17,\n",
       " 872954089.0,\n",
       " 437352926.0,\n",
       " 23004495.0,\n",
       " 4361249533.0,\n",
       " 156377910.0,\n",
       " 4452560741.0,\n",
       " 273951517.0,\n",
       " 264493607.0,\n",
       " 7.601308233748439e+17,\n",
       " 118845216.0,\n",
       " 232333397.0,\n",
       " 414873541.0,\n",
       " 3723723982.0,\n",
       " 824391878.0,\n",
       " 450213974.0,\n",
       " 890302164.0,\n",
       " 29059784.0,\n",
       " 709144993.0,\n",
       " 15104164.0,\n",
       " 289118612.0,\n",
       " 3314963469.0,\n",
       " 21833728.0,\n",
       " 796261392.0,\n",
       " 227010728.0,\n",
       " 196109220.0,\n",
       " 582414351.0,\n",
       " 340968277.0,\n",
       " 1969346438.0,\n",
       " 13804112.0,\n",
       " 7.395676265113887e+17,\n",
       " 835328618.0,\n",
       " 164523117.0,\n",
       " 446228264.0,\n",
       " 39344374.0,\n",
       " 7.5774968458052e+17,\n",
       " 515542297.0,\n",
       " 41265813.0,\n",
       " 78523300.0,\n",
       " 18643437.0,\n",
       " 232201971.0,\n",
       " 801071388.0,\n",
       " 3539755636.0,\n",
       " 1367531.0,\n",
       " 1564676498.0,\n",
       " 4901489212.0,\n",
       " 7.04034081898668e+17,\n",
       " 22630309.0,\n",
       " 46520074.0,\n",
       " 17895820.0,\n",
       " 14412533.0,\n",
       " 1917731.0,\n",
       " 1080576949.0,\n",
       " 492833134.0,\n",
       " 65132037.0,\n",
       " 1735546184.0,\n",
       " 7.650916054726984e+17,\n",
       " 7.431422447068488e+17,\n",
       " 107012365.0,\n",
       " 237623215.0,\n",
       " 865187658.0,\n",
       " 621110318.0,\n",
       " 25197377.0,\n",
       " 7.395676265113887e+17,\n",
       " 1462579488.0,\n",
       " 430905373.0,\n",
       " 20854637.0,\n",
       " 25832979.0,\n",
       " 1200713864.0,\n",
       " 7.588095949362381e+17,\n",
       " 7.588095949362381e+17,\n",
       " 374284455.0,\n",
       " 25197377.0,\n",
       " 172394944.0,\n",
       " 910332056.0,\n",
       " 34163521.0,\n",
       " 1537048512.0,\n",
       " 7.156506956476375e+17,\n",
       " 1513958744.0,\n",
       " 7.2757824484164e+17,\n",
       " 7.138326228084122e+17,\n",
       " 4855687055.0,\n",
       " 3558102739.0,\n",
       " 6.953652453766963e+17,\n",
       " 28869089.0,\n",
       " 54065567.0,\n",
       " 54065567.0,\n",
       " 7.46367431388586e+17,\n",
       " 7.46367431388586e+17,\n",
       " 3166217539.0,\n",
       " 3329997245.0,\n",
       " 7.650916054726984e+17,\n",
       " 317223956.0,\n",
       " 1849938847.0,\n",
       " 1148951203.0,\n",
       " 138581916.0,\n",
       " 2953617710.0,\n",
       " 49685124.0,\n",
       " 169536421.0,\n",
       " 3124454195.0,\n",
       " 2830167800.0,\n",
       " 141642957.0,\n",
       " 7.108295028430643e+17,\n",
       " 30265457.0,\n",
       " 561654065.0,\n",
       " 16887175.0,\n",
       " 7.307865188481597e+17,\n",
       " 22677397.0,\n",
       " 2353703503.0,\n",
       " 21248626.0,\n",
       " 17395207.0,\n",
       " 144130505.0,\n",
       " 17529294.0,\n",
       " 52801677.0,\n",
       " 7.42923442471764e+17,\n",
       " 3697721113.0,\n",
       " 2584482763.0,\n",
       " 20944649.0,\n",
       " 7.735201633963254e+17,\n",
       " 20889358.0,\n",
       " 67095221.0,\n",
       " 767036004.0,\n",
       " 7.650916054726984e+17,\n",
       " 176914461.0,\n",
       " 78569026.0,\n",
       " 331747494.0,\n",
       " 2316246829.0,\n",
       " 361275163.0,\n",
       " 2364837974.0,\n",
       " 1242465014.0,\n",
       " 289118612.0,\n",
       " 568143078.0,\n",
       " 7.583137156954276e+17,\n",
       " 18195110.0,\n",
       " 7.650916054726984e+17,\n",
       " 1289704663.0,\n",
       " 7.540861259171062e+17,\n",
       " 1371572360.0,\n",
       " 7.692972279571415e+17,\n",
       " 3610264154.0,\n",
       " 27211961.0,\n",
       " 7.233873441752965e+17,\n",
       " 151375368.0,\n",
       " 7.675871285240136e+17,\n",
       " 35677844.0,\n",
       " 936304345.0,\n",
       " 19195442.0,\n",
       " 7.442818843104051e+17,\n",
       " 3389134989.0,\n",
       " 3019417439.0,\n",
       " 10735392.0,\n",
       " 3362345172.0,\n",
       " 33388399.0,\n",
       " 341688336.0,\n",
       " 231641765.0,\n",
       " 3394911915.0,\n",
       " 2902031256.0,\n",
       " 3297022953.0,\n",
       " 455288410.0,\n",
       " 219815601.0,\n",
       " 374284455.0,\n",
       " 2684196134.0,\n",
       " 865636782.0,\n",
       " 126009130.0,\n",
       " 126009130.0,\n",
       " 126009130.0,\n",
       " 126009130.0,\n",
       " 126009130.0,\n",
       " 126009130.0,\n",
       " 126009130.0,\n",
       " 126009130.0,\n",
       " 126009130.0,\n",
       " 126009130.0,\n",
       " 126009130.0,\n",
       " 126009130.0,\n",
       " 126009130.0,\n",
       " 126009130.0,\n",
       " 126009130.0,\n",
       " 126009130.0,\n",
       " 126009130.0,\n",
       " 126009130.0,\n",
       " 126009130.0,\n",
       " 325893346.0,\n",
       " 126009130.0,\n",
       " 126009130.0,\n",
       " 126009130.0,\n",
       " 126009130.0,\n",
       " 126009130.0,\n",
       " 126009130.0,\n",
       " 126009130.0,\n",
       " 126009130.0,\n",
       " 18132806.0,\n",
       " 3057650044.0,\n",
       " 972651.0,\n",
       " 865636782.0,\n",
       " 1353347065.0,\n",
       " 7.675871285240136e+17,\n",
       " 3686488635.0,\n",
       " 3002739417.0,\n",
       " 1183779272.0,\n",
       " 1309391066.0,\n",
       " 4334047641.0,\n",
       " 42371615.0,\n",
       " 3930608896.0,\n",
       " 21773704.0,\n",
       " 399774230.0,\n",
       " 7.580762978766029e+17,\n",
       " 2911587582.0,\n",
       " 7.356243040505938e+17,\n",
       " 4240150034.0,\n",
       " 16674128.0,\n",
       " 14441020.0,\n",
       " 30265457.0,\n",
       " 1326707346.0,\n",
       " 908933376.0,\n",
       " 124185033.0,\n",
       " 2451462137.0,\n",
       " 2417586104.0,\n",
       " 2344571893.0,\n",
       " 3340267793.0,\n",
       " 902851051.0,\n",
       " 1339835893.0,\n",
       " 36196526.0,\n",
       " 6563122.0,\n",
       " 4345493055.0,\n",
       " 1851877248.0,\n",
       " 90573210.0,\n",
       " 118845216.0,\n",
       " 172032623.0,\n",
       " 2786693552.0,\n",
       " 755726522.0,\n",
       " 2788642796.0,\n",
       " 340660967.0,\n",
       " 22141405.0,\n",
       " 4194141941.0,\n",
       " 115772421.0,\n",
       " 22714413.0,\n",
       " 97082147.0,\n",
       " 63514682.0,\n",
       " 1027392638.0,\n",
       " 259509924.0,\n",
       " 7.626582158509711e+17,\n",
       " 214112621.0,\n",
       " 15511737.0,\n",
       " 7.583137156954276e+17,\n",
       " 20065936.0,\n",
       " 7.047959204334141e+17,\n",
       " ...]"
      ]
     },
     "execution_count": 31,
     "metadata": {},
     "output_type": "execute_result"
    }
   ],
   "source": [
    "accounts"
   ]
  },
  {
   "cell_type": "code",
   "execution_count": 14,
   "metadata": {},
   "outputs": [
    {
     "data": {
      "text/plain": [
       "['',\n",
       " \"{'cap': {'english': 0.2520419704315795, 'universal': 0.5982419966968565}, 'display_scores': {'english': {'astroturf': 1.2, 'fake_follower': 0.2, 'financial': 0.0, 'other': 1.3, 'overall': 0.1, 'self_declared': 0.1, 'spammer': 0.0}, 'universal': {'astroturf': 0.6, 'fake_follower': 0.4, 'financial': 0.0, 'other': 0.9, 'overall': 0.7, 'self_declared': 0.1, 'spammer': 0.0}}, 'raw_scores': {'english': {'astroturf': 0.24, 'fake_follower': 0.05, 'financial': 0.0, 'other': 0.26, 'overall': 0.02, 'self_declared': 0.02, 'spammer': 0.0}, 'universal': {'astroturf': 0.12, 'fake_follower': 0.07, 'financial': 0.0, 'other': 0.18, 'overall': 0.14, 'self_declared': 0.02, 'spammer': 0.0}}, 'user': {'majority_lang': 'en', 'user_data': {'id_str': '14802766', 'screen_name': 'nan'}}}\",\n",
       " \"{'cap': {'english': 0.2787259978325127, 'universal': 0.6415870166679795}, 'display_scores': {'english': {'astroturf': 1.2, 'fake_follower': 0.4, 'financial': 0.0, 'other': 1.3, 'overall': 0.2, 'self_declared': 0.1, 'spammer': 0.0}, 'universal': {'astroturf': 0.6, 'fake_follower': 0.5, 'financial': 0.0, 'other': 1.0, 'overall': 0.8, 'self_declared': 0.1, 'spammer': 0.0}}, 'raw_scores': {'english': {'astroturf': 0.24, 'fake_follower': 0.08, 'financial': 0.0, 'other': 0.26, 'overall': 0.03, 'self_declared': 0.02, 'spammer': 0.0}, 'universal': {'astroturf': 0.12, 'fake_follower': 0.1, 'financial': 0.0, 'other': 0.19, 'overall': 0.16, 'self_declared': 0.02, 'spammer': 0.0}}, 'user': {'majority_lang': 'en', 'user_data': {'id_str': '14802766', 'screen_name': 'nan'}}}\",\n",
       " \"{'cap': {'english': 0.3342309004634953, 'universal': 0.6608500314332488}, 'display_scores': {'english': {'astroturf': 1.2, 'fake_follower': 0.3, 'financial': 0.0, 'other': 1.3, 'overall': 0.2, 'self_declared': 0.2, 'spammer': 0.0}, 'universal': {'astroturf': 0.6, 'fake_follower': 0.5, 'financial': 0.0, 'other': 1.0, 'overall': 0.8, 'self_declared': 0.1, 'spammer': 0.0}}, 'raw_scores': {'english': {'astroturf': 0.24, 'fake_follower': 0.06, 'financial': 0.0, 'other': 0.26, 'overall': 0.05, 'self_declared': 0.03, 'spammer': 0.0}, 'universal': {'astroturf': 0.12, 'fake_follower': 0.1, 'financial': 0.0, 'other': 0.19, 'overall': 0.17, 'self_declared': 0.02, 'spammer': 0.0}}, 'user': {'majority_lang': 'en', 'user_data': {'id_str': '14802766', 'screen_name': 'nan'}}}\",\n",
       " '{\\'error\\': \"TweepError: [{\\'code\\': 34, \\'message\\': \\'Sorry, that page does not exist.\\'}]\"}']"
      ]
     },
     "execution_count": 14,
     "metadata": {},
     "output_type": "execute_result"
    }
   ],
   "source": [
    "list(set(snopes.botometer.tolist()))"
   ]
  },
  {
   "cell_type": "code",
   "execution_count": 15,
   "metadata": {},
   "outputs": [
    {
     "data": {
      "text/html": [
       "<div>\n",
       "<style scoped>\n",
       "    .dataframe tbody tr th:only-of-type {\n",
       "        vertical-align: middle;\n",
       "    }\n",
       "\n",
       "    .dataframe tbody tr th {\n",
       "        vertical-align: top;\n",
       "    }\n",
       "\n",
       "    .dataframe thead th {\n",
       "        text-align: right;\n",
       "    }\n",
       "</style>\n",
       "<table border=\"1\" class=\"dataframe\">\n",
       "  <thead>\n",
       "    <tr style=\"text-align: right;\">\n",
       "      <th></th>\n",
       "      <th>id</th>\n",
       "      <th>original_id</th>\n",
       "      <th>tweet_text</th>\n",
       "      <th>tweet_url</th>\n",
       "      <th>claim</th>\n",
       "      <th>rating</th>\n",
       "      <th>images</th>\n",
       "      <th>text_images</th>\n",
       "      <th>source</th>\n",
       "      <th>label</th>\n",
       "      <th>label_info</th>\n",
       "      <th>available</th>\n",
       "      <th>acc_id</th>\n",
       "      <th>botometer</th>\n",
       "    </tr>\n",
       "  </thead>\n",
       "  <tbody>\n",
       "    <tr>\n",
       "      <th>199</th>\n",
       "      <td>740993500053901312</td>\n",
       "      <td>740992653555163136</td>\n",
       "      <td>@HillaryClinton  Hillbilly Racists #blm #Black...</td>\n",
       "      <td>https://twitter.com/POTUS/status/7409935000539...</td>\n",
       "      <td>A photograph shows Hillary Clinton in blackfac...</td>\n",
       "      <td>['https://www.snopes.com/tachyon/2018/03/ratin...</td>\n",
       "      <td>http://pbs.twimg.com/media/CkiI48wUkAIzNuC.jpg</td>\n",
       "      <td>THE DEMOCRATS AREN'T GOING TO LIKE THIS ONEI H...</td>\n",
       "      <td>https://www.snopes.com/fact-check/hillary-clin...</td>\n",
       "      <td>false</td>\n",
       "      <td>NaN</td>\n",
       "      <td>ok</td>\n",
       "      <td>NaN</td>\n",
       "      <td>{'cap': {'english': 0.2787259978325127, 'unive...</td>\n",
       "    </tr>\n",
       "    <tr>\n",
       "      <th>272</th>\n",
       "      <td>746201362900254720</td>\n",
       "      <td>746167181608685568</td>\n",
       "      <td>@GrantJr @wakeupfla @FoxNews here's the true R...</td>\n",
       "      <td>https://twitter.com/POTUS/status/7462013629002...</td>\n",
       "      <td>A photograph shows Hillary Clinton in blackfac...</td>\n",
       "      <td>['https://www.snopes.com/tachyon/2018/03/ratin...</td>\n",
       "      <td>http://pbs.twimg.com/media/ClrrF4gWIAAgP-3.jpg</td>\n",
       "      <td>THE DEMOCRATS AREN'T GOING TO LIKE THIS ONE ! ...</td>\n",
       "      <td>https://www.snopes.com/fact-check/hillary-clin...</td>\n",
       "      <td>false</td>\n",
       "      <td>NaN</td>\n",
       "      <td>ok</td>\n",
       "      <td>NaN</td>\n",
       "      <td>{'cap': {'english': 0.2787259978325127, 'unive...</td>\n",
       "    </tr>\n",
       "    <tr>\n",
       "      <th>523</th>\n",
       "      <td>756589186979946496</td>\n",
       "      <td>756557780815867904</td>\n",
       "      <td>Guess This Applies To You Stupid &amp;amp; Easy 2 ...</td>\n",
       "      <td>https://twitter.com/POTUS/status/7565891869799...</td>\n",
       "      <td>Hillary Clinton said that Democratic voters ar...</td>\n",
       "      <td>['https://www.snopes.com/tachyon/2018/03/ratin...</td>\n",
       "      <td>http://pbs.twimg.com/media/Cn_VShHXgAA76R3.jpg</td>\n",
       "      <td>\" Look , the average Democrat voter is just pl...</td>\n",
       "      <td>https://www.snopes.com/fact-check/hillary-clin...</td>\n",
       "      <td>false</td>\n",
       "      <td>NaN</td>\n",
       "      <td>ok</td>\n",
       "      <td>NaN</td>\n",
       "      <td>{'cap': {'english': 0.2787259978325127, 'unive...</td>\n",
       "    </tr>\n",
       "    <tr>\n",
       "      <th>630</th>\n",
       "      <td>758755498300760064</td>\n",
       "      <td>758752442733457408</td>\n",
       "      <td>The Cosmic 'ice sculptures' of the Carina Nebu...</td>\n",
       "      <td>https://twitter.com/POTUS/status/7587554983007...</td>\n",
       "      <td>Scientists are stumped by a photograph taken b...</td>\n",
       "      <td>['https://www.snopes.com/tachyon/2018/03/ratin...</td>\n",
       "      <td>http://pbs.twimg.com/media/CV5fNY5WcAQftf4.jpg</td>\n",
       "      <td>NaN</td>\n",
       "      <td>https://www.snopes.com/fact-check/gates-of-hea...</td>\n",
       "      <td>false</td>\n",
       "      <td>NaN</td>\n",
       "      <td>missing</td>\n",
       "      <td>NaN</td>\n",
       "      <td>{'cap': {'english': 0.2787259978325127, 'unive...</td>\n",
       "    </tr>\n",
       "    <tr>\n",
       "      <th>1061</th>\n",
       "      <td>770292202593484800</td>\n",
       "      <td>770282705434968064</td>\n",
       "      <td>@duceyco @garywhitta @SubjectPolitics PS: I'm ...</td>\n",
       "      <td>https://twitter.com/POTUS/status/7702922025934...</td>\n",
       "      <td>A photograph shows Hillary Clinton in blackfac...</td>\n",
       "      <td>['https://www.snopes.com/tachyon/2018/03/ratin...</td>\n",
       "      <td>http://pbs.twimg.com/media/CrCXl2LUMAAkSWk.jpg</td>\n",
       "      <td>NaN</td>\n",
       "      <td>https://www.snopes.com/fact-check/hillary-clin...</td>\n",
       "      <td>false</td>\n",
       "      <td>NaN</td>\n",
       "      <td>ok</td>\n",
       "      <td>NaN</td>\n",
       "      <td>{'cap': {'english': 0.2787259978325127, 'unive...</td>\n",
       "    </tr>\n",
       "  </tbody>\n",
       "</table>\n",
       "</div>"
      ],
      "text/plain": [
       "                      id         original_id  \\\n",
       "199   740993500053901312  740992653555163136   \n",
       "272   746201362900254720  746167181608685568   \n",
       "523   756589186979946496  756557780815867904   \n",
       "630   758755498300760064  758752442733457408   \n",
       "1061  770292202593484800  770282705434968064   \n",
       "\n",
       "                                             tweet_text  \\\n",
       "199   @HillaryClinton  Hillbilly Racists #blm #Black...   \n",
       "272   @GrantJr @wakeupfla @FoxNews here's the true R...   \n",
       "523   Guess This Applies To You Stupid &amp; Easy 2 ...   \n",
       "630   The Cosmic 'ice sculptures' of the Carina Nebu...   \n",
       "1061  @duceyco @garywhitta @SubjectPolitics PS: I'm ...   \n",
       "\n",
       "                                              tweet_url  \\\n",
       "199   https://twitter.com/POTUS/status/7409935000539...   \n",
       "272   https://twitter.com/POTUS/status/7462013629002...   \n",
       "523   https://twitter.com/POTUS/status/7565891869799...   \n",
       "630   https://twitter.com/POTUS/status/7587554983007...   \n",
       "1061  https://twitter.com/POTUS/status/7702922025934...   \n",
       "\n",
       "                                                  claim  \\\n",
       "199   A photograph shows Hillary Clinton in blackfac...   \n",
       "272   A photograph shows Hillary Clinton in blackfac...   \n",
       "523   Hillary Clinton said that Democratic voters ar...   \n",
       "630   Scientists are stumped by a photograph taken b...   \n",
       "1061  A photograph shows Hillary Clinton in blackfac...   \n",
       "\n",
       "                                                 rating  \\\n",
       "199   ['https://www.snopes.com/tachyon/2018/03/ratin...   \n",
       "272   ['https://www.snopes.com/tachyon/2018/03/ratin...   \n",
       "523   ['https://www.snopes.com/tachyon/2018/03/ratin...   \n",
       "630   ['https://www.snopes.com/tachyon/2018/03/ratin...   \n",
       "1061  ['https://www.snopes.com/tachyon/2018/03/ratin...   \n",
       "\n",
       "                                              images  \\\n",
       "199   http://pbs.twimg.com/media/CkiI48wUkAIzNuC.jpg   \n",
       "272   http://pbs.twimg.com/media/ClrrF4gWIAAgP-3.jpg   \n",
       "523   http://pbs.twimg.com/media/Cn_VShHXgAA76R3.jpg   \n",
       "630   http://pbs.twimg.com/media/CV5fNY5WcAQftf4.jpg   \n",
       "1061  http://pbs.twimg.com/media/CrCXl2LUMAAkSWk.jpg   \n",
       "\n",
       "                                            text_images  \\\n",
       "199   THE DEMOCRATS AREN'T GOING TO LIKE THIS ONEI H...   \n",
       "272   THE DEMOCRATS AREN'T GOING TO LIKE THIS ONE ! ...   \n",
       "523   \" Look , the average Democrat voter is just pl...   \n",
       "630                                                 NaN   \n",
       "1061                                                NaN   \n",
       "\n",
       "                                                 source  label  label_info  \\\n",
       "199   https://www.snopes.com/fact-check/hillary-clin...  false         NaN   \n",
       "272   https://www.snopes.com/fact-check/hillary-clin...  false         NaN   \n",
       "523   https://www.snopes.com/fact-check/hillary-clin...  false         NaN   \n",
       "630   https://www.snopes.com/fact-check/gates-of-hea...  false         NaN   \n",
       "1061  https://www.snopes.com/fact-check/hillary-clin...  false         NaN   \n",
       "\n",
       "     available  acc_id                                          botometer  \n",
       "199         ok     NaN  {'cap': {'english': 0.2787259978325127, 'unive...  \n",
       "272         ok     NaN  {'cap': {'english': 0.2787259978325127, 'unive...  \n",
       "523         ok     NaN  {'cap': {'english': 0.2787259978325127, 'unive...  \n",
       "630    missing     NaN  {'cap': {'english': 0.2787259978325127, 'unive...  \n",
       "1061        ok     NaN  {'cap': {'english': 0.2787259978325127, 'unive...  "
      ]
     },
     "execution_count": 15,
     "metadata": {},
     "output_type": "execute_result"
    }
   ],
   "source": [
    "snopes[snopes.botometer.str.contains(\"{'cap': {'english': 0.2787259978325127, 'universal': 0.6415870166679795}, 'display_scores': {'english': {'astroturf': 1.2, 'fake_follower': 0.4, 'financial': 0.0, 'other': 1.3, 'overall': 0.2, 'self_declared': 0.1, 'spammer': 0.0}, 'universal': {'astroturf': 0.6, 'fake_follower': 0.5, 'financial': 0.0, 'other': 1.0, 'overall': 0.8, 'self_declared': 0.1, 'spammer': 0.0}}, 'raw_scores': {'english': {'astroturf': 0.24, 'fake_follower': 0.08, 'financial': 0.0, 'other': 0.26, 'overall': 0.03, 'self_declared': 0.02, 'spammer': 0.0}, 'universal': {'astroturf': 0.12, 'fake_follower': 0.1, 'financial': 0.0, 'other': 0.19, 'overall': 0.16, 'self_declared': 0.02, 'spammer': 0.0}}, 'user': {'majority_lang': 'en', 'user_data': {'id_str': '14802766', 'screen_name': 'nan'}}}\")]"
   ]
  },
  {
   "cell_type": "code",
   "execution_count": 23,
   "metadata": {},
   "outputs": [
    {
     "data": {
      "text/html": [
       "<div>\n",
       "<style scoped>\n",
       "    .dataframe tbody tr th:only-of-type {\n",
       "        vertical-align: middle;\n",
       "    }\n",
       "\n",
       "    .dataframe tbody tr th {\n",
       "        vertical-align: top;\n",
       "    }\n",
       "\n",
       "    .dataframe thead th {\n",
       "        text-align: right;\n",
       "    }\n",
       "</style>\n",
       "<table border=\"1\" class=\"dataframe\">\n",
       "  <thead>\n",
       "    <tr style=\"text-align: right;\">\n",
       "      <th></th>\n",
       "      <th>id</th>\n",
       "      <th>original_id</th>\n",
       "      <th>tweet_text</th>\n",
       "      <th>tweet_url</th>\n",
       "      <th>claim</th>\n",
       "      <th>rating</th>\n",
       "      <th>images</th>\n",
       "      <th>text_images</th>\n",
       "      <th>source</th>\n",
       "      <th>label</th>\n",
       "      <th>label_info</th>\n",
       "      <th>available</th>\n",
       "      <th>acc_id</th>\n",
       "      <th>botometer</th>\n",
       "    </tr>\n",
       "  </thead>\n",
       "  <tbody>\n",
       "    <tr>\n",
       "      <th>0</th>\n",
       "      <td>1000085962053959680</td>\n",
       "      <td>1000006390323253249</td>\n",
       "      <td>*cough* @NFL *cough* https://t.co/H9SskJ8q4Q</td>\n",
       "      <td>https://twitter.com/POTUS/status/1000085962053...</td>\n",
       "      <td>A German football club was banned from playing...</td>\n",
       "      <td>['https://www.snopes.com/tachyon/2018/03/ratin...</td>\n",
       "      <td>http://pbs.twimg.com/media/DeC8Z5DX4AAduxj.jpg</td>\n",
       "      <td>FAILED TO GIVE NAZI SALUTE . German Football C...</td>\n",
       "      <td>https://www.snopes.com/fact-check/german-footb...</td>\n",
       "      <td>mostly-true-new</td>\n",
       "      <td>NaN</td>\n",
       "      <td>auth</td>\n",
       "      <td>NaN</td>\n",
       "      <td>{'cap': {'english': 0.2520419704315795, 'unive...</td>\n",
       "    </tr>\n",
       "    <tr>\n",
       "      <th>1</th>\n",
       "      <td>1000057516615786496</td>\n",
       "      <td>1000015162714263553</td>\n",
       "      <td>@PhilMcCrackin44 Schiff's sister was married t...</td>\n",
       "      <td>https://twitter.com/POTUS/status/1000057516615...</td>\n",
       "      <td>Adam Schiff's sister Melissa was married to Ge...</td>\n",
       "      <td>['https://www.snopes.com/tachyon/2018/03/ratin...</td>\n",
       "      <td>['http://pbs.twimg.com/media/DeDEfF0XcAAHExJ.j...</td>\n",
       "      <td>['', '', 'di \" twant wutted to cmt ur to frpyo...</td>\n",
       "      <td>https://www.snopes.com/fact-check/adam-schiffs...</td>\n",
       "      <td>false</td>\n",
       "      <td>NaN</td>\n",
       "      <td>auth</td>\n",
       "      <td>NaN</td>\n",
       "      <td>{'cap': {'english': 0.2520419704315795, 'unive...</td>\n",
       "    </tr>\n",
       "    <tr>\n",
       "      <th>2</th>\n",
       "      <td>1000037356836093953</td>\n",
       "      <td>1000023322481086466</td>\n",
       "      <td>Brave men died to keep us free. Radicals want ...</td>\n",
       "      <td>https://twitter.com/POTUS/status/1000037356836...</td>\n",
       "      <td>Liberals were offended by a World War I memori...</td>\n",
       "      <td>['https://www.snopes.com/tachyon/2018/03/ratin...</td>\n",
       "      <td>http://pbs.twimg.com/media/DeDL5a-XkAI7Hlw.jpg</td>\n",
       "      <td>#DontTearMeDown IRSTLIBERT . ORG DontTearMeDow...</td>\n",
       "      <td>https://www.snopes.com/fact-check/liberals-dem...</td>\n",
       "      <td>mixture</td>\n",
       "      <td>NaN</td>\n",
       "      <td>ok</td>\n",
       "      <td>3.981226e+09</td>\n",
       "      <td>{'error': \"TweepError: [{'code': 34, 'message'...</td>\n",
       "    </tr>\n",
       "    <tr>\n",
       "      <th>3</th>\n",
       "      <td>1000056983070892032</td>\n",
       "      <td>1000048498677571584</td>\n",
       "      <td>@AP @farmerfar55 Was he wearing the medal give...</td>\n",
       "      <td>https://twitter.com/POTUS/status/1000056983070...</td>\n",
       "      <td>A meme shows President Obama awarding the Pres...</td>\n",
       "      <td>['https://www.snopes.com/tachyon/2018/03/ratin...</td>\n",
       "      <td>['http://pbs.twimg.com/media/DeCrb0SUwAAsw-t.j...</td>\n",
       "      <td>['', '', '', '']</td>\n",
       "      <td>https://www.snopes.com/fact-check/obama-medal-...</td>\n",
       "      <td>mostly-false</td>\n",
       "      <td>NaN</td>\n",
       "      <td>ok</td>\n",
       "      <td>NaN</td>\n",
       "      <td>{'cap': {'english': 0.2520419704315795, 'unive...</td>\n",
       "    </tr>\n",
       "    <tr>\n",
       "      <th>4</th>\n",
       "      <td>1000149982408794113</td>\n",
       "      <td>1000058582476435456</td>\n",
       "      <td>The importance of the electoral college is vit...</td>\n",
       "      <td>https://twitter.com/POTUS/status/1000149982408...</td>\n",
       "      <td>Donald Trump won 3,084 of America's 3,141 coun...</td>\n",
       "      <td>['https://www.snopes.com/tachyon/2018/03/ratin...</td>\n",
       "      <td>http://pbs.twimg.com/media/DeDr-FjVMAAlZe1.jpg</td>\n",
       "      <td>HILLARY'S POPULAR VOTE Mont . Ore . Idaho Wyo ...</td>\n",
       "      <td>https://www.snopes.com/fact-check/trump-clinto...</td>\n",
       "      <td>false</td>\n",
       "      <td>NaN</td>\n",
       "      <td>auth</td>\n",
       "      <td>NaN</td>\n",
       "      <td>{'cap': {'english': 0.2520419704315795, 'unive...</td>\n",
       "    </tr>\n",
       "    <tr>\n",
       "      <th>...</th>\n",
       "      <td>...</td>\n",
       "      <td>...</td>\n",
       "      <td>...</td>\n",
       "      <td>...</td>\n",
       "      <td>...</td>\n",
       "      <td>...</td>\n",
       "      <td>...</td>\n",
       "      <td>...</td>\n",
       "      <td>...</td>\n",
       "      <td>...</td>\n",
       "      <td>...</td>\n",
       "      <td>...</td>\n",
       "      <td>...</td>\n",
       "      <td>...</td>\n",
       "    </tr>\n",
       "    <tr>\n",
       "      <th>11192</th>\n",
       "      <td>1000146882428096512</td>\n",
       "      <td>999903412425711616</td>\n",
       "      <td>I picked this up from someone here. Its🙄🤨🙄 wor...</td>\n",
       "      <td>https://twitter.com/POTUS/status/1000146882428...</td>\n",
       "      <td>A German football club was banned from playing...</td>\n",
       "      <td>['https://www.snopes.com/tachyon/2018/03/ratin...</td>\n",
       "      <td>http://pbs.twimg.com/media/DeBe1X5VAAI-Zhh.jpg</td>\n",
       "      <td>FAILED TO GIVE NAZI SALUTE . German Football C...</td>\n",
       "      <td>https://www.snopes.com/fact-check/german-footb...</td>\n",
       "      <td>mostly-true-new</td>\n",
       "      <td>NaN</td>\n",
       "      <td>ok</td>\n",
       "      <td>9.174376e+07</td>\n",
       "      <td></td>\n",
       "    </tr>\n",
       "    <tr>\n",
       "      <th>11193</th>\n",
       "      <td>1000018438184734720</td>\n",
       "      <td>999961946932723713</td>\n",
       "      <td>Trump is a criminal, a gangster using criminal...</td>\n",
       "      <td>https://twitter.com/POTUS/status/1000018438184...</td>\n",
       "      <td>Notorious mobster Al Capone demanded an inquir...</td>\n",
       "      <td>['https://www.snopes.com/tachyon/2018/03/ratin...</td>\n",
       "      <td>http://pbs.twimg.com/media/DeCUF2ZV4AAMm0Z.jpg</td>\n",
       "      <td>Ci ) icago Sunday Cribune INAL 17 . Capone Dem...</td>\n",
       "      <td>https://www.snopes.com/fact-check/did-al-capon...</td>\n",
       "      <td>false</td>\n",
       "      <td>NaN</td>\n",
       "      <td>missing</td>\n",
       "      <td>8.816829e+17</td>\n",
       "      <td></td>\n",
       "    </tr>\n",
       "    <tr>\n",
       "      <th>11194</th>\n",
       "      <td>999992400725585920</td>\n",
       "      <td>999962442141782016</td>\n",
       "      <td>@VP @NFL @POTUS The only thing that’s #Winning...</td>\n",
       "      <td>https://twitter.com/POTUS/status/9999924007255...</td>\n",
       "      <td>Baseball players in the 1950s were caught on c...</td>\n",
       "      <td>['https://www.snopes.com/tachyon/2018/03/ratin...</td>\n",
       "      <td>http://pbs.twimg.com/media/DeCUiW3VwAAQbyx.jpg</td>\n",
       "      <td>White Baseball Players Kneel in the 50 ' s to ...</td>\n",
       "      <td>https://www.snopes.com/fact-check/baseball-pla...</td>\n",
       "      <td>false</td>\n",
       "      <td>NaN</td>\n",
       "      <td>auth</td>\n",
       "      <td>1.157486e+08</td>\n",
       "      <td></td>\n",
       "    </tr>\n",
       "    <tr>\n",
       "      <th>11195</th>\n",
       "      <td>1000035228679852032</td>\n",
       "      <td>999973815655518213</td>\n",
       "      <td>@mjfree Sports has been used as a means of pro...</td>\n",
       "      <td>https://twitter.com/POTUS/status/1000035228679...</td>\n",
       "      <td>Baseball players in the 1950s were caught on c...</td>\n",
       "      <td>['https://www.snopes.com/tachyon/2018/03/ratin...</td>\n",
       "      <td>http://pbs.twimg.com/media/DeCejk4WkAMruuM.jpg</td>\n",
       "      <td>White Baseball Players Kneel in the 50 ' s to ...</td>\n",
       "      <td>https://www.snopes.com/fact-check/baseball-pla...</td>\n",
       "      <td>false</td>\n",
       "      <td>NaN</td>\n",
       "      <td>ok</td>\n",
       "      <td>5.182272e+08</td>\n",
       "      <td></td>\n",
       "    </tr>\n",
       "    <tr>\n",
       "      <th>11196</th>\n",
       "      <td>999996611039191040</td>\n",
       "      <td>999996171824386048</td>\n",
       "      <td>@spectatorindex How you call this? https://t.c...</td>\n",
       "      <td>https://twitter.com/POTUS/status/9999966110391...</td>\n",
       "      <td>A photograph shows Senator John McCain posing ...</td>\n",
       "      <td>['https://www.snopes.com/tachyon/2018/03/ratin...</td>\n",
       "      <td>http://pbs.twimg.com/media/DeCzNhwX4AICQ0-.jpg</td>\n",
       "      <td>iSIS Leader Abu Bakr al-Baghdadi US . Sen . ' ...</td>\n",
       "      <td>https://www.snopes.com/fact-check/john-mccain-...</td>\n",
       "      <td>miscaptioned</td>\n",
       "      <td>NaN</td>\n",
       "      <td>ok</td>\n",
       "      <td>NaN</td>\n",
       "      <td></td>\n",
       "    </tr>\n",
       "  </tbody>\n",
       "</table>\n",
       "<p>11197 rows × 14 columns</p>\n",
       "</div>"
      ],
      "text/plain": [
       "                        id          original_id  \\\n",
       "0      1000085962053959680  1000006390323253249   \n",
       "1      1000057516615786496  1000015162714263553   \n",
       "2      1000037356836093953  1000023322481086466   \n",
       "3      1000056983070892032  1000048498677571584   \n",
       "4      1000149982408794113  1000058582476435456   \n",
       "...                    ...                  ...   \n",
       "11192  1000146882428096512   999903412425711616   \n",
       "11193  1000018438184734720   999961946932723713   \n",
       "11194   999992400725585920   999962442141782016   \n",
       "11195  1000035228679852032   999973815655518213   \n",
       "11196   999996611039191040   999996171824386048   \n",
       "\n",
       "                                              tweet_text  \\\n",
       "0           *cough* @NFL *cough* https://t.co/H9SskJ8q4Q   \n",
       "1      @PhilMcCrackin44 Schiff's sister was married t...   \n",
       "2      Brave men died to keep us free. Radicals want ...   \n",
       "3      @AP @farmerfar55 Was he wearing the medal give...   \n",
       "4      The importance of the electoral college is vit...   \n",
       "...                                                  ...   \n",
       "11192  I picked this up from someone here. Its🙄🤨🙄 wor...   \n",
       "11193  Trump is a criminal, a gangster using criminal...   \n",
       "11194  @VP @NFL @POTUS The only thing that’s #Winning...   \n",
       "11195  @mjfree Sports has been used as a means of pro...   \n",
       "11196  @spectatorindex How you call this? https://t.c...   \n",
       "\n",
       "                                               tweet_url  \\\n",
       "0      https://twitter.com/POTUS/status/1000085962053...   \n",
       "1      https://twitter.com/POTUS/status/1000057516615...   \n",
       "2      https://twitter.com/POTUS/status/1000037356836...   \n",
       "3      https://twitter.com/POTUS/status/1000056983070...   \n",
       "4      https://twitter.com/POTUS/status/1000149982408...   \n",
       "...                                                  ...   \n",
       "11192  https://twitter.com/POTUS/status/1000146882428...   \n",
       "11193  https://twitter.com/POTUS/status/1000018438184...   \n",
       "11194  https://twitter.com/POTUS/status/9999924007255...   \n",
       "11195  https://twitter.com/POTUS/status/1000035228679...   \n",
       "11196  https://twitter.com/POTUS/status/9999966110391...   \n",
       "\n",
       "                                                   claim  \\\n",
       "0      A German football club was banned from playing...   \n",
       "1      Adam Schiff's sister Melissa was married to Ge...   \n",
       "2      Liberals were offended by a World War I memori...   \n",
       "3      A meme shows President Obama awarding the Pres...   \n",
       "4      Donald Trump won 3,084 of America's 3,141 coun...   \n",
       "...                                                  ...   \n",
       "11192  A German football club was banned from playing...   \n",
       "11193  Notorious mobster Al Capone demanded an inquir...   \n",
       "11194  Baseball players in the 1950s were caught on c...   \n",
       "11195  Baseball players in the 1950s were caught on c...   \n",
       "11196  A photograph shows Senator John McCain posing ...   \n",
       "\n",
       "                                                  rating  \\\n",
       "0      ['https://www.snopes.com/tachyon/2018/03/ratin...   \n",
       "1      ['https://www.snopes.com/tachyon/2018/03/ratin...   \n",
       "2      ['https://www.snopes.com/tachyon/2018/03/ratin...   \n",
       "3      ['https://www.snopes.com/tachyon/2018/03/ratin...   \n",
       "4      ['https://www.snopes.com/tachyon/2018/03/ratin...   \n",
       "...                                                  ...   \n",
       "11192  ['https://www.snopes.com/tachyon/2018/03/ratin...   \n",
       "11193  ['https://www.snopes.com/tachyon/2018/03/ratin...   \n",
       "11194  ['https://www.snopes.com/tachyon/2018/03/ratin...   \n",
       "11195  ['https://www.snopes.com/tachyon/2018/03/ratin...   \n",
       "11196  ['https://www.snopes.com/tachyon/2018/03/ratin...   \n",
       "\n",
       "                                                  images  \\\n",
       "0         http://pbs.twimg.com/media/DeC8Z5DX4AAduxj.jpg   \n",
       "1      ['http://pbs.twimg.com/media/DeDEfF0XcAAHExJ.j...   \n",
       "2         http://pbs.twimg.com/media/DeDL5a-XkAI7Hlw.jpg   \n",
       "3      ['http://pbs.twimg.com/media/DeCrb0SUwAAsw-t.j...   \n",
       "4         http://pbs.twimg.com/media/DeDr-FjVMAAlZe1.jpg   \n",
       "...                                                  ...   \n",
       "11192     http://pbs.twimg.com/media/DeBe1X5VAAI-Zhh.jpg   \n",
       "11193     http://pbs.twimg.com/media/DeCUF2ZV4AAMm0Z.jpg   \n",
       "11194     http://pbs.twimg.com/media/DeCUiW3VwAAQbyx.jpg   \n",
       "11195     http://pbs.twimg.com/media/DeCejk4WkAMruuM.jpg   \n",
       "11196     http://pbs.twimg.com/media/DeCzNhwX4AICQ0-.jpg   \n",
       "\n",
       "                                             text_images  \\\n",
       "0      FAILED TO GIVE NAZI SALUTE . German Football C...   \n",
       "1      ['', '', 'di \" twant wutted to cmt ur to frpyo...   \n",
       "2      #DontTearMeDown IRSTLIBERT . ORG DontTearMeDow...   \n",
       "3                                       ['', '', '', '']   \n",
       "4      HILLARY'S POPULAR VOTE Mont . Ore . Idaho Wyo ...   \n",
       "...                                                  ...   \n",
       "11192  FAILED TO GIVE NAZI SALUTE . German Football C...   \n",
       "11193  Ci ) icago Sunday Cribune INAL 17 . Capone Dem...   \n",
       "11194  White Baseball Players Kneel in the 50 ' s to ...   \n",
       "11195  White Baseball Players Kneel in the 50 ' s to ...   \n",
       "11196  iSIS Leader Abu Bakr al-Baghdadi US . Sen . ' ...   \n",
       "\n",
       "                                                  source            label  \\\n",
       "0      https://www.snopes.com/fact-check/german-footb...  mostly-true-new   \n",
       "1      https://www.snopes.com/fact-check/adam-schiffs...            false   \n",
       "2      https://www.snopes.com/fact-check/liberals-dem...          mixture   \n",
       "3      https://www.snopes.com/fact-check/obama-medal-...     mostly-false   \n",
       "4      https://www.snopes.com/fact-check/trump-clinto...            false   \n",
       "...                                                  ...              ...   \n",
       "11192  https://www.snopes.com/fact-check/german-footb...  mostly-true-new   \n",
       "11193  https://www.snopes.com/fact-check/did-al-capon...            false   \n",
       "11194  https://www.snopes.com/fact-check/baseball-pla...            false   \n",
       "11195  https://www.snopes.com/fact-check/baseball-pla...            false   \n",
       "11196  https://www.snopes.com/fact-check/john-mccain-...     miscaptioned   \n",
       "\n",
       "       label_info available        acc_id  \\\n",
       "0             NaN      auth           NaN   \n",
       "1             NaN      auth           NaN   \n",
       "2             NaN        ok  3.981226e+09   \n",
       "3             NaN        ok           NaN   \n",
       "4             NaN      auth           NaN   \n",
       "...           ...       ...           ...   \n",
       "11192         NaN        ok  9.174376e+07   \n",
       "11193         NaN   missing  8.816829e+17   \n",
       "11194         NaN      auth  1.157486e+08   \n",
       "11195         NaN        ok  5.182272e+08   \n",
       "11196         NaN        ok           NaN   \n",
       "\n",
       "                                               botometer  \n",
       "0      {'cap': {'english': 0.2520419704315795, 'unive...  \n",
       "1      {'cap': {'english': 0.2520419704315795, 'unive...  \n",
       "2      {'error': \"TweepError: [{'code': 34, 'message'...  \n",
       "3      {'cap': {'english': 0.2520419704315795, 'unive...  \n",
       "4      {'cap': {'english': 0.2520419704315795, 'unive...  \n",
       "...                                                  ...  \n",
       "11192                                                     \n",
       "11193                                                     \n",
       "11194                                                     \n",
       "11195                                                     \n",
       "11196                                                     \n",
       "\n",
       "[11197 rows x 14 columns]"
      ]
     },
     "execution_count": 23,
     "metadata": {},
     "output_type": "execute_result"
    }
   ],
   "source": [
    "snopes"
   ]
  },
  {
   "cell_type": "code",
   "execution_count": 19,
   "metadata": {},
   "outputs": [
    {
     "data": {
      "text/html": [
       "<div>\n",
       "<style scoped>\n",
       "    .dataframe tbody tr th:only-of-type {\n",
       "        vertical-align: middle;\n",
       "    }\n",
       "\n",
       "    .dataframe tbody tr th {\n",
       "        vertical-align: top;\n",
       "    }\n",
       "\n",
       "    .dataframe thead th {\n",
       "        text-align: right;\n",
       "    }\n",
       "</style>\n",
       "<table border=\"1\" class=\"dataframe\">\n",
       "  <thead>\n",
       "    <tr style=\"text-align: right;\">\n",
       "      <th></th>\n",
       "      <th>id</th>\n",
       "      <th>original_id</th>\n",
       "      <th>tweet_text</th>\n",
       "      <th>tweet_url</th>\n",
       "      <th>claim</th>\n",
       "      <th>rating</th>\n",
       "      <th>images</th>\n",
       "      <th>text_images</th>\n",
       "      <th>source</th>\n",
       "      <th>label</th>\n",
       "      <th>label_info</th>\n",
       "      <th>available</th>\n",
       "      <th>acc_id</th>\n",
       "      <th>botometer</th>\n",
       "    </tr>\n",
       "  </thead>\n",
       "  <tbody>\n",
       "  </tbody>\n",
       "</table>\n",
       "</div>"
      ],
      "text/plain": [
       "Empty DataFrame\n",
       "Columns: [id, original_id, tweet_text, tweet_url, claim, rating, images, text_images, source, label, label_info, available, acc_id, botometer]\n",
       "Index: []"
      ]
     },
     "execution_count": 19,
     "metadata": {},
     "output_type": "execute_result"
    }
   ],
   "source": [
    "snopes[snopes.original_id.isin([14802766])]"
   ]
  },
  {
   "cell_type": "code",
   "execution_count": null,
   "metadata": {},
   "outputs": [],
   "source": []
  },
  {
   "cell_type": "code",
   "execution_count": 22,
   "metadata": {},
   "outputs": [
    {
     "data": {
      "text/plain": [
       "3981225735.0"
      ]
     },
     "execution_count": 22,
     "metadata": {},
     "output_type": "execute_result"
    }
   ],
   "source": [
    "snopes.acc_id.tolist()[2]"
   ]
  },
  {
   "cell_type": "code",
   "execution_count": 11,
   "metadata": {},
   "outputs": [
    {
     "name": "stdout",
     "output_type": "stream",
     "text": [
      "Collecting tweepy==4.0\n",
      "  Downloading tweepy-4.0.0-py2.py3-none-any.whl (60 kB)\n",
      "\u001b[K     |████████████████████████████████| 60 kB 1.5 MB/s eta 0:00:01\n",
      "\u001b[?25hRequirement already satisfied: requests<3,>=2.11.1 in /home/mihail/.local/lib/python3.8/site-packages (from tweepy==4.0) (2.27.1)\n",
      "Requirement already satisfied: requests-oauthlib<2,>=1.0.0 in /home/mihail/.local/lib/python3.8/site-packages (from tweepy==4.0) (1.3.1)\n",
      "Requirement already satisfied: charset-normalizer~=2.0.0; python_version >= \"3\" in /home/mihail/.local/lib/python3.8/site-packages (from requests<3,>=2.11.1->tweepy==4.0) (2.0.12)\n",
      "Requirement already satisfied: idna<4,>=2.5; python_version >= \"3\" in /usr/lib/python3/dist-packages (from requests<3,>=2.11.1->tweepy==4.0) (2.8)\n",
      "Requirement already satisfied: certifi>=2017.4.17 in /usr/lib/python3/dist-packages (from requests<3,>=2.11.1->tweepy==4.0) (2019.11.28)\n",
      "Requirement already satisfied: urllib3<1.27,>=1.21.1 in /usr/lib/python3/dist-packages (from requests<3,>=2.11.1->tweepy==4.0) (1.25.8)\n",
      "Requirement already satisfied: oauthlib>=3.0.0 in /home/mihail/.local/lib/python3.8/site-packages (from requests-oauthlib<2,>=1.0.0->tweepy==4.0) (3.2.0)\n",
      "\u001b[31mERROR: botometer 1.6.1 has requirement tweepy<4,>=3.5.0, but you'll have tweepy 4.0.0 which is incompatible.\u001b[0m\n",
      "Installing collected packages: tweepy\n",
      "  Attempting uninstall: tweepy\n",
      "    Found existing installation: tweepy 4.6.0\n",
      "    Uninstalling tweepy-4.6.0:\n",
      "      Successfully uninstalled tweepy-4.6.0\n",
      "Successfully installed tweepy-4.0.0\n",
      "Note: you may need to restart the kernel to use updated packages.\n"
     ]
    }
   ],
   "source": [
    "pip install tweepy==4.0"
   ]
  },
  {
   "cell_type": "code",
   "execution_count": null,
   "metadata": {},
   "outputs": [],
   "source": []
  }
 ],
 "metadata": {
  "kernelspec": {
   "display_name": "Python 3 (ipykernel)",
   "language": "python",
   "name": "python3"
  },
  "language_info": {
   "codemirror_mode": {
    "name": "ipython",
    "version": 3
   },
   "file_extension": ".py",
   "mimetype": "text/x-python",
   "name": "python",
   "nbconvert_exporter": "python",
   "pygments_lexer": "ipython3",
   "version": "3.9.7"
  }
 },
 "nbformat": 4,
 "nbformat_minor": 2
}
